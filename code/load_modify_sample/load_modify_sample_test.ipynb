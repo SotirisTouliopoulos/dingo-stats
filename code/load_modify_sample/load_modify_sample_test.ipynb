{
 "cells": [
  {
   "cell_type": "code",
   "execution_count": 1,
   "id": "acfd3ad8",
   "metadata": {},
   "outputs": [
    {
     "name": "stderr",
     "output_type": "stream",
     "text": [
      "/home/touliopoulos/.local/lib/python3.10/site-packages/pandas/core/computation/expressions.py:21: UserWarning: Pandas requires version '2.8.4' or newer of 'numexpr' (version '2.8.1' currently installed).\n",
      "  from pandas.core.computation.check import NUMEXPR_INSTALLED\n",
      "/home/touliopoulos/.local/lib/python3.10/site-packages/pandas/core/arrays/masked.py:60: UserWarning: Pandas requires version '1.3.6' or newer of 'bottleneck' (version '1.3.2' currently installed).\n",
      "  from pandas.core import (\n"
     ]
    }
   ],
   "source": [
    "from utils import load_model, get_objective_functions, modify_model, get_reaction_bounds\n",
    "from utils import sample_dingo, sample_optgp, sample_gapsplit"
   ]
  },
  {
   "cell_type": "markdown",
   "id": "2e5c1266",
   "metadata": {},
   "source": [
    "### Load and modify a model"
   ]
  },
  {
   "cell_type": "code",
   "execution_count": 2,
   "id": "93c937b2",
   "metadata": {},
   "outputs": [
    {
     "name": "stdout",
     "output_type": "stream",
     "text": [
      "Set parameter Username\n",
      "Set parameter LicenseID to value 2642044\n",
      "Academic license - for non-commercial use only - expires 2026-03-25\n",
      "['BIOMASS_Ecoli_core_w_GAM']\n",
      "(0.0, 1000.0)\n",
      "Read LP format model from file /tmp/tmphz6rb3ev.lp\n",
      "Reading time = 0.00 seconds\n",
      ": 72 rows, 190 columns, 720 nonzeros\n",
      "['BIOMASS_Ecoli_core_w_GAM']\n",
      "(0.436961, 1000)\n"
     ]
    }
   ],
   "source": [
    "\n",
    "ec_cobra_model, ec_cobra_reactions, ec_dingo_model, ec_dingo_reactions = load_model(\"/home/touliopoulos/project/erasmus/erasmus_2025_project/ext_data/models/e_coli_core.xml\")\n",
    "\n",
    "default_objective_functions = get_objective_functions(ec_cobra_model)\n",
    "print(default_objective_functions)\n",
    "\n",
    "default_reaction_bounds = get_reaction_bounds(ec_cobra_model)\n",
    "print(default_reaction_bounds.get(\"BIOMASS_Ecoli_core_w_GAM\"))\n",
    "\n",
    "# ---------\n",
    "\n",
    "ec_cobra_model, _ = modify_model(ec_cobra_model, objective_function=\"BIOMASS_Ecoli_core_w_GAM\", optimal_percentage=50)\n",
    "\n",
    "updated_objective_functions = get_objective_functions(ec_cobra_model)\n",
    "print(updated_objective_functions)\n",
    "\n",
    "updated_reaction_bounds = get_reaction_bounds(ec_cobra_model)\n",
    "print(updated_reaction_bounds.get(\"BIOMASS_Ecoli_core_w_GAM\"))\n"
   ]
  },
  {
   "cell_type": "markdown",
   "id": "80763ea8",
   "metadata": {},
   "source": [
    "### Sample the model"
   ]
  },
  {
   "cell_type": "code",
   "execution_count": 3,
   "id": "60272b9c",
   "metadata": {},
   "outputs": [
    {
     "name": "stdout",
     "output_type": "stream",
     "text": [
      "Set parameter Username\n",
      "Set parameter LicenseID to value 2642044\n",
      "Academic license - for non-commercial use only - expires 2026-03-25\n",
      "phase 1: number of correlated samples = 500, effective sample size = 10, ratio of the maximum singilar value over the minimum singular value = 1249.74\n",
      "phase 2: number of correlated samples = 500, effective sample size = 5, ratio of the maximum singilar value over the minimum singular value = 403.934\n",
      "phase 3: number of correlated samples = 500, effective sample size = 13, ratio of the maximum singilar value over the minimum singular value = 250.251\n",
      "phase 4: number of correlated samples = 500, effective sample size = 123, ratio of the maximum singilar value over the minimum singular value = 25.9836\n",
      "phase 5: number of correlated samples = 500, effective sample size = 130, ratio of the maximum singilar value over the minimum singular value = 2.98101\n",
      "phase 6: number of correlated samples = 2400, effective sample size = 1017\n",
      "phase 7: number of correlated samples = 1700, effective sample size = 719\n",
      "[5]total ess 2017: number of correlated samples = 6600\n",
      "\n",
      "\n",
      "Read LP format model from file /tmp/tmpyrfwkv1s.lp\n",
      "Reading time = 0.00 seconds\n",
      ": 72 rows, 190 columns, 720 nonzeros\n"
     ]
    },
    {
     "name": "stderr",
     "output_type": "stream",
     "text": [
      "[5]maximum marginal PSRF: 1.12144\n"
     ]
    },
    {
     "name": "stdout",
     "output_type": "stream",
     "text": [
      "Read LP format model from file /tmp/tmp7hbt6wpr.lp\n",
      "Reading time = 0.00 seconds\n",
      ": 72 rows, 190 columns, 720 nonzeros\n",
      "Calculating feasible ranges using FVA.\n",
      "Targeting 87/95 unblocked primary variables.\n",
      "Targeting 4 secondary variables.\n",
      "\n",
      "   Sample   Coverage   MinGap   Median   MaxGap     Elapsed     Remaining   Infeasible\n",
      " 300/3000     94.60%   0.0154   0.0458   0.1708        5.94         53.43            0\n",
      " 600/3000     97.08%   0.0080   0.0282   0.0845       13.34         53.38            0\n",
      " 900/3000     98.02%   0.0056   0.0205   0.0567       21.11         49.25            0\n",
      "1200/3000     98.49%   0.0042   0.0145   0.0423       29.53         44.29            0\n",
      "1500/3000     98.80%   0.0034   0.0119   0.0312       39.46         39.46            0\n",
      "1800/3000     98.98%   0.0028   0.0103   0.0283       52.15         34.76            0\n",
      "2100/3000     99.13%   0.0024   0.0085   0.0214       63.78         27.33            0\n",
      "2400/3000     99.23%   0.0021   0.0072   0.0213       74.50         18.62            0\n",
      "2700/3000     99.31%   0.0018   0.0066   0.0206       85.28          9.48            0\n",
      "3000/3000     99.38%   0.0017   0.0059   0.0182       96.96          0.00            0\n",
      "Read LP format model from file /tmp/tmpjpxerf05.lp\n",
      "Reading time = 0.00 seconds\n",
      ": 72 rows, 190 columns, 720 nonzeros\n",
      "Calculating feasible ranges using FVA.\n",
      "Targeting 87/95 unblocked primary variables.\n",
      "Targeting 4 secondary variables.\n",
      "\n",
      "   Sample   Coverage   MinGap   Median   MaxGap     Elapsed     Remaining   Infeasible\n",
      " 300/3000     94.16%   0.0147   0.0529   0.1591       33.73        303.56            0\n",
      " 600/3000     97.08%   0.0079   0.0300   0.0892       67.35        269.38            0\n",
      " 900/3000     97.99%   0.0058   0.0185   0.0571      101.76        237.44            0\n",
      "1200/3000     98.47%   0.0044   0.0147   0.0447      136.28        204.41            0\n",
      "1500/3000     98.78%   0.0036   0.0114   0.0372      171.18        171.18            0\n",
      "1800/3000     98.97%   0.0029   0.0094   0.0283      206.72        137.81            0\n",
      "2100/3000     99.11%   0.0025   0.0092   0.0224      241.74        103.60            0\n",
      "2400/3000     99.21%   0.0021   0.0081   0.0223      278.47         69.62            0\n",
      "2700/3000     99.32%   0.0019   0.0062   0.0174      315.91         35.10            0\n",
      "3000/3000     99.39%   0.0018   0.0057   0.0143      354.19          0.00            0\n"
     ]
    }
   ],
   "source": [
    "\n",
    "samples_dingo = sample_dingo(ec_dingo_model, reaction_in_rows = True, ess=2000)\n",
    "\n",
    "samples_optgp = sample_optgp(ec_cobra_model, n_samples = 3000, reaction_in_rows = True)\n",
    "\n",
    "samples_gapsplit = sample_gapsplit(ec_cobra_model, n_samples = 3000, reaction_in_rows = True, add_loopless_cobrapy = False)\n",
    "\n",
    "samples_gapsplit_add_loopless = sample_gapsplit(ec_cobra_model, n_samples = 3000, reaction_in_rows = True, add_loopless_cobrapy = True)\n"
   ]
  }
 ],
 "metadata": {
  "kernelspec": {
   "display_name": "Python 3",
   "language": "python",
   "name": "python3"
  },
  "language_info": {
   "codemirror_mode": {
    "name": "ipython",
    "version": 3
   },
   "file_extension": ".py",
   "mimetype": "text/x-python",
   "name": "python",
   "nbconvert_exporter": "python",
   "pygments_lexer": "ipython3",
   "version": "3.10.12"
  }
 },
 "nbformat": 4,
 "nbformat_minor": 5
}
