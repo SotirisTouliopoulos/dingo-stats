{
 "cells": [
  {
   "cell_type": "markdown",
   "metadata": {},
   "source": [
    "# Load libraries"
   ]
  },
  {
   "cell_type": "code",
   "execution_count": null,
   "metadata": {},
   "outputs": [],
   "source": [
    "from cobra.io import load_json_model, read_sbml_model, load_matlab_model\n",
    "\n",
    "from dingo.utils import correlated_reactions\n",
    "from dingo.utils import cluster_corr_reactions\n",
    "from dingo.utils import graph_corr_matrix\n",
    "from dingo.illustrations import plot_corr_matrix\n",
    "from dingo.illustrations import plot_dendrogram\n",
    "from dingo.illustrations import plot_histogram\n",
    "from dingo.illustrations import plot_graph\n",
    "from dingo.preprocess import PreProcess\n",
    "from dingo import MetabolicNetwork, PolytopeSampler\n",
    "\n",
    "import numpy as np"
   ]
  },
  {
   "cell_type": "markdown",
   "metadata": {},
   "source": [
    "# Load model"
   ]
  },
  {
   "cell_type": "code",
   "execution_count": null,
   "metadata": {},
   "outputs": [],
   "source": [
    "#roseburia_dingo_model = MetabolicNetwork.from_mat(\"/home/touliopoulos/project/erasmus/code/data/Reconstructions_data/Roseburia_intestinalis_L1_82_withMucins.mat\")\n",
    "roseburia_dingo_model = MetabolicNetwork.from_mat(\"/home/touliopoulos/project/erasmus/erasmus_2025_project/data/Reconstructions_data/Roseburia_intestinalis_L1_82_fixed.mat\")\n",
    "roseburia_cobra_model = load_matlab_model(\"/home/touliopoulos/project/erasmus/erasmus_2025_project/data/Reconstructions_data/Roseburia_intestinalis_L1_82_fixed.mat\")\n",
    "reactions = roseburia_dingo_model.reactions\n",
    "\n",
    "#ec_dingo_model = MetabolicNetwork.from_sbml(\"/home/touliopoulos/project/erasmus/erasmus_2025_project/data/Reconstructions_data/e_coli_core.xml\")\n",
    "#ec_cobra_model = read_sbml_model(\"/home/touliopoulos/project/erasmus/erasmus_2025_project/data/Reconstructions_data/e_coli_core.xml\")\n",
    "#reactions = ec_dingo_model.reactions\n"
   ]
  },
  {
   "cell_type": "markdown",
   "metadata": {},
   "source": [
    "# Load sampling data"
   ]
  },
  {
   "cell_type": "code",
   "execution_count": null,
   "metadata": {},
   "outputs": [],
   "source": [
    "\n",
    "with open(\"/home/touliopoulos/project/erasmus/erasmus_2025_project/data/Steady_States_Samples/RI_no_mucins/RI_steady_states_opt_100_rep_001_subsampled.pckl\", \"rb\") as absolute_steady_states_100:\n",
    "    absolute_steady_states_100 = abs(pickle.load(absolute_steady_states_100))\n",
    "\n",
    "#with open(\"/home/touliopoulos/project/erasmus/erasmus_2025_project/data/Steady_States_Samples/RI_no_mucins/RI_steady_states_opt_80_rep_001.pckl\", \"rb\") as absolute_steady_states_80:\n",
    "#    absolute_steady_states_80 = abs(pickle.load(absolute_steady_states_80))\n",
    "    \n",
    "#with open(\"/home/touliopoulos/project/erasmus/erasmus_2025_project/data/Steady_States_Samples/RI_no_mucins/RI_steady_states_opt_60_rep_001.pckl\", \"rb\") as absolute_steady_states_60:\n",
    "#    absolute_steady_states_60 = abs(pickle.load(absolute_steady_states_60))\n",
    "    \n",
    "#with open(\"/home/touliopoulos/project/erasmus/erasmus_2025_project/data/Steady_States_Samples/RI_no_mucins/RI_steady_states_opt_40_rep_001.pckl\", \"rb\") as absolute_steady_states_40:\n",
    "#    absolute_steady_states_40 = abs(pickle.load(absolute_steady_states_40))\n",
    "    \n",
    "#with open(\"/home/touliopoulos/project/erasmus/erasmus_2025_project/data/Steady_States_Samples/RI_no_mucins/RI_steady_states_opt_20_rep_001.pckl\", \"rb\") as absolute_steady_states_20:\n",
    "#    absolute_steady_states_20 = abs(pickle.load(absolute_steady_states_20))\n",
    "\n",
    "#with open(\"/home/touliopoulos/project/erasmus/erasmus_2025_project/data/Steady_States_Samples/RI_no_mucins/RI_steady_states_opt_1_rep_001.pckl\", \"rb\") as absolute_steady_states_1:\n",
    "#    absolute_steady_states_1 = abs(pickle.load(absolute_steady_states_1))\n",
    "\n",
    "#with open(\"/home/touliopoulos/project/erasmus/erasmus_2025_project/data/Steady_States_Samples/RI_no_mucins/RI_steady_states_opt_0.01_rep_001.pckl\", \"rb\") as absolute_steady_states_001:\n",
    "#    absolute_steady_states_001 = abs(pickle.load(absolute_steady_states_001))\n",
    "\n",
    "with open(\"/home/touliopoulos/project/erasmus/erasmus_2025_project/data/Steady_States_Samples/RI_no_mucins/RI_steady_states_opt_0_rep_001_subsampled.pckl\", \"rb\") as absolute_steady_states_0:\n",
    "    absolute_steady_states_0 = abs(pickle.load(absolute_steady_states_0))\n"
   ]
  },
  {
   "cell_type": "markdown",
   "metadata": {},
   "source": [
    "# Calculate correlation matrix"
   ]
  },
  {
   "cell_type": "code",
   "execution_count": null,
   "metadata": {},
   "outputs": [],
   "source": [
    "\n",
    "corr_matrix_100 = correlated_reactions(\n",
    "                            absolute_steady_states_100,\n",
    "                            pearson_cutoff = 0.8,\n",
    "                            indicator_cutoff = 0,\n",
    "                            lower_triangle = False,\n",
    "                            )\n",
    "\n",
    "corr_matrix_100[np.isnan(corr_matrix_100)] = 0\n",
    "\n",
    "\n",
    "\n",
    "\n",
    "corr_matrix_0 = correlated_reactions(\n",
    "                              absolute_steady_states_0,\n",
    "                              pearson_cutoff = 0.8,\n",
    "                              indicator_cutoff = 0,\n",
    "                              lower_triangle = False,\n",
    "                              )\n",
    "\n",
    "corr_matrix_0[np.isnan(corr_matrix_0)] = 0"
   ]
  },
  {
   "cell_type": "markdown",
   "metadata": {},
   "source": [
    "# Perform clustering"
   ]
  },
  {
   "cell_type": "code",
   "execution_count": null,
   "metadata": {},
   "outputs": [],
   "source": [
    "dissimilarity_matrix, labels, clusters = cluster_corr_reactions(\n",
    "                                         corr_matrix_0,\n",
    "                                         reactions = reactions,\n",
    "                                         linkage = \"ward\",\n",
    "                                         t = 0.0,\n",
    "                                         correction = False)\n",
    "\n",
    "plot_dendrogram(dissimilarity_matrix,\n",
    "                reactions,\n",
    "                plot_labels = False,\n",
    "                t = 40.0,\n",
    "                linkage = \"ward\")\n",
    "\n",
    "\n",
    "\n",
    "dissimilarity_matrix, labels, clusters = cluster_corr_reactions(\n",
    "                                         corr_matrix_100,\n",
    "                                         reactions = reactions,\n",
    "                                         linkage = \"ward\",\n",
    "                                         t = 40.0,\n",
    "                                         correction = False)\n",
    "\n",
    "plot_dendrogram(dissimilarity_matrix,\n",
    "                reactions,\n",
    "                plot_labels = False,\n",
    "                t = 40.0,\n",
    "                linkage = \"ward\")"
   ]
  }
 ],
 "metadata": {
  "kernelspec": {
   "display_name": "Python 3",
   "language": "python",
   "name": "python3"
  },
  "language_info": {
   "name": "python",
   "version": "3.10.12"
  }
 },
 "nbformat": 4,
 "nbformat_minor": 2
}
