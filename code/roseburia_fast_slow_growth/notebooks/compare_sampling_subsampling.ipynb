{
 "cells": [
  {
   "cell_type": "markdown",
   "metadata": {},
   "source": []
  },
  {
   "cell_type": "code",
   "execution_count": null,
   "metadata": {},
   "outputs": [],
   "source": [
    "from dingo import MetabolicNetwork, PolytopeSampler\n",
    "from dingo.utils import correlated_reactions\n",
    "from dingo import plot_histogram\n",
    "\n",
    "import numpy as np\n",
    "import pickle\n",
    "from cobra.io import load_json_model, read_sbml_model, load_matlab_model\n",
    "import cobra\n",
    "\n",
    "from scipy import stats\n",
    "from statsmodels.stats.multitest import multipletests\n",
    "\n",
    "import matplotlib.pyplot as plt"
   ]
  },
  {
   "cell_type": "markdown",
   "metadata": {},
   "source": []
  },
  {
   "cell_type": "code",
   "execution_count": null,
   "metadata": {},
   "outputs": [],
   "source": [
    "roseburia_dingo_model = MetabolicNetwork.from_mat(\"/home/touliopoulos/project/erasmus/erasmus_2025_project/data/Reconstructions_data/Roseburia_intestinalis_L1_82_fixed.mat\")\n",
    "roseburia_cobra_model = load_matlab_model(\"/home/touliopoulos/project/erasmus/erasmus_2025_project/data/Reconstructions_data/Roseburia_intestinalis_L1_82_fixed.mat\")\n",
    "reactions = roseburia_dingo_model.reactions"
   ]
  },
  {
   "cell_type": "markdown",
   "metadata": {},
   "source": []
  },
  {
   "cell_type": "code",
   "execution_count": null,
   "metadata": {},
   "outputs": [],
   "source": [
    "with open(\"/home/touliopoulos/project/erasmus/erasmus_2025_project/data/Steady_States_Samples/RI_no_mucins/RI_steady_states_opt_100_rep_001.pckl\", \"rb\") as absolute_steady_states_60_001:\n",
    "    absolute_steady_states_001_subsampled = abs(pickle.load(absolute_steady_states_60_001))\n",
    "    \n",
    "with open(\"/home/touliopoulos/project/erasmus/erasmus_2025_project/data/Steady_States_Samples/RI_no_mucins/RI_steady_states_opt_60_rep_001.pckl\", \"rb\") as absolute_steady_states_60_002:\n",
    "    absolute_steady_states_001 = abs(pickle.load(absolute_steady_states_60_002))\n"
   ]
  },
  {
   "cell_type": "markdown",
   "metadata": {},
   "source": []
  },
  {
   "cell_type": "code",
   "execution_count": null,
   "metadata": {},
   "outputs": [],
   "source": [
    "\n",
    "n = 1500\n",
    "#n = 1700\n",
    "n = 1800\n",
    "\n",
    "\n",
    "plot_histogram(\n",
    "        absolute_steady_states_001_subsampled[n],\n",
    "        reactions[n],\n",
    "        n_bins = 60,\n",
    "        )\n",
    "\n",
    "\n",
    "plot_histogram(\n",
    "        absolute_steady_states_001[n],\n",
    "        reactions[n],\n",
    "        n_bins = 60,\n",
    "        )"
   ]
  }
 ],
 "metadata": {
  "kernelspec": {
   "display_name": "Python 3",
   "language": "python",
   "name": "python3"
  },
  "language_info": {
   "name": "python",
   "version": "3.10.12"
  }
 },
 "nbformat": 4,
 "nbformat_minor": 2
}
