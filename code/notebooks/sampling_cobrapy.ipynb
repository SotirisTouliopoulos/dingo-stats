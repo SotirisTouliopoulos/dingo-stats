{
 "cells": [
  {
   "cell_type": "code",
   "execution_count": 124,
   "id": "8b94120d",
   "metadata": {},
   "outputs": [],
   "source": [
    "from cobra.io import load_json_model, read_sbml_model, load_matlab_model\n",
    "import cobra\n",
    "import numpy as np\n",
    "import pandas as pd\n",
    "from scipy.cluster import hierarchy\n",
    "import matplotlib.pyplot as plt\n",
    "from scipy.cluster.hierarchy import dendrogram, linkage\n",
    "import itertools\n",
    "from cobra.flux_analysis import flux_variability_analysis"
   ]
  },
  {
   "cell_type": "code",
   "execution_count": 116,
   "id": "95751a7b",
   "metadata": {},
   "outputs": [
    {
     "name": "stdout",
     "output_type": "stream",
     "text": [
      "(0.0, 1000.0)\n"
     ]
    }
   ],
   "source": [
    "ec_core_cobra_model = read_sbml_model(\"/home/touliopoulos/project/erasmus/erasmus_2025_project/data/Reconstructions_data/e_coli_core.xml\")\n",
    "cobra_model_reactions = [r.id for r in ec_core_cobra_model.reactions]\n",
    "\n",
    "biomass_index = cobra_model_reactions.index(\"BIOMASS_Ecoli_core_w_GAM\")\n",
    "print(ec_core_cobra_model.reactions.get_by_id(\"BIOMASS_Ecoli_core_w_GAM\").bounds)\n"
   ]
  },
  {
   "cell_type": "code",
   "execution_count": 117,
   "id": "2398f72b",
   "metadata": {},
   "outputs": [],
   "source": [
    "fba_solution = ec_core_cobra_model.optimize()\n",
    "objective_value = fba_solution.objective_value\n",
    "objective_value = int(objective_value * 100) / 100 # 0.87\n",
    "\n",
    "ec_core_cobra_model_100 = ec_core_cobra_model.copy()\n",
    "ec_core_cobra_model_50 = ec_core_cobra_model.copy()\n",
    "ec_core_cobra_model_0 = ec_core_cobra_model.copy()\n",
    "\n",
    "#ec_core_cobra_model_100.reactions.get_by_id(\"BIOMASS_Ecoli_core_w_GAM\").bounds = (objective_value, 1000.0)\n",
    "#ec_core_cobra_model_50.reactions.get_by_id(\"BIOMASS_Ecoli_core_w_GAM\").bounds = (objective_value/(100/50), 1000.0)\n",
    "#ec_core_cobra_model_0.reactions.get_by_id(\"BIOMASS_Ecoli_core_w_GAM\").bounds = (objective_value/(100/1e-9), 1000.0)\n",
    "\n",
    "\n",
    "#ec_core_cobra_model_100.reactions.get_by_id(\"BIOMASS_Ecoli_core_w_GAM\").bounds = (0, objective_value)\n",
    "#ec_core_cobra_model_50.reactions.get_by_id(\"BIOMASS_Ecoli_core_w_GAM\").bounds = (0, (objective_value/(100/50)))\n",
    "#ec_core_cobra_model_0.reactions.get_by_id(\"BIOMASS_Ecoli_core_w_GAM\").bounds = (0, (objective_value/(100/1e-9)))\n"
   ]
  },
  {
   "cell_type": "code",
   "execution_count": 76,
   "id": "588671c0",
   "metadata": {},
   "outputs": [],
   "source": [
    "sampler_100 = cobra.sampling.optgp.OptGPSampler(ec_core_cobra_model_100)\n",
    "samples_100 = sampler_100.sample(n=1000)\n",
    "\n",
    "sampler_50 = cobra.sampling.optgp.OptGPSampler(ec_core_cobra_model_50)\n",
    "samples_50 = sampler_50.sample(n=1000)\n",
    "\n",
    "sampler_0 = cobra.sampling.optgp.OptGPSampler(ec_core_cobra_model_0)\n",
    "samples_0 = sampler_0.sample(n=1000)"
   ]
  },
  {
   "cell_type": "code",
   "execution_count": 77,
   "id": "7904ed94",
   "metadata": {},
   "outputs": [
    {
     "name": "stdout",
     "output_type": "stream",
     "text": [
      "0.8709883644313385\n",
      "0.8700004057975557\n",
      "0.5831490614181757\n",
      "0.4350074398756605\n",
      "0.23858060341330034\n",
      "0.000137642556488586\n"
     ]
    }
   ],
   "source": [
    "samples_100 = abs(samples_100.to_numpy()).T\n",
    "samples_50 = abs(samples_50.to_numpy()).T\n",
    "samples_0 = abs(samples_0.to_numpy()).T\n",
    "\n",
    "#print(samples_100.shape)\n",
    "#print(type(samples_100))\n",
    "\n",
    "print(np.max(samples_100[biomass_index]))\n",
    "print(np.min(samples_100[biomass_index]))\n",
    "\n",
    "print(np.max(samples_50[biomass_index]))\n",
    "print(np.min(samples_50[biomass_index]))\n",
    "\n",
    "print(np.max(samples_0[biomass_index]))\n",
    "print(np.min(samples_0[biomass_index]))"
   ]
  },
  {
   "cell_type": "code",
   "execution_count": 78,
   "id": "a21416ea",
   "metadata": {},
   "outputs": [
    {
     "name": "stdout",
     "output_type": "stream",
     "text": [
      "(95, 95)\n",
      "(95, 95)\n",
      "(95, 95)\n"
     ]
    },
    {
     "name": "stderr",
     "output_type": "stream",
     "text": [
      "/home/touliopoulos/miniconda3/envs/py38/lib/python3.8/site-packages/numpy/lib/function_base.py:2854: RuntimeWarning:\n",
      "\n",
      "invalid value encountered in divide\n",
      "\n",
      "/home/touliopoulos/miniconda3/envs/py38/lib/python3.8/site-packages/numpy/lib/function_base.py:2855: RuntimeWarning:\n",
      "\n",
      "invalid value encountered in divide\n",
      "\n"
     ]
    }
   ],
   "source": [
    "\n",
    "correlation_matrix_100 = np.corrcoef(samples_100)\n",
    "correlation_matrix_100[np.isnan(correlation_matrix_100)] = 0\n",
    "print(correlation_matrix_100.shape)\n",
    "\n",
    "\n",
    "correlation_matrix_50 = np.corrcoef(samples_50)\n",
    "correlation_matrix_50[np.isnan(correlation_matrix_50)] = 0\n",
    "print(correlation_matrix_50.shape)\n",
    "\n",
    "\n",
    "correlation_matrix_0 = np.corrcoef(samples_0)\n",
    "correlation_matrix_0[np.isnan(correlation_matrix_0)] = 0\n",
    "print(correlation_matrix_0.shape)\n"
   ]
  },
  {
   "cell_type": "code",
   "execution_count": 89,
   "id": "f594fd2a",
   "metadata": {},
   "outputs": [
    {
     "name": "stdout",
     "output_type": "stream",
     "text": [
      "[['PYK', 'MDH', 'PDH'], ['PPC', 'AKGDH', 'SUCOAS', 'ICDHyr', 'ICL', 'MALS'], ['PFK', 'PGI', 'PGK', 'PGL', 'PGM', 'ACONTa', 'ACONTb', 'RPE', 'CS', 'RPI', 'ENO', 'TALA', 'TKT1', 'TKT2', 'TPI', 'FBA', 'FUM', 'G6PDH2r', 'GAPD', 'GND'], ['ATPS4r', 'NADH16'], ['THD2', 'NADTRHD'], ['PFL', 'EX_for_e', 'EX_h_e'], ['CO2t', 'CYTBD', 'EX_co2_e', 'EX_h2o_e', 'EX_o2_e', 'H2Ot', 'O2t'], ['ACKr', 'ACt2r', 'PTAr', 'EX_ac_e'], ['EX_glu__L_e', 'EX_nh4_e', 'GLUt2r', 'NH4t'], ['ALCD2x', 'ETOHt2r', 'EX_etoh_e'], ['ACALD', 'ACALDt', 'EX_acald_e'], ['D_LACt2', 'EX_lac__D_e', 'LDH_D'], ['PIt2r', 'BIOMASS_Ecoli_core_w_GAM', 'EX_pi_e'], ['GLNS', 'GLUDy', 'GLUSy'], ['PPS', 'ADK1'], ['FORt2', 'FORt'], ['SUCDi', 'FRD7'], ['EX_fru_e', 'EX_fum_e', 'EX_gln__L_e', 'EX_mal__L_e', 'EX_succ_e', 'FRUpts2', 'FUMt2_2', 'GLNabc', 'MALt2_2'], ['ATPM', 'PPCK', 'FBP', 'GLUN', 'ME1', 'ME2'], ['PYRt2', 'EX_pyr_e'], ['SUCCt2_2', 'SUCCt3'], ['AKGt2r', 'EX_akg_e'], ['EX_glc__D_e', 'GLCpts']]\n",
      "[['PGK', 'PGL', 'PGM', 'RPE', 'RPI', 'ENO', 'TALA', 'TKT1', 'TKT2', 'TPI', 'FBA', 'G6PDH2r', 'GAPD', 'GND'], ['ACONTa', 'ACONTb', 'CS', 'FUM'], ['PGI', 'NADTRHD', 'PDH'], ['PFL', 'EX_for_e', 'EX_h_e'], ['ATPS4r', 'CO2t', 'CYTBD', 'EX_co2_e', 'EX_h2o_e', 'EX_o2_e', 'H2Ot', 'NADH16', 'O2t'], ['PIt2r', 'BIOMASS_Ecoli_core_w_GAM', 'EX_pi_e'], ['EX_glu__L_e', 'EX_nh4_e', 'GLUt2r', 'NH4t'], ['ALCD2x', 'ETOHt2r', 'EX_etoh_e'], ['ACALD', 'ACALDt', 'EX_acald_e'], ['D_LACt2', 'EX_lac__D_e', 'LDH_D'], ['PPS', 'ADK1'], ['PYK', 'MDH'], ['PFK', 'FBP'], ['EX_fru_e', 'EX_fum_e', 'EX_gln__L_e', 'EX_mal__L_e', 'FRUpts2', 'FUMt2_2', 'GLNabc', 'MALt2_2'], ['SUCDi', 'FRD7'], ['EX_glc__D_e', 'GLCpts'], ['GLNS', 'GLUDy', 'GLUN', 'GLUSy'], ['AKGt2r', 'EX_akg_e'], ['PYRt2', 'EX_pyr_e'], ['FORt2', 'FORt'], ['SUCCt2_2', 'SUCCt3'], ['PPC', 'PPCK'], ['ATPM', 'THD2', 'EX_succ_e', 'ME1', 'ME2'], ['ACKr', 'ACt2r', 'PTAr', 'EX_ac_e'], ['AKGDH', 'SUCOAS', 'ICDHyr', 'ICL', 'MALS']]\n",
      "[['PGK', 'PGL', 'PGM', 'RPE', 'RPI', 'ENO', 'TALA', 'TKT1', 'TKT2', 'TPI', 'FBA', 'G6PDH2r', 'GAPD', 'GND'], ['PIt2r', 'BIOMASS_Ecoli_core_w_GAM', 'EX_pi_e'], ['EX_glu__L_e', 'EX_nh4_e', 'GLUt2r', 'NH4t'], ['ALCD2x', 'ETOHt2r', 'EX_etoh_e'], ['ACALD', 'ACALDt', 'EX_acald_e'], ['D_LACt2', 'EX_lac__D_e', 'LDH_D'], ['PGI', 'EX_fru_e', 'EX_fum_e', 'EX_mal__L_e', 'FRUpts2', 'FUMt2_2', 'MALt2_2'], ['EX_gln__L_e', 'GLNabc'], ['SUCDi', 'FRD7'], ['PPS', 'ADK1', 'PYK'], ['GLNS', 'GLUDy', 'GLUN', 'GLUSy'], ['AKGt2r', 'EX_akg_e'], ['PYRt2', 'EX_pyr_e'], ['FORt2', 'FORt'], ['PPC', 'PPCK'], ['ATPM', 'THD2', 'EX_succ_e', 'MDH', 'ME1', 'ME2'], ['EX_glc__D_e', 'GLCpts'], ['SUCCt2_2', 'SUCCt3'], ['PFK', 'FBP'], ['CO2t', 'CYTBD', 'EX_co2_e', 'EX_h2o_e', 'EX_o2_e', 'H2Ot', 'NADH16', 'O2t'], ['PFL', 'EX_for_e', 'EX_h_e'], ['ATPS4r'], ['PDH'], ['NADTRHD'], ['ACKr', 'ACt2r', 'PTAr', 'EX_ac_e'], ['ACONTa', 'ACONTb', 'CS', 'FUM'], ['ICL', 'MALS'], ['AKGDH', 'SUCOAS', 'ICDHyr']]\n"
     ]
    }
   ],
   "source": [
    "\n",
    "def cluster_corr_reactions(correlation_matrix, reactions, linkage=\"ward\", \n",
    "                           t = 2.0, correction=True):\n",
    "    \n",
    "    # function to return a nested list with grouped reactions based on clustering\n",
    "    def clusters_list(reactions, labels):\n",
    "        clusters = []\n",
    "        unique_labels = np.unique(labels)\n",
    "        for label in unique_labels:\n",
    "            cluster = []\n",
    "            label_where = np.where(labels == label)[0]\n",
    "            for where in label_where:\n",
    "                cluster.append(reactions[where])\n",
    "            clusters.append(cluster)\n",
    "        return clusters\n",
    "    \n",
    "    if correction == True:        \n",
    "        dissimilarity_matrix = 1 - abs(correlation_matrix)\n",
    "    else:\n",
    "        dissimilarity_matrix = 1 - correlation_matrix\n",
    "            \n",
    "    Z = hierarchy.linkage(dissimilarity_matrix, linkage)\n",
    "    labels = hierarchy.fcluster(Z, t, criterion='distance')\n",
    "    \n",
    "    clusters = clusters_list(reactions, labels)\n",
    "    return dissimilarity_matrix, labels, clusters\n",
    "\n",
    "\n",
    "\n",
    "dissimilarity_matrix, labels, clusters = cluster_corr_reactions(correlation_matrix_100, cobra_model_reactions)\n",
    "print(clusters)\n",
    "\n",
    "dissimilarity_matrix, labels, clusters = cluster_corr_reactions(correlation_matrix_50, cobra_model_reactions)\n",
    "print(clusters)\n",
    "\n",
    "dissimilarity_matrix, labels, clusters = cluster_corr_reactions(correlation_matrix_0, cobra_model_reactions)\n",
    "print(clusters)\n",
    "\n",
    "\n"
   ]
  },
  {
   "cell_type": "code",
   "execution_count": 120,
   "id": "d4b7e9bc",
   "metadata": {},
   "outputs": [],
   "source": [
    "\n",
    "\n",
    "def add_pFBA_constraint(model, objective, objective_fraction=1, flux_fraction=1):\n",
    "    \"\"\"Add a pFBA flux minimality constraint to the model. Updates the model in-place.\n",
    "\n",
    "    :param model: The cobra model\n",
    "    :type model: cobra.Model\n",
    "    :param objective: The objective that should be maximized,\n",
    "    in order to determine the objective bound for the flux sum minimization.\n",
    "    :type objective: cobra.Reaction\n",
    "    :param objective_fraction: pFBA minimum objective fraction, should be 1<= and defaults to 1.\n",
    "    :type objective_fraction: float, optional\n",
    "    :param flux_fraction: pFBA maximum flux fraction, should be >=1 and defaults to 1.\n",
    "    :type flux_fraction: float, optional\n",
    "    \n",
    "    :return: The model with the flux minimality constraint added.\n",
    "    :rtype: cobra.Model\n",
    "    \"\"\"\n",
    "\n",
    "    def recursive_sum(x):\n",
    "        \"\"\"Recursive version of sum.\n",
    "\n",
    "        Sum operations are slow on variables. By doing it recursively, we can use\n",
    "        2log(length(x)) additions instead of length(x).\n",
    "        We could exceed the recursion depth, but it is not very likely with normal model sizes.\n",
    "        \"\"\"\n",
    "        length = len(x)\n",
    "        if length == 1:\n",
    "            return x[0]\n",
    "        elif length == 2:\n",
    "            return x[0] + x[1]\n",
    "        else:\n",
    "            split = length // 2\n",
    "            return recursive_sum(x[split:]) + recursive_sum(x[:split])\n",
    "\n",
    "    # Calculate flux sum for the objective.\n",
    "    flux_sum_value = cobra.flux_analysis.pfba(model, objective_fraction, objective)\n",
    "\n",
    "    # Create a total flux variable (fw + rev fluxes, same as pFBA does it in Cobra.)\n",
    "    variables = ((r.forward_variable, r.reverse_variable) for r in model.reactions)\n",
    "    sum_variable = recursive_sum(list(itertools.chain.from_iterable(variables)))\n",
    "    # Create and add the constraint to the model.\n",
    "    constraint = model.problem.Constraint(\n",
    "        expression=sum_variable,\n",
    "        name=\"total_flux_sum_bound\",\n",
    "        lb=0,\n",
    "        ub=flux_sum_value.objective_value * flux_fraction,\n",
    "    )\n",
    "    model.add_cons_vars([constraint])\n",
    "    return model\n",
    "\n",
    "\n",
    "\n",
    "ec_core_cobra_model_100_pfba = ec_core_cobra_model_100.copy()\n",
    "ec_core_cobra_model_100_pfba = add_pFBA_constraint(ec_core_cobra_model_100_pfba, ec_core_cobra_model_100_pfba.reactions.get_by_id(\"BIOMASS_Ecoli_core_w_GAM\"), 1, 1.25)\n",
    "\n",
    "\n",
    "ec_core_cobra_model_0_pfba = ec_core_cobra_model_0.copy()\n",
    "ec_core_cobra_model_0_pfba = add_pFBA_constraint(ec_core_cobra_model_0_pfba, ec_core_cobra_model_0_pfba.reactions.get_by_id(\"BIOMASS_Ecoli_core_w_GAM\"), 0, 1.25)\n"
   ]
  },
  {
   "cell_type": "code",
   "execution_count": null,
   "id": "2129cd00",
   "metadata": {},
   "outputs": [
    {
     "name": "stdout",
     "output_type": "stream",
     "text": [
      "0.0\n",
      "5.064375661482114\n",
      "0.0\n",
      "5.064375661482093\n",
      "0.0\n",
      "1.1205812344987952e-15\n",
      "0.0\n",
      "5.064375661482093\n"
     ]
    }
   ],
   "source": [
    "\n",
    "solution = ec_core_cobra_model_100_pfba.optimize()\n",
    "print(solution.get_primal_by_id(\"FRD7\"))\n",
    "print(solution.get_primal_by_id(\"SUCDi\"))\n",
    "print(flux_variability_analysis(ec_core_cobra_model_100_pfba, ec_core_cobra_model_100_pfba.reactions))\n",
    "\n",
    "\n",
    "solution = ec_core_cobra_model_100.optimize()\n",
    "print(solution.get_primal_by_id(\"FRD7\"))\n",
    "print(solution.get_primal_by_id(\"SUCDi\"))\n",
    "\n",
    "solution = ec_core_cobra_model_0_pfba.optimize()\n",
    "print(solution.get_primal_by_id(\"FRD7\"))\n",
    "print(solution.get_primal_by_id(\"SUCDi\"))\n",
    "\n",
    "solution = ec_core_cobra_model_0.optimize()\n",
    "print(solution.get_primal_by_id(\"FRD7\"))\n",
    "print(solution.get_primal_by_id(\"SUCDi\"))\n",
    "\n",
    "#sampler_100 = cobra.sampling.optgp.OptGPSampler(ec_core_cobra_model_100)\n",
    "#samples_100 = sampler_100.sample(n=1000)\n"
   ]
  }
 ],
 "metadata": {
  "kernelspec": {
   "display_name": "py38",
   "language": "python",
   "name": "python3"
  },
  "language_info": {
   "codemirror_mode": {
    "name": "ipython",
    "version": 3
   },
   "file_extension": ".py",
   "mimetype": "text/x-python",
   "name": "python",
   "nbconvert_exporter": "python",
   "pygments_lexer": "ipython3",
   "version": "3.8.19"
  }
 },
 "nbformat": 4,
 "nbformat_minor": 5
}
