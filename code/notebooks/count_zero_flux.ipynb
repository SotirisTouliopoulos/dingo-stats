{
 "cells": [
  {
   "cell_type": "markdown",
   "metadata": {},
   "source": [
    "# Load libraries"
   ]
  },
  {
   "cell_type": "code",
   "execution_count": null,
   "metadata": {
    "vscode": {
     "languageId": "plaintext"
    }
   },
   "outputs": [],
   "source": []
  },
  {
   "cell_type": "markdown",
   "metadata": {},
   "source": [
    "# Load model"
   ]
  },
  {
   "cell_type": "code",
   "execution_count": null,
   "metadata": {
    "vscode": {
     "languageId": "plaintext"
    }
   },
   "outputs": [],
   "source": []
  },
  {
   "cell_type": "markdown",
   "metadata": {},
   "source": [
    "# Calculate zero-flux reactions across conditions"
   ]
  },
  {
   "cell_type": "code",
   "execution_count": null,
   "metadata": {
    "vscode": {
     "languageId": "plaintext"
    }
   },
   "outputs": [],
   "source": [
    "def calculate_zero_flux(cobra_model, optimal_percentages=[], tol=1e-6):\n",
    "    zero_flux_all_counts = []\n",
    "    for percentage in optimal_percentages:\n",
    "        print(percentage)\n",
    "    \n",
    "        fva = cobra.flux_analysis.flux_variability_analysis(roseburia_cobra_model, fraction_of_optimum=percentage)\n",
    "\n",
    "        zero_flux = fva.loc[ (abs(fva['minimum']) < tol ) & (abs(fva['maximum']) < tol)]\n",
    "        zero_flux_reactions = len(zero_flux.index.tolist())\n",
    "        \n",
    "        zero_flux_all_counts.append(zero_flux_reactions)\n",
    "    \n",
    "    return zero_flux_all_counts\n",
    "        \n",
    "\n",
    "optimal_percentages=[0, 0.99, 1-1e-9, 1-1e-10, 1]\n",
    "zero_flux_all_counts = calculate_zero_flux(roseburia_cobra_model, optimal_percentages=optimal_percentages, tol=1e-6)\n",
    "\n",
    "print(zero_flux_all_counts)\n"
   ]
  },
  {
   "cell_type": "markdown",
   "metadata": {},
   "source": [
    "# Plot the number of reactions with zero flux across conditions"
   ]
  },
  {
   "cell_type": "code",
   "execution_count": null,
   "metadata": {
    "vscode": {
     "languageId": "plaintext"
    }
   },
   "outputs": [],
   "source": [
    "optimal_percentages_str =['0', '0.99', '1-1e-9', '1-1e-10', '1']\n",
    "\n",
    "plt.plot(optimal_percentages_str, zero_flux_all_counts, marker='o', linestyle='-', color='b')\n",
    "plt.xlabel(\"Optimal Percentage (scaled from 0 to 1)\")\n",
    "plt.ylabel(\"Zero Flux Reactions\")\n",
    "#plt.title(\"Line Plot\")\n",
    "\n",
    "plt.legend()\n",
    "plt.show()\n"
   ]
  },
  {
   "cell_type": "markdown",
   "metadata": {},
   "source": [
    "# Create boolean arrays based on active reactions"
   ]
  },
  {
   "cell_type": "code",
   "execution_count": null,
   "metadata": {
    "vscode": {
     "languageId": "plaintext"
    }
   },
   "outputs": [],
   "source": [
    "def calculate_zero_flux(cobra_model, optimal_percentages=[], tol=1e-6, reactions_list=[]):\n",
    "    zero_flux_bools_all = []\n",
    "    for percentage in optimal_percentages:\n",
    "        print(percentage)\n",
    "    \n",
    "        fva = cobra.flux_analysis.flux_variability_analysis(roseburia_cobra_model, fraction_of_optimum=percentage)\n",
    "\n",
    "        zero_flux_bool = np.where((abs(fva['minimum']) < tol) & (abs(fva['maximum']) < tol), 0, 1)\n",
    "        print(zero_flux_bool)\n",
    "        \n",
    "        zero_flux_bools_all.append(zero_flux_bool)\n",
    "    \n",
    "    return zero_flux_bools_all\n",
    "        \n",
    "\n",
    "optimal_percentages=[0, 0.99, 1-1e-9, 1-1e-10, 1]\n",
    "boolean_arrays = calculate_zero_flux(roseburia_cobra_model, optimal_percentages=optimal_percentages, tol=1e-6, reactions_list=reactions)\n"
   ]
  },
  {
   "cell_type": "markdown",
   "metadata": {},
   "source": [
    "# Calculate hamming distance and Plot heatmap"
   ]
  },
  {
   "cell_type": "code",
   "execution_count": null,
   "metadata": {
    "vscode": {
     "languageId": "plaintext"
    }
   },
   "outputs": [],
   "source": [
    "\n",
    "import seaborn as sns\n",
    "import matplotlib.pyplot as plt\n",
    "from scipy.spatial.distance import pdist, squareform\n",
    "\n",
    "def plot_hamming_heatmap(boolean_arrays, optimal_percentages):\n",
    "    \"\"\"\n",
    "    Compute pairwise Hamming distances and plot a heatmap.\n",
    "    \n",
    "    Parameters:\n",
    "    boolean_arrays (list of np.arrays): List of binary arrays (0 = zero flux, 1 = nonzero).\n",
    "    optimal_percentages (list): The corresponding percentages used in the analysis.\n",
    "    \"\"\"\n",
    "    # Convert list of boolean arrays to a 2D NumPy array\n",
    "    binary_matrix = np.array(boolean_arrays)\n",
    "    \n",
    "    # Compute pairwise Hamming distances\n",
    "    hamming_distances = pdist(binary_matrix, metric=\"hamming\")\n",
    "    \n",
    "    # Convert to square matrix\n",
    "    hamming_matrix = squareform(hamming_distances)\n",
    "    \n",
    "    # Create a heatmap\n",
    "    #plt.figure(figsize=(8, 6))\n",
    "    sns.clustermap(hamming_matrix, cbar=False, cbar_pos=None, annot=True, fmt=\".2f\", cmap=\"coolwarm\", xticklabels=optimal_percentages, yticklabels=optimal_percentages, method=\"ward\")\n",
    "    #sns.heatmap(hamming_matrix, annot=True, fmt=\".2f\", cmap=\"coolwarm\", xticklabels=optimal_percentages, yticklabels=optimal_percentages)\n",
    "    \n",
    "    #plt.title(\"Pairwise Hamming Distance Heatmap\")\n",
    "    #plt.xlabel(\"Optimal Percentages\")\n",
    "    #plt.ylabel(\"Optimal Percentages\")\n",
    "    plt.show()\n",
    "\n",
    "\n",
    "plot_hamming_heatmap(boolean_arrays, optimal_percentages)\n",
    "\n"
   ]
  }
 ],
 "metadata": {
  "language_info": {
   "name": "python"
  }
 },
 "nbformat": 4,
 "nbformat_minor": 2
}
