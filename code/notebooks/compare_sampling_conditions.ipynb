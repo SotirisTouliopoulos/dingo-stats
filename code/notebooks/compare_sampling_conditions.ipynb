{
 "cells": [
  {
   "cell_type": "markdown",
   "metadata": {},
   "source": [
    "# Load libraries"
   ]
  },
  {
   "cell_type": "code",
   "execution_count": null,
   "metadata": {},
   "outputs": [],
   "source": [
    "from dingo import MetabolicNetwork, PolytopeSampler\n",
    "from dingo.utils import correlated_reactions\n",
    "\n",
    "import numpy as np\n",
    "import pickle\n",
    "from cobra.io import load_json_model, read_sbml_model, load_matlab_model\n",
    "import cobra\n",
    "\n",
    "from scipy import stats\n",
    "from statsmodels.stats.multitest import multipletests\n",
    "\n",
    "import matplotlib.pyplot as plt"
   ]
  },
  {
   "cell_type": "markdown",
   "metadata": {},
   "source": [
    "# Load models"
   ]
  },
  {
   "cell_type": "code",
   "execution_count": null,
   "metadata": {},
   "outputs": [],
   "source": [
    "roseburia_dingo_model = MetabolicNetwork.from_mat(\"/home/touliopoulos/project/erasmus/erasmus_2025_project/data/Reconstructions_data/Roseburia_intestinalis_L1_82_fixed.mat\")\n",
    "roseburia_cobra_model = load_matlab_model(\"/home/touliopoulos/project/erasmus/erasmus_2025_project/data/Reconstructions_data/Roseburia_intestinalis_L1_82_fixed.mat\")\n",
    "reactions = roseburia_dingo_model.reactions\n"
   ]
  },
  {
   "cell_type": "markdown",
   "metadata": {},
   "source": [
    "# Load sampling data"
   ]
  },
  {
   "cell_type": "code",
   "execution_count": null,
   "metadata": {},
   "outputs": [],
   "source": [
    "\n",
    "\n",
    "\n",
    "with open(\"/home/touliopoulos/project/erasmus/erasmus_2025_project/data/Steady_States_Samples/RI_no_mucins/RI_steady_states_opt_0_rep_002_subsampled.pckl\", \"rb\") as absolute_steady_states_0:\n",
    "    absolute_steady_states_0 = abs(pickle.load(absolute_steady_states_0))\n",
    "\n",
    "with open(\"/home/touliopoulos/project/erasmus/erasmus_2025_project/data/Steady_States_Samples/RI_no_mucins/RI_steady_states_opt_1_rep_002_subsampled.pckl\", \"rb\") as absolute_steady_states_1:\n",
    "    absolute_steady_states_1 = abs(pickle.load(absolute_steady_states_1))\n",
    "    \n",
    "with open(\"/home/touliopoulos/project/erasmus/erasmus_2025_project/data/Steady_States_Samples/RI_no_mucins/RI_steady_states_opt_99_rep_002_subsampled.pckl\", \"rb\") as absolute_steady_states_99:\n",
    "    absolute_steady_states_99 = abs(pickle.load(absolute_steady_states_99))\n",
    "\n",
    "with open(\"/home/touliopoulos/project/erasmus/erasmus_2025_project/data/Steady_States_Samples/RI_no_mucins/RI_steady_states_opt_100_rep_002_subsampled.pckl\", \"rb\") as absolute_steady_states_100:\n",
    "    absolute_steady_states_100 = abs(pickle.load(absolute_steady_states_100))\n",
    "\n"
   ]
  },
  {
   "cell_type": "markdown",
   "metadata": {},
   "source": [
    "# Perform statistical analysis"
   ]
  },
  {
   "cell_type": "code",
   "execution_count": null,
   "metadata": {},
   "outputs": [],
   "source": [
    "\n",
    "conditions = [\n",
    "    absolute_steady_states_001,\n",
    "    absolute_steady_states_002,\n",
    "    absolute_steady_states_003\n",
    "]\n",
    "\n",
    "\n",
    "# Add a fold change ?\n",
    "\n",
    "\n",
    "selected_comparisons = [(0, 1), (0, 2), (1, 2)]\n",
    "#selected_comparisons = [(0, 1)]\n",
    "\n",
    "\n",
    "p_values_mw = {row: [] for row in range(len(reactions)) }  # Store p-values for each row for MW test\n",
    "p_values_ks = {row: [] for row in range(len(reactions)) }  # Store p-values for each row for KS test\n",
    "values_mw = {row: [] for row in range(len(reactions)) }  # Store mw-values for each row for MW test\n",
    "values_ks = {row: [] for row in range(len(reactions)) }  # Store ks-values for each row for KS test\n",
    "\n",
    "for row in range(len(reactions)):  # Iterate over rows\n",
    "    for i, j in selected_comparisons:\n",
    "        \n",
    "        mw, p_mw = stats.mannwhitneyu(conditions[i][row], conditions[j][row], alternative='two-sided')\n",
    "        mw = mw / (len(conditions[i][row]) * len(conditions[j][row]))\n",
    "        \n",
    "        ks, p_ks = stats.ks_2samp(conditions[i][row], conditions[j][row], alternative='two-sided')\n",
    "\n",
    "        p_values_mw[row].append(p_mw)\n",
    "        p_values_ks[row].append(p_ks)\n",
    "        \n",
    "        values_mw[row].append(mw)\n",
    "        values_ks[row].append(ks)"
   ]
  },
  {
   "cell_type": "markdown",
   "metadata": {},
   "source": []
  },
  {
   "cell_type": "code",
   "execution_count": null,
   "metadata": {},
   "outputs": [],
   "source": [
    "print(p_values_ks)\n",
    "p_values_ks_copy = list(p_values_ks.values())\n",
    "flat_p_values_ks = np.array(p_values_ks_copy).flatten()\n",
    "\n",
    "# Apply FDR correction\n",
    "rejected, corrected_p_values_ks, _, _ = multipletests(flat_p_values_ks, method='fdr_bh')\n",
    "\n",
    "# Reshape corrected p-values back to the original matrix shape\n",
    "corrected_p_values_ks = corrected_p_values_ks.reshape(np.array(p_values_ks_copy).shape)\n",
    "print(corrected_p_values_ks)\n",
    "\n",
    "\n",
    "\n",
    "# for KS\n",
    "raw_p = [p for row in p_values_ks.values() for p in row]\n",
    "#corrected_p = [p for row in corrected_p_values_ks.values() for p in row]\n",
    "corrected_p = corrected_p_values_ks.flatten()\n",
    "\n",
    "plt.scatter(raw_p, corrected_p)\n",
    "plt.xlabel(\"Raw p-values\")\n",
    "plt.ylabel(\"Corrected p-values\")\n",
    "plt.title(\"Raw vs. Corrected p-values\")\n",
    "#plt.xscale(\"log\")\n",
    "#plt.yscale(\"log\")\n",
    "plt.show()"
   ]
  },
  {
   "cell_type": "markdown",
   "metadata": {},
   "source": []
  },
  {
   "cell_type": "code",
   "execution_count": null,
   "metadata": {},
   "outputs": [],
   "source": [
    "\n",
    "\n",
    "cobra_reactions = roseburia_cobra_model.reactions\n",
    "reaction_dict = {str(reaction.id): str(reaction.name) for reaction in cobra_reactions if \"acetat\" in str(reaction.name).lower() or \"lactat\" in str(reaction.name).lower()}\n",
    "\n",
    "for a, b, c, d in zip(filtered_reactions, mean_differences_steady_states, std_differences_steady_states, mean_differences_corr_matrix):\n",
    "    if a in reaction_dict.keys():\n",
    "        print(a, reaction_dict[a], b, c, d)\n",
    "        "
   ]
  }
 ],
 "metadata": {
  "kernelspec": {
   "display_name": "Python 3",
   "language": "python",
   "name": "python3"
  },
  "language_info": {
   "name": "python",
   "version": "3.10.12"
  }
 },
 "nbformat": 4,
 "nbformat_minor": 2
}
