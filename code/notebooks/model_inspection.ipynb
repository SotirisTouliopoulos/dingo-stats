{
 "cells": [
  {
   "cell_type": "markdown",
   "metadata": {},
   "source": [
    "# Load libraries"
   ]
  },
  {
   "cell_type": "code",
   "execution_count": 8,
   "metadata": {},
   "outputs": [],
   "source": [
    "from dingo import MetabolicNetwork\n",
    "from cobra.io import load_json_model, read_sbml_model, load_matlab_model\n",
    "import cobra\n",
    "from cobra.util.solver import linear_reaction_coefficients\n",
    "from cobra.flux_analysis import flux_variability_analysis\n"
   ]
  },
  {
   "cell_type": "markdown",
   "metadata": {},
   "source": [
    "# Load models"
   ]
  },
  {
   "cell_type": "code",
   "execution_count": 39,
   "metadata": {},
   "outputs": [
    {
     "name": "stderr",
     "output_type": "stream",
     "text": [
      "WARNING:cobra.io.mat:No defined compartments in model model. Compartments will be deduced heuristically using regular expressions.\n",
      "WARNING:cobra.io.mat:Using regular expression found the following compartments:c, e\n"
     ]
    }
   ],
   "source": [
    "#roseburia_dingo_model = MetabolicNetwork.from_mat(\"/home/touliopoulos/project/erasmus/erasmus_2025_project/data/Reconstructions_data/Roseburia_intestinalis_L1_82_fixed.mat\")\n",
    "roseburia_cobra_model = load_matlab_model(\"/home/touliopoulos/project/erasmus/erasmus_2025_project/data/Reconstructions_data/Roseburia_intestinalis_L1_82_fixed.mat\")\n",
    "#reactions = roseburia_dingo_model.reactions\n",
    "\n",
    "\n",
    "# from AGORA2\n",
    "#roseburia_cobra_model = load_matlab_model(\"/home/touliopoulos/Downloads/Roseburia_intestinalis_L1_82.mat\")\n",
    "\n",
    "# from Daniel\n",
    "#roseburia_cobra_model = read_sbml_model(\"/home/touliopoulos/Downloads/ri_final.xml\")\n"
   ]
  },
  {
   "cell_type": "markdown",
   "metadata": {},
   "source": [
    "# Validate the objective function"
   ]
  },
  {
   "cell_type": "code",
   "execution_count": 20,
   "metadata": {},
   "outputs": [
    {
     "data": {
      "text/plain": [
       "{<Reaction biomass525 at 0x7c3ab4aae590>: 1.0}"
      ]
     },
     "execution_count": 20,
     "metadata": {},
     "output_type": "execute_result"
    }
   ],
   "source": [
    "linear_reaction_coefficients(roseburia_cobra_model)"
   ]
  },
  {
   "cell_type": "markdown",
   "metadata": {},
   "source": [
    "# Check medium"
   ]
  },
  {
   "cell_type": "code",
   "execution_count": 51,
   "metadata": {},
   "outputs": [
    {
     "name": "stdout",
     "output_type": "stream",
     "text": [
      "{'EX_1hibup_S(e)': 1000.0, 'EX_1hibupglu_S(e)': 1000.0, 'EX_1hmdgluc(e)': 1000.0, 'EX_1ohmdz(e)': 1000.0, 'EX_2hatvacid(e)': 1000.0, 'EX_2hatvacidgluc(e)': 1000.0, 'EX_2hatvlac(e)': 1000.0, 'EX_2hatvlacgluc(e)': 1000.0, 'EX_2hibup_S(e)': 1000.0, 'EX_2hibupglu_S(e)': 1000.0, 'EX_2oh_cbz(e)': 1000.0, 'EX_2oh_cbz_glc(e)': 1000.0, 'EX_2oh_mtz(e)': 1000.0, 'EX_2oh_mtz_glc(e)': 1000.0, 'EX_3hibup_S(e)': 1000.0, 'EX_3hibupglu_S(e)': 1000.0, 'EX_3meacmp(e)': 1000.0, 'EX_3oh_cbz(e)': 1000.0, 'EX_3oh_cbz_glc(e)': 1000.0, 'EX_3oh_dlor(e)': 1000.0, 'EX_3oh_dlor_glc(e)': 1000.0, 'EX_3oh_mdea(e)': 1000.0, 'EX_3oh_mdea_glc(e)': 1000.0, 'EX_3oh_mxn(e)': 1000.0, 'EX_3oh_mxn_glc(e)': 1000.0, 'EX_4ahmmp(e)': 1000.0, 'EX_4dh_tpno(e)': 1000.0, 'EX_4dh_tpno_1glc(e)': 1000.0, 'EX_4hmdgluc(e)': 1000.0, 'EX_4oh_dcf(e)': 1000.0, 'EX_4oh_dcf_glc(e)': 1000.0, 'EX_4oh_kp(e)': 1000.0, 'EX_4oh_kp_glc(e)': 1000.0, 'EX_4oh_levole(e)': 1000.0, 'EX_4oh_levole_glc(e)': 1000.0, 'EX_4oh_meth(e)': 1000.0, 'EX_4oh_meth_glc(e)': 1000.0, 'EX_4oh_propl(e)': 1000.0, 'EX_4oh_propl_glc(e)': 1000.0, 'EX_4oh_trz(e)': 1000.0, 'EX_4oh_trz_glc(e)': 1000.0, 'EX_4oh_vcz(e)': 1000.0, 'EX_4oh_vcz_glc(e)': 1000.0, 'EX_4ohmdz(e)': 1000.0, 'EX_5oh_sulfp(e)': 1000.0, 'EX_5oh_sulfp_glc(e)': 1000.0, 'EX_5ohfvs(e)': 1000.0, 'EX_5ohfvsglu(e)': 1000.0, 'EX_6bhglz(e)': 1000.0, 'EX_6bhglzglc(e)': 1000.0, 'EX_6ohfvs(e)': 1000.0, 'EX_6ohfvsglu(e)': 1000.0, 'EX_7a_czp(e)': 1000.0, 'EX_7bhglz(e)': 1000.0, 'EX_7bhglzglc(e)': 1000.0, 'EX_7oh_efv(e)': 1000.0, 'EX_7oh_efv_glc(e)': 1000.0, 'EX_814dioh_efv(e)': 1000.0, 'EX_814dioh_efv_glc(e)': 1000.0, 'EX_8oh_efv(e)': 1000.0, 'EX_8oh_efv_glc(e)': 1000.0, 'EX_C02528(e)': 1000.0, 'EX_MGlcn10(e)': 1000.0, 'EX_MGlcn100(e)': 1000.0, 'EX_MGlcn100_rl(e)': 1000.0, 'EX_MGlcn101(e)': 1000.0, 'EX_MGlcn101_rl(e)': 1000.0, 'EX_MGlcn102(e)': 1000.0, 'EX_MGlcn102_rl(e)': 1000.0, 'EX_MGlcn103(e)': 1000.0, 'EX_MGlcn103_rl(e)': 1000.0, 'EX_MGlcn104(e)': 1000.0, 'EX_MGlcn104_rl(e)': 1000.0, 'EX_MGlcn105(e)': 1000.0, 'EX_MGlcn105_rl(e)': 1000.0, 'EX_MGlcn106(e)': 1000.0, 'EX_MGlcn106_rl(e)': 1000.0, 'EX_MGlcn107(e)': 1000.0, 'EX_MGlcn107_rl(e)': 1000.0, 'EX_MGlcn108(e)': 1000.0, 'EX_MGlcn108_rl(e)': 1000.0, 'EX_MGlcn109(e)': 1000.0, 'EX_MGlcn109_rl(e)': 1000.0, 'EX_MGlcn10_rl(e)': 1000.0, 'EX_MGlcn110(e)': 1000.0, 'EX_MGlcn110_rl(e)': 1000.0, 'EX_MGlcn111(e)': 1000.0, 'EX_MGlcn111_rl(e)': 1000.0, 'EX_MGlcn112(e)': 1000.0, 'EX_MGlcn112_rl(e)': 1000.0, 'EX_MGlcn113(e)': 1000.0, 'EX_MGlcn113_rl(e)': 1000.0, 'EX_MGlcn114(e)': 1000.0, 'EX_MGlcn114_rl(e)': 1000.0, 'EX_MGlcn115(e)': 1000.0, 'EX_MGlcn115_rl(e)': 1000.0, 'EX_MGlcn116(e)': 1000.0, 'EX_MGlcn116_rl(e)': 1000.0, 'EX_MGlcn117(e)': 1000.0, 'EX_MGlcn117_rl(e)': 1000.0, 'EX_MGlcn118(e)': 1000.0, 'EX_MGlcn118_rl(e)': 1000.0, 'EX_MGlcn119(e)': 1000.0, 'EX_MGlcn119_rl(e)': 1000.0, 'EX_MGlcn12(e)': 1000.0, 'EX_MGlcn120(e)': 1000.0, 'EX_MGlcn120_rl(e)': 1000.0, 'EX_MGlcn121(e)': 1000.0, 'EX_MGlcn121_rl(e)': 1000.0, 'EX_MGlcn122(e)': 1000.0, 'EX_MGlcn122_rl(e)': 1000.0, 'EX_MGlcn123(e)': 1000.0, 'EX_MGlcn123_rl(e)': 1000.0, 'EX_MGlcn124(e)': 1000.0, 'EX_MGlcn124_rl(e)': 1000.0, 'EX_MGlcn126(e)': 1000.0, 'EX_MGlcn126_rl(e)': 1000.0, 'EX_MGlcn127(e)': 1000.0, 'EX_MGlcn127_rl(e)': 1000.0, 'EX_MGlcn128(e)': 1000.0, 'EX_MGlcn128_rl(e)': 1000.0, 'EX_MGlcn129(e)': 1000.0, 'EX_MGlcn129_rl(e)': 1000.0, 'EX_MGlcn12_rl(e)': 1000.0, 'EX_MGlcn13(e)': 1000.0, 'EX_MGlcn130(e)': 1000.0, 'EX_MGlcn130_rl(e)': 1000.0, 'EX_MGlcn131(e)': 1000.0, 'EX_MGlcn131_rl(e)': 1000.0, 'EX_MGlcn132(e)': 1000.0, 'EX_MGlcn132_rl(e)': 1000.0, 'EX_MGlcn133(e)': 1000.0, 'EX_MGlcn133_rl(e)': 1000.0, 'EX_MGlcn134(e)': 1000.0, 'EX_MGlcn134_rl(e)': 1000.0, 'EX_MGlcn135(e)': 1000.0, 'EX_MGlcn135_rl(e)': 1000.0, 'EX_MGlcn136(e)': 1000.0, 'EX_MGlcn136_rl(e)': 1000.0, 'EX_MGlcn137(e)': 1000.0, 'EX_MGlcn137_rl(e)': 1000.0, 'EX_MGlcn138(e)': 1000.0, 'EX_MGlcn138_rl(e)': 1000.0, 'EX_MGlcn139(e)': 1000.0, 'EX_MGlcn139_rl(e)': 1000.0, 'EX_MGlcn13_rl(e)': 1000.0, 'EX_MGlcn14(e)': 1000.0, 'EX_MGlcn140(e)': 1000.0, 'EX_MGlcn140_rl(e)': 1000.0, 'EX_MGlcn141(e)': 1000.0, 'EX_MGlcn141_rl(e)': 1000.0, 'EX_MGlcn142(e)': 1000.0, 'EX_MGlcn142_rl(e)': 1000.0, 'EX_MGlcn143(e)': 1000.0, 'EX_MGlcn143_rl(e)': 1000.0, 'EX_MGlcn144(e)': 1000.0, 'EX_MGlcn144_rl(e)': 1000.0, 'EX_MGlcn145(e)': 1000.0, 'EX_MGlcn145_rl(e)': 1000.0, 'EX_MGlcn146(e)': 1000.0, 'EX_MGlcn146_rl(e)': 1000.0, 'EX_MGlcn147(e)': 1000.0, 'EX_MGlcn147_rl(e)': 1000.0, 'EX_MGlcn148(e)': 1000.0, 'EX_MGlcn148_rl(e)': 1000.0, 'EX_MGlcn149(e)': 1000.0, 'EX_MGlcn149_rl(e)': 1000.0, 'EX_MGlcn14_rl(e)': 1000.0, 'EX_MGlcn15(e)': 1000.0, 'EX_MGlcn150(e)': 1000.0, 'EX_MGlcn150_rl(e)': 1000.0, 'EX_MGlcn151(e)': 1000.0, 'EX_MGlcn151_rl(e)': 1000.0, 'EX_MGlcn152(e)': 1000.0, 'EX_MGlcn152_rl(e)': 1000.0, 'EX_MGlcn153(e)': 1000.0, 'EX_MGlcn153_rl(e)': 1000.0, 'EX_MGlcn154(e)': 1000.0, 'EX_MGlcn154_rl(e)': 1000.0, 'EX_MGlcn155(e)': 1000.0, 'EX_MGlcn155_rl(e)': 1000.0, 'EX_MGlcn156(e)': 1000.0, 'EX_MGlcn156_rl(e)': 1000.0, 'EX_MGlcn157(e)': 1000.0, 'EX_MGlcn157_rl(e)': 1000.0, 'EX_MGlcn158(e)': 1000.0, 'EX_MGlcn158_rl(e)': 1000.0, 'EX_MGlcn159(e)': 1000.0, 'EX_MGlcn159_rl(e)': 1000.0, 'EX_MGlcn15_rl(e)': 1000.0, 'EX_MGlcn16(e)': 1000.0, 'EX_MGlcn160(e)': 1000.0, 'EX_MGlcn160_rl(e)': 1000.0, 'EX_MGlcn161(e)': 1000.0, 'EX_MGlcn161_rl(e)': 1000.0, 'EX_MGlcn162(e)': 1000.0, 'EX_MGlcn162_rl(e)': 1000.0, 'EX_MGlcn163(e)': 1000.0, 'EX_MGlcn163_rl(e)': 1000.0, 'EX_MGlcn164(e)': 1000.0, 'EX_MGlcn164_rl(e)': 1000.0, 'EX_MGlcn165(e)': 1000.0, 'EX_MGlcn165_rl(e)': 1000.0, 'EX_MGlcn166(e)': 1000.0, 'EX_MGlcn166_rl(e)': 1000.0, 'EX_MGlcn167(e)': 1000.0, 'EX_MGlcn167_rl(e)': 1000.0, 'EX_MGlcn168(e)': 1000.0, 'EX_MGlcn168_rl(e)': 1000.0, 'EX_MGlcn169(e)': 1000.0, 'EX_MGlcn169_rl(e)': 1000.0, 'EX_MGlcn16_rl(e)': 1000.0, 'EX_MGlcn17(e)': 1000.0, 'EX_MGlcn170(e)': 1000.0, 'EX_MGlcn170_rl(e)': 1000.0, 'EX_MGlcn171(e)': 1000.0, 'EX_MGlcn171_rl(e)': 1000.0, 'EX_MGlcn172(e)': 1000.0, 'EX_MGlcn172_rl(e)': 1000.0, 'EX_MGlcn173(e)': 1000.0, 'EX_MGlcn173_rl(e)': 1000.0, 'EX_MGlcn174(e)': 1000.0, 'EX_MGlcn174_rl(e)': 1000.0, 'EX_MGlcn175(e)': 1000.0, 'EX_MGlcn175_rl(e)': 1000.0, 'EX_MGlcn176(e)': 1000.0, 'EX_MGlcn176_rl(e)': 1000.0, 'EX_MGlcn177(e)': 1000.0, 'EX_MGlcn177_rl(e)': 1000.0, 'EX_MGlcn178(e)': 1000.0, 'EX_MGlcn178_rl(e)': 1000.0, 'EX_MGlcn179(e)': 1000.0, 'EX_MGlcn179_rl(e)': 1000.0, 'EX_MGlcn17_rl(e)': 1000.0, 'EX_MGlcn18(e)': 1000.0, 'EX_MGlcn180(e)': 1000.0, 'EX_MGlcn180_rl(e)': 1000.0, 'EX_MGlcn181(e)': 1000.0, 'EX_MGlcn181_rl(e)': 1000.0, 'EX_MGlcn182(e)': 1000.0, 'EX_MGlcn182_rl(e)': 1000.0, 'EX_MGlcn183(e)': 1000.0, 'EX_MGlcn183_rl(e)': 1000.0, 'EX_MGlcn185(e)': 1000.0, 'EX_MGlcn185_rl(e)': 1000.0, 'EX_MGlcn186(e)': 1000.0, 'EX_MGlcn186_rl(e)': 1000.0, 'EX_MGlcn187(e)': 1000.0, 'EX_MGlcn187_rl(e)': 1000.0, 'EX_MGlcn188(e)': 1000.0, 'EX_MGlcn188_rl(e)': 1000.0, 'EX_MGlcn189(e)': 1000.0, 'EX_MGlcn189_rl(e)': 1000.0, 'EX_MGlcn18_rl(e)': 1000.0, 'EX_MGlcn19(e)': 1000.0, 'EX_MGlcn190(e)': 1000.0, 'EX_MGlcn190_rl(e)': 1000.0, 'EX_MGlcn191(e)': 1000.0, 'EX_MGlcn191_rl(e)': 1000.0, 'EX_MGlcn192(e)': 1000.0, 'EX_MGlcn192_rl(e)': 1000.0, 'EX_MGlcn193(e)': 1000.0, 'EX_MGlcn193_rl(e)': 1000.0, 'EX_MGlcn194(e)': 1000.0, 'EX_MGlcn194_rl(e)': 1000.0, 'EX_MGlcn195(e)': 1000.0, 'EX_MGlcn195_rl(e)': 1000.0, 'EX_MGlcn196(e)': 1000.0, 'EX_MGlcn196_rl(e)': 1000.0, 'EX_MGlcn19_rl(e)': 1000.0, 'EX_MGlcn2(e)': 1000.0, 'EX_MGlcn20(e)': 1000.0, 'EX_MGlcn20_rl(e)': 1000.0, 'EX_MGlcn21(e)': 1000.0, 'EX_MGlcn21_rl(e)': 1000.0, 'EX_MGlcn22(e)': 1000.0, 'EX_MGlcn22_rl(e)': 1000.0, 'EX_MGlcn23(e)': 1000.0, 'EX_MGlcn23_rl(e)': 1000.0, 'EX_MGlcn24(e)': 1000.0, 'EX_MGlcn24_rl(e)': 1000.0, 'EX_MGlcn25(e)': 1000.0, 'EX_MGlcn25_rl(e)': 1000.0, 'EX_MGlcn26(e)': 1000.0, 'EX_MGlcn26_rl(e)': 1000.0, 'EX_MGlcn27(e)': 1000.0, 'EX_MGlcn27_rl(e)': 1000.0, 'EX_MGlcn28(e)': 1000.0, 'EX_MGlcn28_rl(e)': 1000.0, 'EX_MGlcn29(e)': 1000.0, 'EX_MGlcn29_rl(e)': 1000.0, 'EX_MGlcn2_rl(e)': 1000.0, 'EX_MGlcn3(e)': 1000.0, 'EX_MGlcn30(e)': 1000.0, 'EX_MGlcn30_rl(e)': 1000.0, 'EX_MGlcn31(e)': 1000.0, 'EX_MGlcn31_rl(e)': 1000.0, 'EX_MGlcn32(e)': 1000.0, 'EX_MGlcn32_rl(e)': 1000.0, 'EX_MGlcn33(e)': 1000.0, 'EX_MGlcn33_rl(e)': 1000.0, 'EX_MGlcn34(e)': 1000.0, 'EX_MGlcn34_rl(e)': 1000.0, 'EX_MGlcn35(e)': 1000.0, 'EX_MGlcn35_rl(e)': 1000.0, 'EX_MGlcn36(e)': 1000.0, 'EX_MGlcn36_rl(e)': 1000.0, 'EX_MGlcn37(e)': 1000.0, 'EX_MGlcn37_rl(e)': 1000.0, 'EX_MGlcn38(e)': 1000.0, 'EX_MGlcn38_rl(e)': 1000.0, 'EX_MGlcn39(e)': 1000.0, 'EX_MGlcn39_rl(e)': 1000.0, 'EX_MGlcn3_rl(e)': 1000.0, 'EX_MGlcn4(e)': 1000.0, 'EX_MGlcn40(e)': 1000.0, 'EX_MGlcn40_rl(e)': 1000.0, 'EX_MGlcn41(e)': 1000.0, 'EX_MGlcn41_rl(e)': 1000.0, 'EX_MGlcn42(e)': 1000.0, 'EX_MGlcn42_rl(e)': 1000.0, 'EX_MGlcn45(e)': 1000.0, 'EX_MGlcn45_rl(e)': 1000.0, 'EX_MGlcn46(e)': 1000.0, 'EX_MGlcn46_rl(e)': 1000.0, 'EX_MGlcn47(e)': 1000.0, 'EX_MGlcn47_rl(e)': 1000.0, 'EX_MGlcn48(e)': 1000.0, 'EX_MGlcn48_rl(e)': 1000.0, 'EX_MGlcn4_rl(e)': 1000.0, 'EX_MGlcn5(e)': 1000.0, 'EX_MGlcn50(e)': 1000.0, 'EX_MGlcn50_rl(e)': 1000.0, 'EX_MGlcn51(e)': 1000.0, 'EX_MGlcn51_rl(e)': 1000.0, 'EX_MGlcn53(e)': 1000.0, 'EX_MGlcn53_rl(e)': 1000.0, 'EX_MGlcn55(e)': 1000.0, 'EX_MGlcn55_rl(e)': 1000.0, 'EX_MGlcn56(e)': 1000.0, 'EX_MGlcn56_rl(e)': 1000.0, 'EX_MGlcn57(e)': 1000.0, 'EX_MGlcn57_rl(e)': 1000.0, 'EX_MGlcn58(e)': 1000.0, 'EX_MGlcn58_rl(e)': 1000.0, 'EX_MGlcn59(e)': 1000.0, 'EX_MGlcn59_rl(e)': 1000.0, 'EX_MGlcn5_rl(e)': 1000.0, 'EX_MGlcn6(e)': 1000.0, 'EX_MGlcn60(e)': 1000.0, 'EX_MGlcn60_rl(e)': 1000.0, 'EX_MGlcn61(e)': 1000.0, 'EX_MGlcn61_rl(e)': 1000.0, 'EX_MGlcn62(e)': 1000.0, 'EX_MGlcn62_rl(e)': 1000.0, 'EX_MGlcn63(e)': 1000.0, 'EX_MGlcn63_rl(e)': 1000.0, 'EX_MGlcn64(e)': 1000.0, 'EX_MGlcn64_rl(e)': 1000.0, 'EX_MGlcn65(e)': 1000.0, 'EX_MGlcn65_rl(e)': 1000.0, 'EX_MGlcn66(e)': 1000.0, 'EX_MGlcn66_rl(e)': 1000.0, 'EX_MGlcn67(e)': 1000.0, 'EX_MGlcn67_rl(e)': 1000.0, 'EX_MGlcn68(e)': 1000.0, 'EX_MGlcn68_rl(e)': 1000.0, 'EX_MGlcn69(e)': 1000.0, 'EX_MGlcn69_rl(e)': 1000.0, 'EX_MGlcn6_rl(e)': 1000.0, 'EX_MGlcn7(e)': 1000.0, 'EX_MGlcn70(e)': 1000.0, 'EX_MGlcn70_rl(e)': 1000.0, 'EX_MGlcn71(e)': 1000.0, 'EX_MGlcn71_rl(e)': 1000.0, 'EX_MGlcn72(e)': 1000.0, 'EX_MGlcn72_rl(e)': 1000.0, 'EX_MGlcn73(e)': 1000.0, 'EX_MGlcn73_rl(e)': 1000.0, 'EX_MGlcn74(e)': 1000.0, 'EX_MGlcn74_rl(e)': 1000.0, 'EX_MGlcn75(e)': 1000.0, 'EX_MGlcn75_rl(e)': 1000.0, 'EX_MGlcn76(e)': 1000.0, 'EX_MGlcn76_rl(e)': 1000.0, 'EX_MGlcn77(e)': 1000.0, 'EX_MGlcn77_rl(e)': 1000.0, 'EX_MGlcn78(e)': 1000.0, 'EX_MGlcn78_rl(e)': 1000.0, 'EX_MGlcn79(e)': 1000.0, 'EX_MGlcn79_rl(e)': 1000.0, 'EX_MGlcn7_rl(e)': 1000.0, 'EX_MGlcn8(e)': 1000.0, 'EX_MGlcn80(e)': 1000.0, 'EX_MGlcn80_rl(e)': 1000.0, 'EX_MGlcn81(e)': 1000.0, 'EX_MGlcn81_rl(e)': 1000.0, 'EX_MGlcn82(e)': 1000.0, 'EX_MGlcn82_rl(e)': 1000.0, 'EX_MGlcn83(e)': 1000.0, 'EX_MGlcn83_rl(e)': 1000.0, 'EX_MGlcn84(e)': 1000.0, 'EX_MGlcn84_rl(e)': 1000.0, 'EX_MGlcn85(e)': 1000.0, 'EX_MGlcn85_rl(e)': 1000.0, 'EX_MGlcn86(e)': 1000.0, 'EX_MGlcn86_rl(e)': 1000.0, 'EX_MGlcn87(e)': 1000.0, 'EX_MGlcn87_rl(e)': 1000.0, 'EX_MGlcn88(e)': 1000.0, 'EX_MGlcn88_rl(e)': 1000.0, 'EX_MGlcn89(e)': 1000.0, 'EX_MGlcn89_rl(e)': 1000.0, 'EX_MGlcn8_rl(e)': 1000.0, 'EX_MGlcn9(e)': 1000.0, 'EX_MGlcn90(e)': 1000.0, 'EX_MGlcn90_rl(e)': 1000.0, 'EX_MGlcn91(e)': 1000.0, 'EX_MGlcn91_rl(e)': 1000.0, 'EX_MGlcn92(e)': 1000.0, 'EX_MGlcn92_rl(e)': 1000.0, 'EX_MGlcn93(e)': 1000.0, 'EX_MGlcn93_rl(e)': 1000.0, 'EX_MGlcn94(e)': 1000.0, 'EX_MGlcn94_rl(e)': 1000.0, 'EX_MGlcn95(e)': 1000.0, 'EX_MGlcn95_rl(e)': 1000.0, 'EX_MGlcn96(e)': 1000.0, 'EX_MGlcn96_rl(e)': 1000.0, 'EX_MGlcn97(e)': 1000.0, 'EX_MGlcn97_rl(e)': 1000.0, 'EX_MGlcn98(e)': 1000.0, 'EX_MGlcn98_rl(e)': 1000.0, 'EX_MGlcn99(e)': 1000.0, 'EX_MGlcn99_rl(e)': 1000.0, 'EX_MGlcn9_rl(e)': 1000.0, 'EX_N_oh_phtn(e)': 1000.0, 'EX_N_oh_phtn_glc(e)': 1000.0, 'EX_R_6oh_warf(e)': 1000.0, 'EX_R_6oh_warf_glc(e)': 1000.0, 'EX_R_7oh_warf(e)': 1000.0, 'EX_R_7oh_warf_glc(e)': 1000.0, 'EX_R_8oh_warf(e)': 1000.0, 'EX_R_8oh_warf_glc(e)': 1000.0, 'EX_S_4oh_warf(e)': 1000.0, 'EX_S_4oh_warf_glc(e)': 1000.0, 'EX_S_6oh_warf(e)': 1000.0, 'EX_S_6oh_warf_glc(e)': 1000.0, 'EX_T_antigen(e)': 1000.0, 'EX_Tn_antigen(e)': 1000.0, 'EX_Tyr_ggn(e)': 1000.0, 'EX_ac(e)': 1000.0, 'EX_ac_amn_b_gly(e)': 1000.0, 'EX_ac_amn_b_gly_glc(e)': 1000.0, 'EX_acald(e)': 1000.0, 'EX_acgal(e)': 1000.0, 'EX_acgam(e)': 1000.0, 'EX_acmp(e)': 1000.0, 'EX_acmp_glc(e)': 1000.0, 'EX_acmpglu(e)': 1000.0, 'EX_acnam2a6agal(e)': 1000.0, 'EX_adocbl(e)': 1000.0, 'EX_agal1b3agal(e)': 1000.0, 'EX_agam1b3agal(e)': 1000.0, 'EX_agam1b6agal(e)': 1000.0, 'EX_ala_L(e)': 1000.0, 'EX_alaasp(e)': 1000.0, 'EX_alagln(e)': 1000.0, 'EX_alaglu(e)': 1000.0, 'EX_alagly(e)': 1000.0, 'EX_alahis(e)': 1000.0, 'EX_alaleu(e)': 1000.0, 'EX_alathr(e)': 1000.0, 'EX_alpz_4oh(e)': 1000.0, 'EX_alpz_4oh_glc(e)': 1000.0, 'EX_alpz_aoh(e)': 1000.0, 'EX_alpz_aoh_glc(e)': 1000.0, 'EX_am14(e)': 1000.0, 'EX_am14_glc(e)': 1000.0, 'EX_am1ccs(e)': 1000.0, 'EX_am1cglc(e)': 1000.0, 'EX_am5(e)': 1000.0, 'EX_am5_glc(e)': 1000.0, 'EX_am6(e)': 1000.0, 'EX_am6_glc(e)': 1000.0, 'EX_amio(e)': 1000.0, 'EX_amio_c(e)': 1000.0, 'EX_amio_c_glc(e)': 1000.0, 'EX_amio_glc(e)': 1000.0, 'EX_amn_b_gly(e)': 1000.0, 'EX_amn_b_gly_glc(e)': 1000.0, 'EX_amntd_m6(e)': 1000.0, 'EX_amntd_m6_glc(e)': 1000.0, 'EX_amylopect900(e)': 1000.0, 'EX_anzp(e)': 1000.0, 'EX_arab_L(e)': 1000.0, 'EX_arabinoxyl(e)': 1000.0, 'EX_arabttr(e)': 1000.0, 'EX_arbt(e)': 1000.0, 'EX_atvacid(e)': 1000.0, 'EX_atvacylgluc(e)': 1000.0, 'EX_atvethgluc(e)': 1000.0, 'EX_atvlac(e)': 1000.0, 'EX_atvlacgluc(e)': 1000.0, 'EX_bhpm(e)': 1000.0, 'EX_bhpm_glc(e)': 1000.0, 'EX_bilr_355(e)': 1000.0, 'EX_bilr_M10(e)': 1000.0, 'EX_bilr_M12(e)': 1000.0, 'EX_bilr_M14(e)': 1000.0, 'EX_bilr_M15(e)': 1000.0, 'EX_bilr_M16(e)': 1000.0, 'EX_bilr_M7(e)': 1000.0, 'EX_bsn(e)': 1000.0, 'EX_bsn_glc(e)': 1000.0, 'EX_btn(e)': 1000.0, 'EX_but(e)': 1000.0, 'EX_bz(e)': 1000.0, 'EX_bz_glc(e)': 1000.0, 'EX_ca2(e)': 1000.0, 'EX_caribup_s(e)': 1000.0, 'EX_caribupglu_S(e)': 1000.0, 'EX_cbl1(e)': 1000.0, 'EX_cbl2(e)': 1000.0, 'EX_cbz(e)': 1000.0, 'EX_cbz_glc(e)': 1000.0, 'EX_cd2(e)': 1000.0, 'EX_cd6168(e)': 1000.0, 'EX_cd6168_glc(e)': 1000.0, 'EX_cellb(e)': 1000.0, 'EX_cgly(e)': 1000.0, 'EX_chlphncl(e)': 1000.0, 'EX_chlphncl_glc(e)': 1000.0, 'EX_cholate(e)': 1000.0, 'EX_cit(e)': 1000.0, 'EX_cl(e)': 1000.0, 'EX_clcxb(e)': 1000.0, 'EX_clcxb_c(e)': 1000.0, 'EX_clcxb_c_glc(e)': 1000.0, 'EX_clcxb_glc(e)': 1000.0, 'EX_clobi_c(e)': 1000.0, 'EX_clobi_glc(e)': 1000.0, 'EX_co2(e)': 1000.0, 'EX_cobalt2(e)': 1000.0, 'EX_core2(e)': 1000.0, 'EX_core2_rl(e)': 1000.0, 'EX_core3(e)': 1000.0, 'EX_core4(e)': 1000.0, 'EX_core4_rl(e)': 1000.0, 'EX_core5(e)': 1000.0, 'EX_core6(e)': 1000.0, 'EX_core8(e)': 1000.0, 'EX_crvsm1(e)': 1000.0, 'EX_crvsm23(e)': 1000.0, 'EX_cu2(e)': 1000.0, 'EX_cvm1gluc(e)': 1000.0, 'EX_cvm23gluc(e)': 1000.0, 'EX_czp(e)': 1000.0, 'EX_daa(e)': 1000.0, 'EX_daa_glc(e)': 1000.0, 'EX_dcf(e)': 1000.0, 'EX_dcf_glc(e)': 1000.0, 'EX_ddea(e)': 1000.0, 'EX_ddea_glc(e)': 1000.0, 'EX_des_astzl(e)': 1000.0, 'EX_des_astzl_glc(e)': 1000.0, 'EX_dextrin(e)': 1000.0, 'EX_dfdcytd(e)': 1000.0, 'EX_dfduri(e)': 1000.0, 'EX_dgchol(e)': 1000.0, 'EX_digoxin(e)': 1000.0, 'EX_digoxin_glc(e)': 1000.0, 'EX_dlb(e)': 1000.0, 'EX_dlb_glc(e)': 1000.0, 'EX_dnpz_5des(e)': 1000.0, 'EX_dnpz_6des(e)': 1000.0, 'EX_dnpz_m11(e)': 1000.0, 'EX_dnpz_m12(e)': 1000.0, 'EX_dnpz_m13(e)': 1000.0, 'EX_dnpz_m14(e)': 1000.0, 'EX_dnpz_m9(e)': 1000.0, 'EX_doh_etr(e)': 1000.0, 'EX_doh_etr_glc(e)': 1000.0, 'EX_doh_vcz(e)': 1000.0, 'EX_doh_vcz_glc(e)': 1000.0, 'EX_drib(e)': 1000.0, 'EX_dxo(e)': 1000.0, 'EX_dxo_glc(e)': 1000.0, 'EX_efv(e)': 1000.0, 'EX_efv_glc(e)': 1000.0, 'EX_eltr(e)': 1000.0, 'EX_eltr_glc(e)': 1000.0, 'EX_eltr_m3(e)': 1000.0, 'EX_eltr_m4(e)': 1000.0, 'EX_estradiol(e)': 1000.0, 'EX_estradiolglc(e)': 1000.0, 'EX_estriol(e)': 1000.0, 'EX_estriolglc(e)': 1000.0, 'EX_estrone(e)': 1000.0, 'EX_estroneglc(e)': 1000.0, 'EX_etoh(e)': 1000.0, 'EX_eztmb(e)': 1000.0, 'EX_eztmb_glc(e)': 1000.0, 'EX_f1a(e)': 1000.0, 'EX_f1a_rl(e)': 1000.0, 'EX_fe2(e)': 1000.0, 'EX_fe3(e)': 1000.0, 'EX_fol(e)': 1000.0, 'EX_for(e)': 1000.0, 'EX_fru(e)': 1000.0, 'EX_fuc_L(e)': 1000.0, 'EX_fum(e)': 1000.0, 'EX_fvs(e)': 1000.0, 'EX_fvsgluc(e)': 1000.0, 'EX_fvstet(e)': 1000.0, 'EX_fvstetglu(e)': 1000.0, 'EX_gal(e)': 1000.0, 'EX_gal1a3acgal(e)': 1000.0, 'EX_gal1b3acgal(e)': 1000.0, 'EX_galmannan(e)': 1000.0, 'EX_galur(e)': 1000.0, 'EX_gam(e)': 1000.0, 'EX_gchola(e)': 1000.0, 'EX_glc3meacp(e)': 1000.0, 'EX_glc_D(e)': 1000.0, 'EX_glcmannan(e)': 1000.0, 'EX_glcur(e)': 1000.0, 'EX_gltmn(e)': 1000.0, 'EX_gltmn_glc(e)': 1000.0, 'EX_glu_L(e)': 1000.0, 'EX_gly(e)': 1000.0, 'EX_glyasn(e)': 1000.0, 'EX_glyasp(e)': 1000.0, 'EX_glyc(e)': 1000.0, 'EX_glycys(e)': 1000.0, 'EX_glygln(e)': 1000.0, 'EX_glyglu(e)': 1000.0, 'EX_glygn2(e)': 1000.0, 'EX_glygn4(e)': 1000.0, 'EX_glygn5(e)': 1000.0, 'EX_glyleu(e)': 1000.0, 'EX_glymet(e)': 1000.0, 'EX_glyphe(e)': 1000.0, 'EX_glypro(e)': 1000.0, 'EX_glytyr(e)': 1000.0, 'EX_gmfl(e)': 1000.0, 'EX_gmfl_glc(e)': 1000.0, 'EX_gmfl_mI(e)': 1000.0, 'EX_gmfl_mII(e)': 1000.0, 'EX_gmfl_mIII(e)': 1000.0, 'EX_gmfl_mIII_glc(e)': 1000.0, 'EX_gmfl_mII_glc(e)': 1000.0, 'EX_gmfl_mI_glc(e)': 1000.0, 'EX_gncore1(e)': 1000.0, 'EX_gncore1_rl(e)': 1000.0, 'EX_gncore2(e)': 1000.0, 'EX_gncore2_rl(e)': 1000.0, 'EX_gtacmp(e)': 1000.0, 'EX_h(e)': 1000.0, 'EX_h2(e)': 1000.0, 'EX_h2o(e)': 1000.0, 'EX_hg2(e)': 1000.0, 'EX_hst(e)': 1000.0, 'EX_hst_37_diglc(e)': 1000.0, 'EX_hst_3_glc(e)': 1000.0, 'EX_hst_3_s(e)': 1000.0, 'EX_hst_3glc_7s(e)': 1000.0, 'EX_hst_7_glc(e)': 1000.0, 'EX_hst_7_s(e)': 1000.0, 'EX_hst_7glc_3s(e)': 1000.0, 'EX_ibup_S(e)': 1000.0, 'EX_ibupgluc(e)': 1000.0, 'EX_ile_L(e)': 1000.0, 'EX_imn(e)': 1000.0, 'EX_imn_glc(e)': 1000.0, 'EX_inulin(e)': 1000.0, 'EX_inv(e)': 1000.0, 'EX_inv_m1(e)': 1000.0, 'EX_isosorbide_5mn(e)': 1000.0, 'EX_isosorbide_5mn_glc(e)': 1000.0, 'EX_k(e)': 1000.0, 'EX_kesto(e)': 1000.0, 'EX_kestopt(e)': 1000.0, 'EX_kestottr(e)': 1000.0, 'EX_kprofen(e)': 1000.0, 'EX_kprofen_glc(e)': 1000.0, 'EX_lac_D(e)': 1000.0, 'EX_lac_L(e)': 1000.0, 'EX_lactl(e)': 1000.0, 'EX_leu_L(e)': 1000.0, 'EX_lnlc(e)': 1000.0, 'EX_lnlncg(e)': 1000.0, 'EX_lst4exp(e)': 1000.0, 'EX_lstn(e)': 1000.0, 'EX_lstn1gluc(e)': 1000.0, 'EX_lstnm4(e)': 1000.0, 'EX_lstnm7(e)': 1000.0, 'EX_malt(e)': 1000.0, 'EX_malthx(e)': 1000.0, 'EX_malttr(e)': 1000.0, 'EX_man(e)': 1000.0, 'EX_mantr(e)': 1000.0, 'EX_mdz(e)': 1000.0, 'EX_mdz_glc(e)': 1000.0, 'EX_mdzglc(e)': 1000.0, 'EX_melib(e)': 1000.0, 'EX_met_D(e)': 1000.0, 'EX_met_L(e)': 1000.0, 'EX_metala(e)': 1000.0, 'EX_metsox_S_L(e)': 1000.0, 'EX_mg2(e)': 1000.0, 'EX_miso(e)': 1000.0, 'EX_miso_glc(e)': 1000.0, 'EX_mn2(e)': 1000.0, 'EX_mrphn(e)': 1000.0, 'EX_mrphn_3glc(e)': 1000.0, 'EX_mrphn_6glc(e)': 1000.0, 'EX_mtz(e)': 1000.0, 'EX_mtz_glc(e)': 1000.0, 'EX_na1(e)': 1000.0, 'EX_nac(e)': 1000.0, 'EX_nchlphncl(e)': 1000.0, 'EX_nh4(e)': 1000.0, 'EX_nsldp_m5(e)': 1000.0, 'EX_nsldp_m5_glc(e)': 1000.0, 'EX_nverp(e)': 1000.0, 'EX_nverp_glc(e)': 1000.0, 'EX_nzp(e)': 1000.0, 'EX_o2(e)': 1000.0, 'EX_odsm_egltmn(e)': 1000.0, 'EX_odsm_egltmn_glc(e)': 1000.0, 'EX_odsm_gltmn(e)': 1000.0, 'EX_odsm_gltmn_glc(e)': 1000.0, 'EX_oh_etr(e)': 1000.0, 'EX_oh_etr_glc(e)': 1000.0, 'EX_oh_pbl(e)': 1000.0, 'EX_oh_pbl_glc(e)': 1000.0, 'EX_pb(e)': 1000.0, 'EX_pcresol(e)': 1000.0, 'EX_phe_L(e)': 1000.0, 'EX_phppa(e)': 1000.0, 'EX_phppa_glc(e)': 1000.0, 'EX_phtn_glc(e)': 1000.0, 'EX_pi(e)': 1000.0, 'EX_pime(e)': 1000.0, 'EX_pnto_R(e)': 1000.0, 'EX_pro_L(e)': 1000.0, 'EX_prob(e)': 1000.0, 'EX_prob_glc(e)': 1000.0, 'EX_pront(e)': 1000.0, 'EX_pront_glc(e)': 1000.0, 'EX_propl(e)': 1000.0, 'EX_propl_glc(e)': 1000.0, 'EX_prx_mI(e)': 1000.0, 'EX_prx_mII(e)': 1000.0, 'EX_prx_mII_glc(e)': 1000.0, 'EX_prx_mI_glc(e)': 1000.0, 'EX_ptrc(e)': 1000.0, 'EX_ptvst(e)': 1000.0, 'EX_ptvstgluc(e)': 1000.0, 'EX_pullulan1200(e)': 1000.0, 'EX_pvs(e)': 1000.0, 'EX_pvsgluc(e)': 1000.0, 'EX_pydxn(e)': 1000.0, 'EX_pyr(e)': 1000.0, 'EX_r406(e)': 1000.0, 'EX_r406_glc(e)': 1000.0, 'EX_r529(e)': 1000.0, 'EX_r529_glc(e)': 1000.0, 'EX_raffin(e)': 1000.0, 'EX_rbflvrd(e)': 1000.0, 'EX_regfnb(e)': 1000.0, 'EX_regfnb_glc(e)': 1000.0, 'EX_rep(e)': 1000.0, 'EX_rep_glc(e)': 1000.0, 'EX_rib_D(e)': 1000.0, 'EX_ribflv(e)': 1000.0, 'EX_rpn_104557(e)': 1000.0, 'EX_rpn_104557_cb_glc(e)': 1000.0, 'EX_rpn_96990(e)': 1000.0, 'EX_rpn_96990_glc(e)': 1000.0, 'EX_rpn_oh(e)': 1000.0, 'EX_rpn_oh_glc(e)': 1000.0, 'EX_rsv(e)': 1000.0, 'EX_rsvgluc(e)': 1000.0, 'EX_sT_antigen(e)': 1000.0, 'EX_sT_antigen_rl(e)': 1000.0, 'EX_sTn_antigen(e)': 1000.0, 'EX_salcn(e)': 1000.0, 'EX_sb_611855(e)': 1000.0, 'EX_sb_y(e)': 1000.0, 'EX_sch_488128(e)': 1000.0, 'EX_sch_57871(e)': 1000.0, 'EX_sch_57871_glc(e)': 1000.0, 'EX_sfnd_1689(e)': 1000.0, 'EX_sfnd_1689_glc(e)': 1000.0, 'EX_sftz(e)': 1000.0, 'EX_sftz_glc(e)': 1000.0, 'EX_simvgluc(e)': 1000.0, 'EX_smap(e)': 1000.0, 'EX_smap_glc(e)': 1000.0, 'EX_smvacid(e)': 1000.0, 'EX_sn38(e)': 1000.0, 'EX_sn38g(e)': 1000.0, 'EX_so4(e)': 1000.0, 'EX_spmd(e)': 1000.0, 'EX_spz(e)': 1000.0, 'EX_spz_glc(e)': 1000.0, 'EX_spz_sfn(e)': 1000.0, 'EX_spz_sfn_glc(e)': 1000.0, 'EX_stg(e)': 1000.0, 'EX_stg_m3(e)': 1000.0, 'EX_stg_m4(e)': 1000.0, 'EX_strch1(e)': 1000.0, 'EX_strch2(e)': 1000.0, 'EX_stys(e)': 1000.0, 'EX_succ(e)': 1000.0, 'EX_sucr(e)': 1000.0, 'EX_tat(e)': 1000.0, 'EX_taur(e)': 1000.0, 'EX_tchola(e)': 1000.0, 'EX_tdchola(e)': 1000.0, 'EX_tgz(e)': 1000.0, 'EX_tgz_glc(e)': 1000.0, 'EX_thm(e)': 1000.0, 'EX_thsacmp(e)': 1000.0, 'EX_tlf_a(e)': 1000.0, 'EX_tlf_a_1a(e)': 1000.0, 'EX_tlf_a_1b(e)': 1000.0, 'EX_tlf_a_1x(e)': 1000.0, 'EX_tlf_a_2(e)': 1000.0, 'EX_tlf_a_2a(e)': 1000.0, 'EX_tlf_a_3(e)': 1000.0, 'EX_tlf_a_4(e)': 1000.0, 'EX_tlf_a_m1(e)': 1000.0, 'EX_tlf_a_m2(e)': 1000.0, 'EX_tlf_a_m3(e)': 1000.0, 'EX_tlf_a_m4(e)': 1000.0, 'EX_tlf_a_m4a(e)': 1000.0, 'EX_tlf_a_m5(e)': 1000.0, 'EX_tlf_a_m5a(e)': 1000.0, 'EX_tlf_a_m5b(e)': 1000.0, 'EX_tlf_a_m6(e)': 1000.0, 'EX_tlf_a_m9(e)': 1000.0, 'EX_tlms(e)': 1000.0, 'EX_tlms_glc(e)': 1000.0, 'EX_tmacmp(e)': 1000.0, 'EX_tolcp(e)': 1000.0, 'EX_tolcp_ac(e)': 1000.0, 'EX_tolcp_ac_glc(e)': 1000.0, 'EX_tolcp_am(e)': 1000.0, 'EX_tolcp_am_glc(e)': 1000.0, 'EX_tolcp_glc(e)': 1000.0, 'EX_tpno_1glc_4g(e)': 1000.0, 'EX_tpno_4g(e)': 1000.0, 'EX_tpno_4glc(e)': 1000.0, 'EX_tpnoh(e)': 1000.0, 'EX_trp_L(e)': 1000.0, 'EX_tsacmgluc(e)': 1000.0, 'EX_tsul(e)': 1000.0, 'EX_ura(e)': 1000.0, 'EX_val_L(e)': 1000.0, 'EX_xyl_D(e)': 1000.0, 'EX_xylan(e)': 1000.0, 'EX_xylottr(e)': 1000.0, 'EX_zn2(e)': 1000.0}\n",
      "cobalt2[c]\n",
      "==========\n",
      "Formula: Co\n",
      "\n",
      "Producing Reactions\n",
      "-------------------\n",
      "Percent   Flux Reaction                                                          Definition\n",
      "100.00% 0.5287    Coabc atp[c] + cobalt2[e] + h2o[c] --> adp[c] + cobalt2[c] + h[c] + pi[c]\n",
      "\n",
      "Consuming Reactions\n",
      "-------------------\n",
      "Percent    Flux   Reaction                                                                      Definition\n",
      "100.00% -0.5287 biomass525 0.0078094 ACP[c] + 0.092476 PGP[c] + 0.50006 ala_L[c] + 0.0078094 amet[c] + ...\n",
      "1000.0\n",
      "1000.0\n",
      "None\n"
     ]
    }
   ],
   "source": [
    "print(roseburia_cobra_model.medium)\n",
    "\n",
    "\n",
    "#print(roseburia_cobra_model.metabolites.get_by_id(\"ac[c]\").summary())\n",
    "#print(roseburia_cobra_model.reactions.get_by_id(\"EX_ac(e)\"))\n",
    "\n",
    "\n",
    "#print(roseburia_cobra_model.metabolites.get_by_id(\"glc_D[c]\").summary())\n",
    "#print(roseburia_cobra_model.reactions.get_by_id(\"EX_glc_D(e)\"))\n",
    "\n",
    "\n",
    "#print(roseburia_cobra_model.metabolites.get_by_id(\"h2o[c]\").summary())\n",
    "#print(roseburia_cobra_model.reactions.get_by_id(\"EX_h2o(e)\"))\n",
    "\n",
    "\n",
    "print(roseburia_cobra_model.metabolites.get_by_id(\"cobalt2[c]\").summary())\n",
    "\n",
    "\n",
    "print(roseburia_cobra_model.medium.get(\"EX_glc_D(e)\"))\n",
    "print(roseburia_cobra_model.medium.get(\"EX_h2o(e)\"))\n",
    "print(roseburia_cobra_model.medium.get(\"cobalt2(e)\"))\n"
   ]
  },
  {
   "cell_type": "markdown",
   "metadata": {},
   "source": [
    "# Running FBA, FVA"
   ]
  },
  {
   "cell_type": "code",
   "execution_count": 49,
   "metadata": {},
   "outputs": [
    {
     "name": "stdout",
     "output_type": "stream",
     "text": [
      "67.6979531675927\n",
      "Objective\n",
      "=========\n",
      "1.0 biomass525 = 67.6979531675927\n",
      "\n",
      "Uptake\n",
      "------\n",
      "     Metabolite       Reaction   Flux  C-Number C-Flux\n",
      "       acald[e]    EX_acald(e)   1000         2  8.60%\n",
      "       ala_L[e]    EX_ala_L(e)  24.53         3  0.32%\n",
      "      alahis[e]   EX_alahis(e)   6.27         9  0.24%\n",
      "      alathr[e]   EX_alathr(e)   16.7         7  0.50%\n",
      "        anzp[e]     EX_anzp(e)  465.9        15 30.05%\n",
      "         ca2[e]      EX_ca2(e) 0.5287         0  0.00%\n",
      "         cit[e]      EX_cit(e)  1.057         6  0.03%\n",
      "          cl[e]       EX_cl(e) 0.5287         0  0.00%\n",
      "     cobalt2[e]  EX_cobalt2(e) 0.5287         0  0.00%\n",
      "         cu2[e]      EX_cu2(e) 0.5287         0  0.00%\n",
      "         fe2[e]      EX_fe2(e) 0.5287         0  0.00%\n",
      "         fe3[e]      EX_fe3(e) 0.5287         0  0.00%\n",
      "         for[e]      EX_for(e)   74.8         1  0.32%\n",
      "       glu_L[e]    EX_glu_L(e)  60.44         5  1.30%\n",
      "      glyasn[e]   EX_glyasn(e)  15.89         6  0.41%\n",
      "      glycys[e]   EX_glycys(e)  7.081         5  0.15%\n",
      "      glyleu[e]   EX_glyleu(e)  40.16         8  1.38%\n",
      "      glyphe[e]   EX_glyphe(e)  12.22        11  0.58%\n",
      "      glytyr[e]   EX_glytyr(e)  9.088        11  0.43%\n",
      "       ile_L[e]    EX_ile_L(e)  19.13         6  0.49%\n",
      "      inulin[e]   EX_inulin(e)  1.515       180  1.17%\n",
      "           k[e]        EX_k(e) 0.5287         0  0.00%\n",
      "       lac_L[e]    EX_lac_L(e)  70.17         3  0.91%\n",
      "      metala[e]   EX_metala(e)  10.64         8  0.37%\n",
      "         mg2[e]      EX_mg2(e) 0.5287         0  0.00%\n",
      "         mn2[e]      EX_mn2(e) 0.5287         0  0.00%\n",
      "         na1[e]      EX_na1(e)   1000         0  0.00%\n",
      "         nac[e]      EX_nac(e)  1.057         6  0.03%\n",
      "         nh4[e]      EX_nh4(e)  297.3         0  0.00%\n",
      "          pi[e]       EX_pi(e)  100.2         0  0.00%\n",
      "      pnto_R[e]   EX_pnto_R(e)  1.057         9  0.04%\n",
      "       pro_L[e]    EX_pro_L(e)  14.58         5  0.31%\n",
      "         pyr[e]      EX_pyr(e)  141.8         3  1.83%\n",
      "      ribflv[e]   EX_ribflv(e)  1.057        17  0.08%\n",
      "         so4[e]      EX_so4(e) 0.5287         0  0.00%\n",
      "        sucr[e]     EX_sucr(e)  956.1        12 49.34%\n",
      "       trp_L[e]    EX_trp_L(e)  3.734        11  0.18%\n",
      "         ura[e]      EX_ura(e)     20         4  0.34%\n",
      "       val_L[e]    EX_val_L(e)  27.86         5  0.60%\n",
      "         zn2[e]      EX_zn2(e) 0.5287         0  0.00%\n",
      "      dnarep[c]   dreplication   67.7         0  0.00%\n",
      "proteinsynth[c]  pbiosynthesis   67.7         0  0.00%\n",
      "    rnatrans[c] rtranscription   67.7         0  0.00%\n",
      "       PGPm1[c]  sink_PGPm1[c] 0.3668         0  0.00%\n",
      "\n",
      "Secretion\n",
      "---------\n",
      "Metabolite      Reaction   Flux  C-Number C-Flux\n",
      "    na1[c]        DM_NA1  -1000         0  0.00%\n",
      "     ac[e]      EX_ac(e) -19.52         2  0.19%\n",
      "biomass[c] EX_biomass(e)  -67.7         0  0.00%\n",
      "    but[e]     EX_but(e)  -1000         4 19.72%\n",
      "    co2[e]     EX_co2(e) -941.3         1  4.64%\n",
      "   etoh[e]    EX_etoh(e)  -1000         2  9.86%\n",
      "    fru[e]     EX_fru(e)  -1000         6 29.57%\n",
      "    fum[e]     EX_fum(e) -64.37         4  1.27%\n",
      "      h[e]       EX_h(e) -983.7         0  0.00%\n",
      "    h2o[e]     EX_h2o(e) -440.4         0  0.00%\n",
      "  leu_L[e]   EX_leu_L(e) -10.46         6  0.31%\n",
      "    nzp[e]     EX_nzp(e) -465.9        15 34.44%\n",
      "\n"
     ]
    },
    {
     "data": {
      "text/html": [
       "<div>\n",
       "<style scoped>\n",
       "    .dataframe tbody tr th:only-of-type {\n",
       "        vertical-align: middle;\n",
       "    }\n",
       "\n",
       "    .dataframe tbody tr th {\n",
       "        vertical-align: top;\n",
       "    }\n",
       "\n",
       "    .dataframe thead th {\n",
       "        text-align: right;\n",
       "    }\n",
       "</style>\n",
       "<table border=\"1\" class=\"dataframe\">\n",
       "  <thead>\n",
       "    <tr style=\"text-align: right;\">\n",
       "      <th></th>\n",
       "      <th>minimum</th>\n",
       "      <th>maximum</th>\n",
       "    </tr>\n",
       "  </thead>\n",
       "  <tbody>\n",
       "    <tr>\n",
       "      <th>1HIBUPGLU_Sabc</th>\n",
       "      <td>0.0</td>\n",
       "      <td>0.000000e+00</td>\n",
       "    </tr>\n",
       "    <tr>\n",
       "      <th>1HIBUP_S_GLCAASE</th>\n",
       "      <td>0.0</td>\n",
       "      <td>0.000000e+00</td>\n",
       "    </tr>\n",
       "    <tr>\n",
       "      <th>1HIBUP_Ste</th>\n",
       "      <td>0.0</td>\n",
       "      <td>0.000000e+00</td>\n",
       "    </tr>\n",
       "    <tr>\n",
       "      <th>1HMDGLUC_GLCAASE</th>\n",
       "      <td>0.0</td>\n",
       "      <td>7.844392e-12</td>\n",
       "    </tr>\n",
       "    <tr>\n",
       "      <th>1HMDGLUCabc</th>\n",
       "      <td>0.0</td>\n",
       "      <td>0.000000e+00</td>\n",
       "    </tr>\n",
       "    <tr>\n",
       "      <th>1OHMDZte</th>\n",
       "      <td>0.0</td>\n",
       "      <td>0.000000e+00</td>\n",
       "    </tr>\n",
       "    <tr>\n",
       "      <th>23DHMPO</th>\n",
       "      <td>-1000.0</td>\n",
       "      <td>1.000000e+03</td>\n",
       "    </tr>\n",
       "    <tr>\n",
       "      <th>23PDE2</th>\n",
       "      <td>0.0</td>\n",
       "      <td>0.000000e+00</td>\n",
       "    </tr>\n",
       "    <tr>\n",
       "      <th>23PDE4</th>\n",
       "      <td>0.0</td>\n",
       "      <td>0.000000e+00</td>\n",
       "    </tr>\n",
       "    <tr>\n",
       "      <th>23PDE7</th>\n",
       "      <td>0.0</td>\n",
       "      <td>0.000000e+00</td>\n",
       "    </tr>\n",
       "  </tbody>\n",
       "</table>\n",
       "</div>"
      ],
      "text/plain": [
       "                  minimum       maximum\n",
       "1HIBUPGLU_Sabc        0.0  0.000000e+00\n",
       "1HIBUP_S_GLCAASE      0.0  0.000000e+00\n",
       "1HIBUP_Ste            0.0  0.000000e+00\n",
       "1HMDGLUC_GLCAASE      0.0  7.844392e-12\n",
       "1HMDGLUCabc           0.0  0.000000e+00\n",
       "1OHMDZte              0.0  0.000000e+00\n",
       "23DHMPO           -1000.0  1.000000e+03\n",
       "23PDE2                0.0  0.000000e+00\n",
       "23PDE4                0.0  0.000000e+00\n",
       "23PDE7                0.0  0.000000e+00"
      ]
     },
     "execution_count": 49,
     "metadata": {},
     "output_type": "execute_result"
    }
   ],
   "source": [
    "solution = roseburia_cobra_model.optimize()\n",
    "print(solution.objective_value)\n",
    "\n",
    "print(roseburia_cobra_model.summary())\n",
    "\n",
    "flux_variability_analysis(roseburia_cobra_model, roseburia_cobra_model.reactions[:10])\n"
   ]
  }
 ],
 "metadata": {
  "kernelspec": {
   "display_name": "Python 3",
   "language": "python",
   "name": "python3"
  },
  "language_info": {
   "codemirror_mode": {
    "name": "ipython",
    "version": 3
   },
   "file_extension": ".py",
   "mimetype": "text/x-python",
   "name": "python",
   "nbconvert_exporter": "python",
   "pygments_lexer": "ipython3",
   "version": "3.10.12"
  }
 },
 "nbformat": 4,
 "nbformat_minor": 2
}
