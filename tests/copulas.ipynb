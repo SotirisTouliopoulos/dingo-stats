{
 "cells": [
  {
   "cell_type": "markdown",
   "id": "3fcf6761",
   "metadata": {},
   "source": [
    "### Load libraries"
   ]
  },
  {
   "cell_type": "code",
   "execution_count": 1,
   "id": "347f9d73",
   "metadata": {},
   "outputs": [],
   "source": [
    "from scipy.spatial.distance import jensenshannon\n",
    "import numpy as np\n",
    "import sys\n",
    "\n",
    "sys.path.insert(0, '../scripts/')\n",
    "from load_modify_sample_utils import load_model, get_objective_functions, get_reaction_bounds, modify_model\n",
    "from load_modify_sample_utils import sample_dingo, sample_optgp\n",
    "from correlations_utils import compute_copula\n",
    "from correlations_utils import plot_copula"
   ]
  },
  {
   "cell_type": "markdown",
   "id": "cbf8afe0",
   "metadata": {},
   "source": [
    "### Load model"
   ]
  },
  {
   "cell_type": "code",
   "execution_count": 2,
   "id": "b72b80fe",
   "metadata": {},
   "outputs": [
    {
     "name": "stdout",
     "output_type": "stream",
     "text": [
      "Set parameter Username\n",
      "Set parameter LicenseID to value 2634947\n",
      "Academic license - for non-commercial use only - expires 2026-03-11\n",
      "['BIOMASS_Ecoli_core_w_GAM']\n",
      "{'PFK': (0.0, 1000.0), 'PFL': (0.0, 1000.0), 'PGI': (-1000.0, 1000.0), 'PGK': (-1000.0, 1000.0), 'PGL': (0.0, 1000.0), 'ACALD': (-1000.0, 1000.0), 'AKGt2r': (-1000.0, 1000.0), 'PGM': (-1000.0, 1000.0), 'PIt2r': (-1000.0, 1000.0), 'ALCD2x': (-1000.0, 1000.0), 'ACALDt': (-1000.0, 1000.0), 'ACKr': (-1000.0, 1000.0), 'PPC': (0.0, 1000.0), 'ACONTa': (-1000.0, 1000.0), 'ACONTb': (-1000.0, 1000.0), 'ATPM': (8.39, 1000.0), 'PPCK': (0.0, 1000.0), 'ACt2r': (-1000.0, 1000.0), 'PPS': (0.0, 1000.0), 'ADK1': (-1000.0, 1000.0), 'AKGDH': (0.0, 1000.0), 'ATPS4r': (-1000.0, 1000.0), 'PTAr': (-1000.0, 1000.0), 'PYK': (0.0, 1000.0), 'BIOMASS_Ecoli_core_w_GAM': (0.0, 1000.0), 'PYRt2': (-1000.0, 1000.0), 'CO2t': (-1000.0, 1000.0), 'RPE': (-1000.0, 1000.0), 'CS': (0.0, 1000.0), 'RPI': (-1000.0, 1000.0), 'SUCCt2_2': (0.0, 1000.0), 'CYTBD': (0.0, 1000.0), 'D_LACt2': (-1000.0, 1000.0), 'ENO': (-1000.0, 1000.0), 'SUCCt3': (0.0, 1000.0), 'ETOHt2r': (-1000.0, 1000.0), 'SUCDi': (0.0, 1000.0), 'SUCOAS': (-1000.0, 1000.0), 'TALA': (-1000.0, 1000.0), 'THD2': (0.0, 1000.0), 'TKT1': (-1000.0, 1000.0), 'TKT2': (-1000.0, 1000.0), 'TPI': (-1000.0, 1000.0), 'EX_ac_e': (0.0, 1000.0), 'EX_acald_e': (0.0, 1000.0), 'EX_akg_e': (0.0, 1000.0), 'EX_co2_e': (-1000.0, 1000.0), 'EX_etoh_e': (0.0, 1000.0), 'EX_for_e': (0.0, 1000.0), 'EX_fru_e': (0.0, 1000.0), 'EX_fum_e': (0.0, 1000.0), 'EX_glc__D_e': (-10.0, 1000.0), 'EX_gln__L_e': (0.0, 1000.0), 'EX_glu__L_e': (0.0, 1000.0), 'EX_h_e': (-1000.0, 1000.0), 'EX_h2o_e': (-1000.0, 1000.0), 'EX_lac__D_e': (0.0, 1000.0), 'EX_mal__L_e': (0.0, 1000.0), 'EX_nh4_e': (-1000.0, 1000.0), 'EX_o2_e': (-1000.0, 1000.0), 'EX_pi_e': (-1000.0, 1000.0), 'EX_pyr_e': (0.0, 1000.0), 'EX_succ_e': (0.0, 1000.0), 'FBA': (-1000.0, 1000.0), 'FBP': (0.0, 1000.0), 'FORt2': (0.0, 1000.0), 'FORt': (-1000.0, 0.0), 'FRD7': (0.0, 1000.0), 'FRUpts2': (0.0, 1000.0), 'FUM': (-1000.0, 1000.0), 'FUMt2_2': (0.0, 1000.0), 'G6PDH2r': (-1000.0, 1000.0), 'GAPD': (-1000.0, 1000.0), 'GLCpts': (0.0, 1000.0), 'GLNS': (0.0, 1000.0), 'GLNabc': (0.0, 1000.0), 'GLUDy': (-1000.0, 1000.0), 'GLUN': (0.0, 1000.0), 'GLUSy': (0.0, 1000.0), 'GLUt2r': (-1000.0, 1000.0), 'GND': (0.0, 1000.0), 'H2Ot': (-1000.0, 1000.0), 'ICDHyr': (-1000.0, 1000.0), 'ICL': (0.0, 1000.0), 'LDH_D': (-1000.0, 1000.0), 'MALS': (0.0, 1000.0), 'MALt2_2': (0.0, 1000.0), 'MDH': (-1000.0, 1000.0), 'ME1': (0.0, 1000.0), 'ME2': (0.0, 1000.0), 'NADH16': (0.0, 1000.0), 'NADTRHD': (0.0, 1000.0), 'NH4t': (-1000.0, 1000.0), 'O2t': (-1000.0, 1000.0), 'PDH': (0.0, 1000.0)}\n"
     ]
    }
   ],
   "source": [
    "ec_cobra_model, ec_cobra_reactions, ec_dingo_model, ec_dingo_reactions = load_model(\"../ext_data/models/e_coli_core.xml\")\n",
    "\n",
    "objective_functions = get_objective_functions(ec_cobra_model)\n",
    "print(objective_functions)\n",
    "\n",
    "default_reaction_bounds = get_reaction_bounds(ec_cobra_model)\n",
    "print(default_reaction_bounds)\n"
   ]
  },
  {
   "cell_type": "markdown",
   "id": "28ef23a6",
   "metadata": {},
   "source": [
    "### Modify model and perform sampling"
   ]
  },
  {
   "cell_type": "code",
   "execution_count": 3,
   "id": "1ff3a8fa",
   "metadata": {},
   "outputs": [
    {
     "name": "stdout",
     "output_type": "stream",
     "text": [
      "Read LP format model from file /tmp/tmphsmp28dh.lp\n",
      "Reading time = 0.00 seconds\n",
      ": 72 rows, 190 columns, 720 nonzeros\n",
      "Read LP format model from file /tmp/tmpc3drhwnh.lp\n",
      "Reading time = 0.00 seconds\n",
      ": 72 rows, 190 columns, 720 nonzeros\n",
      "Set parameter Username\n",
      "Set parameter LicenseID to value 2634947\n",
      "Academic license - for non-commercial use only - expires 2026-03-11\n",
      "phase 1: number of correlated samples = 500, effective sample size = 5, ratio of the maximum singilar value over the minimum singular value = 5070.45\n",
      "phase 2: number of correlated samples = 500, effective sample size = 14, ratio of the maximum singilar value over the minimum singular value = 171.93\n",
      "phase 3: number of correlated samples = 500, effective sample size = 3, ratio of the maximum singilar value over the minimum singular value = 239.065\n",
      "phase 4: number of correlated samples = 500, effective sample size = 49, ratio of the maximum singilar value over the minimum singular value = 34.9643\n",
      "phase 5: number of correlated samples = 500, effective sample size = 123, ratio of the maximum singilar value over the minimum singular value = 2.3796\n",
      "phase 6: number of correlated samples = 2400, effective sample size = 1027\n",
      "phase 7: number of correlated samples = 1900, effective sample size = 828\n",
      "[5]total ess 2049: number of correlated samples = 6800\n",
      "\n",
      "\n",
      "(95, 6800)\n"
     ]
    },
    {
     "name": "stderr",
     "output_type": "stream",
     "text": [
      "[5]maximum marginal PSRF: 1.01349\n"
     ]
    },
    {
     "name": "stdout",
     "output_type": "stream",
     "text": [
      "phase 1: number of correlated samples = 500, effective sample size = 3, ratio of the maximum singilar value over the minimum singular value = 4645.94\n",
      "phase 2: number of correlated samples = 500, effective sample size = 18, ratio of the maximum singilar value over the minimum singular value = 136.71\n",
      "phase 3: number of correlated samples = 500, effective sample size = 22, ratio of the maximum singilar value over the minimum singular value = 140.524\n",
      "phase 4: number of correlated samples = 500, effective sample size = 49, ratio of the maximum singilar value over the minimum singular value = 46.892\n",
      "phase 5: number of correlated samples = 500, effective sample size = 142, ratio of the maximum singilar value over the minimum singular value = 2.56059\n",
      "phase 6: number of correlated samples = 2400, effective sample size = 1135\n",
      "phase 7: number of correlated samples = 1500, effective sample size = 757\n",
      "[5]total ess 2126: number of correlated samples = 6400\n",
      "\n",
      "\n",
      "(95, 6400)\n"
     ]
    },
    {
     "name": "stderr",
     "output_type": "stream",
     "text": [
      "[5]maximum marginal PSRF: 1.00704\n"
     ]
    }
   ],
   "source": [
    "_, ec_dingo_model_condition_100 = modify_model(ec_cobra_model, objective_function=\"BIOMASS_Ecoli_core_w_GAM\", optimal_percentage=100)\n",
    "_, ec_dingo_model_condition_0 = modify_model(ec_cobra_model, objective_function=\"BIOMASS_Ecoli_core_w_GAM\", optimal_percentage=0)\n",
    "\n",
    "\n",
    "samples_dingo_condition_100 = sample_dingo(ec_dingo_model_condition_100, reaction_in_rows = True, ess=2000)\n",
    "print(samples_dingo_condition_100.shape)\n",
    "\n",
    "samples_dingo_condition_0 = sample_dingo(ec_dingo_model_condition_0, reaction_in_rows = True, ess=2000)\n",
    "print(samples_dingo_condition_0.shape)\n"
   ]
  },
  {
   "cell_type": "markdown",
   "id": "88046028",
   "metadata": {},
   "source": [
    "Below a test function shows how the corresponding `copula_tail_dependence` works in `correlations_utils.py`. \n",
    "\n",
    "We can see which are the _cells_ (positions) that are selected in each edge of the copula."
   ]
  },
  {
   "cell_type": "code",
   "execution_count": 5,
   "id": "8682b23d",
   "metadata": {},
   "outputs": [
    {
     "name": "stdout",
     "output_type": "stream",
     "text": [
      "[(0, 0), (0, 1), (0, 2), (1, 0), (1, 1), (1, 2), (1, 3), (2, 0), (2, 1), (2, 2), (2, 3), (2, 4), (3, 1), (3, 2), (3, 3), (4, 2)] \n",
      " [(5, 7), (6, 6), (6, 7), (6, 8), (7, 5), (7, 6), (7, 7), (7, 8), (7, 9), (8, 6), (8, 7), (8, 8), (8, 9), (9, 7), (9, 8), (9, 9)] \n",
      " [(0, 7), (0, 8), (0, 9), (1, 6), (1, 7), (1, 8), (1, 9), (2, 5), (2, 6), (2, 7), (2, 8), (2, 9), (3, 6), (3, 7), (3, 8), (4, 7)] \n",
      " [(5, 2), (6, 1), (6, 2), (6, 3), (7, 0), (7, 1), (7, 2), (7, 3), (7, 4), (8, 0), (8, 1), (8, 2), (8, 3), (9, 0), (9, 1), (9, 2)]\n",
      "16 16 16 16\n",
      "0.06203124999999999 0.6773437500000001 0.09158016147635521\n"
     ]
    }
   ],
   "source": [
    "import plotly.io as pio\n",
    "pio.renderers.default = 'browser'\n",
    "\n",
    "def copula_tail_dependence_test(copula, cop_coeff_1, cop_coeff_2, cop_coeff_3):\n",
    "\n",
    "    rows, cols = copula.shape\n",
    "    \n",
    "    red_mass = 0\n",
    "    blue_mass = 0\n",
    "        \n",
    "    top_left_count = 0\n",
    "    bottom_right_count = 0\n",
    "    top_right_count = 0\n",
    "    bottom_left_count = 0\n",
    "    \n",
    "    top_left = []\n",
    "    bottom_right = []\n",
    "    top_right = []\n",
    "    bottom_left = []\n",
    "    \n",
    "                    \n",
    "    for row in range(rows):\n",
    "        for col in range(cols):\n",
    "            # values in the diagonal\n",
    "            if ((row-col >= -cop_coeff_1*rows) & (row-col <= cop_coeff_1*rows)): \n",
    "                # values near the top left\n",
    "                if (row+col < cop_coeff_2*rows -1):\n",
    "                    red_mass = red_mass + copula[row][col]       \n",
    "                    top_left_count = top_left_count + 1\n",
    "                    top_left.append((row, col))\n",
    "                    \n",
    "                # values near the bottom right\n",
    "                elif (row+col > cop_coeff_3*rows -1):\n",
    "                    red_mass = red_mass + copula[row][col]       \n",
    "                    bottom_right_count = bottom_right_count + 1\n",
    "                    bottom_right.append((row, col))\n",
    "            \n",
    "            # values in the other diagonal\n",
    "            else:\n",
    "                # values near the top right and bottom left corner\n",
    "                if (row+col >= cop_coeff_2*rows -1) & (row+col <= cop_coeff_3*rows -1):                    \n",
    "                    # values near the top right\n",
    "                    if row < rows / 2:\n",
    "                        blue_mass = blue_mass + copula[row][col]       \n",
    "                        top_right_count = top_right_count + 1\n",
    "                        top_right.append((row, col))\n",
    "                    \n",
    "                    # values near the bottom left\n",
    "                    elif row >= rows / 2:\n",
    "                        blue_mass = blue_mass + copula[row][col]       \n",
    "                        bottom_left_count = bottom_left_count + 1\n",
    "                        bottom_left.append((row, col))\n",
    "                                                \n",
    "\n",
    "    print(top_left, \"\\n\", bottom_right, \"\\n\", top_right, \"\\n\" , bottom_left)\n",
    "    print(top_left_count, bottom_right_count, top_right_count, bottom_left_count)\n",
    "    print(red_mass, blue_mass, red_mass/blue_mass)\n",
    "\n",
    "    \n",
    "\n",
    "# parameters for the width of the copula's diagonal\n",
    "cop_coeff = 0.2\n",
    "cop_coeff_1 = cop_coeff\n",
    "cop_coeff_2 = 1 - cop_coeff\n",
    "cop_coeff_3 = 1 + cop_coeff\n",
    "\n",
    "n1 = ec_dingo_reactions.index(\"PGK\")\n",
    "n2 = ec_dingo_reactions.index(\"PFK\")\n",
    "\n",
    "flux1 = np.absolute(samples_dingo_condition_0[n1])    # do you need this in this case? \n",
    "flux2 = np.absolute(samples_dingo_condition_0[n2])\n",
    "flux1 = samples_dingo_condition_0[n1]\n",
    "flux2 = samples_dingo_condition_0[n2]\n",
    "\n",
    "data_flux1=[flux1, ec_dingo_reactions[n1]]\n",
    "data_flux2=[flux2, ec_dingo_reactions[n2]]\n",
    "\n",
    "\n",
    "n = 10\n",
    "plot_copula(data_flux1, data_flux2, n = n)\n",
    "\n",
    "copula = compute_copula(flux1, flux2, n = n)\n",
    "copula_tail_dependence_test(copula, cop_coeff_1, cop_coeff_2, cop_coeff_3)"
   ]
  },
  {
   "cell_type": "markdown",
   "id": "f6c33a63",
   "metadata": {},
   "source": [
    "### Below arrays representing copulas are created to show how the jensenshannon distance works"
   ]
  },
  {
   "cell_type": "markdown",
   "id": "372601f2",
   "metadata": {},
   "source": [
    "Note: As long as you do not describe what we are looking at, it's hard to follow. \n",
    "Please describe the main conclusions from the `jensenshannon` experiments, as well as of the copulas above. \n",
    "\n",
    "It's not clear what you want to show in each case and/or why you are doing what you're doing.. "
   ]
  },
  {
   "cell_type": "code",
   "execution_count": 6,
   "id": "c0f4515e",
   "metadata": {},
   "outputs": [
    {
     "name": "stdout",
     "output_type": "stream",
     "text": [
      "0.0\n",
      "0.6785698641197397\n",
      "0.7799839057460577\n"
     ]
    }
   ],
   "source": [
    "\n",
    "\n",
    "cells = 5\n",
    "reference_copula = np.full( (cells, cells), (1 / (cells*cells)) )\n",
    "reference_copula_1_flat = reference_copula.flatten()\n",
    "\n",
    "\n",
    "reference_copula_2 = np.array([[0.25, 0.25, 0, 0, 0],\n",
    "                               [0.25, 0.25, 0, 0, 0],\n",
    "                               [0, 0, 0,  0, 0],\n",
    "                               [0, 0, 0,  0, 0],\n",
    "                               [0, 0, 0, 0,  0]])\n",
    "\n",
    "\n",
    "reference_copula_2_flat = reference_copula_2.flatten()\n",
    "\n",
    "\n",
    "reference_copula_3 = np.array([[1, 0, 0, 0, 0],\n",
    "                               [0, 0, 0, 0, 0],\n",
    "                               [0, 0, 0,  0, 0],\n",
    "                               [0, 0, 0,  0, 0],\n",
    "                               [0, 0, 0, 0,  0]])\n",
    "\n",
    "reference_copula_3_flat = reference_copula_3.flatten()\n",
    "\n",
    "\n",
    "# Compute Jensen-Shannon distance (range: 0 to 1)\n",
    "dist = jensenshannon(reference_copula_1_flat, reference_copula_1_flat)\n",
    "print(dist)\n",
    "\n",
    "dist = jensenshannon(reference_copula_1_flat, reference_copula_2_flat)\n",
    "print(dist)\n",
    "\n",
    "dist = jensenshannon(reference_copula_1_flat, reference_copula_3_flat)\n",
    "print(dist)\n",
    "\n"
   ]
  },
  {
   "cell_type": "code",
   "execution_count": 7,
   "id": "3b88571d",
   "metadata": {},
   "outputs": [],
   "source": [
    "import numpy as np\n",
    "cells = 100\n",
    "\n",
    "a = np.zeros((cells,cells))\n",
    "\n",
    "b = a.copy()\n",
    "b[0,0] = 1\n",
    "b_flat = b.flatten()\n",
    "\n",
    "c = a.copy()\n",
    "c[:10, :10] = 0.01\n",
    "c_flat = c.flatten()\n",
    "\n",
    "reference_copula = np.full( (cells, cells), (1 / (cells*cells)) )\n",
    "reference_copula_flat = reference_copula.flatten()"
   ]
  },
  {
   "cell_type": "code",
   "execution_count": 8,
   "id": "1eb3c3ad",
   "metadata": {},
   "outputs": [
    {
     "name": "stdout",
     "output_type": "stream",
     "text": [
      "0.8322479564657576\n",
      "0.8155344336992489\n"
     ]
    }
   ],
   "source": [
    "from scipy.spatial.distance import jensenshannon\n",
    "\n",
    "dist = jensenshannon(b_flat, reference_copula_flat)\n",
    "print(dist)\n",
    "\n",
    "dist = jensenshannon(c_flat, reference_copula_flat)\n",
    "print(dist)"
   ]
  }
 ],
 "metadata": {
  "kernelspec": {
   "display_name": "Python 3",
   "language": "python",
   "name": "python3"
  },
  "language_info": {
   "codemirror_mode": {
    "name": "ipython",
    "version": 3
   },
   "file_extension": ".py",
   "mimetype": "text/x-python",
   "name": "python",
   "nbconvert_exporter": "python",
   "pygments_lexer": "ipython3",
   "version": "3.12.2"
  }
 },
 "nbformat": 4,
 "nbformat_minor": 5
}
