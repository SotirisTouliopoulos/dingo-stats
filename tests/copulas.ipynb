{
 "cells": [
  {
   "cell_type": "code",
   "execution_count": 5,
   "id": "347f9d73",
   "metadata": {},
   "outputs": [],
   "source": [
    "\n",
    "from scipy.spatial.distance import jensenshannon\n",
    "import numpy as np\n",
    "import sys\n",
    "\n",
    "sys.path.insert(0, '../scripts/')\n",
    "from load_modify_sample_utils import load_model, get_objective_functions, get_reaction_bounds, modify_model, sample_gapsplit, plot_grid_95_reactions\n",
    "from load_modify_sample_utils import sample_dingo, sample_optgp, sampling_statistics\n",
    "from correlations_utils import compute_copula\n",
    "from correlations_utils import plot_copula\n"
   ]
  },
  {
   "cell_type": "code",
   "execution_count": 6,
   "id": "b72b80fe",
   "metadata": {},
   "outputs": [
    {
     "name": "stdout",
     "output_type": "stream",
     "text": [
      "Set parameter Username\n",
      "Set parameter LicenseID to value 2642044\n",
      "Academic license - for non-commercial use only - expires 2026-03-25\n",
      "['BIOMASS_Ecoli_core_w_GAM']\n",
      "{'PFK': (0.0, 1000.0), 'PFL': (0.0, 1000.0), 'PGI': (-1000.0, 1000.0), 'PGK': (-1000.0, 1000.0), 'PGL': (0.0, 1000.0), 'ACALD': (-1000.0, 1000.0), 'AKGt2r': (-1000.0, 1000.0), 'PGM': (-1000.0, 1000.0), 'PIt2r': (-1000.0, 1000.0), 'ALCD2x': (-1000.0, 1000.0), 'ACALDt': (-1000.0, 1000.0), 'ACKr': (-1000.0, 1000.0), 'PPC': (0.0, 1000.0), 'ACONTa': (-1000.0, 1000.0), 'ACONTb': (-1000.0, 1000.0), 'ATPM': (8.39, 1000.0), 'PPCK': (0.0, 1000.0), 'ACt2r': (-1000.0, 1000.0), 'PPS': (0.0, 1000.0), 'ADK1': (-1000.0, 1000.0), 'AKGDH': (0.0, 1000.0), 'ATPS4r': (-1000.0, 1000.0), 'PTAr': (-1000.0, 1000.0), 'PYK': (0.0, 1000.0), 'BIOMASS_Ecoli_core_w_GAM': (0.0, 1000.0), 'PYRt2': (-1000.0, 1000.0), 'CO2t': (-1000.0, 1000.0), 'RPE': (-1000.0, 1000.0), 'CS': (0.0, 1000.0), 'RPI': (-1000.0, 1000.0), 'SUCCt2_2': (0.0, 1000.0), 'CYTBD': (0.0, 1000.0), 'D_LACt2': (-1000.0, 1000.0), 'ENO': (-1000.0, 1000.0), 'SUCCt3': (0.0, 1000.0), 'ETOHt2r': (-1000.0, 1000.0), 'SUCDi': (0.0, 1000.0), 'SUCOAS': (-1000.0, 1000.0), 'TALA': (-1000.0, 1000.0), 'THD2': (0.0, 1000.0), 'TKT1': (-1000.0, 1000.0), 'TKT2': (-1000.0, 1000.0), 'TPI': (-1000.0, 1000.0), 'EX_ac_e': (0.0, 1000.0), 'EX_acald_e': (0.0, 1000.0), 'EX_akg_e': (0.0, 1000.0), 'EX_co2_e': (-1000.0, 1000.0), 'EX_etoh_e': (0.0, 1000.0), 'EX_for_e': (0.0, 1000.0), 'EX_fru_e': (0.0, 1000.0), 'EX_fum_e': (0.0, 1000.0), 'EX_glc__D_e': (-10.0, 1000.0), 'EX_gln__L_e': (0.0, 1000.0), 'EX_glu__L_e': (0.0, 1000.0), 'EX_h_e': (-1000.0, 1000.0), 'EX_h2o_e': (-1000.0, 1000.0), 'EX_lac__D_e': (0.0, 1000.0), 'EX_mal__L_e': (0.0, 1000.0), 'EX_nh4_e': (-1000.0, 1000.0), 'EX_o2_e': (-1000.0, 1000.0), 'EX_pi_e': (-1000.0, 1000.0), 'EX_pyr_e': (0.0, 1000.0), 'EX_succ_e': (0.0, 1000.0), 'FBA': (-1000.0, 1000.0), 'FBP': (0.0, 1000.0), 'FORt2': (0.0, 1000.0), 'FORt': (-1000.0, 0.0), 'FRD7': (0.0, 1000.0), 'FRUpts2': (0.0, 1000.0), 'FUM': (-1000.0, 1000.0), 'FUMt2_2': (0.0, 1000.0), 'G6PDH2r': (-1000.0, 1000.0), 'GAPD': (-1000.0, 1000.0), 'GLCpts': (0.0, 1000.0), 'GLNS': (0.0, 1000.0), 'GLNabc': (0.0, 1000.0), 'GLUDy': (-1000.0, 1000.0), 'GLUN': (0.0, 1000.0), 'GLUSy': (0.0, 1000.0), 'GLUt2r': (-1000.0, 1000.0), 'GND': (0.0, 1000.0), 'H2Ot': (-1000.0, 1000.0), 'ICDHyr': (-1000.0, 1000.0), 'ICL': (0.0, 1000.0), 'LDH_D': (-1000.0, 1000.0), 'MALS': (0.0, 1000.0), 'MALt2_2': (0.0, 1000.0), 'MDH': (-1000.0, 1000.0), 'ME1': (0.0, 1000.0), 'ME2': (0.0, 1000.0), 'NADH16': (0.0, 1000.0), 'NADTRHD': (0.0, 1000.0), 'NH4t': (-1000.0, 1000.0), 'O2t': (-1000.0, 1000.0), 'PDH': (0.0, 1000.0)}\n"
     ]
    }
   ],
   "source": [
    "\n",
    "ec_cobra_model, ec_cobra_reactions, ec_dingo_model, ec_dingo_reactions = load_model(\"../ext_data/models/e_coli_core.xml\")\n",
    "\n",
    "objective_functions = get_objective_functions(ec_cobra_model)\n",
    "print(objective_functions)\n",
    "\n",
    "default_reaction_bounds = get_reaction_bounds(ec_cobra_model)\n",
    "print(default_reaction_bounds)\n"
   ]
  },
  {
   "cell_type": "code",
   "execution_count": 7,
   "id": "1ff3a8fa",
   "metadata": {},
   "outputs": [
    {
     "name": "stdout",
     "output_type": "stream",
     "text": [
      "Read LP format model from file /tmp/tmpoetq4c10.lp\n",
      "Reading time = 0.00 seconds\n",
      ": 72 rows, 190 columns, 720 nonzeros\n",
      "Read LP format model from file /tmp/tmp7xflxwhi.lp\n",
      "Reading time = 0.00 seconds\n",
      ": 72 rows, 190 columns, 720 nonzeros\n",
      "Set parameter Username\n",
      "Set parameter LicenseID to value 2642044\n",
      "Academic license - for non-commercial use only - expires 2026-03-25\n",
      "phase 1: number of correlated samples = 500, effective sample size = 8, ratio of the maximum singilar value over the minimum singular value = 1086.65\n",
      "phase 2: number of correlated samples = 500, effective sample size = 7, ratio of the maximum singilar value over the minimum singular value = 277.058\n",
      "phase 3: number of correlated samples = 500, effective sample size = 6, ratio of the maximum singilar value over the minimum singular value = 96.1823\n",
      "phase 4: number of correlated samples = 500, effective sample size = 38, ratio of the maximum singilar value over the minimum singular value = 91.1664\n",
      "phase 5: number of correlated samples = 500, effective sample size = 199, ratio of the maximum singilar value over the minimum singular value = 3.18337\n",
      "phase 6: number of correlated samples = 500, effective sample size = 130, ratio of the maximum singilar value over the minimum singular value = 2.90318\n",
      "phase 7: number of correlated samples = 2400, effective sample size = 1065\n",
      "phase 8: number of correlated samples = 1300, effective sample size = 587"
     ]
    },
    {
     "name": "stderr",
     "output_type": "stream",
     "text": [
      "[5]maximum marginal PSRF: 1.12213\n"
     ]
    },
    {
     "name": "stdout",
     "output_type": "stream",
     "text": [
      "\n",
      "[5]total ess 2040: number of correlated samples = 6700\n",
      "\n",
      "\n",
      "(95, 6700)\n",
      "phase 1: number of correlated samples = 500, effective sample size = 3, ratio of the maximum singilar value over the minimum singular value = 1533.17\n",
      "phase 2: number of correlated samples = 500, effective sample size = 69, ratio of the maximum singilar value over the minimum singular value = 2.0516\n",
      "phase 3: number of correlated samples = 2400, effective sample size = 857\n",
      "phase 4: number of correlated samples = 2400, effective sample size = 860\n",
      "phase 5: number of correlated samples = 900, effective sample size = 283\n",
      "[5]total ess 2072: number of correlated samples = 6700\n",
      "\n",
      "\n",
      "(95, 6700)\n"
     ]
    },
    {
     "name": "stderr",
     "output_type": "stream",
     "text": [
      "[5]maximum marginal PSRF: 1.00744\n"
     ]
    }
   ],
   "source": [
    "\n",
    "ec_cobra_model_condition_1, ec_dingo_model_condition_1 = modify_model(ec_cobra_model, objective_function=\"BIOMASS_Ecoli_core_w_GAM\", optimal_percentage=100)\n",
    "ec_cobra_model_condition_2, ec_dingo_model_condition_2 = modify_model(ec_cobra_model, objective_function=\"BIOMASS_Ecoli_core_w_GAM\", optimal_percentage=50)\n",
    "\n",
    "\n",
    "samples_dingo_condition_1 = sample_dingo(ec_dingo_model_condition_1, reaction_in_rows = True, ess=2000)\n",
    "print(samples_dingo_condition_1.shape)\n",
    "\n",
    "samples_dingo_condition_2 = sample_dingo(ec_dingo_model_condition_2, reaction_in_rows = True, ess=2000)\n",
    "print(samples_dingo_condition_2.shape)\n"
   ]
  },
  {
   "cell_type": "code",
   "execution_count": null,
   "id": "8682b23d",
   "metadata": {},
   "outputs": [
    {
     "data": {
      "application/vnd.plotly.v1+json": {
       "config": {
        "plotlyServerURL": "https://plot.ly"
       },
       "data": [
        {
         "type": "surface",
         "z": [
          [
           0.03313432835820895,
           0.02298507462686567,
           0.02373134328358209,
           0.038507462686567163,
           0.08164179104477612
          ],
          [
           0.03671641791044776,
           0.04074626865671642,
           0.039701492537313435,
           0.04208955223880597,
           0.04074626865671642
          ],
          [
           0.04253731343283582,
           0.04611940298507463,
           0.04462686567164179,
           0.038358208955223884,
           0.028358208955223882
          ],
          [
           0.0482089552238806,
           0.04671641791044776,
           0.04462686567164179,
           0.03582089552238806,
           0.024626865671641792
          ],
          [
           0.03940298507462687,
           0.04343283582089552,
           0.047313432835820894,
           0.045223880597014925,
           0.024626865671641792
          ]
         ]
        }
       ],
       "layout": {
        "height": 600,
        "margin": {
         "b": 30,
         "l": 30,
         "r": 30,
         "t": 50
        },
        "scene": {
         "xaxis": {
          "title": {
           "text": "PFK"
          }
         },
         "yaxis": {
          "title": {
           "text": "PYK"
          }
         },
         "zaxis": {
          "title": {
           "text": "prob, mass"
          }
         }
        },
        "title": {
         "text": "Copula between PFK and PYK"
        },
        "width": 900
       }
      }
     },
     "metadata": {},
     "output_type": "display_data"
    },
    {
     "name": "stdout",
     "output_type": "stream",
     "text": [
      "[(0, 0), (0, 1), (1, 0), (1, 1)] \n",
      " [(3, 3), (3, 4), (4, 3), (4, 4)] \n",
      " [(0, 3), (0, 4), (1, 3), (1, 4)] \n",
      " [(3, 0), (3, 1), (4, 0), (4, 1)]\n",
      "4 4 4 4\n",
      "0.693061544492356\n"
     ]
    }
   ],
   "source": [
    "\n",
    "\n",
    "def copula_tail_dependence(copula, cop_coeff_1, cop_coeff_2, cop_coeff_3, indicator_cutoff):\n",
    "\n",
    "    rows, cols = copula.shape\n",
    "    \n",
    "    red_mass = 0\n",
    "    blue_mass = 0\n",
    "        \n",
    "    top_left_count = 0\n",
    "    bottom_right_count = 0\n",
    "    top_right_count = 0\n",
    "    bottom_left_count = 0\n",
    "    \n",
    "    top_left = []\n",
    "    bottom_right = []\n",
    "    top_right = []\n",
    "    bottom_left = []\n",
    "    \n",
    "                    \n",
    "    for row in range(rows):\n",
    "        for col in range(cols):\n",
    "            # values in the diagonal\n",
    "            if ((row-col >= -cop_coeff_1*rows) & (row-col <= cop_coeff_1*rows)): \n",
    "                # values near the top left\n",
    "                if (row+col < cop_coeff_2*rows -1):\n",
    "                    red_mass = red_mass + copula[row][col]       \n",
    "                    top_left_count = top_left_count + 1\n",
    "                    top_left.append((row, col))\n",
    "                    \n",
    "                # values near the bottom right\n",
    "                elif (row+col > cop_coeff_3*rows -1):\n",
    "                    red_mass = red_mass + copula[row][col]       \n",
    "                    bottom_right_count = bottom_right_count + 1\n",
    "                    bottom_right.append((row, col))\n",
    "            \n",
    "            # values in the other diagonal\n",
    "            else:\n",
    "                # values near the top right and bottom left corner\n",
    "                if (row+col >= cop_coeff_2*rows -1) & (row+col <= cop_coeff_3*rows -1):                    \n",
    "                    # values near the top right\n",
    "                    if row <= rows / 2:\n",
    "                        blue_mass = blue_mass + copula[row][col]       \n",
    "                        top_right_count = top_right_count + 1\n",
    "                        top_right.append((row, col))\n",
    "                    \n",
    "                    # values near the bottom left\n",
    "                    elif row > rows / 2:\n",
    "                        blue_mass = blue_mass + copula[row][col]       \n",
    "                        bottom_left_count = bottom_left_count + 1\n",
    "                        bottom_left.append((row, col))\n",
    "                                                \n",
    "\n",
    "    print(top_left, \"\\n\", bottom_right, \"\\n\", top_right, \"\\n\" , bottom_left)\n",
    "    print(top_left_count, bottom_right_count, top_right_count, bottom_left_count)\n",
    "    print(red_mass/blue_mass)\n",
    "\n",
    "    \n",
    "    \n",
    "    \n",
    "\n",
    "n = 5\n",
    "copula = np.zeros((n, n))\n",
    "\n",
    "cop_coeff = 0.2\n",
    "cop_coeff_1 = cop_coeff\n",
    "cop_coeff_2 = 1 - cop_coeff\n",
    "cop_coeff_3 = 1 + cop_coeff\n",
    "\n",
    "n1 = ec_dingo_reactions.index(\"PFK\")\n",
    "#n1 = ec_dingo_reactions.index(\"PGL\")\n",
    "n2 = ec_dingo_reactions.index(\"PYK\")\n",
    "flux1 = samples_dingo_condition_1[n1]\n",
    "flux2 = samples_dingo_condition_1[n2]\n",
    "data_flux1=[flux1,ec_dingo_reactions[n1]]\n",
    "data_flux2=[flux2,ec_dingo_reactions[n2]]\n",
    "\n",
    "\n",
    "\n",
    "plot_copula(data_flux1, data_flux2, n = n)\n",
    "n1 = ec_dingo_reactions.index(\"PFK\")\n",
    "\n",
    "copula = compute_copula(flux1, flux2, n = n)\n",
    "copula_tail_dependence(copula, cop_coeff_1, cop_coeff_2, cop_coeff_3, indicator_cutoff=1)\n",
    "\n",
    "\n"
   ]
  },
  {
   "cell_type": "code",
   "execution_count": 14,
   "id": "8663faee",
   "metadata": {},
   "outputs": [
    {
     "name": "stdout",
     "output_type": "stream",
     "text": [
      "0.11538769907325248\n"
     ]
    }
   ],
   "source": [
    "\n",
    "computed_copula = copula\n",
    "computed_copula_flat = computed_copula.flatten()\n",
    "\n",
    "\n",
    "reference_copula = np.full( (n, n), (1 / (n*n)) )\n",
    "reference_copula_flat = reference_copula.flatten()\n",
    "\n",
    "\n",
    "dist = jensenshannon(reference_copula_flat, computed_copula_flat)\n",
    "print(dist)\n"
   ]
  },
  {
   "cell_type": "code",
   "execution_count": 45,
   "id": "c0f4515e",
   "metadata": {},
   "outputs": [
    {
     "name": "stdout",
     "output_type": "stream",
     "text": [
      "0.0\n",
      "0.6785698641197397\n",
      "0.7799839057460577\n"
     ]
    }
   ],
   "source": [
    "\n",
    "\n",
    "cells = 5\n",
    "reference_copula = np.full( (cells, cells), (1 / (cells*cells)) )\n",
    "reference_copula_1_flat = reference_copula.flatten()\n",
    "\n",
    "\n",
    "reference_copula_2 = np.array([[0.25, 0.25, 0, 0, 0],\n",
    "                               [0.25, 0.25, 0, 0, 0],\n",
    "                               [0, 0, 0,  0, 0],\n",
    "                               [0, 0, 0,  0, 0],\n",
    "                               [0, 0, 0, 0,  0]])\n",
    "\n",
    "reference_copula_2_flat = reference_copula_2.flatten()\n",
    "\n",
    "\n",
    "reference_copula_3 = np.array([[1, 0, 0, 0, 0],\n",
    "                               [0, 0, 0, 0, 0],\n",
    "                               [0, 0, 0,  0, 0],\n",
    "                               [0, 0, 0,  0, 0],\n",
    "                               [0, 0, 0, 0,  0]])\n",
    "\n",
    "reference_copula_3_flat = reference_copula_3.flatten()\n",
    "\n",
    "\n",
    "# Compute Jensen-Shannon distance (range: 0 to 1)\n",
    "dist = jensenshannon(reference_copula_1_flat, reference_copula_1_flat)\n",
    "print(dist)\n",
    "\n",
    "dist = jensenshannon(reference_copula_1_flat, reference_copula_2_flat)\n",
    "print(dist)\n",
    "\n",
    "dist = jensenshannon(reference_copula_1_flat, reference_copula_3_flat)\n",
    "print(dist)\n",
    "\n"
   ]
  }
 ],
 "metadata": {
  "kernelspec": {
   "display_name": "Python 3",
   "language": "python",
   "name": "python3"
  },
  "language_info": {
   "codemirror_mode": {
    "name": "ipython",
    "version": 3
   },
   "file_extension": ".py",
   "mimetype": "text/x-python",
   "name": "python",
   "nbconvert_exporter": "python",
   "pygments_lexer": "ipython3",
   "version": "3.10.12"
  }
 },
 "nbformat": 4,
 "nbformat_minor": 5
}
