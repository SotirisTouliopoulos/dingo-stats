{
 "cells": [
  {
   "cell_type": "code",
   "execution_count": null,
   "id": "347f9d73",
   "metadata": {},
   "outputs": [
    {
     "name": "stderr",
     "output_type": "stream",
     "text": [
      "/home/touliopoulos/.local/lib/python3.10/site-packages/pandas/core/computation/expressions.py:21: UserWarning: Pandas requires version '2.8.4' or newer of 'numexpr' (version '2.8.1' currently installed).\n",
      "  from pandas.core.computation.check import NUMEXPR_INSTALLED\n",
      "/home/touliopoulos/.local/lib/python3.10/site-packages/pandas/core/arrays/masked.py:60: UserWarning: Pandas requires version '1.3.6' or newer of 'bottleneck' (version '1.3.2' currently installed).\n",
      "  from pandas.core import (\n"
     ]
    }
   ],
   "source": [
    "\n",
    "from scipy.spatial.distance import jensenshannon\n",
    "import numpy as np\n"
   ]
  },
  {
   "cell_type": "code",
   "execution_count": 45,
   "id": "c0f4515e",
   "metadata": {},
   "outputs": [
    {
     "name": "stdout",
     "output_type": "stream",
     "text": [
      "0.0\n",
      "0.6785698641197397\n",
      "0.7799839057460577\n"
     ]
    }
   ],
   "source": [
    "\n",
    "\n",
    "cells = 5\n",
    "reference_copula = np.full( (cells, cells), (1 / (cells*cells)) )\n",
    "reference_copula_1_flat = reference_copula.flatten()\n",
    "\n",
    "\n",
    "reference_copula_2 = np.array([[0.25, 0.25, 0, 0, 0],\n",
    "                               [0.25, 0.25, 0, 0, 0],\n",
    "                               [0, 0, 0,  0, 0],\n",
    "                               [0, 0, 0,  0, 0],\n",
    "                               [0, 0, 0, 0,  0]])\n",
    "\n",
    "reference_copula_2_flat = reference_copula_2.flatten()\n",
    "\n",
    "\n",
    "reference_copula_3 = np.array([[1, 0, 0, 0, 0],\n",
    "                               [0, 0, 0, 0, 0],\n",
    "                               [0, 0, 0,  0, 0],\n",
    "                               [0, 0, 0,  0, 0],\n",
    "                               [0, 0, 0, 0,  0]])\n",
    "\n",
    "reference_copula_3_flat = reference_copula_3.flatten()\n",
    "\n",
    "\n",
    "# Compute Jensen-Shannon distance (range: 0 to 1)\n",
    "dist = jensenshannon(reference_copula_1_flat, reference_copula_1_flat)\n",
    "print(dist)\n",
    "\n",
    "dist = jensenshannon(reference_copula_1_flat, reference_copula_2_flat)\n",
    "print(dist)\n",
    "\n",
    "dist = jensenshannon(reference_copula_1_flat, reference_copula_3_flat)\n",
    "print(dist)\n",
    "\n"
   ]
  }
 ],
 "metadata": {
  "kernelspec": {
   "display_name": "Python 3",
   "language": "python",
   "name": "python3"
  },
  "language_info": {
   "codemirror_mode": {
    "name": "ipython",
    "version": 3
   },
   "file_extension": ".py",
   "mimetype": "text/x-python",
   "name": "python",
   "nbconvert_exporter": "python",
   "pygments_lexer": "ipython3",
   "version": "3.10.12"
  }
 },
 "nbformat": 4,
 "nbformat_minor": 5
}
