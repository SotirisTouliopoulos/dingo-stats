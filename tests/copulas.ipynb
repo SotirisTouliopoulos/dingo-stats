{
 "cells": [
  {
   "cell_type": "markdown",
   "id": "3fcf6761",
   "metadata": {},
   "source": [
    "### Load libraries and functions"
   ]
  },
  {
   "cell_type": "code",
   "execution_count": null,
   "id": "347f9d73",
   "metadata": {},
   "outputs": [],
   "source": [
    "\n",
    "from scipy.spatial.distance import jensenshannon\n",
    "import numpy as np\n",
    "import sys\n",
    "\n",
    "sys.path.insert(0, '../src/')\n",
    "\n",
    "from load_modify_sample_utils import load_model, get_objective_functions, get_reaction_bounds, modify_model\n",
    "from load_modify_sample_utils import sample_optgp\n",
    "\n",
    "from loopless_utils import loops_enumeration_from_fva\n",
    "\n",
    "from correlations_utils import compute_copula, copula_tail_dependence\n",
    "from correlations_utils import plot_copula\n"
   ]
  },
  {
   "cell_type": "markdown",
   "id": "cbf8afe0",
   "metadata": {},
   "source": [
    "### Load and inspect model (for more info see `load_modify_samply.ipynb`)"
   ]
  },
  {
   "cell_type": "code",
   "execution_count": 2,
   "id": "b72b80fe",
   "metadata": {},
   "outputs": [
    {
     "name": "stdout",
     "output_type": "stream",
     "text": [
      "Set parameter Username\n",
      "Set parameter LicenseID to value 2642044\n",
      "Academic license - for non-commercial use only - expires 2026-03-25\n",
      "['BIOMASS_Ecoli_core_w_GAM']\n",
      "{'PFK': (0.0, 1000.0), 'PFL': (0.0, 1000.0), 'PGI': (-1000.0, 1000.0), 'PGK': (-1000.0, 1000.0), 'PGL': (0.0, 1000.0), 'ACALD': (-1000.0, 1000.0), 'AKGt2r': (-1000.0, 1000.0), 'PGM': (-1000.0, 1000.0), 'PIt2r': (-1000.0, 1000.0), 'ALCD2x': (-1000.0, 1000.0), 'ACALDt': (-1000.0, 1000.0), 'ACKr': (-1000.0, 1000.0), 'PPC': (0.0, 1000.0), 'ACONTa': (-1000.0, 1000.0), 'ACONTb': (-1000.0, 1000.0), 'ATPM': (8.39, 1000.0), 'PPCK': (0.0, 1000.0), 'ACt2r': (-1000.0, 1000.0), 'PPS': (0.0, 1000.0), 'ADK1': (-1000.0, 1000.0), 'AKGDH': (0.0, 1000.0), 'ATPS4r': (-1000.0, 1000.0), 'PTAr': (-1000.0, 1000.0), 'PYK': (0.0, 1000.0), 'BIOMASS_Ecoli_core_w_GAM': (0.0, 1000.0), 'PYRt2': (-1000.0, 1000.0), 'CO2t': (-1000.0, 1000.0), 'RPE': (-1000.0, 1000.0), 'CS': (0.0, 1000.0), 'RPI': (-1000.0, 1000.0), 'SUCCt2_2': (0.0, 1000.0), 'CYTBD': (0.0, 1000.0), 'D_LACt2': (-1000.0, 1000.0), 'ENO': (-1000.0, 1000.0), 'SUCCt3': (0.0, 1000.0), 'ETOHt2r': (-1000.0, 1000.0), 'SUCDi': (0.0, 1000.0), 'SUCOAS': (-1000.0, 1000.0), 'TALA': (-1000.0, 1000.0), 'THD2': (0.0, 1000.0), 'TKT1': (-1000.0, 1000.0), 'TKT2': (-1000.0, 1000.0), 'TPI': (-1000.0, 1000.0), 'EX_ac_e': (0.0, 1000.0), 'EX_acald_e': (0.0, 1000.0), 'EX_akg_e': (0.0, 1000.0), 'EX_co2_e': (-1000.0, 1000.0), 'EX_etoh_e': (0.0, 1000.0), 'EX_for_e': (0.0, 1000.0), 'EX_fru_e': (0.0, 1000.0), 'EX_fum_e': (0.0, 1000.0), 'EX_glc__D_e': (-10.0, 1000.0), 'EX_gln__L_e': (0.0, 1000.0), 'EX_glu__L_e': (0.0, 1000.0), 'EX_h_e': (-1000.0, 1000.0), 'EX_h2o_e': (-1000.0, 1000.0), 'EX_lac__D_e': (0.0, 1000.0), 'EX_mal__L_e': (0.0, 1000.0), 'EX_nh4_e': (-1000.0, 1000.0), 'EX_o2_e': (-1000.0, 1000.0), 'EX_pi_e': (-1000.0, 1000.0), 'EX_pyr_e': (0.0, 1000.0), 'EX_succ_e': (0.0, 1000.0), 'FBA': (-1000.0, 1000.0), 'FBP': (0.0, 1000.0), 'FORt2': (0.0, 1000.0), 'FORt': (-1000.0, 0.0), 'FRD7': (0.0, 1000.0), 'FRUpts2': (0.0, 1000.0), 'FUM': (-1000.0, 1000.0), 'FUMt2_2': (0.0, 1000.0), 'G6PDH2r': (-1000.0, 1000.0), 'GAPD': (-1000.0, 1000.0), 'GLCpts': (0.0, 1000.0), 'GLNS': (0.0, 1000.0), 'GLNabc': (0.0, 1000.0), 'GLUDy': (-1000.0, 1000.0), 'GLUN': (0.0, 1000.0), 'GLUSy': (0.0, 1000.0), 'GLUt2r': (-1000.0, 1000.0), 'GND': (0.0, 1000.0), 'H2Ot': (-1000.0, 1000.0), 'ICDHyr': (-1000.0, 1000.0), 'ICL': (0.0, 1000.0), 'LDH_D': (-1000.0, 1000.0), 'MALS': (0.0, 1000.0), 'MALt2_2': (0.0, 1000.0), 'MDH': (-1000.0, 1000.0), 'ME1': (0.0, 1000.0), 'ME2': (0.0, 1000.0), 'NADH16': (0.0, 1000.0), 'NADTRHD': (0.0, 1000.0), 'NH4t': (-1000.0, 1000.0), 'O2t': (-1000.0, 1000.0), 'PDH': (0.0, 1000.0)}\n"
     ]
    }
   ],
   "source": [
    "\n",
    "ec_cobra_model, ec_cobra_reactions, ec_cobra_reaction_ids,  = load_model(\"../ext_data/models/e_coli_core.xml\")\n",
    "\n",
    "objective_functions = get_objective_functions(ec_cobra_model)\n",
    "print(objective_functions)\n",
    "\n",
    "default_reaction_bounds = get_reaction_bounds(ec_cobra_model)\n",
    "print(default_reaction_bounds)\n"
   ]
  },
  {
   "cell_type": "markdown",
   "id": "4f5bb283",
   "metadata": {},
   "source": [
    "### Modify the model to create two different conditions (for more info see `load_modify_samply.ipynb`)"
   ]
  },
  {
   "cell_type": "code",
   "execution_count": 3,
   "id": "d5f56080",
   "metadata": {},
   "outputs": [
    {
     "name": "stdout",
     "output_type": "stream",
     "text": [
      "Read LP format model from file /tmp/tmph8_9hsmc.lp\n",
      "Reading time = 0.00 seconds\n",
      ": 72 rows, 190 columns, 720 nonzeros\n"
     ]
    },
    {
     "name": "stdout",
     "output_type": "stream",
     "text": [
      "['BIOMASS_Ecoli_core_w_GAM']\n",
      "(0.872922, 1000)\n",
      "Read LP format model from file /tmp/tmpmc2t726a.lp\n",
      "Reading time = 0.00 seconds\n",
      ": 72 rows, 190 columns, 720 nonzeros\n",
      "['BIOMASS_Ecoli_core_w_GAM']\n",
      "(0.0, 1000)\n"
     ]
    }
   ],
   "source": [
    "\n",
    "# Set optimal percentage to 100\n",
    "ec_cobra_model_condition_100 = modify_model(\n",
    "    cobra_model         = ec_cobra_model,\n",
    "    objective_function  = \"BIOMASS_Ecoli_core_w_GAM\",\n",
    "    optimal_percentage  = 100,\n",
    "    objective_direction = \"max\"\n",
    ")\n",
    "\n",
    "updated_objective_functions = get_objective_functions(ec_cobra_model_condition_100)\n",
    "print(updated_objective_functions)\n",
    "\n",
    "updated_reaction_bounds = get_reaction_bounds(ec_cobra_model_condition_100)\n",
    "print(updated_reaction_bounds.get(\"BIOMASS_Ecoli_core_w_GAM\"))\n",
    "\n",
    "# -----------\n",
    "\n",
    "# Set optimal percentage to 0\n",
    "ec_cobra_model_condition_0 = modify_model(\n",
    "    cobra_model         = ec_cobra_model,\n",
    "    objective_function  = \"BIOMASS_Ecoli_core_w_GAM\",\n",
    "    optimal_percentage  = 0,\n",
    "    objective_direction = \"max\"\n",
    ")\n",
    "\n",
    "updated_objective_functions = get_objective_functions(ec_cobra_model_condition_0)\n",
    "print(updated_objective_functions)\n",
    "\n",
    "updated_reaction_bounds = get_reaction_bounds(ec_cobra_model_condition_0)\n",
    "print(updated_reaction_bounds.get(\"BIOMASS_Ecoli_core_w_GAM\"))\n",
    "\n"
   ]
  },
  {
   "cell_type": "markdown",
   "id": "f5d685f5",
   "metadata": {},
   "source": [
    "### Identify loopy reactions in model (for more info see `loopless.ipynb`)"
   ]
  },
  {
   "cell_type": "code",
   "execution_count": null,
   "id": "3a963fb2",
   "metadata": {},
   "outputs": [],
   "source": [
    "\n",
    "loopy_reactions_fva_100 = loops_enumeration_from_fva(ec_cobra_model_condition_100, fraction_of_optimum=0.999)\n",
    "print(loopy_reactions_fva_100)\n",
    "\n",
    "loopy_reactions_100 = [item[0] for item in loopy_reactions_fva_100]\n",
    "print(loopy_reactions_100)\n",
    "\n",
    "\n",
    "loopy_reactions_fva_0 = loops_enumeration_from_fva(ec_cobra_model_condition_0, fraction_of_optimum=0)\n",
    "print(loopy_reactions_fva_0)\n",
    "\n",
    "loopy_reactions_0 = [item[0] for item in loopy_reactions_fva_0]\n",
    "print(loopy_reactions_0)\n"
   ]
  },
  {
   "cell_type": "markdown",
   "id": "e2006185",
   "metadata": {},
   "source": [
    "### Remove loopy reactions from the 2 models created above to reduce the thermodynamically infeasible solutions from sampling"
   ]
  },
  {
   "cell_type": "code",
   "execution_count": 4,
   "id": "2acf0dea",
   "metadata": {},
   "outputs": [],
   "source": [
    "\n",
    "ec_cobra_model_condition_100.reactions.get_by_id(\"FRD7\").bounds = (0, 0)\n",
    "ec_cobra_model_condition_0.reactions.get_by_id(\"FRD7\").bounds = (0, 0)\n"
   ]
  },
  {
   "cell_type": "markdown",
   "id": "28ef23a6",
   "metadata": {},
   "source": [
    "### Perform sampling on the modified models with the loopy reaction \"FRD7\" removed. (for more info see `load_modify_samply.ipynb`)"
   ]
  },
  {
   "cell_type": "code",
   "execution_count": 7,
   "id": "50cb06f7",
   "metadata": {},
   "outputs": [
    {
     "name": "stdout",
     "output_type": "stream",
     "text": [
      "Read LP format model from file /tmp/tmpf6ug3b8w.lp\n",
      "Reading time = 0.00 seconds\n",
      ": 72 rows, 190 columns, 720 nonzeros\n",
      "Read LP format model from file /tmp/tmpp515rra3.lp\n",
      "Reading time = 0.01 seconds\n",
      ": 72 rows, 190 columns, 720 nonzeros\n"
     ]
    }
   ],
   "source": [
    "\n",
    "samples_optgp_condition_100 = sample_optgp(ec_cobra_model_condition_100, \n",
    "                                           n_samples = 3000, \n",
    "                                           thinning=100, \n",
    "                                           reaction_in_rows = True)\n",
    "\n",
    "\n",
    "samples_optgp_condition_0 = sample_optgp(ec_cobra_model_condition_0, \n",
    "                                         n_samples = 3000, \n",
    "                                         thinning=100, \n",
    "                                         reaction_in_rows = True)\n"
   ]
  },
  {
   "cell_type": "markdown",
   "id": "82ec7ba4",
   "metadata": {},
   "source": [
    "### Compute and visualize a copula from a reactions pair\n",
    "\n",
    "The `plot_copula` function vizualises the copula from the selected pair of reactions. More information on copulas can be found [here](https://doi.org/10.20382/jocg.v14i1a8)\n",
    "\n",
    "Observation of the plot, shows a peak in the edge where `PGK` takes its lower and `PFK` its higher values. However, we get another signal at the area where `PGK` takes its higher and `PFK` its lower values."
   ]
  },
  {
   "cell_type": "code",
   "execution_count": 28,
   "id": "a7f18248",
   "metadata": {},
   "outputs": [
    {
     "data": {
      "application/vnd.plotly.v1+json": {
       "config": {
        "plotlyServerURL": "https://plot.ly"
       },
       "data": [
        {
         "type": "surface",
         "z": [
          [
           0.001,
           0.03766666666666667,
           0.05,
           0.05433333333333333,
           0.057
          ],
          [
           0.015,
           0.04733333333333333,
           0.043333333333333335,
           0.048,
           0.04633333333333333
          ],
          [
           0.03,
           0.05,
           0.046,
           0.036,
           0.038
          ],
          [
           0.057666666666666665,
           0.03833333333333333,
           0.035,
           0.034,
           0.035
          ],
          [
           0.09633333333333334,
           0.02666666666666667,
           0.025666666666666667,
           0.027666666666666666,
           0.023666666666666666
          ]
         ]
        }
       ],
       "layout": {
        "height": 600,
        "margin": {
         "b": 30,
         "l": 30,
         "r": 30,
         "t": 50
        },
        "scene": {
         "xaxis": {
          "title": {
           "text": "PGK"
          }
         },
         "yaxis": {
          "title": {
           "text": "PFK"
          }
         },
         "zaxis": {
          "title": {
           "text": "prob, mass"
          }
         }
        },
        "title": {
         "text": "Copula between PGK and PFK"
        },
        "width": 900
       }
      }
     },
     "metadata": {},
     "output_type": "display_data"
    }
   ],
   "source": [
    "\n",
    "n1 = ec_cobra_reaction_ids.index(\"PGK\")\n",
    "n2 = ec_cobra_reaction_ids.index(\"PFK\")\n",
    "\n",
    "flux1 = samples_optgp_condition_0[n1]\n",
    "flux2 = samples_optgp_condition_0[n2]\n",
    "\n",
    "data_flux1=[flux1, ec_cobra_reaction_ids[n1]]\n",
    "data_flux2=[flux2, ec_cobra_reaction_ids[n2]]\n",
    "\n",
    "cells = 5\n",
    "plot_copula(data_flux1, data_flux2, n = cells)\n"
   ]
  },
  {
   "cell_type": "markdown",
   "id": "44fbf676",
   "metadata": {},
   "source": [
    "### Compute the copula matrix\n",
    "\n",
    "The `compute_copula` function computes and returns the copula matrix, without visualizing it. Thus we can work on this matrix and extract information\n",
    "\n",
    "This matrix has dimensions of rows and columns equal to the `cells` parameter we defined above. To work with the copula matrix and extract dependence information we need to define some concepts on its structure. Observation of the printed numpy array below will help with understanding these concepts.\n",
    "\n",
    "- A 5*5 copula for our algorithm has 4 separate edges/areas:\n",
    "    - Top left, for example cells close to: [0,0], [0,1], [1,0] matrix position\n",
    "    - Bottom right, for example cells close to: [4,4], [4,3], [3,4] matrix position\n",
    "    - Top right, for example cells close to: [4,0], [3,0], [4,1] matrix position\n",
    "    - Bottom left, for example cells close to: [0,4], [0,3], [1,4] matrix position\n",
    "\n",
    "- A 5*5 copula for our algorithm has 2 diagonals: \n",
    "    - 1st diagonal: includes top left and bottom right areas\n",
    "    - 2nd diaognal: includes top right and bottom left areas"
   ]
  },
  {
   "cell_type": "code",
   "execution_count": null,
   "id": "61041b16",
   "metadata": {},
   "outputs": [
    {
     "name": "stdout",
     "output_type": "stream",
     "text": [
      "[[0.001      0.03766667 0.05       0.05433333 0.057     ]\n",
      " [0.015      0.04733333 0.04333333 0.048      0.04633333]\n",
      " [0.03       0.05       0.046      0.036      0.038     ]\n",
      " [0.05766667 0.03833333 0.035      0.034      0.035     ]\n",
      " [0.09633333 0.02666667 0.02566667 0.02766667 0.02366667]]\n"
     ]
    }
   ],
   "source": [
    "cells = 5\n",
    "copula = compute_copula(flux1, flux2, n = cells)\n",
    "print(copula)\n"
   ]
  },
  {
   "cell_type": "markdown",
   "id": "88046028",
   "metadata": {},
   "source": [
    "### Compute non-linear dependencies using copulas\n",
    "\n",
    "Below a test function shows how the corresponding `copula_tail_dependence` works in `correlations_utils.py`.\n",
    "\n",
    "This function parses the 2 copula's diagonals and picks values from the 4 copula's edges. One diagonal (the 1st) corresponds to the mass probability of 2 reactions working together at the same time (when one is active the other is active too) and the other diagonal (the 2nd) corresponds to the mass propability of 2 reactions not working together at the same time (when one is active the other is inactive).\n",
    "\n",
    "The `cop_coeff` parameters define the width of the diagonals for the algortihm to parse (leading to more wide or narrow diagonals).\n",
    "\n",
    "Then, by dividing the sum of propability mass of the 1st to the 2nd diagonal the indicator value is calculated. This value informs us on which diagonal has a higher mass concentration. If the indicator value is above a significance cutoff, this gives a sign to the dependence (positive for indicator value above given threshold or negative for indicator value below the reciprocal of the given threshold).\n",
    "\n",
    "Division of the corresponding edges (e.g. for the 1st diagonal: top left with the bottom right edge) shows whether higher mass concentration appears in one or both edges. This helps with classification of the copula dependence.\n",
    "\n",
    "We have different classification types based on:\n",
    "- sign: `positive` or `negative`, as explained above\n",
    "- tail(s): show which tail or tails have significant higher mass concentration based on the sign:\n",
    "    - `positive_upper_tail` for higher mass in the top left area\n",
    "    - `positive_lower_tail` for higher mass in the bottom right area\n",
    "    - `positive_upper_lower_tail` for higher mass in both bottom right and top left areas\n",
    "    \n",
    "    - `negative_upper_tail` for higher mass in the top right area\n",
    "    - `negative_lower_tail` for higher mass in the bottom left area\n",
    "    - `negative_upper_lower_tail` for higher mass in both top right and bottom left areas\n",
    "\n",
    "\n",
    "Here, we see that we get a `negative_upper_lower_tail` classification for our copula and an indicator value lower than 1. This supports information from the copula visualization, as the 2nd diagonal had clearly higher mass concentration than the 1st. \n",
    "\n",
    "For the classification, we could say that the bottom left edge had a significantly higher mass concentration than the top right one and thus the classification could also be: `negative_lower_tail`. However, the peak of the propability mass is concentrated in a single cell only in the bottom left edge (see printed copula matrix above) and thus the algorithm finds significant dependence in both tails."
   ]
  },
  {
   "cell_type": "code",
   "execution_count": 47,
   "id": "1ffc6bf0",
   "metadata": {},
   "outputs": [
    {
     "name": "stdout",
     "output_type": "stream",
     "text": [
      "Dependence: negative_upper_lower_tail \n",
      "Indicator 0.5211930937491529\n"
     ]
    }
   ],
   "source": [
    "\n",
    "cop_coeff = 0.2\n",
    "cop_coeff_1 = cop_coeff\n",
    "cop_coeff_2 = 1 - cop_coeff\n",
    "cop_coeff_3 = 1 + cop_coeff\n",
    "\n",
    "dependence, indicator = copula_tail_dependence(copula = copula, \n",
    "                                               cop_coeff_1 = cop_coeff_1, \n",
    "                                               cop_coeff_2 = cop_coeff_2, \n",
    "                                               cop_coeff_3 = cop_coeff_3, \n",
    "                                               indicator_cutoff = 1.2)\n",
    "\n",
    "print(\"Dependence:\", dependence, \"\\nIndicator\", indicator)\n"
   ]
  },
  {
   "cell_type": "markdown",
   "id": "d157befd",
   "metadata": {},
   "source": [
    "### Provide a quantitative metric for dependence strength\n",
    "\n",
    "From the chunks above, we saw how to identify and provide a sign to a non-linear dependence from the copula matrix. However, we still don't have a value that will inform us on how powerful this dependence is. The `jensenshannon` distance (scaled from 0 to 1) is used to provide this metric, by calculating the distance between our copula and a hypothetical copula of identicla dimensions and uniform distribution (equal values across its cells). \n",
    "\n",
    "To show how this distance metric works we will calculate it with the copula we worked above. However, in later chunks more tests are performed"
   ]
  },
  {
   "cell_type": "code",
   "execution_count": 49,
   "id": "ca7d7eab",
   "metadata": {},
   "outputs": [
    {
     "name": "stdout",
     "output_type": "stream",
     "text": [
      "[[0.04 0.04 0.04 0.04 0.04]\n",
      " [0.04 0.04 0.04 0.04 0.04]\n",
      " [0.04 0.04 0.04 0.04 0.04]\n",
      " [0.04 0.04 0.04 0.04 0.04]\n",
      " [0.04 0.04 0.04 0.04 0.04]]\n",
      "\n",
      "\n",
      "Distance between our copula and a hypothetical-uniform one: 0.1669516998140334\n"
     ]
    }
   ],
   "source": [
    "\n",
    "cells = 5\n",
    "\n",
    "# our copula melted in a 1D array\n",
    "copula_flat = copula.flatten()\n",
    "\n",
    "# a reference-uniform copula with same dimensions\n",
    "reference_copula = np.full( (cells, cells), (1 / (cells*cells)) )\n",
    "reference_copula_1_flat = reference_copula.flatten()\n",
    "\n",
    "\n",
    "np.set_printoptions(threshold=np.inf)\n",
    "print(reference_copula)\n",
    "print(\"\\n\")\n",
    "\n",
    "\n",
    "dist = jensenshannon(copula_flat, reference_copula_1_flat)\n",
    "print(\"Distance between our copula and a hypothetical-uniform one:\", dist)\n"
   ]
  },
  {
   "cell_type": "markdown",
   "id": "f6c33a63",
   "metadata": {},
   "source": [
    "### More test to show how the `jensenshannon` works\n",
    "\n",
    "We first define the `a` copula, a uniform one with 100 cells. \n",
    "\n",
    "Then we create 2 other copulas filled with 0, but modified to have all mass concentrated in the top left edge:\n",
    "- `b` copula has an extremely sharp peak (all mass is in a single cell)\n",
    "- `c` copula has a less exteme peak, the mass is concentrated across a wider area\n",
    "\n",
    "The `b` copula is expected to have a higher distance value, compared to `c`, as it's structure is farther from the structure of the uniform copula `a`. "
   ]
  },
  {
   "cell_type": "code",
   "execution_count": 50,
   "id": "3b88571d",
   "metadata": {},
   "outputs": [],
   "source": [
    "\n",
    "cells = 100\n",
    "\n",
    "a = np.full( (cells, cells), (1 / (cells*cells)) )\n",
    "a_flat = a.flatten()\n",
    "\n",
    "\n",
    "b = np.zeros((cells,cells))\n",
    "b[0,0] = 1\n",
    "b_flat = b.flatten()\n",
    "\n",
    "\n",
    "c = np.zeros((cells,cells))\n",
    "c[:10, :10] = 0.01\n",
    "c_flat = c.flatten()\n"
   ]
  },
  {
   "cell_type": "code",
   "execution_count": null,
   "id": "1eb3c3ad",
   "metadata": {},
   "outputs": [
    {
     "name": "stdout",
     "output_type": "stream",
     "text": [
      "0.8322479564657576\n",
      "0.8155344336992489\n"
     ]
    }
   ],
   "source": [
    "\n",
    "dist_a_b = jensenshannon(a_flat, b_flat)\n",
    "print(dist_a_b)\n",
    "\n",
    "\n",
    "dist_a_c = jensenshannon(a_flat, c_flat)\n",
    "print(dist_a_c)\n"
   ]
  }
 ],
 "metadata": {
  "kernelspec": {
   "display_name": "dingo-stats-3-10",
   "language": "python",
   "name": "python3"
  },
  "language_info": {
   "codemirror_mode": {
    "name": "ipython",
    "version": 3
   },
   "file_extension": ".py",
   "mimetype": "text/x-python",
   "name": "python",
   "nbconvert_exporter": "python",
   "pygments_lexer": "ipython3",
   "version": "3.10.18"
  }
 },
 "nbformat": 4,
 "nbformat_minor": 5
}
