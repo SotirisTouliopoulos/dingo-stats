{
 "cells": [
  {
   "cell_type": "markdown",
   "id": "3fcf6761",
   "metadata": {},
   "source": [
    "### Load libraries"
   ]
  },
  {
   "cell_type": "code",
   "execution_count": 2,
   "id": "347f9d73",
   "metadata": {},
   "outputs": [
    {
     "name": "stderr",
     "output_type": "stream",
     "text": [
      "/home/touliopoulos/.local/lib/python3.10/site-packages/pandas/core/computation/expressions.py:21: UserWarning: Pandas requires version '2.8.4' or newer of 'numexpr' (version '2.8.1' currently installed).\n",
      "  from pandas.core.computation.check import NUMEXPR_INSTALLED\n",
      "/home/touliopoulos/.local/lib/python3.10/site-packages/pandas/core/arrays/masked.py:60: UserWarning: Pandas requires version '1.3.6' or newer of 'bottleneck' (version '1.3.2' currently installed).\n",
      "  from pandas.core import (\n",
      "/home/touliopoulos/.local/lib/python3.10/site-packages/matplotlib/projections/__init__.py:63: UserWarning: Unable to import Axes3D. This may be due to multiple versions of Matplotlib being installed (e.g. as a system package and as a pip package). As a result, the 3D projection is not available.\n",
      "  warnings.warn(\"Unable to import Axes3D. This may be due to multiple versions of \"\n"
     ]
    }
   ],
   "source": [
    "\n",
    "from scipy.spatial.distance import jensenshannon\n",
    "import numpy as np\n",
    "import sys\n",
    "\n",
    "sys.path.insert(0, '../src/')\n",
    "\n",
    "from load_modify_sample_utils import load_model, get_objective_functions, get_reaction_bounds, modify_model\n",
    "from load_modify_sample_utils import sample_dingo, sample_optgp\n",
    "\n",
    "from correlations_utils import compute_copula\n",
    "from correlations_utils import plot_copula\n"
   ]
  },
  {
   "cell_type": "markdown",
   "id": "cbf8afe0",
   "metadata": {},
   "source": [
    "### Load model"
   ]
  },
  {
   "cell_type": "code",
   "execution_count": 3,
   "id": "b72b80fe",
   "metadata": {},
   "outputs": [
    {
     "name": "stdout",
     "output_type": "stream",
     "text": [
      "Set parameter Username\n",
      "Set parameter LicenseID to value 2642044\n",
      "Academic license - for non-commercial use only - expires 2026-03-25\n",
      "['BIOMASS_Ecoli_core_w_GAM']\n",
      "{'PFK': (0.0, 1000.0), 'PFL': (0.0, 1000.0), 'PGI': (-1000.0, 1000.0), 'PGK': (-1000.0, 1000.0), 'PGL': (0.0, 1000.0), 'ACALD': (-1000.0, 1000.0), 'AKGt2r': (-1000.0, 1000.0), 'PGM': (-1000.0, 1000.0), 'PIt2r': (-1000.0, 1000.0), 'ALCD2x': (-1000.0, 1000.0), 'ACALDt': (-1000.0, 1000.0), 'ACKr': (-1000.0, 1000.0), 'PPC': (0.0, 1000.0), 'ACONTa': (-1000.0, 1000.0), 'ACONTb': (-1000.0, 1000.0), 'ATPM': (8.39, 1000.0), 'PPCK': (0.0, 1000.0), 'ACt2r': (-1000.0, 1000.0), 'PPS': (0.0, 1000.0), 'ADK1': (-1000.0, 1000.0), 'AKGDH': (0.0, 1000.0), 'ATPS4r': (-1000.0, 1000.0), 'PTAr': (-1000.0, 1000.0), 'PYK': (0.0, 1000.0), 'BIOMASS_Ecoli_core_w_GAM': (0.0, 1000.0), 'PYRt2': (-1000.0, 1000.0), 'CO2t': (-1000.0, 1000.0), 'RPE': (-1000.0, 1000.0), 'CS': (0.0, 1000.0), 'RPI': (-1000.0, 1000.0), 'SUCCt2_2': (0.0, 1000.0), 'CYTBD': (0.0, 1000.0), 'D_LACt2': (-1000.0, 1000.0), 'ENO': (-1000.0, 1000.0), 'SUCCt3': (0.0, 1000.0), 'ETOHt2r': (-1000.0, 1000.0), 'SUCDi': (0.0, 1000.0), 'SUCOAS': (-1000.0, 1000.0), 'TALA': (-1000.0, 1000.0), 'THD2': (0.0, 1000.0), 'TKT1': (-1000.0, 1000.0), 'TKT2': (-1000.0, 1000.0), 'TPI': (-1000.0, 1000.0), 'EX_ac_e': (0.0, 1000.0), 'EX_acald_e': (0.0, 1000.0), 'EX_akg_e': (0.0, 1000.0), 'EX_co2_e': (-1000.0, 1000.0), 'EX_etoh_e': (0.0, 1000.0), 'EX_for_e': (0.0, 1000.0), 'EX_fru_e': (0.0, 1000.0), 'EX_fum_e': (0.0, 1000.0), 'EX_glc__D_e': (-10.0, 1000.0), 'EX_gln__L_e': (0.0, 1000.0), 'EX_glu__L_e': (0.0, 1000.0), 'EX_h_e': (-1000.0, 1000.0), 'EX_h2o_e': (-1000.0, 1000.0), 'EX_lac__D_e': (0.0, 1000.0), 'EX_mal__L_e': (0.0, 1000.0), 'EX_nh4_e': (-1000.0, 1000.0), 'EX_o2_e': (-1000.0, 1000.0), 'EX_pi_e': (-1000.0, 1000.0), 'EX_pyr_e': (0.0, 1000.0), 'EX_succ_e': (0.0, 1000.0), 'FBA': (-1000.0, 1000.0), 'FBP': (0.0, 1000.0), 'FORt2': (0.0, 1000.0), 'FORt': (-1000.0, 0.0), 'FRD7': (0.0, 1000.0), 'FRUpts2': (0.0, 1000.0), 'FUM': (-1000.0, 1000.0), 'FUMt2_2': (0.0, 1000.0), 'G6PDH2r': (-1000.0, 1000.0), 'GAPD': (-1000.0, 1000.0), 'GLCpts': (0.0, 1000.0), 'GLNS': (0.0, 1000.0), 'GLNabc': (0.0, 1000.0), 'GLUDy': (-1000.0, 1000.0), 'GLUN': (0.0, 1000.0), 'GLUSy': (0.0, 1000.0), 'GLUt2r': (-1000.0, 1000.0), 'GND': (0.0, 1000.0), 'H2Ot': (-1000.0, 1000.0), 'ICDHyr': (-1000.0, 1000.0), 'ICL': (0.0, 1000.0), 'LDH_D': (-1000.0, 1000.0), 'MALS': (0.0, 1000.0), 'MALt2_2': (0.0, 1000.0), 'MDH': (-1000.0, 1000.0), 'ME1': (0.0, 1000.0), 'ME2': (0.0, 1000.0), 'NADH16': (0.0, 1000.0), 'NADTRHD': (0.0, 1000.0), 'NH4t': (-1000.0, 1000.0), 'O2t': (-1000.0, 1000.0), 'PDH': (0.0, 1000.0)}\n"
     ]
    }
   ],
   "source": [
    "\n",
    "ec_cobra_model, ec_cobra_reactions, ec_dingo_model, ec_dingo_reactions = load_model(\"../ext_data/models/e_coli_core.xml\")\n",
    "\n",
    "objective_functions = get_objective_functions(ec_cobra_model)\n",
    "print(objective_functions)\n",
    "\n",
    "default_reaction_bounds = get_reaction_bounds(ec_cobra_model)\n",
    "print(default_reaction_bounds)\n"
   ]
  },
  {
   "cell_type": "markdown",
   "id": "28ef23a6",
   "metadata": {},
   "source": [
    "### Modify model and perform sampling"
   ]
  },
  {
   "cell_type": "code",
   "execution_count": 4,
   "id": "1ff3a8fa",
   "metadata": {},
   "outputs": [
    {
     "name": "stdout",
     "output_type": "stream",
     "text": [
      "Read LP format model from file /tmp/tmpzb2b1j3p.lp\n",
      "Reading time = 0.01 seconds\n"
     ]
    },
    {
     "name": "stdout",
     "output_type": "stream",
     "text": [
      ": 72 rows, 190 columns, 720 nonzeros\n",
      "Read LP format model from file /tmp/tmp0zqfqo_y.lp\n",
      "Reading time = 0.01 seconds\n",
      ": 72 rows, 190 columns, 720 nonzeros\n",
      "Set parameter Username\n",
      "Set parameter LicenseID to value 2642044\n",
      "Academic license - for non-commercial use only - expires 2026-03-25\n",
      "phase 1: number of correlated samples = 500, effective sample size = 11, ratio of the maximum singilar value over the minimum singular value = 1091.97\n",
      "phase 2: number of correlated samples = 500, effective sample size = 20, ratio of the maximum singilar value over the minimum singular value = 84.0129\n",
      "phase 3: number of correlated samples = 500, effective sample size = 4, ratio of the maximum singilar value over the minimum singular value = 279.746\n",
      "phase 4: number of correlated samples = 500, effective sample size = 27, ratio of the maximum singilar value over the minimum singular value = 89.9354\n",
      "phase 5: number of correlated samples = 500, effective sample size = 192, ratio of the maximum singilar value over the minimum singular value = 3.1518\n",
      "phase 6: number of correlated samples = 500, effective sample size = 222, ratio of the maximum singilar value over the minimum singular value = 2.46701\n",
      "phase 7: number of correlated samples = 2400, effective sample size = 996\n",
      "phase 8: number of correlated samples = 1300, effective sample size = 598\n",
      "[5]total ess 2070: number of correlated samples = 6700\n",
      "\n",
      "\n",
      "(95, 6700)\n"
     ]
    },
    {
     "name": "stderr",
     "output_type": "stream",
     "text": [
      "[5]maximum marginal PSRF: 1.01166\n"
     ]
    },
    {
     "name": "stdout",
     "output_type": "stream",
     "text": [
      "phase 1: number of correlated samples = 500, effective sample size = 4, ratio of the maximum singilar value over the minimum singular value = 1131\n",
      "phase 2: number of correlated samples = 500, effective sample size = 156, ratio of the maximum singilar value over the minimum singular value = 1\n",
      "phase 3: number of correlated samples = 2400, effective sample size = 941\n",
      "phase 4: number of correlated samples = 2400, effective sample size = 855\n",
      "phase 5: number of correlated samples = 300, effective sample size = 74\n",
      "[5]total ess 2030: number of correlated samples = 6100\n",
      "\n",
      "\n",
      "(95, 6100)\n"
     ]
    },
    {
     "name": "stderr",
     "output_type": "stream",
     "text": [
      "[5]maximum marginal PSRF: 1.00267\n"
     ]
    }
   ],
   "source": [
    "\n",
    "ec_cobra_model_condition_100, ec_dingo_model_condition_100 = modify_model(ec_cobra_model, objective_function=\"BIOMASS_Ecoli_core_w_GAM\", optimal_percentage=100)\n",
    "ec_cobra_model_condition_0, ec_dingo_model_condition_0 = modify_model(ec_cobra_model, objective_function=\"BIOMASS_Ecoli_core_w_GAM\", optimal_percentage=0)\n",
    "\n",
    "\n",
    "samples_dingo_condition_100 = sample_dingo(ec_dingo_model_condition_100, reaction_in_rows = True, ess=2000)\n",
    "print(samples_dingo_condition_100.shape)\n",
    "\n",
    "samples_dingo_condition_0 = sample_dingo(ec_dingo_model_condition_0, reaction_in_rows = True, ess=2000)\n",
    "print(samples_dingo_condition_0.shape)\n"
   ]
  },
  {
   "cell_type": "markdown",
   "id": "88046028",
   "metadata": {},
   "source": [
    "Below a test function shows how the corresponding `copula_tail_dependence` works in `correlations_utils.py`.\n",
    "\n",
    "We can see which are the cells (positions) that are selected in each edge of the copula."
   ]
  },
  {
   "cell_type": "code",
   "execution_count": 21,
   "id": "294c1f56",
   "metadata": {},
   "outputs": [],
   "source": [
    "\n",
    "#import plotly.io as pio\n",
    "#pio.renderers.default = 'browser'\n",
    "\n",
    "def copula_tail_dependence_test(copula, cop_coeff_1, cop_coeff_2, cop_coeff_3):\n",
    "\n",
    "    rows, cols = copula.shape\n",
    "    \n",
    "    red_mass = 0\n",
    "    blue_mass = 0\n",
    "        \n",
    "    top_left_count = 0\n",
    "    bottom_right_count = 0\n",
    "    top_right_count = 0\n",
    "    bottom_left_count = 0\n",
    "    \n",
    "    top_left = []\n",
    "    bottom_right = []\n",
    "    top_right = []\n",
    "    bottom_left = []\n",
    "    \n",
    "                    \n",
    "    for row in range(rows):\n",
    "        for col in range(cols):\n",
    "            # values in the diagonal\n",
    "            if ((row-col >= -cop_coeff_1*rows) & (row-col <= cop_coeff_1*rows)): \n",
    "                # values near the top left\n",
    "                if (row+col < cop_coeff_2*rows -1):\n",
    "                    red_mass = red_mass + copula[row][col]       \n",
    "                    top_left_count = top_left_count + 1\n",
    "                    top_left.append((row, col))\n",
    "                    \n",
    "                # values near the bottom right\n",
    "                elif (row+col > cop_coeff_3*rows -1):\n",
    "                    red_mass = red_mass + copula[row][col]       \n",
    "                    bottom_right_count = bottom_right_count + 1\n",
    "                    bottom_right.append((row, col))\n",
    "            \n",
    "            # values in the other diagonal\n",
    "            else:\n",
    "                # values near the top right and bottom left corner\n",
    "                if (row+col >= cop_coeff_2*rows -1) & (row+col <= cop_coeff_3*rows -1):                    \n",
    "                    # values near the top right\n",
    "                    if row < rows / 2:\n",
    "                        blue_mass = blue_mass + copula[row][col]       \n",
    "                        top_right_count = top_right_count + 1\n",
    "                        top_right.append((row, col))\n",
    "                    \n",
    "                    # values near the bottom left\n",
    "                    elif row >= rows / 2:\n",
    "                        blue_mass = blue_mass + copula[row][col]       \n",
    "                        bottom_left_count = bottom_left_count + 1\n",
    "                        bottom_left.append((row, col))\n",
    "                                                \n",
    "\n",
    "    #print(top_left, \"\\n\", bottom_right, \"\\n\", top_right, \"\\n\" , bottom_left)\n",
    "    #print(top_left_count, bottom_right_count, top_right_count, bottom_left_count)\n",
    "    print(red_mass, blue_mass, red_mass/blue_mass)\n",
    "    "
   ]
  },
  {
   "cell_type": "code",
   "execution_count": 23,
   "id": "54432cb2",
   "metadata": {},
   "outputs": [],
   "source": [
    "\n",
    "n1 = ec_dingo_reactions.index(\"PGK\")\n",
    "n2 = ec_dingo_reactions.index(\"PFK\")\n",
    "\n",
    "flux1 = samples_dingo_condition_0[n1]\n",
    "flux2 = samples_dingo_condition_0[n2]\n",
    "\n",
    "data_flux1=[flux1, ec_dingo_reactions[n1]]\n",
    "data_flux2=[flux2, ec_dingo_reactions[n2]]\n"
   ]
  },
  {
   "cell_type": "code",
   "execution_count": 24,
   "id": "5ff901b2",
   "metadata": {},
   "outputs": [
    {
     "data": {
      "application/vnd.plotly.v1+json": {
       "config": {
        "plotlyServerURL": "https://plot.ly"
       },
       "data": [
        {
         "type": "surface",
         "z": [
          [
           0,
           0,
           0.009508196721311476,
           0.011639344262295083,
           0.014098360655737704,
           0.012622950819672131,
           0.011967213114754098,
           0.011311475409836066,
           0.01360655737704918,
           0.015245901639344262
          ],
          [
           0,
           0.002622950819672131,
           0.010163934426229508,
           0.012950819672131148,
           0.012786885245901639,
           0.011311475409836066,
           0.011311475409836066,
           0.014098360655737704,
           0.010491803278688525,
           0.014262295081967214
          ],
          [
           0,
           0.00819672131147541,
           0.009672131147540983,
           0.014426229508196721,
           0.011639344262295083,
           0.01180327868852459,
           0.012131147540983607,
           0.010655737704918032,
           0.011147540983606558,
           0.010327868852459017
          ],
          [
           0,
           0.01180327868852459,
           0.011311475409836066,
           0.011639344262295083,
           0.010983606557377049,
           0.008688524590163935,
           0.009180327868852459,
           0.011967213114754098,
           0.013278688524590163,
           0.011147540983606558
          ],
          [
           0.000819672131147541,
           0.01377049180327869,
           0.010327868852459017,
           0.009508196721311476,
           0.009836065573770493,
           0.010819672131147541,
           0.011475409836065573,
           0.011967213114754098,
           0.011311475409836066,
           0.010163934426229508
          ],
          [
           0.005737704918032787,
           0.017049180327868854,
           0.011147540983606558,
           0.009016393442622951,
           0.008688524590163935,
           0.010819672131147541,
           0.009836065573770493,
           0.010163934426229508,
           0.008852459016393442,
           0.008688524590163935
          ],
          [
           0.009836065573770493,
           0.011311475409836066,
           0.011639344262295083,
           0.008360655737704918,
           0.008688524590163935,
           0.009672131147540983,
           0.009836065573770493,
           0.008852459016393442,
           0.009836065573770493,
           0.011967213114754098
          ],
          [
           0.01901639344262295,
           0.01360655737704918,
           0.009836065573770493,
           0.007377049180327869,
           0.008360655737704918,
           0.009180327868852459,
           0.009836065573770493,
           0.0075409836065573775,
           0.008360655737704918,
           0.006885245901639345
          ],
          [
           0.026065573770491804,
           0.01,
           0.008688524590163935,
           0.00819672131147541,
           0.01,
           0.008524590163934427,
           0.007868852459016393,
           0.007377049180327869,
           0.006721311475409836,
           0.006557377049180328
          ],
          [
           0.038524590163934426,
           0.011639344262295083,
           0.007704918032786885,
           0.006885245901639345,
           0.004918032786885246,
           0.006557377049180328,
           0.006557377049180328,
           0.0060655737704918035,
           0.0063934426229508194,
           0.004754098360655738
          ]
         ]
        }
       ],
       "layout": {
        "height": 600,
        "margin": {
         "b": 30,
         "l": 30,
         "r": 30,
         "t": 50
        },
        "scene": {
         "xaxis": {
          "title": {
           "text": "PGK"
          }
         },
         "yaxis": {
          "title": {
           "text": "PFK"
          }
         },
         "zaxis": {
          "title": {
           "text": "prob, mass"
          }
         }
        },
        "title": {
         "text": "Copula between PGK and PFK"
        },
        "width": 900
       }
      }
     },
     "metadata": {},
     "output_type": "display_data"
    }
   ],
   "source": [
    "\n",
    "cells = 10\n",
    "plot_copula(data_flux1, data_flux2, n = cells)\n"
   ]
  },
  {
   "cell_type": "code",
   "execution_count": null,
   "id": "8682b23d",
   "metadata": {},
   "outputs": [
    {
     "name": "stdout",
     "output_type": "stream",
     "text": [
      "0.2504918032786885 0.40426229508196726 0.619626926196269\n"
     ]
    }
   ],
   "source": [
    "\n",
    "# parameters for the width of the copula's diagonal\n",
    "cop_coeff = 0.2\n",
    "cop_coeff_1 = cop_coeff\n",
    "cop_coeff_2 = 1 - cop_coeff\n",
    "cop_coeff_3 = 1 + cop_coeff\n",
    "\n",
    "copula = compute_copula(flux1, flux2, n = cells)\n",
    "copula_tail_dependence_test(copula, cop_coeff_1, cop_coeff_2, cop_coeff_3)\n"
   ]
  },
  {
   "cell_type": "code",
   "execution_count": 25,
   "id": "ca7d7eab",
   "metadata": {},
   "outputs": [
    {
     "name": "stdout",
     "output_type": "stream",
     "text": [
      "[0.         0.         0.0095082  0.01163934 0.01409836 0.01262295\n",
      " 0.01196721 0.01131148 0.01360656 0.0152459  0.         0.00262295\n",
      " 0.01016393 0.01295082 0.01278689 0.01131148 0.01131148 0.01409836\n",
      " 0.0104918  0.0142623  0.         0.00819672 0.00967213 0.01442623\n",
      " 0.01163934 0.01180328 0.01213115 0.01065574 0.01114754 0.01032787\n",
      " 0.         0.01180328 0.01131148 0.01163934 0.01098361 0.00868852\n",
      " 0.00918033 0.01196721 0.01327869 0.01114754 0.00081967 0.01377049\n",
      " 0.01032787 0.0095082  0.00983607 0.01081967 0.01147541 0.01196721\n",
      " 0.01131148 0.01016393 0.0057377  0.01704918 0.01114754 0.00901639\n",
      " 0.00868852 0.01081967 0.00983607 0.01016393 0.00885246 0.00868852\n",
      " 0.00983607 0.01131148 0.01163934 0.00836066 0.00868852 0.00967213\n",
      " 0.00983607 0.00885246 0.00983607 0.01196721 0.01901639 0.01360656\n",
      " 0.00983607 0.00737705 0.00836066 0.00918033 0.00983607 0.00754098\n",
      " 0.00836066 0.00688525 0.02606557 0.01       0.00868852 0.00819672\n",
      " 0.01       0.00852459 0.00786885 0.00737705 0.00672131 0.00655738\n",
      " 0.03852459 0.01163934 0.00770492 0.00688525 0.00491803 0.00655738\n",
      " 0.00655738 0.00606557 0.00639344 0.0047541 ]\n",
      "\n",
      "\n",
      "[[0.01 0.01 0.01 0.01 0.01 0.01 0.01 0.01 0.01 0.01]\n",
      " [0.01 0.01 0.01 0.01 0.01 0.01 0.01 0.01 0.01 0.01]\n",
      " [0.01 0.01 0.01 0.01 0.01 0.01 0.01 0.01 0.01 0.01]\n",
      " [0.01 0.01 0.01 0.01 0.01 0.01 0.01 0.01 0.01 0.01]\n",
      " [0.01 0.01 0.01 0.01 0.01 0.01 0.01 0.01 0.01 0.01]\n",
      " [0.01 0.01 0.01 0.01 0.01 0.01 0.01 0.01 0.01 0.01]\n",
      " [0.01 0.01 0.01 0.01 0.01 0.01 0.01 0.01 0.01 0.01]\n",
      " [0.01 0.01 0.01 0.01 0.01 0.01 0.01 0.01 0.01 0.01]\n",
      " [0.01 0.01 0.01 0.01 0.01 0.01 0.01 0.01 0.01 0.01]\n",
      " [0.01 0.01 0.01 0.01 0.01 0.01 0.01 0.01 0.01 0.01]]\n",
      "\n",
      "\n",
      "0.18513564199158558\n"
     ]
    }
   ],
   "source": [
    "\n",
    "copula_flat = copula.flatten()\n",
    "\n",
    "reference_copula = np.full( (cells, cells), (1 / (cells*cells)) )\n",
    "reference_copula_1_flat = reference_copula.flatten()\n",
    "\n",
    "\n",
    "np.set_printoptions(threshold=np.inf)\n",
    "print(copula_flat)\n",
    "print(\"\\n\")\n",
    "print(reference_copula)\n",
    "print(\"\\n\")\n",
    "\n",
    "\n",
    "dist = jensenshannon(copula_flat, reference_copula_1_flat)\n",
    "print(dist)\n"
   ]
  },
  {
   "cell_type": "markdown",
   "id": "f6c33a63",
   "metadata": {},
   "source": [
    "### Below arrays representing copulas are created to show how the jensenshannon distance works\n",
    "\n",
    "Note: As long as you do not describe what we are looking at, it's hard to follow. Please describe the main conclusions from the jensenshannon experiments, as well as of the copulas above.\n",
    "\n",
    "It's not clear what you want to show in each case and/or why you are doing what you're doing.."
   ]
  },
  {
   "cell_type": "code",
   "execution_count": null,
   "id": "c0f4515e",
   "metadata": {},
   "outputs": [
    {
     "name": "stdout",
     "output_type": "stream",
     "text": [
      "0.0\n",
      "0.6785698641197397\n",
      "0.7799839057460577\n"
     ]
    }
   ],
   "source": [
    "\n",
    "\n",
    "cells = 5\n",
    "reference_copula = np.full( (cells, cells), (1 / (cells*cells)) )\n",
    "\n",
    "reference_copula_1_flat = reference_copula.flatten()\n",
    "\n",
    "\n",
    "\n",
    "reference_copula_2 = np.array([[0.25, 0.25, 0, 0, 0],\n",
    "                               [0.25, 0.25, 0, 0, 0],\n",
    "                               [0, 0, 0,  0, 0],\n",
    "                               [0, 0, 0,  0, 0],\n",
    "                               [0, 0, 0, 0,  0]])\n",
    "\n",
    "reference_copula_2_flat = reference_copula_2.flatten()\n",
    "\n",
    "\n",
    "\n",
    "reference_copula_3 = np.array([[1, 0, 0, 0, 0],\n",
    "                               [0, 0, 0, 0, 0],\n",
    "                               [0, 0, 0,  0, 0],\n",
    "                               [0, 0, 0,  0, 0],\n",
    "                               [0, 0, 0, 0,  0]])\n",
    "\n",
    "reference_copula_3_flat = reference_copula_3.flatten()\n",
    "\n"
   ]
  },
  {
   "cell_type": "code",
   "execution_count": 10,
   "id": "5c498ead",
   "metadata": {},
   "outputs": [
    {
     "name": "stdout",
     "output_type": "stream",
     "text": [
      "0.0\n",
      "0.6785698641197397\n",
      "0.7799839057460577\n"
     ]
    }
   ],
   "source": [
    "\n",
    "# Compute Jensen-Shannon distance (range: 0 to 1)\n",
    "dist = jensenshannon(reference_copula_1_flat, reference_copula_1_flat)\n",
    "print(dist)\n",
    "\n",
    "dist = jensenshannon(reference_copula_1_flat, reference_copula_2_flat)\n",
    "print(dist)\n",
    "\n",
    "dist = jensenshannon(reference_copula_1_flat, reference_copula_3_flat)\n",
    "print(dist)\n"
   ]
  },
  {
   "cell_type": "code",
   "execution_count": null,
   "id": "3b88571d",
   "metadata": {},
   "outputs": [],
   "source": [
    "\n",
    "cells = 100\n",
    "\n",
    "a = np.zeros((cells,cells))\n",
    "\n",
    "b = a.copy()\n",
    "b[0,0] = 1\n",
    "b_flat = b.flatten()\n",
    "\n",
    "c = a.copy()\n",
    "c[:10, :10] = 0.01\n",
    "c_flat = c.flatten()\n",
    "\n",
    "reference_copula = np.full( (cells, cells), (1 / (cells*cells)) )\n",
    "reference_copula_flat = reference_copula.flatten()\n"
   ]
  },
  {
   "cell_type": "code",
   "execution_count": null,
   "id": "1eb3c3ad",
   "metadata": {},
   "outputs": [
    {
     "name": "stdout",
     "output_type": "stream",
     "text": [
      "0.8322479564657576\n",
      "0.8155344336992489\n"
     ]
    }
   ],
   "source": [
    "\n",
    "dist = jensenshannon(b_flat, reference_copula_flat)\n",
    "print(dist)\n",
    "\n",
    "dist = jensenshannon(c_flat, reference_copula_flat)\n",
    "print(dist)"
   ]
  }
 ],
 "metadata": {
  "kernelspec": {
   "display_name": "Python 3",
   "language": "python",
   "name": "python3"
  },
  "language_info": {
   "codemirror_mode": {
    "name": "ipython",
    "version": 3
   },
   "file_extension": ".py",
   "mimetype": "text/x-python",
   "name": "python",
   "nbconvert_exporter": "python",
   "pygments_lexer": "ipython3",
   "version": "3.10.12"
  }
 },
 "nbformat": 4,
 "nbformat_minor": 5
}
