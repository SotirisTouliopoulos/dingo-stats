{
 "cells": [
  {
   "cell_type": "markdown",
   "id": "c966aa19",
   "metadata": {},
   "source": [
    "### Load libraries and functions"
   ]
  },
  {
   "cell_type": "code",
   "execution_count": 1,
   "id": "9ca6b086",
   "metadata": {},
   "outputs": [],
   "source": [
    "\n",
    "import sys\n",
    "sys.path.insert(0, '../src/')\n",
    "\n",
    "from loopless_utils import loops_enumeration_from_fva\n",
    "\n",
    "from load_modify_sample_utils import load_model, get_objective_functions, get_reaction_bounds, modify_model\n",
    "from load_modify_sample_utils import sample_optgp\n"
   ]
  },
  {
   "cell_type": "markdown",
   "id": "8a16ecba",
   "metadata": {},
   "source": [
    "### Load and inspect model (for more info see `load_modify_samply.ipynb`)"
   ]
  },
  {
   "cell_type": "code",
   "execution_count": null,
   "id": "d53b82a4",
   "metadata": {},
   "outputs": [
    {
     "name": "stdout",
     "output_type": "stream",
     "text": [
      "Set parameter Username\n",
      "Set parameter LicenseID to value 2642044\n",
      "Academic license - for non-commercial use only - expires 2026-03-25\n",
      "['BIOMASS_Ecoli_core_w_GAM']\n",
      "{'PFK': (0.0, 1000.0), 'PFL': (0.0, 1000.0), 'PGI': (-1000.0, 1000.0), 'PGK': (-1000.0, 1000.0), 'PGL': (0.0, 1000.0), 'ACALD': (-1000.0, 1000.0), 'AKGt2r': (-1000.0, 1000.0), 'PGM': (-1000.0, 1000.0), 'PIt2r': (-1000.0, 1000.0), 'ALCD2x': (-1000.0, 1000.0), 'ACALDt': (-1000.0, 1000.0), 'ACKr': (-1000.0, 1000.0), 'PPC': (0.0, 1000.0), 'ACONTa': (-1000.0, 1000.0), 'ACONTb': (-1000.0, 1000.0), 'ATPM': (8.39, 1000.0), 'PPCK': (0.0, 1000.0), 'ACt2r': (-1000.0, 1000.0), 'PPS': (0.0, 1000.0), 'ADK1': (-1000.0, 1000.0), 'AKGDH': (0.0, 1000.0), 'ATPS4r': (-1000.0, 1000.0), 'PTAr': (-1000.0, 1000.0), 'PYK': (0.0, 1000.0), 'BIOMASS_Ecoli_core_w_GAM': (0.0, 1000.0), 'PYRt2': (-1000.0, 1000.0), 'CO2t': (-1000.0, 1000.0), 'RPE': (-1000.0, 1000.0), 'CS': (0.0, 1000.0), 'RPI': (-1000.0, 1000.0), 'SUCCt2_2': (0.0, 1000.0), 'CYTBD': (0.0, 1000.0), 'D_LACt2': (-1000.0, 1000.0), 'ENO': (-1000.0, 1000.0), 'SUCCt3': (0.0, 1000.0), 'ETOHt2r': (-1000.0, 1000.0), 'SUCDi': (0.0, 1000.0), 'SUCOAS': (-1000.0, 1000.0), 'TALA': (-1000.0, 1000.0), 'THD2': (0.0, 1000.0), 'TKT1': (-1000.0, 1000.0), 'TKT2': (-1000.0, 1000.0), 'TPI': (-1000.0, 1000.0), 'EX_ac_e': (0.0, 1000.0), 'EX_acald_e': (0.0, 1000.0), 'EX_akg_e': (0.0, 1000.0), 'EX_co2_e': (-1000.0, 1000.0), 'EX_etoh_e': (0.0, 1000.0), 'EX_for_e': (0.0, 1000.0), 'EX_fru_e': (0.0, 1000.0), 'EX_fum_e': (0.0, 1000.0), 'EX_glc__D_e': (-10.0, 1000.0), 'EX_gln__L_e': (0.0, 1000.0), 'EX_glu__L_e': (0.0, 1000.0), 'EX_h_e': (-1000.0, 1000.0), 'EX_h2o_e': (-1000.0, 1000.0), 'EX_lac__D_e': (0.0, 1000.0), 'EX_mal__L_e': (0.0, 1000.0), 'EX_nh4_e': (-1000.0, 1000.0), 'EX_o2_e': (-1000.0, 1000.0), 'EX_pi_e': (-1000.0, 1000.0), 'EX_pyr_e': (0.0, 1000.0), 'EX_succ_e': (0.0, 1000.0), 'FBA': (-1000.0, 1000.0), 'FBP': (0.0, 1000.0), 'FORt2': (0.0, 1000.0), 'FORt': (-1000.0, 0.0), 'FRD7': (0.0, 1000.0), 'FRUpts2': (0.0, 1000.0), 'FUM': (-1000.0, 1000.0), 'FUMt2_2': (0.0, 1000.0), 'G6PDH2r': (-1000.0, 1000.0), 'GAPD': (-1000.0, 1000.0), 'GLCpts': (0.0, 1000.0), 'GLNS': (0.0, 1000.0), 'GLNabc': (0.0, 1000.0), 'GLUDy': (-1000.0, 1000.0), 'GLUN': (0.0, 1000.0), 'GLUSy': (0.0, 1000.0), 'GLUt2r': (-1000.0, 1000.0), 'GND': (0.0, 1000.0), 'H2Ot': (-1000.0, 1000.0), 'ICDHyr': (-1000.0, 1000.0), 'ICL': (0.0, 1000.0), 'LDH_D': (-1000.0, 1000.0), 'MALS': (0.0, 1000.0), 'MALt2_2': (0.0, 1000.0), 'MDH': (-1000.0, 1000.0), 'ME1': (0.0, 1000.0), 'ME2': (0.0, 1000.0), 'NADH16': (0.0, 1000.0), 'NADTRHD': (0.0, 1000.0), 'NH4t': (-1000.0, 1000.0), 'O2t': (-1000.0, 1000.0), 'PDH': (0.0, 1000.0)}\n"
     ]
    }
   ],
   "source": [
    "\n",
    "ec_cobra_model, ec_cobra_reactions, ec_cobra_reaction_ids,  = load_model(\"../ext_data/models/e_coli_core.xml\")\n",
    "\n",
    "objective_functions = get_objective_functions(ec_cobra_model)\n",
    "print(objective_functions)\n",
    "\n",
    "default_reaction_bounds = get_reaction_bounds(ec_cobra_model)\n",
    "print(default_reaction_bounds)\n"
   ]
  },
  {
   "cell_type": "markdown",
   "id": "64f10a21",
   "metadata": {},
   "source": [
    "### Modify the model to create two different conditions (for more info see `load_modify_samply.ipynb`)"
   ]
  },
  {
   "cell_type": "code",
   "execution_count": 3,
   "id": "51e47d93",
   "metadata": {},
   "outputs": [
    {
     "name": "stdout",
     "output_type": "stream",
     "text": [
      "Read LP format model from file /tmp/tmpfpl9zzsi.lp\n",
      "Reading time = 0.00 seconds\n",
      ": 72 rows, 190 columns, 720 nonzeros\n",
      "['BIOMASS_Ecoli_core_w_GAM']\n",
      "(0.872922, 1000)\n",
      "Read LP format model from file /tmp/tmpl8injke1.lp\n",
      "Reading time = 0.01 seconds\n",
      ": 72 rows, 190 columns, 720 nonzeros\n",
      "['BIOMASS_Ecoli_core_w_GAM']\n",
      "(0.0, 1000)\n"
     ]
    }
   ],
   "source": [
    "\n",
    "# Set optimal percentage to 100\n",
    "ec_cobra_model_condition_100 = modify_model(\n",
    "    cobra_model         = ec_cobra_model,\n",
    "    objective_function  = \"BIOMASS_Ecoli_core_w_GAM\",\n",
    "    optimal_percentage  = 100,\n",
    "    objective_direction = \"max\"\n",
    ")\n",
    "\n",
    "updated_objective_functions = get_objective_functions(ec_cobra_model_condition_100)\n",
    "print(updated_objective_functions)\n",
    "\n",
    "updated_reaction_bounds = get_reaction_bounds(ec_cobra_model_condition_100)\n",
    "print(updated_reaction_bounds.get(\"BIOMASS_Ecoli_core_w_GAM\"))\n",
    "\n",
    "# -----------\n",
    "\n",
    "# Set optimal percentage to 0\n",
    "ec_cobra_model_condition_0 = modify_model(\n",
    "    cobra_model         = ec_cobra_model,\n",
    "    objective_function  = \"BIOMASS_Ecoli_core_w_GAM\",\n",
    "    optimal_percentage  = 0,\n",
    "    objective_direction = \"max\"\n",
    ")\n",
    "\n",
    "updated_objective_functions = get_objective_functions(ec_cobra_model_condition_0)\n",
    "print(updated_objective_functions)\n",
    "\n",
    "updated_reaction_bounds = get_reaction_bounds(ec_cobra_model_condition_0)\n",
    "print(updated_reaction_bounds.get(\"BIOMASS_Ecoli_core_w_GAM\"))\n"
   ]
  },
  {
   "cell_type": "markdown",
   "id": "7c8f559e",
   "metadata": {},
   "source": [
    "### Identify loopy reactions in model (for more info see `loopless.ipynb`)"
   ]
  },
  {
   "cell_type": "code",
   "execution_count": 4,
   "id": "25f71fab",
   "metadata": {},
   "outputs": [
    {
     "name": "stdout",
     "output_type": "stream",
     "text": [
      "[('SUCDi', 994.7794007141792), ('FRD7', 995.0539767141795)]\n",
      "['SUCDi', 'FRD7']\n",
      "[('SUCDi', 980.0), ('FRD7', 1000.0)]\n",
      "['SUCDi', 'FRD7']\n"
     ]
    }
   ],
   "source": [
    "\n",
    "loopy_reactions_fva_100 = loops_enumeration_from_fva(ec_cobra_model_condition_100, fraction_of_optimum=0.999)\n",
    "print(loopy_reactions_fva_100)\n",
    "\n",
    "loopy_reactions_100 = [item[0] for item in loopy_reactions_fva_100]\n",
    "print(loopy_reactions_100)\n",
    "\n",
    "\n",
    "loopy_reactions_fva_0 = loops_enumeration_from_fva(ec_cobra_model_condition_0, fraction_of_optimum=0)\n",
    "print(loopy_reactions_fva_0)\n",
    "\n",
    "loopy_reactions_0 = [item[0] for item in loopy_reactions_fva_0]\n",
    "print(loopy_reactions_0)\n"
   ]
  },
  {
   "cell_type": "markdown",
   "id": "d9cb5527",
   "metadata": {},
   "source": [
    "### Remove loopy reactions from the 2 models created above to reduce the thermodynamically infeasible solutions from sampling"
   ]
  },
  {
   "cell_type": "code",
   "execution_count": 5,
   "id": "12132a0b",
   "metadata": {},
   "outputs": [],
   "source": [
    "\n",
    "ec_cobra_model_condition_100.reactions.get_by_id(\"FRD7\").bounds = (0, 0)\n",
    "ec_cobra_model_condition_0.reactions.get_by_id(\"FRD7\").bounds = (0, 0)\n"
   ]
  },
  {
   "cell_type": "markdown",
   "id": "70f3bca1",
   "metadata": {},
   "source": [
    "### Perform sampling on the modified models with the loopy reaction \"FRD7\" removed. (for more info see `load_modify_samply.ipynb`)"
   ]
  },
  {
   "cell_type": "code",
   "execution_count": 6,
   "id": "195485af",
   "metadata": {},
   "outputs": [
    {
     "name": "stdout",
     "output_type": "stream",
     "text": [
      "Read LP format model from file /tmp/tmp86llkbxn.lp\n",
      "Reading time = 0.00 seconds\n",
      ": 72 rows, 190 columns, 720 nonzeros\n",
      "Read LP format model from file /tmp/tmpid97e8sf.lp\n",
      "Reading time = 0.01 seconds\n",
      ": 72 rows, 190 columns, 720 nonzeros\n"
     ]
    }
   ],
   "source": [
    "\n",
    "samples_optgp_condition_100 = sample_optgp(ec_cobra_model_condition_100, \n",
    "                                           n_samples = 3000, \n",
    "                                           thinning=100, \n",
    "                                           reaction_in_rows = True)\n",
    "\n",
    "\n",
    "samples_optgp_condition_0 = sample_optgp(ec_cobra_model_condition_0, \n",
    "                                         n_samples = 3000, \n",
    "                                         thinning=100, \n",
    "                                         reaction_in_rows = True)\n"
   ]
  },
  {
   "cell_type": "markdown",
   "id": "eed440a3",
   "metadata": {},
   "source": [
    "### Here we can see how to work with `escher` and integrate flux sampling values into the given metabolic map. First build the map from the `json` file using the `Builder` class"
   ]
  },
  {
   "cell_type": "code",
   "execution_count": 7,
   "id": "245d0481",
   "metadata": {},
   "outputs": [
    {
     "data": {
      "application/vnd.jupyter.widget-view+json": {
       "model_id": "903ed77b93a443cea81afa2a1d0daf83",
       "version_major": 2,
       "version_minor": 0
      },
      "text/plain": [
       "Builder()"
      ]
     },
     "metadata": {},
     "output_type": "display_data"
    }
   ],
   "source": [
    "\n",
    "from escher import Builder\n",
    "\n",
    "builder = Builder(map_json='../ext_data/models/e_coli_core_full_map.json')\n",
    "builder\n"
   ]
  },
  {
   "cell_type": "markdown",
   "id": "c7f51946",
   "metadata": {},
   "source": [
    "### Create dictionaries mapping reaciton IDs to statistics of interest (std, mean, range)"
   ]
  },
  {
   "cell_type": "code",
   "execution_count": 9,
   "id": "133c9cca",
   "metadata": {},
   "outputs": [
    {
     "name": "stdout",
     "output_type": "stream",
     "text": [
      "{'PFK': 7.486068913297662, 'PFL': 0.0055606466788236655, 'PGI': 4.858993776773165, 'PGK': -16.025381427907572, 'PGL': 4.96204843148236, 'ACALD': -0.0023513999752231224, 'AKGt2r': -0.0007289617391095303, 'PGM': -14.719426030592032, 'PIt2r': 3.2113757487333494, 'ALCD2x': -0.0011017420185548976, 'ACALDt': -0.0012496579566682149, 'ACKr': -0.0018737754630853505, 'PPC': 2.497533980303867, 'ACONTa': 6.011339199746686, 'ACONTb': 6.011339199746686, 'ATPM': 8.398773166518627, 'PPCK': 0.008731639430010804, 'ACt2r': -0.0018737754630853505, 'PPS': 0.008631173114858658, 'ADK1': 0.008631173114858658, 'AKGDH': 5.033465455569609, 'ATPS4r': 45.51648581947021, 'PTAr': 0.0018737754630853505, 'PYK': 1.7860988155425828, 'BIOMASS_Ecoli_core_w_GAM': 0.8729648377778452, 'PYRt2': -0.0012490380571748064, 'CO2t': -22.819479800022066, 'RPE': 2.680545162260196, 'CS': 6.011339199746686, 'RPI': -2.2815032692221395, 'SUCCt2_2': 0.011070560634867924, 'CYTBD': 43.62676497687049, 'D_LACt2': -0.0010669491874412897, 'ENO': 14.719426030592032, 'SUCCt3': 0.011910325275670864, 'ETOHt2r': -0.0011017420185548976, 'SUCDi': 5.067308266013302, 'SUCOAS': -5.033465455569609, 'TALA': 1.4978427343489984, 'THD2': 0.0327383612583495, 'TKT1': 1.4978427343489984, 'TKT2': 1.1827024279111986, 'TPI': 7.477645732034885, 'EX_ac_e': 0.0018737754630853505, 'EX_acald_e': 0.0012496579566682149, 'EX_akg_e': 0.0007289617391095303, 'EX_co2_e': 22.819479800022066, 'EX_etoh_e': 0.0011017420185548976, 'EX_for_e': 0.0055606466788236655, 'EX_fru_e': 0.0, 'EX_fum_e': 0.0, 'EX_glc__D_e': -10.0, 'EX_gln__L_e': 0.0, 'EX_glu__L_e': 0.0006204438749695526, 'EX_h_e': 17.525803395719812, 'EX_h2o_e': 29.182190736238553, 'EX_lac__D_e': 0.0010669491874412897, 'EX_mal__L_e': 0.0, 'EX_nh4_e': -4.760723111310022, 'EX_o2_e': -21.813382488435245, 'EX_pi_e': -3.2113757487333494, 'EX_pyr_e': 0.0012490380571748064, 'EX_succ_e': 0.0008397646408029479, 'FBA': 7.477645732034885, 'FBP': 0.008423181262726348, 'FORt2': 0.03589040525614481, 'FORt': -0.04145105193496849, 'FRD7': 0.0, 'FRUpts2': 0.0, 'FUM': 5.067308266013302, 'FUMt2_2': 0.0, 'G6PDH2r': 4.96204843148236, 'GAPD': 16.025381427907572, 'GLCpts': 10.0, 'GLNS': 0.24044228098438059, 'GLNabc': 0.0, 'GLUDy': -4.52890780961695, 'GLUN': 0.008626979291321389, 'GLUSy': 0.008598192673264652, 'GLUt2r': -0.0006204438749695526, 'GND': 4.96204843148236, 'H2Ot': -29.182190736238553, 'ICDHyr': 5.976656624662194, 'ICL': 0.034682575084494675, 'LDH_D': -0.0010669491874412897, 'MALS': 0.034682575084494675, 'MALt2_2': 0.0, 'MDH': 5.082263134530487, 'ME1': 0.008544068911951015, 'ME2': 0.01118363765532015, 'NADH16': 38.55945671085704, 'NADTRHD': 0.034270874164417486, 'NH4t': 4.760723111310022, 'O2t': 21.813382488435245, 'PDH': 9.316383922614467}\n",
      "{'PFK': 0.014409110602932628, 'PFL': 0.005702884292301258, 'PGI': 0.03501898679596077, 'PGK': 0.011667511479486081, 'PGL': 0.03501946216046602, 'ACALD': 0.0015814333548863529, 'AKGt2r': 0.000702678851164423, 'PGM': 0.01166480723346446, 'PIt2r': 0.00015491181792259262, 'ALCD2x': 0.0010718290987066887, 'ACALDt': 0.001214345149264657, 'ACKr': 0.001850631255311072, 'PPC': 0.03739717479054317, 'ACONTa': 0.01189540467983278, 'ACONTb': 0.01189540467983278, 'ATPM': 0.008904210407143166, 'PPCK': 0.008657116538174718, 'ACt2r': 0.001850631255311072, 'PPS': 0.008400614120853897, 'ADK1': 0.008400614120853897, 'AKGDH': 0.04010047672829331, 'ATPS4r': 0.02673607323942209, 'PTAr': 0.001850631255311072, 'PYK': 0.03241367056469059, 'BIOMASS_Ecoli_core_w_GAM': 4.211047868062046e-05, 'PYRt2': 0.0011717882011022967, 'CO2t': 0.008541753530072187, 'RPE': 0.02334799817779776, 'CS': 0.01189540467983278, 'RPI': 0.011671522674178324, 'SUCCt2_2': 0.010828994252054002, 'CYTBD': 0.014500139213543463, 'D_LACt2': 0.001024089910414442, 'ENO': 0.01166480723346446, 'SUCCt3': 0.010840539932425439, 'ETOHt2r': 0.0010718290987066887, 'SUCDi': 0.0119540936835811, 'SUCOAS': 0.04010047672829334, 'TALA': 0.011673572245206765, 'THD2': 0.03240200548678363, 'TKT1': 0.011673572245206765, 'TKT2': 0.011674430865775902, 'TPI': 0.011670917283702693, 'EX_ac_e': 0.001850631255311072, 'EX_acald_e': 0.001214345149264657, 'EX_akg_e': 0.000702678851164423, 'EX_co2_e': 0.008541753530072187, 'EX_etoh_e': 0.0010718290987066887, 'EX_for_e': 0.005702884292301258, 'EX_fru_e': 0.0, 'EX_fum_e': 0.0, 'EX_glc__D_e': 0.0, 'EX_gln__L_e': 0.0, 'EX_glu__L_e': 0.0005935286585906634, 'EX_h_e': 0.006099827666335893, 'EX_h2o_e': 0.007806355292065771, 'EX_lac__D_e': 0.001024089910414442, 'EX_mal__L_e': 0.0, 'EX_nh4_e': 0.0006195680789005776, 'EX_o2_e': 0.007250069606771731, 'EX_pi_e': 0.00015491181792259262, 'EX_pyr_e': 0.0011717882011022967, 'EX_succ_e': 0.0008342330622258578, 'FBA': 0.011670917283702693, 'FBP': 0.008077295519447488, 'FORt2': 0.03375905620181664, 'FORt': 0.033991465686957885, 'FRD7': 0.0, 'FRUpts2': 0.0, 'FUM': 0.0119540936835811, 'FUMt2_2': 0.0, 'G6PDH2r': 0.03501946216046602, 'GAPD': 0.011667511479486081, 'GLCpts': 0.0, 'GLNS': 0.01218114810140536, 'GLNabc': 0.0, 'GLUDy': 0.009230203177790365, 'GLUN': 0.008236976726407328, 'GLUSy': 0.009161638803784703, 'GLUt2r': 0.0005935286585906634, 'GND': 0.03501946216046602, 'H2Ot': 0.007806355292065771, 'ICDHyr': 0.04015998824743226, 'ICL': 0.032946731716569165, 'LDH_D': 0.001024089910414442, 'MALS': 0.032946731716569165, 'MALt2_2': 0.0, 'MDH': 0.03173859749131713, 'ME1': 0.008504678847928673, 'ME2': 0.010793213221411021, 'NADH16': 0.016860326336909762, 'NADTRHD': 0.03319125083127446, 'NH4t': 0.0006195680789005776, 'O2t': 0.007250069606771731, 'PDH': 0.029531180982302743}\n",
      "{'PFK': 0.12374755969977969, 'PFL': 0.08269519989867806, 'PGI': 0.3616626475837448, 'PGK': 0.1205071296666933, 'PGL': 0.3616663745313229, 'ACALD': 0.013722986180554161, 'AKGt2r': 0.005562120226464046, 'PGM': 0.12047993203876217, 'PIt2r': 0.001465271699538473, 'ALCD2x': 0.013694330386641604, 'ACALDt': 0.01301772607037022, 'ACKr': 0.014301108671311673, 'PPC': 0.3226433953571646, 'ACONTa': 0.11835759194195106, 'ACONTb': 0.11835759194195106, 'ATPM': 0.14380118932412422, 'PPCK': 0.12462876830085112, 'ACt2r': 0.014301108671311673, 'PPS': 0.09063760640797631, 'ADK1': 0.09063760640797631, 'AKGDH': 0.33591896440720426, 'ATPS4r': 0.2717995272315292, 'PTAr': 0.014301108671311673, 'PYK': 0.252411855328901, 'BIOMASS_Ecoli_core_w_GAM': 0.00039831236565313066, 'PYRt2': 0.00909717126296439, 'CO2t': 0.08979197668885419, 'RPE': 0.24112398430502457, 'CS': 0.11835759194195106, 'RPI': 0.12054239022616109, 'SUCCt2_2': 0.07603213265271899, 'CYTBD': 0.1069594979053008, 'D_LACt2': 0.009368148195152626, 'ENO': 0.12047993203876217, 'SUCCt3': 0.07783689718260213, 'ETOHt2r': 0.013694330386641604, 'SUCDi': 0.12070086267441571, 'SUCOAS': 0.3359189644072105, 'TALA': 0.12055871062060963, 'THD2': 0.3610890742174673, 'TKT1': 0.12055871062060963, 'TKT2': 0.1205652736844367, 'TPI': 0.12053737430039746, 'EX_ac_e': 0.014301108671311673, 'EX_acald_e': 0.01301772607037022, 'EX_akg_e': 0.005562120226464046, 'EX_co2_e': 0.08979197668885419, 'EX_etoh_e': 0.013694330386641604, 'EX_for_e': 0.08269519989867806, 'EX_fru_e': 0.0, 'EX_fum_e': 0.0, 'EX_glc__D_e': 0.0, 'EX_gln__L_e': 0.0, 'EX_glu__L_e': 0.004628012307818712, 'EX_h_e': 0.08445054139328789, 'EX_h2o_e': 0.0886466891946931, 'EX_lac__D_e': 0.009368148195152626, 'EX_mal__L_e': 0.0, 'EX_nh4_e': 0.004639485359407836, 'EX_o2_e': 0.0534797489526504, 'EX_pi_e': 0.001465271699538473, 'EX_pyr_e': 0.00909717126296439, 'EX_succ_e': 0.013039804578777734, 'FBA': 0.12053737430039746, 'FBP': 0.05814087532973023, 'FORt2': 0.2668759715556852, 'FORt': 0.2683023137076196, 'FRD7': 0.0, 'FRUpts2': 0.0, 'FUM': 0.12070086267441571, 'FUMt2_2': 0.0, 'G6PDH2r': 0.3616663745313229, 'GAPD': 0.1205071296666933, 'GLCpts': 0.0, 'GLNS': 0.17260502088230892, 'GLNabc': 0.0, 'GLUDy': 0.16957547324910482, 'GLUN': 0.06259501772696802, 'GLUSy': 0.16662362851455648, 'GLUt2r': 0.004628012307818712, 'GND': 0.3616663745313229, 'H2Ot': 0.0886466891946931, 'ICDHyr': 0.3356144832272534, 'ICL': 0.23652527237900337, 'LDH_D': 0.009368148195152626, 'MALS': 0.23652527237900337, 'MALt2_2': 0.0, 'MDH': 0.24884661520584572, 'ME1': 0.06815154140000317, 'ME2': 0.08146209025470716, 'NADH16': 0.13348783285167798, 'NADTRHD': 0.2400997577334157, 'NH4t': 0.004639485359407836, 'O2t': 0.0534797489526504, 'PDH': 0.23797313045371737}\n"
     ]
    }
   ],
   "source": [
    "\n",
    "import numpy as np\n",
    "\n",
    "stds = np.std(samples_optgp_condition_100, axis=1)\n",
    "means = np.mean(samples_optgp_condition_100, axis=1)\n",
    "# flux range (max - min)\n",
    "ranges = np.ptp(samples_optgp_condition_100, axis=1)\n",
    "\n",
    "\n",
    "mean_flux_dict = {}\n",
    "std_flux_dict = {}\n",
    "range_flux_dict = {}\n",
    "\n",
    "for i in range( len(ec_cobra_reaction_ids) ):\n",
    "    rxn_id = ec_cobra_reaction_ids[i]\n",
    "    mean_flux_dict[rxn_id] = means[i]\n",
    "    std_flux_dict[rxn_id] = stds[i]\n",
    "    range_flux_dict[rxn_id] = ranges[i]\n",
    "\n",
    "\n",
    "mean_flux_dict = {k: float(v) for k, v in mean_flux_dict.items()}\n",
    "std_flux_dict = {k: float(v) for k, v in std_flux_dict.items()}\n",
    "range_flux_dict = {k: float(v) for k, v in range_flux_dict.items()}\n",
    "\n",
    "print(mean_flux_dict)\n",
    "print(std_flux_dict)\n",
    "print(range_flux_dict)\n"
   ]
  },
  {
   "cell_type": "markdown",
   "id": "015afd83",
   "metadata": {},
   "source": [
    "### Assign the average of the fluxes from flux sampling as a colour scale to the reaction arrows"
   ]
  },
  {
   "cell_type": "code",
   "execution_count": 10,
   "id": "4e0fbbad",
   "metadata": {},
   "outputs": [
    {
     "data": {
      "application/vnd.jupyter.widget-view+json": {
       "model_id": "903ed77b93a443cea81afa2a1d0daf83",
       "version_major": 2,
       "version_minor": 0
      },
      "text/plain": [
       "Builder(allow_building_duplicate_reactions=False, and_method_in_gene_reaction_rule='mean', cofactors=['atp', '…"
      ]
     },
     "metadata": {},
     "output_type": "display_data"
    }
   ],
   "source": [
    "\n",
    "builder.reaction_data = mean_flux_dict\n",
    "builder\n"
   ]
  },
  {
   "cell_type": "markdown",
   "id": "f836fe76",
   "metadata": {},
   "source": [
    "### Assign the standard deviation of the fluxes from flux sampling as a colour scale to the reaction arrows"
   ]
  },
  {
   "cell_type": "code",
   "execution_count": 11,
   "id": "735ef1f6",
   "metadata": {},
   "outputs": [
    {
     "data": {
      "application/vnd.jupyter.widget-view+json": {
       "model_id": "903ed77b93a443cea81afa2a1d0daf83",
       "version_major": 2,
       "version_minor": 0
      },
      "text/plain": [
       "Builder(allow_building_duplicate_reactions=False, and_method_in_gene_reaction_rule='mean', cofactors=['atp', '…"
      ]
     },
     "metadata": {},
     "output_type": "display_data"
    }
   ],
   "source": [
    "\n",
    "builder.reaction_data = std_flux_dict\n",
    "builder\n"
   ]
  },
  {
   "cell_type": "markdown",
   "id": "c0092d39",
   "metadata": {},
   "source": [
    "### Assign the range of the fluxes from flux sampling as a colour scale to the reaction arrows"
   ]
  },
  {
   "cell_type": "code",
   "execution_count": 12,
   "id": "0a3db5cb",
   "metadata": {},
   "outputs": [
    {
     "data": {
      "application/vnd.jupyter.widget-view+json": {
       "model_id": "903ed77b93a443cea81afa2a1d0daf83",
       "version_major": 2,
       "version_minor": 0
      },
      "text/plain": [
       "Builder(allow_building_duplicate_reactions=False, and_method_in_gene_reaction_rule='mean', cofactors=['atp', '…"
      ]
     },
     "metadata": {},
     "output_type": "display_data"
    }
   ],
   "source": [
    "\n",
    "builder.reaction_data = range_flux_dict\n",
    "builder\n"
   ]
  },
  {
   "cell_type": "code",
   "execution_count": null,
   "metadata": {},
   "outputs": [],
   "source": []
  },
  {
   "cell_type": "code",
   "execution_count": null,
   "id": "00d704d0",
   "metadata": {},
   "outputs": [],
   "source": []
  },
  {
   "cell_type": "code",
   "execution_count": null,
   "metadata": {},
   "outputs": [],
   "source": []
  },
  {
   "cell_type": "code",
   "execution_count": null,
   "metadata": {},
   "outputs": [],
   "source": []
  },
  {
   "cell_type": "code",
   "execution_count": 7,
   "id": "7616b868",
   "metadata": {},
   "outputs": [],
   "source": [
    "\n",
    "import json\n",
    "from pathlib import Path\n",
    "from typing import Literal\n",
    "from contextlib import suppress\n",
    "# contextlib.suppress is a context manager in Python that allows you to ignore specific exceptions inside a with block — cleanly and explicitly.\n",
    "from collections import defaultdict\n",
    "import cobra\n",
    "from cobramod.core import pathway as pt\n",
    "from cobramod.visualization.converter import JsonDictionary\n",
    "\n",
    "\n",
    "BIGG_COFACTORS = ['atp_c0', 'atp_c', 'adp_c', 'adp_c0',\n",
    "                  'atp_c0', 'atp_c', 'adp_c', 'adp_c0',\n",
    "                  'udp_c0', 'udp_c', 'ump_c0', 'ump_c',\n",
    "                  'amp_c', 'amp_c0',\n",
    "                  'gdp_c0', 'gdp_c', 'gtp_c0', 'gtp_c',\n",
    "                  'accoa_c', 'accoa_c0', 'coa_c', 'coa_c0',  # acetyl-CoA\n",
    "                  'q8_c0', 'q8_c', 'q8h2_c', 'q8h2_c0', 'mqn8_c', 'mqn8_c0', 'mql8_c', 'mql8_c0', 'q8h2_c', 'q8h2_c0',\n",
    "                  'actp_c0', 'actp_c',\n",
    "                  'h2o_c', 'h2o_c0', 'h2o_e', 'h2o[e]',\n",
    "                  'pi_e', 'pi[e]', 'pi_c', 'pi_c0', 'ppi_c0', 'ppi_c',\n",
    "                  'pep_c', 'pep_c0',\n",
    "                  'h_c', 'h_c0', 'h_e', 'h[e]',\n",
    "                  'o2_c', 'o2_c0', 'o2_e', 'o2[e]',\n",
    "                  'co2_c', 'co2_c0', 'co2_e', 'co2[e]',\n",
    "                  'nadp_c', 'nadp_c0', 'nadph_c', 'nadph_c0', 'nad_c', 'nad_c0', 'nadh_c', 'nadh_c0',\n",
    "                  'nadp_e', 'nadp[e]', 'nadph_e', 'nadph_c0', 'nad_e', 'nad[e]', 'nadh_e', 'nadh[e]',\n",
    "                  'fadh2_c', 'fadh2_c0', 'fad_c', 'fad_c0',\n",
    "                  'nh4_c', 'nh4_c0', 'nh4_e', 'nh4[e]',\n",
    "                  'pyr_c0', 'pyr_c'\n",
    "                  ]\n",
    "BIGG_BUILDING_BLOCLS = ['ala_L_c0', 'asp_L_c0', ' gln_L_c0', 'glu_L_c0', 'glu_L_c0', 'ser_L_c0', 'trp_L_c0', 'met_L_c0', 'lys_L_c0', 'cyst_L_c0',\n",
    "                        ]\n",
    "\n",
    "# Based on 10.1093/gigascience/giy021\n",
    "MODELSEED_COFACTORS = [\n",
    "    \"cpd00001_c0\",  # h2o\n",
    "    \"cpd00002_c0\",  # atp\n",
    "    \"cpd00003_c0\",  # nad\n",
    "    \"cpd00004_c0\",\n",
    "    \"cpd00005_c0\",\n",
    "    \"cpd00006_c0\",  # nadp\n",
    "    \"cpd00007_c0\",\n",
    "    \"cpd00008_c0\",  # adp\n",
    "    \"cpd00009_c0\",  # HZ added\n",
    "    \"cpd00010_c0\",  # CoA\n",
    "    \"cpd00011_c0\",  # co2\n",
    "    \"cpd00012_c0\",  # ppi\n",
    "    \"cpd00013_c0\",  # NH3\n",
    "    \"cpd00014_c0\",\n",
    "    \"cpd00015_c0\",  # fad\n",
    "    \"cpd00018_c0\",  # amp-like\n",
    "    \"cpd00020_c0\",  # pyruvate\n",
    "    \"cpd00022_c0\",\n",
    "    \"cpd00031_c0\",  # gdp-like\n",
    "    \"cpd00038_c0\",  # gtp\n",
    "    \"cpd00056_c0\",  # ttp\n",
    "    \"cpd00061_c0\",  # pep\n",
    "    \"cpd00067_c0\",  # H+\n",
    "    \"cpd15353_c0\",\n",
    "    \"cpd15499_c0\",\n",
    "    \"cpd15561_c0\",\n",
    "    \"cpd00097_c0\",\n",
    "    \"cpd00982_c0\",\n",
    "    \"cpd01270_c0\",\n",
    "    \"cpd00052_c0\",\n",
    "    \"cpd00062_c0\",\n",
    "    \"cpd00068_c0\",\n",
    "    \"cpd00115_c0\",\n",
    "    \"cpd00241_c0\",\n",
    "    \"cpd00356_c0\",\n",
    "    \"cpd00357_c0\",\n",
    "    \"cpd00358_c0\",\n",
    "    \"cpd00530_c0\",\n",
    "    \"cpd00977_c0\",\n",
    "    \"cpd01775_c0\"\n",
    "]\n",
    "\n",
    "EXCLUDED_COMPOUNDS = BIGG_COFACTORS + MODELSEED_COFACTORS"
   ]
  },
  {
   "cell_type": "code",
   "execution_count": 8,
   "id": "e0d12290",
   "metadata": {},
   "outputs": [],
   "source": [
    "\n",
    "def remove_cycles(hierarchy):\n",
    "    \"\"\"\n",
    "    Takes a {parent: (child,…)} hierarchy and returns the same structure\n",
    "    with cycles removed (based on DFS). All original keys are preserved,\n",
    "    even if they end up with no children.\n",
    "    \"\"\"\n",
    "    graph = {k: set(v) for k, v in hierarchy.items()}\n",
    "\n",
    "    # Ensure all nodes are in the graph (even leaf-only ones)\n",
    "    for children in graph.values():\n",
    "        for c in children:\n",
    "            graph.setdefault(c, set())\n",
    "\n",
    "    visited, on_stack = set(), set()\n",
    "\n",
    "    def dfs(u):\n",
    "        visited.add(u)\n",
    "        on_stack.add(u)\n",
    "\n",
    "        for v in list(graph[u]):\n",
    "            if v not in visited:\n",
    "                dfs(v)\n",
    "            elif v in on_stack:\n",
    "                # Back-edge → would close a cycle\n",
    "                graph[u].remove(v)\n",
    "\n",
    "        on_stack.remove(u)\n",
    "\n",
    "    for node in graph:\n",
    "        if node not in visited:\n",
    "            dfs(node)\n",
    "\n",
    "    # ✅ Keep all nodes, even those with no children\n",
    "    return {\n",
    "        k: (None if not v else (sorted(v)[0] if len(v) == 1 else tuple(sorted(v))))\n",
    "        for k, v in graph.items()\n",
    "    }\n",
    "\n",
    "# %%\n",
    "from collections import defaultdict\n",
    "\n",
    "def build_reaction_hierarchy(reaction_dict):\n",
    "    def extract_id(m): return m.id if hasattr(m, 'id') else str(m)\n",
    "    def get_ids(metabolite_list): return {extract_id(m) for m in metabolite_list}\n",
    "\n",
    "    def get_effective_products(data):\n",
    "        if data.get('reversibility'):\n",
    "            return get_ids(data.get('f_products', [])) | get_ids(data.get('f_reactants', []))\n",
    "        return get_ids(data.get('f_products', []))\n",
    "\n",
    "    def get_effective_reactants(data):\n",
    "        if data.get('reversibility'):\n",
    "            return get_ids(data.get('f_reactants', [])) | get_ids(data.get('f_products', []))\n",
    "        return get_ids(data.get('f_reactants', []))\n",
    "\n",
    "    hierarchy = defaultdict(set)\n",
    "    used_fallback = set()\n",
    "\n",
    "    # Step 1: filtered fields (f_products/f_reactants), respecting reversibility\n",
    "    for parent, data1 in reaction_dict.items():\n",
    "        parent_outputs = get_effective_products(data1)\n",
    "        for child, data2 in reaction_dict.items():\n",
    "            if parent != child:\n",
    "                child_inputs = get_effective_reactants(data2)\n",
    "                if parent_outputs & child_inputs:\n",
    "                    hierarchy[parent].add(child)\n",
    "\n",
    "    # Step 2: add missing reactions using unfiltered products/reactants\n",
    "    all_children = set(child for children in hierarchy.values() for child in children)\n",
    "    missing_parents = all_children - set(hierarchy)\n",
    "\n",
    "    for parent in missing_parents:\n",
    "        data1 = reaction_dict[parent]\n",
    "        parent_outputs = (\n",
    "            get_ids(data1.get('products', [])) | get_ids(data1.get('reactants', []))\n",
    "            if data1.get('reversibility')\n",
    "            else get_ids(data1.get('products', []))\n",
    "        )\n",
    "        for child, data2 in reaction_dict.items():\n",
    "            if parent != child:\n",
    "                child_inputs = (\n",
    "                    get_ids(data2.get('reactants', [])) | get_ids(data2.get('products', []))\n",
    "                    if data2.get('reversibility')\n",
    "                    else get_ids(data2.get('reactants', []))\n",
    "                )\n",
    "                if parent_outputs & child_inputs:\n",
    "                    hierarchy[parent].add(child)\n",
    "                    used_fallback.add(parent)\n",
    "\n",
    "    return {k: tuple(sorted(v)) for k, v in hierarchy.items()}\n",
    "\n",
    "\n",
    "# %%\n",
    "def build_escher_map(\n",
    "    model, \n",
    "    type: Literal[\"pathway\", \"graph\"] = \"pathway\", \n",
    "    reaction_list=[], \n",
    "    pathway=None, KEGG_pathway_id=None, # TODO (Haris Zafeiropoulos, 2025-07-15): use pathway name or id as input, instead of list of reactions\n",
    "    map_name=\"test_map\",\n",
    "    vertical=False,\n",
    "    prev_gc = {}  # dev\n",
    "):\n",
    "    \"\"\"\n",
    "    Build Escher map from cobra model.\n",
    "\n",
    "    Example:\n",
    "        glycolysis = ['ALCD2x', 'ENO', 'FBA', 'FBP', 'GAPD', 'PFK', 'PGK', 'PGM', 'PPCK', 'PPS', 'PYK', 'TPI']\n",
    "        ppp = ['FBA', 'FBP', 'GND', 'PFK', 'PGL', 'RPE', 'RPI', 'TKT1']\n",
    "    \"\"\"\n",
    "    test_path = Path.cwd().joinpath(\"test_map.html\")\n",
    "    if len(reaction_list) > 0:\n",
    "\n",
    "        try:\n",
    "            members = {model.reactions.get_by_id(x) for x in reaction_list}\n",
    "        except KeyError as e:\n",
    "            print(\"Reaction(s) in list not part of the model.\")\n",
    "\n",
    "    members_parts = {}\n",
    "    for reaction in members:\n",
    "\n",
    "        members_parts[reaction.id] = {}\n",
    "\n",
    "        members_parts[reaction.id][\"reversibility\"] = reaction.reversibility\n",
    "\n",
    "        products  = [x for x in reaction.products]\n",
    "        reactants = [x for x in reaction.reactants]\n",
    "\n",
    "        members_parts[reaction.id][\"products\"]  = products\n",
    "        members_parts[reaction.id][\"reactants\"] = reactants\n",
    "\n",
    "        filtered_products  = [x for x in reaction.products if x.id not in EXCLUDED_COMPOUNDS]\n",
    "        filtered_reactants = [x for x in reaction.reactants if x.id not in EXCLUDED_COMPOUNDS]\n",
    "\n",
    "        members_parts[reaction.id][\"f_products\"]  = filtered_products\n",
    "        members_parts[reaction.id][\"f_reactants\"] = filtered_reactants\n",
    "\n",
    "    if len(prev_gc) > 0:\n",
    "        child_graph = prev_gc\n",
    "    else:\n",
    "        child_graph = remove_cycles(build_reaction_hierarchy(members_parts))\n",
    "\n",
    "    if type == \"pathway\":\n",
    "        cobramod_obj = pt.Pathway(id=\"test_group\", members=members)\n",
    "\n",
    "    elif type == \"graph\":\n",
    "        cobramod_obj = JsonDictionary()\n",
    "        cobramod_obj.reaction_strings = {x.id: x.build_reaction_string() for x in members}\n",
    "\n",
    "    with suppress(FileNotFoundError):\n",
    "        test_path.unlink()\n",
    "\n",
    "    cobramod_obj.graph = child_graph\n",
    "\n",
    "    if type == \"pathway\":\n",
    "        builder = cobramod_obj.visualize(vis = \"escher-custom\")\n",
    "    elif type == \"graph\":\n",
    "        builder = cobramod_obj.visualize(\n",
    "            filepath           = test_path,\n",
    "            vertical           = vertical,\n",
    "            custom_integration = True\n",
    "        )\n",
    "\n",
    "    data = json.loads(builder.map_json)\n",
    "\n",
    "    for _, r in data[1][\"reactions\"].items():\n",
    "        for rxn in members:\n",
    "            if r[\"name\"] == rxn.id:\n",
    "                r[\"reversibility\"] = rxn.reversibility\n",
    "\n",
    "    outfile = map_name + \".json\"\n",
    "    with open(outfile, \"w\") as f:\n",
    "        json.dump(data, f)\n",
    "\n",
    "    return child_graph, data, members\n",
    "\n"
   ]
  },
  {
   "cell_type": "code",
   "execution_count": 15,
   "id": "e884bad0",
   "metadata": {},
   "outputs": [
    {
     "ename": "IndexError",
     "evalue": "list assignment index out of range",
     "output_type": "error",
     "traceback": [
      "\u001b[31m---------------------------------------------------------------------------\u001b[39m",
      "\u001b[31mIndexError\u001b[39m                                Traceback (most recent call last)",
      "\u001b[36mCell\u001b[39m\u001b[36m \u001b[39m\u001b[32mIn[15]\u001b[39m\u001b[32m, line 4\u001b[39m\n\u001b[32m      1\u001b[39m glycolysis = [\u001b[33m'\u001b[39m\u001b[33mALCD2x\u001b[39m\u001b[33m'\u001b[39m, \u001b[33m'\u001b[39m\u001b[33mENO\u001b[39m\u001b[33m'\u001b[39m, \u001b[33m'\u001b[39m\u001b[33mFBA\u001b[39m\u001b[33m'\u001b[39m, \u001b[33m'\u001b[39m\u001b[33mFBP\u001b[39m\u001b[33m'\u001b[39m, \u001b[33m'\u001b[39m\u001b[33mGAPD\u001b[39m\u001b[33m'\u001b[39m, \u001b[33m'\u001b[39m\u001b[33mPFK\u001b[39m\u001b[33m'\u001b[39m, \u001b[33m'\u001b[39m\u001b[33mPGK\u001b[39m\u001b[33m'\u001b[39m, \u001b[33m'\u001b[39m\u001b[33mPGM\u001b[39m\u001b[33m'\u001b[39m, \u001b[33m'\u001b[39m\u001b[33mPPCK\u001b[39m\u001b[33m'\u001b[39m, \u001b[33m'\u001b[39m\u001b[33mPPS\u001b[39m\u001b[33m'\u001b[39m, \u001b[33m'\u001b[39m\u001b[33mPYK\u001b[39m\u001b[33m'\u001b[39m, \u001b[33m'\u001b[39m\u001b[33mTPI\u001b[39m\u001b[33m'\u001b[39m]\n\u001b[32m      2\u001b[39m ppp = [\u001b[33m'\u001b[39m\u001b[33mFBA\u001b[39m\u001b[33m'\u001b[39m, \u001b[33m'\u001b[39m\u001b[33mFBP\u001b[39m\u001b[33m'\u001b[39m, \u001b[33m'\u001b[39m\u001b[33mGND\u001b[39m\u001b[33m'\u001b[39m, \u001b[33m'\u001b[39m\u001b[33mPFK\u001b[39m\u001b[33m'\u001b[39m, \u001b[33m'\u001b[39m\u001b[33mPGL\u001b[39m\u001b[33m'\u001b[39m, \u001b[33m'\u001b[39m\u001b[33mRPE\u001b[39m\u001b[33m'\u001b[39m, \u001b[33m'\u001b[39m\u001b[33mRPI\u001b[39m\u001b[33m'\u001b[39m, \u001b[33m'\u001b[39m\u001b[33mTKT1\u001b[39m\u001b[33m'\u001b[39m]\n\u001b[32m----> \u001b[39m\u001b[32m4\u001b[39m gc, data, members = \u001b[43mbuild_escher_map\u001b[49m\u001b[43m(\u001b[49m\u001b[43mec_cobra_model\u001b[49m\u001b[43m,\u001b[49m\u001b[43m \u001b[49m\u001b[43mreaction_list\u001b[49m\u001b[43m=\u001b[49m\u001b[43mppp\u001b[49m\u001b[43m,\u001b[49m\u001b[43m \u001b[49m\u001b[43mmap_name\u001b[49m\u001b[43m=\u001b[49m\u001b[33;43m\"\u001b[39;49m\u001b[33;43mtest\u001b[39;49m\u001b[33;43m\"\u001b[39;49m\u001b[43m,\u001b[49m\u001b[43m \u001b[49m\u001b[38;5;28;43mtype\u001b[39;49m\u001b[43m=\u001b[49m\u001b[33;43m\"\u001b[39;49m\u001b[33;43mgraph\u001b[39;49m\u001b[33;43m\"\u001b[39;49m\u001b[43m)\u001b[49m\n",
      "\u001b[36mCell\u001b[39m\u001b[36m \u001b[39m\u001b[32mIn[8]\u001b[39m\u001b[32m, line 157\u001b[39m, in \u001b[36mbuild_escher_map\u001b[39m\u001b[34m(model, type, reaction_list, pathway, KEGG_pathway_id, map_name, vertical, prev_gc)\u001b[39m\n\u001b[32m    155\u001b[39m     builder = cobramod_obj.visualize(vis = \u001b[33m\"\u001b[39m\u001b[33mescher-custom\u001b[39m\u001b[33m\"\u001b[39m)\n\u001b[32m    156\u001b[39m \u001b[38;5;28;01melif\u001b[39;00m \u001b[38;5;28mtype\u001b[39m == \u001b[33m\"\u001b[39m\u001b[33mgraph\u001b[39m\u001b[33m\"\u001b[39m:\n\u001b[32m--> \u001b[39m\u001b[32m157\u001b[39m     builder = \u001b[43mcobramod_obj\u001b[49m\u001b[43m.\u001b[49m\u001b[43mvisualize\u001b[49m\u001b[43m(\u001b[49m\n\u001b[32m    158\u001b[39m \u001b[43m        \u001b[49m\u001b[43mfilepath\u001b[49m\u001b[43m           \u001b[49m\u001b[43m=\u001b[49m\u001b[43m \u001b[49m\u001b[43mtest_path\u001b[49m\u001b[43m,\u001b[49m\n\u001b[32m    159\u001b[39m \u001b[43m        \u001b[49m\u001b[43mvertical\u001b[49m\u001b[43m           \u001b[49m\u001b[43m=\u001b[49m\u001b[43m \u001b[49m\u001b[43mvertical\u001b[49m\u001b[43m,\u001b[49m\n\u001b[32m    160\u001b[39m \u001b[43m        \u001b[49m\u001b[43mcustom_integration\u001b[49m\u001b[43m \u001b[49m\u001b[43m=\u001b[49m\u001b[43m \u001b[49m\u001b[38;5;28;43;01mTrue\u001b[39;49;00m\n\u001b[32m    161\u001b[39m \u001b[43m    \u001b[49m\u001b[43m)\u001b[49m\n\u001b[32m    163\u001b[39m data = json.loads(builder.map_json)\n\u001b[32m    165\u001b[39m \u001b[38;5;28;01mfor\u001b[39;00m _, r \u001b[38;5;129;01min\u001b[39;00m data[\u001b[32m1\u001b[39m][\u001b[33m\"\u001b[39m\u001b[33mreactions\u001b[39m\u001b[33m\"\u001b[39m].items():\n",
      "\u001b[36mFile \u001b[39m\u001b[32m~/miniconda3/envs/dingo-stats-3-11/lib/python3.11/site-packages/cobramod/visualization/converter.py:1004\u001b[39m, in \u001b[36mJsonDictionary.visualize\u001b[39m\u001b[34m(self, filepath, vertical, color, min_max, quantile, max_steps, n_steps, custom_integration, never_ask_before_quit)\u001b[39m\n\u001b[32m   1002\u001b[39m     filepath = Path.cwd().joinpath(filepath)\n\u001b[32m   1003\u001b[39m \u001b[38;5;66;03m# Use relationship\u001b[39;00m\n\u001b[32m-> \u001b[39m\u001b[32m1004\u001b[39m mapping = \u001b[43mget_mapping\u001b[49m\u001b[43m(\u001b[49m\u001b[43mgraph\u001b[49m\u001b[43m=\u001b[49m\u001b[38;5;28;43mself\u001b[39;49m\u001b[43m.\u001b[49m\u001b[43mgraph\u001b[49m\u001b[43m)\u001b[49m\n\u001b[32m   1005\u001b[39m \u001b[38;5;28;01mif\u001b[39;00m vertical:\n\u001b[32m   1006\u001b[39m     mapping = transpose(matrix=mapping)\n",
      "\u001b[36mFile \u001b[39m\u001b[32m~/miniconda3/envs/dingo-stats-3-11/lib/python3.11/site-packages/cobramod/visualization/mapping.py:232\u001b[39m, in \u001b[36mget_mapping\u001b[39m\u001b[34m(graph)\u001b[39m\n\u001b[32m    230\u001b[39m \u001b[38;5;66;03m# Fill with 0 and merge rows if needed\u001b[39;00m\n\u001b[32m    231\u001b[39m longest = \u001b[38;5;28mlen\u001b[39m(matrix[\u001b[32m0\u001b[39m])\n\u001b[32m--> \u001b[39m\u001b[32m232\u001b[39m matrix = \u001b[43mformat_matrix\u001b[49m\u001b[43m(\u001b[49m\u001b[43mmatrix\u001b[49m\u001b[43m=\u001b[49m\u001b[43mmatrix\u001b[49m\u001b[43m,\u001b[49m\u001b[43m \u001b[49m\u001b[43mmax_length\u001b[49m\u001b[43m=\u001b[49m\u001b[43mlongest\u001b[49m\u001b[43m)\u001b[49m\n\u001b[32m    233\u001b[39m \u001b[38;5;28;01mreturn\u001b[39;00m matrix\n",
      "\u001b[36mFile \u001b[39m\u001b[32m~/miniconda3/envs/dingo-stats-3-11/lib/python3.11/site-packages/cobramod/visualization/mapping.py:208\u001b[39m, in \u001b[36mformat_matrix\u001b[39m\u001b[34m(matrix, max_length)\u001b[39m\n\u001b[32m    206\u001b[39m     \u001b[38;5;28;01mif\u001b[39;00m index_i \u001b[38;5;129;01mnot\u001b[39;00m \u001b[38;5;129;01min\u001b[39;00m positions:\n\u001b[32m    207\u001b[39m         \u001b[38;5;28;01mcontinue\u001b[39;00m\n\u001b[32m--> \u001b[39m\u001b[32m208\u001b[39m     \u001b[43mprevious_row\u001b[49m\u001b[43m[\u001b[49m\u001b[43mindex_i\u001b[49m\u001b[43m]\u001b[49m = row[index_i]\n\u001b[32m    209\u001b[39m \u001b[38;5;66;03m# Remove previous and replace with new row\u001b[39;00m\n\u001b[32m    210\u001b[39m matrix[index_j] = previous_row\n",
      "\u001b[31mIndexError\u001b[39m: list assignment index out of range"
     ]
    }
   ],
   "source": [
    "\n",
    "glycolysis = ['ALCD2x', 'ENO', 'FBA', 'FBP', 'GAPD', 'PFK', 'PGK', 'PGM', 'PPCK', 'PPS', 'PYK', 'TPI']\n",
    "ppp = ['FBA', 'FBP', 'GND', 'PFK', 'PGL', 'RPE', 'RPI', 'TKT1']\n",
    "\n",
    "gc, data, members = build_escher_map(ec_cobra_model, reaction_list=ppp, map_name=\"test\", type=\"graph\")\n"
   ]
  }
 ],
 "metadata": {
  "kernelspec": {
   "display_name": "dingo-stats-3-10",
   "language": "python",
   "name": "python3"
  },
  "language_info": {
   "codemirror_mode": {
    "name": "ipython",
    "version": 3
   },
   "file_extension": ".py",
   "mimetype": "text/x-python",
   "name": "python",
   "nbconvert_exporter": "python",
   "pygments_lexer": "ipython3",
   "version": "3.10.18"
  }
 },
 "nbformat": 4,
 "nbformat_minor": 5
}
