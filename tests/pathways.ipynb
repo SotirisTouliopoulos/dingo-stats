{
 "cells": [
  {
   "cell_type": "markdown",
   "id": "384f56b6",
   "metadata": {},
   "source": [
    "### Load libraries and functions"
   ]
  },
  {
   "cell_type": "code",
   "execution_count": 1,
   "id": "22ded05d",
   "metadata": {},
   "outputs": [],
   "source": [
    "\n",
    "import sys\n",
    "sys.path.insert(0, '../src/')\n",
    "\n",
    "from load_modify_sample_utils import load_model, get_objective_functions, get_reaction_bounds\n",
    "\n",
    "from pathways_utils import map_model_to_kegg_reactions_dictionary, read_json_file, reaction_id_to_kegg_id\n",
    "from pathways_utils import dictionary_reaction_id_to_kegg_id, fill_missing_kegg_ids_in_initial_dictionary\n",
    "from pathways_utils import get_kegg_pathways_from_reaction_ids, subset_model_reactions_from_pathway_info\n",
    "from pathways_utils import dictionary_reaction_id_to_pathway, reaction_in_pathway_binary_matrix, plot_reaction_in_pathway_heatmap "
   ]
  },
  {
   "cell_type": "markdown",
   "id": "9438be74",
   "metadata": {},
   "source": [
    "### Load and inspect model (for more info see `load_modify_samply.ipynb`)"
   ]
  },
  {
   "cell_type": "code",
   "execution_count": 2,
   "id": "180773cd",
   "metadata": {},
   "outputs": [
    {
     "name": "stdout",
     "output_type": "stream",
     "text": [
      "Set parameter Username\n",
      "Set parameter LicenseID to value 2642044\n",
      "Academic license - for non-commercial use only - expires 2026-03-25\n",
      "['BIOMASS_Ecoli_core_w_GAM']\n",
      "(0.0, 1000.0)\n"
     ]
    }
   ],
   "source": [
    "\n",
    "ec_cobra_model, ec_cobra_reactions, ec_cobra_reaction_ids,  = load_model(\"../ext_data/models/e_coli_core.xml\")\n",
    "\n",
    "objective_functions = get_objective_functions(ec_cobra_model)\n",
    "print(objective_functions)\n",
    "\n",
    "default_reaction_bounds = get_reaction_bounds(ec_cobra_model)\n",
    "print(default_reaction_bounds.get(\"BIOMASS_Ecoli_core_w_GAM\"))\n"
   ]
  },
  {
   "cell_type": "markdown",
   "id": "08c1cd12",
   "metadata": {},
   "source": [
    "### Extract KEGG terms from reaction IDs\n",
    "\n",
    "The `map_model_to_kegg_reactions_dictionary` function will create a dictionary that will assign KEGG terms (values) to BiGG/SEED ids (keys) only from model information (without searching on online databases)"
   ]
  },
  {
   "cell_type": "code",
   "execution_count": 3,
   "id": "831a00ea",
   "metadata": {},
   "outputs": [
    {
     "name": "stdout",
     "output_type": "stream",
     "text": [
      "{'PFK': None, 'PFL': 'R00212', 'PGI': None, 'PGK': 'R01512', 'PGL': 'R02035', 'ACALD': 'R00228', 'AKGt2r': None, 'PGM': 'R01518', 'PIt2r': None, 'ALCD2x': 'R00754', 'ACALDt': None, 'ACKr': 'R00315', 'PPC': 'R00345', 'ACONTa': 'R01325', 'ACONTb': 'R01900', 'ATPM': 'R00086', 'PPCK': 'R00341', 'ACt2r': None, 'PPS': 'R00199', 'ADK1': 'R00127', 'AKGDH': 'R08549', 'ATPS4r': None, 'PTAr': 'R00230', 'PYK': 'R00200', 'BIOMASS_Ecoli_core_w_GAM': None, 'PYRt2': None, 'CO2t': None, 'RPE': 'R01529', 'CS': 'R00351', 'RPI': None, 'SUCCt2_2': None, 'CYTBD': None, 'D_LACt2': None, 'ENO': 'R00658', 'SUCCt3': None, 'ETOHt2r': None, 'SUCDi': None, 'SUCOAS': 'R00405', 'TALA': 'R01827', 'THD2': None, 'TKT1': None, 'TKT2': 'R01830', 'TPI': 'R01015', 'EX_ac_e': None, 'EX_acald_e': None, 'EX_akg_e': None, 'EX_co2_e': None, 'EX_etoh_e': None, 'EX_for_e': None, 'EX_fru_e': None, 'EX_fum_e': None, 'EX_glc__D_e': None, 'EX_gln__L_e': None, 'EX_glu__L_e': None, 'EX_h_e': None, 'EX_h2o_e': None, 'EX_lac__D_e': None, 'EX_mal__L_e': None, 'EX_nh4_e': None, 'EX_o2_e': None, 'EX_pi_e': None, 'EX_pyr_e': None, 'EX_succ_e': None, 'FBA': 'R01068', 'FBP': None, 'FORt2': None, 'FORt': None, 'FRD7': None, 'FRUpts2': None, 'FUM': 'R01082', 'FUMt2_2': None, 'G6PDH2r': 'R00835', 'GAPD': 'R01061', 'GLCpts': None, 'GLNS': 'R00253', 'GLNabc': None, 'GLUDy': 'R00248', 'GLUN': 'R00256', 'GLUSy': 'R00114', 'GLUt2r': None, 'GND': 'R01528', 'H2Ot': None, 'ICDHyr': 'R00267', 'ICL': 'R00479', 'LDH_D': 'R00704', 'MALS': 'R00472', 'MALt2_2': None, 'MDH': 'R00342', 'ME1': 'R00214', 'ME2': 'R00216', 'NADH16': None, 'NADTRHD': 'R00112', 'NH4t': None, 'O2t': None, 'PDH': 'R00209'}\n"
     ]
    }
   ],
   "source": [
    "\n",
    "initial_bigg_to_kegg_dictionary = map_model_to_kegg_reactions_dictionary(ec_cobra_model)\n",
    "print(initial_bigg_to_kegg_dictionary)\n"
   ]
  },
  {
   "cell_type": "markdown",
   "id": "68280365",
   "metadata": {},
   "source": [
    "### Load JSON file with KEGG information\n",
    "\n",
    "The `read_json_file` function reads the JSON file where the KEGG information is stored and stores it in a JSON and in a pandas dataframe objects. This JSON file is available from https://raw.githubusercontent.com/MGXlab/DNNGIOR/refs/heads/main/docs/biochemistry/reactions.json\n"
   ]
  },
  {
   "cell_type": "code",
   "execution_count": 4,
   "id": "bbaf4c93",
   "metadata": {},
   "outputs": [],
   "source": [
    "\n",
    "reactions_json, reactions_pandas = read_json_file(\"../ext_data/reactions/reactions.json\")\n"
   ]
  },
  {
   "cell_type": "markdown",
   "id": "f9bef27b",
   "metadata": {},
   "source": [
    "### Inspect the structure of the JSON file\n",
    "\n",
    "Inspect columns of interest (e.g. `aliases` and `linked_reaction` that contain information of interest)"
   ]
  },
  {
   "cell_type": "code",
   "execution_count": 5,
   "id": "fbb1a721",
   "metadata": {},
   "outputs": [
    {
     "name": "stdout",
     "output_type": "stream",
     "text": [
      "['AraCyc: INORGPYROPHOSPHAT-RXN', 'BiGG: IPP1; PPA; PPA_1; PPAm', 'BrachyCyc: INORGPYROPHOSPHAT-RXN', 'KEGG: R00004', 'MetaCyc: INORGPYROPHOSPHAT-RXN', 'Name: Diphosphate phosphohydrolase; Inorganic diphosphatase; Inorganic pyrophosphatase; Pyrophosphate phosphohydrolase; diphosphate phosphohydrolase; inorganic diphosphatase; inorganic diphosphatase (one proton translocation); inorganicdiphosphatase; pyrophosphate phosphohydrolase']\n",
      "rxn27946;rxn27947;rxn27948;rxn32487;rxn38157;rxn38158\n"
     ]
    }
   ],
   "source": [
    "\n",
    "print(reactions_pandas['aliases'][0])\n",
    "print(reactions_pandas['linked_reaction'][0])\n"
   ]
  },
  {
   "cell_type": "markdown",
   "id": "a639ea33",
   "metadata": {},
   "source": [
    "### Create dictionaries mapping BiGG/SEED ids to KEGG ids\n",
    "\n",
    "The `dictionary_reaction_id_to_kegg_id` function works on the `reactions_pandas` dataframe to store for each entry (BiGG or SEED reaction ids) the corresponding KEGG ids"
   ]
  },
  {
   "cell_type": "code",
   "execution_count": 6,
   "id": "41272f9a",
   "metadata": {},
   "outputs": [],
   "source": [
    "\n",
    "bigg_to_kegg, seed_to_kegg = dictionary_reaction_id_to_kegg_id(reactions_pandas)\n"
   ]
  },
  {
   "cell_type": "code",
   "execution_count": 7,
   "id": "6f70c72a",
   "metadata": {},
   "outputs": [
    {
     "name": "stdout",
     "output_type": "stream",
     "text": [
      "{'IPP1': 'R00004', 'PPA': 'R00004', 'PPA_1': 'R00004', 'PPAm': 'R00004', 'ALPHNH': 'R00005', 'DUR1_2': 'R00005', 'ILV2_2': 'R00006', 'CAT': 'R00009', 'CATp': 'R00009', 'CTA1': 'R00009', 'CTT1': 'R00009', 'ATH1': 'R00010; R06103', 'NTH1': 'R00010; R06103', 'NTH2': 'R00010; R06103', 'TREH': 'R00010; R06103', 'TREHe': 'R00010; R06103', 'TREHpp': 'R00010; R06103', 'TREHv': 'R00010; R06103', 'GLXCBL': 'R00013', 'GLXCL': 'R00013', 'CCP': 'R00017', 'CCP2m': 'R00017', 'CYCPO': 'R00017', 'HSPMS': 'R00018', 'HXAD': 'R00022', 'RBPC': 'R00024', 'FSP2_1': 'R00028; R06084', 'MAL12': 'R00028; R06084', 'MAL32': 'R00028; R06084', 'MALT': 'R00028; R06084', 'YGR287C': 'R00028; R06084', 'YIL172C': 'R00028; R06084', 'YJL216C': 'R00028; R06084', 'HEM2': 'R00036', 'PPBNGS': 'R00036', 'AHXDH': 'R00059', 'FEROpp': 'R00078', 'HEM3': 'R00084', 'HMBS': 'R00084', 'ATPH1': 'R00085', 'ATPM': 'R00086; R10531', 'ATPOBJ': 'R00086; R10531', 'FATP': 'R00086; R10531', 'NTP1': 'R00086; R10531', 'U214': 'R00086; R10531', 'NTPP6': 'R00087', 'ATPHs': 'R00088', 'ADNCYC': 'R00089', 'CYR1': 'R00089', 'GLT1': 'R00093', 'GLUSx': 'R00093', 'NADN': 'R00102', 'NADNm': 'R00102', 'U102': 'R00102', 'NADDP': 'R00103', 'NADDPe': 'R00103', 'NADDPp': 'R00103', 'NADK': 'R00104', 'NADKm': 'R00104', 'POS5_1': 'R00104', 'POS5_2': 'R00104', 'UTR1_1': 'R00104', 'UTR1_2': 'R00104', 'YEL041W_1': 'R00104', 'YEL041W_2': 'R00104', 'NADTRHD': 'R00112', 'TEST_NADTRHD': 'R00112', 'THD1': 'R00112', 'THD5': 'R00112', 'GLUSy': 'R00114', 'GLR1': 'R00115', 'GTHO': 'R00115', 'GTHOm': 'R00115', 'GTHOr': 'R00115', 'GTHRD': 'R00115', 'NADPPPS': 'R00118', 'NADPPPSm': 'R00118', 'U101': 'R00118', 'U105': 'R00118', 'NDP1': 'R00122', 'AP4AH': 'R00125', 'AP4AHr': 'R00125', 'APA2': 'R00126', 'ATPATF1': 'R00126', 'ADK1': 'R00127', 'ADK1_1': 'R00127', 'ADK1m': 'R00127', 'ADK2_1': 'R00127', 'DPCOAK': 'R00130', 'DPCOAKm': 'R00130', 'U96': 'R00130', 'U97': 'R00130', 'UREA': 'R00131', 'UREA2': 'R00131', 'H2CO3D': 'R00132; R10092', 'HCO3E': 'R00132; R10092', 'HCO3Em': 'R00132; R10092', 'HCO3En': 'R00132; R10092', 'NMNAT': 'R00137', 'NMNATm': 'R00137', 'NMNATr': 'R00137', 'YLR328W_3': 'R00137', 'PPA2': 'R00138', 'CBMK': 'R00150', 'CBMK2': 'R00150', 'CBMKr': 'R00150', 'NDP7': 'R00155', 'NDPK2': 'R00156', 'YNK1_1': 'R00156', 'UMPK': 'R00158', 'UMPKURIDK1': 'R00158', 'UMPKn': 'R00158', 'URA6_1': 'R00158', 'URA6_2': 'R00158', 'URIDK1': 'R00158', 'NTP7': 'R00159', 'FAD1': 'R00161', 'FMNAT': 'R00161', 'FMNATm': 'R00161', 'FMNATr': 'R00161', 'U80': 'R00161', 'PYDXPP': 'R00173', 'PYDXK': 'R00174', 'U83': 'R00174', 'METAT': 'R00177', 'SAM1': 'R00177', 'SAM2': 'R00177', 'ADMDC': 'R00178', 'ADMDCr': 'R00178', 'SPE2': 'R00178', 'AMD1_1': 'R00181', 'AMPDA': 'R00181', 'NTD7': 'R00183', 'NTD7pp': 'R00183', 'U30': 'R00183', 'ADNK1': 'R00185', 'YJR105W': 'R00185', 'BPNT': 'R00188', 'MET22': 'R00188', 'NADS1': 'R00189', 'NADS1m': 'R00189', 'NADS1n': 'R00189', 'QNS1_1': 'R00189', 'QNS1_2': 'R00189', 'ADPT': 'R00190', 'APT1': 'R00190', 'APT2': 'R00190', 'PDE1': 'R00191', 'PDE2_1': 'R00191', 'AHC': 'R00192', 'AHCi': 'R00192', 'SAH1': 'R00192', 'AHCYSNS': 'R00194', 'DAPAL': 'R00195', 'CYB2': 'R00196', 'L-LACD': 'R00196', 'L-LACDm': 'R00196', 'L_LACD': 'R00196', 'D-LACDm': 'R00197', 'PPS': 'R00199', 'CDC19': 'R00200', 'PYK': 'R00200', 'PYK2': 'R00200', 'PPDK': 'R00206', 'PDH': 'R00209', 'PDHm': 'R00209', 'PFL': 'R00212', 'PFLi': 'R00212', 'PFLr': 'R00212', 'ME1': 'R00214', 'ME1_rev': 'R00214', 'ME1m': 'R00214', 'ME1x': 'R00214', 'MALDDH': 'R00215', 'ME1x_D': 'R00215', 'MAE1': 'R00216', 'ME2': 'R00216', 'ME2m': 'R00216', 'OAADC': 'R00217', 'OXDE': 'R00217', 'CHA1_2': 'R00220', 'SERD_L': 'R00220', 'SERD_Lr': 'R00220', 'SER_AL': 'R00220', 'YIL167W': 'R00220', 'SERD_D': 'R00221', 'PDC1': 'R00224', 'PDC5': 'R00224', 'PDC6': 'R00224', 'PYRDC': 'R00224', 'ACH1': 'R00227', 'ACOAH': 'R00227', 'ACOAHim': 'R00227', 'ACALD': 'R00228', 'ACALDi': 'R00228', 'PTA': 'R00230', 'PTAr': 'R00230', 'MCD': 'R00233', 'ACS': 'R00235', 'ACS1': 'R00235', 'ACSm': 'R00235', 'ACSp': 'R00235', 'ACSr': 'R00235', 'AACOAT': 'R00238', 'ACACT1': 'R00238', 'ACACT1m': 'R00238', 'ACACT1r': 'R00238', 'ERG10': 'R00238', 'KAT1': 'R00238', 'GLU5K': 'R00239', 'GDH2': 'R00243', 'GLUDx': 'R00243', 'GLUDxi': 'R00243', 'GSADH': 'R00245', 'PUTA3': 'R00245', 'GDH1': 'R00248', 'GDH3': 'R00248', 'GLUDy': 'R00248', 'GLUDyi': 'R00248', 'OPAH': 'R00251', 'GLN1': 'R00253', 'GLNS': 'R00253', 'GLNS_i': 'R00253', 'GLUN': 'R00256', 'GLUNpp': 'R00256', 'U42': 'R00256', 'U43': 'R00256', 'NADS2': 'R00257', 'NADS2i': 'R00257', 'ALATA_L': 'R00258', 'ALATA_Lm': 'R00258', 'YDR111C': 'R00258', 'YLR089C': 'R00258', 'ACGS': 'R00259', 'ACGSm': 'R00259', 'ECM40_1': 'R00259', 'GLUR': 'R00260', 'GAD1': 'R00261', 'GLUDC': 'R00261', 'ICDHy': 'R00267', 'ICDHym': 'R00267', 'ICDHyp': 'R00267', 'ICDHyr': 'R00267', 'IDP1_2': 'R00268', 'IDP2_2': 'R00268', 'IDP3_2': 'R00268', 'HCITS': 'R00271', 'HCITSm': 'R00271', 'HCITSn': 'R00271', 'LYS20_1': 'R00271', 'LYS20_2': 'R00271', 'LYS21': 'R00271', 'OXGDC': 'R00272', 'GPX1': 'R00274', 'GPX2': 'R00274', 'GSHPO': 'R00274', 'GTHP': 'R00274', 'GTHPe': 'R00274', 'GTHPm': 'R00274', 'HYR1': 'R00274', 'SOD': 'R00275', 'SODe': 'R00275', 'SODr': 'R00275', 'SPODM': 'R00275', 'SPODMpp': 'R00275', 'PDX3_1': 'R00277', 'PDX3_5': 'R00277', 'PYAM5PO': 'R00277', 'PDX3_2': 'R00278', 'PDX5PO': 'R00278', 'PDX5POi': 'R00278', 'UDPGD': 'R00286', 'UDPGDi': 'R00286', 'UDPGDr': 'R00286', 'UDPGPpp': 'R00287', 'GALU': 'R00289', 'GALUi': 'R00289', 'UGP1': 'R00289', 'YHL012W': 'R00289', 'GAL10': 'R00291', 'UDPG4E': 'R00291', 'GLK1_1': 'R00299', 'HEX1': 'R00299', 'HXK1_2': 'R00299', 'HXK2_2': 'R00299', 'G1Dx': 'R00300', 'G6PP': 'R00303', 'G1PP': 'R00304', 'G1PPpp': 'R00304', 'BG(CELLB)': 'R00306; R06104', 'XYLI2': 'R00307', 'XYLI2i': 'R00307', 'FCLT': 'R00310', 'FCLTm': 'R00310', 'ACKr': 'R00315', 'ACYP_2': 'R00317', 'LO': 'R00319', 'AMID4': 'R00321', 'NDP3': 'R00328', 'NDP3g': 'R00328', 'NDPK1': 'R00330', 'YNK1_8': 'R00330', 'GK1': 'R00332', 'GUK1_1': 'R00332', 'NTP3': 'R00335', 'NTP3pp': 'R00335', 'G35DP': 'R00336', 'GDPDP3PH': 'R00336', 'PPGPP': 'R00336', 'PPGPPDP': 'R00336', 'TARTD': 'R00339', 'PCK1': 'R00341', 'PPCK': 'R00341', 'PPCKr': 'R00341', 'MDH': 'R00342', 'MDH1': 'R00342', 'MDHi2': 'R00342', 'MDHm': 'R00342', 'MDHp': 'R00342', 'MDHy': 'R00343', 'PC': 'R00344', 'PYC1': 'R00344', 'PYC2': 'R00344', 'PPC': 'R00345', 'CIT1': 'R00351', 'CIT2': 'R00351', 'CIT3': 'R00351', 'CS': 'R00351', 'CSm': 'R00351', 'CSp': 'R00351', 'AAT1_1': 'R00355', 'AAT2_1': 'R00355', 'ASPTA': 'R00355', 'ASPTA1': 'R00355', 'ASPTA1r': 'R00355', 'ASPTAm': 'R00355', 'ASPTAp': 'R00355', 'ASPO1': 'R00357', 'ASPO7': 'R00357', 'CITL': 'R00362', 'CITLr': 'R00362', 'GLYD': 'R00365', 'GLYO1': 'R00366', 'AGT': 'R00369', 'AGTi': 'R00369', 'YFL030W': 'R00369', 'GLYAT': 'R00371', 'GLYATRi': 'R00371', 'GLYATi': 'R00371', 'ALAD_L': 'R00396', 'ALAR': 'R00401', 'ALARi': 'R00401', 'LSC2': 'R00405', 'SUCOAS': 'R00405', 'SUCOAS1m': 'R00405', 'SUCOASm': 'R00405', 'FRD': 'R00408', 'FRDSUCD1i': 'R00408', 'FRDm': 'R00408', 'OSM1': 'R00408', 'SDH3_1': 'R00408', 'SUCD1': 'R00408', 'SUCD1i': 'R00408', 'SUCD1m': 'R00408', 'MCITL2': 'R00409', 'MCITL2m': 'R00409', 'MCL': 'R00409', 'MICITL': 'R00409', 'OCOAT1': 'R00410', 'OCOAT1r': 'R00410', 'SGDS': 'R00411', 'UAG2EMA': 'R00414', 'UAGDP': 'R00416', 'UAGDPr': 'R00416', 'UAG4E': 'R00418', 'UAG2E': 'R00420', 'UAG2Ei': 'R00420', 'FOL2': 'R00424', 'GTPCI': 'R00424', 'GTPCII2': 'R00425', 'RIB1': 'R00425', 'NTPP2': 'R00426', 'GTPDPK': 'R00429', 'PEPCK_re': 'R00431', 'GUACYC': 'R00434', 'LYSMO': 'R00449', 'DAPDC': 'R00451', 'LYSRC': 'R00460', 'LYSAM': 'R00461', 'LYSDC': 'R00462', 'GLYCLTDy': 'R00465', 'GLYCLTDyr': 'R00465', 'DAL3': 'R00469', 'UGLYCH': 'R00469', 'UGLYCHr': 'R00469', 'DDPGA': 'R00470', 'DAL7': 'R00472', 'MALS': 'R00472', 'MALSp': 'R00472', 'MLS1': 'R00472', 'MCAL': 'R00473', 'GLYCTO1': 'R00475', 'GLYCTO10': 'R00475', 'ICL': 'R00479', 'ICL1': 'R00479', 'ICL2': 'R00479', 'ASPK': 'R00480', 'ASPKi': 'R00480', 'HOM3': 'R00480', 'ASPO6': 'R00481', 'ASNS2': 'R00483', 'ASNN': 'R00485', 'ASNNe': 'R00485', 'ASNNpp': 'R00485', 'ASP1': 'R00485', 'ASP31': 'R00485', 'ASP32': 'R00485', 'ASP33': 'R00485', 'ASP34': 'R00485', 'ASP1DC': 'R00489', 'U98': 'R00489', 'ASPT': 'R00490', 'ASPR': 'R00491', 'ASPRM': 'R00491', 'GGTAe2': 'R00494', 'GTHRDHpp': 'R00494', 'GSH2': 'R00497', 'GTHS': 'R00497', 'GAL7_1': 'R00502', 'GALT': 'R00502', 'GALTi': 'R00502', 'UDPGALM': 'R00505', 'ADSK': 'R00509', 'ADSKr': 'R00509', 'MET14': 'R00509', 'NTD4': 'R00511', 'NTD4pp': 'R00511', 'U29': 'R00511', 'CYTK1': 'R00512', 'U18': 'R00512', 'CYTDK1': 'R00513', 'NTPP4': 'R00515', 'CYTDK2': 'R00517', 'URK1_2': 'R00517', 'FDH': 'R00519', 'FDH1': 'R00519', 'FDHr': 'R00519', 'YPL275W': 'R00519', 'YPL276W': 'R00519', 'FCOAH2': 'R00521', 'OXADC': 'R00522', 'FORAMD': 'R00524', 'NFORGLUAH': 'R00525', 'SFGTH': 'R00527', 'SFGTHi': 'R00527', 'YJL068C': 'R00527', 'MET3': 'R00529', 'SADT': 'R00529', 'SADT1r': 'R00529', 'APA1_3': 'R00530', 'SLFAT': 'R00530', 'ACP1(FMN)': 'R00548', 'ACP1_FMN': 'R00548', 'ACP1_FMN_': 'R00548', 'ACP1e': 'R00548', 'PHO11': 'R00548', 'FMN1_1': 'R00549', 'FMN1_2': 'R00549', 'RBFK': 'R00549', 'RBFKm': 'R00549', 'ARGD': 'R00552', 'ARGDE': 'R00552', 'ARGDr': 'R00552', 'ARGKr': 'R00554', 'NOPD': 'R00563', 'ARGDC': 'R00566', 'ARGDCpp': 'R00566', 'DCTPD2': 'R00568', 'NTP5': 'R00569', 'NDPK3': 'R00570', 'YNK1_2': 'R00570', 'CTPS1': 'R00571', 'URA7_2': 'R00571', 'URA8_2': 'R00571', 'CTPS2': 'R00573', 'URA7_1': 'R00573', 'URA8_1': 'R00573', 'CBPS': 'R00575', 'CBPSn': 'R00575', 'ASN1': 'R00578', 'ASN2': 'R00578', 'ASNS1': 'R00578', 'PSP_L': 'R00582', 'PSP_Lpp': 'R00582', 'SER2': 'R00582', 'SPA': 'R00585', 'SERAT': 'R00586', 'SERATi': 'R00586', 'U48': 'R00586', 'PRDX': 'R00602', 'ALDD1': 'R00604', 'ALDD1x': 'R00604', 'SARCO': 'R00610', 'SARCOX': 'R00610', 'TDP': 'R00615', 'THI80_2': 'R00616', 'TMDPPK': 'R00616', 'TMPK': 'R00617', 'TMPKr': 'R00617', 'U76': 'R00617', 'THI80_1': 'R00619', 'TMDPK': 'R00619', 'HCYSMT': 'R00650', 'MHT1': 'R00650', 'SAM4': 'R00650', 'AHSERL': 'R00651', 'MET17_1': 'R00651', 'FMETDF': 'R00653', 'METGL': 'R00654', 'ENO': 'R00658', 'ENO1': 'R00658', 'ENO2': 'R00658', 'ERR1_1': 'R00658', 'ERR1_2': 'R00658', 'ERR2': 'R00658', 'UAGCVT': 'R00660', 'NTPP8': 'R00662', 'or NDC': 'R00670', 'TRPAS2': 'R00673', 'TRPS2': 'R00674', 'TRPO2': 'R00678', 'YJR078W': 'R00678', 'TRPTA': 'R00684', 'ARO9_1': 'R00694', 'PHETA1': 'R00694', 'PHEAL': 'R00697', 'PHYCBOXL': 'R00699', 'ERG9_1': 'R00702', 'LDH_L': 'R00703', 'LDH_D': 'R00704', 'LDH_Dir': 'R00704', 'MMSAD3': 'R00705', 'P5CD': 'R00707', 'P5CDm': 'R00707', 'U41': 'R00707', 'ICDHxi': 'R00709', 'ICDHxm': 'R00709', 'IDH1': 'R00709', 'ALD2': 'R00710', 'ALD3': 'R00710', 'ALD4_1': 'R00710', 'ALDD2x': 'R00710', 'ALDD2xm': 'R00710', 'ALDD2xr': 'R00710', 'ALD4_2': 'R00711', 'ALD5_1': 'R00711', 'ALD6': 'R00711', 'ALDD2y': 'R00711', 'ALDD2ym': 'R00711', 'SSALx': 'R00713', 'SSALy': 'R00714', 'SSALyr': 'R00714', 'YBR006W': 'R00714', 'LYS1': 'R00715', 'SACCD2': 'R00715', 'GLYCLTDx': 'R00717', 'GLYCLTDxr': 'R00717', 'NTP10': 'R00719', 'ITPASE2': 'R00720', 'NTPP9': 'R00720', 'NDPK9': 'R00722', 'YNK1_9': 'R00722', 'AAT1_2': 'R00734', 'AAT2_2': 'R00734', 'ARO8': 'R00734', 'ARO9_2': 'R00734', 'TYRTA': 'R00734', 'TYRTAi': 'R00734', 'TYRTAim': 'R00734', 'TYRTAip': 'R00734', 'TYRTAm': 'R00734', 'TYRTAp': 'R00734', 'ACC1': 'R00742', 'ACCOAC': 'R00742', 'ACCOACr': 'R00742', 'ACCOACrm': 'R00742', 'ALCD2': 'R00746', 'ALCD2y': 'R00746', 'PALDP': 'R00747', 'PPACAH': 'R00747', 'ETHAAL': 'R00749', 'HOPNTAL': 'R00750', 'HOPNTAL3': 'R00750', 'GLY1': 'R00751', 'THRA': 'R00751', 'THRA2': 'R00751', 'THRAi': 'R00751', 'THRAr': 'R00751', 'ADH1': 'R00754', 'ADH2': 'R00754', 'ADH3': 'R00754', 'ADH4': 'R00754', 'ADH5': 'R00754', 'ALCD1': 'R00754', 'ALCD2if': 'R00754', 'ALCD2ir': 'R00754', 'ALCD2irm': 'R00754', 'ALCD2m': 'R00754', 'ALCD2x': 'R00754', 'SFA1_2': 'R00754', 'PFK': 'R00756', 'PFK1_1': 'R00756', 'PFK2': 'R00756', 'M1PD': 'R00758', 'HEX7': 'R00760', 'HXK1_4': 'R00760', 'HXK2_4': 'R00760', 'FBP': 'R00762', 'FBP1': 'R00762', 'FBP26': 'R00763', 'G6PDA': 'R00765', 'GF6PTA': 'R00768', 'GF6PTAr': 'R00768', 'GFA1': 'R00768', 'PGI': 'R00771', 'PGI1_1': 'R00771', 'MAN6PI': 'R00772', 'PMI40': 'R00772', 'UREASE': 'R00774', 'CYSDS': 'R00782', 'TRPAS1': 'R00782', 'NIR': 'R00783', 'NTRIR2x': 'R00787', 'NTRIR2y': 'R00789', 'NTRIRy': 'R00789', 'SUC2': 'R00801; R06087', 'SUCH': 'R00801; R06087', 'SUCR': 'R00801; R06087', 'SUCRe': 'R00801; R06087', 'ISOMS': 'R00810; R06217', 'BZDIOLDH': 'R00813', 'CAT23DOX': 'R00816', 'CATA': 'R00817', 'CATDOX': 'R00817', '3OXACOA': 'R00829', '3OXCOAT': 'R00829', 'ALASm': 'R00830', 'HEM1': 'R00830', 'AST': 'R00832', 'MMM': 'R00833', 'MMM2': 'R00833', 'G6PDH': 'R00835', 'G6PDH2': 'R00835', 'G6PDH2er': 'R00835', 'G6PDH2r': 'R00835', 'G6PDHy': 'R00835', 'ZWF1': 'R00835', 'TPS1': 'R00836; R06043', 'TPS3': 'R00836; R06043', 'TRE6PS': 'R00836; R06043', 'TSL1': 'R00836; R06043', 'TRE6PH': 'R00837; R06113', 'MAL6PG': 'R00838; R06115', 'PGGH': 'R00839', 'G3PT': 'R00841', 'HOR2': 'R00841', 'RHR2': 'R00841', 'G3PD1': 'R00842', 'G3PD1ir': 'R00842', 'G3PD1irm': 'R00842', 'GPD1': 'R00842', 'GPD2': 'R00842', 'G3PD2': 'R00844', 'GLYK': 'R00847', 'GLYKr': 'R00847', 'GUT1': 'R00847', 'G3PD': 'R00848', 'G3PDm': 'R00848', 'G3PCT': 'R00856', 'ECM17': 'R00858', 'MET10': 'R00858', 'SULR': 'R00858', 'SULRi': 'R00858', 'CYSSADS': 'R00863', 'MNLDH': 'R00868', 'SBTD_D': 'R00875', 'SBTD_D2': 'R00875', 'SBTD_Dr': 'R00875', 'SOR1': 'R00875', 'ALGD': 'R00880', 'GDPMNP': 'R00881', 'MAN1PT2': 'R00883', 'MAN1PT2_r': 'R00883', 'MAN1PT2r': 'R00883', 'MAN1PT': 'R00885', 'PSA1': 'R00885', 'GDPMD': 'R00888', 'GMAND': 'R00888', 'GLUCYS': 'R00894', 'GLUCYSL': 'R00894', 'GSH1': 'R00894', 'ASPTA4': 'R00895', 'R00896': 'R00895', 'CYSS': 'R00897', 'CYSSr': 'R00897', 'YGR012W': 'R00897', 'AMPTASECG': 'R00899', 'TRIA': 'R00899', 'ALDD22x': 'R00904', 'UPPN': 'R00905', 'APATr': 'R00907', 'BALAAT': 'R00907', 'ACCOAL': 'R00920', 'ACCOAL2r': 'R00920', 'PTA2': 'R00921', 'PTA2r': 'R00921', 'PTAr_ppa': 'R00921', 'MMSAD1': 'R00922', 'MMTSAO': 'R00922', 'MMCD': 'R00923', 'ACS2': 'R00925', 'ACACT10rr': 'R00927', 'ACOACAT': 'R00927', 'MACCOAT': 'R00927', 'MCITS': 'R00931', 'MCITSm': 'R00931', 'DFR1_1': 'R00939', 'DFR1_2': 'R00939', 'DHFR': 'R00939', 'DHFRi': 'R00939', 'DHFRim': 'R00939', 'FOL3': 'R00942', 'MET7': 'R00942', 'RMA1': 'R00942', 'THFGLUS': 'R00942', 'ADE3_2': 'R00943', 'FTHFL': 'R00943', 'FTHFLi': 'R00943', 'FTHFLm': 'R00943', 'FTHFLmi': 'R00943', 'MIS1_2': 'R00943', 'FTHFD': 'R00944', 'GHMT': 'R00945', 'GHMT2': 'R00945', 'GHMT2r': 'R00945', 'GHMT2rm': 'R00945', 'SHM1': 'R00945', 'SHM2': 'R00945', 'METS': 'R00946', 'METSMHPGLUT_b': 'R00946', 'METSr': 'R00946', 'MTHFB12D': 'R00946', 'U47': 'R00946', 'GLGC': 'R00948', 'GLGCr': 'R00948', 'GAL7_2': 'R00955', 'UGLT': 'R00955', 'CDPGLU': 'R00956', 'PGM1_2': 'R00959; R08639', 'PGM2_2': 'R00959; R08639', 'PGMT': 'R00959; R08639', 'CYTDK3': 'R00962', 'NTD2': 'R00963', 'NTD2pp': 'R00963', 'U34': 'R00963', 'URIK1': 'R00964', 'URK1_3': 'R00964', 'OMPDC': 'R00965', 'URA3': 'R00965', 'FUR1': 'R00966', 'UPPRT': 'R00966', 'UPPRTr': 'R00966', 'URIK2': 'R00968', 'URK1_1': 'R00968', 'URIK3': 'R00970', 'CSND': 'R00974', 'FCY1': 'R00974', 'DURAD': 'R00978', 'ANS2': 'R00985', 'ANS': 'R00986', 'ANS1': 'R00986', 'TRP2_1': 'R00986', 'TRP3_1': 'R00986', 'KYN': 'R00987', 'KYNASE2': 'R00987', 'YLR231C_1': 'R00987', 'CHA1_1': 'R00996', 'ILV1': 'R00996', 'THRD_L': 'R00996', 'THRD_Lm': 'R00996', 'THRD_Lr': 'R00996', 'SHSL4': 'R00999', 'SHSL4r': 'R00999', 'YML082W': 'R00999', '2HBO': 'R01000', 'LDH2': 'R01000', 'CYS3': 'R01001', 'CYSTGL': 'R01001', 'CYSTGLr': 'R01001', 'ALKP': 'R01010', 'ALKPr': 'R01010', 'DAK1': 'R01011', 'DAK2': 'R01011', 'DHAK': 'R01011', 'DHAPT': 'R01012', 'TPI': 'R01015', 'MGSA': 'R01016', 'CHOLK': 'R01021', 'CKI1': 'R01021', 'CHOLSH': 'R01028', 'GPDDA1': 'R01030', 'GPDDA1pp': 'R01030', 'GLYCDx': 'R01034', 'ALCD19': 'R01036', 'GLYCDy': 'R01039', 'ALCD19_D': 'R01041', 'ALCD19y': 'R01041', 'G2PPpp': 'R01043', 'RBKr': 'R01051', 'ADPRDP': 'R01054', 'GAPDy1': 'R01058', 'GAPD': 'R01061', 'GAPD_NAD': 'R01061', 'GAPD(nadp)': 'R01063', 'GAPD_NADP': 'R01063', 'DDPGALA': 'R01064', 'DRPA': 'R01066', 'DRPAr': 'R01066', 'TKT2': 'R01067', 'FBA': 'R01068', 'ATPPRT': 'R01071', 'ATPPRTr': 'R01071', 'HIS1': 'R01071', 'ADE4': 'R01072', 'GLUPRT': 'R01072', 'ANPRT': 'R01073', 'TRP4': 'R01073', 'BACCL': 'R01074', 'BTNL1': 'R01074', 'PYRNS1': 'R01080', 'URIH': 'R01080', 'FUM': 'R01082', 'FUM1_1': 'R01082', 'FUM1_2': 'R01082', 'FUMm': 'R01082', 'ADE13_2': 'R01083', 'ADSL1': 'R01083', 'ADSL1r': 'R01083', 'MALEI': 'R01087', 'LLEUD': 'R01088', 'LLEUDr': 'R01088', 'BAT1_1': 'R01090', 'BAT2_3': 'R01090', 'LEUTA': 'R01090', 'LEUTAi': 'R01090', 'LEUTAm': 'R01090', 'GAL1': 'R01092', 'GALK': 'R01092', 'GALKr': 'R01092', 'LACZ': 'R01100; R06114', 'LACZpp': 'R01100; R06114', 'DGGH': 'R01101; R06091', 'FSP2_2': 'R01101; R06091', 'GALS3': 'R01101; R06091', 'YBR184W_1': 'R01101; R06091', 'YBR184W_2': 'R01101; R06091', 'RAFGH': 'R01103; R06070', 'YBR184W_3': 'R01103; R06070', 'GGLGH': 'R01104', 'YBR184W_6': 'R01104', 'DPMVD': 'R01121', 'MVD1': 'R01121', 'IDI1': 'R01123', 'IPDDI': 'R01123', 'IPDDIi': 'R01123', 'NTD11': 'R01126', 'NTD11pp': 'R01126', 'U32': 'R01126', 'ADE16_2': 'R01127', 'ADE17_2': 'R01127', 'IMPC': 'R01127', 'IMPCir': 'R01127', 'FUN63': 'R01130', 'IMD3': 'R01130', 'IMD4': 'R01130', 'IMPD': 'R01130', 'PUR5': 'R01130', 'YAR075W': 'R01130', 'INSK': 'R01131', 'U20': 'R01131', 'HPT1_1': 'R01132', 'HXPRT': 'R01132', 'HXPRTr': 'R01132', 'GMPR': 'R01134', 'ADE12': 'R01135', 'ADSS': 'R01135', 'ADSS_i': 'R01135', 'NDPK8': 'R01137', 'YNK1_7': 'R01137', 'ALATA_D2': 'R01147', 'ALATA_D': 'R01148', 'ALAALA': 'R01150', 'ALAALAr': 'R01150', 'CBMLPTAH': 'R01152', 'PTRCTA': 'R01155', 'AGMT': 'R01157', 'HIS4_3': 'R01158', 'HISTD': 'R01158', 'ARMT': 'R01159', 'HMT1': 'R01159', 'HISDC': 'R01167', 'HISD': 'R01168', 'HISD1': 'R01168', 'HISD1i': 'R01168', 'HISD1r': 'R01168', 'HISDr': 'R01168', 'ACOAD1': 'R01171', 'PBUTT': 'R01174', 'ACOAD1f': 'R01175', 'ACACT2r': 'R01177', 'KAT2': 'R01177', 'POT1_7': 'R01177', 'BUTCT': 'R01179', 'INS2D': 'R01183', 'MI1PP': 'R01185', 'MI4PP': 'R01186', 'INM1': 'R01187', 'MI3PP': 'R01187', 'YDR287W': 'R01187', 'GPDDA5': 'R01193', 'GPDDA5pp': 'R01193', 'GALIGH': 'R01194; R06093', 'YBR184W_4': 'R01194; R06093', 'ACGAMK': 'R01201', '2LDA': 'R01210', 'OIVD2': 'R01210', 'IPPS': 'R01213', 'IPPSm': 'R01213', 'LEU4': 'R01213', 'BAT2_2': 'R01214', 'VALTA': 'R01214', 'VALTAim': 'R01214', 'VPAMT': 'R01215', 'MTD1': 'R01218', 'MTHFD2': 'R01218', 'MTHFD2i': 'R01218', 'ADE3_1': 'R01220', 'MIS1_1': 'R01220', 'MTHFD': 'R01220', 'MTHFDm': 'R01220', 'GCV1_2': 'R01221', 'GLYCL': 'R01221', 'GLYCL_2': 'R01221', 'GLYCLm': 'R01221', 'MET12': 'R01224', 'MET13': 'R01224', 'MTHFR1': 'R01224', 'MTHFR3': 'R01224', 'ECM31': 'R01226', 'MOHMT': 'R01226', 'NTD9': 'R01227', 'NTD9pp': 'R01227', 'U31': 'R01227', 'GSNK': 'R01228', 'U21': 'R01228', 'GUAPRT': 'R01229', 'GUAPRTr': 'R01229', 'HPT1_2': 'R01229', 'GMPS': 'R01230', 'GMPS2': 'R01231', 'GUA1': 'R01231', 'PDE2_4': 'R01234', 'PDE4': 'R01234', 'AAH1_3': 'R01244', 'ADD': 'R01244', 'ADNUC': 'R01245', 'PNS1': 'R01245', 'URH1_2': 'R01245', 'P5CRx': 'R01248', 'PRO1x': 'R01248', 'PRO1xm': 'R01248', 'PUT1': 'R01248', 'P5CR': 'R01251', 'PRO3_1': 'R01251', 'MALTK': 'R01256', 'NNAM': 'R01268', 'NNAMr': 'R01268', 'NNAMrm': 'R01268', 'PNC1_1': 'R01268', 'PNC1_2': 'R01268', 'NNMT': 'R01269', 'FACOAE160': 'R01274', 'PTE2x': 'R01274', 'ACOAD7f': 'R01279', 'FAA1_3': 'R01280', 'FAA3_1': 'R01280', 'FAA4_1': 'R01280', 'FACOAL160': 'R01280', 'FACOAL160p': 'R01280', 'FAT1_1': 'R01280', 'LCB1': 'R01281', 'LCB2': 'R01281', 'SERPT': 'R01281', 'CYSTLr': 'R01285', 'YFR055W': 'R01285', 'AHSERL2': 'R01287', 'MET17_2': 'R01287', 'MET17_3': 'R01287', 'METACH': 'R01287', 'CYSTS': 'R01289', 'VNDH-2': 'R01293', '4HBHYOX': 'R01298', 'POBA': 'R01298', '4HBTE': 'R01301', 'CHRPL': 'R01302', 'TRP2_2': 'R01302', 'TRP3_3': 'R01302', 'ACO1': 'R01324', 'ACONT': 'R01324', 'ACONTm': 'R01324', 'YJL200C': 'R01324', 'ACONTa': 'R01325', 'GLK1_2': 'R01326', 'HEX4': 'R01326', 'HXK1_3': 'R01326', 'HXK2_3': 'R01326', 'EPMGH': 'R01329; R06142', 'YBR184W_5': 'R01329; R06142', 'GCALDD': 'R01333', 'GCALDDr': 'R01333', 'PGLYCP': 'R01334', 'PPAK': 'R01353', 'PPAKr': 'R01353', 'PROPP': 'R01353', 'ACAC': 'R01357', 'ACACCT': 'R01359', 'HMGL': 'R01360', '3HBUTDH': 'R01361', 'BDH': 'R01361', 'FUMAC': 'R01364', 'FUMACA': 'R01364', 'U60': 'R01364', 'PHA2': 'R01373', 'PPNDH': 'R01373', 'PPYRDC': 'R01377', 'R01377': 'R01377', 'GLCURE': 'R01385', 'HPYRRx': 'R01388', 'HPYRRy': 'R01392', 'HPYRI': 'R01394', 'ASPCT': 'R01397', 'ASPCTn': 'R01397', 'URA2_1': 'R01397', 'MTAN': 'R01401', 'MCSNAH1r': 'R01411', 'AGMTNDMN': 'R01416', 'BZDH': 'R01419; R01486', 'NBAH': 'R01424', 'XYLR': 'R01431', 'XYLI1': 'R01432', 'VALDHr': 'R01434', 'ALD5_2': 'R01446', 'LCAD': 'R01446', 'LCADi': 'R01446', 'LCADm': 'R01446', 'LacR': 'R01450', 'THRD': 'R01465', 'THR4_1': 'R01466', 'THRS': 'R01466', 'EKI1': 'R01468', 'ETHAK': 'R01468', 'GPDDA2': 'R01470', 'GPDDA2pp': 'R01470', 'GUI1': 'R01482', 'CBLAT': 'R01492', 'DHBS': 'R01504', 'DHBSr': 'R01504', 'PGK': 'R01512', 'PGK1': 'R01512', 'PGCD': 'R01513', 'PGCDr': 'R01513', 'SER3': 'R01513', 'SER33': 'R01513', 'GLYCK': 'R01514', 'ACYP': 'R01515', 'DPGase': 'R01516', 'GPM1_2': 'R01518', 'GPM2': 'R01518', 'GPM3': 'R01518', 'PGM': 'R01518', 'PRKIN': 'R01523', 'RBK_D': 'R01526', 'RBK_Dr': 'R01526', 'GND': 'R01528', 'GND1': 'R01528', 'GND2': 'R01528', 'PGDH': 'R01528', 'PGDHr': 'R01528', 'RPE': 'R01529', 'RPE1': 'R01529', 'A5PISO': 'R01530', 'ALTRH': 'R01540', 'DDGLK': 'R01541', 'DGLCND': 'R01542', 'DKII': 'R01542', 'DADK': 'R01547', 'U19': 'R01547', 'ALCD20y': 'R01550', 'MPL': 'R01555; R06040', 'MALTAT': 'R01556; R06251', 'MALTATr': 'R01556; R06251', 'MTI': 'R01557; R06218', 'TREHS': 'R01557; R06218', 'OXACOAL': 'R01558', 'AAH1_1': 'R01560', 'ADA': 'R01560', 'PNP1_10': 'R01561', 'PNP1_7': 'R01561', 'PUNP1': 'R01561', 'PUNP1m': 'R01561', 'U103': 'R01561', '3NTD7pp': 'R01562', '3NUCLE1': 'R01562', 'TMDK1': 'R01567', 'U16': 'R01567', 'NTD5': 'R01569', 'NTD5pp': 'R01569', 'U25': 'R01569', 'PNP1_2': 'R01570', 'TMDPP': 'R01570', 'ARA1_1': 'R01574', 'ARAB1D1': 'R01574', 'ARA1_2': 'R01575', 'ARAB1D2': 'R01575', 'ARABI': 'R01577', 'GLK1_3': 'R01600', 'D5KGPA': 'R05378', 'R05378': 'R05378', '4CMCOAS': 'R01616', 'COUCOAFm': 'R01616', 'XPK': 'R01621', 'DHSKDH': 'R01627', 'PCADYOX': 'R01631', 'PCAHG': 'R01631', 'XKS1': 'R01639', 'XYLK': 'R01639', 'DHEDAA': 'R01647', 'R01647': 'R01647', 'ABTA': 'R01648', 'ABTAr': 'R01648', 'UGA1': 'R01648', 'OIVD1': 'R01651', 'OIVD1i': 'R01651', 'OMCDC': 'R01652', 'OMCDCm': 'R01652', 'ADE3_3': 'R01655', 'MIS1_3': 'R01655', 'MTHFC': 'R01655', 'MTHFCm': 'R01655', 'DMATT': 'R01658', 'DPGM': 'R01662', 'GPM1_1': 'R01662', 'DCD1_1': 'R01663', 'DCMPDA': 'R01663', 'DCMPDA2ir': 'R01663', 'NTD3': 'R01664', 'NTD3pp': 'R01664', 'U28': 'R01664', 'CYTK2': 'R01665', 'U17': 'R01665', 'ADADir': 'R01666', 'NTPP3': 'R01668', 'GUAD': 'R01676', 'GUADr': 'R01676', 'GNNUC': 'R01677', 'URH1_1': 'R01677', 'SALADC2': 'R01682', 'BUTKr': 'R01688', 'GCC2cm': 'R01698', 'LPD1': 'R01698', 'PDHc': 'R01698', 'PDHcm': 'R01698', 'PDHcr': 'R01698', 'PDHe3c': 'R01698', 'PDA1': 'R01699', 'PDHa': 'R01699', 'AKGDa': 'R01700', 'AKGDam': 'R01700', '3M2OBLOXRD': 'R01701', 'ALDD16': 'R01704', 'PDX3_4': 'R01710', 'PDX3_3': 'R01711', 'PYDXNO': 'R01711', 'ARO2': 'R01714', 'CH or S': 'R01714', 'CHORS': 'R01714', 'ARO7': 'R01715', 'CH or M': 'R01715', 'CHORM': 'R01715', 'ABZ1': 'R01716', 'ADCS': 'R01716', 'ICH or Si': 'R01717', 'ICHORS': 'R01717', 'ICHORSi': 'R01717', 'NAPRT': 'R01724', 'NAPRTm': 'R01724', 'NAPRTr': 'R01724', 'NCTPPRT': 'R01724', 'NPT1_1': 'R01724', 'NPT1_2': 'R01724', 'PPND': 'R01728', 'U52': 'R01728', 'PPND2': 'R01730', 'TYR1': 'R01730', 'GLYOX': 'R01736', 'GLYOXm': 'R01736', 'GNK': 'R01737', 'GNKr': 'R01737', '2DGLCNRy': 'R01739', '5DGLCNR': 'R01740', 'HOXPRx': 'R01745', 'TRSAR': 'R01745', 'TRSARr': 'R01745', 'TARTDC': 'R01751', 'ALDD8x': 'R01752', 'GLYALDDr': 'R01752', 'ARABR': 'R01759', 'ARABRr': 'R01759', 'ARAI': 'R01761', 'BZALDH': 'R01487; R01763', 'BENZ': 'R01764', 'HXAND': 'R01768', 'XANDa': 'R01768', 'INSH': 'R01770', 'PNS3': 'R01770', 'HSK': 'R01771', 'THR1': 'R01771', 'HOM6_1': 'R01773', 'HSDx': 'R01773', 'HSDxi': 'R01773', 'HOM6_2': 'R01775', 'HSDy': 'R01775', 'HSDyi': 'R01775', 'HSAT': 'R01776', 'HSERTA': 'R01776', 'MET2': 'R01776', 'HSST': 'R01777', 'HSSTr': 'R01777', 'SBTR': 'R01787', 'DHPR': 'R01793', 'DHPRx': 'R01793', 'HPDOAi': 'R01794', 'PHE4MO': 'R01795', 'PHETHPTOX': 'R01795', 'ACNPLYSr': 'R01804', 'ACNML': 'R01201; R01207; R01408; R01410; R01811', 'PMANM': 'R01818', 'SEC53': 'R01818', 'E4PD': 'R01825', 'ARO3': 'R01826', 'ARO4': 'R01826', 'DAHPS': 'R01826', 'DDPA': 'R01826', 'DDPAm': 'R01826', 'TAL': 'R01827; R08575', 'TALA': 'R01827; R08575', 'FBA3': 'R01829', 'PFK1_3': 'R01843', 'PFK_3': 'R01843', 'NTPP1': 'R01855', 'DGTPH': 'R01856', 'NTPTP1': 'R01856', 'NDPK5': 'R01857', 'YNK1_3': 'R01857', 'PNP1_6': 'R01863', 'PUNP5': 'R01863', 'DHORD': 'R01867', 'DHORD1': 'R01867', 'DHORDfum': 'R01867', 'DHORDi': 'R01867', 'URA1': 'R01867', 'ORPT': 'R01870', 'URA10': 'R01870', 'URA5': 'R01870', 'or PT': 'R01870', 'QUIDH': 'R01873', 'CYSDDS': 'R01874', 'DCYSL': 'R01874', 'PYNP2': 'R01876', 'PYNP2r': 'R01876', 'U22': 'R01876', '3NTD2pp': 'R01877', '3NUCLE2': 'R01877', 'CDD1_1': 'R01878', 'CYTD': 'R01878', 'NIT2_3': 'R01887', 'NTRLASE3': 'R01887', 'CHLPCTD': 'R01890', 'PCT1': 'R01890', 'XYLTD_D': 'R01896', 'IDP1_1': 'R01899', 'IDP2_1': 'R01899', 'IDP3_1': 'R01899', 'ACONTb': 'R01900', 'LXYLK': 'R01901', 'XYLK2': 'R01901', 'LLXI': 'R01906', 'LYXI': 'R01906', 'OXCDC': 'R01908', 'PYDXNK': 'R01909', 'U81': 'R01909', 'PDXPP': 'R01911', 'GSPMDS': 'R01917', 'GSPMDA': 'R01918', 'SPMS': 'R01920', 'CYANST': 'R01931', 'CYANSTTHSFST': 'R01931', 'CYANSTpp': 'R01931', 'THSFST': 'R01931', 'TSULST': 'R01931', 'LYS12': 'R01934', 'OXAGm': 'R01936', 'U50': 'R01936', 'U56': 'R01938', 'AATA': 'R01939', 'U51': 'R01939', 'CAFFCOA': 'R01943', 'FKYNH': 'R01959', 'U53': 'R01959', 'KYN3OX': 'R01960', 'DGNSK': 'R01967', 'NTD8': 'R01968', 'NTD8pp': 'R01968', 'U27': 'R01968', 'PNP1_5': 'R01969', 'PUNP4': 'R01969', 'INDPYRD': 'R01974', 'HACD1': 'R01975', 'HACD1i': 'R01975', 'HMGCOAS': 'R01978', 'HMGCOASi': 'R01978', 'HMGCOASm': 'R01978', 'HMGS': 'R01978', 'GUI2': 'R01983', 'AABTN': 'R01987', 'GUADB': 'R01990', 'GUDBUTNAH': 'R01990', 'DH or TS': 'R01993', 'DHORTS': 'R01993', 'DHORTSn': 'R01993', 'URA4': 'R01993', 'GRTT': 'R02003', 'PGC2Di': 'R02034', 'PGLCNDH': 'R02034', 'PGL': 'R02035', 'SOL1': 'R02035', 'SOL2': 'R02035', 'SOL3': 'R02035', 'SOL4': 'R02035', 'EDD': 'R02036', 'PGDHY': 'R02036', 'MUQ1': 'R02038', 'PETHCT': 'R02038', 'HIBD': 'R02047', 'HIBDkt': 'R02047', 'ACGAM6PS': 'R02058', 'GNA1': 'R02058', 'AGDC': 'R02059', 'AGDC_r': 'R02059', 'PGAMT': 'R02060', 'FRTT': 'R02061', 'F1PK': 'R02071', 'FRUK': 'R02071', 'FRUK_r': 'R02071', 'U1': 'R02071', 'HMG1': 'R02082', 'HMG2': 'R02082', 'HMGCOAR': 'R02082', 'HMGCOARi': 'R02082', 'MGCH': 'R02085', 'MGCOAH': 'R02085', 'ACGAMPM': 'R08193', 'PCM1_1': 'R08193', 'AMANAPE': 'R02087', 'AMANAPEr': 'R02087', 'NTD6': 'R02088', 'NTD6pp': 'R02088', 'U26': 'R02088', 'DADNK': 'R02089', 'DGK1': 'R02090', 'GUK1_2': 'R02090', 'NDPK4': 'R02093', 'YNK1_6': 'R02093', 'CDC8': 'R02094', 'DTMPK': 'R02094', 'NTP9': 'R02095', 'THTRIi': 'R02095', 'URA6_3': 'R02098', 'URIDK2': 'R02098', 'URIDK2r': 'R02098', 'URIDK2rn': 'R02098', 'URIDK3': 'R02098', 'DURIK1': 'R02099', 'U15': 'R02099', 'DUT1': 'R02100', 'DUTPDP': 'R02100', 'CDC21': 'R02101', 'TMDS': 'R02101', 'NTD1': 'R02102', 'NTD1pp': 'R02102', 'U24': 'R02102', 'XAND': 'R02103', 'XANDb': 'R02103', 'TMN': 'R02133', 'TMK': 'R02134', 'TMKr': 'R02134', 'THMP': 'R02135', 'THMPe': 'R02135', 'U77': 'R02135', 'CYTDH': 'R02137', 'PYRNS2': 'R02137', 'XPPT': 'R02142', 'XPT1': 'R02142', 'PNS4': 'R02143', 'XTSNH': 'R02143', 'PNP1_11': 'R02147', 'PNP1_8': 'R02147', 'PUNP3': 'R02147', 'PUNP3m': 'R02147', 'U104': 'R02147', '3NTD9pp': 'R02148', '3NUCLE4': 'R02148', 'Q23DO': 'R02156', 'FERULCOAS': 'R02194', 'ILEDH2': 'R02196', 'BAT1_2': 'R02199', 'BAT2_1': 'R02199', 'ILETA': 'R02199', 'ILETAm': 'R02199', '1PPDCRc': 'R02203', 'LPCOXc': 'R02204', 'DHFOR2': 'R02236', 'FOLR2': 'R02236', 'DHFS': 'R02237', 'U89': 'R02237', 'ACONIs': 'R02244', 'ERG12_1': 'R02245', 'MEVK1': 'R02245', 'LALDO3': 'R02260', 'FCLPA': 'R02262', 'RMPA': 'R02263', 'DHPM1': 'R02269', 'DIHYP': 'R02269', 'G1SAT': 'R02272', 'G1SATi': 'R02272', 'APENTAMAH': 'R02273', 'APTNAT': 'R02274', 'D4DGCD': 'R02279', 'ACOTA': 'R02283', 'ACOTAim': 'R02283', 'ARG8': 'R02283', 'FGLU': 'R02285', 'FORGLUIH': 'R02286', 'FORMD': 'R02286', 'IZPN': 'R02288', 'ASAD': 'R02291', 'ASADi': 'R02291', 'HOM2': 'R02291', 'DHDPS': 'R02292', 'PNP': 'R02294', 'RIOR': 'R02294', 'PYNP1': 'R02296', 'PYNP1r': 'R02296', 'PNP1_9': 'R02297', 'PUNP7': 'R02297', 'FOMETR': 'R02300', 'THFATm': 'R02300', 'FTHFCL': 'R02301', 'FTHFCLm': 'R02301', 'LYS9': 'R02315', 'SACCD1': 'R02315', 'AADSACYCL': 'R02317', 'NMNDA': 'R02322', 'NIRP': 'R02323', 'NMNR': 'R02323', 'RNMK': 'R02324', 'DCD1_2': 'R02325', 'DCTPD': 'R02325', 'NDPK7': 'R02326', 'YNK1_5': 'R02326', 'G1PTMT': 'R02328', 'G1PTT': 'R02328', 'NTP8': 'R02330', 'NDPK6': 'R02331', 'YNK1_4': 'R02331', 'TRPS3r': 'R02340', 'PUNP8': 'R08368', '3NTD4pp': 'R02370', '3NUCLE3': 'R02370', 'ALCD2z': 'R02377', 'TYROXDApp': 'R02382', 'CAT2': 'R02396', 'CSNAT': 'R02396', 'CSNATifm': 'R02396', 'CSNATirm': 'R02396', 'CSNATirp': 'R02396', 'CSNATm': 'R02396', 'CSNATp': 'R02396', 'CSNATr': 'R02396', 'YAT1': 'R02396', 'YAT2': 'R02396', 'GLUSD': 'R02401', 'OXPTNDH': 'R02401', 'GLCOAS': 'R02402', 'GLUTCOAs': 'R02402', 'ITCOALm': 'R02404', 'LSC1': 'R02404', 'INVRTSc': 'R02410; R06100', 'RAFH': 'R02410; R06100', 'ARO1_4': 'R02412', 'SHKK': 'R02412', 'ARO1_3': 'R02413', 'SHK3D': 'R02413', 'SHK3Dr': 'R02413', 'ALLTAH': 'R02422', 'ALLTAHr': 'R02422', 'DAL2': 'R02422', 'ALLTN': 'R02424', 'ALLTNr': 'R02424', 'DAL1': 'R02424', 'CDPGHL': 'R02426', 'RMI': 'R02437', 'RBK_L1': 'R02439', 'RBK_L1r': 'R02439', 'RBLK1': 'R02439', 'MANAO': 'R02454', 'SPHPL': 'R02464', 'DPR': 'R02472', 'DPRm': 'R02472', 'ILV5_3': 'R02472', 'PAN5': 'R02472', 'PANTS': 'R02473', 'YIL145C': 'R02473', 'DURIPP': 'R02484', 'PNP1_1': 'R02484', 'CDD1_2': 'R02485', 'DCYTD': 'R02485', 'GLTCOAD': 'R02487', 'GLUTCOADHc': 'R02487', 'NHFRBO': 'R02492', 'NORx': 'R02492', 'PYDAMK': 'R02493', 'U82': 'R02493', 'HYPOE': 'R02494', 'PYDAMP': 'R02494', 'U84': 'R02494', 'TMPHi': 'R02504', 'SHSL1r': 'R02508', 'HGENDO': 'R02519', 'HGNTOR': 'R02519', 'U58': 'R02519', '34HPPOR': 'R02521', 'HPPDO1': 'R02521', 'U57': 'R02521', 'LALDO2x': 'R02527', 'ALR2': 'R02528', 'AACTOOR': 'R02529', 'GLO1': 'R02530', 'LGTHL': 'R02530', 'ALDD19x': 'R02536', 'R02536': 'R02536', 'PACCOAL': 'R02539', 'PACCOALr': 'R02539', 'AMD2_2': 'R02540', 'AMID2': 'R02540', 'TARTRDH2': 'R02545', 'ABUTD': 'R02549', 'ABUTDm': 'R02549', 'U68': 'R02549', 'TAGUR': 'R02555', 'TAGURr': 'R02555', 'AAH1_2': 'R02556', 'DADA': 'R02556', 'PNP1_4': 'R02557', 'PUNP2': 'R02557', 'BADH': 'R02565', 'BETALDHx': 'R02565', 'BETALDHy': 'R02566', 'FBA2': 'R02568', 'LAT1': 'R02569', 'PDHbr': 'R02569', 'AKGDb': 'R02570', 'AKGDbm': 'R02570', 'AKGDbr': 'R02570', '2DOXG6PP': 'R02587', 'OP4ENH': 'R02601', 'OP4ENH3': 'R02601', '4OD': 'R02602', 'HKNDDH': 'R02603', 'HMSH': 'R02604', 'ALCD25xi': 'R02611', 'ALCD25xim': 'R02611', 'PEAMNO': 'R02613', 'PEAMNOpp': 'R02613', 'DOGULNR': 'R02637', 'ACGK': 'R02649', 'ACGKm': 'R02649', '2PGK': 'R02664', '3HAO': 'R02665', 'BNA1': 'R02665', 'HKYNH': 'R02668', 'ALDD20xm': 'R02678', 'ALCD26xi': 'R02679', 'ALCD26xim': 'R02679', 'R02695': 'R02695', 'R02697': 'R02697', '4HPHAC3MO': 'R02698', 'HPA3MO': 'R02698', 'R02698': 'R02698', 'PACCOAL2': 'R02699', 'AMANK': 'R02705', 'NTD10': 'R02719', 'NTD10pp': 'R02719', 'U33': 'R02719', 'NTPP11': 'R02720', 'XTPASE': 'R02720', 'TRPS1r': 'R02722', 'PGMT_B': 'R02728', 'PFK26': 'R02732', 'PFK27': 'R02732', 'ADPDA': 'R02733', 'SDPDS': 'R02734', 'DAPE': 'R02735', 'G6PBDH': 'R02736', 'G6PI': 'R02739', 'PGI1_2': 'R02739', 'PNP1_3': 'R02748', 'PUNP6': 'R02748', 'PPM2': 'R02749', 'DRBK': 'R02750', 'DRBKr': 'R02750', 'RBK1_2': 'R02750', 'GLCRD': 'R02752', 'GLCRAL': 'R02754', 'HMSD': 'R02762', 'MME': 'R02765', 'TDPGDH': 'R06513', 'TDPDRE': 'R06514', 'TDPDREi': 'R06514', 'TDPDRR': 'R02777', 'TPS2': 'R02778; R06228', 'TRE6PP': 'R02778; R06228', '2INSD': 'R02782', 'R05659': 'R02782', 'UAMAGS': 'R02783', 'UAAGLS1': 'R02786', 'UAAGLS2': 'R02786', 'UAAGDS': 'R02788', 'BHMT': 'R02821', 'GLYBTM': 'R02821', 'PSP_D': 'R02853', 'SHCHF': 'R02864', 'SPE4': 'R02869', 'SPRMS': 'R02869', 'SPRS': 'R02869', 'ERG9_2': 'R02872', 'ERG1': 'R02874', 'SQLEer': 'R02874', 'SQLEr': 'R02874', 'URCN': 'R02914', 'SORD_D': 'R02925', 'MELTGH': 'R02926', 'YBR184W_7': 'R02926', 'URDGLYCD': 'R02935', 'URGDH': 'R02935', 'OXAMTC': 'R02937', 'BTDD-RR': 'R02946', 'ALDD32': 'R02957', 'PTHKr': 'R02971', 'PNCDC': 'R02972', 'PNTEH': 'R02973', 'LCB4_1': 'R02976', 'LCB5_1': 'R02976', 'SLCBK1': 'R02976', '3DSPHR': 'R02978', 'TSC10': 'R02978', '3OADPCOAT': 'R02990', 'PCAIJ': 'R02990', 'OXOAEL': 'R02991', 'PCAD': 'R02991', 'NNAT': 'R03005', 'NNATm': 'R03005', 'NNATr': 'R03005', 'YLR328W_1': 'R03005', 'YLR328W_2': 'R03005', 'HIS2': 'R03013', 'HISTP': 'R03013', 'RMK': 'R03014', 'ECOAH1': 'R03026', 'GALCTND': 'R03033', 'PTPAT': 'R03035', 'PTPATi': 'R03035', 'PTPATim': 'R03035', 'U94': 'R03035', 'U95': 'R03035', 'DHPM2': 'R03055', 'CLAT': 'R03065', 'DHPS': 'R03066', 'DHPSm': 'R03066', 'DHPS2': 'R03067', 'DHPS2FOLD3': 'R03067', 'FOLD3': 'R03067', 'FOLD3m': 'R03067', 'FOLDm': 'R03067', 'LCARR': 'R03080', 'ARO1_1': 'R03083', 'DHQS': 'R03083', 'ARO1_2': 'R03084', 'DHQD': 'R03084', 'DHQD1': 'R03084', 'DHQTi': 'R03084', 'NIT2_1': 'R03093', 'NTRLASE': 'R03093', 'AMD2_3': 'R03096', 'AMID3': 'R03096', 'AASAD3': 'R03102', 'MCPST': 'R03106', 'MCPSTr': 'R03106', 'CYSS2': 'R03132', 'SLCYSS': 'R03132', 'FCI': 'R03163', 'HEM4': 'R03165', 'UPP3S': 'R03165', '3MOPCOAL': 'R03171', 'OIVD3': 'R03171', 'GDBTALDH': 'R03177', 'AMD2_1': 'R03180', 'AMID': 'R03180', 'YMR293C': 'R03180', 'MACACI': 'R03181', 'MLACI': 'R03181', 'U59': 'R03181', 'BIO4': 'R03182', 'DBTS': 'R03182', 'DBTSr': 'R03182', 'UAPGR': 'R03192', 'UAMAS': 'R03193', 'UPP3MT': 'R03194', 'UPPDC1': 'R03197', 'ERG7': 'R03199', 'LNSTLS': 'R03199', 'CHCOAL': 'R03209', 'AOXS': 'R03210', 'AOXSir': 'R03210', 'AOXSr': 'R03210', 'U86': 'R03210', 'METB1': 'R03217', 'METB1r': 'R03217', 'SHSL5': 'R03217', 'CPPPGO': 'R03220', 'PPPGOm': 'R03222', 'THI6_2': 'R03223', 'TMPPP': 'R03223', 'AMAOT': 'R03231', 'AMAOTr': 'R03231', 'BIO3': 'R03231', 'GAL6PI': 'R03240', 'FCLK': 'R03241', 'HIS5': 'R03243', 'HSTPT': 'R03243', 'HSTPTr': 'R03243', 'X5PL3E': 'R03244', 'ERG8': 'R03245', 'PMEVK': 'R03245', 'KDOPS': 'R03254', 'PPCDC': 'R03269', 'U93': 'R03269', 'HPROa': 'R03291', 'HPROx': 'R03291', 'HPROxm': 'R03291', 'PRO3_3': 'R03291', 'HPROb': 'R03293', 'HPROym': 'R03293', 'PRO3_2': 'R03293', 'CDPGS': 'R03298', 'DHPDO': 'R03303', 'HMPCCDO': 'R03303', 'R03303': 'R03303', 'MUCCY-kt': 'R03307', 'PCAB': 'R03307', 'G5SD': 'R03313', 'G5SADr': 'R03314', 'G5SADrm': 'R03314', 'G5SADs': 'R03314', 'G5SADsi': 'R03314', 'UACMAMO': 'R03317', 'G6PI2': 'R03321', 'G6PI3': 'R03321', 'PGI1_3': 'R03321', '34HPLFM': 'R03336', 'NNDPR': 'R03348', 'NNDPRm': 'R03348', 'QPT1_1': 'R03348', 'QPT1_2': 'R03348', 'KDOPP': 'R03350', 'DMOCT': 'R03351', 'KDOCT': 'R03351', 'KDOCT2': 'R03351', '3HIBUTCOAH': 'R03352', 'DDGALK': 'R03387', 'CDPDDGR': 'R03391', 'GDPMR': 'R03399', 'EPPP2': 'R03409', 'GDPT': 'R03409', 'GTPDPDP': 'R03409', 'MI145PKn': 'R03433', 'AGPR': 'R03443', 'AGPRim': 'R03443', 'IGPDH': 'R03457', 'APRAUR': 'R03458', 'RIB7_2': 'R03458', 'DHPPDA': 'R03459', 'DHPPDA2': 'R03459', 'RIB7_1': 'R03459', 'ARO1_5': 'R03460', 'PSCVT': 'R03460', 'PSCVTi': 'R03460', '4CMLCL-kt': 'R03470', 'CMLDC': 'R03470', 'PCAC': 'R03470', 'HMPK1': 'R03471', 'THI20_1': 'R03471', 'THI21': 'R03471', 'THI22': 'R03471', 'HPPKm': 'R03503', 'DHNPA': 'R03504', 'DHNPAm': 'R03504', 'PRAI': 'R03509', 'PRAIi': 'R03509', 'TRP1': 'R03509', 'NTPP10': 'R03531', '23CN2P1': 'R03537', '23PDE7pp': 'R03537', '23CN2P2': 'R03538', '23PDE2pp': 'R03538', 'MALMDA': 'R03540', 'PYRZAM': 'R03540', 'ALLK': 'R03576', 'SELNPS': 'R03595', 'SELNPSr': 'R03595', 'GALS4': 'R03634; R06152', 'AOBUTDs': 'R03758', 'ACOAD3f': 'R03777', 'ACACT4p': 'R03778', 'ACACT4r': 'R03778', 'KAT4': 'R03778', 'ACOAD5f': 'R03857', 'ALDD4x': 'R03869', 'MPML': 'R03877', 'AM6SAD': 'R03889', 'U55': 'R03889', '3MOPDC': 'R03894', 'POLYAO2': 'R03899', 'U65': 'R03899', 'FFSD': 'R03921', 'FFSDr': 'R03921', '23CN2P3': 'R03929', '23PDE4pp': 'R03929', 'SHCHD2': 'R03947', 'PC20M': 'R03948', 'CATB': 'R03959', '4OT': 'R03966', 'IPPMIb': 'R03968', 'LEU1_2': 'R03968', 'ACOAD6f': 'R03990', 'ACACT7p': 'R03991', 'ACACT7r': 'R03991', 'KAT7': 'R03991', 'IPPMIa': 'R04001', 'APRTO2': 'R04025', 'SUCBZL': 'R04030', 'HIS4_1': 'R04035', 'PRATPP': 'R04035', 'HIS4_2': 'R04037', 'PRAMPC': 'R04037', '2DGLCNDH': 'R04049', 'DGC3D': 'R04049', 'ALDD20x': 'R04065', '3MCAT23DOX': 'R04089', 'MBCOAi': 'R04095', 'AMAA': 'R04112', 'OHEDH': 'R04132', 'R04132': 'R04132', 'HHDDI': 'R04134', 'R04134': 'R04134', 'MCCC': 'R04138', 'MCCc': 'R04138', 'ADE5_7_1': 'R04144', 'PRAGS': 'R04144', 'PRAGSr': 'R04144', 'NNDMBRT': 'R04148', 'NPHS': 'R04150', 'NPHSr': 'R04150', '2AEPPNAT': 'R04152', '2AMIPYT': 'R04152', 'ECOAH5': 'R04170', 'ECOAH5p': 'R04170', 'PSERT': 'R04173', 'PSERTr': 'R04173', 'SER1_1': 'R04173', 'AOXHEXCYCL': 'R04175', 'SADH': 'R04189', 'DHDPRy': 'R04199', '3H2MBCOAD': 'R04203', 'HACD8': 'R04203', 'HACD9': 'R04203', 'ECOAH9': 'R04204', 'ECOAH9ir': 'R04204', 'ADE5_7_2': 'R04208', 'PRAIS': 'R04208', 'ADE2': 'R04209', 'AIRCr': 'R04209', 'PERD': 'R04210', 'SOTA': 'R04217', 'ECOAH12': 'R04224', 'ECOAH2c': 'R04224', 'CATC': 'R04260', 'PTHPS': 'R04286', 'QULNS': 'R04292', 'U100': 'R04292', 'QUILSYN': 'R04293', '42A12BOOXpp': 'R04300', 'PCLAD': 'R04323', 'U54': 'R04323', 'ADE8': 'R04325', 'GARFT': 'R04325', 'GARFTi': 'R04325', 'D5KGK': 'R04351; R05661', 'R05661': 'R04351; R05661', 'APATi': 'R04364', 'THDPS': 'R04365', 'CHACH': 'R04371', 'HPPPNDO': 'R04376', '5CMHMISO': 'R04379', 'R04379': 'R04379', 'OPTCCL': 'R04380', 'R04380': 'R04380', 'DKI': 'R04383', 'KDUI': 'R04383', 'MET6': 'R04405', 'MHPGLUT': 'R04405', 'MTHPTGHM': 'R04405', 'MTHPTGHMr': 'R04405', '5CM2HMSDH': 'R04418', 'CMCMSAD': 'R04418', 'R04418': 'R04418', 'MCITD': 'R04424', 'MICITD': 'R04425', 'MICITDr': 'R04425', 'MICITH': 'R04425', 'IPMD': 'R04426', 'IPMDr': 'R04426', 'ERG6': 'R04427', 'SAM24MT': 'R04427', 'TDPAGTA': 'R04438', 'PHCHGS': 'R04443', 'PHCHGSm': 'R04443', 'HP5CD': 'R04444', 'PHCD': 'R04444', 'HETZK': 'R04448', 'THI6_1': 'R04448', 'RIB5': 'R04457', 'ADE6': 'R04463', 'PRFGS': 'R04463', 'APTA1i': 'R04467', 'SDPTA': 'R04475', 'DIPS': 'R04481', 'DPH5': 'R04481', 'PMPK': 'R04509', 'THI20_2': 'R04509', 'IG3PS': 'R04558', 'ADE13_1': 'R04559', 'ADSL2': 'R04559', 'ADSL2r': 'R04559', 'ADE16_1': 'R04560', 'ADE17_1': 'R04560', 'AICART': 'R04560', 'UGLDDS1': 'R04573', 'UGLDDS2': 'R04573', 'UHGADA': 'R04587', 'ADE1': 'R04591', 'PRASCS': 'R04591', 'RBZP': 'R04594', 'RZ5PP': 'R04594', 'UGMDDS': 'R04617', 'AKP1': 'R04620', 'PHO8': 'R04620', 'PRMICI': 'R04640', 'PRMICIi': 'R04640', 'TDSK': 'R04657', 'MOAT': 'R04658', '3DH5HPBMTm': 'R04711', '4AHD2': 'R04734', 'HACD7': 'R04737', 'HACD7i': 'R04737', 'HACD7p': 'R04737', 'ECOAH7': 'R04738', 'ECOAH7p': 'R04738', 'ECOAH6': 'R04740', 'ECOAH6p': 'R04740', 'HACD5': 'R04741', 'HACD5i': 'R04741', 'HACD5p': 'R04741', 'ACACT5p': 'R04742', 'ACACT5r': 'R04742', 'KAT5': 'R04742', 'HACD4': 'R04743', 'HACD4i': 'R04743', 'HACD4p': 'R04743', 'ECOAH4': 'R04744', 'ECOAH4p': 'R04744', 'HACD3': 'R04745', 'HACD3i': 'R04745', 'ECOAH3': 'R04746', 'ACACT3r': 'R04747', 'KAT3': 'R04747', 'HACD2': 'R04748', 'HACD2i': 'R04748', 'ECOAH2': 'R04749', 'ACOAD2f': 'R04751', 'ACOAD4f': 'R04754', 'SELMETAT': 'R04771', 'HICITDm': 'R04862', 'R04895': 'R04895', 'UPPDC2': 'R04972', '2HP6MPMOm': 'R04982', '2HPMBQMTm': 'R04983', 'OPHBDC': 'R04986', 'OHPHM': 'R04988', 'URFGTT': 'R04990', 'GLNSP2': 'R05030', 'SGSAD': 'R05049', 'NABTNO': 'R05050', '_4HGLSD': 'R05051', '3HBCOAHL': 'R05064', 'HIBHr': 'R05064', 'DHAD2': 'R05070', 'DHAD2m': 'R05070', 'ILV3_3': 'R05070', 'MOAT2': 'R05074; R06285', 'OHPBAT': 'R05085', 'SER1_2': 'R05085', '4HTHRS': 'R05086', 'THR4_2': 'R05086', '23CN2P4': 'R05135', '23PDE9pp': 'R05135', 'HMSH3': 'R05138', 'PC6YM': 'R05149', 'PC6AR': 'R05150', 'PC8XM': 'R05177', 'PC17M': 'R05180', 'PC11M': 'R05181', 'ALCDkt': 'R05198', 'MI13456PKn': 'R05202', 'P3Bs': 'R05217', 'PRE5': 'R05219', 'CYRDAAT': 'R05220', 'ADCOBAK': 'R05221', 'ADOCBIK': 'R05221', 'ACBIPGT': 'R05222', 'ADOCBLS': 'R05223', 'COBPS': 'R05223', 'ADCOBHEXS': 'R05225', 'ADCYRS': 'R05225', 'ADCOBASr': 'R05226', 'COCHL': 'R05227', 'VNTDM': 'R05274', '4MBZALDH': 'R05282', 'PXMO': 'R05288', 'PTOLDOX': 'R05290', 'DH4MCHCDH': 'R05292', '4MCAT23DOX': 'R05295', 'HOPNTAL2': 'R05298', 'DH3MCHCDH': 'R05309', 'TAUDO': 'R05320', 'G1PACT': 'R05332', 'G1PACTr': 'R05332', '3MBZALDH': 'R05347', 'HMSD2': 'R05353', '4OD2': 'R05374', '4OT2': 'R05389', 'MXMO': 'R05443', 'AMID5': 'R05551', 'PABB': 'R05552', 'ADCL': 'R05553', 'U88': 'R05553', 'GLTPD': 'R05571', '3HBUTCOAH': 'R05595', 'EDA': 'R05605', 'MNNH': 'R05606', 'SBTPD': 'R05607; R07133', 'GALCTD': 'R05608', 'HEXTT': 'R05612', 'PPTT': 'R05613', 'PPTTm': 'R05613', 'HBZOPT': 'R05615', 'BENA': 'R05621', 'BZ12DOX': 'R05621', 'UDCPK': 'R05626', 'UDCPDP': 'R05627', 'PAPPT2': 'R05629', 'PAPPT3': 'R05630', 'MEPCT': 'R05633', 'CDPMEK': 'R05634', 'DXPS': 'R05636', 'MECDPS': 'R05637', 'C24STRer': 'R05641', 'ERG4': 'R05641', 'GMHEPAT': 'R05644', 'S7PI': 'R05645; R09768', 'S7PIr': 'R05645; R09768', 'GMHEPK': 'R05646', 'UAGPT2': 'R05662', 'MTOLDOX': 'R05665', 'THPDH': 'R05681', 'IDOND': 'R05683', 'IDOND2': 'R05684', 'ALCD24xi': 'R05685', 'ALCD24xim': 'R05685', 'ALCD24yi': 'R05686', 'DXPRI': 'R05688', 'DXPRIi': 'R05688', 'GFUCS': 'R05692', 'VNDH': 'R05699', 'COALDDH': 'R05700', 'CONFALDD': 'R05700', 'FMNRx': 'R05705', 'FLDO': 'R05706', 'FMNRx2': 'R05706', 'FMNRy': 'R05706', 'FLVR': 'R05707', 'NODOx': 'R05724', 'NODO': 'R05725', 'NODOy': 'R05725', 'ACONMT': 'R05763', 'SPDC': 'R05774', 'PMI12346PH': 'R05779', 'MI145P6Kn': 'R05800', 'MI1456PKn': 'R05801', 'GK (adp)': 'R05804', 'PFK (adp)': 'R05805', 'COPREC3MT': 'R05809', 'CPC3MT': 'R05809', 'COPREC4MT': 'R05810', 'CPC4MT': 'R05810', 'CPC5MT': 'R05811', 'COPREC6R': 'R05812', 'CPC6R': 'R05812', 'CPC6MT': 'R05813', 'PC6YM2': 'R05813', 'COPRECI': 'R05814', 'CPC8MM': 'R05814', 'PDX5PS2': 'R05838', 'RBP4E': 'R05850', 'DALAOX': 'R05861', 'DAMOX_ALA': 'R05861', 'GLYOS': 'R05862', 'OP4ENH2': 'R05864', 'HMSH2': 'R05865', 'LSERDHr': 'R06126', 'THRA2i': 'R06171', 'THRA2r': 'R06171', 'THRLAD': 'R06171', 'TARTRDH': 'R06180', 'SQLS': 'R06223', 'IPDPUPT': 'R06447', 'UDCPDPS': 'R06447', 'LCB3_1': 'R06520', 'SBPP1': 'R06520', 'SBPP1er': 'R06520', 'YSR3_1': 'R06520', 'PSPHS': 'R06525', 'SUR2': 'R06525', 'ADCOBAPS': 'R06529', 'ADCPS2': 'R06529', 'THRPD': 'R06530', 'THRPS': 'R06531', 'SALCS': 'R06603', 'PPPNDO': 'R06782', 'CINNDO': 'R06783', 'DHPPD': 'R06784', '3HPPPNH': 'R06786', 'HKNTDH': 'R06789', 'R15BPK': 'R06836', '3HPH5MBDCm': 'R06866', 'UAGDH': 'R06894', 'CPPPGO2': 'R06895', 'R06897': 'R06897', 'GART': 'R06974', 'AICART2': 'R06975', '24DAB4AT': 'R06977', 'DABAAT': 'R06977', 'FALGTHLs': 'R06982', 'HMGSs': 'R06982', 'FALDH2': 'R06983', 'HMGDx': 'R06983', 'OBTFL': 'R06987', 'KG6PDC': 'R07125', '3KGK': 'R07127', 'SLDx': 'R07136', 'SLDxi2': 'R07136', 'SLDy': 'R07137', 'MTHFR2': 'R07168', 'PHE4MOi3': 'R07211', '3DMUBQ9MT': 'R07235', 'CBIAT': 'R07268', 'CBIAT2': 'R07268', 'BET2': 'R07273', 'COQ1': 'R07273', 'COQ2': 'R07273', 'COX10': 'R07273', 'RAM1': 'R07273', 'RER2': 'R07273', 'SRT1': 'R07273', 'U78': 'R07280', 'DB4PS': 'R07281', 'U79': 'R07281', 'INO1': 'R07324', 'DKMD3M': 'R07363', 'DKMD2K': 'R07364', 'MDRPD': 'R07392', 'MDRPDr': 'R07392', 'DM1PE': 'R07393', 'HKM1PP': 'R07394', 'ENPHE1': 'R07395', 'TYRTA2': 'R07396', 'UNK3': 'R07396', 'AIRC2': 'R07404', 'AIRC2r': 'R07404', 'AIRC3': 'R07405', 'SPONT1': 'R07406', '4ABUTNC': 'R07408', 'ASPO2': 'R07410', 'HEMEOS': 'R07411', 'HEMEOSm': 'R07411', 'GGLUPTS': 'R07414', 'GGPTRCS': 'R07414', 'GGGABADr': 'R07418', 'GGLUGABDH': 'R07418', 'GGGABAH': 'R07419', 'GGLUGABH': 'R07419', 'RIBRB12': 'R02017', 'RNDR1': 'R02017', 'RNDR1n': 'R02017', 'RNTR1': 'R02014', 'RNDR2': 'R02019', 'RNDR2n': 'R02019', 'RNTR2': 'R02020', 'RNTR3': 'R02022', 'RNTR4': 'R02023', 'RNTR4b': 'R02023', 'PAPR': 'R02021', 'PAPSR': 'R02021', 'PASR': 'R02021', 'APSPTi': 'R07176', 'APSR': 'R07176', 'GGTT': 'R07475', 'TRDR': 'R02016', 'TRDRm': 'R02016', 'BTMAT1': 'R04429', 'EAR40x': 'R04429', 'DDMAT5': 'R04724', 'EAR120x': 'R04724', 'EAR80x': 'R04958', 'OCMAT3': 'R04958', 'EAR60x': 'R04955', 'HEMAT2': 'R04955', 'DEMAT4': 'R04961', 'EAR100x': 'R04961', 'HBUHL1': 'R04428', '3HAD60': 'R04954', 'HHYHL2': 'R04954', '3HAD120': 'R04965', 'HDDHL5': 'R04965', '3HAD160': 'R04544', '3HAD100': 'R04535', 'HDEHL4': 'R04535', '3HAD80': 'R04537', 'HOCHL3': 'R04537', '3HAD140': 'R04568', '3OAR160': 'R04543', 'HHDR7': 'R04543', '3OAR60': 'R04953', 'HHYR2': 'R04953', '3OAR100': 'R04534', 'HDER4': 'R04534', 'HDER4r': 'R04534', 'HBUR1': 'R04533', '3OAR120': 'R04964', 'HDDR5': 'R04964', '3OAR80': 'R04536', 'HOCR3': 'R04536', '3OAR140': 'R04566', 'HTDR6': 'R04566', '3OAS100': 'R04960', 'CEM1_4': 'R04960', 'FAS2_4_1': 'R04960', 'MCMAT4': 'R04960', 'CEM1_7': 'R04968', 'FAS2_7_1': 'R04968', 'MCMAT7': 'R04968', '3OAS140': 'R04726', 'CEM1_6': 'R04726', 'FAS2_6_1': 'R04726', 'MCMAT6': 'R04726', '3OAS60': 'R04952', 'CEM1_2': 'R04952', 'FAS2_2_1': 'R04952', 'MCMAT2': 'R04952', 'ACMAT1': 'R04355', 'CEM1_1': 'R04355', 'FAS2_1_1': 'R04355', 'KAS14': 'R04355', '3OAS120': 'R04963', 'CEM1_5': 'R04963', 'FAS2_5_1': 'R04963', 'MCMAT5': 'R04963', 'ACOATA': 'R01624', 'ACOATAm': 'R01624', 'FAS1_s': 'R01624', '3OAS80': 'R04957', 'CEM1_3': 'R04957', 'FAS2_3_1': 'R04957', 'MCMAT3': 'R04957', 'ETR1_6': 'R04967', 'FAS1_6_2': 'R04967', 'EAR80y': 'R04959', 'ETR1_3': 'R04959', 'FAS1_3_2': 'R04959', 'EAR40y': 'R04430', 'ETR1_7': 'R04970', 'FAS1_7_2': 'R04970', 'EAR120y': 'R04725', 'ETR1_5': 'R04725', 'FAS1_5_2': 'R04725', 'EAR100y': 'R04962', 'ETR1_4': 'R04962', 'FAS1_4_2': 'R04962', 'EAR60y': 'R04956', 'ETR1_2': 'R04956', 'FAS1_2_2': 'R04956', 'FAS1_7_c': 'R10700', 'FAS1_1': 'R01626', 'MCOATA': 'R01626', 'MCOATAm': 'R01626', 'MCT1': 'R01626', 'AHSERL4': 'R04859', 'MLTG1': 'R01555; R06040', 'NAT1': 'R00234', 'NAT2': 'R00234', 'PEPAT': 'R00234', 'DNAMTn2r': 'R00380', 'KATp': 'R00391', 'G3POA': 'R00851', 'DPM1': 'R01009', 'GPT2_2': 'R01013', 'SCT1_2': 'R01013', 'DOLK': 'R01018', 'SEC59': 'R01018', 'SHSL2': 'R01288', 'SHSL2r': 'R01288', 'OPI3_2': 'R01320', 'FAS1_7_f': 'R01706', 'HACDp': 'R01778', 'CDAPPA_EC': 'R01797', 'DASYN': 'R01799', 'DASYN_EC': 'R01799', 'PHCYT': 'R01799', 'PSSA': 'R01800', 'CDGPT': 'R01801', 'PGSA': 'R01801', 'RNADRr': 'R02000', 'RNDR4': 'R02018', 'RNDR4n': 'R02018', 'RNDR5B12': 'R02018', 'RNDR3': 'R02024', 'RNDR3n': 'R02024', 'METSR-S1': 'R02025', 'PGPPH': 'R02029', 'PSD': 'R02055', 'NADH2r': 'R02163', 'PAP': 'R02239', 'PAPA_EC': 'R02239', 'DAGK': 'R02240', 'DAGK_EC': 'R02240', 'AGPAT': 'R02241', 'ECOAHt2': 'R02685', 'MSY1': 'R02918', 'TYRTRS': 'R02918', 'TYRTRSm': 'R02918', 'TYS1': 'R02918', 'ALA1': 'R03038', 'ALATRS': 'R03038', 'LSB6': 'R03361', 'PIK1': 'R03361', 'STT4': 'R03361', 'TOR1': 'R03362', 'TOR2': 'R03362', 'VPS34': 'R03362', 'INP52_1': 'R03363', 'INP53_1': 'R03363', 'SAC1_1': 'R03363', 'YMR1': 'R03363', 'OPI3_1': 'R03424', 'GCCa': 'R03425', 'GCCam': 'R03425', 'MSS4': 'R03469', 'ARGTRS': 'R03646', 'ARGTRSm': 'R03646', 'MSR1': 'R03646', 'YDR341C': 'R03646', 'ASNTRS': 'R03648', 'ASNTRSm': 'R03648', 'CYSTRS': 'R03650', 'YNL247W': 'R03650', 'GLUTRS(Gln)': 'R03651', 'GLNTRS': 'R03652', 'GLYTRS': 'R03654', 'GRS1': 'R03654', 'GRS2': 'R03654', 'HISTRS': 'R03655', 'HISTRSm': 'R03655', 'HTS1': 'R03655', 'ILETRS': 'R03656', 'ILETRSm': 'R03656', 'ILS1': 'R03656', 'CDC60': 'R03657', 'LEUTRS': 'R03657', 'LEUTRSm': 'R03657', 'NAM2': 'R03657', 'KRS1': 'R03658', 'MSK1': 'R03658', 'MES1': 'R03659', 'METTRS': 'R03659', 'METTRSm': 'R03659', 'MSM1': 'R03659', 'MSF1': 'R03660', 'PHETRS': 'R03660', 'PHETRSm': 'R03660', 'PROTRS': 'R03661', 'YHR020W': 'R03661', 'DIA1': 'R03662', 'SERTRS': 'R03662', 'SES1': 'R03662', 'MST1': 'R03663', 'THRTRS': 'R03663', 'THRTRSm': 'R03663', 'THS1': 'R03663', 'TRPTRS': 'R03664', 'TRPTRSm': 'R03664', 'VALTRS': 'R03665', 'VALTRSm': 'R03665', 'VAS1': 'R03665', 'GCCc': 'R03815', 'GCCcm': 'R03815', 'ACACT6p': 'R03858', 'ACACT6r': 'R03858', 'KAT6': 'R03858', 'FMETTRS': 'R03940', 'FMETTRSm': 'R03940', 'FMT1': 'R03940', 'GLPT': 'R03992', 'NMT1': 'R03992', 'FA120ACPH': 'R04014', 'FA120ACPHi': 'R04014', 'FAS1_5_f': 'R04014', 'GLUTRR': 'R04109', 'GCCb': 'R04125', 'GCCbim': 'R04125', 'BTNC': 'R04385', 'INP51': 'R04404', 'INP52_4': 'R04404', 'INP53_4': 'R04404', 'INP54': 'R04404', 'U23GAAT': 'R04550', 'UAGAAT': 'R04567', 'HACD6': 'R04739', 'HACD6i': 'R04739', 'HACD6p': 'R04739', 'COBB': 'R05224', 'ATRZCH': 'R05558', 'ASPTRS': 'R05577', 'ASPTRSm': 'R05577', 'DPS1': 'R05577', 'MSD1': 'R05577', 'GLUTRS': 'R05578', 'GLUTRSm': 'R05578', 'FAB1': 'R05802', 'CBIA': 'R05815', 'BLACT': 'R06363', 'C8STI': 'R07497', 'ERG2': 'R07497', 'METSOXR2': 'R07608', 'ALAALAD': 'R07651', 'DAAOP': 'R07651', 'UDPGDC': 'R07658', 'UGLCURD': 'R07658', 'UDPKPTA': 'R07659', 'ASCBPL': 'R07677', 'CEM1_8': 'R07762', 'FAS2_8_1': 'R07762', 'FAS2_8_2': 'R07763', 'OAR1_8': 'R07763', 'FAS1_8_1': 'R07764', 'HTD2_8': 'R07764', 'COPREC5AHy': 'R07772', 'COPRECT': 'R07773', 'COPREC6MT': 'R07774', 'COPREC7MT': 'R07775', '2DGULRy': 'R08880', 'ACGAMT': 'R08856', 'GLCNACPPUNDs': 'R08856', 'ACHBS': 'R08648', 'ACHBSm': 'R08648', 'ACM6PH': 'R08555', 'AKGD': 'R08549', 'AKGDH': 'R08549', 'KGD1': 'R08549', 'TEST_AKGDH': 'R08549', 'ALLPI': 'R09030', 'ALLULPE': 'R09031', 'AMALT1': 'R01555; R06040; R07516', 'AMALT2': 'R01555; R06040; R07516', 'AMALT3': 'R01555; R06040; R07516', 'AP5AH': 'R09880', 'BSORy': 'R10127', 'CRNBTCT': 'R10644', 'CRNCDH': 'R10675', 'CYNTAH': 'R10079', 'DKGLCNR1': 'R08878', 'DKGLCNR2y': 'R08879', 'DMPPS': 'R08210', 'FA100ACPHi': 'R08158', 'FAS1_4_f': 'R08158', 'FAS1_6_f': 'R08159', 'FA80ACPHi': 'R08157', 'FACOAE180': 'R08174', 'PTE8x': 'R08174', 'FADRx': 'R09748', 'FADRx2': 'R09520', 'FDMO2': 'R10206', 'FLVR(NAD)': 'R09750', 'FLVRx': 'R09750', 'GAL1PPpp': 'R10622', 'GLYCK2': 'R08572', 'GLYCKb': 'R08572', 'GLYOX3': 'R09796', 'IPDPS': 'R08209', 'KAS15': 'R10707', 'MACPD': 'R09482', 'MANPGH': 'R09645', 'NAMNPP': 'R01724', 'OCTDPS': 'R09248', 'PPNCL2': 'R04231', 'U92': 'R04231', 'PRO1z': 'R10507', 'PROD2': 'R10507', 'SELCYSS': 'R08219', 'TPRDCOAS': 'R09675', 'GLYGS': 'R06051', '13GS': 'R06020', 'CDA1': 'R02333; R06241', 'CDA2': 'R02333; R06241', 'FA180ACPH': 'R08163', 'FAS1_8_f': 'R08163', 'NIT2_2': 'R03542', 'NTRLASE2': 'R03542', 'ACPS': 'R10747', 'ACPSm': 'R10747', 'COAHLp': 'R10747', '13BGH': 'R06204', '13BGHe': 'R06204', 'MMSAD2': 'R09097', 'PHYT3': 'R07584', 'PHYT3e': 'R07584', '7MHTS': 'R08323', 'AHGDx': 'R08198', 'AKGCAL': 'R08213', 'CH2ACH': 'R10393', 'CH3ACH': 'R10396', 'COBS': 'R08217', 'DROPPRx': 'R09375', 'DROPPRy': 'R09376', 'DRTPPD': 'R09377', 'GLNTRAT': 'R03905', 'H4MPTGL(atp)': 'R09594', 'MCMMT': 'R09098', 'RBPI': 'R10555', 'RH2CD': 'R10392', 'RH3CD': 'R10395', 'TMAMT': 'R09124', 'CHOLD': 'R08557', 'DPPS': 'R09249', 'TDPADGAT': 'R10142', 'HEPTT': 'R05611', 'R08503': 'R08503', 'R08504': 'R08603', 'LEU1_1': 'R10170', 'PNTK': 'R03018', 'YDR531W': 'R03018', 'PPNCL3': 'R04230', 'DHFOR3': 'R00940', '6HNACMO': 'R08764', '2HMHMBQMTm': 'R02175', 'PMI12346PS': 'R09087', 'POLYAO3': 'R09076', 'T4HCINNMFM': 'R08766', 'HEXDPS': 'R09245', 'NTRIRx': 'R00787', 'AMD1_2': 'R00182', 'AMPN': 'R00182', 'YBR284W': 'R00182', 'YJL070C': 'R00182', 'ACLS': 'R00226', 'ACLSm': 'R00226', 'DTARTD': 'R00340', 'CMPN': 'R00510', 'MMSDHir': 'R00935', 'PRPPS': 'R01049', 'PRS1': 'R01049', 'PRS2': 'R01049', 'PRS3': 'R01049', 'PRS4': 'R01049', 'PRS5': 'R01049', 'DEG1': 'R01055', 'PSUDS': 'R01055', 'PUS1': 'R01055', 'PUS2': 'R01055', 'PUS4': 'R01055', 'YUMPS': 'R01055', 'RKI1': 'R01056', 'RPI': 'R01056', 'PGM1_1': 'R01057', 'PGM2_1': 'R01057', 'PPM': 'R01057', 'NMNN': 'R01270', 'CYSTL': 'R01286', 'CYSTLp': 'R01286', 'TKT1': 'R01641', 'LCAR': 'R02258', 'LCARS': 'R02258', 'PPDD': 'R02376', 'ACLDC': 'R02948', 'EPPP': 'R03042', 'SHSL1': 'R03260', 'AHAI': 'R04439', 'KARA1': 'R04439', 'KARA1i': 'R04439', 'KARA1im': 'R04439', 'DHAD1': 'R04441', 'DHAD1m': 'R04441', 'G1PDH': 'R05679', 'CELLSYN': 'R06023', 'UDCPDPpp': 'R05627', 'PHCDm': 'R04444', '4HGLSDm': 'R05051', 'SULRix': 'R10146'}\n",
      "{'rxn27946': 'R00004', 'rxn27947': 'R00004', 'rxn27948': 'R00004', 'rxn32487': 'R00004', 'rxn38157': 'R00004', 'rxn38158': 'R00004', 'rxn30346': 'R00005', 'rxn35525': 'R00005', 'rxn30144': 'R00006', 'rxn33164': 'R00006', 'rxn19264': 'R00009', 'rxn22404': 'R00009', 'rxn27744': 'R00009', 'rxn31381': 'R00009', 'rxn29977': 'R00010; R06103', 'rxn30219': 'R00010; R06103', 'rxn30442': 'R00010; R06103', 'rxn33150': 'R00012', 'rxn33152': 'R00012', 'rxn31360': 'R00014', 'rxn31361': 'R00014', 'rxn30356': 'R00017', 'rxn30077': 'R00018', 'rxn23055': 'R00022', 'rxn20788': 'R00024', 'rxn38286': 'R00024', 'rxn33580': 'R00026; R06092', 'rxn30130': 'R00028; R06084', 'rxn35456': 'R00032', 'rxn33449': 'R00068', 'rxn33465': 'R00068', 'rxn38163': 'R00068', 'rxn28081': 'R00036', 'rxn32591': 'R00066', 'rxn37935': 'R00075', 'rxn25990': 'R00078', 'rxn31826': 'R00078', 'rxn33884': 'R00081', 'rxn20490': 'R00084', 'rxn30032': 'R00084', 'rxn30743': 'R00084', 'rxn35409': 'R00084', 'rxn27710': 'R00085', 'rxn11300': 'R00086; R10531', 'rxn27586': 'R00086; R10531', 'rxn27587': 'R00086; R10531', 'rxn27588': 'R00086; R10531', 'rxn27616': 'R00086; R10531', 'rxn38021': 'R00086; R10531', 'rxn38022': 'R00086; R10531', 'rxn38023': 'R00086; R10531', 'rxn38233': 'R00086; R10531', 'rxn33891': 'R00087', 'rxn29995': 'R00088', 'rxn35429': 'R00089', 'rxn27853': 'R00092', 'rxn32326': 'R00092', 'rxn32328': 'R00092', 'rxn32703': 'R00092', 'rxn27888': 'R00093', 'rxn34788': 'R00094', 'rxn34789': 'R00094', 'rxn27489': 'R00095', 'rxn32941': 'R00095', 'rxn32953': 'R00095', 'rxn14307': 'R00102', 'rxn20263': 'R00102', 'rxn20269': 'R00103', 'rxn30410': 'R00103', 'rxn33290': 'R00103', 'rxn38181': 'R00103', 'rxn28003': 'R00104', 'rxn30190': 'R00104', 'rxn38696': 'R00104', 'rxn33597': 'R00105', 'rxn27488': 'R00112', 'rxn32580': 'R00112', 'rxn32993': 'R00113', 'rxn27889': 'R00114', 'rxn19841': 'R00115', 'rxn19842': 'R00115', 'rxn32133': 'R00115', 'rxn30204': 'R00118', 'rxn30737': 'R00118', 'rxn32045': 'R00118', 'rxn38392': 'R00118', 'rxn38393': 'R00118', 'rxn33337': 'R00122', 'rxn35438': 'R00125', 'rxn35428': 'R00126', 'rxn27684': 'R00127', 'rxn27685': 'R00127', 'rxn30214': 'R00130', 'rxn33067': 'R00130', 'rxn30324': 'R00131', 'rxn26146': 'R00132; R10092', 'rxn27740': 'R00132; R10092', 'rxn27741': 'R00132; R10092', 'rxn30392': 'R00132; R10092', 'rxn37640': 'R00132; R10092', 'rxn33750': 'R00134', 'rxn30218': 'R00137', 'rxn31803': 'R00137', 'rxn31815': 'R00137', 'rxn31816': 'R00137', 'rxn35311': 'R00137', 'rxn27936': 'R00143', 'rxn19010': 'R00149', 'rxn30592': 'R00149', 'rxn31319': 'R00149', 'rxn35314': 'R00149', 'rxn38000': 'R00149', 'rxn29996': 'R00150', 'rxn37674': 'R00150', 'rxn20461': 'R00156', 'rxn28042': 'R00156', 'rxn28044': 'R00156', 'rxn33550': 'R00156', 'rxn30446': 'R00158', 'rxn32095': 'R00158', 'rxn38190': 'R00159', 'rxn38198': 'R00159', 'rxn38206': 'R00159', 'rxn38214': 'R00159', 'rxn38222': 'R00159', 'rxn38231': 'R00159', 'rxn38241': 'R00159', 'rxn33436': 'R00160', 'rxn30210': 'R00161', 'rxn33129': 'R00161', 'rxn38691': 'R00174', 'rxn28979': 'R00177', 'rxn32132': 'R00178', 'rxn27619': 'R00179', 'rxn33519': 'R00179', 'rxn37998': 'R00179', 'rxn37999': 'R00179', 'rxn30350': 'R00181', 'rxn32247': 'R00181', 'rxn32251': 'R00181', 'rxn18970': 'R00183', 'rxn30611': 'R00183', 'rxn31965': 'R00183', 'rxn31971': 'R00183', 'rxn31973': 'R00183', 'rxn27678': 'R00185', 'rxn38020': 'R00185', 'rxn35437': 'R00187', 'rxn11357': 'R00188', 'rxn32810': 'R00188', 'rxn30039': 'R00189', 'rxn30193': 'R00189', 'rxn30412': 'R00189', 'rxn32216': 'R00189', 'rxn38024': 'R00190', 'rxn35432': 'R00191', 'rxn27683': 'R00192', 'rxn30600': 'R00192', 'rxn33400': 'R00192', 'rxn30005': 'R00195', 'rxn30103': 'R00196', 'rxn34237': 'R00196', 'rxn35452': 'R00196', 'rxn30364': 'R00197', 'rxn33266': 'R00199', 'rxn20509': 'R00200', 'rxn35242': 'R00200', 'rxn38862': 'R00203', 'rxn20655': 'R00206', 'rxn20656': 'R00209', 'rxn30418': 'R00209', 'rxn33851': 'R00210', 'rxn33852': 'R00210', 'rxn28121': 'R00212', 'rxn34258': 'R00212', 'rxn27459': 'R00214', 'rxn31389': 'R00214', 'rxn37872': 'R00214', 'rxn27982': 'R00216', 'rxn27983': 'R00216', 'rxn30061': 'R00220', 'rxn32961': 'R00220', 'rxn35215': 'R00220', 'rxn30060': 'R00221', 'rxn32727': 'R00221', 'rxn24132': 'R00224', 'rxn28118': 'R00224', 'rxn30335': 'R00227', 'rxn27656': 'R00228', 'rxn32710': 'R00228', 'rxn32711': 'R00228', 'rxn27657': 'R00229', 'rxn27658': 'R00229', 'rxn31758': 'R00229', 'rxn20541': 'R00230', 'rxn28067': 'R00230', 'rxn28068': 'R00230', 'rxn34298': 'R00230', 'rxn27986': 'R00233', 'rxn32740': 'R00233', 'rxn27659': 'R00235', 'rxn27660': 'R00235', 'rxn30338': 'R00235', 'rxn31208': 'R00236', 'rxn33484': 'R00236', 'rxn19031': 'R00238', 'rxn31209': 'R00238', 'rxn31210': 'R00238', 'rxn31391': 'R00239', 'rxn38122': 'R00239', 'rxn38123': 'R00239', 'rxn19827': 'R00243', 'rxn30075': 'R00243', 'rxn34790': 'R00243', 'rxn34793': 'R00243', 'rxn33819': 'R00245', 'rxn33820': 'R00245', 'rxn27887': 'R00248', 'rxn30023': 'R00248', 'rxn33943': 'R00248', 'rxn34794': 'R00248', 'rxn30590': 'R00251', 'rxn19835': 'R00253', 'rxn19836': 'R00253', 'rxn30022': 'R00253', 'rxn34791': 'R00253', 'rxn34792': 'R00253', 'rxn19831': 'R00256', 'rxn29962': 'R00256', 'rxn30024': 'R00256', 'rxn30680': 'R00256', 'rxn34787': 'R00256', 'rxn33083': 'R00257', 'rxn27697': 'R00258', 'rxn27698': 'R00258', 'rxn31211': 'R00258', 'rxn38028': 'R00258', 'rxn38029': 'R00258', 'rxn30107': 'R00259', 'rxn33610': 'R00259', 'rxn34786': 'R00261', 'rxn30399': 'R00267', 'rxn30400': 'R00267', 'rxn33806': 'R00267', 'rxn25050': 'R00268', 'rxn25051': 'R00268', 'rxn23361': 'R00269', 'rxn31885': 'R00269', 'rxn35319': 'R00270', 'rxn30154': 'R00271', 'rxn30391': 'R00271', 'rxn24434': 'R00272', 'rxn27891': 'R00274', 'rxn33345': 'R00274', 'rxn33349': 'R00274', 'rxn27269': 'R00275', 'rxn27270': 'R00275', 'rxn27271': 'R00275', 'rxn27272': 'R00275', 'rxn30523': 'R00275', 'rxn32404': 'R00275', 'rxn30055': 'R00277', 'rxn30747': 'R00277', 'rxn31960': 'R00277', 'rxn38693': 'R00278', 'rxn29978': 'R00287', 'rxn38117': 'R00289', 'rxn33514': 'R00291', 'rxn33931': 'R00291', 'rxn37863': 'R00291', 'rxn38827': 'R00291', 'rxn38829': 'R00291', 'rxn31097': 'R00293', 'rxn34232': 'R00299', 'rxn29957': 'R00304', 'rxn30251': 'R00306; R06104', 'rxn32119': 'R00306; R06104', 'rxn20626': 'R00310', 'rxn26363': 'R00310', 'rxn28098': 'R00310', 'rxn30378': 'R00310', 'rxn27661': 'R00315', 'rxn27662': 'R00315', 'rxn34299': 'R00315', 'rxn31212': 'R00316', 'rxn32413': 'R00316', 'rxn32635': 'R00317', 'rxn34196': 'R00317', 'rxn30303': 'R00321', 'rxn30413': 'R00328', 'rxn19769': 'R00330', 'rxn27873': 'R00330', 'rxn27874': 'R00330', 'rxn33024': 'R00330', 'rxn27924': 'R00332', 'rxn32165': 'R00332', 'rxn32168': 'R00332', 'rxn32175': 'R00332', 'rxn32176': 'R00332', 'rxn18911': 'R00335', 'rxn27617': 'R00335', 'rxn32003': 'R00335', 'rxn32004': 'R00335', 'rxn32006': 'R00335', 'rxn37993': 'R00335', 'rxn37994': 'R00335', 'rxn38229': 'R00335', 'rxn38239': 'R00335', 'rxn33062': 'R00336', 'rxn35519': 'R00341', 'rxn20068': 'R00342', 'rxn23652': 'R00342', 'rxn27976': 'R00342', 'rxn34245': 'R00342', 'rxn20158': 'R00343', 'rxn31213': 'R00343', 'rxn28116': 'R00344', 'rxn32421': 'R00345', 'rxn32297': 'R00346', 'rxn32299': 'R00346', 'rxn32303': 'R00346', 'rxn20013': 'R00348', 'rxn24177': 'R00348', 'rxn19316': 'R00351', 'rxn27765': 'R00351', 'rxn32388': 'R00351', 'rxn34204': 'R00351', 'rxn33091': 'R00352', 'rxn33092': 'R00352', 'rxn27719': 'R00355', 'rxn27720': 'R00355', 'rxn30355': 'R00355', 'rxn30304': 'R00357', 'rxn30722': 'R00357', 'rxn32053': 'R00357', 'rxn34557': 'R00357', 'rxn19368': 'R00359', 'rxn20161': 'R00360', 'rxn30314': 'R00365', 'rxn38888': 'R00366', 'rxn27694': 'R00369', 'rxn27695': 'R00369', 'rxn32557': 'R00369', 'rxn35211': 'R00371', 'rxn27909': 'R00372', 'rxn32307': 'R00372', 'rxn35212': 'R00372', 'rxn30302': 'R00396', 'rxn19085': 'R00401', 'rxn38030': 'R00401', 'rxn27866': 'R00402', 'rxn28991': 'R00405', 'rxn27252': 'R00407', 'rxn32107': 'R00407', 'rxn32154': 'R00407', 'rxn30176': 'R00408', 'rxn34271': 'R00408', 'rxn30406': 'R00409', 'rxn31857': 'R00409', 'rxn31866': 'R00409', 'rxn32708': 'R00411', 'rxn30068': 'R00416', 'rxn32287': 'R00425', 'rxn33568': 'R00426', 'rxn33193': 'R00429', 'rxn32979': 'R00430', 'rxn35442': 'R00430', 'rxn27228': 'R00432', 'rxn35443': 'R00434', 'rxn17089': 'R00448', 'rxn27788': 'R00451', 'rxn20057': 'R00462', 'rxn27915': 'R00465', 'rxn32871': 'R00465', 'rxn27427': 'R00469', 'rxn27428': 'R00469', 'rxn30069': 'R00469', 'rxn18964': 'R00470', 'rxn20162': 'R00472', 'rxn33881': 'R00472', 'rxn34243': 'R00472', 'rxn34244': 'R00472', 'rxn25769': 'R00475', 'rxn31214': 'R00475', 'rxn32255': 'R00475', 'rxn34231': 'R00475', 'rxn33532': 'R00479', 'rxn33534': 'R00479', 'rxn33880': 'R00479', 'rxn27724': 'R00480', 'rxn20003': 'R00481', 'rxn29993': 'R00483', 'rxn19208': 'R00485', 'rxn29950': 'R00485', 'rxn29992': 'R00485', 'rxn30353': 'R00485', 'rxn30618': 'R00485', 'rxn34558': 'R00485', 'rxn29994': 'R00490', 'rxn23048': 'R00494', 'rxn28902': 'R00494', 'rxn29964': 'R00494', 'rxn31054': 'R00494', 'rxn33431': 'R00494', 'rxn27892': 'R00497', 'rxn29945': 'R00502', 'rxn32779': 'R00507', 'rxn33222': 'R00508', 'rxn19075': 'R00509', 'rxn27688': 'R00509', 'rxn18972': 'R00511', 'rxn32982': 'R00511', 'rxn27766': 'R00512', 'rxn31215': 'R00519', 'rxn33324': 'R00519', 'rxn33328': 'R00519', 'rxn34248': 'R00522', 'rxn30669': 'R00524', 'rxn33524': 'R00524', 'rxn34213': 'R00524', 'rxn35245': 'R00524', 'rxn35315': 'R00524', 'rxn32730': 'R00526', 'rxn32731': 'R00526', 'rxn32757': 'R00526', 'rxn32820': 'R00527', 'rxn38706': 'R00527', 'rxn27259': 'R00529', 'rxn33490': 'R00529', 'rxn27260': 'R00530', 'rxn19073': 'R00531', 'rxn32985': 'R00531', 'rxn27265': 'R00533', 'rxn32966': 'R00533', 'rxn30337': 'R00548', 'rxn32581': 'R00548', 'rxn38689': 'R00548', 'rxn20779': 'R00549', 'rxn32424': 'R00549', 'rxn19181': 'R00551', 'rxn30615': 'R00551', 'rxn31988': 'R00551', 'rxn30071': 'R00552', 'rxn30617': 'R00552', 'rxn33434': 'R00552', 'rxn33439': 'R00552', 'rxn33441': 'R00552', 'rxn33448': 'R00552', 'rxn30616': 'R00559', 'rxn19855': 'R00565', 'rxn19180': 'R00566', 'rxn32213': 'R00566', 'rxn35371': 'R00566', 'rxn30308': 'R00568', 'rxn22518': 'R00569', 'rxn38192': 'R00569', 'rxn38200': 'R00569', 'rxn38208': 'R00569', 'rxn38216': 'R00569', 'rxn38224': 'R00569', 'rxn38234': 'R00569', 'rxn19276': 'R00570', 'rxn27747': 'R00570', 'rxn27748': 'R00570', 'rxn32981': 'R00570', 'rxn30073': 'R00571', 'rxn32019': 'R00571', 'rxn32058': 'R00571', 'rxn11276': 'R00573', 'rxn27771': 'R00573', 'rxn33242': 'R00573', 'rxn27743': 'R00575', 'rxn30627': 'R00575', 'rxn31216': 'R00575', 'rxn38060': 'R00575', 'rxn32227': 'R00578', 'rxn38046': 'R00578', 'rxn26100': 'R00582', 'rxn29975': 'R00582', 'rxn30983': 'R00582', 'rxn27104': 'R00585', 'rxn28984': 'R00585', 'rxn33642': 'R00585', 'rxn27108': 'R00586', 'rxn27109': 'R00586', 'rxn28985': 'R00588', 'rxn28986': 'R00588', 'rxn33134': 'R00588', 'rxn18977': 'R00589', 'rxn32319': 'R00589', 'rxn31397': 'R00602', 'rxn33269': 'R00604', 'rxn33270': 'R00604', 'rxn33272': 'R00604', 'rxn38171': 'R00605', 'rxn20190': 'R00608', 'rxn31075': 'R00610', 'rxn31790': 'R00615', 'rxn38718': 'R00617', 'rxn32612': 'R00618', 'rxn32616': 'R00618', 'rxn32226': 'R00619', 'rxn31217': 'R00621', 'rxn27962': 'R00644', 'rxn33639': 'R00644', 'rxn38887': 'R00648', 'rxn32345': 'R00651', 'rxn30078': 'R00654', 'rxn30731': 'R00654', 'rxn17748': 'R00658', 'rxn30576': 'R00658', 'rxn33498': 'R00658', 'rxn35218': 'R00658', 'rxn37952': 'R00658', 'rxn37953': 'R00658', 'rxn32164': 'R00665', 'rxn32350': 'R00665', 'rxn20496': 'R00667', 'rxn33315': 'R00667', 'rxn27670': 'R00669', 'rxn30596': 'R00669', 'rxn31975': 'R00670', 'rxn31977': 'R00670', 'rxn20495': 'R00671', 'rxn30065': 'R00673', 'rxn26013': 'R00674', 'rxn30979': 'R00674', 'rxn38818': 'R00684', 'rxn32690': 'R00685', 'rxn14316': 'R00690; R00698', 'rxn32630': 'R00690; R00698', 'rxn19253': 'R00691', 'rxn37938': 'R00692', 'rxn21134': 'R00694', 'rxn28060': 'R00694', 'rxn38254': 'R00694', 'rxn30552': 'R00697', 'rxn32185': 'R00697', 'rxn32187': 'R00697', 'rxn32189': 'R00697', 'rxn32193': 'R00697', 'rxn22724': 'R00702', 'rxn37933': 'R00702', 'rxn34239': 'R00703', 'rxn34240': 'R00703', 'rxn34235': 'R00704', 'rxn23817': 'R00705', 'rxn37807': 'R00706', 'rxn20649': 'R00707', 'rxn32901': 'R00707', 'rxn28199': 'R00708', 'rxn33563': 'R00708', 'rxn30141': 'R00709', 'rxn19123': 'R00710', 'rxn31362': 'R00710', 'rxn30086': 'R00711', 'rxn31363': 'R00711', 'rxn27251': 'R00713', 'rxn31894': 'R00713', 'rxn29002': 'R00714', 'rxn32195': 'R00714', 'rxn17246': 'R00716', 'rxn37893': 'R00716', 'rxn31400': 'R00717', 'rxn34300': 'R00717', 'rxn32143': 'R00720', 'rxn32148': 'R00720', 'rxn33570': 'R00722', 'rxn33573': 'R00722', 'rxn33785': 'R00727', 'rxn38890': 'R00729', 'rxn27401': 'R00730', 'rxn29938': 'R00730', 'rxn33232': 'R00730', 'rxn27772': 'R00732', 'rxn24109': 'R00733', 'rxn27524': 'R00734', 'rxn30444': 'R00734', 'rxn30445': 'R00734', 'rxn37937': 'R00734', 'rxn31401': 'R00736', 'rxn27668': 'R00742', 'rxn30331': 'R00742', 'rxn38011': 'R00742', 'rxn34194': 'R00746', 'rxn30017': 'R00749', 'rxn32996': 'R00751', 'rxn32998': 'R00751', 'rxn35214': 'R00751', 'rxn27700': 'R00754', 'rxn30083': 'R00754', 'rxn38033': 'R00754', 'rxn38034': 'R00754', 'rxn31364': 'R00755', 'rxn31365': 'R00755', 'rxn34257': 'R00756', 'rxn13933': 'R00758', 'rxn13943': 'R00758', 'rxn33495': 'R00760', 'rxn33497': 'R00760', 'rxn31218': 'R00762', 'rxn30021': 'R00765', 'rxn32367': 'R00768', 'rxn32369': 'R00768', 'rxn32371': 'R00768', 'rxn34259': 'R00771', 'rxn33558': 'R00772', 'rxn33575': 'R00772', 'rxn35318': 'R00774', 'rxn27429': 'R00776', 'rxn30000': 'R00782', 'rxn33352': 'R00782', 'rxn34674': 'R00782', 'rxn35316': 'R00783', 'rxn19884': 'R00793', 'rxn32166': 'R00794', 'rxn34009': 'R00794', 'rxn38182': 'R00794', 'rxn32381': 'R00796', 'rxn30434': 'R00801; R06087', 'rxn33104': 'R00801; R06087', 'rxn31083': 'R00805; R06211', 'rxn31919': 'R00805; R06211', 'rxn33446': 'R00806; R06036', 'rxn31404': 'R00818', 'rxn30135': 'R00830', 'rxn32653': 'R00832', 'rxn32654': 'R00832', 'rxn33032': 'R00832', 'rxn20202': 'R00833', 'rxn30383': 'R00835', 'rxn34218': 'R00835', 'rxn27460': 'R00842', 'rxn30381': 'R00842', 'rxn37873': 'R00842', 'rxn27898': 'R00844', 'rxn31786': 'R00844', 'rxn35164': 'R00846', 'rxn28327': 'R00848', 'rxn35517': 'R00864', 'rxn15775': 'R00871; R08651', 'rxn33633': 'R00885', 'rxn30677': 'R00888', 'rxn38114': 'R00888', 'rxn31751': 'R00889', 'rxn31753': 'R00889', 'rxn34672': 'R00893', 'rxn27893': 'R00894', 'rxn34664': 'R00895', 'rxn34671': 'R00895', 'rxn19041': 'R00897', 'rxn19042': 'R00897', 'rxn32343': 'R00897', 'rxn30878': 'R00899', 'rxn32989': 'R00899', 'rxn32991': 'R00899', 'rxn31853': 'R00903', 'rxn31854': 'R00903', 'rxn31855': 'R00903', 'rxn22781': 'R00904', 'rxn28322': 'R00904', 'rxn31895': 'R00904', 'rxn33392': 'R00905', 'rxn34582': 'R00905', 'rxn17652': 'R00907', 'rxn32229': 'R00907', 'rxn32234': 'R00907', 'rxn23816': 'R00908', 'rxn28267': 'R00908', 'rxn35427': 'R00919', 'rxn28106': 'R00921', 'rxn28107': 'R00921', 'rxn28087': 'R00924', 'rxn32155': 'R00924', 'rxn28088': 'R00925', 'rxn28089': 'R00925', 'rxn31998': 'R00926', 'rxn35424': 'R00926', 'rxn20197': 'R00927', 'rxn33120': 'R00927', 'rxn30407': 'R00931', 'rxn32736': 'R00931', 'rxn32738': 'R00931', 'rxn32739': 'R00931', 'rxn32434': 'R00936', 'rxn27793': 'R00939', 'rxn30104': 'R00939', 'rxn30129': 'R00942', 'rxn30159': 'R00943', 'rxn31923': 'R00943', 'rxn32191': 'R00944', 'rxn32194': 'R00944', 'rxn19870': 'R00945', 'rxn27914': 'R00945', 'rxn30686': 'R00945', 'rxn33977': 'R00945', 'rxn38130': 'R00945', 'rxn32052': 'R00946', 'rxn35345': 'R00946', 'rxn19776': 'R00948', 'rxn33331': 'R00951', 'rxn32349': 'R00954', 'rxn32351': 'R00954', 'rxn32352': 'R00954', 'rxn32355': 'R00954', 'rxn15103': 'R00957; R06061', 'rxn15568': 'R00957; R06061', 'rxn15773': 'R00959; R08639', 'rxn33867': 'R00959; R08639', 'rxn33662': 'R00961', 'rxn33663': 'R00961', 'rxn18975': 'R00963', 'rxn31059': 'R00963', 'rxn33181': 'R00964', 'rxn38830': 'R00964', 'rxn38831': 'R00964', 'rxn28054': 'R00965', 'rxn38244': 'R00965', 'rxn29942': 'R00966', 'rxn33201': 'R00968', 'rxn38832': 'R00968', 'rxn38833': 'R00968', 'rxn33735': 'R00973', 'rxn29997': 'R00974', 'rxn27484': 'R00978', 'rxn32242': 'R00985', 'rxn35359': 'R00985', 'rxn27709': 'R00986', 'rxn38042': 'R00986', 'rxn38043': 'R00986', 'rxn32329': 'R00990', 'rxn32330': 'R00990', 'rxn32091': 'R00994', 'rxn29011': 'R00996', 'rxn30064': 'R00996', 'rxn30143': 'R00996', 'rxn30440': 'R00996', 'rxn35533': 'R00996', 'rxn30589': 'R00997', 'rxn33042': 'R00997', 'rxn35416': 'R00997', 'rxn35417': 'R00997', 'rxn27994': 'R00999', 'rxn30320': 'R00999', 'rxn34665': 'R00999', 'rxn30306': 'R01001', 'rxn33426': 'R01001', 'rxn33428': 'R01001', 'rxn33507': 'R01001', 'rxn27386': 'R01015', 'rxn33035': 'R01015', 'rxn38064': 'R01021', 'rxn29958': 'R01030', 'rxn31410': 'R01030', 'rxn33398': 'R01030', 'rxn37672': 'R01036', 'rxn37671': 'R01041', 'rxn29963': 'R01043', 'rxn17678': 'R01044', 'rxn33995': 'R01049', 'rxn38273': 'R01049', 'rxn33469': 'R01051', 'rxn14360': 'R01052', 'rxn33061': 'R01052', 'rxn14038': 'R01054', 'rxn28560': 'R01054', 'rxn28104': 'R01055', 'rxn28105': 'R01055', 'rxn30752': 'R01055', 'rxn28141': 'R01056', 'rxn38284': 'R01056', 'rxn32821': 'R01057', 'rxn19762': 'R01061', 'rxn27871': 'R01061', 'rxn38113': 'R01061', 'rxn17199': 'R01063', 'rxn37888': 'R01063', 'rxn31366': 'R01067', 'rxn31335': 'R01068', 'rxn19213': 'R01071', 'rxn28100': 'R01072', 'rxn28101': 'R01073', 'rxn38274': 'R01073', 'rxn19740': 'R01082', 'rxn33856': 'R01082', 'rxn33857': 'R01082', 'rxn33858': 'R01082', 'rxn27708': 'R01083', 'rxn27716': 'R01086', 'rxn30550': 'R01088', 'rxn19241': 'R01090', 'rxn27738': 'R01090', 'rxn38054': 'R01090', 'rxn34770': 'R01092', 'rxn34771': 'R01098', 'rxn11244': 'R01100; R06114', 'rxn29965': 'R01100; R06114', 'rxn34781': 'R01103; R06070', 'rxn34772': 'R01104', 'rxn17276': 'R01108', 'rxn33425': 'R01108', 'rxn25964': 'R01117', 'rxn25965': 'R01117', 'rxn19935': 'R01123', 'rxn19936': 'R01123', 'rxn18974': 'R01126', 'rxn30907': 'R01126', 'rxn27945': 'R01127', 'rxn30710': 'R01127', 'rxn19930': 'R01130', 'rxn27944': 'R01130', 'rxn19933': 'R01131', 'rxn32620': 'R01131', 'rxn32622': 'R01131', 'rxn32633': 'R01131', 'rxn32920': 'R01132', 'rxn32921': 'R01132', 'rxn32923': 'R01132', 'rxn32967': 'R01132', 'rxn32968': 'R01132', 'rxn32969': 'R01132', 'rxn30029': 'R01134', 'rxn27686': 'R01135', 'rxn19384': 'R01137', 'rxn27777': 'R01137', 'rxn27778': 'R01137', 'rxn31847': 'R01137', 'rxn32700': 'R01138', 'rxn35439': 'R01138', 'rxn28681': 'R01147', 'rxn33135': 'R01147', 'rxn27773': 'R01148', 'rxn27774': 'R01148', 'rxn13802': 'R01150', 'rxn31784': 'R01150', 'rxn38070': 'R01150', 'rxn20637': 'R01151', 'rxn20638': 'R01151', 'rxn35374': 'R01151', 'rxn35372': 'R01152', 'rxn28108': 'R01153', 'rxn32416': 'R01156', 'rxn32417': 'R01156', 'rxn32419': 'R01156', 'rxn30601': 'R01157', 'rxn33451': 'R01157', 'rxn33452': 'R01157', 'rxn28381': 'R01158', 'rxn19892': 'R01163', 'rxn32344': 'R01167', 'rxn32347': 'R01167', 'rxn30486': 'R01168', 'rxn23000': 'R01171', 'rxn34627': 'R01172', 'rxn31412': 'R01175', 'rxn19968': 'R01177', 'rxn19980': 'R01177', 'rxn33148': 'R01184', 'rxn33155': 'R01184', 'rxn28168': 'R01185', 'rxn30897': 'R01185', 'rxn28169': 'R01186', 'rxn28001': 'R01187', 'rxn33194': 'R01192; R06214', 'rxn33195': 'R01192; R06214', 'rxn33199': 'R01192; R06214', 'rxn29960': 'R01193', 'rxn34779': 'R01194; R06093', 'rxn20227': 'R01200', 'rxn19801': 'R01204', 'rxn32553': 'R01209', 'rxn27481': 'R01210', 'rxn27497': 'R01213', 'rxn30151': 'R01213', 'rxn19242': 'R01214', 'rxn27739': 'R01214', 'rxn38055': 'R01214', 'rxn29946': 'R01215', 'rxn31886': 'R01218', 'rxn30158': 'R01220', 'rxn32777': 'R01220', 'rxn19763': 'R01221', 'rxn30025': 'R01221', 'rxn30388': 'R01221', 'rxn30157': 'R01224', 'rxn31870': 'R01224', 'rxn17749': 'R01226', 'rxn30578': 'R01226', 'rxn18973': 'R01227', 'rxn30908': 'R01227', 'rxn19878': 'R01228', 'rxn32380': 'R01229', 'rxn32382': 'R01229', 'rxn32383': 'R01229', 'rxn32385': 'R01229', 'rxn32386': 'R01229', 'rxn27919': 'R01230', 'rxn30076': 'R01230', 'rxn35441': 'R01230', 'rxn27918': 'R01231', 'rxn38133': 'R01231', 'rxn38134': 'R01231', 'rxn32321': 'R01232', 'rxn32324': 'R01232', 'rxn35440': 'R01234', 'rxn29986': 'R01244', 'rxn28115': 'R01248', 'rxn38910': 'R01248', 'rxn28114': 'R01251', 'rxn38909': 'R01251', 'rxn30579': 'R01267', 'rxn32243': 'R01267', 'rxn30041': 'R01268', 'rxn30187': 'R01268', 'rxn30414': 'R01268', 'rxn30738': 'R01268', 'rxn38279': 'R01268', 'rxn38280': 'R01268', 'rxn32692': 'R01270', 'rxn32698': 'R01270', 'rxn17810': 'R01274', 'rxn20502': 'R01274', 'rxn20503': 'R01274', 'rxn33068': 'R01278', 'rxn33082': 'R01278', 'rxn31416': 'R01279', 'rxn30377': 'R01280', 'rxn31929': 'R01280', 'rxn31932': 'R01280', 'rxn37332': 'R01280', 'rxn37337': 'R01280', 'rxn27106': 'R01281', 'rxn27107': 'R01281', 'rxn33157': 'R01285', 'rxn35281': 'R01287', 'rxn32102': 'R01289', 'rxn15168': 'R01110; R01292', 'rxn19225': 'R01295', 'rxn30082': 'R01324', 'rxn34190': 'R01324', 'rxn35518': 'R01324', 'rxn19039': 'R01325', 'rxn30619': 'R01325', 'rxn31223': 'R01325', 'rxn33227': 'R01325', 'rxn33231': 'R01325', 'rxn32484': 'R01326', 'rxn32488': 'R01326', 'rxn34769': 'R01329; R06142', 'rxn31785': 'R01333', 'rxn19871': 'R01334', 'rxn30689': 'R01334', 'rxn34260': 'R01334', 'rxn35247': 'R01334', 'rxn15667': 'R01351; R07293', 'rxn28090': 'R01353', 'rxn28091': 'R01353', 'rxn33029': 'R01354', 'rxn35418': 'R01354', 'rxn27937': 'R01360', 'rxn27539': 'R01361', 'rxn34633': 'R01361', 'rxn33228': 'R01364', 'rxn33239': 'R01364', 'rxn38105': 'R01364', 'rxn38106': 'R01364', 'rxn33629': 'R01372', 'rxn38313': 'R01372', 'rxn38314': 'R01372', 'rxn28085': 'R01373', 'rxn33346': 'R01373', 'rxn33389': 'R01375', 'rxn33390': 'R01375', 'rxn20539': 'R01377', 'rxn27409': 'R01384', 'rxn27410': 'R01384', 'rxn32977': 'R01384', 'rxn32978': 'R01384', 'rxn33244': 'R01385', 'rxn33253': 'R01385', 'rxn33255': 'R01385', 'rxn38824': 'R01385', 'rxn19849': 'R01388', 'rxn27900': 'R01388', 'rxn27943': 'R01388', 'rxn32531': 'R01392', 'rxn38885': 'R01392', 'rxn27725': 'R01397', 'rxn35448': 'R01397', 'rxn20493': 'R01398', 'rxn28051': 'R01398', 'rxn30734': 'R01401', 'rxn37706': 'R01415', 'rxn27690': 'R01416', 'rxn30602': 'R01416', 'rxn35369': 'R01416', 'rxn35370': 'R01416', 'rxn19224': 'R01419; R01486', 'rxn31419': 'R01426', 'rxn31896': 'R01432', 'rxn31899': 'R01432', 'rxn30554': 'R01434', 'rxn19714': 'R01440', 'rxn30087': 'R01446', 'rxn32529': 'R01451', 'rxn26967': 'R01456', 'rxn38682': 'R01456', 'rxn26890': 'R01457', 'rxn33041': 'R01465', 'rxn33043': 'R01465', 'rxn29012': 'R01466', 'rxn31088': 'R01466', 'rxn32358': 'R01468', 'rxn38094': 'R01468', 'rxn29959': 'R01470', 'rxn32569': 'R01473', 'rxn32311': 'R01476', 'rxn32560': 'R01481', 'rxn08194': 'R01492', 'rxn19466': 'R01504', 'rxn38072': 'R01505', 'rxn38073': 'R01505', 'rxn38074': 'R01505', 'rxn38075': 'R01505', 'rxn38076': 'R01505', 'rxn20544': 'R01512', 'rxn35241': 'R01512', 'rxn38256': 'R01512', 'rxn38257': 'R01512', 'rxn20523': 'R01513', 'rxn28059': 'R01513', 'rxn31801': 'R01513', 'rxn27895': 'R01514', 'rxn38124': 'R01514', 'rxn34191': 'R01515', 'rxn18917': 'R01518', 'rxn35234': 'R01518', 'rxn28078': 'R01523', 'rxn38263': 'R01523', 'rxn27624': 'R01528', 'rxn33304': 'R01528', 'rxn33323': 'R01528', 'rxn38006': 'R01528', 'rxn38009': 'R01528', 'rxn28146': 'R01529', 'rxn32027': 'R01530', 'rxn32028': 'R01530', 'rxn32044': 'R01530', 'rxn32704': 'R01544', 'rxn32706': 'R01544', 'rxn32470': 'R01547', 'rxn32473': 'R01547', 'rxn19028': 'R01553', 'rxn27665': 'R01553', 'rxn15224': 'R01556; R06251', 'rxn15226': 'R01557; R06218', 'rxn29985': 'R01560', 'rxn31888': 'R01560', 'rxn31938': 'R01560', 'rxn31940': 'R01560', 'rxn31942': 'R01560', 'rxn30188': 'R01561', 'rxn17763': 'R01562', 'rxn29955': 'R01569', 'rxn31950': 'R01573', 'rxn31951': 'R01573', 'rxn31955': 'R01573', 'rxn33739': 'R01576', 'rxn33826': 'R01598', 'rxn33401': 'R01600', 'rxn33404': 'R01600', 'rxn34185': 'R01602', 'rxn33536': 'R01608', 'rxn33540': 'R01608', 'rxn32686': 'R01615', 'rxn32687': 'R01615', 'rxn32688': 'R01615', 'rxn30362': 'R01616', 'rxn33539': 'R01616', 'rxn35431': 'R01618', 'rxn32114': 'R01639', 'rxn32122': 'R01639', 'rxn27495': 'R01641', 'rxn38972': 'R01644', 'rxn19742': 'R01648', 'rxn27867': 'R01648', 'rxn32792': 'R01650', 'rxn27534': 'R01651', 'rxn30417': 'R01652', 'rxn33725': 'R01652', 'rxn34758': 'R01654', 'rxn30160': 'R01655', 'rxn34246': 'R01655', 'rxn35246': 'R01655', 'rxn19872': 'R01658', 'rxn38135': 'R01658', 'rxn30074': 'R01663', 'rxn31917': 'R01663', 'rxn29952': 'R01664', 'rxn28376': 'R01665', 'rxn30031': 'R01676', 'rxn33243': 'R01676', 'rxn33245': 'R01676', 'rxn33250': 'R01676', 'rxn33251': 'R01676', 'rxn33256': 'R01676', 'rxn27791': 'R01698', 'rxn27792': 'R01698', 'rxn38078': 'R01698', 'rxn28120': 'R01699', 'rxn30179': 'R01699', 'rxn38276': 'R01699', 'rxn30340': 'R01700', 'rxn30543': 'R01700', 'rxn30541': 'R01701', 'rxn33593': 'R01704', 'rxn33600': 'R01704', 'rxn38275': 'R01708', 'rxn35556': 'R01710', 'rxn32460': 'R01714', 'rxn19309': 'R01715', 'rxn33299': 'R01715', 'rxn20498': 'R01716', 'rxn20499': 'R01716', 'rxn19940': 'R01717', 'rxn30169': 'R01724', 'rxn31944': 'R01724', 'rxn31946': 'R01724', 'rxn28086': 'R01728', 'rxn33078': 'R01728', 'rxn31750': 'R01730', 'rxn37694': 'R01731', 'rxn33559': 'R01735', 'rxn30389': 'R01736', 'rxn33079': 'R01736', 'rxn34226': 'R01737', 'rxn34233': 'R01745', 'rxn27899': 'R01752', 'rxn32139': 'R01752', 'rxn20170': 'R01767', 'rxn32917': 'R01768', 'rxn31882': 'R01769', 'rxn19905': 'R01771', 'rxn38151': 'R01771', 'rxn38152': 'R01771', 'rxn38153': 'R01771', 'rxn27933': 'R01773', 'rxn27932': 'R01775', 'rxn33981': 'R01777', 'rxn30433': 'R01787', 'rxn25963': 'R01805', 'rxn17474': 'R01806', 'rxn17475': 'R01807', 'rxn24487': 'R01808', 'rxn20179': 'R01817', 'rxn31904': 'R01817', 'rxn31921': 'R01817', 'rxn32754': 'R01818', 'rxn30366': 'R01826', 'rxn30649': 'R01826', 'rxn32105': 'R01826', 'rxn38069': 'R01826', 'rxn15751': 'R01827; R08575', 'rxn33316': 'R01827; R08575', 'rxn33318': 'R01827; R08575', 'rxn28981': 'R01829', 'rxn31868': 'R01829', 'rxn31863': 'R01836', 'rxn31878': 'R01836', 'rxn33213': 'R01838', 'rxn28982': 'R01845', 'rxn31076': 'R01845', 'rxn33873': 'R01845', 'rxn32974': 'R01855', 'rxn19465': 'R01857', 'rxn27786': 'R01857', 'rxn27787': 'R01857', 'rxn33383': 'R01857', 'rxn32775': 'R01858', 'rxn35430': 'R01858', 'rxn20619': 'R01859', 'rxn27812': 'R01867', 'rxn27813': 'R01867', 'rxn35450': 'R01867', 'rxn38082': 'R01867', 'rxn28053': 'R01870', 'rxn38243': 'R01870', 'rxn29999': 'R01874', 'rxn32747': 'R01874', 'rxn32748': 'R01874', 'rxn17767': 'R01877', 'rxn30003': 'R01878', 'rxn33463': 'R01878', 'rxn19327': 'R01881', 'rxn28163': 'R01885', 'rxn14078': 'R01886', 'rxn15273': 'R01887', 'rxn30416': 'R01887', 'rxn31777': 'R01890', 'rxn37675': 'R01896', 'rxn30142': 'R01899', 'rxn32167': 'R01899', 'rxn32171': 'R01899', 'rxn32587': 'R01900', 'rxn32588': 'R01900', 'rxn32589': 'R01900', 'rxn34304': 'R01900', 'rxn33066': 'R01904', 'rxn38692': 'R01909', 'rxn33691': 'R01911', 'rxn21097': 'R01914', 'rxn33467': 'R01914', 'rxn34581': 'R01914', 'rxn28988': 'R01920', 'rxn33264': 'R01926', 'rxn27322': 'R01931', 'rxn27323': 'R01931', 'rxn29010': 'R01931', 'rxn32295': 'R01931', 'rxn33618': 'R01933', 'rxn30153': 'R01934', 'rxn30207': 'R01936', 'rxn17384': 'R01939', 'rxn32990': 'R01941', 'rxn33688': 'R01942', 'rxn32778': 'R01945', 'rxn32780': 'R01945', 'rxn32781': 'R01945', 'rxn32533': 'R01951', 'rxn32536': 'R01951', 'rxn27717': 'R01954', 'rxn34212': 'R01959', 'rxn19800': 'R01961', 'rxn31934': 'R01961', 'rxn31936': 'R01961', 'rxn31797': 'R01962', 'rxn31799': 'R01962', 'rxn32062': 'R01965', 'rxn32065': 'R01965', 'rxn29953': 'R01968', 'rxn32325': 'R01968', 'rxn32378': 'R01968', 'rxn18925': 'R01974', 'rxn20475': 'R01975', 'rxn27455': 'R01975', 'rxn32364': 'R01976', 'rxn34632': 'R01976', 'rxn30395': 'R01978', 'rxn33131': 'R01986', 'rxn33132': 'R01986', 'rxn33415': 'R01987', 'rxn33417': 'R01987', 'rxn27794': 'R01993', 'rxn35449': 'R01993', 'rxn19730': 'R02003', 'rxn38104': 'R02003', 'rxn37997': 'R02013', 'rxn19017': 'R02035', 'rxn19018': 'R02035', 'rxn32327': 'R02037', 'rxn17704': 'R02038', 'rxn17705': 'R02038', 'rxn32099': 'R02047', 'rxn32100': 'R02047', 'rxn19804': 'R02058', 'rxn19806': 'R02058', 'rxn19808': 'R02058', 'rxn33165': 'R02058', 'rxn33205': 'R02058', 'rxn32446': 'R02060', 'rxn32450': 'R02060', 'rxn19689': 'R02061', 'rxn19690': 'R02061', 'rxn19691': 'R02061', 'rxn38099': 'R02061', 'rxn20986': 'R02063', 'rxn27520': 'R02065', 'rxn18989': 'R02068', 'rxn30019': 'R02071', 'rxn31987': 'R02077', 'rxn27938': 'R02081', 'rxn37685': 'R02081', 'rxn16887': 'R02082', 'rxn16888': 'R02082', 'rxn16889': 'R02082', 'rxn27458': 'R02082', 'rxn37869': 'R02082', 'rxn37870': 'R02082', 'rxn37871': 'R02082', 'rxn27998': 'R02085', 'rxn30733': 'R02085', 'rxn32471': 'R02085', 'rxn30177': 'R08193', 'rxn13134': 'R02088', 'rxn29951': 'R02088', 'rxn33471': 'R02088', 'rxn33474': 'R02088', 'rxn27917': 'R02090', 'rxn32936': 'R02090', 'rxn32939': 'R02090', 'rxn19643': 'R02093', 'rxn27839': 'R02093', 'rxn27840': 'R02093', 'rxn32898': 'R02093', 'rxn27841': 'R02094', 'rxn33672': 'R02094', 'rxn38189': 'R02095', 'rxn38197': 'R02095', 'rxn38205': 'R02095', 'rxn38213': 'R02095', 'rxn38221': 'R02095', 'rxn38230': 'R02095', 'rxn38240': 'R02095', 'rxn30447': 'R02098', 'rxn27844': 'R02100', 'rxn32248': 'R02100', 'rxn32257': 'R02100', 'rxn29013': 'R02101', 'rxn32556': 'R02101', 'rxn29956': 'R02102', 'rxn31766': 'R02103', 'rxn31767': 'R02103', 'rxn31776': 'R02103', 'rxn31779': 'R02103', 'rxn27425': 'R02106', 'rxn27426': 'R02106', 'rxn31100': 'R02106', 'rxn35447': 'R02106', 'rxn32289': 'R02107', 'rxn32290': 'R02107', 'rxn37776': 'R02118', 'rxn38377': 'R02118', 'rxn33367': 'R02123', 'rxn33370': 'R02123', 'rxn20774': 'R02124', 'rxn32074': 'R02124', 'rxn31763': 'R02125', 'rxn31765': 'R02125', 'rxn32104': 'R02133', 'rxn30439': 'R02135', 'rxn33098': 'R02135', 'rxn33365': 'R02142', 'rxn32246': 'R02143', 'rxn30189': 'R02147', 'rxn17765': 'R02148', 'rxn31428': 'R02150', 'rxn33622': 'R02150', 'rxn35251': 'R02150', 'rxn20658': 'R02156', 'rxn33019': 'R02159', 'rxn28308': 'R02160', 'rxn20172': 'R02167', 'rxn32198': 'R02167', 'rxn32222': 'R02167', 'rxn23700': 'R02173', 'rxn30785': 'R02173', 'rxn31773': 'R02173', 'rxn31947': 'R02193', 'rxn31952': 'R02193', 'rxn33619': 'R02194', 'rxn30549': 'R02196', 'rxn19240': 'R02199', 'rxn27737': 'R02199', 'rxn38053': 'R02199', 'rxn27521': 'R02200', 'rxn20015': 'R02204', 'rxn20016': 'R02204', 'rxn33760': 'R02220', 'rxn33556': 'R02221', 'rxn27224': 'R02228', 'rxn19488': 'R02237', 'rxn20204': 'R02245', 'rxn27340': 'R02253', 'rxn33332': 'R02254', 'rxn33342': 'R02254', 'rxn31851': 'R02262', 'rxn33377': 'R02265', 'rxn33479': 'R02266', 'rxn31924': 'R02269', 'rxn27920': 'R02272', 'rxn27921': 'R02272', 'rxn38136': 'R02272', 'rxn38121': 'R02282', 'rxn27671': 'R02283', 'rxn30089': 'R02283', 'rxn27723': 'R02291', 'rxn33374': 'R02291', 'rxn19487': 'R02292', 'rxn33382': 'R02297', 'rxn24149': 'R02300', 'rxn18967': 'R02301', 'rxn32228': 'R02301', 'rxn35344': 'R02302', 'rxn30040': 'R02322', 'rxn24118': 'R02323', 'rxn30500': 'R02323', 'rxn30860': 'R02323', 'rxn30006': 'R02325', 'rxn32477': 'R02325', 'rxn32478': 'R02325', 'rxn32481': 'R02325', 'rxn32567': 'R02325', 'rxn19449': 'R02326', 'rxn27780': 'R02326', 'rxn27781': 'R02326', 'rxn32308': 'R02326', 'rxn33709': 'R02328', 'rxn33710': 'R02328', 'rxn33714': 'R02328', 'rxn33715': 'R02328', 'rxn32159': 'R02329', 'rxn32178': 'R02329', 'rxn38188': 'R02330', 'rxn38196': 'R02330', 'rxn38204': 'R02330', 'rxn38212': 'R02330', 'rxn38220': 'R02330', 'rxn38228': 'R02330', 'rxn38238': 'R02330', 'rxn19645': 'R02331', 'rxn27842': 'R02331', 'rxn27843': 'R02331', 'rxn33340': 'R02331', 'rxn28615': 'R02340', 'rxn33281': 'R02340', 'rxn32558': 'R02352', 'rxn32562': 'R02352', 'rxn36715': 'R02352', 'rxn32656': 'R02353', 'rxn32659': 'R02353', 'rxn36714': 'R02353', 'rxn17766': 'R02370', 'rxn33470': 'R02379', 'rxn29967': 'R02382', 'rxn35376': 'R02393', 'rxn15326': 'R02395', 'rxn15327': 'R02396', 'rxn19259': 'R02396', 'rxn19260': 'R02396', 'rxn15329': 'R02397', 'rxn15331': 'R02398', 'rxn30152': 'R02404', 'rxn34670': 'R02408', 'rxn31954': 'R02410; R06100', 'rxn33683': 'R02411; R06071', 'rxn32794': 'R02412', 'rxn38708': 'R02412', 'rxn38709': 'R02412', 'rxn38710': 'R02412', 'rxn27110': 'R02413', 'rxn32817': 'R02416', 'rxn32822': 'R02416', 'rxn37912': 'R02416', 'rxn30606': 'R02422', 'rxn35433': 'R02422', 'rxn33359': 'R02423', 'rxn30607': 'R02424', 'rxn35435': 'R02424', 'rxn28201': 'R02433', 'rxn28202': 'R02433', 'rxn33740': 'R02433', 'rxn20659': 'R02436', 'rxn20777': 'R02437', 'rxn22467': 'R02438', 'rxn28346': 'R02442', 'rxn30920': 'R02445', 'rxn38044': 'R02446', 'rxn33059': 'R02447', 'rxn33060': 'R02447', 'rxn33064': 'R02447', 'rxn33065': 'R02447', 'rxn33151': 'R02462', 'rxn32683': 'R02464', 'rxn30146': 'R02472', 'rxn35353': 'R02472', 'rxn37906': 'R02472', 'rxn35352': 'R02473', 'rxn30007': 'R02485', 'rxn38694': 'R02493', 'rxn32907': 'R02508', 'rxn32545': 'R02519', 'rxn32572': 'R02519', 'rxn32483': 'R02521', 'rxn32486': 'R02521', 'rxn37995': 'R02521', 'rxn33207': 'R02527', 'rxn26077': 'R02528', 'rxn26078': 'R02528', 'rxn19149': 'R02529', 'rxn29982': 'R02529', 'rxn33386': 'R02529', 'rxn35209': 'R02529', 'rxn33394': 'R02530', 'rxn38131': 'R02530', 'rxn38132': 'R02530', 'rxn21211': 'R02532', 'rxn21210': 'R02534', 'rxn30660': 'R02535', 'rxn29989': 'R02536', 'rxn30045': 'R02539', 'rxn30088': 'R02540', 'rxn30348': 'R02540', 'rxn32389': 'R02540', 'rxn19161': 'R02549', 'rxn30209': 'R02549', 'rxn30004': 'R02556', 'rxn32203': 'R02556', 'rxn32204': 'R02556', 'rxn27333': 'R02559', 'rxn19217': 'R02565', 'rxn19218': 'R02565', 'rxn19219': 'R02565', 'rxn27728': 'R02565', 'rxn33130': 'R02566', 'rxn33145': 'R02566', 'rxn25046': 'R02568', 'rxn28406': 'R02568', 'rxn38459': 'R02568', 'rxn19485': 'R02569', 'rxn30149': 'R02569', 'rxn34255': 'R02569', 'rxn38077': 'R02569', 'rxn30301': 'R02570', 'rxn30341': 'R02570', 'rxn33606': 'R02572', 'rxn32702': 'R02573', 'rxn19568': 'R02574', 'rxn19834': 'R02576', 'rxn33360': 'R02581', 'rxn33373': 'R02581', 'rxn32079': 'R02591', 'rxn24403': 'R02611', 'rxn28356': 'R02611', 'rxn38429': 'R02611', 'rxn38430': 'R02611', 'rxn19157': 'R02613', 'rxn29966': 'R02613', 'rxn30220': 'R02613', 'rxn27547': 'R02619', 'rxn27548': 'R02619', 'rxn33295': 'R02619', 'rxn31746': 'R02632', 'rxn32069': 'R02634', 'rxn32071': 'R02634', 'rxn32072': 'R02634', 'rxn32078': 'R02634', 'rxn27669': 'R02649', 'rxn30332': 'R02649', 'rxn31238': 'R02662', 'rxn35538': 'R02662', 'rxn31807': 'R02669', 'rxn31808': 'R02669', 'rxn19917': 'R02676', 'rxn32726': 'R02676', 'rxn30344': 'R02678', 'rxn31901': 'R02678', 'rxn16863': 'R02679', 'rxn32676': 'R02684', 'rxn32679': 'R02684', 'rxn29979': 'R02719', 'rxn31106': 'R02719', 'rxn33762': 'R02719', 'rxn29936': 'R02722', 'rxn31096': 'R02722', 'rxn33994': 'R02722', 'rxn30180': 'R02732', 'rxn27789': 'R02735', 'rxn19775': 'R02736', 'rxn27877': 'R02736', 'rxn38115': 'R02736', 'rxn30181': 'R02739', 'rxn34220': 'R02739', 'rxn15666': 'R02746; R07291', 'rxn30661': 'R06513', 'rxn32607': 'R06513', 'rxn33180': 'R06513', 'rxn33182': 'R06513', 'rxn19641': 'R06514', 'rxn16855': 'R02776', 'rxn19642': 'R02777', 'rxn32259': 'R02777', 'rxn38091': 'R02777', 'rxn38092': 'R02777', 'rxn29924': 'R02778; R06228', 'rxn31095': 'R02778; R06228', 'rxn38812': 'R02778; R06228', 'rxn15371': 'R02854', 'rxn19025': 'R02856', 'rxn27288': 'R02863', 'rxn28987': 'R02864', 'rxn27205': 'R02866', 'rxn34576': 'R02869', 'rxn26891': 'R02872', 'rxn38677': 'R02872', 'rxn27213': 'R02874', 'rxn38679': 'R02874', 'rxn22784': 'R02875', 'rxn27287': 'R02880', 'rxn21114': 'R02908', 'rxn21212': 'R02919', 'rxn21213': 'R02920', 'rxn34777': 'R02926', 'rxn32924': 'R02933', 'rxn32954': 'R02940', 'rxn32956': 'R02940', 'rxn31435': 'R02941', 'rxn32766': 'R02941', 'rxn32767': 'R02941', 'rxn32395': 'R02976', 'rxn17753': 'R02978', 'rxn17754': 'R02978', 'rxn31436': 'R02978', 'rxn32333': 'R02979', 'rxn32596': 'R02984', 'rxn32605': 'R02984', 'rxn17259': 'R02999', 'rxn30217': 'R03005', 'rxn31945': 'R03005', 'rxn35310': 'R03005', 'rxn23875': 'R03006', 'rxn23876': 'R03006', 'rxn21890': 'R03008', 'rxn26515': 'R03009', 'rxn19896': 'R03012', 'rxn27927': 'R03013', 'rxn30698': 'R03013', 'rxn27618': 'R03024', 'rxn19669': 'R03026', 'rxn34630': 'R03026', 'rxn30763': 'R03027', 'rxn19825': 'R03028', 'rxn30213': 'R03035', 'rxn32643': 'R03035', 'rxn28323': 'R03045', 'rxn30870': 'R03045', 'rxn32064': 'R03045', 'rxn33391': 'R03050', 'rxn32271': 'R03051', 'rxn33637': 'R03051', 'rxn30369': 'R03066', 'rxn30380': 'R03067', 'rxn32559': 'R03083', 'rxn17751': 'R03084', 'rxn17752': 'R03084', 'rxn30580': 'R03084', 'rxn30415': 'R03093', 'rxn38356': 'R03093', 'rxn30349': 'R03096', 'rxn38701': 'R03096', 'rxn38702': 'R03096', 'rxn32855': 'R03106', 'rxn32857': 'R03106', 'rxn19263': 'R03114', 'rxn38079': 'R03123', 'rxn28307': 'R03124', 'rxn30867': 'R03139', 'rxn33822': 'R03139', 'rxn34579': 'R03139', 'rxn25701': 'R03140', 'rxn16860': 'R03155', 'rxn28324': 'R03158', 'rxn28325': 'R03158', 'rxn19739': 'R03161', 'rxn19738': 'R03163', 'rxn27433': 'R03165', 'rxn31104': 'R03165', 'rxn35412': 'R03166', 'rxn17744': 'R03171', 'rxn27533': 'R03171', 'rxn37658': 'R03171', 'rxn30347': 'R03180', 'rxn38141': 'R03180', 'rxn38142': 'R03180', 'rxn32828': 'R03181', 'rxn32840': 'R03181', 'rxn35524': 'R03181', 'rxn27785': 'R03182', 'rxn31892': 'R03183', 'rxn31893': 'R03183', 'rxn32055': 'R03186', 'rxn32056': 'R03186', 'rxn32108': 'R03188', 'rxn32110': 'R03188', 'rxn32111': 'R03188', 'rxn35413': 'R03194', 'rxn27432': 'R03197', 'rxn20024': 'R03199', 'rxn20025': 'R03199', 'rxn33298': 'R03217', 'rxn25989': 'R03220', 'rxn30422': 'R03222', 'rxn31241': 'R03222', 'rxn29006': 'R03223', 'rxn27779': 'R03231', 'rxn37014': 'R03234', 'rxn33087': 'R03236', 'rxn32803': 'R03237', 'rxn32492': 'R03238', 'rxn32571': 'R03239', 'rxn27926': 'R03243', 'rxn33284': 'R03243', 'rxn38148': 'R03243', 'rxn33862': 'R03244', 'rxn20592': 'R03245', 'rxn15393': 'R03248', 'rxn30718': 'R03254', 'rxn32365': 'R03254', 'rxn31242': 'R03270', 'rxn34253': 'R03270', 'rxn34254': 'R03270', 'rxn32554': 'R03289', 'rxn30397': 'R03291', 'rxn30398': 'R03293', 'rxn28889': 'R03300', 'rxn35630': 'R03310', 'rxn32479': 'R03313', 'rxn34566': 'R03313', 'rxn34567': 'R03313', 'rxn30382': 'R03314', 'rxn30182': 'R03321', 'rxn33486': 'R03321', 'rxn30328': 'R03336', 'rxn37883': 'R03344', 'rxn37884': 'R03344', 'rxn37885': 'R03344', 'rxn37886': 'R03344', 'rxn20663': 'R03348', 'rxn30194': 'R03348', 'rxn30717': 'R03350', 'rxn32076': 'R03350', 'rxn31836': 'R03352', 'rxn31838': 'R03352', 'rxn38674': 'R03353', 'rxn38675': 'R03353', 'rxn21244': 'R03371', 'rxn25975': 'R03371', 'rxn28543': 'R03371', 'rxn30974': 'R03371', 'rxn21239': 'R03372', 'rxn21240': 'R03372', 'rxn30591': 'R03372', 'rxn32084': 'R03372', 'rxn33595': 'R03375', 'rxn33623': 'R03393', 'rxn17853': 'R03394', 'rxn30583': 'R03394', 'rxn33455': 'R03394', 'rxn27493': 'R03401', 'rxn19142': 'R03402', 'rxn33412': 'R03409', 'rxn33454': 'R03418; R06042', 'rxn33456': 'R03418; R06042', 'rxn33468': 'R03418; R06042', 'rxn34773': 'R03418; R06042', 'rxn37930': 'R03418; R06042', 'rxn32830': 'R03427', 'rxn33617': 'R03428', 'rxn35258': 'R03430', 'rxn17662': 'R03433', 'rxn17854': 'R03434', 'rxn33108': 'R03437', 'rxn28002': 'R03443', 'rxn30339': 'R03443', 'rxn27385': 'R03451', 'rxn23952': 'R03452', 'rxn19924': 'R03457', 'rxn30708': 'R03457', 'rxn33143': 'R03458', 'rxn30012': 'R03459', 'rxn32932': 'R03459', 'rxn35473': 'R03459', 'rxn33166': 'R03460', 'rxn37980': 'R03464', 'rxn28046': 'R03471', 'rxn17663': 'R03478', 'rxn11569': 'R03494', 'rxn30396': 'R03503', 'rxn30368': 'R03504', 'rxn33706': 'R03508', 'rxn28082': 'R03509', 'rxn16900': 'R03512', 'rxn15369': 'R02846; R03524', 'rxn19997': 'R02846; R03524', 'rxn31991': 'R03535', 'rxn31995': 'R03535', 'rxn19338': 'R03537', 'rxn19341': 'R03538', 'rxn30544': 'R03540', 'rxn20607': 'R03541', 'rxn19673': 'R03545', 'rxn33516': 'R03546', 'rxn33526': 'R03546', 'rxn17226': 'R03555', 'rxn17096': 'R03556', 'rxn19144': 'R03572', 'rxn21497': 'R07440', 'rxn31789': 'R07440', 'rxn30921': 'R03590', 'rxn17725': 'R03595', 'rxn27531': 'R03595', 'rxn23132': 'R03601', 'rxn35479': 'R03601', 'rxn35480': 'R03601', 'rxn31749': 'R03625', 'rxn27972': 'R03626', 'rxn34785': 'R03634; R06152', 'rxn33560': 'R03635; R06101', 'rxn38395': 'R03636', 'rxn33435': 'R03692', 'rxn33443': 'R03692', 'rxn32130': 'R03710', 'rxn32131': 'R03710', 'rxn19858': 'R03718', 'rxn17468': 'R03719', 'rxn25846': 'R03720', 'rxn17405': 'R03721', 'rxn25080': 'R03722', 'rxn30742': 'R03728', 'rxn31079': 'R03738', 'rxn06467': 'R03739', 'rxn33515': 'R03758', 'rxn33517': 'R03758', 'rxn33325': 'R03776', 'rxn33327': 'R03776', 'rxn31439': 'R03777', 'rxn19976': 'R03778', 'rxn19988': 'R03778', 'rxn19239': 'R03800', 'rxn20772': 'R03831', 'rxn17124': 'R03834', 'rxn31837': 'R03856', 'rxn31841': 'R03856', 'rxn38808': 'R03856', 'rxn38811': 'R03856', 'rxn31441': 'R03857', 'rxn32713': 'R03869', 'rxn32717': 'R03869', 'rxn32720': 'R03869', 'rxn06513': 'R03873', 'rxn26518': 'R03877', 'rxn38537': 'R03877', 'rxn38538': 'R03877', 'rxn38539': 'R03877', 'rxn38059': 'R03893', 'rxn18924': 'R03894', 'rxn32196': 'R03896', 'rxn33387': 'R03898', 'rxn20599': 'R03899', 'rxn20600': 'R03899', 'rxn30748': 'R03899', 'rxn30018': 'R03921', 'rxn19340': 'R03929', 'rxn15436': 'R03935', 'rxn31248': 'R03955', 'rxn27543': 'R03968', 'rxn06547': 'R03984', 'rxn32848': 'R03989', 'rxn32850': 'R03989', 'rxn31444': 'R03990', 'rxn19967': 'R03991', 'rxn19979': 'R03991', 'rxn33015': 'R04001', 'rxn17441': 'R04013', 'rxn33694': 'R04016', 'rxn30351': 'R04025', 'rxn31993': 'R04025', 'rxn31997': 'R04025', 'rxn20471': 'R04031', 'rxn19898': 'R04035', 'rxn19893': 'R04037', 'rxn30697': 'R04037', 'rxn23922': 'R04038', 'rxn23923': 'R04038', 'rxn32515': 'R04065', 'rxn32516': 'R04065', 'rxn32671': 'R04066', 'rxn32672': 'R04066', 'rxn19011': 'R04068', 'rxn30787': 'R04093', 'rxn32604': 'R04093', 'rxn32608': 'R04093', 'rxn27956': 'R04095', 'rxn33146': 'R04117', 'rxn33147': 'R04117', 'rxn35541': 'R04137', 'rxn27997': 'R04138', 'rxn27916': 'R04144', 'rxn38087': 'R04148', 'rxn19662': 'R04170', 'rxn34731': 'R04170', 'rxn20630': 'R04173', 'rxn30059': 'R04189', 'rxn33723': 'R04189', 'rxn33730': 'R04189', 'rxn27816': 'R04198', 'rxn27815': 'R04199', 'rxn31839': 'R04203', 'rxn35545': 'R04203', 'rxn27332': 'R04204', 'rxn31091': 'R04204', 'rxn31755': 'R04204', 'rxn37861': 'R04204', 'rxn27693': 'R04208', 'rxn32851': 'R04208', 'rxn33097': 'R04209', 'rxn38026': 'R04209', 'rxn32258': 'R04214', 'rxn32262': 'R04214', 'rxn32291': 'R04214', 'rxn29001': 'R04217', 'rxn32497': 'R04217', 'rxn33174': 'R04217', 'rxn28890': 'R04218', 'rxn25973': 'R04237', 'rxn38512': 'R04237', 'rxn16862': 'R04263', 'rxn17378': 'R04270', 'rxn20661': 'R04292', 'rxn27000': 'R04300', 'rxn29954': 'R04300', 'rxn27001': 'R04301', 'rxn06643': 'R04303', 'rxn26743': 'R04304', 'rxn38667': 'R04304', 'rxn38668': 'R04304', 'rxn38669': 'R04304', 'rxn32590': 'R04305', 'rxn27872': 'R04325', 'rxn32750': 'R04325', 'rxn33724': 'R04326', 'rxn35343': 'R04326', 'rxn17080': 'R04342', 'rxn33793': 'R04342', 'rxn16866': 'R04344', 'rxn17440': 'R04347', 'rxn35254': 'R04372', 'rxn16898': 'R04400', 'rxn35284': 'R04405', 'rxn33487': 'R04424', 'rxn33489': 'R04424', 'rxn33491': 'R04424', 'rxn33492': 'R04424', 'rxn33768': 'R04425', 'rxn33769': 'R04425', 'rxn33789': 'R04425', 'rxn27542': 'R04426', 'rxn37956': 'R04426', 'rxn28840': 'R04427', 'rxn32025': 'R04427', 'rxn31757': 'R04440', 'rxn31760': 'R04440', 'rxn31783': 'R04440', 'rxn30419': 'R04443', 'rxn32541': 'R04443', 'rxn31983': 'R04448', 'rxn32021': 'R04457', 'rxn24420': 'R04460', 'rxn28364': 'R04460', 'rxn32509': 'R04460', 'rxn27855': 'R04463', 'rxn30667': 'R04463', 'rxn32174': 'R04463', 'rxn37882': 'R04501', 'rxn33557': 'R04506', 'rxn28109': 'R04509', 'rxn37920': 'R04531', 'rxn37921': 'R04531', 'rxn20046': 'R04549', 'rxn19830': 'R04558', 'rxn27691': 'R04559', 'rxn35572': 'R04559', 'rxn35698': 'R04559', 'rxn27692': 'R04560', 'rxn31098': 'R04587', 'rxn28980': 'R04591', 'rxn35571': 'R04591', 'rxn37546': 'R04591', 'rxn13914': 'R04617', 'rxn30654': 'R04621', 'rxn20608': 'R04640', 'rxn27286': 'R04657', 'rxn31792': 'R04673', 'rxn35526': 'R04673', 'rxn33712': 'R04686', 'rxn33811': 'R04686', 'rxn16895': 'R04690', 'rxn16896': 'R04694', 'rxn16897': 'R04696', 'rxn17086': 'R04699', 'rxn24667': 'R04700', 'rxn17087': 'R04702', 'rxn17088': 'R04708', 'rxn17404': 'R04711', 'rxn20474': 'R04737', 'rxn34739': 'R04737', 'rxn19664': 'R04738', 'rxn34733': 'R04738', 'rxn30370': 'R04740', 'rxn34732': 'R04740', 'rxn20478': 'R04741', 'rxn34737': 'R04741', 'rxn19970': 'R04742', 'rxn19982': 'R04742', 'rxn20480': 'R04743', 'rxn34736': 'R04743', 'rxn19668': 'R04744', 'rxn34730': 'R04744', 'rxn20479': 'R04745', 'rxn34735': 'R04745', 'rxn19663': 'R04746', 'rxn34729': 'R04746', 'rxn19977': 'R04747', 'rxn19989': 'R04747', 'rxn20481': 'R04748', 'rxn34734': 'R04748', 'rxn19666': 'R04749', 'rxn34728': 'R04749', 'rxn31450': 'R04751', 'rxn32086': 'R04753', 'rxn32093': 'R04753', 'rxn31451': 'R04754', 'rxn32624': 'R04763', 'rxn32625': 'R04763', 'rxn30719': 'R04783; R06144', 'rxn38162': 'R04783; R06144', 'rxn38680': 'R04804', 'rxn38681': 'R04804', 'rxn30393': 'R04862', 'rxn19004': 'R04870', 'rxn36750': 'R04876', 'rxn38315': 'R04880', 'rxn38316': 'R04880', 'rxn38317': 'R04880', 'rxn38318': 'R04880', 'rxn21215': 'R04882', 'rxn21214': 'R04893', 'rxn21216': 'R04894', 'rxn21116': 'R04903', 'rxn33432': 'R04903', 'rxn23129': 'R04929', 'rxn35415': 'R04972', 'rxn15503': 'R04975', 'rxn30326': 'R04982', 'rxn30327': 'R04983', 'rxn33286': 'R04999', 'rxn33288': 'R04999', 'rxn30313': 'R05030', 'rxn38437': 'R05038', 'rxn32844': 'R05049', 'rxn23871': 'R05050', 'rxn33696': 'R05050', 'rxn31980': 'R05068', 'rxn31981': 'R05068', 'rxn31982': 'R05068', 'rxn35531': 'R05068', 'rxn32760': 'R05069', 'rxn32797': 'R05069', 'rxn32798': 'R05069', 'rxn35529': 'R05069', 'rxn19545': 'R05070', 'rxn27818': 'R05070', 'rxn30145': 'R05070', 'rxn30658': 'R05070', 'rxn35528': 'R05070', 'rxn06852': 'R05088', 'rxn18956': 'R05092', 'rxn33160': 'R05119', 'rxn33206': 'R05119', 'rxn32931': 'R05120', 'rxn32933': 'R05120', 'rxn32609': 'R05123', 'rxn06859': 'R05129', 'rxn19339': 'R05135', 'rxn06861': 'R05136', 'rxn33700': 'R05136', 'rxn33701': 'R05136', 'rxn32001': 'R05137', 'rxn32002': 'R05137', 'rxn23464': 'R05170', 'rxn23465': 'R05172', 'rxn30408': 'R05202', 'rxn25082': 'R05215', 'rxn19321': 'R05223', 'rxn19322': 'R05223', 'rxn10476': 'R05227', 'rxn06895': 'R05302', 'rxn30020': 'R05332', 'rxn25216': 'R05336', 'rxn31470': 'R05337', 'rxn26505': 'R05341', 'rxn32150': 'R05358', 'rxn20040': 'R05369', 'rxn20041': 'R05370', 'rxn30759': 'R05379', 'rxn31933': 'R05379', 'rxn33004': 'R05383', 'rxn33005': 'R05383', 'rxn20036': 'R05386', 'rxn20037': 'R05387', 'rxn32212': 'R05400', 'rxn32220': 'R05400', 'rxn31961': 'R05401', 'rxn31962': 'R05401', 'rxn17743': 'R05408', 'rxn06912': 'R05419', 'rxn19198': 'R05421', 'rxn19199': 'R05421', 'rxn33080': 'R05450', 'rxn33154': 'R05450', 'rxn32807': 'R05453', 'rxn32836': 'R05453', 'rxn32837': 'R05453', 'rxn32838': 'R05453', 'rxn06917': 'R05461', 'rxn33607': 'R05487', 'rxn33612': 'R05487', 'rxn23761': 'R05506', 'rxn32718': 'R05506', 'rxn33361': 'R05506', 'rxn33363': 'R05506', 'rxn06929': 'R05518', 'rxn25121': 'R05548', 'rxn34778': 'R05549; R06096', 'rxn30760': 'R05551', 'rxn33770': 'R05551', 'rxn38277': 'R05551', 'rxn38278': 'R05551', 'rxn19071': 'R05553', 'rxn27436': 'R05554', 'rxn32842': 'R05554', 'rxn27538': 'R05595', 'rxn32636': 'R05595', 'rxn28415': 'R05599', 'rxn30972': 'R05599', 'rxn15656': 'R05607; R07133', 'rxn32593': 'R05608', 'rxn32598': 'R05608', 'rxn32599': 'R05608', 'rxn32813': 'R05612', 'rxn32816': 'R05612', 'rxn30423': 'R05613', 'rxn33038': 'R05613', 'rxn33040': 'R05613', 'rxn18965': 'R05615', 'rxn35679': 'R05615', 'rxn38467': 'R05616', 'rxn24415': 'R05618', 'rxn27529': 'R05633', 'rxn27525': 'R05634', 'rxn27845': 'R05636', 'rxn28646': 'R05637', 'rxn26898': 'R05639', 'rxn37890': 'R05639', 'rxn26736': 'R05640', 'rxn26737': 'R05640', 'rxn17223': 'R05641', 'rxn13940': 'R05644', 'rxn13937': 'R05645; R09768', 'rxn13947': 'R05645; R09768', 'rxn13931': 'R05646', 'rxn13941': 'R05646', 'rxn32066': 'R05651', 'rxn32070': 'R05651', 'rxn32073': 'R05651', 'rxn06950': 'R05671', 'rxn25582': 'R05677', 'rxn24382': 'R05685', 'rxn28352': 'R05685', 'rxn38424': 'R05685', 'rxn38425': 'R05685', 'rxn19646': 'R05688', 'rxn16879': 'R05691', 'rxn32399': 'R05692', 'rxn13930': 'R05706', 'rxn13939': 'R05706', 'rxn27491': 'R05717', 'rxn34797': 'R05717', 'rxn17092': 'R05728', 'rxn33496': 'R05728', 'rxn17093': 'R05731', 'rxn37881': 'R05736', 'rxn38401': 'R05738', 'rxn17412': 'R05755', 'rxn33438': 'R05774', 'rxn33442': 'R05774', 'rxn33453': 'R05774', 'rxn22637': 'R05775', 'rxn30780': 'R05775', 'rxn17414': 'R05776', 'rxn27502': 'R05776', 'rxn30409': 'R05800', 'rxn24251': 'R05801', 'rxn37661': 'R05807', 'rxn30072': 'R05810', 'rxn35624': 'R05828', 'rxn06985': 'R05853', 'rxn06986': 'R05854', 'rxn17095': 'R05855', 'rxn24681': 'R05856', 'rxn06987': 'R05859', 'rxn30307': 'R05861', 'rxn06989': 'R05869', 'rxn19956': 'R05884', 'rxn06992': 'R05895', 'rxn06993': 'R05897', 'rxn06994': 'R05898', 'rxn35274': 'R06154', 'rxn38981': 'R06171', 'rxn32418': 'R06223', 'rxn24062': 'R06265', 'rxn38381': 'R06265', 'rxn24063': 'R06266', 'rxn24064': 'R06267', 'rxn28310': 'R06272', 'rxn28811': 'R06284', 'rxn38543': 'R06284', 'rxn28309': 'R06286', 'rxn17097': 'R06291', 'rxn24060': 'R06292', 'rxn24318': 'R06293', 'rxn30904': 'R06293', 'rxn31000': 'R06297', 'rxn25200': 'R06319', 'rxn26509': 'R06322', 'rxn26510': 'R06323', 'rxn07101': 'R06367', 'rxn07102': 'R06368', 'rxn25548': 'R06396', 'rxn15613': 'R06406', 'rxn31309': 'R06447', 'rxn32376': 'R06447', 'rxn23243': 'R06454', 'rxn30432': 'R06520', 'rxn26738': 'R06525', 'rxn24142': 'R06529', 'rxn10609': 'R06531', 'rxn27859': 'R06537', 'rxn27752': 'R06556', 'rxn19944': 'R06560', 'rxn19945': 'R06560', 'rxn38372': 'R06562', 'rxn21808': 'R06572', 'rxn32872': 'R06572', 'rxn21829': 'R06573', 'rxn33211': 'R06573', 'rxn32745': 'R06576', 'rxn33703': 'R06578', 'rxn33659': 'R06583', 'rxn38499': 'R06590', 'rxn18179': 'R06601', 'rxn31747': 'R06601', 'rxn35444': 'R06601', 'rxn30865': 'R06604', 'rxn35436': 'R06604', 'rxn28295': 'R06606', 'rxn33483': 'R06606', 'rxn28333': 'R06607', 'rxn07139': 'R06650', 'rxn07143': 'R06699', 'rxn24719': 'R06738', 'rxn07148': 'R06741', 'rxn07149': 'R06744', 'rxn07160': 'R06759', 'rxn07168': 'R06776', 'rxn38509': 'R06838', 'rxn38380': 'R06843', 'rxn30329': 'R06866', 'rxn32490': 'R06868', 'rxn31984': 'R06869', 'rxn30859': 'R06871', 'rxn17099': 'R06892', 'rxn23405': 'R06893', 'rxn32315': 'R06895', 'rxn32318': 'R06895', 'rxn32205': 'R06903', 'rxn33440': 'R06904', 'rxn33666': 'R06905', 'rxn32843': 'R06906', 'rxn33086': 'R06907', 'rxn32361': 'R06908', 'rxn32631': 'R06926', 'rxn31891': 'R06927', 'rxn33686': 'R06928', 'rxn31516': 'R06938', 'rxn37809': 'R06941', 'rxn37816': 'R06942', 'rxn24543': 'R06946', 'rxn38445': 'R06946', 'rxn24547': 'R06947', 'rxn38448': 'R06947', 'rxn34648': 'R06948', 'rxn24215': 'R06952', 'rxn39041': 'R06953', 'rxn24578': 'R06960', 'rxn28803': 'R06962', 'rxn26503': 'R06963', 'rxn32430': 'R06974', 'rxn28268': 'R06982', 'rxn32015': 'R06982', 'rxn33296': 'R06983', 'rxn38970': 'R06983', 'rxn32209': 'R06985', 'rxn32210': 'R06985', 'rxn27959': 'R06987', 'rxn35425': 'R06987', 'rxn32508': 'R07010', 'rxn32737': 'R07014', 'rxn32875': 'R07015', 'rxn32876': 'R07015', 'rxn28400': 'R07057', 'rxn33664': 'R07104', 'rxn32682': 'R07105', 'rxn31978': 'R07107', 'rxn32396': 'R07112', 'rxn32397': 'R07112', 'rxn32401': 'R07112', 'rxn32415': 'R07112', 'rxn32141': 'R07113', 'rxn32144': 'R07113', 'rxn32147': 'R07113', 'rxn32152': 'R07113', 'rxn31875': 'R07116', 'rxn31877': 'R07116', 'rxn31881': 'R07116', 'rxn31883': 'R07116', 'rxn31822': 'R07117', 'rxn31823': 'R07117', 'rxn31824': 'R07117', 'rxn31825': 'R07117', 'rxn33584': 'R07120', 'rxn33586': 'R07120', 'rxn33587': 'R07120', 'rxn33590': 'R07120', 'rxn32127': 'R07135', 'rxn32200': 'R07135', 'rxn32312': 'R07140', 'rxn38969': 'R07140', 'rxn17243': 'R07168', 'rxn35346': 'R07168', 'rxn23851': 'R07173', 'rxn24548': 'R07178', 'rxn30937': 'R07178', 'rxn24549': 'R07179', 'rxn30938': 'R07179', 'rxn24421': 'R07190', 'rxn28365': 'R07190', 'rxn32743': 'R07190', 'rxn23955': 'R07195', 'rxn23956': 'R07196', 'rxn37583': 'R07198', 'rxn24542': 'R07199', 'rxn38444': 'R07199', 'rxn24546': 'R07200', 'rxn38447': 'R07200', 'rxn27468': 'R07202', 'rxn37887': 'R07202', 'rxn19682': 'R07214', 'rxn38096': 'R07214', 'rxn35629': 'R07215', 'rxn26480': 'R07219', 'rxn23830': 'R07224', 'rxn23831': 'R07225', 'rxn27334': 'R07236', 'rxn38834': 'R07237', 'rxn38465': 'R07238', 'rxn37778': 'R07260', 'rxn38379': 'R07260', 'rxn25493': 'R07262', 'rxn25494': 'R07262', 'rxn32673': 'R07263', 'rxn37610': 'R07267', 'rxn37611': 'R07267', 'rxn37612': 'R07267', 'rxn33674': 'R07269', 'rxn28382': 'R07270', 'rxn23954': 'R07271', 'rxn23953': 'R07272', 'rxn17640': 'R07273', 'rxn37934': 'R07273', 'rxn28083': 'R07276', 'rxn28084': 'R07276', 'rxn32776': 'R07279', 'rxn30766': 'R07280', 'rxn31834': 'R07280', 'rxn32814': 'R07281', 'rxn32911': 'R07315', 'rxn32912': 'R07315', 'rxn32914': 'R07315', 'rxn20219': 'R07324', 'rxn38173': 'R07324', 'rxn32462': 'R07364', 'rxn11033': 'R07394', 'rxn32987': 'R07394', 'rxn32249': 'R07396', 'rxn31994': 'R07399', 'rxn39038': 'R07403', 'rxn30873': 'R07408', 'rxn08707': 'R07411', 'rxn13932': 'R07411', 'rxn13942': 'R07411', 'rxn19887': 'R07411', 'rxn38143': 'R07411', 'rxn31990': 'R07432', 'rxn31996': 'R07432', 'rxn38370': 'R07432', 'rxn32511': 'R07433', 'rxn32512': 'R07433', 'rxn32513': 'R07433', 'rxn30428': 'R02017', 'rxn30429': 'R02019', 'rxn33736': 'R02021', 'rxn28048': 'R07475', 'rxn28050': 'R07475', 'rxn30441': 'R02016', 'rxn32758': 'R02016', 'rxn31253': 'R04429', 'rxn31275': 'R04966', 'rxn25749': 'R04724', 'rxn25746': 'R04958', 'rxn25745': 'R04955', 'rxn31272': 'R04961', 'rxn31277': 'R04969', 'rxn31321': 'R04428', 'rxn31322': 'R04954', 'rxn31325': 'R04965', 'rxn31327': 'R04544', 'rxn31324': 'R04535', 'rxn31323': 'R04537', 'rxn31326': 'R04568', 'rxn31257': 'R04543', 'rxn31269': 'R04953', 'rxn38483': 'R04953', 'rxn38484': 'R04953', 'rxn31255': 'R04534', 'rxn31254': 'R04533', 'rxn31274': 'R04964', 'rxn38488': 'R04964', 'rxn38489': 'R04964', 'rxn31256': 'R04536', 'rxn31258': 'R04566', 'rxn38491': 'R04566', 'rxn38492': 'R04566', 'rxn25642': 'R04960', 'rxn31271': 'R04960', 'rxn38486': 'R04960', 'rxn30095': 'R04968', 'rxn31276': 'R04968', 'rxn25645': 'R04726', 'rxn31259': 'R04726', 'rxn38490': 'R04726', 'rxn25639': 'R04952', 'rxn31268': 'R04952', 'rxn38482': 'R04952', 'rxn30094': 'R04355', 'rxn31252': 'R04355', 'rxn37965': 'R04355', 'rxn25644': 'R04963', 'rxn31273': 'R04963', 'rxn38487': 'R04963', 'rxn30336': 'R01624', 'rxn31225': 'R01624', 'rxn25640': 'R04957', 'rxn31270': 'R04957', 'rxn38485': 'R04957', 'rxn30116': 'R04967', 'rxn30113': 'R04959', 'rxn34718': 'R04959', 'rxn34716': 'R04430', 'rxn30117': 'R04970', 'rxn31887': 'R04970', 'rxn30115': 'R04725', 'rxn34710': 'R04725', 'rxn30114': 'R04962', 'rxn34709': 'R04962', 'rxn30112': 'R04956', 'rxn34717': 'R04956', 'rxn27985': 'R01626', 'rxn30156': 'R01626', 'rxn33233': 'R04859', 'rxn33240': 'R04859', 'rxn33241': 'R04859', 'rxn34234': 'R00019', 'rxn35454': 'R00019', 'rxn31386': 'R00082', 'rxn33695': 'R00100', 'rxn33697': 'R00100', 'rxn31393': 'R00281', 'rxn38266': 'R00435; R07284', 'rxn31219': 'R00790', 'rxn32447': 'R00790', 'rxn35317': 'R00790', 'rxn15604': 'R00811; R06212', 'rxn31867': 'R01005', 'rxn33632': 'R01006', 'rxn31413': 'R01178', 'rxn33354': 'R01288', 'rxn32753': 'R01320', 'rxn37891': 'R01403', 'rxn37889': 'R01404', 'rxn31328': 'R01706', 'rxn22861': 'R01821; R02888; R03116', 'rxn30431': 'R02018', 'rxn30430': 'R02024', 'rxn31910': 'R02026', 'rxn31426': 'R02111', 'rxn15300': 'R02112', 'rxn33883': 'R02161', 'rxn33890': 'R02161', 'rxn33889': 'R02163', 'rxn30643': 'R02164', 'rxn12296': 'R02165', 'rxn33888': 'R02184', 'rxn33212': 'R02223', 'rxn33501': 'R02224', 'rxn17999': 'R02360', 'rxn31431': 'R02418', 'rxn19862': 'R02421', 'rxn35397': 'R02480', 'rxn35398': 'R02480', 'rxn31239': 'R02671', 'rxn15536': 'R02687; R05209', 'rxn27544': 'R02767', 'rxn37959': 'R02767', 'rxn37962': 'R02767', 'rxn37913': 'R02768', 'rxn37973': 'R02887', 'rxn30167': 'R02918', 'rxn29934': 'R03020', 'rxn34556': 'R03038', 'rxn15392': 'R03172; R03173', 'rxn13010': 'R03363', 'rxn33063': 'R03424', 'rxn30384': 'R03425', 'rxn32723': 'R03469', 'rxn32724': 'R03469', 'rxn34306': 'R03599', 'rxn34588': 'R03611', 'rxn30352': 'R03646', 'rxn30354': 'R03648', 'rxn31244': 'R03651', 'rxn35213': 'R03654', 'rxn30394': 'R03655', 'rxn30401': 'R03656', 'rxn30168': 'R03657', 'rxn30164': 'R03658', 'rxn30165': 'R03659', 'rxn30163': 'R03660', 'rxn30166': 'R03663', 'rxn30443': 'R03664', 'rxn30448': 'R03665', 'rxn35534': 'R03665', 'rxn33751': 'R03725', 'rxn02656': 'R03739', 'rxn30386': 'R03815', 'rxn19974': 'R03858', 'rxn19986': 'R03858', 'rxn02732': 'R03873', 'rxn34798': 'R03915', 'rxn25375': 'R03928', 'rxn38471': 'R03928', 'rxn27929': 'R03938', 'rxn30128': 'R03940', 'rxn02800': 'R03984', 'rxn37915': 'R03992', 'rxn34720': 'R04014', 'rxn37968': 'R04014', 'rxn31446': 'R04096', 'rxn32128': 'R04109', 'rxn15449': 'R04111; R06236', 'rxn35410': 'R04123', 'rxn30312': 'R04125', 'rxn30385': 'R04125', 'rxn38175': 'R04176', 'rxn20517': 'R04273', 'rxn28055': 'R04273', 'rxn28056': 'R04273', 'rxn28057': 'R04273', 'rxn38248': 'R04273', 'rxn38249': 'R04273', 'rxn02995': 'R04303', 'rxn17597': 'R04343', 'rxn34708': 'R04385', 'rxn34705': 'R04386', 'rxn32153': 'R04404', 'rxn33099': 'R04496', 'rxn33105': 'R04545', 'rxn33106': 'R04545', 'rxn19009': 'R04604', 'rxn30390': 'R04739', 'rxn34738': 'R04739', 'rxn35283': 'R04858', 'rxn31454': 'R04867', 'rxn31264': 'R04944', 'rxn32733': 'R04948', 'rxn32734': 'R04948', 'rxn32423': 'R04949', 'rxn32425': 'R04949', 'rxn03448': 'R05088', 'rxn03478': 'R05129', 'rxn03484': 'R05136', 'rxn20026': 'R05146', 'rxn14377': 'R05197', 'rxn03614': 'R05302', 'rxn35666': 'R05325', 'rxn03719': 'R05419', 'rxn03759': 'R05461', 'rxn31473': 'R05488', 'rxn03807': 'R05518', 'rxn30161': 'R05577', 'rxn30387': 'R05578', 'rxn32256': 'R05578', 'rxn27562': 'R05635', 'rxn27563': 'R05635', 'rxn03941': 'R05671', 'rxn15549': 'R00374; R05704', 'rxn17060': 'R05721', 'rxn31787': 'R05739', 'rxn33644': 'R05743', 'rxn04084': 'R05853', 'rxn04085': 'R05854', 'rxn04090': 'R05859', 'rxn04100': 'R05869', 'rxn31333': 'R05875', 'rxn04124': 'R05895', 'rxn04126': 'R05897', 'rxn04127': 'R05898', 'rxn04235': 'R06367', 'rxn04236': 'R06368', 'rxn15609': 'R06401', 'rxn33553': 'R06582', 'rxn33554': 'R06582', 'rxn04485': 'R06650', 'rxn04531': 'R06699', 'rxn04572': 'R06741', 'rxn04575': 'R06744', 'rxn04580': 'R06759', 'rxn04591': 'R06776', 'rxn31311': 'R06867', 'rxn33372': 'R07157', 'rxn33376': 'R07157', 'rxn33380': 'R07157', 'rxn31517': 'R07358', 'rxn31520': 'R07381', 'rxn33592': 'R07383', 'rxn33598': 'R07383', 'rxn32862': 'R07384', 'rxn33139': 'R07385', 'rxn33140': 'R07385', 'rxn32749': 'R07409', 'rxn33008': 'R07446', 'rxn33010': 'R07446', 'rxn33350': 'R07447', 'rxn33351': 'R07447', 'rxn33357': 'R07447', 'rxn32218': 'R07448', 'rxn32219': 'R07448', 'rxn33074': 'R07449', 'rxn33075': 'R07449', 'rxn33077': 'R07449', 'rxn30826': 'R07458', 'rxn32103': 'R07469', 'rxn32823': 'R07473', 'rxn33049': 'R07473', 'rxn33054': 'R07473', 'rxn24433': 'R07474', 'rxn23886': 'R07481', 'rxn28277': 'R07481', 'rxn38374': 'R07484', 'rxn38375': 'R07484', 'rxn33738': 'R07491', 'rxn33208': 'R07493', 'rxn37520': 'R07494', 'rxn32938': 'R07497', 'rxn23796': 'R07500', 'rxn23797': 'R07501', 'rxn23798': 'R07502', 'rxn23799': 'R07503', 'rxn23800': 'R07504', 'rxn28390': 'R07512', 'rxn31337': 'R07530', 'rxn31338': 'R07531', 'rxn31339': 'R07558', 'rxn31340': 'R07559', 'rxn31341': 'R07561', 'rxn31342': 'R07568', 'rxn31343': 'R07569', 'rxn31344': 'R07572', 'rxn37127': 'R07574', 'rxn21241': 'R07583', 'rxn35549': 'R07599', 'rxn35551': 'R07600', 'rxn35554': 'R07601', 'rxn35553': 'R07603', 'rxn24414': 'R07613', 'rxn13950': 'R07626', 'rxn33114': 'R07666', 'rxn33116': 'R07666', 'rxn31053': 'R07674', 'rxn33628': 'R07674', 'rxn32841': 'R07678', 'rxn31345': 'R07697', 'rxn24350': 'R07715', 'rxn24351': 'R07716', 'rxn33613': 'R07725', 'rxn33615': 'R07725', 'rxn23951': 'R07728', 'rxn23870': 'R07738', 'rxn25652': 'R07761', 'rxn30096': 'R07762', 'rxn30175': 'R07763', 'rxn30140': 'R07764', 'rxn25720': 'R07765', 'rxn31347': 'R07768', 'rxn30256': 'R07772', 'rxn23873': 'R07776', 'rxn23874': 'R07776', 'rxn23848': 'R07777', 'rxn11689': 'R07835', 'rxn33225': 'R07835', 'rxn33311': 'R07835', 'rxn28388': 'R07840', 'rxn31354': 'R07855', 'rxn26517': 'R07863', 'rxn31004': 'R07863', 'rxn28401': 'R07864', 'rxn23469': 'R07869', 'rxn23667': 'R07870', 'rxn32233': 'R07881', 'rxn21057': 'R07887', 'rxn31355': 'R07916', 'rxn31538': 'R07980', 'rxn28345': 'R07990', 'rxn23832': 'R08005', 'rxn28285': 'R08051', 'rxn28286': 'R08051', 'rxn23921': 'R08052', 'rxn28287': 'R08052', 'rxn26310': 'R08057', 'rxn33472': 'R08061', 'rxn32891': 'R08062', 'rxn33133': 'R08063', 'rxn32265': 'R08069', 'rxn31796': 'R08072', 'rxn33224': 'R08073', 'rxn37777': 'R08076', 'rxn30842': 'R08079', 'rxn19030': 'R08648', 'rxn27667': 'R08648', 'rxn30333': 'R08648', 'rxn17745': 'R08549', 'rxn01084': 'R01492', 'rxn23233': 'R10079', 'rxn26481': 'R08210', 'rxn34719': 'R08158', 'rxn34727': 'R08157', 'rxn17811': 'R08174', 'rxn25709': 'R08174', 'rxn27876': 'R08572', 'rxn05120': 'R07411', 'rxn19957': 'R08209', 'rxn27984': 'R09482', 'rxn30985': 'R09645', 'rxn28413': 'R09248', 'rxn28414': 'R09248', 'rxn37386': 'R09248', 'rxn32048': 'R10507', 'rxn35492': 'R08219', 'rxn15564': 'R06051', 'rxn39086': 'R03542', 'rxn21132': 'R10747', 'rxn30361': 'R10747', 'rxn39070': 'R06204', 'rxn15693': 'R07584', 'rxn21245': 'R07584', 'rxn03542': 'R05227', 'rxn16216': 'R09377', 'rxn15963': 'R09098', 'rxn04386': 'R06531', 'rxn15988': 'R09124', 'rxn28318': 'R08557', 'rxn38396': 'R08557', 'rxn38397': 'R08557', 'rxn38398': 'R08557', 'rxn05106': 'R07394', 'rxn27625': 'R10221', 'rxn33499': 'R10221', 'rxn33549': 'R10221', 'rxn38007': 'R10221', 'rxn38010': 'R10221', 'rxn00816': 'R01100; R06114', 'rxn00412': 'R00573', 'rxn00062': 'R00086; R10531', 'rxn00137': 'R00188', 'rxn27282': 'R10142', 'rxn31920': 'R03871', 'rxn31922': 'R03871', 'rxn31928': 'R03871', 'rxn31931': 'R03871', 'rxn31396': 'R00598', 'rxn37874': 'R02715', 'rxn02497': 'R03494', 'rxn32752': 'R03596', 'rxn26506': 'R03824', 'rxn31607': 'R04283', 'rxn24576': 'R04801', 'rxn33775': 'R04904', 'rxn33777': 'R04904', 'rxn21362': 'R04931', 'rxn33388': 'R04940', 'rxn33766': 'R04985', 'rxn33277': 'R05352', 'rxn33280': 'R05352', 'rxn33291': 'R05352', 'rxn33292': 'R05352', 'rxn38402': 'R05734', 'rxn33055': 'R07228', 'rxn33057': 'R07228', 'rxn31531': 'R07791', 'rxn07626': 'R07835', 'rxn32534': 'R08064', 'rxn30836': 'R08070', 'rxn32068': 'R08070', 'rxn34724': 'R08163', 'rxn17648': 'R08165', 'rxn25492': 'R08166', 'rxn17806': 'R08175', 'rxn25713': 'R08175', 'rxn33702': 'R08176', 'rxn32988': 'R08177', 'rxn37686': 'R08177', 'rxn33728': 'R08183', 'rxn24367': 'R08203', 'rxn24368': 'R08204', 'rxn24879': 'R08207', 'rxn34692': 'R08228', 'rxn12027': 'R08252', 'rxn34682': 'R08300', 'rxn34679': 'R08348', 'rxn21152': 'R08379', 'rxn21153': 'R08379', 'rxn33016': 'R08379', 'rxn32357': 'R05614', 'rxn31227': 'R01940', 'rxn31236': 'R02571', 'rxn32294': 'R03600', 'rxn35488': 'R03600', 'rxn31689': 'R04951', 'rxn31768': 'R05611', 'rxn31769': 'R05611', 'rxn37609': 'R05611', 'rxn33023': 'R08170', 'rxn33036': 'R08170', 'rxn11780': 'R08252', 'rxn34685': 'R08295', 'rxn31545': 'R08512', 'rxn32221': 'R08539', 'rxn06110': 'R02165', 'rxn24314': 'R08764', 'rxn31206': 'R00021', 'rxn06367': 'R03363', 'rxn01507': 'R02088', 'rxn30325': 'R02175', 'rxn37804': 'R01867', 'rxn17669': 'R09087', 'rxn17248': 'R09076', 'rxn30435': 'R08766', 'rxn29022': 'R09245', 'rxn29023': 'R09245', 'rxn00851': 'R01150', 'rxn14028': 'R00787', 'rxn14232': 'R08939', 'rxn03164': 'R04617', 'rxn03975': 'R05706', 'rxn03918': 'R05646', 'rxn00546': 'R00758', 'rxn03917': 'R05645; R09768', 'rxn03916': 'R05644', 'rxn07443': 'R07626', 'rxn25081': 'R08795', 'rxn32735': 'R08760', 'rxn32623': 'R08753', 'rxn32305': 'R08611', 'rxn35453': 'R01196', 'rxn27015': 'R08629', 'rxn27018': 'R08646', 'rxn23781': 'R08665', 'rxn27031': 'R08670', 'rxn32170': 'R08605', 'rxn32173': 'R08605', 'rxn23701': 'R08160', 'rxn14046': 'R00124; R02121; R02996; R03852; R04168; R04193; R04422; R06183; R07480; R08679', 'rxn14111': 'R00124; R02121; R02996; R03852; R04168; R04193; R04422; R06183; R07480; R08679', 'rxn14154': 'R00124; R02121; R02996; R03852; R04168; R04193; R04422; R06183; R07480; R08679', 'rxn14266': 'R00124; R02121; R02996; R03852; R04168; R04193; R04422; R06183; R07480; R08679', 'rxn14312': 'R00124; R02121; R02996; R03852; R04168; R04193; R04422; R06183; R07480; R08679', 'rxn14325': 'R00124; R02121; R02996; R03852; R04168; R04193; R04422; R06183; R07480; R08679', 'rxn14393': 'R00124; R02121; R02996; R03852; R04168; R04193; R04422; R06183; R07480; R08679', 'rxn23779': 'R08619', 'rxn25497': 'R08790', 'rxn23398': 'R08617', 'rxn32808': 'R08752', 'rxn26931': 'R07495', 'rxn32026': 'R08815', 'rxn13808': 'R00787', 'rxn33220': 'R08769', 'rxn31346': 'R07767', 'rxn00775': 'R01054', 'rxn33047': 'R08751', 'rxn33763': 'R08771', 'rxn14003': 'R00124; R02121; R02996; R03852; R04168; R04193; R04422; R06183; R07480; R08679', 'rxn32796': 'R00859', 'rxn33834': 'R08748', 'rxn32619': 'R08689', 'rxn01376': 'R01886', 'rxn30789': 'R08604', 'rxn31860': 'R08604', 'rxn31864': 'R08604', 'rxn23804': 'R08782', 'rxn15611': 'R06404', 'rxn17650': 'R08952', 'rxn24355': 'R08755', 'rxn28911': 'R08644', 'rxn33541': 'R08772', 'rxn27016': 'R08636', 'rxn24354': 'R08754', 'rxn26073': 'R08991', 'rxn27035': 'R08675', 'rxn17075': 'R08663', 'rxn24416': 'R08921', 'rxn27014': 'R08625', 'rxn27013': 'R08623', 'rxn35616': 'R08922', 'rxn28909': 'R08631', 'rxn18999': 'R08738', 'rxn25892': 'R08745', 'rxn31406': 'R00849', 'rxn13860': 'R08939', 'rxn22962': 'R08370', 'rxn27034': 'R08674', 'rxn27017': 'R08642', 'rxn24356': 'R08756', 'rxn17649': 'R08951', 'rxn27032': 'R08672', 'rxn28404': 'R08696', 'rxn19000': 'R08733', 'rxn31423': 'R01868', 'rxn27033': 'R08673', 'rxn00075': 'R00102', 'rxn28908': 'R08627', 'rxn00489': 'R00690; R00698', 'rxn23447': 'R08601', 'rxn32543': 'R08610', 'rxn32573': 'R08610', 'rxn33576': 'R08749', 'rxn33320': 'R08750', 'rxn35377': 'R08584', 'rxn25970': 'R08966', 'rxn28910': 'R08640', 'rxn32944': 'R08168', 'rxn32946': 'R08168', 'rxn00773': 'R01052', 'rxn23446': 'R08600', 'rxn06882': 'R05197', 'rxn32466': 'R08768', 'rxn23731': 'R00015', 'rxn38360': 'R00015', 'rxn21112': 'R00026', 'rxn28164': 'R00026', 'rxn30805': 'R00028', 'rxn31207': 'R00028', 'rxn32594': 'R00028; R06084', 'rxn32595': 'R00028; R06084', 'rxn27664': 'R00226', 'rxn30334': 'R00226', 'rxn19942': 'R00267', 'rxn19943': 'R00267', 'rxn31392': 'R00267', 'rxn19814': 'R00303', 'rxn33614': 'R00307', 'rxn33616': 'R00307', 'rxn33630': 'R00307', 'rxn33237': 'R00471', 'rxn33258': 'R00471', 'rxn33259': 'R00471', 'rxn19941': 'R00479', 'rxn27953': 'R00479', 'rxn38159': 'R00479', 'rxn27955': 'R00709', 'rxn34560': 'R00765', 'rxn33485': 'R00801; R06087', 'rxn33488': 'R00801; R06087', 'rxn28252': 'R00802; R06088', 'rxn28253': 'R00802; R06088', 'rxn28254': 'R00802; R06088', 'rxn28255': 'R00802; R06088', 'rxn28256': 'R00802; R06088', 'rxn19126': 'R00834', 'rxn19127': 'R00834', 'rxn35355': 'R00835', 'rxn32657': 'R00867', 'rxn32658': 'R00867', 'rxn32384': 'R00878', 'rxn32387': 'R00878', 'rxn32112': 'R00896', 'rxn32116': 'R00896', 'rxn32118': 'R00896', 'rxn35548': 'R00935', 'rxn00703': 'R00957; R06061', 'rxn35356': 'R01049', 'rxn34267': 'R01056', 'rxn34262': 'R01057', 'rxn19683': 'R01070', 'rxn27851': 'R01070', 'rxn38097': 'R01070', 'rxn32406': 'R01092', 'rxn32409': 'R01092', 'rxn22376': 'R01095', 'rxn32940': 'R01103; R06070', 'rxn38342': 'R01103; R06070', 'rxn31772': 'R01194; R06093', 'rxn37585': 'R01245', 'rxn37586': 'R01245', 'rxn19347': 'R01286', 'rxn30001': 'R01286', 'rxn30363': 'R01286', 'rxn30634': 'R01286', 'rxn35282': 'R01286', 'rxn30635': 'R01290', 'rxn00956': 'R01110; R01292', 'rxn31222': 'R01324', 'rxn38835': 'R01432', 'rxn15560': 'R01555; R06040', 'rxn01133': 'R01556; R06251', 'rxn01134': 'R01557; R06218', 'rxn34273': 'R01641', 'rxn31422': 'R01678; R06098', 'rxn37796': 'R01759', 'rxn37599': 'R01770', 'rxn37600': 'R01770', 'rxn23720': 'R01786', 'rxn33267': 'R01786', 'rxn38359': 'R01786', 'rxn31313': 'R01788', 'rxn17977': 'R01790; R01791; R03115', 'rxn32674': 'R01819', 'rxn32684': 'R01819', 'rxn27536': 'R01830', 'rxn01377': 'R01887', 'rxn25947': 'R01899', 'rxn25948': 'R01899', 'rxn19040': 'R01900', 'rxn30620': 'R01900', 'rxn31226': 'R01900', 'rxn33708': 'R01980', 'rxn33833': 'R01980', 'rxn33836': 'R01980', 'rxn33837': 'R01980', 'rxn32867': 'R01981', 'rxn32893': 'R01981', 'rxn32896': 'R01981', 'rxn27522': 'R02050', 'rxn31427': 'R02112', 'rxn06097': 'R02112', 'rxn01725': 'R02395', 'rxn01726': 'R02396', 'rxn01727': 'R02397', 'rxn01728': 'R02398', 'rxn19140': 'R02425', 'rxn19141': 'R02425', 'rxn32665': 'R02577', 'rxn30632': 'R02595', 'rxn33006': 'R02595', 'rxn30582': 'R02731', 'rxn29923': 'R02737; R06226', 'rxn35505': 'R02737; R06226', 'rxn24133': 'R02740', 'rxn38399': 'R02740', 'rxn02516': 'R02846; R03524', 'rxn02047': 'R02854', 'rxn32668': 'R03075', 'rxn06334': 'R03172; R03173', 'rxn02325': 'R03248', 'rxn28045': 'R03260', 'rxn17487': 'R03323', 'rxn35543': 'R03352', 'rxn33302': 'R03634; R06152', 'rxn38341': 'R03634; R06152', 'rxn19731': 'R03920', 'rxn38344': 'R03920', 'rxn02766': 'R03935', 'rxn33707': 'R04019', 'rxn06592': 'R04111; R06236', 'rxn20033': 'R04194', 'rxn31316': 'R04254', 'rxn31317': 'R04254', 'rxn31318': 'R04254', 'rxn30402': 'R04439', 'rxn35351': 'R04439', 'rxn30367': 'R04441', 'rxn35527': 'R04441', 'rxn32060': 'R04672', 'rxn34626': 'R04672', 'rxn19015': 'R04779', 'rxn38002': 'R04779', 'rxn38003': 'R04779', 'rxn38004': 'R04779', 'rxn19684': 'R04780', 'rxn19685': 'R04780', 'rxn30665': 'R04780', 'rxn32943': 'R04861', 'rxn32945': 'R04861', 'rxn32947': 'R04861', 'rxn23134': 'R04944', 'rxn23135': 'R04944', 'rxn03385': 'R04975', 'rxn28389': 'R04998', 'rxn30940': 'R04998', 'rxn33567': 'R04998', 'rxn33569': 'R04998', 'rxn32238': 'R05052', 'rxn32252': 'R05052', 'rxn32253': 'R05052', 'rxn35544': 'R05066', 'rxn32411': 'R05071', 'rxn32500': 'R05071', 'rxn32254': 'R05196; R06069', 'rxn34307': 'R05196; R06069', 'rxn31280': 'R05196', 'rxn06217': 'R02687; R05209', 'rxn06951': 'R00374; R05704', 'rxn31835': 'R06023', 'rxn31840': 'R06023', 'rxn15222': 'R01555; R06040', 'rxn31314': 'R06049', 'rxn31230': 'R06050', 'rxn09397': 'R06051', 'rxn33185': 'R06077', 'rxn33188': 'R06077', 'rxn32517': 'R06098', 'rxn05899': 'R00811; R06212', 'rxn24021': 'R06298', 'rxn07105': 'R06401', 'rxn14086': 'R06404', 'rxn04269': 'R06406', 'rxn03886': 'R05607; R07133', 'rxn01983': 'R02746; R07291', 'rxn00983': 'R01351; R07293', 'rxn38174': 'R07324', 'rxn32550': 'R07324', 'rxn32292': 'R07510', 'rxn09991': 'R07584', 'rxn31329': 'R07618', 'rxn21914': 'R07786', 'rxn21915': 'R07787', 'rxn32022': 'R07788', 'rxn32023': 'R07788', 'rxn33564': 'R07789', 'rxn20818': 'R08569', 'rxn32049': 'R08570', 'rxn32050': 'R08570', 'rxn01333': 'R01827; R08575', 'rxn00704': 'R00959; R08639', 'rxn00631': 'R00871; R08651', 'rxn31550': 'R08900', 'rxn21936': 'R09009', 'rxn24417': 'R09032', 'rxn31902': 'R09033', 'rxn25233': 'R09040', 'rxn25235': 'R09042', 'rxn28350': 'R09067', 'rxn37284': 'R09069', 'rxn37283': 'R09070', 'rxn22384': 'R09077', 'rxn25239': 'R09091', 'rxn10568': 'R09098', 'rxn28377': 'R09107', 'rxn24971': 'R09111', 'rxn24023': 'R09115', 'rxn24024': 'R09117', 'rxn24022': 'R09119', 'rxn10613': 'R09124', 'rxn38340': 'R09246', 'rxn29018': 'R09247', 'rxn29019': 'R09247', 'rxn29020': 'R09250', 'rxn29021': 'R09250', 'rxn21865': 'R09251', 'rxn21866': 'R09251', 'rxn38670': 'R09254', 'rxn38971': 'R09281', 'rxn22087': 'R09358', 'rxn10506': 'R09377', 'rxn24829': 'R09394', 'rxn20968': 'R09451', 'rxn37696': 'R09451', 'rxn25851': 'R09453', 'rxn25853': 'R09461', 'rxn21003': 'R09464', 'rxn30773': 'R09464', 'rxn25852': 'R09465', 'rxn25824': 'R09498', 'rxn34264': 'R09503', 'rxn21401': 'R09532', 'rxn26999': 'R09536', 'rxn21103': 'R09537', 'rxn23856': 'R09540', 'rxn23857': 'R09540', 'rxn23858': 'R09540', 'rxn22000': 'R09562', 'rxn22367': 'R09583', 'rxn22368': 'R09584', 'rxn22369': 'R09585', 'rxn24943': 'R09603', 'rxn21102': 'R09632', 'rxn21665': 'R09655', 'rxn22782': 'R09702', 'rxn22783': 'R09708', 'rxn21852': 'R09723', 'rxn38807': 'R09738', 'rxn38810': 'R09738', 'rxn28804': 'R09747', 'rxn32819': 'R09752', 'rxn32824': 'R09752', 'rxn32825': 'R09752', 'rxn21639': 'R09767', 'rxn22826': 'R09773', 'rxn22827': 'R09774', 'rxn28769': 'R09839', 'rxn28770': 'R09839', 'rxn38535': 'R09839', 'rxn32661': 'R09846', 'rxn23058': 'R09942', 'rxn16792': 'R09945', 'rxn16790': 'R09945', 'rxn28305': 'R09962', 'rxn02002': 'R02776', 'rxn02259': 'R03155', 'rxn02972': 'R04263', 'rxn01938': 'R02679', 'rxn03017': 'R04344', 'rxn03961': 'R05691', 'rxn01501': 'R02082', 'rxn03206': 'R04690', 'rxn03210': 'R04694', 'rxn03212': 'R04696', 'rxn03051': 'R04400', 'rxn02510': 'R03512', 'rxn06953': 'R05721', 'rxn14165': 'R08663', 'rxn03016': 'R04342', 'rxn03214': 'R04699', 'rxn03217': 'R04702', 'rxn03222': 'R04708', 'rxn00311': 'R00448', 'rxn03993': 'R05728', 'rxn03996': 'R05731', 'rxn04086': 'R05855', 'rxn02537': 'R03556', 'rxn04165': 'R06291', 'rxn04701': 'R06892', 'rxn02712': 'R03834', 'rxn00782': 'R01063', 'rxn03913': 'R05641', 'rxn02536': 'R03555', 'rxn04954': 'R07168', 'rxn00511': 'R00716', 'rxn13388': 'R09076', 'rxn02151': 'R02999', 'rxn00821': 'R01108', 'rxn02977': 'R04270', 'rxn01423': 'R01939', 'rxn03224': 'R04711', 'rxn02641': 'R03721', 'rxn04009': 'R05755', 'rxn04028': 'R05776', 'rxn03020': 'R04347', 'rxn02819': 'R04013', 'rxn02639': 'R03719', 'rxn01318': 'R01806', 'rxn01319': 'R01807', 'rxn15399': 'R03323', 'rxn06659': 'R04343', 'rxn05034': 'R07273', 'rxn11702': 'R08165', 'rxn14264': 'R08951', 'rxn14090': 'R08952', 'rxn00656': 'R00907', 'rxn02460': 'R03433', 'rxn02489': 'R03478', 'rxn13385': 'R09087', 'rxn00767': 'R01044', 'rxn01479': 'R02038', 'rxn02569': 'R03595', 'rxn03708': 'R05408', 'rxn02269': 'R03171', 'rxn08094': 'R08549', 'rxn00459': 'R00658', 'rxn00912': 'R01226', 'rxn02213': 'R03084', 'rxn02134': 'R02978', 'rxn01139': 'R01562', 'rxn01549': 'R02148', 'rxn01704': 'R02370', 'rxn01367': 'R01877', 'rxn11710': 'R08175', 'rxn00943': 'R01274', 'rxn08444': 'R08174', 'rxn02435': 'R03394', 'rxn02461': 'R03434', 'rxn15251': 'R01790; R01791; R03115', 'rxn06156': 'R02360', 'rxn04453': 'R06601', 'rxn00241': 'R00335', 'rxn01106': 'R01518', 'rxn02748': 'R03894', 'rxn01450': 'R01974', 'rxn03452': 'R05092', 'rxn00328': 'R00470', 'rxn03893': 'R05615', 'rxn01653': 'R02301', 'rxn00132': 'R00183', 'rxn00363': 'R00511', 'rxn00913': 'R01227', 'rxn00831': 'R01126', 'rxn00708': 'R00963', 'rxn00425': 'R00589', 'rxn01490': 'R02068', 'rxn14212': 'R08738', 'rxn14296': 'R08733', 'rxn03326': 'R04870', 'rxn06742': 'R04604', 'rxn00113': 'R00149', 'rxn02855': 'R04068', 'rxn15493': 'R04779', 'rxn01476': 'R02035', 'rxn02049': 'R02856', 'rxn01131': 'R01553', 'rxn08043': 'R08648', 'rxn00178': 'R00238', 'rxn00974': 'R01325', 'rxn15280': 'R01900', 'rxn00649': 'R00897', 'rxn03841': 'R05553', 'rxn00381': 'R00531', 'rxn00361': 'R00509', 'rxn00283': 'R00401', 'rxn00506': 'R00710', 'rxn15071': 'R00834', 'rxn15334': 'R02425', 'rxn02442': 'R03402', 'rxn02549': 'R03572', 'rxn01833': 'R02529', 'rxn01903': 'R02613', 'rxn01851': 'R02549', 'rxn00405': 'R00566', 'rxn00394': 'R00551', 'rxn03721': 'R05421', 'rxn00342': 'R00485', 'rxn00789': 'R01071', 'rxn01867': 'R02565', 'rxn01032': 'R01419; R01486', 'rxn00959': 'R01295', 'rxn02694': 'R03800', 'rxn01575': 'R02199', 'rxn00806': 'R01090', 'rxn00903': 'R01214', 'rxn00490': 'R00691', 'rxn02234': 'R03114', 'rxn00006': 'R00009', 'rxn00409': 'R00570', 'rxn01256': 'R01715', 'rxn00256': 'R00351', 'rxn03538': 'R05223', 'rxn01371': 'R01881', 'rxn02521': 'R03537', 'rxn03483': 'R05135', 'rxn02762': 'R03929', 'rxn02522': 'R03538', 'rxn15166': 'R01286', 'rxn00263': 'R00359', 'rxn00839': 'R01137', 'rxn01673': 'R02326', 'rxn01353': 'R01857', 'rxn01093': 'R01504', 'rxn01871': 'R02569', 'rxn01644': 'R02292', 'rxn01603': 'R02237', 'rxn03437': 'R05070', 'rxn01876': 'R02574', 'rxn02000': 'R06514', 'rxn02003': 'R02777', 'rxn01512': 'R02093', 'rxn01678': 'R02331', 'rxn03958': 'R05688', 'rxn02911': 'R04170', 'rxn03247': 'R04746', 'rxn03240': 'R04738', 'rxn03250': 'R04749', 'rxn03245': 'R04744', 'rxn02167': 'R03026', 'rxn02528': 'R03545', 'rxn04992': 'R07214', 'rxn15116': 'R01070', 'rxn15494': 'R04780', 'rxn01486': 'R02061', 'rxn01048': 'R01440', 'rxn01466': 'R02003', 'rxn15435': 'R03920', 'rxn02263': 'R03163', 'rxn02262': 'R03161', 'rxn00799': 'R01082', 'rxn01204': 'R01648', 'rxn00781': 'R01061', 'rxn00908': 'R01221', 'rxn00237': 'R00330', 'rxn01975': 'R02736', 'rxn00695': 'R00948', 'rxn01439': 'R01961', 'rxn00895': 'R01204', 'rxn01483': 'R02058', 'rxn15029': 'R00303', 'rxn02169': 'R03028', 'rxn00182': 'R00243', 'rxn03135': 'R04558', 'rxn00189': 'R00256', 'rxn01878': 'R02576', 'rxn00187': 'R00253', 'rxn00086': 'R00115', 'rxn01011': 'R01388', 'rxn00404': 'R00565', 'rxn02638': 'R03718', 'rxn06165': 'R02421', 'rxn00692': 'R00945', 'rxn00980': 'R01334', 'rxn01213': 'R01658', 'rxn00914': 'R01228', 'rxn00570': 'R00793', 'rxn00863': 'R01163', 'rxn02835': 'R04037', 'rxn02159': 'R03012', 'rxn02834': 'R04035', 'rxn01300': 'R01771', 'rxn01935': 'R02676', 'rxn02473': 'R03457', 'rxn00834': 'R01130', 'rxn00835': 'R01131', 'rxn00830': 'R01123', 'rxn01258': 'R01717', 'rxn15045': 'R00479', 'rxn15022': 'R00267', 'rxn04415': 'R06560', 'rxn04113': 'R05884', 'rxn08756': 'R08209', 'rxn02804': 'R03991', 'rxn00874': 'R01177', 'rxn03243': 'R04742', 'rxn06510': 'R03858', 'rxn02680': 'R03778', 'rxn03248': 'R04747', 'rxn00338': 'R00481', 'rxn00254': 'R00348', 'rxn01580': 'R02204', 'rxn02290': 'R03199', 'rxn06865': 'R05146', 'rxn15452': 'R04194', 'rxn03687': 'R05386', 'rxn03688': 'R05387', 'rxn03670': 'R05369', 'rxn03671': 'R05370', 'rxn03130': 'R04549', 'rxn00322': 'R00462', 'rxn00248': 'R00342', 'rxn00249': 'R00343', 'rxn00264': 'R00360', 'rxn00330': 'R00472', 'rxn01296': 'R01767', 'rxn01560': 'R02167', 'rxn01328': 'R01817', 'rxn00432': 'R00608', 'rxn00676': 'R00927', 'rxn00602': 'R00833', 'rxn01607': 'R02245', 'rxn05072': 'R07324', 'rxn00891': 'R01200', 'rxn00076': 'R00103', 'rxn00117': 'R00156', 'rxn02832': 'R04031', 'rxn03239': 'R04737', 'rxn01451': 'R01975', 'rxn03242': 'R04741', 'rxn03246': 'R04745', 'rxn03244': 'R04743', 'rxn03249': 'R04748', 'rxn00060': 'R00084', 'rxn01019': 'R01398', 'rxn00471': 'R00671', 'rxn00467': 'R00667', 'rxn01257': 'R01716', 'rxn00148': 'R00200', 'rxn06633': 'R04273', 'rxn38253': 'R03321', 'rxn01101': 'R01513', 'rxn01003': 'R01377', 'rxn00173': 'R00230', 'rxn01100': 'R01512', 'rxn38258': 'R05630', 'rxn33571': 'R00959', 'rxn02322': 'R03245', 'rxn02752': 'R03899', 'rxn02524': 'R03541', 'rxn03175': 'R04640', 'rxn01355': 'R01859', 'rxn00224': 'R00310', 'rxn28099': 'R03222', 'rxn02914': 'R04173', 'rxn00852': 'R01151', 'rxn20644': 'R03472', 'rxn20643': 'R03472', 'rxn00503': 'R00707', 'rxn00151': 'R00206', 'rxn00154': 'R00209', 'rxn01555': 'R02156', 'rxn01760': 'R02436', 'rxn02988': 'R04292', 'rxn02402': 'R03348', 'rxn28139': 'R10021', 'rxn38281': 'R10021', 'rxn38282': 'R10021', 'rxn38283': 'R10021', 'rxn02710': 'R03831', 'rxn01530': 'R02124', 'rxn01761': 'R02437', 'rxn00392': 'R00549', 'rxn00018': 'R00024', 'rxn15749': 'R08569', 'rxn16289': 'R09451', 'rxn01487': 'R02063', 'rxn16304': 'R09464', 'rxn07677': 'R07887', 'rxn01401': 'R01914', 'rxn16474': 'R09632', 'rxn16379': 'R09537', 'rxn15007': 'R00026', 'rxn02081': 'R02908', 'rxn03354': 'R04903', 'rxn09532': 'R10747', 'rxn00493': 'R00694', 'rxn11890': 'R08379', 'rxn01838': 'R02534', 'rxn01836': 'R02532', 'rxn02087': 'R02919', 'rxn02088': 'R02920', 'rxn03345': 'R04893', 'rxn03335': 'R04882', 'rxn03346': 'R04894', 'rxn02418': 'R03372', 'rxn07414': 'R07583', 'rxn02417': 'R03371', 'rxn21274': 'R10548', 'rxn21273': 'R10548', 'rxn11633': 'R04931', 'rxn21379': 'R10095', 'rxn21378': 'R10095', 'rxn38326': 'R07791', 'rxn16373': 'R09532', 'rxn02554': 'R07440', 'rxn16609': 'R09767', 'rxn16498': 'R09655', 'rxn04426': 'R06572', 'rxn04427': 'R06573', 'rxn16570': 'R09723', 'rxn16111': 'R09251', 'rxn02157': 'R03008', 'rxn15700': 'R07786', 'rxn15701': 'R07787', 'rxn38345': 'R07792', 'rxn15898': 'R09009', 'rxn16406': 'R09562', 'rxn16199': 'R09358', 'rxn16426': 'R09583', 'rxn16427': 'R09584', 'rxn16428': 'R09585', 'rxn15126': 'R01095', 'rxn15946': 'R09077', 'rxn01762': 'R02438', 'rxn00408': 'R00569', 'rxn04027': 'R05775', 'rxn00498': 'R00702', 'rxn00653': 'R00904', 'rxn16548': 'R09702', 'rxn16554': 'R09708', 'rxn02064': 'R02875', 'rxn16615': 'R09773', 'rxn16616': 'R09774', 'rxn06049': 'R01821; R02888; R03116', 'rxn14233': 'R08370', 'rxn00868': 'R01171', 'rxn37718': 'R10712', 'rxn00350': 'R00494', 'rxn00016': 'R00022', 'rxn16784': 'R09942', 'rxn03373': 'R04929', 'rxn02571': 'R03601', 'rxn15500': 'R04944', 'rxn08277': 'R10079', 'rxn04315': 'R06454', 'rxn00200': 'R00269', 'rxn14008': 'R08617', 'rxn04702': 'R06893', 'rxn14365': 'R08600', 'rxn14320': 'R08601', 'rxn34014': 'R10068', 'rxn03506': 'R05170', 'rxn03508': 'R05172', 'rxn07659': 'R07869', 'rxn23588': 'R10179', 'rxn23587': 'R10179', 'rxn07660': 'R07870', 'rxn01564': 'R02173', 'rxn14002': 'R08160', 'rxn15249': 'R01786', 'rxn15003': 'R00015', 'rxn03796': 'R05506', 'rxn14004': 'R08619', 'rxn13984': 'R08665', 'rxn07331': 'R07500', 'rxn07332': 'R07501', 'rxn07333': 'R07502', 'rxn07334': 'R07503', 'rxn07335': 'R07504', 'rxn14085': 'R08782', 'rxn23806': 'R10709', 'rxn23805': 'R10709', 'rxn00657': 'R00908', 'rxn00501': 'R00705', 'rxn05000': 'R07224', 'rxn05001': 'R07225', 'rxn07795': 'R08005', 'rxn07591': 'R07777', 'rxn04959': 'R07173', 'rxn16382': 'R09540', 'rxn07552': 'R07738', 'rxn03423': 'R05050', 'rxn07590': 'R07776', 'rxn02156': 'R03006', 'rxn23878': 'R07746', 'rxn23877': 'R07746', 'rxn07312': 'R07481', 'rxn07842': 'R08052', 'rxn02836': 'R04038', 'rxn07542': 'R07728', 'rxn02470': 'R03452', 'rxn05033': 'R07272', 'rxn05032': 'R07271', 'rxn04974': 'R07195', 'rxn04975': 'R07196', 'rxn15607': 'R06298', 'rxn15984': 'R09119', 'rxn15980': 'R09115', 'rxn15982': 'R09117', 'rxn24037': 'R10031', 'rxn24036': 'R10031', 'rxn24039': 'R10032', 'rxn24038': 'R10032', 'rxn24041': 'R10033', 'rxn24040': 'R10033', 'rxn24043': 'R10034', 'rxn24042': 'R10034', 'rxn04166': 'R06292', 'rxn04152': 'R06265', 'rxn04153': 'R06266', 'rxn04154': 'R06267', 'rxn24068': 'R10040', 'rxn28311': 'R10040', 'rxn24067': 'R10040', 'rxn00526': 'R00733', 'rxn01670': 'R02323', 'rxn00168': 'R00224', 'rxn15364': 'R02740', 'rxn04384': 'R06529', 'rxn01652': 'R02300', 'rxn24213': 'R10178', 'rxn28328': 'R10178', 'rxn24212': 'R10178', 'rxn04761': 'R06952', 'rxn04041': 'R05801', 'rxn12746': 'R08764', 'rxn04167': 'R06293', 'rxn07529': 'R07715', 'rxn07530': 'R07716', 'rxn14142': 'R08754', 'rxn14094': 'R08755', 'rxn14261': 'R08756', 'rxn11737': 'R08203', 'rxn11738': 'R08204', 'rxn24377': 'R10659', 'rxn24376': 'R10659', 'rxn03955': 'R05685', 'rxn01902': 'R02611', 'rxn07441': 'R07613', 'rxn03895': 'R05618', 'rxn14170': 'R08921', 'rxn15900': 'R09032', 'rxn03082': 'R04460', 'rxn04971': 'R07190', 'rxn07306': 'R07474', 'rxn00203': 'R00272', 'rxn01320': 'R01808', 'rxn04978': 'R07199', 'rxn04755': 'R06946', 'rxn04979': 'R07200', 'rxn04756': 'R06947', 'rxn04962': 'R07178', 'rxn04963': 'R07179', 'rxn11625': 'R04801', 'rxn04769': 'R06960', 'rxn03215': 'R04700', 'rxn04087': 'R05856', 'rxn04569': 'R06738', 'rxn16231': 'R09394', 'rxn11741': 'R08207', 'rxn16445': 'R09603', 'rxn15976': 'R09111', 'rxn01870': 'R02568', 'rxn00199': 'R00268', 'rxn02642': 'R03722', 'rxn13952': 'R08795', 'rxn03530': 'R05215', 'rxn03837': 'R05548', 'rxn25165': 'R10343', 'rxn25164': 'R10343', 'rxn04192': 'R06319', 'rxn03641': 'R05336', 'rxn15910': 'R09040', 'rxn15912': 'R09042', 'rxn15958': 'R09091', 'rxn06535': 'R03928', 'rxn11703': 'R08166', 'rxn05023': 'R07262', 'rxn14005': 'R08790', 'rxn04262': 'R06396', 'rxn03947': 'R05677', 'rxn25606': 'R10317', 'rxn25605': 'R10317', 'rxn25626': 'R10319', 'rxn25625': 'R10319', 'rxn05346': 'R04952', 'rxn05350': 'R04957', 'rxn05343': 'R04960', 'rxn05348': 'R04963', 'rxn05345': 'R04726', 'rxn07575': 'R07761', 'rxn02251': 'R03140', 'rxn07579': 'R07765', 'rxn25722': 'R10027', 'rxn25721': 'R10027', 'rxn25726': 'R10028', 'rxn25725': 'R10028', 'rxn05326': 'R04955', 'rxn05325': 'R04958', 'rxn05324': 'R04724', 'rxn28489': 'R10039', 'rxn00333': 'R00475', 'rxn16340': 'R09498', 'rxn02640': 'R03720', 'rxn16291': 'R09453', 'rxn16306': 'R09465', 'rxn16300': 'R09461', 'rxn14228': 'R08745', 'rxn15278': 'R01899', 'rxn01317': 'R01805', 'rxn00827': 'R01117', 'rxn14345': 'R08966', 'rxn02959': 'R04237', 'rxn02303': 'R03220', 'rxn00056': 'R00078', 'rxn00474': 'R00674', 'rxn14146': 'R08991', 'rxn01832': 'R02528', 'rxn00420': 'R00582', 'rxn00102': 'R00132; R10092', 'rxn07846': 'R08057', 'rxn26458': 'R10186', 'rxn26457': 'R10186', 'rxn04996': 'R07219', 'rxn08352': 'R08210', 'rxn04772': 'R06963', 'rxn03646': 'R05341', 'rxn11574': 'R03824', 'rxn04195': 'R06322', 'rxn04196': 'R06323', 'rxn02158': 'R03009', 'rxn07653': 'R07863', 'rxn02733': 'R03877', 'rxn03912': 'R05640', 'rxn04381': 'R06525', 'rxn02996': 'R04304', 'rxn01063': 'R01457', 'rxn02062': 'R02872', 'rxn03911': 'R05639', 'rxn14019': 'R07495', 'rxn01062': 'R01456', 'rxn16378': 'R09536', 'rxn02993': 'R04300', 'rxn02994': 'R04301', 'rxn14183': 'R08623', 'rxn14182': 'R08625', 'rxn13977': 'R08629', 'rxn14122': 'R08636', 'rxn14244': 'R08642', 'rxn13983': 'R08646', 'rxn13986': 'R08670', 'rxn14285': 'R08672', 'rxn14305': 'R08673', 'rxn14237': 'R08674', 'rxn14161': 'R08675', 'rxn00422': 'R00585', 'rxn00948': 'R01281', 'rxn00423': 'R00586', 'rxn01740': 'R02413', 'rxn02058': 'R02866', 'rxn02063': 'R02874', 'rxn01596': 'R02228', 'rxn00306': 'R00432', 'rxn00508': 'R00713', 'rxn00287': 'R00407', 'rxn00379': 'R00529', 'rxn00380': 'R00530', 'rxn00383': 'R00533', 'rxn00206': 'R00275', 'rxn11409': 'R10142', 'rxn03181': 'R04657', 'rxn02067': 'R02880', 'rxn02055': 'R02863', 'rxn01416': 'R01931', 'rxn02934': 'R04204', 'rxn01861': 'R02559', 'rxn05004': 'R07236', 'rxn01611': 'R02253', 'rxn02469': 'R03451', 'rxn00747': 'R01015', 'rxn00523': 'R00730', 'rxn01007': 'R01384', 'rxn27420': 'R05627', 'rxn27419': 'R05627', 'rxn01523': 'R02106', 'rxn00327': 'R00469', 'rxn00562': 'R00776', 'rxn02288': 'R03197', 'rxn02264': 'R03165', 'rxn03842': 'R05554', 'rxn00159': 'R00214', 'rxn00611': 'R00842', 'rxn04981': 'R07202', 'rxn00899': 'R01210', 'rxn00720': 'R00978', 'rxn00083': 'R00112', 'rxn00071': 'R00095', 'rxn03983': 'R05717', 'rxn02441': 'R03401', 'rxn01200': 'R01641', 'rxn00902': 'R01213', 'rxn01489': 'R02065', 'rxn01577': 'R02200', 'rxn15297': 'R02050', 'rxn00527': 'R00734', 'rxn03908': 'R05634', 'rxn03907': 'R05633', 'rxn01207': 'R01651', 'rxn15271': 'R01830', 'rxn03874': 'R05595', 'rxn00992': 'R01361', 'rxn03062': 'R04426', 'rxn02789': 'R03968', 'rxn06237': 'R02767', 'rxn01906': 'R02619', 'rxn06947': 'R05635', 'rxn02166': 'R03024', 'rxn00128': 'R00179', 'rxn01115': 'R01528', 'rxn11040': 'R10221', 'rxn00171': 'R00228', 'rxn00172': 'R00229', 'rxn00175': 'R00235', 'rxn00225': 'R00315', 'rxn15021': 'R00226', 'rxn00533': 'R00742', 'rxn01917': 'R02649', 'rxn00469': 'R00669', 'rxn01637': 'R02283', 'rxn00134': 'R00185', 'rxn00141': 'R00192', 'rxn00097': 'R00127', 'rxn00838': 'R01135', 'rxn01029': 'R01416', 'rxn03136': 'R04559', 'rxn03137': 'R04560', 'rxn02937': 'R04208', 'rxn00272': 'R00369', 'rxn00191': 'R00258', 'rxn00543': 'R00754', 'rxn31778': 'R01602', 'rxn00800': 'R01083', 'rxn00727': 'R00986', 'rxn00061': 'R00085', 'rxn00802': 'R01086', 'rxn01434': 'R01954', 'rxn00260': 'R00355', 'rxn01643': 'R02291', 'rxn00337': 'R00480', 'rxn01018': 'R01397', 'rxn00414': 'R00575', 'rxn04411': 'R06556', 'rxn00364': 'R00512', 'rxn00525': 'R00732', 'rxn00849': 'R01148', 'rxn02312': 'R03231', 'rxn02277': 'R03182', 'rxn00313': 'R00451', 'rxn01974': 'R02735', 'rxn01241': 'R01698', 'rxn00686': 'R00939', 'rxn01465': 'R01993', 'rxn01360': 'R01867', 'rxn02929': 'R04199', 'rxn02928': 'R04198', 'rxn01513': 'R02094', 'rxn01519': 'R02100', 'rxn03909': 'R05636', 'rxn00068': 'R00092', 'rxn03084': 'R04463', 'rxn04392': 'R06537', 'rxn27861': 'R00942', 'rxn27860': 'R00942', 'rxn00284': 'R00402', 'rxn03004': 'R04325', 'rxn08647': 'R08572', 'rxn00184': 'R00248', 'rxn00069': 'R00093', 'rxn00085': 'R00114', 'rxn00205': 'R00274', 'rxn00351': 'R00497', 'rxn00646': 'R00894', 'rxn01102': 'R01514', 'rxn00612': 'R00844', 'rxn01286': 'R01752', 'rxn00275': 'R00372', 'rxn00324': 'R00465', 'rxn02895': 'R04144', 'rxn01509': 'R02090', 'rxn00917': 'R01231', 'rxn00916': 'R01230', 'rxn01629': 'R02272', 'rxn00239': 'R00332', 'rxn02320': 'R03243', 'rxn02160': 'R03013', 'rxn06537': 'R03938', 'rxn01302': 'R01775', 'rxn01301': 'R01773', 'rxn00109': 'R00143', 'rxn00991': 'R01360', 'rxn01500': 'R02081', 'rxn33582': 'R04444', 'rxn00832': 'R01127', 'rxn00001': 'R00004', 'rxn15056': 'R00709', 'rxn02866': 'R04095', 'rxn04794': 'R06987', 'rxn00444': 'R00644', 'rxn02590': 'R03626', 'rxn00161': 'R00216', 'rxn08861': 'R09482', 'rxn05465': 'R01626', 'rxn00174': 'R00233', 'rxn00740': 'R00999', 'rxn02889': 'R04138', 'rxn01504': 'R02085', 'rxn00883': 'R01187', 'rxn02465': 'R03443', 'rxn00077': 'R00104', 'rxn15395': 'R03260', 'rxn02484': 'R03471', 'rxn05287': 'R07475', 'rxn01362': 'R01870', 'rxn00710': 'R00965', 'rxn01111': 'R01523', 'rxn00029': 'R00036', 'rxn02508': 'R03509', 'rxn05036': 'R07276', 'rxn01000': 'R01373', 'rxn01268': 'R01728', 'rxn00673': 'R00924', 'rxn00674': 'R00925', 'rxn00985': 'R01353', 'rxn20627': 'R03222', 'rxn00790': 'R01072', 'rxn00791': 'R01073', 'rxn00776': 'R01055', 'rxn00670': 'R00921', 'rxn00854': 'R01153', 'rxn03108': 'R04509', 'rxn00931': 'R01251', 'rxn00929': 'R01248', 'rxn00250': 'R00344', 'rxn01242': 'R01699', 'rxn00157': 'R00212', 'rxn20738': 'R10021', 'rxn00777': 'R01056', 'rxn01116': 'R01529', 'rxn01375': 'R01885', 'rxn00881': 'R01185', 'rxn00882': 'R01186', 'rxn00504': 'R00708', 'rxn01757': 'R02433', 'rxn15069': 'R00802; R06088', 'rxn04791': 'R06982', 'rxn07841': 'R08051', 'rxn04458': 'R06606', 'rxn16809': 'R09962', 'rxn02239': 'R03124', 'rxn01559': 'R02160', 'rxn04162': 'R06286', 'rxn04159': 'R06272', 'rxn10770': 'R08557', 'rxn02181': 'R03045', 'rxn02261': 'R03158', 'rxn00616': 'R00848', 'rxn04459': 'R06607', 'rxn07780': 'R07990', 'rxn01765': 'R02442', 'rxn15937': 'R09067', 'rxn01219': 'R01665', 'rxn15972': 'R09107', 'rxn00859': 'R01158', 'rxn05031': 'R07270', 'rxn07631': 'R07840', 'rxn15505': 'R04998', 'rxn07343': 'R07512', 'rxn04863': 'R07057', 'rxn07654': 'R07864', 'rxn14294': 'R08696', 'rxn09037': 'R09248', 'rxn03878': 'R05599', 'rxn25763': 'R10039', 'rxn01682': 'R02340', 'rxn03910': 'R05637', 'rxn00848': 'R01147', 'rxn16680': 'R09839', 'rxn04771': 'R06962', 'rxn16595': 'R09747', 'rxn04161': 'R06284', 'rxn03063': 'R04427', 'rxn02364': 'R03300', 'rxn02945': 'R04218', 'rxn14308': 'R08627', 'rxn14205': 'R08631', 'rxn14347': 'R08640', 'rxn14102': 'R08644', 'rxn00126': 'R00177', 'rxn03147': 'R04591', 'rxn01334': 'R01829', 'rxn01345': 'R01845', 'rxn00424': 'R00588', 'rxn02056': 'R02864', 'rxn01406': 'R01920', 'rxn00285': 'R00405', 'rxn02944': 'R04217', 'rxn00509': 'R00714', 'rxn02305': 'R03223', 'rxn00737': 'R00996', 'rxn01069': 'R01466', 'rxn01520': 'R02101', 'rxn16108': 'R09247', 'rxn16110': 'R09250', 'rxn13477': 'R09245', 'rxn15362': 'R02737; R06226', 'rxn02004': 'R02778; R06228', 'rxn06298': 'R03020', 'rxn01964': 'R02722', 'rxn00711': 'R00966', 'rxn00355': 'R00502', 'rxn00904': 'R01215', 'rxn01218': 'R01664', 'rxn01445': 'R01968', 'rxn01145': 'R01569', 'rxn01521': 'R02102', 'rxn00221': 'R00304', 'rxn00758': 'R01030', 'rxn01073': 'R01470', 'rxn00889': 'R01193', 'rxn00766': 'R01043', 'rxn01715': 'R02382', 'rxn00007': 'R00010; R06103', 'rxn00212': 'R00287', 'rxn01961': 'R02719', 'rxn01137': 'R01560', 'rxn00926': 'R01244', 'rxn01840': 'R02536', 'rxn00340': 'R00483', 'rxn00347': 'R00490', 'rxn00064': 'R00088', 'rxn00114': 'R00150', 'rxn00717': 'R00974', 'rxn01365': 'R01874', 'rxn00566': 'R00782', 'rxn01368': 'R01878', 'rxn01858': 'R02556', 'rxn00144': 'R00195', 'rxn01672': 'R02325', 'rxn01800': 'R02485', 'rxn02475': 'R03459', 'rxn00539': 'R00749', 'rxn02760': 'R03921', 'rxn01492': 'R02071', 'rxn03638': 'R05332', 'rxn00552': 'R00765', 'rxn00837': 'R01134', 'rxn01225': 'R01676', 'rxn00138': 'R00189', 'rxn01669': 'R02322', 'rxn00938': 'R01268', 'rxn01842': 'R02539', 'rxn00208': 'R00277', 'rxn02927': 'R04189', 'rxn00166': 'R00221', 'rxn00165': 'R00220', 'rxn00473': 'R00673', 'rxn00293': 'R00416', 'rxn00395': 'R00552', 'rxn04048': 'R05810', 'rxn00410': 'R00571', 'rxn01217': 'R01663', 'rxn00015': 'R00018', 'rxn00456': 'R00654', 'rxn00973': 'R01324', 'rxn00507': 'R00711', 'rxn01053': 'R01446', 'rxn01843': 'R02540', 'rxn05347': 'R04355', 'rxn05344': 'R04968', 'rxn07576': 'R07762', 'rxn00145': 'R00196', 'rxn00192': 'R00259', 'rxn05357': 'R04956', 'rxn05352': 'R04959', 'rxn05356': 'R04962', 'rxn05355': 'R04725', 'rxn05351': 'R04967', 'rxn05354': 'R04970', 'rxn06538': 'R03940', 'rxn00689': 'R00942', 'rxn00022': 'R00028; R06084', 'rxn00599': 'R00830', 'rxn07578': 'R07764', 'rxn00505': 'R00709', 'rxn01387': 'R01899', 'rxn00003': 'R00006', 'rxn01790': 'R02472', 'rxn01731': 'R02404', 'rxn01419': 'R01934', 'rxn00202': 'R00271', 'rxn00910': 'R01224', 'rxn00907': 'R01220', 'rxn00690': 'R00943', 'rxn01211': 'R01655', 'rxn06936': 'R05577', 'rxn06444': 'R03660', 'rxn06442': 'R03658', 'rxn06443': 'R03659', 'rxn06447': 'R03663', 'rxn06280': 'R02918', 'rxn06441': 'R03657', 'rxn01265': 'R01724', 'rxn07577': 'R07763', 'rxn00288': 'R00408', 'rxn01505': 'R08193', 'rxn01971': 'R02732', 'rxn01977': 'R02739', 'rxn02380': 'R03321', 'rxn01138': 'R01561', 'rxn01548': 'R02147', 'rxn00088': 'R00118', 'rxn01420': 'R01936', 'rxn00122': 'R00161', 'rxn02175': 'R03035', 'rxn00100': 'R00130', 'rxn02155': 'R03005', 'rxn00105': 'R00137', 'rxn00222': 'R00306; R06104', 'rxn07586': 'R07772', 'rxn01872': 'R02570', 'rxn00278': 'R00396', 'rxn00231': 'R00321', 'rxn00262': 'R00357', 'rxn00742': 'R01001', 'rxn04092': 'R05861', 'rxn00407': 'R00568', 'rxn06600': 'R04125', 'rxn03407': 'R05030', 'rxn00268': 'R00365', 'rxn00101': 'R00131', 'rxn13186': 'R02175', 'rxn03390': 'R04982', 'rxn03391': 'R04983', 'rxn02392': 'R03336', 'rxn04680': 'R06866', 'rxn33493': 'R05051', 'rxn00170': 'R00227', 'rxn05349': 'R01624', 'rxn00391': 'R00548', 'rxn01243': 'R01700', 'rxn01937': 'R02678', 'rxn00002': 'R00005', 'rxn02275': 'R03180', 'rxn02222': 'R03096', 'rxn00130': 'R00181', 'rxn02826': 'R04025', 'rxn06432': 'R03646', 'rxn06434': 'R03648', 'rxn00014': 'R00017', 'rxn01182': 'R01616', 'rxn00146': 'R00197', 'rxn01332': 'R01826', 'rxn15467': 'R04441', 'rxn02504': 'R03504', 'rxn02200': 'R03066', 'rxn03241': 'R04740', 'rxn00947': 'R01280', 'rxn02201': 'R03067', 'rxn02374': 'R03314', 'rxn00604': 'R00835', 'rxn06377': 'R03425', 'rxn06493': 'R03815', 'rxn06937': 'R05578', 'rxn01274': 'R01736', 'rxn06777': 'R04739', 'rxn03324': 'R04862', 'rxn06439': 'R03655', 'rxn01454': 'R01978', 'rxn02503': 'R03503', 'rxn02356': 'R03291', 'rxn02358': 'R03293', 'rxn00198': 'R00267', 'rxn06440': 'R03656', 'rxn15466': 'R04439', 'rxn00289': 'R00409', 'rxn00679': 'R00931', 'rxn03519': 'R05202', 'rxn04040': 'R05800', 'rxn00236': 'R00328', 'rxn02219': 'R03093', 'rxn01208': 'R01652', 'rxn03070': 'R04443', 'rxn02304': 'R03222', 'rxn03892': 'R05613', 'rxn05231': 'R02017', 'rxn05233': 'R02019', 'rxn06076': 'R02024', 'rxn06075': 'R02018', 'rxn04376': 'R06520', 'rxn01310': 'R01787', 'rxn00575': 'R00801; R06087', 'rxn13400': 'R08766', 'rxn01539': 'R02135', 'rxn05289': 'R02016', 'rxn06448': 'R03664', 'rxn00119': 'R00158', 'rxn01517': 'R02098', 'rxn06449': 'R03665', 'rxn00867': 'R01168', 'rxn01244': 'R01701', 'rxn02523': 'R03540', 'rxn01573': 'R02196', 'rxn00804': 'R01088', 'rxn00495': 'R00697', 'rxn01045': 'R01434', 'rxn31518': 'R07360', 'rxn00937': 'R01267', 'rxn15361': 'R02731', 'rxn00738': 'R00997', 'rxn00186': 'R00251', 'rxn00858': 'R01157', 'rxn01746': 'R02422', 'rxn01748': 'R02424', 'rxn00401': 'R00559', 'rxn15348': 'R02595', 'rxn15167': 'R01290', 'rxn06109': 'R02164', 'rxn03168': 'R04621', 'rxn01839': 'R02535', 'rxn01997': 'R06513', 'rxn00374': 'R00524', 'rxn00642': 'R00888', 'rxn02404': 'R03350', 'rxn02331': 'R03254', 'rxn03273': 'R04783; R06144', 'rxn01021': 'R01401', 'rxn02647': 'R03728', 'rxn03680': 'R05379', 'rxn03839': 'R05551', 'rxn02168': 'R03027', 'rxn05039': 'R07280', 'rxn02864': 'R04093', 'rxn14082': 'R08604', 'rxn15010': 'R00028', 'rxn07290': 'R07458', 'rxn11696': 'R08070', 'rxn07868': 'R08079', 'rxn04684': 'R06871', 'rxn04456': 'R06604', 'rxn02250': 'R03139', 'rxn05118': 'R07408', 'rxn00650': 'R00899', 'rxn01768': 'R02445', 'rxn02564': 'R03590', 'rxn08884': 'R09645', 'rxn04171': 'R06297', 'rxn07489': 'R07674', 'rxn00433': 'R00610', 'rxn02655': 'R03738', 'rxn00578': 'R00805; R06211', 'rxn00215': 'R00293', 'rxn03146': 'R04587', 'rxn12822': 'R00021', 'rxn00176': 'R00236', 'rxn00226': 'R00316', 'rxn00371': 'R00519', 'rxn00441': 'R00621', 'rxn00549': 'R00762', 'rxn05893': 'R00790', 'rxn15171': 'R01324', 'rxn11955': 'R01940', 'rxn15563': 'R06050', 'rxn11960': 'R02571', 'rxn01925': 'R02662', 'rxn06213': 'R02671', 'rxn02342': 'R03270', 'rxn06436': 'R03651', 'rxn02781': 'R03955', 'rxn05322': 'R04429', 'rxn05339': 'R04533', 'rxn05338': 'R04534', 'rxn05341': 'R04536', 'rxn05336': 'R04543', 'rxn05342': 'R04566', 'rxn06820': 'R04944', 'rxn05337': 'R04953', 'rxn05327': 'R04961', 'rxn05340': 'R04964', 'rxn05323': 'R04966', 'rxn05328': 'R04969', 'rxn15533': 'R05196', 'rxn04308': 'R06447', 'rxn07172': 'R06867', 'rxn15250': 'R01788', 'rxn15562': 'R06049', 'rxn15455': 'R04254', 'rxn05329': 'R04428', 'rxn05330': 'R04954', 'rxn05334': 'R04537', 'rxn05333': 'R04535', 'rxn05331': 'R04965', 'rxn05335': 'R04568', 'rxn05332': 'R04544', 'rxn06033': 'R01706', 'rxn15694': 'R07618', 'rxn06990': 'R05875', 'rxn00786': 'R01068', 'rxn07361': 'R07530', 'rxn07362': 'R07531', 'rxn07389': 'R07558', 'rxn07390': 'R07559', 'rxn07392': 'R07561', 'rxn07399': 'R07568', 'rxn07400': 'R07569', 'rxn07403': 'R07572', 'rxn07511': 'R07697', 'rxn14033': 'R07767', 'rxn07582': 'R07768', 'rxn07645': 'R07855', 'rxn07706': 'R07916', 'rxn00011': 'R00014', 'rxn00544': 'R00755', 'rxn00785': 'R01067', 'rxn05771': 'R00082', 'rxn00179': 'R00239', 'rxn05796': 'R00281', 'rxn11549': 'R00598', 'rxn00427': 'R00602', 'rxn00512': 'R00717', 'rxn00529': 'R00736', 'rxn00589': 'R00818', 'rxn14229': 'R00849', 'rxn00872': 'R01175', 'rxn05936': 'R01178', 'rxn00946': 'R01279', 'rxn01039': 'R01426', 'rxn15230': 'R01678; R06098', 'rxn14299': 'R01868', 'rxn06096': 'R02111', 'rxn15299': 'R02112', 'rxn01550': 'R02150', 'rxn06163': 'R02418', 'rxn02107': 'R02941', 'rxn02679': 'R03777', 'rxn02720': 'R03857', 'rxn02803': 'R03990', 'rxn06585': 'R04096', 'rxn03251': 'R04751', 'rxn03253': 'R04754', 'rxn06805': 'R04867', 'rxn03642': 'R05337', 'rxn06921': 'R05488', 'rxn04747': 'R06938', 'rxn07251': 'R07358', 'rxn30569': 'R07360', 'rxn07258': 'R07381', 'rxn11687': 'R07791', 'rxn31727': 'R07815', 'rxn07770': 'R07980', 'rxn12155': 'R08512', 'rxn15854': 'R08900', 'rxn11597': 'R04283', 'rxn12003': 'R04951', 'rxn31535': 'R07815', 'rxn01907': 'R02632', 'rxn02589': 'R03625', 'rxn01269': 'R01730', 'rxn00643': 'R00889', 'rxn03068': 'R04440', 'rxn01531': 'R02125', 'rxn01522': 'R02103', 'rxn12008': 'R05611', 'rxn15152': 'R01194; R06093', 'rxn01380': 'R01890', 'rxn27702': 'R01602', 'rxn00979': 'R01333', 'rxn06954': 'R05739', 'rxn00436': 'R00615', 'rxn03194': 'R04673', 'rxn07861': 'R08072', 'rxn01440': 'R01962', 'rxn01931': 'R02669', 'rxn04920': 'R07117', 'rxn15557': 'R06023', 'rxn02406': 'R03352', 'rxn02719': 'R03856', 'rxn02933': 'R04203', 'rxn01620': 'R02262', 'rxn00652': 'R00903', 'rxn01336': 'R01836', 'rxn05914': 'R01005', 'rxn04919': 'R07116', 'rxn01298': 'R01769', 'rxn00906': 'R01218', 'rxn04736': 'R06927', 'rxn02278': 'R03183', 'rxn01044': 'R01432', 'rxn15901': 'R09033', 'rxn06078': 'R02026', 'rxn11475': 'R03871', 'rxn01626': 'R02269', 'rxn01570': 'R02193', 'rxn01148': 'R01573', 'rxn01737': 'R02410; R06100', 'rxn03701': 'R05401', 'rxn00470': 'R00670', 'rxn04910': 'R07107', 'rxn03435': 'R05068', 'rxn03075': 'R04448', 'rxn04682': 'R06869', 'rxn01496': 'R02077', 'rxn05136': 'R07432', 'rxn02520': 'R03535', 'rxn05109': 'R07399', 'rxn00675': 'R00926', 'rxn03485': 'R05137', 'rxn03080': 'R04457', 'rxn15702': 'R07788', 'rxn14020': 'R08815', 'rxn01117': 'R01530', 'rxn09188': 'R10507', 'rxn15750': 'R08570', 'rxn00693': 'R00946', 'rxn02280': 'R03186', 'rxn15491': 'R04672', 'rxn01443': 'R01965', 'rxn03923': 'R05651', 'rxn01909': 'R02634', 'rxn01886': 'R02591', 'rxn03252': 'R04753', 'rxn00735': 'R00994', 'rxn01480': 'R02047', 'rxn00953': 'R01289', 'rxn07301': 'R07469', 'rxn01537': 'R02133', 'rxn02282': 'R03188', 'rxn15090': 'R00896', 'rxn32117': 'R02957', 'rxn01199': 'R01639', 'rxn32113': 'R02957', 'rxn04933': 'R07135', 'rxn06591': 'R04109', 'rxn02634': 'R03710', 'rxn00127': 'R00178', 'rxn04916': 'R07113', 'rxn00514': 'R00720', 'rxn03659': 'R05358', 'rxn06682': 'R04404', 'rxn01676': 'R02329', 'rxn00465': 'R00665', 'rxn00571': 'R00794', 'rxn14001': 'R08605', 'rxn00691': 'R00944', 'rxn02749': 'R03896', 'rxn04712': 'R06903', 'rxn04793': 'R06985', 'rxn03700': 'R05400', 'rxn07281': 'R07448', 'rxn12180': 'R08539', 'rxn00440': 'R00619', 'rxn00416': 'R00578', 'rxn32235': 'R02752', 'rxn32244': 'R02752', 'rxn07671': 'R07881', 'rxn32232': 'R02752', 'rxn15507': 'R05052', 'rxn00726': 'R00985', 'rxn01545': 'R02143', 'rxn05108': 'R07396', 'rxn15532': 'R05196; R06069', 'rxn02942': 'R04214', 'rxn07858': 'R08069', 'rxn32270': 'R04445', 'rxn32266': 'R04445', 'rxn02186': 'R03051', 'rxn00300': 'R00425', 'rxn01524': 'R02107', 'rxn15681': 'R07510', 'rxn11987': 'R03600', 'rxn00252': 'R00346', 'rxn13969': 'R08611', 'rxn01076': 'R01476', 'rxn04938': 'R07140', 'rxn04704': 'R06895', 'rxn00918': 'R01232', 'rxn01478': 'R02037', 'rxn00731': 'R00990', 'rxn02135': 'R02979', 'rxn00866': 'R01167', 'rxn00453': 'R00651', 'rxn00700': 'R00954', 'rxn11946': 'R05614', 'rxn01071': 'R01468', 'rxn04717': 'R06908', 'rxn01452': 'R01976', 'rxn00555': 'R00768', 'rxn00915': 'R01229', 'rxn00572': 'R00796', 'rxn15087': 'R00878', 'rxn02133': 'R02976', 'rxn04915': 'R07112', 'rxn03962': 'R05692', 'rxn15120': 'R01092', 'rxn15511': 'R05071', 'rxn00857': 'R01156', 'rxn04147': 'R06223', 'rxn00251': 'R00345', 'rxn06823': 'R04949', 'rxn04783': 'R06974', 'rxn00684': 'R00936', 'rxn01485': 'R02060', 'rxn01255': 'R01714', 'rxn05092': 'R07364', 'rxn14385': 'R08768', 'rxn01127': 'R01547', 'rxn02373': 'R03313', 'rxn01827': 'R02521', 'rxn00975': 'R01326', 'rxn04681': 'R06868', 'rxn02316': 'R03238', 'rxn04817': 'R07010', 'rxn05137': 'R07433', 'rxn02853': 'R04065', 'rxn15582': 'R06098', 'rxn01058': 'R01451', 'rxn01013': 'R01392', 'rxn01431': 'R01951', 'rxn11694': 'R08064', 'rxn14323': 'R08610', 'rxn01825': 'R02519', 'rxn15669': 'R07324', 'rxn00898': 'R01209', 'rxn02354': 'R03289', 'rxn01692': 'R02352', 'rxn02212': 'R03083', 'rxn01079': 'R01481', 'rxn01075': 'R01473', 'rxn02317': 'R03239', 'rxn01388': 'R01900', 'rxn02997': 'R04305', 'rxn00048': 'R00066', 'rxn03887': 'R05608', 'rxn15011': 'R00028; R06084', 'rxn02138': 'R02984', 'rxn03472': 'R05123', 'rxn00439': 'R00618', 'rxn14070': 'R08689', 'rxn13957': 'R08753', 'rxn03259': 'R04763', 'rxn04735': 'R06926', 'rxn00227': 'R00317', 'rxn00601': 'R00832', 'rxn01693': 'R02353', 'rxn15081': 'R00867', 'rxn16687': 'R09846', 'rxn15345': 'R02577', 'rxn15389': 'R03075', 'rxn02854': 'R04066', 'rxn05024': 'R07263', 'rxn15270': 'R01819', 'rxn01942': 'R02684', 'rxn04908': 'R07105', 'rxn01783': 'R02464', 'rxn01181': 'R01615', 'rxn00484': 'R00685', 'rxn00940': 'R01270', 'rxn00840': 'R01138', 'rxn01875': 'R02573', 'rxn01126': 'R01544', 'rxn00291': 'R00411', 'rxn02729': 'R03869', 'rxn06389': 'R03469', 'rxn00376': 'R00526', 'rxn06822': 'R04948', 'rxn13953': 'R08760', 'rxn04821': 'R07014', 'rxn04430': 'R06576', 'rxn07270': 'R07409', 'rxn11571': 'R03596', 'rxn05970': 'R01320', 'rxn01329': 'R01818', 'rxn03436': 'R05069', 'rxn01354': 'R01858', 'rxn05038': 'R07279', 'rxn01429': 'R01945', 'rxn00359': 'R00507', 'rxn01206': 'R01650', 'rxn01739': 'R02412', 'rxn14057': 'R00859', 'rxn02315': 'R03237', 'rxn03753': 'R05453', 'rxn14011': 'R08752', 'rxn03891': 'R05612', 'rxn05040': 'R07281', 'rxn01743': 'R02416', 'rxn16598': 'R09752', 'rxn00377': 'R00527', 'rxn00778': 'R01057', 'rxn07305': 'R07473', 'rxn02276': 'R03181', 'rxn02455': 'R03427', 'rxn07493': 'R07678', 'rxn04715': 'R06906', 'rxn03422': 'R05049', 'rxn02802': 'R03989', 'rxn02230': 'R03106', 'rxn07261': 'R07384', 'rxn15291': 'R01981', 'rxn04822': 'R07015', 'rxn07851': 'R08062', 'rxn01816': 'R02508', 'rxn05063': 'R07315', 'rxn01297': 'R01768', 'rxn00836': 'R01132', 'rxn02100': 'R02933', 'rxn03469': 'R05120', 'rxn07328': 'R07497', 'rxn15140': 'R01103; R06070', 'rxn15497': 'R04861', 'rxn14354': 'R08168', 'rxn02106': 'R02940', 'rxn01351': 'R01855', 'rxn00304': 'R00430', 'rxn11712': 'R08177', 'rxn01425': 'R01941', 'rxn00084': 'R00113', 'rxn00541': 'R00751', 'rxn03684': 'R05383', 'rxn07279': 'R07446', 'rxn02811': 'R04001', 'rxn01558': 'R02159', 'rxn12019': 'R08170', 'rxn00986': 'R01354', 'rxn01068': 'R01465', 'rxn14040': 'R08751', 'rxn11678': 'R07228', 'rxn01770': 'R02447', 'rxn00242': 'R00336', 'rxn06376': 'R03424', 'rxn01392': 'R01904', 'rxn00945': 'R01278', 'rxn07282': 'R07449', 'rxn03750': 'R05450', 'rxn00190': 'R00257', 'rxn04716': 'R06907', 'rxn02314': 'R03236', 'rxn00257': 'R00352', 'rxn02938': 'R04209', 'rxn06710': 'R04496', 'rxn06721': 'R04545', 'rxn02462': 'R03437', 'rxn07481': 'R07666', 'rxn01868': 'R02566', 'rxn01459': 'R01986', 'rxn07852': 'R08063', 'rxn07262': 'R07385', 'rxn02474': 'R03458', 'rxn02878': 'R04117', 'rxn00880': 'R01184', 'rxn00009': 'R00012', 'rxn01781': 'R02462', 'rxn00950': 'R01285', 'rxn03468': 'R05119', 'rxn02476': 'R03460', 'rxn00709': 'R00964', 'rxn15575': 'R06077', 'rxn00303': 'R00429', 'rxn00888': 'R01192; R06214', 'rxn00713': 'R00968', 'rxn01831': 'R02527', 'rxn07324': 'R07493', 'rxn06135': 'R02223', 'rxn01338': 'R01838', 'rxn14029': 'R08769', 'rxn00360': 'R00508', 'rxn07862': 'R08073', 'rxn00993': 'R01364', 'rxn05733': 'R04859', 'rxn15044': 'R00471', 'rxn01008': 'R01385', 'rxn01411': 'R01926', 'rxn00147': 'R00199', 'rxn00429': 'R00604', 'rxn11652': 'R05352', 'rxn03403': 'R04999', 'rxn04792': 'R06983', 'rxn02302': 'R03217', 'rxn15417': 'R03634; R06152', 'rxn14334': 'R08750', 'rxn02678': 'R03776', 'rxn00697': 'R00951', 'rxn01612': 'R02254', 'rxn00092': 'R00122', 'rxn07280': 'R07447', 'rxn05957': 'R01288', 'rxn01747': 'R02423', 'rxn01881': 'R02581', 'rxn01544': 'R02142', 'rxn01529': 'R02123', 'rxn07189': 'R07157', 'rxn01622': 'R02265', 'rxn01649': 'R02297', 'rxn02751': 'R03898', 'rxn11637': 'R04940', 'rxn01001': 'R01375', 'rxn02185': 'R03050', 'rxn00654': 'R00905', 'rxn01834': 'R02530', 'rxn01169': 'R01600', 'rxn02449': 'R03409', 'rxn01460': 'R01987', 'rxn02621': 'R03692', 'rxn00121': 'R00160', 'rxn04026': 'R05774', 'rxn04713': 'R06904', 'rxn00579': 'R00806; R06036', 'rxn00028': 'R00068', 'rxn02451': 'R03418; R06042', 'rxn00772': 'R01051', 'rxn01712': 'R02379', 'rxn07850': 'R08061', 'rxn01623': 'R02266', 'rxn15068': 'R00801; R06087', 'rxn03060': 'R04424', 'rxn30330': 'R05051', 'rxn00547': 'R00760', 'rxn06136': 'R02224', 'rxn00214': 'R00291', 'rxn02666': 'R03758', 'rxn02529': 'R03546', 'rxn00336': 'R00479', 'rxn01174': 'R01608', 'rxn14114': 'R08772', 'rxn07118': 'R06582', 'rxn01590': 'R02221', 'rxn03106': 'R04506', 'rxn00559': 'R00772', 'rxn01273': 'R01735', 'rxn02597': 'R03635; R06101', 'rxn15703': 'R07789', 'rxn00301': 'R00426', 'rxn00515': 'R00722', 'rxn20583': 'R00959', 'rxn14333': 'R08749', 'rxn00020': 'R00026; R06092', 'rxn33583': 'R05332', 'rxn27940': 'R04444', 'rxn33581': 'R05332', 'rxn04923': 'R07120', 'rxn07260': 'R07383', 'rxn01247': 'R01704', 'rxn02421': 'R03375', 'rxn00078': 'R00105', 'rxn01874': 'R02572', 'rxn03783': 'R05487', 'rxn07539': 'R07725', 'rxn15035': 'R00307', 'rxn02456': 'R03428', 'rxn01418': 'R01933', 'rxn01571': 'R02194', 'rxn02434': 'R03393', 'rxn00999': 'R01372', 'rxn05915': 'R01006', 'rxn00641': 'R00885', 'rxn06958': 'R05743', 'rxn04437': 'R06583', 'rxn00706': 'R00961', 'rxn04907': 'R07104', 'rxn04714': 'R06905', 'rxn05030': 'R07269', 'rxn01738': 'R02411; R06071', 'rxn04737': 'R06928', 'rxn01426': 'R01942', 'rxn01398': 'R01911', 'rxn02820': 'R04016', 'rxn05772': 'R00100', 'rxn33699': 'R02071', 'rxn33698': 'R02071', 'rxn11711': 'R08176', 'rxn04432': 'R06578', 'rxn02507': 'R03508', 'rxn15444': 'R04019', 'rxn15290': 'R01980', 'rxn01675': 'R02328', 'rxn03203': 'R04686', 'rxn03005': 'R04326', 'rxn11718': 'R08183', 'rxn00716': 'R00973', 'rxn05239': 'R02021', 'rxn07322': 'R07491', 'rxn01151': 'R01576', 'rxn00103': 'R00134', 'rxn06465': 'R03725', 'rxn01589': 'R02220', 'rxn14042': 'R08771', 'rxn11642': 'R04985', 'rxn03061': 'R04425', 'rxn11631': 'R04904', 'rxn00520': 'R00727', 'rxn00183': 'R00245', 'rxn01168': 'R01598', 'rxn14061': 'R08748', 'rxn00155': 'R00210', 'rxn02321': 'R03244', 'rxn06106': 'R02161', 'rxn00058': 'R00081', 'rxn06117': 'R02184', 'rxn06108': 'R02163', 'rxn00063': 'R00087', 'rxn01304': 'R01777', 'rxn00770': 'R01049', 'rxn23456': 'R10068', 'rxn01171': 'R01602', 'rxn01103': 'R01515', 'rxn00536': 'R00746', 'rxn01437': 'R01959', 'rxn01275': 'R01737', 'rxn00216': 'R00299', 'rxn01280': 'R01745', 'rxn05759': 'R00019', 'rxn00500': 'R00704', 'rxn00499': 'R00703', 'rxn00373': 'R00522', 'rxn00545': 'R00756', 'rxn00558': 'R00771', 'rxn15115': 'R01057', 'rxn16345': 'R09503', 'rxn15114': 'R01056', 'rxn15228': 'R01641', 'rxn06421': 'R03599', 'rxn06300': 'R03038', 'rxn15061': 'R00765', 'rxn02061': 'R02869', 'rxn06424': 'R03611', 'rxn00869': 'R01172', 'rxn04757': 'R06948', 'rxn34663': 'R03132', 'rxn34662': 'R03132', 'rxn00647': 'R00895', 'rxn01735': 'R02408', 'rxn00645': 'R00893', 'rxn11875': 'R08348', 'rxn11828': 'R08300', 'rxn12033': 'R08295', 'rxn11756': 'R08228', 'rxn06673': 'R04386', 'rxn06672': 'R04385', 'rxn05353': 'R04430', 'rxn08433': 'R08158', 'rxn06556': 'R04014', 'rxn11700': 'R08163', 'rxn08438': 'R08157', 'rxn01210': 'R01654', 'rxn00977': 'R01329; R06142', 'rxn00808': 'R01092', 'rxn00814': 'R01098', 'rxn00819': 'R01104', 'rxn02093': 'R02926', 'rxn03838': 'R05549; R06096', 'rxn00890': 'R01194; R06093', 'rxn00818': 'R01103; R06070', 'rxn02596': 'R03634; R06152', 'rxn00194': 'R00261', 'rxn00070': 'R00094', 'rxn06527': 'R03915', 'rxn00614': 'R00846', 'rxn00274': 'R00371', 'rxn06438': 'R03654', 'rxn03035': 'R04372', 'rxn02458': 'R03430', 'rxn04140': 'R06154', 'rxn00952': 'R01287', 'rxn06799': 'R04858', 'rxn03052': 'R04405', 'rxn00567': 'R00783', 'rxn00560': 'R00774', 'rxn00201': 'R00270', 'rxn01654': 'R02302', 'rxn01791': 'R02473', 'rxn15072': 'R00835', 'rxn15108': 'R01049', 'rxn00853': 'R01152', 'rxn01723': 'R02393', 'rxn14340': 'R08584', 'rxn06171': 'R02480', 'rxn06598': 'R04123', 'rxn02265': 'R03166', 'rxn02287': 'R03194', 'rxn03384': 'R04972', 'rxn00668': 'R00919', 'rxn00096': 'R00126', 'rxn00065': 'R00089', 'rxn01184': 'R01618', 'rxn00140': 'R00191', 'rxn00136': 'R00187', 'rxn00095': 'R00125', 'rxn00920': 'R01234', 'rxn00307': 'R00434', 'rxn13974': 'R01196', 'rxn00025': 'R00032', 'rxn09244': 'R08219', 'rxn00625': 'R00864', 'rxn00247': 'R00341', 'rxn02888': 'R04137', 'rxn15401': 'R03352', 'rxn15510': 'R05066', 'rxn15094': 'R00935', 'rxn07430': 'R07599', 'rxn07431': 'R07600', 'rxn07434': 'R07603', 'rxn07432': 'R07601', 'rxn01251': 'R01710', 'rxn14186': 'R08922', 'rxn04061': 'R05828', 'rxn04993': 'R07215', 'rxn02371': 'R03310', 'rxn06898': 'R05325', 'rxn03330': 'R04876', 'rxn02313': 'R03234', 'rxn07405': 'R07574', 'rxn15940': 'R09070', 'rxn15939': 'R09069', 'rxn07325': 'R07494', 'rxn04977': 'R07198', 'rxn15162': 'R01245', 'rxn15248': 'R01770', 'rxn05028': 'R07267', 'rxn04045': 'R05807', 'rxn00765': 'R01041', 'rxn00763': 'R01036', 'rxn01385': 'R01896', 'rxn01270': 'R01731', 'rxn01028': 'R01415', 'rxn23042': 'R10712', 'rxn01527': 'R02118', 'rxn07865': 'R08076', 'rxn05022': 'R07260', 'rxn15241': 'R01759', 'rxn13251': 'R01867', 'rxn00502': 'R00706', 'rxn04750': 'R06941', 'rxn04751': 'R06942', 'rxn11561': 'R02715', 'rxn04001': 'R05736', 'rxn03104': 'R04501', 'rxn02398': 'R03344', 'rxn05995': 'R01404', 'rxn05994': 'R01403', 'rxn06238': 'R02768', 'rxn06549': 'R03992', 'rxn03123': 'R04531', 'rxn00055': 'R00075', 'rxn00491': 'R00692', 'rxn06272': 'R02887', 'rxn02480': 'R03464', 'rxn01473': 'R02013', 'rxn00139': 'R00190', 'rxn01769': 'R02446', 'rxn02747': 'R03893', 'rxn00751': 'R01021', 'rxn01094': 'R01505', 'rxn02238': 'R03123', 'rxn02897': 'R04148', 'rxn00213': 'R00289', 'rxn01636': 'R02282', 'rxn00430': 'R00605', 'rxn15668': 'R07324', 'rxn06612': 'R04176', 'rxn01677': 'R02330', 'rxn01514': 'R02095', 'rxn00120': 'R00159', 'rxn20522': 'R03321', 'rxn20546': 'R05630', 'rxn05840': 'R00435; R07284', 'rxn01249': 'R01708', 'rxn03333': 'R04880', 'rxn21400': 'R07791', 'rxn16107': 'R09246', 'rxn15418': 'R03634; R06152', 'rxn15141': 'R01103; R06070', 'rxn21916': 'R07792', 'rxn04417': 'R06562', 'rxn07315': 'R07484', 'rxn04658': 'R06843', 'rxn02598': 'R03636', 'rxn04003': 'R05738', 'rxn11661': 'R05734', 'rxn03413': 'R05038', 'rxn05006': 'R07238', 'rxn03894': 'R05616', 'rxn04443': 'R06590', 'rxn04653': 'R06838', 'rxn16114': 'R09254', 'rxn02407': 'R03353', 'rxn03281': 'R04804', 'rxn00124': 'R00174', 'rxn01396': 'R01909', 'rxn00209': 'R00278', 'rxn01807': 'R02493', 'rxn00438': 'R00617', 'rxn16586': 'R09738', 'rxn00483': 'R00684', 'rxn05005': 'R07237', 'rxn15191': 'R01432', 'rxn00149': 'R00203', 'rxn00450': 'R00648', 'rxn00269': 'R00366', 'rxn00522': 'R00729', 'rxn16141': 'R09281', 'rxn01201': 'R01644', 'rxn04142': 'R06171', 'rxn05113': 'R07403', 'rxn04762': 'R06953', 'rxn09611': 'R06204', 'rxn09519': 'R03542'}\n"
     ]
    }
   ],
   "source": [
    "print(bigg_to_kegg)\n",
    "print(seed_to_kegg)"
   ]
  },
  {
   "cell_type": "markdown",
   "id": "30ae1004",
   "metadata": {},
   "source": [
    "### Convert reaction IDs\n",
    "\n",
    "The `reaction_id_to_kegg_id` function takes as arguments: a BiGG or a SEED id, the modeltype and the mapping dictionaries created above. It returns the corresponding KEGG id."
   ]
  },
  {
   "cell_type": "code",
   "execution_count": 8,
   "id": "83374547",
   "metadata": {},
   "outputs": [
    {
     "name": "stdout",
     "output_type": "stream",
     "text": [
      "R00004\n",
      "R00009\n",
      "NA\n"
     ]
    }
   ],
   "source": [
    "\n",
    "kegg_id = reaction_id_to_kegg_id(\"IPP1\", \"BiGG\", bigg_to_kegg, seed_to_kegg)\n",
    "print(kegg_id)\n",
    "\n",
    "\n",
    "kegg_id = reaction_id_to_kegg_id(\"rxn19264\", \"SEED\", bigg_to_kegg, seed_to_kegg)\n",
    "print(kegg_id)\n",
    "\n",
    "\n",
    "kegg_id = reaction_id_to_kegg_id(\"THD2\", \"BiGG\", bigg_to_kegg, seed_to_kegg)\n",
    "print(kegg_id)\n"
   ]
  },
  {
   "cell_type": "markdown",
   "id": "ed9d7f94",
   "metadata": {},
   "source": [
    "### Update initial mapping dictionary with additional information\n",
    "\n",
    "The `fill_missing_kegg_ids_in_initial_dictionary` function is used to further map KEGG to BiGG/SEED ids, if initial model lacks some information"
   ]
  },
  {
   "cell_type": "code",
   "execution_count": 9,
   "metadata": {},
   "outputs": [
    {
     "name": "stdout",
     "output_type": "stream",
     "text": [
      "{'PFK': 'R00756', 'PFL': 'R00212', 'PGI': 'R00771', 'PGK': 'R01512', 'PGL': 'R02035', 'ACALD': 'R00228', 'AKGt2r': 'NA', 'PGM': 'R01518', 'PIt2r': 'NA', 'ALCD2x': 'R00754', 'ACALDt': 'NA', 'ACKr': 'R00315', 'PPC': 'R00345', 'ACONTa': 'R01325', 'ACONTb': 'R01900', 'ATPM': 'R00086', 'PPCK': 'R00341', 'ACt2r': 'NA', 'PPS': 'R00199', 'ADK1': 'R00127', 'AKGDH': 'R08549', 'ATPS4r': 'NA', 'PTAr': 'R00230', 'PYK': 'R00200', 'BIOMASS_Ecoli_core_w_GAM': 'NA', 'PYRt2': 'NA', 'CO2t': 'NA', 'RPE': 'R01529', 'CS': 'R00351', 'RPI': 'R01056', 'SUCCt2_2': 'NA', 'CYTBD': 'NA', 'D_LACt2': 'NA', 'ENO': 'R00658', 'SUCCt3': 'NA', 'ETOHt2r': 'NA', 'SUCDi': 'NA', 'SUCOAS': 'R00405', 'TALA': 'R01827', 'THD2': 'NA', 'TKT1': 'R01641', 'TKT2': 'R01830', 'TPI': 'R01015', 'EX_ac_e': 'NA', 'EX_acald_e': 'NA', 'EX_akg_e': 'NA', 'EX_co2_e': 'NA', 'EX_etoh_e': 'NA', 'EX_for_e': 'NA', 'EX_fru_e': 'NA', 'EX_fum_e': 'NA', 'EX_glc__D_e': 'NA', 'EX_gln__L_e': 'NA', 'EX_glu__L_e': 'NA', 'EX_h_e': 'NA', 'EX_h2o_e': 'NA', 'EX_lac__D_e': 'NA', 'EX_mal__L_e': 'NA', 'EX_nh4_e': 'NA', 'EX_o2_e': 'NA', 'EX_pi_e': 'NA', 'EX_pyr_e': 'NA', 'EX_succ_e': 'NA', 'FBA': 'R01068', 'FBP': 'R00762', 'FORt2': 'NA', 'FORt': 'NA', 'FRD7': 'NA', 'FRUpts2': 'NA', 'FUM': 'R01082', 'FUMt2_2': 'NA', 'G6PDH2r': 'R00835', 'GAPD': 'R01061', 'GLCpts': 'NA', 'GLNS': 'R00253', 'GLNabc': 'NA', 'GLUDy': 'R00248', 'GLUN': 'R00256', 'GLUSy': 'R00114', 'GLUt2r': 'NA', 'GND': 'R01528', 'H2Ot': 'NA', 'ICDHyr': 'R00267', 'ICL': 'R00479', 'LDH_D': 'R00704', 'MALS': 'R00472', 'MALt2_2': 'NA', 'MDH': 'R00342', 'ME1': 'R00214', 'ME2': 'R00216', 'NADH16': 'NA', 'NADTRHD': 'R00112', 'NH4t': 'NA', 'O2t': 'NA', 'PDH': 'R00209'}\n"
     ]
    }
   ],
   "source": [
    "\n",
    "final_bigg_to_kegg_dictionary = fill_missing_kegg_ids_in_initial_dictionary(initial_bigg_to_kegg_dictionary, \n",
    "                                                                            modeltype=\"BiGG\", \n",
    "                                                                            bigg_to_kegg=bigg_to_kegg,\n",
    "                                                                            seed_to_kegg=seed_to_kegg)\n",
    "\n",
    "print(final_bigg_to_kegg_dictionary)\n"
   ]
  },
  {
   "cell_type": "markdown",
   "id": "0b8fdbb6",
   "metadata": {},
   "source": [
    "### Retrieve KEGG pathways IDs and names for all the model reactions\n",
    "\n",
    "The `get_kegg_pathways_from_reaction_ids` function gets the final mapping directory as input and retrieves from KEGG pathway information. Thus, each reaction is mapped to one or multiple pathway IDs and names."
   ]
  },
  {
   "cell_type": "code",
   "execution_count": 10,
   "id": "9496a264",
   "metadata": {},
   "outputs": [],
   "source": [
    "\n",
    "df_kegg_pathways = get_kegg_pathways_from_reaction_ids(final_bigg_to_kegg_dictionary)\n"
   ]
  },
  {
   "cell_type": "code",
   "execution_count": 11,
   "id": "b3796bee",
   "metadata": {},
   "outputs": [
    {
     "name": "stdout",
     "output_type": "stream",
     "text": [
      "  model_reaction kegg_reaction  \\\n",
      "0            PFL        R00212   \n",
      "1            O2t            NA   \n",
      "2            PGL        R02035   \n",
      "3            PGM        R01518   \n",
      "4            PGK        R01512   \n",
      "\n",
      "                                         pathway_ids  \\\n",
      "0               [rn00620, rn00650, rn01100, rn01120]   \n",
      "1                                                 []   \n",
      "2      [rn00030, rn01100, rn01110, rn01120, rn01200]   \n",
      "3  [rn00010, rn00260, rn00680, rn01100, rn01110, ...   \n",
      "4  [rn00010, rn00710, rn01100, rn01110, rn01120, ...   \n",
      "\n",
      "                                       pathway_names  \n",
      "0  [Pyruvate metabolism, Butanoate metabolism, Me...  \n",
      "1                                                 []  \n",
      "2  [Pentose phosphate pathway, Metabolic pathways...  \n",
      "3  [Glycolysis / Gluconeogenesis, Glycine, serine...  \n",
      "4  [Glycolysis / Gluconeogenesis, Carbon fixation...  \n"
     ]
    }
   ],
   "source": [
    "\n",
    "print(df_kegg_pathways.head(5))\n"
   ]
  },
  {
   "cell_type": "markdown",
   "id": "866cfc9d",
   "metadata": {},
   "source": [
    "### Subset reactions from pathway of interest\n",
    "\n",
    "The `subset_model_reactions_from_pathway_info` function takes a pathway name or ID as input alongside the `df_kegg_pathways` dataframe. It returns a list of all reactions belonging to the given pathway."
   ]
  },
  {
   "cell_type": "code",
   "execution_count": 12,
   "id": "f8ff504a",
   "metadata": {},
   "outputs": [
    {
     "name": "stdout",
     "output_type": "stream",
     "text": [
      "['FBA', 'FBP', 'GND', 'PFK', 'PGL', 'RPE', 'RPI', 'TKT1']\n",
      "['ALCD2x', 'ENO', 'FBA', 'FBP', 'GAPD', 'PFK', 'PGK', 'PGM', 'PPCK', 'PPS', 'PYK', 'TPI']\n",
      "['ALCD2x', 'ENO', 'FBA', 'FBP', 'GAPD', 'PFK', 'PGK', 'PGM', 'PPCK', 'PPS', 'PYK', 'TPI']\n"
     ]
    }
   ],
   "source": [
    "\n",
    "PPP = subset_model_reactions_from_pathway_info(df_kegg_pathways, \"Pentose phosphate pathway\")\n",
    "print(PPP)\n",
    "\n",
    "\n",
    "Glycolysis = subset_model_reactions_from_pathway_info(df_kegg_pathways, \"Glycolysis / Gluconeogenesis\")\n",
    "print(Glycolysis)\n",
    "\n",
    "\n",
    "Glycolysis = subset_model_reactions_from_pathway_info(df_kegg_pathways, \"rn00010\")\n",
    "print(Glycolysis)\n",
    "\n"
   ]
  },
  {
   "cell_type": "markdown",
   "id": "a1983adf",
   "metadata": {},
   "source": [
    "### Create a dictionary mapping selected reactions to pathway names\n",
    "\n",
    "The `dictionary_reaction_id_to_pathway` function takes one or multiple lists containing reaction IDs (corresponding to pathways as shown above) and creates a dictionary that maps the IDs to pathway names. This is useful for plotting to work with subsets of reactions and to replace names from the `df_kegg_pathways` dataframe like `Glycolysis / Gluconeogenesis` to `Glycolysis` and `Pentose phosphate pathway` to `PPP`."
   ]
  },
  {
   "cell_type": "code",
   "execution_count": 13,
   "id": "9673ff86",
   "metadata": {},
   "outputs": [],
   "source": [
    "\n",
    "bigg_to_pathway_dict = dictionary_reaction_id_to_pathway(Glycolysis = Glycolysis, PPP = PPP)\n"
   ]
  },
  {
   "cell_type": "markdown",
   "id": "3c953d36",
   "metadata": {},
   "source": [
    "### Create a binary matrix (0/1) as an laternative way to illustrate the presense or absense of a reaction to a certain pathway\n",
    "\n",
    "The `reaction_in_pathway_binary_matrix` function is used to create a new pandas dataframe with reactions as rows and different pathways as columns. The corresponding cell of the dataframe will show if a reaction belongs to a certain pathway (1) or not (0). If a reaction belongs to more than one pathways, then the column: \"Multiple-Pathways\" is created and the reaction matching this will only get True (1) there and not in the individual pathway columns (e.g. 1 in Multiple-Pathways, 0 in Glycolysis and 0 in PPP)."
   ]
  },
  {
   "cell_type": "code",
   "execution_count": 14,
   "id": "3234b832",
   "metadata": {},
   "outputs": [],
   "source": [
    "\n",
    "binary_df = reaction_in_pathway_binary_matrix(bigg_to_pathway_dict)\n"
   ]
  },
  {
   "cell_type": "markdown",
   "id": "d626b76a",
   "metadata": {},
   "source": [
    "### Heatmap of the binary dataframe\n",
    "\n",
    "The function `plot_reaction_in_pathway_heatmap` is used to plot a heatmap of the `binary_df` to better illustrate the connection between reactions and pathways."
   ]
  },
  {
   "cell_type": "code",
   "execution_count": 15,
   "id": "e7cbd5ab",
   "metadata": {},
   "outputs": [
    {
     "data": {
      "application/vnd.plotly.v1+json": {
       "config": {
        "plotlyServerURL": "https://plot.ly"
       },
       "data": [
        {
         "colorscale": [
          [
           0,
           "lightgrey"
          ],
          [
           1,
           "steelblue"
          ]
         ],
         "hoverinfo": "text",
         "showscale": false,
         "text": [
          [
           "Row: ALCD2x<br>Col: Glycolysis<br>Value: 1",
           "Row: ALCD2x<br>Col: Multiple-Pathways<br>Value: 0",
           "Row: ALCD2x<br>Col: PPP<br>Value: 0"
          ],
          [
           "Row: ENO<br>Col: Glycolysis<br>Value: 1",
           "Row: ENO<br>Col: Multiple-Pathways<br>Value: 0",
           "Row: ENO<br>Col: PPP<br>Value: 0"
          ],
          [
           "Row: FBA<br>Col: Glycolysis<br>Value: 0",
           "Row: FBA<br>Col: Multiple-Pathways<br>Value: 1",
           "Row: FBA<br>Col: PPP<br>Value: 0"
          ],
          [
           "Row: FBP<br>Col: Glycolysis<br>Value: 0",
           "Row: FBP<br>Col: Multiple-Pathways<br>Value: 1",
           "Row: FBP<br>Col: PPP<br>Value: 0"
          ],
          [
           "Row: GAPD<br>Col: Glycolysis<br>Value: 1",
           "Row: GAPD<br>Col: Multiple-Pathways<br>Value: 0",
           "Row: GAPD<br>Col: PPP<br>Value: 0"
          ],
          [
           "Row: PFK<br>Col: Glycolysis<br>Value: 0",
           "Row: PFK<br>Col: Multiple-Pathways<br>Value: 1",
           "Row: PFK<br>Col: PPP<br>Value: 0"
          ],
          [
           "Row: PGK<br>Col: Glycolysis<br>Value: 1",
           "Row: PGK<br>Col: Multiple-Pathways<br>Value: 0",
           "Row: PGK<br>Col: PPP<br>Value: 0"
          ],
          [
           "Row: PGM<br>Col: Glycolysis<br>Value: 1",
           "Row: PGM<br>Col: Multiple-Pathways<br>Value: 0",
           "Row: PGM<br>Col: PPP<br>Value: 0"
          ],
          [
           "Row: PPCK<br>Col: Glycolysis<br>Value: 1",
           "Row: PPCK<br>Col: Multiple-Pathways<br>Value: 0",
           "Row: PPCK<br>Col: PPP<br>Value: 0"
          ],
          [
           "Row: PPS<br>Col: Glycolysis<br>Value: 1",
           "Row: PPS<br>Col: Multiple-Pathways<br>Value: 0",
           "Row: PPS<br>Col: PPP<br>Value: 0"
          ],
          [
           "Row: PYK<br>Col: Glycolysis<br>Value: 1",
           "Row: PYK<br>Col: Multiple-Pathways<br>Value: 0",
           "Row: PYK<br>Col: PPP<br>Value: 0"
          ],
          [
           "Row: TPI<br>Col: Glycolysis<br>Value: 1",
           "Row: TPI<br>Col: Multiple-Pathways<br>Value: 0",
           "Row: TPI<br>Col: PPP<br>Value: 0"
          ],
          [
           "Row: GND<br>Col: Glycolysis<br>Value: 0",
           "Row: GND<br>Col: Multiple-Pathways<br>Value: 0",
           "Row: GND<br>Col: PPP<br>Value: 1"
          ],
          [
           "Row: PGL<br>Col: Glycolysis<br>Value: 0",
           "Row: PGL<br>Col: Multiple-Pathways<br>Value: 0",
           "Row: PGL<br>Col: PPP<br>Value: 1"
          ],
          [
           "Row: RPE<br>Col: Glycolysis<br>Value: 0",
           "Row: RPE<br>Col: Multiple-Pathways<br>Value: 0",
           "Row: RPE<br>Col: PPP<br>Value: 1"
          ],
          [
           "Row: RPI<br>Col: Glycolysis<br>Value: 0",
           "Row: RPI<br>Col: Multiple-Pathways<br>Value: 0",
           "Row: RPI<br>Col: PPP<br>Value: 1"
          ],
          [
           "Row: TKT1<br>Col: Glycolysis<br>Value: 0",
           "Row: TKT1<br>Col: Multiple-Pathways<br>Value: 0",
           "Row: TKT1<br>Col: PPP<br>Value: 1"
          ]
         ],
         "type": "heatmap",
         "x": [
          "Glycolysis",
          "Multiple-Pathways",
          "PPP"
         ],
         "y": [
          "ALCD2x",
          "ENO",
          "FBA",
          "FBP",
          "GAPD",
          "PFK",
          "PGK",
          "PGM",
          "PPCK",
          "PPS",
          "PYK",
          "TPI",
          "GND",
          "PGL",
          "RPE",
          "RPI",
          "TKT1"
         ],
         "z": [
          [
           1,
           0,
           0
          ],
          [
           1,
           0,
           0
          ],
          [
           0,
           1,
           0
          ],
          [
           0,
           1,
           0
          ],
          [
           1,
           0,
           0
          ],
          [
           0,
           1,
           0
          ],
          [
           1,
           0,
           0
          ],
          [
           1,
           0,
           0
          ],
          [
           1,
           0,
           0
          ],
          [
           1,
           0,
           0
          ],
          [
           1,
           0,
           0
          ],
          [
           1,
           0,
           0
          ],
          [
           0,
           0,
           1
          ],
          [
           0,
           0,
           1
          ],
          [
           0,
           0,
           1
          ],
          [
           0,
           0,
           1
          ],
          [
           0,
           0,
           1
          ]
         ]
        },
        {
         "marker": {
          "color": "lightgrey",
          "size": 10
         },
         "mode": "markers",
         "name": "0",
         "type": "scatter",
         "x": [
          null
         ],
         "y": [
          null
         ]
        },
        {
         "marker": {
          "color": "steelblue",
          "size": 10
         },
         "mode": "markers",
         "name": "1",
         "type": "scatter",
         "x": [
          null
         ],
         "y": [
          null
         ]
        }
       ],
       "layout": {
        "font": {
         "size": 8
        },
        "height": 600,
        "legend": {
         "title": {
          "text": "Value"
         }
        },
        "margin": {
         "b": 40,
         "l": 40,
         "r": 40,
         "t": 40
        },
        "template": {
         "data": {
          "bar": [
           {
            "error_x": {
             "color": "#2a3f5f"
            },
            "error_y": {
             "color": "#2a3f5f"
            },
            "marker": {
             "line": {
              "color": "#E5ECF6",
              "width": 0.5
             },
             "pattern": {
              "fillmode": "overlay",
              "size": 10,
              "solidity": 0.2
             }
            },
            "type": "bar"
           }
          ],
          "barpolar": [
           {
            "marker": {
             "line": {
              "color": "#E5ECF6",
              "width": 0.5
             },
             "pattern": {
              "fillmode": "overlay",
              "size": 10,
              "solidity": 0.2
             }
            },
            "type": "barpolar"
           }
          ],
          "carpet": [
           {
            "aaxis": {
             "endlinecolor": "#2a3f5f",
             "gridcolor": "white",
             "linecolor": "white",
             "minorgridcolor": "white",
             "startlinecolor": "#2a3f5f"
            },
            "baxis": {
             "endlinecolor": "#2a3f5f",
             "gridcolor": "white",
             "linecolor": "white",
             "minorgridcolor": "white",
             "startlinecolor": "#2a3f5f"
            },
            "type": "carpet"
           }
          ],
          "choropleth": [
           {
            "colorbar": {
             "outlinewidth": 0,
             "ticks": ""
            },
            "type": "choropleth"
           }
          ],
          "contour": [
           {
            "colorbar": {
             "outlinewidth": 0,
             "ticks": ""
            },
            "colorscale": [
             [
              0,
              "#0d0887"
             ],
             [
              0.1111111111111111,
              "#46039f"
             ],
             [
              0.2222222222222222,
              "#7201a8"
             ],
             [
              0.3333333333333333,
              "#9c179e"
             ],
             [
              0.4444444444444444,
              "#bd3786"
             ],
             [
              0.5555555555555556,
              "#d8576b"
             ],
             [
              0.6666666666666666,
              "#ed7953"
             ],
             [
              0.7777777777777778,
              "#fb9f3a"
             ],
             [
              0.8888888888888888,
              "#fdca26"
             ],
             [
              1,
              "#f0f921"
             ]
            ],
            "type": "contour"
           }
          ],
          "contourcarpet": [
           {
            "colorbar": {
             "outlinewidth": 0,
             "ticks": ""
            },
            "type": "contourcarpet"
           }
          ],
          "heatmap": [
           {
            "colorbar": {
             "outlinewidth": 0,
             "ticks": ""
            },
            "colorscale": [
             [
              0,
              "#0d0887"
             ],
             [
              0.1111111111111111,
              "#46039f"
             ],
             [
              0.2222222222222222,
              "#7201a8"
             ],
             [
              0.3333333333333333,
              "#9c179e"
             ],
             [
              0.4444444444444444,
              "#bd3786"
             ],
             [
              0.5555555555555556,
              "#d8576b"
             ],
             [
              0.6666666666666666,
              "#ed7953"
             ],
             [
              0.7777777777777778,
              "#fb9f3a"
             ],
             [
              0.8888888888888888,
              "#fdca26"
             ],
             [
              1,
              "#f0f921"
             ]
            ],
            "type": "heatmap"
           }
          ],
          "heatmapgl": [
           {
            "colorbar": {
             "outlinewidth": 0,
             "ticks": ""
            },
            "colorscale": [
             [
              0,
              "#0d0887"
             ],
             [
              0.1111111111111111,
              "#46039f"
             ],
             [
              0.2222222222222222,
              "#7201a8"
             ],
             [
              0.3333333333333333,
              "#9c179e"
             ],
             [
              0.4444444444444444,
              "#bd3786"
             ],
             [
              0.5555555555555556,
              "#d8576b"
             ],
             [
              0.6666666666666666,
              "#ed7953"
             ],
             [
              0.7777777777777778,
              "#fb9f3a"
             ],
             [
              0.8888888888888888,
              "#fdca26"
             ],
             [
              1,
              "#f0f921"
             ]
            ],
            "type": "heatmapgl"
           }
          ],
          "histogram": [
           {
            "marker": {
             "pattern": {
              "fillmode": "overlay",
              "size": 10,
              "solidity": 0.2
             }
            },
            "type": "histogram"
           }
          ],
          "histogram2d": [
           {
            "colorbar": {
             "outlinewidth": 0,
             "ticks": ""
            },
            "colorscale": [
             [
              0,
              "#0d0887"
             ],
             [
              0.1111111111111111,
              "#46039f"
             ],
             [
              0.2222222222222222,
              "#7201a8"
             ],
             [
              0.3333333333333333,
              "#9c179e"
             ],
             [
              0.4444444444444444,
              "#bd3786"
             ],
             [
              0.5555555555555556,
              "#d8576b"
             ],
             [
              0.6666666666666666,
              "#ed7953"
             ],
             [
              0.7777777777777778,
              "#fb9f3a"
             ],
             [
              0.8888888888888888,
              "#fdca26"
             ],
             [
              1,
              "#f0f921"
             ]
            ],
            "type": "histogram2d"
           }
          ],
          "histogram2dcontour": [
           {
            "colorbar": {
             "outlinewidth": 0,
             "ticks": ""
            },
            "colorscale": [
             [
              0,
              "#0d0887"
             ],
             [
              0.1111111111111111,
              "#46039f"
             ],
             [
              0.2222222222222222,
              "#7201a8"
             ],
             [
              0.3333333333333333,
              "#9c179e"
             ],
             [
              0.4444444444444444,
              "#bd3786"
             ],
             [
              0.5555555555555556,
              "#d8576b"
             ],
             [
              0.6666666666666666,
              "#ed7953"
             ],
             [
              0.7777777777777778,
              "#fb9f3a"
             ],
             [
              0.8888888888888888,
              "#fdca26"
             ],
             [
              1,
              "#f0f921"
             ]
            ],
            "type": "histogram2dcontour"
           }
          ],
          "mesh3d": [
           {
            "colorbar": {
             "outlinewidth": 0,
             "ticks": ""
            },
            "type": "mesh3d"
           }
          ],
          "parcoords": [
           {
            "line": {
             "colorbar": {
              "outlinewidth": 0,
              "ticks": ""
             }
            },
            "type": "parcoords"
           }
          ],
          "pie": [
           {
            "automargin": true,
            "type": "pie"
           }
          ],
          "scatter": [
           {
            "fillpattern": {
             "fillmode": "overlay",
             "size": 10,
             "solidity": 0.2
            },
            "type": "scatter"
           }
          ],
          "scatter3d": [
           {
            "line": {
             "colorbar": {
              "outlinewidth": 0,
              "ticks": ""
             }
            },
            "marker": {
             "colorbar": {
              "outlinewidth": 0,
              "ticks": ""
             }
            },
            "type": "scatter3d"
           }
          ],
          "scattercarpet": [
           {
            "marker": {
             "colorbar": {
              "outlinewidth": 0,
              "ticks": ""
             }
            },
            "type": "scattercarpet"
           }
          ],
          "scattergeo": [
           {
            "marker": {
             "colorbar": {
              "outlinewidth": 0,
              "ticks": ""
             }
            },
            "type": "scattergeo"
           }
          ],
          "scattergl": [
           {
            "marker": {
             "colorbar": {
              "outlinewidth": 0,
              "ticks": ""
             }
            },
            "type": "scattergl"
           }
          ],
          "scattermapbox": [
           {
            "marker": {
             "colorbar": {
              "outlinewidth": 0,
              "ticks": ""
             }
            },
            "type": "scattermapbox"
           }
          ],
          "scatterpolar": [
           {
            "marker": {
             "colorbar": {
              "outlinewidth": 0,
              "ticks": ""
             }
            },
            "type": "scatterpolar"
           }
          ],
          "scatterpolargl": [
           {
            "marker": {
             "colorbar": {
              "outlinewidth": 0,
              "ticks": ""
             }
            },
            "type": "scatterpolargl"
           }
          ],
          "scatterternary": [
           {
            "marker": {
             "colorbar": {
              "outlinewidth": 0,
              "ticks": ""
             }
            },
            "type": "scatterternary"
           }
          ],
          "surface": [
           {
            "colorbar": {
             "outlinewidth": 0,
             "ticks": ""
            },
            "colorscale": [
             [
              0,
              "#0d0887"
             ],
             [
              0.1111111111111111,
              "#46039f"
             ],
             [
              0.2222222222222222,
              "#7201a8"
             ],
             [
              0.3333333333333333,
              "#9c179e"
             ],
             [
              0.4444444444444444,
              "#bd3786"
             ],
             [
              0.5555555555555556,
              "#d8576b"
             ],
             [
              0.6666666666666666,
              "#ed7953"
             ],
             [
              0.7777777777777778,
              "#fb9f3a"
             ],
             [
              0.8888888888888888,
              "#fdca26"
             ],
             [
              1,
              "#f0f921"
             ]
            ],
            "type": "surface"
           }
          ],
          "table": [
           {
            "cells": {
             "fill": {
              "color": "#EBF0F8"
             },
             "line": {
              "color": "white"
             }
            },
            "header": {
             "fill": {
              "color": "#C8D4E3"
             },
             "line": {
              "color": "white"
             }
            },
            "type": "table"
           }
          ]
         },
         "layout": {
          "annotationdefaults": {
           "arrowcolor": "#2a3f5f",
           "arrowhead": 0,
           "arrowwidth": 1
          },
          "autotypenumbers": "strict",
          "coloraxis": {
           "colorbar": {
            "outlinewidth": 0,
            "ticks": ""
           }
          },
          "colorscale": {
           "diverging": [
            [
             0,
             "#8e0152"
            ],
            [
             0.1,
             "#c51b7d"
            ],
            [
             0.2,
             "#de77ae"
            ],
            [
             0.3,
             "#f1b6da"
            ],
            [
             0.4,
             "#fde0ef"
            ],
            [
             0.5,
             "#f7f7f7"
            ],
            [
             0.6,
             "#e6f5d0"
            ],
            [
             0.7,
             "#b8e186"
            ],
            [
             0.8,
             "#7fbc41"
            ],
            [
             0.9,
             "#4d9221"
            ],
            [
             1,
             "#276419"
            ]
           ],
           "sequential": [
            [
             0,
             "#0d0887"
            ],
            [
             0.1111111111111111,
             "#46039f"
            ],
            [
             0.2222222222222222,
             "#7201a8"
            ],
            [
             0.3333333333333333,
             "#9c179e"
            ],
            [
             0.4444444444444444,
             "#bd3786"
            ],
            [
             0.5555555555555556,
             "#d8576b"
            ],
            [
             0.6666666666666666,
             "#ed7953"
            ],
            [
             0.7777777777777778,
             "#fb9f3a"
            ],
            [
             0.8888888888888888,
             "#fdca26"
            ],
            [
             1,
             "#f0f921"
            ]
           ],
           "sequentialminus": [
            [
             0,
             "#0d0887"
            ],
            [
             0.1111111111111111,
             "#46039f"
            ],
            [
             0.2222222222222222,
             "#7201a8"
            ],
            [
             0.3333333333333333,
             "#9c179e"
            ],
            [
             0.4444444444444444,
             "#bd3786"
            ],
            [
             0.5555555555555556,
             "#d8576b"
            ],
            [
             0.6666666666666666,
             "#ed7953"
            ],
            [
             0.7777777777777778,
             "#fb9f3a"
            ],
            [
             0.8888888888888888,
             "#fdca26"
            ],
            [
             1,
             "#f0f921"
            ]
           ]
          },
          "colorway": [
           "#636efa",
           "#EF553B",
           "#00cc96",
           "#ab63fa",
           "#FFA15A",
           "#19d3f3",
           "#FF6692",
           "#B6E880",
           "#FF97FF",
           "#FECB52"
          ],
          "font": {
           "color": "#2a3f5f"
          },
          "geo": {
           "bgcolor": "white",
           "lakecolor": "white",
           "landcolor": "#E5ECF6",
           "showlakes": true,
           "showland": true,
           "subunitcolor": "white"
          },
          "hoverlabel": {
           "align": "left"
          },
          "hovermode": "closest",
          "mapbox": {
           "style": "light"
          },
          "paper_bgcolor": "white",
          "plot_bgcolor": "#E5ECF6",
          "polar": {
           "angularaxis": {
            "gridcolor": "white",
            "linecolor": "white",
            "ticks": ""
           },
           "bgcolor": "#E5ECF6",
           "radialaxis": {
            "gridcolor": "white",
            "linecolor": "white",
            "ticks": ""
           }
          },
          "scene": {
           "xaxis": {
            "backgroundcolor": "#E5ECF6",
            "gridcolor": "white",
            "gridwidth": 2,
            "linecolor": "white",
            "showbackground": true,
            "ticks": "",
            "zerolinecolor": "white"
           },
           "yaxis": {
            "backgroundcolor": "#E5ECF6",
            "gridcolor": "white",
            "gridwidth": 2,
            "linecolor": "white",
            "showbackground": true,
            "ticks": "",
            "zerolinecolor": "white"
           },
           "zaxis": {
            "backgroundcolor": "#E5ECF6",
            "gridcolor": "white",
            "gridwidth": 2,
            "linecolor": "white",
            "showbackground": true,
            "ticks": "",
            "zerolinecolor": "white"
           }
          },
          "shapedefaults": {
           "line": {
            "color": "#2a3f5f"
           }
          },
          "ternary": {
           "aaxis": {
            "gridcolor": "white",
            "linecolor": "white",
            "ticks": ""
           },
           "baxis": {
            "gridcolor": "white",
            "linecolor": "white",
            "ticks": ""
           },
           "bgcolor": "#E5ECF6",
           "caxis": {
            "gridcolor": "white",
            "linecolor": "white",
            "ticks": ""
           }
          },
          "title": {
           "x": 0.05
          },
          "xaxis": {
           "automargin": true,
           "gridcolor": "white",
           "linecolor": "white",
           "ticks": "",
           "title": {
            "standoff": 15
           },
           "zerolinecolor": "white",
           "zerolinewidth": 2
          },
          "yaxis": {
           "automargin": true,
           "gridcolor": "white",
           "linecolor": "white",
           "ticks": "",
           "title": {
            "standoff": 15
           },
           "zerolinecolor": "white",
           "zerolinewidth": 2
          }
         }
        },
        "title": {
         "text": ""
        },
        "width": 600,
        "xaxis": {
         "tickangle": 45,
         "tickfont": {
          "size": 8
         }
        },
        "yaxis": {
         "tickfont": {
          "size": 8
         }
        }
       }
      }
     },
     "metadata": {},
     "output_type": "display_data"
    }
   ],
   "source": [
    "\n",
    "plot_reaction_in_pathway_heatmap(binary_df, font_size=8, fig_width=600, fig_height=600, title=\"\")\n"
   ]
  }
 ],
 "metadata": {
  "kernelspec": {
   "display_name": "dingo-stats-3-10",
   "language": "python",
   "name": "python3"
  },
  "language_info": {
   "codemirror_mode": {
    "name": "ipython",
    "version": 3
   },
   "file_extension": ".py",
   "mimetype": "text/x-python",
   "name": "python",
   "nbconvert_exporter": "python",
   "pygments_lexer": "ipython3",
   "version": "3.10.18"
  }
 },
 "nbformat": 4,
 "nbformat_minor": 5
}
