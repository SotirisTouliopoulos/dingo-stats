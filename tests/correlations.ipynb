{
 "cells": [
  {
   "cell_type": "markdown",
   "id": "6592977c",
   "metadata": {},
   "source": [
    "### Load libraries"
   ]
  },
  {
   "cell_type": "code",
   "execution_count": 1,
   "id": "6fb526f3",
   "metadata": {},
   "outputs": [
    {
     "name": "stderr",
     "output_type": "stream",
     "text": [
      "/home/touliopoulos/.local/lib/python3.10/site-packages/pandas/core/computation/expressions.py:21: UserWarning: Pandas requires version '2.8.4' or newer of 'numexpr' (version '2.8.1' currently installed).\n",
      "  from pandas.core.computation.check import NUMEXPR_INSTALLED\n",
      "/home/touliopoulos/.local/lib/python3.10/site-packages/pandas/core/arrays/masked.py:60: UserWarning: Pandas requires version '1.3.6' or newer of 'bottleneck' (version '1.3.2' currently installed).\n",
      "  from pandas.core import (\n",
      "/home/touliopoulos/.local/lib/python3.10/site-packages/matplotlib/projections/__init__.py:63: UserWarning: Unable to import Axes3D. This may be due to multiple versions of Matplotlib being installed (e.g. as a system package and as a pip package). As a result, the 3D projection is not available.\n",
      "  warnings.warn(\"Unable to import Axes3D. This may be due to multiple versions of \"\n"
     ]
    }
   ],
   "source": [
    "\n",
    "import sys\n",
    "sys.path.insert(0, '../src/')\n",
    "\n",
    "from load_modify_sample_utils import load_model, get_objective_functions, get_reaction_bounds, modify_model\n",
    "from load_modify_sample_utils import sample_dingo, sample_optgp\n",
    "\n",
    "from correlations_utils import correlated_reactions, plot_correlation_matrix, split_forward_reverse\n",
    "from correlations_utils import find_reactants_products, sharing_metabolites_square_matrix\n",
    "\n",
    "from pathways_utils import sort_reactions_in_pathways_by_reactions_in_model_order, subset_sampling_df_from_reaction_ids\n",
    "from pathways_utils import map_model_to_kegg_reactions, read_json_file, bigg_to_kegg_id, fill_missing_kegg_ids_in_dict\n",
    "from pathways_utils import get_kegg_pathways_from_reaction_ids, subset_model_reactions_from_pathway_info\n"
   ]
  },
  {
   "cell_type": "markdown",
   "id": "77fa688f",
   "metadata": {},
   "source": [
    "### Load model"
   ]
  },
  {
   "cell_type": "code",
   "execution_count": 2,
   "id": "4928e317",
   "metadata": {},
   "outputs": [
    {
     "name": "stdout",
     "output_type": "stream",
     "text": [
      "Set parameter Username\n",
      "Set parameter LicenseID to value 2642044\n",
      "Academic license - for non-commercial use only - expires 2026-03-25\n",
      "['BIOMASS_Ecoli_core_w_GAM']\n",
      "(0.0, 1000.0)\n"
     ]
    }
   ],
   "source": [
    "ec_cobra_model, ec_cobra_reactions, ec_dingo_model, ec_dingo_reactions = load_model(\"../ext_data/models/e_coli_core.xml\")\n",
    "\n",
    "objective_functions = get_objective_functions(ec_cobra_model)\n",
    "print(objective_functions)\n",
    "\n",
    "default_reaction_bounds = get_reaction_bounds(ec_cobra_model)\n",
    "print(default_reaction_bounds.get(\"BIOMASS_Ecoli_core_w_GAM\"))"
   ]
  },
  {
   "cell_type": "markdown",
   "id": "5224c849",
   "metadata": {},
   "source": [
    "### Modify model and sample"
   ]
  },
  {
   "cell_type": "code",
   "execution_count": 3,
   "id": "c92e338a",
   "metadata": {},
   "outputs": [
    {
     "name": "stdout",
     "output_type": "stream",
     "text": [
      "Read LP format model from file /tmp/tmpw9ft__ik.lp\n",
      "Reading time = 0.02 seconds\n",
      ": 72 rows, 190 columns, 720 nonzeros\n"
     ]
    },
    {
     "name": "stdout",
     "output_type": "stream",
     "text": [
      "Read LP format model from file /tmp/tmpjkas_u51.lp\n",
      "Reading time = 0.01 seconds\n",
      ": 72 rows, 190 columns, 720 nonzeros\n",
      "Read LP format model from file /tmp/tmpb0hn354j.lp\n",
      "Reading time = 0.01 seconds\n",
      ": 72 rows, 190 columns, 720 nonzeros\n",
      "Read LP format model from file /tmp/tmppgq_pjnw.lp\n",
      "Reading time = 0.00 seconds\n",
      ": 72 rows, 190 columns, 720 nonzeros\n"
     ]
    }
   ],
   "source": [
    "ec_cobra_model_condition_100, ec_dingo_model_condition_100 = modify_model(ec_cobra_model, objective_function=\"BIOMASS_Ecoli_core_w_GAM\", optimal_percentage=100)\n",
    "ec_cobra_model_condition_0, ec_dingo_model_condition_0 = modify_model(ec_cobra_model, objective_function=\"BIOMASS_Ecoli_core_w_GAM\", optimal_percentage=10)\n",
    "\n",
    "\n",
    "#samples_dingo_condition_100 = sample_dingo(ec_dingo_model_condition_100, reaction_in_rows = True, ess=2000)\n",
    "#print(samples_dingo_condition_100.shape)\n",
    "\n",
    "#samples_dingo_condition_0 = sample_dingo(ec_dingo_model_condition_0, reaction_in_rows = True, ess=2000)\n",
    "#print(samples_dingo_condition_0.shape)\n",
    "\n",
    "\n",
    "samples_optgp_condition_100 = sample_optgp(ec_cobra_model_condition_100, n_samples = 3000, thinning=100, reaction_in_rows = True)\n",
    "samples_optgp_condition_0 = sample_optgp(ec_cobra_model_condition_0, n_samples = 3000, thinning=100, reaction_in_rows = True)\n",
    "\n"
   ]
  },
  {
   "cell_type": "markdown",
   "id": "9727ff6b",
   "metadata": {},
   "source": [
    "### Map BiGG reactions to their corresponding KEGG pathways"
   ]
  },
  {
   "cell_type": "code",
   "execution_count": 4,
   "id": "d7b222e3",
   "metadata": {},
   "outputs": [
    {
     "name": "stderr",
     "output_type": "stream",
     "text": [
      "\u001b[33mWARNING [bioservices.KEGG:596]: \u001b[0m \u001b[32mstatus is not ok with Bad Request\u001b[0m\n",
      "WARNING:bioservices.KEGG:status is not ok with Bad Request\n",
      "\u001b[33mWARNING [bioservices.KEGG:1181]: \u001b[0m \u001b[32mCould not parse the entry correctly.\u001b[0m\n",
      "WARNING:bioservices.KEGG:Could not parse the entry correctly.\n",
      "\u001b[33mWARNING [bioservices.KEGG:596]: \u001b[0m \u001b[32mstatus is not ok with Bad Request\u001b[0m\n",
      "WARNING:bioservices.KEGG:status is not ok with Bad Request\n",
      "\u001b[33mWARNING [bioservices.KEGG:1181]: \u001b[0m \u001b[32mCould not parse the entry correctly.\u001b[0m\n",
      "WARNING:bioservices.KEGG:Could not parse the entry correctly.\n",
      "\u001b[33mWARNING [bioservices.KEGG:596]: \u001b[0m \u001b[32mstatus is not ok with Bad Request\u001b[0m\n",
      "WARNING:bioservices.KEGG:status is not ok with Bad Request\n",
      "\u001b[33mWARNING [bioservices.KEGG:1181]: \u001b[0m \u001b[32mCould not parse the entry correctly.\u001b[0m\n",
      "WARNING:bioservices.KEGG:Could not parse the entry correctly.\n",
      "\u001b[33mWARNING [bioservices.KEGG:596]: \u001b[0m \u001b[32mstatus is not ok with Bad Request\u001b[0m\n",
      "WARNING:bioservices.KEGG:status is not ok with Bad Request\n",
      "\u001b[33mWARNING [bioservices.KEGG:1181]: \u001b[0m \u001b[32mCould not parse the entry correctly.\u001b[0m\n",
      "WARNING:bioservices.KEGG:Could not parse the entry correctly.\n",
      "\u001b[33mWARNING [bioservices.KEGG:596]: \u001b[0m \u001b[32mstatus is not ok with Bad Request\u001b[0m\n",
      "WARNING:bioservices.KEGG:status is not ok with Bad Request\n",
      "\u001b[33mWARNING [bioservices.KEGG:1181]: \u001b[0m \u001b[32mCould not parse the entry correctly.\u001b[0m\n",
      "WARNING:bioservices.KEGG:Could not parse the entry correctly.\n",
      "\u001b[33mWARNING [bioservices.KEGG:596]: \u001b[0m \u001b[32mstatus is not ok with Bad Request\u001b[0m\n",
      "WARNING:bioservices.KEGG:status is not ok with Bad Request\n",
      "\u001b[33mWARNING [bioservices.KEGG:1181]: \u001b[0m \u001b[32mCould not parse the entry correctly.\u001b[0m\n",
      "WARNING:bioservices.KEGG:Could not parse the entry correctly.\n",
      "\u001b[33mWARNING [bioservices.KEGG:596]: \u001b[0m \u001b[32mstatus is not ok with Bad Request\u001b[0m\n",
      "WARNING:bioservices.KEGG:status is not ok with Bad Request\n",
      "\u001b[33mWARNING [bioservices.KEGG:1181]: \u001b[0m \u001b[32mCould not parse the entry correctly.\u001b[0m\n",
      "WARNING:bioservices.KEGG:Could not parse the entry correctly.\n",
      "\u001b[33mWARNING [bioservices.KEGG:596]: \u001b[0m \u001b[32mstatus is not ok with Bad Request\u001b[0m\n",
      "WARNING:bioservices.KEGG:status is not ok with Bad Request\n",
      "\u001b[33mWARNING [bioservices.KEGG:1181]: \u001b[0m \u001b[32mCould not parse the entry correctly.\u001b[0m\n",
      "WARNING:bioservices.KEGG:Could not parse the entry correctly.\n",
      "\u001b[33mWARNING [bioservices.KEGG:596]: \u001b[0m \u001b[32mstatus is not ok with Bad Request\u001b[0m\n",
      "WARNING:bioservices.KEGG:status is not ok with Bad Request\n",
      "\u001b[33mWARNING [bioservices.KEGG:1181]: \u001b[0m \u001b[32mCould not parse the entry correctly.\u001b[0m\n",
      "WARNING:bioservices.KEGG:Could not parse the entry correctly.\n",
      "\u001b[33mWARNING [bioservices.KEGG:596]: \u001b[0m \u001b[32mstatus is not ok with Bad Request\u001b[0m\n",
      "WARNING:bioservices.KEGG:status is not ok with Bad Request\n",
      "\u001b[33mWARNING [bioservices.KEGG:1181]: \u001b[0m \u001b[32mCould not parse the entry correctly.\u001b[0m\n",
      "WARNING:bioservices.KEGG:Could not parse the entry correctly.\n",
      "\u001b[33mWARNING [bioservices.KEGG:596]: \u001b[0m \u001b[32mstatus is not ok with Bad Request\u001b[0m\n",
      "WARNING:bioservices.KEGG:status is not ok with Bad Request\n",
      "\u001b[33mWARNING [bioservices.KEGG:1181]: \u001b[0m \u001b[32mCould not parse the entry correctly.\u001b[0m\n",
      "WARNING:bioservices.KEGG:Could not parse the entry correctly.\n",
      "\u001b[33mWARNING [bioservices.KEGG:596]: \u001b[0m \u001b[32mstatus is not ok with Bad Request\u001b[0m\n",
      "WARNING:bioservices.KEGG:status is not ok with Bad Request\n",
      "\u001b[33mWARNING [bioservices.KEGG:1181]: \u001b[0m \u001b[32mCould not parse the entry correctly.\u001b[0m\n",
      "WARNING:bioservices.KEGG:Could not parse the entry correctly.\n",
      "\u001b[33mWARNING [bioservices.KEGG:596]: \u001b[0m \u001b[32mstatus is not ok with Bad Request\u001b[0m\n",
      "WARNING:bioservices.KEGG:status is not ok with Bad Request\n",
      "\u001b[33mWARNING [bioservices.KEGG:1181]: \u001b[0m \u001b[32mCould not parse the entry correctly.\u001b[0m\n",
      "WARNING:bioservices.KEGG:Could not parse the entry correctly.\n",
      "\u001b[33mWARNING [bioservices.KEGG:596]: \u001b[0m \u001b[32mstatus is not ok with Bad Request\u001b[0m\n",
      "WARNING:bioservices.KEGG:status is not ok with Bad Request\n",
      "\u001b[33mWARNING [bioservices.KEGG:1181]: \u001b[0m \u001b[32mCould not parse the entry correctly.\u001b[0m\n",
      "WARNING:bioservices.KEGG:Could not parse the entry correctly.\n",
      "\u001b[33mWARNING [bioservices.KEGG:596]: \u001b[0m \u001b[32mstatus is not ok with Bad Request\u001b[0m\n",
      "WARNING:bioservices.KEGG:status is not ok with Bad Request\n",
      "\u001b[33mWARNING [bioservices.KEGG:1181]: \u001b[0m \u001b[32mCould not parse the entry correctly.\u001b[0m\n",
      "WARNING:bioservices.KEGG:Could not parse the entry correctly.\n",
      "\u001b[33mWARNING [bioservices.KEGG:596]: \u001b[0m \u001b[32mstatus is not ok with Bad Request\u001b[0m\n",
      "WARNING:bioservices.KEGG:status is not ok with Bad Request\n",
      "\u001b[33mWARNING [bioservices.KEGG:1181]: \u001b[0m \u001b[32mCould not parse the entry correctly.\u001b[0m\n",
      "WARNING:bioservices.KEGG:Could not parse the entry correctly.\n",
      "\u001b[33mWARNING [bioservices.KEGG:596]: \u001b[0m \u001b[32mstatus is not ok with Bad Request\u001b[0m\n",
      "WARNING:bioservices.KEGG:status is not ok with Bad Request\n",
      "\u001b[33mWARNING [bioservices.KEGG:1181]: \u001b[0m \u001b[32mCould not parse the entry correctly.\u001b[0m\n",
      "WARNING:bioservices.KEGG:Could not parse the entry correctly.\n",
      "\u001b[33mWARNING [bioservices.KEGG:596]: \u001b[0m \u001b[32mstatus is not ok with Bad Request\u001b[0m\n",
      "WARNING:bioservices.KEGG:status is not ok with Bad Request\n",
      "\u001b[33mWARNING [bioservices.KEGG:1181]: \u001b[0m \u001b[32mCould not parse the entry correctly.\u001b[0m\n",
      "WARNING:bioservices.KEGG:Could not parse the entry correctly.\n",
      "\u001b[33mWARNING [bioservices.KEGG:596]: \u001b[0m \u001b[32mstatus is not ok with Bad Request\u001b[0m\n",
      "WARNING:bioservices.KEGG:status is not ok with Bad Request\n",
      "\u001b[33mWARNING [bioservices.KEGG:1181]: \u001b[0m \u001b[32mCould not parse the entry correctly.\u001b[0m\n",
      "WARNING:bioservices.KEGG:Could not parse the entry correctly.\n",
      "\u001b[33mWARNING [bioservices.KEGG:596]: \u001b[0m \u001b[32mstatus is not ok with Bad Request\u001b[0m\n",
      "WARNING:bioservices.KEGG:status is not ok with Bad Request\n",
      "\u001b[33mWARNING [bioservices.KEGG:1181]: \u001b[0m \u001b[32mCould not parse the entry correctly.\u001b[0m\n",
      "WARNING:bioservices.KEGG:Could not parse the entry correctly.\n",
      "\u001b[33mWARNING [bioservices.KEGG:596]: \u001b[0m \u001b[32mstatus is not ok with Bad Request\u001b[0m\n",
      "WARNING:bioservices.KEGG:status is not ok with Bad Request\n",
      "\u001b[33mWARNING [bioservices.KEGG:1181]: \u001b[0m \u001b[32mCould not parse the entry correctly.\u001b[0m\n",
      "WARNING:bioservices.KEGG:Could not parse the entry correctly.\n",
      "\u001b[33mWARNING [bioservices.KEGG:596]: \u001b[0m \u001b[32mstatus is not ok with Bad Request\u001b[0m\n",
      "WARNING:bioservices.KEGG:status is not ok with Bad Request\n",
      "\u001b[33mWARNING [bioservices.KEGG:1181]: \u001b[0m \u001b[32mCould not parse the entry correctly.\u001b[0m\n",
      "WARNING:bioservices.KEGG:Could not parse the entry correctly.\n",
      "\u001b[33mWARNING [bioservices.KEGG:596]: \u001b[0m \u001b[32mstatus is not ok with Bad Request\u001b[0m\n",
      "WARNING:bioservices.KEGG:status is not ok with Bad Request\n",
      "\u001b[33mWARNING [bioservices.KEGG:1181]: \u001b[0m \u001b[32mCould not parse the entry correctly.\u001b[0m\n",
      "WARNING:bioservices.KEGG:Could not parse the entry correctly.\n",
      "\u001b[33mWARNING [bioservices.KEGG:596]: \u001b[0m \u001b[32mstatus is not ok with Bad Request\u001b[0m\n",
      "WARNING:bioservices.KEGG:status is not ok with Bad Request\n",
      "\u001b[33mWARNING [bioservices.KEGG:1181]: \u001b[0m \u001b[32mCould not parse the entry correctly.\u001b[0m\n",
      "WARNING:bioservices.KEGG:Could not parse the entry correctly.\n",
      "\u001b[33mWARNING [bioservices.KEGG:596]: \u001b[0m \u001b[32mstatus is not ok with Bad Request\u001b[0m\n",
      "WARNING:bioservices.KEGG:status is not ok with Bad Request\n",
      "\u001b[33mWARNING [bioservices.KEGG:1181]: \u001b[0m \u001b[32mCould not parse the entry correctly.\u001b[0m\n",
      "WARNING:bioservices.KEGG:Could not parse the entry correctly.\n",
      "\u001b[33mWARNING [bioservices.KEGG:596]: \u001b[0m \u001b[32mstatus is not ok with Bad Request\u001b[0m\n",
      "WARNING:bioservices.KEGG:status is not ok with Bad Request\n",
      "\u001b[33mWARNING [bioservices.KEGG:1181]: \u001b[0m \u001b[32mCould not parse the entry correctly.\u001b[0m\n",
      "WARNING:bioservices.KEGG:Could not parse the entry correctly.\n",
      "\u001b[33mWARNING [bioservices.KEGG:596]: \u001b[0m \u001b[32mstatus is not ok with Bad Request\u001b[0m\n",
      "WARNING:bioservices.KEGG:status is not ok with Bad Request\n",
      "\u001b[33mWARNING [bioservices.KEGG:1181]: \u001b[0m \u001b[32mCould not parse the entry correctly.\u001b[0m\n",
      "WARNING:bioservices.KEGG:Could not parse the entry correctly.\n",
      "\u001b[33mWARNING [bioservices.KEGG:596]: \u001b[0m \u001b[32mstatus is not ok with Bad Request\u001b[0m\n",
      "WARNING:bioservices.KEGG:status is not ok with Bad Request\n",
      "\u001b[33mWARNING [bioservices.KEGG:1181]: \u001b[0m \u001b[32mCould not parse the entry correctly.\u001b[0m\n",
      "WARNING:bioservices.KEGG:Could not parse the entry correctly.\n",
      "\u001b[33mWARNING [bioservices.KEGG:596]: \u001b[0m \u001b[32mstatus is not ok with Bad Request\u001b[0m\n",
      "WARNING:bioservices.KEGG:status is not ok with Bad Request\n",
      "\u001b[33mWARNING [bioservices.KEGG:1181]: \u001b[0m \u001b[32mCould not parse the entry correctly.\u001b[0m\n",
      "WARNING:bioservices.KEGG:Could not parse the entry correctly.\n",
      "\u001b[33mWARNING [bioservices.KEGG:596]: \u001b[0m \u001b[32mstatus is not ok with Bad Request\u001b[0m\n",
      "WARNING:bioservices.KEGG:status is not ok with Bad Request\n",
      "\u001b[33mWARNING [bioservices.KEGG:1181]: \u001b[0m \u001b[32mCould not parse the entry correctly.\u001b[0m\n",
      "WARNING:bioservices.KEGG:Could not parse the entry correctly.\n",
      "\u001b[33mWARNING [bioservices.KEGG:596]: \u001b[0m \u001b[32mstatus is not ok with Bad Request\u001b[0m\n",
      "WARNING:bioservices.KEGG:status is not ok with Bad Request\n",
      "\u001b[33mWARNING [bioservices.KEGG:1181]: \u001b[0m \u001b[32mCould not parse the entry correctly.\u001b[0m\n",
      "WARNING:bioservices.KEGG:Could not parse the entry correctly.\n",
      "\u001b[33mWARNING [bioservices.KEGG:596]: \u001b[0m \u001b[32mstatus is not ok with Bad Request\u001b[0m\n",
      "WARNING:bioservices.KEGG:status is not ok with Bad Request\n",
      "\u001b[33mWARNING [bioservices.KEGG:1181]: \u001b[0m \u001b[32mCould not parse the entry correctly.\u001b[0m\n",
      "WARNING:bioservices.KEGG:Could not parse the entry correctly.\n",
      "\u001b[33mWARNING [bioservices.KEGG:596]: \u001b[0m \u001b[32mstatus is not ok with Bad Request\u001b[0m\n",
      "WARNING:bioservices.KEGG:status is not ok with Bad Request\n",
      "\u001b[33mWARNING [bioservices.KEGG:1181]: \u001b[0m \u001b[32mCould not parse the entry correctly.\u001b[0m\n",
      "WARNING:bioservices.KEGG:Could not parse the entry correctly.\n",
      "\u001b[33mWARNING [bioservices.KEGG:596]: \u001b[0m \u001b[32mstatus is not ok with Bad Request\u001b[0m\n",
      "WARNING:bioservices.KEGG:status is not ok with Bad Request\n",
      "\u001b[33mWARNING [bioservices.KEGG:1181]: \u001b[0m \u001b[32mCould not parse the entry correctly.\u001b[0m\n",
      "WARNING:bioservices.KEGG:Could not parse the entry correctly.\n",
      "\u001b[33mWARNING [bioservices.KEGG:596]: \u001b[0m \u001b[32mstatus is not ok with Bad Request\u001b[0m\n",
      "WARNING:bioservices.KEGG:status is not ok with Bad Request\n",
      "\u001b[33mWARNING [bioservices.KEGG:1181]: \u001b[0m \u001b[32mCould not parse the entry correctly.\u001b[0m\n",
      "WARNING:bioservices.KEGG:Could not parse the entry correctly.\n",
      "\u001b[33mWARNING [bioservices.KEGG:596]: \u001b[0m \u001b[32mstatus is not ok with Bad Request\u001b[0m\n",
      "WARNING:bioservices.KEGG:status is not ok with Bad Request\n",
      "\u001b[33mWARNING [bioservices.KEGG:1181]: \u001b[0m \u001b[32mCould not parse the entry correctly.\u001b[0m\n",
      "WARNING:bioservices.KEGG:Could not parse the entry correctly.\n",
      "\u001b[33mWARNING [bioservices.KEGG:596]: \u001b[0m \u001b[32mstatus is not ok with Bad Request\u001b[0m\n",
      "WARNING:bioservices.KEGG:status is not ok with Bad Request\n",
      "\u001b[33mWARNING [bioservices.KEGG:1181]: \u001b[0m \u001b[32mCould not parse the entry correctly.\u001b[0m\n",
      "WARNING:bioservices.KEGG:Could not parse the entry correctly.\n",
      "\u001b[33mWARNING [bioservices.KEGG:596]: \u001b[0m \u001b[32mstatus is not ok with Bad Request\u001b[0m\n",
      "WARNING:bioservices.KEGG:status is not ok with Bad Request\n",
      "\u001b[33mWARNING [bioservices.KEGG:1181]: \u001b[0m \u001b[32mCould not parse the entry correctly.\u001b[0m\n",
      "WARNING:bioservices.KEGG:Could not parse the entry correctly.\n",
      "\u001b[33mWARNING [bioservices.KEGG:596]: \u001b[0m \u001b[32mstatus is not ok with Bad Request\u001b[0m\n",
      "WARNING:bioservices.KEGG:status is not ok with Bad Request\n",
      "\u001b[33mWARNING [bioservices.KEGG:1181]: \u001b[0m \u001b[32mCould not parse the entry correctly.\u001b[0m\n",
      "WARNING:bioservices.KEGG:Could not parse the entry correctly.\n",
      "\u001b[33mWARNING [bioservices.KEGG:596]: \u001b[0m \u001b[32mstatus is not ok with Bad Request\u001b[0m\n",
      "WARNING:bioservices.KEGG:status is not ok with Bad Request\n",
      "\u001b[33mWARNING [bioservices.KEGG:1181]: \u001b[0m \u001b[32mCould not parse the entry correctly.\u001b[0m\n",
      "WARNING:bioservices.KEGG:Could not parse the entry correctly.\n",
      "\u001b[33mWARNING [bioservices.KEGG:596]: \u001b[0m \u001b[32mstatus is not ok with Bad Request\u001b[0m\n",
      "WARNING:bioservices.KEGG:status is not ok with Bad Request\n",
      "\u001b[33mWARNING [bioservices.KEGG:1181]: \u001b[0m \u001b[32mCould not parse the entry correctly.\u001b[0m\n",
      "WARNING:bioservices.KEGG:Could not parse the entry correctly.\n",
      "\u001b[33mWARNING [bioservices.KEGG:596]: \u001b[0m \u001b[32mstatus is not ok with Bad Request\u001b[0m\n",
      "WARNING:bioservices.KEGG:status is not ok with Bad Request\n",
      "\u001b[33mWARNING [bioservices.KEGG:1181]: \u001b[0m \u001b[32mCould not parse the entry correctly.\u001b[0m\n",
      "WARNING:bioservices.KEGG:Could not parse the entry correctly.\n",
      "\u001b[33mWARNING [bioservices.KEGG:596]: \u001b[0m \u001b[32mstatus is not ok with Bad Request\u001b[0m\n",
      "WARNING:bioservices.KEGG:status is not ok with Bad Request\n",
      "\u001b[33mWARNING [bioservices.KEGG:1181]: \u001b[0m \u001b[32mCould not parse the entry correctly.\u001b[0m\n",
      "WARNING:bioservices.KEGG:Could not parse the entry correctly.\n",
      "\u001b[33mWARNING [bioservices.KEGG:596]: \u001b[0m \u001b[32mstatus is not ok with Bad Request\u001b[0m\n",
      "WARNING:bioservices.KEGG:status is not ok with Bad Request\n",
      "\u001b[33mWARNING [bioservices.KEGG:1181]: \u001b[0m \u001b[32mCould not parse the entry correctly.\u001b[0m\n",
      "WARNING:bioservices.KEGG:Could not parse the entry correctly.\n",
      "\u001b[33mWARNING [bioservices.KEGG:596]: \u001b[0m \u001b[32mstatus is not ok with Bad Request\u001b[0m\n",
      "WARNING:bioservices.KEGG:status is not ok with Bad Request\n",
      "\u001b[33mWARNING [bioservices.KEGG:1181]: \u001b[0m \u001b[32mCould not parse the entry correctly.\u001b[0m\n",
      "WARNING:bioservices.KEGG:Could not parse the entry correctly.\n",
      "\u001b[33mWARNING [bioservices.KEGG:596]: \u001b[0m \u001b[32mstatus is not ok with Bad Request\u001b[0m\n",
      "WARNING:bioservices.KEGG:status is not ok with Bad Request\n",
      "\u001b[33mWARNING [bioservices.KEGG:1181]: \u001b[0m \u001b[32mCould not parse the entry correctly.\u001b[0m\n",
      "WARNING:bioservices.KEGG:Could not parse the entry correctly.\n",
      "\u001b[33mWARNING [bioservices.KEGG:596]: \u001b[0m \u001b[32mstatus is not ok with Bad Request\u001b[0m\n",
      "WARNING:bioservices.KEGG:status is not ok with Bad Request\n",
      "\u001b[33mWARNING [bioservices.KEGG:1181]: \u001b[0m \u001b[32mCould not parse the entry correctly.\u001b[0m\n",
      "WARNING:bioservices.KEGG:Could not parse the entry correctly.\n",
      "\u001b[33mWARNING [bioservices.KEGG:596]: \u001b[0m \u001b[32mstatus is not ok with Bad Request\u001b[0m\n",
      "WARNING:bioservices.KEGG:status is not ok with Bad Request\n",
      "\u001b[33mWARNING [bioservices.KEGG:1181]: \u001b[0m \u001b[32mCould not parse the entry correctly.\u001b[0m\n",
      "WARNING:bioservices.KEGG:Could not parse the entry correctly.\n"
     ]
    }
   ],
   "source": [
    "initial_bigg_to_kegg_dictionary = map_model_to_kegg_reactions(ec_cobra_model)\n",
    "\n",
    "\n",
    "reactions_json, reactions_pandas = read_json_file(\"../ext_data/reactions/reactions.json\")\n",
    "\n",
    "\n",
    "final_bigg_to_kegg_dictionary = fill_missing_kegg_ids_in_dict(initial_bigg_to_kegg_dictionary, reactions_pandas)\n",
    "\n",
    "\n",
    "df_kegg_pathways = get_kegg_pathways_from_reaction_ids(final_bigg_to_kegg_dictionary)\n"
   ]
  },
  {
   "cell_type": "markdown",
   "id": "fe49b296",
   "metadata": {},
   "source": [
    "### Subset reactions from specific pathways in the sampling dataframe"
   ]
  },
  {
   "cell_type": "code",
   "execution_count": 5,
   "id": "2a691a1b",
   "metadata": {},
   "outputs": [],
   "source": [
    "\n",
    "# Define pathways from KEGG\n",
    "glycolysis = subset_model_reactions_from_pathway_info(df_kegg_pathways, \"Glycolysis\")\n",
    "ppp = subset_model_reactions_from_pathway_info(df_kegg_pathways, \"Pentose\")\n",
    "\n",
    "\n",
    "# Alternatively define pathways manually\n",
    "#glycolysis = [\"PGI\", \"PFK\", \"FBA\", \"TPI\", \"GAPD\", \"PGK\", \"PGM\", \"ENO\", \"PYK\"]\n",
    "#ppp = [\"G6PDH2r\", \"PGL\", \"GND\", \"RPE\", \"RPI\", \"TKT1\", \"TKT2\", \"TALA\"]\n",
    "\n",
    "\n",
    "reactions_in_pathways_ordered_duplicates = sort_reactions_in_pathways_by_reactions_in_model_order(ec_dingo_reactions, glycolysis, ppp)\n",
    "\n",
    "# Remove duplicates\n",
    "reactions_in_pathways_ordered = []\n",
    "[reactions_in_pathways_ordered.append(val) for val in reactions_in_pathways_ordered_duplicates if val not in reactions_in_pathways_ordered]\n",
    "\n",
    "\n",
    "subset_pathways_optgp_condition_100 = subset_sampling_df_from_reaction_ids(\n",
    "                                                                samples_optgp_condition_100, \n",
    "                                                                ec_dingo_reactions, \n",
    "                                                                subset_reactions = reactions_in_pathways_ordered)\n",
    "\n"
   ]
  },
  {
   "cell_type": "markdown",
   "id": "4c8bdd8a",
   "metadata": {},
   "source": [
    "### Split reactions having both positive and negative flux values (reversible reactions) into two separate reactions (forward and reverse)."
   ]
  },
  {
   "cell_type": "code",
   "execution_count": 6,
   "id": "b0c860e3",
   "metadata": {},
   "outputs": [
    {
     "name": "stdout",
     "output_type": "stream",
     "text": [
      "21 21\n"
     ]
    }
   ],
   "source": [
    "\n",
    "#extended_steady_states, extended_reactions = split_forward_reverse(samples_optgp_condition_0, reactions=ec_dingo_reactions)\n",
    "extended_steady_states, extended_reactions = split_forward_reverse(subset_pathways_optgp_condition_100, reactions=reactions_in_pathways_ordered)\n",
    "\n",
    "\n",
    "reversibility_list_all_reactions, reactants_list_all_reactions, products_list_all_reactions = find_reactants_products(ec_cobra_model, extended_reactions)\n",
    "print(len(reversibility_list_all_reactions), len(reactants_list_all_reactions))\n",
    "\n"
   ]
  },
  {
   "cell_type": "markdown",
   "id": "c4df3e96",
   "metadata": {},
   "source": [
    "### Calculate a boolean matrix with dimensions equal to the number of reactions (here, reactions after the forward and reverse split). \"True\" in a position of the 2D array represents 2 reactions with a sharing reactant or product. This is done to filter correlations between reactions that do not share metabolites"
   ]
  },
  {
   "cell_type": "code",
   "execution_count": 7,
   "id": "5bde70ea",
   "metadata": {},
   "outputs": [
    {
     "name": "stdout",
     "output_type": "stream",
     "text": [
      "[[ True False False False False False False False False False False False\n",
      "  False False False False False  True  True False False]\n",
      " [False  True  True False  True  True False False False False False False\n",
      "  False False False False False False False  True False]\n",
      " [False  True  True False  True  True False False False False False False\n",
      "  False False False False False False False  True False]\n",
      " [False False False  True False False False False False False False False\n",
      "  False False False False False False False False  True]\n",
      " [False  True  True False  True  True False False False False False False\n",
      "  False False  True False False False False False False]\n",
      " [False  True  True False  True  True False False False False False False\n",
      "  False False  True False False False False False False]\n",
      " [False False False False False False  True  True False False False False\n",
      "  False False False False False False False False False]\n",
      " [False False False False False False  True  True False False False False\n",
      "  False False False False False False False False False]\n",
      " [False False False False False False False False  True False False False\n",
      "  False False False False False False False False False]\n",
      " [False False False False False False False False False  True False False\n",
      "  False False False False False False False False False]\n",
      " [False False False False False False False False False False  True False\n",
      "  False False False False False False False False False]\n",
      " [False False False False False False False False False False False  True\n",
      "   True  True False  True False False False False  True]\n",
      " [False False False False False False False False False False False  True\n",
      "   True  True False  True False False False False  True]\n",
      " [False False False False False False False False False False False  True\n",
      "   True  True False  True False False False False  True]\n",
      " [False False False False  True  True False False False False False False\n",
      "  False False  True False False False False False False]\n",
      " [False False False False False False False False False False False  True\n",
      "   True  True False  True  True  True False  True False]\n",
      " [False False False False False False False False False False False False\n",
      "  False False False  True  True  True False  True False]\n",
      " [ True False False False False False False False False False False False\n",
      "  False False False  True  True  True  True  True False]\n",
      " [ True False False False False False False False False False False False\n",
      "  False False False False False  True  True False False]\n",
      " [False  True  True False False False False False False False False False\n",
      "  False False False  True  True  True False  True False]\n",
      " [False False False  True False False False False False False False  True\n",
      "   True  True False False False False False False  True]]\n",
      "(21, 21)\n"
     ]
    }
   ],
   "source": [
    "\n",
    "boolean_sharing_metabolites_matrix = sharing_metabolites_square_matrix(extended_reactions, reversibility_list_all_reactions, reactants_list_all_reactions, products_list_all_reactions)\n",
    "\n",
    "\n",
    "print(boolean_sharing_metabolites_matrix)\n",
    "print(boolean_sharing_metabolites_matrix.shape)\n"
   ]
  },
  {
   "cell_type": "markdown",
   "id": "2dd13802",
   "metadata": {},
   "source": [
    "### Compute pairwise linear and non-linear correlations from flux samples and filter (remove) correlations between reactions not sharing any metabolites"
   ]
  },
  {
   "cell_type": "code",
   "execution_count": 8,
   "id": "7e30139f",
   "metadata": {},
   "outputs": [
    {
     "name": "stdout",
     "output_type": "stream",
     "text": [
      "Completed the process of 13 from 103 copulas\n",
      "Completed the process of 14 from 103 copulas\n",
      "Completed the process of 15 from 103 copulas\n",
      "Completed the process of 16 from 103 copulas\n",
      "Completed the process of 17 from 103 copulas\n",
      "Completed the process of 18 from 103 copulas\n",
      "Completed the process of 30 from 103 copulas\n",
      "Completed the process of 31 from 103 copulas\n",
      "Completed the process of 32 from 103 copulas\n",
      "Completed the process of 33 from 103 copulas\n",
      "Completed the process of 34 from 103 copulas\n",
      "Completed the process of 35 from 103 copulas\n",
      "Completed the process of 38 from 103 copulas\n",
      "Completed the process of 42 from 103 copulas\n",
      "Completed the process of 44 from 103 copulas\n",
      "Completed the process of 47 from 103 copulas\n",
      "Completed the process of 49 from 103 copulas\n",
      "Completed the process of 52 from 103 copulas\n",
      "Completed the process of 54 from 103 copulas\n",
      "Completed the process of 57 from 103 copulas\n",
      "Completed the process of 59 from 103 copulas\n",
      "Completed the process of 62 from 103 copulas\n",
      "Completed the process of 64 from 103 copulas\n",
      "Completed the process of 67 from 103 copulas\n",
      "Completed the process of 69 from 103 copulas\n",
      "Completed the process of 72 from 103 copulas\n",
      "Completed the process of 74 from 103 copulas\n",
      "Completed the process of 94 from 103 copulas\n",
      "Completed the process of 96 from 103 copulas\n",
      "Completed the process of 100 from 103 copulas\n",
      "Completed the process of 102 from 103 copulas\n"
     ]
    }
   ],
   "source": [
    "\n",
    "\n",
    "(linear_correlation_matrix, \n",
    "non_linear_correlation_matrix, \n",
    "mixed_correlation_matrix, \n",
    "correlations_dictionary) = correlated_reactions(\n",
    "        steady_states = extended_steady_states,\n",
    "        boolean_sharing_metabolites_matrix=boolean_sharing_metabolites_matrix,\n",
    "        reactions=extended_reactions, \n",
    "        linear_corr_cutoff = 0.3, \n",
    "        indicator_cutoff = 1.2,\n",
    "        jensenshannon_cutoff = 0.05,\n",
    "        std_cutoff= 1e-2,\n",
    "        include_non_linear = True, \n",
    "        cells = 5, \n",
    "        cop_coeff = 0.2, \n",
    "        lower_triangle = False, \n",
    "        verbose = True\n",
    ")\n",
    "\n",
    "\n"
   ]
  },
  {
   "cell_type": "markdown",
   "id": "a45c6442",
   "metadata": {},
   "source": [
    "### Show some pairs of reactions with extreme non-linear dependencies"
   ]
  },
  {
   "cell_type": "code",
   "execution_count": 9,
   "id": "fe42f5a0",
   "metadata": {},
   "outputs": [
    {
     "name": "stdout",
     "output_type": "stream",
     "text": [
      "{'PYK~PGK': {'pearson': 0, 'jensenshannon': 0.1205120608688758, 'indicator': 1.558629773813057, 'classification': 'positive_upper_lower_tail'}, 'PYK~PGL': {'pearson': 0, 'jensenshannon': 0.12099520444165601, 'indicator': 1.5646437972375575, 'classification': 'positive_upper_lower_tail'}, 'PYK~PGM': {'pearson': 0, 'jensenshannon': 0.11982182093593541, 'indicator': 1.556578945171399, 'classification': 'positive_upper_lower_tail'}, 'RPE~PYK': {'pearson': 0, 'jensenshannon': 0.12072898313275361, 'indicator': 1.5667106978862195, 'classification': 'positive_upper_lower_tail'}, 'RPI_rev~PYK': {'pearson': 0, 'jensenshannon': 0.12099520444165604, 'indicator': 1.5646437972375578, 'classification': 'positive_upper_lower_tail'}, 'TKT1~PYK': {'pearson': 0, 'jensenshannon': 0.12089054595870595, 'indicator': 1.5667106978862195, 'classification': 'positive_upper_lower_tail'}, 'GND~PYK': {'pearson': 0, 'jensenshannon': 0.12099520444165604, 'indicator': 1.5646437972375578, 'classification': 'positive_upper_lower_tail'}}\n",
      "dict_keys(['PYK~PGK', 'PYK~PGL', 'PYK~PGM', 'RPE~PYK', 'RPI_rev~PYK', 'TKT1~PYK', 'GND~PYK'])\n",
      "{'PYK~PFK': {'pearson': 0, 'jensenshannon': -0.1038134091728618, 'indicator': 0.7463768122833964, 'classification': 'negative_upper_lower_tail'}, 'PYK~PGK_rev': {'pearson': 0, 'jensenshannon': -0.12051206086887577, 'indicator': 0.6415891809596216, 'classification': 'negative_upper_lower_tail'}, 'PYK~PGM_rev': {'pearson': 0, 'jensenshannon': -0.11982182093593544, 'indicator': 0.6424344894950943, 'classification': 'negative_upper_lower_tail'}, 'RPI~PYK': {'pearson': 0, 'jensenshannon': -0.12099520444165603, 'indicator': 0.6391231037796211, 'classification': 'negative_upper_lower_tail'}, 'ENO~PYK': {'pearson': 0, 'jensenshannon': -0.11982182093593542, 'indicator': 0.6424344894950942, 'classification': 'negative_upper_lower_tail'}, 'TPI~PYK': {'pearson': 0, 'jensenshannon': -0.12087367422459483, 'indicator': 0.6405063300240346, 'classification': 'negative_upper_lower_tail'}, 'FBA~PYK': {'pearson': 0, 'jensenshannon': -0.12087367422459483, 'indicator': 0.6405063300240346, 'classification': 'negative_upper_lower_tail'}, 'GAPD~PYK': {'pearson': 0, 'jensenshannon': -0.12051206086887577, 'indicator': 0.6415891809596217, 'classification': 'negative_upper_lower_tail'}}\n",
      "dict_keys(['PYK~PFK', 'PYK~PGK_rev', 'PYK~PGM_rev', 'RPI~PYK', 'ENO~PYK', 'TPI~PYK', 'FBA~PYK', 'GAPD~PYK'])\n"
     ]
    }
   ],
   "source": [
    "\n",
    "filtered_positive = {\n",
    "    pair: metrics\n",
    "    for pair, metrics in correlations_dictionary.items()\n",
    "    if metrics['jensenshannon'] > 0.10 and metrics['indicator'] > 1.2\n",
    "}\n",
    "\n",
    "print(filtered_positive)\n",
    "print(filtered_positive.keys())\n",
    "\n",
    "\n",
    "filtered_negative = {\n",
    "    pair: metrics\n",
    "    for pair, metrics in correlations_dictionary.items()\n",
    "    if metrics['jensenshannon'] < -0.10 and metrics['indicator'] < 1.2\n",
    "\n",
    "}\n",
    "\n",
    "print(filtered_negative)\n",
    "print(filtered_negative.keys())\n"
   ]
  },
  {
   "cell_type": "markdown",
   "id": "97084d07",
   "metadata": {},
   "source": [
    "### Plot 3 correlation matrices, (a) only with linear correlations, (b) only with non-linear correlations and (c) with both linear and non-linear correlations"
   ]
  },
  {
   "cell_type": "code",
   "execution_count": 10,
   "id": "db45da45",
   "metadata": {},
   "outputs": [
    {
     "data": {
      "application/vnd.plotly.v1+json": {
       "config": {
        "plotlyServerURL": "https://plot.ly"
       },
       "data": [
        {
         "coloraxis": "coloraxis",
         "hoverongaps": false,
         "hovertemplate": "x: %{x}<br>y: %{y}<br>color: %{z}<extra></extra>",
         "name": "0",
         "type": "heatmap",
         "x": [
          "PFK",
          "PGK_rev",
          "PGK",
          "PGL",
          "PGM_rev",
          "PGM",
          "ALCD2x_rev",
          "ALCD2x",
          "PPCK",
          "PPS",
          "PYK",
          "RPE",
          "RPI_rev",
          "RPI",
          "ENO",
          "TKT1",
          "TPI",
          "FBA",
          "FBP",
          "GAPD",
          "GND"
         ],
         "xaxis": "x",
         "xgap": 1,
         "y": [
          "PFK",
          "PGK_rev",
          "PGK",
          "PGL",
          "PGM_rev",
          "PGM",
          "ALCD2x_rev",
          "ALCD2x",
          "PPCK",
          "PPS",
          "PYK",
          "RPE",
          "RPI_rev",
          "RPI",
          "ENO",
          "TKT1",
          "TPI",
          "FBA",
          "FBP",
          "GAPD",
          "GND"
         ],
         "yaxis": "y",
         "ygap": 1,
         "z": [
          [
           1,
           0,
           0,
           0,
           0,
           0,
           0,
           0,
           0,
           0,
           0,
           0,
           0,
           0,
           0,
           0,
           0,
           0.8349392350694164,
           0.5700026092771615,
           0,
           0
          ],
          [
           0,
           1,
           -0.9999999999999999,
           0,
           0.9999872012669269,
           -0.9999872012669269,
           0,
           0,
           0,
           0,
           0,
           0,
           0,
           0,
           0,
           0,
           0,
           0,
           0,
           0.9999999999999999,
           0
          ],
          [
           0,
           -0.9999999999999999,
           1,
           0,
           -0.9999872012669269,
           0.9999872012669269,
           0,
           0,
           0,
           0,
           0,
           0,
           0,
           0,
           0,
           0,
           0,
           0,
           0,
           -0.9999999999999999,
           0
          ],
          [
           0,
           0,
           0,
           1,
           0,
           0,
           0,
           0,
           0,
           0,
           0,
           0,
           0,
           0,
           0,
           0,
           0,
           0,
           0,
           0,
           1
          ],
          [
           0,
           0.9999872012669269,
           -0.9999872012669269,
           0,
           1,
           -1,
           0,
           0,
           0,
           0,
           0,
           0,
           0,
           0,
           1,
           0,
           0,
           0,
           0,
           0,
           0
          ],
          [
           0,
           -0.9999872012669269,
           0.9999872012669269,
           0,
           -1,
           1,
           0,
           0,
           0,
           0,
           0,
           0,
           0,
           0,
           -1,
           0,
           0,
           0,
           0,
           0,
           0
          ],
          [
           0,
           0,
           0,
           0,
           0,
           0,
           1,
           -0.9999999999999998,
           0,
           0,
           0,
           0,
           0,
           0,
           0,
           0,
           0,
           0,
           0,
           0,
           0
          ],
          [
           0,
           0,
           0,
           0,
           0,
           0,
           -0.9999999999999998,
           1,
           0,
           0,
           0,
           0,
           0,
           0,
           0,
           0,
           0,
           0,
           0,
           0,
           0
          ],
          [
           0,
           0,
           0,
           0,
           0,
           0,
           0,
           0,
           1,
           0,
           0,
           0,
           0,
           0,
           0,
           0,
           0,
           0,
           0,
           0,
           0
          ],
          [
           0,
           0,
           0,
           0,
           0,
           0,
           0,
           0,
           0,
           1,
           0,
           0,
           0,
           0,
           0,
           0,
           0,
           0,
           0,
           0,
           0
          ],
          [
           0,
           0,
           0,
           0,
           0,
           0,
           0,
           0,
           0,
           0,
           1,
           0,
           0,
           0,
           0,
           0,
           0,
           0,
           0,
           0,
           0
          ],
          [
           0,
           0,
           0,
           0,
           0,
           0,
           0,
           0,
           0,
           0,
           0,
           1,
           0.9999933584323257,
           -0.9999933584323257,
           0,
           0.9999998138979612,
           0,
           0,
           0,
           0,
           0.9999992621495702
          ],
          [
           0,
           0,
           0,
           0,
           0,
           0,
           0,
           0,
           0,
           0,
           0,
           0.9999933584323257,
           1,
           -1,
           0,
           0.9999953958468177,
           0,
           0,
           0,
           0,
           0.9999970479857994
          ],
          [
           0,
           0,
           0,
           0,
           0,
           0,
           0,
           0,
           0,
           0,
           0,
           -0.9999933584323257,
           -1,
           1,
           0,
           -0.9999953958468177,
           0,
           0,
           0,
           0,
           -0.9999970479857994
          ],
          [
           0,
           0,
           0,
           0,
           1,
           -1,
           0,
           0,
           0,
           0,
           0,
           0,
           0,
           0,
           1,
           0,
           0,
           0,
           0,
           0,
           0
          ],
          [
           0,
           0,
           0,
           0,
           0,
           0,
           0,
           0,
           0,
           0,
           0,
           0.9999998138979612,
           0.9999953958468177,
           -0.9999953958468177,
           0,
           1,
           -0.9999921304606955,
           -0.9999921304606955,
           0,
           -0.9999539946421877,
           0
          ],
          [
           0,
           0,
           0,
           0,
           0,
           0,
           0,
           0,
           0,
           0,
           0,
           0,
           0,
           0,
           0,
           -0.9999921304606955,
           1,
           0.9999999999999999,
           0,
           0.9999841797009091,
           0
          ],
          [
           0.8349392350694164,
           0,
           0,
           0,
           0,
           0,
           0,
           0,
           0,
           0,
           0,
           0,
           0,
           0,
           0,
           -0.9999921304606955,
           0.9999999999999999,
           1,
           0,
           0.9999841797009091,
           0
          ],
          [
           0.5700026092771615,
           0,
           0,
           0,
           0,
           0,
           0,
           0,
           0,
           0,
           0,
           0,
           0,
           0,
           0,
           0,
           0,
           0,
           1,
           0,
           0
          ],
          [
           0,
           0.9999999999999999,
           -0.9999999999999999,
           0,
           0,
           0,
           0,
           0,
           0,
           0,
           0,
           0,
           0,
           0,
           0,
           -0.9999539946421877,
           0.9999841797009091,
           0.9999841797009091,
           0,
           1,
           0
          ],
          [
           0,
           0,
           0,
           1,
           0,
           0,
           0,
           0,
           0,
           0,
           0,
           0.9999992621495702,
           0.9999970479857994,
           -0.9999970479857994,
           0,
           0,
           0,
           0,
           0,
           0,
           1
          ]
         ]
        }
       ],
       "layout": {
        "coloraxis": {
         "cmax": 1,
         "cmin": -1,
         "colorscale": [
          [
           0,
           "#d73027"
          ],
          [
           0.5,
           "#f7f7f7"
          ],
          [
           1,
           "#4575b4"
          ]
         ]
        },
        "height": 900,
        "margin": {
         "t": 60
        },
        "plot_bgcolor": "rgba(0,0,0,0)",
        "template": {
         "data": {
          "bar": [
           {
            "error_x": {
             "color": "#2a3f5f"
            },
            "error_y": {
             "color": "#2a3f5f"
            },
            "marker": {
             "line": {
              "color": "#E5ECF6",
              "width": 0.5
             },
             "pattern": {
              "fillmode": "overlay",
              "size": 10,
              "solidity": 0.2
             }
            },
            "type": "bar"
           }
          ],
          "barpolar": [
           {
            "marker": {
             "line": {
              "color": "#E5ECF6",
              "width": 0.5
             },
             "pattern": {
              "fillmode": "overlay",
              "size": 10,
              "solidity": 0.2
             }
            },
            "type": "barpolar"
           }
          ],
          "carpet": [
           {
            "aaxis": {
             "endlinecolor": "#2a3f5f",
             "gridcolor": "white",
             "linecolor": "white",
             "minorgridcolor": "white",
             "startlinecolor": "#2a3f5f"
            },
            "baxis": {
             "endlinecolor": "#2a3f5f",
             "gridcolor": "white",
             "linecolor": "white",
             "minorgridcolor": "white",
             "startlinecolor": "#2a3f5f"
            },
            "type": "carpet"
           }
          ],
          "choropleth": [
           {
            "colorbar": {
             "outlinewidth": 0,
             "ticks": ""
            },
            "type": "choropleth"
           }
          ],
          "contour": [
           {
            "colorbar": {
             "outlinewidth": 0,
             "ticks": ""
            },
            "colorscale": [
             [
              0,
              "#0d0887"
             ],
             [
              0.1111111111111111,
              "#46039f"
             ],
             [
              0.2222222222222222,
              "#7201a8"
             ],
             [
              0.3333333333333333,
              "#9c179e"
             ],
             [
              0.4444444444444444,
              "#bd3786"
             ],
             [
              0.5555555555555556,
              "#d8576b"
             ],
             [
              0.6666666666666666,
              "#ed7953"
             ],
             [
              0.7777777777777778,
              "#fb9f3a"
             ],
             [
              0.8888888888888888,
              "#fdca26"
             ],
             [
              1,
              "#f0f921"
             ]
            ],
            "type": "contour"
           }
          ],
          "contourcarpet": [
           {
            "colorbar": {
             "outlinewidth": 0,
             "ticks": ""
            },
            "type": "contourcarpet"
           }
          ],
          "heatmap": [
           {
            "colorbar": {
             "outlinewidth": 0,
             "ticks": ""
            },
            "colorscale": [
             [
              0,
              "#0d0887"
             ],
             [
              0.1111111111111111,
              "#46039f"
             ],
             [
              0.2222222222222222,
              "#7201a8"
             ],
             [
              0.3333333333333333,
              "#9c179e"
             ],
             [
              0.4444444444444444,
              "#bd3786"
             ],
             [
              0.5555555555555556,
              "#d8576b"
             ],
             [
              0.6666666666666666,
              "#ed7953"
             ],
             [
              0.7777777777777778,
              "#fb9f3a"
             ],
             [
              0.8888888888888888,
              "#fdca26"
             ],
             [
              1,
              "#f0f921"
             ]
            ],
            "type": "heatmap"
           }
          ],
          "heatmapgl": [
           {
            "colorbar": {
             "outlinewidth": 0,
             "ticks": ""
            },
            "colorscale": [
             [
              0,
              "#0d0887"
             ],
             [
              0.1111111111111111,
              "#46039f"
             ],
             [
              0.2222222222222222,
              "#7201a8"
             ],
             [
              0.3333333333333333,
              "#9c179e"
             ],
             [
              0.4444444444444444,
              "#bd3786"
             ],
             [
              0.5555555555555556,
              "#d8576b"
             ],
             [
              0.6666666666666666,
              "#ed7953"
             ],
             [
              0.7777777777777778,
              "#fb9f3a"
             ],
             [
              0.8888888888888888,
              "#fdca26"
             ],
             [
              1,
              "#f0f921"
             ]
            ],
            "type": "heatmapgl"
           }
          ],
          "histogram": [
           {
            "marker": {
             "pattern": {
              "fillmode": "overlay",
              "size": 10,
              "solidity": 0.2
             }
            },
            "type": "histogram"
           }
          ],
          "histogram2d": [
           {
            "colorbar": {
             "outlinewidth": 0,
             "ticks": ""
            },
            "colorscale": [
             [
              0,
              "#0d0887"
             ],
             [
              0.1111111111111111,
              "#46039f"
             ],
             [
              0.2222222222222222,
              "#7201a8"
             ],
             [
              0.3333333333333333,
              "#9c179e"
             ],
             [
              0.4444444444444444,
              "#bd3786"
             ],
             [
              0.5555555555555556,
              "#d8576b"
             ],
             [
              0.6666666666666666,
              "#ed7953"
             ],
             [
              0.7777777777777778,
              "#fb9f3a"
             ],
             [
              0.8888888888888888,
              "#fdca26"
             ],
             [
              1,
              "#f0f921"
             ]
            ],
            "type": "histogram2d"
           }
          ],
          "histogram2dcontour": [
           {
            "colorbar": {
             "outlinewidth": 0,
             "ticks": ""
            },
            "colorscale": [
             [
              0,
              "#0d0887"
             ],
             [
              0.1111111111111111,
              "#46039f"
             ],
             [
              0.2222222222222222,
              "#7201a8"
             ],
             [
              0.3333333333333333,
              "#9c179e"
             ],
             [
              0.4444444444444444,
              "#bd3786"
             ],
             [
              0.5555555555555556,
              "#d8576b"
             ],
             [
              0.6666666666666666,
              "#ed7953"
             ],
             [
              0.7777777777777778,
              "#fb9f3a"
             ],
             [
              0.8888888888888888,
              "#fdca26"
             ],
             [
              1,
              "#f0f921"
             ]
            ],
            "type": "histogram2dcontour"
           }
          ],
          "mesh3d": [
           {
            "colorbar": {
             "outlinewidth": 0,
             "ticks": ""
            },
            "type": "mesh3d"
           }
          ],
          "parcoords": [
           {
            "line": {
             "colorbar": {
              "outlinewidth": 0,
              "ticks": ""
             }
            },
            "type": "parcoords"
           }
          ],
          "pie": [
           {
            "automargin": true,
            "type": "pie"
           }
          ],
          "scatter": [
           {
            "fillpattern": {
             "fillmode": "overlay",
             "size": 10,
             "solidity": 0.2
            },
            "type": "scatter"
           }
          ],
          "scatter3d": [
           {
            "line": {
             "colorbar": {
              "outlinewidth": 0,
              "ticks": ""
             }
            },
            "marker": {
             "colorbar": {
              "outlinewidth": 0,
              "ticks": ""
             }
            },
            "type": "scatter3d"
           }
          ],
          "scattercarpet": [
           {
            "marker": {
             "colorbar": {
              "outlinewidth": 0,
              "ticks": ""
             }
            },
            "type": "scattercarpet"
           }
          ],
          "scattergeo": [
           {
            "marker": {
             "colorbar": {
              "outlinewidth": 0,
              "ticks": ""
             }
            },
            "type": "scattergeo"
           }
          ],
          "scattergl": [
           {
            "marker": {
             "colorbar": {
              "outlinewidth": 0,
              "ticks": ""
             }
            },
            "type": "scattergl"
           }
          ],
          "scattermapbox": [
           {
            "marker": {
             "colorbar": {
              "outlinewidth": 0,
              "ticks": ""
             }
            },
            "type": "scattermapbox"
           }
          ],
          "scatterpolar": [
           {
            "marker": {
             "colorbar": {
              "outlinewidth": 0,
              "ticks": ""
             }
            },
            "type": "scatterpolar"
           }
          ],
          "scatterpolargl": [
           {
            "marker": {
             "colorbar": {
              "outlinewidth": 0,
              "ticks": ""
             }
            },
            "type": "scatterpolargl"
           }
          ],
          "scatterternary": [
           {
            "marker": {
             "colorbar": {
              "outlinewidth": 0,
              "ticks": ""
             }
            },
            "type": "scatterternary"
           }
          ],
          "surface": [
           {
            "colorbar": {
             "outlinewidth": 0,
             "ticks": ""
            },
            "colorscale": [
             [
              0,
              "#0d0887"
             ],
             [
              0.1111111111111111,
              "#46039f"
             ],
             [
              0.2222222222222222,
              "#7201a8"
             ],
             [
              0.3333333333333333,
              "#9c179e"
             ],
             [
              0.4444444444444444,
              "#bd3786"
             ],
             [
              0.5555555555555556,
              "#d8576b"
             ],
             [
              0.6666666666666666,
              "#ed7953"
             ],
             [
              0.7777777777777778,
              "#fb9f3a"
             ],
             [
              0.8888888888888888,
              "#fdca26"
             ],
             [
              1,
              "#f0f921"
             ]
            ],
            "type": "surface"
           }
          ],
          "table": [
           {
            "cells": {
             "fill": {
              "color": "#EBF0F8"
             },
             "line": {
              "color": "white"
             }
            },
            "header": {
             "fill": {
              "color": "#C8D4E3"
             },
             "line": {
              "color": "white"
             }
            },
            "type": "table"
           }
          ]
         },
         "layout": {
          "annotationdefaults": {
           "arrowcolor": "#2a3f5f",
           "arrowhead": 0,
           "arrowwidth": 1
          },
          "autotypenumbers": "strict",
          "coloraxis": {
           "colorbar": {
            "outlinewidth": 0,
            "ticks": ""
           }
          },
          "colorscale": {
           "diverging": [
            [
             0,
             "#8e0152"
            ],
            [
             0.1,
             "#c51b7d"
            ],
            [
             0.2,
             "#de77ae"
            ],
            [
             0.3,
             "#f1b6da"
            ],
            [
             0.4,
             "#fde0ef"
            ],
            [
             0.5,
             "#f7f7f7"
            ],
            [
             0.6,
             "#e6f5d0"
            ],
            [
             0.7,
             "#b8e186"
            ],
            [
             0.8,
             "#7fbc41"
            ],
            [
             0.9,
             "#4d9221"
            ],
            [
             1,
             "#276419"
            ]
           ],
           "sequential": [
            [
             0,
             "#0d0887"
            ],
            [
             0.1111111111111111,
             "#46039f"
            ],
            [
             0.2222222222222222,
             "#7201a8"
            ],
            [
             0.3333333333333333,
             "#9c179e"
            ],
            [
             0.4444444444444444,
             "#bd3786"
            ],
            [
             0.5555555555555556,
             "#d8576b"
            ],
            [
             0.6666666666666666,
             "#ed7953"
            ],
            [
             0.7777777777777778,
             "#fb9f3a"
            ],
            [
             0.8888888888888888,
             "#fdca26"
            ],
            [
             1,
             "#f0f921"
            ]
           ],
           "sequentialminus": [
            [
             0,
             "#0d0887"
            ],
            [
             0.1111111111111111,
             "#46039f"
            ],
            [
             0.2222222222222222,
             "#7201a8"
            ],
            [
             0.3333333333333333,
             "#9c179e"
            ],
            [
             0.4444444444444444,
             "#bd3786"
            ],
            [
             0.5555555555555556,
             "#d8576b"
            ],
            [
             0.6666666666666666,
             "#ed7953"
            ],
            [
             0.7777777777777778,
             "#fb9f3a"
            ],
            [
             0.8888888888888888,
             "#fdca26"
            ],
            [
             1,
             "#f0f921"
            ]
           ]
          },
          "colorway": [
           "#636efa",
           "#EF553B",
           "#00cc96",
           "#ab63fa",
           "#FFA15A",
           "#19d3f3",
           "#FF6692",
           "#B6E880",
           "#FF97FF",
           "#FECB52"
          ],
          "font": {
           "color": "#2a3f5f"
          },
          "geo": {
           "bgcolor": "white",
           "lakecolor": "white",
           "landcolor": "#E5ECF6",
           "showlakes": true,
           "showland": true,
           "subunitcolor": "white"
          },
          "hoverlabel": {
           "align": "left"
          },
          "hovermode": "closest",
          "mapbox": {
           "style": "light"
          },
          "paper_bgcolor": "white",
          "plot_bgcolor": "#E5ECF6",
          "polar": {
           "angularaxis": {
            "gridcolor": "white",
            "linecolor": "white",
            "ticks": ""
           },
           "bgcolor": "#E5ECF6",
           "radialaxis": {
            "gridcolor": "white",
            "linecolor": "white",
            "ticks": ""
           }
          },
          "scene": {
           "xaxis": {
            "backgroundcolor": "#E5ECF6",
            "gridcolor": "white",
            "gridwidth": 2,
            "linecolor": "white",
            "showbackground": true,
            "ticks": "",
            "zerolinecolor": "white"
           },
           "yaxis": {
            "backgroundcolor": "#E5ECF6",
            "gridcolor": "white",
            "gridwidth": 2,
            "linecolor": "white",
            "showbackground": true,
            "ticks": "",
            "zerolinecolor": "white"
           },
           "zaxis": {
            "backgroundcolor": "#E5ECF6",
            "gridcolor": "white",
            "gridwidth": 2,
            "linecolor": "white",
            "showbackground": true,
            "ticks": "",
            "zerolinecolor": "white"
           }
          },
          "shapedefaults": {
           "line": {
            "color": "#2a3f5f"
           }
          },
          "ternary": {
           "aaxis": {
            "gridcolor": "white",
            "linecolor": "white",
            "ticks": ""
           },
           "baxis": {
            "gridcolor": "white",
            "linecolor": "white",
            "ticks": ""
           },
           "bgcolor": "#E5ECF6",
           "caxis": {
            "gridcolor": "white",
            "linecolor": "white",
            "ticks": ""
           }
          },
          "title": {
           "x": 0.05
          },
          "xaxis": {
           "automargin": true,
           "gridcolor": "white",
           "linecolor": "white",
           "ticks": "",
           "title": {
            "standoff": 15
           },
           "zerolinecolor": "white",
           "zerolinewidth": 2
          },
          "yaxis": {
           "automargin": true,
           "gridcolor": "white",
           "linecolor": "white",
           "ticks": "",
           "title": {
            "standoff": 15
           },
           "zerolinecolor": "white",
           "zerolinewidth": 2
          }
         }
        },
        "width": 900,
        "xaxis": {
         "anchor": "y",
         "constrain": "domain",
         "domain": [
          0,
          1
         ],
         "scaleanchor": "y",
         "tickfont": {
          "size": 8
         }
        },
        "yaxis": {
         "anchor": "x",
         "autorange": "reversed",
         "constrain": "domain",
         "domain": [
          0,
          1
         ],
         "tickfont": {
          "size": 8
         }
        }
       }
      }
     },
     "metadata": {},
     "output_type": "display_data"
    },
    {
     "data": {
      "application/vnd.plotly.v1+json": {
       "config": {
        "plotlyServerURL": "https://plot.ly"
       },
       "data": [
        {
         "coloraxis": "coloraxis",
         "hoverongaps": false,
         "hovertemplate": "x: %{x}<br>y: %{y}<br>color: %{z}<extra></extra>",
         "name": "0",
         "type": "heatmap",
         "x": [
          "PFK",
          "PGK_rev",
          "PGK",
          "PGL",
          "PGM_rev",
          "PGM",
          "ALCD2x_rev",
          "ALCD2x",
          "PPCK",
          "PPS",
          "PYK",
          "RPE",
          "RPI_rev",
          "RPI",
          "ENO",
          "TKT1",
          "TPI",
          "FBA",
          "FBP",
          "GAPD",
          "GND"
         ],
         "xaxis": "x",
         "xgap": 1,
         "y": [
          "PFK",
          "PGK_rev",
          "PGK",
          "PGL",
          "PGM_rev",
          "PGM",
          "ALCD2x_rev",
          "ALCD2x",
          "PPCK",
          "PPS",
          "PYK",
          "RPE",
          "RPI_rev",
          "RPI",
          "ENO",
          "TKT1",
          "TPI",
          "FBA",
          "FBP",
          "GAPD",
          "GND"
         ],
         "yaxis": "y",
         "ygap": 1,
         "z": [
          [
           0,
           0,
           0,
           0,
           0,
           0,
           0,
           0,
           0,
           0,
           0,
           0,
           0,
           0,
           0,
           0,
           0,
           0,
           0,
           0,
           0
          ],
          [
           0,
           0,
           0,
           0,
           0,
           0,
           0,
           0,
           0,
           0,
           0,
           0,
           0,
           0,
           0,
           0,
           0,
           0,
           0,
           0,
           0
          ],
          [
           0,
           0,
           0,
           0,
           0,
           0,
           0,
           0,
           0,
           0,
           0,
           0,
           0,
           0,
           0,
           0,
           0,
           0,
           0,
           0,
           0
          ],
          [
           0,
           0,
           0,
           0,
           0,
           0,
           0,
           0,
           0,
           0,
           0,
           0,
           0,
           0,
           0,
           0,
           0,
           0,
           0,
           0,
           0
          ],
          [
           0,
           0,
           0,
           0,
           0,
           0,
           0,
           0,
           0,
           0,
           0,
           0,
           0,
           0,
           0,
           0,
           0,
           0,
           0,
           0,
           0
          ],
          [
           0,
           0,
           0,
           0,
           0,
           0,
           0,
           0,
           0,
           0,
           0,
           0,
           0,
           0,
           0,
           0,
           0,
           0,
           0,
           0,
           0
          ],
          [
           0,
           0,
           0,
           0,
           0,
           0,
           0,
           0,
           0,
           0,
           0,
           0,
           0,
           0,
           0,
           0,
           0,
           0,
           0,
           0,
           0
          ],
          [
           0,
           0,
           0,
           0,
           0,
           0,
           0,
           0,
           0,
           0,
           0,
           0,
           0,
           0,
           0,
           0,
           0,
           0,
           0,
           0,
           0
          ],
          [
           0,
           0,
           0,
           0,
           0,
           0,
           0,
           0,
           0,
           0,
           0,
           0,
           0,
           0,
           0,
           0,
           0,
           0,
           0,
           0,
           0
          ],
          [
           0,
           0,
           0,
           0,
           0,
           0,
           0,
           0,
           0,
           0,
           0,
           0,
           0,
           0,
           0,
           0,
           0,
           0,
           0,
           0,
           0
          ],
          [
           0,
           0,
           0,
           0,
           0,
           0,
           0,
           0,
           0,
           0,
           0,
           0,
           0,
           0,
           0,
           0,
           0,
           0,
           0,
           0,
           0
          ],
          [
           0,
           0,
           0,
           0,
           0,
           0,
           0,
           0,
           0,
           0,
           0,
           0,
           0,
           0,
           0,
           0,
           0,
           0,
           0,
           0,
           0
          ],
          [
           0,
           0,
           0,
           0,
           0,
           0,
           0,
           0,
           0,
           0,
           0,
           0,
           0,
           0,
           0,
           0,
           0,
           0,
           0,
           0,
           0
          ],
          [
           0,
           0,
           0,
           0,
           0,
           0,
           0,
           0,
           0,
           0,
           0,
           0,
           0,
           0,
           0,
           0,
           0,
           0,
           0,
           0,
           0
          ],
          [
           0,
           0,
           0,
           0,
           0,
           0,
           0,
           0,
           0,
           0,
           0,
           0,
           0,
           0,
           0,
           0,
           0,
           0,
           0,
           0,
           0
          ],
          [
           0,
           0,
           0,
           0,
           0,
           0,
           0,
           0,
           0,
           0,
           0,
           0,
           0,
           0,
           0,
           0,
           0,
           0,
           0,
           0,
           0
          ],
          [
           0,
           0,
           0,
           0,
           0,
           0,
           0,
           0,
           0,
           0,
           0,
           0,
           0,
           0,
           0,
           0,
           0,
           0,
           0,
           0,
           0
          ],
          [
           0,
           0,
           0,
           0,
           0,
           0,
           0,
           0,
           0,
           0,
           0,
           0,
           0,
           0,
           0,
           0,
           0,
           0,
           0,
           0,
           0
          ],
          [
           0,
           0,
           0,
           0,
           0,
           0,
           0,
           0,
           0,
           0,
           0,
           0,
           0,
           0,
           0,
           0,
           0,
           0,
           0,
           0,
           0
          ],
          [
           0,
           0,
           0,
           0,
           0,
           0,
           0,
           0,
           0,
           0,
           0,
           0,
           0,
           0,
           0,
           0,
           0,
           0,
           0,
           0,
           0
          ],
          [
           0,
           0,
           0,
           0,
           0,
           0,
           0,
           0,
           0,
           0,
           0,
           0,
           0,
           0,
           0,
           0,
           0,
           0,
           0,
           0,
           0
          ]
         ]
        }
       ],
       "layout": {
        "coloraxis": {
         "cmax": 1,
         "cmin": -1,
         "colorscale": [
          [
           0,
           "#d73027"
          ],
          [
           0.5,
           "#f7f7f7"
          ],
          [
           1,
           "#4575b4"
          ]
         ]
        },
        "height": 900,
        "margin": {
         "t": 60
        },
        "plot_bgcolor": "rgba(0,0,0,0)",
        "template": {
         "data": {
          "bar": [
           {
            "error_x": {
             "color": "#2a3f5f"
            },
            "error_y": {
             "color": "#2a3f5f"
            },
            "marker": {
             "line": {
              "color": "#E5ECF6",
              "width": 0.5
             },
             "pattern": {
              "fillmode": "overlay",
              "size": 10,
              "solidity": 0.2
             }
            },
            "type": "bar"
           }
          ],
          "barpolar": [
           {
            "marker": {
             "line": {
              "color": "#E5ECF6",
              "width": 0.5
             },
             "pattern": {
              "fillmode": "overlay",
              "size": 10,
              "solidity": 0.2
             }
            },
            "type": "barpolar"
           }
          ],
          "carpet": [
           {
            "aaxis": {
             "endlinecolor": "#2a3f5f",
             "gridcolor": "white",
             "linecolor": "white",
             "minorgridcolor": "white",
             "startlinecolor": "#2a3f5f"
            },
            "baxis": {
             "endlinecolor": "#2a3f5f",
             "gridcolor": "white",
             "linecolor": "white",
             "minorgridcolor": "white",
             "startlinecolor": "#2a3f5f"
            },
            "type": "carpet"
           }
          ],
          "choropleth": [
           {
            "colorbar": {
             "outlinewidth": 0,
             "ticks": ""
            },
            "type": "choropleth"
           }
          ],
          "contour": [
           {
            "colorbar": {
             "outlinewidth": 0,
             "ticks": ""
            },
            "colorscale": [
             [
              0,
              "#0d0887"
             ],
             [
              0.1111111111111111,
              "#46039f"
             ],
             [
              0.2222222222222222,
              "#7201a8"
             ],
             [
              0.3333333333333333,
              "#9c179e"
             ],
             [
              0.4444444444444444,
              "#bd3786"
             ],
             [
              0.5555555555555556,
              "#d8576b"
             ],
             [
              0.6666666666666666,
              "#ed7953"
             ],
             [
              0.7777777777777778,
              "#fb9f3a"
             ],
             [
              0.8888888888888888,
              "#fdca26"
             ],
             [
              1,
              "#f0f921"
             ]
            ],
            "type": "contour"
           }
          ],
          "contourcarpet": [
           {
            "colorbar": {
             "outlinewidth": 0,
             "ticks": ""
            },
            "type": "contourcarpet"
           }
          ],
          "heatmap": [
           {
            "colorbar": {
             "outlinewidth": 0,
             "ticks": ""
            },
            "colorscale": [
             [
              0,
              "#0d0887"
             ],
             [
              0.1111111111111111,
              "#46039f"
             ],
             [
              0.2222222222222222,
              "#7201a8"
             ],
             [
              0.3333333333333333,
              "#9c179e"
             ],
             [
              0.4444444444444444,
              "#bd3786"
             ],
             [
              0.5555555555555556,
              "#d8576b"
             ],
             [
              0.6666666666666666,
              "#ed7953"
             ],
             [
              0.7777777777777778,
              "#fb9f3a"
             ],
             [
              0.8888888888888888,
              "#fdca26"
             ],
             [
              1,
              "#f0f921"
             ]
            ],
            "type": "heatmap"
           }
          ],
          "heatmapgl": [
           {
            "colorbar": {
             "outlinewidth": 0,
             "ticks": ""
            },
            "colorscale": [
             [
              0,
              "#0d0887"
             ],
             [
              0.1111111111111111,
              "#46039f"
             ],
             [
              0.2222222222222222,
              "#7201a8"
             ],
             [
              0.3333333333333333,
              "#9c179e"
             ],
             [
              0.4444444444444444,
              "#bd3786"
             ],
             [
              0.5555555555555556,
              "#d8576b"
             ],
             [
              0.6666666666666666,
              "#ed7953"
             ],
             [
              0.7777777777777778,
              "#fb9f3a"
             ],
             [
              0.8888888888888888,
              "#fdca26"
             ],
             [
              1,
              "#f0f921"
             ]
            ],
            "type": "heatmapgl"
           }
          ],
          "histogram": [
           {
            "marker": {
             "pattern": {
              "fillmode": "overlay",
              "size": 10,
              "solidity": 0.2
             }
            },
            "type": "histogram"
           }
          ],
          "histogram2d": [
           {
            "colorbar": {
             "outlinewidth": 0,
             "ticks": ""
            },
            "colorscale": [
             [
              0,
              "#0d0887"
             ],
             [
              0.1111111111111111,
              "#46039f"
             ],
             [
              0.2222222222222222,
              "#7201a8"
             ],
             [
              0.3333333333333333,
              "#9c179e"
             ],
             [
              0.4444444444444444,
              "#bd3786"
             ],
             [
              0.5555555555555556,
              "#d8576b"
             ],
             [
              0.6666666666666666,
              "#ed7953"
             ],
             [
              0.7777777777777778,
              "#fb9f3a"
             ],
             [
              0.8888888888888888,
              "#fdca26"
             ],
             [
              1,
              "#f0f921"
             ]
            ],
            "type": "histogram2d"
           }
          ],
          "histogram2dcontour": [
           {
            "colorbar": {
             "outlinewidth": 0,
             "ticks": ""
            },
            "colorscale": [
             [
              0,
              "#0d0887"
             ],
             [
              0.1111111111111111,
              "#46039f"
             ],
             [
              0.2222222222222222,
              "#7201a8"
             ],
             [
              0.3333333333333333,
              "#9c179e"
             ],
             [
              0.4444444444444444,
              "#bd3786"
             ],
             [
              0.5555555555555556,
              "#d8576b"
             ],
             [
              0.6666666666666666,
              "#ed7953"
             ],
             [
              0.7777777777777778,
              "#fb9f3a"
             ],
             [
              0.8888888888888888,
              "#fdca26"
             ],
             [
              1,
              "#f0f921"
             ]
            ],
            "type": "histogram2dcontour"
           }
          ],
          "mesh3d": [
           {
            "colorbar": {
             "outlinewidth": 0,
             "ticks": ""
            },
            "type": "mesh3d"
           }
          ],
          "parcoords": [
           {
            "line": {
             "colorbar": {
              "outlinewidth": 0,
              "ticks": ""
             }
            },
            "type": "parcoords"
           }
          ],
          "pie": [
           {
            "automargin": true,
            "type": "pie"
           }
          ],
          "scatter": [
           {
            "fillpattern": {
             "fillmode": "overlay",
             "size": 10,
             "solidity": 0.2
            },
            "type": "scatter"
           }
          ],
          "scatter3d": [
           {
            "line": {
             "colorbar": {
              "outlinewidth": 0,
              "ticks": ""
             }
            },
            "marker": {
             "colorbar": {
              "outlinewidth": 0,
              "ticks": ""
             }
            },
            "type": "scatter3d"
           }
          ],
          "scattercarpet": [
           {
            "marker": {
             "colorbar": {
              "outlinewidth": 0,
              "ticks": ""
             }
            },
            "type": "scattercarpet"
           }
          ],
          "scattergeo": [
           {
            "marker": {
             "colorbar": {
              "outlinewidth": 0,
              "ticks": ""
             }
            },
            "type": "scattergeo"
           }
          ],
          "scattergl": [
           {
            "marker": {
             "colorbar": {
              "outlinewidth": 0,
              "ticks": ""
             }
            },
            "type": "scattergl"
           }
          ],
          "scattermapbox": [
           {
            "marker": {
             "colorbar": {
              "outlinewidth": 0,
              "ticks": ""
             }
            },
            "type": "scattermapbox"
           }
          ],
          "scatterpolar": [
           {
            "marker": {
             "colorbar": {
              "outlinewidth": 0,
              "ticks": ""
             }
            },
            "type": "scatterpolar"
           }
          ],
          "scatterpolargl": [
           {
            "marker": {
             "colorbar": {
              "outlinewidth": 0,
              "ticks": ""
             }
            },
            "type": "scatterpolargl"
           }
          ],
          "scatterternary": [
           {
            "marker": {
             "colorbar": {
              "outlinewidth": 0,
              "ticks": ""
             }
            },
            "type": "scatterternary"
           }
          ],
          "surface": [
           {
            "colorbar": {
             "outlinewidth": 0,
             "ticks": ""
            },
            "colorscale": [
             [
              0,
              "#0d0887"
             ],
             [
              0.1111111111111111,
              "#46039f"
             ],
             [
              0.2222222222222222,
              "#7201a8"
             ],
             [
              0.3333333333333333,
              "#9c179e"
             ],
             [
              0.4444444444444444,
              "#bd3786"
             ],
             [
              0.5555555555555556,
              "#d8576b"
             ],
             [
              0.6666666666666666,
              "#ed7953"
             ],
             [
              0.7777777777777778,
              "#fb9f3a"
             ],
             [
              0.8888888888888888,
              "#fdca26"
             ],
             [
              1,
              "#f0f921"
             ]
            ],
            "type": "surface"
           }
          ],
          "table": [
           {
            "cells": {
             "fill": {
              "color": "#EBF0F8"
             },
             "line": {
              "color": "white"
             }
            },
            "header": {
             "fill": {
              "color": "#C8D4E3"
             },
             "line": {
              "color": "white"
             }
            },
            "type": "table"
           }
          ]
         },
         "layout": {
          "annotationdefaults": {
           "arrowcolor": "#2a3f5f",
           "arrowhead": 0,
           "arrowwidth": 1
          },
          "autotypenumbers": "strict",
          "coloraxis": {
           "colorbar": {
            "outlinewidth": 0,
            "ticks": ""
           }
          },
          "colorscale": {
           "diverging": [
            [
             0,
             "#8e0152"
            ],
            [
             0.1,
             "#c51b7d"
            ],
            [
             0.2,
             "#de77ae"
            ],
            [
             0.3,
             "#f1b6da"
            ],
            [
             0.4,
             "#fde0ef"
            ],
            [
             0.5,
             "#f7f7f7"
            ],
            [
             0.6,
             "#e6f5d0"
            ],
            [
             0.7,
             "#b8e186"
            ],
            [
             0.8,
             "#7fbc41"
            ],
            [
             0.9,
             "#4d9221"
            ],
            [
             1,
             "#276419"
            ]
           ],
           "sequential": [
            [
             0,
             "#0d0887"
            ],
            [
             0.1111111111111111,
             "#46039f"
            ],
            [
             0.2222222222222222,
             "#7201a8"
            ],
            [
             0.3333333333333333,
             "#9c179e"
            ],
            [
             0.4444444444444444,
             "#bd3786"
            ],
            [
             0.5555555555555556,
             "#d8576b"
            ],
            [
             0.6666666666666666,
             "#ed7953"
            ],
            [
             0.7777777777777778,
             "#fb9f3a"
            ],
            [
             0.8888888888888888,
             "#fdca26"
            ],
            [
             1,
             "#f0f921"
            ]
           ],
           "sequentialminus": [
            [
             0,
             "#0d0887"
            ],
            [
             0.1111111111111111,
             "#46039f"
            ],
            [
             0.2222222222222222,
             "#7201a8"
            ],
            [
             0.3333333333333333,
             "#9c179e"
            ],
            [
             0.4444444444444444,
             "#bd3786"
            ],
            [
             0.5555555555555556,
             "#d8576b"
            ],
            [
             0.6666666666666666,
             "#ed7953"
            ],
            [
             0.7777777777777778,
             "#fb9f3a"
            ],
            [
             0.8888888888888888,
             "#fdca26"
            ],
            [
             1,
             "#f0f921"
            ]
           ]
          },
          "colorway": [
           "#636efa",
           "#EF553B",
           "#00cc96",
           "#ab63fa",
           "#FFA15A",
           "#19d3f3",
           "#FF6692",
           "#B6E880",
           "#FF97FF",
           "#FECB52"
          ],
          "font": {
           "color": "#2a3f5f"
          },
          "geo": {
           "bgcolor": "white",
           "lakecolor": "white",
           "landcolor": "#E5ECF6",
           "showlakes": true,
           "showland": true,
           "subunitcolor": "white"
          },
          "hoverlabel": {
           "align": "left"
          },
          "hovermode": "closest",
          "mapbox": {
           "style": "light"
          },
          "paper_bgcolor": "white",
          "plot_bgcolor": "#E5ECF6",
          "polar": {
           "angularaxis": {
            "gridcolor": "white",
            "linecolor": "white",
            "ticks": ""
           },
           "bgcolor": "#E5ECF6",
           "radialaxis": {
            "gridcolor": "white",
            "linecolor": "white",
            "ticks": ""
           }
          },
          "scene": {
           "xaxis": {
            "backgroundcolor": "#E5ECF6",
            "gridcolor": "white",
            "gridwidth": 2,
            "linecolor": "white",
            "showbackground": true,
            "ticks": "",
            "zerolinecolor": "white"
           },
           "yaxis": {
            "backgroundcolor": "#E5ECF6",
            "gridcolor": "white",
            "gridwidth": 2,
            "linecolor": "white",
            "showbackground": true,
            "ticks": "",
            "zerolinecolor": "white"
           },
           "zaxis": {
            "backgroundcolor": "#E5ECF6",
            "gridcolor": "white",
            "gridwidth": 2,
            "linecolor": "white",
            "showbackground": true,
            "ticks": "",
            "zerolinecolor": "white"
           }
          },
          "shapedefaults": {
           "line": {
            "color": "#2a3f5f"
           }
          },
          "ternary": {
           "aaxis": {
            "gridcolor": "white",
            "linecolor": "white",
            "ticks": ""
           },
           "baxis": {
            "gridcolor": "white",
            "linecolor": "white",
            "ticks": ""
           },
           "bgcolor": "#E5ECF6",
           "caxis": {
            "gridcolor": "white",
            "linecolor": "white",
            "ticks": ""
           }
          },
          "title": {
           "x": 0.05
          },
          "xaxis": {
           "automargin": true,
           "gridcolor": "white",
           "linecolor": "white",
           "ticks": "",
           "title": {
            "standoff": 15
           },
           "zerolinecolor": "white",
           "zerolinewidth": 2
          },
          "yaxis": {
           "automargin": true,
           "gridcolor": "white",
           "linecolor": "white",
           "ticks": "",
           "title": {
            "standoff": 15
           },
           "zerolinecolor": "white",
           "zerolinewidth": 2
          }
         }
        },
        "width": 900,
        "xaxis": {
         "anchor": "y",
         "constrain": "domain",
         "domain": [
          0,
          1
         ],
         "scaleanchor": "y",
         "tickfont": {
          "size": 8
         }
        },
        "yaxis": {
         "anchor": "x",
         "autorange": "reversed",
         "constrain": "domain",
         "domain": [
          0,
          1
         ],
         "tickfont": {
          "size": 8
         }
        }
       }
      }
     },
     "metadata": {},
     "output_type": "display_data"
    },
    {
     "data": {
      "application/vnd.plotly.v1+json": {
       "config": {
        "plotlyServerURL": "https://plot.ly"
       },
       "data": [
        {
         "coloraxis": "coloraxis",
         "hoverongaps": false,
         "hovertemplate": "x: %{x}<br>y: %{y}<br>color: %{z}<extra></extra>",
         "name": "0",
         "type": "heatmap",
         "x": [
          "PFK",
          "PGK_rev",
          "PGK",
          "PGL",
          "PGM_rev",
          "PGM",
          "ALCD2x_rev",
          "ALCD2x",
          "PPCK",
          "PPS",
          "PYK",
          "RPE",
          "RPI_rev",
          "RPI",
          "ENO",
          "TKT1",
          "TPI",
          "FBA",
          "FBP",
          "GAPD",
          "GND"
         ],
         "xaxis": "x",
         "xgap": 1,
         "y": [
          "PFK",
          "PGK_rev",
          "PGK",
          "PGL",
          "PGM_rev",
          "PGM",
          "ALCD2x_rev",
          "ALCD2x",
          "PPCK",
          "PPS",
          "PYK",
          "RPE",
          "RPI_rev",
          "RPI",
          "ENO",
          "TKT1",
          "TPI",
          "FBA",
          "FBP",
          "GAPD",
          "GND"
         ],
         "yaxis": "y",
         "ygap": 1,
         "z": [
          [
           1,
           0,
           0,
           0,
           0,
           0,
           0,
           0,
           0,
           0,
           0,
           0,
           0,
           0,
           0,
           0,
           0,
           0.8349392350694164,
           0.5700026092771615,
           0,
           0
          ],
          [
           0,
           1,
           -0.9999999999999999,
           0,
           0.9999872012669269,
           -0.9999872012669269,
           0,
           0,
           0,
           0,
           0,
           0,
           0,
           0,
           0,
           0,
           0,
           0,
           0,
           0.9999999999999999,
           0
          ],
          [
           0,
           -0.9999999999999999,
           1,
           0,
           -0.9999872012669269,
           0.9999872012669269,
           0,
           0,
           0,
           0,
           0,
           0,
           0,
           0,
           0,
           0,
           0,
           0,
           0,
           -0.9999999999999999,
           0
          ],
          [
           0,
           0,
           0,
           1,
           0,
           0,
           0,
           0,
           0,
           0,
           0,
           0,
           0,
           0,
           0,
           0,
           0,
           0,
           0,
           0,
           1
          ],
          [
           0,
           0.9999872012669269,
           -0.9999872012669269,
           0,
           1,
           -1,
           0,
           0,
           0,
           0,
           0,
           0,
           0,
           0,
           1,
           0,
           0,
           0,
           0,
           0,
           0
          ],
          [
           0,
           -0.9999872012669269,
           0.9999872012669269,
           0,
           -1,
           1,
           0,
           0,
           0,
           0,
           0,
           0,
           0,
           0,
           -1,
           0,
           0,
           0,
           0,
           0,
           0
          ],
          [
           0,
           0,
           0,
           0,
           0,
           0,
           1,
           -0.9999999999999998,
           0,
           0,
           0,
           0,
           0,
           0,
           0,
           0,
           0,
           0,
           0,
           0,
           0
          ],
          [
           0,
           0,
           0,
           0,
           0,
           0,
           -0.9999999999999998,
           1,
           0,
           0,
           0,
           0,
           0,
           0,
           0,
           0,
           0,
           0,
           0,
           0,
           0
          ],
          [
           0,
           0,
           0,
           0,
           0,
           0,
           0,
           0,
           1,
           0,
           0,
           0,
           0,
           0,
           0,
           0,
           0,
           0,
           0,
           0,
           0
          ],
          [
           0,
           0,
           0,
           0,
           0,
           0,
           0,
           0,
           0,
           1,
           0,
           0,
           0,
           0,
           0,
           0,
           0,
           0,
           0,
           0,
           0
          ],
          [
           0,
           0,
           0,
           0,
           0,
           0,
           0,
           0,
           0,
           0,
           1,
           0,
           0,
           0,
           0,
           0,
           0,
           0,
           0,
           0,
           0
          ],
          [
           0,
           0,
           0,
           0,
           0,
           0,
           0,
           0,
           0,
           0,
           0,
           1,
           0.9999933584323257,
           -0.9999933584323257,
           0,
           0.9999998138979612,
           0,
           0,
           0,
           0,
           0.9999992621495702
          ],
          [
           0,
           0,
           0,
           0,
           0,
           0,
           0,
           0,
           0,
           0,
           0,
           0.9999933584323257,
           1,
           -1,
           0,
           0.9999953958468177,
           0,
           0,
           0,
           0,
           0.9999970479857994
          ],
          [
           0,
           0,
           0,
           0,
           0,
           0,
           0,
           0,
           0,
           0,
           0,
           -0.9999933584323257,
           -1,
           1,
           0,
           -0.9999953958468177,
           0,
           0,
           0,
           0,
           -0.9999970479857994
          ],
          [
           0,
           0,
           0,
           0,
           1,
           -1,
           0,
           0,
           0,
           0,
           0,
           0,
           0,
           0,
           1,
           0,
           0,
           0,
           0,
           0,
           0
          ],
          [
           0,
           0,
           0,
           0,
           0,
           0,
           0,
           0,
           0,
           0,
           0,
           0.9999998138979612,
           0.9999953958468177,
           -0.9999953958468177,
           0,
           1,
           -0.9999921304606955,
           -0.9999921304606955,
           0,
           -0.9999539946421877,
           0
          ],
          [
           0,
           0,
           0,
           0,
           0,
           0,
           0,
           0,
           0,
           0,
           0,
           0,
           0,
           0,
           0,
           -0.9999921304606955,
           1,
           0.9999999999999999,
           0,
           0.9999841797009091,
           0
          ],
          [
           0.8349392350694164,
           0,
           0,
           0,
           0,
           0,
           0,
           0,
           0,
           0,
           0,
           0,
           0,
           0,
           0,
           -0.9999921304606955,
           0.9999999999999999,
           1,
           0,
           0.9999841797009091,
           0
          ],
          [
           0.5700026092771615,
           0,
           0,
           0,
           0,
           0,
           0,
           0,
           0,
           0,
           0,
           0,
           0,
           0,
           0,
           0,
           0,
           0,
           1,
           0,
           0
          ],
          [
           0,
           0.9999999999999999,
           -0.9999999999999999,
           0,
           0,
           0,
           0,
           0,
           0,
           0,
           0,
           0,
           0,
           0,
           0,
           -0.9999539946421877,
           0.9999841797009091,
           0.9999841797009091,
           0,
           1,
           0
          ],
          [
           0,
           0,
           0,
           1,
           0,
           0,
           0,
           0,
           0,
           0,
           0,
           0.9999992621495702,
           0.9999970479857994,
           -0.9999970479857994,
           0,
           0,
           0,
           0,
           0,
           0,
           1
          ]
         ]
        }
       ],
       "layout": {
        "coloraxis": {
         "cmax": 1,
         "cmin": -1,
         "colorscale": [
          [
           0,
           "#d73027"
          ],
          [
           0.5,
           "#f7f7f7"
          ],
          [
           1,
           "#4575b4"
          ]
         ]
        },
        "height": 900,
        "margin": {
         "t": 60
        },
        "plot_bgcolor": "rgba(0,0,0,0)",
        "template": {
         "data": {
          "bar": [
           {
            "error_x": {
             "color": "#2a3f5f"
            },
            "error_y": {
             "color": "#2a3f5f"
            },
            "marker": {
             "line": {
              "color": "#E5ECF6",
              "width": 0.5
             },
             "pattern": {
              "fillmode": "overlay",
              "size": 10,
              "solidity": 0.2
             }
            },
            "type": "bar"
           }
          ],
          "barpolar": [
           {
            "marker": {
             "line": {
              "color": "#E5ECF6",
              "width": 0.5
             },
             "pattern": {
              "fillmode": "overlay",
              "size": 10,
              "solidity": 0.2
             }
            },
            "type": "barpolar"
           }
          ],
          "carpet": [
           {
            "aaxis": {
             "endlinecolor": "#2a3f5f",
             "gridcolor": "white",
             "linecolor": "white",
             "minorgridcolor": "white",
             "startlinecolor": "#2a3f5f"
            },
            "baxis": {
             "endlinecolor": "#2a3f5f",
             "gridcolor": "white",
             "linecolor": "white",
             "minorgridcolor": "white",
             "startlinecolor": "#2a3f5f"
            },
            "type": "carpet"
           }
          ],
          "choropleth": [
           {
            "colorbar": {
             "outlinewidth": 0,
             "ticks": ""
            },
            "type": "choropleth"
           }
          ],
          "contour": [
           {
            "colorbar": {
             "outlinewidth": 0,
             "ticks": ""
            },
            "colorscale": [
             [
              0,
              "#0d0887"
             ],
             [
              0.1111111111111111,
              "#46039f"
             ],
             [
              0.2222222222222222,
              "#7201a8"
             ],
             [
              0.3333333333333333,
              "#9c179e"
             ],
             [
              0.4444444444444444,
              "#bd3786"
             ],
             [
              0.5555555555555556,
              "#d8576b"
             ],
             [
              0.6666666666666666,
              "#ed7953"
             ],
             [
              0.7777777777777778,
              "#fb9f3a"
             ],
             [
              0.8888888888888888,
              "#fdca26"
             ],
             [
              1,
              "#f0f921"
             ]
            ],
            "type": "contour"
           }
          ],
          "contourcarpet": [
           {
            "colorbar": {
             "outlinewidth": 0,
             "ticks": ""
            },
            "type": "contourcarpet"
           }
          ],
          "heatmap": [
           {
            "colorbar": {
             "outlinewidth": 0,
             "ticks": ""
            },
            "colorscale": [
             [
              0,
              "#0d0887"
             ],
             [
              0.1111111111111111,
              "#46039f"
             ],
             [
              0.2222222222222222,
              "#7201a8"
             ],
             [
              0.3333333333333333,
              "#9c179e"
             ],
             [
              0.4444444444444444,
              "#bd3786"
             ],
             [
              0.5555555555555556,
              "#d8576b"
             ],
             [
              0.6666666666666666,
              "#ed7953"
             ],
             [
              0.7777777777777778,
              "#fb9f3a"
             ],
             [
              0.8888888888888888,
              "#fdca26"
             ],
             [
              1,
              "#f0f921"
             ]
            ],
            "type": "heatmap"
           }
          ],
          "heatmapgl": [
           {
            "colorbar": {
             "outlinewidth": 0,
             "ticks": ""
            },
            "colorscale": [
             [
              0,
              "#0d0887"
             ],
             [
              0.1111111111111111,
              "#46039f"
             ],
             [
              0.2222222222222222,
              "#7201a8"
             ],
             [
              0.3333333333333333,
              "#9c179e"
             ],
             [
              0.4444444444444444,
              "#bd3786"
             ],
             [
              0.5555555555555556,
              "#d8576b"
             ],
             [
              0.6666666666666666,
              "#ed7953"
             ],
             [
              0.7777777777777778,
              "#fb9f3a"
             ],
             [
              0.8888888888888888,
              "#fdca26"
             ],
             [
              1,
              "#f0f921"
             ]
            ],
            "type": "heatmapgl"
           }
          ],
          "histogram": [
           {
            "marker": {
             "pattern": {
              "fillmode": "overlay",
              "size": 10,
              "solidity": 0.2
             }
            },
            "type": "histogram"
           }
          ],
          "histogram2d": [
           {
            "colorbar": {
             "outlinewidth": 0,
             "ticks": ""
            },
            "colorscale": [
             [
              0,
              "#0d0887"
             ],
             [
              0.1111111111111111,
              "#46039f"
             ],
             [
              0.2222222222222222,
              "#7201a8"
             ],
             [
              0.3333333333333333,
              "#9c179e"
             ],
             [
              0.4444444444444444,
              "#bd3786"
             ],
             [
              0.5555555555555556,
              "#d8576b"
             ],
             [
              0.6666666666666666,
              "#ed7953"
             ],
             [
              0.7777777777777778,
              "#fb9f3a"
             ],
             [
              0.8888888888888888,
              "#fdca26"
             ],
             [
              1,
              "#f0f921"
             ]
            ],
            "type": "histogram2d"
           }
          ],
          "histogram2dcontour": [
           {
            "colorbar": {
             "outlinewidth": 0,
             "ticks": ""
            },
            "colorscale": [
             [
              0,
              "#0d0887"
             ],
             [
              0.1111111111111111,
              "#46039f"
             ],
             [
              0.2222222222222222,
              "#7201a8"
             ],
             [
              0.3333333333333333,
              "#9c179e"
             ],
             [
              0.4444444444444444,
              "#bd3786"
             ],
             [
              0.5555555555555556,
              "#d8576b"
             ],
             [
              0.6666666666666666,
              "#ed7953"
             ],
             [
              0.7777777777777778,
              "#fb9f3a"
             ],
             [
              0.8888888888888888,
              "#fdca26"
             ],
             [
              1,
              "#f0f921"
             ]
            ],
            "type": "histogram2dcontour"
           }
          ],
          "mesh3d": [
           {
            "colorbar": {
             "outlinewidth": 0,
             "ticks": ""
            },
            "type": "mesh3d"
           }
          ],
          "parcoords": [
           {
            "line": {
             "colorbar": {
              "outlinewidth": 0,
              "ticks": ""
             }
            },
            "type": "parcoords"
           }
          ],
          "pie": [
           {
            "automargin": true,
            "type": "pie"
           }
          ],
          "scatter": [
           {
            "fillpattern": {
             "fillmode": "overlay",
             "size": 10,
             "solidity": 0.2
            },
            "type": "scatter"
           }
          ],
          "scatter3d": [
           {
            "line": {
             "colorbar": {
              "outlinewidth": 0,
              "ticks": ""
             }
            },
            "marker": {
             "colorbar": {
              "outlinewidth": 0,
              "ticks": ""
             }
            },
            "type": "scatter3d"
           }
          ],
          "scattercarpet": [
           {
            "marker": {
             "colorbar": {
              "outlinewidth": 0,
              "ticks": ""
             }
            },
            "type": "scattercarpet"
           }
          ],
          "scattergeo": [
           {
            "marker": {
             "colorbar": {
              "outlinewidth": 0,
              "ticks": ""
             }
            },
            "type": "scattergeo"
           }
          ],
          "scattergl": [
           {
            "marker": {
             "colorbar": {
              "outlinewidth": 0,
              "ticks": ""
             }
            },
            "type": "scattergl"
           }
          ],
          "scattermapbox": [
           {
            "marker": {
             "colorbar": {
              "outlinewidth": 0,
              "ticks": ""
             }
            },
            "type": "scattermapbox"
           }
          ],
          "scatterpolar": [
           {
            "marker": {
             "colorbar": {
              "outlinewidth": 0,
              "ticks": ""
             }
            },
            "type": "scatterpolar"
           }
          ],
          "scatterpolargl": [
           {
            "marker": {
             "colorbar": {
              "outlinewidth": 0,
              "ticks": ""
             }
            },
            "type": "scatterpolargl"
           }
          ],
          "scatterternary": [
           {
            "marker": {
             "colorbar": {
              "outlinewidth": 0,
              "ticks": ""
             }
            },
            "type": "scatterternary"
           }
          ],
          "surface": [
           {
            "colorbar": {
             "outlinewidth": 0,
             "ticks": ""
            },
            "colorscale": [
             [
              0,
              "#0d0887"
             ],
             [
              0.1111111111111111,
              "#46039f"
             ],
             [
              0.2222222222222222,
              "#7201a8"
             ],
             [
              0.3333333333333333,
              "#9c179e"
             ],
             [
              0.4444444444444444,
              "#bd3786"
             ],
             [
              0.5555555555555556,
              "#d8576b"
             ],
             [
              0.6666666666666666,
              "#ed7953"
             ],
             [
              0.7777777777777778,
              "#fb9f3a"
             ],
             [
              0.8888888888888888,
              "#fdca26"
             ],
             [
              1,
              "#f0f921"
             ]
            ],
            "type": "surface"
           }
          ],
          "table": [
           {
            "cells": {
             "fill": {
              "color": "#EBF0F8"
             },
             "line": {
              "color": "white"
             }
            },
            "header": {
             "fill": {
              "color": "#C8D4E3"
             },
             "line": {
              "color": "white"
             }
            },
            "type": "table"
           }
          ]
         },
         "layout": {
          "annotationdefaults": {
           "arrowcolor": "#2a3f5f",
           "arrowhead": 0,
           "arrowwidth": 1
          },
          "autotypenumbers": "strict",
          "coloraxis": {
           "colorbar": {
            "outlinewidth": 0,
            "ticks": ""
           }
          },
          "colorscale": {
           "diverging": [
            [
             0,
             "#8e0152"
            ],
            [
             0.1,
             "#c51b7d"
            ],
            [
             0.2,
             "#de77ae"
            ],
            [
             0.3,
             "#f1b6da"
            ],
            [
             0.4,
             "#fde0ef"
            ],
            [
             0.5,
             "#f7f7f7"
            ],
            [
             0.6,
             "#e6f5d0"
            ],
            [
             0.7,
             "#b8e186"
            ],
            [
             0.8,
             "#7fbc41"
            ],
            [
             0.9,
             "#4d9221"
            ],
            [
             1,
             "#276419"
            ]
           ],
           "sequential": [
            [
             0,
             "#0d0887"
            ],
            [
             0.1111111111111111,
             "#46039f"
            ],
            [
             0.2222222222222222,
             "#7201a8"
            ],
            [
             0.3333333333333333,
             "#9c179e"
            ],
            [
             0.4444444444444444,
             "#bd3786"
            ],
            [
             0.5555555555555556,
             "#d8576b"
            ],
            [
             0.6666666666666666,
             "#ed7953"
            ],
            [
             0.7777777777777778,
             "#fb9f3a"
            ],
            [
             0.8888888888888888,
             "#fdca26"
            ],
            [
             1,
             "#f0f921"
            ]
           ],
           "sequentialminus": [
            [
             0,
             "#0d0887"
            ],
            [
             0.1111111111111111,
             "#46039f"
            ],
            [
             0.2222222222222222,
             "#7201a8"
            ],
            [
             0.3333333333333333,
             "#9c179e"
            ],
            [
             0.4444444444444444,
             "#bd3786"
            ],
            [
             0.5555555555555556,
             "#d8576b"
            ],
            [
             0.6666666666666666,
             "#ed7953"
            ],
            [
             0.7777777777777778,
             "#fb9f3a"
            ],
            [
             0.8888888888888888,
             "#fdca26"
            ],
            [
             1,
             "#f0f921"
            ]
           ]
          },
          "colorway": [
           "#636efa",
           "#EF553B",
           "#00cc96",
           "#ab63fa",
           "#FFA15A",
           "#19d3f3",
           "#FF6692",
           "#B6E880",
           "#FF97FF",
           "#FECB52"
          ],
          "font": {
           "color": "#2a3f5f"
          },
          "geo": {
           "bgcolor": "white",
           "lakecolor": "white",
           "landcolor": "#E5ECF6",
           "showlakes": true,
           "showland": true,
           "subunitcolor": "white"
          },
          "hoverlabel": {
           "align": "left"
          },
          "hovermode": "closest",
          "mapbox": {
           "style": "light"
          },
          "paper_bgcolor": "white",
          "plot_bgcolor": "#E5ECF6",
          "polar": {
           "angularaxis": {
            "gridcolor": "white",
            "linecolor": "white",
            "ticks": ""
           },
           "bgcolor": "#E5ECF6",
           "radialaxis": {
            "gridcolor": "white",
            "linecolor": "white",
            "ticks": ""
           }
          },
          "scene": {
           "xaxis": {
            "backgroundcolor": "#E5ECF6",
            "gridcolor": "white",
            "gridwidth": 2,
            "linecolor": "white",
            "showbackground": true,
            "ticks": "",
            "zerolinecolor": "white"
           },
           "yaxis": {
            "backgroundcolor": "#E5ECF6",
            "gridcolor": "white",
            "gridwidth": 2,
            "linecolor": "white",
            "showbackground": true,
            "ticks": "",
            "zerolinecolor": "white"
           },
           "zaxis": {
            "backgroundcolor": "#E5ECF6",
            "gridcolor": "white",
            "gridwidth": 2,
            "linecolor": "white",
            "showbackground": true,
            "ticks": "",
            "zerolinecolor": "white"
           }
          },
          "shapedefaults": {
           "line": {
            "color": "#2a3f5f"
           }
          },
          "ternary": {
           "aaxis": {
            "gridcolor": "white",
            "linecolor": "white",
            "ticks": ""
           },
           "baxis": {
            "gridcolor": "white",
            "linecolor": "white",
            "ticks": ""
           },
           "bgcolor": "#E5ECF6",
           "caxis": {
            "gridcolor": "white",
            "linecolor": "white",
            "ticks": ""
           }
          },
          "title": {
           "x": 0.05
          },
          "xaxis": {
           "automargin": true,
           "gridcolor": "white",
           "linecolor": "white",
           "ticks": "",
           "title": {
            "standoff": 15
           },
           "zerolinecolor": "white",
           "zerolinewidth": 2
          },
          "yaxis": {
           "automargin": true,
           "gridcolor": "white",
           "linecolor": "white",
           "ticks": "",
           "title": {
            "standoff": 15
           },
           "zerolinecolor": "white",
           "zerolinewidth": 2
          }
         }
        },
        "width": 900,
        "xaxis": {
         "anchor": "y",
         "constrain": "domain",
         "domain": [
          0,
          1
         ],
         "scaleanchor": "y",
         "tickfont": {
          "size": 8
         }
        },
        "yaxis": {
         "anchor": "x",
         "autorange": "reversed",
         "constrain": "domain",
         "domain": [
          0,
          1
         ],
         "tickfont": {
          "size": 8
         }
        }
       }
      }
     },
     "metadata": {},
     "output_type": "display_data"
    }
   ],
   "source": [
    "\n",
    "cobra_reactions_str = [str(reaction.id) for reaction in ec_cobra_model.reactions]\n",
    "\n",
    "plot_correlation_matrix(linear_correlation_matrix, extended_reactions, label_font_size=8)\n",
    "plot_correlation_matrix(non_linear_correlation_matrix, extended_reactions, label_font_size=8)\n",
    "plot_correlation_matrix(mixed_correlation_matrix, extended_reactions, label_font_size=8)\n"
   ]
  },
  {
   "cell_type": "markdown",
   "id": "99c969cd",
   "metadata": {},
   "source": [
    "### Calculate pairwise correlatins without filtering for sharing metabolites"
   ]
  },
  {
   "cell_type": "code",
   "execution_count": 11,
   "id": "08a77060",
   "metadata": {},
   "outputs": [
    {
     "name": "stdout",
     "output_type": "stream",
     "text": [
      "Completed the process of 13 from 103 copulas\n",
      "Completed the process of 14 from 103 copulas\n",
      "Completed the process of 15 from 103 copulas\n",
      "Completed the process of 16 from 103 copulas\n",
      "Completed the process of 17 from 103 copulas\n",
      "Completed the process of 18 from 103 copulas\n",
      "Completed the process of 30 from 103 copulas\n",
      "Completed the process of 31 from 103 copulas\n",
      "Completed the process of 32 from 103 copulas\n",
      "Completed the process of 33 from 103 copulas\n",
      "Completed the process of 34 from 103 copulas\n",
      "Completed the process of 35 from 103 copulas\n",
      "Completed the process of 38 from 103 copulas\n",
      "Completed the process of 42 from 103 copulas\n",
      "Completed the process of 44 from 103 copulas\n",
      "Completed the process of 47 from 103 copulas\n",
      "Completed the process of 49 from 103 copulas\n",
      "Completed the process of 52 from 103 copulas\n",
      "Completed the process of 54 from 103 copulas\n",
      "Completed the process of 57 from 103 copulas\n",
      "Completed the process of 59 from 103 copulas\n",
      "Completed the process of 62 from 103 copulas\n",
      "Completed the process of 64 from 103 copulas\n",
      "Completed the process of 67 from 103 copulas\n",
      "Completed the process of 69 from 103 copulas\n",
      "Completed the process of 72 from 103 copulas\n",
      "Completed the process of 74 from 103 copulas\n",
      "Completed the process of 94 from 103 copulas\n",
      "Completed the process of 96 from 103 copulas\n",
      "Completed the process of 100 from 103 copulas\n",
      "Completed the process of 102 from 103 copulas\n"
     ]
    }
   ],
   "source": [
    "\n",
    "(linear_correlation_matrix_no_metabolites, \n",
    "non_linear_correlation_matrix_no_metabolites, \n",
    "mixed_correlation_matrix_no_metabolites, \n",
    "correlations_dictionary_no_metabolites) = correlated_reactions(\n",
    "        steady_states = extended_steady_states,\n",
    "        boolean_sharing_metabolites_matrix=None,\n",
    "        reactions=extended_reactions, \n",
    "        linear_corr_cutoff = 0.3, \n",
    "        indicator_cutoff = 1.2,\n",
    "        jensenshannon_cutoff = 0.05,\n",
    "        std_cutoff= 1e-2,\n",
    "        include_non_linear = True, \n",
    "        cells = 5, \n",
    "        cop_coeff = 0.2, \n",
    "        lower_triangle = False, \n",
    "        verbose = True)\n"
   ]
  },
  {
   "cell_type": "code",
   "execution_count": 12,
   "id": "50a69669",
   "metadata": {},
   "outputs": [
    {
     "name": "stdout",
     "output_type": "stream",
     "text": [
      "{'PYK~PGK': {'pearson': 0, 'jensenshannon': 0.1205120608688758, 'indicator': 1.558629773813057, 'classification': 'positive_upper_lower_tail'}, 'PYK~PGL': {'pearson': 0, 'jensenshannon': 0.12099520444165601, 'indicator': 1.5646437972375575, 'classification': 'positive_upper_lower_tail'}, 'PYK~PGM': {'pearson': 0, 'jensenshannon': 0.11982182093593541, 'indicator': 1.556578945171399, 'classification': 'positive_upper_lower_tail'}, 'RPE~PYK': {'pearson': 0, 'jensenshannon': 0.12072898313275361, 'indicator': 1.5667106978862195, 'classification': 'positive_upper_lower_tail'}, 'RPI_rev~PYK': {'pearson': 0, 'jensenshannon': 0.12099520444165604, 'indicator': 1.5646437972375578, 'classification': 'positive_upper_lower_tail'}, 'TKT1~PYK': {'pearson': 0, 'jensenshannon': 0.12089054595870595, 'indicator': 1.5667106978862195, 'classification': 'positive_upper_lower_tail'}, 'GND~PYK': {'pearson': 0, 'jensenshannon': 0.12099520444165604, 'indicator': 1.5646437972375578, 'classification': 'positive_upper_lower_tail'}}\n",
      "dict_keys(['PYK~PGK', 'PYK~PGL', 'PYK~PGM', 'RPE~PYK', 'RPI_rev~PYK', 'TKT1~PYK', 'GND~PYK'])\n",
      "{'PYK~PFK': {'pearson': 0, 'jensenshannon': -0.1038134091728618, 'indicator': 0.7463768122833964, 'classification': 'negative_upper_lower_tail'}, 'PYK~PGK_rev': {'pearson': 0, 'jensenshannon': -0.12051206086887577, 'indicator': 0.6415891809596216, 'classification': 'negative_upper_lower_tail'}, 'PYK~PGM_rev': {'pearson': 0, 'jensenshannon': -0.11982182093593544, 'indicator': 0.6424344894950943, 'classification': 'negative_upper_lower_tail'}, 'RPI~PYK': {'pearson': 0, 'jensenshannon': -0.12099520444165603, 'indicator': 0.6391231037796211, 'classification': 'negative_upper_lower_tail'}, 'ENO~PYK': {'pearson': 0, 'jensenshannon': -0.11982182093593542, 'indicator': 0.6424344894950942, 'classification': 'negative_upper_lower_tail'}, 'TPI~PYK': {'pearson': 0, 'jensenshannon': -0.12087367422459483, 'indicator': 0.6405063300240346, 'classification': 'negative_upper_lower_tail'}, 'FBA~PYK': {'pearson': 0, 'jensenshannon': -0.12087367422459483, 'indicator': 0.6405063300240346, 'classification': 'negative_upper_lower_tail'}, 'GAPD~PYK': {'pearson': 0, 'jensenshannon': -0.12051206086887577, 'indicator': 0.6415891809596217, 'classification': 'negative_upper_lower_tail'}}\n",
      "dict_keys(['PYK~PFK', 'PYK~PGK_rev', 'PYK~PGM_rev', 'RPI~PYK', 'ENO~PYK', 'TPI~PYK', 'FBA~PYK', 'GAPD~PYK'])\n"
     ]
    }
   ],
   "source": [
    "\n",
    "filtered_g = {\n",
    "    pair: metrics\n",
    "    for pair, metrics in correlations_dictionary_no_metabolites.items()\n",
    "    if metrics['jensenshannon'] > 0.1 and metrics['indicator'] > 1.2\n",
    "}\n",
    "\n",
    "print(filtered_g)\n",
    "print(filtered_g.keys())\n",
    "\n",
    "\n",
    "filtered_l = {\n",
    "    pair: metrics\n",
    "    for pair, metrics in correlations_dictionary_no_metabolites.items()\n",
    "    if metrics['jensenshannon'] < -0.1 and metrics['indicator'] < 1.2\n",
    "\n",
    "}\n",
    "\n",
    "print(filtered_l)\n",
    "print(filtered_l.keys())\n"
   ]
  },
  {
   "cell_type": "code",
   "execution_count": 13,
   "id": "83f008e6",
   "metadata": {},
   "outputs": [
    {
     "data": {
      "application/vnd.plotly.v1+json": {
       "config": {
        "plotlyServerURL": "https://plot.ly"
       },
       "data": [
        {
         "coloraxis": "coloraxis",
         "hoverongaps": false,
         "hovertemplate": "x: %{x}<br>y: %{y}<br>color: %{z}<extra></extra>",
         "name": "0",
         "type": "heatmap",
         "x": [
          "PFK",
          "PGK_rev",
          "PGK",
          "PGL",
          "PGM_rev",
          "PGM",
          "ALCD2x_rev",
          "ALCD2x",
          "PPCK",
          "PPS",
          "PYK",
          "RPE",
          "RPI_rev",
          "RPI",
          "ENO",
          "TKT1",
          "TPI",
          "FBA",
          "FBP",
          "GAPD",
          "GND"
         ],
         "xaxis": "x",
         "xgap": 1,
         "y": [
          "PFK",
          "PGK_rev",
          "PGK",
          "PGL",
          "PGM_rev",
          "PGM",
          "ALCD2x_rev",
          "ALCD2x",
          "PPCK",
          "PPS",
          "PYK",
          "RPE",
          "RPI_rev",
          "RPI",
          "ENO",
          "TKT1",
          "TPI",
          "FBA",
          "FBP",
          "GAPD",
          "GND"
         ],
         "yaxis": "y",
         "ygap": 1,
         "z": [
          [
           1,
           0.8351195285457534,
           -0.8351195285457534,
           -0.8348188412096796,
           0.8352591214601878,
           -0.8352591214601878,
           0,
           0,
           0,
           0,
           0,
           -0.8347730256529379,
           -0.8349067853125476,
           0.8349067853125476,
           0.8352591214601878,
           -0.8347961889885049,
           0.8349392350694164,
           0.8349392350694164,
           0.5700026092771615,
           0.8351195285457534,
           -0.8348188412096796
          ],
          [
           0.8351195285457534,
           1,
           -0.9999999999999999,
           -0.9999596121603386,
           0.9999872012669269,
           -0.9999872012669269,
           0,
           0,
           0,
           0,
           0,
           -0.9999479565428462,
           -0.999978498112567,
           0.999978498112567,
           0.9999872012669269,
           -0.9999539946421877,
           0.9999841797009091,
           0.9999841797009091,
           0,
           0.9999999999999999,
           -0.9999596121603386
          ],
          [
           -0.8351195285457534,
           -0.9999999999999999,
           1,
           0.9999596121603386,
           -0.9999872012669269,
           0.9999872012669269,
           0,
           0,
           0,
           0,
           0,
           0.9999479565428462,
           0.999978498112567,
           -0.999978498112567,
           -0.9999872012669269,
           0.9999539946421877,
           -0.9999841797009091,
           -0.9999841797009091,
           0,
           -0.9999999999999999,
           0.9999596121603386
          ],
          [
           -0.8348188412096796,
           -0.9999596121603386,
           0.9999596121603386,
           1,
           -0.9999013430993281,
           0.9999013430993281,
           0,
           0,
           0,
           0,
           0,
           0.9999992621495701,
           0.9999970479857994,
           -0.9999970479857994,
           -0.9999013430993281,
           0.9999998171695372,
           -0.9999943466195584,
           -0.9999943466195584,
           0,
           -0.9999596121603386,
           1
          ],
          [
           0.8352591214601878,
           0.9999872012669269,
           -0.9999872012669269,
           -0.9999013430993281,
           1,
           -1,
           0,
           0,
           0,
           0,
           0,
           -0.9998835418614438,
           -0.9999325218188287,
           0.9999325218188287,
           1,
           -0.9998926663842873,
           0.9999429222955797,
           0.9999429222955797,
           0,
           0.9999872012669269,
           -0.9999013430993281
          ],
          [
           -0.8352591214601878,
           -0.9999872012669269,
           0.9999872012669269,
           0.9999013430993281,
           -1,
           1,
           0,
           0,
           0,
           0,
           0,
           0.9998835418614438,
           0.9999325218188287,
           -0.9999325218188287,
           -1,
           0.9998926663842873,
           -0.9999429222955797,
           -0.9999429222955797,
           0,
           -0.9999872012669269,
           0.9999013430993281
          ],
          [
           0,
           0,
           0,
           0,
           0,
           0,
           1,
           -0.9999999999999998,
           0,
           0,
           0,
           0,
           0,
           0,
           0,
           0,
           0,
           0,
           0,
           0,
           0
          ],
          [
           0,
           0,
           0,
           0,
           0,
           0,
           -0.9999999999999998,
           1,
           0,
           0,
           0,
           0,
           0,
           0,
           0,
           0,
           0,
           0,
           0,
           0,
           0
          ],
          [
           0,
           0,
           0,
           0,
           0,
           0,
           0,
           0,
           1,
           0,
           0,
           0,
           0,
           0,
           0,
           0,
           0,
           0,
           0,
           0,
           0
          ],
          [
           0,
           0,
           0,
           0,
           0,
           0,
           0,
           0,
           0,
           1,
           0,
           0,
           0,
           0,
           0,
           0,
           0,
           0,
           0,
           0,
           0
          ],
          [
           0,
           0,
           0,
           0,
           0,
           0,
           0,
           0,
           0,
           0,
           1,
           0,
           0,
           0,
           0,
           0,
           0,
           0,
           0,
           0,
           0
          ],
          [
           -0.8347730256529379,
           -0.9999479565428462,
           0.9999479565428462,
           0.9999992621495701,
           -0.9998835418614438,
           0.9998835418614438,
           0,
           0,
           0,
           0,
           0,
           1,
           0.9999933584323257,
           -0.9999933584323257,
           -0.9998835418614438,
           0.9999998138979612,
           -0.9999895240036079,
           -0.9999895240036079,
           0,
           -0.9999479565428462,
           0.9999992621495702
          ],
          [
           -0.8349067853125476,
           -0.999978498112567,
           0.999978498112567,
           0.9999970479857994,
           -0.9999325218188287,
           0.9999325218188287,
           0,
           0,
           0,
           0,
           0,
           0.9999933584323257,
           1,
           -1,
           -0.9999325218188287,
           0.9999953958468177,
           -0.9999995650045439,
           -0.9999995650045439,
           0,
           -0.999978498112567,
           0.9999970479857994
          ],
          [
           0.8349067853125476,
           0.999978498112567,
           -0.999978498112567,
           -0.9999970479857994,
           0.9999325218188287,
           -0.9999325218188287,
           0,
           0,
           0,
           0,
           0,
           -0.9999933584323257,
           -1,
           1,
           0.9999325218188287,
           -0.9999953958468177,
           0.9999995650045439,
           0.9999995650045439,
           0,
           0.999978498112567,
           -0.9999970479857994
          ],
          [
           0.8352591214601878,
           0.9999872012669269,
           -0.9999872012669269,
           -0.9999013430993281,
           1,
           -1,
           0,
           0,
           0,
           0,
           0,
           -0.9998835418614438,
           -0.9999325218188287,
           0.9999325218188287,
           1,
           -0.9998926663842873,
           0.9999429222955797,
           0.9999429222955797,
           0,
           0.9999872012669269,
           -0.9999013430993281
          ],
          [
           -0.8347961889885049,
           -0.9999539946421877,
           0.9999539946421877,
           0.9999998171695372,
           -0.9998926663842873,
           0.9998926663842873,
           0,
           0,
           0,
           0,
           0,
           0.9999998138979612,
           0.9999953958468177,
           -0.9999953958468177,
           -0.9998926663842873,
           1,
           -0.9999921304606955,
           -0.9999921304606955,
           0,
           -0.9999539946421877,
           0.9999998171695371
          ],
          [
           0.8349392350694164,
           0.9999841797009091,
           -0.9999841797009091,
           -0.9999943466195584,
           0.9999429222955797,
           -0.9999429222955797,
           0,
           0,
           0,
           0,
           0,
           -0.9999895240036079,
           -0.9999995650045439,
           0.9999995650045439,
           0.9999429222955797,
           -0.9999921304606955,
           1,
           0.9999999999999999,
           0,
           0.9999841797009091,
           -0.9999943466195585
          ],
          [
           0.8349392350694164,
           0.9999841797009091,
           -0.9999841797009091,
           -0.9999943466195584,
           0.9999429222955797,
           -0.9999429222955797,
           0,
           0,
           0,
           0,
           0,
           -0.9999895240036079,
           -0.9999995650045439,
           0.9999995650045439,
           0.9999429222955797,
           -0.9999921304606955,
           0.9999999999999999,
           1,
           0,
           0.9999841797009091,
           -0.9999943466195585
          ],
          [
           0.5700026092771615,
           0,
           0,
           0,
           0,
           0,
           0,
           0,
           0,
           0,
           0,
           0,
           0,
           0,
           0,
           0,
           0,
           0,
           1,
           0,
           0
          ],
          [
           0.8351195285457534,
           0.9999999999999999,
           -0.9999999999999999,
           -0.9999596121603386,
           0.9999872012669269,
           -0.9999872012669269,
           0,
           0,
           0,
           0,
           0,
           -0.9999479565428462,
           -0.999978498112567,
           0.999978498112567,
           0.9999872012669269,
           -0.9999539946421877,
           0.9999841797009091,
           0.9999841797009091,
           0,
           1,
           -0.9999596121603386
          ],
          [
           -0.8348188412096796,
           -0.9999596121603386,
           0.9999596121603386,
           1,
           -0.9999013430993281,
           0.9999013430993281,
           0,
           0,
           0,
           0,
           0,
           0.9999992621495702,
           0.9999970479857994,
           -0.9999970479857994,
           -0.9999013430993281,
           0.9999998171695371,
           -0.9999943466195585,
           -0.9999943466195585,
           0,
           -0.9999596121603386,
           1
          ]
         ]
        }
       ],
       "layout": {
        "coloraxis": {
         "cmax": 1,
         "cmin": -1,
         "colorscale": [
          [
           0,
           "#d73027"
          ],
          [
           0.5,
           "#f7f7f7"
          ],
          [
           1,
           "#4575b4"
          ]
         ]
        },
        "height": 900,
        "margin": {
         "t": 60
        },
        "plot_bgcolor": "rgba(0,0,0,0)",
        "template": {
         "data": {
          "bar": [
           {
            "error_x": {
             "color": "#2a3f5f"
            },
            "error_y": {
             "color": "#2a3f5f"
            },
            "marker": {
             "line": {
              "color": "#E5ECF6",
              "width": 0.5
             },
             "pattern": {
              "fillmode": "overlay",
              "size": 10,
              "solidity": 0.2
             }
            },
            "type": "bar"
           }
          ],
          "barpolar": [
           {
            "marker": {
             "line": {
              "color": "#E5ECF6",
              "width": 0.5
             },
             "pattern": {
              "fillmode": "overlay",
              "size": 10,
              "solidity": 0.2
             }
            },
            "type": "barpolar"
           }
          ],
          "carpet": [
           {
            "aaxis": {
             "endlinecolor": "#2a3f5f",
             "gridcolor": "white",
             "linecolor": "white",
             "minorgridcolor": "white",
             "startlinecolor": "#2a3f5f"
            },
            "baxis": {
             "endlinecolor": "#2a3f5f",
             "gridcolor": "white",
             "linecolor": "white",
             "minorgridcolor": "white",
             "startlinecolor": "#2a3f5f"
            },
            "type": "carpet"
           }
          ],
          "choropleth": [
           {
            "colorbar": {
             "outlinewidth": 0,
             "ticks": ""
            },
            "type": "choropleth"
           }
          ],
          "contour": [
           {
            "colorbar": {
             "outlinewidth": 0,
             "ticks": ""
            },
            "colorscale": [
             [
              0,
              "#0d0887"
             ],
             [
              0.1111111111111111,
              "#46039f"
             ],
             [
              0.2222222222222222,
              "#7201a8"
             ],
             [
              0.3333333333333333,
              "#9c179e"
             ],
             [
              0.4444444444444444,
              "#bd3786"
             ],
             [
              0.5555555555555556,
              "#d8576b"
             ],
             [
              0.6666666666666666,
              "#ed7953"
             ],
             [
              0.7777777777777778,
              "#fb9f3a"
             ],
             [
              0.8888888888888888,
              "#fdca26"
             ],
             [
              1,
              "#f0f921"
             ]
            ],
            "type": "contour"
           }
          ],
          "contourcarpet": [
           {
            "colorbar": {
             "outlinewidth": 0,
             "ticks": ""
            },
            "type": "contourcarpet"
           }
          ],
          "heatmap": [
           {
            "colorbar": {
             "outlinewidth": 0,
             "ticks": ""
            },
            "colorscale": [
             [
              0,
              "#0d0887"
             ],
             [
              0.1111111111111111,
              "#46039f"
             ],
             [
              0.2222222222222222,
              "#7201a8"
             ],
             [
              0.3333333333333333,
              "#9c179e"
             ],
             [
              0.4444444444444444,
              "#bd3786"
             ],
             [
              0.5555555555555556,
              "#d8576b"
             ],
             [
              0.6666666666666666,
              "#ed7953"
             ],
             [
              0.7777777777777778,
              "#fb9f3a"
             ],
             [
              0.8888888888888888,
              "#fdca26"
             ],
             [
              1,
              "#f0f921"
             ]
            ],
            "type": "heatmap"
           }
          ],
          "heatmapgl": [
           {
            "colorbar": {
             "outlinewidth": 0,
             "ticks": ""
            },
            "colorscale": [
             [
              0,
              "#0d0887"
             ],
             [
              0.1111111111111111,
              "#46039f"
             ],
             [
              0.2222222222222222,
              "#7201a8"
             ],
             [
              0.3333333333333333,
              "#9c179e"
             ],
             [
              0.4444444444444444,
              "#bd3786"
             ],
             [
              0.5555555555555556,
              "#d8576b"
             ],
             [
              0.6666666666666666,
              "#ed7953"
             ],
             [
              0.7777777777777778,
              "#fb9f3a"
             ],
             [
              0.8888888888888888,
              "#fdca26"
             ],
             [
              1,
              "#f0f921"
             ]
            ],
            "type": "heatmapgl"
           }
          ],
          "histogram": [
           {
            "marker": {
             "pattern": {
              "fillmode": "overlay",
              "size": 10,
              "solidity": 0.2
             }
            },
            "type": "histogram"
           }
          ],
          "histogram2d": [
           {
            "colorbar": {
             "outlinewidth": 0,
             "ticks": ""
            },
            "colorscale": [
             [
              0,
              "#0d0887"
             ],
             [
              0.1111111111111111,
              "#46039f"
             ],
             [
              0.2222222222222222,
              "#7201a8"
             ],
             [
              0.3333333333333333,
              "#9c179e"
             ],
             [
              0.4444444444444444,
              "#bd3786"
             ],
             [
              0.5555555555555556,
              "#d8576b"
             ],
             [
              0.6666666666666666,
              "#ed7953"
             ],
             [
              0.7777777777777778,
              "#fb9f3a"
             ],
             [
              0.8888888888888888,
              "#fdca26"
             ],
             [
              1,
              "#f0f921"
             ]
            ],
            "type": "histogram2d"
           }
          ],
          "histogram2dcontour": [
           {
            "colorbar": {
             "outlinewidth": 0,
             "ticks": ""
            },
            "colorscale": [
             [
              0,
              "#0d0887"
             ],
             [
              0.1111111111111111,
              "#46039f"
             ],
             [
              0.2222222222222222,
              "#7201a8"
             ],
             [
              0.3333333333333333,
              "#9c179e"
             ],
             [
              0.4444444444444444,
              "#bd3786"
             ],
             [
              0.5555555555555556,
              "#d8576b"
             ],
             [
              0.6666666666666666,
              "#ed7953"
             ],
             [
              0.7777777777777778,
              "#fb9f3a"
             ],
             [
              0.8888888888888888,
              "#fdca26"
             ],
             [
              1,
              "#f0f921"
             ]
            ],
            "type": "histogram2dcontour"
           }
          ],
          "mesh3d": [
           {
            "colorbar": {
             "outlinewidth": 0,
             "ticks": ""
            },
            "type": "mesh3d"
           }
          ],
          "parcoords": [
           {
            "line": {
             "colorbar": {
              "outlinewidth": 0,
              "ticks": ""
             }
            },
            "type": "parcoords"
           }
          ],
          "pie": [
           {
            "automargin": true,
            "type": "pie"
           }
          ],
          "scatter": [
           {
            "fillpattern": {
             "fillmode": "overlay",
             "size": 10,
             "solidity": 0.2
            },
            "type": "scatter"
           }
          ],
          "scatter3d": [
           {
            "line": {
             "colorbar": {
              "outlinewidth": 0,
              "ticks": ""
             }
            },
            "marker": {
             "colorbar": {
              "outlinewidth": 0,
              "ticks": ""
             }
            },
            "type": "scatter3d"
           }
          ],
          "scattercarpet": [
           {
            "marker": {
             "colorbar": {
              "outlinewidth": 0,
              "ticks": ""
             }
            },
            "type": "scattercarpet"
           }
          ],
          "scattergeo": [
           {
            "marker": {
             "colorbar": {
              "outlinewidth": 0,
              "ticks": ""
             }
            },
            "type": "scattergeo"
           }
          ],
          "scattergl": [
           {
            "marker": {
             "colorbar": {
              "outlinewidth": 0,
              "ticks": ""
             }
            },
            "type": "scattergl"
           }
          ],
          "scattermapbox": [
           {
            "marker": {
             "colorbar": {
              "outlinewidth": 0,
              "ticks": ""
             }
            },
            "type": "scattermapbox"
           }
          ],
          "scatterpolar": [
           {
            "marker": {
             "colorbar": {
              "outlinewidth": 0,
              "ticks": ""
             }
            },
            "type": "scatterpolar"
           }
          ],
          "scatterpolargl": [
           {
            "marker": {
             "colorbar": {
              "outlinewidth": 0,
              "ticks": ""
             }
            },
            "type": "scatterpolargl"
           }
          ],
          "scatterternary": [
           {
            "marker": {
             "colorbar": {
              "outlinewidth": 0,
              "ticks": ""
             }
            },
            "type": "scatterternary"
           }
          ],
          "surface": [
           {
            "colorbar": {
             "outlinewidth": 0,
             "ticks": ""
            },
            "colorscale": [
             [
              0,
              "#0d0887"
             ],
             [
              0.1111111111111111,
              "#46039f"
             ],
             [
              0.2222222222222222,
              "#7201a8"
             ],
             [
              0.3333333333333333,
              "#9c179e"
             ],
             [
              0.4444444444444444,
              "#bd3786"
             ],
             [
              0.5555555555555556,
              "#d8576b"
             ],
             [
              0.6666666666666666,
              "#ed7953"
             ],
             [
              0.7777777777777778,
              "#fb9f3a"
             ],
             [
              0.8888888888888888,
              "#fdca26"
             ],
             [
              1,
              "#f0f921"
             ]
            ],
            "type": "surface"
           }
          ],
          "table": [
           {
            "cells": {
             "fill": {
              "color": "#EBF0F8"
             },
             "line": {
              "color": "white"
             }
            },
            "header": {
             "fill": {
              "color": "#C8D4E3"
             },
             "line": {
              "color": "white"
             }
            },
            "type": "table"
           }
          ]
         },
         "layout": {
          "annotationdefaults": {
           "arrowcolor": "#2a3f5f",
           "arrowhead": 0,
           "arrowwidth": 1
          },
          "autotypenumbers": "strict",
          "coloraxis": {
           "colorbar": {
            "outlinewidth": 0,
            "ticks": ""
           }
          },
          "colorscale": {
           "diverging": [
            [
             0,
             "#8e0152"
            ],
            [
             0.1,
             "#c51b7d"
            ],
            [
             0.2,
             "#de77ae"
            ],
            [
             0.3,
             "#f1b6da"
            ],
            [
             0.4,
             "#fde0ef"
            ],
            [
             0.5,
             "#f7f7f7"
            ],
            [
             0.6,
             "#e6f5d0"
            ],
            [
             0.7,
             "#b8e186"
            ],
            [
             0.8,
             "#7fbc41"
            ],
            [
             0.9,
             "#4d9221"
            ],
            [
             1,
             "#276419"
            ]
           ],
           "sequential": [
            [
             0,
             "#0d0887"
            ],
            [
             0.1111111111111111,
             "#46039f"
            ],
            [
             0.2222222222222222,
             "#7201a8"
            ],
            [
             0.3333333333333333,
             "#9c179e"
            ],
            [
             0.4444444444444444,
             "#bd3786"
            ],
            [
             0.5555555555555556,
             "#d8576b"
            ],
            [
             0.6666666666666666,
             "#ed7953"
            ],
            [
             0.7777777777777778,
             "#fb9f3a"
            ],
            [
             0.8888888888888888,
             "#fdca26"
            ],
            [
             1,
             "#f0f921"
            ]
           ],
           "sequentialminus": [
            [
             0,
             "#0d0887"
            ],
            [
             0.1111111111111111,
             "#46039f"
            ],
            [
             0.2222222222222222,
             "#7201a8"
            ],
            [
             0.3333333333333333,
             "#9c179e"
            ],
            [
             0.4444444444444444,
             "#bd3786"
            ],
            [
             0.5555555555555556,
             "#d8576b"
            ],
            [
             0.6666666666666666,
             "#ed7953"
            ],
            [
             0.7777777777777778,
             "#fb9f3a"
            ],
            [
             0.8888888888888888,
             "#fdca26"
            ],
            [
             1,
             "#f0f921"
            ]
           ]
          },
          "colorway": [
           "#636efa",
           "#EF553B",
           "#00cc96",
           "#ab63fa",
           "#FFA15A",
           "#19d3f3",
           "#FF6692",
           "#B6E880",
           "#FF97FF",
           "#FECB52"
          ],
          "font": {
           "color": "#2a3f5f"
          },
          "geo": {
           "bgcolor": "white",
           "lakecolor": "white",
           "landcolor": "#E5ECF6",
           "showlakes": true,
           "showland": true,
           "subunitcolor": "white"
          },
          "hoverlabel": {
           "align": "left"
          },
          "hovermode": "closest",
          "mapbox": {
           "style": "light"
          },
          "paper_bgcolor": "white",
          "plot_bgcolor": "#E5ECF6",
          "polar": {
           "angularaxis": {
            "gridcolor": "white",
            "linecolor": "white",
            "ticks": ""
           },
           "bgcolor": "#E5ECF6",
           "radialaxis": {
            "gridcolor": "white",
            "linecolor": "white",
            "ticks": ""
           }
          },
          "scene": {
           "xaxis": {
            "backgroundcolor": "#E5ECF6",
            "gridcolor": "white",
            "gridwidth": 2,
            "linecolor": "white",
            "showbackground": true,
            "ticks": "",
            "zerolinecolor": "white"
           },
           "yaxis": {
            "backgroundcolor": "#E5ECF6",
            "gridcolor": "white",
            "gridwidth": 2,
            "linecolor": "white",
            "showbackground": true,
            "ticks": "",
            "zerolinecolor": "white"
           },
           "zaxis": {
            "backgroundcolor": "#E5ECF6",
            "gridcolor": "white",
            "gridwidth": 2,
            "linecolor": "white",
            "showbackground": true,
            "ticks": "",
            "zerolinecolor": "white"
           }
          },
          "shapedefaults": {
           "line": {
            "color": "#2a3f5f"
           }
          },
          "ternary": {
           "aaxis": {
            "gridcolor": "white",
            "linecolor": "white",
            "ticks": ""
           },
           "baxis": {
            "gridcolor": "white",
            "linecolor": "white",
            "ticks": ""
           },
           "bgcolor": "#E5ECF6",
           "caxis": {
            "gridcolor": "white",
            "linecolor": "white",
            "ticks": ""
           }
          },
          "title": {
           "x": 0.05
          },
          "xaxis": {
           "automargin": true,
           "gridcolor": "white",
           "linecolor": "white",
           "ticks": "",
           "title": {
            "standoff": 15
           },
           "zerolinecolor": "white",
           "zerolinewidth": 2
          },
          "yaxis": {
           "automargin": true,
           "gridcolor": "white",
           "linecolor": "white",
           "ticks": "",
           "title": {
            "standoff": 15
           },
           "zerolinecolor": "white",
           "zerolinewidth": 2
          }
         }
        },
        "width": 900,
        "xaxis": {
         "anchor": "y",
         "constrain": "domain",
         "domain": [
          0,
          1
         ],
         "scaleanchor": "y",
         "tickfont": {
          "size": 8
         }
        },
        "yaxis": {
         "anchor": "x",
         "autorange": "reversed",
         "constrain": "domain",
         "domain": [
          0,
          1
         ],
         "tickfont": {
          "size": 8
         }
        }
       }
      }
     },
     "metadata": {},
     "output_type": "display_data"
    },
    {
     "data": {
      "application/vnd.plotly.v1+json": {
       "config": {
        "plotlyServerURL": "https://plot.ly"
       },
       "data": [
        {
         "coloraxis": "coloraxis",
         "hoverongaps": false,
         "hovertemplate": "x: %{x}<br>y: %{y}<br>color: %{z}<extra></extra>",
         "name": "0",
         "type": "heatmap",
         "x": [
          "PFK",
          "PGK_rev",
          "PGK",
          "PGL",
          "PGM_rev",
          "PGM",
          "ALCD2x_rev",
          "ALCD2x",
          "PPCK",
          "PPS",
          "PYK",
          "RPE",
          "RPI_rev",
          "RPI",
          "ENO",
          "TKT1",
          "TPI",
          "FBA",
          "FBP",
          "GAPD",
          "GND"
         ],
         "xaxis": "x",
         "xgap": 1,
         "y": [
          "PFK",
          "PGK_rev",
          "PGK",
          "PGL",
          "PGM_rev",
          "PGM",
          "ALCD2x_rev",
          "ALCD2x",
          "PPCK",
          "PPS",
          "PYK",
          "RPE",
          "RPI_rev",
          "RPI",
          "ENO",
          "TKT1",
          "TPI",
          "FBA",
          "FBP",
          "GAPD",
          "GND"
         ],
         "yaxis": "y",
         "ygap": 1,
         "z": [
          [
           0,
           0,
           0,
           0,
           0,
           0,
           0,
           0,
           0,
           0,
           -0.1038134091728618,
           0,
           0,
           0,
           0,
           0,
           0,
           0,
           0,
           0,
           0
          ],
          [
           0,
           0,
           0,
           0,
           0,
           0,
           0,
           0,
           0,
           0,
           -0.12051206086887577,
           0,
           0,
           0,
           0,
           0,
           0,
           0,
           0,
           0,
           0
          ],
          [
           0,
           0,
           0,
           0,
           0,
           0,
           0,
           0,
           0,
           0,
           0.1205120608688758,
           0,
           0,
           0,
           0,
           0,
           0,
           0,
           0,
           0,
           0
          ],
          [
           0,
           0,
           0,
           0,
           0,
           0,
           0,
           0,
           0,
           0,
           0.12099520444165601,
           0,
           0,
           0,
           0,
           0,
           0,
           0,
           0,
           0,
           0
          ],
          [
           0,
           0,
           0,
           0,
           0,
           0,
           0,
           0,
           0,
           0,
           -0.11982182093593544,
           0,
           0,
           0,
           0,
           0,
           0,
           0,
           0,
           0,
           0
          ],
          [
           0,
           0,
           0,
           0,
           0,
           0,
           0,
           0,
           0,
           0,
           0.11982182093593541,
           0,
           0,
           0,
           0,
           0,
           0,
           0,
           0,
           0,
           0
          ],
          [
           0,
           0,
           0,
           0,
           0,
           0,
           0,
           0,
           0,
           0,
           0,
           0,
           0,
           0,
           0,
           0,
           0,
           0,
           0,
           0,
           0
          ],
          [
           0,
           0,
           0,
           0,
           0,
           0,
           0,
           0,
           0,
           0,
           0,
           0,
           0,
           0,
           0,
           0,
           0,
           0,
           0,
           0,
           0
          ],
          [
           0,
           0,
           0,
           0,
           0,
           0,
           0,
           0,
           0,
           0,
           0,
           0,
           0,
           0,
           0,
           0,
           0,
           0,
           0,
           0,
           0
          ],
          [
           0,
           0,
           0,
           0,
           0,
           0,
           0,
           0,
           0,
           0,
           0,
           0,
           0,
           0,
           0,
           0,
           0,
           0,
           0,
           0,
           0
          ],
          [
           -0.1038134091728618,
           -0.12051206086887577,
           0.1205120608688758,
           0.12099520444165601,
           -0.11982182093593544,
           0.11982182093593541,
           0,
           0,
           0,
           0,
           0,
           0.12072898313275361,
           0.12099520444165604,
           -0.12099520444165603,
           -0.11982182093593542,
           0.12089054595870595,
           -0.12087367422459483,
           -0.12087367422459483,
           0,
           -0.12051206086887577,
           0.12099520444165604
          ],
          [
           0,
           0,
           0,
           0,
           0,
           0,
           0,
           0,
           0,
           0,
           0.12072898313275361,
           0,
           0,
           0,
           0,
           0,
           0,
           0,
           0,
           0,
           0
          ],
          [
           0,
           0,
           0,
           0,
           0,
           0,
           0,
           0,
           0,
           0,
           0.12099520444165604,
           0,
           0,
           0,
           0,
           0,
           0,
           0,
           0,
           0,
           0
          ],
          [
           0,
           0,
           0,
           0,
           0,
           0,
           0,
           0,
           0,
           0,
           -0.12099520444165603,
           0,
           0,
           0,
           0,
           0,
           0,
           0,
           0,
           0,
           0
          ],
          [
           0,
           0,
           0,
           0,
           0,
           0,
           0,
           0,
           0,
           0,
           -0.11982182093593542,
           0,
           0,
           0,
           0,
           0,
           0,
           0,
           0,
           0,
           0
          ],
          [
           0,
           0,
           0,
           0,
           0,
           0,
           0,
           0,
           0,
           0,
           0.12089054595870595,
           0,
           0,
           0,
           0,
           0,
           0,
           0,
           0,
           0,
           0
          ],
          [
           0,
           0,
           0,
           0,
           0,
           0,
           0,
           0,
           0,
           0,
           -0.12087367422459483,
           0,
           0,
           0,
           0,
           0,
           0,
           0,
           0,
           0,
           0
          ],
          [
           0,
           0,
           0,
           0,
           0,
           0,
           0,
           0,
           0,
           0,
           -0.12087367422459483,
           0,
           0,
           0,
           0,
           0,
           0,
           0,
           0,
           0,
           0
          ],
          [
           0,
           0,
           0,
           0,
           0,
           0,
           0,
           0,
           0,
           0,
           0,
           0,
           0,
           0,
           0,
           0,
           0,
           0,
           0,
           0,
           0
          ],
          [
           0,
           0,
           0,
           0,
           0,
           0,
           0,
           0,
           0,
           0,
           -0.12051206086887577,
           0,
           0,
           0,
           0,
           0,
           0,
           0,
           0,
           0,
           0
          ],
          [
           0,
           0,
           0,
           0,
           0,
           0,
           0,
           0,
           0,
           0,
           0.12099520444165604,
           0,
           0,
           0,
           0,
           0,
           0,
           0,
           0,
           0,
           0
          ]
         ]
        }
       ],
       "layout": {
        "coloraxis": {
         "cmax": 1,
         "cmin": -1,
         "colorscale": [
          [
           0,
           "#d73027"
          ],
          [
           0.5,
           "#f7f7f7"
          ],
          [
           1,
           "#4575b4"
          ]
         ]
        },
        "height": 900,
        "margin": {
         "t": 60
        },
        "plot_bgcolor": "rgba(0,0,0,0)",
        "template": {
         "data": {
          "bar": [
           {
            "error_x": {
             "color": "#2a3f5f"
            },
            "error_y": {
             "color": "#2a3f5f"
            },
            "marker": {
             "line": {
              "color": "#E5ECF6",
              "width": 0.5
             },
             "pattern": {
              "fillmode": "overlay",
              "size": 10,
              "solidity": 0.2
             }
            },
            "type": "bar"
           }
          ],
          "barpolar": [
           {
            "marker": {
             "line": {
              "color": "#E5ECF6",
              "width": 0.5
             },
             "pattern": {
              "fillmode": "overlay",
              "size": 10,
              "solidity": 0.2
             }
            },
            "type": "barpolar"
           }
          ],
          "carpet": [
           {
            "aaxis": {
             "endlinecolor": "#2a3f5f",
             "gridcolor": "white",
             "linecolor": "white",
             "minorgridcolor": "white",
             "startlinecolor": "#2a3f5f"
            },
            "baxis": {
             "endlinecolor": "#2a3f5f",
             "gridcolor": "white",
             "linecolor": "white",
             "minorgridcolor": "white",
             "startlinecolor": "#2a3f5f"
            },
            "type": "carpet"
           }
          ],
          "choropleth": [
           {
            "colorbar": {
             "outlinewidth": 0,
             "ticks": ""
            },
            "type": "choropleth"
           }
          ],
          "contour": [
           {
            "colorbar": {
             "outlinewidth": 0,
             "ticks": ""
            },
            "colorscale": [
             [
              0,
              "#0d0887"
             ],
             [
              0.1111111111111111,
              "#46039f"
             ],
             [
              0.2222222222222222,
              "#7201a8"
             ],
             [
              0.3333333333333333,
              "#9c179e"
             ],
             [
              0.4444444444444444,
              "#bd3786"
             ],
             [
              0.5555555555555556,
              "#d8576b"
             ],
             [
              0.6666666666666666,
              "#ed7953"
             ],
             [
              0.7777777777777778,
              "#fb9f3a"
             ],
             [
              0.8888888888888888,
              "#fdca26"
             ],
             [
              1,
              "#f0f921"
             ]
            ],
            "type": "contour"
           }
          ],
          "contourcarpet": [
           {
            "colorbar": {
             "outlinewidth": 0,
             "ticks": ""
            },
            "type": "contourcarpet"
           }
          ],
          "heatmap": [
           {
            "colorbar": {
             "outlinewidth": 0,
             "ticks": ""
            },
            "colorscale": [
             [
              0,
              "#0d0887"
             ],
             [
              0.1111111111111111,
              "#46039f"
             ],
             [
              0.2222222222222222,
              "#7201a8"
             ],
             [
              0.3333333333333333,
              "#9c179e"
             ],
             [
              0.4444444444444444,
              "#bd3786"
             ],
             [
              0.5555555555555556,
              "#d8576b"
             ],
             [
              0.6666666666666666,
              "#ed7953"
             ],
             [
              0.7777777777777778,
              "#fb9f3a"
             ],
             [
              0.8888888888888888,
              "#fdca26"
             ],
             [
              1,
              "#f0f921"
             ]
            ],
            "type": "heatmap"
           }
          ],
          "heatmapgl": [
           {
            "colorbar": {
             "outlinewidth": 0,
             "ticks": ""
            },
            "colorscale": [
             [
              0,
              "#0d0887"
             ],
             [
              0.1111111111111111,
              "#46039f"
             ],
             [
              0.2222222222222222,
              "#7201a8"
             ],
             [
              0.3333333333333333,
              "#9c179e"
             ],
             [
              0.4444444444444444,
              "#bd3786"
             ],
             [
              0.5555555555555556,
              "#d8576b"
             ],
             [
              0.6666666666666666,
              "#ed7953"
             ],
             [
              0.7777777777777778,
              "#fb9f3a"
             ],
             [
              0.8888888888888888,
              "#fdca26"
             ],
             [
              1,
              "#f0f921"
             ]
            ],
            "type": "heatmapgl"
           }
          ],
          "histogram": [
           {
            "marker": {
             "pattern": {
              "fillmode": "overlay",
              "size": 10,
              "solidity": 0.2
             }
            },
            "type": "histogram"
           }
          ],
          "histogram2d": [
           {
            "colorbar": {
             "outlinewidth": 0,
             "ticks": ""
            },
            "colorscale": [
             [
              0,
              "#0d0887"
             ],
             [
              0.1111111111111111,
              "#46039f"
             ],
             [
              0.2222222222222222,
              "#7201a8"
             ],
             [
              0.3333333333333333,
              "#9c179e"
             ],
             [
              0.4444444444444444,
              "#bd3786"
             ],
             [
              0.5555555555555556,
              "#d8576b"
             ],
             [
              0.6666666666666666,
              "#ed7953"
             ],
             [
              0.7777777777777778,
              "#fb9f3a"
             ],
             [
              0.8888888888888888,
              "#fdca26"
             ],
             [
              1,
              "#f0f921"
             ]
            ],
            "type": "histogram2d"
           }
          ],
          "histogram2dcontour": [
           {
            "colorbar": {
             "outlinewidth": 0,
             "ticks": ""
            },
            "colorscale": [
             [
              0,
              "#0d0887"
             ],
             [
              0.1111111111111111,
              "#46039f"
             ],
             [
              0.2222222222222222,
              "#7201a8"
             ],
             [
              0.3333333333333333,
              "#9c179e"
             ],
             [
              0.4444444444444444,
              "#bd3786"
             ],
             [
              0.5555555555555556,
              "#d8576b"
             ],
             [
              0.6666666666666666,
              "#ed7953"
             ],
             [
              0.7777777777777778,
              "#fb9f3a"
             ],
             [
              0.8888888888888888,
              "#fdca26"
             ],
             [
              1,
              "#f0f921"
             ]
            ],
            "type": "histogram2dcontour"
           }
          ],
          "mesh3d": [
           {
            "colorbar": {
             "outlinewidth": 0,
             "ticks": ""
            },
            "type": "mesh3d"
           }
          ],
          "parcoords": [
           {
            "line": {
             "colorbar": {
              "outlinewidth": 0,
              "ticks": ""
             }
            },
            "type": "parcoords"
           }
          ],
          "pie": [
           {
            "automargin": true,
            "type": "pie"
           }
          ],
          "scatter": [
           {
            "fillpattern": {
             "fillmode": "overlay",
             "size": 10,
             "solidity": 0.2
            },
            "type": "scatter"
           }
          ],
          "scatter3d": [
           {
            "line": {
             "colorbar": {
              "outlinewidth": 0,
              "ticks": ""
             }
            },
            "marker": {
             "colorbar": {
              "outlinewidth": 0,
              "ticks": ""
             }
            },
            "type": "scatter3d"
           }
          ],
          "scattercarpet": [
           {
            "marker": {
             "colorbar": {
              "outlinewidth": 0,
              "ticks": ""
             }
            },
            "type": "scattercarpet"
           }
          ],
          "scattergeo": [
           {
            "marker": {
             "colorbar": {
              "outlinewidth": 0,
              "ticks": ""
             }
            },
            "type": "scattergeo"
           }
          ],
          "scattergl": [
           {
            "marker": {
             "colorbar": {
              "outlinewidth": 0,
              "ticks": ""
             }
            },
            "type": "scattergl"
           }
          ],
          "scattermapbox": [
           {
            "marker": {
             "colorbar": {
              "outlinewidth": 0,
              "ticks": ""
             }
            },
            "type": "scattermapbox"
           }
          ],
          "scatterpolar": [
           {
            "marker": {
             "colorbar": {
              "outlinewidth": 0,
              "ticks": ""
             }
            },
            "type": "scatterpolar"
           }
          ],
          "scatterpolargl": [
           {
            "marker": {
             "colorbar": {
              "outlinewidth": 0,
              "ticks": ""
             }
            },
            "type": "scatterpolargl"
           }
          ],
          "scatterternary": [
           {
            "marker": {
             "colorbar": {
              "outlinewidth": 0,
              "ticks": ""
             }
            },
            "type": "scatterternary"
           }
          ],
          "surface": [
           {
            "colorbar": {
             "outlinewidth": 0,
             "ticks": ""
            },
            "colorscale": [
             [
              0,
              "#0d0887"
             ],
             [
              0.1111111111111111,
              "#46039f"
             ],
             [
              0.2222222222222222,
              "#7201a8"
             ],
             [
              0.3333333333333333,
              "#9c179e"
             ],
             [
              0.4444444444444444,
              "#bd3786"
             ],
             [
              0.5555555555555556,
              "#d8576b"
             ],
             [
              0.6666666666666666,
              "#ed7953"
             ],
             [
              0.7777777777777778,
              "#fb9f3a"
             ],
             [
              0.8888888888888888,
              "#fdca26"
             ],
             [
              1,
              "#f0f921"
             ]
            ],
            "type": "surface"
           }
          ],
          "table": [
           {
            "cells": {
             "fill": {
              "color": "#EBF0F8"
             },
             "line": {
              "color": "white"
             }
            },
            "header": {
             "fill": {
              "color": "#C8D4E3"
             },
             "line": {
              "color": "white"
             }
            },
            "type": "table"
           }
          ]
         },
         "layout": {
          "annotationdefaults": {
           "arrowcolor": "#2a3f5f",
           "arrowhead": 0,
           "arrowwidth": 1
          },
          "autotypenumbers": "strict",
          "coloraxis": {
           "colorbar": {
            "outlinewidth": 0,
            "ticks": ""
           }
          },
          "colorscale": {
           "diverging": [
            [
             0,
             "#8e0152"
            ],
            [
             0.1,
             "#c51b7d"
            ],
            [
             0.2,
             "#de77ae"
            ],
            [
             0.3,
             "#f1b6da"
            ],
            [
             0.4,
             "#fde0ef"
            ],
            [
             0.5,
             "#f7f7f7"
            ],
            [
             0.6,
             "#e6f5d0"
            ],
            [
             0.7,
             "#b8e186"
            ],
            [
             0.8,
             "#7fbc41"
            ],
            [
             0.9,
             "#4d9221"
            ],
            [
             1,
             "#276419"
            ]
           ],
           "sequential": [
            [
             0,
             "#0d0887"
            ],
            [
             0.1111111111111111,
             "#46039f"
            ],
            [
             0.2222222222222222,
             "#7201a8"
            ],
            [
             0.3333333333333333,
             "#9c179e"
            ],
            [
             0.4444444444444444,
             "#bd3786"
            ],
            [
             0.5555555555555556,
             "#d8576b"
            ],
            [
             0.6666666666666666,
             "#ed7953"
            ],
            [
             0.7777777777777778,
             "#fb9f3a"
            ],
            [
             0.8888888888888888,
             "#fdca26"
            ],
            [
             1,
             "#f0f921"
            ]
           ],
           "sequentialminus": [
            [
             0,
             "#0d0887"
            ],
            [
             0.1111111111111111,
             "#46039f"
            ],
            [
             0.2222222222222222,
             "#7201a8"
            ],
            [
             0.3333333333333333,
             "#9c179e"
            ],
            [
             0.4444444444444444,
             "#bd3786"
            ],
            [
             0.5555555555555556,
             "#d8576b"
            ],
            [
             0.6666666666666666,
             "#ed7953"
            ],
            [
             0.7777777777777778,
             "#fb9f3a"
            ],
            [
             0.8888888888888888,
             "#fdca26"
            ],
            [
             1,
             "#f0f921"
            ]
           ]
          },
          "colorway": [
           "#636efa",
           "#EF553B",
           "#00cc96",
           "#ab63fa",
           "#FFA15A",
           "#19d3f3",
           "#FF6692",
           "#B6E880",
           "#FF97FF",
           "#FECB52"
          ],
          "font": {
           "color": "#2a3f5f"
          },
          "geo": {
           "bgcolor": "white",
           "lakecolor": "white",
           "landcolor": "#E5ECF6",
           "showlakes": true,
           "showland": true,
           "subunitcolor": "white"
          },
          "hoverlabel": {
           "align": "left"
          },
          "hovermode": "closest",
          "mapbox": {
           "style": "light"
          },
          "paper_bgcolor": "white",
          "plot_bgcolor": "#E5ECF6",
          "polar": {
           "angularaxis": {
            "gridcolor": "white",
            "linecolor": "white",
            "ticks": ""
           },
           "bgcolor": "#E5ECF6",
           "radialaxis": {
            "gridcolor": "white",
            "linecolor": "white",
            "ticks": ""
           }
          },
          "scene": {
           "xaxis": {
            "backgroundcolor": "#E5ECF6",
            "gridcolor": "white",
            "gridwidth": 2,
            "linecolor": "white",
            "showbackground": true,
            "ticks": "",
            "zerolinecolor": "white"
           },
           "yaxis": {
            "backgroundcolor": "#E5ECF6",
            "gridcolor": "white",
            "gridwidth": 2,
            "linecolor": "white",
            "showbackground": true,
            "ticks": "",
            "zerolinecolor": "white"
           },
           "zaxis": {
            "backgroundcolor": "#E5ECF6",
            "gridcolor": "white",
            "gridwidth": 2,
            "linecolor": "white",
            "showbackground": true,
            "ticks": "",
            "zerolinecolor": "white"
           }
          },
          "shapedefaults": {
           "line": {
            "color": "#2a3f5f"
           }
          },
          "ternary": {
           "aaxis": {
            "gridcolor": "white",
            "linecolor": "white",
            "ticks": ""
           },
           "baxis": {
            "gridcolor": "white",
            "linecolor": "white",
            "ticks": ""
           },
           "bgcolor": "#E5ECF6",
           "caxis": {
            "gridcolor": "white",
            "linecolor": "white",
            "ticks": ""
           }
          },
          "title": {
           "x": 0.05
          },
          "xaxis": {
           "automargin": true,
           "gridcolor": "white",
           "linecolor": "white",
           "ticks": "",
           "title": {
            "standoff": 15
           },
           "zerolinecolor": "white",
           "zerolinewidth": 2
          },
          "yaxis": {
           "automargin": true,
           "gridcolor": "white",
           "linecolor": "white",
           "ticks": "",
           "title": {
            "standoff": 15
           },
           "zerolinecolor": "white",
           "zerolinewidth": 2
          }
         }
        },
        "width": 900,
        "xaxis": {
         "anchor": "y",
         "constrain": "domain",
         "domain": [
          0,
          1
         ],
         "scaleanchor": "y",
         "tickfont": {
          "size": 8
         }
        },
        "yaxis": {
         "anchor": "x",
         "autorange": "reversed",
         "constrain": "domain",
         "domain": [
          0,
          1
         ],
         "tickfont": {
          "size": 8
         }
        }
       }
      }
     },
     "metadata": {},
     "output_type": "display_data"
    },
    {
     "data": {
      "application/vnd.plotly.v1+json": {
       "config": {
        "plotlyServerURL": "https://plot.ly"
       },
       "data": [
        {
         "coloraxis": "coloraxis",
         "hoverongaps": false,
         "hovertemplate": "x: %{x}<br>y: %{y}<br>color: %{z}<extra></extra>",
         "name": "0",
         "type": "heatmap",
         "x": [
          "PFK",
          "PGK_rev",
          "PGK",
          "PGL",
          "PGM_rev",
          "PGM",
          "ALCD2x_rev",
          "ALCD2x",
          "PPCK",
          "PPS",
          "PYK",
          "RPE",
          "RPI_rev",
          "RPI",
          "ENO",
          "TKT1",
          "TPI",
          "FBA",
          "FBP",
          "GAPD",
          "GND"
         ],
         "xaxis": "x",
         "xgap": 1,
         "y": [
          "PFK",
          "PGK_rev",
          "PGK",
          "PGL",
          "PGM_rev",
          "PGM",
          "ALCD2x_rev",
          "ALCD2x",
          "PPCK",
          "PPS",
          "PYK",
          "RPE",
          "RPI_rev",
          "RPI",
          "ENO",
          "TKT1",
          "TPI",
          "FBA",
          "FBP",
          "GAPD",
          "GND"
         ],
         "yaxis": "y",
         "ygap": 1,
         "z": [
          [
           1,
           0.8351195285457534,
           -0.8351195285457534,
           -0.8348188412096796,
           0.8352591214601878,
           -0.8352591214601878,
           0,
           0,
           0,
           0,
           -0.1038134091728618,
           -0.8347730256529379,
           -0.8349067853125476,
           0.8349067853125476,
           0.8352591214601878,
           -0.8347961889885049,
           0.8349392350694164,
           0.8349392350694164,
           0.5700026092771615,
           0.8351195285457534,
           -0.8348188412096796
          ],
          [
           0.8351195285457534,
           1,
           -0.9999999999999999,
           -0.9999596121603386,
           0.9999872012669269,
           -0.9999872012669269,
           0,
           0,
           0,
           0,
           -0.12051206086887577,
           -0.9999479565428462,
           -0.999978498112567,
           0.999978498112567,
           0.9999872012669269,
           -0.9999539946421877,
           0.9999841797009091,
           0.9999841797009091,
           0,
           0.9999999999999999,
           -0.9999596121603386
          ],
          [
           -0.8351195285457534,
           -0.9999999999999999,
           1,
           0.9999596121603386,
           -0.9999872012669269,
           0.9999872012669269,
           0,
           0,
           0,
           0,
           0.1205120608688758,
           0.9999479565428462,
           0.999978498112567,
           -0.999978498112567,
           -0.9999872012669269,
           0.9999539946421877,
           -0.9999841797009091,
           -0.9999841797009091,
           0,
           -0.9999999999999999,
           0.9999596121603386
          ],
          [
           -0.8348188412096796,
           -0.9999596121603386,
           0.9999596121603386,
           1,
           -0.9999013430993281,
           0.9999013430993281,
           0,
           0,
           0,
           0,
           0.12099520444165601,
           0.9999992621495701,
           0.9999970479857994,
           -0.9999970479857994,
           -0.9999013430993281,
           0.9999998171695372,
           -0.9999943466195584,
           -0.9999943466195584,
           0,
           -0.9999596121603386,
           1
          ],
          [
           0.8352591214601878,
           0.9999872012669269,
           -0.9999872012669269,
           -0.9999013430993281,
           1,
           -1,
           0,
           0,
           0,
           0,
           -0.11982182093593544,
           -0.9998835418614438,
           -0.9999325218188287,
           0.9999325218188287,
           1,
           -0.9998926663842873,
           0.9999429222955797,
           0.9999429222955797,
           0,
           0.9999872012669269,
           -0.9999013430993281
          ],
          [
           -0.8352591214601878,
           -0.9999872012669269,
           0.9999872012669269,
           0.9999013430993281,
           -1,
           1,
           0,
           0,
           0,
           0,
           0.11982182093593541,
           0.9998835418614438,
           0.9999325218188287,
           -0.9999325218188287,
           -1,
           0.9998926663842873,
           -0.9999429222955797,
           -0.9999429222955797,
           0,
           -0.9999872012669269,
           0.9999013430993281
          ],
          [
           0,
           0,
           0,
           0,
           0,
           0,
           1,
           -0.9999999999999998,
           0,
           0,
           0,
           0,
           0,
           0,
           0,
           0,
           0,
           0,
           0,
           0,
           0
          ],
          [
           0,
           0,
           0,
           0,
           0,
           0,
           -0.9999999999999998,
           1,
           0,
           0,
           0,
           0,
           0,
           0,
           0,
           0,
           0,
           0,
           0,
           0,
           0
          ],
          [
           0,
           0,
           0,
           0,
           0,
           0,
           0,
           0,
           1,
           0,
           0,
           0,
           0,
           0,
           0,
           0,
           0,
           0,
           0,
           0,
           0
          ],
          [
           0,
           0,
           0,
           0,
           0,
           0,
           0,
           0,
           0,
           1,
           0,
           0,
           0,
           0,
           0,
           0,
           0,
           0,
           0,
           0,
           0
          ],
          [
           -0.1038134091728618,
           -0.12051206086887577,
           0.1205120608688758,
           0.12099520444165601,
           -0.11982182093593544,
           0.11982182093593541,
           0,
           0,
           0,
           0,
           1,
           0.12072898313275361,
           0.12099520444165604,
           -0.12099520444165603,
           -0.11982182093593542,
           0.12089054595870595,
           -0.12087367422459483,
           -0.12087367422459483,
           0,
           -0.12051206086887577,
           0.12099520444165604
          ],
          [
           -0.8347730256529379,
           -0.9999479565428462,
           0.9999479565428462,
           0.9999992621495701,
           -0.9998835418614438,
           0.9998835418614438,
           0,
           0,
           0,
           0,
           0.12072898313275361,
           1,
           0.9999933584323257,
           -0.9999933584323257,
           -0.9998835418614438,
           0.9999998138979612,
           -0.9999895240036079,
           -0.9999895240036079,
           0,
           -0.9999479565428462,
           0.9999992621495702
          ],
          [
           -0.8349067853125476,
           -0.999978498112567,
           0.999978498112567,
           0.9999970479857994,
           -0.9999325218188287,
           0.9999325218188287,
           0,
           0,
           0,
           0,
           0.12099520444165604,
           0.9999933584323257,
           1,
           -1,
           -0.9999325218188287,
           0.9999953958468177,
           -0.9999995650045439,
           -0.9999995650045439,
           0,
           -0.999978498112567,
           0.9999970479857994
          ],
          [
           0.8349067853125476,
           0.999978498112567,
           -0.999978498112567,
           -0.9999970479857994,
           0.9999325218188287,
           -0.9999325218188287,
           0,
           0,
           0,
           0,
           -0.12099520444165603,
           -0.9999933584323257,
           -1,
           1,
           0.9999325218188287,
           -0.9999953958468177,
           0.9999995650045439,
           0.9999995650045439,
           0,
           0.999978498112567,
           -0.9999970479857994
          ],
          [
           0.8352591214601878,
           0.9999872012669269,
           -0.9999872012669269,
           -0.9999013430993281,
           1,
           -1,
           0,
           0,
           0,
           0,
           -0.11982182093593542,
           -0.9998835418614438,
           -0.9999325218188287,
           0.9999325218188287,
           1,
           -0.9998926663842873,
           0.9999429222955797,
           0.9999429222955797,
           0,
           0.9999872012669269,
           -0.9999013430993281
          ],
          [
           -0.8347961889885049,
           -0.9999539946421877,
           0.9999539946421877,
           0.9999998171695372,
           -0.9998926663842873,
           0.9998926663842873,
           0,
           0,
           0,
           0,
           0.12089054595870595,
           0.9999998138979612,
           0.9999953958468177,
           -0.9999953958468177,
           -0.9998926663842873,
           1,
           -0.9999921304606955,
           -0.9999921304606955,
           0,
           -0.9999539946421877,
           0.9999998171695371
          ],
          [
           0.8349392350694164,
           0.9999841797009091,
           -0.9999841797009091,
           -0.9999943466195584,
           0.9999429222955797,
           -0.9999429222955797,
           0,
           0,
           0,
           0,
           -0.12087367422459483,
           -0.9999895240036079,
           -0.9999995650045439,
           0.9999995650045439,
           0.9999429222955797,
           -0.9999921304606955,
           1,
           0.9999999999999999,
           0,
           0.9999841797009091,
           -0.9999943466195585
          ],
          [
           0.8349392350694164,
           0.9999841797009091,
           -0.9999841797009091,
           -0.9999943466195584,
           0.9999429222955797,
           -0.9999429222955797,
           0,
           0,
           0,
           0,
           -0.12087367422459483,
           -0.9999895240036079,
           -0.9999995650045439,
           0.9999995650045439,
           0.9999429222955797,
           -0.9999921304606955,
           0.9999999999999999,
           1,
           0,
           0.9999841797009091,
           -0.9999943466195585
          ],
          [
           0.5700026092771615,
           0,
           0,
           0,
           0,
           0,
           0,
           0,
           0,
           0,
           0,
           0,
           0,
           0,
           0,
           0,
           0,
           0,
           1,
           0,
           0
          ],
          [
           0.8351195285457534,
           0.9999999999999999,
           -0.9999999999999999,
           -0.9999596121603386,
           0.9999872012669269,
           -0.9999872012669269,
           0,
           0,
           0,
           0,
           -0.12051206086887577,
           -0.9999479565428462,
           -0.999978498112567,
           0.999978498112567,
           0.9999872012669269,
           -0.9999539946421877,
           0.9999841797009091,
           0.9999841797009091,
           0,
           1,
           -0.9999596121603386
          ],
          [
           -0.8348188412096796,
           -0.9999596121603386,
           0.9999596121603386,
           1,
           -0.9999013430993281,
           0.9999013430993281,
           0,
           0,
           0,
           0,
           0.12099520444165604,
           0.9999992621495702,
           0.9999970479857994,
           -0.9999970479857994,
           -0.9999013430993281,
           0.9999998171695371,
           -0.9999943466195585,
           -0.9999943466195585,
           0,
           -0.9999596121603386,
           1
          ]
         ]
        }
       ],
       "layout": {
        "coloraxis": {
         "cmax": 1,
         "cmin": -1,
         "colorscale": [
          [
           0,
           "#d73027"
          ],
          [
           0.5,
           "#f7f7f7"
          ],
          [
           1,
           "#4575b4"
          ]
         ]
        },
        "height": 900,
        "margin": {
         "t": 60
        },
        "plot_bgcolor": "rgba(0,0,0,0)",
        "template": {
         "data": {
          "bar": [
           {
            "error_x": {
             "color": "#2a3f5f"
            },
            "error_y": {
             "color": "#2a3f5f"
            },
            "marker": {
             "line": {
              "color": "#E5ECF6",
              "width": 0.5
             },
             "pattern": {
              "fillmode": "overlay",
              "size": 10,
              "solidity": 0.2
             }
            },
            "type": "bar"
           }
          ],
          "barpolar": [
           {
            "marker": {
             "line": {
              "color": "#E5ECF6",
              "width": 0.5
             },
             "pattern": {
              "fillmode": "overlay",
              "size": 10,
              "solidity": 0.2
             }
            },
            "type": "barpolar"
           }
          ],
          "carpet": [
           {
            "aaxis": {
             "endlinecolor": "#2a3f5f",
             "gridcolor": "white",
             "linecolor": "white",
             "minorgridcolor": "white",
             "startlinecolor": "#2a3f5f"
            },
            "baxis": {
             "endlinecolor": "#2a3f5f",
             "gridcolor": "white",
             "linecolor": "white",
             "minorgridcolor": "white",
             "startlinecolor": "#2a3f5f"
            },
            "type": "carpet"
           }
          ],
          "choropleth": [
           {
            "colorbar": {
             "outlinewidth": 0,
             "ticks": ""
            },
            "type": "choropleth"
           }
          ],
          "contour": [
           {
            "colorbar": {
             "outlinewidth": 0,
             "ticks": ""
            },
            "colorscale": [
             [
              0,
              "#0d0887"
             ],
             [
              0.1111111111111111,
              "#46039f"
             ],
             [
              0.2222222222222222,
              "#7201a8"
             ],
             [
              0.3333333333333333,
              "#9c179e"
             ],
             [
              0.4444444444444444,
              "#bd3786"
             ],
             [
              0.5555555555555556,
              "#d8576b"
             ],
             [
              0.6666666666666666,
              "#ed7953"
             ],
             [
              0.7777777777777778,
              "#fb9f3a"
             ],
             [
              0.8888888888888888,
              "#fdca26"
             ],
             [
              1,
              "#f0f921"
             ]
            ],
            "type": "contour"
           }
          ],
          "contourcarpet": [
           {
            "colorbar": {
             "outlinewidth": 0,
             "ticks": ""
            },
            "type": "contourcarpet"
           }
          ],
          "heatmap": [
           {
            "colorbar": {
             "outlinewidth": 0,
             "ticks": ""
            },
            "colorscale": [
             [
              0,
              "#0d0887"
             ],
             [
              0.1111111111111111,
              "#46039f"
             ],
             [
              0.2222222222222222,
              "#7201a8"
             ],
             [
              0.3333333333333333,
              "#9c179e"
             ],
             [
              0.4444444444444444,
              "#bd3786"
             ],
             [
              0.5555555555555556,
              "#d8576b"
             ],
             [
              0.6666666666666666,
              "#ed7953"
             ],
             [
              0.7777777777777778,
              "#fb9f3a"
             ],
             [
              0.8888888888888888,
              "#fdca26"
             ],
             [
              1,
              "#f0f921"
             ]
            ],
            "type": "heatmap"
           }
          ],
          "heatmapgl": [
           {
            "colorbar": {
             "outlinewidth": 0,
             "ticks": ""
            },
            "colorscale": [
             [
              0,
              "#0d0887"
             ],
             [
              0.1111111111111111,
              "#46039f"
             ],
             [
              0.2222222222222222,
              "#7201a8"
             ],
             [
              0.3333333333333333,
              "#9c179e"
             ],
             [
              0.4444444444444444,
              "#bd3786"
             ],
             [
              0.5555555555555556,
              "#d8576b"
             ],
             [
              0.6666666666666666,
              "#ed7953"
             ],
             [
              0.7777777777777778,
              "#fb9f3a"
             ],
             [
              0.8888888888888888,
              "#fdca26"
             ],
             [
              1,
              "#f0f921"
             ]
            ],
            "type": "heatmapgl"
           }
          ],
          "histogram": [
           {
            "marker": {
             "pattern": {
              "fillmode": "overlay",
              "size": 10,
              "solidity": 0.2
             }
            },
            "type": "histogram"
           }
          ],
          "histogram2d": [
           {
            "colorbar": {
             "outlinewidth": 0,
             "ticks": ""
            },
            "colorscale": [
             [
              0,
              "#0d0887"
             ],
             [
              0.1111111111111111,
              "#46039f"
             ],
             [
              0.2222222222222222,
              "#7201a8"
             ],
             [
              0.3333333333333333,
              "#9c179e"
             ],
             [
              0.4444444444444444,
              "#bd3786"
             ],
             [
              0.5555555555555556,
              "#d8576b"
             ],
             [
              0.6666666666666666,
              "#ed7953"
             ],
             [
              0.7777777777777778,
              "#fb9f3a"
             ],
             [
              0.8888888888888888,
              "#fdca26"
             ],
             [
              1,
              "#f0f921"
             ]
            ],
            "type": "histogram2d"
           }
          ],
          "histogram2dcontour": [
           {
            "colorbar": {
             "outlinewidth": 0,
             "ticks": ""
            },
            "colorscale": [
             [
              0,
              "#0d0887"
             ],
             [
              0.1111111111111111,
              "#46039f"
             ],
             [
              0.2222222222222222,
              "#7201a8"
             ],
             [
              0.3333333333333333,
              "#9c179e"
             ],
             [
              0.4444444444444444,
              "#bd3786"
             ],
             [
              0.5555555555555556,
              "#d8576b"
             ],
             [
              0.6666666666666666,
              "#ed7953"
             ],
             [
              0.7777777777777778,
              "#fb9f3a"
             ],
             [
              0.8888888888888888,
              "#fdca26"
             ],
             [
              1,
              "#f0f921"
             ]
            ],
            "type": "histogram2dcontour"
           }
          ],
          "mesh3d": [
           {
            "colorbar": {
             "outlinewidth": 0,
             "ticks": ""
            },
            "type": "mesh3d"
           }
          ],
          "parcoords": [
           {
            "line": {
             "colorbar": {
              "outlinewidth": 0,
              "ticks": ""
             }
            },
            "type": "parcoords"
           }
          ],
          "pie": [
           {
            "automargin": true,
            "type": "pie"
           }
          ],
          "scatter": [
           {
            "fillpattern": {
             "fillmode": "overlay",
             "size": 10,
             "solidity": 0.2
            },
            "type": "scatter"
           }
          ],
          "scatter3d": [
           {
            "line": {
             "colorbar": {
              "outlinewidth": 0,
              "ticks": ""
             }
            },
            "marker": {
             "colorbar": {
              "outlinewidth": 0,
              "ticks": ""
             }
            },
            "type": "scatter3d"
           }
          ],
          "scattercarpet": [
           {
            "marker": {
             "colorbar": {
              "outlinewidth": 0,
              "ticks": ""
             }
            },
            "type": "scattercarpet"
           }
          ],
          "scattergeo": [
           {
            "marker": {
             "colorbar": {
              "outlinewidth": 0,
              "ticks": ""
             }
            },
            "type": "scattergeo"
           }
          ],
          "scattergl": [
           {
            "marker": {
             "colorbar": {
              "outlinewidth": 0,
              "ticks": ""
             }
            },
            "type": "scattergl"
           }
          ],
          "scattermapbox": [
           {
            "marker": {
             "colorbar": {
              "outlinewidth": 0,
              "ticks": ""
             }
            },
            "type": "scattermapbox"
           }
          ],
          "scatterpolar": [
           {
            "marker": {
             "colorbar": {
              "outlinewidth": 0,
              "ticks": ""
             }
            },
            "type": "scatterpolar"
           }
          ],
          "scatterpolargl": [
           {
            "marker": {
             "colorbar": {
              "outlinewidth": 0,
              "ticks": ""
             }
            },
            "type": "scatterpolargl"
           }
          ],
          "scatterternary": [
           {
            "marker": {
             "colorbar": {
              "outlinewidth": 0,
              "ticks": ""
             }
            },
            "type": "scatterternary"
           }
          ],
          "surface": [
           {
            "colorbar": {
             "outlinewidth": 0,
             "ticks": ""
            },
            "colorscale": [
             [
              0,
              "#0d0887"
             ],
             [
              0.1111111111111111,
              "#46039f"
             ],
             [
              0.2222222222222222,
              "#7201a8"
             ],
             [
              0.3333333333333333,
              "#9c179e"
             ],
             [
              0.4444444444444444,
              "#bd3786"
             ],
             [
              0.5555555555555556,
              "#d8576b"
             ],
             [
              0.6666666666666666,
              "#ed7953"
             ],
             [
              0.7777777777777778,
              "#fb9f3a"
             ],
             [
              0.8888888888888888,
              "#fdca26"
             ],
             [
              1,
              "#f0f921"
             ]
            ],
            "type": "surface"
           }
          ],
          "table": [
           {
            "cells": {
             "fill": {
              "color": "#EBF0F8"
             },
             "line": {
              "color": "white"
             }
            },
            "header": {
             "fill": {
              "color": "#C8D4E3"
             },
             "line": {
              "color": "white"
             }
            },
            "type": "table"
           }
          ]
         },
         "layout": {
          "annotationdefaults": {
           "arrowcolor": "#2a3f5f",
           "arrowhead": 0,
           "arrowwidth": 1
          },
          "autotypenumbers": "strict",
          "coloraxis": {
           "colorbar": {
            "outlinewidth": 0,
            "ticks": ""
           }
          },
          "colorscale": {
           "diverging": [
            [
             0,
             "#8e0152"
            ],
            [
             0.1,
             "#c51b7d"
            ],
            [
             0.2,
             "#de77ae"
            ],
            [
             0.3,
             "#f1b6da"
            ],
            [
             0.4,
             "#fde0ef"
            ],
            [
             0.5,
             "#f7f7f7"
            ],
            [
             0.6,
             "#e6f5d0"
            ],
            [
             0.7,
             "#b8e186"
            ],
            [
             0.8,
             "#7fbc41"
            ],
            [
             0.9,
             "#4d9221"
            ],
            [
             1,
             "#276419"
            ]
           ],
           "sequential": [
            [
             0,
             "#0d0887"
            ],
            [
             0.1111111111111111,
             "#46039f"
            ],
            [
             0.2222222222222222,
             "#7201a8"
            ],
            [
             0.3333333333333333,
             "#9c179e"
            ],
            [
             0.4444444444444444,
             "#bd3786"
            ],
            [
             0.5555555555555556,
             "#d8576b"
            ],
            [
             0.6666666666666666,
             "#ed7953"
            ],
            [
             0.7777777777777778,
             "#fb9f3a"
            ],
            [
             0.8888888888888888,
             "#fdca26"
            ],
            [
             1,
             "#f0f921"
            ]
           ],
           "sequentialminus": [
            [
             0,
             "#0d0887"
            ],
            [
             0.1111111111111111,
             "#46039f"
            ],
            [
             0.2222222222222222,
             "#7201a8"
            ],
            [
             0.3333333333333333,
             "#9c179e"
            ],
            [
             0.4444444444444444,
             "#bd3786"
            ],
            [
             0.5555555555555556,
             "#d8576b"
            ],
            [
             0.6666666666666666,
             "#ed7953"
            ],
            [
             0.7777777777777778,
             "#fb9f3a"
            ],
            [
             0.8888888888888888,
             "#fdca26"
            ],
            [
             1,
             "#f0f921"
            ]
           ]
          },
          "colorway": [
           "#636efa",
           "#EF553B",
           "#00cc96",
           "#ab63fa",
           "#FFA15A",
           "#19d3f3",
           "#FF6692",
           "#B6E880",
           "#FF97FF",
           "#FECB52"
          ],
          "font": {
           "color": "#2a3f5f"
          },
          "geo": {
           "bgcolor": "white",
           "lakecolor": "white",
           "landcolor": "#E5ECF6",
           "showlakes": true,
           "showland": true,
           "subunitcolor": "white"
          },
          "hoverlabel": {
           "align": "left"
          },
          "hovermode": "closest",
          "mapbox": {
           "style": "light"
          },
          "paper_bgcolor": "white",
          "plot_bgcolor": "#E5ECF6",
          "polar": {
           "angularaxis": {
            "gridcolor": "white",
            "linecolor": "white",
            "ticks": ""
           },
           "bgcolor": "#E5ECF6",
           "radialaxis": {
            "gridcolor": "white",
            "linecolor": "white",
            "ticks": ""
           }
          },
          "scene": {
           "xaxis": {
            "backgroundcolor": "#E5ECF6",
            "gridcolor": "white",
            "gridwidth": 2,
            "linecolor": "white",
            "showbackground": true,
            "ticks": "",
            "zerolinecolor": "white"
           },
           "yaxis": {
            "backgroundcolor": "#E5ECF6",
            "gridcolor": "white",
            "gridwidth": 2,
            "linecolor": "white",
            "showbackground": true,
            "ticks": "",
            "zerolinecolor": "white"
           },
           "zaxis": {
            "backgroundcolor": "#E5ECF6",
            "gridcolor": "white",
            "gridwidth": 2,
            "linecolor": "white",
            "showbackground": true,
            "ticks": "",
            "zerolinecolor": "white"
           }
          },
          "shapedefaults": {
           "line": {
            "color": "#2a3f5f"
           }
          },
          "ternary": {
           "aaxis": {
            "gridcolor": "white",
            "linecolor": "white",
            "ticks": ""
           },
           "baxis": {
            "gridcolor": "white",
            "linecolor": "white",
            "ticks": ""
           },
           "bgcolor": "#E5ECF6",
           "caxis": {
            "gridcolor": "white",
            "linecolor": "white",
            "ticks": ""
           }
          },
          "title": {
           "x": 0.05
          },
          "xaxis": {
           "automargin": true,
           "gridcolor": "white",
           "linecolor": "white",
           "ticks": "",
           "title": {
            "standoff": 15
           },
           "zerolinecolor": "white",
           "zerolinewidth": 2
          },
          "yaxis": {
           "automargin": true,
           "gridcolor": "white",
           "linecolor": "white",
           "ticks": "",
           "title": {
            "standoff": 15
           },
           "zerolinecolor": "white",
           "zerolinewidth": 2
          }
         }
        },
        "width": 900,
        "xaxis": {
         "anchor": "y",
         "constrain": "domain",
         "domain": [
          0,
          1
         ],
         "scaleanchor": "y",
         "tickfont": {
          "size": 8
         }
        },
        "yaxis": {
         "anchor": "x",
         "autorange": "reversed",
         "constrain": "domain",
         "domain": [
          0,
          1
         ],
         "tickfont": {
          "size": 8
         }
        }
       }
      }
     },
     "metadata": {},
     "output_type": "display_data"
    }
   ],
   "source": [
    "\n",
    "cobra_reactions_str = [str(reaction.id) for reaction in ec_cobra_model.reactions]\n",
    "\n",
    "plot_correlation_matrix(linear_correlation_matrix_no_metabolites, extended_reactions, label_font_size=8)\n",
    "plot_correlation_matrix(non_linear_correlation_matrix_no_metabolites, extended_reactions, label_font_size=8)\n",
    "plot_correlation_matrix(mixed_correlation_matrix_no_metabolites, extended_reactions, label_font_size=8)\n"
   ]
  }
 ],
 "metadata": {
  "kernelspec": {
   "display_name": "Python 3",
   "language": "python",
   "name": "python3"
  },
  "language_info": {
   "codemirror_mode": {
    "name": "ipython",
    "version": 3
   },
   "file_extension": ".py",
   "mimetype": "text/x-python",
   "name": "python",
   "nbconvert_exporter": "python",
   "pygments_lexer": "ipython3",
   "version": "3.10.12"
  }
 },
 "nbformat": 4,
 "nbformat_minor": 5
}
