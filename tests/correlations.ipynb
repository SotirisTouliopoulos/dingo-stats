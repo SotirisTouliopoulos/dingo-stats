{
 "cells": [
  {
   "cell_type": "markdown",
   "id": "6592977c",
   "metadata": {},
   "source": [
    "### Load libraries and functions"
   ]
  },
  {
   "cell_type": "code",
   "execution_count": null,
   "id": "6fb526f3",
   "metadata": {},
   "outputs": [],
   "source": [
    "\n",
    "import sys\n",
    "sys.path.insert(0, '../src/')\n",
    "\n",
    "from loopless_utils import loops_enumeration_from_fva\n",
    "\n",
    "from load_modify_sample_utils import load_model, get_objective_functions, get_reaction_bounds, modify_model\n",
    "from load_modify_sample_utils import sample_optgp\n",
    "\n",
    "from correlations_utils import correlated_reactions, plot_correlation_matrix, split_forward_reverse\n",
    "from correlations_utils import find_reactants_products, sharing_metabolites_square_matrix\n",
    "\n",
    "from pathways_utils import dictionary_reaction_id_to_kegg_id, get_kegg_pathways_from_reaction_ids\n",
    "from pathways_utils import map_model_to_kegg_reactions_dictionary, read_json_file, fill_missing_kegg_ids_in_initial_dictionary\n",
    "from pathways_utils import subset_model_reactions_from_pathway_info, subset_sampling_array_from_reaction_ids, sort_reactions_by_model_order\n"
   ]
  },
  {
   "cell_type": "markdown",
   "id": "77fa688f",
   "metadata": {},
   "source": [
    "### Load and inspect model (for more info see `load_modify_samply.ipynb`)"
   ]
  },
  {
   "cell_type": "code",
   "execution_count": 2,
   "id": "4928e317",
   "metadata": {},
   "outputs": [
    {
     "name": "stdout",
     "output_type": "stream",
     "text": [
      "Set parameter Username\n",
      "Set parameter LicenseID to value 2642044\n",
      "Academic license - for non-commercial use only - expires 2026-03-25\n",
      "['BIOMASS_Ecoli_core_w_GAM']\n",
      "(0.0, 1000.0)\n"
     ]
    }
   ],
   "source": [
    "\n",
    "ec_cobra_model, ec_cobra_reactions, ec_cobra_reaction_ids,  = load_model(\"../ext_data/models/e_coli_core.xml\")\n",
    "\n",
    "objective_functions = get_objective_functions(ec_cobra_model)\n",
    "print(objective_functions)\n",
    "\n",
    "default_reaction_bounds = get_reaction_bounds(ec_cobra_model)\n",
    "print(default_reaction_bounds.get(\"BIOMASS_Ecoli_core_w_GAM\"))\n"
   ]
  },
  {
   "cell_type": "markdown",
   "id": "0e3f3c6c",
   "metadata": {},
   "source": [
    "### Modify the model to create two different conditions (for more info see `load_modify_samply.ipynb`)"
   ]
  },
  {
   "cell_type": "code",
   "execution_count": 3,
   "id": "386cb35f",
   "metadata": {},
   "outputs": [
    {
     "name": "stdout",
     "output_type": "stream",
     "text": [
      "Read LP format model from file /tmp/tmp1dd955dj.lp\n",
      "Reading time = 0.01 seconds\n",
      ": 72 rows, 190 columns, 720 nonzeros\n"
     ]
    },
    {
     "name": "stdout",
     "output_type": "stream",
     "text": [
      "['BIOMASS_Ecoli_core_w_GAM']\n",
      "(0.872922, 1000)\n",
      "Read LP format model from file /tmp/tmp0h9w8s_y.lp\n",
      "Reading time = 0.00 seconds\n",
      ": 72 rows, 190 columns, 720 nonzeros\n",
      "['BIOMASS_Ecoli_core_w_GAM']\n",
      "(0.0, 1000)\n"
     ]
    }
   ],
   "source": [
    "\n",
    "# Set optimal percentage to 100\n",
    "ec_cobra_model_condition_100 = modify_model(\n",
    "    cobra_model         = ec_cobra_model,\n",
    "    objective_function  = \"BIOMASS_Ecoli_core_w_GAM\",\n",
    "    optimal_percentage  = 100,\n",
    "    objective_direction = \"max\"\n",
    ")\n",
    "\n",
    "updated_objective_functions = get_objective_functions(ec_cobra_model_condition_100)\n",
    "print(updated_objective_functions)\n",
    "\n",
    "updated_reaction_bounds = get_reaction_bounds(ec_cobra_model_condition_100)\n",
    "print(updated_reaction_bounds.get(\"BIOMASS_Ecoli_core_w_GAM\"))\n",
    "\n",
    "# -----------\n",
    "\n",
    "# Set optimal percentage to 0\n",
    "ec_cobra_model_condition_0 = modify_model(\n",
    "    cobra_model         = ec_cobra_model,\n",
    "    objective_function  = \"BIOMASS_Ecoli_core_w_GAM\",\n",
    "    optimal_percentage  = 0,\n",
    "    objective_direction = \"max\"\n",
    ")\n",
    "\n",
    "updated_objective_functions = get_objective_functions(ec_cobra_model_condition_0)\n",
    "print(updated_objective_functions)\n",
    "\n",
    "updated_reaction_bounds = get_reaction_bounds(ec_cobra_model_condition_0)\n",
    "print(updated_reaction_bounds.get(\"BIOMASS_Ecoli_core_w_GAM\"))\n"
   ]
  },
  {
   "cell_type": "markdown",
   "id": "5e057b75",
   "metadata": {},
   "source": [
    "### Identify loopy reactions in model (for more info see `loopless.ipynb`)"
   ]
  },
  {
   "cell_type": "code",
   "execution_count": 5,
   "id": "54a520ed",
   "metadata": {},
   "outputs": [
    {
     "name": "stdout",
     "output_type": "stream",
     "text": [
      "[('SUCDi', 994.7794007141792), ('FRD7', 995.0539767141795)]\n",
      "['SUCDi', 'FRD7']\n",
      "[('SUCDi', 980.0), ('FRD7', 1000.0)]\n",
      "['SUCDi', 'FRD7']\n"
     ]
    }
   ],
   "source": [
    "\n",
    "loopy_reactions_fva_100 = loops_enumeration_from_fva(ec_cobra_model_condition_100, fraction_of_optimum=0.999)\n",
    "print(loopy_reactions_fva_100)\n",
    "\n",
    "loopy_reactions_100 = [item[0] for item in loopy_reactions_fva_100]\n",
    "print(loopy_reactions_100)\n",
    "\n",
    "\n",
    "loopy_reactions_fva_0 = loops_enumeration_from_fva(ec_cobra_model_condition_0, fraction_of_optimum=0)\n",
    "print(loopy_reactions_fva_0)\n",
    "\n",
    "loopy_reactions_0 = [item[0] for item in loopy_reactions_fva_0]\n",
    "print(loopy_reactions_0)\n"
   ]
  },
  {
   "cell_type": "markdown",
   "id": "df7fd22d",
   "metadata": {},
   "source": [
    "### Remove loopy reactions from the 2 models created above to reduce the thermodynamically infeasible solutions from sampling"
   ]
  },
  {
   "cell_type": "code",
   "execution_count": 4,
   "id": "49fffcd4",
   "metadata": {},
   "outputs": [],
   "source": [
    "\n",
    "ec_cobra_model_condition_100.reactions.get_by_id(\"FRD7\").bounds = (0, 0)\n",
    "ec_cobra_model_condition_0.reactions.get_by_id(\"FRD7\").bounds = (0, 0)\n"
   ]
  },
  {
   "cell_type": "markdown",
   "id": "5224c849",
   "metadata": {},
   "source": [
    "### Perform sampling on the modified models with the loopy reaction \"FRD7\" removed. (for more info see `load_modify_samply.ipynb`)"
   ]
  },
  {
   "cell_type": "code",
   "execution_count": 5,
   "id": "c92e338a",
   "metadata": {},
   "outputs": [
    {
     "name": "stdout",
     "output_type": "stream",
     "text": [
      "Read LP format model from file /tmp/tmp34045yhi.lp\n",
      "Reading time = 0.00 seconds\n",
      ": 72 rows, 190 columns, 720 nonzeros\n"
     ]
    },
    {
     "name": "stdout",
     "output_type": "stream",
     "text": [
      "Read LP format model from file /tmp/tmp591qhwxi.lp\n",
      "Reading time = 0.01 seconds\n",
      ": 72 rows, 190 columns, 720 nonzeros\n"
     ]
    }
   ],
   "source": [
    "\n",
    "samples_optgp_condition_100 = sample_optgp(ec_cobra_model_condition_100, \n",
    "                                           n_samples = 3000, \n",
    "                                           thinning=100, \n",
    "                                           reaction_in_rows = True)\n",
    "\n",
    "\n",
    "samples_optgp_condition_0 = sample_optgp(ec_cobra_model_condition_0, \n",
    "                                         n_samples = 3000, \n",
    "                                         thinning=100, \n",
    "                                         reaction_in_rows = True)\n"
   ]
  },
  {
   "cell_type": "markdown",
   "id": "9727ff6b",
   "metadata": {},
   "source": [
    "### Map KEGG pathway information to reactions BiGG ids  \n",
    "\n",
    "Functions that are used to map information from KEGG pathways to the model reactions (BiGG/SEED ids). For more info see `pathways.ipynb`"
   ]
  },
  {
   "cell_type": "code",
   "execution_count": 6,
   "id": "d7b222e3",
   "metadata": {},
   "outputs": [],
   "source": [
    "\n",
    "initial_bigg_to_kegg_dictionary = map_model_to_kegg_reactions_dictionary(ec_cobra_model)\n",
    "\n",
    "reactions_json, reactions_pandas = read_json_file(\"../ext_data/reactions/reactions.json\")\n",
    "\n",
    "bigg_to_kegg, seed_to_kegg = dictionary_reaction_id_to_kegg_id(reactions_pandas)\n",
    "\n",
    "final_bigg_to_kegg_dictionary = fill_missing_kegg_ids_in_initial_dictionary(initial_bigg_to_kegg_dictionary, \n",
    "                                                                            modeltype=\"BiGG\", \n",
    "                                                                            bigg_to_kegg=bigg_to_kegg,\n",
    "                                                                            seed_to_kegg=seed_to_kegg)\n",
    "\n",
    "df_kegg_pathways = get_kegg_pathways_from_reaction_ids(final_bigg_to_kegg_dictionary)\n"
   ]
  },
  {
   "cell_type": "markdown",
   "id": "e823007a",
   "metadata": {},
   "source": [
    "### From now on to better illustrate functions related to computing pairwise correlations, we will focus only in certain subsystems of the model (selected pathways of interest). \n",
    "\n",
    "We will subset the sampling array to include only reactions from Glycolysis, Glyconeogenesis and the Pentose phosphate pathway. For more information on how these functions works see: `load_modify_samply.ipynb`"
   ]
  },
  {
   "cell_type": "code",
   "execution_count": null,
   "id": "f2688b61",
   "metadata": {},
   "outputs": [],
   "source": [
    "\n",
    "Glycolysis = subset_model_reactions_from_pathway_info(df_kegg_pathways, \"Glycolysis / Gluconeogenesis\")\n",
    "PPP = subset_model_reactions_from_pathway_info(df_kegg_pathways, \"Pentose phosphate pathway\")\n",
    "\n",
    "reactions_in_pathways_ordered_duplicates = sort_reactions_by_model_order(ec_cobra_reaction_ids, Glycolysis, PPP)\n",
    "\n",
    "\n",
    "# Remove duplicates\n",
    "reactions_in_pathways_ordered = []\n",
    "[reactions_in_pathways_ordered.append(val) for val in reactions_in_pathways_ordered_duplicates if val not in reactions_in_pathways_ordered]\n",
    "\n",
    "\n",
    "subset_pathways_optgp_condition_100 = subset_sampling_array_from_reaction_ids(\n",
    "                                                                samples_optgp_condition_100, \n",
    "                                                                ec_cobra_reaction_ids, \n",
    "                                                                subset_reactions = reactions_in_pathways_ordered)\n",
    "\n",
    "\n",
    "subset_pathways_optgp_condition_0 = subset_sampling_array_from_reaction_ids(\n",
    "                                                                samples_optgp_condition_0, \n",
    "                                                                ec_cobra_reaction_ids, \n",
    "                                                                subset_reactions = reactions_in_pathways_ordered)\n"
   ]
  },
  {
   "cell_type": "markdown",
   "id": "4c8bdd8a",
   "metadata": {},
   "source": [
    "### Split bidirectional-reversible reactions (having both positive and negative flux values) into two separate reactions (forward and reverse).\n",
    "\n",
    "The `split_forward_reverse` function given a flux sampling (steady states) array with reactions as rows, splits all bidirectional reactions having at least 1 positive and 1 negative flux value into separate forward and reverse reactions.\n",
    "\n",
    "The `find_reactants_products` function identifies and saves in separate lists the reactants, products and directionality status of each reaction in a given metabolic model. Cofactors do not count as reactants/products.\n",
    "\n",
    "This step is to avoid losing information, when computing correlations from a set that includes reversible reactions. \n",
    "\n",
    "In some cases, the forward direction of reactions (as defined in the model) does not align with the observed network topology. As a result, pairs of reactions may show identical correlation magnitudes but with opposite signs.\n",
    "\n",
    "To deal with this, we split all reversible reactions with both positive and negative flux to separate reactions. Thus, one of the 2 (forward or reverse) has the expected correlations with reactions from the rest network."
   ]
  },
  {
   "cell_type": "code",
   "execution_count": 8,
   "id": "b0c860e3",
   "metadata": {},
   "outputs": [
    {
     "name": "stdout",
     "output_type": "stream",
     "text": [
      "21 21\n",
      "25 25\n"
     ]
    }
   ],
   "source": [
    "\n",
    "(subset_extended_steady_states_100,\n",
    " subset_extended_reactions_100) = split_forward_reverse(subset_pathways_optgp_condition_100, \n",
    "                                                        reactions=reactions_in_pathways_ordered)\n",
    "\n",
    "(reversibility_list_all_reactions_100, \n",
    " reactants_list_all_reactions_100,\n",
    " products_list_all_reactions_100) = find_reactants_products(ec_cobra_model, \n",
    "                                                            subset_extended_reactions_100)\n",
    "\n",
    "print(len(reversibility_list_all_reactions_100), len(reactants_list_all_reactions_100))\n",
    "\n",
    "\n",
    "\n",
    "(subset_extended_steady_states_0,\n",
    " subset_extended_reactions_0) = split_forward_reverse(subset_pathways_optgp_condition_0,\n",
    "                                               reactions=reactions_in_pathways_ordered)\n",
    "\n",
    "(reversibility_list_all_reactions_0,\n",
    " reactants_list_all_reactions_0,\n",
    " products_list_all_reactions_0) = find_reactants_products(ec_cobra_model, \n",
    "                                                          subset_extended_reactions_0)\n",
    " \n",
    "print(len(reversibility_list_all_reactions_0), len(reactants_list_all_reactions_0))\n"
   ]
  },
  {
   "cell_type": "markdown",
   "id": "c4df3e96",
   "metadata": {},
   "source": [
    "### Calculate a boolean square matrix with dimensions equal to the number of reactions (here, reactions after the forward and reverse split) with information on reactions sharing metabolites. \n",
    "\n",
    "The `sharing_metabolites_square_matrix` function given the lists with reactants, products and reversibility information, creates a square boolean matrix with `True` values representing reactions sharing a common metabolite, as implemented in `sharing_metabolites` function.\n",
    "\n",
    "This is done in case the user wants to filter correlations from reactions not sharing metabolites"
   ]
  },
  {
   "cell_type": "code",
   "execution_count": 9,
   "id": "5bde70ea",
   "metadata": {},
   "outputs": [
    {
     "name": "stdout",
     "output_type": "stream",
     "text": [
      "(21, 21)\n",
      "(25, 25)\n"
     ]
    }
   ],
   "source": [
    "\n",
    "subset_boolean_sharing_metabolites_matrix_100 = sharing_metabolites_square_matrix(subset_extended_reactions_100, \n",
    "                                                                                  reversibility_list_all_reactions_0,\n",
    "                                                                                  reactants_list_all_reactions_0,\n",
    "                                                                                  products_list_all_reactions_0)\n",
    "\n",
    "print(subset_boolean_sharing_metabolites_matrix_100.shape)\n",
    "\n",
    "\n",
    "\n",
    "subset_boolean_sharing_metabolites_matrix_0 = sharing_metabolites_square_matrix(subset_extended_reactions_0, \n",
    "                                                                                reversibility_list_all_reactions_0,\n",
    "                                                                                reactants_list_all_reactions_0,\n",
    "                                                                                products_list_all_reactions_0)\n",
    "\n",
    "print(subset_boolean_sharing_metabolites_matrix_0.shape)\n"
   ]
  },
  {
   "cell_type": "markdown",
   "id": "2dd13802",
   "metadata": {},
   "source": [
    "### Compute pairwise linear correlations and non-linear copula dependencies from flux samples and filter (remove) correlations between reactions not sharing any metabolites\n",
    "\n",
    "The `correlated_reactions` function calculate pairwise linear correlations and non-linear copula dependencies given a flux sampling array. User can choose the preffered coefficient to calculate pairwise linear correlations (pearson or spearman). Moreover, he can filter correlations not meeting a cutoff value and choose whether to proceed with calculation of non-linear dependencies using copulas."
   ]
  },
  {
   "cell_type": "code",
   "execution_count": 11,
   "id": "7e30139f",
   "metadata": {},
   "outputs": [
    {
     "name": "stdout",
     "output_type": "stream",
     "text": [
      "Completed the process of 30 from 103 copulas\n",
      "Completed the process of 31 from 103 copulas\n",
      "Completed the process of 32 from 103 copulas\n",
      "Completed the process of 33 from 103 copulas\n",
      "Completed the process of 34 from 103 copulas\n",
      "Completed the process of 35 from 103 copulas\n",
      "Completed the process of 44 from 103 copulas\n",
      "Completed the process of 49 from 103 copulas\n",
      "Completed the process of 54 from 103 copulas\n",
      "Completed the process of 59 from 103 copulas\n",
      "Completed the process of 64 from 103 copulas\n",
      "Completed the process of 69 from 103 copulas\n",
      "Completed the process of 74 from 103 copulas\n",
      "Completed the process of 96 from 103 copulas\n",
      "Completed the process of 102 from 103 copulas\n",
      "Completed the process of 1 from 144 copulas\n",
      "Completed the process of 2 from 144 copulas\n",
      "Completed the process of 3 from 144 copulas\n",
      "Completed the process of 4 from 144 copulas\n",
      "Completed the process of 5 from 144 copulas\n",
      "Completed the process of 6 from 144 copulas\n",
      "Completed the process of 7 from 144 copulas\n",
      "Completed the process of 8 from 144 copulas\n",
      "Completed the process of 9 from 144 copulas\n",
      "Completed the process of 10 from 144 copulas\n",
      "Completed the process of 11 from 144 copulas\n",
      "Completed the process of 12 from 144 copulas\n",
      "Completed the process of 13 from 144 copulas\n",
      "Completed the process of 14 from 144 copulas\n",
      "Completed the process of 15 from 144 copulas\n",
      "Completed the process of 16 from 144 copulas\n",
      "Completed the process of 17 from 144 copulas\n",
      "Completed the process of 18 from 144 copulas\n",
      "Completed the process of 19 from 144 copulas\n",
      "Completed the process of 20 from 144 copulas\n",
      "Completed the process of 21 from 144 copulas\n",
      "Completed the process of 22 from 144 copulas\n",
      "Completed the process of 23 from 144 copulas\n",
      "Completed the process of 24 from 144 copulas\n",
      "Completed the process of 25 from 144 copulas\n",
      "Completed the process of 26 from 144 copulas\n",
      "Completed the process of 27 from 144 copulas\n",
      "Completed the process of 28 from 144 copulas\n",
      "Completed the process of 29 from 144 copulas\n",
      "Completed the process of 30 from 144 copulas\n",
      "Completed the process of 31 from 144 copulas\n",
      "Completed the process of 32 from 144 copulas\n",
      "Completed the process of 33 from 144 copulas\n",
      "Completed the process of 34 from 144 copulas\n",
      "Completed the process of 35 from 144 copulas\n",
      "Completed the process of 36 from 144 copulas\n",
      "Completed the process of 37 from 144 copulas\n",
      "Completed the process of 38 from 144 copulas\n",
      "Completed the process of 39 from 144 copulas\n",
      "Completed the process of 40 from 144 copulas\n",
      "Completed the process of 41 from 144 copulas\n",
      "Completed the process of 42 from 144 copulas\n",
      "Completed the process of 43 from 144 copulas\n",
      "Completed the process of 44 from 144 copulas\n",
      "Completed the process of 45 from 144 copulas\n",
      "Completed the process of 46 from 144 copulas\n",
      "Completed the process of 47 from 144 copulas\n",
      "Completed the process of 48 from 144 copulas\n",
      "Completed the process of 49 from 144 copulas\n",
      "Completed the process of 50 from 144 copulas\n",
      "Completed the process of 51 from 144 copulas\n",
      "Completed the process of 52 from 144 copulas\n",
      "Completed the process of 53 from 144 copulas\n",
      "Completed the process of 54 from 144 copulas\n",
      "Completed the process of 55 from 144 copulas\n",
      "Completed the process of 56 from 144 copulas\n",
      "Completed the process of 57 from 144 copulas\n",
      "Completed the process of 58 from 144 copulas\n",
      "Completed the process of 59 from 144 copulas\n",
      "Completed the process of 60 from 144 copulas\n",
      "Completed the process of 61 from 144 copulas\n",
      "Completed the process of 62 from 144 copulas\n",
      "Completed the process of 63 from 144 copulas\n",
      "Completed the process of 64 from 144 copulas\n",
      "Completed the process of 65 from 144 copulas\n",
      "Completed the process of 66 from 144 copulas\n",
      "Completed the process of 67 from 144 copulas\n",
      "Completed the process of 68 from 144 copulas\n",
      "Completed the process of 69 from 144 copulas\n",
      "Completed the process of 70 from 144 copulas\n",
      "Completed the process of 71 from 144 copulas\n",
      "Completed the process of 72 from 144 copulas\n",
      "Completed the process of 73 from 144 copulas\n",
      "Completed the process of 74 from 144 copulas\n",
      "Completed the process of 75 from 144 copulas\n",
      "Completed the process of 76 from 144 copulas\n",
      "Completed the process of 77 from 144 copulas\n",
      "Completed the process of 78 from 144 copulas\n",
      "Completed the process of 79 from 144 copulas\n",
      "Completed the process of 80 from 144 copulas\n",
      "Completed the process of 81 from 144 copulas\n",
      "Completed the process of 82 from 144 copulas\n",
      "Completed the process of 83 from 144 copulas\n",
      "Completed the process of 84 from 144 copulas\n",
      "Completed the process of 85 from 144 copulas\n",
      "Completed the process of 86 from 144 copulas\n",
      "Completed the process of 87 from 144 copulas\n",
      "Completed the process of 88 from 144 copulas\n",
      "Completed the process of 89 from 144 copulas\n",
      "Completed the process of 90 from 144 copulas\n",
      "Completed the process of 91 from 144 copulas\n",
      "Completed the process of 92 from 144 copulas\n",
      "Completed the process of 93 from 144 copulas\n",
      "Completed the process of 94 from 144 copulas\n",
      "Completed the process of 95 from 144 copulas\n",
      "Completed the process of 96 from 144 copulas\n",
      "Completed the process of 97 from 144 copulas\n",
      "Completed the process of 98 from 144 copulas\n",
      "Completed the process of 99 from 144 copulas\n",
      "Completed the process of 100 from 144 copulas\n",
      "Completed the process of 101 from 144 copulas\n",
      "Completed the process of 102 from 144 copulas\n",
      "Completed the process of 103 from 144 copulas\n",
      "Completed the process of 104 from 144 copulas\n",
      "Completed the process of 105 from 144 copulas\n",
      "Completed the process of 106 from 144 copulas\n",
      "Completed the process of 107 from 144 copulas\n",
      "Completed the process of 108 from 144 copulas\n",
      "Completed the process of 109 from 144 copulas\n",
      "Completed the process of 110 from 144 copulas\n",
      "Completed the process of 111 from 144 copulas\n",
      "Completed the process of 112 from 144 copulas\n",
      "Completed the process of 113 from 144 copulas\n",
      "Completed the process of 114 from 144 copulas\n",
      "Completed the process of 115 from 144 copulas\n",
      "Completed the process of 116 from 144 copulas\n",
      "Completed the process of 117 from 144 copulas\n",
      "Completed the process of 118 from 144 copulas\n",
      "Completed the process of 119 from 144 copulas\n",
      "Completed the process of 120 from 144 copulas\n",
      "Completed the process of 121 from 144 copulas\n",
      "Completed the process of 122 from 144 copulas\n",
      "Completed the process of 123 from 144 copulas\n",
      "Completed the process of 124 from 144 copulas\n",
      "Completed the process of 125 from 144 copulas\n",
      "Completed the process of 126 from 144 copulas\n",
      "Completed the process of 127 from 144 copulas\n",
      "Completed the process of 128 from 144 copulas\n",
      "Completed the process of 129 from 144 copulas\n",
      "Completed the process of 130 from 144 copulas\n",
      "Completed the process of 131 from 144 copulas\n",
      "Completed the process of 132 from 144 copulas\n",
      "Completed the process of 133 from 144 copulas\n",
      "Completed the process of 134 from 144 copulas\n",
      "Completed the process of 135 from 144 copulas\n",
      "Completed the process of 136 from 144 copulas\n",
      "Completed the process of 137 from 144 copulas\n",
      "Completed the process of 138 from 144 copulas\n",
      "Completed the process of 139 from 144 copulas\n",
      "Completed the process of 140 from 144 copulas\n",
      "Completed the process of 141 from 144 copulas\n",
      "Completed the process of 142 from 144 copulas\n",
      "Completed the process of 143 from 144 copulas\n",
      "Completed the process of 144 from 144 copulas\n"
     ]
    }
   ],
   "source": [
    "\n",
    "(subset_linear_correlation_matrix_100_mets_filter, \n",
    "subset_non_linear_correlation_matrix_100_mets_filter, \n",
    "subset_mixed_correlation_matrix_100_mets_filter, \n",
    "subset_correlations_dictionary_100_mets_filter) = correlated_reactions(\n",
    "        steady_states = subset_extended_steady_states_100,\n",
    "        boolean_sharing_metabolites_matrix=subset_boolean_sharing_metabolites_matrix_100,\n",
    "        reactions=subset_extended_reactions_100,\n",
    "        linear_coeff = \"pearson\",\n",
    "        linear_corr_cutoff = 0.3, \n",
    "        indicator_cutoff = 1.2,\n",
    "        jensenshannon_cutoff = 0.05,\n",
    "        std_cutoff= 1e-2,\n",
    "        include_non_linear = True, \n",
    "        cells = 5, \n",
    "        cop_coeff = 0.2, \n",
    "        lower_triangle = False, \n",
    "        verbose = True\n",
    ")\n",
    "\n",
    "\n",
    "(subset_linear_correlation_matrix_0_mets_filter, \n",
    "subset_non_linear_correlation_matrix_0_mets_filter, \n",
    "subset_mixed_correlation_matrix_0_mets_filter, \n",
    "subset_correlations_dictionary_0_mets_filter) = correlated_reactions(\n",
    "        steady_states = subset_extended_steady_states_0,\n",
    "        boolean_sharing_metabolites_matrix=subset_boolean_sharing_metabolites_matrix_0,\n",
    "        reactions=subset_extended_reactions_0,\n",
    "        linear_coeff = \"pearson\",\n",
    "        linear_corr_cutoff = 0.3, \n",
    "        indicator_cutoff = 1.2,\n",
    "        jensenshannon_cutoff = 0.05,\n",
    "        std_cutoff= 1e-2,\n",
    "        include_non_linear = True, \n",
    "        cells = 5, \n",
    "        cop_coeff = 0.2, \n",
    "        lower_triangle = False, \n",
    "        verbose = True\n",
    ")\n"
   ]
  },
  {
   "cell_type": "markdown",
   "id": "a45c6442",
   "metadata": {},
   "source": [
    "### Here, we show some pairs of reactions with extreme non-linear dependencies based on the `jensenshannon` distance (this excludes sharing metabolite information present in the 3 matrices calculated above)"
   ]
  },
  {
   "cell_type": "code",
   "execution_count": 12,
   "id": "fe42f5a0",
   "metadata": {},
   "outputs": [
    {
     "name": "stdout",
     "output_type": "stream",
     "text": [
      "{'PYK~PGK': {'pearson': 0, 'jensenshannon': 0.11517866713970133, 'indicator': 1.6059379192742054, 'classification': 'positive_upper_lower_tail'}, 'PYK~PGL': {'pearson': 0, 'jensenshannon': 0.11448754945687666, 'indicator': 1.5989232815655856, 'classification': 'positive_upper_lower_tail'}, 'PYK~PGM': {'pearson': 0, 'jensenshannon': 0.11531913318452802, 'indicator': 1.6059379192742058, 'classification': 'positive_upper_lower_tail'}, 'RPE~PYK': {'pearson': 0, 'jensenshannon': 0.11423930055008931, 'indicator': 1.598923281565586, 'classification': 'positive_upper_lower_tail'}, 'RPI_rev~PYK': {'pearson': 0, 'jensenshannon': 0.1149624249498473, 'indicator': 1.6037735824645274, 'classification': 'positive_upper_lower_tail'}, 'TKT1~PYK': {'pearson': 0, 'jensenshannon': 0.1142705843943744, 'indicator': 1.5989232815655858, 'classification': 'positive_upper_lower_tail'}, 'GND~PYK': {'pearson': 0, 'jensenshannon': 0.11448754945687664, 'indicator': 1.598923281565586, 'classification': 'positive_upper_lower_tail'}}\n",
      "dict_keys(['PYK~PGK', 'PYK~PGL', 'PYK~PGM', 'RPE~PYK', 'RPI_rev~PYK', 'TKT1~PYK', 'GND~PYK'])\n",
      "{'PYK~PFK': {'pearson': 0, 'jensenshannon': -0.10089110481651221, 'indicator': 0.7628205134721049, 'classification': 'negative_upper_lower_tail'}, 'PYK~PGK_rev': {'pearson': 0, 'jensenshannon': -0.11517866713970133, 'indicator': 0.6226890765814561, 'classification': 'negative_upper_lower_tail'}, 'PYK~PGM_rev': {'pearson': 0, 'jensenshannon': -0.11531913318452804, 'indicator': 0.622689076581456, 'classification': 'negative_upper_lower_tail'}, 'RPI~PYK': {'pearson': 0, 'jensenshannon': -0.1149624249498473, 'indicator': 0.6235294127137913, 'classification': 'negative_upper_lower_tail'}, 'ENO~PYK': {'pearson': 0, 'jensenshannon': -0.11531913318452805, 'indicator': 0.6226890765814561, 'classification': 'negative_upper_lower_tail'}, 'TPI~PYK': {'pearson': 0, 'jensenshannon': -0.11503663546425676, 'indicator': 0.622689076581456, 'classification': 'negative_upper_lower_tail'}, 'FBA~PYK': {'pearson': 0, 'jensenshannon': -0.11503663546425676, 'indicator': 0.622689076581456, 'classification': 'negative_upper_lower_tail'}, 'GAPD~PYK': {'pearson': 0, 'jensenshannon': -0.11517866713970135, 'indicator': 0.622689076581456, 'classification': 'negative_upper_lower_tail'}}\n",
      "dict_keys(['PYK~PFK', 'PYK~PGK_rev', 'PYK~PGM_rev', 'RPI~PYK', 'ENO~PYK', 'TPI~PYK', 'FBA~PYK', 'GAPD~PYK'])\n"
     ]
    }
   ],
   "source": [
    "\n",
    "filtered_positive = {\n",
    "    pair: metrics\n",
    "    for pair, metrics in subset_correlations_dictionary_100_mets_filter.items()\n",
    "    if metrics['jensenshannon'] > 0.10 and metrics['indicator'] > 1.2\n",
    "}\n",
    "\n",
    "print(filtered_positive)\n",
    "print(filtered_positive.keys())\n",
    "\n",
    "filtered_negative = {\n",
    "    pair: metrics\n",
    "    for pair, metrics in subset_correlations_dictionary_100_mets_filter.items()\n",
    "    if metrics['jensenshannon'] < -0.10 and metrics['indicator'] < 1.2\n",
    "\n",
    "}\n",
    "\n",
    "print(filtered_negative)\n",
    "print(filtered_negative.keys())\n"
   ]
  },
  {
   "cell_type": "markdown",
   "id": "97084d07",
   "metadata": {},
   "source": [
    "### Plot 3 correlation matrices, (a) only with linear correlations, (b) only with non-linear correlations and (c) with both linear and non-linear correlations\n",
    "\n",
    "The `plot_correlation_matrix` function plots a correlation matrix created with the `correlated_reactions` function\n",
    "\n",
    "`REMINDER`: In these matrices correlations for reactions not sharing metabolites are filtered and that is why we dont see values in the `b` plot. In chunks below, this filter is removed and we can examine all possible correlations and dependencies."
   ]
  },
  {
   "cell_type": "code",
   "execution_count": 18,
   "id": "db45da45",
   "metadata": {},
   "outputs": [
    {
     "data": {
      "application/vnd.plotly.v1+json": {
       "config": {
        "plotlyServerURL": "https://plot.ly"
       },
       "data": [
        {
         "coloraxis": "coloraxis",
         "hoverongaps": false,
         "hovertemplate": "x: %{x}<br>y: %{y}<br>color: %{z}<extra></extra>",
         "name": "0",
         "type": "heatmap",
         "x": [
          "PFK",
          "PGK_rev",
          "PGK",
          "PGL",
          "PGM_rev",
          "PGM",
          "ALCD2x_rev",
          "ALCD2x",
          "PPCK",
          "PPS",
          "PYK",
          "RPE",
          "RPI_rev",
          "RPI",
          "ENO",
          "TKT1",
          "TPI",
          "FBA",
          "FBP",
          "GAPD",
          "GND"
         ],
         "xaxis": "x",
         "xgap": 1,
         "y": [
          "PFK",
          "PGK_rev",
          "PGK",
          "PGL",
          "PGM_rev",
          "PGM",
          "ALCD2x_rev",
          "ALCD2x",
          "PPCK",
          "PPS",
          "PYK",
          "RPE",
          "RPI_rev",
          "RPI",
          "ENO",
          "TKT1",
          "TPI",
          "FBA",
          "FBP",
          "GAPD",
          "GND"
         ],
         "yaxis": "y",
         "ygap": 1,
         "z": [
          [
           1,
           0,
           0,
           0,
           0,
           0,
           0,
           0,
           0,
           0,
           0,
           0,
           0,
           0,
           0,
           0,
           0,
           0,
           0,
           0,
           -0.8399141699054534
          ],
          [
           0,
           1,
           -1,
           0,
           0.9999842496691318,
           -0.9999842496691318,
           0,
           0,
           0,
           0,
           0,
           0,
           0,
           0,
           0,
           0,
           0,
           0,
           0,
           0,
           0
          ],
          [
           0,
           -1,
           1,
           0,
           -0.9999842496691318,
           0.9999842496691318,
           0,
           0,
           0,
           0,
           0,
           0,
           0,
           0,
           0,
           0,
           0,
           0,
           0,
           0,
           0
          ],
          [
           0,
           0,
           0,
           1,
           0,
           0,
           0,
           0,
           0,
           0,
           0,
           0,
           0,
           0,
           0,
           0,
           0,
           0,
           0,
           0,
           0
          ],
          [
           0,
           0.9999842496691318,
           -0.9999842496691318,
           0,
           1,
           -0.9999999999999999,
           0,
           0,
           0,
           0,
           0,
           0,
           0,
           0,
           0,
           -0.9998679179770082,
           0,
           0,
           0,
           0,
           0
          ],
          [
           0,
           -0.9999842496691318,
           0.9999842496691318,
           0,
           -0.9999999999999999,
           1,
           0,
           0,
           0,
           0,
           0,
           0,
           0,
           0,
           0,
           0.9998679179770082,
           0,
           0,
           0,
           0,
           0
          ],
          [
           0,
           0,
           0,
           0,
           0,
           0,
           1,
           -0.9999999999999998,
           0,
           0,
           0,
           0,
           0,
           0,
           0,
           0,
           0,
           0,
           0,
           0,
           0
          ],
          [
           0,
           0,
           0,
           0,
           0,
           0,
           -0.9999999999999998,
           1,
           0,
           0,
           0,
           0,
           0,
           0,
           0,
           0,
           0,
           0,
           0,
           0,
           0
          ],
          [
           0,
           0,
           0,
           0,
           0,
           0,
           0,
           0,
           1,
           0,
           0,
           0,
           0,
           0,
           0,
           0,
           0,
           0,
           0,
           0,
           0
          ],
          [
           0,
           0,
           0,
           0,
           0,
           0,
           0,
           0,
           0,
           1,
           0,
           0,
           0,
           0,
           0,
           0,
           0,
           0,
           0,
           0,
           0
          ],
          [
           0,
           0,
           0,
           0,
           0,
           0,
           0,
           0,
           0,
           0,
           1,
           0,
           0,
           0,
           0,
           0,
           0,
           0,
           0,
           0,
           0
          ],
          [
           0,
           0,
           0,
           0,
           0,
           0,
           0,
           0,
           0,
           0,
           0,
           1,
           0.999991827452122,
           -0.999991827452122,
           -0.9998566900345618,
           0,
           -0.9999871090614066,
           -0.9999871090614066,
           0,
           0,
           0
          ],
          [
           0,
           0,
           0,
           0,
           0,
           0,
           0,
           0,
           0,
           0,
           0,
           0.999991827452122,
           1,
           -1,
           -0.9999169618853293,
           0,
           -0.9999994647170202,
           -0.9999994647170202,
           0,
           0,
           0
          ],
          [
           0,
           0,
           0,
           0,
           0,
           0,
           0,
           0,
           0,
           0,
           0,
           -0.999991827452122,
           -1,
           1,
           0.9999169618853293,
           0,
           0.9999994647170202,
           0.9999994647170202,
           0,
           0,
           0
          ],
          [
           0,
           0,
           0,
           0,
           0,
           0,
           0,
           0,
           0,
           0,
           0,
           -0.9998566900345618,
           -0.9999169618853293,
           0.9999169618853293,
           1,
           0,
           0.9999297603682703,
           0.9999297603682703,
           0,
           0,
           0
          ],
          [
           0,
           0,
           0,
           0,
           -0.9998679179770082,
           0.9998679179770082,
           0,
           0,
           0,
           0,
           0,
           0,
           0,
           0,
           0,
           1,
           0,
           0,
           0,
           0,
           0
          ],
          [
           0,
           0,
           0,
           0,
           0,
           0,
           0,
           0,
           0,
           0,
           0,
           -0.9999871090614066,
           -0.9999994647170202,
           0.9999994647170202,
           0.9999297603682703,
           0,
           1,
           1,
           0,
           0.9999805318134158,
           -0.9999930433395773
          ],
          [
           0,
           0,
           0,
           0,
           0,
           0,
           0,
           0,
           0,
           0,
           0,
           -0.9999871090614066,
           -0.9999994647170202,
           0.9999994647170202,
           0.9999297603682703,
           0,
           1,
           1,
           0,
           0.9999805318134158,
           -0.9999930433395773
          ],
          [
           0,
           0,
           0,
           0,
           0,
           0,
           0,
           0,
           0,
           0,
           0,
           0,
           0,
           0,
           0,
           0,
           0,
           0,
           1,
           0,
           0
          ],
          [
           0,
           0,
           0,
           0,
           0,
           0,
           0,
           0,
           0,
           0,
           0,
           0,
           0,
           0,
           0,
           0,
           0.9999805318134158,
           0.9999805318134158,
           0,
           1,
           -0.9999503002568516
          ],
          [
           -0.8399141699054534,
           0,
           0,
           0,
           0,
           0,
           0,
           0,
           0,
           0,
           0,
           0,
           0,
           0,
           0,
           0,
           -0.9999930433395773,
           -0.9999930433395773,
           0,
           -0.9999503002568516,
           1
          ]
         ]
        }
       ],
       "layout": {
        "coloraxis": {
         "cmax": 1,
         "cmin": -1,
         "colorscale": [
          [
           0,
           "#d73027"
          ],
          [
           0.5,
           "#f7f7f7"
          ],
          [
           1,
           "#4575b4"
          ]
         ]
        },
        "height": 900,
        "margin": {
         "t": 60
        },
        "plot_bgcolor": "rgba(0,0,0,0)",
        "template": {
         "data": {
          "bar": [
           {
            "error_x": {
             "color": "#2a3f5f"
            },
            "error_y": {
             "color": "#2a3f5f"
            },
            "marker": {
             "line": {
              "color": "#E5ECF6",
              "width": 0.5
             },
             "pattern": {
              "fillmode": "overlay",
              "size": 10,
              "solidity": 0.2
             }
            },
            "type": "bar"
           }
          ],
          "barpolar": [
           {
            "marker": {
             "line": {
              "color": "#E5ECF6",
              "width": 0.5
             },
             "pattern": {
              "fillmode": "overlay",
              "size": 10,
              "solidity": 0.2
             }
            },
            "type": "barpolar"
           }
          ],
          "carpet": [
           {
            "aaxis": {
             "endlinecolor": "#2a3f5f",
             "gridcolor": "white",
             "linecolor": "white",
             "minorgridcolor": "white",
             "startlinecolor": "#2a3f5f"
            },
            "baxis": {
             "endlinecolor": "#2a3f5f",
             "gridcolor": "white",
             "linecolor": "white",
             "minorgridcolor": "white",
             "startlinecolor": "#2a3f5f"
            },
            "type": "carpet"
           }
          ],
          "choropleth": [
           {
            "colorbar": {
             "outlinewidth": 0,
             "ticks": ""
            },
            "type": "choropleth"
           }
          ],
          "contour": [
           {
            "colorbar": {
             "outlinewidth": 0,
             "ticks": ""
            },
            "colorscale": [
             [
              0,
              "#0d0887"
             ],
             [
              0.1111111111111111,
              "#46039f"
             ],
             [
              0.2222222222222222,
              "#7201a8"
             ],
             [
              0.3333333333333333,
              "#9c179e"
             ],
             [
              0.4444444444444444,
              "#bd3786"
             ],
             [
              0.5555555555555556,
              "#d8576b"
             ],
             [
              0.6666666666666666,
              "#ed7953"
             ],
             [
              0.7777777777777778,
              "#fb9f3a"
             ],
             [
              0.8888888888888888,
              "#fdca26"
             ],
             [
              1,
              "#f0f921"
             ]
            ],
            "type": "contour"
           }
          ],
          "contourcarpet": [
           {
            "colorbar": {
             "outlinewidth": 0,
             "ticks": ""
            },
            "type": "contourcarpet"
           }
          ],
          "heatmap": [
           {
            "colorbar": {
             "outlinewidth": 0,
             "ticks": ""
            },
            "colorscale": [
             [
              0,
              "#0d0887"
             ],
             [
              0.1111111111111111,
              "#46039f"
             ],
             [
              0.2222222222222222,
              "#7201a8"
             ],
             [
              0.3333333333333333,
              "#9c179e"
             ],
             [
              0.4444444444444444,
              "#bd3786"
             ],
             [
              0.5555555555555556,
              "#d8576b"
             ],
             [
              0.6666666666666666,
              "#ed7953"
             ],
             [
              0.7777777777777778,
              "#fb9f3a"
             ],
             [
              0.8888888888888888,
              "#fdca26"
             ],
             [
              1,
              "#f0f921"
             ]
            ],
            "type": "heatmap"
           }
          ],
          "heatmapgl": [
           {
            "colorbar": {
             "outlinewidth": 0,
             "ticks": ""
            },
            "colorscale": [
             [
              0,
              "#0d0887"
             ],
             [
              0.1111111111111111,
              "#46039f"
             ],
             [
              0.2222222222222222,
              "#7201a8"
             ],
             [
              0.3333333333333333,
              "#9c179e"
             ],
             [
              0.4444444444444444,
              "#bd3786"
             ],
             [
              0.5555555555555556,
              "#d8576b"
             ],
             [
              0.6666666666666666,
              "#ed7953"
             ],
             [
              0.7777777777777778,
              "#fb9f3a"
             ],
             [
              0.8888888888888888,
              "#fdca26"
             ],
             [
              1,
              "#f0f921"
             ]
            ],
            "type": "heatmapgl"
           }
          ],
          "histogram": [
           {
            "marker": {
             "pattern": {
              "fillmode": "overlay",
              "size": 10,
              "solidity": 0.2
             }
            },
            "type": "histogram"
           }
          ],
          "histogram2d": [
           {
            "colorbar": {
             "outlinewidth": 0,
             "ticks": ""
            },
            "colorscale": [
             [
              0,
              "#0d0887"
             ],
             [
              0.1111111111111111,
              "#46039f"
             ],
             [
              0.2222222222222222,
              "#7201a8"
             ],
             [
              0.3333333333333333,
              "#9c179e"
             ],
             [
              0.4444444444444444,
              "#bd3786"
             ],
             [
              0.5555555555555556,
              "#d8576b"
             ],
             [
              0.6666666666666666,
              "#ed7953"
             ],
             [
              0.7777777777777778,
              "#fb9f3a"
             ],
             [
              0.8888888888888888,
              "#fdca26"
             ],
             [
              1,
              "#f0f921"
             ]
            ],
            "type": "histogram2d"
           }
          ],
          "histogram2dcontour": [
           {
            "colorbar": {
             "outlinewidth": 0,
             "ticks": ""
            },
            "colorscale": [
             [
              0,
              "#0d0887"
             ],
             [
              0.1111111111111111,
              "#46039f"
             ],
             [
              0.2222222222222222,
              "#7201a8"
             ],
             [
              0.3333333333333333,
              "#9c179e"
             ],
             [
              0.4444444444444444,
              "#bd3786"
             ],
             [
              0.5555555555555556,
              "#d8576b"
             ],
             [
              0.6666666666666666,
              "#ed7953"
             ],
             [
              0.7777777777777778,
              "#fb9f3a"
             ],
             [
              0.8888888888888888,
              "#fdca26"
             ],
             [
              1,
              "#f0f921"
             ]
            ],
            "type": "histogram2dcontour"
           }
          ],
          "mesh3d": [
           {
            "colorbar": {
             "outlinewidth": 0,
             "ticks": ""
            },
            "type": "mesh3d"
           }
          ],
          "parcoords": [
           {
            "line": {
             "colorbar": {
              "outlinewidth": 0,
              "ticks": ""
             }
            },
            "type": "parcoords"
           }
          ],
          "pie": [
           {
            "automargin": true,
            "type": "pie"
           }
          ],
          "scatter": [
           {
            "fillpattern": {
             "fillmode": "overlay",
             "size": 10,
             "solidity": 0.2
            },
            "type": "scatter"
           }
          ],
          "scatter3d": [
           {
            "line": {
             "colorbar": {
              "outlinewidth": 0,
              "ticks": ""
             }
            },
            "marker": {
             "colorbar": {
              "outlinewidth": 0,
              "ticks": ""
             }
            },
            "type": "scatter3d"
           }
          ],
          "scattercarpet": [
           {
            "marker": {
             "colorbar": {
              "outlinewidth": 0,
              "ticks": ""
             }
            },
            "type": "scattercarpet"
           }
          ],
          "scattergeo": [
           {
            "marker": {
             "colorbar": {
              "outlinewidth": 0,
              "ticks": ""
             }
            },
            "type": "scattergeo"
           }
          ],
          "scattergl": [
           {
            "marker": {
             "colorbar": {
              "outlinewidth": 0,
              "ticks": ""
             }
            },
            "type": "scattergl"
           }
          ],
          "scattermapbox": [
           {
            "marker": {
             "colorbar": {
              "outlinewidth": 0,
              "ticks": ""
             }
            },
            "type": "scattermapbox"
           }
          ],
          "scatterpolar": [
           {
            "marker": {
             "colorbar": {
              "outlinewidth": 0,
              "ticks": ""
             }
            },
            "type": "scatterpolar"
           }
          ],
          "scatterpolargl": [
           {
            "marker": {
             "colorbar": {
              "outlinewidth": 0,
              "ticks": ""
             }
            },
            "type": "scatterpolargl"
           }
          ],
          "scatterternary": [
           {
            "marker": {
             "colorbar": {
              "outlinewidth": 0,
              "ticks": ""
             }
            },
            "type": "scatterternary"
           }
          ],
          "surface": [
           {
            "colorbar": {
             "outlinewidth": 0,
             "ticks": ""
            },
            "colorscale": [
             [
              0,
              "#0d0887"
             ],
             [
              0.1111111111111111,
              "#46039f"
             ],
             [
              0.2222222222222222,
              "#7201a8"
             ],
             [
              0.3333333333333333,
              "#9c179e"
             ],
             [
              0.4444444444444444,
              "#bd3786"
             ],
             [
              0.5555555555555556,
              "#d8576b"
             ],
             [
              0.6666666666666666,
              "#ed7953"
             ],
             [
              0.7777777777777778,
              "#fb9f3a"
             ],
             [
              0.8888888888888888,
              "#fdca26"
             ],
             [
              1,
              "#f0f921"
             ]
            ],
            "type": "surface"
           }
          ],
          "table": [
           {
            "cells": {
             "fill": {
              "color": "#EBF0F8"
             },
             "line": {
              "color": "white"
             }
            },
            "header": {
             "fill": {
              "color": "#C8D4E3"
             },
             "line": {
              "color": "white"
             }
            },
            "type": "table"
           }
          ]
         },
         "layout": {
          "annotationdefaults": {
           "arrowcolor": "#2a3f5f",
           "arrowhead": 0,
           "arrowwidth": 1
          },
          "autotypenumbers": "strict",
          "coloraxis": {
           "colorbar": {
            "outlinewidth": 0,
            "ticks": ""
           }
          },
          "colorscale": {
           "diverging": [
            [
             0,
             "#8e0152"
            ],
            [
             0.1,
             "#c51b7d"
            ],
            [
             0.2,
             "#de77ae"
            ],
            [
             0.3,
             "#f1b6da"
            ],
            [
             0.4,
             "#fde0ef"
            ],
            [
             0.5,
             "#f7f7f7"
            ],
            [
             0.6,
             "#e6f5d0"
            ],
            [
             0.7,
             "#b8e186"
            ],
            [
             0.8,
             "#7fbc41"
            ],
            [
             0.9,
             "#4d9221"
            ],
            [
             1,
             "#276419"
            ]
           ],
           "sequential": [
            [
             0,
             "#0d0887"
            ],
            [
             0.1111111111111111,
             "#46039f"
            ],
            [
             0.2222222222222222,
             "#7201a8"
            ],
            [
             0.3333333333333333,
             "#9c179e"
            ],
            [
             0.4444444444444444,
             "#bd3786"
            ],
            [
             0.5555555555555556,
             "#d8576b"
            ],
            [
             0.6666666666666666,
             "#ed7953"
            ],
            [
             0.7777777777777778,
             "#fb9f3a"
            ],
            [
             0.8888888888888888,
             "#fdca26"
            ],
            [
             1,
             "#f0f921"
            ]
           ],
           "sequentialminus": [
            [
             0,
             "#0d0887"
            ],
            [
             0.1111111111111111,
             "#46039f"
            ],
            [
             0.2222222222222222,
             "#7201a8"
            ],
            [
             0.3333333333333333,
             "#9c179e"
            ],
            [
             0.4444444444444444,
             "#bd3786"
            ],
            [
             0.5555555555555556,
             "#d8576b"
            ],
            [
             0.6666666666666666,
             "#ed7953"
            ],
            [
             0.7777777777777778,
             "#fb9f3a"
            ],
            [
             0.8888888888888888,
             "#fdca26"
            ],
            [
             1,
             "#f0f921"
            ]
           ]
          },
          "colorway": [
           "#636efa",
           "#EF553B",
           "#00cc96",
           "#ab63fa",
           "#FFA15A",
           "#19d3f3",
           "#FF6692",
           "#B6E880",
           "#FF97FF",
           "#FECB52"
          ],
          "font": {
           "color": "#2a3f5f"
          },
          "geo": {
           "bgcolor": "white",
           "lakecolor": "white",
           "landcolor": "#E5ECF6",
           "showlakes": true,
           "showland": true,
           "subunitcolor": "white"
          },
          "hoverlabel": {
           "align": "left"
          },
          "hovermode": "closest",
          "mapbox": {
           "style": "light"
          },
          "paper_bgcolor": "white",
          "plot_bgcolor": "#E5ECF6",
          "polar": {
           "angularaxis": {
            "gridcolor": "white",
            "linecolor": "white",
            "ticks": ""
           },
           "bgcolor": "#E5ECF6",
           "radialaxis": {
            "gridcolor": "white",
            "linecolor": "white",
            "ticks": ""
           }
          },
          "scene": {
           "xaxis": {
            "backgroundcolor": "#E5ECF6",
            "gridcolor": "white",
            "gridwidth": 2,
            "linecolor": "white",
            "showbackground": true,
            "ticks": "",
            "zerolinecolor": "white"
           },
           "yaxis": {
            "backgroundcolor": "#E5ECF6",
            "gridcolor": "white",
            "gridwidth": 2,
            "linecolor": "white",
            "showbackground": true,
            "ticks": "",
            "zerolinecolor": "white"
           },
           "zaxis": {
            "backgroundcolor": "#E5ECF6",
            "gridcolor": "white",
            "gridwidth": 2,
            "linecolor": "white",
            "showbackground": true,
            "ticks": "",
            "zerolinecolor": "white"
           }
          },
          "shapedefaults": {
           "line": {
            "color": "#2a3f5f"
           }
          },
          "ternary": {
           "aaxis": {
            "gridcolor": "white",
            "linecolor": "white",
            "ticks": ""
           },
           "baxis": {
            "gridcolor": "white",
            "linecolor": "white",
            "ticks": ""
           },
           "bgcolor": "#E5ECF6",
           "caxis": {
            "gridcolor": "white",
            "linecolor": "white",
            "ticks": ""
           }
          },
          "title": {
           "x": 0.05
          },
          "xaxis": {
           "automargin": true,
           "gridcolor": "white",
           "linecolor": "white",
           "ticks": "",
           "title": {
            "standoff": 15
           },
           "zerolinecolor": "white",
           "zerolinewidth": 2
          },
          "yaxis": {
           "automargin": true,
           "gridcolor": "white",
           "linecolor": "white",
           "ticks": "",
           "title": {
            "standoff": 15
           },
           "zerolinecolor": "white",
           "zerolinewidth": 2
          }
         }
        },
        "width": 900,
        "xaxis": {
         "anchor": "y",
         "constrain": "domain",
         "domain": [
          0,
          1
         ],
         "scaleanchor": "y",
         "tickfont": {
          "size": 10
         }
        },
        "yaxis": {
         "anchor": "x",
         "autorange": "reversed",
         "constrain": "domain",
         "domain": [
          0,
          1
         ],
         "tickfont": {
          "size": 10
         }
        }
       }
      }
     },
     "metadata": {},
     "output_type": "display_data"
    },
    {
     "data": {
      "application/vnd.plotly.v1+json": {
       "config": {
        "plotlyServerURL": "https://plot.ly"
       },
       "data": [
        {
         "coloraxis": "coloraxis",
         "hoverongaps": false,
         "hovertemplate": "x: %{x}<br>y: %{y}<br>color: %{z}<extra></extra>",
         "name": "0",
         "type": "heatmap",
         "x": [
          "PFK",
          "PGK_rev",
          "PGK",
          "PGL",
          "PGM_rev",
          "PGM",
          "ALCD2x_rev",
          "ALCD2x",
          "PPCK",
          "PPS",
          "PYK",
          "RPE",
          "RPI_rev",
          "RPI",
          "ENO",
          "TKT1",
          "TPI",
          "FBA",
          "FBP",
          "GAPD",
          "GND"
         ],
         "xaxis": "x",
         "xgap": 1,
         "y": [
          "PFK",
          "PGK_rev",
          "PGK",
          "PGL",
          "PGM_rev",
          "PGM",
          "ALCD2x_rev",
          "ALCD2x",
          "PPCK",
          "PPS",
          "PYK",
          "RPE",
          "RPI_rev",
          "RPI",
          "ENO",
          "TKT1",
          "TPI",
          "FBA",
          "FBP",
          "GAPD",
          "GND"
         ],
         "yaxis": "y",
         "ygap": 1,
         "z": [
          [
           0,
           0,
           0,
           0,
           0,
           0,
           0,
           0,
           0,
           0,
           0,
           0,
           0,
           0,
           0,
           0,
           0,
           0,
           0,
           0,
           0
          ],
          [
           0,
           0,
           0,
           0,
           0,
           0,
           0,
           0,
           0,
           0,
           0,
           0,
           0,
           0,
           0,
           0,
           0,
           0,
           0,
           0,
           0
          ],
          [
           0,
           0,
           0,
           0,
           0,
           0,
           0,
           0,
           0,
           0,
           0,
           0,
           0,
           0,
           0,
           0,
           0,
           0,
           0,
           0,
           0
          ],
          [
           0,
           0,
           0,
           0,
           0,
           0,
           0,
           0,
           0,
           0,
           0,
           0,
           0,
           0,
           0,
           0,
           0,
           0,
           0,
           0,
           0
          ],
          [
           0,
           0,
           0,
           0,
           0,
           0,
           0,
           0,
           0,
           0,
           0,
           0,
           0,
           0,
           0,
           0,
           0,
           0,
           0,
           0,
           0
          ],
          [
           0,
           0,
           0,
           0,
           0,
           0,
           0,
           0,
           0,
           0,
           0,
           0,
           0,
           0,
           0,
           0,
           0,
           0,
           0,
           0,
           0
          ],
          [
           0,
           0,
           0,
           0,
           0,
           0,
           0,
           0,
           0,
           0,
           0,
           0,
           0,
           0,
           0,
           0,
           0,
           0,
           0,
           0,
           0
          ],
          [
           0,
           0,
           0,
           0,
           0,
           0,
           0,
           0,
           0,
           0,
           0,
           0,
           0,
           0,
           0,
           0,
           0,
           0,
           0,
           0,
           0
          ],
          [
           0,
           0,
           0,
           0,
           0,
           0,
           0,
           0,
           0,
           0,
           0,
           0,
           0,
           0,
           0,
           0,
           0,
           0,
           0,
           0,
           0
          ],
          [
           0,
           0,
           0,
           0,
           0,
           0,
           0,
           0,
           0,
           0,
           0,
           0,
           0,
           0,
           0,
           0,
           0,
           0,
           0,
           0,
           0
          ],
          [
           0,
           0,
           0,
           0,
           0,
           0,
           0,
           0,
           0,
           0,
           0,
           0,
           0,
           0,
           0,
           0,
           0,
           0,
           0,
           0,
           0
          ],
          [
           0,
           0,
           0,
           0,
           0,
           0,
           0,
           0,
           0,
           0,
           0,
           0,
           0,
           0,
           0,
           0,
           0,
           0,
           0,
           0,
           0
          ],
          [
           0,
           0,
           0,
           0,
           0,
           0,
           0,
           0,
           0,
           0,
           0,
           0,
           0,
           0,
           0,
           0,
           0,
           0,
           0,
           0,
           0
          ],
          [
           0,
           0,
           0,
           0,
           0,
           0,
           0,
           0,
           0,
           0,
           0,
           0,
           0,
           0,
           0,
           0,
           0,
           0,
           0,
           0,
           0
          ],
          [
           0,
           0,
           0,
           0,
           0,
           0,
           0,
           0,
           0,
           0,
           0,
           0,
           0,
           0,
           0,
           0,
           0,
           0,
           0,
           0,
           0
          ],
          [
           0,
           0,
           0,
           0,
           0,
           0,
           0,
           0,
           0,
           0,
           0,
           0,
           0,
           0,
           0,
           0,
           0,
           0,
           0,
           0,
           0
          ],
          [
           0,
           0,
           0,
           0,
           0,
           0,
           0,
           0,
           0,
           0,
           0,
           0,
           0,
           0,
           0,
           0,
           0,
           0,
           0,
           0,
           0
          ],
          [
           0,
           0,
           0,
           0,
           0,
           0,
           0,
           0,
           0,
           0,
           0,
           0,
           0,
           0,
           0,
           0,
           0,
           0,
           0,
           0,
           0
          ],
          [
           0,
           0,
           0,
           0,
           0,
           0,
           0,
           0,
           0,
           0,
           0,
           0,
           0,
           0,
           0,
           0,
           0,
           0,
           0,
           0,
           0
          ],
          [
           0,
           0,
           0,
           0,
           0,
           0,
           0,
           0,
           0,
           0,
           0,
           0,
           0,
           0,
           0,
           0,
           0,
           0,
           0,
           0,
           0
          ],
          [
           0,
           0,
           0,
           0,
           0,
           0,
           0,
           0,
           0,
           0,
           0,
           0,
           0,
           0,
           0,
           0,
           0,
           0,
           0,
           0,
           0
          ]
         ]
        }
       ],
       "layout": {
        "coloraxis": {
         "cmax": 1,
         "cmin": -1,
         "colorscale": [
          [
           0,
           "#d73027"
          ],
          [
           0.5,
           "#f7f7f7"
          ],
          [
           1,
           "#4575b4"
          ]
         ]
        },
        "height": 900,
        "margin": {
         "t": 60
        },
        "plot_bgcolor": "rgba(0,0,0,0)",
        "template": {
         "data": {
          "bar": [
           {
            "error_x": {
             "color": "#2a3f5f"
            },
            "error_y": {
             "color": "#2a3f5f"
            },
            "marker": {
             "line": {
              "color": "#E5ECF6",
              "width": 0.5
             },
             "pattern": {
              "fillmode": "overlay",
              "size": 10,
              "solidity": 0.2
             }
            },
            "type": "bar"
           }
          ],
          "barpolar": [
           {
            "marker": {
             "line": {
              "color": "#E5ECF6",
              "width": 0.5
             },
             "pattern": {
              "fillmode": "overlay",
              "size": 10,
              "solidity": 0.2
             }
            },
            "type": "barpolar"
           }
          ],
          "carpet": [
           {
            "aaxis": {
             "endlinecolor": "#2a3f5f",
             "gridcolor": "white",
             "linecolor": "white",
             "minorgridcolor": "white",
             "startlinecolor": "#2a3f5f"
            },
            "baxis": {
             "endlinecolor": "#2a3f5f",
             "gridcolor": "white",
             "linecolor": "white",
             "minorgridcolor": "white",
             "startlinecolor": "#2a3f5f"
            },
            "type": "carpet"
           }
          ],
          "choropleth": [
           {
            "colorbar": {
             "outlinewidth": 0,
             "ticks": ""
            },
            "type": "choropleth"
           }
          ],
          "contour": [
           {
            "colorbar": {
             "outlinewidth": 0,
             "ticks": ""
            },
            "colorscale": [
             [
              0,
              "#0d0887"
             ],
             [
              0.1111111111111111,
              "#46039f"
             ],
             [
              0.2222222222222222,
              "#7201a8"
             ],
             [
              0.3333333333333333,
              "#9c179e"
             ],
             [
              0.4444444444444444,
              "#bd3786"
             ],
             [
              0.5555555555555556,
              "#d8576b"
             ],
             [
              0.6666666666666666,
              "#ed7953"
             ],
             [
              0.7777777777777778,
              "#fb9f3a"
             ],
             [
              0.8888888888888888,
              "#fdca26"
             ],
             [
              1,
              "#f0f921"
             ]
            ],
            "type": "contour"
           }
          ],
          "contourcarpet": [
           {
            "colorbar": {
             "outlinewidth": 0,
             "ticks": ""
            },
            "type": "contourcarpet"
           }
          ],
          "heatmap": [
           {
            "colorbar": {
             "outlinewidth": 0,
             "ticks": ""
            },
            "colorscale": [
             [
              0,
              "#0d0887"
             ],
             [
              0.1111111111111111,
              "#46039f"
             ],
             [
              0.2222222222222222,
              "#7201a8"
             ],
             [
              0.3333333333333333,
              "#9c179e"
             ],
             [
              0.4444444444444444,
              "#bd3786"
             ],
             [
              0.5555555555555556,
              "#d8576b"
             ],
             [
              0.6666666666666666,
              "#ed7953"
             ],
             [
              0.7777777777777778,
              "#fb9f3a"
             ],
             [
              0.8888888888888888,
              "#fdca26"
             ],
             [
              1,
              "#f0f921"
             ]
            ],
            "type": "heatmap"
           }
          ],
          "heatmapgl": [
           {
            "colorbar": {
             "outlinewidth": 0,
             "ticks": ""
            },
            "colorscale": [
             [
              0,
              "#0d0887"
             ],
             [
              0.1111111111111111,
              "#46039f"
             ],
             [
              0.2222222222222222,
              "#7201a8"
             ],
             [
              0.3333333333333333,
              "#9c179e"
             ],
             [
              0.4444444444444444,
              "#bd3786"
             ],
             [
              0.5555555555555556,
              "#d8576b"
             ],
             [
              0.6666666666666666,
              "#ed7953"
             ],
             [
              0.7777777777777778,
              "#fb9f3a"
             ],
             [
              0.8888888888888888,
              "#fdca26"
             ],
             [
              1,
              "#f0f921"
             ]
            ],
            "type": "heatmapgl"
           }
          ],
          "histogram": [
           {
            "marker": {
             "pattern": {
              "fillmode": "overlay",
              "size": 10,
              "solidity": 0.2
             }
            },
            "type": "histogram"
           }
          ],
          "histogram2d": [
           {
            "colorbar": {
             "outlinewidth": 0,
             "ticks": ""
            },
            "colorscale": [
             [
              0,
              "#0d0887"
             ],
             [
              0.1111111111111111,
              "#46039f"
             ],
             [
              0.2222222222222222,
              "#7201a8"
             ],
             [
              0.3333333333333333,
              "#9c179e"
             ],
             [
              0.4444444444444444,
              "#bd3786"
             ],
             [
              0.5555555555555556,
              "#d8576b"
             ],
             [
              0.6666666666666666,
              "#ed7953"
             ],
             [
              0.7777777777777778,
              "#fb9f3a"
             ],
             [
              0.8888888888888888,
              "#fdca26"
             ],
             [
              1,
              "#f0f921"
             ]
            ],
            "type": "histogram2d"
           }
          ],
          "histogram2dcontour": [
           {
            "colorbar": {
             "outlinewidth": 0,
             "ticks": ""
            },
            "colorscale": [
             [
              0,
              "#0d0887"
             ],
             [
              0.1111111111111111,
              "#46039f"
             ],
             [
              0.2222222222222222,
              "#7201a8"
             ],
             [
              0.3333333333333333,
              "#9c179e"
             ],
             [
              0.4444444444444444,
              "#bd3786"
             ],
             [
              0.5555555555555556,
              "#d8576b"
             ],
             [
              0.6666666666666666,
              "#ed7953"
             ],
             [
              0.7777777777777778,
              "#fb9f3a"
             ],
             [
              0.8888888888888888,
              "#fdca26"
             ],
             [
              1,
              "#f0f921"
             ]
            ],
            "type": "histogram2dcontour"
           }
          ],
          "mesh3d": [
           {
            "colorbar": {
             "outlinewidth": 0,
             "ticks": ""
            },
            "type": "mesh3d"
           }
          ],
          "parcoords": [
           {
            "line": {
             "colorbar": {
              "outlinewidth": 0,
              "ticks": ""
             }
            },
            "type": "parcoords"
           }
          ],
          "pie": [
           {
            "automargin": true,
            "type": "pie"
           }
          ],
          "scatter": [
           {
            "fillpattern": {
             "fillmode": "overlay",
             "size": 10,
             "solidity": 0.2
            },
            "type": "scatter"
           }
          ],
          "scatter3d": [
           {
            "line": {
             "colorbar": {
              "outlinewidth": 0,
              "ticks": ""
             }
            },
            "marker": {
             "colorbar": {
              "outlinewidth": 0,
              "ticks": ""
             }
            },
            "type": "scatter3d"
           }
          ],
          "scattercarpet": [
           {
            "marker": {
             "colorbar": {
              "outlinewidth": 0,
              "ticks": ""
             }
            },
            "type": "scattercarpet"
           }
          ],
          "scattergeo": [
           {
            "marker": {
             "colorbar": {
              "outlinewidth": 0,
              "ticks": ""
             }
            },
            "type": "scattergeo"
           }
          ],
          "scattergl": [
           {
            "marker": {
             "colorbar": {
              "outlinewidth": 0,
              "ticks": ""
             }
            },
            "type": "scattergl"
           }
          ],
          "scattermapbox": [
           {
            "marker": {
             "colorbar": {
              "outlinewidth": 0,
              "ticks": ""
             }
            },
            "type": "scattermapbox"
           }
          ],
          "scatterpolar": [
           {
            "marker": {
             "colorbar": {
              "outlinewidth": 0,
              "ticks": ""
             }
            },
            "type": "scatterpolar"
           }
          ],
          "scatterpolargl": [
           {
            "marker": {
             "colorbar": {
              "outlinewidth": 0,
              "ticks": ""
             }
            },
            "type": "scatterpolargl"
           }
          ],
          "scatterternary": [
           {
            "marker": {
             "colorbar": {
              "outlinewidth": 0,
              "ticks": ""
             }
            },
            "type": "scatterternary"
           }
          ],
          "surface": [
           {
            "colorbar": {
             "outlinewidth": 0,
             "ticks": ""
            },
            "colorscale": [
             [
              0,
              "#0d0887"
             ],
             [
              0.1111111111111111,
              "#46039f"
             ],
             [
              0.2222222222222222,
              "#7201a8"
             ],
             [
              0.3333333333333333,
              "#9c179e"
             ],
             [
              0.4444444444444444,
              "#bd3786"
             ],
             [
              0.5555555555555556,
              "#d8576b"
             ],
             [
              0.6666666666666666,
              "#ed7953"
             ],
             [
              0.7777777777777778,
              "#fb9f3a"
             ],
             [
              0.8888888888888888,
              "#fdca26"
             ],
             [
              1,
              "#f0f921"
             ]
            ],
            "type": "surface"
           }
          ],
          "table": [
           {
            "cells": {
             "fill": {
              "color": "#EBF0F8"
             },
             "line": {
              "color": "white"
             }
            },
            "header": {
             "fill": {
              "color": "#C8D4E3"
             },
             "line": {
              "color": "white"
             }
            },
            "type": "table"
           }
          ]
         },
         "layout": {
          "annotationdefaults": {
           "arrowcolor": "#2a3f5f",
           "arrowhead": 0,
           "arrowwidth": 1
          },
          "autotypenumbers": "strict",
          "coloraxis": {
           "colorbar": {
            "outlinewidth": 0,
            "ticks": ""
           }
          },
          "colorscale": {
           "diverging": [
            [
             0,
             "#8e0152"
            ],
            [
             0.1,
             "#c51b7d"
            ],
            [
             0.2,
             "#de77ae"
            ],
            [
             0.3,
             "#f1b6da"
            ],
            [
             0.4,
             "#fde0ef"
            ],
            [
             0.5,
             "#f7f7f7"
            ],
            [
             0.6,
             "#e6f5d0"
            ],
            [
             0.7,
             "#b8e186"
            ],
            [
             0.8,
             "#7fbc41"
            ],
            [
             0.9,
             "#4d9221"
            ],
            [
             1,
             "#276419"
            ]
           ],
           "sequential": [
            [
             0,
             "#0d0887"
            ],
            [
             0.1111111111111111,
             "#46039f"
            ],
            [
             0.2222222222222222,
             "#7201a8"
            ],
            [
             0.3333333333333333,
             "#9c179e"
            ],
            [
             0.4444444444444444,
             "#bd3786"
            ],
            [
             0.5555555555555556,
             "#d8576b"
            ],
            [
             0.6666666666666666,
             "#ed7953"
            ],
            [
             0.7777777777777778,
             "#fb9f3a"
            ],
            [
             0.8888888888888888,
             "#fdca26"
            ],
            [
             1,
             "#f0f921"
            ]
           ],
           "sequentialminus": [
            [
             0,
             "#0d0887"
            ],
            [
             0.1111111111111111,
             "#46039f"
            ],
            [
             0.2222222222222222,
             "#7201a8"
            ],
            [
             0.3333333333333333,
             "#9c179e"
            ],
            [
             0.4444444444444444,
             "#bd3786"
            ],
            [
             0.5555555555555556,
             "#d8576b"
            ],
            [
             0.6666666666666666,
             "#ed7953"
            ],
            [
             0.7777777777777778,
             "#fb9f3a"
            ],
            [
             0.8888888888888888,
             "#fdca26"
            ],
            [
             1,
             "#f0f921"
            ]
           ]
          },
          "colorway": [
           "#636efa",
           "#EF553B",
           "#00cc96",
           "#ab63fa",
           "#FFA15A",
           "#19d3f3",
           "#FF6692",
           "#B6E880",
           "#FF97FF",
           "#FECB52"
          ],
          "font": {
           "color": "#2a3f5f"
          },
          "geo": {
           "bgcolor": "white",
           "lakecolor": "white",
           "landcolor": "#E5ECF6",
           "showlakes": true,
           "showland": true,
           "subunitcolor": "white"
          },
          "hoverlabel": {
           "align": "left"
          },
          "hovermode": "closest",
          "mapbox": {
           "style": "light"
          },
          "paper_bgcolor": "white",
          "plot_bgcolor": "#E5ECF6",
          "polar": {
           "angularaxis": {
            "gridcolor": "white",
            "linecolor": "white",
            "ticks": ""
           },
           "bgcolor": "#E5ECF6",
           "radialaxis": {
            "gridcolor": "white",
            "linecolor": "white",
            "ticks": ""
           }
          },
          "scene": {
           "xaxis": {
            "backgroundcolor": "#E5ECF6",
            "gridcolor": "white",
            "gridwidth": 2,
            "linecolor": "white",
            "showbackground": true,
            "ticks": "",
            "zerolinecolor": "white"
           },
           "yaxis": {
            "backgroundcolor": "#E5ECF6",
            "gridcolor": "white",
            "gridwidth": 2,
            "linecolor": "white",
            "showbackground": true,
            "ticks": "",
            "zerolinecolor": "white"
           },
           "zaxis": {
            "backgroundcolor": "#E5ECF6",
            "gridcolor": "white",
            "gridwidth": 2,
            "linecolor": "white",
            "showbackground": true,
            "ticks": "",
            "zerolinecolor": "white"
           }
          },
          "shapedefaults": {
           "line": {
            "color": "#2a3f5f"
           }
          },
          "ternary": {
           "aaxis": {
            "gridcolor": "white",
            "linecolor": "white",
            "ticks": ""
           },
           "baxis": {
            "gridcolor": "white",
            "linecolor": "white",
            "ticks": ""
           },
           "bgcolor": "#E5ECF6",
           "caxis": {
            "gridcolor": "white",
            "linecolor": "white",
            "ticks": ""
           }
          },
          "title": {
           "x": 0.05
          },
          "xaxis": {
           "automargin": true,
           "gridcolor": "white",
           "linecolor": "white",
           "ticks": "",
           "title": {
            "standoff": 15
           },
           "zerolinecolor": "white",
           "zerolinewidth": 2
          },
          "yaxis": {
           "automargin": true,
           "gridcolor": "white",
           "linecolor": "white",
           "ticks": "",
           "title": {
            "standoff": 15
           },
           "zerolinecolor": "white",
           "zerolinewidth": 2
          }
         }
        },
        "width": 900,
        "xaxis": {
         "anchor": "y",
         "constrain": "domain",
         "domain": [
          0,
          1
         ],
         "scaleanchor": "y",
         "tickfont": {
          "size": 10
         }
        },
        "yaxis": {
         "anchor": "x",
         "autorange": "reversed",
         "constrain": "domain",
         "domain": [
          0,
          1
         ],
         "tickfont": {
          "size": 10
         }
        }
       }
      }
     },
     "metadata": {},
     "output_type": "display_data"
    },
    {
     "data": {
      "application/vnd.plotly.v1+json": {
       "config": {
        "plotlyServerURL": "https://plot.ly"
       },
       "data": [
        {
         "coloraxis": "coloraxis",
         "hoverongaps": false,
         "hovertemplate": "x: %{x}<br>y: %{y}<br>color: %{z}<extra></extra>",
         "name": "0",
         "type": "heatmap",
         "x": [
          "PFK",
          "PGK_rev",
          "PGK",
          "PGL",
          "PGM_rev",
          "PGM",
          "ALCD2x_rev",
          "ALCD2x",
          "PPCK",
          "PPS",
          "PYK",
          "RPE",
          "RPI_rev",
          "RPI",
          "ENO",
          "TKT1",
          "TPI",
          "FBA",
          "FBP",
          "GAPD",
          "GND"
         ],
         "xaxis": "x",
         "xgap": 1,
         "y": [
          "PFK",
          "PGK_rev",
          "PGK",
          "PGL",
          "PGM_rev",
          "PGM",
          "ALCD2x_rev",
          "ALCD2x",
          "PPCK",
          "PPS",
          "PYK",
          "RPE",
          "RPI_rev",
          "RPI",
          "ENO",
          "TKT1",
          "TPI",
          "FBA",
          "FBP",
          "GAPD",
          "GND"
         ],
         "yaxis": "y",
         "ygap": 1,
         "z": [
          [
           1,
           0,
           0,
           0,
           0,
           0,
           0,
           0,
           0,
           0,
           0,
           0,
           0,
           0,
           0,
           0,
           0,
           0,
           0,
           0,
           -0.8399141699054534
          ],
          [
           0,
           1,
           -1,
           0,
           0.9999842496691318,
           -0.9999842496691318,
           0,
           0,
           0,
           0,
           0,
           0,
           0,
           0,
           0,
           0,
           0,
           0,
           0,
           0,
           0
          ],
          [
           0,
           -1,
           1,
           0,
           -0.9999842496691318,
           0.9999842496691318,
           0,
           0,
           0,
           0,
           0,
           0,
           0,
           0,
           0,
           0,
           0,
           0,
           0,
           0,
           0
          ],
          [
           0,
           0,
           0,
           1,
           0,
           0,
           0,
           0,
           0,
           0,
           0,
           0,
           0,
           0,
           0,
           0,
           0,
           0,
           0,
           0,
           0
          ],
          [
           0,
           0.9999842496691318,
           -0.9999842496691318,
           0,
           1,
           -0.9999999999999999,
           0,
           0,
           0,
           0,
           0,
           0,
           0,
           0,
           0,
           -0.9998679179770082,
           0,
           0,
           0,
           0,
           0
          ],
          [
           0,
           -0.9999842496691318,
           0.9999842496691318,
           0,
           -0.9999999999999999,
           1,
           0,
           0,
           0,
           0,
           0,
           0,
           0,
           0,
           0,
           0.9998679179770082,
           0,
           0,
           0,
           0,
           0
          ],
          [
           0,
           0,
           0,
           0,
           0,
           0,
           1,
           -0.9999999999999998,
           0,
           0,
           0,
           0,
           0,
           0,
           0,
           0,
           0,
           0,
           0,
           0,
           0
          ],
          [
           0,
           0,
           0,
           0,
           0,
           0,
           -0.9999999999999998,
           1,
           0,
           0,
           0,
           0,
           0,
           0,
           0,
           0,
           0,
           0,
           0,
           0,
           0
          ],
          [
           0,
           0,
           0,
           0,
           0,
           0,
           0,
           0,
           1,
           0,
           0,
           0,
           0,
           0,
           0,
           0,
           0,
           0,
           0,
           0,
           0
          ],
          [
           0,
           0,
           0,
           0,
           0,
           0,
           0,
           0,
           0,
           1,
           0,
           0,
           0,
           0,
           0,
           0,
           0,
           0,
           0,
           0,
           0
          ],
          [
           0,
           0,
           0,
           0,
           0,
           0,
           0,
           0,
           0,
           0,
           1,
           0,
           0,
           0,
           0,
           0,
           0,
           0,
           0,
           0,
           0
          ],
          [
           0,
           0,
           0,
           0,
           0,
           0,
           0,
           0,
           0,
           0,
           0,
           1,
           0.999991827452122,
           -0.999991827452122,
           -0.9998566900345618,
           0,
           -0.9999871090614066,
           -0.9999871090614066,
           0,
           0,
           0
          ],
          [
           0,
           0,
           0,
           0,
           0,
           0,
           0,
           0,
           0,
           0,
           0,
           0.999991827452122,
           1,
           -1,
           -0.9999169618853293,
           0,
           -0.9999994647170202,
           -0.9999994647170202,
           0,
           0,
           0
          ],
          [
           0,
           0,
           0,
           0,
           0,
           0,
           0,
           0,
           0,
           0,
           0,
           -0.999991827452122,
           -1,
           1,
           0.9999169618853293,
           0,
           0.9999994647170202,
           0.9999994647170202,
           0,
           0,
           0
          ],
          [
           0,
           0,
           0,
           0,
           0,
           0,
           0,
           0,
           0,
           0,
           0,
           -0.9998566900345618,
           -0.9999169618853293,
           0.9999169618853293,
           1,
           0,
           0.9999297603682703,
           0.9999297603682703,
           0,
           0,
           0
          ],
          [
           0,
           0,
           0,
           0,
           -0.9998679179770082,
           0.9998679179770082,
           0,
           0,
           0,
           0,
           0,
           0,
           0,
           0,
           0,
           1,
           0,
           0,
           0,
           0,
           0
          ],
          [
           0,
           0,
           0,
           0,
           0,
           0,
           0,
           0,
           0,
           0,
           0,
           -0.9999871090614066,
           -0.9999994647170202,
           0.9999994647170202,
           0.9999297603682703,
           0,
           1,
           1,
           0,
           0.9999805318134158,
           -0.9999930433395773
          ],
          [
           0,
           0,
           0,
           0,
           0,
           0,
           0,
           0,
           0,
           0,
           0,
           -0.9999871090614066,
           -0.9999994647170202,
           0.9999994647170202,
           0.9999297603682703,
           0,
           1,
           1,
           0,
           0.9999805318134158,
           -0.9999930433395773
          ],
          [
           0,
           0,
           0,
           0,
           0,
           0,
           0,
           0,
           0,
           0,
           0,
           0,
           0,
           0,
           0,
           0,
           0,
           0,
           1,
           0,
           0
          ],
          [
           0,
           0,
           0,
           0,
           0,
           0,
           0,
           0,
           0,
           0,
           0,
           0,
           0,
           0,
           0,
           0,
           0.9999805318134158,
           0.9999805318134158,
           0,
           1,
           -0.9999503002568516
          ],
          [
           -0.8399141699054534,
           0,
           0,
           0,
           0,
           0,
           0,
           0,
           0,
           0,
           0,
           0,
           0,
           0,
           0,
           0,
           -0.9999930433395773,
           -0.9999930433395773,
           0,
           -0.9999503002568516,
           1
          ]
         ]
        }
       ],
       "layout": {
        "coloraxis": {
         "cmax": 1,
         "cmin": -1,
         "colorscale": [
          [
           0,
           "#d73027"
          ],
          [
           0.5,
           "#f7f7f7"
          ],
          [
           1,
           "#4575b4"
          ]
         ]
        },
        "height": 900,
        "margin": {
         "t": 60
        },
        "plot_bgcolor": "rgba(0,0,0,0)",
        "template": {
         "data": {
          "bar": [
           {
            "error_x": {
             "color": "#2a3f5f"
            },
            "error_y": {
             "color": "#2a3f5f"
            },
            "marker": {
             "line": {
              "color": "#E5ECF6",
              "width": 0.5
             },
             "pattern": {
              "fillmode": "overlay",
              "size": 10,
              "solidity": 0.2
             }
            },
            "type": "bar"
           }
          ],
          "barpolar": [
           {
            "marker": {
             "line": {
              "color": "#E5ECF6",
              "width": 0.5
             },
             "pattern": {
              "fillmode": "overlay",
              "size": 10,
              "solidity": 0.2
             }
            },
            "type": "barpolar"
           }
          ],
          "carpet": [
           {
            "aaxis": {
             "endlinecolor": "#2a3f5f",
             "gridcolor": "white",
             "linecolor": "white",
             "minorgridcolor": "white",
             "startlinecolor": "#2a3f5f"
            },
            "baxis": {
             "endlinecolor": "#2a3f5f",
             "gridcolor": "white",
             "linecolor": "white",
             "minorgridcolor": "white",
             "startlinecolor": "#2a3f5f"
            },
            "type": "carpet"
           }
          ],
          "choropleth": [
           {
            "colorbar": {
             "outlinewidth": 0,
             "ticks": ""
            },
            "type": "choropleth"
           }
          ],
          "contour": [
           {
            "colorbar": {
             "outlinewidth": 0,
             "ticks": ""
            },
            "colorscale": [
             [
              0,
              "#0d0887"
             ],
             [
              0.1111111111111111,
              "#46039f"
             ],
             [
              0.2222222222222222,
              "#7201a8"
             ],
             [
              0.3333333333333333,
              "#9c179e"
             ],
             [
              0.4444444444444444,
              "#bd3786"
             ],
             [
              0.5555555555555556,
              "#d8576b"
             ],
             [
              0.6666666666666666,
              "#ed7953"
             ],
             [
              0.7777777777777778,
              "#fb9f3a"
             ],
             [
              0.8888888888888888,
              "#fdca26"
             ],
             [
              1,
              "#f0f921"
             ]
            ],
            "type": "contour"
           }
          ],
          "contourcarpet": [
           {
            "colorbar": {
             "outlinewidth": 0,
             "ticks": ""
            },
            "type": "contourcarpet"
           }
          ],
          "heatmap": [
           {
            "colorbar": {
             "outlinewidth": 0,
             "ticks": ""
            },
            "colorscale": [
             [
              0,
              "#0d0887"
             ],
             [
              0.1111111111111111,
              "#46039f"
             ],
             [
              0.2222222222222222,
              "#7201a8"
             ],
             [
              0.3333333333333333,
              "#9c179e"
             ],
             [
              0.4444444444444444,
              "#bd3786"
             ],
             [
              0.5555555555555556,
              "#d8576b"
             ],
             [
              0.6666666666666666,
              "#ed7953"
             ],
             [
              0.7777777777777778,
              "#fb9f3a"
             ],
             [
              0.8888888888888888,
              "#fdca26"
             ],
             [
              1,
              "#f0f921"
             ]
            ],
            "type": "heatmap"
           }
          ],
          "heatmapgl": [
           {
            "colorbar": {
             "outlinewidth": 0,
             "ticks": ""
            },
            "colorscale": [
             [
              0,
              "#0d0887"
             ],
             [
              0.1111111111111111,
              "#46039f"
             ],
             [
              0.2222222222222222,
              "#7201a8"
             ],
             [
              0.3333333333333333,
              "#9c179e"
             ],
             [
              0.4444444444444444,
              "#bd3786"
             ],
             [
              0.5555555555555556,
              "#d8576b"
             ],
             [
              0.6666666666666666,
              "#ed7953"
             ],
             [
              0.7777777777777778,
              "#fb9f3a"
             ],
             [
              0.8888888888888888,
              "#fdca26"
             ],
             [
              1,
              "#f0f921"
             ]
            ],
            "type": "heatmapgl"
           }
          ],
          "histogram": [
           {
            "marker": {
             "pattern": {
              "fillmode": "overlay",
              "size": 10,
              "solidity": 0.2
             }
            },
            "type": "histogram"
           }
          ],
          "histogram2d": [
           {
            "colorbar": {
             "outlinewidth": 0,
             "ticks": ""
            },
            "colorscale": [
             [
              0,
              "#0d0887"
             ],
             [
              0.1111111111111111,
              "#46039f"
             ],
             [
              0.2222222222222222,
              "#7201a8"
             ],
             [
              0.3333333333333333,
              "#9c179e"
             ],
             [
              0.4444444444444444,
              "#bd3786"
             ],
             [
              0.5555555555555556,
              "#d8576b"
             ],
             [
              0.6666666666666666,
              "#ed7953"
             ],
             [
              0.7777777777777778,
              "#fb9f3a"
             ],
             [
              0.8888888888888888,
              "#fdca26"
             ],
             [
              1,
              "#f0f921"
             ]
            ],
            "type": "histogram2d"
           }
          ],
          "histogram2dcontour": [
           {
            "colorbar": {
             "outlinewidth": 0,
             "ticks": ""
            },
            "colorscale": [
             [
              0,
              "#0d0887"
             ],
             [
              0.1111111111111111,
              "#46039f"
             ],
             [
              0.2222222222222222,
              "#7201a8"
             ],
             [
              0.3333333333333333,
              "#9c179e"
             ],
             [
              0.4444444444444444,
              "#bd3786"
             ],
             [
              0.5555555555555556,
              "#d8576b"
             ],
             [
              0.6666666666666666,
              "#ed7953"
             ],
             [
              0.7777777777777778,
              "#fb9f3a"
             ],
             [
              0.8888888888888888,
              "#fdca26"
             ],
             [
              1,
              "#f0f921"
             ]
            ],
            "type": "histogram2dcontour"
           }
          ],
          "mesh3d": [
           {
            "colorbar": {
             "outlinewidth": 0,
             "ticks": ""
            },
            "type": "mesh3d"
           }
          ],
          "parcoords": [
           {
            "line": {
             "colorbar": {
              "outlinewidth": 0,
              "ticks": ""
             }
            },
            "type": "parcoords"
           }
          ],
          "pie": [
           {
            "automargin": true,
            "type": "pie"
           }
          ],
          "scatter": [
           {
            "fillpattern": {
             "fillmode": "overlay",
             "size": 10,
             "solidity": 0.2
            },
            "type": "scatter"
           }
          ],
          "scatter3d": [
           {
            "line": {
             "colorbar": {
              "outlinewidth": 0,
              "ticks": ""
             }
            },
            "marker": {
             "colorbar": {
              "outlinewidth": 0,
              "ticks": ""
             }
            },
            "type": "scatter3d"
           }
          ],
          "scattercarpet": [
           {
            "marker": {
             "colorbar": {
              "outlinewidth": 0,
              "ticks": ""
             }
            },
            "type": "scattercarpet"
           }
          ],
          "scattergeo": [
           {
            "marker": {
             "colorbar": {
              "outlinewidth": 0,
              "ticks": ""
             }
            },
            "type": "scattergeo"
           }
          ],
          "scattergl": [
           {
            "marker": {
             "colorbar": {
              "outlinewidth": 0,
              "ticks": ""
             }
            },
            "type": "scattergl"
           }
          ],
          "scattermapbox": [
           {
            "marker": {
             "colorbar": {
              "outlinewidth": 0,
              "ticks": ""
             }
            },
            "type": "scattermapbox"
           }
          ],
          "scatterpolar": [
           {
            "marker": {
             "colorbar": {
              "outlinewidth": 0,
              "ticks": ""
             }
            },
            "type": "scatterpolar"
           }
          ],
          "scatterpolargl": [
           {
            "marker": {
             "colorbar": {
              "outlinewidth": 0,
              "ticks": ""
             }
            },
            "type": "scatterpolargl"
           }
          ],
          "scatterternary": [
           {
            "marker": {
             "colorbar": {
              "outlinewidth": 0,
              "ticks": ""
             }
            },
            "type": "scatterternary"
           }
          ],
          "surface": [
           {
            "colorbar": {
             "outlinewidth": 0,
             "ticks": ""
            },
            "colorscale": [
             [
              0,
              "#0d0887"
             ],
             [
              0.1111111111111111,
              "#46039f"
             ],
             [
              0.2222222222222222,
              "#7201a8"
             ],
             [
              0.3333333333333333,
              "#9c179e"
             ],
             [
              0.4444444444444444,
              "#bd3786"
             ],
             [
              0.5555555555555556,
              "#d8576b"
             ],
             [
              0.6666666666666666,
              "#ed7953"
             ],
             [
              0.7777777777777778,
              "#fb9f3a"
             ],
             [
              0.8888888888888888,
              "#fdca26"
             ],
             [
              1,
              "#f0f921"
             ]
            ],
            "type": "surface"
           }
          ],
          "table": [
           {
            "cells": {
             "fill": {
              "color": "#EBF0F8"
             },
             "line": {
              "color": "white"
             }
            },
            "header": {
             "fill": {
              "color": "#C8D4E3"
             },
             "line": {
              "color": "white"
             }
            },
            "type": "table"
           }
          ]
         },
         "layout": {
          "annotationdefaults": {
           "arrowcolor": "#2a3f5f",
           "arrowhead": 0,
           "arrowwidth": 1
          },
          "autotypenumbers": "strict",
          "coloraxis": {
           "colorbar": {
            "outlinewidth": 0,
            "ticks": ""
           }
          },
          "colorscale": {
           "diverging": [
            [
             0,
             "#8e0152"
            ],
            [
             0.1,
             "#c51b7d"
            ],
            [
             0.2,
             "#de77ae"
            ],
            [
             0.3,
             "#f1b6da"
            ],
            [
             0.4,
             "#fde0ef"
            ],
            [
             0.5,
             "#f7f7f7"
            ],
            [
             0.6,
             "#e6f5d0"
            ],
            [
             0.7,
             "#b8e186"
            ],
            [
             0.8,
             "#7fbc41"
            ],
            [
             0.9,
             "#4d9221"
            ],
            [
             1,
             "#276419"
            ]
           ],
           "sequential": [
            [
             0,
             "#0d0887"
            ],
            [
             0.1111111111111111,
             "#46039f"
            ],
            [
             0.2222222222222222,
             "#7201a8"
            ],
            [
             0.3333333333333333,
             "#9c179e"
            ],
            [
             0.4444444444444444,
             "#bd3786"
            ],
            [
             0.5555555555555556,
             "#d8576b"
            ],
            [
             0.6666666666666666,
             "#ed7953"
            ],
            [
             0.7777777777777778,
             "#fb9f3a"
            ],
            [
             0.8888888888888888,
             "#fdca26"
            ],
            [
             1,
             "#f0f921"
            ]
           ],
           "sequentialminus": [
            [
             0,
             "#0d0887"
            ],
            [
             0.1111111111111111,
             "#46039f"
            ],
            [
             0.2222222222222222,
             "#7201a8"
            ],
            [
             0.3333333333333333,
             "#9c179e"
            ],
            [
             0.4444444444444444,
             "#bd3786"
            ],
            [
             0.5555555555555556,
             "#d8576b"
            ],
            [
             0.6666666666666666,
             "#ed7953"
            ],
            [
             0.7777777777777778,
             "#fb9f3a"
            ],
            [
             0.8888888888888888,
             "#fdca26"
            ],
            [
             1,
             "#f0f921"
            ]
           ]
          },
          "colorway": [
           "#636efa",
           "#EF553B",
           "#00cc96",
           "#ab63fa",
           "#FFA15A",
           "#19d3f3",
           "#FF6692",
           "#B6E880",
           "#FF97FF",
           "#FECB52"
          ],
          "font": {
           "color": "#2a3f5f"
          },
          "geo": {
           "bgcolor": "white",
           "lakecolor": "white",
           "landcolor": "#E5ECF6",
           "showlakes": true,
           "showland": true,
           "subunitcolor": "white"
          },
          "hoverlabel": {
           "align": "left"
          },
          "hovermode": "closest",
          "mapbox": {
           "style": "light"
          },
          "paper_bgcolor": "white",
          "plot_bgcolor": "#E5ECF6",
          "polar": {
           "angularaxis": {
            "gridcolor": "white",
            "linecolor": "white",
            "ticks": ""
           },
           "bgcolor": "#E5ECF6",
           "radialaxis": {
            "gridcolor": "white",
            "linecolor": "white",
            "ticks": ""
           }
          },
          "scene": {
           "xaxis": {
            "backgroundcolor": "#E5ECF6",
            "gridcolor": "white",
            "gridwidth": 2,
            "linecolor": "white",
            "showbackground": true,
            "ticks": "",
            "zerolinecolor": "white"
           },
           "yaxis": {
            "backgroundcolor": "#E5ECF6",
            "gridcolor": "white",
            "gridwidth": 2,
            "linecolor": "white",
            "showbackground": true,
            "ticks": "",
            "zerolinecolor": "white"
           },
           "zaxis": {
            "backgroundcolor": "#E5ECF6",
            "gridcolor": "white",
            "gridwidth": 2,
            "linecolor": "white",
            "showbackground": true,
            "ticks": "",
            "zerolinecolor": "white"
           }
          },
          "shapedefaults": {
           "line": {
            "color": "#2a3f5f"
           }
          },
          "ternary": {
           "aaxis": {
            "gridcolor": "white",
            "linecolor": "white",
            "ticks": ""
           },
           "baxis": {
            "gridcolor": "white",
            "linecolor": "white",
            "ticks": ""
           },
           "bgcolor": "#E5ECF6",
           "caxis": {
            "gridcolor": "white",
            "linecolor": "white",
            "ticks": ""
           }
          },
          "title": {
           "x": 0.05
          },
          "xaxis": {
           "automargin": true,
           "gridcolor": "white",
           "linecolor": "white",
           "ticks": "",
           "title": {
            "standoff": 15
           },
           "zerolinecolor": "white",
           "zerolinewidth": 2
          },
          "yaxis": {
           "automargin": true,
           "gridcolor": "white",
           "linecolor": "white",
           "ticks": "",
           "title": {
            "standoff": 15
           },
           "zerolinecolor": "white",
           "zerolinewidth": 2
          }
         }
        },
        "width": 900,
        "xaxis": {
         "anchor": "y",
         "constrain": "domain",
         "domain": [
          0,
          1
         ],
         "scaleanchor": "y",
         "tickfont": {
          "size": 10
         }
        },
        "yaxis": {
         "anchor": "x",
         "autorange": "reversed",
         "constrain": "domain",
         "domain": [
          0,
          1
         ],
         "tickfont": {
          "size": 10
         }
        }
       }
      }
     },
     "metadata": {},
     "output_type": "display_data"
    }
   ],
   "source": [
    "\n",
    "# a, only linear correlations\n",
    "plot_correlation_matrix(subset_linear_correlation_matrix_100_mets_filter, \n",
    "                        subset_extended_reactions_100, \n",
    "                        label_font_size=10)\n",
    "\n",
    "# b, only non-linear copula dependencies\n",
    "plot_correlation_matrix(subset_non_linear_correlation_matrix_100_mets_filter, \n",
    "                        subset_extended_reactions_100, \n",
    "                        label_font_size=10)\n",
    "\n",
    "# c, both linear and non-linear\n",
    "plot_correlation_matrix(subset_mixed_correlation_matrix_100_mets_filter, \n",
    "                        subset_extended_reactions_100, \n",
    "                        label_font_size=10)\n"
   ]
  },
  {
   "cell_type": "markdown",
   "id": "99c969cd",
   "metadata": {},
   "source": [
    "### Calculate pairwise linear correlations and non-linear copula dependencies without filtering for sharing metabolites"
   ]
  },
  {
   "cell_type": "code",
   "execution_count": null,
   "id": "08a77060",
   "metadata": {},
   "outputs": [
    {
     "name": "stdout",
     "output_type": "stream",
     "text": [
      "Completed the process of 30 from 103 copulas\n",
      "Completed the process of 31 from 103 copulas\n",
      "Completed the process of 32 from 103 copulas\n",
      "Completed the process of 33 from 103 copulas\n",
      "Completed the process of 34 from 103 copulas\n",
      "Completed the process of 35 from 103 copulas\n",
      "Completed the process of 44 from 103 copulas\n",
      "Completed the process of 49 from 103 copulas\n",
      "Completed the process of 54 from 103 copulas\n",
      "Completed the process of 59 from 103 copulas\n",
      "Completed the process of 64 from 103 copulas\n",
      "Completed the process of 69 from 103 copulas\n",
      "Completed the process of 74 from 103 copulas\n",
      "Completed the process of 96 from 103 copulas\n",
      "Completed the process of 102 from 103 copulas\n",
      "Completed the process of 1 from 144 copulas\n",
      "Completed the process of 2 from 144 copulas\n",
      "Completed the process of 3 from 144 copulas\n",
      "Completed the process of 4 from 144 copulas\n",
      "Completed the process of 5 from 144 copulas\n",
      "Completed the process of 6 from 144 copulas\n",
      "Completed the process of 7 from 144 copulas\n",
      "Completed the process of 8 from 144 copulas\n",
      "Completed the process of 9 from 144 copulas\n",
      "Completed the process of 10 from 144 copulas\n",
      "Completed the process of 11 from 144 copulas\n",
      "Completed the process of 12 from 144 copulas\n",
      "Completed the process of 13 from 144 copulas\n",
      "Completed the process of 14 from 144 copulas\n",
      "Completed the process of 15 from 144 copulas\n",
      "Completed the process of 16 from 144 copulas\n",
      "Completed the process of 17 from 144 copulas\n",
      "Completed the process of 18 from 144 copulas\n",
      "Completed the process of 19 from 144 copulas\n",
      "Completed the process of 20 from 144 copulas\n",
      "Completed the process of 21 from 144 copulas\n",
      "Completed the process of 22 from 144 copulas\n",
      "Completed the process of 23 from 144 copulas\n",
      "Completed the process of 24 from 144 copulas\n",
      "Completed the process of 25 from 144 copulas\n",
      "Completed the process of 26 from 144 copulas\n",
      "Completed the process of 27 from 144 copulas\n",
      "Completed the process of 28 from 144 copulas\n",
      "Completed the process of 29 from 144 copulas\n",
      "Completed the process of 30 from 144 copulas\n",
      "Completed the process of 31 from 144 copulas\n",
      "Completed the process of 32 from 144 copulas\n",
      "Completed the process of 33 from 144 copulas\n",
      "Completed the process of 34 from 144 copulas\n",
      "Completed the process of 35 from 144 copulas\n",
      "Completed the process of 36 from 144 copulas\n",
      "Completed the process of 37 from 144 copulas\n",
      "Completed the process of 38 from 144 copulas\n",
      "Completed the process of 39 from 144 copulas\n",
      "Completed the process of 40 from 144 copulas\n",
      "Completed the process of 41 from 144 copulas\n",
      "Completed the process of 42 from 144 copulas\n",
      "Completed the process of 43 from 144 copulas\n",
      "Completed the process of 44 from 144 copulas\n",
      "Completed the process of 45 from 144 copulas\n",
      "Completed the process of 46 from 144 copulas\n",
      "Completed the process of 47 from 144 copulas\n",
      "Completed the process of 48 from 144 copulas\n",
      "Completed the process of 49 from 144 copulas\n",
      "Completed the process of 50 from 144 copulas\n",
      "Completed the process of 51 from 144 copulas\n",
      "Completed the process of 52 from 144 copulas\n",
      "Completed the process of 53 from 144 copulas\n",
      "Completed the process of 54 from 144 copulas\n",
      "Completed the process of 55 from 144 copulas\n",
      "Completed the process of 56 from 144 copulas\n",
      "Completed the process of 57 from 144 copulas\n",
      "Completed the process of 58 from 144 copulas\n",
      "Completed the process of 59 from 144 copulas\n",
      "Completed the process of 60 from 144 copulas\n",
      "Completed the process of 61 from 144 copulas\n",
      "Completed the process of 62 from 144 copulas\n",
      "Completed the process of 63 from 144 copulas\n",
      "Completed the process of 64 from 144 copulas\n",
      "Completed the process of 65 from 144 copulas\n",
      "Completed the process of 66 from 144 copulas\n",
      "Completed the process of 67 from 144 copulas\n",
      "Completed the process of 68 from 144 copulas\n",
      "Completed the process of 69 from 144 copulas\n",
      "Completed the process of 70 from 144 copulas\n",
      "Completed the process of 71 from 144 copulas\n",
      "Completed the process of 72 from 144 copulas\n",
      "Completed the process of 73 from 144 copulas\n",
      "Completed the process of 74 from 144 copulas\n",
      "Completed the process of 75 from 144 copulas\n",
      "Completed the process of 76 from 144 copulas\n",
      "Completed the process of 77 from 144 copulas\n",
      "Completed the process of 78 from 144 copulas\n",
      "Completed the process of 79 from 144 copulas\n",
      "Completed the process of 80 from 144 copulas\n",
      "Completed the process of 81 from 144 copulas\n",
      "Completed the process of 82 from 144 copulas\n",
      "Completed the process of 83 from 144 copulas\n",
      "Completed the process of 84 from 144 copulas\n",
      "Completed the process of 85 from 144 copulas\n",
      "Completed the process of 86 from 144 copulas\n",
      "Completed the process of 87 from 144 copulas\n",
      "Completed the process of 88 from 144 copulas\n",
      "Completed the process of 89 from 144 copulas\n",
      "Completed the process of 90 from 144 copulas\n",
      "Completed the process of 91 from 144 copulas\n",
      "Completed the process of 92 from 144 copulas\n",
      "Completed the process of 93 from 144 copulas\n",
      "Completed the process of 94 from 144 copulas\n",
      "Completed the process of 95 from 144 copulas\n",
      "Completed the process of 96 from 144 copulas\n",
      "Completed the process of 97 from 144 copulas\n",
      "Completed the process of 98 from 144 copulas\n",
      "Completed the process of 99 from 144 copulas\n",
      "Completed the process of 100 from 144 copulas\n",
      "Completed the process of 101 from 144 copulas\n",
      "Completed the process of 102 from 144 copulas\n",
      "Completed the process of 103 from 144 copulas\n",
      "Completed the process of 104 from 144 copulas\n",
      "Completed the process of 105 from 144 copulas\n",
      "Completed the process of 106 from 144 copulas\n",
      "Completed the process of 107 from 144 copulas\n",
      "Completed the process of 108 from 144 copulas\n",
      "Completed the process of 109 from 144 copulas\n",
      "Completed the process of 110 from 144 copulas\n",
      "Completed the process of 111 from 144 copulas\n",
      "Completed the process of 112 from 144 copulas\n",
      "Completed the process of 113 from 144 copulas\n",
      "Completed the process of 114 from 144 copulas\n",
      "Completed the process of 115 from 144 copulas\n",
      "Completed the process of 116 from 144 copulas\n",
      "Completed the process of 117 from 144 copulas\n",
      "Completed the process of 118 from 144 copulas\n",
      "Completed the process of 119 from 144 copulas\n",
      "Completed the process of 120 from 144 copulas\n",
      "Completed the process of 121 from 144 copulas\n",
      "Completed the process of 122 from 144 copulas\n",
      "Completed the process of 123 from 144 copulas\n",
      "Completed the process of 124 from 144 copulas\n",
      "Completed the process of 125 from 144 copulas\n",
      "Completed the process of 126 from 144 copulas\n",
      "Completed the process of 127 from 144 copulas\n",
      "Completed the process of 128 from 144 copulas\n",
      "Completed the process of 129 from 144 copulas\n",
      "Completed the process of 130 from 144 copulas\n",
      "Completed the process of 131 from 144 copulas\n",
      "Completed the process of 132 from 144 copulas\n",
      "Completed the process of 133 from 144 copulas\n",
      "Completed the process of 134 from 144 copulas\n",
      "Completed the process of 135 from 144 copulas\n",
      "Completed the process of 136 from 144 copulas\n",
      "Completed the process of 137 from 144 copulas\n",
      "Completed the process of 138 from 144 copulas\n",
      "Completed the process of 139 from 144 copulas\n",
      "Completed the process of 140 from 144 copulas\n",
      "Completed the process of 141 from 144 copulas\n",
      "Completed the process of 142 from 144 copulas\n",
      "Completed the process of 143 from 144 copulas\n",
      "Completed the process of 144 from 144 copulas\n"
     ]
    }
   ],
   "source": [
    "\n",
    "(subset_linear_correlation_matrix_100, \n",
    "subset_non_linear_correlation_matrix_100, \n",
    "subset_mixed_correlation_matrix_100, \n",
    "subset_correlations_dictionary_100) = correlated_reactions(\n",
    "        steady_states = subset_extended_steady_states_100,\n",
    "        boolean_sharing_metabolites_matrix=None,\n",
    "        reactions=subset_extended_reactions_100,\n",
    "        linear_coeff = \"pearson\",\n",
    "        linear_corr_cutoff = 0.3, \n",
    "        indicator_cutoff = 1.2,\n",
    "        jensenshannon_cutoff = 0.05,\n",
    "        std_cutoff= 1e-2,\n",
    "        include_non_linear = True, \n",
    "        cells = 5, \n",
    "        cop_coeff = 0.2, \n",
    "        lower_triangle = False, \n",
    "        verbose = True\n",
    ")\n",
    "\n",
    "\n",
    "(subset_linear_correlation_matrix_0, \n",
    "subset_non_linear_correlation_matrix_0, \n",
    "subset_mixed_correlation_matrix_0, \n",
    "subset_correlations_dictionary_0) = correlated_reactions(\n",
    "        steady_states = subset_extended_steady_states_0,\n",
    "        boolean_sharing_metabolites_matrix=None,\n",
    "        reactions=subset_extended_reactions_0,\n",
    "        linear_coeff = \"pearson\",\n",
    "        linear_corr_cutoff = 0.3, \n",
    "        indicator_cutoff = 1.2,\n",
    "        jensenshannon_cutoff = 0.05,\n",
    "        std_cutoff= 1e-2,\n",
    "        include_non_linear = True, \n",
    "        cells = 5, \n",
    "        cop_coeff = 0.2, \n",
    "        lower_triangle = False, \n",
    "        verbose = True\n",
    ")\n"
   ]
  },
  {
   "cell_type": "markdown",
   "id": "03ae7de6",
   "metadata": {},
   "source": [
    "### Here, we show some pairs of reactions with extreme non-linear dependencies based on the `jensenshannon` distance"
   ]
  },
  {
   "cell_type": "code",
   "execution_count": 15,
   "id": "50a69669",
   "metadata": {},
   "outputs": [
    {
     "name": "stdout",
     "output_type": "stream",
     "text": [
      "{'PYK~PGK': {'pearson': 0, 'jensenshannon': 0.11517866713970133, 'indicator': 1.6059379192742054, 'classification': 'positive_upper_lower_tail'}, 'PYK~PGL': {'pearson': 0, 'jensenshannon': 0.11448754945687666, 'indicator': 1.5989232815655856, 'classification': 'positive_upper_lower_tail'}, 'PYK~PGM': {'pearson': 0, 'jensenshannon': 0.11531913318452802, 'indicator': 1.6059379192742058, 'classification': 'positive_upper_lower_tail'}, 'RPE~PYK': {'pearson': 0, 'jensenshannon': 0.11423930055008931, 'indicator': 1.598923281565586, 'classification': 'positive_upper_lower_tail'}, 'RPI_rev~PYK': {'pearson': 0, 'jensenshannon': 0.1149624249498473, 'indicator': 1.6037735824645274, 'classification': 'positive_upper_lower_tail'}, 'TKT1~PYK': {'pearson': 0, 'jensenshannon': 0.1142705843943744, 'indicator': 1.5989232815655858, 'classification': 'positive_upper_lower_tail'}, 'GND~PYK': {'pearson': 0, 'jensenshannon': 0.11448754945687664, 'indicator': 1.598923281565586, 'classification': 'positive_upper_lower_tail'}}\n",
      "dict_keys(['PYK~PGK', 'PYK~PGL', 'PYK~PGM', 'RPE~PYK', 'RPI_rev~PYK', 'TKT1~PYK', 'GND~PYK'])\n",
      "{'PYK~PFK': {'pearson': 0, 'jensenshannon': -0.10089110481651221, 'indicator': 0.7628205134721049, 'classification': 'negative_upper_lower_tail'}, 'PYK~PGK_rev': {'pearson': 0, 'jensenshannon': -0.11517866713970133, 'indicator': 0.6226890765814561, 'classification': 'negative_upper_lower_tail'}, 'PYK~PGM_rev': {'pearson': 0, 'jensenshannon': -0.11531913318452804, 'indicator': 0.622689076581456, 'classification': 'negative_upper_lower_tail'}, 'RPI~PYK': {'pearson': 0, 'jensenshannon': -0.1149624249498473, 'indicator': 0.6235294127137913, 'classification': 'negative_upper_lower_tail'}, 'ENO~PYK': {'pearson': 0, 'jensenshannon': -0.11531913318452805, 'indicator': 0.6226890765814561, 'classification': 'negative_upper_lower_tail'}, 'TPI~PYK': {'pearson': 0, 'jensenshannon': -0.11503663546425676, 'indicator': 0.622689076581456, 'classification': 'negative_upper_lower_tail'}, 'FBA~PYK': {'pearson': 0, 'jensenshannon': -0.11503663546425676, 'indicator': 0.622689076581456, 'classification': 'negative_upper_lower_tail'}, 'GAPD~PYK': {'pearson': 0, 'jensenshannon': -0.11517866713970135, 'indicator': 0.622689076581456, 'classification': 'negative_upper_lower_tail'}}\n",
      "dict_keys(['PYK~PFK', 'PYK~PGK_rev', 'PYK~PGM_rev', 'RPI~PYK', 'ENO~PYK', 'TPI~PYK', 'FBA~PYK', 'GAPD~PYK'])\n"
     ]
    }
   ],
   "source": [
    "\n",
    "filtered_g = {\n",
    "    pair: metrics\n",
    "    for pair, metrics in subset_correlations_dictionary_100.items()\n",
    "    if metrics['jensenshannon'] > 0.1 and metrics['indicator'] > 1.2\n",
    "}\n",
    "\n",
    "print(filtered_g)\n",
    "print(filtered_g.keys())\n",
    "\n",
    "\n",
    "filtered_l = {\n",
    "    pair: metrics\n",
    "    for pair, metrics in subset_correlations_dictionary_100.items()\n",
    "    if metrics['jensenshannon'] < -0.1 and metrics['indicator'] < 1.2\n",
    "\n",
    "}\n",
    "\n",
    "print(filtered_l)\n",
    "print(filtered_l.keys())\n"
   ]
  },
  {
   "cell_type": "markdown",
   "id": "48194db2",
   "metadata": {},
   "source": [
    "### Plot 3 correlation matrices, (a) only with linear correlations, (b) only with non-linear correlations and (c) with both linear and non-linear correlations\n",
    "\n",
    "`REMINDER`: In these matrices correlations for reactions not sharing metabolites are `NOT` filtered and that is why we see values in the `b` plot."
   ]
  },
  {
   "cell_type": "code",
   "execution_count": null,
   "id": "83f008e6",
   "metadata": {},
   "outputs": [
    {
     "data": {
      "application/vnd.plotly.v1+json": {
       "config": {
        "plotlyServerURL": "https://plot.ly"
       },
       "data": [
        {
         "coloraxis": "coloraxis",
         "hoverongaps": false,
         "hovertemplate": "x: %{x}<br>y: %{y}<br>color: %{z}<extra></extra>",
         "name": "0",
         "type": "heatmap",
         "x": [
          "PFK",
          "PGK_rev",
          "PGK",
          "PGL",
          "PGM_rev",
          "PGM",
          "ALCD2x_rev",
          "ALCD2x",
          "PPCK",
          "PPS",
          "PYK",
          "RPE",
          "RPI_rev",
          "RPI",
          "ENO",
          "TKT1",
          "TPI",
          "FBA",
          "FBP",
          "GAPD",
          "GND"
         ],
         "xaxis": "x",
         "xgap": 1,
         "y": [
          "PFK",
          "PGK_rev",
          "PGK",
          "PGL",
          "PGM_rev",
          "PGM",
          "ALCD2x_rev",
          "ALCD2x",
          "PPCK",
          "PPS",
          "PYK",
          "RPE",
          "RPI_rev",
          "RPI",
          "ENO",
          "TKT1",
          "TPI",
          "FBA",
          "FBP",
          "GAPD",
          "GND"
         ],
         "yaxis": "y",
         "ygap": 1,
         "z": [
          [
           1,
           0.8401025225885786,
           -0.8401025225885786,
           -0.8399141699054534,
           0.8401718193638497,
           -0.8401718193638497,
           0,
           0,
           0,
           0,
           0,
           -0.8398823072181386,
           -0.8399733262535017,
           0.8399733262535017,
           0.8401718193638497,
           -0.8398984998037332,
           0.8399944138772352,
           0.8399944138772352,
           0.5709337663111471,
           0.8401025225885786,
           -0.8399141699054534
          ],
          [
           0.8401025225885786,
           1,
           -1,
           -0.9999503002568516,
           0.9999842496691318,
           -0.9999842496691318,
           0,
           0,
           0,
           0,
           0,
           -0.9999359577460847,
           -0.999973540261838,
           0.999973540261838,
           0.9999842496691318,
           -0.9999433877465055,
           0.9999805318134158,
           0.9999805318134158,
           0,
           1,
           -0.9999503002568516
          ],
          [
           -0.8401025225885786,
           -1,
           1,
           0.9999503002568516,
           -0.9999842496691318,
           0.9999842496691318,
           0,
           0,
           0,
           0,
           0,
           0.9999359577460847,
           0.999973540261838,
           -0.999973540261838,
           -0.9999842496691318,
           0.9999433877465055,
           -0.9999805318134158,
           -0.9999805318134158,
           0,
           -1,
           0.9999503002568516
          ],
          [
           -0.8399141699054534,
           -0.9999503002568516,
           0.9999503002568516,
           1,
           -0.9998785949483138,
           0.9998785949483138,
           0,
           0,
           0,
           0,
           0,
           0.9999990920780258,
           0.9999963674737328,
           -0.9999963674737328,
           -0.9998785949483138,
           0.9999997750269032,
           -0.9999930433395773,
           -0.9999930433395773,
           0,
           -0.9999503002568515,
           1
          ],
          [
           0.8401718193638497,
           0.9999842496691318,
           -0.9999842496691318,
           -0.9998785949483138,
           1,
           -0.9999999999999999,
           0,
           0,
           0,
           0,
           0,
           -0.9998566900345617,
           -0.9999169618853293,
           0.9999169618853293,
           0.9999999999999999,
           -0.9998679179770082,
           0.9999297603682703,
           0.9999297603682703,
           0,
           0.9999842496691319,
           -0.9998785949483137
          ],
          [
           -0.8401718193638497,
           -0.9999842496691318,
           0.9999842496691318,
           0.9998785949483138,
           -0.9999999999999999,
           1,
           0,
           0,
           0,
           0,
           0,
           0.9998566900345617,
           0.9999169618853293,
           -0.9999169618853293,
           -0.9999999999999999,
           0.9998679179770082,
           -0.9999297603682703,
           -0.9999297603682703,
           0,
           -0.9999842496691319,
           0.9998785949483137
          ],
          [
           0,
           0,
           0,
           0,
           0,
           0,
           1,
           -0.9999999999999998,
           0,
           0,
           0,
           0,
           0,
           0,
           0,
           0,
           0,
           0,
           0,
           0,
           0
          ],
          [
           0,
           0,
           0,
           0,
           0,
           0,
           -0.9999999999999998,
           1,
           0,
           0,
           0,
           0,
           0,
           0,
           0,
           0,
           0,
           0,
           0,
           0,
           0
          ],
          [
           0,
           0,
           0,
           0,
           0,
           0,
           0,
           0,
           1,
           0,
           0,
           0,
           0,
           0,
           0,
           0,
           0,
           0,
           0,
           0,
           0
          ],
          [
           0,
           0,
           0,
           0,
           0,
           0,
           0,
           0,
           0,
           1,
           0,
           0,
           0,
           0,
           0,
           0,
           0,
           0,
           0,
           0,
           0
          ],
          [
           0,
           0,
           0,
           0,
           0,
           0,
           0,
           0,
           0,
           0,
           1,
           0,
           0,
           0,
           0,
           0,
           0,
           0,
           0,
           0,
           0
          ],
          [
           -0.8398823072181386,
           -0.9999359577460847,
           0.9999359577460847,
           0.9999990920780258,
           -0.9998566900345617,
           0.9998566900345617,
           0,
           0,
           0,
           0,
           0,
           1,
           0.999991827452122,
           -0.999991827452122,
           -0.9998566900345618,
           0.9999997710031419,
           -0.9999871090614066,
           -0.9999871090614066,
           0,
           -0.9999359577460848,
           0.9999990920780258
          ],
          [
           -0.8399733262535017,
           -0.999973540261838,
           0.999973540261838,
           0.9999963674737328,
           -0.9999169618853293,
           0.9999169618853293,
           0,
           0,
           0,
           0,
           0,
           0.999991827452122,
           1,
           -1,
           -0.9999169618853293,
           0.9999943344980174,
           -0.9999994647170202,
           -0.9999994647170202,
           0,
           -0.999973540261838,
           0.9999963674737327
          ],
          [
           0.8399733262535017,
           0.999973540261838,
           -0.999973540261838,
           -0.9999963674737328,
           0.9999169618853293,
           -0.9999169618853293,
           0,
           0,
           0,
           0,
           0,
           -0.999991827452122,
           -1,
           1,
           0.9999169618853293,
           -0.9999943344980174,
           0.9999994647170202,
           0.9999994647170202,
           0,
           0.999973540261838,
           -0.9999963674737327
          ],
          [
           0.8401718193638497,
           0.9999842496691318,
           -0.9999842496691318,
           -0.9998785949483138,
           0.9999999999999999,
           -0.9999999999999999,
           0,
           0,
           0,
           0,
           0,
           -0.9998566900345618,
           -0.9999169618853293,
           0.9999169618853293,
           1,
           -0.9998679179770082,
           0.9999297603682703,
           0.9999297603682703,
           0,
           0.9999842496691319,
           -0.9998785949483137
          ],
          [
           -0.8398984998037332,
           -0.9999433877465055,
           0.9999433877465055,
           0.9999997750269032,
           -0.9998679179770082,
           0.9998679179770082,
           0,
           0,
           0,
           0,
           0,
           0.9999997710031419,
           0.9999943344980174,
           -0.9999943344980174,
           -0.9998679179770082,
           1,
           -0.9999903163242277,
           -0.9999903163242277,
           0,
           -0.9999433877465055,
           0.9999997750269033
          ],
          [
           0.8399944138772352,
           0.9999805318134158,
           -0.9999805318134158,
           -0.9999930433395773,
           0.9999297603682703,
           -0.9999297603682703,
           0,
           0,
           0,
           0,
           0,
           -0.9999871090614066,
           -0.9999994647170202,
           0.9999994647170202,
           0.9999297603682703,
           -0.9999903163242277,
           1,
           1,
           0,
           0.9999805318134158,
           -0.9999930433395773
          ],
          [
           0.8399944138772352,
           0.9999805318134158,
           -0.9999805318134158,
           -0.9999930433395773,
           0.9999297603682703,
           -0.9999297603682703,
           0,
           0,
           0,
           0,
           0,
           -0.9999871090614066,
           -0.9999994647170202,
           0.9999994647170202,
           0.9999297603682703,
           -0.9999903163242277,
           1,
           1,
           0,
           0.9999805318134158,
           -0.9999930433395773
          ],
          [
           0.5709337663111471,
           0,
           0,
           0,
           0,
           0,
           0,
           0,
           0,
           0,
           0,
           0,
           0,
           0,
           0,
           0,
           0,
           0,
           1,
           0,
           0
          ],
          [
           0.8401025225885786,
           1,
           -1,
           -0.9999503002568515,
           0.9999842496691319,
           -0.9999842496691319,
           0,
           0,
           0,
           0,
           0,
           -0.9999359577460848,
           -0.999973540261838,
           0.999973540261838,
           0.9999842496691319,
           -0.9999433877465055,
           0.9999805318134158,
           0.9999805318134158,
           0,
           1,
           -0.9999503002568516
          ],
          [
           -0.8399141699054534,
           -0.9999503002568516,
           0.9999503002568516,
           1,
           -0.9998785949483137,
           0.9998785949483137,
           0,
           0,
           0,
           0,
           0,
           0.9999990920780258,
           0.9999963674737327,
           -0.9999963674737327,
           -0.9998785949483137,
           0.9999997750269033,
           -0.9999930433395773,
           -0.9999930433395773,
           0,
           -0.9999503002568516,
           1
          ]
         ]
        }
       ],
       "layout": {
        "coloraxis": {
         "cmax": 1,
         "cmin": -1,
         "colorscale": [
          [
           0,
           "#d73027"
          ],
          [
           0.5,
           "#f7f7f7"
          ],
          [
           1,
           "#4575b4"
          ]
         ]
        },
        "height": 900,
        "margin": {
         "t": 60
        },
        "plot_bgcolor": "rgba(0,0,0,0)",
        "template": {
         "data": {
          "bar": [
           {
            "error_x": {
             "color": "#2a3f5f"
            },
            "error_y": {
             "color": "#2a3f5f"
            },
            "marker": {
             "line": {
              "color": "#E5ECF6",
              "width": 0.5
             },
             "pattern": {
              "fillmode": "overlay",
              "size": 10,
              "solidity": 0.2
             }
            },
            "type": "bar"
           }
          ],
          "barpolar": [
           {
            "marker": {
             "line": {
              "color": "#E5ECF6",
              "width": 0.5
             },
             "pattern": {
              "fillmode": "overlay",
              "size": 10,
              "solidity": 0.2
             }
            },
            "type": "barpolar"
           }
          ],
          "carpet": [
           {
            "aaxis": {
             "endlinecolor": "#2a3f5f",
             "gridcolor": "white",
             "linecolor": "white",
             "minorgridcolor": "white",
             "startlinecolor": "#2a3f5f"
            },
            "baxis": {
             "endlinecolor": "#2a3f5f",
             "gridcolor": "white",
             "linecolor": "white",
             "minorgridcolor": "white",
             "startlinecolor": "#2a3f5f"
            },
            "type": "carpet"
           }
          ],
          "choropleth": [
           {
            "colorbar": {
             "outlinewidth": 0,
             "ticks": ""
            },
            "type": "choropleth"
           }
          ],
          "contour": [
           {
            "colorbar": {
             "outlinewidth": 0,
             "ticks": ""
            },
            "colorscale": [
             [
              0,
              "#0d0887"
             ],
             [
              0.1111111111111111,
              "#46039f"
             ],
             [
              0.2222222222222222,
              "#7201a8"
             ],
             [
              0.3333333333333333,
              "#9c179e"
             ],
             [
              0.4444444444444444,
              "#bd3786"
             ],
             [
              0.5555555555555556,
              "#d8576b"
             ],
             [
              0.6666666666666666,
              "#ed7953"
             ],
             [
              0.7777777777777778,
              "#fb9f3a"
             ],
             [
              0.8888888888888888,
              "#fdca26"
             ],
             [
              1,
              "#f0f921"
             ]
            ],
            "type": "contour"
           }
          ],
          "contourcarpet": [
           {
            "colorbar": {
             "outlinewidth": 0,
             "ticks": ""
            },
            "type": "contourcarpet"
           }
          ],
          "heatmap": [
           {
            "colorbar": {
             "outlinewidth": 0,
             "ticks": ""
            },
            "colorscale": [
             [
              0,
              "#0d0887"
             ],
             [
              0.1111111111111111,
              "#46039f"
             ],
             [
              0.2222222222222222,
              "#7201a8"
             ],
             [
              0.3333333333333333,
              "#9c179e"
             ],
             [
              0.4444444444444444,
              "#bd3786"
             ],
             [
              0.5555555555555556,
              "#d8576b"
             ],
             [
              0.6666666666666666,
              "#ed7953"
             ],
             [
              0.7777777777777778,
              "#fb9f3a"
             ],
             [
              0.8888888888888888,
              "#fdca26"
             ],
             [
              1,
              "#f0f921"
             ]
            ],
            "type": "heatmap"
           }
          ],
          "heatmapgl": [
           {
            "colorbar": {
             "outlinewidth": 0,
             "ticks": ""
            },
            "colorscale": [
             [
              0,
              "#0d0887"
             ],
             [
              0.1111111111111111,
              "#46039f"
             ],
             [
              0.2222222222222222,
              "#7201a8"
             ],
             [
              0.3333333333333333,
              "#9c179e"
             ],
             [
              0.4444444444444444,
              "#bd3786"
             ],
             [
              0.5555555555555556,
              "#d8576b"
             ],
             [
              0.6666666666666666,
              "#ed7953"
             ],
             [
              0.7777777777777778,
              "#fb9f3a"
             ],
             [
              0.8888888888888888,
              "#fdca26"
             ],
             [
              1,
              "#f0f921"
             ]
            ],
            "type": "heatmapgl"
           }
          ],
          "histogram": [
           {
            "marker": {
             "pattern": {
              "fillmode": "overlay",
              "size": 10,
              "solidity": 0.2
             }
            },
            "type": "histogram"
           }
          ],
          "histogram2d": [
           {
            "colorbar": {
             "outlinewidth": 0,
             "ticks": ""
            },
            "colorscale": [
             [
              0,
              "#0d0887"
             ],
             [
              0.1111111111111111,
              "#46039f"
             ],
             [
              0.2222222222222222,
              "#7201a8"
             ],
             [
              0.3333333333333333,
              "#9c179e"
             ],
             [
              0.4444444444444444,
              "#bd3786"
             ],
             [
              0.5555555555555556,
              "#d8576b"
             ],
             [
              0.6666666666666666,
              "#ed7953"
             ],
             [
              0.7777777777777778,
              "#fb9f3a"
             ],
             [
              0.8888888888888888,
              "#fdca26"
             ],
             [
              1,
              "#f0f921"
             ]
            ],
            "type": "histogram2d"
           }
          ],
          "histogram2dcontour": [
           {
            "colorbar": {
             "outlinewidth": 0,
             "ticks": ""
            },
            "colorscale": [
             [
              0,
              "#0d0887"
             ],
             [
              0.1111111111111111,
              "#46039f"
             ],
             [
              0.2222222222222222,
              "#7201a8"
             ],
             [
              0.3333333333333333,
              "#9c179e"
             ],
             [
              0.4444444444444444,
              "#bd3786"
             ],
             [
              0.5555555555555556,
              "#d8576b"
             ],
             [
              0.6666666666666666,
              "#ed7953"
             ],
             [
              0.7777777777777778,
              "#fb9f3a"
             ],
             [
              0.8888888888888888,
              "#fdca26"
             ],
             [
              1,
              "#f0f921"
             ]
            ],
            "type": "histogram2dcontour"
           }
          ],
          "mesh3d": [
           {
            "colorbar": {
             "outlinewidth": 0,
             "ticks": ""
            },
            "type": "mesh3d"
           }
          ],
          "parcoords": [
           {
            "line": {
             "colorbar": {
              "outlinewidth": 0,
              "ticks": ""
             }
            },
            "type": "parcoords"
           }
          ],
          "pie": [
           {
            "automargin": true,
            "type": "pie"
           }
          ],
          "scatter": [
           {
            "fillpattern": {
             "fillmode": "overlay",
             "size": 10,
             "solidity": 0.2
            },
            "type": "scatter"
           }
          ],
          "scatter3d": [
           {
            "line": {
             "colorbar": {
              "outlinewidth": 0,
              "ticks": ""
             }
            },
            "marker": {
             "colorbar": {
              "outlinewidth": 0,
              "ticks": ""
             }
            },
            "type": "scatter3d"
           }
          ],
          "scattercarpet": [
           {
            "marker": {
             "colorbar": {
              "outlinewidth": 0,
              "ticks": ""
             }
            },
            "type": "scattercarpet"
           }
          ],
          "scattergeo": [
           {
            "marker": {
             "colorbar": {
              "outlinewidth": 0,
              "ticks": ""
             }
            },
            "type": "scattergeo"
           }
          ],
          "scattergl": [
           {
            "marker": {
             "colorbar": {
              "outlinewidth": 0,
              "ticks": ""
             }
            },
            "type": "scattergl"
           }
          ],
          "scattermapbox": [
           {
            "marker": {
             "colorbar": {
              "outlinewidth": 0,
              "ticks": ""
             }
            },
            "type": "scattermapbox"
           }
          ],
          "scatterpolar": [
           {
            "marker": {
             "colorbar": {
              "outlinewidth": 0,
              "ticks": ""
             }
            },
            "type": "scatterpolar"
           }
          ],
          "scatterpolargl": [
           {
            "marker": {
             "colorbar": {
              "outlinewidth": 0,
              "ticks": ""
             }
            },
            "type": "scatterpolargl"
           }
          ],
          "scatterternary": [
           {
            "marker": {
             "colorbar": {
              "outlinewidth": 0,
              "ticks": ""
             }
            },
            "type": "scatterternary"
           }
          ],
          "surface": [
           {
            "colorbar": {
             "outlinewidth": 0,
             "ticks": ""
            },
            "colorscale": [
             [
              0,
              "#0d0887"
             ],
             [
              0.1111111111111111,
              "#46039f"
             ],
             [
              0.2222222222222222,
              "#7201a8"
             ],
             [
              0.3333333333333333,
              "#9c179e"
             ],
             [
              0.4444444444444444,
              "#bd3786"
             ],
             [
              0.5555555555555556,
              "#d8576b"
             ],
             [
              0.6666666666666666,
              "#ed7953"
             ],
             [
              0.7777777777777778,
              "#fb9f3a"
             ],
             [
              0.8888888888888888,
              "#fdca26"
             ],
             [
              1,
              "#f0f921"
             ]
            ],
            "type": "surface"
           }
          ],
          "table": [
           {
            "cells": {
             "fill": {
              "color": "#EBF0F8"
             },
             "line": {
              "color": "white"
             }
            },
            "header": {
             "fill": {
              "color": "#C8D4E3"
             },
             "line": {
              "color": "white"
             }
            },
            "type": "table"
           }
          ]
         },
         "layout": {
          "annotationdefaults": {
           "arrowcolor": "#2a3f5f",
           "arrowhead": 0,
           "arrowwidth": 1
          },
          "autotypenumbers": "strict",
          "coloraxis": {
           "colorbar": {
            "outlinewidth": 0,
            "ticks": ""
           }
          },
          "colorscale": {
           "diverging": [
            [
             0,
             "#8e0152"
            ],
            [
             0.1,
             "#c51b7d"
            ],
            [
             0.2,
             "#de77ae"
            ],
            [
             0.3,
             "#f1b6da"
            ],
            [
             0.4,
             "#fde0ef"
            ],
            [
             0.5,
             "#f7f7f7"
            ],
            [
             0.6,
             "#e6f5d0"
            ],
            [
             0.7,
             "#b8e186"
            ],
            [
             0.8,
             "#7fbc41"
            ],
            [
             0.9,
             "#4d9221"
            ],
            [
             1,
             "#276419"
            ]
           ],
           "sequential": [
            [
             0,
             "#0d0887"
            ],
            [
             0.1111111111111111,
             "#46039f"
            ],
            [
             0.2222222222222222,
             "#7201a8"
            ],
            [
             0.3333333333333333,
             "#9c179e"
            ],
            [
             0.4444444444444444,
             "#bd3786"
            ],
            [
             0.5555555555555556,
             "#d8576b"
            ],
            [
             0.6666666666666666,
             "#ed7953"
            ],
            [
             0.7777777777777778,
             "#fb9f3a"
            ],
            [
             0.8888888888888888,
             "#fdca26"
            ],
            [
             1,
             "#f0f921"
            ]
           ],
           "sequentialminus": [
            [
             0,
             "#0d0887"
            ],
            [
             0.1111111111111111,
             "#46039f"
            ],
            [
             0.2222222222222222,
             "#7201a8"
            ],
            [
             0.3333333333333333,
             "#9c179e"
            ],
            [
             0.4444444444444444,
             "#bd3786"
            ],
            [
             0.5555555555555556,
             "#d8576b"
            ],
            [
             0.6666666666666666,
             "#ed7953"
            ],
            [
             0.7777777777777778,
             "#fb9f3a"
            ],
            [
             0.8888888888888888,
             "#fdca26"
            ],
            [
             1,
             "#f0f921"
            ]
           ]
          },
          "colorway": [
           "#636efa",
           "#EF553B",
           "#00cc96",
           "#ab63fa",
           "#FFA15A",
           "#19d3f3",
           "#FF6692",
           "#B6E880",
           "#FF97FF",
           "#FECB52"
          ],
          "font": {
           "color": "#2a3f5f"
          },
          "geo": {
           "bgcolor": "white",
           "lakecolor": "white",
           "landcolor": "#E5ECF6",
           "showlakes": true,
           "showland": true,
           "subunitcolor": "white"
          },
          "hoverlabel": {
           "align": "left"
          },
          "hovermode": "closest",
          "mapbox": {
           "style": "light"
          },
          "paper_bgcolor": "white",
          "plot_bgcolor": "#E5ECF6",
          "polar": {
           "angularaxis": {
            "gridcolor": "white",
            "linecolor": "white",
            "ticks": ""
           },
           "bgcolor": "#E5ECF6",
           "radialaxis": {
            "gridcolor": "white",
            "linecolor": "white",
            "ticks": ""
           }
          },
          "scene": {
           "xaxis": {
            "backgroundcolor": "#E5ECF6",
            "gridcolor": "white",
            "gridwidth": 2,
            "linecolor": "white",
            "showbackground": true,
            "ticks": "",
            "zerolinecolor": "white"
           },
           "yaxis": {
            "backgroundcolor": "#E5ECF6",
            "gridcolor": "white",
            "gridwidth": 2,
            "linecolor": "white",
            "showbackground": true,
            "ticks": "",
            "zerolinecolor": "white"
           },
           "zaxis": {
            "backgroundcolor": "#E5ECF6",
            "gridcolor": "white",
            "gridwidth": 2,
            "linecolor": "white",
            "showbackground": true,
            "ticks": "",
            "zerolinecolor": "white"
           }
          },
          "shapedefaults": {
           "line": {
            "color": "#2a3f5f"
           }
          },
          "ternary": {
           "aaxis": {
            "gridcolor": "white",
            "linecolor": "white",
            "ticks": ""
           },
           "baxis": {
            "gridcolor": "white",
            "linecolor": "white",
            "ticks": ""
           },
           "bgcolor": "#E5ECF6",
           "caxis": {
            "gridcolor": "white",
            "linecolor": "white",
            "ticks": ""
           }
          },
          "title": {
           "x": 0.05
          },
          "xaxis": {
           "automargin": true,
           "gridcolor": "white",
           "linecolor": "white",
           "ticks": "",
           "title": {
            "standoff": 15
           },
           "zerolinecolor": "white",
           "zerolinewidth": 2
          },
          "yaxis": {
           "automargin": true,
           "gridcolor": "white",
           "linecolor": "white",
           "ticks": "",
           "title": {
            "standoff": 15
           },
           "zerolinecolor": "white",
           "zerolinewidth": 2
          }
         }
        },
        "width": 900,
        "xaxis": {
         "anchor": "y",
         "constrain": "domain",
         "domain": [
          0,
          1
         ],
         "scaleanchor": "y",
         "tickfont": {
          "size": 8
         }
        },
        "yaxis": {
         "anchor": "x",
         "autorange": "reversed",
         "constrain": "domain",
         "domain": [
          0,
          1
         ],
         "tickfont": {
          "size": 8
         }
        }
       }
      }
     },
     "metadata": {},
     "output_type": "display_data"
    },
    {
     "data": {
      "application/vnd.plotly.v1+json": {
       "config": {
        "plotlyServerURL": "https://plot.ly"
       },
       "data": [
        {
         "coloraxis": "coloraxis",
         "hoverongaps": false,
         "hovertemplate": "x: %{x}<br>y: %{y}<br>color: %{z}<extra></extra>",
         "name": "0",
         "type": "heatmap",
         "x": [
          "PFK",
          "PGK_rev",
          "PGK",
          "PGL",
          "PGM_rev",
          "PGM",
          "ALCD2x_rev",
          "ALCD2x",
          "PPCK",
          "PPS",
          "PYK",
          "RPE",
          "RPI_rev",
          "RPI",
          "ENO",
          "TKT1",
          "TPI",
          "FBA",
          "FBP",
          "GAPD",
          "GND"
         ],
         "xaxis": "x",
         "xgap": 1,
         "y": [
          "PFK",
          "PGK_rev",
          "PGK",
          "PGL",
          "PGM_rev",
          "PGM",
          "ALCD2x_rev",
          "ALCD2x",
          "PPCK",
          "PPS",
          "PYK",
          "RPE",
          "RPI_rev",
          "RPI",
          "ENO",
          "TKT1",
          "TPI",
          "FBA",
          "FBP",
          "GAPD",
          "GND"
         ],
         "yaxis": "y",
         "ygap": 1,
         "z": [
          [
           0,
           0,
           0,
           0,
           0,
           0,
           0,
           0,
           0,
           0,
           -0.10089110481651221,
           0,
           0,
           0,
           0,
           0,
           0,
           0,
           0,
           0,
           0
          ],
          [
           0,
           0,
           0,
           0,
           0,
           0,
           0,
           0,
           0,
           0,
           -0.11517866713970133,
           0,
           0,
           0,
           0,
           0,
           0,
           0,
           0,
           0,
           0
          ],
          [
           0,
           0,
           0,
           0,
           0,
           0,
           0,
           0,
           0,
           0,
           0.11517866713970133,
           0,
           0,
           0,
           0,
           0,
           0,
           0,
           0,
           0,
           0
          ],
          [
           0,
           0,
           0,
           0,
           0,
           0,
           0,
           0,
           0,
           0,
           0.11448754945687666,
           0,
           0,
           0,
           0,
           0,
           0,
           0,
           0,
           0,
           0
          ],
          [
           0,
           0,
           0,
           0,
           0,
           0,
           0,
           0,
           0,
           0,
           -0.11531913318452804,
           0,
           0,
           0,
           0,
           0,
           0,
           0,
           0,
           0,
           0
          ],
          [
           0,
           0,
           0,
           0,
           0,
           0,
           0,
           0,
           0,
           0,
           0.11531913318452802,
           0,
           0,
           0,
           0,
           0,
           0,
           0,
           0,
           0,
           0
          ],
          [
           0,
           0,
           0,
           0,
           0,
           0,
           0,
           0,
           0,
           0,
           0,
           0,
           0,
           0,
           0,
           0,
           0,
           0,
           0,
           0,
           0
          ],
          [
           0,
           0,
           0,
           0,
           0,
           0,
           0,
           0,
           0,
           0,
           0,
           0,
           0,
           0,
           0,
           0,
           0,
           0,
           0,
           0,
           0
          ],
          [
           0,
           0,
           0,
           0,
           0,
           0,
           0,
           0,
           0,
           0,
           0,
           0,
           0,
           0,
           0,
           0,
           0,
           0,
           0,
           0,
           0
          ],
          [
           0,
           0,
           0,
           0,
           0,
           0,
           0,
           0,
           0,
           0,
           0,
           0,
           0,
           0,
           0,
           0,
           0,
           0,
           0,
           0,
           0
          ],
          [
           -0.10089110481651221,
           -0.11517866713970133,
           0.11517866713970133,
           0.11448754945687666,
           -0.11531913318452804,
           0.11531913318452802,
           0,
           0,
           0,
           0,
           0,
           0.11423930055008931,
           0.1149624249498473,
           -0.1149624249498473,
           -0.11531913318452805,
           0.1142705843943744,
           -0.11503663546425676,
           -0.11503663546425676,
           0,
           -0.11517866713970135,
           0.11448754945687664
          ],
          [
           0,
           0,
           0,
           0,
           0,
           0,
           0,
           0,
           0,
           0,
           0.11423930055008931,
           0,
           0,
           0,
           0,
           0,
           0,
           0,
           0,
           0,
           0
          ],
          [
           0,
           0,
           0,
           0,
           0,
           0,
           0,
           0,
           0,
           0,
           0.1149624249498473,
           0,
           0,
           0,
           0,
           0,
           0,
           0,
           0,
           0,
           0
          ],
          [
           0,
           0,
           0,
           0,
           0,
           0,
           0,
           0,
           0,
           0,
           -0.1149624249498473,
           0,
           0,
           0,
           0,
           0,
           0,
           0,
           0,
           0,
           0
          ],
          [
           0,
           0,
           0,
           0,
           0,
           0,
           0,
           0,
           0,
           0,
           -0.11531913318452805,
           0,
           0,
           0,
           0,
           0,
           0,
           0,
           0,
           0,
           0
          ],
          [
           0,
           0,
           0,
           0,
           0,
           0,
           0,
           0,
           0,
           0,
           0.1142705843943744,
           0,
           0,
           0,
           0,
           0,
           0,
           0,
           0,
           0,
           0
          ],
          [
           0,
           0,
           0,
           0,
           0,
           0,
           0,
           0,
           0,
           0,
           -0.11503663546425676,
           0,
           0,
           0,
           0,
           0,
           0,
           0,
           0,
           0,
           0
          ],
          [
           0,
           0,
           0,
           0,
           0,
           0,
           0,
           0,
           0,
           0,
           -0.11503663546425676,
           0,
           0,
           0,
           0,
           0,
           0,
           0,
           0,
           0,
           0
          ],
          [
           0,
           0,
           0,
           0,
           0,
           0,
           0,
           0,
           0,
           0,
           0,
           0,
           0,
           0,
           0,
           0,
           0,
           0,
           0,
           0,
           0
          ],
          [
           0,
           0,
           0,
           0,
           0,
           0,
           0,
           0,
           0,
           0,
           -0.11517866713970135,
           0,
           0,
           0,
           0,
           0,
           0,
           0,
           0,
           0,
           0
          ],
          [
           0,
           0,
           0,
           0,
           0,
           0,
           0,
           0,
           0,
           0,
           0.11448754945687664,
           0,
           0,
           0,
           0,
           0,
           0,
           0,
           0,
           0,
           0
          ]
         ]
        }
       ],
       "layout": {
        "coloraxis": {
         "cmax": 1,
         "cmin": -1,
         "colorscale": [
          [
           0,
           "#d73027"
          ],
          [
           0.5,
           "#f7f7f7"
          ],
          [
           1,
           "#4575b4"
          ]
         ]
        },
        "height": 900,
        "margin": {
         "t": 60
        },
        "plot_bgcolor": "rgba(0,0,0,0)",
        "template": {
         "data": {
          "bar": [
           {
            "error_x": {
             "color": "#2a3f5f"
            },
            "error_y": {
             "color": "#2a3f5f"
            },
            "marker": {
             "line": {
              "color": "#E5ECF6",
              "width": 0.5
             },
             "pattern": {
              "fillmode": "overlay",
              "size": 10,
              "solidity": 0.2
             }
            },
            "type": "bar"
           }
          ],
          "barpolar": [
           {
            "marker": {
             "line": {
              "color": "#E5ECF6",
              "width": 0.5
             },
             "pattern": {
              "fillmode": "overlay",
              "size": 10,
              "solidity": 0.2
             }
            },
            "type": "barpolar"
           }
          ],
          "carpet": [
           {
            "aaxis": {
             "endlinecolor": "#2a3f5f",
             "gridcolor": "white",
             "linecolor": "white",
             "minorgridcolor": "white",
             "startlinecolor": "#2a3f5f"
            },
            "baxis": {
             "endlinecolor": "#2a3f5f",
             "gridcolor": "white",
             "linecolor": "white",
             "minorgridcolor": "white",
             "startlinecolor": "#2a3f5f"
            },
            "type": "carpet"
           }
          ],
          "choropleth": [
           {
            "colorbar": {
             "outlinewidth": 0,
             "ticks": ""
            },
            "type": "choropleth"
           }
          ],
          "contour": [
           {
            "colorbar": {
             "outlinewidth": 0,
             "ticks": ""
            },
            "colorscale": [
             [
              0,
              "#0d0887"
             ],
             [
              0.1111111111111111,
              "#46039f"
             ],
             [
              0.2222222222222222,
              "#7201a8"
             ],
             [
              0.3333333333333333,
              "#9c179e"
             ],
             [
              0.4444444444444444,
              "#bd3786"
             ],
             [
              0.5555555555555556,
              "#d8576b"
             ],
             [
              0.6666666666666666,
              "#ed7953"
             ],
             [
              0.7777777777777778,
              "#fb9f3a"
             ],
             [
              0.8888888888888888,
              "#fdca26"
             ],
             [
              1,
              "#f0f921"
             ]
            ],
            "type": "contour"
           }
          ],
          "contourcarpet": [
           {
            "colorbar": {
             "outlinewidth": 0,
             "ticks": ""
            },
            "type": "contourcarpet"
           }
          ],
          "heatmap": [
           {
            "colorbar": {
             "outlinewidth": 0,
             "ticks": ""
            },
            "colorscale": [
             [
              0,
              "#0d0887"
             ],
             [
              0.1111111111111111,
              "#46039f"
             ],
             [
              0.2222222222222222,
              "#7201a8"
             ],
             [
              0.3333333333333333,
              "#9c179e"
             ],
             [
              0.4444444444444444,
              "#bd3786"
             ],
             [
              0.5555555555555556,
              "#d8576b"
             ],
             [
              0.6666666666666666,
              "#ed7953"
             ],
             [
              0.7777777777777778,
              "#fb9f3a"
             ],
             [
              0.8888888888888888,
              "#fdca26"
             ],
             [
              1,
              "#f0f921"
             ]
            ],
            "type": "heatmap"
           }
          ],
          "heatmapgl": [
           {
            "colorbar": {
             "outlinewidth": 0,
             "ticks": ""
            },
            "colorscale": [
             [
              0,
              "#0d0887"
             ],
             [
              0.1111111111111111,
              "#46039f"
             ],
             [
              0.2222222222222222,
              "#7201a8"
             ],
             [
              0.3333333333333333,
              "#9c179e"
             ],
             [
              0.4444444444444444,
              "#bd3786"
             ],
             [
              0.5555555555555556,
              "#d8576b"
             ],
             [
              0.6666666666666666,
              "#ed7953"
             ],
             [
              0.7777777777777778,
              "#fb9f3a"
             ],
             [
              0.8888888888888888,
              "#fdca26"
             ],
             [
              1,
              "#f0f921"
             ]
            ],
            "type": "heatmapgl"
           }
          ],
          "histogram": [
           {
            "marker": {
             "pattern": {
              "fillmode": "overlay",
              "size": 10,
              "solidity": 0.2
             }
            },
            "type": "histogram"
           }
          ],
          "histogram2d": [
           {
            "colorbar": {
             "outlinewidth": 0,
             "ticks": ""
            },
            "colorscale": [
             [
              0,
              "#0d0887"
             ],
             [
              0.1111111111111111,
              "#46039f"
             ],
             [
              0.2222222222222222,
              "#7201a8"
             ],
             [
              0.3333333333333333,
              "#9c179e"
             ],
             [
              0.4444444444444444,
              "#bd3786"
             ],
             [
              0.5555555555555556,
              "#d8576b"
             ],
             [
              0.6666666666666666,
              "#ed7953"
             ],
             [
              0.7777777777777778,
              "#fb9f3a"
             ],
             [
              0.8888888888888888,
              "#fdca26"
             ],
             [
              1,
              "#f0f921"
             ]
            ],
            "type": "histogram2d"
           }
          ],
          "histogram2dcontour": [
           {
            "colorbar": {
             "outlinewidth": 0,
             "ticks": ""
            },
            "colorscale": [
             [
              0,
              "#0d0887"
             ],
             [
              0.1111111111111111,
              "#46039f"
             ],
             [
              0.2222222222222222,
              "#7201a8"
             ],
             [
              0.3333333333333333,
              "#9c179e"
             ],
             [
              0.4444444444444444,
              "#bd3786"
             ],
             [
              0.5555555555555556,
              "#d8576b"
             ],
             [
              0.6666666666666666,
              "#ed7953"
             ],
             [
              0.7777777777777778,
              "#fb9f3a"
             ],
             [
              0.8888888888888888,
              "#fdca26"
             ],
             [
              1,
              "#f0f921"
             ]
            ],
            "type": "histogram2dcontour"
           }
          ],
          "mesh3d": [
           {
            "colorbar": {
             "outlinewidth": 0,
             "ticks": ""
            },
            "type": "mesh3d"
           }
          ],
          "parcoords": [
           {
            "line": {
             "colorbar": {
              "outlinewidth": 0,
              "ticks": ""
             }
            },
            "type": "parcoords"
           }
          ],
          "pie": [
           {
            "automargin": true,
            "type": "pie"
           }
          ],
          "scatter": [
           {
            "fillpattern": {
             "fillmode": "overlay",
             "size": 10,
             "solidity": 0.2
            },
            "type": "scatter"
           }
          ],
          "scatter3d": [
           {
            "line": {
             "colorbar": {
              "outlinewidth": 0,
              "ticks": ""
             }
            },
            "marker": {
             "colorbar": {
              "outlinewidth": 0,
              "ticks": ""
             }
            },
            "type": "scatter3d"
           }
          ],
          "scattercarpet": [
           {
            "marker": {
             "colorbar": {
              "outlinewidth": 0,
              "ticks": ""
             }
            },
            "type": "scattercarpet"
           }
          ],
          "scattergeo": [
           {
            "marker": {
             "colorbar": {
              "outlinewidth": 0,
              "ticks": ""
             }
            },
            "type": "scattergeo"
           }
          ],
          "scattergl": [
           {
            "marker": {
             "colorbar": {
              "outlinewidth": 0,
              "ticks": ""
             }
            },
            "type": "scattergl"
           }
          ],
          "scattermapbox": [
           {
            "marker": {
             "colorbar": {
              "outlinewidth": 0,
              "ticks": ""
             }
            },
            "type": "scattermapbox"
           }
          ],
          "scatterpolar": [
           {
            "marker": {
             "colorbar": {
              "outlinewidth": 0,
              "ticks": ""
             }
            },
            "type": "scatterpolar"
           }
          ],
          "scatterpolargl": [
           {
            "marker": {
             "colorbar": {
              "outlinewidth": 0,
              "ticks": ""
             }
            },
            "type": "scatterpolargl"
           }
          ],
          "scatterternary": [
           {
            "marker": {
             "colorbar": {
              "outlinewidth": 0,
              "ticks": ""
             }
            },
            "type": "scatterternary"
           }
          ],
          "surface": [
           {
            "colorbar": {
             "outlinewidth": 0,
             "ticks": ""
            },
            "colorscale": [
             [
              0,
              "#0d0887"
             ],
             [
              0.1111111111111111,
              "#46039f"
             ],
             [
              0.2222222222222222,
              "#7201a8"
             ],
             [
              0.3333333333333333,
              "#9c179e"
             ],
             [
              0.4444444444444444,
              "#bd3786"
             ],
             [
              0.5555555555555556,
              "#d8576b"
             ],
             [
              0.6666666666666666,
              "#ed7953"
             ],
             [
              0.7777777777777778,
              "#fb9f3a"
             ],
             [
              0.8888888888888888,
              "#fdca26"
             ],
             [
              1,
              "#f0f921"
             ]
            ],
            "type": "surface"
           }
          ],
          "table": [
           {
            "cells": {
             "fill": {
              "color": "#EBF0F8"
             },
             "line": {
              "color": "white"
             }
            },
            "header": {
             "fill": {
              "color": "#C8D4E3"
             },
             "line": {
              "color": "white"
             }
            },
            "type": "table"
           }
          ]
         },
         "layout": {
          "annotationdefaults": {
           "arrowcolor": "#2a3f5f",
           "arrowhead": 0,
           "arrowwidth": 1
          },
          "autotypenumbers": "strict",
          "coloraxis": {
           "colorbar": {
            "outlinewidth": 0,
            "ticks": ""
           }
          },
          "colorscale": {
           "diverging": [
            [
             0,
             "#8e0152"
            ],
            [
             0.1,
             "#c51b7d"
            ],
            [
             0.2,
             "#de77ae"
            ],
            [
             0.3,
             "#f1b6da"
            ],
            [
             0.4,
             "#fde0ef"
            ],
            [
             0.5,
             "#f7f7f7"
            ],
            [
             0.6,
             "#e6f5d0"
            ],
            [
             0.7,
             "#b8e186"
            ],
            [
             0.8,
             "#7fbc41"
            ],
            [
             0.9,
             "#4d9221"
            ],
            [
             1,
             "#276419"
            ]
           ],
           "sequential": [
            [
             0,
             "#0d0887"
            ],
            [
             0.1111111111111111,
             "#46039f"
            ],
            [
             0.2222222222222222,
             "#7201a8"
            ],
            [
             0.3333333333333333,
             "#9c179e"
            ],
            [
             0.4444444444444444,
             "#bd3786"
            ],
            [
             0.5555555555555556,
             "#d8576b"
            ],
            [
             0.6666666666666666,
             "#ed7953"
            ],
            [
             0.7777777777777778,
             "#fb9f3a"
            ],
            [
             0.8888888888888888,
             "#fdca26"
            ],
            [
             1,
             "#f0f921"
            ]
           ],
           "sequentialminus": [
            [
             0,
             "#0d0887"
            ],
            [
             0.1111111111111111,
             "#46039f"
            ],
            [
             0.2222222222222222,
             "#7201a8"
            ],
            [
             0.3333333333333333,
             "#9c179e"
            ],
            [
             0.4444444444444444,
             "#bd3786"
            ],
            [
             0.5555555555555556,
             "#d8576b"
            ],
            [
             0.6666666666666666,
             "#ed7953"
            ],
            [
             0.7777777777777778,
             "#fb9f3a"
            ],
            [
             0.8888888888888888,
             "#fdca26"
            ],
            [
             1,
             "#f0f921"
            ]
           ]
          },
          "colorway": [
           "#636efa",
           "#EF553B",
           "#00cc96",
           "#ab63fa",
           "#FFA15A",
           "#19d3f3",
           "#FF6692",
           "#B6E880",
           "#FF97FF",
           "#FECB52"
          ],
          "font": {
           "color": "#2a3f5f"
          },
          "geo": {
           "bgcolor": "white",
           "lakecolor": "white",
           "landcolor": "#E5ECF6",
           "showlakes": true,
           "showland": true,
           "subunitcolor": "white"
          },
          "hoverlabel": {
           "align": "left"
          },
          "hovermode": "closest",
          "mapbox": {
           "style": "light"
          },
          "paper_bgcolor": "white",
          "plot_bgcolor": "#E5ECF6",
          "polar": {
           "angularaxis": {
            "gridcolor": "white",
            "linecolor": "white",
            "ticks": ""
           },
           "bgcolor": "#E5ECF6",
           "radialaxis": {
            "gridcolor": "white",
            "linecolor": "white",
            "ticks": ""
           }
          },
          "scene": {
           "xaxis": {
            "backgroundcolor": "#E5ECF6",
            "gridcolor": "white",
            "gridwidth": 2,
            "linecolor": "white",
            "showbackground": true,
            "ticks": "",
            "zerolinecolor": "white"
           },
           "yaxis": {
            "backgroundcolor": "#E5ECF6",
            "gridcolor": "white",
            "gridwidth": 2,
            "linecolor": "white",
            "showbackground": true,
            "ticks": "",
            "zerolinecolor": "white"
           },
           "zaxis": {
            "backgroundcolor": "#E5ECF6",
            "gridcolor": "white",
            "gridwidth": 2,
            "linecolor": "white",
            "showbackground": true,
            "ticks": "",
            "zerolinecolor": "white"
           }
          },
          "shapedefaults": {
           "line": {
            "color": "#2a3f5f"
           }
          },
          "ternary": {
           "aaxis": {
            "gridcolor": "white",
            "linecolor": "white",
            "ticks": ""
           },
           "baxis": {
            "gridcolor": "white",
            "linecolor": "white",
            "ticks": ""
           },
           "bgcolor": "#E5ECF6",
           "caxis": {
            "gridcolor": "white",
            "linecolor": "white",
            "ticks": ""
           }
          },
          "title": {
           "x": 0.05
          },
          "xaxis": {
           "automargin": true,
           "gridcolor": "white",
           "linecolor": "white",
           "ticks": "",
           "title": {
            "standoff": 15
           },
           "zerolinecolor": "white",
           "zerolinewidth": 2
          },
          "yaxis": {
           "automargin": true,
           "gridcolor": "white",
           "linecolor": "white",
           "ticks": "",
           "title": {
            "standoff": 15
           },
           "zerolinecolor": "white",
           "zerolinewidth": 2
          }
         }
        },
        "width": 900,
        "xaxis": {
         "anchor": "y",
         "constrain": "domain",
         "domain": [
          0,
          1
         ],
         "scaleanchor": "y",
         "tickfont": {
          "size": 8
         }
        },
        "yaxis": {
         "anchor": "x",
         "autorange": "reversed",
         "constrain": "domain",
         "domain": [
          0,
          1
         ],
         "tickfont": {
          "size": 8
         }
        }
       }
      }
     },
     "metadata": {},
     "output_type": "display_data"
    },
    {
     "data": {
      "application/vnd.plotly.v1+json": {
       "config": {
        "plotlyServerURL": "https://plot.ly"
       },
       "data": [
        {
         "coloraxis": "coloraxis",
         "hoverongaps": false,
         "hovertemplate": "x: %{x}<br>y: %{y}<br>color: %{z}<extra></extra>",
         "name": "0",
         "type": "heatmap",
         "x": [
          "PFK",
          "PGK_rev",
          "PGK",
          "PGL",
          "PGM_rev",
          "PGM",
          "ALCD2x_rev",
          "ALCD2x",
          "PPCK",
          "PPS",
          "PYK",
          "RPE",
          "RPI_rev",
          "RPI",
          "ENO",
          "TKT1",
          "TPI",
          "FBA",
          "FBP",
          "GAPD",
          "GND"
         ],
         "xaxis": "x",
         "xgap": 1,
         "y": [
          "PFK",
          "PGK_rev",
          "PGK",
          "PGL",
          "PGM_rev",
          "PGM",
          "ALCD2x_rev",
          "ALCD2x",
          "PPCK",
          "PPS",
          "PYK",
          "RPE",
          "RPI_rev",
          "RPI",
          "ENO",
          "TKT1",
          "TPI",
          "FBA",
          "FBP",
          "GAPD",
          "GND"
         ],
         "yaxis": "y",
         "ygap": 1,
         "z": [
          [
           1,
           0.8401025225885786,
           -0.8401025225885786,
           -0.8399141699054534,
           0.8401718193638497,
           -0.8401718193638497,
           0,
           0,
           0,
           0,
           -0.10089110481651221,
           -0.8398823072181386,
           -0.8399733262535017,
           0.8399733262535017,
           0.8401718193638497,
           -0.8398984998037332,
           0.8399944138772352,
           0.8399944138772352,
           0.5709337663111471,
           0.8401025225885786,
           -0.8399141699054534
          ],
          [
           0.8401025225885786,
           1,
           -1,
           -0.9999503002568516,
           0.9999842496691318,
           -0.9999842496691318,
           0,
           0,
           0,
           0,
           -0.11517866713970133,
           -0.9999359577460847,
           -0.999973540261838,
           0.999973540261838,
           0.9999842496691318,
           -0.9999433877465055,
           0.9999805318134158,
           0.9999805318134158,
           0,
           1,
           -0.9999503002568516
          ],
          [
           -0.8401025225885786,
           -1,
           1,
           0.9999503002568516,
           -0.9999842496691318,
           0.9999842496691318,
           0,
           0,
           0,
           0,
           0.11517866713970133,
           0.9999359577460847,
           0.999973540261838,
           -0.999973540261838,
           -0.9999842496691318,
           0.9999433877465055,
           -0.9999805318134158,
           -0.9999805318134158,
           0,
           -1,
           0.9999503002568516
          ],
          [
           -0.8399141699054534,
           -0.9999503002568516,
           0.9999503002568516,
           1,
           -0.9998785949483138,
           0.9998785949483138,
           0,
           0,
           0,
           0,
           0.11448754945687666,
           0.9999990920780258,
           0.9999963674737328,
           -0.9999963674737328,
           -0.9998785949483138,
           0.9999997750269032,
           -0.9999930433395773,
           -0.9999930433395773,
           0,
           -0.9999503002568515,
           1
          ],
          [
           0.8401718193638497,
           0.9999842496691318,
           -0.9999842496691318,
           -0.9998785949483138,
           1,
           -0.9999999999999999,
           0,
           0,
           0,
           0,
           -0.11531913318452804,
           -0.9998566900345617,
           -0.9999169618853293,
           0.9999169618853293,
           0.9999999999999999,
           -0.9998679179770082,
           0.9999297603682703,
           0.9999297603682703,
           0,
           0.9999842496691319,
           -0.9998785949483137
          ],
          [
           -0.8401718193638497,
           -0.9999842496691318,
           0.9999842496691318,
           0.9998785949483138,
           -0.9999999999999999,
           1,
           0,
           0,
           0,
           0,
           0.11531913318452802,
           0.9998566900345617,
           0.9999169618853293,
           -0.9999169618853293,
           -0.9999999999999999,
           0.9998679179770082,
           -0.9999297603682703,
           -0.9999297603682703,
           0,
           -0.9999842496691319,
           0.9998785949483137
          ],
          [
           0,
           0,
           0,
           0,
           0,
           0,
           1,
           -0.9999999999999998,
           0,
           0,
           0,
           0,
           0,
           0,
           0,
           0,
           0,
           0,
           0,
           0,
           0
          ],
          [
           0,
           0,
           0,
           0,
           0,
           0,
           -0.9999999999999998,
           1,
           0,
           0,
           0,
           0,
           0,
           0,
           0,
           0,
           0,
           0,
           0,
           0,
           0
          ],
          [
           0,
           0,
           0,
           0,
           0,
           0,
           0,
           0,
           1,
           0,
           0,
           0,
           0,
           0,
           0,
           0,
           0,
           0,
           0,
           0,
           0
          ],
          [
           0,
           0,
           0,
           0,
           0,
           0,
           0,
           0,
           0,
           1,
           0,
           0,
           0,
           0,
           0,
           0,
           0,
           0,
           0,
           0,
           0
          ],
          [
           -0.10089110481651221,
           -0.11517866713970133,
           0.11517866713970133,
           0.11448754945687666,
           -0.11531913318452804,
           0.11531913318452802,
           0,
           0,
           0,
           0,
           1,
           0.11423930055008931,
           0.1149624249498473,
           -0.1149624249498473,
           -0.11531913318452805,
           0.1142705843943744,
           -0.11503663546425676,
           -0.11503663546425676,
           0,
           -0.11517866713970135,
           0.11448754945687664
          ],
          [
           -0.8398823072181386,
           -0.9999359577460847,
           0.9999359577460847,
           0.9999990920780258,
           -0.9998566900345617,
           0.9998566900345617,
           0,
           0,
           0,
           0,
           0.11423930055008931,
           1,
           0.999991827452122,
           -0.999991827452122,
           -0.9998566900345618,
           0.9999997710031419,
           -0.9999871090614066,
           -0.9999871090614066,
           0,
           -0.9999359577460848,
           0.9999990920780258
          ],
          [
           -0.8399733262535017,
           -0.999973540261838,
           0.999973540261838,
           0.9999963674737328,
           -0.9999169618853293,
           0.9999169618853293,
           0,
           0,
           0,
           0,
           0.1149624249498473,
           0.999991827452122,
           1,
           -1,
           -0.9999169618853293,
           0.9999943344980174,
           -0.9999994647170202,
           -0.9999994647170202,
           0,
           -0.999973540261838,
           0.9999963674737327
          ],
          [
           0.8399733262535017,
           0.999973540261838,
           -0.999973540261838,
           -0.9999963674737328,
           0.9999169618853293,
           -0.9999169618853293,
           0,
           0,
           0,
           0,
           -0.1149624249498473,
           -0.999991827452122,
           -1,
           1,
           0.9999169618853293,
           -0.9999943344980174,
           0.9999994647170202,
           0.9999994647170202,
           0,
           0.999973540261838,
           -0.9999963674737327
          ],
          [
           0.8401718193638497,
           0.9999842496691318,
           -0.9999842496691318,
           -0.9998785949483138,
           0.9999999999999999,
           -0.9999999999999999,
           0,
           0,
           0,
           0,
           -0.11531913318452805,
           -0.9998566900345618,
           -0.9999169618853293,
           0.9999169618853293,
           1,
           -0.9998679179770082,
           0.9999297603682703,
           0.9999297603682703,
           0,
           0.9999842496691319,
           -0.9998785949483137
          ],
          [
           -0.8398984998037332,
           -0.9999433877465055,
           0.9999433877465055,
           0.9999997750269032,
           -0.9998679179770082,
           0.9998679179770082,
           0,
           0,
           0,
           0,
           0.1142705843943744,
           0.9999997710031419,
           0.9999943344980174,
           -0.9999943344980174,
           -0.9998679179770082,
           1,
           -0.9999903163242277,
           -0.9999903163242277,
           0,
           -0.9999433877465055,
           0.9999997750269033
          ],
          [
           0.8399944138772352,
           0.9999805318134158,
           -0.9999805318134158,
           -0.9999930433395773,
           0.9999297603682703,
           -0.9999297603682703,
           0,
           0,
           0,
           0,
           -0.11503663546425676,
           -0.9999871090614066,
           -0.9999994647170202,
           0.9999994647170202,
           0.9999297603682703,
           -0.9999903163242277,
           1,
           1,
           0,
           0.9999805318134158,
           -0.9999930433395773
          ],
          [
           0.8399944138772352,
           0.9999805318134158,
           -0.9999805318134158,
           -0.9999930433395773,
           0.9999297603682703,
           -0.9999297603682703,
           0,
           0,
           0,
           0,
           -0.11503663546425676,
           -0.9999871090614066,
           -0.9999994647170202,
           0.9999994647170202,
           0.9999297603682703,
           -0.9999903163242277,
           1,
           1,
           0,
           0.9999805318134158,
           -0.9999930433395773
          ],
          [
           0.5709337663111471,
           0,
           0,
           0,
           0,
           0,
           0,
           0,
           0,
           0,
           0,
           0,
           0,
           0,
           0,
           0,
           0,
           0,
           1,
           0,
           0
          ],
          [
           0.8401025225885786,
           1,
           -1,
           -0.9999503002568515,
           0.9999842496691319,
           -0.9999842496691319,
           0,
           0,
           0,
           0,
           -0.11517866713970135,
           -0.9999359577460848,
           -0.999973540261838,
           0.999973540261838,
           0.9999842496691319,
           -0.9999433877465055,
           0.9999805318134158,
           0.9999805318134158,
           0,
           1,
           -0.9999503002568516
          ],
          [
           -0.8399141699054534,
           -0.9999503002568516,
           0.9999503002568516,
           1,
           -0.9998785949483137,
           0.9998785949483137,
           0,
           0,
           0,
           0,
           0.11448754945687664,
           0.9999990920780258,
           0.9999963674737327,
           -0.9999963674737327,
           -0.9998785949483137,
           0.9999997750269033,
           -0.9999930433395773,
           -0.9999930433395773,
           0,
           -0.9999503002568516,
           1
          ]
         ]
        }
       ],
       "layout": {
        "coloraxis": {
         "cmax": 1,
         "cmin": -1,
         "colorscale": [
          [
           0,
           "#d73027"
          ],
          [
           0.5,
           "#f7f7f7"
          ],
          [
           1,
           "#4575b4"
          ]
         ]
        },
        "height": 900,
        "margin": {
         "t": 60
        },
        "plot_bgcolor": "rgba(0,0,0,0)",
        "template": {
         "data": {
          "bar": [
           {
            "error_x": {
             "color": "#2a3f5f"
            },
            "error_y": {
             "color": "#2a3f5f"
            },
            "marker": {
             "line": {
              "color": "#E5ECF6",
              "width": 0.5
             },
             "pattern": {
              "fillmode": "overlay",
              "size": 10,
              "solidity": 0.2
             }
            },
            "type": "bar"
           }
          ],
          "barpolar": [
           {
            "marker": {
             "line": {
              "color": "#E5ECF6",
              "width": 0.5
             },
             "pattern": {
              "fillmode": "overlay",
              "size": 10,
              "solidity": 0.2
             }
            },
            "type": "barpolar"
           }
          ],
          "carpet": [
           {
            "aaxis": {
             "endlinecolor": "#2a3f5f",
             "gridcolor": "white",
             "linecolor": "white",
             "minorgridcolor": "white",
             "startlinecolor": "#2a3f5f"
            },
            "baxis": {
             "endlinecolor": "#2a3f5f",
             "gridcolor": "white",
             "linecolor": "white",
             "minorgridcolor": "white",
             "startlinecolor": "#2a3f5f"
            },
            "type": "carpet"
           }
          ],
          "choropleth": [
           {
            "colorbar": {
             "outlinewidth": 0,
             "ticks": ""
            },
            "type": "choropleth"
           }
          ],
          "contour": [
           {
            "colorbar": {
             "outlinewidth": 0,
             "ticks": ""
            },
            "colorscale": [
             [
              0,
              "#0d0887"
             ],
             [
              0.1111111111111111,
              "#46039f"
             ],
             [
              0.2222222222222222,
              "#7201a8"
             ],
             [
              0.3333333333333333,
              "#9c179e"
             ],
             [
              0.4444444444444444,
              "#bd3786"
             ],
             [
              0.5555555555555556,
              "#d8576b"
             ],
             [
              0.6666666666666666,
              "#ed7953"
             ],
             [
              0.7777777777777778,
              "#fb9f3a"
             ],
             [
              0.8888888888888888,
              "#fdca26"
             ],
             [
              1,
              "#f0f921"
             ]
            ],
            "type": "contour"
           }
          ],
          "contourcarpet": [
           {
            "colorbar": {
             "outlinewidth": 0,
             "ticks": ""
            },
            "type": "contourcarpet"
           }
          ],
          "heatmap": [
           {
            "colorbar": {
             "outlinewidth": 0,
             "ticks": ""
            },
            "colorscale": [
             [
              0,
              "#0d0887"
             ],
             [
              0.1111111111111111,
              "#46039f"
             ],
             [
              0.2222222222222222,
              "#7201a8"
             ],
             [
              0.3333333333333333,
              "#9c179e"
             ],
             [
              0.4444444444444444,
              "#bd3786"
             ],
             [
              0.5555555555555556,
              "#d8576b"
             ],
             [
              0.6666666666666666,
              "#ed7953"
             ],
             [
              0.7777777777777778,
              "#fb9f3a"
             ],
             [
              0.8888888888888888,
              "#fdca26"
             ],
             [
              1,
              "#f0f921"
             ]
            ],
            "type": "heatmap"
           }
          ],
          "heatmapgl": [
           {
            "colorbar": {
             "outlinewidth": 0,
             "ticks": ""
            },
            "colorscale": [
             [
              0,
              "#0d0887"
             ],
             [
              0.1111111111111111,
              "#46039f"
             ],
             [
              0.2222222222222222,
              "#7201a8"
             ],
             [
              0.3333333333333333,
              "#9c179e"
             ],
             [
              0.4444444444444444,
              "#bd3786"
             ],
             [
              0.5555555555555556,
              "#d8576b"
             ],
             [
              0.6666666666666666,
              "#ed7953"
             ],
             [
              0.7777777777777778,
              "#fb9f3a"
             ],
             [
              0.8888888888888888,
              "#fdca26"
             ],
             [
              1,
              "#f0f921"
             ]
            ],
            "type": "heatmapgl"
           }
          ],
          "histogram": [
           {
            "marker": {
             "pattern": {
              "fillmode": "overlay",
              "size": 10,
              "solidity": 0.2
             }
            },
            "type": "histogram"
           }
          ],
          "histogram2d": [
           {
            "colorbar": {
             "outlinewidth": 0,
             "ticks": ""
            },
            "colorscale": [
             [
              0,
              "#0d0887"
             ],
             [
              0.1111111111111111,
              "#46039f"
             ],
             [
              0.2222222222222222,
              "#7201a8"
             ],
             [
              0.3333333333333333,
              "#9c179e"
             ],
             [
              0.4444444444444444,
              "#bd3786"
             ],
             [
              0.5555555555555556,
              "#d8576b"
             ],
             [
              0.6666666666666666,
              "#ed7953"
             ],
             [
              0.7777777777777778,
              "#fb9f3a"
             ],
             [
              0.8888888888888888,
              "#fdca26"
             ],
             [
              1,
              "#f0f921"
             ]
            ],
            "type": "histogram2d"
           }
          ],
          "histogram2dcontour": [
           {
            "colorbar": {
             "outlinewidth": 0,
             "ticks": ""
            },
            "colorscale": [
             [
              0,
              "#0d0887"
             ],
             [
              0.1111111111111111,
              "#46039f"
             ],
             [
              0.2222222222222222,
              "#7201a8"
             ],
             [
              0.3333333333333333,
              "#9c179e"
             ],
             [
              0.4444444444444444,
              "#bd3786"
             ],
             [
              0.5555555555555556,
              "#d8576b"
             ],
             [
              0.6666666666666666,
              "#ed7953"
             ],
             [
              0.7777777777777778,
              "#fb9f3a"
             ],
             [
              0.8888888888888888,
              "#fdca26"
             ],
             [
              1,
              "#f0f921"
             ]
            ],
            "type": "histogram2dcontour"
           }
          ],
          "mesh3d": [
           {
            "colorbar": {
             "outlinewidth": 0,
             "ticks": ""
            },
            "type": "mesh3d"
           }
          ],
          "parcoords": [
           {
            "line": {
             "colorbar": {
              "outlinewidth": 0,
              "ticks": ""
             }
            },
            "type": "parcoords"
           }
          ],
          "pie": [
           {
            "automargin": true,
            "type": "pie"
           }
          ],
          "scatter": [
           {
            "fillpattern": {
             "fillmode": "overlay",
             "size": 10,
             "solidity": 0.2
            },
            "type": "scatter"
           }
          ],
          "scatter3d": [
           {
            "line": {
             "colorbar": {
              "outlinewidth": 0,
              "ticks": ""
             }
            },
            "marker": {
             "colorbar": {
              "outlinewidth": 0,
              "ticks": ""
             }
            },
            "type": "scatter3d"
           }
          ],
          "scattercarpet": [
           {
            "marker": {
             "colorbar": {
              "outlinewidth": 0,
              "ticks": ""
             }
            },
            "type": "scattercarpet"
           }
          ],
          "scattergeo": [
           {
            "marker": {
             "colorbar": {
              "outlinewidth": 0,
              "ticks": ""
             }
            },
            "type": "scattergeo"
           }
          ],
          "scattergl": [
           {
            "marker": {
             "colorbar": {
              "outlinewidth": 0,
              "ticks": ""
             }
            },
            "type": "scattergl"
           }
          ],
          "scattermapbox": [
           {
            "marker": {
             "colorbar": {
              "outlinewidth": 0,
              "ticks": ""
             }
            },
            "type": "scattermapbox"
           }
          ],
          "scatterpolar": [
           {
            "marker": {
             "colorbar": {
              "outlinewidth": 0,
              "ticks": ""
             }
            },
            "type": "scatterpolar"
           }
          ],
          "scatterpolargl": [
           {
            "marker": {
             "colorbar": {
              "outlinewidth": 0,
              "ticks": ""
             }
            },
            "type": "scatterpolargl"
           }
          ],
          "scatterternary": [
           {
            "marker": {
             "colorbar": {
              "outlinewidth": 0,
              "ticks": ""
             }
            },
            "type": "scatterternary"
           }
          ],
          "surface": [
           {
            "colorbar": {
             "outlinewidth": 0,
             "ticks": ""
            },
            "colorscale": [
             [
              0,
              "#0d0887"
             ],
             [
              0.1111111111111111,
              "#46039f"
             ],
             [
              0.2222222222222222,
              "#7201a8"
             ],
             [
              0.3333333333333333,
              "#9c179e"
             ],
             [
              0.4444444444444444,
              "#bd3786"
             ],
             [
              0.5555555555555556,
              "#d8576b"
             ],
             [
              0.6666666666666666,
              "#ed7953"
             ],
             [
              0.7777777777777778,
              "#fb9f3a"
             ],
             [
              0.8888888888888888,
              "#fdca26"
             ],
             [
              1,
              "#f0f921"
             ]
            ],
            "type": "surface"
           }
          ],
          "table": [
           {
            "cells": {
             "fill": {
              "color": "#EBF0F8"
             },
             "line": {
              "color": "white"
             }
            },
            "header": {
             "fill": {
              "color": "#C8D4E3"
             },
             "line": {
              "color": "white"
             }
            },
            "type": "table"
           }
          ]
         },
         "layout": {
          "annotationdefaults": {
           "arrowcolor": "#2a3f5f",
           "arrowhead": 0,
           "arrowwidth": 1
          },
          "autotypenumbers": "strict",
          "coloraxis": {
           "colorbar": {
            "outlinewidth": 0,
            "ticks": ""
           }
          },
          "colorscale": {
           "diverging": [
            [
             0,
             "#8e0152"
            ],
            [
             0.1,
             "#c51b7d"
            ],
            [
             0.2,
             "#de77ae"
            ],
            [
             0.3,
             "#f1b6da"
            ],
            [
             0.4,
             "#fde0ef"
            ],
            [
             0.5,
             "#f7f7f7"
            ],
            [
             0.6,
             "#e6f5d0"
            ],
            [
             0.7,
             "#b8e186"
            ],
            [
             0.8,
             "#7fbc41"
            ],
            [
             0.9,
             "#4d9221"
            ],
            [
             1,
             "#276419"
            ]
           ],
           "sequential": [
            [
             0,
             "#0d0887"
            ],
            [
             0.1111111111111111,
             "#46039f"
            ],
            [
             0.2222222222222222,
             "#7201a8"
            ],
            [
             0.3333333333333333,
             "#9c179e"
            ],
            [
             0.4444444444444444,
             "#bd3786"
            ],
            [
             0.5555555555555556,
             "#d8576b"
            ],
            [
             0.6666666666666666,
             "#ed7953"
            ],
            [
             0.7777777777777778,
             "#fb9f3a"
            ],
            [
             0.8888888888888888,
             "#fdca26"
            ],
            [
             1,
             "#f0f921"
            ]
           ],
           "sequentialminus": [
            [
             0,
             "#0d0887"
            ],
            [
             0.1111111111111111,
             "#46039f"
            ],
            [
             0.2222222222222222,
             "#7201a8"
            ],
            [
             0.3333333333333333,
             "#9c179e"
            ],
            [
             0.4444444444444444,
             "#bd3786"
            ],
            [
             0.5555555555555556,
             "#d8576b"
            ],
            [
             0.6666666666666666,
             "#ed7953"
            ],
            [
             0.7777777777777778,
             "#fb9f3a"
            ],
            [
             0.8888888888888888,
             "#fdca26"
            ],
            [
             1,
             "#f0f921"
            ]
           ]
          },
          "colorway": [
           "#636efa",
           "#EF553B",
           "#00cc96",
           "#ab63fa",
           "#FFA15A",
           "#19d3f3",
           "#FF6692",
           "#B6E880",
           "#FF97FF",
           "#FECB52"
          ],
          "font": {
           "color": "#2a3f5f"
          },
          "geo": {
           "bgcolor": "white",
           "lakecolor": "white",
           "landcolor": "#E5ECF6",
           "showlakes": true,
           "showland": true,
           "subunitcolor": "white"
          },
          "hoverlabel": {
           "align": "left"
          },
          "hovermode": "closest",
          "mapbox": {
           "style": "light"
          },
          "paper_bgcolor": "white",
          "plot_bgcolor": "#E5ECF6",
          "polar": {
           "angularaxis": {
            "gridcolor": "white",
            "linecolor": "white",
            "ticks": ""
           },
           "bgcolor": "#E5ECF6",
           "radialaxis": {
            "gridcolor": "white",
            "linecolor": "white",
            "ticks": ""
           }
          },
          "scene": {
           "xaxis": {
            "backgroundcolor": "#E5ECF6",
            "gridcolor": "white",
            "gridwidth": 2,
            "linecolor": "white",
            "showbackground": true,
            "ticks": "",
            "zerolinecolor": "white"
           },
           "yaxis": {
            "backgroundcolor": "#E5ECF6",
            "gridcolor": "white",
            "gridwidth": 2,
            "linecolor": "white",
            "showbackground": true,
            "ticks": "",
            "zerolinecolor": "white"
           },
           "zaxis": {
            "backgroundcolor": "#E5ECF6",
            "gridcolor": "white",
            "gridwidth": 2,
            "linecolor": "white",
            "showbackground": true,
            "ticks": "",
            "zerolinecolor": "white"
           }
          },
          "shapedefaults": {
           "line": {
            "color": "#2a3f5f"
           }
          },
          "ternary": {
           "aaxis": {
            "gridcolor": "white",
            "linecolor": "white",
            "ticks": ""
           },
           "baxis": {
            "gridcolor": "white",
            "linecolor": "white",
            "ticks": ""
           },
           "bgcolor": "#E5ECF6",
           "caxis": {
            "gridcolor": "white",
            "linecolor": "white",
            "ticks": ""
           }
          },
          "title": {
           "x": 0.05
          },
          "xaxis": {
           "automargin": true,
           "gridcolor": "white",
           "linecolor": "white",
           "ticks": "",
           "title": {
            "standoff": 15
           },
           "zerolinecolor": "white",
           "zerolinewidth": 2
          },
          "yaxis": {
           "automargin": true,
           "gridcolor": "white",
           "linecolor": "white",
           "ticks": "",
           "title": {
            "standoff": 15
           },
           "zerolinecolor": "white",
           "zerolinewidth": 2
          }
         }
        },
        "width": 900,
        "xaxis": {
         "anchor": "y",
         "constrain": "domain",
         "domain": [
          0,
          1
         ],
         "scaleanchor": "y",
         "tickfont": {
          "size": 10
         }
        },
        "yaxis": {
         "anchor": "x",
         "autorange": "reversed",
         "constrain": "domain",
         "domain": [
          0,
          1
         ],
         "tickfont": {
          "size": 10
         }
        }
       }
      }
     },
     "metadata": {},
     "output_type": "display_data"
    }
   ],
   "source": [
    "\n",
    "# a, only linear correlations\n",
    "plot_correlation_matrix(subset_linear_correlation_matrix_100, \n",
    "                        subset_extended_reactions_100, \n",
    "                        label_font_size=10)\n",
    "\n",
    "# b, only non-linear copula dependencies\n",
    "plot_correlation_matrix(subset_non_linear_correlation_matrix_100, \n",
    "                        subset_extended_reactions_100, \n",
    "                        label_font_size=10)\n",
    "\n",
    "# c, both linear correlations and non-linear dependencies\n",
    "plot_correlation_matrix(subset_mixed_correlation_matrix_100, \n",
    "                        subset_extended_reactions_100, \n",
    "                        label_font_size=10)\n"
   ]
  }
 ],
 "metadata": {
  "kernelspec": {
   "display_name": "dingo-stats-3-10",
   "language": "python",
   "name": "python3"
  },
  "language_info": {
   "codemirror_mode": {
    "name": "ipython",
    "version": 3
   },
   "file_extension": ".py",
   "mimetype": "text/x-python",
   "name": "python",
   "nbconvert_exporter": "python",
   "pygments_lexer": "ipython3",
   "version": "3.10.18"
  }
 },
 "nbformat": 4,
 "nbformat_minor": 5
}
