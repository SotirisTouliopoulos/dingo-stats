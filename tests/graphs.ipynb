{
 "cells": [
  {
   "cell_type": "markdown",
   "id": "ff5e93ce",
   "metadata": {},
   "source": [
    "### Load libraries"
   ]
  },
  {
   "cell_type": "code",
   "execution_count": 1,
   "id": "b263837a",
   "metadata": {},
   "outputs": [
    {
     "name": "stderr",
     "output_type": "stream",
     "text": [
      "/home/touliopoulos/.local/lib/python3.10/site-packages/pandas/core/computation/expressions.py:21: UserWarning: Pandas requires version '2.8.4' or newer of 'numexpr' (version '2.8.1' currently installed).\n",
      "  from pandas.core.computation.check import NUMEXPR_INSTALLED\n",
      "/home/touliopoulos/.local/lib/python3.10/site-packages/pandas/core/arrays/masked.py:60: UserWarning: Pandas requires version '1.3.6' or newer of 'bottleneck' (version '1.3.2' currently installed).\n",
      "  from pandas.core import (\n",
      "/home/touliopoulos/.local/lib/python3.10/site-packages/matplotlib/projections/__init__.py:63: UserWarning: Unable to import Axes3D. This may be due to multiple versions of Matplotlib being installed (e.g. as a system package and as a pip package). As a result, the 3D projection is not available.\n",
      "  warnings.warn(\"Unable to import Axes3D. This may be due to multiple versions of \"\n"
     ]
    }
   ],
   "source": [
    "\n",
    "import sys\n",
    "sys.path.insert(0, '../src/')\n",
    "\n",
    "from load_modify_sample_utils import load_model, get_objective_functions, get_reaction_bounds, modify_model\n",
    "from load_modify_sample_utils import sample_dingo, sample_optgp\n",
    "\n",
    "from correlations_utils import correlated_reactions, split_forward_reverse\n",
    "from correlations_utils import find_reactants_products, sharing_metabolites_square_matrix\n",
    "\n",
    "from graphs_utils import construct_graph, plot_graph, compare_betweenness_centralities\n",
    "\n",
    "from pathways_utils import sort_reactions_in_pathways_by_reactions_in_model_order, subset_sampling_df_from_reaction_ids\n",
    "from pathways_utils import map_model_to_kegg_reactions, read_json_file, bigg_to_kegg_id, fill_missing_kegg_ids_in_dict\n",
    "from pathways_utils import get_kegg_pathways_from_reaction_ids, subset_model_reactions_from_pathway_info\n",
    "from pathways_utils import dictionary_bigg_id_to_pathway_names, dictionary_forward_reverse_bigg_id_to_pathway_names\n"
   ]
  },
  {
   "cell_type": "markdown",
   "id": "454151b9",
   "metadata": {},
   "source": [
    "### Load model"
   ]
  },
  {
   "cell_type": "code",
   "execution_count": 2,
   "id": "920de302",
   "metadata": {},
   "outputs": [
    {
     "name": "stdout",
     "output_type": "stream",
     "text": [
      "Set parameter Username\n",
      "Set parameter LicenseID to value 2642044\n",
      "Academic license - for non-commercial use only - expires 2026-03-25\n",
      "['BIOMASS_Ecoli_core_w_GAM']\n",
      "{'PFK': (0.0, 1000.0), 'PFL': (0.0, 1000.0), 'PGI': (-1000.0, 1000.0), 'PGK': (-1000.0, 1000.0), 'PGL': (0.0, 1000.0), 'ACALD': (-1000.0, 1000.0), 'AKGt2r': (-1000.0, 1000.0), 'PGM': (-1000.0, 1000.0), 'PIt2r': (-1000.0, 1000.0), 'ALCD2x': (-1000.0, 1000.0), 'ACALDt': (-1000.0, 1000.0), 'ACKr': (-1000.0, 1000.0), 'PPC': (0.0, 1000.0), 'ACONTa': (-1000.0, 1000.0), 'ACONTb': (-1000.0, 1000.0), 'ATPM': (8.39, 1000.0), 'PPCK': (0.0, 1000.0), 'ACt2r': (-1000.0, 1000.0), 'PPS': (0.0, 1000.0), 'ADK1': (-1000.0, 1000.0), 'AKGDH': (0.0, 1000.0), 'ATPS4r': (-1000.0, 1000.0), 'PTAr': (-1000.0, 1000.0), 'PYK': (0.0, 1000.0), 'BIOMASS_Ecoli_core_w_GAM': (0.0, 1000.0), 'PYRt2': (-1000.0, 1000.0), 'CO2t': (-1000.0, 1000.0), 'RPE': (-1000.0, 1000.0), 'CS': (0.0, 1000.0), 'RPI': (-1000.0, 1000.0), 'SUCCt2_2': (0.0, 1000.0), 'CYTBD': (0.0, 1000.0), 'D_LACt2': (-1000.0, 1000.0), 'ENO': (-1000.0, 1000.0), 'SUCCt3': (0.0, 1000.0), 'ETOHt2r': (-1000.0, 1000.0), 'SUCDi': (0.0, 1000.0), 'SUCOAS': (-1000.0, 1000.0), 'TALA': (-1000.0, 1000.0), 'THD2': (0.0, 1000.0), 'TKT1': (-1000.0, 1000.0), 'TKT2': (-1000.0, 1000.0), 'TPI': (-1000.0, 1000.0), 'EX_ac_e': (0.0, 1000.0), 'EX_acald_e': (0.0, 1000.0), 'EX_akg_e': (0.0, 1000.0), 'EX_co2_e': (-1000.0, 1000.0), 'EX_etoh_e': (0.0, 1000.0), 'EX_for_e': (0.0, 1000.0), 'EX_fru_e': (0.0, 1000.0), 'EX_fum_e': (0.0, 1000.0), 'EX_glc__D_e': (-10.0, 1000.0), 'EX_gln__L_e': (0.0, 1000.0), 'EX_glu__L_e': (0.0, 1000.0), 'EX_h_e': (-1000.0, 1000.0), 'EX_h2o_e': (-1000.0, 1000.0), 'EX_lac__D_e': (0.0, 1000.0), 'EX_mal__L_e': (0.0, 1000.0), 'EX_nh4_e': (-1000.0, 1000.0), 'EX_o2_e': (-1000.0, 1000.0), 'EX_pi_e': (-1000.0, 1000.0), 'EX_pyr_e': (0.0, 1000.0), 'EX_succ_e': (0.0, 1000.0), 'FBA': (-1000.0, 1000.0), 'FBP': (0.0, 1000.0), 'FORt2': (0.0, 1000.0), 'FORt': (-1000.0, 0.0), 'FRD7': (0.0, 1000.0), 'FRUpts2': (0.0, 1000.0), 'FUM': (-1000.0, 1000.0), 'FUMt2_2': (0.0, 1000.0), 'G6PDH2r': (-1000.0, 1000.0), 'GAPD': (-1000.0, 1000.0), 'GLCpts': (0.0, 1000.0), 'GLNS': (0.0, 1000.0), 'GLNabc': (0.0, 1000.0), 'GLUDy': (-1000.0, 1000.0), 'GLUN': (0.0, 1000.0), 'GLUSy': (0.0, 1000.0), 'GLUt2r': (-1000.0, 1000.0), 'GND': (0.0, 1000.0), 'H2Ot': (-1000.0, 1000.0), 'ICDHyr': (-1000.0, 1000.0), 'ICL': (0.0, 1000.0), 'LDH_D': (-1000.0, 1000.0), 'MALS': (0.0, 1000.0), 'MALt2_2': (0.0, 1000.0), 'MDH': (-1000.0, 1000.0), 'ME1': (0.0, 1000.0), 'ME2': (0.0, 1000.0), 'NADH16': (0.0, 1000.0), 'NADTRHD': (0.0, 1000.0), 'NH4t': (-1000.0, 1000.0), 'O2t': (-1000.0, 1000.0), 'PDH': (0.0, 1000.0)}\n"
     ]
    }
   ],
   "source": [
    "ec_cobra_model, ec_cobra_reactions, ec_dingo_model, ec_dingo_reactions = load_model(\"../ext_data/models/e_coli_core.xml\")\n",
    "\n",
    "objective_functions = get_objective_functions(ec_cobra_model)\n",
    "print(objective_functions)\n",
    "\n",
    "default_reaction_bounds = get_reaction_bounds(ec_cobra_model)\n",
    "print(default_reaction_bounds)"
   ]
  },
  {
   "cell_type": "markdown",
   "id": "091b15fc",
   "metadata": {},
   "source": [
    "### Modify model and sample"
   ]
  },
  {
   "cell_type": "code",
   "execution_count": 3,
   "id": "db6f5d1e",
   "metadata": {},
   "outputs": [
    {
     "name": "stdout",
     "output_type": "stream",
     "text": [
      "Read LP format model from file /tmp/tmp3g1qdg6z.lp\n",
      "Reading time = 0.01 seconds\n",
      ": 72 rows, 190 columns, 720 nonzeros\n"
     ]
    },
    {
     "name": "stdout",
     "output_type": "stream",
     "text": [
      "Read LP format model from file /tmp/tmpuft3owht.lp\n",
      "Reading time = 0.00 seconds\n",
      ": 72 rows, 190 columns, 720 nonzeros\n",
      "Read LP format model from file /tmp/tmp7lx78k04.lp\n",
      "Reading time = 0.00 seconds\n",
      ": 72 rows, 190 columns, 720 nonzeros\n",
      "Read LP format model from file /tmp/tmpz1ne29by.lp\n",
      "Reading time = 0.00 seconds\n",
      ": 72 rows, 190 columns, 720 nonzeros\n"
     ]
    }
   ],
   "source": [
    "\n",
    "ec_cobra_model_condition_100, ec_dingo_model_condition_100 = modify_model(ec_cobra_model, objective_function=\"BIOMASS_Ecoli_core_w_GAM\", optimal_percentage=100)\n",
    "ec_cobra_model_condition_0, ec_dingo_model_condition_0 = modify_model(ec_cobra_model, objective_function=\"BIOMASS_Ecoli_core_w_GAM\", optimal_percentage=0)\n",
    "\n",
    "\n",
    "samples_optgp_condition_100 = sample_optgp(ec_cobra_model_condition_100, n_samples = 3000, thinning=100, reaction_in_rows = True)\n",
    "samples_optgp_condition_0 = sample_optgp(ec_cobra_model_condition_0, n_samples = 3000, thinning=100, reaction_in_rows = True)\n"
   ]
  },
  {
   "cell_type": "markdown",
   "id": "357c85be",
   "metadata": {},
   "source": [
    "### Map KEGG pathway information to reactions BiGG ids  "
   ]
  },
  {
   "cell_type": "code",
   "execution_count": 4,
   "id": "97542043",
   "metadata": {},
   "outputs": [
    {
     "name": "stderr",
     "output_type": "stream",
     "text": [
      "\u001b[33mWARNING [bioservices.KEGG:596]: \u001b[0m \u001b[32mstatus is not ok with Bad Request\u001b[0m\n",
      "WARNING:bioservices.KEGG:status is not ok with Bad Request\n",
      "\u001b[33mWARNING [bioservices.KEGG:1181]: \u001b[0m \u001b[32mCould not parse the entry correctly.\u001b[0m\n",
      "WARNING:bioservices.KEGG:Could not parse the entry correctly.\n",
      "\u001b[33mWARNING [bioservices.KEGG:596]: \u001b[0m \u001b[32mstatus is not ok with Bad Request\u001b[0m\n",
      "WARNING:bioservices.KEGG:status is not ok with Bad Request\n",
      "\u001b[33mWARNING [bioservices.KEGG:1181]: \u001b[0m \u001b[32mCould not parse the entry correctly.\u001b[0m\n",
      "WARNING:bioservices.KEGG:Could not parse the entry correctly.\n",
      "\u001b[33mWARNING [bioservices.KEGG:596]: \u001b[0m \u001b[32mstatus is not ok with Bad Request\u001b[0m\n",
      "WARNING:bioservices.KEGG:status is not ok with Bad Request\n",
      "\u001b[33mWARNING [bioservices.KEGG:1181]: \u001b[0m \u001b[32mCould not parse the entry correctly.\u001b[0m\n",
      "WARNING:bioservices.KEGG:Could not parse the entry correctly.\n",
      "\u001b[33mWARNING [bioservices.KEGG:596]: \u001b[0m \u001b[32mstatus is not ok with Bad Request\u001b[0m\n",
      "WARNING:bioservices.KEGG:status is not ok with Bad Request\n",
      "\u001b[33mWARNING [bioservices.KEGG:1181]: \u001b[0m \u001b[32mCould not parse the entry correctly.\u001b[0m\n",
      "WARNING:bioservices.KEGG:Could not parse the entry correctly.\n",
      "\u001b[33mWARNING [bioservices.KEGG:596]: \u001b[0m \u001b[32mstatus is not ok with Bad Request\u001b[0m\n",
      "WARNING:bioservices.KEGG:status is not ok with Bad Request\n",
      "\u001b[33mWARNING [bioservices.KEGG:1181]: \u001b[0m \u001b[32mCould not parse the entry correctly.\u001b[0m\n",
      "WARNING:bioservices.KEGG:Could not parse the entry correctly.\n",
      "\u001b[33mWARNING [bioservices.KEGG:596]: \u001b[0m \u001b[32mstatus is not ok with Bad Request\u001b[0m\n",
      "WARNING:bioservices.KEGG:status is not ok with Bad Request\n",
      "\u001b[33mWARNING [bioservices.KEGG:1181]: \u001b[0m \u001b[32mCould not parse the entry correctly.\u001b[0m\n",
      "WARNING:bioservices.KEGG:Could not parse the entry correctly.\n",
      "\u001b[33mWARNING [bioservices.KEGG:596]: \u001b[0m \u001b[32mstatus is not ok with Bad Request\u001b[0m\n",
      "WARNING:bioservices.KEGG:status is not ok with Bad Request\n",
      "\u001b[33mWARNING [bioservices.KEGG:1181]: \u001b[0m \u001b[32mCould not parse the entry correctly.\u001b[0m\n",
      "WARNING:bioservices.KEGG:Could not parse the entry correctly.\n",
      "\u001b[33mWARNING [bioservices.KEGG:596]: \u001b[0m \u001b[32mstatus is not ok with Bad Request\u001b[0m\n",
      "WARNING:bioservices.KEGG:status is not ok with Bad Request\n",
      "\u001b[33mWARNING [bioservices.KEGG:1181]: \u001b[0m \u001b[32mCould not parse the entry correctly.\u001b[0m\n",
      "WARNING:bioservices.KEGG:Could not parse the entry correctly.\n",
      "\u001b[33mWARNING [bioservices.KEGG:596]: \u001b[0m \u001b[32mstatus is not ok with Bad Request\u001b[0m\n",
      "WARNING:bioservices.KEGG:status is not ok with Bad Request\n",
      "\u001b[33mWARNING [bioservices.KEGG:1181]: \u001b[0m \u001b[32mCould not parse the entry correctly.\u001b[0m\n",
      "WARNING:bioservices.KEGG:Could not parse the entry correctly.\n",
      "\u001b[33mWARNING [bioservices.KEGG:596]: \u001b[0m \u001b[32mstatus is not ok with Bad Request\u001b[0m\n",
      "WARNING:bioservices.KEGG:status is not ok with Bad Request\n",
      "\u001b[33mWARNING [bioservices.KEGG:1181]: \u001b[0m \u001b[32mCould not parse the entry correctly.\u001b[0m\n",
      "WARNING:bioservices.KEGG:Could not parse the entry correctly.\n",
      "\u001b[33mWARNING [bioservices.KEGG:596]: \u001b[0m \u001b[32mstatus is not ok with Bad Request\u001b[0m\n",
      "WARNING:bioservices.KEGG:status is not ok with Bad Request\n",
      "\u001b[33mWARNING [bioservices.KEGG:1181]: \u001b[0m \u001b[32mCould not parse the entry correctly.\u001b[0m\n",
      "WARNING:bioservices.KEGG:Could not parse the entry correctly.\n",
      "\u001b[33mWARNING [bioservices.KEGG:596]: \u001b[0m \u001b[32mstatus is not ok with Bad Request\u001b[0m\n",
      "WARNING:bioservices.KEGG:status is not ok with Bad Request\n",
      "\u001b[33mWARNING [bioservices.KEGG:1181]: \u001b[0m \u001b[32mCould not parse the entry correctly.\u001b[0m\n",
      "WARNING:bioservices.KEGG:Could not parse the entry correctly.\n",
      "\u001b[33mWARNING [bioservices.KEGG:596]: \u001b[0m \u001b[32mstatus is not ok with Bad Request\u001b[0m\n",
      "WARNING:bioservices.KEGG:status is not ok with Bad Request\n",
      "\u001b[33mWARNING [bioservices.KEGG:1181]: \u001b[0m \u001b[32mCould not parse the entry correctly.\u001b[0m\n",
      "WARNING:bioservices.KEGG:Could not parse the entry correctly.\n",
      "\u001b[33mWARNING [bioservices.KEGG:596]: \u001b[0m \u001b[32mstatus is not ok with Bad Request\u001b[0m\n",
      "WARNING:bioservices.KEGG:status is not ok with Bad Request\n",
      "\u001b[33mWARNING [bioservices.KEGG:1181]: \u001b[0m \u001b[32mCould not parse the entry correctly.\u001b[0m\n",
      "WARNING:bioservices.KEGG:Could not parse the entry correctly.\n",
      "\u001b[33mWARNING [bioservices.KEGG:596]: \u001b[0m \u001b[32mstatus is not ok with Bad Request\u001b[0m\n",
      "WARNING:bioservices.KEGG:status is not ok with Bad Request\n",
      "\u001b[33mWARNING [bioservices.KEGG:1181]: \u001b[0m \u001b[32mCould not parse the entry correctly.\u001b[0m\n",
      "WARNING:bioservices.KEGG:Could not parse the entry correctly.\n",
      "\u001b[33mWARNING [bioservices.KEGG:596]: \u001b[0m \u001b[32mstatus is not ok with Bad Request\u001b[0m\n",
      "WARNING:bioservices.KEGG:status is not ok with Bad Request\n",
      "\u001b[33mWARNING [bioservices.KEGG:1181]: \u001b[0m \u001b[32mCould not parse the entry correctly.\u001b[0m\n",
      "WARNING:bioservices.KEGG:Could not parse the entry correctly.\n",
      "\u001b[33mWARNING [bioservices.KEGG:596]: \u001b[0m \u001b[32mstatus is not ok with Bad Request\u001b[0m\n",
      "WARNING:bioservices.KEGG:status is not ok with Bad Request\n",
      "\u001b[33mWARNING [bioservices.KEGG:1181]: \u001b[0m \u001b[32mCould not parse the entry correctly.\u001b[0m\n",
      "WARNING:bioservices.KEGG:Could not parse the entry correctly.\n",
      "\u001b[33mWARNING [bioservices.KEGG:596]: \u001b[0m \u001b[32mstatus is not ok with Bad Request\u001b[0m\n",
      "WARNING:bioservices.KEGG:status is not ok with Bad Request\n",
      "\u001b[33mWARNING [bioservices.KEGG:1181]: \u001b[0m \u001b[32mCould not parse the entry correctly.\u001b[0m\n",
      "WARNING:bioservices.KEGG:Could not parse the entry correctly.\n",
      "\u001b[33mWARNING [bioservices.KEGG:596]: \u001b[0m \u001b[32mstatus is not ok with Bad Request\u001b[0m\n",
      "WARNING:bioservices.KEGG:status is not ok with Bad Request\n",
      "\u001b[33mWARNING [bioservices.KEGG:1181]: \u001b[0m \u001b[32mCould not parse the entry correctly.\u001b[0m\n",
      "WARNING:bioservices.KEGG:Could not parse the entry correctly.\n",
      "\u001b[33mWARNING [bioservices.KEGG:596]: \u001b[0m \u001b[32mstatus is not ok with Bad Request\u001b[0m\n",
      "WARNING:bioservices.KEGG:status is not ok with Bad Request\n",
      "\u001b[33mWARNING [bioservices.KEGG:1181]: \u001b[0m \u001b[32mCould not parse the entry correctly.\u001b[0m\n",
      "WARNING:bioservices.KEGG:Could not parse the entry correctly.\n",
      "\u001b[33mWARNING [bioservices.KEGG:596]: \u001b[0m \u001b[32mstatus is not ok with Bad Request\u001b[0m\n",
      "WARNING:bioservices.KEGG:status is not ok with Bad Request\n",
      "\u001b[33mWARNING [bioservices.KEGG:1181]: \u001b[0m \u001b[32mCould not parse the entry correctly.\u001b[0m\n",
      "WARNING:bioservices.KEGG:Could not parse the entry correctly.\n",
      "\u001b[33mWARNING [bioservices.KEGG:596]: \u001b[0m \u001b[32mstatus is not ok with Bad Request\u001b[0m\n",
      "WARNING:bioservices.KEGG:status is not ok with Bad Request\n",
      "\u001b[33mWARNING [bioservices.KEGG:1181]: \u001b[0m \u001b[32mCould not parse the entry correctly.\u001b[0m\n",
      "WARNING:bioservices.KEGG:Could not parse the entry correctly.\n",
      "\u001b[33mWARNING [bioservices.KEGG:596]: \u001b[0m \u001b[32mstatus is not ok with Bad Request\u001b[0m\n",
      "WARNING:bioservices.KEGG:status is not ok with Bad Request\n",
      "\u001b[33mWARNING [bioservices.KEGG:1181]: \u001b[0m \u001b[32mCould not parse the entry correctly.\u001b[0m\n",
      "WARNING:bioservices.KEGG:Could not parse the entry correctly.\n",
      "\u001b[33mWARNING [bioservices.KEGG:596]: \u001b[0m \u001b[32mstatus is not ok with Bad Request\u001b[0m\n",
      "WARNING:bioservices.KEGG:status is not ok with Bad Request\n",
      "\u001b[33mWARNING [bioservices.KEGG:1181]: \u001b[0m \u001b[32mCould not parse the entry correctly.\u001b[0m\n",
      "WARNING:bioservices.KEGG:Could not parse the entry correctly.\n",
      "\u001b[33mWARNING [bioservices.KEGG:596]: \u001b[0m \u001b[32mstatus is not ok with Bad Request\u001b[0m\n",
      "WARNING:bioservices.KEGG:status is not ok with Bad Request\n",
      "\u001b[33mWARNING [bioservices.KEGG:1181]: \u001b[0m \u001b[32mCould not parse the entry correctly.\u001b[0m\n",
      "WARNING:bioservices.KEGG:Could not parse the entry correctly.\n",
      "\u001b[33mWARNING [bioservices.KEGG:596]: \u001b[0m \u001b[32mstatus is not ok with Bad Request\u001b[0m\n",
      "WARNING:bioservices.KEGG:status is not ok with Bad Request\n",
      "\u001b[33mWARNING [bioservices.KEGG:1181]: \u001b[0m \u001b[32mCould not parse the entry correctly.\u001b[0m\n",
      "WARNING:bioservices.KEGG:Could not parse the entry correctly.\n",
      "\u001b[33mWARNING [bioservices.KEGG:596]: \u001b[0m \u001b[32mstatus is not ok with Bad Request\u001b[0m\n",
      "WARNING:bioservices.KEGG:status is not ok with Bad Request\n",
      "\u001b[33mWARNING [bioservices.KEGG:1181]: \u001b[0m \u001b[32mCould not parse the entry correctly.\u001b[0m\n",
      "WARNING:bioservices.KEGG:Could not parse the entry correctly.\n",
      "\u001b[33mWARNING [bioservices.KEGG:596]: \u001b[0m \u001b[32mstatus is not ok with Bad Request\u001b[0m\n",
      "WARNING:bioservices.KEGG:status is not ok with Bad Request\n",
      "\u001b[33mWARNING [bioservices.KEGG:1181]: \u001b[0m \u001b[32mCould not parse the entry correctly.\u001b[0m\n",
      "WARNING:bioservices.KEGG:Could not parse the entry correctly.\n",
      "\u001b[33mWARNING [bioservices.KEGG:596]: \u001b[0m \u001b[32mstatus is not ok with Bad Request\u001b[0m\n",
      "WARNING:bioservices.KEGG:status is not ok with Bad Request\n",
      "\u001b[33mWARNING [bioservices.KEGG:1181]: \u001b[0m \u001b[32mCould not parse the entry correctly.\u001b[0m\n",
      "WARNING:bioservices.KEGG:Could not parse the entry correctly.\n",
      "\u001b[33mWARNING [bioservices.KEGG:596]: \u001b[0m \u001b[32mstatus is not ok with Bad Request\u001b[0m\n",
      "WARNING:bioservices.KEGG:status is not ok with Bad Request\n",
      "\u001b[33mWARNING [bioservices.KEGG:1181]: \u001b[0m \u001b[32mCould not parse the entry correctly.\u001b[0m\n",
      "WARNING:bioservices.KEGG:Could not parse the entry correctly.\n",
      "\u001b[33mWARNING [bioservices.KEGG:596]: \u001b[0m \u001b[32mstatus is not ok with Bad Request\u001b[0m\n",
      "WARNING:bioservices.KEGG:status is not ok with Bad Request\n",
      "\u001b[33mWARNING [bioservices.KEGG:1181]: \u001b[0m \u001b[32mCould not parse the entry correctly.\u001b[0m\n",
      "WARNING:bioservices.KEGG:Could not parse the entry correctly.\n",
      "\u001b[33mWARNING [bioservices.KEGG:596]: \u001b[0m \u001b[32mstatus is not ok with Bad Request\u001b[0m\n",
      "WARNING:bioservices.KEGG:status is not ok with Bad Request\n",
      "\u001b[33mWARNING [bioservices.KEGG:1181]: \u001b[0m \u001b[32mCould not parse the entry correctly.\u001b[0m\n",
      "WARNING:bioservices.KEGG:Could not parse the entry correctly.\n",
      "\u001b[33mWARNING [bioservices.KEGG:596]: \u001b[0m \u001b[32mstatus is not ok with Bad Request\u001b[0m\n",
      "WARNING:bioservices.KEGG:status is not ok with Bad Request\n",
      "\u001b[33mWARNING [bioservices.KEGG:1181]: \u001b[0m \u001b[32mCould not parse the entry correctly.\u001b[0m\n",
      "WARNING:bioservices.KEGG:Could not parse the entry correctly.\n",
      "\u001b[33mWARNING [bioservices.KEGG:596]: \u001b[0m \u001b[32mstatus is not ok with Bad Request\u001b[0m\n",
      "WARNING:bioservices.KEGG:status is not ok with Bad Request\n",
      "\u001b[33mWARNING [bioservices.KEGG:1181]: \u001b[0m \u001b[32mCould not parse the entry correctly.\u001b[0m\n",
      "WARNING:bioservices.KEGG:Could not parse the entry correctly.\n",
      "\u001b[33mWARNING [bioservices.KEGG:596]: \u001b[0m \u001b[32mstatus is not ok with Bad Request\u001b[0m\n",
      "WARNING:bioservices.KEGG:status is not ok with Bad Request\n",
      "\u001b[33mWARNING [bioservices.KEGG:1181]: \u001b[0m \u001b[32mCould not parse the entry correctly.\u001b[0m\n",
      "WARNING:bioservices.KEGG:Could not parse the entry correctly.\n",
      "\u001b[33mWARNING [bioservices.KEGG:596]: \u001b[0m \u001b[32mstatus is not ok with Bad Request\u001b[0m\n",
      "WARNING:bioservices.KEGG:status is not ok with Bad Request\n",
      "\u001b[33mWARNING [bioservices.KEGG:1181]: \u001b[0m \u001b[32mCould not parse the entry correctly.\u001b[0m\n",
      "WARNING:bioservices.KEGG:Could not parse the entry correctly.\n",
      "\u001b[33mWARNING [bioservices.KEGG:596]: \u001b[0m \u001b[32mstatus is not ok with Bad Request\u001b[0m\n",
      "WARNING:bioservices.KEGG:status is not ok with Bad Request\n",
      "\u001b[33mWARNING [bioservices.KEGG:1181]: \u001b[0m \u001b[32mCould not parse the entry correctly.\u001b[0m\n",
      "WARNING:bioservices.KEGG:Could not parse the entry correctly.\n",
      "\u001b[33mWARNING [bioservices.KEGG:596]: \u001b[0m \u001b[32mstatus is not ok with Bad Request\u001b[0m\n",
      "WARNING:bioservices.KEGG:status is not ok with Bad Request\n",
      "\u001b[33mWARNING [bioservices.KEGG:1181]: \u001b[0m \u001b[32mCould not parse the entry correctly.\u001b[0m\n",
      "WARNING:bioservices.KEGG:Could not parse the entry correctly.\n",
      "\u001b[33mWARNING [bioservices.KEGG:596]: \u001b[0m \u001b[32mstatus is not ok with Bad Request\u001b[0m\n",
      "WARNING:bioservices.KEGG:status is not ok with Bad Request\n",
      "\u001b[33mWARNING [bioservices.KEGG:1181]: \u001b[0m \u001b[32mCould not parse the entry correctly.\u001b[0m\n",
      "WARNING:bioservices.KEGG:Could not parse the entry correctly.\n",
      "\u001b[33mWARNING [bioservices.KEGG:596]: \u001b[0m \u001b[32mstatus is not ok with Bad Request\u001b[0m\n",
      "WARNING:bioservices.KEGG:status is not ok with Bad Request\n",
      "\u001b[33mWARNING [bioservices.KEGG:1181]: \u001b[0m \u001b[32mCould not parse the entry correctly.\u001b[0m\n",
      "WARNING:bioservices.KEGG:Could not parse the entry correctly.\n",
      "\u001b[33mWARNING [bioservices.KEGG:596]: \u001b[0m \u001b[32mstatus is not ok with Bad Request\u001b[0m\n",
      "WARNING:bioservices.KEGG:status is not ok with Bad Request\n",
      "\u001b[33mWARNING [bioservices.KEGG:1181]: \u001b[0m \u001b[32mCould not parse the entry correctly.\u001b[0m\n",
      "WARNING:bioservices.KEGG:Could not parse the entry correctly.\n",
      "\u001b[33mWARNING [bioservices.KEGG:596]: \u001b[0m \u001b[32mstatus is not ok with Bad Request\u001b[0m\n",
      "WARNING:bioservices.KEGG:status is not ok with Bad Request\n",
      "\u001b[33mWARNING [bioservices.KEGG:1181]: \u001b[0m \u001b[32mCould not parse the entry correctly.\u001b[0m\n",
      "WARNING:bioservices.KEGG:Could not parse the entry correctly.\n",
      "\u001b[33mWARNING [bioservices.KEGG:596]: \u001b[0m \u001b[32mstatus is not ok with Bad Request\u001b[0m\n",
      "WARNING:bioservices.KEGG:status is not ok with Bad Request\n",
      "\u001b[33mWARNING [bioservices.KEGG:1181]: \u001b[0m \u001b[32mCould not parse the entry correctly.\u001b[0m\n",
      "WARNING:bioservices.KEGG:Could not parse the entry correctly.\n",
      "\u001b[33mWARNING [bioservices.KEGG:596]: \u001b[0m \u001b[32mstatus is not ok with Bad Request\u001b[0m\n",
      "WARNING:bioservices.KEGG:status is not ok with Bad Request\n",
      "\u001b[33mWARNING [bioservices.KEGG:1181]: \u001b[0m \u001b[32mCould not parse the entry correctly.\u001b[0m\n",
      "WARNING:bioservices.KEGG:Could not parse the entry correctly.\n",
      "\u001b[33mWARNING [bioservices.KEGG:596]: \u001b[0m \u001b[32mstatus is not ok with Bad Request\u001b[0m\n",
      "WARNING:bioservices.KEGG:status is not ok with Bad Request\n",
      "\u001b[33mWARNING [bioservices.KEGG:1181]: \u001b[0m \u001b[32mCould not parse the entry correctly.\u001b[0m\n",
      "WARNING:bioservices.KEGG:Could not parse the entry correctly.\n",
      "\u001b[33mWARNING [bioservices.KEGG:596]: \u001b[0m \u001b[32mstatus is not ok with Bad Request\u001b[0m\n",
      "WARNING:bioservices.KEGG:status is not ok with Bad Request\n",
      "\u001b[33mWARNING [bioservices.KEGG:1181]: \u001b[0m \u001b[32mCould not parse the entry correctly.\u001b[0m\n",
      "WARNING:bioservices.KEGG:Could not parse the entry correctly.\n",
      "\u001b[33mWARNING [bioservices.KEGG:596]: \u001b[0m \u001b[32mstatus is not ok with Bad Request\u001b[0m\n",
      "WARNING:bioservices.KEGG:status is not ok with Bad Request\n",
      "\u001b[33mWARNING [bioservices.KEGG:1181]: \u001b[0m \u001b[32mCould not parse the entry correctly.\u001b[0m\n",
      "WARNING:bioservices.KEGG:Could not parse the entry correctly.\n",
      "\u001b[33mWARNING [bioservices.KEGG:596]: \u001b[0m \u001b[32mstatus is not ok with Bad Request\u001b[0m\n",
      "WARNING:bioservices.KEGG:status is not ok with Bad Request\n",
      "\u001b[33mWARNING [bioservices.KEGG:1181]: \u001b[0m \u001b[32mCould not parse the entry correctly.\u001b[0m\n",
      "WARNING:bioservices.KEGG:Could not parse the entry correctly.\n"
     ]
    }
   ],
   "source": [
    "initial_bigg_to_kegg_dictionary = map_model_to_kegg_reactions(ec_cobra_model)\n",
    "\n",
    "\n",
    "reactions_json, reactions_pandas = read_json_file(\"../ext_data/reactions/reactions.json\")\n",
    "\n",
    "\n",
    "final_bigg_to_kegg_dictionary = fill_missing_kegg_ids_in_dict(initial_bigg_to_kegg_dictionary, reactions_pandas)\n",
    "\n",
    "\n",
    "df_kegg_pathways = get_kegg_pathways_from_reaction_ids(final_bigg_to_kegg_dictionary)"
   ]
  },
  {
   "cell_type": "markdown",
   "id": "a574c360",
   "metadata": {},
   "source": [
    "### Subset sampling dataframe to include only reactions from pathways of interest"
   ]
  },
  {
   "cell_type": "code",
   "execution_count": 5,
   "id": "ce85f354",
   "metadata": {},
   "outputs": [],
   "source": [
    "\n",
    "glycolysis = subset_model_reactions_from_pathway_info(df_kegg_pathways, \"Glycolysis\")\n",
    "ppp = subset_model_reactions_from_pathway_info(df_kegg_pathways, \"Pentose\")\n",
    "\n",
    "\n",
    "reactions_in_pathways_ordered_duplicates = sort_reactions_in_pathways_by_reactions_in_model_order(ec_dingo_reactions, glycolysis, ppp)\n",
    "\n",
    "\n",
    "# Remove duplicates\n",
    "reactions_in_pathways_ordered = []\n",
    "[reactions_in_pathways_ordered.append(val) for val in reactions_in_pathways_ordered_duplicates if val not in reactions_in_pathways_ordered]\n",
    "\n",
    "\n",
    "subset_pathways_optgp_condition_100 = subset_sampling_df_from_reaction_ids(\n",
    "                                                                samples_optgp_condition_100, \n",
    "                                                                ec_dingo_reactions, \n",
    "                                                                subset_reactions = reactions_in_pathways_ordered)\n",
    "\n",
    "\n",
    "subset_pathways_optgp_condition_0 = subset_sampling_df_from_reaction_ids(\n",
    "                                                                samples_optgp_condition_0, \n",
    "                                                                ec_dingo_reactions, \n",
    "                                                                subset_reactions = reactions_in_pathways_ordered)\n"
   ]
  },
  {
   "cell_type": "markdown",
   "id": "c97f5926",
   "metadata": {},
   "source": [
    "### Split into forward and reverse reactions"
   ]
  },
  {
   "cell_type": "code",
   "execution_count": 6,
   "id": "c874e2eb",
   "metadata": {},
   "outputs": [
    {
     "name": "stdout",
     "output_type": "stream",
     "text": [
      "21 21\n",
      "25 25\n"
     ]
    }
   ],
   "source": [
    "\n",
    "extended_steady_states_100, extended_reactions_100 = split_forward_reverse(subset_pathways_optgp_condition_100, reactions=reactions_in_pathways_ordered)\n",
    "\n",
    "reversibility_list_all_reactions, reactants_list_all_reactions, products_list_all_reactions = find_reactants_products(ec_cobra_model, extended_reactions_100)\n",
    "print(len(reversibility_list_all_reactions), len(reactants_list_all_reactions))\n",
    "\n",
    "\n",
    "\n",
    "extended_steady_states_0, extended_reactions_0 = split_forward_reverse(subset_pathways_optgp_condition_0, reactions=reactions_in_pathways_ordered)\n",
    "\n",
    "reversibility_list_all_reactions, reactants_list_all_reactions, products_list_all_reactions = find_reactants_products(ec_cobra_model, extended_reactions_0)\n",
    "print(len(reversibility_list_all_reactions), len(reactants_list_all_reactions))\n"
   ]
  },
  {
   "cell_type": "markdown",
   "id": "21459d38",
   "metadata": {},
   "source": [
    "### Create a dictionary that maps pathways from KEGG information"
   ]
  },
  {
   "cell_type": "code",
   "execution_count": 7,
   "id": "123aa686",
   "metadata": {},
   "outputs": [],
   "source": [
    "\n",
    "bigg_to_pathway_dict = dictionary_bigg_id_to_pathway_names(glycolysis = glycolysis, ppp = ppp)\n",
    "\n",
    "group_map_100 = dictionary_forward_reverse_bigg_id_to_pathway_names(bigg_to_pathway_dict, extended_reactions_100)\n",
    "group_map_0 = dictionary_forward_reverse_bigg_id_to_pathway_names(bigg_to_pathway_dict, extended_reactions_0)\n"
   ]
  },
  {
   "cell_type": "markdown",
   "id": "6ee681e9",
   "metadata": {},
   "source": [
    "### Calculate the correlation matrix (without sharing metabolites filtering)"
   ]
  },
  {
   "cell_type": "code",
   "execution_count": 8,
   "id": "d1209b50",
   "metadata": {},
   "outputs": [
    {
     "name": "stdout",
     "output_type": "stream",
     "text": [
      "Completed the process of 30 from 103 copulas\n",
      "Completed the process of 31 from 103 copulas\n",
      "Completed the process of 32 from 103 copulas\n",
      "Completed the process of 33 from 103 copulas\n",
      "Completed the process of 34 from 103 copulas\n",
      "Completed the process of 35 from 103 copulas\n",
      "Completed the process of 44 from 103 copulas\n",
      "Completed the process of 49 from 103 copulas\n",
      "Completed the process of 54 from 103 copulas\n",
      "Completed the process of 59 from 103 copulas\n",
      "Completed the process of 64 from 103 copulas\n",
      "Completed the process of 69 from 103 copulas\n",
      "Completed the process of 74 from 103 copulas\n",
      "Completed the process of 96 from 103 copulas\n",
      "Completed the process of 102 from 103 copulas\n",
      "Completed the process of 1 from 144 copulas\n",
      "Completed the process of 2 from 144 copulas\n",
      "Completed the process of 3 from 144 copulas\n",
      "Completed the process of 4 from 144 copulas\n",
      "Completed the process of 5 from 144 copulas\n",
      "Completed the process of 6 from 144 copulas\n",
      "Completed the process of 7 from 144 copulas\n",
      "Completed the process of 8 from 144 copulas\n",
      "Completed the process of 9 from 144 copulas\n",
      "Completed the process of 10 from 144 copulas\n",
      "Completed the process of 11 from 144 copulas\n",
      "Completed the process of 12 from 144 copulas\n",
      "Completed the process of 13 from 144 copulas\n",
      "Completed the process of 14 from 144 copulas\n",
      "Completed the process of 15 from 144 copulas\n",
      "Completed the process of 16 from 144 copulas\n",
      "Completed the process of 17 from 144 copulas\n",
      "Completed the process of 18 from 144 copulas\n",
      "Completed the process of 19 from 144 copulas\n",
      "Completed the process of 20 from 144 copulas\n",
      "Completed the process of 21 from 144 copulas\n",
      "Completed the process of 22 from 144 copulas\n",
      "Completed the process of 23 from 144 copulas\n",
      "Completed the process of 24 from 144 copulas\n",
      "Completed the process of 25 from 144 copulas\n",
      "Completed the process of 26 from 144 copulas\n",
      "Completed the process of 27 from 144 copulas\n",
      "Completed the process of 28 from 144 copulas\n",
      "Completed the process of 29 from 144 copulas\n",
      "Completed the process of 30 from 144 copulas\n",
      "Completed the process of 31 from 144 copulas\n",
      "Completed the process of 32 from 144 copulas\n",
      "Completed the process of 33 from 144 copulas\n",
      "Completed the process of 34 from 144 copulas\n",
      "Completed the process of 35 from 144 copulas\n",
      "Completed the process of 36 from 144 copulas\n",
      "Completed the process of 37 from 144 copulas\n",
      "Completed the process of 38 from 144 copulas\n",
      "Completed the process of 39 from 144 copulas\n",
      "Completed the process of 40 from 144 copulas\n",
      "Completed the process of 41 from 144 copulas\n",
      "Completed the process of 42 from 144 copulas\n",
      "Completed the process of 43 from 144 copulas\n",
      "Completed the process of 44 from 144 copulas\n",
      "Completed the process of 45 from 144 copulas\n",
      "Completed the process of 46 from 144 copulas\n",
      "Completed the process of 47 from 144 copulas\n",
      "Completed the process of 48 from 144 copulas\n",
      "Completed the process of 49 from 144 copulas\n",
      "Completed the process of 50 from 144 copulas\n",
      "Completed the process of 51 from 144 copulas\n",
      "Completed the process of 52 from 144 copulas\n",
      "Completed the process of 53 from 144 copulas\n",
      "Completed the process of 54 from 144 copulas\n",
      "Completed the process of 55 from 144 copulas\n",
      "Completed the process of 56 from 144 copulas\n",
      "Completed the process of 57 from 144 copulas\n",
      "Completed the process of 58 from 144 copulas\n",
      "Completed the process of 59 from 144 copulas\n",
      "Completed the process of 60 from 144 copulas\n",
      "Completed the process of 61 from 144 copulas\n",
      "Completed the process of 62 from 144 copulas\n",
      "Completed the process of 63 from 144 copulas\n",
      "Completed the process of 64 from 144 copulas\n",
      "Completed the process of 65 from 144 copulas\n",
      "Completed the process of 66 from 144 copulas\n",
      "Completed the process of 67 from 144 copulas\n",
      "Completed the process of 68 from 144 copulas\n",
      "Completed the process of 69 from 144 copulas\n",
      "Completed the process of 70 from 144 copulas\n",
      "Completed the process of 71 from 144 copulas\n",
      "Completed the process of 72 from 144 copulas\n",
      "Completed the process of 73 from 144 copulas\n",
      "Completed the process of 74 from 144 copulas\n",
      "Completed the process of 75 from 144 copulas\n",
      "Completed the process of 76 from 144 copulas\n",
      "Completed the process of 77 from 144 copulas\n",
      "Completed the process of 78 from 144 copulas\n",
      "Completed the process of 79 from 144 copulas\n",
      "Completed the process of 80 from 144 copulas\n",
      "Completed the process of 81 from 144 copulas\n",
      "Completed the process of 82 from 144 copulas\n",
      "Completed the process of 83 from 144 copulas\n",
      "Completed the process of 84 from 144 copulas\n",
      "Completed the process of 85 from 144 copulas\n",
      "Completed the process of 86 from 144 copulas\n",
      "Completed the process of 87 from 144 copulas\n",
      "Completed the process of 88 from 144 copulas\n",
      "Completed the process of 89 from 144 copulas\n",
      "Completed the process of 90 from 144 copulas\n",
      "Completed the process of 91 from 144 copulas\n",
      "Completed the process of 92 from 144 copulas\n",
      "Completed the process of 93 from 144 copulas\n",
      "Completed the process of 94 from 144 copulas\n",
      "Completed the process of 95 from 144 copulas\n",
      "Completed the process of 96 from 144 copulas\n",
      "Completed the process of 97 from 144 copulas\n",
      "Completed the process of 98 from 144 copulas\n",
      "Completed the process of 99 from 144 copulas\n",
      "Completed the process of 100 from 144 copulas\n",
      "Completed the process of 101 from 144 copulas\n",
      "Completed the process of 102 from 144 copulas\n",
      "Completed the process of 103 from 144 copulas\n",
      "Completed the process of 104 from 144 copulas\n",
      "Completed the process of 105 from 144 copulas\n",
      "Completed the process of 106 from 144 copulas\n",
      "Completed the process of 107 from 144 copulas\n",
      "Completed the process of 108 from 144 copulas\n",
      "Completed the process of 109 from 144 copulas\n",
      "Completed the process of 110 from 144 copulas\n",
      "Completed the process of 111 from 144 copulas\n",
      "Completed the process of 112 from 144 copulas\n",
      "Completed the process of 113 from 144 copulas\n",
      "Completed the process of 114 from 144 copulas\n",
      "Completed the process of 115 from 144 copulas\n",
      "Completed the process of 116 from 144 copulas\n",
      "Completed the process of 117 from 144 copulas\n",
      "Completed the process of 118 from 144 copulas\n",
      "Completed the process of 119 from 144 copulas\n",
      "Completed the process of 120 from 144 copulas\n",
      "Completed the process of 121 from 144 copulas\n",
      "Completed the process of 122 from 144 copulas\n",
      "Completed the process of 123 from 144 copulas\n",
      "Completed the process of 124 from 144 copulas\n",
      "Completed the process of 125 from 144 copulas\n",
      "Completed the process of 126 from 144 copulas\n",
      "Completed the process of 127 from 144 copulas\n",
      "Completed the process of 128 from 144 copulas\n",
      "Completed the process of 129 from 144 copulas\n",
      "Completed the process of 130 from 144 copulas\n",
      "Completed the process of 131 from 144 copulas\n",
      "Completed the process of 132 from 144 copulas\n",
      "Completed the process of 133 from 144 copulas\n",
      "Completed the process of 134 from 144 copulas\n",
      "Completed the process of 135 from 144 copulas\n",
      "Completed the process of 136 from 144 copulas\n",
      "Completed the process of 137 from 144 copulas\n",
      "Completed the process of 138 from 144 copulas\n",
      "Completed the process of 139 from 144 copulas\n",
      "Completed the process of 140 from 144 copulas\n",
      "Completed the process of 141 from 144 copulas\n",
      "Completed the process of 142 from 144 copulas\n",
      "Completed the process of 143 from 144 copulas\n",
      "Completed the process of 144 from 144 copulas\n"
     ]
    }
   ],
   "source": [
    "\n",
    "(linear_correlation_matrix_100, \n",
    "non_linear_correlation_matrix_100, \n",
    "mixed_correlation_matrix_100, \n",
    "correlations_dictionary_100) = correlated_reactions(\n",
    "        steady_states = extended_steady_states_100,\n",
    "        boolean_sharing_metabolites_matrix=None,\n",
    "        reactions=extended_reactions_100, \n",
    "        linear_corr_cutoff = 0.3, \n",
    "        indicator_cutoff = 1.2,\n",
    "        jensenshannon_cutoff = 0.05,\n",
    "        std_cutoff= 1e-2,\n",
    "        include_non_linear = True, \n",
    "        cells = 5, \n",
    "        cop_coeff = 0.2, \n",
    "        lower_triangle = False, \n",
    "        verbose = True)\n",
    "\n",
    "\n",
    "\n",
    "(linear_correlation_matrix_0, \n",
    "non_linear_correlation_matrix_0, \n",
    "mixed_correlation_matrix_0, \n",
    "correlations_dictionary_0) = correlated_reactions(\n",
    "        steady_states = extended_steady_states_0,\n",
    "        boolean_sharing_metabolites_matrix=None,\n",
    "        reactions=extended_reactions_0, \n",
    "        linear_corr_cutoff = 0.3, \n",
    "        indicator_cutoff = 1.2,\n",
    "        jensenshannon_cutoff = 0.05,\n",
    "        std_cutoff= 1e-2,\n",
    "        include_non_linear = True, \n",
    "        cells = 4, \n",
    "        cop_coeff = 0.2, \n",
    "        lower_triangle = False, \n",
    "        verbose = True)\n"
   ]
  },
  {
   "cell_type": "markdown",
   "id": "59a128d2",
   "metadata": {},
   "source": [
    "### Create and plot a graph from each condition"
   ]
  },
  {
   "cell_type": "code",
   "execution_count": 10,
   "id": "002c1bc9",
   "metadata": {},
   "outputs": [
    {
     "data": {
      "application/vnd.plotly.v1+json": {
       "config": {
        "plotlyServerURL": "https://plot.ly"
       },
       "data": [
        {
         "hoverinfo": "none",
         "line": {
          "color": "blue",
          "dash": "solid",
          "width": 0.8379449385296754
         },
         "mode": "lines",
         "showlegend": false,
         "type": "scatter",
         "x": [
          0.17335997775589104,
          0.2824439411497126
         ],
         "y": [
          0.8607575726353093,
          0.6852105061398442
         ]
        },
        {
         "hoverinfo": "none",
         "line": {
          "color": "red",
          "dash": "solid",
          "width": 0.8379449385296754
         },
         "mode": "lines",
         "showlegend": false,
         "type": "scatter",
         "x": [
          0.17335997775589104,
          0.07553282487116751
         ],
         "y": [
          0.8607575726353093,
          -0.837104379985319
         ]
        },
        {
         "hoverinfo": "none",
         "line": {
          "color": "red",
          "dash": "solid",
          "width": 0.8375991510923944
         },
         "mode": "lines",
         "showlegend": false,
         "type": "scatter",
         "x": [
          0.17335997775589104,
          0.12520840540550393
         ],
         "y": [
          0.8607575726353093,
          -0.8271950991610618
         ]
        },
        {
         "hoverinfo": "none",
         "line": {
          "color": "blue",
          "dash": "solid",
          "width": 0.8381085148108196
         },
         "mode": "lines",
         "showlegend": false,
         "type": "scatter",
         "x": [
          0.17335997775589104,
          0.12776837134156932
         ],
         "y": [
          0.8607575726353093,
          0.8427272694932608
         ]
        },
        {
         "hoverinfo": "none",
         "line": {
          "color": "red",
          "dash": "solid",
          "width": 0.8381085148108196
         },
         "mode": "lines",
         "showlegend": false,
         "type": "scatter",
         "x": [
          0.17335997775589104,
          0.03668895945656012
         ],
         "y": [
          0.8607575726353093,
          -0.9903528265718157
         ]
        },
        {
         "hoverinfo": "none",
         "line": {
          "color": "red",
          "dash": "solid",
          "width": 0.3109858926722285
         },
         "mode": "lines",
         "showlegend": false,
         "type": "scatter",
         "x": [
          0.17335997775589104,
          -0.38132302745675567
         ],
         "y": [
          0.8607575726353093,
          -0.7854329337812576
         ]
        },
        {
         "hoverinfo": "none",
         "line": {
          "color": "red",
          "dash": "solid",
          "width": 0.8375469905995687
         },
         "mode": "lines",
         "showlegend": false,
         "type": "scatter",
         "x": [
          0.17335997775589104,
          -0.43939599647615374
         ],
         "y": [
          0.8607575726353093,
          -0.9703666730805295
         ]
        },
        {
         "hoverinfo": "none",
         "line": {
          "color": "red",
          "dash": "solid",
          "width": 0.8376996071748342
         },
         "mode": "lines",
         "showlegend": false,
         "type": "scatter",
         "x": [
          0.17335997775589104,
          -0.24463480694913506
         ],
         "y": [
          0.8607575726353093,
          -1
         ]
        },
        {
         "hoverinfo": "none",
         "line": {
          "color": "blue",
          "dash": "solid",
          "width": 0.8376996071748342
         },
         "mode": "lines",
         "showlegend": false,
         "type": "scatter",
         "x": [
          0.17335997775589104,
          0.38535554142690454
         ],
         "y": [
          0.8607575726353093,
          0.7762510508963664
         ]
        },
        {
         "hoverinfo": "none",
         "line": {
          "color": "blue",
          "dash": "solid",
          "width": 0.8381085148108196
         },
         "mode": "lines",
         "showlegend": false,
         "type": "scatter",
         "x": [
          0.17335997775589104,
          0.26835897024738026
         ],
         "y": [
          0.8607575726353093,
          0.7901063454607884
         ]
        },
        {
         "hoverinfo": "none",
         "line": {
          "color": "red",
          "dash": "solid",
          "width": 0.8375733479589459
         },
         "mode": "lines",
         "showlegend": false,
         "type": "scatter",
         "x": [
          0.17335997775589104,
          -0.09059131411526856
         ],
         "y": [
          0.8607575726353093,
          -0.7406122674070189
         ]
        },
        {
         "hoverinfo": "none",
         "line": {
          "color": "blue",
          "dash": "solid",
          "width": 0.8377367967272462
         },
         "mode": "lines",
         "showlegend": false,
         "type": "scatter",
         "x": [
          0.17335997775589104,
          -0.15135911976787883
         ],
         "y": [
          0.8607575726353093,
          0.8200923769773788
         ]
        },
        {
         "hoverinfo": "none",
         "line": {
          "color": "blue",
          "dash": "solid",
          "width": 0.8377367967272462
         },
         "mode": "lines",
         "showlegend": false,
         "type": "scatter",
         "x": [
          0.17335997775589104,
          -0.04275190605544508
         ],
         "y": [
          0.8607575726353093,
          0.6369310891543924
         ]
        },
        {
         "hoverinfo": "none",
         "line": {
          "color": "blue",
          "dash": "solid",
          "width": 0.5781181785119396
         },
         "mode": "lines",
         "showlegend": false,
         "type": "scatter",
         "x": [
          0.17335997775589104,
          0.14808592556139855
         ],
         "y": [
          0.8607575726353093,
          0.5801181131264301
         ]
        },
        {
         "hoverinfo": "none",
         "line": {
          "color": "blue",
          "dash": "solid",
          "width": 0.8379449385296754
         },
         "mode": "lines",
         "showlegend": false,
         "type": "scatter",
         "x": [
          0.17335997775589104,
          0.1275195570503546
         ],
         "y": [
          0.8607575726353093,
          0.8976598837114484
         ]
        },
        {
         "hoverinfo": "none",
         "line": {
          "color": "red",
          "dash": "solid",
          "width": 0.8375991510923944
         },
         "mode": "lines",
         "showlegend": false,
         "type": "scatter",
         "x": [
          0.17335997775589104,
          -0.15308503298390466
         ],
         "y": [
          0.8607575726353093,
          -0.8077015764590453
         ]
        },
        {
         "hoverinfo": "none",
         "line": {
          "color": "red",
          "dash": "solid",
          "width": 1
         },
         "mode": "lines",
         "showlegend": false,
         "type": "scatter",
         "x": [
          0.2824439411497126,
          0.07553282487116751
         ],
         "y": [
          0.6852105061398442,
          -0.837104379985319
         ]
        },
        {
         "hoverinfo": "none",
         "line": {
          "color": "red",
          "dash": "solid",
          "width": 0.9999579192253842
         },
         "mode": "lines",
         "showlegend": false,
         "type": "scatter",
         "x": [
          0.2824439411497126,
          0.12520840540550393
         ],
         "y": [
          0.6852105061398442,
          -0.8271950991610618
         ]
        },
        {
         "hoverinfo": "none",
         "line": {
          "color": "blue",
          "dash": "solid",
          "width": 0.9999866747102973
         },
         "mode": "lines",
         "showlegend": false,
         "type": "scatter",
         "x": [
          0.2824439411497126,
          0.12776837134156932
         ],
         "y": [
          0.6852105061398442,
          0.8427272694932608
         ]
        },
        {
         "hoverinfo": "none",
         "line": {
          "color": "red",
          "dash": "solid",
          "width": 0.9999866747102973
         },
         "mode": "lines",
         "showlegend": false,
         "type": "scatter",
         "x": [
          0.2824439411497126,
          0.03668895945656012
         ],
         "y": [
          0.6852105061398442,
          -0.9903528265718157
         ]
        },
        {
         "hoverinfo": "none",
         "line": {
          "color": "red",
          "dash": "solid",
          "width": 0.35359165215010185
         },
         "mode": "lines",
         "showlegend": false,
         "type": "scatter",
         "x": [
          0.2824439411497126,
          -0.38132302745675567
         ],
         "y": [
          0.6852105061398442,
          -0.7854329337812576
         ]
        },
        {
         "hoverinfo": "none",
         "line": {
          "color": "red",
          "dash": "solid",
          "width": 0.9999457715784931
         },
         "mode": "lines",
         "showlegend": false,
         "type": "scatter",
         "x": [
          0.2824439411497126,
          -0.43939599647615374
         ],
         "y": [
          0.6852105061398442,
          -0.9703666730805295
         ]
        },
        {
         "hoverinfo": "none",
         "line": {
          "color": "red",
          "dash": "solid",
          "width": 0.9999775996854984
         },
         "mode": "lines",
         "showlegend": false,
         "type": "scatter",
         "x": [
          0.2824439411497126,
          -0.24463480694913506
         ],
         "y": [
          0.6852105061398442,
          -1
         ]
        },
        {
         "hoverinfo": "none",
         "line": {
          "color": "blue",
          "dash": "solid",
          "width": 0.9999775996854984
         },
         "mode": "lines",
         "showlegend": false,
         "type": "scatter",
         "x": [
          0.2824439411497126,
          0.38535554142690454
         ],
         "y": [
          0.6852105061398442,
          0.7762510508963664
         ]
        },
        {
         "hoverinfo": "none",
         "line": {
          "color": "blue",
          "dash": "solid",
          "width": 0.9999866747102973
         },
         "mode": "lines",
         "showlegend": false,
         "type": "scatter",
         "x": [
          0.2824439411497126,
          0.26835897024738026
         ],
         "y": [
          0.6852105061398442,
          0.7901063454607884
         ]
        },
        {
         "hoverinfo": "none",
         "line": {
          "color": "red",
          "dash": "solid",
          "width": 0.9999520647143356
         },
         "mode": "lines",
         "showlegend": false,
         "type": "scatter",
         "x": [
          0.2824439411497126,
          -0.09059131411526856
         ],
         "y": [
          0.6852105061398442,
          -0.7406122674070189
         ]
        },
        {
         "hoverinfo": "none",
         "line": {
          "color": "blue",
          "dash": "solid",
          "width": 0.9999835194823741
         },
         "mode": "lines",
         "showlegend": false,
         "type": "scatter",
         "x": [
          0.2824439411497126,
          -0.15135911976787883
         ],
         "y": [
          0.6852105061398442,
          0.8200923769773788
         ]
        },
        {
         "hoverinfo": "none",
         "line": {
          "color": "blue",
          "dash": "solid",
          "width": 0.9999835194823741
         },
         "mode": "lines",
         "showlegend": false,
         "type": "scatter",
         "x": [
          0.2824439411497126,
          -0.04275190605544508
         ],
         "y": [
          0.6852105061398442,
          0.6369310891543924
         ]
        },
        {
         "hoverinfo": "none",
         "line": {
          "color": "blue",
          "dash": "solid",
          "width": 1
         },
         "mode": "lines",
         "showlegend": false,
         "type": "scatter",
         "x": [
          0.2824439411497126,
          0.1275195570503546
         ],
         "y": [
          0.6852105061398442,
          0.8976598837114484
         ]
        },
        {
         "hoverinfo": "none",
         "line": {
          "color": "red",
          "dash": "solid",
          "width": 0.9999579192253842
         },
         "mode": "lines",
         "showlegend": false,
         "type": "scatter",
         "x": [
          0.2824439411497126,
          -0.15308503298390466
         ],
         "y": [
          0.6852105061398442,
          -0.8077015764590453
         ]
        },
        {
         "hoverinfo": "none",
         "line": {
          "color": "blue",
          "dash": "solid",
          "width": 0.9999579192253842
         },
         "mode": "lines",
         "showlegend": false,
         "type": "scatter",
         "x": [
          0.07553282487116751,
          0.12520840540550393
         ],
         "y": [
          -0.837104379985319,
          -0.8271950991610618
         ]
        },
        {
         "hoverinfo": "none",
         "line": {
          "color": "red",
          "dash": "solid",
          "width": 0.9999866747102973
         },
         "mode": "lines",
         "showlegend": false,
         "type": "scatter",
         "x": [
          0.07553282487116751,
          0.12776837134156932
         ],
         "y": [
          -0.837104379985319,
          0.8427272694932608
         ]
        },
        {
         "hoverinfo": "none",
         "line": {
          "color": "blue",
          "dash": "solid",
          "width": 0.9999866747102973
         },
         "mode": "lines",
         "showlegend": false,
         "type": "scatter",
         "x": [
          0.07553282487116751,
          0.03668895945656012
         ],
         "y": [
          -0.837104379985319,
          -0.9903528265718157
         ]
        },
        {
         "hoverinfo": "none",
         "line": {
          "color": "blue",
          "dash": "solid",
          "width": 0.35359165215010185
         },
         "mode": "lines",
         "showlegend": false,
         "type": "scatter",
         "x": [
          0.07553282487116751,
          -0.38132302745675567
         ],
         "y": [
          -0.837104379985319,
          -0.7854329337812576
         ]
        },
        {
         "hoverinfo": "none",
         "line": {
          "color": "blue",
          "dash": "solid",
          "width": 0.9999457715784931
         },
         "mode": "lines",
         "showlegend": false,
         "type": "scatter",
         "x": [
          0.07553282487116751,
          -0.43939599647615374
         ],
         "y": [
          -0.837104379985319,
          -0.9703666730805295
         ]
        },
        {
         "hoverinfo": "none",
         "line": {
          "color": "blue",
          "dash": "solid",
          "width": 0.9999775996854984
         },
         "mode": "lines",
         "showlegend": false,
         "type": "scatter",
         "x": [
          0.07553282487116751,
          -0.24463480694913506
         ],
         "y": [
          -0.837104379985319,
          -1
         ]
        },
        {
         "hoverinfo": "none",
         "line": {
          "color": "red",
          "dash": "solid",
          "width": 0.9999775996854984
         },
         "mode": "lines",
         "showlegend": false,
         "type": "scatter",
         "x": [
          0.07553282487116751,
          0.38535554142690454
         ],
         "y": [
          -0.837104379985319,
          0.7762510508963664
         ]
        },
        {
         "hoverinfo": "none",
         "line": {
          "color": "red",
          "dash": "solid",
          "width": 0.9999866747102973
         },
         "mode": "lines",
         "showlegend": false,
         "type": "scatter",
         "x": [
          0.07553282487116751,
          0.26835897024738026
         ],
         "y": [
          -0.837104379985319,
          0.7901063454607884
         ]
        },
        {
         "hoverinfo": "none",
         "line": {
          "color": "blue",
          "dash": "solid",
          "width": 0.9999520647143356
         },
         "mode": "lines",
         "showlegend": false,
         "type": "scatter",
         "x": [
          0.07553282487116751,
          -0.09059131411526856
         ],
         "y": [
          -0.837104379985319,
          -0.7406122674070189
         ]
        },
        {
         "hoverinfo": "none",
         "line": {
          "color": "red",
          "dash": "solid",
          "width": 0.9999835194823741
         },
         "mode": "lines",
         "showlegend": false,
         "type": "scatter",
         "x": [
          0.07553282487116751,
          -0.15135911976787883
         ],
         "y": [
          -0.837104379985319,
          0.8200923769773788
         ]
        },
        {
         "hoverinfo": "none",
         "line": {
          "color": "red",
          "dash": "solid",
          "width": 0.9999835194823741
         },
         "mode": "lines",
         "showlegend": false,
         "type": "scatter",
         "x": [
          0.07553282487116751,
          -0.04275190605544508
         ],
         "y": [
          -0.837104379985319,
          0.6369310891543924
         ]
        },
        {
         "hoverinfo": "none",
         "line": {
          "color": "red",
          "dash": "solid",
          "width": 1
         },
         "mode": "lines",
         "showlegend": false,
         "type": "scatter",
         "x": [
          0.07553282487116751,
          0.1275195570503546
         ],
         "y": [
          -0.837104379985319,
          0.8976598837114484
         ]
        },
        {
         "hoverinfo": "none",
         "line": {
          "color": "blue",
          "dash": "solid",
          "width": 0.9999579192253842
         },
         "mode": "lines",
         "showlegend": false,
         "type": "scatter",
         "x": [
          0.07553282487116751,
          -0.15308503298390466
         ],
         "y": [
          -0.837104379985319,
          -0.8077015764590453
         ]
        },
        {
         "hoverinfo": "none",
         "line": {
          "color": "red",
          "dash": "solid",
          "width": 0.9998972353165901
         },
         "mode": "lines",
         "showlegend": false,
         "type": "scatter",
         "x": [
          0.12520840540550393,
          0.12776837134156932
         ],
         "y": [
          -0.8271950991610618,
          0.8427272694932608
         ]
        },
        {
         "hoverinfo": "none",
         "line": {
          "color": "blue",
          "dash": "solid",
          "width": 0.9998972353165901
         },
         "mode": "lines",
         "showlegend": false,
         "type": "scatter",
         "x": [
          0.12520840540550393,
          0.03668895945656012
         ],
         "y": [
          -0.8271950991610618,
          -0.9903528265718157
         ]
        },
        {
         "hoverinfo": "none",
         "line": {
          "color": "blue",
          "dash": "solid",
          "width": 0.35431998876956977
         },
         "mode": "lines",
         "showlegend": false,
         "type": "scatter",
         "x": [
          0.12520840540550393,
          -0.38132302745675567
         ],
         "y": [
          -0.8271950991610618,
          -0.7854329337812576
         ]
        },
        {
         "hoverinfo": "none",
         "line": {
          "color": "blue",
          "dash": "solid",
          "width": 0.9999992308081803
         },
         "mode": "lines",
         "showlegend": false,
         "type": "scatter",
         "x": [
          0.12520840540550393,
          -0.43939599647615374
         ],
         "y": [
          -0.8271950991610618,
          -0.9703666730805295
         ]
        },
        {
         "hoverinfo": "none",
         "line": {
          "color": "blue",
          "dash": "solid",
          "width": 0.9999969231822561
         },
         "mode": "lines",
         "showlegend": false,
         "type": "scatter",
         "x": [
          0.12520840540550393,
          -0.24463480694913506
         ],
         "y": [
          -0.8271950991610618,
          -1
         ]
        },
        {
         "hoverinfo": "none",
         "line": {
          "color": "red",
          "dash": "solid",
          "width": 0.9999969231822561
         },
         "mode": "lines",
         "showlegend": false,
         "type": "scatter",
         "x": [
          0.12520840540550393,
          0.38535554142690454
         ],
         "y": [
          -0.8271950991610618,
          0.7762510508963664
         ]
        },
        {
         "hoverinfo": "none",
         "line": {
          "color": "red",
          "dash": "solid",
          "width": 0.9998972353165901
         },
         "mode": "lines",
         "showlegend": false,
         "type": "scatter",
         "x": [
          0.12520840540550393,
          0.26835897024738026
         ],
         "y": [
          -0.8271950991610618,
          0.7901063454607884
         ]
        },
        {
         "hoverinfo": "none",
         "line": {
          "color": "blue",
          "dash": "solid",
          "width": 0.9999998094096035
         },
         "mode": "lines",
         "showlegend": false,
         "type": "scatter",
         "x": [
          0.12520840540550393,
          -0.09059131411526856
         ],
         "y": [
          -0.8271950991610618,
          -0.7406122674070189
         ]
        },
        {
         "hoverinfo": "none",
         "line": {
          "color": "red",
          "dash": "solid",
          "width": 0.9999941078981699
         },
         "mode": "lines",
         "showlegend": false,
         "type": "scatter",
         "x": [
          0.12520840540550393,
          -0.15135911976787883
         ],
         "y": [
          -0.8271950991610618,
          0.8200923769773788
         ]
        },
        {
         "hoverinfo": "none",
         "line": {
          "color": "red",
          "dash": "solid",
          "width": 0.9999941078981699
         },
         "mode": "lines",
         "showlegend": false,
         "type": "scatter",
         "x": [
          0.12520840540550393,
          -0.04275190605544508
         ],
         "y": [
          -0.8271950991610618,
          0.6369310891543924
         ]
        },
        {
         "hoverinfo": "none",
         "line": {
          "color": "red",
          "dash": "solid",
          "width": 0.9999579192253842
         },
         "mode": "lines",
         "showlegend": false,
         "type": "scatter",
         "x": [
          0.12520840540550393,
          0.1275195570503546
         ],
         "y": [
          -0.8271950991610618,
          0.8976598837114484
         ]
        },
        {
         "hoverinfo": "none",
         "line": {
          "color": "blue",
          "dash": "solid",
          "width": 1
         },
         "mode": "lines",
         "showlegend": false,
         "type": "scatter",
         "x": [
          0.12520840540550393,
          -0.15308503298390466
         ],
         "y": [
          -0.8271950991610618,
          -0.8077015764590453
         ]
        },
        {
         "hoverinfo": "none",
         "line": {
          "color": "red",
          "dash": "solid",
          "width": 1
         },
         "mode": "lines",
         "showlegend": false,
         "type": "scatter",
         "x": [
          0.12776837134156932,
          0.03668895945656012
         ],
         "y": [
          0.8427272694932608,
          -0.9903528265718157
         ]
        },
        {
         "hoverinfo": "none",
         "line": {
          "color": "red",
          "dash": "solid",
          "width": 0.3531687109443498
         },
         "mode": "lines",
         "showlegend": false,
         "type": "scatter",
         "x": [
          0.12776837134156932,
          -0.38132302745675567
         ],
         "y": [
          0.8427272694932608,
          -0.7854329337812576
         ]
        },
        {
         "hoverinfo": "none",
         "line": {
          "color": "red",
          "dash": "solid",
          "width": 0.9998786851282733
         },
         "mode": "lines",
         "showlegend": false,
         "type": "scatter",
         "x": [
          0.12776837134156932,
          -0.43939599647615374
         ],
         "y": [
          0.8427272694932608,
          -0.9703666730805295
         ]
        },
        {
         "hoverinfo": "none",
         "line": {
          "color": "red",
          "dash": "solid",
          "width": 0.9999297212372498
         },
         "mode": "lines",
         "showlegend": false,
         "type": "scatter",
         "x": [
          0.12776837134156932,
          -0.24463480694913506
         ],
         "y": [
          0.8427272694932608,
          -1
         ]
        },
        {
         "hoverinfo": "none",
         "line": {
          "color": "blue",
          "dash": "solid",
          "width": 0.9999297212372498
         },
         "mode": "lines",
         "showlegend": false,
         "type": "scatter",
         "x": [
          0.12776837134156932,
          0.38535554142690454
         ],
         "y": [
          0.8427272694932608,
          0.7762510508963664
         ]
        },
        {
         "hoverinfo": "none",
         "line": {
          "color": "blue",
          "dash": "solid",
          "width": 1
         },
         "mode": "lines",
         "showlegend": false,
         "type": "scatter",
         "x": [
          0.12776837134156932,
          0.26835897024738026
         ],
         "y": [
          0.8427272694932608,
          0.7901063454607884
         ]
        },
        {
         "hoverinfo": "none",
         "line": {
          "color": "red",
          "dash": "solid",
          "width": 0.9998881937676386
         },
         "mode": "lines",
         "showlegend": false,
         "type": "scatter",
         "x": [
          0.12776837134156932,
          -0.09059131411526856
         ],
         "y": [
          0.8427272694932608,
          -0.7406122674070189
         ]
        },
        {
         "hoverinfo": "none",
         "line": {
          "color": "blue",
          "dash": "solid",
          "width": 0.9999405563017436
         },
         "mode": "lines",
         "showlegend": false,
         "type": "scatter",
         "x": [
          0.12776837134156932,
          -0.15135911976787883
         ],
         "y": [
          0.8427272694932608,
          0.8200923769773788
         ]
        },
        {
         "hoverinfo": "none",
         "line": {
          "color": "blue",
          "dash": "solid",
          "width": 0.9999405563017436
         },
         "mode": "lines",
         "showlegend": false,
         "type": "scatter",
         "x": [
          0.12776837134156932,
          -0.04275190605544508
         ],
         "y": [
          0.8427272694932608,
          0.6369310891543924
         ]
        },
        {
         "hoverinfo": "none",
         "line": {
          "color": "blue",
          "dash": "solid",
          "width": 0.9999866747102975
         },
         "mode": "lines",
         "showlegend": false,
         "type": "scatter",
         "x": [
          0.12776837134156932,
          0.1275195570503546
         ],
         "y": [
          0.8427272694932608,
          0.8976598837114484
         ]
        },
        {
         "hoverinfo": "none",
         "line": {
          "color": "red",
          "dash": "solid",
          "width": 0.9998972353165901
         },
         "mode": "lines",
         "showlegend": false,
         "type": "scatter",
         "x": [
          0.12776837134156932,
          -0.15308503298390466
         ],
         "y": [
          0.8427272694932608,
          -0.8077015764590453
         ]
        },
        {
         "hoverinfo": "none",
         "line": {
          "color": "blue",
          "dash": "solid",
          "width": 0.3531687109443498
         },
         "mode": "lines",
         "showlegend": false,
         "type": "scatter",
         "x": [
          0.03668895945656012,
          -0.38132302745675567
         ],
         "y": [
          -0.9903528265718157,
          -0.7854329337812576
         ]
        },
        {
         "hoverinfo": "none",
         "line": {
          "color": "blue",
          "dash": "solid",
          "width": 0.9998786851282733
         },
         "mode": "lines",
         "showlegend": false,
         "type": "scatter",
         "x": [
          0.03668895945656012,
          -0.43939599647615374
         ],
         "y": [
          -0.9903528265718157,
          -0.9703666730805295
         ]
        },
        {
         "hoverinfo": "none",
         "line": {
          "color": "blue",
          "dash": "solid",
          "width": 0.9999297212372498
         },
         "mode": "lines",
         "showlegend": false,
         "type": "scatter",
         "x": [
          0.03668895945656012,
          -0.24463480694913506
         ],
         "y": [
          -0.9903528265718157,
          -1
         ]
        },
        {
         "hoverinfo": "none",
         "line": {
          "color": "red",
          "dash": "solid",
          "width": 0.9999297212372498
         },
         "mode": "lines",
         "showlegend": false,
         "type": "scatter",
         "x": [
          0.03668895945656012,
          0.38535554142690454
         ],
         "y": [
          -0.9903528265718157,
          0.7762510508963664
         ]
        },
        {
         "hoverinfo": "none",
         "line": {
          "color": "red",
          "dash": "solid",
          "width": 1
         },
         "mode": "lines",
         "showlegend": false,
         "type": "scatter",
         "x": [
          0.03668895945656012,
          0.26835897024738026
         ],
         "y": [
          -0.9903528265718157,
          0.7901063454607884
         ]
        },
        {
         "hoverinfo": "none",
         "line": {
          "color": "blue",
          "dash": "solid",
          "width": 0.9998881937676386
         },
         "mode": "lines",
         "showlegend": false,
         "type": "scatter",
         "x": [
          0.03668895945656012,
          -0.09059131411526856
         ],
         "y": [
          -0.9903528265718157,
          -0.7406122674070189
         ]
        },
        {
         "hoverinfo": "none",
         "line": {
          "color": "red",
          "dash": "solid",
          "width": 0.9999405563017436
         },
         "mode": "lines",
         "showlegend": false,
         "type": "scatter",
         "x": [
          0.03668895945656012,
          -0.15135911976787883
         ],
         "y": [
          -0.9903528265718157,
          0.8200923769773788
         ]
        },
        {
         "hoverinfo": "none",
         "line": {
          "color": "red",
          "dash": "solid",
          "width": 0.9999405563017436
         },
         "mode": "lines",
         "showlegend": false,
         "type": "scatter",
         "x": [
          0.03668895945656012,
          -0.04275190605544508
         ],
         "y": [
          -0.9903528265718157,
          0.6369310891543924
         ]
        },
        {
         "hoverinfo": "none",
         "line": {
          "color": "red",
          "dash": "solid",
          "width": 0.9999866747102975
         },
         "mode": "lines",
         "showlegend": false,
         "type": "scatter",
         "x": [
          0.03668895945656012,
          0.1275195570503546
         ],
         "y": [
          -0.9903528265718157,
          0.8976598837114484
         ]
        },
        {
         "hoverinfo": "none",
         "line": {
          "color": "blue",
          "dash": "solid",
          "width": 0.9998972353165901
         },
         "mode": "lines",
         "showlegend": false,
         "type": "scatter",
         "x": [
          0.03668895945656012,
          -0.15308503298390466
         ],
         "y": [
          -0.9903528265718157,
          -0.8077015764590453
         ]
        },
        {
         "hoverinfo": "none",
         "line": {
          "color": "red",
          "dash": "solid",
          "width": 1
         },
         "mode": "lines",
         "showlegend": false,
         "type": "scatter",
         "x": [
          0.9000884367418742,
          -0.9452358397603109
         ],
         "y": [
          -0.2332801247328839,
          0.17659302324533852
         ]
        },
        {
         "hoverinfo": "none",
         "line": {
          "color": "blue",
          "dash": "solid",
          "width": 0.354416172224284
         },
         "mode": "lines",
         "showlegend": false,
         "type": "scatter",
         "x": [
          -0.38132302745675567,
          -0.43939599647615374
         ],
         "y": [
          -0.7854329337812576,
          -0.9703666730805295
         ]
        },
        {
         "hoverinfo": "none",
         "line": {
          "color": "blue",
          "dash": "solid",
          "width": 0.3541259851312329
         },
         "mode": "lines",
         "showlegend": false,
         "type": "scatter",
         "x": [
          -0.38132302745675567,
          -0.24463480694913506
         ],
         "y": [
          -0.7854329337812576,
          -1
         ]
        },
        {
         "hoverinfo": "none",
         "line": {
          "color": "red",
          "dash": "solid",
          "width": 0.3541259851312329
         },
         "mode": "lines",
         "showlegend": false,
         "type": "scatter",
         "x": [
          -0.38132302745675567,
          0.38535554142690454
         ],
         "y": [
          -0.7854329337812576,
          0.7762510508963664
         ]
        },
        {
         "hoverinfo": "none",
         "line": {
          "color": "red",
          "dash": "solid",
          "width": 0.3531687109443499
         },
         "mode": "lines",
         "showlegend": false,
         "type": "scatter",
         "x": [
          -0.38132302745675567,
          0.26835897024738026
         ],
         "y": [
          -0.7854329337812576,
          0.7901063454607884
         ]
        },
        {
         "hoverinfo": "none",
         "line": {
          "color": "blue",
          "dash": "solid",
          "width": 0.3543679346400001
         },
         "mode": "lines",
         "showlegend": false,
         "type": "scatter",
         "x": [
          -0.38132302745675567,
          -0.09059131411526856
         ],
         "y": [
          -0.7854329337812576,
          -0.7406122674070189
         ]
        },
        {
         "hoverinfo": "none",
         "line": {
          "color": "red",
          "dash": "solid",
          "width": 0.35405094091528017
         },
         "mode": "lines",
         "showlegend": false,
         "type": "scatter",
         "x": [
          -0.38132302745675567,
          -0.15135911976787883
         ],
         "y": [
          -0.7854329337812576,
          0.8200923769773788
         ]
        },
        {
         "hoverinfo": "none",
         "line": {
          "color": "red",
          "dash": "solid",
          "width": 0.35405094091528017
         },
         "mode": "lines",
         "showlegend": false,
         "type": "scatter",
         "x": [
          -0.38132302745675567,
          -0.04275190605544508
         ],
         "y": [
          -0.7854329337812576,
          0.6369310891543924
         ]
        },
        {
         "hoverinfo": "none",
         "line": {
          "color": "red",
          "dash": "solid",
          "width": 0.35359165215010185
         },
         "mode": "lines",
         "showlegend": false,
         "type": "scatter",
         "x": [
          -0.38132302745675567,
          0.1275195570503546
         ],
         "y": [
          -0.7854329337812576,
          0.8976598837114484
         ]
        },
        {
         "hoverinfo": "none",
         "line": {
          "color": "blue",
          "dash": "solid",
          "width": 0.3543199887695698
         },
         "mode": "lines",
         "showlegend": false,
         "type": "scatter",
         "x": [
          -0.38132302745675567,
          -0.15308503298390466
         ],
         "y": [
          -0.7854329337812576,
          -0.8077015764590453
         ]
        },
        {
         "hoverinfo": "none",
         "line": {
          "color": "blue",
          "dash": "solid",
          "width": 0.9999930772032505
         },
         "mode": "lines",
         "showlegend": false,
         "type": "scatter",
         "x": [
          -0.43939599647615374,
          -0.24463480694913506
         ],
         "y": [
          -0.9703666730805295,
          -1
         ]
        },
        {
         "hoverinfo": "none",
         "line": {
          "color": "red",
          "dash": "solid",
          "width": 0.9999930772032505
         },
         "mode": "lines",
         "showlegend": false,
         "type": "scatter",
         "x": [
          -0.43939599647615374,
          0.38535554142690454
         ],
         "y": [
          -0.9703666730805295,
          0.7762510508963664
         ]
        },
        {
         "hoverinfo": "none",
         "line": {
          "color": "red",
          "dash": "solid",
          "width": 0.9998786851282733
         },
         "mode": "lines",
         "showlegend": false,
         "type": "scatter",
         "x": [
          -0.43939599647615374,
          0.26835897024738026
         ],
         "y": [
          -0.9703666730805295,
          0.7901063454607884
         ]
        },
        {
         "hoverinfo": "none",
         "line": {
          "color": "blue",
          "dash": "solid",
          "width": 0.9999998059868344
         },
         "mode": "lines",
         "showlegend": false,
         "type": "scatter",
         "x": [
          -0.43939599647615374,
          -0.09059131411526856
         ],
         "y": [
          -0.9703666730805295,
          -0.7406122674070189
         ]
        },
        {
         "hoverinfo": "none",
         "line": {
          "color": "red",
          "dash": "solid",
          "width": 0.9999890809455376
         },
         "mode": "lines",
         "showlegend": false,
         "type": "scatter",
         "x": [
          -0.43939599647615374,
          -0.15135911976787883
         ],
         "y": [
          -0.9703666730805295,
          0.8200923769773788
         ]
        },
        {
         "hoverinfo": "none",
         "line": {
          "color": "red",
          "dash": "solid",
          "width": 0.9999890809455376
         },
         "mode": "lines",
         "showlegend": false,
         "type": "scatter",
         "x": [
          -0.43939599647615374,
          -0.04275190605544508
         ],
         "y": [
          -0.9703666730805295,
          0.6369310891543924
         ]
        },
        {
         "hoverinfo": "none",
         "line": {
          "color": "red",
          "dash": "solid",
          "width": 0.9999457715784932
         },
         "mode": "lines",
         "showlegend": false,
         "type": "scatter",
         "x": [
          -0.43939599647615374,
          0.1275195570503546
         ],
         "y": [
          -0.9703666730805295,
          0.8976598837114484
         ]
        },
        {
         "hoverinfo": "none",
         "line": {
          "color": "blue",
          "dash": "solid",
          "width": 0.9999992308081803
         },
         "mode": "lines",
         "showlegend": false,
         "type": "scatter",
         "x": [
          -0.43939599647615374,
          -0.15308503298390466
         ],
         "y": [
          -0.9703666730805295,
          -0.8077015764590453
         ]
        },
        {
         "hoverinfo": "none",
         "line": {
          "color": "red",
          "dash": "solid",
          "width": 1
         },
         "mode": "lines",
         "showlegend": false,
         "type": "scatter",
         "x": [
          -0.24463480694913506,
          0.38535554142690454
         ],
         "y": [
          -1,
          0.7762510508963664
         ]
        },
        {
         "hoverinfo": "none",
         "line": {
          "color": "red",
          "dash": "solid",
          "width": 0.9999297212372498
         },
         "mode": "lines",
         "showlegend": false,
         "type": "scatter",
         "x": [
          -0.24463480694913506,
          0.26835897024738026
         ],
         "y": [
          -1,
          0.7901063454607884
         ]
        },
        {
         "hoverinfo": "none",
         "line": {
          "color": "blue",
          "dash": "solid",
          "width": 0.999995201042962
         },
         "mode": "lines",
         "showlegend": false,
         "type": "scatter",
         "x": [
          -0.24463480694913506,
          -0.09059131411526856
         ],
         "y": [
          -1,
          -0.7406122674070189
         ]
        },
        {
         "hoverinfo": "none",
         "line": {
          "color": "red",
          "dash": "solid",
          "width": 0.9999995466941678
         },
         "mode": "lines",
         "showlegend": false,
         "type": "scatter",
         "x": [
          -0.24463480694913506,
          -0.15135911976787883
         ],
         "y": [
          -1,
          0.8200923769773788
         ]
        },
        {
         "hoverinfo": "none",
         "line": {
          "color": "red",
          "dash": "solid",
          "width": 0.9999995466941678
         },
         "mode": "lines",
         "showlegend": false,
         "type": "scatter",
         "x": [
          -0.24463480694913506,
          -0.04275190605544508
         ],
         "y": [
          -1,
          0.6369310891543924
         ]
        },
        {
         "hoverinfo": "none",
         "line": {
          "color": "red",
          "dash": "solid",
          "width": 0.9999775996854983
         },
         "mode": "lines",
         "showlegend": false,
         "type": "scatter",
         "x": [
          -0.24463480694913506,
          0.1275195570503546
         ],
         "y": [
          -1,
          0.8976598837114484
         ]
        },
        {
         "hoverinfo": "none",
         "line": {
          "color": "blue",
          "dash": "solid",
          "width": 0.9999969231822562
         },
         "mode": "lines",
         "showlegend": false,
         "type": "scatter",
         "x": [
          -0.24463480694913506,
          -0.15308503298390466
         ],
         "y": [
          -1,
          -0.8077015764590453
         ]
        },
        {
         "hoverinfo": "none",
         "line": {
          "color": "blue",
          "dash": "solid",
          "width": 0.9999297212372498
         },
         "mode": "lines",
         "showlegend": false,
         "type": "scatter",
         "x": [
          0.38535554142690454,
          0.26835897024738026
         ],
         "y": [
          0.7762510508963664,
          0.7901063454607884
         ]
        },
        {
         "hoverinfo": "none",
         "line": {
          "color": "red",
          "dash": "solid",
          "width": 0.999995201042962
         },
         "mode": "lines",
         "showlegend": false,
         "type": "scatter",
         "x": [
          0.38535554142690454,
          -0.09059131411526856
         ],
         "y": [
          0.7762510508963664,
          -0.7406122674070189
         ]
        },
        {
         "hoverinfo": "none",
         "line": {
          "color": "blue",
          "dash": "solid",
          "width": 0.9999995466941678
         },
         "mode": "lines",
         "showlegend": false,
         "type": "scatter",
         "x": [
          0.38535554142690454,
          -0.15135911976787883
         ],
         "y": [
          0.7762510508963664,
          0.8200923769773788
         ]
        },
        {
         "hoverinfo": "none",
         "line": {
          "color": "blue",
          "dash": "solid",
          "width": 0.9999995466941678
         },
         "mode": "lines",
         "showlegend": false,
         "type": "scatter",
         "x": [
          0.38535554142690454,
          -0.04275190605544508
         ],
         "y": [
          0.7762510508963664,
          0.6369310891543924
         ]
        },
        {
         "hoverinfo": "none",
         "line": {
          "color": "blue",
          "dash": "solid",
          "width": 0.9999775996854983
         },
         "mode": "lines",
         "showlegend": false,
         "type": "scatter",
         "x": [
          0.38535554142690454,
          0.1275195570503546
         ],
         "y": [
          0.7762510508963664,
          0.8976598837114484
         ]
        },
        {
         "hoverinfo": "none",
         "line": {
          "color": "red",
          "dash": "solid",
          "width": 0.9999969231822562
         },
         "mode": "lines",
         "showlegend": false,
         "type": "scatter",
         "x": [
          0.38535554142690454,
          -0.15308503298390466
         ],
         "y": [
          0.7762510508963664,
          -0.8077015764590453
         ]
        },
        {
         "hoverinfo": "none",
         "line": {
          "color": "red",
          "dash": "solid",
          "width": 0.9998881937676386
         },
         "mode": "lines",
         "showlegend": false,
         "type": "scatter",
         "x": [
          0.26835897024738026,
          -0.09059131411526856
         ],
         "y": [
          0.7901063454607884,
          -0.7406122674070189
         ]
        },
        {
         "hoverinfo": "none",
         "line": {
          "color": "blue",
          "dash": "solid",
          "width": 0.9999405563017436
         },
         "mode": "lines",
         "showlegend": false,
         "type": "scatter",
         "x": [
          0.26835897024738026,
          -0.15135911976787883
         ],
         "y": [
          0.7901063454607884,
          0.8200923769773788
         ]
        },
        {
         "hoverinfo": "none",
         "line": {
          "color": "blue",
          "dash": "solid",
          "width": 0.9999405563017436
         },
         "mode": "lines",
         "showlegend": false,
         "type": "scatter",
         "x": [
          0.26835897024738026,
          -0.04275190605544508
         ],
         "y": [
          0.7901063454607884,
          0.6369310891543924
         ]
        },
        {
         "hoverinfo": "none",
         "line": {
          "color": "blue",
          "dash": "solid",
          "width": 0.9999866747102975
         },
         "mode": "lines",
         "showlegend": false,
         "type": "scatter",
         "x": [
          0.26835897024738026,
          0.1275195570503546
         ],
         "y": [
          0.7901063454607884,
          0.8976598837114484
         ]
        },
        {
         "hoverinfo": "none",
         "line": {
          "color": "red",
          "dash": "solid",
          "width": 0.9998972353165901
         },
         "mode": "lines",
         "showlegend": false,
         "type": "scatter",
         "x": [
          0.26835897024738026,
          -0.15308503298390466
         ],
         "y": [
          0.7901063454607884,
          -0.8077015764590453
         ]
        },
        {
         "hoverinfo": "none",
         "line": {
          "color": "red",
          "dash": "solid",
          "width": 0.9999917978989706
         },
         "mode": "lines",
         "showlegend": false,
         "type": "scatter",
         "x": [
          -0.09059131411526856,
          -0.15135911976787883
         ],
         "y": [
          -0.7406122674070189,
          0.8200923769773788
         ]
        },
        {
         "hoverinfo": "none",
         "line": {
          "color": "red",
          "dash": "solid",
          "width": 0.9999917978989706
         },
         "mode": "lines",
         "showlegend": false,
         "type": "scatter",
         "x": [
          -0.09059131411526856,
          -0.04275190605544508
         ],
         "y": [
          -0.7406122674070189,
          0.6369310891543924
         ]
        },
        {
         "hoverinfo": "none",
         "line": {
          "color": "red",
          "dash": "solid",
          "width": 0.9999520647143356
         },
         "mode": "lines",
         "showlegend": false,
         "type": "scatter",
         "x": [
          -0.09059131411526856,
          0.1275195570503546
         ],
         "y": [
          -0.7406122674070189,
          0.8976598837114484
         ]
        },
        {
         "hoverinfo": "none",
         "line": {
          "color": "blue",
          "dash": "solid",
          "width": 0.9999998094096035
         },
         "mode": "lines",
         "showlegend": false,
         "type": "scatter",
         "x": [
          -0.09059131411526856,
          -0.15308503298390466
         ],
         "y": [
          -0.7406122674070189,
          -0.8077015764590453
         ]
        },
        {
         "hoverinfo": "none",
         "line": {
          "color": "blue",
          "dash": "solid",
          "width": 1
         },
         "mode": "lines",
         "showlegend": false,
         "type": "scatter",
         "x": [
          -0.15135911976787883,
          -0.04275190605544508
         ],
         "y": [
          0.8200923769773788,
          0.6369310891543924
         ]
        },
        {
         "hoverinfo": "none",
         "line": {
          "color": "blue",
          "dash": "solid",
          "width": 0.9999835194823741
         },
         "mode": "lines",
         "showlegend": false,
         "type": "scatter",
         "x": [
          -0.15135911976787883,
          0.1275195570503546
         ],
         "y": [
          0.8200923769773788,
          0.8976598837114484
         ]
        },
        {
         "hoverinfo": "none",
         "line": {
          "color": "red",
          "dash": "solid",
          "width": 0.9999941078981699
         },
         "mode": "lines",
         "showlegend": false,
         "type": "scatter",
         "x": [
          -0.15135911976787883,
          -0.15308503298390466
         ],
         "y": [
          0.8200923769773788,
          -0.8077015764590453
         ]
        },
        {
         "hoverinfo": "none",
         "line": {
          "color": "blue",
          "dash": "solid",
          "width": 0.9999835194823741
         },
         "mode": "lines",
         "showlegend": false,
         "type": "scatter",
         "x": [
          -0.04275190605544508,
          0.1275195570503546
         ],
         "y": [
          0.6369310891543924,
          0.8976598837114484
         ]
        },
        {
         "hoverinfo": "none",
         "line": {
          "color": "red",
          "dash": "solid",
          "width": 0.9999941078981699
         },
         "mode": "lines",
         "showlegend": false,
         "type": "scatter",
         "x": [
          -0.04275190605544508,
          -0.15308503298390466
         ],
         "y": [
          0.6369310891543924,
          -0.8077015764590453
         ]
        },
        {
         "hoverinfo": "none",
         "line": {
          "color": "red",
          "dash": "solid",
          "width": 0.9999579192253842
         },
         "mode": "lines",
         "showlegend": false,
         "type": "scatter",
         "x": [
          0.1275195570503546,
          -0.15308503298390466
         ],
         "y": [
          0.8976598837114484,
          -0.8077015764590453
         ]
        },
        {
         "marker": {
          "color": "rgb(255, 127, 14)",
          "size": 10
         },
         "mode": "markers+text",
         "name": "multiple",
         "showlegend": true,
         "text": [
          "PFK",
          "FBA",
          "FBP"
         ],
         "textposition": "top center",
         "type": "scatter",
         "x": [
          0.17335997775589104,
          -0.04275190605544508,
          0.14808592556139855
         ],
         "y": [
          0.8607575726353093,
          0.6369310891543924,
          0.5801181131264301
         ]
        },
        {
         "marker": {
          "color": "rgb(31, 119, 180)",
          "size": 10
         },
         "mode": "markers+text",
         "name": "glycolysis",
         "showlegend": true,
         "text": [
          "PGK_rev",
          "PGK",
          "PGM_rev",
          "PGM",
          "ALCD2x_rev",
          "ALCD2x",
          "PPCK",
          "PPS",
          "PYK",
          "ENO",
          "TPI",
          "GAPD"
         ],
         "textposition": "top center",
         "type": "scatter",
         "x": [
          0.2824439411497126,
          0.07553282487116751,
          0.12776837134156932,
          0.03668895945656012,
          0.9000884367418742,
          -0.9452358397603109,
          -0.777782934294003,
          0.5757490668505391,
          -0.38132302745675567,
          0.26835897024738026,
          -0.15135911976787883,
          0.1275195570503546
         ],
         "y": [
          0.6852105061398442,
          -0.837104379985319,
          0.8427272694932608,
          -0.9903528265718157,
          -0.2332801247328839,
          0.17659302324533852,
          0.33264562717534607,
          -0.2070469768369717,
          -0.7854329337812576,
          0.7901063454607884,
          0.8200923769773788,
          0.8976598837114484
         ]
        },
        {
         "marker": {
          "color": "rgb(44, 160, 44)",
          "size": 10
         },
         "mode": "markers+text",
         "name": "ppp",
         "showlegend": true,
         "text": [
          "PGL",
          "RPE",
          "RPI_rev",
          "RPI",
          "TKT1",
          "GND"
         ],
         "textposition": "top center",
         "type": "scatter",
         "x": [
          0.12520840540550393,
          -0.43939599647615374,
          -0.24463480694913506,
          0.38535554142690454,
          -0.09059131411526856,
          -0.15308503298390466
         ],
         "y": [
          -0.8271950991610618,
          -0.9703666730805295,
          -1,
          0.7762510508963664,
          -0.7406122674070189,
          -0.8077015764590453
         ]
        }
       ],
       "layout": {
        "height": 800,
        "legend": {
         "title": {
          "text": "Groups"
         }
        },
        "template": {
         "data": {
          "bar": [
           {
            "error_x": {
             "color": "#2a3f5f"
            },
            "error_y": {
             "color": "#2a3f5f"
            },
            "marker": {
             "line": {
              "color": "#E5ECF6",
              "width": 0.5
             },
             "pattern": {
              "fillmode": "overlay",
              "size": 10,
              "solidity": 0.2
             }
            },
            "type": "bar"
           }
          ],
          "barpolar": [
           {
            "marker": {
             "line": {
              "color": "#E5ECF6",
              "width": 0.5
             },
             "pattern": {
              "fillmode": "overlay",
              "size": 10,
              "solidity": 0.2
             }
            },
            "type": "barpolar"
           }
          ],
          "carpet": [
           {
            "aaxis": {
             "endlinecolor": "#2a3f5f",
             "gridcolor": "white",
             "linecolor": "white",
             "minorgridcolor": "white",
             "startlinecolor": "#2a3f5f"
            },
            "baxis": {
             "endlinecolor": "#2a3f5f",
             "gridcolor": "white",
             "linecolor": "white",
             "minorgridcolor": "white",
             "startlinecolor": "#2a3f5f"
            },
            "type": "carpet"
           }
          ],
          "choropleth": [
           {
            "colorbar": {
             "outlinewidth": 0,
             "ticks": ""
            },
            "type": "choropleth"
           }
          ],
          "contour": [
           {
            "colorbar": {
             "outlinewidth": 0,
             "ticks": ""
            },
            "colorscale": [
             [
              0,
              "#0d0887"
             ],
             [
              0.1111111111111111,
              "#46039f"
             ],
             [
              0.2222222222222222,
              "#7201a8"
             ],
             [
              0.3333333333333333,
              "#9c179e"
             ],
             [
              0.4444444444444444,
              "#bd3786"
             ],
             [
              0.5555555555555556,
              "#d8576b"
             ],
             [
              0.6666666666666666,
              "#ed7953"
             ],
             [
              0.7777777777777778,
              "#fb9f3a"
             ],
             [
              0.8888888888888888,
              "#fdca26"
             ],
             [
              1,
              "#f0f921"
             ]
            ],
            "type": "contour"
           }
          ],
          "contourcarpet": [
           {
            "colorbar": {
             "outlinewidth": 0,
             "ticks": ""
            },
            "type": "contourcarpet"
           }
          ],
          "heatmap": [
           {
            "colorbar": {
             "outlinewidth": 0,
             "ticks": ""
            },
            "colorscale": [
             [
              0,
              "#0d0887"
             ],
             [
              0.1111111111111111,
              "#46039f"
             ],
             [
              0.2222222222222222,
              "#7201a8"
             ],
             [
              0.3333333333333333,
              "#9c179e"
             ],
             [
              0.4444444444444444,
              "#bd3786"
             ],
             [
              0.5555555555555556,
              "#d8576b"
             ],
             [
              0.6666666666666666,
              "#ed7953"
             ],
             [
              0.7777777777777778,
              "#fb9f3a"
             ],
             [
              0.8888888888888888,
              "#fdca26"
             ],
             [
              1,
              "#f0f921"
             ]
            ],
            "type": "heatmap"
           }
          ],
          "heatmapgl": [
           {
            "colorbar": {
             "outlinewidth": 0,
             "ticks": ""
            },
            "colorscale": [
             [
              0,
              "#0d0887"
             ],
             [
              0.1111111111111111,
              "#46039f"
             ],
             [
              0.2222222222222222,
              "#7201a8"
             ],
             [
              0.3333333333333333,
              "#9c179e"
             ],
             [
              0.4444444444444444,
              "#bd3786"
             ],
             [
              0.5555555555555556,
              "#d8576b"
             ],
             [
              0.6666666666666666,
              "#ed7953"
             ],
             [
              0.7777777777777778,
              "#fb9f3a"
             ],
             [
              0.8888888888888888,
              "#fdca26"
             ],
             [
              1,
              "#f0f921"
             ]
            ],
            "type": "heatmapgl"
           }
          ],
          "histogram": [
           {
            "marker": {
             "pattern": {
              "fillmode": "overlay",
              "size": 10,
              "solidity": 0.2
             }
            },
            "type": "histogram"
           }
          ],
          "histogram2d": [
           {
            "colorbar": {
             "outlinewidth": 0,
             "ticks": ""
            },
            "colorscale": [
             [
              0,
              "#0d0887"
             ],
             [
              0.1111111111111111,
              "#46039f"
             ],
             [
              0.2222222222222222,
              "#7201a8"
             ],
             [
              0.3333333333333333,
              "#9c179e"
             ],
             [
              0.4444444444444444,
              "#bd3786"
             ],
             [
              0.5555555555555556,
              "#d8576b"
             ],
             [
              0.6666666666666666,
              "#ed7953"
             ],
             [
              0.7777777777777778,
              "#fb9f3a"
             ],
             [
              0.8888888888888888,
              "#fdca26"
             ],
             [
              1,
              "#f0f921"
             ]
            ],
            "type": "histogram2d"
           }
          ],
          "histogram2dcontour": [
           {
            "colorbar": {
             "outlinewidth": 0,
             "ticks": ""
            },
            "colorscale": [
             [
              0,
              "#0d0887"
             ],
             [
              0.1111111111111111,
              "#46039f"
             ],
             [
              0.2222222222222222,
              "#7201a8"
             ],
             [
              0.3333333333333333,
              "#9c179e"
             ],
             [
              0.4444444444444444,
              "#bd3786"
             ],
             [
              0.5555555555555556,
              "#d8576b"
             ],
             [
              0.6666666666666666,
              "#ed7953"
             ],
             [
              0.7777777777777778,
              "#fb9f3a"
             ],
             [
              0.8888888888888888,
              "#fdca26"
             ],
             [
              1,
              "#f0f921"
             ]
            ],
            "type": "histogram2dcontour"
           }
          ],
          "mesh3d": [
           {
            "colorbar": {
             "outlinewidth": 0,
             "ticks": ""
            },
            "type": "mesh3d"
           }
          ],
          "parcoords": [
           {
            "line": {
             "colorbar": {
              "outlinewidth": 0,
              "ticks": ""
             }
            },
            "type": "parcoords"
           }
          ],
          "pie": [
           {
            "automargin": true,
            "type": "pie"
           }
          ],
          "scatter": [
           {
            "fillpattern": {
             "fillmode": "overlay",
             "size": 10,
             "solidity": 0.2
            },
            "type": "scatter"
           }
          ],
          "scatter3d": [
           {
            "line": {
             "colorbar": {
              "outlinewidth": 0,
              "ticks": ""
             }
            },
            "marker": {
             "colorbar": {
              "outlinewidth": 0,
              "ticks": ""
             }
            },
            "type": "scatter3d"
           }
          ],
          "scattercarpet": [
           {
            "marker": {
             "colorbar": {
              "outlinewidth": 0,
              "ticks": ""
             }
            },
            "type": "scattercarpet"
           }
          ],
          "scattergeo": [
           {
            "marker": {
             "colorbar": {
              "outlinewidth": 0,
              "ticks": ""
             }
            },
            "type": "scattergeo"
           }
          ],
          "scattergl": [
           {
            "marker": {
             "colorbar": {
              "outlinewidth": 0,
              "ticks": ""
             }
            },
            "type": "scattergl"
           }
          ],
          "scattermapbox": [
           {
            "marker": {
             "colorbar": {
              "outlinewidth": 0,
              "ticks": ""
             }
            },
            "type": "scattermapbox"
           }
          ],
          "scatterpolar": [
           {
            "marker": {
             "colorbar": {
              "outlinewidth": 0,
              "ticks": ""
             }
            },
            "type": "scatterpolar"
           }
          ],
          "scatterpolargl": [
           {
            "marker": {
             "colorbar": {
              "outlinewidth": 0,
              "ticks": ""
             }
            },
            "type": "scatterpolargl"
           }
          ],
          "scatterternary": [
           {
            "marker": {
             "colorbar": {
              "outlinewidth": 0,
              "ticks": ""
             }
            },
            "type": "scatterternary"
           }
          ],
          "surface": [
           {
            "colorbar": {
             "outlinewidth": 0,
             "ticks": ""
            },
            "colorscale": [
             [
              0,
              "#0d0887"
             ],
             [
              0.1111111111111111,
              "#46039f"
             ],
             [
              0.2222222222222222,
              "#7201a8"
             ],
             [
              0.3333333333333333,
              "#9c179e"
             ],
             [
              0.4444444444444444,
              "#bd3786"
             ],
             [
              0.5555555555555556,
              "#d8576b"
             ],
             [
              0.6666666666666666,
              "#ed7953"
             ],
             [
              0.7777777777777778,
              "#fb9f3a"
             ],
             [
              0.8888888888888888,
              "#fdca26"
             ],
             [
              1,
              "#f0f921"
             ]
            ],
            "type": "surface"
           }
          ],
          "table": [
           {
            "cells": {
             "fill": {
              "color": "#EBF0F8"
             },
             "line": {
              "color": "white"
             }
            },
            "header": {
             "fill": {
              "color": "#C8D4E3"
             },
             "line": {
              "color": "white"
             }
            },
            "type": "table"
           }
          ]
         },
         "layout": {
          "annotationdefaults": {
           "arrowcolor": "#2a3f5f",
           "arrowhead": 0,
           "arrowwidth": 1
          },
          "autotypenumbers": "strict",
          "coloraxis": {
           "colorbar": {
            "outlinewidth": 0,
            "ticks": ""
           }
          },
          "colorscale": {
           "diverging": [
            [
             0,
             "#8e0152"
            ],
            [
             0.1,
             "#c51b7d"
            ],
            [
             0.2,
             "#de77ae"
            ],
            [
             0.3,
             "#f1b6da"
            ],
            [
             0.4,
             "#fde0ef"
            ],
            [
             0.5,
             "#f7f7f7"
            ],
            [
             0.6,
             "#e6f5d0"
            ],
            [
             0.7,
             "#b8e186"
            ],
            [
             0.8,
             "#7fbc41"
            ],
            [
             0.9,
             "#4d9221"
            ],
            [
             1,
             "#276419"
            ]
           ],
           "sequential": [
            [
             0,
             "#0d0887"
            ],
            [
             0.1111111111111111,
             "#46039f"
            ],
            [
             0.2222222222222222,
             "#7201a8"
            ],
            [
             0.3333333333333333,
             "#9c179e"
            ],
            [
             0.4444444444444444,
             "#bd3786"
            ],
            [
             0.5555555555555556,
             "#d8576b"
            ],
            [
             0.6666666666666666,
             "#ed7953"
            ],
            [
             0.7777777777777778,
             "#fb9f3a"
            ],
            [
             0.8888888888888888,
             "#fdca26"
            ],
            [
             1,
             "#f0f921"
            ]
           ],
           "sequentialminus": [
            [
             0,
             "#0d0887"
            ],
            [
             0.1111111111111111,
             "#46039f"
            ],
            [
             0.2222222222222222,
             "#7201a8"
            ],
            [
             0.3333333333333333,
             "#9c179e"
            ],
            [
             0.4444444444444444,
             "#bd3786"
            ],
            [
             0.5555555555555556,
             "#d8576b"
            ],
            [
             0.6666666666666666,
             "#ed7953"
            ],
            [
             0.7777777777777778,
             "#fb9f3a"
            ],
            [
             0.8888888888888888,
             "#fdca26"
            ],
            [
             1,
             "#f0f921"
            ]
           ]
          },
          "colorway": [
           "#636efa",
           "#EF553B",
           "#00cc96",
           "#ab63fa",
           "#FFA15A",
           "#19d3f3",
           "#FF6692",
           "#B6E880",
           "#FF97FF",
           "#FECB52"
          ],
          "font": {
           "color": "#2a3f5f"
          },
          "geo": {
           "bgcolor": "white",
           "lakecolor": "white",
           "landcolor": "#E5ECF6",
           "showlakes": true,
           "showland": true,
           "subunitcolor": "white"
          },
          "hoverlabel": {
           "align": "left"
          },
          "hovermode": "closest",
          "mapbox": {
           "style": "light"
          },
          "paper_bgcolor": "white",
          "plot_bgcolor": "#E5ECF6",
          "polar": {
           "angularaxis": {
            "gridcolor": "white",
            "linecolor": "white",
            "ticks": ""
           },
           "bgcolor": "#E5ECF6",
           "radialaxis": {
            "gridcolor": "white",
            "linecolor": "white",
            "ticks": ""
           }
          },
          "scene": {
           "xaxis": {
            "backgroundcolor": "#E5ECF6",
            "gridcolor": "white",
            "gridwidth": 2,
            "linecolor": "white",
            "showbackground": true,
            "ticks": "",
            "zerolinecolor": "white"
           },
           "yaxis": {
            "backgroundcolor": "#E5ECF6",
            "gridcolor": "white",
            "gridwidth": 2,
            "linecolor": "white",
            "showbackground": true,
            "ticks": "",
            "zerolinecolor": "white"
           },
           "zaxis": {
            "backgroundcolor": "#E5ECF6",
            "gridcolor": "white",
            "gridwidth": 2,
            "linecolor": "white",
            "showbackground": true,
            "ticks": "",
            "zerolinecolor": "white"
           }
          },
          "shapedefaults": {
           "line": {
            "color": "#2a3f5f"
           }
          },
          "ternary": {
           "aaxis": {
            "gridcolor": "white",
            "linecolor": "white",
            "ticks": ""
           },
           "baxis": {
            "gridcolor": "white",
            "linecolor": "white",
            "ticks": ""
           },
           "bgcolor": "#E5ECF6",
           "caxis": {
            "gridcolor": "white",
            "linecolor": "white",
            "ticks": ""
           }
          },
          "title": {
           "x": 0.05
          },
          "xaxis": {
           "automargin": true,
           "gridcolor": "white",
           "linecolor": "white",
           "ticks": "",
           "title": {
            "standoff": 15
           },
           "zerolinecolor": "white",
           "zerolinewidth": 2
          },
          "yaxis": {
           "automargin": true,
           "gridcolor": "white",
           "linecolor": "white",
           "ticks": "",
           "title": {
            "standoff": 15
           },
           "zerolinecolor": "white",
           "zerolinewidth": 2
          }
         }
        },
        "width": 800
       }
      }
     },
     "metadata": {},
     "output_type": "display_data"
    },
    {
     "data": {
      "application/vnd.plotly.v1+json": {
       "config": {
        "plotlyServerURL": "https://plot.ly"
       },
       "data": [
        {
         "hoverinfo": "none",
         "line": {
          "color": "blue",
          "dash": "solid",
          "width": 0.9690746659590456
         },
         "mode": "lines",
         "showlegend": false,
         "type": "scatter",
         "x": [
          0.005705964310069092,
          0.09201889969124193
         ],
         "y": [
          -0.9380732306992571,
          -0.7806603458604856
         ]
        },
        {
         "hoverinfo": "none",
         "line": {
          "color": "blue",
          "dash": "dash",
          "width": 0.1195258076246136
         },
         "mode": "lines",
         "showlegend": false,
         "type": "scatter",
         "x": [
          0.005705964310069092,
          -0.46169832489771706
         ],
         "y": [
          -0.9380732306992571,
          -0.8941853167598769
         ]
        },
        {
         "hoverinfo": "none",
         "line": {
          "color": "red",
          "dash": "dot",
          "width": 0.1195258076246136
         },
         "mode": "lines",
         "showlegend": false,
         "type": "scatter",
         "x": [
          0.005705964310069092,
          0.2675303807307816
         ],
         "y": [
          -0.9380732306992571,
          0.8626302442859565
         ]
        },
        {
         "hoverinfo": "none",
         "line": {
          "color": "red",
          "dash": "dot",
          "width": 0.11589610938374365
         },
         "mode": "lines",
         "showlegend": false,
         "type": "scatter",
         "x": [
          0.005705964310069092,
          0.5126898402923556
         ],
         "y": [
          -0.9380732306992571,
          0.6866040239603529
         ]
        },
        {
         "hoverinfo": "none",
         "line": {
          "color": "blue",
          "dash": "dash",
          "width": 0.12079750336454388
         },
         "mode": "lines",
         "showlegend": false,
         "type": "scatter",
         "x": [
          0.005705964310069092,
          -0.3829403897662407
         ],
         "y": [
          -0.9380732306992571,
          -0.5996134239746184
         ]
        },
        {
         "hoverinfo": "none",
         "line": {
          "color": "red",
          "dash": "dot",
          "width": 0.12079750336454388
         },
         "mode": "lines",
         "showlegend": false,
         "type": "scatter",
         "x": [
          0.005705964310069092,
          0.1324033448326439
         ],
         "y": [
          -0.9380732306992571,
          0.6852783717795955
         ]
        },
        {
         "hoverinfo": "none",
         "line": {
          "color": "blue",
          "dash": "dash",
          "width": 0.11620949961989202
         },
         "mode": "lines",
         "showlegend": false,
         "type": "scatter",
         "x": [
          0.005705964310069092,
          -0.12626041984539826
         ],
         "y": [
          -0.9380732306992571,
          -0.9377329212293088
         ]
        },
        {
         "hoverinfo": "none",
         "line": {
          "color": "red",
          "dash": "dot",
          "width": 0.11620949961989202
         },
         "mode": "lines",
         "showlegend": false,
         "type": "scatter",
         "x": [
          0.005705964310069092,
          0.03930546977757379
         ],
         "y": [
          -0.9380732306992571,
          0.8459317265101948
         ]
        },
        {
         "hoverinfo": "none",
         "line": {
          "color": "red",
          "dash": "dot",
          "width": 0.1163893685656174
         },
         "mode": "lines",
         "showlegend": false,
         "type": "scatter",
         "x": [
          0.005705964310069092,
          0.3346633782260831
         ],
         "y": [
          -0.9380732306992571,
          1
         ]
        },
        {
         "hoverinfo": "none",
         "line": {
          "color": "blue",
          "dash": "dash",
          "width": 0.1163893685656174
         },
         "mode": "lines",
         "showlegend": false,
         "type": "scatter",
         "x": [
          0.005705964310069092,
          -0.1640534328346748
         ],
         "y": [
          -0.9380732306992571,
          -0.6912220557376915
         ]
        },
        {
         "hoverinfo": "none",
         "line": {
          "color": "blue",
          "dash": "dash",
          "width": 0.12079750336454388
         },
         "mode": "lines",
         "showlegend": false,
         "type": "scatter",
         "x": [
          0.005705964310069092,
          -0.5388111056619563
         ],
         "y": [
          -0.9380732306992571,
          -0.7227877572322355
         ]
        },
        {
         "hoverinfo": "none",
         "line": {
          "color": "blue",
          "dash": "dash",
          "width": 0.11564272749838475
         },
         "mode": "lines",
         "showlegend": false,
         "type": "scatter",
         "x": [
          0.005705964310069092,
          -0.4943829541792492
         ],
         "y": [
          -0.9380732306992571,
          -0.8313915700486094
         ]
        },
        {
         "hoverinfo": "none",
         "line": {
          "color": "red",
          "dash": "dot",
          "width": 0.11564272749838475
         },
         "mode": "lines",
         "showlegend": false,
         "type": "scatter",
         "x": [
          0.005705964310069092,
          0.31483549546053435
         ],
         "y": [
          -0.9380732306992571,
          0.6450220109574093
         ]
        },
        {
         "hoverinfo": "none",
         "line": {
          "color": "red",
          "dash": "dot",
          "width": 0.12222030311500977
         },
         "mode": "lines",
         "showlegend": false,
         "type": "scatter",
         "x": [
          0.005705964310069092,
          0.22794569881780796
         ],
         "y": [
          -0.9380732306992571,
          0.7528761859518494
         ]
        },
        {
         "hoverinfo": "none",
         "line": {
          "color": "blue",
          "dash": "dash",
          "width": 0.12222030311500977
         },
         "mode": "lines",
         "showlegend": false,
         "type": "scatter",
         "x": [
          0.005705964310069092,
          -0.1772552017006071
         ],
         "y": [
          -0.9380732306992571,
          -0.8280370120428581
         ]
        },
        {
         "hoverinfo": "none",
         "line": {
          "color": "red",
          "dash": "dot",
          "width": 0.12222030311500977
         },
         "mode": "lines",
         "showlegend": false,
         "type": "scatter",
         "x": [
          0.005705964310069092,
          0.4208359704787071
         ],
         "y": [
          -0.9380732306992571,
          0.9596350255519515
         ]
        },
        {
         "hoverinfo": "none",
         "line": {
          "color": "blue",
          "dash": "dash",
          "width": 0.12222030311500977
         },
         "mode": "lines",
         "showlegend": false,
         "type": "scatter",
         "x": [
          0.005705964310069092,
          -0.5741767569530626
         ],
         "y": [
          -0.9380732306992571,
          -0.8682141210263504
         ]
        },
        {
         "hoverinfo": "none",
         "line": {
          "color": "blue",
          "dash": "dash",
          "width": 0.1195258076246136
         },
         "mode": "lines",
         "showlegend": false,
         "type": "scatter",
         "x": [
          0.005705964310069092,
          -0.41077807479773726
         ],
         "y": [
          -0.9380732306992571,
          -0.9254893328494727
         ]
        },
        {
         "hoverinfo": "none",
         "line": {
          "color": "red",
          "dash": "dot",
          "width": 0.11589610938374365
         },
         "mode": "lines",
         "showlegend": false,
         "type": "scatter",
         "x": [
          0.005705964310069092,
          0.5000922990652917
         ],
         "y": [
          -0.9380732306992571,
          0.7590579171666894
         ]
        },
        {
         "hoverinfo": "none",
         "line": {
          "color": "red",
          "dash": "solid",
          "width": 1
         },
         "mode": "lines",
         "showlegend": false,
         "type": "scatter",
         "x": [
          -0.46169832489771706,
          0.2675303807307816
         ],
         "y": [
          -0.8941853167598769,
          0.8626302442859565
         ]
        },
        {
         "hoverinfo": "none",
         "line": {
          "color": "red",
          "dash": "solid",
          "width": 0.8832375408943012
         },
         "mode": "lines",
         "showlegend": false,
         "type": "scatter",
         "x": [
          -0.46169832489771706,
          0.5126898402923556
         ],
         "y": [
          -0.8941853167598769,
          0.6866040239603529
         ]
        },
        {
         "hoverinfo": "none",
         "line": {
          "color": "blue",
          "dash": "solid",
          "width": 0.9995670008605249
         },
         "mode": "lines",
         "showlegend": false,
         "type": "scatter",
         "x": [
          -0.46169832489771706,
          -0.3829403897662407
         ],
         "y": [
          -0.8941853167598769,
          -0.5996134239746184
         ]
        },
        {
         "hoverinfo": "none",
         "line": {
          "color": "red",
          "dash": "solid",
          "width": 0.9995670008605249
         },
         "mode": "lines",
         "showlegend": false,
         "type": "scatter",
         "x": [
          -0.46169832489771706,
          0.1324033448326439
         ],
         "y": [
          -0.8941853167598769,
          0.6852783717795955
         ]
        },
        {
         "hoverinfo": "none",
         "line": {
          "color": "blue",
          "dash": "solid",
          "width": 0.8831828062837741
         },
         "mode": "lines",
         "showlegend": false,
         "type": "scatter",
         "x": [
          -0.46169832489771706,
          -0.12626041984539826
         ],
         "y": [
          -0.8941853167598769,
          -0.9377329212293088
         ]
        },
        {
         "hoverinfo": "none",
         "line": {
          "color": "red",
          "dash": "solid",
          "width": 0.8831828062837741
         },
         "mode": "lines",
         "showlegend": false,
         "type": "scatter",
         "x": [
          -0.46169832489771706,
          0.03930546977757379
         ],
         "y": [
          -0.8941853167598769,
          0.8459317265101948
         ]
        },
        {
         "hoverinfo": "none",
         "line": {
          "color": "red",
          "dash": "solid",
          "width": 0.8831903400780212
         },
         "mode": "lines",
         "showlegend": false,
         "type": "scatter",
         "x": [
          -0.46169832489771706,
          0.3346633782260831
         ],
         "y": [
          -0.8941853167598769,
          1
         ]
        },
        {
         "hoverinfo": "none",
         "line": {
          "color": "blue",
          "dash": "solid",
          "width": 0.8831903400780212
         },
         "mode": "lines",
         "showlegend": false,
         "type": "scatter",
         "x": [
          -0.46169832489771706,
          -0.1640534328346748
         ],
         "y": [
          -0.8941853167598769,
          -0.6912220557376915
         ]
        },
        {
         "hoverinfo": "none",
         "line": {
          "color": "blue",
          "dash": "solid",
          "width": 0.9995670008605249
         },
         "mode": "lines",
         "showlegend": false,
         "type": "scatter",
         "x": [
          -0.46169832489771706,
          -0.5388111056619563
         ],
         "y": [
          -0.8941853167598769,
          -0.7227877572322355
         ]
        },
        {
         "hoverinfo": "none",
         "line": {
          "color": "blue",
          "dash": "solid",
          "width": 0.8832168194618618
         },
         "mode": "lines",
         "showlegend": false,
         "type": "scatter",
         "x": [
          -0.46169832489771706,
          -0.4943829541792492
         ],
         "y": [
          -0.8941853167598769,
          -0.8313915700486094
         ]
        },
        {
         "hoverinfo": "none",
         "line": {
          "color": "red",
          "dash": "solid",
          "width": 0.8832168194618618
         },
         "mode": "lines",
         "showlegend": false,
         "type": "scatter",
         "x": [
          -0.46169832489771706,
          0.31483549546053435
         ],
         "y": [
          -0.8941853167598769,
          0.6450220109574093
         ]
        },
        {
         "hoverinfo": "none",
         "line": {
          "color": "red",
          "dash": "solid",
          "width": 0.972800506654746
         },
         "mode": "lines",
         "showlegend": false,
         "type": "scatter",
         "x": [
          -0.46169832489771706,
          0.22794569881780796
         ],
         "y": [
          -0.8941853167598769,
          0.7528761859518494
         ]
        },
        {
         "hoverinfo": "none",
         "line": {
          "color": "blue",
          "dash": "solid",
          "width": 0.972800506654746
         },
         "mode": "lines",
         "showlegend": false,
         "type": "scatter",
         "x": [
          -0.46169832489771706,
          -0.1772552017006071
         ],
         "y": [
          -0.8941853167598769,
          -0.8280370120428581
         ]
        },
        {
         "hoverinfo": "none",
         "line": {
          "color": "red",
          "dash": "solid",
          "width": 0.972800506654746
         },
         "mode": "lines",
         "showlegend": false,
         "type": "scatter",
         "x": [
          -0.46169832489771706,
          0.4208359704787071
         ],
         "y": [
          -0.8941853167598769,
          0.9596350255519515
         ]
        },
        {
         "hoverinfo": "none",
         "line": {
          "color": "blue",
          "dash": "solid",
          "width": 0.972800506654746
         },
         "mode": "lines",
         "showlegend": false,
         "type": "scatter",
         "x": [
          -0.46169832489771706,
          -0.5741767569530626
         ],
         "y": [
          -0.8941853167598769,
          -0.8682141210263504
         ]
        },
        {
         "hoverinfo": "none",
         "line": {
          "color": "blue",
          "dash": "solid",
          "width": 1
         },
         "mode": "lines",
         "showlegend": false,
         "type": "scatter",
         "x": [
          -0.46169832489771706,
          -0.41077807479773726
         ],
         "y": [
          -0.8941853167598769,
          -0.9254893328494727
         ]
        },
        {
         "hoverinfo": "none",
         "line": {
          "color": "red",
          "dash": "solid",
          "width": 0.8832375408943012
         },
         "mode": "lines",
         "showlegend": false,
         "type": "scatter",
         "x": [
          -0.46169832489771706,
          0.5000922990652917
         ],
         "y": [
          -0.8941853167598769,
          0.7590579171666894
         ]
        },
        {
         "hoverinfo": "none",
         "line": {
          "color": "blue",
          "dash": "solid",
          "width": 0.8832375408943012
         },
         "mode": "lines",
         "showlegend": false,
         "type": "scatter",
         "x": [
          0.2675303807307816,
          0.5126898402923556
         ],
         "y": [
          0.8626302442859565,
          0.6866040239603529
         ]
        },
        {
         "hoverinfo": "none",
         "line": {
          "color": "red",
          "dash": "solid",
          "width": 0.9995670008605249
         },
         "mode": "lines",
         "showlegend": false,
         "type": "scatter",
         "x": [
          0.2675303807307816,
          -0.3829403897662407
         ],
         "y": [
          0.8626302442859565,
          -0.5996134239746184
         ]
        },
        {
         "hoverinfo": "none",
         "line": {
          "color": "blue",
          "dash": "solid",
          "width": 0.9995670008605249
         },
         "mode": "lines",
         "showlegend": false,
         "type": "scatter",
         "x": [
          0.2675303807307816,
          0.1324033448326439
         ],
         "y": [
          0.8626302442859565,
          0.6852783717795955
         ]
        },
        {
         "hoverinfo": "none",
         "line": {
          "color": "red",
          "dash": "solid",
          "width": 0.8831828062837741
         },
         "mode": "lines",
         "showlegend": false,
         "type": "scatter",
         "x": [
          0.2675303807307816,
          -0.12626041984539826
         ],
         "y": [
          0.8626302442859565,
          -0.9377329212293088
         ]
        },
        {
         "hoverinfo": "none",
         "line": {
          "color": "blue",
          "dash": "solid",
          "width": 0.8831828062837741
         },
         "mode": "lines",
         "showlegend": false,
         "type": "scatter",
         "x": [
          0.2675303807307816,
          0.03930546977757379
         ],
         "y": [
          0.8626302442859565,
          0.8459317265101948
         ]
        },
        {
         "hoverinfo": "none",
         "line": {
          "color": "blue",
          "dash": "solid",
          "width": 0.8831903400780212
         },
         "mode": "lines",
         "showlegend": false,
         "type": "scatter",
         "x": [
          0.2675303807307816,
          0.3346633782260831
         ],
         "y": [
          0.8626302442859565,
          1
         ]
        },
        {
         "hoverinfo": "none",
         "line": {
          "color": "red",
          "dash": "solid",
          "width": 0.8831903400780212
         },
         "mode": "lines",
         "showlegend": false,
         "type": "scatter",
         "x": [
          0.2675303807307816,
          -0.1640534328346748
         ],
         "y": [
          0.8626302442859565,
          -0.6912220557376915
         ]
        },
        {
         "hoverinfo": "none",
         "line": {
          "color": "red",
          "dash": "solid",
          "width": 0.9995670008605249
         },
         "mode": "lines",
         "showlegend": false,
         "type": "scatter",
         "x": [
          0.2675303807307816,
          -0.5388111056619563
         ],
         "y": [
          0.8626302442859565,
          -0.7227877572322355
         ]
        },
        {
         "hoverinfo": "none",
         "line": {
          "color": "red",
          "dash": "solid",
          "width": 0.8832168194618618
         },
         "mode": "lines",
         "showlegend": false,
         "type": "scatter",
         "x": [
          0.2675303807307816,
          -0.4943829541792492
         ],
         "y": [
          0.8626302442859565,
          -0.8313915700486094
         ]
        },
        {
         "hoverinfo": "none",
         "line": {
          "color": "blue",
          "dash": "solid",
          "width": 0.8832168194618618
         },
         "mode": "lines",
         "showlegend": false,
         "type": "scatter",
         "x": [
          0.2675303807307816,
          0.31483549546053435
         ],
         "y": [
          0.8626302442859565,
          0.6450220109574093
         ]
        },
        {
         "hoverinfo": "none",
         "line": {
          "color": "blue",
          "dash": "solid",
          "width": 0.972800506654746
         },
         "mode": "lines",
         "showlegend": false,
         "type": "scatter",
         "x": [
          0.2675303807307816,
          0.22794569881780796
         ],
         "y": [
          0.8626302442859565,
          0.7528761859518494
         ]
        },
        {
         "hoverinfo": "none",
         "line": {
          "color": "red",
          "dash": "solid",
          "width": 0.972800506654746
         },
         "mode": "lines",
         "showlegend": false,
         "type": "scatter",
         "x": [
          0.2675303807307816,
          -0.1772552017006071
         ],
         "y": [
          0.8626302442859565,
          -0.8280370120428581
         ]
        },
        {
         "hoverinfo": "none",
         "line": {
          "color": "blue",
          "dash": "solid",
          "width": 0.972800506654746
         },
         "mode": "lines",
         "showlegend": false,
         "type": "scatter",
         "x": [
          0.2675303807307816,
          0.4208359704787071
         ],
         "y": [
          0.8626302442859565,
          0.9596350255519515
         ]
        },
        {
         "hoverinfo": "none",
         "line": {
          "color": "red",
          "dash": "solid",
          "width": 0.972800506654746
         },
         "mode": "lines",
         "showlegend": false,
         "type": "scatter",
         "x": [
          0.2675303807307816,
          -0.5741767569530626
         ],
         "y": [
          0.8626302442859565,
          -0.8682141210263504
         ]
        },
        {
         "hoverinfo": "none",
         "line": {
          "color": "red",
          "dash": "solid",
          "width": 1
         },
         "mode": "lines",
         "showlegend": false,
         "type": "scatter",
         "x": [
          0.2675303807307816,
          -0.41077807479773726
         ],
         "y": [
          0.8626302442859565,
          -0.9254893328494727
         ]
        },
        {
         "hoverinfo": "none",
         "line": {
          "color": "blue",
          "dash": "solid",
          "width": 0.8832375408943012
         },
         "mode": "lines",
         "showlegend": false,
         "type": "scatter",
         "x": [
          0.2675303807307816,
          0.5000922990652917
         ],
         "y": [
          0.8626302442859565,
          0.7590579171666894
         ]
        },
        {
         "hoverinfo": "none",
         "line": {
          "color": "red",
          "dash": "solid",
          "width": 0.8826657844968544
         },
         "mode": "lines",
         "showlegend": false,
         "type": "scatter",
         "x": [
          0.5126898402923556,
          -0.3829403897662407
         ],
         "y": [
          0.6866040239603529,
          -0.5996134239746184
         ]
        },
        {
         "hoverinfo": "none",
         "line": {
          "color": "blue",
          "dash": "solid",
          "width": 0.8826657844968544
         },
         "mode": "lines",
         "showlegend": false,
         "type": "scatter",
         "x": [
          0.5126898402923556,
          0.1324033448326439
         ],
         "y": [
          0.6866040239603529,
          0.6852783717795955
         ]
        },
        {
         "hoverinfo": "none",
         "line": {
          "color": "red",
          "dash": "solid",
          "width": 0.9999704441866153
         },
         "mode": "lines",
         "showlegend": false,
         "type": "scatter",
         "x": [
          0.5126898402923556,
          -0.12626041984539826
         ],
         "y": [
          0.6866040239603529,
          -0.9377329212293088
         ]
        },
        {
         "hoverinfo": "none",
         "line": {
          "color": "blue",
          "dash": "solid",
          "width": 0.9999704441866153
         },
         "mode": "lines",
         "showlegend": false,
         "type": "scatter",
         "x": [
          0.5126898402923556,
          0.03930546977757379
         ],
         "y": [
          0.6866040239603529,
          0.8459317265101948
         ]
        },
        {
         "hoverinfo": "none",
         "line": {
          "color": "blue",
          "dash": "solid",
          "width": 0.9998817144424887
         },
         "mode": "lines",
         "showlegend": false,
         "type": "scatter",
         "x": [
          0.5126898402923556,
          0.3346633782260831
         ],
         "y": [
          0.6866040239603529,
          1
         ]
        },
        {
         "hoverinfo": "none",
         "line": {
          "color": "red",
          "dash": "solid",
          "width": 0.9998817144424887
         },
         "mode": "lines",
         "showlegend": false,
         "type": "scatter",
         "x": [
          0.5126898402923556,
          -0.1640534328346748
         ],
         "y": [
          0.6866040239603529,
          -0.6912220557376915
         ]
        },
        {
         "hoverinfo": "none",
         "line": {
          "color": "red",
          "dash": "solid",
          "width": 0.8826657844968544
         },
         "mode": "lines",
         "showlegend": false,
         "type": "scatter",
         "x": [
          0.5126898402923556,
          -0.5388111056619563
         ],
         "y": [
          0.6866040239603529,
          -0.7227877572322355
         ]
        },
        {
         "hoverinfo": "none",
         "line": {
          "color": "red",
          "dash": "solid",
          "width": 0.99999267563615
         },
         "mode": "lines",
         "showlegend": false,
         "type": "scatter",
         "x": [
          0.5126898402923556,
          -0.4943829541792492
         ],
         "y": [
          0.6866040239603529,
          -0.8313915700486094
         ]
        },
        {
         "hoverinfo": "none",
         "line": {
          "color": "blue",
          "dash": "solid",
          "width": 0.99999267563615
         },
         "mode": "lines",
         "showlegend": false,
         "type": "scatter",
         "x": [
          0.5126898402923556,
          0.31483549546053435
         ],
         "y": [
          0.6866040239603529,
          0.6450220109574093
         ]
        },
        {
         "hoverinfo": "none",
         "line": {
          "color": "blue",
          "dash": "solid",
          "width": 0.9677875130631329
         },
         "mode": "lines",
         "showlegend": false,
         "type": "scatter",
         "x": [
          0.5126898402923556,
          0.22794569881780796
         ],
         "y": [
          0.6866040239603529,
          0.7528761859518494
         ]
        },
        {
         "hoverinfo": "none",
         "line": {
          "color": "red",
          "dash": "solid",
          "width": 0.9677875130631329
         },
         "mode": "lines",
         "showlegend": false,
         "type": "scatter",
         "x": [
          0.5126898402923556,
          -0.1772552017006071
         ],
         "y": [
          0.6866040239603529,
          -0.8280370120428581
         ]
        },
        {
         "hoverinfo": "none",
         "line": {
          "color": "blue",
          "dash": "solid",
          "width": 0.9677875130631329
         },
         "mode": "lines",
         "showlegend": false,
         "type": "scatter",
         "x": [
          0.5126898402923556,
          0.4208359704787071
         ],
         "y": [
          0.6866040239603529,
          0.9596350255519515
         ]
        },
        {
         "hoverinfo": "none",
         "line": {
          "color": "red",
          "dash": "solid",
          "width": 0.9677875130631329
         },
         "mode": "lines",
         "showlegend": false,
         "type": "scatter",
         "x": [
          0.5126898402923556,
          -0.5741767569530626
         ],
         "y": [
          0.6866040239603529,
          -0.8682141210263504
         ]
        },
        {
         "hoverinfo": "none",
         "line": {
          "color": "red",
          "dash": "solid",
          "width": 0.8832375408943013
         },
         "mode": "lines",
         "showlegend": false,
         "type": "scatter",
         "x": [
          0.5126898402923556,
          -0.41077807479773726
         ],
         "y": [
          0.6866040239603529,
          -0.9254893328494727
         ]
        },
        {
         "hoverinfo": "none",
         "line": {
          "color": "blue",
          "dash": "solid",
          "width": 1
         },
         "mode": "lines",
         "showlegend": false,
         "type": "scatter",
         "x": [
          0.5126898402923556,
          0.5000922990652917
         ],
         "y": [
          0.6866040239603529,
          0.7590579171666894
         ]
        },
        {
         "hoverinfo": "none",
         "line": {
          "color": "blue",
          "dash": "dash",
          "width": 0.05530287052522547
         },
         "mode": "lines",
         "showlegend": false,
         "type": "scatter",
         "x": [
          0.5126898402923556,
          -0.0903569187291427
         ],
         "y": [
          0.6866040239603529,
          0.6520273073893061
         ]
        },
        {
         "hoverinfo": "none",
         "line": {
          "color": "red",
          "dash": "solid",
          "width": 1
         },
         "mode": "lines",
         "showlegend": false,
         "type": "scatter",
         "x": [
          -0.3829403897662407,
          0.1324033448326439
         ],
         "y": [
          -0.5996134239746184,
          0.6852783717795955
         ]
        },
        {
         "hoverinfo": "none",
         "line": {
          "color": "blue",
          "dash": "solid",
          "width": 0.8823848586782451
         },
         "mode": "lines",
         "showlegend": false,
         "type": "scatter",
         "x": [
          -0.3829403897662407,
          -0.12626041984539826
         ],
         "y": [
          -0.5996134239746184,
          -0.9377329212293088
         ]
        },
        {
         "hoverinfo": "none",
         "line": {
          "color": "red",
          "dash": "solid",
          "width": 0.8823848586782451
         },
         "mode": "lines",
         "showlegend": false,
         "type": "scatter",
         "x": [
          -0.3829403897662407,
          0.03930546977757379
         ],
         "y": [
          -0.5996134239746184,
          0.8459317265101948
         ]
        },
        {
         "hoverinfo": "none",
         "line": {
          "color": "red",
          "dash": "solid",
          "width": 0.8830711766826965
         },
         "mode": "lines",
         "showlegend": false,
         "type": "scatter",
         "x": [
          -0.3829403897662407,
          0.3346633782260831
         ],
         "y": [
          -0.5996134239746184,
          1
         ]
        },
        {
         "hoverinfo": "none",
         "line": {
          "color": "blue",
          "dash": "solid",
          "width": 0.8830711766826965
         },
         "mode": "lines",
         "showlegend": false,
         "type": "scatter",
         "x": [
          -0.3829403897662407,
          -0.1640534328346748
         ],
         "y": [
          -0.5996134239746184,
          -0.6912220557376915
         ]
        },
        {
         "hoverinfo": "none",
         "line": {
          "color": "blue",
          "dash": "solid",
          "width": 1
         },
         "mode": "lines",
         "showlegend": false,
         "type": "scatter",
         "x": [
          -0.3829403897662407,
          -0.5388111056619563
         ],
         "y": [
          -0.5996134239746184,
          -0.7227877572322355
         ]
        },
        {
         "hoverinfo": "none",
         "line": {
          "color": "blue",
          "dash": "solid",
          "width": 0.8825324579995321
         },
         "mode": "lines",
         "showlegend": false,
         "type": "scatter",
         "x": [
          -0.3829403897662407,
          -0.4943829541792492
         ],
         "y": [
          -0.5996134239746184,
          -0.8313915700486094
         ]
        },
        {
         "hoverinfo": "none",
         "line": {
          "color": "red",
          "dash": "solid",
          "width": 0.8825324579995321
         },
         "mode": "lines",
         "showlegend": false,
         "type": "scatter",
         "x": [
          -0.3829403897662407,
          0.31483549546053435
         ],
         "y": [
          -0.5996134239746184,
          0.6450220109574093
         ]
        },
        {
         "hoverinfo": "none",
         "line": {
          "color": "red",
          "dash": "solid",
          "width": 0.9720779978602483
         },
         "mode": "lines",
         "showlegend": false,
         "type": "scatter",
         "x": [
          -0.3829403897662407,
          0.22794569881780796
         ],
         "y": [
          -0.5996134239746184,
          0.7528761859518494
         ]
        },
        {
         "hoverinfo": "none",
         "line": {
          "color": "blue",
          "dash": "solid",
          "width": 0.9720779978602483
         },
         "mode": "lines",
         "showlegend": false,
         "type": "scatter",
         "x": [
          -0.3829403897662407,
          -0.1772552017006071
         ],
         "y": [
          -0.5996134239746184,
          -0.8280370120428581
         ]
        },
        {
         "hoverinfo": "none",
         "line": {
          "color": "red",
          "dash": "solid",
          "width": 0.9720779978602483
         },
         "mode": "lines",
         "showlegend": false,
         "type": "scatter",
         "x": [
          -0.3829403897662407,
          0.4208359704787071
         ],
         "y": [
          -0.5996134239746184,
          0.9596350255519515
         ]
        },
        {
         "hoverinfo": "none",
         "line": {
          "color": "blue",
          "dash": "solid",
          "width": 0.9720779978602483
         },
         "mode": "lines",
         "showlegend": false,
         "type": "scatter",
         "x": [
          -0.3829403897662407,
          -0.5741767569530626
         ],
         "y": [
          -0.5996134239746184,
          -0.8682141210263504
         ]
        },
        {
         "hoverinfo": "none",
         "line": {
          "color": "blue",
          "dash": "solid",
          "width": 0.9995670008605249
         },
         "mode": "lines",
         "showlegend": false,
         "type": "scatter",
         "x": [
          -0.3829403897662407,
          -0.41077807479773726
         ],
         "y": [
          -0.5996134239746184,
          -0.9254893328494727
         ]
        },
        {
         "hoverinfo": "none",
         "line": {
          "color": "red",
          "dash": "solid",
          "width": 0.8826657844968544
         },
         "mode": "lines",
         "showlegend": false,
         "type": "scatter",
         "x": [
          -0.3829403897662407,
          0.5000922990652917
         ],
         "y": [
          -0.5996134239746184,
          0.7590579171666894
         ]
        },
        {
         "hoverinfo": "none",
         "line": {
          "color": "red",
          "dash": "solid",
          "width": 0.8823848586782451
         },
         "mode": "lines",
         "showlegend": false,
         "type": "scatter",
         "x": [
          0.1324033448326439,
          -0.12626041984539826
         ],
         "y": [
          0.6852783717795955,
          -0.9377329212293088
         ]
        },
        {
         "hoverinfo": "none",
         "line": {
          "color": "blue",
          "dash": "solid",
          "width": 0.8823848586782451
         },
         "mode": "lines",
         "showlegend": false,
         "type": "scatter",
         "x": [
          0.1324033448326439,
          0.03930546977757379
         ],
         "y": [
          0.6852783717795955,
          0.8459317265101948
         ]
        },
        {
         "hoverinfo": "none",
         "line": {
          "color": "blue",
          "dash": "solid",
          "width": 0.8830711766826965
         },
         "mode": "lines",
         "showlegend": false,
         "type": "scatter",
         "x": [
          0.1324033448326439,
          0.3346633782260831
         ],
         "y": [
          0.6852783717795955,
          1
         ]
        },
        {
         "hoverinfo": "none",
         "line": {
          "color": "red",
          "dash": "solid",
          "width": 0.8830711766826965
         },
         "mode": "lines",
         "showlegend": false,
         "type": "scatter",
         "x": [
          0.1324033448326439,
          -0.1640534328346748
         ],
         "y": [
          0.6852783717795955,
          -0.6912220557376915
         ]
        },
        {
         "hoverinfo": "none",
         "line": {
          "color": "red",
          "dash": "solid",
          "width": 1
         },
         "mode": "lines",
         "showlegend": false,
         "type": "scatter",
         "x": [
          0.1324033448326439,
          -0.5388111056619563
         ],
         "y": [
          0.6852783717795955,
          -0.7227877572322355
         ]
        },
        {
         "hoverinfo": "none",
         "line": {
          "color": "red",
          "dash": "solid",
          "width": 0.8825324579995321
         },
         "mode": "lines",
         "showlegend": false,
         "type": "scatter",
         "x": [
          0.1324033448326439,
          -0.4943829541792492
         ],
         "y": [
          0.6852783717795955,
          -0.8313915700486094
         ]
        },
        {
         "hoverinfo": "none",
         "line": {
          "color": "blue",
          "dash": "solid",
          "width": 0.8825324579995321
         },
         "mode": "lines",
         "showlegend": false,
         "type": "scatter",
         "x": [
          0.1324033448326439,
          0.31483549546053435
         ],
         "y": [
          0.6852783717795955,
          0.6450220109574093
         ]
        },
        {
         "hoverinfo": "none",
         "line": {
          "color": "blue",
          "dash": "solid",
          "width": 0.9720779978602483
         },
         "mode": "lines",
         "showlegend": false,
         "type": "scatter",
         "x": [
          0.1324033448326439,
          0.22794569881780796
         ],
         "y": [
          0.6852783717795955,
          0.7528761859518494
         ]
        },
        {
         "hoverinfo": "none",
         "line": {
          "color": "red",
          "dash": "solid",
          "width": 0.9720779978602483
         },
         "mode": "lines",
         "showlegend": false,
         "type": "scatter",
         "x": [
          0.1324033448326439,
          -0.1772552017006071
         ],
         "y": [
          0.6852783717795955,
          -0.8280370120428581
         ]
        },
        {
         "hoverinfo": "none",
         "line": {
          "color": "blue",
          "dash": "solid",
          "width": 0.9720779978602483
         },
         "mode": "lines",
         "showlegend": false,
         "type": "scatter",
         "x": [
          0.1324033448326439,
          0.4208359704787071
         ],
         "y": [
          0.6852783717795955,
          0.9596350255519515
         ]
        },
        {
         "hoverinfo": "none",
         "line": {
          "color": "red",
          "dash": "solid",
          "width": 0.9720779978602483
         },
         "mode": "lines",
         "showlegend": false,
         "type": "scatter",
         "x": [
          0.1324033448326439,
          -0.5741767569530626
         ],
         "y": [
          0.6852783717795955,
          -0.8682141210263504
         ]
        },
        {
         "hoverinfo": "none",
         "line": {
          "color": "red",
          "dash": "solid",
          "width": 0.9995670008605249
         },
         "mode": "lines",
         "showlegend": false,
         "type": "scatter",
         "x": [
          0.1324033448326439,
          -0.41077807479773726
         ],
         "y": [
          0.6852783717795955,
          -0.9254893328494727
         ]
        },
        {
         "hoverinfo": "none",
         "line": {
          "color": "blue",
          "dash": "solid",
          "width": 0.8826657844968544
         },
         "mode": "lines",
         "showlegend": false,
         "type": "scatter",
         "x": [
          0.1324033448326439,
          0.5000922990652917
         ],
         "y": [
          0.6852783717795955,
          0.7590579171666894
         ]
        },
        {
         "hoverinfo": "none",
         "line": {
          "color": "red",
          "dash": "solid",
          "width": 1
         },
         "mode": "lines",
         "showlegend": false,
         "type": "scatter",
         "x": [
          0.8638378472950273,
          -0.9550319050655058
         ],
         "y": [
          0.3613285970102704,
          0.1460309325883585
         ]
        },
        {
         "hoverinfo": "none",
         "line": {
          "color": "blue",
          "dash": "solid",
          "width": 0.7672192237237019
         },
         "mode": "lines",
         "showlegend": false,
         "type": "scatter",
         "x": [
          -0.0903569187291427,
          -0.20397131968135393
         ],
         "y": [
          0.6520273073893061,
          0.625351885771671
         ]
        },
        {
         "hoverinfo": "none",
         "line": {
          "color": "red",
          "dash": "dot",
          "width": 0.055451013947665155
         },
         "mode": "lines",
         "showlegend": false,
         "type": "scatter",
         "x": [
          -0.0903569187291427,
          -0.12626041984539826
         ],
         "y": [
          0.6520273073893061,
          -0.9377329212293088
         ]
        },
        {
         "hoverinfo": "none",
         "line": {
          "color": "blue",
          "dash": "dash",
          "width": 0.055451013947665155
         },
         "mode": "lines",
         "showlegend": false,
         "type": "scatter",
         "x": [
          -0.0903569187291427,
          0.03930546977757379
         ],
         "y": [
          0.6520273073893061,
          0.8459317265101948
         ]
        },
        {
         "hoverinfo": "none",
         "line": {
          "color": "blue",
          "dash": "dash",
          "width": 0.05644458559284477
         },
         "mode": "lines",
         "showlegend": false,
         "type": "scatter",
         "x": [
          -0.0903569187291427,
          0.3346633782260831
         ],
         "y": [
          0.6520273073893061,
          1
         ]
        },
        {
         "hoverinfo": "none",
         "line": {
          "color": "red",
          "dash": "dot",
          "width": 0.05644458559284477
         },
         "mode": "lines",
         "showlegend": false,
         "type": "scatter",
         "x": [
          -0.0903569187291427,
          -0.1640534328346748
         ],
         "y": [
          0.6520273073893061,
          -0.6912220557376915
         ]
        },
        {
         "hoverinfo": "none",
         "line": {
          "color": "red",
          "dash": "dot",
          "width": 0.055286887333868634
         },
         "mode": "lines",
         "showlegend": false,
         "type": "scatter",
         "x": [
          -0.0903569187291427,
          -0.4943829541792492
         ],
         "y": [
          0.6520273073893061,
          -0.8313915700486094
         ]
        },
        {
         "hoverinfo": "none",
         "line": {
          "color": "blue",
          "dash": "dash",
          "width": 0.055286887333868634
         },
         "mode": "lines",
         "showlegend": false,
         "type": "scatter",
         "x": [
          -0.0903569187291427,
          0.31483549546053435
         ],
         "y": [
          0.6520273073893061,
          0.6450220109574093
         ]
        },
        {
         "hoverinfo": "none",
         "line": {
          "color": "blue",
          "dash": "dash",
          "width": 0.05530287052522547
         },
         "mode": "lines",
         "showlegend": false,
         "type": "scatter",
         "x": [
          -0.0903569187291427,
          0.5000922990652917
         ],
         "y": [
          0.6520273073893061,
          0.7590579171666894
         ]
        },
        {
         "hoverinfo": "none",
         "line": {
          "color": "red",
          "dash": "solid",
          "width": 0.9999999999999999
         },
         "mode": "lines",
         "showlegend": false,
         "type": "scatter",
         "x": [
          -0.12626041984539826,
          0.03930546977757379
         ],
         "y": [
          -0.9377329212293088,
          0.8459317265101948
         ]
        },
        {
         "hoverinfo": "none",
         "line": {
          "color": "red",
          "dash": "solid",
          "width": 0.9997339120944619
         },
         "mode": "lines",
         "showlegend": false,
         "type": "scatter",
         "x": [
          -0.12626041984539826,
          0.3346633782260831
         ],
         "y": [
          -0.9377329212293088,
          1
         ]
        },
        {
         "hoverinfo": "none",
         "line": {
          "color": "blue",
          "dash": "solid",
          "width": 0.9997339120944619
         },
         "mode": "lines",
         "showlegend": false,
         "type": "scatter",
         "x": [
          -0.12626041984539826,
          -0.1640534328346748
         ],
         "y": [
          -0.9377329212293088,
          -0.6912220557376915
         ]
        },
        {
         "hoverinfo": "none",
         "line": {
          "color": "blue",
          "dash": "solid",
          "width": 0.8823848586782451
         },
         "mode": "lines",
         "showlegend": false,
         "type": "scatter",
         "x": [
          -0.12626041984539826,
          -0.5388111056619563
         ],
         "y": [
          -0.9377329212293088,
          -0.7227877572322355
         ]
        },
        {
         "hoverinfo": "none",
         "line": {
          "color": "blue",
          "dash": "solid",
          "width": 0.9999925461187814
         },
         "mode": "lines",
         "showlegend": false,
         "type": "scatter",
         "x": [
          -0.12626041984539826,
          -0.4943829541792492
         ],
         "y": [
          -0.9377329212293088,
          -0.8313915700486094
         ]
        },
        {
         "hoverinfo": "none",
         "line": {
          "color": "red",
          "dash": "solid",
          "width": 0.9999925461187814
         },
         "mode": "lines",
         "showlegend": false,
         "type": "scatter",
         "x": [
          -0.12626041984539826,
          0.31483549546053435
         ],
         "y": [
          -0.9377329212293088,
          0.6450220109574093
         ]
        },
        {
         "hoverinfo": "none",
         "line": {
          "color": "red",
          "dash": "solid",
          "width": 0.9677978460211437
         },
         "mode": "lines",
         "showlegend": false,
         "type": "scatter",
         "x": [
          -0.12626041984539826,
          0.22794569881780796
         ],
         "y": [
          -0.9377329212293088,
          0.7528761859518494
         ]
        },
        {
         "hoverinfo": "none",
         "line": {
          "color": "blue",
          "dash": "solid",
          "width": 0.9677978460211437
         },
         "mode": "lines",
         "showlegend": false,
         "type": "scatter",
         "x": [
          -0.12626041984539826,
          -0.1772552017006071
         ],
         "y": [
          -0.9377329212293088,
          -0.8280370120428581
         ]
        },
        {
         "hoverinfo": "none",
         "line": {
          "color": "red",
          "dash": "solid",
          "width": 0.9677978460211437
         },
         "mode": "lines",
         "showlegend": false,
         "type": "scatter",
         "x": [
          -0.12626041984539826,
          0.4208359704787071
         ],
         "y": [
          -0.9377329212293088,
          0.9596350255519515
         ]
        },
        {
         "hoverinfo": "none",
         "line": {
          "color": "blue",
          "dash": "solid",
          "width": 0.9677978460211437
         },
         "mode": "lines",
         "showlegend": false,
         "type": "scatter",
         "x": [
          -0.12626041984539826,
          -0.5741767569530626
         ],
         "y": [
          -0.9377329212293088,
          -0.8682141210263504
         ]
        },
        {
         "hoverinfo": "none",
         "line": {
          "color": "blue",
          "dash": "solid",
          "width": 0.8831828062837741
         },
         "mode": "lines",
         "showlegend": false,
         "type": "scatter",
         "x": [
          -0.12626041984539826,
          -0.41077807479773726
         ],
         "y": [
          -0.9377329212293088,
          -0.9254893328494727
         ]
        },
        {
         "hoverinfo": "none",
         "line": {
          "color": "red",
          "dash": "solid",
          "width": 0.9999704441866154
         },
         "mode": "lines",
         "showlegend": false,
         "type": "scatter",
         "x": [
          -0.12626041984539826,
          0.5000922990652917
         ],
         "y": [
          -0.9377329212293088,
          0.7590579171666894
         ]
        },
        {
         "hoverinfo": "none",
         "line": {
          "color": "blue",
          "dash": "solid",
          "width": 0.9997339120944619
         },
         "mode": "lines",
         "showlegend": false,
         "type": "scatter",
         "x": [
          0.03930546977757379,
          0.3346633782260831
         ],
         "y": [
          0.8459317265101948,
          1
         ]
        },
        {
         "hoverinfo": "none",
         "line": {
          "color": "red",
          "dash": "solid",
          "width": 0.9997339120944619
         },
         "mode": "lines",
         "showlegend": false,
         "type": "scatter",
         "x": [
          0.03930546977757379,
          -0.1640534328346748
         ],
         "y": [
          0.8459317265101948,
          -0.6912220557376915
         ]
        },
        {
         "hoverinfo": "none",
         "line": {
          "color": "red",
          "dash": "solid",
          "width": 0.8823848586782451
         },
         "mode": "lines",
         "showlegend": false,
         "type": "scatter",
         "x": [
          0.03930546977757379,
          -0.5388111056619563
         ],
         "y": [
          0.8459317265101948,
          -0.7227877572322355
         ]
        },
        {
         "hoverinfo": "none",
         "line": {
          "color": "red",
          "dash": "solid",
          "width": 0.9999925461187814
         },
         "mode": "lines",
         "showlegend": false,
         "type": "scatter",
         "x": [
          0.03930546977757379,
          -0.4943829541792492
         ],
         "y": [
          0.8459317265101948,
          -0.8313915700486094
         ]
        },
        {
         "hoverinfo": "none",
         "line": {
          "color": "blue",
          "dash": "solid",
          "width": 0.9999925461187814
         },
         "mode": "lines",
         "showlegend": false,
         "type": "scatter",
         "x": [
          0.03930546977757379,
          0.31483549546053435
         ],
         "y": [
          0.8459317265101948,
          0.6450220109574093
         ]
        },
        {
         "hoverinfo": "none",
         "line": {
          "color": "blue",
          "dash": "solid",
          "width": 0.9677978460211437
         },
         "mode": "lines",
         "showlegend": false,
         "type": "scatter",
         "x": [
          0.03930546977757379,
          0.22794569881780796
         ],
         "y": [
          0.8459317265101948,
          0.7528761859518494
         ]
        },
        {
         "hoverinfo": "none",
         "line": {
          "color": "red",
          "dash": "solid",
          "width": 0.9677978460211437
         },
         "mode": "lines",
         "showlegend": false,
         "type": "scatter",
         "x": [
          0.03930546977757379,
          -0.1772552017006071
         ],
         "y": [
          0.8459317265101948,
          -0.8280370120428581
         ]
        },
        {
         "hoverinfo": "none",
         "line": {
          "color": "blue",
          "dash": "solid",
          "width": 0.9677978460211437
         },
         "mode": "lines",
         "showlegend": false,
         "type": "scatter",
         "x": [
          0.03930546977757379,
          0.4208359704787071
         ],
         "y": [
          0.8459317265101948,
          0.9596350255519515
         ]
        },
        {
         "hoverinfo": "none",
         "line": {
          "color": "red",
          "dash": "solid",
          "width": 0.9677978460211437
         },
         "mode": "lines",
         "showlegend": false,
         "type": "scatter",
         "x": [
          0.03930546977757379,
          -0.5741767569530626
         ],
         "y": [
          0.8459317265101948,
          -0.8682141210263504
         ]
        },
        {
         "hoverinfo": "none",
         "line": {
          "color": "red",
          "dash": "solid",
          "width": 0.8831828062837741
         },
         "mode": "lines",
         "showlegend": false,
         "type": "scatter",
         "x": [
          0.03930546977757379,
          -0.41077807479773726
         ],
         "y": [
          0.8459317265101948,
          -0.9254893328494727
         ]
        },
        {
         "hoverinfo": "none",
         "line": {
          "color": "blue",
          "dash": "solid",
          "width": 0.9999704441866154
         },
         "mode": "lines",
         "showlegend": false,
         "type": "scatter",
         "x": [
          0.03930546977757379,
          0.5000922990652917
         ],
         "y": [
          0.8459317265101948,
          0.7590579171666894
         ]
        },
        {
         "hoverinfo": "none",
         "line": {
          "color": "red",
          "dash": "solid",
          "width": 1
         },
         "mode": "lines",
         "showlegend": false,
         "type": "scatter",
         "x": [
          0.3346633782260831,
          -0.1640534328346748
         ],
         "y": [
          1,
          -0.6912220557376915
         ]
        },
        {
         "hoverinfo": "none",
         "line": {
          "color": "red",
          "dash": "solid",
          "width": 0.8830711766826965
         },
         "mode": "lines",
         "showlegend": false,
         "type": "scatter",
         "x": [
          0.3346633782260831,
          -0.5388111056619563
         ],
         "y": [
          1,
          -0.7227877572322355
         ]
        },
        {
         "hoverinfo": "none",
         "line": {
          "color": "red",
          "dash": "solid",
          "width": 0.9998155245862113
         },
         "mode": "lines",
         "showlegend": false,
         "type": "scatter",
         "x": [
          0.3346633782260831,
          -0.4943829541792492
         ],
         "y": [
          1,
          -0.8313915700486094
         ]
        },
        {
         "hoverinfo": "none",
         "line": {
          "color": "blue",
          "dash": "solid",
          "width": 0.9998155245862113
         },
         "mode": "lines",
         "showlegend": false,
         "type": "scatter",
         "x": [
          0.3346633782260831,
          0.31483549546053435
         ],
         "y": [
          1,
          0.6450220109574093
         ]
        },
        {
         "hoverinfo": "none",
         "line": {
          "color": "blue",
          "dash": "solid",
          "width": 0.9675951455781877
         },
         "mode": "lines",
         "showlegend": false,
         "type": "scatter",
         "x": [
          0.3346633782260831,
          0.22794569881780796
         ],
         "y": [
          1,
          0.7528761859518494
         ]
        },
        {
         "hoverinfo": "none",
         "line": {
          "color": "red",
          "dash": "solid",
          "width": 0.9675951455781877
         },
         "mode": "lines",
         "showlegend": false,
         "type": "scatter",
         "x": [
          0.3346633782260831,
          -0.1772552017006071
         ],
         "y": [
          1,
          -0.8280370120428581
         ]
        },
        {
         "hoverinfo": "none",
         "line": {
          "color": "blue",
          "dash": "solid",
          "width": 0.9675951455781877
         },
         "mode": "lines",
         "showlegend": false,
         "type": "scatter",
         "x": [
          0.3346633782260831,
          0.4208359704787071
         ],
         "y": [
          1,
          0.9596350255519515
         ]
        },
        {
         "hoverinfo": "none",
         "line": {
          "color": "red",
          "dash": "solid",
          "width": 0.9675951455781877
         },
         "mode": "lines",
         "showlegend": false,
         "type": "scatter",
         "x": [
          0.3346633782260831,
          -0.5741767569530626
         ],
         "y": [
          1,
          -0.8682141210263504
         ]
        },
        {
         "hoverinfo": "none",
         "line": {
          "color": "red",
          "dash": "solid",
          "width": 0.8831903400780212
         },
         "mode": "lines",
         "showlegend": false,
         "type": "scatter",
         "x": [
          0.3346633782260831,
          -0.41077807479773726
         ],
         "y": [
          1,
          -0.9254893328494727
         ]
        },
        {
         "hoverinfo": "none",
         "line": {
          "color": "blue",
          "dash": "solid",
          "width": 0.9998817144424887
         },
         "mode": "lines",
         "showlegend": false,
         "type": "scatter",
         "x": [
          0.3346633782260831,
          0.5000922990652917
         ],
         "y": [
          1,
          0.7590579171666894
         ]
        },
        {
         "hoverinfo": "none",
         "line": {
          "color": "blue",
          "dash": "solid",
          "width": 0.8830711766826965
         },
         "mode": "lines",
         "showlegend": false,
         "type": "scatter",
         "x": [
          -0.1640534328346748,
          -0.5388111056619563
         ],
         "y": [
          -0.6912220557376915,
          -0.7227877572322355
         ]
        },
        {
         "hoverinfo": "none",
         "line": {
          "color": "blue",
          "dash": "solid",
          "width": 0.9998155245862113
         },
         "mode": "lines",
         "showlegend": false,
         "type": "scatter",
         "x": [
          -0.1640534328346748,
          -0.4943829541792492
         ],
         "y": [
          -0.6912220557376915,
          -0.8313915700486094
         ]
        },
        {
         "hoverinfo": "none",
         "line": {
          "color": "red",
          "dash": "solid",
          "width": 0.9998155245862113
         },
         "mode": "lines",
         "showlegend": false,
         "type": "scatter",
         "x": [
          -0.1640534328346748,
          0.31483549546053435
         ],
         "y": [
          -0.6912220557376915,
          0.6450220109574093
         ]
        },
        {
         "hoverinfo": "none",
         "line": {
          "color": "red",
          "dash": "solid",
          "width": 0.9675951455781877
         },
         "mode": "lines",
         "showlegend": false,
         "type": "scatter",
         "x": [
          -0.1640534328346748,
          0.22794569881780796
         ],
         "y": [
          -0.6912220557376915,
          0.7528761859518494
         ]
        },
        {
         "hoverinfo": "none",
         "line": {
          "color": "blue",
          "dash": "solid",
          "width": 0.9675951455781877
         },
         "mode": "lines",
         "showlegend": false,
         "type": "scatter",
         "x": [
          -0.1640534328346748,
          -0.1772552017006071
         ],
         "y": [
          -0.6912220557376915,
          -0.8280370120428581
         ]
        },
        {
         "hoverinfo": "none",
         "line": {
          "color": "red",
          "dash": "solid",
          "width": 0.9675951455781877
         },
         "mode": "lines",
         "showlegend": false,
         "type": "scatter",
         "x": [
          -0.1640534328346748,
          0.4208359704787071
         ],
         "y": [
          -0.6912220557376915,
          0.9596350255519515
         ]
        },
        {
         "hoverinfo": "none",
         "line": {
          "color": "blue",
          "dash": "solid",
          "width": 0.9675951455781877
         },
         "mode": "lines",
         "showlegend": false,
         "type": "scatter",
         "x": [
          -0.1640534328346748,
          -0.5741767569530626
         ],
         "y": [
          -0.6912220557376915,
          -0.8682141210263504
         ]
        },
        {
         "hoverinfo": "none",
         "line": {
          "color": "blue",
          "dash": "solid",
          "width": 0.8831903400780212
         },
         "mode": "lines",
         "showlegend": false,
         "type": "scatter",
         "x": [
          -0.1640534328346748,
          -0.41077807479773726
         ],
         "y": [
          -0.6912220557376915,
          -0.9254893328494727
         ]
        },
        {
         "hoverinfo": "none",
         "line": {
          "color": "red",
          "dash": "solid",
          "width": 0.9998817144424887
         },
         "mode": "lines",
         "showlegend": false,
         "type": "scatter",
         "x": [
          -0.1640534328346748,
          0.5000922990652917
         ],
         "y": [
          -0.6912220557376915,
          0.7590579171666894
         ]
        },
        {
         "hoverinfo": "none",
         "line": {
          "color": "blue",
          "dash": "solid",
          "width": 0.8825324579995321
         },
         "mode": "lines",
         "showlegend": false,
         "type": "scatter",
         "x": [
          -0.5388111056619563,
          -0.4943829541792492
         ],
         "y": [
          -0.7227877572322355,
          -0.8313915700486094
         ]
        },
        {
         "hoverinfo": "none",
         "line": {
          "color": "red",
          "dash": "solid",
          "width": 0.8825324579995321
         },
         "mode": "lines",
         "showlegend": false,
         "type": "scatter",
         "x": [
          -0.5388111056619563,
          0.31483549546053435
         ],
         "y": [
          -0.7227877572322355,
          0.6450220109574093
         ]
        },
        {
         "hoverinfo": "none",
         "line": {
          "color": "red",
          "dash": "solid",
          "width": 0.9720779978602483
         },
         "mode": "lines",
         "showlegend": false,
         "type": "scatter",
         "x": [
          -0.5388111056619563,
          0.22794569881780796
         ],
         "y": [
          -0.7227877572322355,
          0.7528761859518494
         ]
        },
        {
         "hoverinfo": "none",
         "line": {
          "color": "blue",
          "dash": "solid",
          "width": 0.9720779978602483
         },
         "mode": "lines",
         "showlegend": false,
         "type": "scatter",
         "x": [
          -0.5388111056619563,
          -0.1772552017006071
         ],
         "y": [
          -0.7227877572322355,
          -0.8280370120428581
         ]
        },
        {
         "hoverinfo": "none",
         "line": {
          "color": "red",
          "dash": "solid",
          "width": 0.9720779978602483
         },
         "mode": "lines",
         "showlegend": false,
         "type": "scatter",
         "x": [
          -0.5388111056619563,
          0.4208359704787071
         ],
         "y": [
          -0.7227877572322355,
          0.9596350255519515
         ]
        },
        {
         "hoverinfo": "none",
         "line": {
          "color": "blue",
          "dash": "solid",
          "width": 0.9720779978602483
         },
         "mode": "lines",
         "showlegend": false,
         "type": "scatter",
         "x": [
          -0.5388111056619563,
          -0.5741767569530626
         ],
         "y": [
          -0.7227877572322355,
          -0.8682141210263504
         ]
        },
        {
         "hoverinfo": "none",
         "line": {
          "color": "blue",
          "dash": "solid",
          "width": 0.9995670008605249
         },
         "mode": "lines",
         "showlegend": false,
         "type": "scatter",
         "x": [
          -0.5388111056619563,
          -0.41077807479773726
         ],
         "y": [
          -0.7227877572322355,
          -0.9254893328494727
         ]
        },
        {
         "hoverinfo": "none",
         "line": {
          "color": "red",
          "dash": "solid",
          "width": 0.8826657844968544
         },
         "mode": "lines",
         "showlegend": false,
         "type": "scatter",
         "x": [
          -0.5388111056619563,
          0.5000922990652917
         ],
         "y": [
          -0.7227877572322355,
          0.7590579171666894
         ]
        },
        {
         "hoverinfo": "none",
         "line": {
          "color": "red",
          "dash": "solid",
          "width": 0.9999999999999999
         },
         "mode": "lines",
         "showlegend": false,
         "type": "scatter",
         "x": [
          -0.4943829541792492,
          0.31483549546053435
         ],
         "y": [
          -0.8313915700486094,
          0.6450220109574093
         ]
        },
        {
         "hoverinfo": "none",
         "line": {
          "color": "red",
          "dash": "solid",
          "width": 0.9677998078188585
         },
         "mode": "lines",
         "showlegend": false,
         "type": "scatter",
         "x": [
          -0.4943829541792492,
          0.22794569881780796
         ],
         "y": [
          -0.8313915700486094,
          0.7528761859518494
         ]
        },
        {
         "hoverinfo": "none",
         "line": {
          "color": "blue",
          "dash": "solid",
          "width": 0.9677998078188585
         },
         "mode": "lines",
         "showlegend": false,
         "type": "scatter",
         "x": [
          -0.4943829541792492,
          -0.1772552017006071
         ],
         "y": [
          -0.8313915700486094,
          -0.8280370120428581
         ]
        },
        {
         "hoverinfo": "none",
         "line": {
          "color": "red",
          "dash": "solid",
          "width": 0.9677998078188585
         },
         "mode": "lines",
         "showlegend": false,
         "type": "scatter",
         "x": [
          -0.4943829541792492,
          0.4208359704787071
         ],
         "y": [
          -0.8313915700486094,
          0.9596350255519515
         ]
        },
        {
         "hoverinfo": "none",
         "line": {
          "color": "blue",
          "dash": "solid",
          "width": 0.9677998078188585
         },
         "mode": "lines",
         "showlegend": false,
         "type": "scatter",
         "x": [
          -0.4943829541792492,
          -0.5741767569530626
         ],
         "y": [
          -0.8313915700486094,
          -0.8682141210263504
         ]
        },
        {
         "hoverinfo": "none",
         "line": {
          "color": "blue",
          "dash": "solid",
          "width": 0.8832168194618618
         },
         "mode": "lines",
         "showlegend": false,
         "type": "scatter",
         "x": [
          -0.4943829541792492,
          -0.41077807479773726
         ],
         "y": [
          -0.8313915700486094,
          -0.9254893328494727
         ]
        },
        {
         "hoverinfo": "none",
         "line": {
          "color": "red",
          "dash": "solid",
          "width": 0.9999926756361501
         },
         "mode": "lines",
         "showlegend": false,
         "type": "scatter",
         "x": [
          -0.4943829541792492,
          0.5000922990652917
         ],
         "y": [
          -0.8313915700486094,
          0.7590579171666894
         ]
        },
        {
         "hoverinfo": "none",
         "line": {
          "color": "blue",
          "dash": "solid",
          "width": 0.9677998078188585
         },
         "mode": "lines",
         "showlegend": false,
         "type": "scatter",
         "x": [
          0.31483549546053435,
          0.22794569881780796
         ],
         "y": [
          0.6450220109574093,
          0.7528761859518494
         ]
        },
        {
         "hoverinfo": "none",
         "line": {
          "color": "red",
          "dash": "solid",
          "width": 0.9677998078188585
         },
         "mode": "lines",
         "showlegend": false,
         "type": "scatter",
         "x": [
          0.31483549546053435,
          -0.1772552017006071
         ],
         "y": [
          0.6450220109574093,
          -0.8280370120428581
         ]
        },
        {
         "hoverinfo": "none",
         "line": {
          "color": "blue",
          "dash": "solid",
          "width": 0.9677998078188585
         },
         "mode": "lines",
         "showlegend": false,
         "type": "scatter",
         "x": [
          0.31483549546053435,
          0.4208359704787071
         ],
         "y": [
          0.6450220109574093,
          0.9596350255519515
         ]
        },
        {
         "hoverinfo": "none",
         "line": {
          "color": "red",
          "dash": "solid",
          "width": 0.9677998078188585
         },
         "mode": "lines",
         "showlegend": false,
         "type": "scatter",
         "x": [
          0.31483549546053435,
          -0.5741767569530626
         ],
         "y": [
          0.6450220109574093,
          -0.8682141210263504
         ]
        },
        {
         "hoverinfo": "none",
         "line": {
          "color": "red",
          "dash": "solid",
          "width": 0.8832168194618618
         },
         "mode": "lines",
         "showlegend": false,
         "type": "scatter",
         "x": [
          0.31483549546053435,
          -0.41077807479773726
         ],
         "y": [
          0.6450220109574093,
          -0.9254893328494727
         ]
        },
        {
         "hoverinfo": "none",
         "line": {
          "color": "blue",
          "dash": "solid",
          "width": 0.9999926756361501
         },
         "mode": "lines",
         "showlegend": false,
         "type": "scatter",
         "x": [
          0.31483549546053435,
          0.5000922990652917
         ],
         "y": [
          0.6450220109574093,
          0.7590579171666894
         ]
        },
        {
         "hoverinfo": "none",
         "line": {
          "color": "red",
          "dash": "solid",
          "width": 1
         },
         "mode": "lines",
         "showlegend": false,
         "type": "scatter",
         "x": [
          0.22794569881780796,
          -0.1772552017006071
         ],
         "y": [
          0.7528761859518494,
          -0.8280370120428581
         ]
        },
        {
         "hoverinfo": "none",
         "line": {
          "color": "blue",
          "dash": "solid",
          "width": 1
         },
         "mode": "lines",
         "showlegend": false,
         "type": "scatter",
         "x": [
          0.22794569881780796,
          0.4208359704787071
         ],
         "y": [
          0.7528761859518494,
          0.9596350255519515
         ]
        },
        {
         "hoverinfo": "none",
         "line": {
          "color": "red",
          "dash": "solid",
          "width": 1
         },
         "mode": "lines",
         "showlegend": false,
         "type": "scatter",
         "x": [
          0.22794569881780796,
          -0.5741767569530626
         ],
         "y": [
          0.7528761859518494,
          -0.8682141210263504
         ]
        },
        {
         "hoverinfo": "none",
         "line": {
          "color": "red",
          "dash": "solid",
          "width": 0.972800506654746
         },
         "mode": "lines",
         "showlegend": false,
         "type": "scatter",
         "x": [
          0.22794569881780796,
          -0.41077807479773726
         ],
         "y": [
          0.7528761859518494,
          -0.9254893328494727
         ]
        },
        {
         "hoverinfo": "none",
         "line": {
          "color": "blue",
          "dash": "solid",
          "width": 0.9677875130631328
         },
         "mode": "lines",
         "showlegend": false,
         "type": "scatter",
         "x": [
          0.22794569881780796,
          0.5000922990652917
         ],
         "y": [
          0.7528761859518494,
          0.7590579171666894
         ]
        },
        {
         "hoverinfo": "none",
         "line": {
          "color": "red",
          "dash": "solid",
          "width": 1
         },
         "mode": "lines",
         "showlegend": false,
         "type": "scatter",
         "x": [
          -0.1772552017006071,
          0.4208359704787071
         ],
         "y": [
          -0.8280370120428581,
          0.9596350255519515
         ]
        },
        {
         "hoverinfo": "none",
         "line": {
          "color": "blue",
          "dash": "solid",
          "width": 1
         },
         "mode": "lines",
         "showlegend": false,
         "type": "scatter",
         "x": [
          -0.1772552017006071,
          -0.5741767569530626
         ],
         "y": [
          -0.8280370120428581,
          -0.8682141210263504
         ]
        },
        {
         "hoverinfo": "none",
         "line": {
          "color": "blue",
          "dash": "solid",
          "width": 0.972800506654746
         },
         "mode": "lines",
         "showlegend": false,
         "type": "scatter",
         "x": [
          -0.1772552017006071,
          -0.41077807479773726
         ],
         "y": [
          -0.8280370120428581,
          -0.9254893328494727
         ]
        },
        {
         "hoverinfo": "none",
         "line": {
          "color": "red",
          "dash": "solid",
          "width": 0.9677875130631328
         },
         "mode": "lines",
         "showlegend": false,
         "type": "scatter",
         "x": [
          -0.1772552017006071,
          0.5000922990652917
         ],
         "y": [
          -0.8280370120428581,
          0.7590579171666894
         ]
        },
        {
         "hoverinfo": "none",
         "line": {
          "color": "red",
          "dash": "solid",
          "width": 1
         },
         "mode": "lines",
         "showlegend": false,
         "type": "scatter",
         "x": [
          0.4208359704787071,
          -0.5741767569530626
         ],
         "y": [
          0.9596350255519515,
          -0.8682141210263504
         ]
        },
        {
         "hoverinfo": "none",
         "line": {
          "color": "red",
          "dash": "solid",
          "width": 0.972800506654746
         },
         "mode": "lines",
         "showlegend": false,
         "type": "scatter",
         "x": [
          0.4208359704787071,
          -0.41077807479773726
         ],
         "y": [
          0.9596350255519515,
          -0.9254893328494727
         ]
        },
        {
         "hoverinfo": "none",
         "line": {
          "color": "blue",
          "dash": "solid",
          "width": 0.9677875130631328
         },
         "mode": "lines",
         "showlegend": false,
         "type": "scatter",
         "x": [
          0.4208359704787071,
          0.5000922990652917
         ],
         "y": [
          0.9596350255519515,
          0.7590579171666894
         ]
        },
        {
         "hoverinfo": "none",
         "line": {
          "color": "blue",
          "dash": "solid",
          "width": 0.972800506654746
         },
         "mode": "lines",
         "showlegend": false,
         "type": "scatter",
         "x": [
          -0.5741767569530626,
          -0.41077807479773726
         ],
         "y": [
          -0.8682141210263504,
          -0.9254893328494727
         ]
        },
        {
         "hoverinfo": "none",
         "line": {
          "color": "red",
          "dash": "solid",
          "width": 0.9677875130631328
         },
         "mode": "lines",
         "showlegend": false,
         "type": "scatter",
         "x": [
          -0.5741767569530626,
          0.5000922990652917
         ],
         "y": [
          -0.8682141210263504,
          0.7590579171666894
         ]
        },
        {
         "hoverinfo": "none",
         "line": {
          "color": "red",
          "dash": "solid",
          "width": 0.8832375408943012
         },
         "mode": "lines",
         "showlegend": false,
         "type": "scatter",
         "x": [
          -0.41077807479773726,
          0.5000922990652917
         ],
         "y": [
          -0.9254893328494727,
          0.7590579171666894
         ]
        },
        {
         "marker": {
          "color": "rgb(255, 127, 14)",
          "size": 10
         },
         "mode": "markers+text",
         "name": "multiple",
         "showlegend": true,
         "text": [
          "PFK",
          "FBA_rev",
          "FBA",
          "FBP"
         ],
         "textposition": "top center",
         "type": "scatter",
         "x": [
          0.005705964310069092,
          0.4208359704787071,
          -0.5741767569530626,
          0.09201889969124193
         ],
         "y": [
          -0.9380732306992571,
          0.9596350255519515,
          -0.8682141210263504,
          -0.7806603458604856
         ]
        },
        {
         "marker": {
          "color": "rgb(31, 119, 180)",
          "size": 10
         },
         "mode": "markers+text",
         "name": "glycolysis",
         "showlegend": true,
         "text": [
          "PGK_rev",
          "PGK",
          "PGM_rev",
          "PGM",
          "ALCD2x_rev",
          "ALCD2x",
          "PPCK",
          "PPS",
          "PYK",
          "ENO",
          "TPI_rev",
          "TPI",
          "GAPD"
         ],
         "textposition": "top center",
         "type": "scatter",
         "x": [
          -0.46169832489771706,
          0.2675303807307816,
          -0.3829403897662407,
          0.1324033448326439,
          0.8638378472950273,
          -0.9550319050655058,
          0.8678522151345281,
          -0.0903569187291427,
          -0.20397131968135393,
          -0.5388111056619563,
          0.22794569881780796,
          -0.1772552017006071,
          -0.41077807479773726
         ],
         "y": [
          -0.8941853167598769,
          0.8626302442859565,
          -0.5996134239746184,
          0.6852783717795955,
          0.3613285970102704,
          0.1460309325883585,
          0.03563285853715842,
          0.6520273073893061,
          0.625351885771671,
          -0.7227877572322355,
          0.7528761859518494,
          -0.8280370120428581,
          -0.9254893328494727
         ]
        },
        {
         "marker": {
          "color": "rgb(44, 160, 44)",
          "size": 10
         },
         "mode": "markers+text",
         "name": "ppp",
         "showlegend": true,
         "text": [
          "PGL",
          "RPE_rev",
          "RPE",
          "RPI_rev",
          "RPI",
          "TKT1_rev",
          "TKT1",
          "GND"
         ],
         "textposition": "top center",
         "type": "scatter",
         "x": [
          0.5126898402923556,
          -0.12626041984539826,
          0.03930546977757379,
          0.3346633782260831,
          -0.1640534328346748,
          -0.4943829541792492,
          0.31483549546053435,
          0.5000922990652917
         ],
         "y": [
          0.6866040239603529,
          -0.9377329212293088,
          0.8459317265101948,
          1,
          -0.6912220557376915,
          -0.8313915700486094,
          0.6450220109574093,
          0.7590579171666894
         ]
        }
       ],
       "layout": {
        "height": 800,
        "legend": {
         "title": {
          "text": "Groups"
         }
        },
        "template": {
         "data": {
          "bar": [
           {
            "error_x": {
             "color": "#2a3f5f"
            },
            "error_y": {
             "color": "#2a3f5f"
            },
            "marker": {
             "line": {
              "color": "#E5ECF6",
              "width": 0.5
             },
             "pattern": {
              "fillmode": "overlay",
              "size": 10,
              "solidity": 0.2
             }
            },
            "type": "bar"
           }
          ],
          "barpolar": [
           {
            "marker": {
             "line": {
              "color": "#E5ECF6",
              "width": 0.5
             },
             "pattern": {
              "fillmode": "overlay",
              "size": 10,
              "solidity": 0.2
             }
            },
            "type": "barpolar"
           }
          ],
          "carpet": [
           {
            "aaxis": {
             "endlinecolor": "#2a3f5f",
             "gridcolor": "white",
             "linecolor": "white",
             "minorgridcolor": "white",
             "startlinecolor": "#2a3f5f"
            },
            "baxis": {
             "endlinecolor": "#2a3f5f",
             "gridcolor": "white",
             "linecolor": "white",
             "minorgridcolor": "white",
             "startlinecolor": "#2a3f5f"
            },
            "type": "carpet"
           }
          ],
          "choropleth": [
           {
            "colorbar": {
             "outlinewidth": 0,
             "ticks": ""
            },
            "type": "choropleth"
           }
          ],
          "contour": [
           {
            "colorbar": {
             "outlinewidth": 0,
             "ticks": ""
            },
            "colorscale": [
             [
              0,
              "#0d0887"
             ],
             [
              0.1111111111111111,
              "#46039f"
             ],
             [
              0.2222222222222222,
              "#7201a8"
             ],
             [
              0.3333333333333333,
              "#9c179e"
             ],
             [
              0.4444444444444444,
              "#bd3786"
             ],
             [
              0.5555555555555556,
              "#d8576b"
             ],
             [
              0.6666666666666666,
              "#ed7953"
             ],
             [
              0.7777777777777778,
              "#fb9f3a"
             ],
             [
              0.8888888888888888,
              "#fdca26"
             ],
             [
              1,
              "#f0f921"
             ]
            ],
            "type": "contour"
           }
          ],
          "contourcarpet": [
           {
            "colorbar": {
             "outlinewidth": 0,
             "ticks": ""
            },
            "type": "contourcarpet"
           }
          ],
          "heatmap": [
           {
            "colorbar": {
             "outlinewidth": 0,
             "ticks": ""
            },
            "colorscale": [
             [
              0,
              "#0d0887"
             ],
             [
              0.1111111111111111,
              "#46039f"
             ],
             [
              0.2222222222222222,
              "#7201a8"
             ],
             [
              0.3333333333333333,
              "#9c179e"
             ],
             [
              0.4444444444444444,
              "#bd3786"
             ],
             [
              0.5555555555555556,
              "#d8576b"
             ],
             [
              0.6666666666666666,
              "#ed7953"
             ],
             [
              0.7777777777777778,
              "#fb9f3a"
             ],
             [
              0.8888888888888888,
              "#fdca26"
             ],
             [
              1,
              "#f0f921"
             ]
            ],
            "type": "heatmap"
           }
          ],
          "heatmapgl": [
           {
            "colorbar": {
             "outlinewidth": 0,
             "ticks": ""
            },
            "colorscale": [
             [
              0,
              "#0d0887"
             ],
             [
              0.1111111111111111,
              "#46039f"
             ],
             [
              0.2222222222222222,
              "#7201a8"
             ],
             [
              0.3333333333333333,
              "#9c179e"
             ],
             [
              0.4444444444444444,
              "#bd3786"
             ],
             [
              0.5555555555555556,
              "#d8576b"
             ],
             [
              0.6666666666666666,
              "#ed7953"
             ],
             [
              0.7777777777777778,
              "#fb9f3a"
             ],
             [
              0.8888888888888888,
              "#fdca26"
             ],
             [
              1,
              "#f0f921"
             ]
            ],
            "type": "heatmapgl"
           }
          ],
          "histogram": [
           {
            "marker": {
             "pattern": {
              "fillmode": "overlay",
              "size": 10,
              "solidity": 0.2
             }
            },
            "type": "histogram"
           }
          ],
          "histogram2d": [
           {
            "colorbar": {
             "outlinewidth": 0,
             "ticks": ""
            },
            "colorscale": [
             [
              0,
              "#0d0887"
             ],
             [
              0.1111111111111111,
              "#46039f"
             ],
             [
              0.2222222222222222,
              "#7201a8"
             ],
             [
              0.3333333333333333,
              "#9c179e"
             ],
             [
              0.4444444444444444,
              "#bd3786"
             ],
             [
              0.5555555555555556,
              "#d8576b"
             ],
             [
              0.6666666666666666,
              "#ed7953"
             ],
             [
              0.7777777777777778,
              "#fb9f3a"
             ],
             [
              0.8888888888888888,
              "#fdca26"
             ],
             [
              1,
              "#f0f921"
             ]
            ],
            "type": "histogram2d"
           }
          ],
          "histogram2dcontour": [
           {
            "colorbar": {
             "outlinewidth": 0,
             "ticks": ""
            },
            "colorscale": [
             [
              0,
              "#0d0887"
             ],
             [
              0.1111111111111111,
              "#46039f"
             ],
             [
              0.2222222222222222,
              "#7201a8"
             ],
             [
              0.3333333333333333,
              "#9c179e"
             ],
             [
              0.4444444444444444,
              "#bd3786"
             ],
             [
              0.5555555555555556,
              "#d8576b"
             ],
             [
              0.6666666666666666,
              "#ed7953"
             ],
             [
              0.7777777777777778,
              "#fb9f3a"
             ],
             [
              0.8888888888888888,
              "#fdca26"
             ],
             [
              1,
              "#f0f921"
             ]
            ],
            "type": "histogram2dcontour"
           }
          ],
          "mesh3d": [
           {
            "colorbar": {
             "outlinewidth": 0,
             "ticks": ""
            },
            "type": "mesh3d"
           }
          ],
          "parcoords": [
           {
            "line": {
             "colorbar": {
              "outlinewidth": 0,
              "ticks": ""
             }
            },
            "type": "parcoords"
           }
          ],
          "pie": [
           {
            "automargin": true,
            "type": "pie"
           }
          ],
          "scatter": [
           {
            "fillpattern": {
             "fillmode": "overlay",
             "size": 10,
             "solidity": 0.2
            },
            "type": "scatter"
           }
          ],
          "scatter3d": [
           {
            "line": {
             "colorbar": {
              "outlinewidth": 0,
              "ticks": ""
             }
            },
            "marker": {
             "colorbar": {
              "outlinewidth": 0,
              "ticks": ""
             }
            },
            "type": "scatter3d"
           }
          ],
          "scattercarpet": [
           {
            "marker": {
             "colorbar": {
              "outlinewidth": 0,
              "ticks": ""
             }
            },
            "type": "scattercarpet"
           }
          ],
          "scattergeo": [
           {
            "marker": {
             "colorbar": {
              "outlinewidth": 0,
              "ticks": ""
             }
            },
            "type": "scattergeo"
           }
          ],
          "scattergl": [
           {
            "marker": {
             "colorbar": {
              "outlinewidth": 0,
              "ticks": ""
             }
            },
            "type": "scattergl"
           }
          ],
          "scattermapbox": [
           {
            "marker": {
             "colorbar": {
              "outlinewidth": 0,
              "ticks": ""
             }
            },
            "type": "scattermapbox"
           }
          ],
          "scatterpolar": [
           {
            "marker": {
             "colorbar": {
              "outlinewidth": 0,
              "ticks": ""
             }
            },
            "type": "scatterpolar"
           }
          ],
          "scatterpolargl": [
           {
            "marker": {
             "colorbar": {
              "outlinewidth": 0,
              "ticks": ""
             }
            },
            "type": "scatterpolargl"
           }
          ],
          "scatterternary": [
           {
            "marker": {
             "colorbar": {
              "outlinewidth": 0,
              "ticks": ""
             }
            },
            "type": "scatterternary"
           }
          ],
          "surface": [
           {
            "colorbar": {
             "outlinewidth": 0,
             "ticks": ""
            },
            "colorscale": [
             [
              0,
              "#0d0887"
             ],
             [
              0.1111111111111111,
              "#46039f"
             ],
             [
              0.2222222222222222,
              "#7201a8"
             ],
             [
              0.3333333333333333,
              "#9c179e"
             ],
             [
              0.4444444444444444,
              "#bd3786"
             ],
             [
              0.5555555555555556,
              "#d8576b"
             ],
             [
              0.6666666666666666,
              "#ed7953"
             ],
             [
              0.7777777777777778,
              "#fb9f3a"
             ],
             [
              0.8888888888888888,
              "#fdca26"
             ],
             [
              1,
              "#f0f921"
             ]
            ],
            "type": "surface"
           }
          ],
          "table": [
           {
            "cells": {
             "fill": {
              "color": "#EBF0F8"
             },
             "line": {
              "color": "white"
             }
            },
            "header": {
             "fill": {
              "color": "#C8D4E3"
             },
             "line": {
              "color": "white"
             }
            },
            "type": "table"
           }
          ]
         },
         "layout": {
          "annotationdefaults": {
           "arrowcolor": "#2a3f5f",
           "arrowhead": 0,
           "arrowwidth": 1
          },
          "autotypenumbers": "strict",
          "coloraxis": {
           "colorbar": {
            "outlinewidth": 0,
            "ticks": ""
           }
          },
          "colorscale": {
           "diverging": [
            [
             0,
             "#8e0152"
            ],
            [
             0.1,
             "#c51b7d"
            ],
            [
             0.2,
             "#de77ae"
            ],
            [
             0.3,
             "#f1b6da"
            ],
            [
             0.4,
             "#fde0ef"
            ],
            [
             0.5,
             "#f7f7f7"
            ],
            [
             0.6,
             "#e6f5d0"
            ],
            [
             0.7,
             "#b8e186"
            ],
            [
             0.8,
             "#7fbc41"
            ],
            [
             0.9,
             "#4d9221"
            ],
            [
             1,
             "#276419"
            ]
           ],
           "sequential": [
            [
             0,
             "#0d0887"
            ],
            [
             0.1111111111111111,
             "#46039f"
            ],
            [
             0.2222222222222222,
             "#7201a8"
            ],
            [
             0.3333333333333333,
             "#9c179e"
            ],
            [
             0.4444444444444444,
             "#bd3786"
            ],
            [
             0.5555555555555556,
             "#d8576b"
            ],
            [
             0.6666666666666666,
             "#ed7953"
            ],
            [
             0.7777777777777778,
             "#fb9f3a"
            ],
            [
             0.8888888888888888,
             "#fdca26"
            ],
            [
             1,
             "#f0f921"
            ]
           ],
           "sequentialminus": [
            [
             0,
             "#0d0887"
            ],
            [
             0.1111111111111111,
             "#46039f"
            ],
            [
             0.2222222222222222,
             "#7201a8"
            ],
            [
             0.3333333333333333,
             "#9c179e"
            ],
            [
             0.4444444444444444,
             "#bd3786"
            ],
            [
             0.5555555555555556,
             "#d8576b"
            ],
            [
             0.6666666666666666,
             "#ed7953"
            ],
            [
             0.7777777777777778,
             "#fb9f3a"
            ],
            [
             0.8888888888888888,
             "#fdca26"
            ],
            [
             1,
             "#f0f921"
            ]
           ]
          },
          "colorway": [
           "#636efa",
           "#EF553B",
           "#00cc96",
           "#ab63fa",
           "#FFA15A",
           "#19d3f3",
           "#FF6692",
           "#B6E880",
           "#FF97FF",
           "#FECB52"
          ],
          "font": {
           "color": "#2a3f5f"
          },
          "geo": {
           "bgcolor": "white",
           "lakecolor": "white",
           "landcolor": "#E5ECF6",
           "showlakes": true,
           "showland": true,
           "subunitcolor": "white"
          },
          "hoverlabel": {
           "align": "left"
          },
          "hovermode": "closest",
          "mapbox": {
           "style": "light"
          },
          "paper_bgcolor": "white",
          "plot_bgcolor": "#E5ECF6",
          "polar": {
           "angularaxis": {
            "gridcolor": "white",
            "linecolor": "white",
            "ticks": ""
           },
           "bgcolor": "#E5ECF6",
           "radialaxis": {
            "gridcolor": "white",
            "linecolor": "white",
            "ticks": ""
           }
          },
          "scene": {
           "xaxis": {
            "backgroundcolor": "#E5ECF6",
            "gridcolor": "white",
            "gridwidth": 2,
            "linecolor": "white",
            "showbackground": true,
            "ticks": "",
            "zerolinecolor": "white"
           },
           "yaxis": {
            "backgroundcolor": "#E5ECF6",
            "gridcolor": "white",
            "gridwidth": 2,
            "linecolor": "white",
            "showbackground": true,
            "ticks": "",
            "zerolinecolor": "white"
           },
           "zaxis": {
            "backgroundcolor": "#E5ECF6",
            "gridcolor": "white",
            "gridwidth": 2,
            "linecolor": "white",
            "showbackground": true,
            "ticks": "",
            "zerolinecolor": "white"
           }
          },
          "shapedefaults": {
           "line": {
            "color": "#2a3f5f"
           }
          },
          "ternary": {
           "aaxis": {
            "gridcolor": "white",
            "linecolor": "white",
            "ticks": ""
           },
           "baxis": {
            "gridcolor": "white",
            "linecolor": "white",
            "ticks": ""
           },
           "bgcolor": "#E5ECF6",
           "caxis": {
            "gridcolor": "white",
            "linecolor": "white",
            "ticks": ""
           }
          },
          "title": {
           "x": 0.05
          },
          "xaxis": {
           "automargin": true,
           "gridcolor": "white",
           "linecolor": "white",
           "ticks": "",
           "title": {
            "standoff": 15
           },
           "zerolinecolor": "white",
           "zerolinewidth": 2
          },
          "yaxis": {
           "automargin": true,
           "gridcolor": "white",
           "linecolor": "white",
           "ticks": "",
           "title": {
            "standoff": 15
           },
           "zerolinecolor": "white",
           "zerolinewidth": 2
          }
         }
        },
        "width": 800
       }
      }
     },
     "metadata": {},
     "output_type": "display_data"
    }
   ],
   "source": [
    "\n",
    "\n",
    "G100, pos100 = construct_graph(linear_correlation_matrix_100,\n",
    "                         non_linear_correlation_matrix_100,\n",
    "                         reactions=extended_reactions_100,\n",
    "                         remove_unconnected_nodes=False,\n",
    "                         correction=False,\n",
    "                         group_map=group_map_100)\n",
    "\n",
    "plot_graph(G100, pos100)\n",
    "\n",
    "\n",
    "\n",
    "G0, pos0= construct_graph(linear_correlation_matrix_0, \n",
    "                         non_linear_correlation_matrix_0, \n",
    "                         reactions=extended_reactions_0,\n",
    "                         remove_unconnected_nodes=False,\n",
    "                         correction=False,\n",
    "                         group_map=group_map_0)\n",
    "\n",
    "plot_graph(G0, pos0)\n"
   ]
  },
  {
   "cell_type": "markdown",
   "id": "fe520003",
   "metadata": {},
   "source": [
    "### Metrics from graph analysis that compare (a) graphs occured from different conditions (modularity) and (b) nodes centralities/importance in the network"
   ]
  },
  {
   "cell_type": "code",
   "execution_count": null,
   "id": "e2ab5985",
   "metadata": {},
   "outputs": [
    {
     "name": "stdout",
     "output_type": "stream",
     "text": [
      "3.3306690738754696e-16 7.771561172376096e-16\n",
      "Increased Modularity: Graph_1\n",
      "4.440892098500626e-16\n",
      "[('TPI_rev', 0.9353825501120967), ('TKT1_rev', 0.7292430853744388), ('PGK_rev', 0.37264723995109406), ('TKT1', 0.2590160992315603), ('G6PDH2r', 0.18175008356712108), ('FBA_rev', 0.17703198737005366), ('PGK', 0.14830245727527674), ('PGI_rev', 0.07072765481081911), ('TKT2_rev', 0.05756884585251726), ('RPE_rev', 0.026039870890885088), ('TALA_rev', 0.018887850336126197), ('TKT2', 0.0021842304679018675), ('PFK', 0.0), ('PYK', 0.0), ('PGL', -0.0014629303740875954), ('PGM', -0.021915529564652363), ('ENO', -0.021915529564652363), ('PGM_rev', -0.021915529564652363), ('GND', -0.045623164228902724), ('RPE', -0.046303209031142205), ('FBA', -0.12470711307258056), ('TPI', -0.126448388147699), ('RPI', -0.14376779801428896), ('PGI', -0.22603647774278707), ('TALA', -0.24396494355054552), ('GAPD', -0.2470002258120118), ('RPI_rev', -0.43493289023201287)]\n",
      "[('PGI_rev', 18.852835539822582), ('TKT1_rev', 18.852803380898973), ('TALA_rev', 18.852803380898973), ('RPE_rev', 18.85106172423729), ('TKT2_rev', 18.848935186572), ('TPI_rev', 17.799504876711346), ('FBA_rev', 17.799504876711346), ('TKT1', 0.7071740162602893), ('TALA', 0.7071740162602893), ('PGI', 0.7071644718451857), ('GND', 0.7056967720738072), ('G6PDH2r', 0.7056967720738072), ('PGL', 0.7056967720738072), ('RPE', 0.7054851159936995), ('TKT2', 0.7034179304956432), ('RPI_rev', 0.6717479380440885), ('RPI', 0.6717479380440885), ('FBA', -0.34633745653129466), ('TPI', -0.34633745653129466), ('PYK', -1.145713538772753), ('PFK', -3.6158147455618437), ('PGK', -4.239998288528996), ('PGK_rev', -4.239998288528996), ('GAPD', -4.239998288529025), ('PGM', -4.2941684336311035), ('ENO', -4.2941684336311035), ('PGM_rev', -4.2941684336311035)]\n",
      "[('PGI_rev', 23.467920689738882), ('TPI_rev', 23.43482800638983), ('FBA_rev', 23.43482800638983), ('TKT1_rev', 23.177574668498426), ('TALA_rev', 23.177574668498423), ('RPE_rev', 23.176300394430918), ('TKT2_rev', 23.17468017924027), ('PGI', 5.515994846589919), ('FBA', 5.482233104177908), ('TPI', 5.482233104177908), ('PGL', 5.226698658153843), ('GND', 5.22669865815384), ('G6PDH2r', 5.22669865815384), ('RPI_rev', 5.226645585087102), ('RPI', 5.226645585087102), ('TKT1', 5.225940774358637), ('TALA', 5.225940774358634), ('RPE', 5.224743013439543), ('TKT2', 5.223289871998517), ('PGK', 4.199826782129097), ('GAPD', 4.199826782129097), ('PGK_rev', 4.199826782129097), ('PGM', 4.178445954066749), ('ENO', 4.178445954066749), ('PGM_rev', 4.178445954066749), ('PYK', -2.4104177951434727), ('PFK', -12.044039232053013)]\n"
     ]
    }
   ],
   "source": [
    "\n",
    "\n",
    "from graphs_utils import compare_network_modularities, compare_betweenness_centralities, compare_closeness_centralities, weighted_node_centrality\n",
    "\n",
    "\n",
    "modularities_diff = compare_network_modularities(G100, G0)\n",
    "print(modularities_diff)\n",
    "\n",
    "\n",
    "sorted_nodes = compare_betweenness_centralities(G100, G0)\n",
    "print(sorted_nodes)\n",
    "\n",
    "\n",
    "sorted_nodes_2 = compare_closeness_centralities(G100, G0)\n",
    "print(sorted_nodes_2)\n",
    "\n",
    "\n",
    "sorted_nodes_3 = weighted_node_centrality(G100, G0)\n",
    "print(sorted_nodes_3)\n",
    "\n",
    "\n"
   ]
  }
 ],
 "metadata": {
  "kernelspec": {
   "display_name": "Python 3",
   "language": "python",
   "name": "python3"
  },
  "language_info": {
   "codemirror_mode": {
    "name": "ipython",
    "version": 3
   },
   "file_extension": ".py",
   "mimetype": "text/x-python",
   "name": "python",
   "nbconvert_exporter": "python",
   "pygments_lexer": "ipython3",
   "version": "3.10.12"
  }
 },
 "nbformat": 4,
 "nbformat_minor": 5
}
