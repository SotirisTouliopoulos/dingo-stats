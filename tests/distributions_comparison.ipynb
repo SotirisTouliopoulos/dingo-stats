{
 "cells": [
  {
   "cell_type": "markdown",
   "id": "6ab261c4",
   "metadata": {},
   "source": [
    "### Load libraries and functions"
   ]
  },
  {
   "cell_type": "code",
   "execution_count": 1,
   "id": "2eab24b2",
   "metadata": {},
   "outputs": [],
   "source": [
    "\n",
    "import sys\n",
    "sys.path.insert(0, '../src/')\n",
    "\n",
    "from loopless_utils import loops_enumeration_from_fva\n",
    "\n",
    "from load_modify_sample_utils import load_model, get_objective_functions, get_reaction_bounds, modify_model\n",
    "from load_modify_sample_utils import sample_optgp\n",
    "\n",
    "from distributions_comparison_utils import significantly_altered_reactions, plot_volcano, dictionary_reaction_to_all_pathways \n",
    "from distributions_comparison_utils import plot_pathway_enrichment, hypergeometric_test_pathway_enrichment\n",
    "\n",
    "from pathways_utils import dictionary_reaction_id_to_kegg_id, get_kegg_pathways_from_reaction_ids\n",
    "from pathways_utils import map_model_to_kegg_reactions_dictionary, read_json_file, fill_missing_kegg_ids_in_initial_dictionary\n"
   ]
  },
  {
   "cell_type": "markdown",
   "id": "b0d623fc",
   "metadata": {},
   "source": [
    "### Load and inspect model (for more info see `load_modify_samply.ipynb`)"
   ]
  },
  {
   "cell_type": "code",
   "execution_count": 2,
   "id": "27c00785",
   "metadata": {},
   "outputs": [
    {
     "name": "stdout",
     "output_type": "stream",
     "text": [
      "Set parameter Username\n",
      "Set parameter LicenseID to value 2642044\n",
      "Academic license - for non-commercial use only - expires 2026-03-25\n",
      "['BIOMASS_Ecoli_core_w_GAM']\n",
      "{'PFK': (0.0, 1000.0), 'PFL': (0.0, 1000.0), 'PGI': (-1000.0, 1000.0), 'PGK': (-1000.0, 1000.0), 'PGL': (0.0, 1000.0), 'ACALD': (-1000.0, 1000.0), 'AKGt2r': (-1000.0, 1000.0), 'PGM': (-1000.0, 1000.0), 'PIt2r': (-1000.0, 1000.0), 'ALCD2x': (-1000.0, 1000.0), 'ACALDt': (-1000.0, 1000.0), 'ACKr': (-1000.0, 1000.0), 'PPC': (0.0, 1000.0), 'ACONTa': (-1000.0, 1000.0), 'ACONTb': (-1000.0, 1000.0), 'ATPM': (8.39, 1000.0), 'PPCK': (0.0, 1000.0), 'ACt2r': (-1000.0, 1000.0), 'PPS': (0.0, 1000.0), 'ADK1': (-1000.0, 1000.0), 'AKGDH': (0.0, 1000.0), 'ATPS4r': (-1000.0, 1000.0), 'PTAr': (-1000.0, 1000.0), 'PYK': (0.0, 1000.0), 'BIOMASS_Ecoli_core_w_GAM': (0.0, 1000.0), 'PYRt2': (-1000.0, 1000.0), 'CO2t': (-1000.0, 1000.0), 'RPE': (-1000.0, 1000.0), 'CS': (0.0, 1000.0), 'RPI': (-1000.0, 1000.0), 'SUCCt2_2': (0.0, 1000.0), 'CYTBD': (0.0, 1000.0), 'D_LACt2': (-1000.0, 1000.0), 'ENO': (-1000.0, 1000.0), 'SUCCt3': (0.0, 1000.0), 'ETOHt2r': (-1000.0, 1000.0), 'SUCDi': (0.0, 1000.0), 'SUCOAS': (-1000.0, 1000.0), 'TALA': (-1000.0, 1000.0), 'THD2': (0.0, 1000.0), 'TKT1': (-1000.0, 1000.0), 'TKT2': (-1000.0, 1000.0), 'TPI': (-1000.0, 1000.0), 'EX_ac_e': (0.0, 1000.0), 'EX_acald_e': (0.0, 1000.0), 'EX_akg_e': (0.0, 1000.0), 'EX_co2_e': (-1000.0, 1000.0), 'EX_etoh_e': (0.0, 1000.0), 'EX_for_e': (0.0, 1000.0), 'EX_fru_e': (0.0, 1000.0), 'EX_fum_e': (0.0, 1000.0), 'EX_glc__D_e': (-10.0, 1000.0), 'EX_gln__L_e': (0.0, 1000.0), 'EX_glu__L_e': (0.0, 1000.0), 'EX_h_e': (-1000.0, 1000.0), 'EX_h2o_e': (-1000.0, 1000.0), 'EX_lac__D_e': (0.0, 1000.0), 'EX_mal__L_e': (0.0, 1000.0), 'EX_nh4_e': (-1000.0, 1000.0), 'EX_o2_e': (-1000.0, 1000.0), 'EX_pi_e': (-1000.0, 1000.0), 'EX_pyr_e': (0.0, 1000.0), 'EX_succ_e': (0.0, 1000.0), 'FBA': (-1000.0, 1000.0), 'FBP': (0.0, 1000.0), 'FORt2': (0.0, 1000.0), 'FORt': (-1000.0, 0.0), 'FRD7': (0.0, 1000.0), 'FRUpts2': (0.0, 1000.0), 'FUM': (-1000.0, 1000.0), 'FUMt2_2': (0.0, 1000.0), 'G6PDH2r': (-1000.0, 1000.0), 'GAPD': (-1000.0, 1000.0), 'GLCpts': (0.0, 1000.0), 'GLNS': (0.0, 1000.0), 'GLNabc': (0.0, 1000.0), 'GLUDy': (-1000.0, 1000.0), 'GLUN': (0.0, 1000.0), 'GLUSy': (0.0, 1000.0), 'GLUt2r': (-1000.0, 1000.0), 'GND': (0.0, 1000.0), 'H2Ot': (-1000.0, 1000.0), 'ICDHyr': (-1000.0, 1000.0), 'ICL': (0.0, 1000.0), 'LDH_D': (-1000.0, 1000.0), 'MALS': (0.0, 1000.0), 'MALt2_2': (0.0, 1000.0), 'MDH': (-1000.0, 1000.0), 'ME1': (0.0, 1000.0), 'ME2': (0.0, 1000.0), 'NADH16': (0.0, 1000.0), 'NADTRHD': (0.0, 1000.0), 'NH4t': (-1000.0, 1000.0), 'O2t': (-1000.0, 1000.0), 'PDH': (0.0, 1000.0)}\n"
     ]
    }
   ],
   "source": [
    "\n",
    "ec_cobra_model, ec_cobra_reactions, ec_cobra_reaction_ids,  = load_model(\"../ext_data/models/e_coli_core.xml\")\n",
    "\n",
    "objective_functions = get_objective_functions(ec_cobra_model)\n",
    "print(objective_functions)\n",
    "\n",
    "default_reaction_bounds = get_reaction_bounds(ec_cobra_model)\n",
    "print(default_reaction_bounds)\n"
   ]
  },
  {
   "cell_type": "markdown",
   "id": "0c24f070",
   "metadata": {},
   "source": [
    "### Modify the model to create two different conditions (for more info see `load_modify_samply.ipynb`)"
   ]
  },
  {
   "cell_type": "code",
   "execution_count": 3,
   "id": "a09e01ce",
   "metadata": {},
   "outputs": [
    {
     "name": "stdout",
     "output_type": "stream",
     "text": [
      "Read LP format model from file /tmp/tmpdnrl67ek.lp\n",
      "Reading time = 0.00 seconds\n",
      ": 72 rows, 190 columns, 720 nonzeros\n",
      "['BIOMASS_Ecoli_core_w_GAM']\n",
      "(0.872922, 1000)\n",
      "Read LP format model from file /tmp/tmp4ezbatcq.lp\n",
      "Reading time = 0.00 seconds\n",
      ": 72 rows, 190 columns, 720 nonzeros\n",
      "['BIOMASS_Ecoli_core_w_GAM']\n",
      "(0.0, 1000)\n"
     ]
    }
   ],
   "source": [
    "\n",
    "# Set optimal percentage to 100\n",
    "ec_cobra_model_condition_100 = modify_model(\n",
    "    cobra_model         = ec_cobra_model,\n",
    "    objective_function  = \"BIOMASS_Ecoli_core_w_GAM\",\n",
    "    optimal_percentage  = 100,\n",
    "    objective_direction = \"max\"\n",
    ")\n",
    "\n",
    "updated_objective_functions = get_objective_functions(ec_cobra_model_condition_100)\n",
    "print(updated_objective_functions)\n",
    "\n",
    "updated_reaction_bounds = get_reaction_bounds(ec_cobra_model_condition_100)\n",
    "print(updated_reaction_bounds.get(\"BIOMASS_Ecoli_core_w_GAM\"))\n",
    "\n",
    "# -----------\n",
    "\n",
    "# Set optimal percentage to 0\n",
    "ec_cobra_model_condition_0 = modify_model(\n",
    "    cobra_model         = ec_cobra_model,\n",
    "    objective_function  = \"BIOMASS_Ecoli_core_w_GAM\",\n",
    "    optimal_percentage  = 0,\n",
    "    objective_direction = \"max\"\n",
    ")\n",
    "\n",
    "updated_objective_functions = get_objective_functions(ec_cobra_model_condition_0)\n",
    "print(updated_objective_functions)\n",
    "\n",
    "updated_reaction_bounds = get_reaction_bounds(ec_cobra_model_condition_0)\n",
    "print(updated_reaction_bounds.get(\"BIOMASS_Ecoli_core_w_GAM\"))\n"
   ]
  },
  {
   "cell_type": "markdown",
   "id": "3b43b746",
   "metadata": {},
   "source": [
    "### Identify loopy reactions in model (for more info see `loopless.ipynb`)"
   ]
  },
  {
   "cell_type": "code",
   "execution_count": null,
   "id": "58000c5d",
   "metadata": {},
   "outputs": [
    {
     "name": "stdout",
     "output_type": "stream",
     "text": [
      "[('SUCDi', 994.7794007141792), ('FRD7', 995.0539767141795)]\n",
      "[('SUCDi', 980.0), ('FRD7', 1000.0)]\n"
     ]
    }
   ],
   "source": [
    "\n",
    "loopy_reactions_fva_100 = loops_enumeration_from_fva(ec_cobra_model_condition_100, fraction_of_optimum=0.999)\n",
    "print(loopy_reactions_fva_100)\n",
    "\n",
    "loopy_reactions_100 = [item[0] for item in loopy_reactions_fva_100]\n",
    "print(loopy_reactions_100)\n",
    "\n",
    "\n",
    "loopy_reactions_fva_0 = loops_enumeration_from_fva(ec_cobra_model_condition_0, fraction_of_optimum=0)\n",
    "print(loopy_reactions_fva_0)\n",
    "\n",
    "loopy_reactions_0 = [item[0] for item in loopy_reactions_fva_0]\n",
    "print(loopy_reactions_0)\n"
   ]
  },
  {
   "cell_type": "markdown",
   "id": "44fac9f7",
   "metadata": {},
   "source": [
    "### Remove loopy reactions from the 2 models created above to reduce the thermodynamically infeasible solutions from sampling"
   ]
  },
  {
   "cell_type": "code",
   "execution_count": 5,
   "id": "5389055e",
   "metadata": {},
   "outputs": [],
   "source": [
    "\n",
    "ec_cobra_model_condition_100.reactions.get_by_id(\"FRD7\").bounds = (0, 0)\n",
    "ec_cobra_model_condition_0.reactions.get_by_id(\"FRD7\").bounds = (0, 0)\n"
   ]
  },
  {
   "cell_type": "markdown",
   "id": "81286066",
   "metadata": {},
   "source": [
    "### Perform sampling on the modified models with the loopy reaction \"FRD7\" removed. (for more info see `load_modify_samply.ipynb`)"
   ]
  },
  {
   "cell_type": "code",
   "execution_count": 6,
   "id": "b9ee2c5c",
   "metadata": {},
   "outputs": [
    {
     "name": "stdout",
     "output_type": "stream",
     "text": [
      "Read LP format model from file /tmp/tmpuzst9nbq.lp\n",
      "Reading time = 0.00 seconds\n",
      ": 72 rows, 190 columns, 720 nonzeros\n"
     ]
    },
    {
     "name": "stdout",
     "output_type": "stream",
     "text": [
      "Read LP format model from file /tmp/tmpmbtyrfpm.lp\n",
      "Reading time = 0.00 seconds\n",
      ": 72 rows, 190 columns, 720 nonzeros\n"
     ]
    }
   ],
   "source": [
    "\n",
    "samples_optgp_condition_100 = sample_optgp(ec_cobra_model_condition_100, \n",
    "                                           n_samples = 3000, \n",
    "                                           thinning=100, \n",
    "                                           reaction_in_rows = True)\n",
    "\n",
    "\n",
    "samples_optgp_condition_0 = sample_optgp(ec_cobra_model_condition_0, \n",
    "                                         n_samples = 3000, \n",
    "                                         thinning=100, \n",
    "                                         reaction_in_rows = True)\n"
   ]
  },
  {
   "cell_type": "markdown",
   "id": "2ee92bef",
   "metadata": {},
   "source": [
    "### Map KEGG pathway information to reactions BiGG ids  \n",
    "\n",
    "Functions that are used to map information from KEGG pathways to the model reactions (BiGG/SEED ids). For more info see `pathways.ipynb`"
   ]
  },
  {
   "cell_type": "code",
   "execution_count": 7,
   "id": "e83d625f",
   "metadata": {},
   "outputs": [],
   "source": [
    "\n",
    "initial_bigg_to_kegg_dictionary = map_model_to_kegg_reactions_dictionary(ec_cobra_model)\n",
    "\n",
    "reactions_json, reactions_pandas = read_json_file(\"../ext_data/reactions/reactions.json\")\n",
    "\n",
    "bigg_to_kegg, seed_to_kegg = dictionary_reaction_id_to_kegg_id(reactions_pandas)\n",
    "\n",
    "final_bigg_to_kegg_dictionary = fill_missing_kegg_ids_in_initial_dictionary(initial_bigg_to_kegg_dictionary, \n",
    "                                                                            modeltype=\"BiGG\", \n",
    "                                                                            bigg_to_kegg=bigg_to_kegg,\n",
    "                                                                            seed_to_kegg=seed_to_kegg)\n",
    "\n",
    "df_kegg_pathways = get_kegg_pathways_from_reaction_ids(final_bigg_to_kegg_dictionary)\n"
   ]
  },
  {
   "cell_type": "markdown",
   "id": "200ad220",
   "metadata": {},
   "source": [
    "### Compare flux distributions of reactions across conditions with a Kolmogorov–Smirnov (KS) non-parametric test\n",
    "\n",
    "The `significantly_altered_reactions` function takes as input at least 2 flux sampling conditions to compare and identifies significantly altered reactions.\n",
    "\n",
    "It performs a Kolmogorov-Smirnov (KS) non-parametric test and corrects p-value for multiple comparisons.\n",
    "\n",
    "It additionally calculates a fold change that together with the p-value classifies reactions as significantly altered or not.\n",
    "\n",
    "It returns 2 lists one with the significantly changed (`significant_diff_reactions`) and one with the not significantly changed (`not_significant_diff_reactions`) reactions. Also, 2 dicitonaries mapping reaction IDs to corrected p_values (`pval_dict`) and fold change values (`fold_change_dict`)"
   ]
  },
  {
   "cell_type": "code",
   "execution_count": 8,
   "id": "896413db",
   "metadata": {},
   "outputs": [
    {
     "name": "stdout",
     "output_type": "stream",
     "text": [
      "['PFL', 'ACALD', 'AKGt2r', 'PIt2r', 'ALCD2x', 'ACALDt', 'ACKr', 'PPC', 'PPCK', 'ACt2r', 'PPS', 'ADK1', 'PTAr', 'PYK', 'BIOMASS_Ecoli_core_w_GAM', 'PYRt2', 'SUCCt2_2', 'D_LACt2', 'SUCCt3', 'ETOHt2r', 'THD2', 'EX_ac_e', 'EX_acald_e', 'EX_akg_e', 'EX_etoh_e', 'EX_for_e', 'EX_glu__L_e', 'EX_lac__D_e', 'EX_nh4_e', 'EX_pi_e', 'EX_pyr_e', 'EX_succ_e', 'FBP', 'FORt2', 'FORt', 'GLNS', 'GLUDy', 'GLUN', 'GLUSy', 'GLUt2r', 'ICL', 'LDH_D', 'MALS', 'MDH', 'ME1', 'ME2', 'NADTRHD', 'NH4t']\n",
      "48\n"
     ]
    }
   ],
   "source": [
    "\n",
    "conditions = [samples_optgp_condition_100, samples_optgp_condition_0]\n",
    "\n",
    "selected_comparisons = [(0, 1)]\n",
    "\n",
    "(significant_diff_reactions,\n",
    " not_significant_diff_reactions,\n",
    " pval_dict,\n",
    " fold_change_dict) = significantly_altered_reactions(conditions, \n",
    "                                                    selected_comparisons, \n",
    "                                                    cobra_model=ec_cobra_model,\n",
    "                                                    fold_change_cutoff = 0.6,\n",
    "                                                    std_cutoff = 1e-3)\n",
    " \n",
    "print(significant_diff_reactions)\n",
    "print(len(significant_diff_reactions))\n"
   ]
  },
  {
   "cell_type": "markdown",
   "id": "9330618d",
   "metadata": {},
   "source": [
    "### Volcano plot of the differential flux analysis results\n",
    "\n",
    "Volcano plot with Fold Change on the x-axis and -log10(p_value) on the y-axis. Users can provide a reactions list in the `annotate` parameter, to show reaction IDs on the plot. Also, lines showing the significance cutoffs may optionally be added, when providing `p_value_cutoff`, `fold_change_cutoff` and `show_cutoff_lines`."
   ]
  },
  {
   "cell_type": "code",
   "execution_count": 9,
   "id": "7dda0dfa",
   "metadata": {},
   "outputs": [
    {
     "data": {
      "application/vnd.plotly.v1+json": {
       "config": {
        "plotlyServerURL": "https://plot.ly"
       },
       "data": [
        {
         "customdata": [
          [
           "PFK"
          ],
          [
           "PGI"
          ],
          [
           "PGK"
          ],
          [
           "PGL"
          ],
          [
           "PGM"
          ],
          [
           "ACONTa"
          ],
          [
           "ACONTb"
          ],
          [
           "ATPM"
          ],
          [
           "AKGDH"
          ],
          [
           "ATPS4r"
          ],
          [
           "CO2t"
          ],
          [
           "RPE"
          ],
          [
           "CS"
          ],
          [
           "RPI"
          ],
          [
           "CYTBD"
          ],
          [
           "ENO"
          ],
          [
           "SUCDi"
          ],
          [
           "SUCOAS"
          ],
          [
           "TALA"
          ],
          [
           "TKT1"
          ],
          [
           "TKT2"
          ],
          [
           "TPI"
          ],
          [
           "EX_co2_e"
          ],
          [
           "EX_fru_e"
          ],
          [
           "EX_fum_e"
          ],
          [
           "EX_glc__D_e"
          ],
          [
           "EX_gln__L_e"
          ],
          [
           "EX_h_e"
          ],
          [
           "EX_h2o_e"
          ],
          [
           "EX_mal__L_e"
          ],
          [
           "EX_o2_e"
          ],
          [
           "FBA"
          ],
          [
           "FRD7"
          ],
          [
           "FRUpts2"
          ],
          [
           "FUM"
          ],
          [
           "FUMt2_2"
          ],
          [
           "G6PDH2r"
          ],
          [
           "GAPD"
          ],
          [
           "GLCpts"
          ],
          [
           "GLNabc"
          ],
          [
           "GND"
          ],
          [
           "H2Ot"
          ],
          [
           "ICDHyr"
          ],
          [
           "MALt2_2"
          ],
          [
           "NADH16"
          ],
          [
           "O2t"
          ],
          [
           "PDH"
          ]
         ],
         "hovertemplate": "significance=Not Significant<br>fold_change=%{x}<br>-log10_pval=%{y}<br>reaction=%{customdata[0]}<extra></extra>",
         "legendgroup": "Not Significant",
         "marker": {
          "color": "gray",
          "symbol": "circle"
         },
         "mode": "markers",
         "name": "Not Significant",
         "orientation": "v",
         "showlegend": true,
         "type": "scatter",
         "x": [
          0.5134457720415759,
          0.5884885587448172,
          0.053292063139277326,
          0.24121603540755426,
          0.12741584235750425,
          0.35633088346095376,
          0.35633088346095376,
          0.49363076967059355,
          0.303517531290912,
          0.09853542413135302,
          0.2535027776128562,
          0.3811712982926045,
          0.35633088346095376,
          0.03333173301796989,
          0.3402694151799405,
          0.12741584220644026,
          0.32640575307394676,
          0.3035175328626795,
          0.310655069266607,
          0.3106550692666073,
          0.45215021512973486,
          0.01226970545475583,
          0.25350277744699723,
          0,
          0,
          0.041043402932128034,
          0,
          0.41830588594703777,
          0.13626143429310061,
          0,
          0.34026941533430977,
          0.01226970545475583,
          0,
          0,
          0.32640575307394676,
          0,
          0.24121603540755426,
          0.05329206307631338,
          0.0410434028466721,
          0,
          0.24121603540755426,
          0.13626143437376312,
          0.20728802700604515,
          0,
          0.3420491484414888,
          0.3402694151284841,
          0.2673236643818204
         ],
         "xaxis": "x",
         "y": [
          10,
          10,
          10,
          10,
          10,
          10,
          10,
          10,
          10,
          10,
          10,
          10,
          10,
          10,
          10,
          10,
          10,
          10,
          10,
          10,
          10,
          10,
          10,
          -4.342945178152237e-11,
          -4.342945178152237e-11,
          10,
          -4.342945178152237e-11,
          10,
          10,
          -4.342945178152237e-11,
          10,
          10,
          -4.342945178152237e-11,
          -4.342945178152237e-11,
          10,
          -4.342945178152237e-11,
          10,
          10,
          10,
          -4.342945178152237e-11,
          10,
          10,
          10,
          -4.342945178152237e-11,
          10,
          10,
          10
         ],
         "yaxis": "y"
        },
        {
         "customdata": [
          [
           "PFL"
          ],
          [
           "ACALD"
          ],
          [
           "AKGt2r"
          ],
          [
           "PIt2r"
          ],
          [
           "ALCD2x"
          ],
          [
           "ACALDt"
          ],
          [
           "ACKr"
          ],
          [
           "PPC"
          ],
          [
           "PPCK"
          ],
          [
           "ACt2r"
          ],
          [
           "PPS"
          ],
          [
           "ADK1"
          ],
          [
           "PTAr"
          ],
          [
           "PYK"
          ],
          [
           "BIOMASS_Ecoli_core_w_GAM"
          ],
          [
           "PYRt2"
          ],
          [
           "SUCCt2_2"
          ],
          [
           "D_LACt2"
          ],
          [
           "SUCCt3"
          ],
          [
           "ETOHt2r"
          ],
          [
           "THD2"
          ],
          [
           "EX_ac_e"
          ],
          [
           "EX_acald_e"
          ],
          [
           "EX_akg_e"
          ],
          [
           "EX_etoh_e"
          ],
          [
           "EX_for_e"
          ],
          [
           "EX_glu__L_e"
          ],
          [
           "EX_lac__D_e"
          ],
          [
           "EX_nh4_e"
          ],
          [
           "EX_pi_e"
          ],
          [
           "EX_pyr_e"
          ],
          [
           "EX_succ_e"
          ],
          [
           "FBP"
          ],
          [
           "FORt2"
          ],
          [
           "FORt"
          ],
          [
           "GLNS"
          ],
          [
           "GLUDy"
          ],
          [
           "GLUN"
          ],
          [
           "GLUSy"
          ],
          [
           "GLUt2r"
          ],
          [
           "ICL"
          ],
          [
           "LDH_D"
          ],
          [
           "MALS"
          ],
          [
           "MDH"
          ],
          [
           "ME1"
          ],
          [
           "ME2"
          ],
          [
           "NADTRHD"
          ],
          [
           "NH4t"
          ]
         ],
         "hovertemplate": "significance=Significant<br>fold_change=%{x}<br>-log10_pval=%{y}<br>reaction=%{customdata[0]}<extra></extra>",
         "legendgroup": "Significant",
         "marker": {
          "color": "red",
          "symbol": "circle"
         },
         "mode": "markers",
         "name": "Significant",
         "orientation": "v",
         "showlegend": true,
         "type": "scatter",
         "x": [
          0.9987366526028414,
          0.9987735450791908,
          0.9987218548875095,
          21.25391850489314,
          0.9987686779982297,
          0.9987780118333226,
          0.998732631383974,
          0.8482523512727186,
          0.9990020903175626,
          0.998732631383974,
          0.9992494922347104,
          0.9992494922347104,
          0.9987326180439731,
          0.8315234703240628,
          21.253914559623052,
          0.9988010963597884,
          0.9989766838815545,
          0.9988257157263664,
          0.9989698330922685,
          0.9987686779982297,
          0.9979728474621707,
          0.9987326180439731,
          0.9987779920680133,
          0.9987218178518428,
          0.9987686564139273,
          0.9987366526028414,
          0.9987543149742624,
          0.9988256934080977,
          5.600111257830387,
          21.253921450555133,
          0.9988010770785758,
          0.9988670483066964,
          0.998925458747584,
          0.9989349898917581,
          0.9989097801033182,
          0.9866619389639157,
          1.5510087162710295,
          0.9990630470273896,
          0.9990588860399641,
          0.9987543543407443,
          0.9922245175130591,
          0.9988257157263664,
          0.9922245175130591,
          2.3287153006195083,
          0.9983471483053707,
          0.9978064148860536,
          0.9990990841420087,
          5.600111102555083
         ],
         "xaxis": "x",
         "y": [
          10,
          10,
          10,
          10,
          10,
          10,
          10,
          10,
          10,
          10,
          10,
          10,
          10,
          10,
          10,
          10,
          10,
          10,
          10,
          10,
          10,
          10,
          10,
          10,
          10,
          10,
          10,
          10,
          10,
          10,
          10,
          10,
          10,
          10,
          10,
          10,
          10,
          10,
          10,
          10,
          10,
          10,
          10,
          10,
          10,
          10,
          10,
          10
         ],
         "yaxis": "y"
        }
       ],
       "layout": {
        "annotations": [
         {
          "arrowhead": 1,
          "ax": 20,
          "ay": -20,
          "showarrow": true,
          "text": "NH4t",
          "x": 5.600111102555083,
          "y": 10
         }
        ],
        "height": 600,
        "legend": {
         "title": {
          "text": "significance"
         },
         "tracegroupgap": 0
        },
        "margin": {
         "t": 60
        },
        "shapes": [
         {
          "line": {
           "color": "blue",
           "dash": "dash"
          },
          "type": "line",
          "x0": -0.7369655941662062,
          "x1": -0.7369655941662062,
          "y0": 0,
          "y1": 10
         },
         {
          "line": {
           "color": "blue",
           "dash": "dash"
          },
          "type": "line",
          "x0": 0.7369655941662062,
          "x1": 0.7369655941662062,
          "y0": 0,
          "y1": 10
         },
         {
          "line": {
           "color": "green",
           "dash": "dash"
          },
          "type": "line",
          "x0": 0,
          "x1": 21.253921450555133,
          "y0": 1.3010299956639813,
          "y1": 1.3010299956639813
         }
        ],
        "template": {
         "data": {
          "bar": [
           {
            "error_x": {
             "color": "#2a3f5f"
            },
            "error_y": {
             "color": "#2a3f5f"
            },
            "marker": {
             "line": {
              "color": "white",
              "width": 0.5
             },
             "pattern": {
              "fillmode": "overlay",
              "size": 10,
              "solidity": 0.2
             }
            },
            "type": "bar"
           }
          ],
          "barpolar": [
           {
            "marker": {
             "line": {
              "color": "white",
              "width": 0.5
             },
             "pattern": {
              "fillmode": "overlay",
              "size": 10,
              "solidity": 0.2
             }
            },
            "type": "barpolar"
           }
          ],
          "carpet": [
           {
            "aaxis": {
             "endlinecolor": "#2a3f5f",
             "gridcolor": "#C8D4E3",
             "linecolor": "#C8D4E3",
             "minorgridcolor": "#C8D4E3",
             "startlinecolor": "#2a3f5f"
            },
            "baxis": {
             "endlinecolor": "#2a3f5f",
             "gridcolor": "#C8D4E3",
             "linecolor": "#C8D4E3",
             "minorgridcolor": "#C8D4E3",
             "startlinecolor": "#2a3f5f"
            },
            "type": "carpet"
           }
          ],
          "choropleth": [
           {
            "colorbar": {
             "outlinewidth": 0,
             "ticks": ""
            },
            "type": "choropleth"
           }
          ],
          "contour": [
           {
            "colorbar": {
             "outlinewidth": 0,
             "ticks": ""
            },
            "colorscale": [
             [
              0,
              "#0d0887"
             ],
             [
              0.1111111111111111,
              "#46039f"
             ],
             [
              0.2222222222222222,
              "#7201a8"
             ],
             [
              0.3333333333333333,
              "#9c179e"
             ],
             [
              0.4444444444444444,
              "#bd3786"
             ],
             [
              0.5555555555555556,
              "#d8576b"
             ],
             [
              0.6666666666666666,
              "#ed7953"
             ],
             [
              0.7777777777777778,
              "#fb9f3a"
             ],
             [
              0.8888888888888888,
              "#fdca26"
             ],
             [
              1,
              "#f0f921"
             ]
            ],
            "type": "contour"
           }
          ],
          "contourcarpet": [
           {
            "colorbar": {
             "outlinewidth": 0,
             "ticks": ""
            },
            "type": "contourcarpet"
           }
          ],
          "heatmap": [
           {
            "colorbar": {
             "outlinewidth": 0,
             "ticks": ""
            },
            "colorscale": [
             [
              0,
              "#0d0887"
             ],
             [
              0.1111111111111111,
              "#46039f"
             ],
             [
              0.2222222222222222,
              "#7201a8"
             ],
             [
              0.3333333333333333,
              "#9c179e"
             ],
             [
              0.4444444444444444,
              "#bd3786"
             ],
             [
              0.5555555555555556,
              "#d8576b"
             ],
             [
              0.6666666666666666,
              "#ed7953"
             ],
             [
              0.7777777777777778,
              "#fb9f3a"
             ],
             [
              0.8888888888888888,
              "#fdca26"
             ],
             [
              1,
              "#f0f921"
             ]
            ],
            "type": "heatmap"
           }
          ],
          "heatmapgl": [
           {
            "colorbar": {
             "outlinewidth": 0,
             "ticks": ""
            },
            "colorscale": [
             [
              0,
              "#0d0887"
             ],
             [
              0.1111111111111111,
              "#46039f"
             ],
             [
              0.2222222222222222,
              "#7201a8"
             ],
             [
              0.3333333333333333,
              "#9c179e"
             ],
             [
              0.4444444444444444,
              "#bd3786"
             ],
             [
              0.5555555555555556,
              "#d8576b"
             ],
             [
              0.6666666666666666,
              "#ed7953"
             ],
             [
              0.7777777777777778,
              "#fb9f3a"
             ],
             [
              0.8888888888888888,
              "#fdca26"
             ],
             [
              1,
              "#f0f921"
             ]
            ],
            "type": "heatmapgl"
           }
          ],
          "histogram": [
           {
            "marker": {
             "pattern": {
              "fillmode": "overlay",
              "size": 10,
              "solidity": 0.2
             }
            },
            "type": "histogram"
           }
          ],
          "histogram2d": [
           {
            "colorbar": {
             "outlinewidth": 0,
             "ticks": ""
            },
            "colorscale": [
             [
              0,
              "#0d0887"
             ],
             [
              0.1111111111111111,
              "#46039f"
             ],
             [
              0.2222222222222222,
              "#7201a8"
             ],
             [
              0.3333333333333333,
              "#9c179e"
             ],
             [
              0.4444444444444444,
              "#bd3786"
             ],
             [
              0.5555555555555556,
              "#d8576b"
             ],
             [
              0.6666666666666666,
              "#ed7953"
             ],
             [
              0.7777777777777778,
              "#fb9f3a"
             ],
             [
              0.8888888888888888,
              "#fdca26"
             ],
             [
              1,
              "#f0f921"
             ]
            ],
            "type": "histogram2d"
           }
          ],
          "histogram2dcontour": [
           {
            "colorbar": {
             "outlinewidth": 0,
             "ticks": ""
            },
            "colorscale": [
             [
              0,
              "#0d0887"
             ],
             [
              0.1111111111111111,
              "#46039f"
             ],
             [
              0.2222222222222222,
              "#7201a8"
             ],
             [
              0.3333333333333333,
              "#9c179e"
             ],
             [
              0.4444444444444444,
              "#bd3786"
             ],
             [
              0.5555555555555556,
              "#d8576b"
             ],
             [
              0.6666666666666666,
              "#ed7953"
             ],
             [
              0.7777777777777778,
              "#fb9f3a"
             ],
             [
              0.8888888888888888,
              "#fdca26"
             ],
             [
              1,
              "#f0f921"
             ]
            ],
            "type": "histogram2dcontour"
           }
          ],
          "mesh3d": [
           {
            "colorbar": {
             "outlinewidth": 0,
             "ticks": ""
            },
            "type": "mesh3d"
           }
          ],
          "parcoords": [
           {
            "line": {
             "colorbar": {
              "outlinewidth": 0,
              "ticks": ""
             }
            },
            "type": "parcoords"
           }
          ],
          "pie": [
           {
            "automargin": true,
            "type": "pie"
           }
          ],
          "scatter": [
           {
            "fillpattern": {
             "fillmode": "overlay",
             "size": 10,
             "solidity": 0.2
            },
            "type": "scatter"
           }
          ],
          "scatter3d": [
           {
            "line": {
             "colorbar": {
              "outlinewidth": 0,
              "ticks": ""
             }
            },
            "marker": {
             "colorbar": {
              "outlinewidth": 0,
              "ticks": ""
             }
            },
            "type": "scatter3d"
           }
          ],
          "scattercarpet": [
           {
            "marker": {
             "colorbar": {
              "outlinewidth": 0,
              "ticks": ""
             }
            },
            "type": "scattercarpet"
           }
          ],
          "scattergeo": [
           {
            "marker": {
             "colorbar": {
              "outlinewidth": 0,
              "ticks": ""
             }
            },
            "type": "scattergeo"
           }
          ],
          "scattergl": [
           {
            "marker": {
             "colorbar": {
              "outlinewidth": 0,
              "ticks": ""
             }
            },
            "type": "scattergl"
           }
          ],
          "scattermapbox": [
           {
            "marker": {
             "colorbar": {
              "outlinewidth": 0,
              "ticks": ""
             }
            },
            "type": "scattermapbox"
           }
          ],
          "scatterpolar": [
           {
            "marker": {
             "colorbar": {
              "outlinewidth": 0,
              "ticks": ""
             }
            },
            "type": "scatterpolar"
           }
          ],
          "scatterpolargl": [
           {
            "marker": {
             "colorbar": {
              "outlinewidth": 0,
              "ticks": ""
             }
            },
            "type": "scatterpolargl"
           }
          ],
          "scatterternary": [
           {
            "marker": {
             "colorbar": {
              "outlinewidth": 0,
              "ticks": ""
             }
            },
            "type": "scatterternary"
           }
          ],
          "surface": [
           {
            "colorbar": {
             "outlinewidth": 0,
             "ticks": ""
            },
            "colorscale": [
             [
              0,
              "#0d0887"
             ],
             [
              0.1111111111111111,
              "#46039f"
             ],
             [
              0.2222222222222222,
              "#7201a8"
             ],
             [
              0.3333333333333333,
              "#9c179e"
             ],
             [
              0.4444444444444444,
              "#bd3786"
             ],
             [
              0.5555555555555556,
              "#d8576b"
             ],
             [
              0.6666666666666666,
              "#ed7953"
             ],
             [
              0.7777777777777778,
              "#fb9f3a"
             ],
             [
              0.8888888888888888,
              "#fdca26"
             ],
             [
              1,
              "#f0f921"
             ]
            ],
            "type": "surface"
           }
          ],
          "table": [
           {
            "cells": {
             "fill": {
              "color": "#EBF0F8"
             },
             "line": {
              "color": "white"
             }
            },
            "header": {
             "fill": {
              "color": "#C8D4E3"
             },
             "line": {
              "color": "white"
             }
            },
            "type": "table"
           }
          ]
         },
         "layout": {
          "annotationdefaults": {
           "arrowcolor": "#2a3f5f",
           "arrowhead": 0,
           "arrowwidth": 1
          },
          "autotypenumbers": "strict",
          "coloraxis": {
           "colorbar": {
            "outlinewidth": 0,
            "ticks": ""
           }
          },
          "colorscale": {
           "diverging": [
            [
             0,
             "#8e0152"
            ],
            [
             0.1,
             "#c51b7d"
            ],
            [
             0.2,
             "#de77ae"
            ],
            [
             0.3,
             "#f1b6da"
            ],
            [
             0.4,
             "#fde0ef"
            ],
            [
             0.5,
             "#f7f7f7"
            ],
            [
             0.6,
             "#e6f5d0"
            ],
            [
             0.7,
             "#b8e186"
            ],
            [
             0.8,
             "#7fbc41"
            ],
            [
             0.9,
             "#4d9221"
            ],
            [
             1,
             "#276419"
            ]
           ],
           "sequential": [
            [
             0,
             "#0d0887"
            ],
            [
             0.1111111111111111,
             "#46039f"
            ],
            [
             0.2222222222222222,
             "#7201a8"
            ],
            [
             0.3333333333333333,
             "#9c179e"
            ],
            [
             0.4444444444444444,
             "#bd3786"
            ],
            [
             0.5555555555555556,
             "#d8576b"
            ],
            [
             0.6666666666666666,
             "#ed7953"
            ],
            [
             0.7777777777777778,
             "#fb9f3a"
            ],
            [
             0.8888888888888888,
             "#fdca26"
            ],
            [
             1,
             "#f0f921"
            ]
           ],
           "sequentialminus": [
            [
             0,
             "#0d0887"
            ],
            [
             0.1111111111111111,
             "#46039f"
            ],
            [
             0.2222222222222222,
             "#7201a8"
            ],
            [
             0.3333333333333333,
             "#9c179e"
            ],
            [
             0.4444444444444444,
             "#bd3786"
            ],
            [
             0.5555555555555556,
             "#d8576b"
            ],
            [
             0.6666666666666666,
             "#ed7953"
            ],
            [
             0.7777777777777778,
             "#fb9f3a"
            ],
            [
             0.8888888888888888,
             "#fdca26"
            ],
            [
             1,
             "#f0f921"
            ]
           ]
          },
          "colorway": [
           "#636efa",
           "#EF553B",
           "#00cc96",
           "#ab63fa",
           "#FFA15A",
           "#19d3f3",
           "#FF6692",
           "#B6E880",
           "#FF97FF",
           "#FECB52"
          ],
          "font": {
           "color": "#2a3f5f"
          },
          "geo": {
           "bgcolor": "white",
           "lakecolor": "white",
           "landcolor": "white",
           "showlakes": true,
           "showland": true,
           "subunitcolor": "#C8D4E3"
          },
          "hoverlabel": {
           "align": "left"
          },
          "hovermode": "closest",
          "mapbox": {
           "style": "light"
          },
          "paper_bgcolor": "white",
          "plot_bgcolor": "white",
          "polar": {
           "angularaxis": {
            "gridcolor": "#EBF0F8",
            "linecolor": "#EBF0F8",
            "ticks": ""
           },
           "bgcolor": "white",
           "radialaxis": {
            "gridcolor": "#EBF0F8",
            "linecolor": "#EBF0F8",
            "ticks": ""
           }
          },
          "scene": {
           "xaxis": {
            "backgroundcolor": "white",
            "gridcolor": "#DFE8F3",
            "gridwidth": 2,
            "linecolor": "#EBF0F8",
            "showbackground": true,
            "ticks": "",
            "zerolinecolor": "#EBF0F8"
           },
           "yaxis": {
            "backgroundcolor": "white",
            "gridcolor": "#DFE8F3",
            "gridwidth": 2,
            "linecolor": "#EBF0F8",
            "showbackground": true,
            "ticks": "",
            "zerolinecolor": "#EBF0F8"
           },
           "zaxis": {
            "backgroundcolor": "white",
            "gridcolor": "#DFE8F3",
            "gridwidth": 2,
            "linecolor": "#EBF0F8",
            "showbackground": true,
            "ticks": "",
            "zerolinecolor": "#EBF0F8"
           }
          },
          "shapedefaults": {
           "line": {
            "color": "#2a3f5f"
           }
          },
          "ternary": {
           "aaxis": {
            "gridcolor": "#DFE8F3",
            "linecolor": "#A2B1C6",
            "ticks": ""
           },
           "baxis": {
            "gridcolor": "#DFE8F3",
            "linecolor": "#A2B1C6",
            "ticks": ""
           },
           "bgcolor": "white",
           "caxis": {
            "gridcolor": "#DFE8F3",
            "linecolor": "#A2B1C6",
            "ticks": ""
           }
          },
          "title": {
           "x": 0.05
          },
          "xaxis": {
           "automargin": true,
           "gridcolor": "#EBF0F8",
           "linecolor": "#EBF0F8",
           "ticks": "",
           "title": {
            "standoff": 15
           },
           "zerolinecolor": "#EBF0F8",
           "zerolinewidth": 2
          },
          "yaxis": {
           "automargin": true,
           "gridcolor": "#EBF0F8",
           "linecolor": "#EBF0F8",
           "ticks": "",
           "title": {
            "standoff": 15
           },
           "zerolinecolor": "#EBF0F8",
           "zerolinewidth": 2
          }
         }
        },
        "width": 800,
        "xaxis": {
         "anchor": "y",
         "domain": [
          0,
          1
         ],
         "title": {
          "text": "Fold Change"
         }
        },
        "yaxis": {
         "anchor": "x",
         "domain": [
          0,
          1
         ],
         "title": {
          "text": "-log10(p-value)"
         }
        }
       }
      }
     },
     "metadata": {},
     "output_type": "display_data"
    }
   ],
   "source": [
    "\n",
    "reactions_to_annotate = [\"NH4t\"]\n",
    "\n",
    "plot_volcano(pval_dict,\n",
    "             fold_change_dict,\n",
    "             p_value_cutoff = 0.05,\n",
    "             fold_change_cutoff = 0.6,\n",
    "             annotate = reactions_to_annotate,\n",
    "             width = 800,\n",
    "             height = 600,\n",
    "             title = \"\",\n",
    "             show_cutoff_lines = True)\n"
   ]
  },
  {
   "cell_type": "markdown",
   "id": "a2b4bbf6",
   "metadata": {},
   "source": [
    "### Create a dictionary mapping reaction IDs (keys) to all the pathways they belong (values)"
   ]
  },
  {
   "cell_type": "code",
   "execution_count": 10,
   "id": "bd140bda",
   "metadata": {},
   "outputs": [
    {
     "name": "stdout",
     "output_type": "stream",
     "text": [
      "{'PGI': ['Starch and sucrose metabolism', 'Metabolic pathways', 'Biosynthesis of secondary metabolites'], 'PGM': ['Glycolysis / Gluconeogenesis', 'Glycine, serine and threonine metabolism', 'Methane metabolism', 'Metabolic pathways', 'Biosynthesis of secondary metabolites', 'Microbial metabolism in diverse environments', 'Carbon metabolism', 'Biosynthesis of amino acids'], 'PGL': ['Pentose phosphate pathway', 'Metabolic pathways', 'Biosynthesis of secondary metabolites', 'Microbial metabolism in diverse environments', 'Carbon metabolism'], 'PFL': ['Pyruvate metabolism', 'Butanoate metabolism', 'Metabolic pathways', 'Microbial metabolism in diverse environments'], 'PFK': ['Glycolysis / Gluconeogenesis', 'Pentose phosphate pathway', 'Fructose and mannose metabolism', 'Methane metabolism', 'Metabolic pathways', 'Biosynthesis of secondary metabolites', 'Microbial metabolism in diverse environments', 'Carbon metabolism', 'Biosynthesis of amino acids'], 'PGK': ['Glycolysis / Gluconeogenesis', 'Carbon fixation by Calvin cycle', 'Metabolic pathways', 'Biosynthesis of secondary metabolites', 'Microbial metabolism in diverse environments', 'Carbon metabolism', 'Biosynthesis of amino acids'], 'ACALD': ['Phenylalanine metabolism', 'Benzoate degradation', 'Pyruvate metabolism', 'Dioxin degradation', 'Xylene degradation', 'Metabolic pathways', 'Microbial metabolism in diverse environments', 'Degradation of aromatic compounds'], 'PPC': ['Pyruvate metabolism', 'Methane metabolism', 'Carbon fixation by Calvin cycle', 'Other carbon fixation pathways', 'Metabolic pathways', 'Microbial metabolism in diverse environments', 'Carbon metabolism'], 'PPCK': ['Glycolysis / Gluconeogenesis', 'Citrate cycle (TCA cycle)', 'Pyruvate metabolism', 'Carbon fixation by Calvin cycle', 'Metabolic pathways', 'Biosynthesis of secondary metabolites', 'Microbial metabolism in diverse environments', 'Carbon metabolism'], 'ACONTa': ['Citrate cycle (TCA cycle)', 'Glyoxylate and dicarboxylate metabolism', 'Other carbon fixation pathways', 'Metabolic pathways', 'Biosynthesis of secondary metabolites', 'Microbial metabolism in diverse environments', '2-Oxocarboxylic acid metabolism'], 'ALCD2x': ['Glycolysis / Gluconeogenesis', 'Pyruvate metabolism', 'Metabolic pathways', 'Biosynthesis of secondary metabolites', 'Microbial metabolism in diverse environments'], 'ACONTb': ['Citrate cycle (TCA cycle)', 'Glyoxylate and dicarboxylate metabolism', 'Other carbon fixation pathways', 'Metabolic pathways', 'Biosynthesis of secondary metabolites', 'Microbial metabolism in diverse environments', '2-Oxocarboxylic acid metabolism'], 'ACKr': ['Taurine and hypotaurine metabolism', 'Pyruvate metabolism', 'Methane metabolism', 'Other carbon fixation pathways', 'Metabolic pathways', 'Microbial metabolism in diverse environments', 'Carbon metabolism'], 'ATPM': ['Purine metabolism', 'Metabolic pathways', 'Biosynthesis of secondary metabolites', 'Nucleotide metabolism'], 'PPS': ['Glycolysis / Gluconeogenesis', 'Pyruvate metabolism', 'Methane metabolism', 'Other carbon fixation pathways', 'Metabolic pathways', 'Biosynthesis of secondary metabolites', 'Microbial metabolism in diverse environments', 'Carbon metabolism'], 'RPI': ['Pentose phosphate pathway', 'Carbon fixation by Calvin cycle', 'Metabolic pathways', 'Biosynthesis of secondary metabolites', 'Microbial metabolism in diverse environments', 'Carbon metabolism', 'Biosynthesis of amino acids'], 'AKGDH': ['Metabolic pathways', 'Biosynthesis of secondary metabolites', 'Microbial metabolism in diverse environments', 'Carbon metabolism', '2-Oxocarboxylic acid metabolism'], 'CS': ['Citrate cycle (TCA cycle)', 'Glyoxylate and dicarboxylate metabolism', 'Metabolic pathways', 'Biosynthesis of secondary metabolites', 'Microbial metabolism in diverse environments', 'Carbon metabolism', '2-Oxocarboxylic acid metabolism', 'Biosynthesis of amino acids'], 'PTAr': ['Taurine and hypotaurine metabolism', 'Pyruvate metabolism', 'Methane metabolism', 'Other carbon fixation pathways', 'Metabolic pathways', 'Microbial metabolism in diverse environments', 'Carbon metabolism'], 'ENO': ['Glycolysis / Gluconeogenesis', 'Methane metabolism', 'Metabolic pathways', 'Biosynthesis of secondary metabolites', 'Microbial metabolism in diverse environments', 'Carbon metabolism', 'Biosynthesis of amino acids'], 'ADK1': ['Purine metabolism', 'Metabolic pathways', 'Biosynthesis of secondary metabolites', 'Nucleotide metabolism', 'Biosynthesis of cofactors'], 'RPE': ['Pentose phosphate pathway', 'Pentose and glucuronate interconversions', 'Carbon fixation by Calvin cycle', 'Metabolic pathways', 'Biosynthesis of secondary metabolites', 'Microbial metabolism in diverse environments', 'Carbon metabolism', 'Biosynthesis of amino acids'], 'PYK': ['Glycolysis / Gluconeogenesis', 'Pyruvate metabolism', 'Metabolic pathways', 'Biosynthesis of secondary metabolites', 'Microbial metabolism in diverse environments', 'Carbon metabolism', 'Biosynthesis of amino acids'], 'FBP': ['Glycolysis / Gluconeogenesis', 'Pentose phosphate pathway', 'Fructose and mannose metabolism', 'Methane metabolism', 'Carbon fixation by Calvin cycle', 'Metabolic pathways', 'Biosynthesis of secondary metabolites', 'Microbial metabolism in diverse environments', 'Carbon metabolism'], 'FUM': ['Citrate cycle (TCA cycle)', 'Pyruvate metabolism', 'Other carbon fixation pathways', 'Metabolic pathways', 'Biosynthesis of secondary metabolites', 'Microbial metabolism in diverse environments', 'Carbon metabolism'], 'SUCOAS': ['Citrate cycle (TCA cycle)', 'Propanoate metabolism', 'Other carbon fixation pathways', 'Metabolic pathways', 'Biosynthesis of secondary metabolites', 'Microbial metabolism in diverse environments', 'Carbon metabolism'], 'TPI': ['Glycolysis / Gluconeogenesis', 'Fructose and mannose metabolism', 'Inositol phosphate metabolism', 'Carbon fixation by Calvin cycle', 'Metabolic pathways', 'Biosynthesis of secondary metabolites', 'Microbial metabolism in diverse environments', 'Carbon metabolism', 'Biosynthesis of amino acids'], 'TKT1': ['Pentose phosphate pathway', 'Carbon fixation by Calvin cycle', 'Metabolic pathways', 'Biosynthesis of secondary metabolites', 'Microbial metabolism in diverse environments', 'Carbon metabolism', 'Biosynthesis of amino acids'], 'FBA': ['Glycolysis / Gluconeogenesis', 'Pentose phosphate pathway', 'Fructose and mannose metabolism', 'Methane metabolism', 'Carbon fixation by Calvin cycle', 'Metabolic pathways', 'Biosynthesis of secondary metabolites', 'Microbial metabolism in diverse environments', 'Carbon metabolism', 'Biosynthesis of amino acids'], 'GLNS': ['Arginine biosynthesis', 'Alanine, aspartate and glutamate metabolism', 'Glyoxylate and dicarboxylate metabolism', 'Nitrogen metabolism', 'Metabolic pathways', 'Biosynthesis of secondary metabolites', 'Microbial metabolism in diverse environments', 'Biosynthesis of amino acids'], 'GAPD': ['Glycolysis / Gluconeogenesis', 'Carbon fixation by Calvin cycle', 'Metabolic pathways', 'Biosynthesis of secondary metabolites', 'Microbial metabolism in diverse environments', 'Carbon metabolism', 'Biosynthesis of amino acids'], 'GLUSy': ['Alanine, aspartate and glutamate metabolism', 'Nitrogen metabolism', 'Metabolic pathways', 'Biosynthesis of secondary metabolites', 'Microbial metabolism in diverse environments', 'Biosynthesis of amino acids'], 'GND': ['Pentose phosphate pathway', 'Glutathione metabolism', 'Metabolic pathways', 'Biosynthesis of secondary metabolites', 'Microbial metabolism in diverse environments', 'Carbon metabolism'], 'GLUN': ['Arginine biosynthesis', 'Alanine, aspartate and glutamate metabolism', 'Metabolic pathways', 'Biosynthesis of secondary metabolites'], 'GLUDy': ['Arginine biosynthesis', 'Alanine, aspartate and glutamate metabolism', 'Nitrogen metabolism', 'Metabolic pathways', 'Microbial metabolism in diverse environments', 'Carbon metabolism'], 'ICDHyr': ['Glutathione metabolism', 'Other carbon fixation pathways', 'Metabolic pathways', 'Microbial metabolism in diverse environments', 'Carbon metabolism', '2-Oxocarboxylic acid metabolism', 'Biosynthesis of amino acids'], 'MDH': ['Citrate cycle (TCA cycle)', 'Pyruvate metabolism', 'Glyoxylate and dicarboxylate metabolism', 'Methane metabolism', 'Carbon fixation by Calvin cycle', 'Other carbon fixation pathways', 'Metabolic pathways', 'Biosynthesis of secondary metabolites', 'Microbial metabolism in diverse environments', 'Carbon metabolism'], 'ME2': ['Pyruvate metabolism', 'Carbon fixation by Calvin cycle', 'Metabolic pathways', 'Microbial metabolism in diverse environments', 'Carbon metabolism'], 'LDH_D': ['Pyruvate metabolism', 'Metabolic pathways', 'Microbial metabolism in diverse environments'], 'ICL': ['Glyoxylate and dicarboxylate metabolism', 'Metabolic pathways', 'Biosynthesis of secondary metabolites', 'Microbial metabolism in diverse environments', 'Carbon metabolism'], 'NADTRHD': ['Nicotinate and nicotinamide metabolism', 'Metabolic pathways'], 'ME1': ['Pyruvate metabolism', 'Carbon fixation by Calvin cycle', 'Metabolic pathways', 'Microbial metabolism in diverse environments', 'Carbon metabolism'], 'PDH': ['Metabolic pathways', 'Biosynthesis of secondary metabolites', 'Microbial metabolism in diverse environments', 'Carbon metabolism', '2-Oxocarboxylic acid metabolism'], 'MALS': ['Pyruvate metabolism', 'Glyoxylate and dicarboxylate metabolism', 'Metabolic pathways', 'Biosynthesis of secondary metabolites', 'Microbial metabolism in diverse environments', 'Carbon metabolism']}\n"
     ]
    }
   ],
   "source": [
    "\n",
    "reaction_to_pathways = dictionary_reaction_to_all_pathways(df_kegg_pathways)\n",
    "print(reaction_to_pathways)\n"
   ]
  },
  {
   "cell_type": "markdown",
   "id": "59b76f11",
   "metadata": {},
   "source": [
    "### Perform hypergeometric test for pathway enrichment\n",
    "\n",
    "The `hypergeometric_test_pathway_enrichment` function performs a hypergeometric test to identify significantly affected pathways between our sampling conditions. It also calculated fold enrichment and p_values useful for filtering significant changes and plotting"
   ]
  },
  {
   "cell_type": "code",
   "execution_count": 11,
   "id": "59a9d632",
   "metadata": {},
   "outputs": [
    {
     "name": "stdout",
     "output_type": "stream",
     "text": [
      "                                         pathway  \\\n",
      "10                           Pyruvate metabolism   \n",
      "31   Alanine, aspartate and glutamate metabolism   \n",
      "32                           Nitrogen metabolism   \n",
      "30                         Arginine biosynthesis   \n",
      "23            Taurine and hypotaurine metabolism   \n",
      "5                             Methane metabolism   \n",
      "17                            Xylene degradation   \n",
      "26                     Biosynthesis of cofactors   \n",
      "18             Degradation of aromatic compounds   \n",
      "16                            Dioxin degradation   \n",
      "15                          Benzoate degradation   \n",
      "14                      Phenylalanine metabolism   \n",
      "34        Nicotinate and nicotinamide metabolism   \n",
      "11                          Butanoate metabolism   \n",
      "21       Glyoxylate and dicarboxylate metabolism   \n",
      "1                             Metabolic pathways   \n",
      "19                Other carbon fixation pathways   \n",
      "6   Microbial metabolism in diverse environments   \n",
      "13               Carbon fixation by Calvin cycle   \n",
      "24                             Purine metabolism   \n",
      "25                         Nucleotide metabolism   \n",
      "3                   Glycolysis / Gluconeogenesis   \n",
      "7                              Carbon metabolism   \n",
      "12               Fructose and mannose metabolism   \n",
      "20                     Citrate cycle (TCA cycle)   \n",
      "2          Biosynthesis of secondary metabolites   \n",
      "9                      Pentose phosphate pathway   \n",
      "8                    Biosynthesis of amino acids   \n",
      "33                        Glutathione metabolism   \n",
      "22               2-Oxocarboxylic acid metabolism   \n",
      "4       Glycine, serine and threonine metabolism   \n",
      "27      Pentose and glucuronate interconversions   \n",
      "28                         Propanoate metabolism   \n",
      "29                 Inositol phosphate metabolism   \n",
      "0                  Starch and sucrose metabolism   \n",
      "\n",
      "    significant_reactions_in_pathway  reactions_in_pathway  \\\n",
      "10                                14                    15   \n",
      "31                                 4                     4   \n",
      "32                                 3                     3   \n",
      "30                                 3                     3   \n",
      "23                                 2                     2   \n",
      "5                                  6                    10   \n",
      "17                                 1                     1   \n",
      "26                                 1                     1   \n",
      "18                                 1                     1   \n",
      "16                                 1                     1   \n",
      "15                                 1                     1   \n",
      "14                                 1                     1   \n",
      "34                                 1                     1   \n",
      "11                                 1                     1   \n",
      "21                                 4                     7   \n",
      "1                                 22                    44   \n",
      "19                                 5                    10   \n",
      "6                                 19                    39   \n",
      "13                                 6                    13   \n",
      "24                                 1                     2   \n",
      "25                                 1                     2   \n",
      "3                                  5                    12   \n",
      "7                                 13                    31   \n",
      "12                                 1                     4   \n",
      "20                                 2                     7   \n",
      "2                                 12                    33   \n",
      "9                                  1                     8   \n",
      "8                                  3                    15   \n",
      "33                                 0                     2   \n",
      "22                                 0                     6   \n",
      "4                                  0                     1   \n",
      "27                                 0                     1   \n",
      "28                                 0                     1   \n",
      "29                                 0                     1   \n",
      "0                                  0                     1   \n",
      "\n",
      "    all_significant_reactions  all_reactions      pval       fdr  \\\n",
      "10                         48             95  0.000215  0.007535   \n",
      "31                         48             95  0.061121  1.000000   \n",
      "32                         48             95  0.124958  1.000000   \n",
      "30                         48             95  0.124958  1.000000   \n",
      "23                         48             95  0.252632  1.000000   \n",
      "5                          48             95  0.383573  1.000000   \n",
      "17                         48             95  0.505263  1.000000   \n",
      "26                         48             95  0.505263  1.000000   \n",
      "18                         48             95  0.505263  1.000000   \n",
      "16                         48             95  0.505263  1.000000   \n",
      "15                         48             95  0.505263  1.000000   \n",
      "14                         48             95  0.505263  1.000000   \n",
      "34                         48             95  0.505263  1.000000   \n",
      "11                         48             95  0.505263  1.000000   \n",
      "21                         48             95  0.511897  1.000000   \n",
      "1                          48             95  0.618236  1.000000   \n",
      "19                         48             95  0.643503  1.000000   \n",
      "6                          48             95  0.692328  1.000000   \n",
      "13                         48             95  0.737675  1.000000   \n",
      "24                         48             95  0.757895  1.000000   \n",
      "25                         48             95  0.757895  1.000000   \n",
      "3                          48             95  0.832625  1.000000   \n",
      "7                          48             95  0.917091  1.000000   \n",
      "12                         48             95  0.943973  1.000000   \n",
      "20                         48             95  0.947666  1.000000   \n",
      "2                          48             95  0.987452  1.000000   \n",
      "9                          48             95  0.997413  1.000000   \n",
      "8                          48             95  0.998407  1.000000   \n",
      "33                         48             95  1.000000  1.000000   \n",
      "22                         48             95  1.000000  1.000000   \n",
      "4                          48             95  1.000000  1.000000   \n",
      "27                         48             95  1.000000  1.000000   \n",
      "28                         48             95  1.000000  1.000000   \n",
      "29                         48             95  1.000000  1.000000   \n",
      "0                          48             95  1.000000  1.000000   \n",
      "\n",
      "    fold_enrichment  log10_pval  \n",
      "10         1.847222    3.666983  \n",
      "31         1.979167    1.213813  \n",
      "32         1.979167    0.903237  \n",
      "30         1.979167    0.903237  \n",
      "23         1.979167    0.597512  \n",
      "5          1.187500    0.416152  \n",
      "17         1.979167    0.296482  \n",
      "26         1.979167    0.296482  \n",
      "18         1.979167    0.296482  \n",
      "16         1.979167    0.296482  \n",
      "15         1.979167    0.296482  \n",
      "14         1.979167    0.296482  \n",
      "34         1.979167    0.296482  \n",
      "11         1.979167    0.296482  \n",
      "21         1.130952    0.290817  \n",
      "1          0.989583    0.208846  \n",
      "19         0.989583    0.191450  \n",
      "6          0.964209    0.159688  \n",
      "13         0.913462    0.132135  \n",
      "24         0.989583    0.120391  \n",
      "25         0.989583    0.120391  \n",
      "3          0.824653    0.079551  \n",
      "7          0.829973    0.037588  \n",
      "12         0.494792    0.025041  \n",
      "20         0.565476    0.023345  \n",
      "2          0.719697    0.005484  \n",
      "9          0.247396    0.001125  \n",
      "8          0.395833    0.000692  \n",
      "33         0.000000   -0.000000  \n",
      "22         0.000000   -0.000000  \n",
      "4          0.000000   -0.000000  \n",
      "27         0.000000   -0.000000  \n",
      "28         0.000000   -0.000000  \n",
      "29         0.000000   -0.000000  \n",
      "0          0.000000   -0.000000  \n"
     ]
    }
   ],
   "source": [
    "\n",
    "hypergeometric_pathway_enrichment_df = hypergeometric_test_pathway_enrichment(significant_diff_reactions, \n",
    "                                                                              ec_cobra_reaction_ids, \n",
    "                                                                              reaction_to_pathways)\n",
    "\n",
    "print(hypergeometric_pathway_enrichment_df)\n"
   ]
  },
  {
   "cell_type": "markdown",
   "id": "36f9a83d",
   "metadata": {},
   "source": [
    "### Create a bubbleplot of the enrichment results to show affected pathways.\n",
    "\n",
    "The `plot_pathway_enrichment` function takes as input the `hypergeometric_pathway_enrichment_df` dataframe created with the `hypergeometric_test_pathway_enrichment` function and plots the enrichment results in a bubble plot. Bubble size stands for pathway size (number of reactions) and reaction colour stands for -log10(p-value)"
   ]
  },
  {
   "cell_type": "code",
   "execution_count": 12,
   "id": "c11937b1",
   "metadata": {},
   "outputs": [
    {
     "data": {
      "application/vnd.plotly.v1+json": {
       "config": {
        "plotlyServerURL": "https://plot.ly"
       },
       "data": [
        {
         "hovertemplate": "Fold Enrichment=%{x}<br>Pathway=%{y}<br># Reactions=%{marker.size}<br>-log10(p-value)=%{marker.color}<extra></extra>",
         "legendgroup": "",
         "marker": {
          "color": [
           0.2964823679132605,
           0.2964823679132605,
           0.9032374804496028,
           0.9032374804496028,
           0.5975123635772418,
           1.2138127940198145,
           0.2964823679132605,
           0.2964823679132605,
           0.2964823679132605,
           0.2964823679132605,
           0.2964823679132605,
           0.2964823679132605,
           3.66698307211805,
           0.4161516641171009,
           0.2908173960791292,
           0.1203911088575793,
           0.208845612856824,
           0.19144961797162147,
           0.1203911088575793,
           0.15968806056530593,
           0.1321351632118773,
           0.0375877094528646,
           0.07955053000567086,
           0.005483884411238949,
           0.023344695180033948,
           0.025040503205044157,
           0.0006924066771271286,
           0.001124994361135881,
           0,
           0,
           0,
           0,
           0,
           0,
           0
          ],
          "coloraxis": "coloraxis",
          "size": [
           1,
           1,
           3,
           3,
           2,
           4,
           1,
           1,
           1,
           1,
           1,
           1,
           14,
           6,
           4,
           1,
           22,
           5,
           1,
           19,
           6,
           13,
           5,
           12,
           2,
           1,
           3,
           1,
           0,
           0,
           0,
           0,
           0,
           0,
           0
          ],
          "sizemode": "area",
          "sizeref": 0.055,
          "symbol": "circle"
         },
         "mode": "markers",
         "name": "",
         "orientation": "h",
         "showlegend": false,
         "type": "scatter",
         "x": [
          1.9791666666666665,
          1.9791666666666665,
          1.9791666666666665,
          1.9791666666666665,
          1.9791666666666665,
          1.9791666666666665,
          1.9791666666666665,
          1.9791666666666665,
          1.9791666666666665,
          1.9791666666666665,
          1.9791666666666665,
          1.9791666666666665,
          1.847222222222222,
          1.1875,
          1.130952380952381,
          0.9895833333333333,
          0.9895833333333333,
          0.9895833333333333,
          0.9895833333333333,
          0.9642094017094016,
          0.9134615384615384,
          0.8299731182795699,
          0.8246527777777778,
          0.7196969696969697,
          0.5654761904761905,
          0.49479166666666663,
          0.3958333333333333,
          0.24739583333333331,
          0,
          0,
          0,
          0,
          0,
          0,
          0
         ],
         "xaxis": "x",
         "y": [
          "Dioxin degradation",
          "Nicotinate and nicotinamide metabolism",
          "Nitrogen metabolism",
          "Arginine biosynthesis",
          "Taurine and hypotaurine metabolism",
          "Alanine, aspartate and glutamate metabolism",
          "Xylene degradation",
          "Biosynthesis of cofactors",
          "Degradation of aromatic compounds",
          "Butanoate metabolism",
          "Benzoate degradation",
          "Phenylalanine metabolism",
          "Pyruvate metabolism",
          "Methane metabolism",
          "Glyoxylate and dicarboxylate metabolism",
          "Purine metabolism",
          "Metabolic pathways",
          "Other carbon fixation pathways",
          "Nucleotide metabolism",
          "Microbial metabolism in diverse environments",
          "Carbon fixation by Calvin cycle",
          "Carbon metabolism",
          "Glycolysis / Gluconeogenesis",
          "Biosynthesis of secondary metabolites",
          "Citrate cycle (TCA cycle)",
          "Fructose and mannose metabolism",
          "Biosynthesis of amino acids",
          "Pentose phosphate pathway",
          "Glutathione metabolism",
          "2-Oxocarboxylic acid metabolism",
          "Glycine, serine and threonine metabolism",
          "Pentose and glucuronate interconversions",
          "Propanoate metabolism",
          "Inositol phosphate metabolism",
          "Starch and sucrose metabolism"
         ],
         "yaxis": "y"
        }
       ],
       "layout": {
        "coloraxis": {
         "colorbar": {
          "title": {
           "text": "-log10(p-value)"
          }
         },
         "colorscale": [
          [
           0,
           "rgb(255,245,240)"
          ],
          [
           0.125,
           "rgb(254,224,210)"
          ],
          [
           0.25,
           "rgb(252,187,161)"
          ],
          [
           0.375,
           "rgb(252,146,114)"
          ],
          [
           0.5,
           "rgb(251,106,74)"
          ],
          [
           0.625,
           "rgb(239,59,44)"
          ],
          [
           0.75,
           "rgb(203,24,29)"
          ],
          [
           0.875,
           "rgb(165,15,21)"
          ],
          [
           1,
           "rgb(103,0,13)"
          ]
         ]
        },
        "font": {
         "size": 14
        },
        "height": 600,
        "legend": {
         "itemsizing": "constant",
         "tracegroupgap": 0
        },
        "template": {
         "data": {
          "bar": [
           {
            "error_x": {
             "color": "#2a3f5f"
            },
            "error_y": {
             "color": "#2a3f5f"
            },
            "marker": {
             "line": {
              "color": "#E5ECF6",
              "width": 0.5
             },
             "pattern": {
              "fillmode": "overlay",
              "size": 10,
              "solidity": 0.2
             }
            },
            "type": "bar"
           }
          ],
          "barpolar": [
           {
            "marker": {
             "line": {
              "color": "#E5ECF6",
              "width": 0.5
             },
             "pattern": {
              "fillmode": "overlay",
              "size": 10,
              "solidity": 0.2
             }
            },
            "type": "barpolar"
           }
          ],
          "carpet": [
           {
            "aaxis": {
             "endlinecolor": "#2a3f5f",
             "gridcolor": "white",
             "linecolor": "white",
             "minorgridcolor": "white",
             "startlinecolor": "#2a3f5f"
            },
            "baxis": {
             "endlinecolor": "#2a3f5f",
             "gridcolor": "white",
             "linecolor": "white",
             "minorgridcolor": "white",
             "startlinecolor": "#2a3f5f"
            },
            "type": "carpet"
           }
          ],
          "choropleth": [
           {
            "colorbar": {
             "outlinewidth": 0,
             "ticks": ""
            },
            "type": "choropleth"
           }
          ],
          "contour": [
           {
            "colorbar": {
             "outlinewidth": 0,
             "ticks": ""
            },
            "colorscale": [
             [
              0,
              "#0d0887"
             ],
             [
              0.1111111111111111,
              "#46039f"
             ],
             [
              0.2222222222222222,
              "#7201a8"
             ],
             [
              0.3333333333333333,
              "#9c179e"
             ],
             [
              0.4444444444444444,
              "#bd3786"
             ],
             [
              0.5555555555555556,
              "#d8576b"
             ],
             [
              0.6666666666666666,
              "#ed7953"
             ],
             [
              0.7777777777777778,
              "#fb9f3a"
             ],
             [
              0.8888888888888888,
              "#fdca26"
             ],
             [
              1,
              "#f0f921"
             ]
            ],
            "type": "contour"
           }
          ],
          "contourcarpet": [
           {
            "colorbar": {
             "outlinewidth": 0,
             "ticks": ""
            },
            "type": "contourcarpet"
           }
          ],
          "heatmap": [
           {
            "colorbar": {
             "outlinewidth": 0,
             "ticks": ""
            },
            "colorscale": [
             [
              0,
              "#0d0887"
             ],
             [
              0.1111111111111111,
              "#46039f"
             ],
             [
              0.2222222222222222,
              "#7201a8"
             ],
             [
              0.3333333333333333,
              "#9c179e"
             ],
             [
              0.4444444444444444,
              "#bd3786"
             ],
             [
              0.5555555555555556,
              "#d8576b"
             ],
             [
              0.6666666666666666,
              "#ed7953"
             ],
             [
              0.7777777777777778,
              "#fb9f3a"
             ],
             [
              0.8888888888888888,
              "#fdca26"
             ],
             [
              1,
              "#f0f921"
             ]
            ],
            "type": "heatmap"
           }
          ],
          "heatmapgl": [
           {
            "colorbar": {
             "outlinewidth": 0,
             "ticks": ""
            },
            "colorscale": [
             [
              0,
              "#0d0887"
             ],
             [
              0.1111111111111111,
              "#46039f"
             ],
             [
              0.2222222222222222,
              "#7201a8"
             ],
             [
              0.3333333333333333,
              "#9c179e"
             ],
             [
              0.4444444444444444,
              "#bd3786"
             ],
             [
              0.5555555555555556,
              "#d8576b"
             ],
             [
              0.6666666666666666,
              "#ed7953"
             ],
             [
              0.7777777777777778,
              "#fb9f3a"
             ],
             [
              0.8888888888888888,
              "#fdca26"
             ],
             [
              1,
              "#f0f921"
             ]
            ],
            "type": "heatmapgl"
           }
          ],
          "histogram": [
           {
            "marker": {
             "pattern": {
              "fillmode": "overlay",
              "size": 10,
              "solidity": 0.2
             }
            },
            "type": "histogram"
           }
          ],
          "histogram2d": [
           {
            "colorbar": {
             "outlinewidth": 0,
             "ticks": ""
            },
            "colorscale": [
             [
              0,
              "#0d0887"
             ],
             [
              0.1111111111111111,
              "#46039f"
             ],
             [
              0.2222222222222222,
              "#7201a8"
             ],
             [
              0.3333333333333333,
              "#9c179e"
             ],
             [
              0.4444444444444444,
              "#bd3786"
             ],
             [
              0.5555555555555556,
              "#d8576b"
             ],
             [
              0.6666666666666666,
              "#ed7953"
             ],
             [
              0.7777777777777778,
              "#fb9f3a"
             ],
             [
              0.8888888888888888,
              "#fdca26"
             ],
             [
              1,
              "#f0f921"
             ]
            ],
            "type": "histogram2d"
           }
          ],
          "histogram2dcontour": [
           {
            "colorbar": {
             "outlinewidth": 0,
             "ticks": ""
            },
            "colorscale": [
             [
              0,
              "#0d0887"
             ],
             [
              0.1111111111111111,
              "#46039f"
             ],
             [
              0.2222222222222222,
              "#7201a8"
             ],
             [
              0.3333333333333333,
              "#9c179e"
             ],
             [
              0.4444444444444444,
              "#bd3786"
             ],
             [
              0.5555555555555556,
              "#d8576b"
             ],
             [
              0.6666666666666666,
              "#ed7953"
             ],
             [
              0.7777777777777778,
              "#fb9f3a"
             ],
             [
              0.8888888888888888,
              "#fdca26"
             ],
             [
              1,
              "#f0f921"
             ]
            ],
            "type": "histogram2dcontour"
           }
          ],
          "mesh3d": [
           {
            "colorbar": {
             "outlinewidth": 0,
             "ticks": ""
            },
            "type": "mesh3d"
           }
          ],
          "parcoords": [
           {
            "line": {
             "colorbar": {
              "outlinewidth": 0,
              "ticks": ""
             }
            },
            "type": "parcoords"
           }
          ],
          "pie": [
           {
            "automargin": true,
            "type": "pie"
           }
          ],
          "scatter": [
           {
            "fillpattern": {
             "fillmode": "overlay",
             "size": 10,
             "solidity": 0.2
            },
            "type": "scatter"
           }
          ],
          "scatter3d": [
           {
            "line": {
             "colorbar": {
              "outlinewidth": 0,
              "ticks": ""
             }
            },
            "marker": {
             "colorbar": {
              "outlinewidth": 0,
              "ticks": ""
             }
            },
            "type": "scatter3d"
           }
          ],
          "scattercarpet": [
           {
            "marker": {
             "colorbar": {
              "outlinewidth": 0,
              "ticks": ""
             }
            },
            "type": "scattercarpet"
           }
          ],
          "scattergeo": [
           {
            "marker": {
             "colorbar": {
              "outlinewidth": 0,
              "ticks": ""
             }
            },
            "type": "scattergeo"
           }
          ],
          "scattergl": [
           {
            "marker": {
             "colorbar": {
              "outlinewidth": 0,
              "ticks": ""
             }
            },
            "type": "scattergl"
           }
          ],
          "scattermapbox": [
           {
            "marker": {
             "colorbar": {
              "outlinewidth": 0,
              "ticks": ""
             }
            },
            "type": "scattermapbox"
           }
          ],
          "scatterpolar": [
           {
            "marker": {
             "colorbar": {
              "outlinewidth": 0,
              "ticks": ""
             }
            },
            "type": "scatterpolar"
           }
          ],
          "scatterpolargl": [
           {
            "marker": {
             "colorbar": {
              "outlinewidth": 0,
              "ticks": ""
             }
            },
            "type": "scatterpolargl"
           }
          ],
          "scatterternary": [
           {
            "marker": {
             "colorbar": {
              "outlinewidth": 0,
              "ticks": ""
             }
            },
            "type": "scatterternary"
           }
          ],
          "surface": [
           {
            "colorbar": {
             "outlinewidth": 0,
             "ticks": ""
            },
            "colorscale": [
             [
              0,
              "#0d0887"
             ],
             [
              0.1111111111111111,
              "#46039f"
             ],
             [
              0.2222222222222222,
              "#7201a8"
             ],
             [
              0.3333333333333333,
              "#9c179e"
             ],
             [
              0.4444444444444444,
              "#bd3786"
             ],
             [
              0.5555555555555556,
              "#d8576b"
             ],
             [
              0.6666666666666666,
              "#ed7953"
             ],
             [
              0.7777777777777778,
              "#fb9f3a"
             ],
             [
              0.8888888888888888,
              "#fdca26"
             ],
             [
              1,
              "#f0f921"
             ]
            ],
            "type": "surface"
           }
          ],
          "table": [
           {
            "cells": {
             "fill": {
              "color": "#EBF0F8"
             },
             "line": {
              "color": "white"
             }
            },
            "header": {
             "fill": {
              "color": "#C8D4E3"
             },
             "line": {
              "color": "white"
             }
            },
            "type": "table"
           }
          ]
         },
         "layout": {
          "annotationdefaults": {
           "arrowcolor": "#2a3f5f",
           "arrowhead": 0,
           "arrowwidth": 1
          },
          "autotypenumbers": "strict",
          "coloraxis": {
           "colorbar": {
            "outlinewidth": 0,
            "ticks": ""
           }
          },
          "colorscale": {
           "diverging": [
            [
             0,
             "#8e0152"
            ],
            [
             0.1,
             "#c51b7d"
            ],
            [
             0.2,
             "#de77ae"
            ],
            [
             0.3,
             "#f1b6da"
            ],
            [
             0.4,
             "#fde0ef"
            ],
            [
             0.5,
             "#f7f7f7"
            ],
            [
             0.6,
             "#e6f5d0"
            ],
            [
             0.7,
             "#b8e186"
            ],
            [
             0.8,
             "#7fbc41"
            ],
            [
             0.9,
             "#4d9221"
            ],
            [
             1,
             "#276419"
            ]
           ],
           "sequential": [
            [
             0,
             "#0d0887"
            ],
            [
             0.1111111111111111,
             "#46039f"
            ],
            [
             0.2222222222222222,
             "#7201a8"
            ],
            [
             0.3333333333333333,
             "#9c179e"
            ],
            [
             0.4444444444444444,
             "#bd3786"
            ],
            [
             0.5555555555555556,
             "#d8576b"
            ],
            [
             0.6666666666666666,
             "#ed7953"
            ],
            [
             0.7777777777777778,
             "#fb9f3a"
            ],
            [
             0.8888888888888888,
             "#fdca26"
            ],
            [
             1,
             "#f0f921"
            ]
           ],
           "sequentialminus": [
            [
             0,
             "#0d0887"
            ],
            [
             0.1111111111111111,
             "#46039f"
            ],
            [
             0.2222222222222222,
             "#7201a8"
            ],
            [
             0.3333333333333333,
             "#9c179e"
            ],
            [
             0.4444444444444444,
             "#bd3786"
            ],
            [
             0.5555555555555556,
             "#d8576b"
            ],
            [
             0.6666666666666666,
             "#ed7953"
            ],
            [
             0.7777777777777778,
             "#fb9f3a"
            ],
            [
             0.8888888888888888,
             "#fdca26"
            ],
            [
             1,
             "#f0f921"
            ]
           ]
          },
          "colorway": [
           "#636efa",
           "#EF553B",
           "#00cc96",
           "#ab63fa",
           "#FFA15A",
           "#19d3f3",
           "#FF6692",
           "#B6E880",
           "#FF97FF",
           "#FECB52"
          ],
          "font": {
           "color": "#2a3f5f"
          },
          "geo": {
           "bgcolor": "white",
           "lakecolor": "white",
           "landcolor": "#E5ECF6",
           "showlakes": true,
           "showland": true,
           "subunitcolor": "white"
          },
          "hoverlabel": {
           "align": "left"
          },
          "hovermode": "closest",
          "mapbox": {
           "style": "light"
          },
          "paper_bgcolor": "white",
          "plot_bgcolor": "#E5ECF6",
          "polar": {
           "angularaxis": {
            "gridcolor": "white",
            "linecolor": "white",
            "ticks": ""
           },
           "bgcolor": "#E5ECF6",
           "radialaxis": {
            "gridcolor": "white",
            "linecolor": "white",
            "ticks": ""
           }
          },
          "scene": {
           "xaxis": {
            "backgroundcolor": "#E5ECF6",
            "gridcolor": "white",
            "gridwidth": 2,
            "linecolor": "white",
            "showbackground": true,
            "ticks": "",
            "zerolinecolor": "white"
           },
           "yaxis": {
            "backgroundcolor": "#E5ECF6",
            "gridcolor": "white",
            "gridwidth": 2,
            "linecolor": "white",
            "showbackground": true,
            "ticks": "",
            "zerolinecolor": "white"
           },
           "zaxis": {
            "backgroundcolor": "#E5ECF6",
            "gridcolor": "white",
            "gridwidth": 2,
            "linecolor": "white",
            "showbackground": true,
            "ticks": "",
            "zerolinecolor": "white"
           }
          },
          "shapedefaults": {
           "line": {
            "color": "#2a3f5f"
           }
          },
          "ternary": {
           "aaxis": {
            "gridcolor": "white",
            "linecolor": "white",
            "ticks": ""
           },
           "baxis": {
            "gridcolor": "white",
            "linecolor": "white",
            "ticks": ""
           },
           "bgcolor": "#E5ECF6",
           "caxis": {
            "gridcolor": "white",
            "linecolor": "white",
            "ticks": ""
           }
          },
          "title": {
           "x": 0.05
          },
          "xaxis": {
           "automargin": true,
           "gridcolor": "white",
           "linecolor": "white",
           "ticks": "",
           "title": {
            "standoff": 15
           },
           "zerolinecolor": "white",
           "zerolinewidth": 2
          },
          "yaxis": {
           "automargin": true,
           "gridcolor": "white",
           "linecolor": "white",
           "ticks": "",
           "title": {
            "standoff": 15
           },
           "zerolinecolor": "white",
           "zerolinewidth": 2
          }
         }
        },
        "title": {
         "text": "Pathway Enrichment Bubble Plot"
        },
        "width": 900,
        "xaxis": {
         "anchor": "y",
         "domain": [
          0,
          1
         ],
         "title": {
          "text": "Fold Enrichment"
         }
        },
        "yaxis": {
         "anchor": "x",
         "autorange": "reversed",
         "domain": [
          0,
          1
         ],
         "title": {
          "text": "Pathway"
         }
        }
       }
      }
     },
     "metadata": {},
     "output_type": "display_data"
    }
   ],
   "source": [
    "\n",
    "plot_pathway_enrichment(hypergeometric_pathway_enrichment_df, pval_threshold=2)\n"
   ]
  }
 ],
 "metadata": {
  "kernelspec": {
   "display_name": "dingo-stats-3-10",
   "language": "python",
   "name": "python3"
  },
  "language_info": {
   "codemirror_mode": {
    "name": "ipython",
    "version": 3
   },
   "file_extension": ".py",
   "mimetype": "text/x-python",
   "name": "python",
   "nbconvert_exporter": "python",
   "pygments_lexer": "ipython3",
   "version": "3.10.18"
  }
 },
 "nbformat": 4,
 "nbformat_minor": 5
}
