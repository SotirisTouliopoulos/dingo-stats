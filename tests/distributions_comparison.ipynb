{
 "cells": [
  {
   "cell_type": "code",
   "execution_count": 1,
   "id": "2eab24b2",
   "metadata": {},
   "outputs": [
    {
     "name": "stderr",
     "output_type": "stream",
     "text": [
      "/home/touliopoulos/.local/lib/python3.10/site-packages/pandas/core/computation/expressions.py:21: UserWarning: Pandas requires version '2.8.4' or newer of 'numexpr' (version '2.8.1' currently installed).\n",
      "  from pandas.core.computation.check import NUMEXPR_INSTALLED\n",
      "/home/touliopoulos/.local/lib/python3.10/site-packages/pandas/core/arrays/masked.py:60: UserWarning: Pandas requires version '1.3.6' or newer of 'bottleneck' (version '1.3.2' currently installed).\n",
      "  from pandas.core import (\n"
     ]
    }
   ],
   "source": [
    "\n",
    "import sys\n",
    "sys.path.insert(0, '../scripts/')\n",
    "from load_modify_sample_utils import load_model, get_objective_functions, get_reaction_bounds, modify_model, sample_gapsplit, plot_grid_95_reactions\n",
    "from load_modify_sample_utils import sample_dingo, sample_optgp, sampling_statistics\n",
    "from distributions_comparison_utils import significantly_altered_reactions\n"
   ]
  },
  {
   "cell_type": "code",
   "execution_count": 2,
   "id": "27c00785",
   "metadata": {},
   "outputs": [
    {
     "name": "stdout",
     "output_type": "stream",
     "text": [
      "Set parameter Username\n",
      "Set parameter LicenseID to value 2642044\n",
      "Academic license - for non-commercial use only - expires 2026-03-25\n",
      "['BIOMASS_Ecoli_core_w_GAM']\n",
      "{'PFK': (0.0, 1000.0), 'PFL': (0.0, 1000.0), 'PGI': (-1000.0, 1000.0), 'PGK': (-1000.0, 1000.0), 'PGL': (0.0, 1000.0), 'ACALD': (-1000.0, 1000.0), 'AKGt2r': (-1000.0, 1000.0), 'PGM': (-1000.0, 1000.0), 'PIt2r': (-1000.0, 1000.0), 'ALCD2x': (-1000.0, 1000.0), 'ACALDt': (-1000.0, 1000.0), 'ACKr': (-1000.0, 1000.0), 'PPC': (0.0, 1000.0), 'ACONTa': (-1000.0, 1000.0), 'ACONTb': (-1000.0, 1000.0), 'ATPM': (8.39, 1000.0), 'PPCK': (0.0, 1000.0), 'ACt2r': (-1000.0, 1000.0), 'PPS': (0.0, 1000.0), 'ADK1': (-1000.0, 1000.0), 'AKGDH': (0.0, 1000.0), 'ATPS4r': (-1000.0, 1000.0), 'PTAr': (-1000.0, 1000.0), 'PYK': (0.0, 1000.0), 'BIOMASS_Ecoli_core_w_GAM': (0.0, 1000.0), 'PYRt2': (-1000.0, 1000.0), 'CO2t': (-1000.0, 1000.0), 'RPE': (-1000.0, 1000.0), 'CS': (0.0, 1000.0), 'RPI': (-1000.0, 1000.0), 'SUCCt2_2': (0.0, 1000.0), 'CYTBD': (0.0, 1000.0), 'D_LACt2': (-1000.0, 1000.0), 'ENO': (-1000.0, 1000.0), 'SUCCt3': (0.0, 1000.0), 'ETOHt2r': (-1000.0, 1000.0), 'SUCDi': (0.0, 1000.0), 'SUCOAS': (-1000.0, 1000.0), 'TALA': (-1000.0, 1000.0), 'THD2': (0.0, 1000.0), 'TKT1': (-1000.0, 1000.0), 'TKT2': (-1000.0, 1000.0), 'TPI': (-1000.0, 1000.0), 'EX_ac_e': (0.0, 1000.0), 'EX_acald_e': (0.0, 1000.0), 'EX_akg_e': (0.0, 1000.0), 'EX_co2_e': (-1000.0, 1000.0), 'EX_etoh_e': (0.0, 1000.0), 'EX_for_e': (0.0, 1000.0), 'EX_fru_e': (0.0, 1000.0), 'EX_fum_e': (0.0, 1000.0), 'EX_glc__D_e': (-10.0, 1000.0), 'EX_gln__L_e': (0.0, 1000.0), 'EX_glu__L_e': (0.0, 1000.0), 'EX_h_e': (-1000.0, 1000.0), 'EX_h2o_e': (-1000.0, 1000.0), 'EX_lac__D_e': (0.0, 1000.0), 'EX_mal__L_e': (0.0, 1000.0), 'EX_nh4_e': (-1000.0, 1000.0), 'EX_o2_e': (-1000.0, 1000.0), 'EX_pi_e': (-1000.0, 1000.0), 'EX_pyr_e': (0.0, 1000.0), 'EX_succ_e': (0.0, 1000.0), 'FBA': (-1000.0, 1000.0), 'FBP': (0.0, 1000.0), 'FORt2': (0.0, 1000.0), 'FORt': (-1000.0, 0.0), 'FRD7': (0.0, 1000.0), 'FRUpts2': (0.0, 1000.0), 'FUM': (-1000.0, 1000.0), 'FUMt2_2': (0.0, 1000.0), 'G6PDH2r': (-1000.0, 1000.0), 'GAPD': (-1000.0, 1000.0), 'GLCpts': (0.0, 1000.0), 'GLNS': (0.0, 1000.0), 'GLNabc': (0.0, 1000.0), 'GLUDy': (-1000.0, 1000.0), 'GLUN': (0.0, 1000.0), 'GLUSy': (0.0, 1000.0), 'GLUt2r': (-1000.0, 1000.0), 'GND': (0.0, 1000.0), 'H2Ot': (-1000.0, 1000.0), 'ICDHyr': (-1000.0, 1000.0), 'ICL': (0.0, 1000.0), 'LDH_D': (-1000.0, 1000.0), 'MALS': (0.0, 1000.0), 'MALt2_2': (0.0, 1000.0), 'MDH': (-1000.0, 1000.0), 'ME1': (0.0, 1000.0), 'ME2': (0.0, 1000.0), 'NADH16': (0.0, 1000.0), 'NADTRHD': (0.0, 1000.0), 'NH4t': (-1000.0, 1000.0), 'O2t': (-1000.0, 1000.0), 'PDH': (0.0, 1000.0)}\n"
     ]
    }
   ],
   "source": [
    "ec_cobra_model, ec_cobra_reactions, ec_dingo_model, ec_dingo_reactions = load_model(\"../ext_data/models/e_coli_core.xml\")\n",
    "\n",
    "objective_functions = get_objective_functions(ec_cobra_model)\n",
    "print(objective_functions)\n",
    "\n",
    "default_reaction_bounds = get_reaction_bounds(ec_cobra_model)\n",
    "print(default_reaction_bounds)\n"
   ]
  },
  {
   "cell_type": "code",
   "execution_count": 3,
   "id": "5389055e",
   "metadata": {},
   "outputs": [
    {
     "name": "stdout",
     "output_type": "stream",
     "text": [
      "Read LP format model from file /tmp/tmpvu1pxei6.lp\n",
      "Reading time = 0.00 seconds\n",
      ": 72 rows, 190 columns, 720 nonzeros\n"
     ]
    }
   ],
   "source": [
    "\n",
    "ec_cobra_model_modified, ec_dingo_model_modified = modify_model(ec_cobra_model, objective_function=\"BIOMASS_Ecoli_core_w_GAM\", optimal_percentage=0)\n"
   ]
  },
  {
   "cell_type": "code",
   "execution_count": 4,
   "id": "7aaab803",
   "metadata": {},
   "outputs": [
    {
     "name": "stdout",
     "output_type": "stream",
     "text": [
      "Set parameter Username\n",
      "Set parameter LicenseID to value 2642044\n",
      "Academic license - for non-commercial use only - expires 2026-03-25\n",
      "phase 1: number of correlated samples = 500, effective sample size = 8, ratio of the maximum singilar value over the minimum singular value = 966.889\n",
      "phase 2: number of correlated samples = 500, effective sample size = 5, ratio of the maximum singilar value over the minimum singular value = 212.805\n",
      "phase 3: number of correlated samples = 500, effective sample size = 17, ratio of the maximum singilar value over the minimum singular value = 79.0583\n",
      "phase 4: number of correlated samples = 500, effective sample size = 29, ratio of the maximum singilar value over the minimum singular value = 165.873\n",
      "phase 5: number of correlated samples = 500, effective sample size = 163, ratio of the maximum singilar value over the minimum singular value = 3.26284\n",
      "phase 6: number of correlated samples = 500, effective sample size = 191, ratio of the maximum singilar value over the minimum singular value = 2.72338\n",
      "phase 7: number of correlated samples = 2400, effective sample size = 972\n",
      "phase 8: number of correlated samples = 1400, effective sample size = 645\n",
      "[5]total ess 2030: number of correlated samples = 6800\n",
      "\n",
      "\n"
     ]
    },
    {
     "name": "stderr",
     "output_type": "stream",
     "text": [
      "[5]maximum marginal PSRF: 1.01245\n"
     ]
    },
    {
     "name": "stdout",
     "output_type": "stream",
     "text": [
      "phase 1: number of correlated samples = 500, effective sample size = 4, ratio of the maximum singilar value over the minimum singular value = 1217.36\n",
      "phase 2: number of correlated samples = 500, effective sample size = 164, ratio of the maximum singilar value over the minimum singular value = 1\n",
      "phase 3: number of correlated samples = 2400, effective sample size = 740\n",
      "phase 4: number of correlated samples = 2400, effective sample size = 916\n",
      "phase 5: number of correlated samples = 2400, effective sample size = 736\n",
      "[5]total ess 2560: number of correlated samples = 8200\n",
      "\n",
      "\n"
     ]
    },
    {
     "name": "stderr",
     "output_type": "stream",
     "text": [
      "[5]maximum marginal PSRF: 1.00111\n"
     ]
    }
   ],
   "source": [
    "\n",
    "samples_dingo = sample_dingo(ec_dingo_model, reaction_in_rows = True, ess=2000)\n",
    "\n",
    "samples_dingo_modified_model = sample_dingo(ec_dingo_model_modified, reaction_in_rows = True, ess=2000)\n"
   ]
  },
  {
   "cell_type": "code",
   "execution_count": null,
   "id": "44b0e7cd",
   "metadata": {},
   "outputs": [],
   "source": [
    "\n",
    "from statsmodels.stats.multitest import multipletests\n",
    "from scipy import stats\n",
    "import numpy as np\n",
    "        \n",
    "\n",
    "def significantly_altered_reactions(conditions=[], selected_comparisons = [(0, 1)], cobra_model=None, p_value_cutoff=0.05, fold_change_cutoff=2):\n",
    "    cobra_reactions_str = [str(reaction.id) for reaction in cobra_model.reactions]\n",
    "        \n",
    "    # if provided sampling dataset has reactions as cols ==> transpose\n",
    "    for condition in conditions:\n",
    "        if condition.shape[1] == len(cobra_reactions_str):\n",
    "            condition = condition.T\n",
    "    \n",
    "    # Store p-values for each row for KS test\n",
    "    p_values = {row: [] for row in range(len(cobra_reactions_str)) }\n",
    "    # Store ks-values for each row for KS test\n",
    "    ks_values = {row: [] for row in range(len(cobra_reactions_str)) }\n",
    "    # Store fold-change-values for each row for KS test\n",
    "    fold_change_values = {row: [] for row in range(len(cobra_reactions_str)) }\n",
    "\n",
    "    for row in range(len(cobra_reactions_str)):\n",
    "        for i, j in selected_comparisons:\n",
    "            \n",
    "            ks, p = stats.ks_2samp(conditions[i][row], conditions[j][row], alternative='two-sided')\n",
    "            p_values[row].append(p)\n",
    "            ks_values[row].append(ks)\n",
    "            \n",
    "            fold_change = np.abs( (np.mean(conditions[i][row]) - np.mean(conditions[j][row]) ) / np.mean(conditions[j][row])+1e-8 )\n",
    "            fold_change_values[row].append(fold_change)\n",
    "\n",
    "    p_values_copy = list(p_values.values())\n",
    "    flat_p_values = np.array(p_values_copy).flatten()\n",
    "    \n",
    "    fold_change_values = np.array(list(fold_change_values.values()))\n",
    "\n",
    "\n",
    "    # Apply FDR correction\n",
    "    _, corrected_p_values, _, _ = multipletests(flat_p_values, method='fdr_bh')\n",
    "\n",
    "    # Reshape corrected p-values back to the original matrix shape\n",
    "    corrected_p_values = corrected_p_values.reshape(np.array(p_values_copy).shape)\n",
    "    \n",
    "    significant_diff_indices = np.where(\n",
    "    np.logical_and(\n",
    "        corrected_p_values < p_value_cutoff,\n",
    "        fold_change_values > fold_change_cutoff\n",
    "    ) )[0]\n",
    "    \n",
    "    significant_diff_reactions = [cobra_reactions_str[i] for i in significant_diff_indices]\n",
    "    \n",
    "    not_significant_diff_indices = np.where(corrected_p_values >= p_value_cutoff)[0]\n",
    "    not_significant_diff_reactions = [cobra_reactions_str[i] for i in not_significant_diff_indices]\n",
    "    \n",
    "    return significant_diff_indices, significant_diff_reactions, not_significant_diff_reactions\n",
    "\n"
   ]
  },
  {
   "cell_type": "code",
   "execution_count": null,
   "id": "896413db",
   "metadata": {},
   "outputs": [
    {
     "name": "stdout",
     "output_type": "stream",
     "text": [
      "2\n"
     ]
    },
    {
     "name": "stderr",
     "output_type": "stream",
     "text": [
      "/tmp/ipykernel_14901/306431553.py:28: RuntimeWarning: invalid value encountered in double_scalars\n",
      "  fold_change = np.abs( (np.mean(conditions[i][row]) - np.mean(conditions[j][row])) / np.mean(conditions[j][row])+1e-8)\n"
     ]
    },
    {
     "name": "stdout",
     "output_type": "stream",
     "text": [
      "['PFK', 'PFL', 'PGI', 'PGL', 'ACALD', 'AKGt2r', 'PIt2r', 'ALCD2x', 'ACALDt', 'ACKr', 'PPC', 'ACONTa', 'ACONTb', 'ATPM', 'PPCK', 'ACt2r', 'PPS', 'ADK1', 'AKGDH', 'PTAr', 'PYK', 'BIOMASS_Ecoli_core_w_GAM', 'PYRt2', 'CO2t', 'RPE', 'CS', 'SUCCt2_2', 'CYTBD', 'D_LACt2', 'SUCCt3', 'ETOHt2r', 'SUCOAS', 'TALA', 'THD2', 'TKT1', 'TKT2', 'EX_ac_e', 'EX_acald_e', 'EX_akg_e', 'EX_co2_e', 'EX_etoh_e', 'EX_for_e', 'EX_glu__L_e', 'EX_h_e', 'EX_lac__D_e', 'EX_nh4_e', 'EX_o2_e', 'EX_pi_e', 'EX_pyr_e', 'EX_succ_e', 'FBP', 'FORt2', 'FORt', 'FUM', 'G6PDH2r', 'GLNS', 'GLUDy', 'GLUN', 'GLUSy', 'GLUt2r', 'GND', 'ICDHyr', 'ICL', 'LDH_D', 'MALS', 'MDH', 'ME1', 'ME2', 'NADH16', 'NADTRHD', 'NH4t', 'O2t', 'PDH']\n",
      "73\n"
     ]
    }
   ],
   "source": [
    "\n",
    "\n",
    "conditions=[samples_dingo, samples_dingo_modified_model]\n",
    "selected_comparisons = [(0, 1)]\n",
    "print(len(selected_comparisons[0]))\n",
    "\n",
    "# I have to add FOLD CHANGE\n",
    "# fva\n",
    "_, significant_diff_reactions, not_significant_diff_reactions = significantly_altered_reactions(conditions, \n",
    "                                                                                                selected_comparisons, \n",
    "                                                                                                cobra_model=ec_cobra_model,\n",
    "                                                                                                fold_change_cutoff=0.2)\n",
    "\n",
    "\n",
    "print(significant_diff_reactions)\n",
    "print(len(significant_diff_reactions))\n"
   ]
  }
 ],
 "metadata": {
  "kernelspec": {
   "display_name": "Python 3",
   "language": "python",
   "name": "python3"
  },
  "language_info": {
   "codemirror_mode": {
    "name": "ipython",
    "version": 3
   },
   "file_extension": ".py",
   "mimetype": "text/x-python",
   "name": "python",
   "nbconvert_exporter": "python",
   "pygments_lexer": "ipython3",
   "version": "3.10.12"
  }
 },
 "nbformat": 4,
 "nbformat_minor": 5
}
