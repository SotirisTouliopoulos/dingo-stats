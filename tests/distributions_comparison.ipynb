{
 "cells": [
  {
   "cell_type": "markdown",
   "id": "6ab261c4",
   "metadata": {},
   "source": [
    "### Load libraries"
   ]
  },
  {
   "cell_type": "code",
   "execution_count": 12,
   "id": "2eab24b2",
   "metadata": {},
   "outputs": [],
   "source": [
    "\n",
    "import sys\n",
    "sys.path.insert(0, '../src/')\n",
    "\n",
    "from load_modify_sample_utils import load_model, get_objective_functions, get_reaction_bounds, modify_model\n",
    "from load_modify_sample_utils import sample_dingo, sample_optgp\n",
    "\n",
    "from distributions_comparison_utils import significantly_altered_reactions\n",
    "\n",
    "from pathways_utils import sort_reactions_in_pathways_by_reactions_in_model_order, subset_sampling_df_from_reaction_ids\n",
    "from pathways_utils import map_model_to_kegg_reactions, read_json_file, bigg_to_kegg_id, fill_missing_kegg_ids_in_dict\n",
    "from pathways_utils import get_kegg_pathways_from_reaction_ids, subset_model_reactions_from_pathway_info\n",
    "from pathways_utils import dictionary_bigg_id_to_pathway_names, dictionary_forward_reverse_bigg_id_to_pathway_names\n",
    "from pathways_utils import reaction_in_pathway_binary_matrix, plot_reaction_in_pathway_heatmap\n"
   ]
  },
  {
   "cell_type": "markdown",
   "id": "b0d623fc",
   "metadata": {},
   "source": [
    "### Load model"
   ]
  },
  {
   "cell_type": "code",
   "execution_count": 3,
   "id": "27c00785",
   "metadata": {},
   "outputs": [
    {
     "name": "stdout",
     "output_type": "stream",
     "text": [
      "Set parameter Username\n",
      "Set parameter LicenseID to value 2642044\n",
      "Academic license - for non-commercial use only - expires 2026-03-25\n",
      "['BIOMASS_Ecoli_core_w_GAM']\n",
      "{'PFK': (0.0, 1000.0), 'PFL': (0.0, 1000.0), 'PGI': (-1000.0, 1000.0), 'PGK': (-1000.0, 1000.0), 'PGL': (0.0, 1000.0), 'ACALD': (-1000.0, 1000.0), 'AKGt2r': (-1000.0, 1000.0), 'PGM': (-1000.0, 1000.0), 'PIt2r': (-1000.0, 1000.0), 'ALCD2x': (-1000.0, 1000.0), 'ACALDt': (-1000.0, 1000.0), 'ACKr': (-1000.0, 1000.0), 'PPC': (0.0, 1000.0), 'ACONTa': (-1000.0, 1000.0), 'ACONTb': (-1000.0, 1000.0), 'ATPM': (8.39, 1000.0), 'PPCK': (0.0, 1000.0), 'ACt2r': (-1000.0, 1000.0), 'PPS': (0.0, 1000.0), 'ADK1': (-1000.0, 1000.0), 'AKGDH': (0.0, 1000.0), 'ATPS4r': (-1000.0, 1000.0), 'PTAr': (-1000.0, 1000.0), 'PYK': (0.0, 1000.0), 'BIOMASS_Ecoli_core_w_GAM': (0.0, 1000.0), 'PYRt2': (-1000.0, 1000.0), 'CO2t': (-1000.0, 1000.0), 'RPE': (-1000.0, 1000.0), 'CS': (0.0, 1000.0), 'RPI': (-1000.0, 1000.0), 'SUCCt2_2': (0.0, 1000.0), 'CYTBD': (0.0, 1000.0), 'D_LACt2': (-1000.0, 1000.0), 'ENO': (-1000.0, 1000.0), 'SUCCt3': (0.0, 1000.0), 'ETOHt2r': (-1000.0, 1000.0), 'SUCDi': (0.0, 1000.0), 'SUCOAS': (-1000.0, 1000.0), 'TALA': (-1000.0, 1000.0), 'THD2': (0.0, 1000.0), 'TKT1': (-1000.0, 1000.0), 'TKT2': (-1000.0, 1000.0), 'TPI': (-1000.0, 1000.0), 'EX_ac_e': (0.0, 1000.0), 'EX_acald_e': (0.0, 1000.0), 'EX_akg_e': (0.0, 1000.0), 'EX_co2_e': (-1000.0, 1000.0), 'EX_etoh_e': (0.0, 1000.0), 'EX_for_e': (0.0, 1000.0), 'EX_fru_e': (0.0, 1000.0), 'EX_fum_e': (0.0, 1000.0), 'EX_glc__D_e': (-10.0, 1000.0), 'EX_gln__L_e': (0.0, 1000.0), 'EX_glu__L_e': (0.0, 1000.0), 'EX_h_e': (-1000.0, 1000.0), 'EX_h2o_e': (-1000.0, 1000.0), 'EX_lac__D_e': (0.0, 1000.0), 'EX_mal__L_e': (0.0, 1000.0), 'EX_nh4_e': (-1000.0, 1000.0), 'EX_o2_e': (-1000.0, 1000.0), 'EX_pi_e': (-1000.0, 1000.0), 'EX_pyr_e': (0.0, 1000.0), 'EX_succ_e': (0.0, 1000.0), 'FBA': (-1000.0, 1000.0), 'FBP': (0.0, 1000.0), 'FORt2': (0.0, 1000.0), 'FORt': (-1000.0, 0.0), 'FRD7': (0.0, 1000.0), 'FRUpts2': (0.0, 1000.0), 'FUM': (-1000.0, 1000.0), 'FUMt2_2': (0.0, 1000.0), 'G6PDH2r': (-1000.0, 1000.0), 'GAPD': (-1000.0, 1000.0), 'GLCpts': (0.0, 1000.0), 'GLNS': (0.0, 1000.0), 'GLNabc': (0.0, 1000.0), 'GLUDy': (-1000.0, 1000.0), 'GLUN': (0.0, 1000.0), 'GLUSy': (0.0, 1000.0), 'GLUt2r': (-1000.0, 1000.0), 'GND': (0.0, 1000.0), 'H2Ot': (-1000.0, 1000.0), 'ICDHyr': (-1000.0, 1000.0), 'ICL': (0.0, 1000.0), 'LDH_D': (-1000.0, 1000.0), 'MALS': (0.0, 1000.0), 'MALt2_2': (0.0, 1000.0), 'MDH': (-1000.0, 1000.0), 'ME1': (0.0, 1000.0), 'ME2': (0.0, 1000.0), 'NADH16': (0.0, 1000.0), 'NADTRHD': (0.0, 1000.0), 'NH4t': (-1000.0, 1000.0), 'O2t': (-1000.0, 1000.0), 'PDH': (0.0, 1000.0)}\n"
     ]
    }
   ],
   "source": [
    "ec_cobra_model, ec_cobra_reactions, ec_dingo_model, ec_dingo_reactions = load_model(\"../ext_data/models/e_coli_core.xml\")\n",
    "\n",
    "objective_functions = get_objective_functions(ec_cobra_model)\n",
    "print(objective_functions)\n",
    "\n",
    "default_reaction_bounds = get_reaction_bounds(ec_cobra_model)\n",
    "print(default_reaction_bounds)\n"
   ]
  },
  {
   "cell_type": "markdown",
   "id": "0c24f070",
   "metadata": {},
   "source": [
    "### Modify model and sample"
   ]
  },
  {
   "cell_type": "code",
   "execution_count": null,
   "id": "5389055e",
   "metadata": {},
   "outputs": [
    {
     "name": "stdout",
     "output_type": "stream",
     "text": [
      "Read LP format model from file /tmp/tmpnk19l_qi.lp\n",
      "Reading time = 0.01 seconds\n",
      ": 72 rows, 190 columns, 720 nonzeros\n",
      "Read LP format model from file /tmp/tmpvo8ymhne.lp\n",
      "Reading time = 0.00 seconds\n",
      ": 72 rows, 190 columns, 720 nonzeros\n",
      "Read LP format model from file /tmp/tmprp52wrnq.lp\n",
      "Reading time = 0.00 seconds\n",
      ": 72 rows, 190 columns, 720 nonzeros\n",
      "Read LP format model from file /tmp/tmple2lg763.lp\n",
      "Reading time = 0.00 seconds\n",
      ": 72 rows, 190 columns, 720 nonzeros\n",
      "phase 1: number of correlated samples = 500, effective sample size = 7, ratio of the maximum singilar value over the minimum singular value = 1458.08\n",
      "phase 2: number of correlated samples = 500, effective sample size = 9, ratio of the maximum singilar value over the minimum singular value = 355.132\n",
      "phase 3: number of correlated samples = 500, effective sample size = 4, ratio of the maximum singilar value over the minimum singular value = 149.989\n",
      "phase 4: number of correlated samples = 500, effective sample size = 96, ratio of the maximum singilar value over the minimum singular value = 44.3604\n",
      "phase 5: number of correlated samples = 500, effective sample size = 136, ratio of the maximum singilar value over the minimum singular value = 2.99012\n",
      "phase 6: number of correlated samples = 2400, effective sample size = 912\n",
      "phase 7: number of correlated samples = 2000, effective sample size = 846\n",
      "[5]total ess 2010: number of correlated samples = 6900\n",
      "\n",
      "\n"
     ]
    },
    {
     "name": "stderr",
     "output_type": "stream",
     "text": [
      "[5]maximum marginal PSRF: 1.10543\n"
     ]
    },
    {
     "name": "stdout",
     "output_type": "stream",
     "text": [
      "phase 1: number of correlated samples = 500, effective sample size = 11, ratio of the maximum singilar value over the minimum singular value = 718.573\n",
      "phase 2: number of correlated samples = 500, effective sample size = 159, ratio of the maximum singilar value over the minimum singular value = 2.62672\n",
      "phase 3: number of correlated samples = 2400, effective sample size = 967\n",
      "phase 4: number of correlated samples = 2200, effective sample size = 895\n",
      "[5]total ess 2032: number of correlated samples = 5600\n",
      "\n",
      "\n"
     ]
    },
    {
     "name": "stderr",
     "output_type": "stream",
     "text": [
      "[5]maximum marginal PSRF: 1.00684\n"
     ]
    }
   ],
   "source": [
    "\n",
    "ec_cobra_model_condition_100, ec_dingo_model_condition_100 = modify_model(ec_cobra_model, objective_function=\"BIOMASS_Ecoli_core_w_GAM\", optimal_percentage=100)\n",
    "\n",
    "ec_cobra_model_condition_0, ec_dingo_model_condition_0 = modify_model(ec_cobra_model, objective_function=\"BIOMASS_Ecoli_core_w_GAM\", optimal_percentage=0)\n",
    "\n",
    "\n",
    "samples_optgp_condition_100 = sample_optgp(ec_cobra_model_condition_100, n_samples = 3000, thinning=100, reaction_in_rows = True)\n",
    "samples_optgp_condition_0 = sample_optgp(ec_cobra_model_condition_0, n_samples = 3000, thinning=100, reaction_in_rows = True)\n",
    "\n",
    "\n",
    "samples_dingo_condition_100 = sample_dingo(ec_dingo_model_condition_100, reaction_in_rows = True, ess=2000)\n",
    "samples_dingo_condition_0 = sample_dingo(ec_dingo_model_condition_0, reaction_in_rows = True, ess=2000)\n",
    "\n"
   ]
  },
  {
   "cell_type": "code",
   "execution_count": 13,
   "id": "7e634379",
   "metadata": {},
   "outputs": [
    {
     "name": "stderr",
     "output_type": "stream",
     "text": [
      "\u001b[33mWARNING [bioservices.KEGG:596]: \u001b[0m \u001b[32mstatus is not ok with Bad Request\u001b[0m\n",
      "WARNING:bioservices.KEGG:status is not ok with Bad Request\n",
      "\u001b[33mWARNING [bioservices.KEGG:1181]: \u001b[0m \u001b[32mCould not parse the entry correctly.\u001b[0m\n",
      "WARNING:bioservices.KEGG:Could not parse the entry correctly.\n",
      "\u001b[33mWARNING [bioservices.KEGG:596]: \u001b[0m \u001b[32mstatus is not ok with Bad Request\u001b[0m\n",
      "WARNING:bioservices.KEGG:status is not ok with Bad Request\n",
      "\u001b[33mWARNING [bioservices.KEGG:1181]: \u001b[0m \u001b[32mCould not parse the entry correctly.\u001b[0m\n",
      "WARNING:bioservices.KEGG:Could not parse the entry correctly.\n",
      "\u001b[33mWARNING [bioservices.KEGG:596]: \u001b[0m \u001b[32mstatus is not ok with Bad Request\u001b[0m\n",
      "WARNING:bioservices.KEGG:status is not ok with Bad Request\n",
      "\u001b[33mWARNING [bioservices.KEGG:1181]: \u001b[0m \u001b[32mCould not parse the entry correctly.\u001b[0m\n",
      "WARNING:bioservices.KEGG:Could not parse the entry correctly.\n",
      "\u001b[33mWARNING [bioservices.KEGG:596]: \u001b[0m \u001b[32mstatus is not ok with Bad Request\u001b[0m\n",
      "WARNING:bioservices.KEGG:status is not ok with Bad Request\n",
      "\u001b[33mWARNING [bioservices.KEGG:1181]: \u001b[0m \u001b[32mCould not parse the entry correctly.\u001b[0m\n",
      "WARNING:bioservices.KEGG:Could not parse the entry correctly.\n",
      "\u001b[33mWARNING [bioservices.KEGG:596]: \u001b[0m \u001b[32mstatus is not ok with Bad Request\u001b[0m\n",
      "WARNING:bioservices.KEGG:status is not ok with Bad Request\n",
      "\u001b[33mWARNING [bioservices.KEGG:1181]: \u001b[0m \u001b[32mCould not parse the entry correctly.\u001b[0m\n",
      "WARNING:bioservices.KEGG:Could not parse the entry correctly.\n",
      "\u001b[33mWARNING [bioservices.KEGG:596]: \u001b[0m \u001b[32mstatus is not ok with Bad Request\u001b[0m\n",
      "WARNING:bioservices.KEGG:status is not ok with Bad Request\n",
      "\u001b[33mWARNING [bioservices.KEGG:1181]: \u001b[0m \u001b[32mCould not parse the entry correctly.\u001b[0m\n",
      "WARNING:bioservices.KEGG:Could not parse the entry correctly.\n",
      "\u001b[33mWARNING [bioservices.KEGG:596]: \u001b[0m \u001b[32mstatus is not ok with Bad Request\u001b[0m\n",
      "WARNING:bioservices.KEGG:status is not ok with Bad Request\n",
      "\u001b[33mWARNING [bioservices.KEGG:1181]: \u001b[0m \u001b[32mCould not parse the entry correctly.\u001b[0m\n",
      "WARNING:bioservices.KEGG:Could not parse the entry correctly.\n",
      "\u001b[33mWARNING [bioservices.KEGG:596]: \u001b[0m \u001b[32mstatus is not ok with Bad Request\u001b[0m\n",
      "WARNING:bioservices.KEGG:status is not ok with Bad Request\n",
      "\u001b[33mWARNING [bioservices.KEGG:1181]: \u001b[0m \u001b[32mCould not parse the entry correctly.\u001b[0m\n",
      "WARNING:bioservices.KEGG:Could not parse the entry correctly.\n",
      "\u001b[33mWARNING [bioservices.KEGG:596]: \u001b[0m \u001b[32mstatus is not ok with Bad Request\u001b[0m\n",
      "WARNING:bioservices.KEGG:status is not ok with Bad Request\n",
      "\u001b[33mWARNING [bioservices.KEGG:1181]: \u001b[0m \u001b[32mCould not parse the entry correctly.\u001b[0m\n",
      "WARNING:bioservices.KEGG:Could not parse the entry correctly.\n",
      "\u001b[33mWARNING [bioservices.KEGG:596]: \u001b[0m \u001b[32mstatus is not ok with Bad Request\u001b[0m\n",
      "WARNING:bioservices.KEGG:status is not ok with Bad Request\n",
      "\u001b[33mWARNING [bioservices.KEGG:1181]: \u001b[0m \u001b[32mCould not parse the entry correctly.\u001b[0m\n",
      "WARNING:bioservices.KEGG:Could not parse the entry correctly.\n",
      "\u001b[33mWARNING [bioservices.KEGG:596]: \u001b[0m \u001b[32mstatus is not ok with Bad Request\u001b[0m\n",
      "WARNING:bioservices.KEGG:status is not ok with Bad Request\n",
      "\u001b[33mWARNING [bioservices.KEGG:1181]: \u001b[0m \u001b[32mCould not parse the entry correctly.\u001b[0m\n",
      "WARNING:bioservices.KEGG:Could not parse the entry correctly.\n",
      "\u001b[33mWARNING [bioservices.KEGG:596]: \u001b[0m \u001b[32mstatus is not ok with Bad Request\u001b[0m\n",
      "WARNING:bioservices.KEGG:status is not ok with Bad Request\n",
      "\u001b[33mWARNING [bioservices.KEGG:1181]: \u001b[0m \u001b[32mCould not parse the entry correctly.\u001b[0m\n",
      "WARNING:bioservices.KEGG:Could not parse the entry correctly.\n",
      "\u001b[33mWARNING [bioservices.KEGG:596]: \u001b[0m \u001b[32mstatus is not ok with Bad Request\u001b[0m\n",
      "WARNING:bioservices.KEGG:status is not ok with Bad Request\n",
      "\u001b[33mWARNING [bioservices.KEGG:1181]: \u001b[0m \u001b[32mCould not parse the entry correctly.\u001b[0m\n",
      "WARNING:bioservices.KEGG:Could not parse the entry correctly.\n",
      "\u001b[33mWARNING [bioservices.KEGG:596]: \u001b[0m \u001b[32mstatus is not ok with Bad Request\u001b[0m\n",
      "WARNING:bioservices.KEGG:status is not ok with Bad Request\n",
      "\u001b[33mWARNING [bioservices.KEGG:1181]: \u001b[0m \u001b[32mCould not parse the entry correctly.\u001b[0m\n",
      "WARNING:bioservices.KEGG:Could not parse the entry correctly.\n",
      "\u001b[33mWARNING [bioservices.KEGG:596]: \u001b[0m \u001b[32mstatus is not ok with Bad Request\u001b[0m\n",
      "WARNING:bioservices.KEGG:status is not ok with Bad Request\n",
      "\u001b[33mWARNING [bioservices.KEGG:1181]: \u001b[0m \u001b[32mCould not parse the entry correctly.\u001b[0m\n",
      "WARNING:bioservices.KEGG:Could not parse the entry correctly.\n",
      "\u001b[33mWARNING [bioservices.KEGG:596]: \u001b[0m \u001b[32mstatus is not ok with Bad Request\u001b[0m\n",
      "WARNING:bioservices.KEGG:status is not ok with Bad Request\n",
      "\u001b[33mWARNING [bioservices.KEGG:1181]: \u001b[0m \u001b[32mCould not parse the entry correctly.\u001b[0m\n",
      "WARNING:bioservices.KEGG:Could not parse the entry correctly.\n",
      "\u001b[33mWARNING [bioservices.KEGG:596]: \u001b[0m \u001b[32mstatus is not ok with Bad Request\u001b[0m\n",
      "WARNING:bioservices.KEGG:status is not ok with Bad Request\n",
      "\u001b[33mWARNING [bioservices.KEGG:1181]: \u001b[0m \u001b[32mCould not parse the entry correctly.\u001b[0m\n",
      "WARNING:bioservices.KEGG:Could not parse the entry correctly.\n",
      "\u001b[33mWARNING [bioservices.KEGG:596]: \u001b[0m \u001b[32mstatus is not ok with Bad Request\u001b[0m\n",
      "WARNING:bioservices.KEGG:status is not ok with Bad Request\n",
      "\u001b[33mWARNING [bioservices.KEGG:1181]: \u001b[0m \u001b[32mCould not parse the entry correctly.\u001b[0m\n",
      "WARNING:bioservices.KEGG:Could not parse the entry correctly.\n",
      "\u001b[33mWARNING [bioservices.KEGG:596]: \u001b[0m \u001b[32mstatus is not ok with Bad Request\u001b[0m\n",
      "WARNING:bioservices.KEGG:status is not ok with Bad Request\n",
      "\u001b[33mWARNING [bioservices.KEGG:1181]: \u001b[0m \u001b[32mCould not parse the entry correctly.\u001b[0m\n",
      "WARNING:bioservices.KEGG:Could not parse the entry correctly.\n",
      "\u001b[33mWARNING [bioservices.KEGG:596]: \u001b[0m \u001b[32mstatus is not ok with Bad Request\u001b[0m\n",
      "WARNING:bioservices.KEGG:status is not ok with Bad Request\n",
      "\u001b[33mWARNING [bioservices.KEGG:1181]: \u001b[0m \u001b[32mCould not parse the entry correctly.\u001b[0m\n",
      "WARNING:bioservices.KEGG:Could not parse the entry correctly.\n",
      "\u001b[33mWARNING [bioservices.KEGG:596]: \u001b[0m \u001b[32mstatus is not ok with Bad Request\u001b[0m\n",
      "WARNING:bioservices.KEGG:status is not ok with Bad Request\n",
      "\u001b[33mWARNING [bioservices.KEGG:1181]: \u001b[0m \u001b[32mCould not parse the entry correctly.\u001b[0m\n",
      "WARNING:bioservices.KEGG:Could not parse the entry correctly.\n",
      "\u001b[33mWARNING [bioservices.KEGG:596]: \u001b[0m \u001b[32mstatus is not ok with Bad Request\u001b[0m\n",
      "WARNING:bioservices.KEGG:status is not ok with Bad Request\n",
      "\u001b[33mWARNING [bioservices.KEGG:1181]: \u001b[0m \u001b[32mCould not parse the entry correctly.\u001b[0m\n",
      "WARNING:bioservices.KEGG:Could not parse the entry correctly.\n",
      "\u001b[33mWARNING [bioservices.KEGG:596]: \u001b[0m \u001b[32mstatus is not ok with Bad Request\u001b[0m\n",
      "WARNING:bioservices.KEGG:status is not ok with Bad Request\n",
      "\u001b[33mWARNING [bioservices.KEGG:1181]: \u001b[0m \u001b[32mCould not parse the entry correctly.\u001b[0m\n",
      "WARNING:bioservices.KEGG:Could not parse the entry correctly.\n",
      "\u001b[33mWARNING [bioservices.KEGG:596]: \u001b[0m \u001b[32mstatus is not ok with Bad Request\u001b[0m\n",
      "WARNING:bioservices.KEGG:status is not ok with Bad Request\n",
      "\u001b[33mWARNING [bioservices.KEGG:1181]: \u001b[0m \u001b[32mCould not parse the entry correctly.\u001b[0m\n",
      "WARNING:bioservices.KEGG:Could not parse the entry correctly.\n",
      "\u001b[33mWARNING [bioservices.KEGG:596]: \u001b[0m \u001b[32mstatus is not ok with Bad Request\u001b[0m\n",
      "WARNING:bioservices.KEGG:status is not ok with Bad Request\n",
      "\u001b[33mWARNING [bioservices.KEGG:1181]: \u001b[0m \u001b[32mCould not parse the entry correctly.\u001b[0m\n",
      "WARNING:bioservices.KEGG:Could not parse the entry correctly.\n",
      "\u001b[33mWARNING [bioservices.KEGG:596]: \u001b[0m \u001b[32mstatus is not ok with Bad Request\u001b[0m\n",
      "WARNING:bioservices.KEGG:status is not ok with Bad Request\n",
      "\u001b[33mWARNING [bioservices.KEGG:1181]: \u001b[0m \u001b[32mCould not parse the entry correctly.\u001b[0m\n",
      "WARNING:bioservices.KEGG:Could not parse the entry correctly.\n",
      "\u001b[33mWARNING [bioservices.KEGG:596]: \u001b[0m \u001b[32mstatus is not ok with Bad Request\u001b[0m\n",
      "WARNING:bioservices.KEGG:status is not ok with Bad Request\n",
      "\u001b[33mWARNING [bioservices.KEGG:1181]: \u001b[0m \u001b[32mCould not parse the entry correctly.\u001b[0m\n",
      "WARNING:bioservices.KEGG:Could not parse the entry correctly.\n",
      "\u001b[33mWARNING [bioservices.KEGG:596]: \u001b[0m \u001b[32mstatus is not ok with Bad Request\u001b[0m\n",
      "WARNING:bioservices.KEGG:status is not ok with Bad Request\n",
      "\u001b[33mWARNING [bioservices.KEGG:1181]: \u001b[0m \u001b[32mCould not parse the entry correctly.\u001b[0m\n",
      "WARNING:bioservices.KEGG:Could not parse the entry correctly.\n",
      "\u001b[33mWARNING [bioservices.KEGG:596]: \u001b[0m \u001b[32mstatus is not ok with Bad Request\u001b[0m\n",
      "WARNING:bioservices.KEGG:status is not ok with Bad Request\n",
      "\u001b[33mWARNING [bioservices.KEGG:1181]: \u001b[0m \u001b[32mCould not parse the entry correctly.\u001b[0m\n",
      "WARNING:bioservices.KEGG:Could not parse the entry correctly.\n",
      "\u001b[33mWARNING [bioservices.KEGG:596]: \u001b[0m \u001b[32mstatus is not ok with Bad Request\u001b[0m\n",
      "WARNING:bioservices.KEGG:status is not ok with Bad Request\n",
      "\u001b[33mWARNING [bioservices.KEGG:1181]: \u001b[0m \u001b[32mCould not parse the entry correctly.\u001b[0m\n",
      "WARNING:bioservices.KEGG:Could not parse the entry correctly.\n",
      "\u001b[33mWARNING [bioservices.KEGG:596]: \u001b[0m \u001b[32mstatus is not ok with Bad Request\u001b[0m\n",
      "WARNING:bioservices.KEGG:status is not ok with Bad Request\n",
      "\u001b[33mWARNING [bioservices.KEGG:1181]: \u001b[0m \u001b[32mCould not parse the entry correctly.\u001b[0m\n",
      "WARNING:bioservices.KEGG:Could not parse the entry correctly.\n",
      "\u001b[33mWARNING [bioservices.KEGG:596]: \u001b[0m \u001b[32mstatus is not ok with Bad Request\u001b[0m\n",
      "WARNING:bioservices.KEGG:status is not ok with Bad Request\n",
      "\u001b[33mWARNING [bioservices.KEGG:1181]: \u001b[0m \u001b[32mCould not parse the entry correctly.\u001b[0m\n",
      "WARNING:bioservices.KEGG:Could not parse the entry correctly.\n",
      "\u001b[33mWARNING [bioservices.KEGG:596]: \u001b[0m \u001b[32mstatus is not ok with Bad Request\u001b[0m\n",
      "WARNING:bioservices.KEGG:status is not ok with Bad Request\n",
      "\u001b[33mWARNING [bioservices.KEGG:1181]: \u001b[0m \u001b[32mCould not parse the entry correctly.\u001b[0m\n",
      "WARNING:bioservices.KEGG:Could not parse the entry correctly.\n",
      "\u001b[33mWARNING [bioservices.KEGG:596]: \u001b[0m \u001b[32mstatus is not ok with Bad Request\u001b[0m\n",
      "WARNING:bioservices.KEGG:status is not ok with Bad Request\n",
      "\u001b[33mWARNING [bioservices.KEGG:1181]: \u001b[0m \u001b[32mCould not parse the entry correctly.\u001b[0m\n",
      "WARNING:bioservices.KEGG:Could not parse the entry correctly.\n",
      "\u001b[33mWARNING [bioservices.KEGG:596]: \u001b[0m \u001b[32mstatus is not ok with Bad Request\u001b[0m\n",
      "WARNING:bioservices.KEGG:status is not ok with Bad Request\n",
      "\u001b[33mWARNING [bioservices.KEGG:1181]: \u001b[0m \u001b[32mCould not parse the entry correctly.\u001b[0m\n",
      "WARNING:bioservices.KEGG:Could not parse the entry correctly.\n",
      "\u001b[33mWARNING [bioservices.KEGG:596]: \u001b[0m \u001b[32mstatus is not ok with Bad Request\u001b[0m\n",
      "WARNING:bioservices.KEGG:status is not ok with Bad Request\n",
      "\u001b[33mWARNING [bioservices.KEGG:1181]: \u001b[0m \u001b[32mCould not parse the entry correctly.\u001b[0m\n",
      "WARNING:bioservices.KEGG:Could not parse the entry correctly.\n",
      "\u001b[33mWARNING [bioservices.KEGG:596]: \u001b[0m \u001b[32mstatus is not ok with Bad Request\u001b[0m\n",
      "WARNING:bioservices.KEGG:status is not ok with Bad Request\n",
      "\u001b[33mWARNING [bioservices.KEGG:1181]: \u001b[0m \u001b[32mCould not parse the entry correctly.\u001b[0m\n",
      "WARNING:bioservices.KEGG:Could not parse the entry correctly.\n",
      "\u001b[33mWARNING [bioservices.KEGG:596]: \u001b[0m \u001b[32mstatus is not ok with Bad Request\u001b[0m\n",
      "WARNING:bioservices.KEGG:status is not ok with Bad Request\n",
      "\u001b[33mWARNING [bioservices.KEGG:1181]: \u001b[0m \u001b[32mCould not parse the entry correctly.\u001b[0m\n",
      "WARNING:bioservices.KEGG:Could not parse the entry correctly.\n",
      "\u001b[33mWARNING [bioservices.KEGG:596]: \u001b[0m \u001b[32mstatus is not ok with Bad Request\u001b[0m\n",
      "WARNING:bioservices.KEGG:status is not ok with Bad Request\n",
      "\u001b[33mWARNING [bioservices.KEGG:1181]: \u001b[0m \u001b[32mCould not parse the entry correctly.\u001b[0m\n",
      "WARNING:bioservices.KEGG:Could not parse the entry correctly.\n",
      "\u001b[33mWARNING [bioservices.KEGG:596]: \u001b[0m \u001b[32mstatus is not ok with Bad Request\u001b[0m\n",
      "WARNING:bioservices.KEGG:status is not ok with Bad Request\n",
      "\u001b[33mWARNING [bioservices.KEGG:1181]: \u001b[0m \u001b[32mCould not parse the entry correctly.\u001b[0m\n",
      "WARNING:bioservices.KEGG:Could not parse the entry correctly.\n",
      "\u001b[33mWARNING [bioservices.KEGG:596]: \u001b[0m \u001b[32mstatus is not ok with Bad Request\u001b[0m\n",
      "WARNING:bioservices.KEGG:status is not ok with Bad Request\n",
      "\u001b[33mWARNING [bioservices.KEGG:1181]: \u001b[0m \u001b[32mCould not parse the entry correctly.\u001b[0m\n",
      "WARNING:bioservices.KEGG:Could not parse the entry correctly.\n",
      "\u001b[33mWARNING [bioservices.KEGG:596]: \u001b[0m \u001b[32mstatus is not ok with Bad Request\u001b[0m\n",
      "WARNING:bioservices.KEGG:status is not ok with Bad Request\n",
      "\u001b[33mWARNING [bioservices.KEGG:1181]: \u001b[0m \u001b[32mCould not parse the entry correctly.\u001b[0m\n",
      "WARNING:bioservices.KEGG:Could not parse the entry correctly.\n",
      "\u001b[33mWARNING [bioservices.KEGG:596]: \u001b[0m \u001b[32mstatus is not ok with Bad Request\u001b[0m\n",
      "WARNING:bioservices.KEGG:status is not ok with Bad Request\n",
      "\u001b[33mWARNING [bioservices.KEGG:1181]: \u001b[0m \u001b[32mCould not parse the entry correctly.\u001b[0m\n",
      "WARNING:bioservices.KEGG:Could not parse the entry correctly.\n",
      "\u001b[33mWARNING [bioservices.KEGG:596]: \u001b[0m \u001b[32mstatus is not ok with Bad Request\u001b[0m\n",
      "WARNING:bioservices.KEGG:status is not ok with Bad Request\n",
      "\u001b[33mWARNING [bioservices.KEGG:1181]: \u001b[0m \u001b[32mCould not parse the entry correctly.\u001b[0m\n",
      "WARNING:bioservices.KEGG:Could not parse the entry correctly.\n",
      "\u001b[33mWARNING [bioservices.KEGG:596]: \u001b[0m \u001b[32mstatus is not ok with Bad Request\u001b[0m\n",
      "WARNING:bioservices.KEGG:status is not ok with Bad Request\n",
      "\u001b[33mWARNING [bioservices.KEGG:1181]: \u001b[0m \u001b[32mCould not parse the entry correctly.\u001b[0m\n",
      "WARNING:bioservices.KEGG:Could not parse the entry correctly.\n",
      "\u001b[33mWARNING [bioservices.KEGG:596]: \u001b[0m \u001b[32mstatus is not ok with Bad Request\u001b[0m\n",
      "WARNING:bioservices.KEGG:status is not ok with Bad Request\n",
      "\u001b[33mWARNING [bioservices.KEGG:1181]: \u001b[0m \u001b[32mCould not parse the entry correctly.\u001b[0m\n",
      "WARNING:bioservices.KEGG:Could not parse the entry correctly.\n",
      "\u001b[33mWARNING [bioservices.KEGG:596]: \u001b[0m \u001b[32mstatus is not ok with Bad Request\u001b[0m\n",
      "WARNING:bioservices.KEGG:status is not ok with Bad Request\n",
      "\u001b[33mWARNING [bioservices.KEGG:1181]: \u001b[0m \u001b[32mCould not parse the entry correctly.\u001b[0m\n",
      "WARNING:bioservices.KEGG:Could not parse the entry correctly.\n",
      "\u001b[33mWARNING [bioservices.KEGG:596]: \u001b[0m \u001b[32mstatus is not ok with Bad Request\u001b[0m\n",
      "WARNING:bioservices.KEGG:status is not ok with Bad Request\n",
      "\u001b[33mWARNING [bioservices.KEGG:1181]: \u001b[0m \u001b[32mCould not parse the entry correctly.\u001b[0m\n",
      "WARNING:bioservices.KEGG:Could not parse the entry correctly.\n"
     ]
    }
   ],
   "source": [
    "initial_bigg_to_kegg_dictionary = map_model_to_kegg_reactions(ec_cobra_model)\n",
    "\n",
    "\n",
    "reactions_json, reactions_pandas = read_json_file(\"../ext_data/reactions/reactions.json\")\n",
    "\n",
    "\n",
    "final_bigg_to_kegg_dictionary = fill_missing_kegg_ids_in_dict(initial_bigg_to_kegg_dictionary, reactions_pandas)\n",
    "\n",
    "\n",
    "df_kegg_pathways = get_kegg_pathways_from_reaction_ids(final_bigg_to_kegg_dictionary)"
   ]
  },
  {
   "cell_type": "markdown",
   "id": "200ad220",
   "metadata": {},
   "source": [
    "### Compare distributions of reactions across conditions"
   ]
  },
  {
   "cell_type": "code",
   "execution_count": 29,
   "id": "896413db",
   "metadata": {},
   "outputs": [
    {
     "name": "stdout",
     "output_type": "stream",
     "text": [
      "['PFL', 'PGI', 'ACALD', 'AKGt2r', 'PIt2r', 'ALCD2x', 'ACALDt', 'ACKr', 'PPC', 'PPCK', 'ACt2r', 'PPS', 'ADK1', 'PTAr', 'PYK', 'BIOMASS_Ecoli_core_w_GAM', 'PYRt2', 'SUCCt2_2', 'D_LACt2', 'SUCCt3', 'ETOHt2r', 'THD2', 'EX_ac_e', 'EX_acald_e', 'EX_akg_e', 'EX_etoh_e', 'EX_for_e', 'EX_glu__L_e', 'EX_lac__D_e', 'EX_nh4_e', 'EX_pi_e', 'EX_pyr_e', 'EX_succ_e', 'FBP', 'FORt2', 'FORt', 'GLNS', 'GLUDy', 'GLUN', 'GLUSy', 'GLUt2r', 'ICL', 'LDH_D', 'MALS', 'MDH', 'ME1', 'ME2', 'NADTRHD', 'NH4t']\n",
      "49\n"
     ]
    }
   ],
   "source": [
    "\n",
    "\n",
    "#conditions=[samples_dingo_condition_100, samples_dingo_condition_0]\n",
    "conditions=[samples_optgp_condition_100, samples_optgp_condition_0]\n",
    "\n",
    "selected_comparisons = [(0, 1)]\n",
    "\n",
    "_, significant_diff_reactions, not_significant_diff_reactions = significantly_altered_reactions(conditions, \n",
    "                                                                                                selected_comparisons, \n",
    "                                                                                                cobra_model=ec_cobra_model,\n",
    "                                                                                                fold_change_cutoff = 0.5)\n",
    "\n",
    "\n",
    "print(significant_diff_reactions)\n",
    "print(len(significant_diff_reactions))\n"
   ]
  },
  {
   "cell_type": "code",
   "execution_count": 40,
   "id": "589e6ba6",
   "metadata": {},
   "outputs": [],
   "source": [
    "\n",
    "from scipy.stats import hypergeom\n",
    "import pandas as pd\n",
    "from statsmodels.stats.multitest import multipletests\n",
    "\n",
    "\n",
    "def hypergeometric_pathway_enrichment(significant_reactions, all_reactions, reaction_to_pathways):\n",
    "    \"\"\"\n",
    "    Perform hypergeometric test to find significantly affected pathways.\n",
    "\n",
    "    Parameters:\n",
    "    - significant_reactions: set or list of reaction IDs with altered flux.\n",
    "    - all_reactions: set or list of all reaction IDs considered in the analysis.\n",
    "    - reaction_to_pathways: dict mapping reaction ID -> list of pathway names.\n",
    "\n",
    "    Returns:\n",
    "    - DataFrame with pathway, p-value, counts and adjusted FDR.\n",
    "    \"\"\"\n",
    "\n",
    "    # Convert inputs to sets for efficiency\n",
    "    significant_reactions = set(significant_reactions)\n",
    "    all_reactions = set(all_reactions)\n",
    "\n",
    "    # Build pathway -> reactions mapping\n",
    "    pathway_to_reactions = {}\n",
    "    for rxn, pathways in reaction_to_pathways.items():\n",
    "        for pw in pathways:\n",
    "            pathway_to_reactions.setdefault(pw, set()).add(rxn)\n",
    "\n",
    "    results = []\n",
    "    M = len(all_reactions)             # Total number of reactions\n",
    "    n = len(significant_reactions)    # Number of significant reactions\n",
    "\n",
    "    for pathway, pathway_reactions in pathway_to_reactions.items():\n",
    "        K = len(all_reactions & pathway_reactions)                      # Reactions in this pathway\n",
    "        k = len(significant_reactions & pathway_reactions)              # Significant reactions in this pathway\n",
    "\n",
    "        # Skip if the pathway has no reactions in the background\n",
    "        if K == 0:\n",
    "            continue\n",
    "\n",
    "        # Hypergeometric test (sf: survival function = 1 - cdf, so P(X >= k))\n",
    "        pval = hypergeom.sf(k - 1, M, n, K)\n",
    "\n",
    "        results.append({\n",
    "            'pathway': pathway,\n",
    "            'overlap': k,\n",
    "            'pathway_size': K,\n",
    "            'significant': n,\n",
    "            'total': M,\n",
    "            'pval': pval\n",
    "        })\n",
    "\n",
    "    # Multiple testing correction (Benjamini-Hochberg FDR)\n",
    "    df = pd.DataFrame(results)\n",
    "    if not df.empty:\n",
    "        df['fdr'] = multipletests(df['pval'], method='fdr_bh')[1]\n",
    "        df.sort_values('pval', inplace=True)\n",
    "\n",
    "    return df\n"
   ]
  },
  {
   "cell_type": "code",
   "execution_count": 42,
   "id": "bd140bda",
   "metadata": {},
   "outputs": [
    {
     "name": "stdout",
     "output_type": "stream",
     "text": [
      "{'PFK': ['Glycolysis / Gluconeogenesis', 'Pentose phosphate pathway', 'Fructose and mannose metabolism', 'Methane metabolism', 'Metabolic pathways', 'Biosynthesis of secondary metabolites', 'Microbial metabolism in diverse environments', 'Carbon metabolism', 'Biosynthesis of amino acids'], 'PFL': ['Pyruvate metabolism', 'Butanoate metabolism', 'Metabolic pathways', 'Microbial metabolism in diverse environments'], 'PGI': ['Starch and sucrose metabolism', 'Metabolic pathways', 'Biosynthesis of secondary metabolites'], 'PGK': ['Glycolysis / Gluconeogenesis', 'Carbon fixation by Calvin cycle', 'Metabolic pathways', 'Biosynthesis of secondary metabolites', 'Microbial metabolism in diverse environments', 'Carbon metabolism', 'Biosynthesis of amino acids'], 'PGL': ['Pentose phosphate pathway', 'Metabolic pathways', 'Biosynthesis of secondary metabolites', 'Microbial metabolism in diverse environments', 'Carbon metabolism'], 'ACALD': ['Phenylalanine metabolism', 'Benzoate degradation', 'Pyruvate metabolism', 'Dioxin degradation', 'Xylene degradation', 'Metabolic pathways', 'Microbial metabolism in diverse environments', 'Degradation of aromatic compounds'], 'PGM': ['Glycolysis / Gluconeogenesis', 'Glycine, serine and threonine metabolism', 'Methane metabolism', 'Metabolic pathways', 'Biosynthesis of secondary metabolites', 'Microbial metabolism in diverse environments', 'Carbon metabolism', 'Biosynthesis of amino acids'], 'ALCD2x': ['Glycolysis / Gluconeogenesis', 'Pyruvate metabolism', 'Metabolic pathways', 'Biosynthesis of secondary metabolites', 'Microbial metabolism in diverse environments'], 'ACKr': ['Taurine and hypotaurine metabolism', 'Pyruvate metabolism', 'Methane metabolism', 'Other carbon fixation pathways', 'Metabolic pathways', 'Microbial metabolism in diverse environments', 'Carbon metabolism'], 'PPC': ['Pyruvate metabolism', 'Methane metabolism', 'Carbon fixation by Calvin cycle', 'Other carbon fixation pathways', 'Metabolic pathways', 'Microbial metabolism in diverse environments', 'Carbon metabolism'], 'ACONTa': ['Citrate cycle (TCA cycle)', 'Glyoxylate and dicarboxylate metabolism', 'Other carbon fixation pathways', 'Metabolic pathways', 'Biosynthesis of secondary metabolites', 'Microbial metabolism in diverse environments', '2-Oxocarboxylic acid metabolism'], 'ACONTb': ['Citrate cycle (TCA cycle)', 'Glyoxylate and dicarboxylate metabolism', 'Other carbon fixation pathways', 'Metabolic pathways', 'Biosynthesis of secondary metabolites', 'Microbial metabolism in diverse environments', '2-Oxocarboxylic acid metabolism'], 'ATPM': ['Purine metabolism', 'Metabolic pathways', 'Biosynthesis of secondary metabolites', 'Nucleotide metabolism'], 'PPCK': ['Glycolysis / Gluconeogenesis', 'Citrate cycle (TCA cycle)', 'Pyruvate metabolism', 'Carbon fixation by Calvin cycle', 'Metabolic pathways', 'Biosynthesis of secondary metabolites', 'Microbial metabolism in diverse environments', 'Carbon metabolism'], 'PPS': ['Glycolysis / Gluconeogenesis', 'Pyruvate metabolism', 'Methane metabolism', 'Other carbon fixation pathways', 'Metabolic pathways', 'Biosynthesis of secondary metabolites', 'Microbial metabolism in diverse environments', 'Carbon metabolism'], 'ADK1': ['Purine metabolism', 'Metabolic pathways', 'Biosynthesis of secondary metabolites', 'Nucleotide metabolism', 'Biosynthesis of cofactors'], 'AKGDH': ['Metabolic pathways', 'Biosynthesis of secondary metabolites', 'Microbial metabolism in diverse environments', 'Carbon metabolism', '2-Oxocarboxylic acid metabolism'], 'PTAr': ['Taurine and hypotaurine metabolism', 'Pyruvate metabolism', 'Methane metabolism', 'Other carbon fixation pathways', 'Metabolic pathways', 'Microbial metabolism in diverse environments', 'Carbon metabolism'], 'PYK': ['Glycolysis / Gluconeogenesis', 'Pyruvate metabolism', 'Metabolic pathways', 'Biosynthesis of secondary metabolites', 'Microbial metabolism in diverse environments', 'Carbon metabolism', 'Biosynthesis of amino acids'], 'RPE': ['Pentose phosphate pathway', 'Pentose and glucuronate interconversions', 'Carbon fixation by Calvin cycle', 'Metabolic pathways', 'Biosynthesis of secondary metabolites', 'Microbial metabolism in diverse environments', 'Carbon metabolism', 'Biosynthesis of amino acids'], 'CS': ['Citrate cycle (TCA cycle)', 'Glyoxylate and dicarboxylate metabolism', 'Metabolic pathways', 'Biosynthesis of secondary metabolites', 'Microbial metabolism in diverse environments', 'Carbon metabolism', '2-Oxocarboxylic acid metabolism', 'Biosynthesis of amino acids'], 'RPI': ['Pentose phosphate pathway', 'Carbon fixation by Calvin cycle', 'Metabolic pathways', 'Biosynthesis of secondary metabolites', 'Microbial metabolism in diverse environments', 'Carbon metabolism', 'Biosynthesis of amino acids'], 'ENO': ['Glycolysis / Gluconeogenesis', 'Methane metabolism', 'Metabolic pathways', 'Biosynthesis of secondary metabolites', 'Microbial metabolism in diverse environments', 'Carbon metabolism', 'Biosynthesis of amino acids'], 'SUCOAS': ['Citrate cycle (TCA cycle)', 'Propanoate metabolism', 'Other carbon fixation pathways', 'Metabolic pathways', 'Biosynthesis of secondary metabolites', 'Microbial metabolism in diverse environments', 'Carbon metabolism'], 'TKT1': ['Pentose phosphate pathway', 'Carbon fixation by Calvin cycle', 'Metabolic pathways', 'Biosynthesis of secondary metabolites', 'Microbial metabolism in diverse environments', 'Carbon metabolism', 'Biosynthesis of amino acids'], 'TPI': ['Glycolysis / Gluconeogenesis', 'Fructose and mannose metabolism', 'Inositol phosphate metabolism', 'Carbon fixation by Calvin cycle', 'Metabolic pathways', 'Biosynthesis of secondary metabolites', 'Microbial metabolism in diverse environments', 'Carbon metabolism', 'Biosynthesis of amino acids'], 'FBA': ['Glycolysis / Gluconeogenesis', 'Pentose phosphate pathway', 'Fructose and mannose metabolism', 'Methane metabolism', 'Carbon fixation by Calvin cycle', 'Metabolic pathways', 'Biosynthesis of secondary metabolites', 'Microbial metabolism in diverse environments', 'Carbon metabolism', 'Biosynthesis of amino acids'], 'FBP': ['Glycolysis / Gluconeogenesis', 'Pentose phosphate pathway', 'Fructose and mannose metabolism', 'Methane metabolism', 'Carbon fixation by Calvin cycle', 'Metabolic pathways', 'Biosynthesis of secondary metabolites', 'Microbial metabolism in diverse environments', 'Carbon metabolism'], 'FUM': ['Citrate cycle (TCA cycle)', 'Pyruvate metabolism', 'Other carbon fixation pathways', 'Metabolic pathways', 'Biosynthesis of secondary metabolites', 'Microbial metabolism in diverse environments', 'Carbon metabolism'], 'GAPD': ['Glycolysis / Gluconeogenesis', 'Carbon fixation by Calvin cycle', 'Metabolic pathways', 'Biosynthesis of secondary metabolites', 'Microbial metabolism in diverse environments', 'Carbon metabolism', 'Biosynthesis of amino acids'], 'GLNS': ['Arginine biosynthesis', 'Alanine, aspartate and glutamate metabolism', 'Glyoxylate and dicarboxylate metabolism', 'Nitrogen metabolism', 'Metabolic pathways', 'Biosynthesis of secondary metabolites', 'Microbial metabolism in diverse environments', 'Biosynthesis of amino acids'], 'GLUDy': ['Arginine biosynthesis', 'Alanine, aspartate and glutamate metabolism', 'Nitrogen metabolism', 'Metabolic pathways', 'Microbial metabolism in diverse environments', 'Carbon metabolism'], 'GLUN': ['Arginine biosynthesis', 'Alanine, aspartate and glutamate metabolism', 'Metabolic pathways', 'Biosynthesis of secondary metabolites'], 'GLUSy': ['Alanine, aspartate and glutamate metabolism', 'Nitrogen metabolism', 'Metabolic pathways', 'Biosynthesis of secondary metabolites', 'Microbial metabolism in diverse environments', 'Biosynthesis of amino acids'], 'GND': ['Pentose phosphate pathway', 'Glutathione metabolism', 'Metabolic pathways', 'Biosynthesis of secondary metabolites', 'Microbial metabolism in diverse environments', 'Carbon metabolism'], 'ICDHyr': ['Glutathione metabolism', 'Other carbon fixation pathways', 'Metabolic pathways', 'Microbial metabolism in diverse environments', 'Carbon metabolism', '2-Oxocarboxylic acid metabolism', 'Biosynthesis of amino acids'], 'ICL': ['Glyoxylate and dicarboxylate metabolism', 'Metabolic pathways', 'Biosynthesis of secondary metabolites', 'Microbial metabolism in diverse environments', 'Carbon metabolism'], 'LDH_D': ['Pyruvate metabolism', 'Metabolic pathways', 'Microbial metabolism in diverse environments'], 'MALS': ['Pyruvate metabolism', 'Glyoxylate and dicarboxylate metabolism', 'Metabolic pathways', 'Biosynthesis of secondary metabolites', 'Microbial metabolism in diverse environments', 'Carbon metabolism'], 'MDH': ['Citrate cycle (TCA cycle)', 'Pyruvate metabolism', 'Glyoxylate and dicarboxylate metabolism', 'Methane metabolism', 'Carbon fixation by Calvin cycle', 'Other carbon fixation pathways', 'Metabolic pathways', 'Biosynthesis of secondary metabolites', 'Microbial metabolism in diverse environments', 'Carbon metabolism'], 'ME1': ['Pyruvate metabolism', 'Carbon fixation by Calvin cycle', 'Metabolic pathways', 'Microbial metabolism in diverse environments', 'Carbon metabolism'], 'ME2': ['Pyruvate metabolism', 'Carbon fixation by Calvin cycle', 'Metabolic pathways', 'Microbial metabolism in diverse environments', 'Carbon metabolism'], 'NADTRHD': ['Nicotinate and nicotinamide metabolism', 'Metabolic pathways'], 'PDH': ['Metabolic pathways', 'Biosynthesis of secondary metabolites', 'Microbial metabolism in diverse environments', 'Carbon metabolism', '2-Oxocarboxylic acid metabolism']}\n"
     ]
    }
   ],
   "source": [
    "\n",
    "\n",
    "def build_reaction_to_pathways_dict(df, reaction_col='bigg_reaction', pathway_col='pathway_names'):\n",
    "    \"\"\"\n",
    "    Build a dictionary mapping each reaction to a list of pathway names.\n",
    "\n",
    "    Parameters:\n",
    "    - df: pandas DataFrame with reactions and pathway names.\n",
    "    - reaction_col: column name for reaction identifiers.\n",
    "    - pathway_col: column name for list of pathways.\n",
    "\n",
    "    Returns:\n",
    "    - dict: {reaction_id: [pathway1, pathway2, ...]}\n",
    "    \"\"\"\n",
    "    reaction_to_pathways = {}\n",
    "    \n",
    "    for _, row in df.iterrows():\n",
    "        reaction = row[reaction_col]\n",
    "        pathways = row[pathway_col]\n",
    "        \n",
    "        # Ensure pathways is a list and not empty\n",
    "        if isinstance(pathways, list) and pathways:\n",
    "            reaction_to_pathways[reaction] = pathways\n",
    "\n",
    "    return reaction_to_pathways\n",
    "\n",
    "\n",
    "reaction_to_pathways = build_reaction_to_pathways_dict(df_kegg_pathways)\n",
    "print(reaction_to_pathways)\n",
    "\n"
   ]
  },
  {
   "cell_type": "code",
   "execution_count": null,
   "id": "a97880a0",
   "metadata": {},
   "outputs": [
    {
     "name": "stdout",
     "output_type": "stream",
     "text": [
      "                                         pathway  overlap  pathway_size  \\\n",
      "9                            Pyruvate metabolism       14            15   \n",
      "31   Alanine, aspartate and glutamate metabolism        4             4   \n",
      "32                           Nitrogen metabolism        3             3   \n",
      "30                         Arginine biosynthesis        3             3   \n",
      "19            Taurine and hypotaurine metabolism        2             2   \n",
      "3                             Methane metabolism        6            10   \n",
      "17             Degradation of aromatic compounds        1             1   \n",
      "26                     Biosynthesis of cofactors        1             1   \n",
      "16                            Xylene degradation        1             1   \n",
      "15                            Dioxin degradation        1             1   \n",
      "14                          Benzoate degradation        1             1   \n",
      "13                      Phenylalanine metabolism        1             1   \n",
      "34        Nicotinate and nicotinamide metabolism        1             1   \n",
      "11                 Starch and sucrose metabolism        1             1   \n",
      "10                          Butanoate metabolism        1             1   \n",
      "4                             Metabolic pathways       23            44   \n",
      "22       Glyoxylate and dicarboxylate metabolism        4             7   \n",
      "20                Other carbon fixation pathways        5            10   \n",
      "6   Microbial metabolism in diverse environments       19            39   \n",
      "12               Carbon fixation by Calvin cycle        6            13   \n",
      "25                         Nucleotide metabolism        1             2   \n",
      "24                             Purine metabolism        1             2   \n",
      "0                   Glycolysis / Gluconeogenesis        5            12   \n",
      "7                              Carbon metabolism       13            31   \n",
      "2                Fructose and mannose metabolism        1             4   \n",
      "21                     Citrate cycle (TCA cycle)        2             7   \n",
      "5          Biosynthesis of secondary metabolites       13            33   \n",
      "1                      Pentose phosphate pathway        1             8   \n",
      "8                    Biosynthesis of amino acids        3            15   \n",
      "18      Glycine, serine and threonine metabolism        0             1   \n",
      "33                        Glutathione metabolism        0             2   \n",
      "27      Pentose and glucuronate interconversions        0             1   \n",
      "28                         Propanoate metabolism        0             1   \n",
      "29                 Inositol phosphate metabolism        0             1   \n",
      "23               2-Oxocarboxylic acid metabolism        0             6   \n",
      "\n",
      "    significant  total      pval       fdr  \n",
      "9            49     95  0.000296  0.010349  \n",
      "31           49     95  0.066553  1.000000  \n",
      "32           49     95  0.133107  1.000000  \n",
      "30           49     95  0.133107  1.000000  \n",
      "19           49     95  0.263382  1.000000  \n",
      "3            49     95  0.411225  1.000000  \n",
      "17           49     95  0.515789  1.000000  \n",
      "26           49     95  0.515789  1.000000  \n",
      "16           49     95  0.515789  1.000000  \n",
      "15           49     95  0.515789  1.000000  \n",
      "14           49     95  0.515789  1.000000  \n",
      "13           49     95  0.515789  1.000000  \n",
      "34           49     95  0.515789  1.000000  \n",
      "11           49     95  0.515789  1.000000  \n",
      "10           49     95  0.515789  1.000000  \n",
      "4            49     95  0.531985  1.000000  \n",
      "22           49     95  0.535657  1.000000  \n",
      "20           49     95  0.669898  1.000000  \n",
      "6            49     95  0.749884  1.000000  \n",
      "12           49     95  0.763937  1.000000  \n",
      "25           49     95  0.768197  1.000000  \n",
      "24           49     95  0.768197  1.000000  \n",
      "0            49     95  0.851679  1.000000  \n",
      "7            49     95  0.936927  1.000000  \n",
      "2            49     95  0.948741  1.000000  \n",
      "21           49     95  0.953620  1.000000  \n",
      "5            49     95  0.974656  1.000000  \n",
      "1            49     95  0.997853  1.000000  \n",
      "8            49     95  0.998805  1.000000  \n",
      "18           49     95  1.000000  1.000000  \n",
      "33           49     95  1.000000  1.000000  \n",
      "27           49     95  1.000000  1.000000  \n",
      "28           49     95  1.000000  1.000000  \n",
      "29           49     95  1.000000  1.000000  \n",
      "23           49     95  1.000000  1.000000  \n"
     ]
    }
   ],
   "source": [
    "\n",
    "hypergeometric_pathway_enrichment_df = hypergeometric_pathway_enrichment(significant_diff_reactions, ec_dingo_reactions, reaction_to_pathways)\n",
    "print(hypergeometric_pathway_enrichment_df)"
   ]
  },
  {
   "cell_type": "code",
   "execution_count": 50,
   "id": "c11937b1",
   "metadata": {},
   "outputs": [
    {
     "data": {
      "application/vnd.plotly.v1+json": {
       "config": {
        "plotlyServerURL": "https://plot.ly"
       },
       "data": [
        {
         "hovertemplate": "Fold Enrichment=%{x}<br>Pathway=%{y}<br># Reactions=%{marker.size}<br>-log10(p-value)=%{marker.color}<extra></extra>",
         "legendgroup": "",
         "marker": {
          "color": [
           0.28752752526033415,
           0.28752752526033415,
           0.8757992321026633,
           0.8757992321026633,
           0.5794141414844456,
           1.1768292277666443,
           0.28752752526033415,
           0.28752752526033415,
           0.28752752526033415,
           0.28752752526033415,
           0.28752752526033415,
           0.28752752526033415,
           0.28752752526033415,
           3.529161468263644,
           0.38592013259429836,
           0.27111295687038256,
           0.2741007340075895,
           0.11452734318179474,
           0.11452734318179474,
           0.17399140386260578,
           0.1250060619365958,
           0.11694217232720945,
           0.02829417864208119,
           0.06972385146282804,
           0.011148846644740746,
           0.02062447949034316,
           0.02285228300153543,
           0.0005194667044656715,
           0.0009333000420669706,
           0,
           0,
           0,
           0,
           0,
           0
          ],
          "coloraxis": "coloraxis",
          "size": [
           1,
           1,
           3,
           3,
           2,
           4,
           1,
           1,
           1,
           1,
           1,
           1,
           1,
           14,
           6,
           4,
           23,
           1,
           1,
           5,
           19,
           6,
           13,
           5,
           13,
           2,
           1,
           3,
           1,
           0,
           0,
           0,
           0,
           0,
           0
          ],
          "sizemode": "area",
          "sizeref": 0.0575,
          "symbol": "circle"
         },
         "mode": "markers",
         "name": "",
         "orientation": "h",
         "showlegend": false,
         "type": "scatter",
         "x": [
          1.9387755102040813,
          1.9387755102040813,
          1.9387755102040813,
          1.9387755102040813,
          1.9387755102040813,
          1.9387755102040813,
          1.9387755102040813,
          1.9387755102040813,
          1.9387755102040813,
          1.9387755102040813,
          1.9387755102040813,
          1.9387755102040813,
          1.9387755102040813,
          1.8095238095238093,
          1.1632653061224487,
          1.107871720116618,
          1.0134508348794062,
          0.9693877551020407,
          0.9693877551020407,
          0.9693877551020407,
          0.944531658817373,
          0.8948194662480377,
          0.8130348913759051,
          0.8078231292517006,
          0.7637600494743351,
          0.553935860058309,
          0.48469387755102034,
          0.3877551020408163,
          0.24234693877551017,
          0,
          0,
          0,
          0,
          0,
          0
         ],
         "xaxis": "x",
         "y": [
          "Dioxin degradation",
          "Starch and sucrose metabolism",
          "Nitrogen metabolism",
          "Arginine biosynthesis",
          "Taurine and hypotaurine metabolism",
          "Alanine, aspartate and glutamate metabolism",
          "Degradation of aromatic compounds",
          "Biosynthesis of cofactors",
          "Xylene degradation",
          "Butanoate metabolism",
          "Benzoate degradation",
          "Phenylalanine metabolism",
          "Nicotinate and nicotinamide metabolism",
          "Pyruvate metabolism",
          "Methane metabolism",
          "Glyoxylate and dicarboxylate metabolism",
          "Metabolic pathways",
          "Nucleotide metabolism",
          "Purine metabolism",
          "Other carbon fixation pathways",
          "Microbial metabolism in diverse environments",
          "Carbon fixation by Calvin cycle",
          "Carbon metabolism",
          "Glycolysis / Gluconeogenesis",
          "Biosynthesis of secondary metabolites",
          "Citrate cycle (TCA cycle)",
          "Fructose and mannose metabolism",
          "Biosynthesis of amino acids",
          "Pentose phosphate pathway",
          "Glycine, serine and threonine metabolism",
          "Glutathione metabolism",
          "Pentose and glucuronate interconversions",
          "Propanoate metabolism",
          "Inositol phosphate metabolism",
          "2-Oxocarboxylic acid metabolism"
         ],
         "yaxis": "y"
        }
       ],
       "layout": {
        "coloraxis": {
         "colorbar": {
          "title": {
           "text": "-log10(p-value)"
          }
         },
         "colorscale": [
          [
           0,
           "rgb(255,245,240)"
          ],
          [
           0.125,
           "rgb(254,224,210)"
          ],
          [
           0.25,
           "rgb(252,187,161)"
          ],
          [
           0.375,
           "rgb(252,146,114)"
          ],
          [
           0.5,
           "rgb(251,106,74)"
          ],
          [
           0.625,
           "rgb(239,59,44)"
          ],
          [
           0.75,
           "rgb(203,24,29)"
          ],
          [
           0.875,
           "rgb(165,15,21)"
          ],
          [
           1,
           "rgb(103,0,13)"
          ]
         ]
        },
        "legend": {
         "itemsizing": "constant",
         "tracegroupgap": 0
        },
        "template": {
         "data": {
          "bar": [
           {
            "error_x": {
             "color": "#2a3f5f"
            },
            "error_y": {
             "color": "#2a3f5f"
            },
            "marker": {
             "line": {
              "color": "#E5ECF6",
              "width": 0.5
             },
             "pattern": {
              "fillmode": "overlay",
              "size": 10,
              "solidity": 0.2
             }
            },
            "type": "bar"
           }
          ],
          "barpolar": [
           {
            "marker": {
             "line": {
              "color": "#E5ECF6",
              "width": 0.5
             },
             "pattern": {
              "fillmode": "overlay",
              "size": 10,
              "solidity": 0.2
             }
            },
            "type": "barpolar"
           }
          ],
          "carpet": [
           {
            "aaxis": {
             "endlinecolor": "#2a3f5f",
             "gridcolor": "white",
             "linecolor": "white",
             "minorgridcolor": "white",
             "startlinecolor": "#2a3f5f"
            },
            "baxis": {
             "endlinecolor": "#2a3f5f",
             "gridcolor": "white",
             "linecolor": "white",
             "minorgridcolor": "white",
             "startlinecolor": "#2a3f5f"
            },
            "type": "carpet"
           }
          ],
          "choropleth": [
           {
            "colorbar": {
             "outlinewidth": 0,
             "ticks": ""
            },
            "type": "choropleth"
           }
          ],
          "contour": [
           {
            "colorbar": {
             "outlinewidth": 0,
             "ticks": ""
            },
            "colorscale": [
             [
              0,
              "#0d0887"
             ],
             [
              0.1111111111111111,
              "#46039f"
             ],
             [
              0.2222222222222222,
              "#7201a8"
             ],
             [
              0.3333333333333333,
              "#9c179e"
             ],
             [
              0.4444444444444444,
              "#bd3786"
             ],
             [
              0.5555555555555556,
              "#d8576b"
             ],
             [
              0.6666666666666666,
              "#ed7953"
             ],
             [
              0.7777777777777778,
              "#fb9f3a"
             ],
             [
              0.8888888888888888,
              "#fdca26"
             ],
             [
              1,
              "#f0f921"
             ]
            ],
            "type": "contour"
           }
          ],
          "contourcarpet": [
           {
            "colorbar": {
             "outlinewidth": 0,
             "ticks": ""
            },
            "type": "contourcarpet"
           }
          ],
          "heatmap": [
           {
            "colorbar": {
             "outlinewidth": 0,
             "ticks": ""
            },
            "colorscale": [
             [
              0,
              "#0d0887"
             ],
             [
              0.1111111111111111,
              "#46039f"
             ],
             [
              0.2222222222222222,
              "#7201a8"
             ],
             [
              0.3333333333333333,
              "#9c179e"
             ],
             [
              0.4444444444444444,
              "#bd3786"
             ],
             [
              0.5555555555555556,
              "#d8576b"
             ],
             [
              0.6666666666666666,
              "#ed7953"
             ],
             [
              0.7777777777777778,
              "#fb9f3a"
             ],
             [
              0.8888888888888888,
              "#fdca26"
             ],
             [
              1,
              "#f0f921"
             ]
            ],
            "type": "heatmap"
           }
          ],
          "heatmapgl": [
           {
            "colorbar": {
             "outlinewidth": 0,
             "ticks": ""
            },
            "colorscale": [
             [
              0,
              "#0d0887"
             ],
             [
              0.1111111111111111,
              "#46039f"
             ],
             [
              0.2222222222222222,
              "#7201a8"
             ],
             [
              0.3333333333333333,
              "#9c179e"
             ],
             [
              0.4444444444444444,
              "#bd3786"
             ],
             [
              0.5555555555555556,
              "#d8576b"
             ],
             [
              0.6666666666666666,
              "#ed7953"
             ],
             [
              0.7777777777777778,
              "#fb9f3a"
             ],
             [
              0.8888888888888888,
              "#fdca26"
             ],
             [
              1,
              "#f0f921"
             ]
            ],
            "type": "heatmapgl"
           }
          ],
          "histogram": [
           {
            "marker": {
             "pattern": {
              "fillmode": "overlay",
              "size": 10,
              "solidity": 0.2
             }
            },
            "type": "histogram"
           }
          ],
          "histogram2d": [
           {
            "colorbar": {
             "outlinewidth": 0,
             "ticks": ""
            },
            "colorscale": [
             [
              0,
              "#0d0887"
             ],
             [
              0.1111111111111111,
              "#46039f"
             ],
             [
              0.2222222222222222,
              "#7201a8"
             ],
             [
              0.3333333333333333,
              "#9c179e"
             ],
             [
              0.4444444444444444,
              "#bd3786"
             ],
             [
              0.5555555555555556,
              "#d8576b"
             ],
             [
              0.6666666666666666,
              "#ed7953"
             ],
             [
              0.7777777777777778,
              "#fb9f3a"
             ],
             [
              0.8888888888888888,
              "#fdca26"
             ],
             [
              1,
              "#f0f921"
             ]
            ],
            "type": "histogram2d"
           }
          ],
          "histogram2dcontour": [
           {
            "colorbar": {
             "outlinewidth": 0,
             "ticks": ""
            },
            "colorscale": [
             [
              0,
              "#0d0887"
             ],
             [
              0.1111111111111111,
              "#46039f"
             ],
             [
              0.2222222222222222,
              "#7201a8"
             ],
             [
              0.3333333333333333,
              "#9c179e"
             ],
             [
              0.4444444444444444,
              "#bd3786"
             ],
             [
              0.5555555555555556,
              "#d8576b"
             ],
             [
              0.6666666666666666,
              "#ed7953"
             ],
             [
              0.7777777777777778,
              "#fb9f3a"
             ],
             [
              0.8888888888888888,
              "#fdca26"
             ],
             [
              1,
              "#f0f921"
             ]
            ],
            "type": "histogram2dcontour"
           }
          ],
          "mesh3d": [
           {
            "colorbar": {
             "outlinewidth": 0,
             "ticks": ""
            },
            "type": "mesh3d"
           }
          ],
          "parcoords": [
           {
            "line": {
             "colorbar": {
              "outlinewidth": 0,
              "ticks": ""
             }
            },
            "type": "parcoords"
           }
          ],
          "pie": [
           {
            "automargin": true,
            "type": "pie"
           }
          ],
          "scatter": [
           {
            "fillpattern": {
             "fillmode": "overlay",
             "size": 10,
             "solidity": 0.2
            },
            "type": "scatter"
           }
          ],
          "scatter3d": [
           {
            "line": {
             "colorbar": {
              "outlinewidth": 0,
              "ticks": ""
             }
            },
            "marker": {
             "colorbar": {
              "outlinewidth": 0,
              "ticks": ""
             }
            },
            "type": "scatter3d"
           }
          ],
          "scattercarpet": [
           {
            "marker": {
             "colorbar": {
              "outlinewidth": 0,
              "ticks": ""
             }
            },
            "type": "scattercarpet"
           }
          ],
          "scattergeo": [
           {
            "marker": {
             "colorbar": {
              "outlinewidth": 0,
              "ticks": ""
             }
            },
            "type": "scattergeo"
           }
          ],
          "scattergl": [
           {
            "marker": {
             "colorbar": {
              "outlinewidth": 0,
              "ticks": ""
             }
            },
            "type": "scattergl"
           }
          ],
          "scattermapbox": [
           {
            "marker": {
             "colorbar": {
              "outlinewidth": 0,
              "ticks": ""
             }
            },
            "type": "scattermapbox"
           }
          ],
          "scatterpolar": [
           {
            "marker": {
             "colorbar": {
              "outlinewidth": 0,
              "ticks": ""
             }
            },
            "type": "scatterpolar"
           }
          ],
          "scatterpolargl": [
           {
            "marker": {
             "colorbar": {
              "outlinewidth": 0,
              "ticks": ""
             }
            },
            "type": "scatterpolargl"
           }
          ],
          "scatterternary": [
           {
            "marker": {
             "colorbar": {
              "outlinewidth": 0,
              "ticks": ""
             }
            },
            "type": "scatterternary"
           }
          ],
          "surface": [
           {
            "colorbar": {
             "outlinewidth": 0,
             "ticks": ""
            },
            "colorscale": [
             [
              0,
              "#0d0887"
             ],
             [
              0.1111111111111111,
              "#46039f"
             ],
             [
              0.2222222222222222,
              "#7201a8"
             ],
             [
              0.3333333333333333,
              "#9c179e"
             ],
             [
              0.4444444444444444,
              "#bd3786"
             ],
             [
              0.5555555555555556,
              "#d8576b"
             ],
             [
              0.6666666666666666,
              "#ed7953"
             ],
             [
              0.7777777777777778,
              "#fb9f3a"
             ],
             [
              0.8888888888888888,
              "#fdca26"
             ],
             [
              1,
              "#f0f921"
             ]
            ],
            "type": "surface"
           }
          ],
          "table": [
           {
            "cells": {
             "fill": {
              "color": "#EBF0F8"
             },
             "line": {
              "color": "white"
             }
            },
            "header": {
             "fill": {
              "color": "#C8D4E3"
             },
             "line": {
              "color": "white"
             }
            },
            "type": "table"
           }
          ]
         },
         "layout": {
          "annotationdefaults": {
           "arrowcolor": "#2a3f5f",
           "arrowhead": 0,
           "arrowwidth": 1
          },
          "autotypenumbers": "strict",
          "coloraxis": {
           "colorbar": {
            "outlinewidth": 0,
            "ticks": ""
           }
          },
          "colorscale": {
           "diverging": [
            [
             0,
             "#8e0152"
            ],
            [
             0.1,
             "#c51b7d"
            ],
            [
             0.2,
             "#de77ae"
            ],
            [
             0.3,
             "#f1b6da"
            ],
            [
             0.4,
             "#fde0ef"
            ],
            [
             0.5,
             "#f7f7f7"
            ],
            [
             0.6,
             "#e6f5d0"
            ],
            [
             0.7,
             "#b8e186"
            ],
            [
             0.8,
             "#7fbc41"
            ],
            [
             0.9,
             "#4d9221"
            ],
            [
             1,
             "#276419"
            ]
           ],
           "sequential": [
            [
             0,
             "#0d0887"
            ],
            [
             0.1111111111111111,
             "#46039f"
            ],
            [
             0.2222222222222222,
             "#7201a8"
            ],
            [
             0.3333333333333333,
             "#9c179e"
            ],
            [
             0.4444444444444444,
             "#bd3786"
            ],
            [
             0.5555555555555556,
             "#d8576b"
            ],
            [
             0.6666666666666666,
             "#ed7953"
            ],
            [
             0.7777777777777778,
             "#fb9f3a"
            ],
            [
             0.8888888888888888,
             "#fdca26"
            ],
            [
             1,
             "#f0f921"
            ]
           ],
           "sequentialminus": [
            [
             0,
             "#0d0887"
            ],
            [
             0.1111111111111111,
             "#46039f"
            ],
            [
             0.2222222222222222,
             "#7201a8"
            ],
            [
             0.3333333333333333,
             "#9c179e"
            ],
            [
             0.4444444444444444,
             "#bd3786"
            ],
            [
             0.5555555555555556,
             "#d8576b"
            ],
            [
             0.6666666666666666,
             "#ed7953"
            ],
            [
             0.7777777777777778,
             "#fb9f3a"
            ],
            [
             0.8888888888888888,
             "#fdca26"
            ],
            [
             1,
             "#f0f921"
            ]
           ]
          },
          "colorway": [
           "#636efa",
           "#EF553B",
           "#00cc96",
           "#ab63fa",
           "#FFA15A",
           "#19d3f3",
           "#FF6692",
           "#B6E880",
           "#FF97FF",
           "#FECB52"
          ],
          "font": {
           "color": "#2a3f5f"
          },
          "geo": {
           "bgcolor": "white",
           "lakecolor": "white",
           "landcolor": "#E5ECF6",
           "showlakes": true,
           "showland": true,
           "subunitcolor": "white"
          },
          "hoverlabel": {
           "align": "left"
          },
          "hovermode": "closest",
          "mapbox": {
           "style": "light"
          },
          "paper_bgcolor": "white",
          "plot_bgcolor": "#E5ECF6",
          "polar": {
           "angularaxis": {
            "gridcolor": "white",
            "linecolor": "white",
            "ticks": ""
           },
           "bgcolor": "#E5ECF6",
           "radialaxis": {
            "gridcolor": "white",
            "linecolor": "white",
            "ticks": ""
           }
          },
          "scene": {
           "xaxis": {
            "backgroundcolor": "#E5ECF6",
            "gridcolor": "white",
            "gridwidth": 2,
            "linecolor": "white",
            "showbackground": true,
            "ticks": "",
            "zerolinecolor": "white"
           },
           "yaxis": {
            "backgroundcolor": "#E5ECF6",
            "gridcolor": "white",
            "gridwidth": 2,
            "linecolor": "white",
            "showbackground": true,
            "ticks": "",
            "zerolinecolor": "white"
           },
           "zaxis": {
            "backgroundcolor": "#E5ECF6",
            "gridcolor": "white",
            "gridwidth": 2,
            "linecolor": "white",
            "showbackground": true,
            "ticks": "",
            "zerolinecolor": "white"
           }
          },
          "shapedefaults": {
           "line": {
            "color": "#2a3f5f"
           }
          },
          "ternary": {
           "aaxis": {
            "gridcolor": "white",
            "linecolor": "white",
            "ticks": ""
           },
           "baxis": {
            "gridcolor": "white",
            "linecolor": "white",
            "ticks": ""
           },
           "bgcolor": "#E5ECF6",
           "caxis": {
            "gridcolor": "white",
            "linecolor": "white",
            "ticks": ""
           }
          },
          "title": {
           "x": 0.05
          },
          "xaxis": {
           "automargin": true,
           "gridcolor": "white",
           "linecolor": "white",
           "ticks": "",
           "title": {
            "standoff": 15
           },
           "zerolinecolor": "white",
           "zerolinewidth": 2
          },
          "yaxis": {
           "automargin": true,
           "gridcolor": "white",
           "linecolor": "white",
           "ticks": "",
           "title": {
            "standoff": 15
           },
           "zerolinecolor": "white",
           "zerolinewidth": 2
          }
         }
        },
        "title": {
         "text": "Pathway Enrichment Bubble Plot"
        },
        "xaxis": {
         "anchor": "y",
         "domain": [
          0,
          1
         ],
         "title": {
          "text": "Fold Enrichment"
         }
        },
        "yaxis": {
         "anchor": "x",
         "autorange": "reversed",
         "domain": [
          0,
          1
         ],
         "title": {
          "text": "Pathway"
         }
        }
       }
      }
     },
     "metadata": {},
     "output_type": "display_data"
    }
   ],
   "source": [
    "\n",
    "import numpy as np\n",
    "import pandas as pd\n",
    "\n",
    "\n",
    "def add_enrichment_metrics(hypergeometric_pathway_enrichment_df):\n",
    "    \"\"\"\n",
    "    Add fold enrichment and -log10(p-value) columns to the enrichment results DataFrame.\n",
    "    \n",
    "    Parameters:\n",
    "    - df: DataFrame from hypergeometric_pathway_enrichment\n",
    "    \n",
    "    Returns:\n",
    "    - Updated DataFrame\n",
    "    \"\"\"\n",
    "    enrichment_metrics_df = df.copy()\n",
    "    enrichment_metrics_df['fold_enrichment'] = (enrichment_metrics_df['overlap'] / enrichment_metrics_df['pathway_size']) / (enrichment_metrics_df['significant'] / enrichment_metrics_df['total'])\n",
    "                                               \n",
    "    enrichment_metrics_df['log10_pval'] = -np.log10(enrichment_metrics_df['pval'].clip(lower=1e-300))\n",
    "    return enrichment_metrics_df\n",
    "\n",
    "\n",
    "import plotly.express as px\n",
    "\n",
    "def plot_pathway_enrichment(enrichment_metrics_df, pval_threshold=0.05, use_fdr=True):\n",
    "    \"\"\"\n",
    "    Create a bubble plot of pathway enrichment results.\n",
    "\n",
    "    Parameters:\n",
    "    - df: Enrichment DataFrame with added fold_enrichment and log10_pval.\n",
    "    - pval_threshold: significance threshold for filtering.\n",
    "    - use_fdr: whether to use 'fdr' or 'pval' for filtering.\n",
    "\n",
    "    Returns:\n",
    "    - A Plotly figure.\n",
    "    \"\"\"\n",
    "    df = enrichment_metrics_df.copy()\n",
    "\n",
    "    # Filter based on significance\n",
    "    pval_col = 'fdr' if use_fdr else 'pval'\n",
    "    df = df[df[pval_col] < pval_threshold]\n",
    "\n",
    "    # Sort for better visual order\n",
    "    df = df.sort_values('fold_enrichment', ascending=False)\n",
    "\n",
    "    fig = px.scatter(\n",
    "        df,\n",
    "        x='fold_enrichment',\n",
    "        y='pathway',\n",
    "        size='overlap',\n",
    "        color='log10_pval',\n",
    "        color_continuous_scale='Reds',\n",
    "        size_max=20,\n",
    "        labels={\n",
    "            'fold_enrichment': 'Fold Enrichment',\n",
    "            'log10_pval': '-log10(p-value)',\n",
    "            'overlap': '# Reactions',\n",
    "            'pathway': 'Pathway'\n",
    "        },\n",
    "        title='Pathway Enrichment Bubble Plot'\n",
    "    )\n",
    "    \n",
    "    fig.update_layout(yaxis=dict(autorange=\"reversed\"))\n",
    "    fig.show()\n",
    "\n",
    "\n",
    "\n",
    "enrichment_metrics_df = add_enrichment_metrics(hypergeometric_pathway_enrichment_df)\n",
    "\n",
    "plot_pathway_enrichment(enrichment_metrics_df, pval_threshold=2)\n",
    "\n"
   ]
  }
 ],
 "metadata": {
  "kernelspec": {
   "display_name": "Python 3",
   "language": "python",
   "name": "python3"
  },
  "language_info": {
   "codemirror_mode": {
    "name": "ipython",
    "version": 3
   },
   "file_extension": ".py",
   "mimetype": "text/x-python",
   "name": "python",
   "nbconvert_exporter": "python",
   "pygments_lexer": "ipython3",
   "version": "3.10.12"
  }
 },
 "nbformat": 4,
 "nbformat_minor": 5
}
