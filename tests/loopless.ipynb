{
 "cells": [
  {
   "cell_type": "markdown",
   "id": "29336fbe",
   "metadata": {},
   "source": [
    "### Load libraries and functions"
   ]
  },
  {
   "cell_type": "code",
   "execution_count": 1,
   "id": "a03b61f3",
   "metadata": {},
   "outputs": [],
   "source": [
    "\n",
    "import matplotlib.pyplot as plt\n",
    "from cobra.flux_analysis import pfba\n",
    "from cobra.flux_analysis.loopless import loopless_solution\n",
    "\n",
    "import sys\n",
    "sys.path.insert(0, '../src/')\n",
    "\n",
    "from load_modify_sample_utils import load_model, get_objective_functions, get_reaction_bounds, modify_model\n",
    "from load_modify_sample_utils import sample_optgp\n",
    "\n",
    "from loopless_utils import loops_enumeration_from_fva, get_loopless_solutions_from_samples, calculate_affected_samples, loopy_reactions_turned_off_in_pfba\n",
    "from loopless_utils import calculate_distances_from_samples, calculate_distances_from_reactions, violin_plot_samples_distances\n"
   ]
  },
  {
   "cell_type": "markdown",
   "id": "43ea717d",
   "metadata": {},
   "source": [
    "### Load and inspect model (for more info see `load_modify_samply.ipynb`)"
   ]
  },
  {
   "cell_type": "code",
   "execution_count": 2,
   "id": "4c620e7b",
   "metadata": {},
   "outputs": [
    {
     "name": "stdout",
     "output_type": "stream",
     "text": [
      "Set parameter Username\n",
      "Set parameter LicenseID to value 2642044\n",
      "Academic license - for non-commercial use only - expires 2026-03-25\n",
      "['BIOMASS_Ecoli_core_w_GAM']\n",
      "{'PFK': (0.0, 1000.0), 'PFL': (0.0, 1000.0), 'PGI': (-1000.0, 1000.0), 'PGK': (-1000.0, 1000.0), 'PGL': (0.0, 1000.0), 'ACALD': (-1000.0, 1000.0), 'AKGt2r': (-1000.0, 1000.0), 'PGM': (-1000.0, 1000.0), 'PIt2r': (-1000.0, 1000.0), 'ALCD2x': (-1000.0, 1000.0), 'ACALDt': (-1000.0, 1000.0), 'ACKr': (-1000.0, 1000.0), 'PPC': (0.0, 1000.0), 'ACONTa': (-1000.0, 1000.0), 'ACONTb': (-1000.0, 1000.0), 'ATPM': (8.39, 1000.0), 'PPCK': (0.0, 1000.0), 'ACt2r': (-1000.0, 1000.0), 'PPS': (0.0, 1000.0), 'ADK1': (-1000.0, 1000.0), 'AKGDH': (0.0, 1000.0), 'ATPS4r': (-1000.0, 1000.0), 'PTAr': (-1000.0, 1000.0), 'PYK': (0.0, 1000.0), 'BIOMASS_Ecoli_core_w_GAM': (0.0, 1000.0), 'PYRt2': (-1000.0, 1000.0), 'CO2t': (-1000.0, 1000.0), 'RPE': (-1000.0, 1000.0), 'CS': (0.0, 1000.0), 'RPI': (-1000.0, 1000.0), 'SUCCt2_2': (0.0, 1000.0), 'CYTBD': (0.0, 1000.0), 'D_LACt2': (-1000.0, 1000.0), 'ENO': (-1000.0, 1000.0), 'SUCCt3': (0.0, 1000.0), 'ETOHt2r': (-1000.0, 1000.0), 'SUCDi': (0.0, 1000.0), 'SUCOAS': (-1000.0, 1000.0), 'TALA': (-1000.0, 1000.0), 'THD2': (0.0, 1000.0), 'TKT1': (-1000.0, 1000.0), 'TKT2': (-1000.0, 1000.0), 'TPI': (-1000.0, 1000.0), 'EX_ac_e': (0.0, 1000.0), 'EX_acald_e': (0.0, 1000.0), 'EX_akg_e': (0.0, 1000.0), 'EX_co2_e': (-1000.0, 1000.0), 'EX_etoh_e': (0.0, 1000.0), 'EX_for_e': (0.0, 1000.0), 'EX_fru_e': (0.0, 1000.0), 'EX_fum_e': (0.0, 1000.0), 'EX_glc__D_e': (-10.0, 1000.0), 'EX_gln__L_e': (0.0, 1000.0), 'EX_glu__L_e': (0.0, 1000.0), 'EX_h_e': (-1000.0, 1000.0), 'EX_h2o_e': (-1000.0, 1000.0), 'EX_lac__D_e': (0.0, 1000.0), 'EX_mal__L_e': (0.0, 1000.0), 'EX_nh4_e': (-1000.0, 1000.0), 'EX_o2_e': (-1000.0, 1000.0), 'EX_pi_e': (-1000.0, 1000.0), 'EX_pyr_e': (0.0, 1000.0), 'EX_succ_e': (0.0, 1000.0), 'FBA': (-1000.0, 1000.0), 'FBP': (0.0, 1000.0), 'FORt2': (0.0, 1000.0), 'FORt': (-1000.0, 0.0), 'FRD7': (0.0, 1000.0), 'FRUpts2': (0.0, 1000.0), 'FUM': (-1000.0, 1000.0), 'FUMt2_2': (0.0, 1000.0), 'G6PDH2r': (-1000.0, 1000.0), 'GAPD': (-1000.0, 1000.0), 'GLCpts': (0.0, 1000.0), 'GLNS': (0.0, 1000.0), 'GLNabc': (0.0, 1000.0), 'GLUDy': (-1000.0, 1000.0), 'GLUN': (0.0, 1000.0), 'GLUSy': (0.0, 1000.0), 'GLUt2r': (-1000.0, 1000.0), 'GND': (0.0, 1000.0), 'H2Ot': (-1000.0, 1000.0), 'ICDHyr': (-1000.0, 1000.0), 'ICL': (0.0, 1000.0), 'LDH_D': (-1000.0, 1000.0), 'MALS': (0.0, 1000.0), 'MALt2_2': (0.0, 1000.0), 'MDH': (-1000.0, 1000.0), 'ME1': (0.0, 1000.0), 'ME2': (0.0, 1000.0), 'NADH16': (0.0, 1000.0), 'NADTRHD': (0.0, 1000.0), 'NH4t': (-1000.0, 1000.0), 'O2t': (-1000.0, 1000.0), 'PDH': (0.0, 1000.0)}\n"
     ]
    }
   ],
   "source": [
    "\n",
    "ec_cobra_model, ec_cobra_reactions, ec_cobra_reaction_ids,  = load_model(\"../ext_data/models/e_coli_core.xml\")\n",
    "\n",
    "objective_functions = get_objective_functions(ec_cobra_model)\n",
    "print(objective_functions)\n",
    "\n",
    "default_reaction_bounds = get_reaction_bounds(ec_cobra_model)\n",
    "print(default_reaction_bounds)\n"
   ]
  },
  {
   "cell_type": "markdown",
   "id": "74013579",
   "metadata": {},
   "source": [
    "### Identify loopy reactions in model\n",
    "\n",
    "The function `loops_enumeration_from_fva` calculates possible loopy reaction in model and returns a list. Each item in the list is a tuple of a string (reaction ID) and a float (loopy score returned from the function)"
   ]
  },
  {
   "cell_type": "code",
   "execution_count": 6,
   "id": "a78c97f5",
   "metadata": {},
   "outputs": [
    {
     "name": "stdout",
     "output_type": "stream",
     "text": [
      "[('SUCDi', 994.7794007141794), ('FRD7', 995.0539767141795)]\n",
      "['SUCDi', 'FRD7']\n"
     ]
    }
   ],
   "source": [
    "\n",
    "loopy_reactions_fva = loops_enumeration_from_fva(ec_cobra_model, fraction_of_optimum=0.999)\n",
    "print(loopy_reactions_fva)\n",
    "\n",
    "loopy_reactions = [item[0] for item in loopy_reactions_fva]\n",
    "print(loopy_reactions)\n"
   ]
  },
  {
   "cell_type": "markdown",
   "id": "5ba677e3",
   "metadata": {},
   "source": [
    "### Perform `pFBA` and `loopless_solution` to identify which of the loopy reactions can be removed\n",
    "\n",
    "This logic is implemented in the `loopy_reactions_turned_off_in_pfba` function to automatically turn off loopy reactions with a pFBA flux value approaching 0 (useful in large models)"
   ]
  },
  {
   "cell_type": "code",
   "execution_count": 4,
   "id": "d7608b67",
   "metadata": {},
   "outputs": [
    {
     "name": "stdout",
     "output_type": "stream",
     "text": [
      "Read LP format model from file /tmp/tmpd9nzaoiz.lp\n",
      "Reading time = 0.00 seconds\n",
      ": 72 rows, 190 columns, 720 nonzeros\n"
     ]
    },
    {
     "name": "stdout",
     "output_type": "stream",
     "text": [
      "0.0\n",
      "5.0643756614821\n",
      "0.0\n",
      "5.064375661482091\n"
     ]
    }
   ],
   "source": [
    "\n",
    "ec_cobra_model_copy = ec_cobra_model.copy()\n",
    "solution_pFBA = pfba(ec_cobra_model_copy)\n",
    "print(solution_pFBA.fluxes.FRD7)\n",
    "print(solution_pFBA.fluxes.SUCDi)\n",
    "\n",
    "pfba_loopless_solution = loopless_solution(ec_cobra_model_copy, solution_pFBA)\n",
    "print(pfba_loopless_solution.fluxes.FRD7)\n",
    "print(pfba_loopless_solution.fluxes.SUCDi)\n"
   ]
  },
  {
   "cell_type": "code",
   "execution_count": 8,
   "id": "36b37731",
   "metadata": {},
   "outputs": [
    {
     "name": "stdout",
     "output_type": "stream",
     "text": [
      "Read LP format model from file /tmp/tmpqcbil9r8.lp\n",
      "Reading time = 0.00 seconds\n",
      ": 72 rows, 190 columns, 720 nonzeros\n",
      "['FRD7']\n"
     ]
    }
   ],
   "source": [
    "\n",
    "turned_off_reactions = loopy_reactions_turned_off_in_pfba(ec_cobra_model, loopy_reactions, tol = 1e-6)\n",
    "print(turned_off_reactions)\n"
   ]
  },
  {
   "cell_type": "markdown",
   "id": "dd9ccd0c",
   "metadata": {},
   "source": [
    "### Modify model. Create a duplicate with \"FRD7\" (loopy reaction) removed (for more info see `load_modify_samply.ipynb`)\n",
    "\n",
    "With this we can reduce the thermodynamically infeasible solutions from flux sampling"
   ]
  },
  {
   "cell_type": "code",
   "execution_count": 9,
   "id": "b18ac983",
   "metadata": {},
   "outputs": [
    {
     "name": "stdout",
     "output_type": "stream",
     "text": [
      "Read LP format model from file /tmp/tmp0apnhjel.lp\n",
      "Reading time = 0.00 seconds\n"
     ]
    },
    {
     "name": "stdout",
     "output_type": "stream",
     "text": [
      ": 72 rows, 190 columns, 720 nonzeros\n",
      "Read LP format model from file /tmp/tmpm230b_ws.lp\n",
      "Reading time = 0.01 seconds\n",
      ": 72 rows, 190 columns, 720 nonzeros\n"
     ]
    }
   ],
   "source": [
    "\n",
    "ec_cobra_default_model = modify_model(\n",
    "                                    ec_cobra_model,\n",
    "                                    objective_function=\"BIOMASS_Ecoli_core_w_GAM\",\n",
    "                                    optimal_percentage=100)\n",
    "\n",
    "ec_cobra_model_frd7_removed = ec_cobra_model.copy()\n",
    "ec_cobra_model_frd7_removed.reactions.get_by_id(\"FRD7\").bounds = (0, 0)\n"
   ]
  },
  {
   "cell_type": "markdown",
   "id": "6d4b0662",
   "metadata": {},
   "source": [
    "### Perform sampling on the default model and on a modified model with the loopy reaction \"FRD7\" removed. (for more info see `load_modify_samply.ipynb`)"
   ]
  },
  {
   "cell_type": "code",
   "execution_count": null,
   "id": "265986fa",
   "metadata": {},
   "outputs": [
    {
     "name": "stdout",
     "output_type": "stream",
     "text": [
      "Read LP format model from file /tmp/tmpw3qw15_v.lp\n",
      "Reading time = 0.00 seconds\n",
      ": 72 rows, 190 columns, 720 nonzeros\n"
     ]
    },
    {
     "name": "stdout",
     "output_type": "stream",
     "text": [
      "(95, 3000)\n",
      "Read LP format model from file /tmp/tmp6thmr0og.lp\n",
      "Reading time = 0.00 seconds\n",
      ": 72 rows, 190 columns, 720 nonzeros\n",
      "(95, 3000)\n"
     ]
    }
   ],
   "source": [
    "\n",
    "samples_optgp_default = sample_optgp(ec_cobra_default_model, \n",
    "                                           n_samples = 3000, \n",
    "                                           thinning=100, \n",
    "                                           reaction_in_rows = True)\n",
    "\n",
    "print(samples_optgp_default.shape)\n",
    "\n",
    "\n",
    "samples_optgp_frd7_removed = sample_optgp(ec_cobra_model_frd7_removed, \n",
    "                                         n_samples = 3000, \n",
    "                                         thinning=100, \n",
    "                                         reaction_in_rows = True)\n",
    "\n",
    "print(samples_optgp_frd7_removed.shape)\n",
    "\n",
    "\n",
    "samples_default = samples_optgp_default\n",
    "samples_frd7_removed = samples_optgp_frd7_removed\n"
   ]
  },
  {
   "cell_type": "markdown",
   "id": "497155c5",
   "metadata": {},
   "source": [
    "### Calculate the `loopless_solution` of the samples\n",
    "\n",
    "The `get_loopless_solutions_from_samples` function calculates the `loopless_solution` from each sample and saves results into a new numpy 2D array"
   ]
  },
  {
   "cell_type": "code",
   "execution_count": 13,
   "id": "d33e68d1",
   "metadata": {},
   "outputs": [
    {
     "name": "stderr",
     "output_type": "stream",
     "text": [
      "/home/touliopoulos/miniconda3/envs/dingo-stats-3-10/lib/python3.10/site-packages/cobra/util/solver.py:554: UserWarning: Solver status is 'infeasible'.\n",
      "  warn(f\"Solver status is '{status}'.\", UserWarning)\n"
     ]
    },
    {
     "name": "stdout",
     "output_type": "stream",
     "text": [
      "(95, 3000)\n",
      "(95, 3000)\n",
      "(95, 3000)\n",
      "(95, 3000)\n"
     ]
    }
   ],
   "source": [
    "\n",
    "samples_default_loopless_solutions = get_loopless_solutions_from_samples(samples_default, ec_cobra_model)\n",
    "\n",
    "print(samples_default.shape)\n",
    "print(samples_default_loopless_solutions.shape)\n",
    "\n",
    "\n",
    "samples_frd7_removed_loopless_solutions = get_loopless_solutions_from_samples(samples_frd7_removed, ec_cobra_model)\n",
    "\n",
    "print(samples_frd7_removed.shape)\n",
    "print(samples_frd7_removed_loopless_solutions.shape)\n"
   ]
  },
  {
   "cell_type": "markdown",
   "id": "53255577",
   "metadata": {},
   "source": [
    "### Check if FRD7 and SUCDi are loopy across most of the samples\n",
    "\n",
    "With this we can check whether the calculated loopy reactions affect few (histogram peak near 0) or most (histogram peak not near 0 or uniform distances) samples"
   ]
  },
  {
   "cell_type": "code",
   "execution_count": 14,
   "id": "b17a9d63",
   "metadata": {},
   "outputs": [
    {
     "data": {
      "image/png": "[encoded data removed]",
      "text/plain": [
       "<Figure size 640x480 with 1 Axes>"
      ]
     },
     "metadata": {},
     "output_type": "display_data"
    },
    {
     "data": {
      "image/png": "[encoded data removed]",
      "text/plain": [
       "<Figure size 640x480 with 1 Axes>"
      ]
     },
     "metadata": {},
     "output_type": "display_data"
    }
   ],
   "source": [
    "\n",
    "change_per_reaction = abs(samples_default) - abs(samples_default_loopless_solutions)\n",
    "   \n",
    "reaction_index = ec_cobra_reaction_ids.index(\"FRD7\")\n",
    "change_FRD7 = change_per_reaction[reaction_index]\n",
    "\n",
    "plt.hist(change_FRD7)\n",
    "plt.show()\n",
    "\n",
    "\n",
    "reaction_index = ec_cobra_reaction_ids.index(\"SUCDi\")\n",
    "change_FRD7 = change_per_reaction[reaction_index]\n",
    "\n",
    "plt.hist(change_FRD7)\n",
    "plt.show()\n"
   ]
  },
  {
   "cell_type": "markdown",
   "id": "e4fd7eb2",
   "metadata": {},
   "source": [
    "### Find how many samples (e.g. percentage) from the initial sampling have significant differences with themselves after applying loopless solution.\n",
    "\n",
    "The `calculate_affected_samples` function identifies how many samples have significant differences (before and after applying the `get_loopless_solutions_from_samples`). This is done by calculating (for each sample) the distance (change) of the reactions from the given arrays. Reactions that have a difference higher than a given threshold are counted and the corresponding sample can potentially be classified as a loopy sample."
   ]
  },
  {
   "cell_type": "code",
   "execution_count": 15,
   "id": "b1943826",
   "metadata": {},
   "outputs": [
    {
     "data": {
      "image/png": "[encoded data removed]",
      "text/plain": [
       "<Figure size 640x480 with 1 Axes>"
      ]
     },
     "metadata": {},
     "output_type": "display_data"
    },
    {
     "name": "stdout",
     "output_type": "stream",
     "text": [
      "1314 affected samples out of (95, 3000) total samples\n"
     ]
    },
    {
     "data": {
      "image/png": "[encoded data removed]",
      "text/plain": [
       "<Figure size 640x480 with 1 Axes>"
      ]
     },
     "metadata": {},
     "output_type": "display_data"
    },
    {
     "name": "stdout",
     "output_type": "stream",
     "text": [
      "0 affected samples out of (95, 3000) total samples\n"
     ]
    }
   ],
   "source": [
    "\n",
    "affected_reactions_count, total_affected_samples = calculate_affected_samples(samples_default, \n",
    "                                                                              samples_default_loopless_solutions, \n",
    "                                                                              ec_cobra_model, \n",
    "                                                                              tol_reaction_difference=0.5, \n",
    "                                                                              tol_reactions_count=1)\n",
    "\n",
    "plt.hist(affected_reactions_count)\n",
    "plt.show()\n",
    "    \n",
    "print(total_affected_samples, \"affected samples out of\", (samples_default).shape, \"total samples\")\n",
    "\n",
    "\n",
    "\n",
    "affected_reactions_count, total_affected_samples = calculate_affected_samples(samples_frd7_removed, \n",
    "                                                                              samples_frd7_removed_loopless_solutions, \n",
    "                                                                              ec_cobra_model, \n",
    "                                                                              tol_reaction_difference=0.5, \n",
    "                                                                              tol_reactions_count=1)\n",
    "\n",
    "plt.hist(affected_reactions_count)\n",
    "plt.show()\n",
    "    \n",
    "print(total_affected_samples, \"affected samples out of\", (samples_frd7_removed).shape, \"total samples\")\n"
   ]
  },
  {
   "cell_type": "markdown",
   "id": "8e484333",
   "metadata": {},
   "source": [
    "### Calculate distances between samples before and after the `get_loopless_solutions_from_samples` and plot the distances array\n",
    "\n",
    "The `calculate_distances_from_reactions` function calculates the euclidean distance between a sampling dataset before and after applying the `get_loopless_solutions_from_samples`. Distances are calculated between different reactions, so if user provides samples of 100 reactions, he will end up with 100 distances.    \n",
    "\n",
    "The `calculate_distances_from_samples` function calculates the euclidean distance between a sampling dataset before and after applying the `get_loopless_solutions_from_samples`. Distances are calculated between different samples, so if user has 3000 samples, he will end up with 3000 distances.\n",
    "\n",
    "The `violin_plot_samples_distances` is used to create a violin plot to visualize the distances."
   ]
  },
  {
   "cell_type": "code",
   "execution_count": 17,
   "id": "ef6a7ce7",
   "metadata": {},
   "outputs": [
    {
     "data": {
      "application/vnd.plotly.v1+json": {
       "config": {
        "plotlyServerURL": "https://plot.ly"
       },
       "data": [
        {
         "alignmentgroup": "True",
         "box": {
          "visible": true
         },
         "hovertemplate": "Distance=%{y}<extra></extra>",
         "legendgroup": "",
         "marker": {
          "color": "#636efa"
         },
         "name": "",
         "offsetgroup": "",
         "orientation": "v",
         "points": "all",
         "scalegroup": "True",
         "showlegend": false,
         "type": "violin",
         "x0": " ",
         "xaxis": "x",
         "y": [
          8.529218505662746e-9,
          4.9536184963650346e-17,
          8.086912197251166e-9,
          1.9008481220288284e-8,
          6.79605644492533e-9,
          5.9078458637800265e-15,
          0,
          2.8431492446206507e-8,
          2.3171429948372737e-8,
          0,
          0,
          0,
          4.630790213418251e-11,
          9.120030453482334e-8,
          9.120030453482334e-8,
          0,
          1.092495144133476e-7,
          0,
          4.273171606656272e-7,
          4.273171606656272e-7,
          6.796774132892123e-9,
          7.511933850037687e-11,
          0,
          5.682673000003844e-7,
          6.2987934114613825e-9,
          0,
          2.6804698411896523e-7,
          1.7249318468783585e-10,
          9.120030453484573e-8,
          6.791949894620519e-9,
          0,
          5.506623743638432e-7,
          0,
          2.8431492446206507e-8,
          0,
          0,
          29752.591785935296,
          6.796843619004245e-9,
          1.1402699709315564e-9,
          1.3737832747493978e-10,
          1.1402699709479654e-9,
          1.1402903530509561e-9,
          8.530029786645767e-9,
          0,
          0,
          0,
          2.6804698411896523e-7,
          0,
          7.444202500739005e-17,
          0,
          0,
          0,
          0,
          0,
          1.263505905902302e-7,
          2.2216567836742143e-7,
          0,
          0,
          3.434611003772691e-8,
          2.753311871819216e-7,
          2.3171429948372737e-8,
          0,
          0,
          8.530029786645767e-9,
          8.6068779861708e-11,
          0.0000026088403603874254,
          0.0000026088403622392474,
          29752.591785932935,
          0,
          9.799622111020787e-8,
          0,
          6.79605644492533e-9,
          1.9008481220288284e-8,
          0,
          1.6106109141788807e-9,
          0,
          3.273547993712079e-8,
          0,
          0,
          0,
          6.796056444907513e-9,
          2.2216567836742143e-7,
          9.985546755539503e-11,
          9.119991208642401e-8,
          0,
          9.119991208642401e-8,
          0,
          1.89196129823715e-7,
          0,
          4.81096165546101e-11,
          4.52666042918587e-7,
          1.0121416890242122e-7,
          3.434611003772691e-8,
          2.753311871819216e-7,
          1.5879366931058157e-7
         ],
         "y0": " ",
         "yaxis": "y"
        }
       ],
       "layout": {
        "legend": {
         "tracegroupgap": 0
        },
        "margin": {
         "t": 60
        },
        "template": {
         "data": {
          "bar": [
           {
            "error_x": {
             "color": "#2a3f5f"
            },
            "error_y": {
             "color": "#2a3f5f"
            },
            "marker": {
             "line": {
              "color": "#E5ECF6",
              "width": 0.5
             },
             "pattern": {
              "fillmode": "overlay",
              "size": 10,
              "solidity": 0.2
             }
            },
            "type": "bar"
           }
          ],
          "barpolar": [
           {
            "marker": {
             "line": {
              "color": "#E5ECF6",
              "width": 0.5
             },
             "pattern": {
              "fillmode": "overlay",
              "size": 10,
              "solidity": 0.2
             }
            },
            "type": "barpolar"
           }
          ],
          "carpet": [
           {
            "aaxis": {
             "endlinecolor": "#2a3f5f",
             "gridcolor": "white",
             "linecolor": "white",
             "minorgridcolor": "white",
             "startlinecolor": "#2a3f5f"
            },
            "baxis": {
             "endlinecolor": "#2a3f5f",
             "gridcolor": "white",
             "linecolor": "white",
             "minorgridcolor": "white",
             "startlinecolor": "#2a3f5f"
            },
            "type": "carpet"
           }
          ],
          "choropleth": [
           {
            "colorbar": {
             "outlinewidth": 0,
             "ticks": ""
            },
            "type": "choropleth"
           }
          ],
          "contour": [
           {
            "colorbar": {
             "outlinewidth": 0,
             "ticks": ""
            },
            "colorscale": [
             [
              0,
              "#0d0887"
             ],
             [
              0.1111111111111111,
              "#46039f"
             ],
             [
              0.2222222222222222,
              "#7201a8"
             ],
             [
              0.3333333333333333,
              "#9c179e"
             ],
             [
              0.4444444444444444,
              "#bd3786"
             ],
             [
              0.5555555555555556,
              "#d8576b"
             ],
             [
              0.6666666666666666,
              "#ed7953"
             ],
             [
              0.7777777777777778,
              "#fb9f3a"
             ],
             [
              0.8888888888888888,
              "#fdca26"
             ],
             [
              1,
              "#f0f921"
             ]
            ],
            "type": "contour"
           }
          ],
          "contourcarpet": [
           {
            "colorbar": {
             "outlinewidth": 0,
             "ticks": ""
            },
            "type": "contourcarpet"
           }
          ],
          "heatmap": [
           {
            "colorbar": {
             "outlinewidth": 0,
             "ticks": ""
            },
            "colorscale": [
             [
              0,
              "#0d0887"
             ],
             [
              0.1111111111111111,
              "#46039f"
             ],
             [
              0.2222222222222222,
              "#7201a8"
             ],
             [
              0.3333333333333333,
              "#9c179e"
             ],
             [
              0.4444444444444444,
              "#bd3786"
             ],
             [
              0.5555555555555556,
              "#d8576b"
             ],
             [
              0.6666666666666666,
              "#ed7953"
             ],
             [
              0.7777777777777778,
              "#fb9f3a"
             ],
             [
              0.8888888888888888,
              "#fdca26"
             ],
             [
              1,
              "#f0f921"
             ]
            ],
            "type": "heatmap"
           }
          ],
          "heatmapgl": [
           {
            "colorbar": {
             "outlinewidth": 0,
             "ticks": ""
            },
            "colorscale": [
             [
              0,
              "#0d0887"
             ],
             [
              0.1111111111111111,
              "#46039f"
             ],
             [
              0.2222222222222222,
              "#7201a8"
             ],
             [
              0.3333333333333333,
              "#9c179e"
             ],
             [
              0.4444444444444444,
              "#bd3786"
             ],
             [
              0.5555555555555556,
              "#d8576b"
             ],
             [
              0.6666666666666666,
              "#ed7953"
             ],
             [
              0.7777777777777778,
              "#fb9f3a"
             ],
             [
              0.8888888888888888,
              "#fdca26"
             ],
             [
              1,
              "#f0f921"
             ]
            ],
            "type": "heatmapgl"
           }
          ],
          "histogram": [
           {
            "marker": {
             "pattern": {
              "fillmode": "overlay",
              "size": 10,
              "solidity": 0.2
             }
            },
            "type": "histogram"
           }
          ],
          "histogram2d": [
           {
            "colorbar": {
             "outlinewidth": 0,
             "ticks": ""
            },
            "colorscale": [
             [
              0,
              "#0d0887"
             ],
             [
              0.1111111111111111,
              "#46039f"
             ],
             [
              0.2222222222222222,
              "#7201a8"
             ],
             [
              0.3333333333333333,
              "#9c179e"
             ],
             [
              0.4444444444444444,
              "#bd3786"
             ],
             [
              0.5555555555555556,
              "#d8576b"
             ],
             [
              0.6666666666666666,
              "#ed7953"
             ],
             [
              0.7777777777777778,
              "#fb9f3a"
             ],
             [
              0.8888888888888888,
              "#fdca26"
             ],
             [
              1,
              "#f0f921"
             ]
            ],
            "type": "histogram2d"
           }
          ],
          "histogram2dcontour": [
           {
            "colorbar": {
             "outlinewidth": 0,
             "ticks": ""
            },
            "colorscale": [
             [
              0,
              "#0d0887"
             ],
             [
              0.1111111111111111,
              "#46039f"
             ],
             [
              0.2222222222222222,
              "#7201a8"
             ],
             [
              0.3333333333333333,
              "#9c179e"
             ],
             [
              0.4444444444444444,
              "#bd3786"
             ],
             [
              0.5555555555555556,
              "#d8576b"
             ],
             [
              0.6666666666666666,
              "#ed7953"
             ],
             [
              0.7777777777777778,
              "#fb9f3a"
             ],
             [
              0.8888888888888888,
              "#fdca26"
             ],
             [
              1,
              "#f0f921"
             ]
            ],
            "type": "histogram2dcontour"
           }
          ],
          "mesh3d": [
           {
            "colorbar": {
             "outlinewidth": 0,
             "ticks": ""
            },
            "type": "mesh3d"
           }
          ],
          "parcoords": [
           {
            "line": {
             "colorbar": {
              "outlinewidth": 0,
              "ticks": ""
             }
            },
            "type": "parcoords"
           }
          ],
          "pie": [
           {
            "automargin": true,
            "type": "pie"
           }
          ],
          "scatter": [
           {
            "fillpattern": {
             "fillmode": "overlay",
             "size": 10,
             "solidity": 0.2
            },
            "type": "scatter"
           }
          ],
          "scatter3d": [
           {
            "line": {
             "colorbar": {
              "outlinewidth": 0,
              "ticks": ""
             }
            },
            "marker": {
             "colorbar": {
              "outlinewidth": 0,
              "ticks": ""
             }
            },
            "type": "scatter3d"
           }
          ],
          "scattercarpet": [
           {
            "marker": {
             "colorbar": {
              "outlinewidth": 0,
              "ticks": ""
             }
            },
            "type": "scattercarpet"
           }
          ],
          "scattergeo": [
           {
            "marker": {
             "colorbar": {
              "outlinewidth": 0,
              "ticks": ""
             }
            },
            "type": "scattergeo"
           }
          ],
          "scattergl": [
           {
            "marker": {
             "colorbar": {
              "outlinewidth": 0,
              "ticks": ""
             }
            },
            "type": "scattergl"
           }
          ],
          "scattermapbox": [
           {
            "marker": {
             "colorbar": {
              "outlinewidth": 0,
              "ticks": ""
             }
            },
            "type": "scattermapbox"
           }
          ],
          "scatterpolar": [
           {
            "marker": {
             "colorbar": {
              "outlinewidth": 0,
              "ticks": ""
             }
            },
            "type": "scatterpolar"
           }
          ],
          "scatterpolargl": [
           {
            "marker": {
             "colorbar": {
              "outlinewidth": 0,
              "ticks": ""
             }
            },
            "type": "scatterpolargl"
           }
          ],
          "scatterternary": [
           {
            "marker": {
             "colorbar": {
              "outlinewidth": 0,
              "ticks": ""
             }
            },
            "type": "scatterternary"
           }
          ],
          "surface": [
           {
            "colorbar": {
             "outlinewidth": 0,
             "ticks": ""
            },
            "colorscale": [
             [
              0,
              "#0d0887"
             ],
             [
              0.1111111111111111,
              "#46039f"
             ],
             [
              0.2222222222222222,
              "#7201a8"
             ],
             [
              0.3333333333333333,
              "#9c179e"
             ],
             [
              0.4444444444444444,
              "#bd3786"
             ],
             [
              0.5555555555555556,
              "#d8576b"
             ],
             [
              0.6666666666666666,
              "#ed7953"
             ],
             [
              0.7777777777777778,
              "#fb9f3a"
             ],
             [
              0.8888888888888888,
              "#fdca26"
             ],
             [
              1,
              "#f0f921"
             ]
            ],
            "type": "surface"
           }
          ],
          "table": [
           {
            "cells": {
             "fill": {
              "color": "#EBF0F8"
             },
             "line": {
              "color": "white"
             }
            },
            "header": {
             "fill": {
              "color": "#C8D4E3"
             },
             "line": {
              "color": "white"
             }
            },
            "type": "table"
           }
          ]
         },
         "layout": {
          "annotationdefaults": {
           "arrowcolor": "#2a3f5f",
           "arrowhead": 0,
           "arrowwidth": 1
          },
          "autotypenumbers": "strict",
          "coloraxis": {
           "colorbar": {
            "outlinewidth": 0,
            "ticks": ""
           }
          },
          "colorscale": {
           "diverging": [
            [
             0,
             "#8e0152"
            ],
            [
             0.1,
             "#c51b7d"
            ],
            [
             0.2,
             "#de77ae"
            ],
            [
             0.3,
             "#f1b6da"
            ],
            [
             0.4,
             "#fde0ef"
            ],
            [
             0.5,
             "#f7f7f7"
            ],
            [
             0.6,
             "#e6f5d0"
            ],
            [
             0.7,
             "#b8e186"
            ],
            [
             0.8,
             "#7fbc41"
            ],
            [
             0.9,
             "#4d9221"
            ],
            [
             1,
             "#276419"
            ]
           ],
           "sequential": [
            [
             0,
             "#0d0887"
            ],
            [
             0.1111111111111111,
             "#46039f"
            ],
            [
             0.2222222222222222,
             "#7201a8"
            ],
            [
             0.3333333333333333,
             "#9c179e"
            ],
            [
             0.4444444444444444,
             "#bd3786"
            ],
            [
             0.5555555555555556,
             "#d8576b"
            ],
            [
             0.6666666666666666,
             "#ed7953"
            ],
            [
             0.7777777777777778,
             "#fb9f3a"
            ],
            [
             0.8888888888888888,
             "#fdca26"
            ],
            [
             1,
             "#f0f921"
            ]
           ],
           "sequentialminus": [
            [
             0,
             "#0d0887"
            ],
            [
             0.1111111111111111,
             "#46039f"
            ],
            [
             0.2222222222222222,
             "#7201a8"
            ],
            [
             0.3333333333333333,
             "#9c179e"
            ],
            [
             0.4444444444444444,
             "#bd3786"
            ],
            [
             0.5555555555555556,
             "#d8576b"
            ],
            [
             0.6666666666666666,
             "#ed7953"
            ],
            [
             0.7777777777777778,
             "#fb9f3a"
            ],
            [
             0.8888888888888888,
             "#fdca26"
            ],
            [
             1,
             "#f0f921"
            ]
           ]
          },
          "colorway": [
           "#636efa",
           "#EF553B",
           "#00cc96",
           "#ab63fa",
           "#FFA15A",
           "#19d3f3",
           "#FF6692",
           "#B6E880",
           "#FF97FF",
           "#FECB52"
          ],
          "font": {
           "color": "#2a3f5f"
          },
          "geo": {
           "bgcolor": "white",
           "lakecolor": "white",
           "landcolor": "#E5ECF6",
           "showlakes": true,
           "showland": true,
           "subunitcolor": "white"
          },
          "hoverlabel": {
           "align": "left"
          },
          "hovermode": "closest",
          "mapbox": {
           "style": "light"
          },
          "paper_bgcolor": "white",
          "plot_bgcolor": "#E5ECF6",
          "polar": {
           "angularaxis": {
            "gridcolor": "white",
            "linecolor": "white",
            "ticks": ""
           },
           "bgcolor": "#E5ECF6",
           "radialaxis": {
            "gridcolor": "white",
            "linecolor": "white",
            "ticks": ""
           }
          },
          "scene": {
           "xaxis": {
            "backgroundcolor": "#E5ECF6",
            "gridcolor": "white",
            "gridwidth": 2,
            "linecolor": "white",
            "showbackground": true,
            "ticks": "",
            "zerolinecolor": "white"
           },
           "yaxis": {
            "backgroundcolor": "#E5ECF6",
            "gridcolor": "white",
            "gridwidth": 2,
            "linecolor": "white",
            "showbackground": true,
            "ticks": "",
            "zerolinecolor": "white"
           },
           "zaxis": {
            "backgroundcolor": "#E5ECF6",
            "gridcolor": "white",
            "gridwidth": 2,
            "linecolor": "white",
            "showbackground": true,
            "ticks": "",
            "zerolinecolor": "white"
           }
          },
          "shapedefaults": {
           "line": {
            "color": "#2a3f5f"
           }
          },
          "ternary": {
           "aaxis": {
            "gridcolor": "white",
            "linecolor": "white",
            "ticks": ""
           },
           "baxis": {
            "gridcolor": "white",
            "linecolor": "white",
            "ticks": ""
           },
           "bgcolor": "#E5ECF6",
           "caxis": {
            "gridcolor": "white",
            "linecolor": "white",
            "ticks": ""
           }
          },
          "title": {
           "x": 0.05
          },
          "xaxis": {
           "automargin": true,
           "gridcolor": "white",
           "linecolor": "white",
           "ticks": "",
           "title": {
            "standoff": 15
           },
           "zerolinecolor": "white",
           "zerolinewidth": 2
          },
          "yaxis": {
           "automargin": true,
           "gridcolor": "white",
           "linecolor": "white",
           "ticks": "",
           "title": {
            "standoff": 15
           },
           "zerolinecolor": "white",
           "zerolinewidth": 2
          }
         }
        },
        "violinmode": "group",
        "xaxis": {
         "anchor": "y",
         "domain": [
          0,
          1
         ]
        },
        "yaxis": {
         "anchor": "x",
         "domain": [
          0,
          1
         ],
         "exponentformat": "none",
         "title": {
          "text": "Distance"
         }
        }
       }
      }
     },
     "metadata": {},
     "output_type": "display_data"
    },
    {
     "data": {
      "application/vnd.plotly.v1+json": {
       "config": {
        "plotlyServerURL": "https://plot.ly"
       },
       "data": [
        {
         "alignmentgroup": "True",
         "box": {
          "visible": true
         },
         "hovertemplate": "Distance=%{y}<extra></extra>",
         "legendgroup": "",
         "marker": {
          "color": "#636efa"
         },
         "name": "",
         "offsetgroup": "",
         "orientation": "v",
         "points": "all",
         "scalegroup": "True",
         "showlegend": false,
         "type": "violin",
         "x0": " ",
         "xaxis": "x",
         "y": [
          217.39373207825645,
          487.75159072584154,
          458.7153289009287,
          345.5771905220787,
          15.72242920085976,
          98.09186570816495,
          305.3744095517014,
          269.920978995104,
          233.86907849617612,
          118.21935705983798,
          266.12009132021717,
          622.991109148006,
          497.9199166049163,
          512.1043965475379,
          199.88088614194396,
          95.51672932337833,
          665.3816845118116,
          523.6292826802444,
          462.1616299694474,
          662.2969878314902,
          969.7157058851599,
          852.9682808349535,
          749.0904540287997,
          176.51847262575245,
          320.48070643582884,
          452.26287955944576,
          497.78517391673796,
          217.95425313104235,
          395.0668246603355,
          19.827430477943665,
          87.66880185115092,
          356.757575293435,
          510.12752366189704,
          235.37411974133707,
          674.2567502493447,
          751.2594183779418,
          325.5748467422209,
          41.62115552864318,
          77.70607519206412,
          29.898503873926572,
          34.151212850086516,
          82.18695469875908,
          237.04495574208804,
          28.74989812236005,
          642.4558801857747,
          441.3439341654915,
          802.2134355615855,
          540.0789193854736,
          379.7983827129292,
          264.2745722960404,
          314.4797777007061,
          212.90072439921073,
          75.57580681994017,
          117.48362547167919,
          49.09222876753746,
          98.9389990051404,
          473.9497873842957,
          730.5666974790859,
          959.3960430733625,
          1311.7274780078415,
          1175.6669738206515,
          943.2996778729021,
          1073.3556004489535,
          1067.5902193515335,
          1288.1291690878418,
          1380.8932650489144,
          843.5343875012989,
          943.3535150000392,
          1159.0474755534121,
          949.0895641442035,
          772.5737440803036,
          788.5719425283679,
          592.4312923909481,
          716.8990003842632,
          1136.736123165893,
          793.727146308728,
          1350.9664696347472,
          1397.2861208679292,
          1332.252890569085,
          1260.5312671676054,
          1074.701066924321,
          973.2718378710948,
          1011.5875053000116,
          762.9773408648342,
          233.23958728617723,
          490.8210009122211,
          519.6380263574159,
          277.50838361652444,
          78.15970121882334,
          61.72416005542292,
          344.2803483018607,
          2.3872270658866355,
          300.51312161783835,
          997.6918795976892,
          975.3249635202507,
          880.0591455559921,
          946.6589519055304,
          574.6727908796229,
          351.8728342559614,
          543.3802890465404,
          275.37775374894636,
          96.02466029564448,
          243.40998138196204,
          556.4928545152944,
          401.47311690283397,
          198.45707630456195,
          21.454459263930584,
          635.2538510554887,
          775.9183642113226,
          802.9155411325879,
          682.5457011920328,
          1115.0763664987685,
          1021.0706441924292,
          644.1606633372397,
          694.5906817788132,
          497.768529373467,
          739.0340247063247,
          469.12780709894787,
          511.4550269029041,
          487.17671596708675,
          499.72744987400694,
          787.0610045525336,
          935.2848825730669,
          568.6266026359099,
          459.8200294196996,
          805.8683665891236,
          690.2318236042674,
          749.59438219377,
          423.1308008381073,
          555.78342909672,
          255.7745313237145,
          541.3370874468346,
          676.6004062160304,
          594.2116577228855,
          512.7788581212467,
          63.00289187781204,
          325.9290435171544,
          146.53459022910698,
          218.71067819841372,
          155.23989666268008,
          17.315357440733717,
          65.38013784100082,
          207.91051828238318,
          290.87657862309817,
          254.1312444539097,
          90.02912012018284,
          596.7879191386899,
          791.5106164365897,
          815.3277461299504,
          873.2812983402833,
          911.7068275150035,
          581.9643700886849,
          576.6032194779463,
          570.5165853698995,
          417.11009395338294,
          389.4404553412155,
          546.65983970305,
          278.20174968490073,
          332.6319138685675,
          214.19952394206945,
          468.8375620094753,
          668.7669739576097,
          419.5620665957758,
          119.8564335066604,
          14.307700022020777,
          217.93536116931145,
          462.29311031558547,
          425.3960632273113,
          124.93350755899185,
          497.15785164503575,
          713.4050131714229,
          686.9871538222812,
          299.3098818661134,
          154.97731408144608,
          202.6896893432204,
          472.1040406748314,
          149.14464456505502,
          202.55534318384187,
          114.59346224048295,
          123.28967708293695,
          327.94837248976614,
          81.40459350652222,
          358.81498543208517,
          298.3264740810768,
          232.38711196950362,
          86.77696636775917,
          322.26990892548196,
          1085.7508051764726,
          603.785968314718,
          884.9067677453238,
          1345.826998377183,
          1388.6329056146633,
          1341.2958660241102,
          1149.5555876755204,
          1194.7777235415276,
          1334.809030066289,
          886.4948254547662,
          728.1748464884355,
          463.16879187471375,
          385.54511690731147,
          325.03888182261994,
          418.3837832894835,
          350.84416894296606,
          567.840568529734,
          940.4147508322051,
          717.0288144544185,
          821.8314012440769,
          1015.302047973367,
          1034.3208159505682,
          1102.4187678323303,
          744.9589042690018,
          525.7077909640659,
          598.4785083441537,
          0.992543822649776,
          138.06339831405128,
          463.02352153437437,
          464.89942038701736,
          326.56098959487724,
          438.5036807625181,
          371.77249475383786,
          179.11837529548268,
          156.18176698578824,
          236.04444453998823,
          553.5009888982026,
          796.8942432485771,
          467.43341709150576,
          139.5960892618629,
          160.67863982680228,
          78.46423127432058,
          237.3655637573416,
          423.3515206853624,
          393.41481312569226,
          345.5891710621286,
          533.8074412184537,
          417.71102695067015,
          182.79755485327877,
          16.502538726355667,
          147.8841898887981,
          75.01110090305572,
          152.23545001689774,
          203.6393017246675,
          261.5743505026001,
          77.38535477548717,
          82.64181544455101,
          108.50905528565237,
          87.96325237074711,
          3.5231596984812295,
          258.68400926546013,
          114.73904160459168,
          460.01396971510286,
          621.3822382215919,
          693.4674449531294,
          678.3396485110794,
          1146.2411019516924,
          961.7159555081327,
          1052.516976158454,
          1006.0805808480483,
          352.22394667647814,
          133.41643565073454,
          84.2403198990327,
          329.9226630411994,
          75.26816672716453,
          63.47437088638814,
          113.84593548625152,
          325.26535157513234,
          360.9931145127921,
          310.67501440592133,
          290.38784957495767,
          104.09186827329961,
          558.8638071745539,
          819.5290319807552,
          1164.8297162810293,
          1066.5197922399998,
          822.3154270935592,
          70.65423000705549,
          207.3784528769219,
          441.00459707103704,
          339.8363344186452,
          901.9966083236333,
          930.4892351124894,
          986.2557198092336,
          946.9802333446347,
          1173.9442232024269,
          974.835803235898,
          802.5565723822608,
          683.8775995971962,
          842.104422658012,
          594.7256831441885,
          486.42497472703684,
          230.4393116655625,
          435.6281447821893,
          655.7556990602649,
          680.5671495817727,
          324.19481641773876,
          569.9734308903785,
          509.67872198166236,
          557.6373318476045,
          625.4498875951,
          1101.8725881204625,
          337.56676614355666,
          451.53875133842695,
          551.4645197686053,
          654.3482450627099,
          1136.8205844833587,
          1204.4564454773597,
          1365.396855672887,
          1267.7113769042287,
          1328.0933880356267,
          1034.2292091336112,
          1167.2214101397003,
          689.9363813846912,
          1365.884721211838,
          1399.2845434527794,
          1281.5251056437035,
          1369.6826874019591,
          1385.5429259313896,
          1195.027797514822,
          1308.8808969511351,
          1406.4607211118687,
          1283.297106828426,
          1358.266987068016,
          1253.8788452676483,
          952.6765667007393,
          940.0676224101916,
          421.9406964619476,
          1333.7178865688354,
          1104.8876274035038,
          895.2714667475223,
          906.9353306802028,
          555.0542764424922,
          185.7781136031686,
          127.24054038472015,
          353.98874386486085,
          615.4852156391156,
          282.29884212009773,
          894.337954208561,
          638.4968051729919,
          910.4615706334226,
          1079.2455463505048,
          1371.4964090153815,
          1175.7386415967592,
          1217.75386998239,
          1152.149048060855,
          1285.8031542658189,
          343.333988960699,
          336.6395212780871,
          300.7771763585939,
          615.2808884025727,
          284.58559239696916,
          436.2548951800044,
          798.573770424904,
          614.3001747550245,
          792.1222281604882,
          692.7263184945216,
          474.735579913874,
          295.85572782984696,
          468.7176298961121,
          689.0606854931798,
          517.6300205813253,
          900.833525450473,
          472.76149642553275,
          191.5435718996709,
          431.5520173159236,
          456.28416629469575,
          412.99652875370066,
          69.19647509576151,
          212.04106457719124,
          38.045392553676145,
          239.13406721221034,
          41.02482080199244,
          120.76136480089116,
          14.268571447678884,
          354.52254662845644,
          185.52462692343403,
          83.8361202784762,
          135.00827851567672,
          333.4093786297405,
          221.26919828310386,
          73.08401675135727,
          427.70916713263404,
          429.34410096260086,
          191.2711767138501,
          352.3676928039457,
          632.2367398415171,
          575.7867497143372,
          767.2271330032246,
          723.4753647580183,
          512.6715663369965,
          235.17403913992962,
          245.29943991742556,
          275.16192891299295,
          139.499190003391,
          238.29961827796348,
          61.00224593465517,
          57.333319738312184,
          83.38265730415374,
          181.64365550673654,
          122.14019584258916,
          445.65983875169053,
          292.6557672462905,
          592.3065148191373,
          787.176220439756,
          599.0016013232256,
          356.3623200527179,
          380.8548551901575,
          62.57898567647605,
          422.2896810152492,
          550.1912441494562,
          733.206890234642,
          1015.9320595480772,
          749.6455325823302,
          373.12466642462635,
          458.9148367357741,
          473.39739789446054,
          6.767667572271498,
          128.47214422290207,
          369.9121100168065,
          57.60216722969554,
          335.8187867082917,
          158.74537594351293,
          203.56263410217755,
          2.6601802103054277,
          325.0380136014511,
          557.6642840505608,
          726.3854829068985,
          800.3019962694657,
          550.6670627326237,
          762.683644645185,
          608.8729330806458,
          721.4973142577451,
          726.1958232001626,
          713.2159692517783,
          439.8668167032192,
          411.6549980632765,
          887.0542724258237,
          863.9924858640583,
          655.6619757059549,
          905.332451544257,
          1342.976847366179,
          1300.582587770363,
          1357.94377354612,
          1277.44137824319,
          1334.0471706820804,
          1350.1343706185496,
          766.6035268005728,
          341.3790411571033,
          330.1290201378325,
          288.04697250668255,
          304.27936753752994,
          8.174417066455328,
          472.23454764172766,
          839.6826297584755,
          894.7531832816438,
          1055.1929591970031,
          1163.4361557542268,
          1081.5544530856873,
          866.0182326875413,
          838.8167786362811,
          656.1455574635646,
          695.961645921233,
          455.3701167174637,
          432.38471563083937,
          230.5026120360803,
          73.36519004406982,
          74.57833818557944,
          32.04021038635961,
          66.41219048310467,
          9.156641988722479,
          136.06119435797112,
          223.45153654841786,
          297.8417115908852,
          187.48010789881272,
          185.38765156047802,
          202.66114194131595,
          160.54945789913995,
          582.266695895877,
          296.0844784654311,
          231.4663645578041,
          202.18604777499445,
          940.2536425098033,
          1290.9147338627515,
          1232.6847277533643,
          1263.0579547275734,
          936.7144279240275,
          1041.8388337230356,
          1044.6418311764292,
          1102.6397788067745,
          886.0380898348595,
          981.7756679936363,
          885.8044612739354,
          1243.4216198869615,
          1020.0980556634086,
          1187.6714577975167,
          1098.5543311136144,
          1130.8495471797617,
          1249.77327563447,
          901.6308228888574,
          1052.5534834226862,
          909.2669081585277,
          1042.5958079566706,
          1224.084012450277,
          1226.1304233972778,
          660.8574255790456,
          876.0103870475579,
          497.94370276656235,
          798.6549533105599,
          46.039510595580374,
          276.8452923670181,
          78.62694948610105,
          316.8137984020429,
          381.39360987866667,
          387.2740715741348,
          832.9324408854786,
          462.52995497394477,
          269.54410068101146,
          173.58950376315008,
          321.7546178784178,
          955.9594701569691,
          932.6419445655956,
          849.2224897297378,
          902.5118786296506,
          979.6121776006961,
          762.0611894747001,
          660.6659511536318,
          832.3017233208441,
          560.1643159048035,
          974.6599237760619,
          1337.7977813948746,
          1155.3131677445276,
          1215.3157632611208,
          1384.9221290101223,
          1362.6030022961424,
          1232.9550828643205,
          936.772082802337,
          787.5168558641766,
          952.9377266326434,
          962.3226012617815,
          539.6143268783549,
          148.39415826132682,
          146.58876048631157,
          36.906945234368735,
          233.8357489136585,
          180.16183121339998,
          162.81432259894922,
          63.5249954217779,
          31.697140032269065,
          390.27624732371015,
          819.0822981752841,
          1379.1408139050316,
          1044.6305144010537,
          699.5030444045849,
          711.50082213769,
          210.69574765277468,
          249.01809434346035,
          24.885255604076477,
          7.46389347787695,
          45.53060576331751,
          335.09046944963353,
          424.67499982553863,
          512.4771579701343,
          494.74851341353093,
          569.634896875692,
          699.5711194479318,
          372.5746410581381,
          416.8191863983447,
          575.9601435471628,
          290.0357973844855,
          373.80489341660973,
          697.8065477706376,
          913.3641255729152,
          554.7972788278748,
          743.5756151274868,
          683.601786096183,
          850.074847312464,
          611.0478553901128,
          203.02245602801648,
          352.76545076515254,
          228.88623728915002,
          558.7851365651013,
          1078.4901590324325,
          726.421739680362,
          634.14519319951,
          696.9344939127031,
          698.142148879892,
          532.8796695646638,
          685.2325369425283,
          866.2895041617462,
          789.3857985368054,
          840.2787726933392,
          730.4033401049768,
          1091.7197386820715,
          1227.710152610752,
          1376.860567618695,
          1287.4631744603932,
          1241.7836152612238,
          1119.577778398579,
          1319.045416206996,
          1331.2447310449327,
          1082.3823142906874,
          1282.7702617389637,
          515.1854542685077,
          1048.761330519211,
          1298.9365959377133,
          622.5271072026231,
          675.6325017816148,
          660.273783344954,
          865.4168400364739,
          676.0688049147717,
          648.969662863698,
          762.237859072307,
          359.75617789632867,
          730.7632593398106,
          156.91772560341727,
          123.02233542401017,
          129.6235247114809,
          221.7083596423068,
          411.93012539996926,
          591.7323505412768,
          459.1218900239864,
          956.1146748138797,
          1096.8272226681422,
          775.5862388659631,
          905.1784591493182,
          1158.7045032514175,
          1274.5219402715309,
          1317.729949368101,
          1306.6046808741482,
          1149.8498842380773,
          1183.2548569057462,
          1369.8129315131,
          1389.460203630033,
          1403.330058709393,
          1379.966480745695,
          1160.6198131853948,
          1209.6411926559886,
          1284.6083178313856,
          1325.4218032241233,
          962.0758851445229,
          762.2575912591994,
          1153.8197576922037,
          748.6885457863739,
          906.5718396497493,
          745.0726002022974,
          870.8062090777922,
          586.0184602323316,
          788.1445168799376,
          928.8712569064444,
          1123.9642706967793,
          492.5314806683652,
          480.0931281090743,
          242.03266478541707,
          377.08195224603776,
          299.5779078516293,
          336.36820441364654,
          257.11981757504094,
          629.0132226844506,
          603.7213179657506,
          751.7359776253728,
          694.4117150664333,
          1089.202489749877,
          1276.6220366979755,
          1179.4683017723262,
          805.3000780704173,
          695.3386721612236,
          925.6738536694328,
          1127.267291150043,
          1009.3260675484884,
          963.1665434530249,
          1383.402219992651,
          1357.9031184179032,
          1242.2988928148188,
          1191.8928803797362,
          1236.1366165914653,
          1182.8001331327384,
          1299.0677747136178,
          1265.2972551225248,
          1222.9659161557424,
          732.8765098093908,
          450.0058434511108,
          734.4184035274307,
          232.90459570070874,
          92.78727424954684,
          107.02752721688017,
          287.9494860193244,
          394.8564094206517,
          46.22508897242542,
          557.8204934630257,
          673.1639753382552,
          495.94350975823045,
          662.8468041939068,
          455.5906320591518,
          317.9767471123876,
          214.37523855130854,
          285.7710585938234,
          182.91297370786347,
          277.592239639151,
          363.5780218913954,
          350.2375459534263,
          978.1980043273196,
          997.0501022296971,
          616.2284441093777,
          504.40911302734975,
          31.605677458939375,
          233.50892258120265,
          32.67935254944142,
          152.25061385340626,
          78.93433494563287,
          165.5942739764886,
          279.64674120241443,
          560.8283570306611,
          736.8260202632648,
          1171.5279487633422,
          1108.9427707013283,
          1130.4982883578707,
          635.7387359165937,
          595.1635180489021,
          1194.2197026926447,
          1264.0540527043188,
          1278.756658137441,
          1230.93602783675,
          1210.0313822151252,
          981.311438559912,
          646.0446541960981,
          617.0757185021332,
          459.2230408853716,
          450.93391106220673,
          643.7392556259849,
          947.8038128003212,
          803.499840823429,
          925.4942654627994,
          947.5212817803086,
          1138.2186693792135,
          1159.8473428931522,
          1363.4248627934912,
          1382.913605569244,
          1238.9758723979535,
          767.2575595989407,
          683.9060537586997,
          477.11265663367385,
          144.88973810264534,
          90.86794956210068,
          160.6550319598967,
          183.9349513384101,
          120.53622797460199,
          270.8423029719126,
          52.121699098893394,
          288.81080785802186,
          225.10730853030682,
          509.5293226188731,
          710.1683011350631,
          716.1807687979707,
          456.8814274930554,
          805.3793668449331,
          930.4594613790615,
          863.9215630861362,
          707.899686528143,
          692.2891164974768,
          553.0863040840497,
          216.59260297322427,
          513.7530359400852,
          497.74973050952093,
          663.1391871669458,
          717.7608749835946,
          212.92359263197451,
          212.23412912447685,
          482.34909731358243,
          760.9108303057104,
          673.518806266293,
          267.53525444114354,
          170.62869971616794,
          90.29913640131969,
          13.550040005972969,
          194.67944798127456,
          530.6853927747541,
          416.9472493197734,
          58.92897298665782,
          153.02589761481727,
          693.6206018652002,
          807.4592698149619,
          837.0383969403231,
          638.787299281152,
          1046.3014242373677,
          1016.559738035643,
          614.0707833047688,
          633.3742505802315,
          876.3616794302711,
          755.164238893373,
          789.1852271753262,
          961.9848000439737,
          804.1029864119712,
          806.1619106838498,
          379.1902341043213,
          590.2945533516128,
          1006.2398561288906,
          1353.6506498279107,
          1323.9717721017032,
          1047.580629648662,
          1265.8741834146492,
          1191.3210351001626,
          889.6709916577748,
          933.6304543415099,
          1140.2322225249297,
          1329.275486698562,
          1166.0820420287087,
          987.4499589038911,
          741.8772949535154,
          488.0777030694697,
          805.8115360813389,
          637.2062066232742,
          877.5077860493368,
          5.985689514022308,
          30.773554358852497,
          47.307339057192216,
          129.85675088941144,
          161.79413701299026,
          259.4354864172555,
          490.5431327471033,
          716.0687567444215,
          57.137308803964224,
          211.27813905691826,
          197.6973207555257,
          267.20347436660586,
          17.74568694204861,
          33.74770855905518,
          223.3220427838455,
          182.61858535641616,
          280.9018779405672,
          454.38448835429847,
          236.2783233939188,
          364.45711725440754,
          711.5544251743019,
          173.63443058284935,
          14.407762190122503,
          86.81378110636136,
          169.3748773838478,
          137.88793953200582,
          105.73385068354291,
          246.0495102744309,
          299.3827814351308,
          169.8100663940754,
          225.7150067705756,
          510.4871744073498,
          729.2071788201321,
          709.1207530022854,
          16.971496355179642,
          99.2854331262165,
          103.29899561668834,
          411.5811438688452,
          214.22219715658488,
          319.5044107489101,
          52.78034734903771,
          157.72313621473344,
          408.50973495429264,
          12.067183063869152,
          108.53088513462968,
          101.75840377422678,
          263.4248861087895,
          67.16266762060671,
          15.6387455557807,
          92.15501178716484,
          84.81240107502794,
          124.31721098766636,
          243.6100164645167,
          510.0595663286994,
          732.2535850832552,
          473.7659544933402,
          571.8565352805963,
          637.7250362708592,
          646.1552123643844,
          961.5493169429996,
          965.1159885496011,
          860.6389404581419,
          694.9604554772889,
          567.5961510882656,
          871.241291568177,
          906.1416635953474,
          853.5727840311165,
          1144.8219707529013,
          1157.6234481359957,
          1075.5987554331202,
          1347.066960777488,
          1303.1576879828417,
          1028.999471834805,
          1115.3700581710564,
          1211.9116811199378,
          1297.2774881701002,
          1233.3352955328976,
          1190.512892071593,
          956.6357366561307,
          667.3432428366459,
          1147.2241503072446,
          979.9520805841815,
          845.356801957147,
          1053.424040434347,
          1207.85880684206,
          992.5514278605,
          1339.6970638668524,
          1323.810515824526,
          1253.6750120680217,
          1311.140307790686,
          1044.1047951841535,
          763.1776047662553,
          770.0688936397349,
          776.4334592905022,
          1321.6565597602596,
          912.7931033428035,
          662.7443726227417,
          675.4078949316321,
          935.5069192501182,
          1239.2491213724468,
          1398.7083260944798,
          1074.2342373567449,
          992.7109554047643,
          1216.179685014701,
          611.8082925331522,
          440.34684337769454,
          647.6365598587007,
          762.2974133134271,
          1038.4118182844534,
          621.4873325797121,
          1026.0445849262799,
          813.0958515678792,
          920.7893875251108,
          1051.1478478245976,
          840.4419756843805,
          541.225031261781,
          367.6833162843985,
          311.9909211244112,
          456.86487782929424,
          335.5976815360023,
          351.575721431895,
          507.4880745345857,
          404.46353792913334,
          524.9261726721685,
          458.4605749181579,
          942.8462361228746,
          672.8525002531163,
          598.9289332640553,
          552.8032589413209,
          754.048342565877,
          546.2276852414072,
          621.2885975709046,
          840.8982062252061,
          781.3357116523694,
          823.572047350653,
          277.27347039350377,
          579.5398623844276,
          711.018415294654,
          706.281235596904,
          556.1514104805073,
          390.12762288338246,
          405.0194474039046,
          455.74771623703134,
          521.6539885564337,
          117.19397965147057,
          63.2814987241592,
          41.386294387111505,
          335.94215496703714,
          531.4450451652335,
          202.05299301308895,
          140.7958757094985,
          36.04964560574703,
          161.38283934759775,
          439.28062344265953,
          846.2277026790811,
          1119.6799273083848,
          1080.46729958548,
          904.6726502844883,
          1016.7637186349644,
          594.0801792212984,
          694.968778388681,
          464.3284417000519,
          302.51134936826696,
          537.5201686794693,
          486.36401326276217,
          690.6286576483816,
          517.1522356020599,
          680.0024160893571,
          446.92201164349774,
          544.668342509133,
          464.4327394590981,
          472.0142004450873,
          328.59959880170425,
          272.4620706378512,
          499.3706307199384,
          513.8374811168776,
          736.5707876610611,
          892.4493301213221,
          652.5046720669278,
          1108.3348211707419,
          264.36307866254555,
          169.24551722832842,
          12.011732838092216,
          150.5960478775121,
          308.33247854884183,
          114.06972010212768,
          157.68295550872855,
          502.53319966728225,
          460.29405361851144,
          438.77546662809306,
          406.0668816509668,
          558.6447186164958,
          320.13289267773933,
          290.19061371060826,
          227.12697991622818,
          457.6686622033012,
          515.8767855510797,
          195.7547420894488,
          75.85375574398063,
          479.95519586128694,
          578.2484829720358,
          858.8937666823188,
          1023.2678119163145,
          937.773654407537,
          904.0069802113817,
          927.4935705122725,
          845.9698412210981,
          923.092125148374,
          692.5629744736066,
          14.629437113348102,
          137.49471578810727,
          85.63665649841082,
          138.09462111118572,
          291.7711789954444,
          276.00756780909705,
          243.79050447623882,
          333.6858951868878,
          215.62365629776542,
          323.73554329782394,
          179.71151383049434,
          32.1160555644901,
          497.3236382645727,
          808.909294114345,
          631.095388765378,
          425.47979589913854,
          433.7140410771719,
          360.9950869046094,
          223.76890765505712,
          166.69080637081765,
          321.2792493028755,
          552.515437072375,
          411.8761893625522,
          594.7477408840471,
          515.5910255243911,
          32.81339687013124,
          145.32935030020997,
          369.692975803227,
          501.29295867941784,
          722.7438904499171,
          271.33670602908575,
          635.5150515036166,
          431.96076586058354,
          345.2731340482638,
          273.98788502358514,
          288.47308038050704,
          206.2710263439683,
          526.232769468562,
          554.8634971540392,
          602.9117679246901,
          483.3748762988957,
          208.93958024727746,
          115.94897646806636,
          201.56556907408046,
          238.49240083594592,
          91.73291265296899,
          91.90792333149783,
          126.23282078170404,
          134.82286684984206,
          334.9984756163053,
          445.2064907166727,
          292.61871141211765,
          796.2613148605524,
          1065.9352537247978,
          1218.300826386317,
          1205.6981659302735,
          1079.6831838076334,
          1359.3580811878355,
          1111.100864623248,
          1013.2759439588023,
          1089.7009097946884,
          1074.7888859309817,
          920.276118073686,
          704.015279812332,
          608.6093319701944,
          630.0164934006268,
          291.7733122039998,
          212.20966662815917,
          378.7702683469606,
          365.1890984281011,
          118.34296951240391,
          583.2595763788672,
          270.0267935875742,
          488.0570669244633,
          140.67658395689858,
          18.502432715957752,
          100.80754693251991,
          238.69406757328713,
          322.2857321976936,
          370.4032024939013,
          412.6191980994832,
          398.92412783225956,
          489.47486287376506,
          585.4708289593079,
          319.0448600185586,
          106.32441702885612,
          15.795744543482497,
          194.20869766547943,
          126.49851969085849,
          307.58555381864915,
          481.88359313576007,
          383.26979510582703,
          168.2215538245948,
          288.8550474091626,
          373.2440696219107,
          651.0329913840511,
          789.197693952213,
          798.8850607253379,
          1058.1905377813914,
          1003.0870047886228,
          988.1137463791001,
          891.3102073037709,
          1001.4592449146668,
          1168.6577669715589,
          777.6734673988528,
          707.9731462117409,
          604.4043738931556,
          428.84506891655593,
          674.1277078171026,
          585.3900918176341,
          437.49336903572186,
          222.89347501427045,
          613.9083169977633,
          306.41438617437103,
          121.57163630507807,
          155.0425481284487,
          657.731355123137,
          905.0543939816203,
          914.9317353033291,
          934.174578882047,
          1030.205117904012,
          1097.0004416519141,
          990.9021064657688,
          1116.3870854693507,
          1085.1776699818026,
          1083.3818734946844,
          793.0800564700963,
          675.1773158312869,
          673.2656583503698,
          641.9192717071946,
          666.2483440580395,
          889.4728201505351,
          1043.1994004803364,
          1389.9856876766908,
          1115.9463502302146,
          490.0762185618009,
          573.6573137569103,
          569.4262534044215,
          861.6644615621099,
          803.7745827857703,
          917.2214086005154,
          1036.216190106266,
          891.1508015413575,
          675.6475591933684,
          942.040090903767,
          1225.4825123221615,
          923.8533391221839,
          996.4632879325192,
          704.9087702642722,
          656.1353168156232,
          657.1398779677462,
          467.87996723837074,
          241.49892633137057,
          88.57389901169839,
          164.6440564990873,
          307.5133928899123,
          213.16357591182265,
          569.8378711060994,
          709.7820039536188,
          685.5521415862789,
          445.07003526214953,
          251.25493666361277,
          312.9804290681904,
          648.479979794072,
          857.4911329336111,
          547.1873625941254,
          173.29993067823864,
          708.6335850182365,
          679.2563844831304,
          811.2862951272285,
          696.600291558991,
          973.0036474788402,
          1175.8782883003912,
          1372.3745205375058,
          1374.3317617506684,
          1392.1011048447547,
          1119.8507099964781,
          598.7586156565469,
          323.9967666993525,
          431.3504546893824,
          402.1570726794296,
          45.168122975071505,
          171.4763202790937,
          159.5785154105446,
          29.745145827387837,
          46.53193150039386,
          207.17341424534206,
          134.73268101073748,
          440.3438431921537,
          550.627466359766,
          763.3095007355217,
          676.8755552301424,
          591.495441832272,
          427.3361628398008,
          578.2697078326564,
          936.1594553391027,
          905.413839767107,
          906.1043214362085,
          1166.5794420778157,
          1315.8144755763474,
          1335.597283647752,
          1259.7603069986424,
          666.326998374103,
          744.1827857470964,
          1096.0921705021049,
          1249.8482193691084,
          1201.7047442271567,
          865.3976434860855,
          826.3554731389416,
          656.4136039867085,
          1033.2867659096394,
          845.549206758556,
          496.9824716653168,
          615.3930630323168,
          1024.5467319108402,
          1238.0062459150317,
          1154.883765762678,
          963.6397006843451,
          701.244210311716,
          212.81928137466224,
          249.2916687498392,
          141.25006453064944,
          233.00724386279754,
          68.9525935144897,
          243.7235549508147,
          477.26137461982864,
          290.00895188344106,
          631.183702680777,
          850.1262788722166,
          486.7445240919472,
          638.4337056569691,
          727.6640928795737,
          673.1857688566095,
          492.43668179334526,
          799.3009189816969,
          968.0030466485013,
          1370.690246927775,
          1381.3247267061251,
          1284.0368221678884,
          1385.0152264126937,
          1349.7612930836367,
          1019.1780013086352,
          960.2176237055107,
          1298.106332377784,
          1216.9156041311999,
          1044.2008454269594,
          892.6351922037911,
          517.025905391285,
          843.8231940396813,
          614.1470049701747,
          765.0129322426978,
          1052.3652435971628,
          1160.2872344146947,
          833.8786531575863,
          941.3039649140406,
          647.7357960326725,
          735.5743972503838,
          501.4612482920496,
          646.8259523353909,
          88.72207058390998,
          252.38727916716834,
          157.47865245925786,
          171.24264295301464,
          75.12574166972587,
          104.22716084640903,
          334.8137580763945,
          104.6384078891603,
          298.7210789748864,
          404.8293389168415,
          198.09927038869031,
          217.9990100269661,
          68.88942312799281,
          175.0848064346216,
          20.645089573348766,
          179.44741838465026,
          310.6854752171346,
          198.75448853170195,
          235.42425677573428,
          176.82281796130297,
          325.58258639227734,
          492.4592545200656,
          765.9461595401533,
          715.0423464693359,
          1186.9336798857262,
          1353.9830928569202,
          1171.7116257742516,
          1040.1388960599638,
          1232.8478968199029,
          1355.674017243652,
          894.3903429441348,
          686.8235734382388,
          1332.6013982149882,
          1092.5405929910671,
          1046.4747633348381,
          1211.531620237955,
          1128.7902141571044,
          1365.901744184628,
          1114.1988167052064,
          1190.842010777419,
          1175.475395179225,
          1164.1553545739985,
          1341.0503713715975,
          1228.678295060483,
          1342.150844350028,
          1273.7023042154533,
          1344.9382062961884,
          1290.0976792992408,
          1335.1521516568366,
          1262.7840838891548,
          1166.5462372542227,
          814.1481965669437,
          1378.515197937686,
          1388.5411523400207,
          1398.5900483761409,
          1064.1674112753792,
          1048.0483755511218,
          1014.8605400558026,
          1091.2813492426262,
          1395.7403496061104,
          1038.5742301679595,
          677.2134366071418,
          834.5689648772699,
          1195.2970153469573,
          1240.020182885067,
          1323.4492552774764,
          751.0991997592354,
          1057.667312509853,
          1331.2816997021475,
          1379.5345928979905,
          1197.6122508230856,
          1124.0723185821569,
          1273.17370830266,
          1280.4112978278524,
          1348.7954081442103,
          24.926532565851318,
          216.80118399677292,
          432.63586821261595,
          343.37515604760415,
          266.1606440356494,
          30.437188659434234,
          188.1660479616552,
          634.2146222958803,
          430.7662756576301,
          833.8046660466593,
          591.81075014073,
          517.2021048020732,
          381.57622997312063,
          233.3227630729964,
          213.31381283161113,
          275.73068691444024,
          541.5722376972229,
          354.0624836170962,
          180.04766805383514,
          233.9085478480916,
          416.65881834826666,
          143.59499996734218,
          549.5817573364974,
          563.1006598466139,
          708.2019791082721,
          755.8221472441578,
          1031.5036397766892,
          668.5335150310557,
          625.5844509743455,
          845.6148372648439,
          1222.453900278289,
          1029.722252434779,
          944.16996530594,
          1097.220244657639,
          956.4671818067154,
          665.3408058756911,
          577.406347558448,
          320.7298953642164,
          651.1417679213205,
          985.9122152661753,
          1171.5548246763651,
          1274.6642259886737,
          985.658202057256,
          1159.1737888410103,
          1303.9718098557694,
          1155.9489501242188,
          757.7520422980492,
          755.0337909847614,
          523.6363066207031,
          408.83125892630875,
          537.6265823714405,
          391.4215739074991,
          134.46893341967794,
          184.98822311188786,
          352.83115035775927,
          111.00788120872328,
          94.4916213388378,
          285.439976097677,
          654.4025307561379,
          581.3622010086578,
          639.3378405678748,
          320.1744837088137,
          503.7593189879598,
          166.75808384588967,
          118.39606035662385,
          152.62967022760304,
          378.6562968159696,
          410.95197342658116,
          357.58360446298303,
          757.5987822099502,
          562.2704982714358,
          147.54697967441317,
          292.823751510838,
          103.82206601449093,
          64.73298712157847,
          96.62600724938162,
          532.3423202361331,
          598.3354245388252,
          155.42730688189678,
          450.10346582934227,
          17.60595233282726,
          156.2872463366368,
          202.40649563622773,
          184.98284584247486,
          345.57944232442884,
          787.4457569366311,
          643.0126301610065,
          552.9754345279904,
          395.66842792863173,
          365.5858297707111,
          289.285039127499,
          327.13067303506386,
          197.96164168490043,
          286.642740392181,
          316.1829688226503,
          175.81977861678828,
          135.53510780918353,
          454.59316717779444,
          585.7110178770711,
          411.36837567558564,
          478.99146124208346,
          633.0166018189354,
          415.48196318030483,
          695.0374180906072,
          687.7466575226558,
          1064.7571452418142,
          953.0476524166385,
          830.7509730546221,
          805.0584729291947,
          692.938782358524,
          644.2153546886162,
          843.8240490323095,
          1352.4922067260354,
          1078.78455066691,
          1342.328825241808,
          1374.783945916806,
          1230.4269511809277,
          958.8546504653029,
          1163.150457080882,
          741.7102823622713,
          1020.5331443510744,
          448.91172838728374,
          397.64343169775873,
          648.754443807511,
          1109.6148875422634,
          1109.789058711953,
          1336.0077040861397,
          1136.1388355163226,
          646.0394542826805,
          824.5256519698207,
          1111.143486339063,
          1040.2985879283353,
          1247.9906929413592,
          1355.4799093874583,
          1149.950121397121,
          931.7151534853385,
          1017.7533853067587,
          1341.793579768999,
          1273.8299340588785,
          1253.3582161598936,
          1052.4169823985067,
          1341.3702518079301,
          1005.3944886350201,
          1222.36821387165,
          1309.4805411426044,
          1148.6635188467071,
          1236.6109791816903,
          1224.446082457269,
          1250.1148662800947,
          1275.7637194280298,
          1022.0115549156799,
          813.1936402821316,
          781.1620172157149,
          1089.0229305569924,
          1268.2559790255411,
          1220.428055616966,
          1123.204027581412,
          1310.3922053596443,
          1037.9677858291625,
          707.1611128927842,
          1199.0407595752658,
          963.1968835204016,
          1224.1847539215341,
          1179.4792885092393,
          1149.8232714146757,
          875.6572144490718,
          537.2742658617171,
          308.1178846871524,
          78.20824103886066,
          220.9610184283299,
          121.64044052666384,
          13.452796669113583,
          361.39148639230075,
          827.8624524231473,
          747.97487196466,
          915.968930497452,
          944.7184896400274,
          1271.0365927840653,
          1323.5908830474368,
          1132.1855382979043,
          1109.2499382417398,
          1402.9107557416937,
          1278.5338480089265,
          1035.9341492020178,
          1065.9212581892198,
          1128.7567942623632,
          1064.8453066983604,
          986.1187263076338,
          713.1791778931888,
          890.565690325473,
          875.7620966128533,
          648.5958739034953,
          498.84155271734693,
          222.66840531957754,
          49.47234886774146,
          152.09617979338088,
          347.56692935081924,
          471.6575654509919,
          0.4453799683574857,
          137.22532578783884,
          321.00817523595896,
          312.0316111797346,
          295.85948640251587,
          597.8898491142809,
          684.0839125974743,
          714.11788848837,
          680.5713801485336,
          664.8228949501959,
          517.1364982751445,
          268.18125665361106,
          329.3300545365932,
          599.7547081831536,
          627.0771712340559,
          626.7767165248257,
          320.43326956452375,
          596.5840283196263,
          563.8763616995053,
          263.1641638639337,
          97.40099236715436,
          271.5370985704015,
          167.9015175019157,
          598.309078087235,
          864.8727844416245,
          1081.5528550856857,
          1346.8078885258112,
          1167.4884466132833,
          880.2677386421962,
          1145.6779787768617,
          1362.4792343884958,
          1147.069704723748,
          1159.5539785592732,
          1125.3927044259983,
          1345.263284633519,
          1140.4562828920525,
          1247.3830330908274,
          1281.9421802698168,
          1071.5602515788555,
          920.1471267053596,
          1195.5119683384012,
          1233.6303284394842,
          1208.9065889138603,
          1198.747738699786,
          858.0706654710553,
          732.657956210916,
          545.6930819499913,
          587.9477085156176,
          273.32517681059466,
          76.57333290030714,
          439.77374136885646,
          285.26736181083015,
          73.84782613458253,
          564.2991100359518,
          782.3668814268494,
          613.1535555581075,
          1104.590923036524,
          876.841373959439,
          793.413722315422,
          699.1673506753737,
          385.37509773168006,
          443.01064809423593,
          135.02788475617314,
          26.639628032281976,
          309.9268082037246,
          563.9474808015261,
          871.784814821016,
          692.2036896375486,
          334.43000109384445,
          541.1182903885355,
          600.8461687340396,
          1164.576496178561,
          472.73381158228426,
          632.0253813185293,
          969.7953033015032,
          583.5376011291333,
          99.50793947212546,
          227.8052832928417,
          142.4403897798557,
          55.277860833802485,
          258.7864364976462,
          493.2843689065474,
          434.5061808108171,
          117.02725850362036,
          222.77069022707224,
          161.80867903275274,
          401.9621653249575,
          569.2798245277062,
          594.5033586080264,
          661.8065063086298,
          886.1832853328675,
          1009.8187956568029,
          983.3225289925903,
          60.83157353431043,
          27.082639566600072,
          263.3606020046492,
          282.0832656679877,
          296.52107272096816,
          351.3124557393894,
          799.8539711468371,
          1053.1771969184902,
          1207.7773203765412,
          1163.0542450271162,
          1368.0814290410035,
          1280.084071513909,
          1351.1863352679486,
          1200.512196870307,
          829.2137923785205,
          810.3028257478293,
          754.5991969920965,
          99.57999221107836,
          145.0401190067491,
          144.98515407783165,
          40.35990910252788,
          226.94607239258633,
          222.27475567541404,
          159.32576753856662,
          300.0305142715377,
          426.7662315297929,
          487.29438832191244,
          942.5190448339093,
          1218.795145847397,
          1355.8422218742066,
          1398.9935301608562,
          1259.4181485812721,
          1372.3989588939205,
          1164.2993999971056,
          1268.7589255027028,
          984.0607552624364,
          1254.251781031691,
          830.2557838459733,
          322.34600650701543,
          237.65185522929818,
          196.45996339169338,
          523.8912030422803,
          535.4317311560244,
          205.69530703420745,
          280.55243015752114,
          66.99606823366803,
          52.596331540773264,
          98.80604264191612,
          212.00411222467585,
          72.27648643339842,
          182.6981335842034,
          136.3363914304968,
          141.52179402679067,
          662.6605720534654,
          343.9316899372108,
          795.5717667965907,
          641.5817414546563,
          648.0573068854619,
          603.7466414582158,
          260.31321835303345,
          77.12668310219202,
          557.6739039257224,
          378.1843014817728,
          395.33034480588293,
          619.9636780134323,
          551.1201241270052,
          526.9978652609667,
          343.75066561159935,
          547.6529625817707,
          1054.8354671550705,
          1264.0359529397103,
          1247.246629015025,
          1271.8359651880992,
          1233.6949495779868,
          895.2338123675603,
          972.5064899993004,
          1169.9377561645795,
          1196.8672586990601,
          1245.9231233836267,
          1219.3946745817818,
          1388.0883688275856,
          1307.4554499117944,
          1374.4333215334204,
          127.28526026704404,
          259.4921790903762,
          715.1570119085711,
          1048.1356940977628,
          1041.4804969928907,
          821.5883566119883,
          1158.4183570579273,
          992.4393411938478,
          972.8432342662215,
          851.4809363047262,
          892.215135537915,
          1032.2498322787444,
          1039.5052987546237,
          1198.4670285587151,
          822.2999951259083,
          1006.2821297181381,
          1023.7358882521372,
          814.763728088914,
          870.0122434617875,
          1281.1096423977497,
          1379.9708357223396,
          1337.8200824344033,
          1390.8888893779542,
          1224.5948687506911,
          1271.423365222509,
          1218.0394452634328,
          1179.174073871084,
          1364.3598678284006,
          1329.3838229046044,
          1396.352050706883,
          1182.7900288784863,
          982.0094125879887,
          1079.6045237406825,
          1214.3794315334567,
          1300.99411575264,
          993.929192092593,
          1250.5930198768347,
          1166.6361752304986,
          1389.9323780995958,
          1147.623472486377,
          963.6483932468475,
          572.3526334964841,
          140.69634757023485,
          345.3337628674695,
          648.7248080007892,
          774.803690884902,
          1258.0294351085238,
          1353.2672872696985,
          1134.4673409072952,
          1361.826314084236,
          1161.3117016014126,
          1055.1055473582032,
          1318.9427065016232,
          833.6191003443083,
          777.9419563464302,
          420.88182370537044,
          579.5418969899388,
          717.1626201772505,
          506.73569579607255,
          515.2693803959044,
          385.6369811996912,
          188.43488067984197,
          260.8020804443535,
          131.25308904408237,
          701.3929811351638,
          196.83079407974554,
          81.58229564957755,
          39.34425250586654,
          198.82199017249542,
          7.3504571471462805,
          72.52246556522972,
          284.58600594824,
          395.7753162416701,
          935.1789361743914,
          1081.2594352623373,
          1202.827139865281,
          1088.5750874699984,
          1174.1191536203032,
          1142.553237790008,
          1150.6617273560382,
          1387.1027169007302,
          1049.6521946503676,
          1019.7006097480656,
          785.0929427872275,
          459.3990483375499,
          852.2783943628478,
          729.6042648620745,
          610.734107082714,
          984.2902150764871,
          1063.083695592897,
          1278.6480478217009,
          1398.8437751932984,
          1394.6638529172592,
          1166.8538940514707,
          1122.26081029928,
          1319.7415468358902,
          1090.1156381887185,
          1036.7594591637037,
          1342.3546786594993,
          866.7422873190661,
          1024.897370948072,
          1345.7677277837054,
          1248.2129659333011,
          1366.0354724462802,
          1161.8492123978174,
          556.5995605962646,
          1021.4493698378355,
          1017.8244742759695,
          981.6655706602411,
          1402.832194751729,
          931.8368993419325,
          1216.5667010381828,
          1363.2325828329228,
          1336.3431273034632,
          1286.1039352692,
          1404.611492686341,
          1342.915687457892,
          1358.78160932375,
          1154.852639553655,
          1328.1048952551707,
          1259.6615797840764,
          1057.0964920137133,
          1332.2691932532273,
          1314.634134662162,
          1124.9576976036624,
          889.4286834988465,
          704.8185384347447,
          831.3738194374127,
          498.2362644218329,
          633.6298941970327,
          785.0656630369954,
          349.3209265745792,
          951.6319142024727,
          998.1106544940661,
          523.0979927969341,
          341.6674221219565,
          376.63428014517626,
          638.1035249446333,
          855.4668480000361,
          1210.1253661685414,
          1166.7053247248014,
          931.157228001438,
          1261.5390395794718,
          787.3071557408385,
          781.225993185412,
          695.2823905552366,
          611.0560624300856,
          1269.084737241359,
          1169.4458152628724,
          1069.8118550807383,
          650.5704423022165,
          702.7646763023602,
          1114.7264884191457,
          1241.2554377900246,
          1021.2681526296515,
          1076.3555439968657,
          1196.1110326454718,
          855.7881684830081,
          1305.9262302388654,
          1186.5343325766912,
          1152.2282327720643,
          937.6652978190566,
          876.5971217399035,
          991.5285801928668,
          1079.2321355226268,
          1080.080741225412,
          660.0073892491206,
          198.82226579796185,
          110.80396928625035,
          135.40484701556727,
          457.346580762229,
          316.7574943691033,
          334.2589713461068,
          2.2825185239443626,
          333.0801580318053,
          128.0428789058075,
          555.9334713867339,
          435.75977711043873,
          266.56550750154673,
          190.46623137088864,
          298.7823879566466,
          520.9850056022253,
          882.7058657485746,
          943.0668500502476,
          1161.841593293708,
          1089.476015642159,
          706.1080538572566,
          748.5669025659555,
          1293.5173079123456,
          693.5889622107343,
          728.7323693632259,
          742.6509520497846,
          762.847206374685,
          993.9590341194896,
          841.2456727827939,
          1263.124200342068,
          511.9043453112939,
          124.30555418489566,
          141.57155214782253,
          482.81569909791665,
          529.6891394999369,
          970.3106391011778,
          882.7267214758434,
          891.0080849158614,
          1020.6095452489116,
          1252.822532328233,
          987.6572706685187,
          1354.5637664354601,
          946.8179577931692,
          1159.4564382939834,
          947.9299499481644,
          1074.022485014464,
          1138.3845410909266,
          1391.3256631379445,
          1314.9471014222122,
          1240.4119177121677,
          742.8608271873713,
          799.243392570746,
          1240.908332184086,
          732.2044102775819,
          513.5042011875096,
          253.41827162899708,
          54.85109115020716,
          47.708287840514046,
          329.5792491650165,
          703.1563075915446,
          761.6502452990248,
          1095.6771398879796,
          388.27432620752694,
          659.691114983104,
          626.3213402870515,
          673.0396370175031,
          1150.0739402779802,
          908.3074097272187,
          852.6134506548669,
          202.70555119410275,
          97.67099499030905,
          228.22021623646074,
          682.9587494589529,
          646.7817956165508,
          626.0834726620816,
          444.82564622279426,
          684.3436096593746,
          563.3574554266476,
          622.893646264124,
          854.5425153047382,
          642.5650080350176,
          601.1297183523652,
          344.51045823473,
          709.0629947988066,
          795.982051096668,
          554.4309098539326,
          655.4691783976583,
          377.2105976978926,
          50.204924025855135,
          295.606179808377,
          252.64143504707093,
          133.26474747003002,
          47.50295642828859,
          213.30976846801792,
          41.93700937844073,
          530.0047017835429,
          342.8569368168051,
          260.9608710069448,
          333.284465820635,
          626.821929987046,
          468.4277985799436,
          389.2881496305799,
          378.2525994359486,
          358.29440633647346,
          209.0394054676068,
          136.6969277362218,
          10.633226779434246,
          34.79451335360536,
          436.79579872672656,
          397.44439398669516,
          44.873536133126436,
          700.3661393367483,
          664.6808988874641,
          352.87636047017816,
          573.4542464004164,
          827.7542888148374,
          512.6380376876206,
          732.7345922829054,
          926.7235280105238,
          911.3196923602408,
          350.54356383386863,
          323.9978467733316,
          735.5522609848914,
          944.3306296021145,
          978.8142990176666,
          1402.3563612571743,
          1363.2091253881506,
          967.7622044620435,
          895.5075515220373,
          544.0347911629449,
          1238.3072959496951,
          1126.8612774492558,
          1234.9474697495643,
          1273.6542132520067,
          1257.8454618932765,
          1298.105048313091,
          1387.3891918682077,
          982.5291843840539,
          1079.0012585973748,
          812.5646390554213,
          710.7477113495846,
          1022.7020137608217,
          1105.497136743042,
          961.039801314253,
          1074.1176073786576,
          798.0517523557921,
          755.6366425652133,
          604.4973728093015,
          853.5010507799875,
          786.2382244945912,
          341.8131506641494,
          45.013198945962685,
          38.744726384937366,
          128.631820134433,
          134.0691070313662,
          128.77188926857147,
          225.81040599638587,
          1.3282085805129027,
          94.56310403034887,
          173.71249694405068,
          145.48182791259075,
          141.1329874429484,
          127.3420704026733,
          220.35092934067475,
          271.2902872655148,
          351.191098467773,
          161.52835006174485,
          211.77849229945053,
          81.60984315788787,
          67.09478142806503,
          247.2540828107103,
          340.53548864347465,
          361.8909779751147,
          643.5927964200486,
          984.9265410150783,
          748.0013936115765,
          329.40826467350627,
          422.89326552780307,
          321.08715326217424,
          124.36399338855395,
          273.6968905547079,
          147.9212472862433,
          436.18528026384,
          593.7552210039466,
          327.09929907350335,
          815.0742475758688,
          225.53697514476644,
          364.632513991246,
          694.846587981224,
          341.73939947653787,
          336.3236401964388,
          589.7949265000871,
          571.3412548935045,
          552.3817818158215,
          350.60593407128806,
          659.0742564633165,
          674.2684028480699,
          526.9100366268568,
          737.096882912556,
          97.69555264507215,
          252.60031140475053,
          437.4064986506185,
          452.8853439898715,
          594.4397551038163,
          643.451947326084,
          480.9832345526272,
          416.57359202491006,
          455.13430082386265,
          688.2745075010033,
          639.4719980132711,
          719.9201160217964,
          1059.1768644958054,
          974.5021316006697,
          1171.9487240195722,
          1159.4445605036249,
          1233.6563148895993,
          1050.6779493839147,
          1047.7794321179676,
          328.2849975874614,
          641.2489800002568,
          762.8892415759808,
          403.8716319607037,
          597.6800053928663,
          858.8843859497659,
          883.8684270234957,
          1323.6078267981038,
          1358.838709350371,
          1270.280941341759,
          871.8417546034632,
          799.9594290272629,
          421.1320730053083,
          325.23733370734425,
          71.15486327074541,
          483.9142217058917,
          384.01798687546085,
          760.8332965480834,
          777.9383334614377,
          704.6215031080491,
          476.6758965900797,
          527.220715778074,
          636.4734665706893,
          410.1331456729932,
          409.50641220821177,
          252.65925890472832,
          265.89182811842676,
          269.5412457345831,
          374.9284900627661,
          729.1838570714053,
          121.27829263688075,
          356.76908403622093,
          377.2704189690203,
          178.58635867095074,
          115.3173415770677,
          213.37778844921112,
          92.72813786603555,
          111.27963710246378,
          62.18844042246583,
          530.0895890255164,
          94.87214439619521,
          80.73354155306451,
          397.9534612741399,
          275.47603602626305,
          69.36358756969305,
          52.480604655351385,
          160.6693553618039,
          391.24140656141003,
          577.7824696506175,
          764.2670668462818,
          820.4681741011956,
          889.1431795556733,
          1039.0303522487814,
          1339.769050630574,
          1257.218576434563,
          1183.1621609147558,
          867.7087392845626,
          939.2236991440616,
          928.3896905059005,
          972.4039863075369,
          957.4425386938034,
          1248.1719875657263,
          1241.1162678139922,
          1210.2885842105668,
          1402.971163147073,
          1213.3459126304708,
          752.3189701064445,
          772.43896782447,
          795.314428433641,
          1114.964171155451,
          1022.9004819759407,
          559.9182599803385,
          610.1015473852273,
          516.6248280110602,
          371.27324896422084,
          420.54071831552017,
          590.812921969295,
          522.3435869834065,
          23.73868198150606,
          190.3396676772291,
          479.42774999830283,
          682.8011814625946,
          790.9029960097213,
          674.9726386101643,
          542.9037263150318,
          615.7282241280151,
          1010.17841585403,
          891.1179921429377,
          748.4363101654938,
          729.9681437707488,
          787.3007484609448,
          570.8564678377293,
          718.3037209267325,
          325.5954370869456,
          222.29526732263813,
          470.811631247566,
          396.8095625490337,
          328.2458990460668,
          163.61087853608234,
          505.8271248303344,
          603.4307311737603,
          884.2230239585381,
          1054.0302124918796,
          1391.3185895480515,
          1398.0184798391613,
          1053.8733518061467,
          1325.7468817437762,
          995.5118219128124,
          595.2339754873474,
          556.7442316619558,
          686.4942558576512,
          711.0229545433984,
          516.1873194507364,
          730.9783302147117,
          682.1172615580383,
          1043.1639582997275,
          802.5771072423585,
          346.92995094442574,
          263.110523591076,
          547.8454623745023,
          839.4824962112766,
          812.0342038967398,
          1078.9456773469956,
          1266.5339106082047,
          1032.7429810306683,
          1190.3033819137422,
          1279.648032952317,
          1112.1433414394198,
          1396.7372866120393,
          1354.0488429240338,
          994.8096770281211,
          1404.258953083548,
          1321.678607019721,
          1370.7749573654455,
          1396.9653494795457,
          1286.95123560265,
          1016.6152144972168,
          741.5914953833504,
          1033.923773641168,
          179.82623158742462,
          418.6764388030829,
          1177.4288072982315,
          731.6004966301344,
          521.460339510671,
          673.9023841621757,
          665.5630547078446,
          723.0931094954428,
          868.6257505162826,
          1010.1378820552234,
          643.1092291264953,
          412.1605406532439,
          714.2131742369444,
          1071.0551239306074,
          1263.2296372185504,
          826.4185007008979,
          944.0008605679994,
          501.9967605173126,
          464.5362747311268,
          455.0595513779628,
          682.9982013722492,
          509.088076689626,
          472.55932715594685,
          659.0902323939877,
          177.66119098500025,
          64.30374216136087,
          17.474638264713985,
          474.2690768423598,
          324.1043719949036,
          436.24613733891505,
          582.6251460023473,
          711.4494243520322,
          1177.510696048592,
          1384.3491135325391,
          1318.2405230519041,
          1330.721319040723,
          1281.5912323253756,
          1130.2838390768852,
          1124.9756820728019,
          1257.0328143989748,
          1339.7330136711169,
          1308.4469580643156,
          1393.062099883625,
          1322.23836128673,
          1356.3001789323828,
          929.5238262243529,
          1.234963228265743,
          214.62952415108603,
          169.6749877207676,
          451.382018420275,
          492.897829459367,
          245.148975691414,
          38.868648521639074,
          394.3944651545659,
          214.63384879847814,
          261.35337140365016,
          91.1427768859942,
          138.0721918127063,
          192.98639477043332,
          264.8764503073285,
          109.89013937983357,
          48.86403888968861,
          47.65175688612206,
          191.446766653698,
          437.35919564263315,
          401.4539091991812,
          226.25267065052137,
          913.0226151478246,
          872.4765622953712,
          1402.6386681640342,
          1069.3457907762977,
          1303.7680161410883,
          1402.4060036842618,
          1335.7461649772704,
          1125.160772280648,
          806.5550078525018,
          969.5241541137439,
          958.8076723119437,
          963.6581518481902,
          790.4558502363069,
          945.0738227135546,
          437.2440844436792,
          946.2488090589187,
          248.8061721769893,
          109.9674984114561,
          10.850860424122148,
          449.3657597305717,
          472.21652859098594,
          295.46889801723006,
          13.558814507480424,
          102.11146792104299,
          205.37873649550127,
          137.9266634765692,
          813.8872008352768,
          386.5146991331922,
          546.7445473142069,
          1042.2206750433597,
          905.9309307985155,
          939.0526837286785,
          823.9178594702347,
          523.4192242556546,
          208.78316105714916,
          700.2943683896159,
          514.6677491255168,
          701.731396457211,
          555.2964129293917,
          352.6164637440627,
          334.0882794558437,
          294.3670834896877,
          86.18794786689074,
          166.98820702782146,
          132.82094720573147,
          3.230144129881726,
          264.5365337145074,
          598.2525931549227,
          813.6350009646735,
          620.1547033047922,
          522.9093929578041,
          314.5247412401465,
          227.62011721085813,
          505.2025030353699,
          464.8077531618265,
          985.9698628056982,
          779.4818438410113,
          645.0564739852372,
          51.52647413607438,
          99.60001493028834,
          286.83402143875344,
          138.125801897401,
          106.57199043210366,
          251.98854819402274,
          420.20429091639613,
          991.6838630926446,
          1043.3912641315046,
          910.3766596211726,
          1035.3121474790964,
          995.5799442015305,
          1343.4040824265423,
          1156.6792633626103,
          1137.0519191765868,
          1238.208873144696,
          1322.360012877402,
          991.3141013746215,
          4.975869668110876,
          162.4325661891923,
          274.6055351805037,
          524.9766111574902,
          684.2880467804438,
          1095.7867777264141,
          984.330045347769,
          1059.0374293969344,
          842.0457365498191,
          764.2276693945333,
          751.6877504902916,
          873.7411702676476,
          1105.9667866667721,
          1072.7763697867626,
          1250.3177686209058,
          1227.2769739157432,
          992.7543996449534,
          468.84963202864344,
          509.08609392501637,
          673.3734479565197,
          1149.192723633795,
          1264.4364784189231,
          1174.7808486730494,
          1247.2287220647686,
          1308.417576050326,
          1377.7187028987219,
          1110.8947947314143,
          1240.6919480885858,
          1196.6320273643555,
          1192.4007479897612,
          1045.7741599377623,
          647.7055013495311,
          630.6589199275957,
          985.3895126930618,
          1209.6563770460264,
          600.4492332001395,
          581.1737783828969,
          751.9419680632095,
          804.7120617760146,
          776.0377847969903,
          556.482507839865,
          249.62409024420074,
          542.5201797173272,
          428.10668962590034,
          728.0823335160004,
          415.6962632060587,
          110.53492596400586,
          387.09277773354955,
          204.48752626360567,
          100.86900752053424,
          220.57249464476422,
          642.610538884248,
          792.4205575995719,
          704.115278131247,
          672.6680199866655,
          405.05913474029853,
          469.5671063351613,
          343.595694483315,
          434.2655381855913,
          209.2220377480068,
          306.026422744056,
          421.3988270765565,
          69.59090009219786,
          233.6367832936771,
          142.86065428845353,
          99.57482829821197,
          238.5033327548721,
          315.41235413429655,
          613.4870774127583,
          313.2580013129275,
          29.69642231226588,
          194.91338522097567,
          384.83026892178833,
          324.3097420030621,
          530.9381790260012,
          575.9385715969984,
          171.75182560203524,
          415.01539155341203,
          57.79673223115632,
          196.78563076289387,
          18.90680940589379,
          141.4906392229706,
          483.95805986763196,
          327.3347658917591,
          228.19963173100118,
          335.83696131149486,
          26.581945606678836,
          8.216393681395871,
          167.50921396804623,
          71.10297842209837,
          248.22601042680859,
          37.27988335541232,
          361.7568378341771,
          41.071409338411314,
          337.4317313404922,
          264.72408302959144,
          351.26621870662086,
          285.2383131443795,
          672.8176346459777,
          1067.5142986034855,
          976.431114234716,
          758.0812138700699,
          931.7937462990093,
          1170.2813009906952,
          919.6691386335095,
          987.8019174813645,
          855.485636278746,
          677.4567065958809,
          796.6893237839769,
          766.6539478847129,
          870.6477611393418,
          823.4518316838536,
          938.8522695480219,
          893.6079323477176,
          753.0084523168714,
          885.3602145767495,
          718.8419093489963,
          870.3518173912988,
          1195.7774509996214,
          540.4402215841716,
          621.2927177634401,
          653.4813883882755,
          335.8923805398995,
          284.2976565135867,
          182.63240585331917,
          435.2495121306528,
          634.3734375936033,
          690.0500603349843,
          608.7359220801816,
          616.6252085725068,
          606.5722933817906,
          644.4533081528351,
          731.2932656055234,
          466.1150584557685,
          69.85111964422349,
          108.91978553325124,
          118.90211291359537,
          149.78056960647712,
          1.9925287022344695,
          4.412014499978624,
          193.84901812788627,
          330.8859068918643,
          309.1740583710286,
          232.76183485631134,
          269.93186177446927,
          217.64669281591532,
          984.2827785066806,
          1265.2417316264937,
          1111.486834522012,
          1334.213471231162,
          1112.6563782908636,
          976.0116185986358,
          1406.4223198306709,
          1149.5025608283256,
          1029.5420114423966,
          989.4986699967071,
          648.6028612479032,
          51.35166634521743,
          71.81847432302396,
          167.89543815064235,
          32.762009852053986,
          266.9250473563419,
          99.7076331972428,
          96.79104758828602,
          465.4390321301153,
          527.5495364940268,
          426.95906091543264,
          515.3856900892072,
          367.14888332128356,
          593.7401532304068,
          478.60751814901056,
          741.8120050754885,
          524.9223401183921,
          327.4758012366848,
          121.52523580616861,
          146.5591338151235,
          18.518334775370608,
          48.31608868404535,
          318.0356661816016,
          310.5222294099791,
          505.74160327951336,
          985.5240861378509,
          1082.1472448677334,
          1403.8851017515208,
          966.831304599838,
          955.5693471072575,
          592.3423880780828,
          446.8836529059647,
          922.3050449057505,
          1046.8884833234129,
          935.8284246583339,
          635.8936352316919,
          58.957735371261634,
          134.90180079197577,
          160.0400260162457,
          145.40671502657378,
          316.6737899248555,
          100.64352489471902,
          468.6748944629425,
          198.76485046445075,
          74.59333928926526,
          95.98643846439874,
          127.41748295952502,
          386.89779904887746,
          639.7422778952044,
          1051.345843415871,
          526.7053811665315,
          663.2611577757953,
          155.40400751776815,
          36.15820857185236,
          469.83320473564925,
          620.7095995340537,
          359.86797760692485,
          659.4195431325733,
          719.8614975514239,
          751.9912083212084,
          785.4574097906205,
          881.0890907440596,
          526.0422087931966,
          1095.237974956732,
          950.7811373244518,
          1000.7991172934702,
          997.3244310119435,
          1104.4274226944676,
          1085.992452178582,
          851.6863280249182,
          161.86869217348942,
          47.75141271385335,
          618.7475632112801,
          352.2954494472171,
          36.24468656641748,
          66.77127246441147,
          175.4804853112414,
          168.42380982564288,
          189.82235634361962,
          273.96284342787817,
          349.1339687165364,
          668.6987966419424,
          528.8921886795763,
          473.8985312635615,
          56.083438425764214,
          92.79358352557597,
          266.0783329554136,
          3.509520880668679,
          165.2596200428353,
          461.2177290509751,
          583.1343059190397,
          258.2744653131863,
          755.7253796291067,
          1209.3659072492078,
          1163.0579618115046,
          934.8123387684559,
          548.8831838039828,
          1137.3196919569564,
          798.8819770110285,
          1172.711486740021,
          1107.3668872969452,
          1251.4231720217588,
          1385.2412941544792,
          958.9637440301897,
          913.4858223260137,
          1181.3788338380891,
          776.3218475694747,
          1179.3446522095785,
          954.6474543193383,
          847.1007668309893,
          723.6790972535912,
          792.3626882931414,
          879.7716804366733,
          481.1000663663958,
          239.22154607884156,
          33.13528282707919,
          138.38881228707683,
          18.70805164829858,
          87.17279831567107,
          39.63685762688876,
          54.1843702261726,
          262.9890810691562,
          91.1499509911423,
          135.2301757120701,
          54.020941103637234,
          92.41208425086472,
          508.20804293829264,
          484.8731824104763,
          685.2117203298401,
          796.7920987890712,
          594.3431454455298,
          381.95980619165414,
          599.7295652869881,
          498.95935248251266,
          335.7091119314744,
          46.30128257003645,
          270.3178265569686,
          275.2782449165736,
          322.8827927508675,
          57.86880907522471,
          67.08263212171818,
          238.3407854227497,
          101.28379804995821,
          396.93321840761365,
          306.00375230143106,
          1105.174756490571,
          802.6116729177131,
          844.8481580140642,
          1031.3791227370286,
          1199.9352849179145,
          1371.261264275522,
          1322.3906407037566,
          1190.3338731677145,
          1390.0006603864722,
          1402.2114938910788,
          1326.9766470960694,
          1401.9834839562352,
          1209.387757750386,
          1314.4553440062582,
          1290.5316780926025,
          896.3362737843429,
          987.7661804818824,
          1049.74716839198,
          1033.0251619083083,
          862.8333179618302,
          819.1375241106074,
          1294.9658045725923,
          841.9771710316749,
          799.1498723588239,
          713.213998275851,
          763.4356327202358,
          1353.0199773225133,
          1209.4788636209946,
          1343.3176610265402,
          1027.640571719164,
          981.184000981423,
          915.1737822907492,
          883.8174924301594,
          915.0835210672215,
          821.9105726145305,
          979.7610377332204,
          1301.779507197377,
          646.050260664739,
          1052.9694761906512,
          761.4855274471614,
          744.8045171775137,
          560.8382927618823,
          121.74895981831304,
          173.956186877563,
          223.8891855266524,
          401.2793155614543,
          272.2213477826755,
          30.118437267635958,
          180.15036432247447,
          233.3516567365071,
          251.92259656597412,
          57.66262582976888,
          353.78100300556787,
          244.74721028839477,
          462.4671366334033,
          480.7427784885525,
          744.56457949881,
          795.9542501338539,
          723.6326706768823,
          1153.6674758426745,
          1215.7527946090656,
          954.2270445863644,
          1092.4908416883306,
          1140.923429221309,
          702.0596775075595,
          640.8198416954727,
          506.84382316262776,
          532.3300005350983,
          549.1756442256524,
          481.24274408989055,
          553.094140749295,
          524.082720343495,
          779.764609046135,
          994.8817419457873,
          938.5556983631479,
          1254.6707443854555,
          1169.9366895455219,
          1110.2801030701899,
          1291.2076311556254,
          1351.3737084913673,
          1402.7543701345792,
          1266.686374733903,
          1339.2529415424624,
          1267.247283582101,
          1276.1287180203171,
          1205.9469036688697,
          1394.7867913775867,
          1247.716412546796,
          1292.4341457749922,
          1355.1893739374123,
          1107.987484492101,
          1199.6882224490282,
          1087.3951821444189,
          849.8380917089634,
          530.9863908986805,
          946.7889090687368,
          1284.436834885426,
          1315.947983622734,
          1130.2311980190818,
          1282.9630328295807,
          1177.1835017301034,
          1202.1221911715163,
          800.1812215116395,
          666.055089895763,
          566.5515120985553,
          519.0456512492842,
          483.1801127239635,
          723.656999984745,
          381.05370619349276,
          286.35793670954837,
          223.7452872236918,
          150.24172117368474,
          67.6916716200092,
          122.12161230264121,
          235.9111566189968,
          688.20218057062,
          769.3670524875712,
          460.8668320650891,
          188.633530354871,
          66.62310792883973,
          120.52102003403839,
          250.43320969614857,
          351.9368873966266,
          636.1739982125608,
          591.2954232763441,
          719.5009513914871,
          1096.173390412873,
          735.1513712186934,
          321.79829900330105,
          459.2438031368964,
          720.7985624880738,
          472.1049674692527,
          682.5216508704842,
          649.4635255313457,
          242.2012713253524,
          546.2652931451454,
          415.4627619327216,
          215.12000183576697,
          532.2144067063159,
          95.53647309792629,
          242.45964213178274,
          28.44750780686446,
          58.16411818568373,
          161.65766298068638,
          118.84471549536191,
          534.3174597842624,
          741.9346736858222,
          956.3994659821626,
          963.1826516880244,
          1031.675407383179,
          1163.2121598553226,
          985.8790041881116,
          1048.000826540085,
          737.9613751440073,
          783.6730093658384,
          448.0340604548071,
          742.4769363634866,
          523.8140223109623,
          1026.566682283096,
          553.5625930663285,
          341.84753565895755,
          897.4282973837427,
          361.50519629168986,
          202.05587986095426,
          99.26388693327905,
          307.48298849478283,
          483.6098317450556,
          407.27736470213875,
          378.5016013896469,
          201.86680565839518,
          253.09673463011964,
          458.23076390185105,
          164.05630844113003,
          319.51392640233894,
          432.94908452503984,
          458.4008574961073,
          88.12733895407729,
          332.0748879734638,
          101.0558950607103,
          374.41949163939165,
          584.951194854202,
          806.7354861866299,
          702.4177757284485,
          506.90938402493686,
          320.13381234759476,
          455.3676848137026,
          453.5708591203563,
          736.5880420898641,
          1238.8186205087613,
          1173.1798879752132,
          939.4585702176722,
          1153.9839615197975,
          261.6680827384388,
          421.23057801188946,
          376.25579432781865,
          861.4774431847183,
          837.3585850194045,
          917.5978937386656,
          687.9988788076923,
          737.8020696645602,
          510.35631155582934,
          516.1351670937461,
          511.00422953337846,
          255.44976709218227,
          189.63505057051424,
          185.02765911416373,
          454.7260725581632,
          306.91419659690456,
          62.30606425519952,
          18.185739658727627,
          108.99402350575774,
          490.20279864701075,
          648.8984887685419,
          646.4983937138691,
          537.729942548341,
          865.9250031746154,
          879.7892917642345,
          1158.1993733065726,
          1000.8598812084878,
          702.2744444006773,
          704.3210332346521,
          725.362517815106,
          798.149225020363,
          113.53409186327903,
          116.63043201116692,
          19.409339793139292,
          322.7878126173413,
          624.8739861477538,
          701.1426262332932,
          845.4146548888388,
          1274.2676406311211,
          1374.742113464317,
          1101.0450690790767,
          1011.4373172126996,
          672.2387508621765,
          780.4153352011643,
          1148.4451780434904,
          1090.8526791785794,
          967.2573350080343,
          1129.8116581824138,
          1355.675927263948,
          1245.5600265130786,
          1309.1164079292614,
          1296.8455341484457,
          1231.3115526895429,
          1270.101987406419,
          1405.8570159383448,
          1342.0922921009937,
          1050.0878849510964,
          1226.7085971349777,
          1299.444191986579,
          1092.447746476676,
          740.7489474076789,
          629.8967205904216,
          614.344872105644,
          662.8542271282879,
          323.9946652338505,
          306.12209257681747,
          266.86255501780965,
          935.7158825700515,
          1071.2914539012754,
          951.9230836428292,
          824.2769873079465,
          531.9893249986235,
          797.6649593196393,
          168.4161571357964,
          172.59167077429922,
          8.460365961370973,
          429.057429450919,
          170.39716644428654,
          415.66465038361724,
          491.02912620514127,
          498.25316270013366,
          429.1215342554515,
          473.30740351054175,
          350.39813608064026,
          487.0361932249905,
          116.26325744716074,
          174.03135472449824,
          350.93744478628116,
          632.7610225522952,
          485.5825085869484,
          368.5488143552561,
          602.538732894035,
          369.3488879242272,
          166.3747766632307,
          266.5026575091867,
          772.9055859900145,
          274.9244935269591,
          814.8563552027639,
          805.1856419356999,
          1023.9772379790421,
          1041.1261711357745,
          1167.2173743833048,
          1004.0937264825887,
          601.0556404116985,
          696.2735137522158,
          957.9297895066043,
          996.8874966080953,
          1094.3200011178162,
          1111.3515418798702,
          1323.3532400530057,
          1401.4146456149817,
          1325.8827588683025,
          1328.2048622409052,
          1378.5247268379749
         ],
         "y0": " ",
         "yaxis": "y"
        }
       ],
       "layout": {
        "legend": {
         "tracegroupgap": 0
        },
        "margin": {
         "t": 60
        },
        "template": {
         "data": {
          "bar": [
           {
            "error_x": {
             "color": "#2a3f5f"
            },
            "error_y": {
             "color": "#2a3f5f"
            },
            "marker": {
             "line": {
              "color": "#E5ECF6",
              "width": 0.5
             },
             "pattern": {
              "fillmode": "overlay",
              "size": 10,
              "solidity": 0.2
             }
            },
            "type": "bar"
           }
          ],
          "barpolar": [
           {
            "marker": {
             "line": {
              "color": "#E5ECF6",
              "width": 0.5
             },
             "pattern": {
              "fillmode": "overlay",
              "size": 10,
              "solidity": 0.2
             }
            },
            "type": "barpolar"
           }
          ],
          "carpet": [
           {
            "aaxis": {
             "endlinecolor": "#2a3f5f",
             "gridcolor": "white",
             "linecolor": "white",
             "minorgridcolor": "white",
             "startlinecolor": "#2a3f5f"
            },
            "baxis": {
             "endlinecolor": "#2a3f5f",
             "gridcolor": "white",
             "linecolor": "white",
             "minorgridcolor": "white",
             "startlinecolor": "#2a3f5f"
            },
            "type": "carpet"
           }
          ],
          "choropleth": [
           {
            "colorbar": {
             "outlinewidth": 0,
             "ticks": ""
            },
            "type": "choropleth"
           }
          ],
          "contour": [
           {
            "colorbar": {
             "outlinewidth": 0,
             "ticks": ""
            },
            "colorscale": [
             [
              0,
              "#0d0887"
             ],
             [
              0.1111111111111111,
              "#46039f"
             ],
             [
              0.2222222222222222,
              "#7201a8"
             ],
             [
              0.3333333333333333,
              "#9c179e"
             ],
             [
              0.4444444444444444,
              "#bd3786"
             ],
             [
              0.5555555555555556,
              "#d8576b"
             ],
             [
              0.6666666666666666,
              "#ed7953"
             ],
             [
              0.7777777777777778,
              "#fb9f3a"
             ],
             [
              0.8888888888888888,
              "#fdca26"
             ],
             [
              1,
              "#f0f921"
             ]
            ],
            "type": "contour"
           }
          ],
          "contourcarpet": [
           {
            "colorbar": {
             "outlinewidth": 0,
             "ticks": ""
            },
            "type": "contourcarpet"
           }
          ],
          "heatmap": [
           {
            "colorbar": {
             "outlinewidth": 0,
             "ticks": ""
            },
            "colorscale": [
             [
              0,
              "#0d0887"
             ],
             [
              0.1111111111111111,
              "#46039f"
             ],
             [
              0.2222222222222222,
              "#7201a8"
             ],
             [
              0.3333333333333333,
              "#9c179e"
             ],
             [
              0.4444444444444444,
              "#bd3786"
             ],
             [
              0.5555555555555556,
              "#d8576b"
             ],
             [
              0.6666666666666666,
              "#ed7953"
             ],
             [
              0.7777777777777778,
              "#fb9f3a"
             ],
             [
              0.8888888888888888,
              "#fdca26"
             ],
             [
              1,
              "#f0f921"
             ]
            ],
            "type": "heatmap"
           }
          ],
          "heatmapgl": [
           {
            "colorbar": {
             "outlinewidth": 0,
             "ticks": ""
            },
            "colorscale": [
             [
              0,
              "#0d0887"
             ],
             [
              0.1111111111111111,
              "#46039f"
             ],
             [
              0.2222222222222222,
              "#7201a8"
             ],
             [
              0.3333333333333333,
              "#9c179e"
             ],
             [
              0.4444444444444444,
              "#bd3786"
             ],
             [
              0.5555555555555556,
              "#d8576b"
             ],
             [
              0.6666666666666666,
              "#ed7953"
             ],
             [
              0.7777777777777778,
              "#fb9f3a"
             ],
             [
              0.8888888888888888,
              "#fdca26"
             ],
             [
              1,
              "#f0f921"
             ]
            ],
            "type": "heatmapgl"
           }
          ],
          "histogram": [
           {
            "marker": {
             "pattern": {
              "fillmode": "overlay",
              "size": 10,
              "solidity": 0.2
             }
            },
            "type": "histogram"
           }
          ],
          "histogram2d": [
           {
            "colorbar": {
             "outlinewidth": 0,
             "ticks": ""
            },
            "colorscale": [
             [
              0,
              "#0d0887"
             ],
             [
              0.1111111111111111,
              "#46039f"
             ],
             [
              0.2222222222222222,
              "#7201a8"
             ],
             [
              0.3333333333333333,
              "#9c179e"
             ],
             [
              0.4444444444444444,
              "#bd3786"
             ],
             [
              0.5555555555555556,
              "#d8576b"
             ],
             [
              0.6666666666666666,
              "#ed7953"
             ],
             [
              0.7777777777777778,
              "#fb9f3a"
             ],
             [
              0.8888888888888888,
              "#fdca26"
             ],
             [
              1,
              "#f0f921"
             ]
            ],
            "type": "histogram2d"
           }
          ],
          "histogram2dcontour": [
           {
            "colorbar": {
             "outlinewidth": 0,
             "ticks": ""
            },
            "colorscale": [
             [
              0,
              "#0d0887"
             ],
             [
              0.1111111111111111,
              "#46039f"
             ],
             [
              0.2222222222222222,
              "#7201a8"
             ],
             [
              0.3333333333333333,
              "#9c179e"
             ],
             [
              0.4444444444444444,
              "#bd3786"
             ],
             [
              0.5555555555555556,
              "#d8576b"
             ],
             [
              0.6666666666666666,
              "#ed7953"
             ],
             [
              0.7777777777777778,
              "#fb9f3a"
             ],
             [
              0.8888888888888888,
              "#fdca26"
             ],
             [
              1,
              "#f0f921"
             ]
            ],
            "type": "histogram2dcontour"
           }
          ],
          "mesh3d": [
           {
            "colorbar": {
             "outlinewidth": 0,
             "ticks": ""
            },
            "type": "mesh3d"
           }
          ],
          "parcoords": [
           {
            "line": {
             "colorbar": {
              "outlinewidth": 0,
              "ticks": ""
             }
            },
            "type": "parcoords"
           }
          ],
          "pie": [
           {
            "automargin": true,
            "type": "pie"
           }
          ],
          "scatter": [
           {
            "fillpattern": {
             "fillmode": "overlay",
             "size": 10,
             "solidity": 0.2
            },
            "type": "scatter"
           }
          ],
          "scatter3d": [
           {
            "line": {
             "colorbar": {
              "outlinewidth": 0,
              "ticks": ""
             }
            },
            "marker": {
             "colorbar": {
              "outlinewidth": 0,
              "ticks": ""
             }
            },
            "type": "scatter3d"
           }
          ],
          "scattercarpet": [
           {
            "marker": {
             "colorbar": {
              "outlinewidth": 0,
              "ticks": ""
             }
            },
            "type": "scattercarpet"
           }
          ],
          "scattergeo": [
           {
            "marker": {
             "colorbar": {
              "outlinewidth": 0,
              "ticks": ""
             }
            },
            "type": "scattergeo"
           }
          ],
          "scattergl": [
           {
            "marker": {
             "colorbar": {
              "outlinewidth": 0,
              "ticks": ""
             }
            },
            "type": "scattergl"
           }
          ],
          "scattermapbox": [
           {
            "marker": {
             "colorbar": {
              "outlinewidth": 0,
              "ticks": ""
             }
            },
            "type": "scattermapbox"
           }
          ],
          "scatterpolar": [
           {
            "marker": {
             "colorbar": {
              "outlinewidth": 0,
              "ticks": ""
             }
            },
            "type": "scatterpolar"
           }
          ],
          "scatterpolargl": [
           {
            "marker": {
             "colorbar": {
              "outlinewidth": 0,
              "ticks": ""
             }
            },
            "type": "scatterpolargl"
           }
          ],
          "scatterternary": [
           {
            "marker": {
             "colorbar": {
              "outlinewidth": 0,
              "ticks": ""
             }
            },
            "type": "scatterternary"
           }
          ],
          "surface": [
           {
            "colorbar": {
             "outlinewidth": 0,
             "ticks": ""
            },
            "colorscale": [
             [
              0,
              "#0d0887"
             ],
             [
              0.1111111111111111,
              "#46039f"
             ],
             [
              0.2222222222222222,
              "#7201a8"
             ],
             [
              0.3333333333333333,
              "#9c179e"
             ],
             [
              0.4444444444444444,
              "#bd3786"
             ],
             [
              0.5555555555555556,
              "#d8576b"
             ],
             [
              0.6666666666666666,
              "#ed7953"
             ],
             [
              0.7777777777777778,
              "#fb9f3a"
             ],
             [
              0.8888888888888888,
              "#fdca26"
             ],
             [
              1,
              "#f0f921"
             ]
            ],
            "type": "surface"
           }
          ],
          "table": [
           {
            "cells": {
             "fill": {
              "color": "#EBF0F8"
             },
             "line": {
              "color": "white"
             }
            },
            "header": {
             "fill": {
              "color": "#C8D4E3"
             },
             "line": {
              "color": "white"
             }
            },
            "type": "table"
           }
          ]
         },
         "layout": {
          "annotationdefaults": {
           "arrowcolor": "#2a3f5f",
           "arrowhead": 0,
           "arrowwidth": 1
          },
          "autotypenumbers": "strict",
          "coloraxis": {
           "colorbar": {
            "outlinewidth": 0,
            "ticks": ""
           }
          },
          "colorscale": {
           "diverging": [
            [
             0,
             "#8e0152"
            ],
            [
             0.1,
             "#c51b7d"
            ],
            [
             0.2,
             "#de77ae"
            ],
            [
             0.3,
             "#f1b6da"
            ],
            [
             0.4,
             "#fde0ef"
            ],
            [
             0.5,
             "#f7f7f7"
            ],
            [
             0.6,
             "#e6f5d0"
            ],
            [
             0.7,
             "#b8e186"
            ],
            [
             0.8,
             "#7fbc41"
            ],
            [
             0.9,
             "#4d9221"
            ],
            [
             1,
             "#276419"
            ]
           ],
           "sequential": [
            [
             0,
             "#0d0887"
            ],
            [
             0.1111111111111111,
             "#46039f"
            ],
            [
             0.2222222222222222,
             "#7201a8"
            ],
            [
             0.3333333333333333,
             "#9c179e"
            ],
            [
             0.4444444444444444,
             "#bd3786"
            ],
            [
             0.5555555555555556,
             "#d8576b"
            ],
            [
             0.6666666666666666,
             "#ed7953"
            ],
            [
             0.7777777777777778,
             "#fb9f3a"
            ],
            [
             0.8888888888888888,
             "#fdca26"
            ],
            [
             1,
             "#f0f921"
            ]
           ],
           "sequentialminus": [
            [
             0,
             "#0d0887"
            ],
            [
             0.1111111111111111,
             "#46039f"
            ],
            [
             0.2222222222222222,
             "#7201a8"
            ],
            [
             0.3333333333333333,
             "#9c179e"
            ],
            [
             0.4444444444444444,
             "#bd3786"
            ],
            [
             0.5555555555555556,
             "#d8576b"
            ],
            [
             0.6666666666666666,
             "#ed7953"
            ],
            [
             0.7777777777777778,
             "#fb9f3a"
            ],
            [
             0.8888888888888888,
             "#fdca26"
            ],
            [
             1,
             "#f0f921"
            ]
           ]
          },
          "colorway": [
           "#636efa",
           "#EF553B",
           "#00cc96",
           "#ab63fa",
           "#FFA15A",
           "#19d3f3",
           "#FF6692",
           "#B6E880",
           "#FF97FF",
           "#FECB52"
          ],
          "font": {
           "color": "#2a3f5f"
          },
          "geo": {
           "bgcolor": "white",
           "lakecolor": "white",
           "landcolor": "#E5ECF6",
           "showlakes": true,
           "showland": true,
           "subunitcolor": "white"
          },
          "hoverlabel": {
           "align": "left"
          },
          "hovermode": "closest",
          "mapbox": {
           "style": "light"
          },
          "paper_bgcolor": "white",
          "plot_bgcolor": "#E5ECF6",
          "polar": {
           "angularaxis": {
            "gridcolor": "white",
            "linecolor": "white",
            "ticks": ""
           },
           "bgcolor": "#E5ECF6",
           "radialaxis": {
            "gridcolor": "white",
            "linecolor": "white",
            "ticks": ""
           }
          },
          "scene": {
           "xaxis": {
            "backgroundcolor": "#E5ECF6",
            "gridcolor": "white",
            "gridwidth": 2,
            "linecolor": "white",
            "showbackground": true,
            "ticks": "",
            "zerolinecolor": "white"
           },
           "yaxis": {
            "backgroundcolor": "#E5ECF6",
            "gridcolor": "white",
            "gridwidth": 2,
            "linecolor": "white",
            "showbackground": true,
            "ticks": "",
            "zerolinecolor": "white"
           },
           "zaxis": {
            "backgroundcolor": "#E5ECF6",
            "gridcolor": "white",
            "gridwidth": 2,
            "linecolor": "white",
            "showbackground": true,
            "ticks": "",
            "zerolinecolor": "white"
           }
          },
          "shapedefaults": {
           "line": {
            "color": "#2a3f5f"
           }
          },
          "ternary": {
           "aaxis": {
            "gridcolor": "white",
            "linecolor": "white",
            "ticks": ""
           },
           "baxis": {
            "gridcolor": "white",
            "linecolor": "white",
            "ticks": ""
           },
           "bgcolor": "#E5ECF6",
           "caxis": {
            "gridcolor": "white",
            "linecolor": "white",
            "ticks": ""
           }
          },
          "title": {
           "x": 0.05
          },
          "xaxis": {
           "automargin": true,
           "gridcolor": "white",
           "linecolor": "white",
           "ticks": "",
           "title": {
            "standoff": 15
           },
           "zerolinecolor": "white",
           "zerolinewidth": 2
          },
          "yaxis": {
           "automargin": true,
           "gridcolor": "white",
           "linecolor": "white",
           "ticks": "",
           "title": {
            "standoff": 15
           },
           "zerolinecolor": "white",
           "zerolinewidth": 2
          }
         }
        },
        "violinmode": "group",
        "xaxis": {
         "anchor": "y",
         "domain": [
          0,
          1
         ]
        },
        "yaxis": {
         "anchor": "x",
         "domain": [
          0,
          1
         ],
         "exponentformat": "none",
         "title": {
          "text": "Distance"
         }
        }
       }
      }
     },
     "metadata": {},
     "output_type": "display_data"
    },
    {
     "data": {
      "application/vnd.plotly.v1+json": {
       "config": {
        "plotlyServerURL": "https://plot.ly"
       },
       "data": [
        {
         "alignmentgroup": "True",
         "box": {
          "visible": true
         },
         "hovertemplate": "Distance=%{y}<extra></extra>",
         "legendgroup": "",
         "marker": {
          "color": "#636efa"
         },
         "name": "",
         "offsetgroup": "",
         "orientation": "v",
         "points": "all",
         "scalegroup": "True",
         "showlegend": false,
         "type": "violin",
         "x0": " ",
         "xaxis": "x",
         "y": [
          1.6733867137876528e-10,
          1.2730783019691673e-10,
          1.938526175998416e-10,
          1.5067337761056642e-10,
          2.092467587053427e-10,
          6.992903352927132e-12,
          0,
          1.349491805140057e-10,
          3.998416623691164e-12,
          0,
          0,
          0,
          1.310585999892076e-10,
          8.743528681120896e-11,
          8.743528681120896e-11,
          0,
          1.4016241505265577e-10,
          0,
          3.26781836596091e-10,
          3.26781836596091e-10,
          9.476119243822793e-11,
          1.6594716257438073e-10,
          0,
          2.828462942630993e-10,
          7.931512510701713e-13,
          0,
          2.007468768436306e-10,
          1.2485451299316589e-10,
          8.743532356774936e-11,
          6.667729585667643e-11,
          1.205418850818871e-10,
          2.5244897157534563e-10,
          0,
          1.349491805140057e-10,
          1.7520902408137365e-10,
          0,
          1.4101545041308507e-10,
          9.476117183396126e-11,
          8.915980734626347e-11,
          1.4668697307465418e-10,
          9.178081341995002e-11,
          7.003668106494046e-11,
          8.762341524606677e-11,
          0,
          0,
          0,
          2.007468768436306e-10,
          0,
          1.2730304803563046e-10,
          0,
          0,
          0,
          0,
          0,
          1.738486637699531e-10,
          4.750029749425193e-10,
          0,
          0,
          5.940721537130902e-12,
          1.2622448578767281e-10,
          3.998416623691164e-12,
          0,
          0,
          8.762341524606677e-11,
          8.094476579315653e-11,
          1.596091593926212e-9,
          1.5592576361214457e-9,
          0,
          0,
          1.4101534562072116e-10,
          0,
          2.0924695390846627e-10,
          1.5067354457277787e-10,
          0,
          3.076977655992609e-10,
          0,
          3.1260862611411167e-10,
          1.4003540879403248e-11,
          2.783505022452095e-10,
          0,
          2.092467713348523e-10,
          4.750029749425193e-10,
          1.3173497431502133e-10,
          4.9344904314822474e-11,
          0,
          4.934490243988531e-11,
          0,
          1.7197947553289503e-10,
          0,
          1.494408477429104e-10,
          3.5831051029440606e-10,
          5.215380592485145e-10,
          5.940721537130902e-12,
          1.2622448578767281e-10,
          1.4442584608834504e-10
         ],
         "y0": " ",
         "yaxis": "y"
        }
       ],
       "layout": {
        "legend": {
         "tracegroupgap": 0
        },
        "margin": {
         "t": 60
        },
        "template": {
         "data": {
          "bar": [
           {
            "error_x": {
             "color": "#2a3f5f"
            },
            "error_y": {
             "color": "#2a3f5f"
            },
            "marker": {
             "line": {
              "color": "#E5ECF6",
              "width": 0.5
             },
             "pattern": {
              "fillmode": "overlay",
              "size": 10,
              "solidity": 0.2
             }
            },
            "type": "bar"
           }
          ],
          "barpolar": [
           {
            "marker": {
             "line": {
              "color": "#E5ECF6",
              "width": 0.5
             },
             "pattern": {
              "fillmode": "overlay",
              "size": 10,
              "solidity": 0.2
             }
            },
            "type": "barpolar"
           }
          ],
          "carpet": [
           {
            "aaxis": {
             "endlinecolor": "#2a3f5f",
             "gridcolor": "white",
             "linecolor": "white",
             "minorgridcolor": "white",
             "startlinecolor": "#2a3f5f"
            },
            "baxis": {
             "endlinecolor": "#2a3f5f",
             "gridcolor": "white",
             "linecolor": "white",
             "minorgridcolor": "white",
             "startlinecolor": "#2a3f5f"
            },
            "type": "carpet"
           }
          ],
          "choropleth": [
           {
            "colorbar": {
             "outlinewidth": 0,
             "ticks": ""
            },
            "type": "choropleth"
           }
          ],
          "contour": [
           {
            "colorbar": {
             "outlinewidth": 0,
             "ticks": ""
            },
            "colorscale": [
             [
              0,
              "#0d0887"
             ],
             [
              0.1111111111111111,
              "#46039f"
             ],
             [
              0.2222222222222222,
              "#7201a8"
             ],
             [
              0.3333333333333333,
              "#9c179e"
             ],
             [
              0.4444444444444444,
              "#bd3786"
             ],
             [
              0.5555555555555556,
              "#d8576b"
             ],
             [
              0.6666666666666666,
              "#ed7953"
             ],
             [
              0.7777777777777778,
              "#fb9f3a"
             ],
             [
              0.8888888888888888,
              "#fdca26"
             ],
             [
              1,
              "#f0f921"
             ]
            ],
            "type": "contour"
           }
          ],
          "contourcarpet": [
           {
            "colorbar": {
             "outlinewidth": 0,
             "ticks": ""
            },
            "type": "contourcarpet"
           }
          ],
          "heatmap": [
           {
            "colorbar": {
             "outlinewidth": 0,
             "ticks": ""
            },
            "colorscale": [
             [
              0,
              "#0d0887"
             ],
             [
              0.1111111111111111,
              "#46039f"
             ],
             [
              0.2222222222222222,
              "#7201a8"
             ],
             [
              0.3333333333333333,
              "#9c179e"
             ],
             [
              0.4444444444444444,
              "#bd3786"
             ],
             [
              0.5555555555555556,
              "#d8576b"
             ],
             [
              0.6666666666666666,
              "#ed7953"
             ],
             [
              0.7777777777777778,
              "#fb9f3a"
             ],
             [
              0.8888888888888888,
              "#fdca26"
             ],
             [
              1,
              "#f0f921"
             ]
            ],
            "type": "heatmap"
           }
          ],
          "heatmapgl": [
           {
            "colorbar": {
             "outlinewidth": 0,
             "ticks": ""
            },
            "colorscale": [
             [
              0,
              "#0d0887"
             ],
             [
              0.1111111111111111,
              "#46039f"
             ],
             [
              0.2222222222222222,
              "#7201a8"
             ],
             [
              0.3333333333333333,
              "#9c179e"
             ],
             [
              0.4444444444444444,
              "#bd3786"
             ],
             [
              0.5555555555555556,
              "#d8576b"
             ],
             [
              0.6666666666666666,
              "#ed7953"
             ],
             [
              0.7777777777777778,
              "#fb9f3a"
             ],
             [
              0.8888888888888888,
              "#fdca26"
             ],
             [
              1,
              "#f0f921"
             ]
            ],
            "type": "heatmapgl"
           }
          ],
          "histogram": [
           {
            "marker": {
             "pattern": {
              "fillmode": "overlay",
              "size": 10,
              "solidity": 0.2
             }
            },
            "type": "histogram"
           }
          ],
          "histogram2d": [
           {
            "colorbar": {
             "outlinewidth": 0,
             "ticks": ""
            },
            "colorscale": [
             [
              0,
              "#0d0887"
             ],
             [
              0.1111111111111111,
              "#46039f"
             ],
             [
              0.2222222222222222,
              "#7201a8"
             ],
             [
              0.3333333333333333,
              "#9c179e"
             ],
             [
              0.4444444444444444,
              "#bd3786"
             ],
             [
              0.5555555555555556,
              "#d8576b"
             ],
             [
              0.6666666666666666,
              "#ed7953"
             ],
             [
              0.7777777777777778,
              "#fb9f3a"
             ],
             [
              0.8888888888888888,
              "#fdca26"
             ],
             [
              1,
              "#f0f921"
             ]
            ],
            "type": "histogram2d"
           }
          ],
          "histogram2dcontour": [
           {
            "colorbar": {
             "outlinewidth": 0,
             "ticks": ""
            },
            "colorscale": [
             [
              0,
              "#0d0887"
             ],
             [
              0.1111111111111111,
              "#46039f"
             ],
             [
              0.2222222222222222,
              "#7201a8"
             ],
             [
              0.3333333333333333,
              "#9c179e"
             ],
             [
              0.4444444444444444,
              "#bd3786"
             ],
             [
              0.5555555555555556,
              "#d8576b"
             ],
             [
              0.6666666666666666,
              "#ed7953"
             ],
             [
              0.7777777777777778,
              "#fb9f3a"
             ],
             [
              0.8888888888888888,
              "#fdca26"
             ],
             [
              1,
              "#f0f921"
             ]
            ],
            "type": "histogram2dcontour"
           }
          ],
          "mesh3d": [
           {
            "colorbar": {
             "outlinewidth": 0,
             "ticks": ""
            },
            "type": "mesh3d"
           }
          ],
          "parcoords": [
           {
            "line": {
             "colorbar": {
              "outlinewidth": 0,
              "ticks": ""
             }
            },
            "type": "parcoords"
           }
          ],
          "pie": [
           {
            "automargin": true,
            "type": "pie"
           }
          ],
          "scatter": [
           {
            "fillpattern": {
             "fillmode": "overlay",
             "size": 10,
             "solidity": 0.2
            },
            "type": "scatter"
           }
          ],
          "scatter3d": [
           {
            "line": {
             "colorbar": {
              "outlinewidth": 0,
              "ticks": ""
             }
            },
            "marker": {
             "colorbar": {
              "outlinewidth": 0,
              "ticks": ""
             }
            },
            "type": "scatter3d"
           }
          ],
          "scattercarpet": [
           {
            "marker": {
             "colorbar": {
              "outlinewidth": 0,
              "ticks": ""
             }
            },
            "type": "scattercarpet"
           }
          ],
          "scattergeo": [
           {
            "marker": {
             "colorbar": {
              "outlinewidth": 0,
              "ticks": ""
             }
            },
            "type": "scattergeo"
           }
          ],
          "scattergl": [
           {
            "marker": {
             "colorbar": {
              "outlinewidth": 0,
              "ticks": ""
             }
            },
            "type": "scattergl"
           }
          ],
          "scattermapbox": [
           {
            "marker": {
             "colorbar": {
              "outlinewidth": 0,
              "ticks": ""
             }
            },
            "type": "scattermapbox"
           }
          ],
          "scatterpolar": [
           {
            "marker": {
             "colorbar": {
              "outlinewidth": 0,
              "ticks": ""
             }
            },
            "type": "scatterpolar"
           }
          ],
          "scatterpolargl": [
           {
            "marker": {
             "colorbar": {
              "outlinewidth": 0,
              "ticks": ""
             }
            },
            "type": "scatterpolargl"
           }
          ],
          "scatterternary": [
           {
            "marker": {
             "colorbar": {
              "outlinewidth": 0,
              "ticks": ""
             }
            },
            "type": "scatterternary"
           }
          ],
          "surface": [
           {
            "colorbar": {
             "outlinewidth": 0,
             "ticks": ""
            },
            "colorscale": [
             [
              0,
              "#0d0887"
             ],
             [
              0.1111111111111111,
              "#46039f"
             ],
             [
              0.2222222222222222,
              "#7201a8"
             ],
             [
              0.3333333333333333,
              "#9c179e"
             ],
             [
              0.4444444444444444,
              "#bd3786"
             ],
             [
              0.5555555555555556,
              "#d8576b"
             ],
             [
              0.6666666666666666,
              "#ed7953"
             ],
             [
              0.7777777777777778,
              "#fb9f3a"
             ],
             [
              0.8888888888888888,
              "#fdca26"
             ],
             [
              1,
              "#f0f921"
             ]
            ],
            "type": "surface"
           }
          ],
          "table": [
           {
            "cells": {
             "fill": {
              "color": "#EBF0F8"
             },
             "line": {
              "color": "white"
             }
            },
            "header": {
             "fill": {
              "color": "#C8D4E3"
             },
             "line": {
              "color": "white"
             }
            },
            "type": "table"
           }
          ]
         },
         "layout": {
          "annotationdefaults": {
           "arrowcolor": "#2a3f5f",
           "arrowhead": 0,
           "arrowwidth": 1
          },
          "autotypenumbers": "strict",
          "coloraxis": {
           "colorbar": {
            "outlinewidth": 0,
            "ticks": ""
           }
          },
          "colorscale": {
           "diverging": [
            [
             0,
             "#8e0152"
            ],
            [
             0.1,
             "#c51b7d"
            ],
            [
             0.2,
             "#de77ae"
            ],
            [
             0.3,
             "#f1b6da"
            ],
            [
             0.4,
             "#fde0ef"
            ],
            [
             0.5,
             "#f7f7f7"
            ],
            [
             0.6,
             "#e6f5d0"
            ],
            [
             0.7,
             "#b8e186"
            ],
            [
             0.8,
             "#7fbc41"
            ],
            [
             0.9,
             "#4d9221"
            ],
            [
             1,
             "#276419"
            ]
           ],
           "sequential": [
            [
             0,
             "#0d0887"
            ],
            [
             0.1111111111111111,
             "#46039f"
            ],
            [
             0.2222222222222222,
             "#7201a8"
            ],
            [
             0.3333333333333333,
             "#9c179e"
            ],
            [
             0.4444444444444444,
             "#bd3786"
            ],
            [
             0.5555555555555556,
             "#d8576b"
            ],
            [
             0.6666666666666666,
             "#ed7953"
            ],
            [
             0.7777777777777778,
             "#fb9f3a"
            ],
            [
             0.8888888888888888,
             "#fdca26"
            ],
            [
             1,
             "#f0f921"
            ]
           ],
           "sequentialminus": [
            [
             0,
             "#0d0887"
            ],
            [
             0.1111111111111111,
             "#46039f"
            ],
            [
             0.2222222222222222,
             "#7201a8"
            ],
            [
             0.3333333333333333,
             "#9c179e"
            ],
            [
             0.4444444444444444,
             "#bd3786"
            ],
            [
             0.5555555555555556,
             "#d8576b"
            ],
            [
             0.6666666666666666,
             "#ed7953"
            ],
            [
             0.7777777777777778,
             "#fb9f3a"
            ],
            [
             0.8888888888888888,
             "#fdca26"
            ],
            [
             1,
             "#f0f921"
            ]
           ]
          },
          "colorway": [
           "#636efa",
           "#EF553B",
           "#00cc96",
           "#ab63fa",
           "#FFA15A",
           "#19d3f3",
           "#FF6692",
           "#B6E880",
           "#FF97FF",
           "#FECB52"
          ],
          "font": {
           "color": "#2a3f5f"
          },
          "geo": {
           "bgcolor": "white",
           "lakecolor": "white",
           "landcolor": "#E5ECF6",
           "showlakes": true,
           "showland": true,
           "subunitcolor": "white"
          },
          "hoverlabel": {
           "align": "left"
          },
          "hovermode": "closest",
          "mapbox": {
           "style": "light"
          },
          "paper_bgcolor": "white",
          "plot_bgcolor": "#E5ECF6",
          "polar": {
           "angularaxis": {
            "gridcolor": "white",
            "linecolor": "white",
            "ticks": ""
           },
           "bgcolor": "#E5ECF6",
           "radialaxis": {
            "gridcolor": "white",
            "linecolor": "white",
            "ticks": ""
           }
          },
          "scene": {
           "xaxis": {
            "backgroundcolor": "#E5ECF6",
            "gridcolor": "white",
            "gridwidth": 2,
            "linecolor": "white",
            "showbackground": true,
            "ticks": "",
            "zerolinecolor": "white"
           },
           "yaxis": {
            "backgroundcolor": "#E5ECF6",
            "gridcolor": "white",
            "gridwidth": 2,
            "linecolor": "white",
            "showbackground": true,
            "ticks": "",
            "zerolinecolor": "white"
           },
           "zaxis": {
            "backgroundcolor": "#E5ECF6",
            "gridcolor": "white",
            "gridwidth": 2,
            "linecolor": "white",
            "showbackground": true,
            "ticks": "",
            "zerolinecolor": "white"
           }
          },
          "shapedefaults": {
           "line": {
            "color": "#2a3f5f"
           }
          },
          "ternary": {
           "aaxis": {
            "gridcolor": "white",
            "linecolor": "white",
            "ticks": ""
           },
           "baxis": {
            "gridcolor": "white",
            "linecolor": "white",
            "ticks": ""
           },
           "bgcolor": "#E5ECF6",
           "caxis": {
            "gridcolor": "white",
            "linecolor": "white",
            "ticks": ""
           }
          },
          "title": {
           "x": 0.05
          },
          "xaxis": {
           "automargin": true,
           "gridcolor": "white",
           "linecolor": "white",
           "ticks": "",
           "title": {
            "standoff": 15
           },
           "zerolinecolor": "white",
           "zerolinewidth": 2
          },
          "yaxis": {
           "automargin": true,
           "gridcolor": "white",
           "linecolor": "white",
           "ticks": "",
           "title": {
            "standoff": 15
           },
           "zerolinecolor": "white",
           "zerolinewidth": 2
          }
         }
        },
        "violinmode": "group",
        "xaxis": {
         "anchor": "y",
         "domain": [
          0,
          1
         ]
        },
        "yaxis": {
         "anchor": "x",
         "domain": [
          0,
          1
         ],
         "exponentformat": "none",
         "title": {
          "text": "Distance"
         }
        }
       }
      }
     },
     "metadata": {},
     "output_type": "display_data"
    },
    {
     "data": {
      "application/vnd.plotly.v1+json": {
       "config": {
        "plotlyServerURL": "https://plot.ly"
       },
       "data": [
        {
         "alignmentgroup": "True",
         "box": {
          "visible": true
         },
         "hovertemplate": "Distance=%{y}<extra></extra>",
         "legendgroup": "",
         "marker": {
          "color": "#636efa"
         },
         "name": "",
         "offsetgroup": "",
         "orientation": "v",
         "points": "all",
         "scalegroup": "True",
         "showlegend": false,
         "type": "violin",
         "x0": " ",
         "xaxis": "x",
         "y": [
          2.6432302818512116e-13,
          3.0245840519927796e-13,
          4.395988284745228e-13,
          1.1379592307459535e-12,
          1.2375650291823228e-12,
          1.851876103014256e-12,
          1.3874877698354125e-12,
          8.764505229423528e-13,
          1.0049504971552206e-12,
          7.888704095845006e-13,
          1.2193137676887333e-12,
          1.5005507931799136e-12,
          1.7278197980775261e-12,
          1.5986115022381949e-12,
          1.2843932904764095e-12,
          2.66392294881413e-12,
          2.6425393123787726e-12,
          1.3887823836920123e-12,
          1.6156851674418353e-12,
          1.5227966327537538e-12,
          1.2019397027484462e-12,
          1.028903999613062e-12,
          1.4611658716633163e-12,
          1.196364246163598e-12,
          1.8029064745873031e-12,
          1.1623784264200862e-12,
          2.0500348658000886e-12,
          1.2918298550259077e-12,
          1.9144561304130837e-12,
          8.71066905579257e-13,
          1.4305901551433426e-12,
          8.187702764001151e-13,
          9.901229088135647e-13,
          1.1613356672874745e-12,
          3.157278624095802e-12,
          2.2688789920589047e-12,
          3.5260768505953976e-12,
          1.5230825487108964e-12,
          9.574218481289684e-13,
          1.3086117298589038e-12,
          1.11736414115274e-12,
          1.2138067623738366e-12,
          1.025678359092309e-12,
          1.4120562783212677e-12,
          6.495578940249023e-13,
          2.137086735817941e-12,
          1.0874700727087695e-12,
          2.5386742563055463e-12,
          8.316912776570587e-13,
          6.758915726699232e-13,
          1.2165952017514927e-12,
          8.463754372463878e-13,
          1.0486642668351558e-12,
          1.1343029549306776e-12,
          1.4362043492396198e-12,
          1.390178019633287e-12,
          1.163130344399409e-12,
          6.948676378624602e-13,
          1.930833101306737e-12,
          1.2378465785393112e-12,
          2.3038864667122115e-12,
          2.0609246948460056e-12,
          1.2824060102155338e-12,
          1.4504627200240322e-12,
          3.466260132866912e-12,
          1.9326742472652485e-12,
          1.0061580509595686e-12,
          1.4820977728381455e-12,
          2.4344054490547556e-12,
          1.3149300907512427e-12,
          1.873757006274591e-12,
          1.8552731427291384e-12,
          1.211173904770175e-12,
          8.754060610389346e-13,
          1.101011308158303e-12,
          4.305763900034962e-12,
          1.9857863594213005e-12,
          8.648655853650695e-13,
          1.1168034596511805e-12,
          1.1615621632943264e-12,
          1.1451823499392015e-12,
          1.0340521202752902e-12,
          1.3478356470903009e-12,
          1.945470475795016e-12,
          1.3199766722365314e-12,
          1.0225062811065847e-12,
          1.1311167627255651e-12,
          1.1934308170228099e-12,
          2.1115337265508277e-12,
          2.002199077857604e-12,
          1.4463996222416776e-12,
          2.2615582037442614e-12,
          2.9656739838674655e-12,
          1.5919907456335575e-12,
          3.038112062483438e-12,
          4.152035394676042e-12,
          1.0321392792423396e-12,
          1.4485891072254316e-12,
          1.3863124984529408e-12,
          1.5302012953947917e-12,
          1.7238461386388776e-12,
          1.8571558767241095e-12,
          1.83685502589927e-12,
          1.8405163171814515e-12,
          2.1149411619298324e-12,
          2.459808001851161e-12,
          2.664100625981826e-12,
          2.1344471443084247e-12,
          2.232783969448665e-12,
          3.488187517598702e-12,
          4.654426221025628e-12,
          2.9131875273895804e-12,
          1.8646231609748147e-12,
          7.8762701851053e-12,
          4.082644493251667e-12,
          2.847814309128499e-12,
          2.8812338825774292e-12,
          4.781175171442698e-12,
          6.39909483420517e-12,
          8.698995499098347e-12,
          6.1059815446315145e-12,
          7.0138359338004274e-12,
          7.863591721363345e-12,
          5.123809328101499e-12,
          6.5102243634015536e-12,
          2.9013655056531333e-12,
          4.722204626345639e-12,
          9.042669007110355e-12,
          8.40287574661475e-12,
          8.220023412430646e-12,
          5.0486062650076426e-12,
          4.673585945063775e-12,
          5.70632429224815e-12,
          4.614494912154392e-12,
          3.707254777978431e-12,
          5.1915064270348634e-12,
          5.625552229664999e-12,
          7.900678407861811e-12,
          3.903742339833346e-12,
          5.677515605559629e-12,
          6.7536563222585425e-12,
          2.780829050982726e-12,
          3.868437656533864e-12,
          9.590280824876959e-12,
          8.19917452479481e-12,
          1.1207189364997304e-11,
          1.086294638550237e-11,
          1.1579461254395379e-11,
          1.975272619639127e-11,
          1.7596592674432203e-11,
          2.022378191433917e-11,
          2.2749944740709412e-11,
          1.5673780876836446e-11,
          1.1524404938790809e-11,
          2.0102299388393444e-11,
          2.527569779656995e-11,
          1.966666837582184e-11,
          1.614026198644617e-11,
          1.8677897662849498e-11,
          3.204104628024323e-11,
          2.753612613600989e-11,
          1.1983923745665062e-11,
          2.3382516650048227e-11,
          2.273366083610519e-11,
          3.17343524419892e-11,
          2.216171784933999e-11,
          1.4432060561761643e-11,
          1.6326614985754154e-11,
          1.921784748650877e-11,
          2.5968060374047703e-11,
          2.5381145884880825e-11,
          3.18694702065404e-11,
          3.1820144013112e-11,
          3.005042580529822e-11,
          2.8419253553795245e-11,
          3.496514869159706e-11,
          3.22792572184393e-11,
          3.411552434826047e-11,
          3.6633851038748107e-11,
          2.950268306326001e-11,
          3.010144534661808e-11,
          3.2215723785285426e-11,
          3.097985674556168e-11,
          1.8296636804751983e-11,
          3.046279581936322e-11,
          2.3416095736062024e-11,
          2.7634717585180405e-11,
          2.6947503453322568e-11,
          2.808731904642115e-11,
          2.707340033420597e-11,
          2.270301248459496e-11,
          2.8846926759668372e-11,
          2.5574616478667023e-11,
          2.4650416253197114e-11,
          2.7666553297789354e-11,
          3.088693159423835e-11,
          2.4587356540941002e-11,
          1.0093645112123999e-11,
          2.523444843516442e-11,
          2.0730051106596746e-11,
          1.4166983892391924e-11,
          2.260024318778734e-11,
          1.8069707646162247e-11,
          1.9746646976001784e-11,
          1.6913646698226633e-11,
          1.845480021265552e-11,
          1.5946422084830415e-11,
          1.4296000208342076e-11,
          1.673781904814454e-11,
          1.6976143402945657e-11,
          2.335055998663736e-11,
          1.677829119434587e-11,
          2.247543656662485e-11,
          2.1273401183338615e-11,
          1.5385199993235055e-11,
          1.4871146398940397e-11,
          2.1000734964752632e-11,
          1.8664402456812886e-11,
          2.0955159524807158e-11,
          2.328726577900216e-11,
          1.6508882548693707e-11,
          1.789038282648012e-11,
          1.8541413793865005e-11,
          2.0707815116651486e-11,
          1.568516049900545e-11,
          2.0061151773460943e-11,
          1.842789031421483e-11,
          1.7226593466868334e-11,
          1.982992043601722e-11,
          1.7919002106552334e-11,
          1.2860788365616696e-11,
          1.9213145097687785e-11,
          1.0614805615001917e-11,
          2.483350043828487e-11,
          2.073929821810665e-11,
          1.7238533050738273e-11,
          1.8977679164947165e-11,
          2.1635342813794357e-11,
          2.4562645878922084e-11,
          2.4426277068642552e-11,
          3.0995992017692265e-11,
          2.7014401542090766e-11,
          2.8945114985670875e-11,
          2.5639854632481966e-11,
          2.656174216336424e-11,
          2.6981591268011434e-11,
          3.21391721526504e-11,
          3.124647845241473e-11,
          2.8331186157647616e-11,
          2.8085596510576303e-11,
          2.913175355247366e-11,
          2.992235535371523e-11,
          3.396785530141905e-11,
          3.013230640181481e-11,
          3.116095835181056e-11,
          3.4673312639781113e-11,
          2.643214621702251e-11,
          3.06433716136397e-11,
          2.996452780897454e-11,
          2.711484159637415e-11,
          2.494088113795161e-11,
          2.815234870310725e-11,
          1.7785412725049164e-11,
          3.2079343404393676e-11,
          2.753294573802108e-11,
          2.989144868713292e-11,
          2.8342161974485233e-11,
          3.536138731406454e-11,
          3.6645554257202935e-11,
          3.054430101328649e-11,
          3.454408047787425e-11,
          3.7235242206680704e-11,
          3.3369835201941114e-11,
          3.604416777952727e-11,
          3.345786144566632e-11,
          3.640772936558721e-11,
          3.585823295535487e-11,
          3.003661303696714e-11,
          3.363307973443665e-11,
          3.035110401571425e-11,
          3.291422315112139e-11,
          3.138969034290664e-11,
          3.0862718551842207e-11,
          2.9927615329009143e-11,
          2.985061114120919e-11,
          2.9704975689849716e-11,
          2.6654279321253183e-11,
          3.100771234962257e-11,
          5.0219128539995714e-11,
          3.132712592611505e-11,
          2.5290315272207696e-11,
          2.838576029351016e-11,
          2.774579488185945e-11,
          3.151032355681042e-11,
          3.37335522612692e-11,
          3.26102011112629e-11,
          3.2122221493412496e-11,
          2.5963675712699538e-11,
          3.670651193450505e-11,
          2.729070355270827e-11,
          2.2960249299523375e-11,
          1.9785044291677305e-11,
          2.0089937886002005e-11,
          2.170009123619756e-11,
          2.864927974014016e-11,
          2.8359993901735098e-11,
          3.469197386656978e-11,
          2.3249487886213328e-11,
          2.0014127315742677e-11,
          2.8269832787580678e-11,
          1.9818397219580714e-11,
          2.211471852528911e-11,
          2.7511794023288736e-11,
          1.9682501035614875e-11,
          2.248896026603133e-11,
          3.1769574677166933e-11,
          2.6487278668211504e-11,
          2.121168762075954e-11,
          2.565625691646533e-11,
          3.242872118433712e-11,
          2.6767295576457352e-11,
          2.2623657559247933e-11,
          2.4170688631458363e-11,
          2.4877196651172598e-11,
          2.0519430890218116e-11,
          2.5275819370847356e-11,
          2.931957489953732e-11,
          2.0636026651493638e-11,
          2.912915744722232e-11,
          1.8393038254557395e-11,
          1.875886157255865e-11,
          2.842545365599312e-11,
          1.9399192674120435e-11,
          2.1284802254634487e-11,
          7.527098417975532e-12,
          2.585265765123481e-11,
          2.7971437085739636e-11,
          2.6165281067045714e-11,
          2.672322363499799e-11,
          2.8236009858135505e-11,
          1.28578248596827e-10,
          2.2512409895682066e-11,
          2.9704692201074895e-11,
          3.129963615513206e-11,
          2.5626949631974883e-11,
          2.376981147491397e-11,
          1.546012653247297e-11,
          2.0855766968742007e-11,
          2.88383945573562e-11,
          4.300341265805186e-11,
          1.4081247315643387e-11,
          1.7897994278351216e-11,
          1.7000503142017682e-11,
          2.13958573999097e-11,
          1.9352880348046804e-11,
          1.555156591530656e-11,
          1.1333435930539013e-11,
          2.2295693655579405e-11,
          9.81533637014634e-12,
          1.7197093774614905e-11,
          1.62460556835195e-11,
          1.9992339101760405e-11,
          1.649254246822559e-11,
          1.3565061812992976e-11,
          2.459706855796295e-11,
          3.31896165407024e-11,
          2.804643826658532e-11,
          1.77650419906866e-11,
          2.6988916814649996e-11,
          2.792602340458683e-11,
          3.04226755830422e-11,
          2.6580919551192177e-11,
          3.780368638395932e-11,
          2.9529831338125313e-11,
          2.1607885196420836e-11,
          2.1257610711369914e-11,
          2.639837075113346e-11,
          1.457499237801899e-11,
          2.5546701844643853e-11,
          2.092448110489425e-11,
          3.019184465739484e-11,
          1.6802911280570852e-11,
          2.6096371675414394e-11,
          4.7732599567424136e-11,
          2.2597516938989248e-11,
          2.9703159128370404e-11,
          2.603047788931405e-11,
          3.8781286186791134e-11,
          3.793862152247883e-11,
          3.6847781879404615e-11,
          3.556126842562743e-11,
          3.815480219400455e-11,
          4.460098321883173e-11,
          4.695134404200269e-11,
          5.1192411919226217e-11,
          3.745892092994564e-11,
          6.279482958393315e-11,
          2.1959780367972704e-11,
          3.164053593650795e-11,
          2.648296120152512e-11,
          2.1728330049905236e-11,
          3.18797547331441e-11,
          2.8913464218334045e-11,
          2.988409791883652e-11,
          2.810253327108012e-11,
          1.9506964144581672e-11,
          2.215281416062498e-11,
          2.3140651660829998e-11,
          3.0256187703941135e-11,
          3.013027013519839e-11,
          4.2992932617403116e-11,
          4.100776813683378e-11,
          3.145997399804788e-11,
          2.8733412883625688e-11,
          2.8705905438098542e-11,
          3.040163980833879e-11,
          4.919712376478813e-11,
          4.5629422802005646e-11,
          4.443284026590428e-11,
          3.0105756086832224e-11,
          3.661082596456551e-11,
          3.5926986102116956e-11,
          2.840321076666599e-11,
          4.0407415126900996e-11,
          1.8427696667365912e-11,
          3.395019412782569e-11,
          3.9122210095831885e-11,
          1.5890253624754692e-11,
          1.3698406348208565e-11,
          1.9396675438628603e-11,
          2.038250213663279e-11,
          2.2615837214671986e-11,
          1.8065233768213365e-11,
          2.67836934448214e-11,
          3.548574867794858e-11,
          3.9844740884258076e-11,
          2.771973298537148e-11,
          2.7992166697224824e-11,
          3.333472859824099e-11,
          3.234880699624595e-11,
          2.7654691517901064e-11,
          2.8700169334191316e-11,
          4.0521723612099784e-11,
          4.033166489056311e-11,
          3.0113408981558167e-11,
          4.2847009608469895e-11,
          3.022908093659051e-11,
          2.825156756915538e-11,
          3.324948498890691e-11,
          2.8877320831103037e-11,
          4.925069015136243e-11,
          2.4714513082964634e-11,
          4.821084638851877e-11,
          1.8626717253441483e-11,
          4.54300882276831e-11,
          1.6651713800434993e-11,
          4.790259130368661e-11,
          4.9262411628842046e-11,
          4.6985547277752146e-11,
          4.496719473498523e-11,
          3.360755113358664e-11,
          4.9716113405126707e-11,
          3.615655299018366e-11,
          4.589674734068214e-11,
          2.93929154245557e-11,
          5.0531468391424205e-11,
          6.960929535137214e-11,
          5.392809862366791e-11,
          4.831052954513755e-11,
          4.53869495411251e-11,
          4.543821287951099e-11,
          5.971010296913472e-11,
          5.1570090988697356e-11,
          4.136545348153254e-11,
          7.085394243958225e-11,
          5.84823309125811e-11,
          3.6837442820309e-11,
          5.490466642947899e-11,
          3.8842558733354616e-11,
          3.723658236928272e-11,
          5.324381414052491e-11,
          4.526409626729748e-11,
          5.478060091318106e-11,
          2.7639290251044154e-11,
          4.434583505974346e-11,
          3.197534110501695e-11,
          4.2430485639854303e-11,
          4.025689494942302e-11,
          4.1602080363780866e-11,
          6.396914083181962e-11,
          4.3409036656373905e-11,
          5.1239242653269434e-11,
          2.7319785677298475e-11,
          5.399457225304349e-11,
          2.5922626438773158e-11,
          5.5807328952695074e-11,
          4.710173054906283e-11,
          5.024629878019541e-11,
          5.375004027573371e-11,
          4.3979262352111e-11,
          6.409346925625873e-11,
          8.084977797070175e-11,
          5.558019815980806e-11,
          5.905751845452577e-11,
          7.791698128485258e-11,
          7.416547918551716e-11,
          5.845037420815917e-11,
          6.346174343727946e-11,
          5.753750132032239e-11,
          5.125634182366124e-11,
          6.649388229448525e-11,
          5.0201827607147985e-11,
          6.704324223854163e-11,
          5.3850254956394055e-11,
          4.768364337901441e-11,
          6.146708174828534e-11,
          7.524163674340477e-11,
          8.132906916693345e-11,
          4.2720668142973865e-11,
          5.539755994820391e-11,
          5.304514140621561e-11,
          3.2723238520017916e-11,
          4.489198184707563e-11,
          4.095159662425682e-11,
          6.995858078742975e-11,
          4.477018298000352e-11,
          5.34903067698033e-11,
          6.849401301492994e-11,
          5.3206402499422205e-11,
          6.095837611662964e-11,
          5.043958181462108e-11,
          1.0984783866455876e-10,
          3.0885182954731915e-11,
          2.503707287992705e-11,
          5.5545596151653286e-11,
          3.823120928025273e-11,
          3.8976075224704124e-11,
          5.1519147961694383e-11,
          5.564407985590463e-11,
          5.3519721214981715e-11,
          5.935321624252508e-11,
          7.645828437107683e-11,
          2.8225932770543026e-11,
          5.0668614572668963e-11,
          4.863682042737066e-11,
          3.863485405762853e-11,
          4.619675621194396e-11,
          4.7338105636323633e-11,
          4.8795406053901143e-11,
          6.07129401381819e-11,
          4.846984856508914e-11,
          3.113339969200294e-11,
          4.185486462810035e-11,
          3.94356576342481e-11,
          4.350662422445642e-11,
          3.426924236963547e-11,
          3.987141772129888e-11,
          3.680979413986536e-11,
          4.2752920396085245e-11,
          4.511590450708632e-11,
          3.459775631850526e-11,
          3.6919100553908034e-11,
          3.949484932276384e-11,
          2.017191266076843e-11,
          3.4676465150560047e-11,
          4.293183019720819e-11,
          5.314553757353514e-11,
          4.3254942741542154e-11,
          4.956851554823193e-11,
          4.520274906046161e-11,
          2.900543320300932e-11,
          1.2920946430688415e-10,
          2.176999488654376e-11,
          3.823679079204667e-11,
          4.3845106471372686e-11,
          4.929282393158048e-11,
          1.893040457080524e-11,
          3.10519710031256e-11,
          3.3675294460686446e-11,
          1.9129857081625634e-11,
          3.174443818260931e-11,
          5.6714403158918695e-11,
          3.5560685457753104e-11,
          4.1615024257194774e-11,
          5.3801556809920104e-11,
          4.365556661197148e-11,
          3.6736769150626394e-11,
          4.910146037593747e-11,
          4.785537128645595e-11,
          6.306010701357444e-11,
          4.1307508769723736e-11,
          4.738070218957655e-11,
          3.431429814300848e-11,
          4.4526810265274096e-11,
          2.491698208483196e-11,
          1.862316240047287e-11,
          2.2822968599586316e-11,
          4.707551539393087e-11,
          5.1064384002138856e-11,
          4.578097877573771e-11,
          4.65446301479155e-11,
          4.8073078820065995e-11,
          3.3721743843025786e-11,
          4.1903250079122185e-11,
          4.267366870844907e-11,
          4.517594161450307e-11,
          4.0679423689549053e-11,
          4.5077986560618844e-11,
          6.901988695246492e-11,
          3.5692949134739945e-11,
          3.8271769288696665e-11,
          4.8509231195707835e-11,
          6.416901055280547e-11,
          5.732936384025332e-11,
          4.886731813461861e-11,
          6.44015755281317e-11,
          5.511678562746715e-11,
          3.8167626852113816e-11,
          4.5233165200861825e-11,
          3.1341123530879076e-11,
          5.009145498397861e-11,
          3.448685001316431e-11,
          4.023377899499286e-11,
          3.6039224064850576e-11,
          3.8662826552376713e-11,
          6.832601289967892e-11,
          4.254237301713614e-11,
          4.98208323952038e-11,
          6.450153379479083e-11,
          6.168019388851842e-11,
          3.6789458471010735e-11,
          4.117284289056782e-11,
          4.172291416814153e-11,
          3.4532999301139337e-11,
          5.6413864066083016e-11,
          3.0649025110217065e-11,
          8.715742966150743e-11,
          6.002603325394585e-11,
          4.5027072622613724e-11,
          3.090277816473896e-11,
          4.0785658991438264e-11,
          2.185515682380682e-11,
          5.974243335805396e-11,
          4.1781687034036836e-11,
          3.602093478801065e-11,
          6.291009449190321e-11,
          2.4613571332377484e-11,
          4.505415274761006e-11,
          3.9272001801187466e-11,
          4.3334848685356097e-11,
          5.0299543135435546e-11,
          5.3112565314309005e-11,
          5.128505500794139e-11,
          1.3300589105349974e-10,
          7.864081681311214e-11,
          5.5032366356275064e-11,
          5.5857327307435585e-11,
          5.802133245669037e-11,
          6.999046742407416e-11,
          8.445044505548899e-11,
          9.044643427719443e-11,
          3.80681278803756e-11,
          6.589249895347307e-11,
          3.9347365650414335e-11,
          8.844302576692361e-11,
          2.800038066150544e-11,
          5.64744411459535e-11,
          9.580210450951867e-11,
          8.100507496196964e-11,
          4.0305082525105167e-11,
          7.006497747609718e-11,
          6.687027703872574e-11,
          5.7831527445123e-11,
          5.92183492225558e-11,
          8.03119312280962e-11,
          6.177184357832773e-11,
          6.226065265260908e-11,
          5.890323160532789e-11,
          4.968546626665969e-11,
          5.1097090844424585e-11,
          7.640248591245094e-11,
          4.6551042615989115e-11,
          5.495258525628709e-11,
          5.446041500280419e-11,
          7.090999233050907e-11,
          8.715045492923164e-11,
          3.8348513256611e-11,
          5.6866834198120595e-11,
          9.026813596445245e-11,
          6.727752153533079e-11,
          5.283610375260516e-11,
          5.1286863163954225e-11,
          6.946286069044781e-11,
          5.930367437550455e-11,
          7.480531768723516e-11,
          6.974820463449025e-11,
          7.5609715991649e-11,
          7.954628090670993e-11,
          4.916375532895019e-11,
          8.771932781128433e-11,
          8.916700268153427e-11,
          5.601633059585479e-11,
          5.536286676514355e-11,
          1.0082607775808432e-10,
          6.839337580986586e-11,
          3.7320770800359086e-11,
          6.761527621681043e-11,
          9.550109574617492e-11,
          6.204600905218186e-11,
          7.109577436816475e-11,
          6.292055707765845e-11,
          3.996185985970443e-11,
          4.432616134367819e-11,
          4.279246444989516e-11,
          8.873565612704249e-11,
          9.928185181524806e-11,
          9.237064517899289e-11,
          7.274091162547717e-11,
          6.46642799805318e-11,
          1.3245416065435228e-10,
          8.204901835335245e-11,
          1.0007571931206306e-10,
          7.107070128642348e-11,
          3.67325280770578e-11,
          6.451962157523663e-11,
          7.520667610853929e-11,
          3.9772448888823385e-11,
          8.293309257420979e-11,
          6.851559648499285e-11,
          6.436520129232295e-11,
          8.369629194212874e-11,
          1.194538992981777e-10,
          8.671863417554291e-11,
          8.585146162696858e-11,
          1.21744009925498e-10,
          8.817404419859677e-11,
          4.899301187093395e-11,
          1.3436543834277058e-10,
          9.218886545254267e-11,
          8.004002767453115e-11,
          1.1251438248181852e-10,
          4.7077763020420144e-11,
          9.99428149559086e-11,
          7.325205569266482e-11,
          8.354712858415856e-11,
          4.585910035327423e-11,
          6.837132564265835e-11,
          6.478538227864375e-11,
          9.934910137201116e-11,
          8.642927203257526e-11,
          9.540296270181025e-11,
          7.00250271525086e-11,
          1.1088297108561209e-10,
          9.804799886744954e-11,
          6.535113745888156e-11,
          5.3071712067548134e-11,
          1.0584549662788262e-10,
          5.477285004485784e-11,
          1.0870187000992241e-10,
          9.849787980220588e-11,
          4.121156949154983e-11,
          6.764513453917584e-11,
          6.665996781987431e-11,
          1.0668090167899955e-10,
          1.050587241164225e-10,
          1.1516538499693946e-10,
          4.322617903556739e-11,
          7.247288039483788e-11,
          6.60133315987189e-11,
          6.183025246531881e-11,
          1.2463865113040427e-10,
          1.2284918833355592e-10,
          7.977157903118653e-11,
          8.863001572158289e-11,
          8.420620846186628e-11,
          8.119351804919412e-11,
          6.71238628985631e-11,
          5.272630775396967e-11,
          4.665606807774953e-11,
          8.304174362439401e-11,
          8.147211194340338e-11,
          4.7579398073536195e-11,
          1.3549675226926498e-10,
          6.398173445147031e-11,
          9.407426981098767e-11,
          7.180943997647211e-11,
          5.565235062376884e-11,
          7.19698667484488e-11,
          9.463576247126009e-11,
          4.5541808901235064e-11,
          1.2142775417847396e-10,
          8.44785114660687e-11,
          7.6665101696825e-11,
          9.428647113429727e-11,
          1.232848017377357e-10,
          1.2331826424850157e-10,
          8.259706021442844e-11,
          1.0835927095220658e-10,
          7.674253030156817e-11,
          8.937096823949228e-11,
          7.570684039477546e-11,
          1.087714399123115e-10,
          4.287491406018059e-11,
          4.076440431052122e-11,
          9.422918880351382e-11,
          1.247675345293792e-10,
          8.163412076555973e-11,
          1.1941471457987995e-10,
          1.2800979480130527e-10,
          9.398556238849344e-11,
          6.57093585627615e-11,
          1.8891040048165468e-10,
          5.573991695358356e-11,
          7.422169391994035e-11,
          9.340490421243357e-11,
          1.2469706207984748e-10,
          7.557695667922332e-11,
          7.890316425368431e-11,
          5.26066193935905e-11,
          5.601798684707463e-11,
          1.5725563276128817e-10,
          1.0601824123386013e-10,
          6.649520864389043e-11,
          1.004954436467937e-10,
          6.91432435453229e-11,
          1.722009697853158e-10,
          1.3034130927003315e-10,
          5.965496955871928e-11,
          7.229691911142726e-11,
          1.2496257123657517e-10,
          1.0165132967557071e-10,
          8.720942790242847e-11,
          1.0007774973993056e-10,
          5.670287053357031e-11,
          7.991085440853542e-11,
          1.053841377208018e-10,
          1.0403302854770008e-10,
          1.3779504424667403e-10,
          1.0485097373662298e-10,
          1.6517809977947585e-10,
          1.1085979430057587e-10,
          6.937018813654355e-11,
          1.0469412235956315e-10,
          7.915003121059201e-11,
          7.260988147812767e-11,
          1.1054566881491319e-10,
          1.6851363781997124e-10,
          1.1520220321982216e-10,
          1.1163705658419589e-10,
          1.8280388279507844e-10,
          7.475287113378293e-11,
          2.1829444357299343e-10,
          1.7415538002017283e-10,
          7.504675009218664e-11,
          1.8214763735472106e-10,
          1.1450441034341078e-10,
          7.86250732527739e-11,
          6.482344312575154e-11,
          1.1821359633215914e-10,
          1.85630186040026e-10,
          1.1159742048269497e-10,
          1.1260203100506448e-10,
          1.203868725146819e-10,
          1.308576915045191e-10,
          8.944302001252129e-11,
          2.122537207428588e-10,
          1.925259991878956e-10,
          8.919128591298294e-11,
          1.3935175057218353e-10,
          1.181523326672088e-10,
          1.632474667731219e-10,
          8.273038529228612e-11,
          1.1023350409668194e-10,
          1.815466754712605e-10,
          1.1034727517597792e-10,
          1.616421803946669e-10,
          1.0998270112677238e-10,
          1.0501888281999689e-10,
          8.300724146797047e-11,
          1.7658884233623666e-10,
          8.407833711493946e-11,
          1.079865865909423e-10,
          8.116250603829369e-11,
          2.4797645941515875e-10,
          1.0826292438006222e-10,
          9.700032654607223e-11,
          7.229159921608642e-11,
          1.0286985836392962e-10,
          1.2501310850701276e-10,
          1.6660778956882739e-10,
          1.1252674127309458e-10,
          8.108961376302246e-11,
          2.392902564617686e-10,
          1.912530224299924e-10,
          1.057837720230938e-10,
          7.403725806176504e-11,
          1.1078768848461128e-10,
          6.120267057807192e-11,
          1.6478142674856036e-10,
          9.820575405645921e-11,
          7.589755907359683e-11,
          8.73810171876727e-11,
          1.5177233985154844e-10,
          1.573170005980176e-10,
          1.4321187774686105e-10,
          1.315381449606721e-10,
          1.7758869496377231e-10,
          8.568358906812325e-11,
          8.918158649103523e-11,
          8.653938748218296e-11,
          7.763518185391678e-11,
          1.0106794012109299e-10,
          1.192491634850749e-10,
          1.66294113192129e-10,
          8.294007375885313e-11,
          1.8253140635697588e-10,
          1.0920891207085172e-10,
          1.1065896725169375e-10,
          8.384736261422883e-11,
          9.339701558643256e-11,
          1.1992689112475426e-10,
          9.096264204965052e-11,
          8.191313752994452e-11,
          9.865184227862179e-11,
          9.697412851212506e-11,
          1.141854292725789e-10,
          1.2098661862385829e-10,
          1.5277377860458306e-10,
          1.6904137343677494e-10,
          2.0781662927988545e-10,
          2.0597268777620258e-10,
          8.439714272280979e-11,
          9.164532823231765e-11,
          1.6542407071909713e-10,
          1.008537963516083e-10,
          1.818763568390755e-10,
          1.2756736052414548e-10,
          9.754418731724296e-11,
          9.151331977935583e-11,
          1.2043123564192456e-10,
          8.427810804249361e-11,
          9.342295730806268e-11,
          1.4173203921029258e-10,
          1.497384466444522e-10,
          1.45157039325969e-10,
          1.0096481506802625e-10,
          8.645883091797697e-11,
          1.0085485134002838e-10,
          1.1370557420750104e-10,
          1.2508883299228848e-10,
          2.2969708376445452e-10,
          1.1627883652436323e-10,
          1.490884260210846e-10,
          8.772943347256197e-11,
          1.1648978543995206e-10,
          1.4582244922486812e-10,
          8.691835110120324e-11,
          1.3175716833983435e-10,
          1.82405558017851e-10,
          8.438704902215435e-11,
          1.054291291241643e-10,
          6.799077551238169e-11,
          1.4407766929905257e-10,
          7.447962905230453e-11,
          7.9649348225444e-11,
          8.190800823706378e-11,
          1.3121291895397564e-10,
          8.350500583209097e-11,
          4.7435895202420216e-11,
          1.1476358502807509e-10,
          1.0637281201057801e-10,
          8.905233095773826e-11,
          7.397794643759687e-11,
          8.553883120616126e-11,
          8.891375073574478e-11,
          6.250404614047844e-11,
          8.144867756331245e-11,
          1.2501240611397194e-10,
          9.840791347513628e-11,
          6.179398180654032e-11,
          5.951950508450881e-11,
          1.165283752649405e-10,
          1.0258175431825063e-10,
          4.4936602334590963e-11,
          1.8800275397086667e-10,
          4.5866887286266096e-11,
          7.67568836594034e-11,
          4.8232996484683386e-11,
          8.016065121142108e-11,
          5.1069332620868417e-11,
          7.203803221792688e-11,
          5.3098937733086204e-11,
          7.772650191709233e-11,
          7.09146640568686e-11,
          7.835343802770863e-11,
          6.867593559167213e-11,
          1.1173867295389482e-10,
          6.367726053219621e-11,
          1.0552839557923719e-10,
          9.954972347549075e-11,
          1.6562939189832165e-12,
          1.0955720671574529e-12,
          3.096036312363268e-13,
          4.558319266591969e-13,
          7.480139263682494e-13,
          2.434253325033106e-13,
          4.660818211555037e-13,
          7.430090206515177e-13,
          5.937990146002269e-13,
          1.7889318908675844e-12,
          2.0463812999042708e-12,
          1.3503994694525161e-12,
          6.175507348614447e-13,
          1.5244903712992585e-12,
          5.921792001819947e-13,
          2.0041565686906648e-12,
          2.038812324574582e-12,
          2.6660557372220104e-12,
          3.6908284170834985e-12,
          4.383357477720565e-12,
          4.8907718244383185e-12,
          4.718343197924873e-12,
          5.760562005287528e-12,
          4.826825213550338e-12,
          5.0601564262332274e-12,
          5.278118221427446e-12,
          5.3689914786604335e-12,
          3.0634263535615735e-12,
          2.7953560153370336e-12,
          4.094844965767243e-12,
          3.428240336992109e-12,
          2.889690896698493e-12,
          4.042467216069162e-12,
          4.85994783721824e-12,
          4.21722448585357e-12,
          6.670240969107915e-12,
          7.840652054392727e-12,
          4.4873130480467426e-12,
          6.318678674691646e-12,
          9.717578795123755e-12,
          7.355871675684334e-12,
          7.743064368137394e-12,
          5.7933737868607685e-12,
          5.4751115110503564e-12,
          4.643891193229167e-12,
          6.687275183301282e-12,
          4.967846860068302e-12,
          6.29130001584869e-12,
          6.087612964993303e-12,
          5.61114133747803e-12,
          8.072953648378493e-12,
          3.037707170005453e-12,
          7.261124225482367e-12,
          1.0503319658301192e-11,
          1.1805561528602124e-11,
          1.0064234155084822e-11,
          1.0519167602368605e-11,
          9.984293979785004e-12,
          8.641899199881235e-12,
          6.74568450806286e-12,
          9.39422130112402e-12,
          1.0849606460312041e-11,
          1.1128023467624787e-11,
          1.0514164162355905e-11,
          1.3948959211018368e-11,
          1.145208071066534e-11,
          7.859888554103197e-12,
          1.0243738065319756e-11,
          1.1305005776163556e-11,
          7.039309999841694e-12,
          1.0272908554481505e-11,
          9.407352621753554e-12,
          7.64174480854572e-12,
          9.435383827410621e-12,
          1.025970987479316e-11,
          1.1195476307421637e-11,
          8.41042712936047e-12,
          9.644418734556313e-12,
          8.490788960260017e-12,
          7.809043342012664e-12,
          2.9623886739859047e-12,
          7.65247188094193e-12,
          6.678036652563876e-12,
          2.8854685324862368e-12,
          4.649493555237224e-12,
          6.551179521898529e-12,
          7.905786192063912e-12,
          8.007999966190161e-12,
          9.81039867993618e-12,
          1.0163998227214074e-11,
          1.1530926050411142e-11,
          1.0250115988692453e-11,
          9.44134703398133e-12,
          1.1570254588724128e-11,
          1.2907438909211327e-11,
          1.1997156773069467e-11,
          5.209964644431535e-12,
          4.0331539762225046e-12,
          9.242463061559197e-12,
          5.407560757208095e-12,
          2.431976476987527e-12,
          6.658619239552584e-12,
          1.038736618413226e-11,
          1.0236550002569526e-11,
          8.95672791559671e-12,
          1.0461935315679126e-11,
          8.527761752876151e-12,
          1.011994945012439e-11,
          1.1134879902072683e-11,
          1.129079866470784e-11,
          8.477072264408406e-12,
          9.143254114513225e-12,
          1.0623800045497434e-11,
          1.1376250451149355e-11,
          1.355321166844083e-11,
          1.1115150937988281e-11,
          1.0225461718355053e-11,
          1.3202033809072434e-11,
          1.1186305980716004e-11,
          1.2732949648523955e-11,
          1.7001467062434054e-11,
          1.756071431820746e-11,
          1.1950769004184927e-11,
          7.478000299359417e-12,
          4.4911061497808125e-12,
          1.5848445172192155e-11,
          1.681410956145348e-11,
          1.1451736465867323e-11,
          2.2593177878074976e-11,
          1.6845841004429105e-11,
          1.4391171422829654e-11,
          1.365348553485405e-11,
          1.6846979686398976e-11,
          1.5983865625364597e-11,
          1.5022982669621873e-11,
          1.6712398178342913e-11,
          1.5214756716114946e-11,
          1.4957698242462146e-11,
          1.6483524735603863e-11,
          6.2663893643705696e-12,
          2.076709757058691e-11,
          2.1451198260882795e-11,
          2.199161177842863e-11,
          1.99245973427407e-11,
          1.8045064014375803e-11,
          1.821357536764721e-11,
          4.158437489338442e-12,
          1.6220955400674943e-11,
          3.828700995006852e-12,
          4.101748618398887e-12,
          1.1545246353530742e-11,
          1.8364556923623146e-11,
          1.5890835997212105e-11,
          1.684777896135886e-11,
          1.7247282426802293e-11,
          1.8703101514206146e-11,
          2.3467700370222637e-11,
          2.1391021073536736e-11,
          2.403168743130341e-11,
          2.3730395738544565e-11,
          2.655419995714721e-11,
          2.4503694866897786e-11,
          3.007425945765371e-11,
          2.691619708819801e-11,
          9.820488478755954e-12,
          2.0780098900878444e-11,
          2.4321615709125307e-11,
          2.0109080477170947e-11,
          2.3157756893460748e-11,
          2.7881566793073827e-11,
          1.141125512206136e-11,
          2.5338046426286475e-11,
          2.671809912231712e-11,
          2.6005924091529246e-11,
          2.5003492314949678e-11,
          2.6619137373920165e-11,
          3.022111478557509e-11,
          1.9419306340244236e-11,
          2.0232440781861258e-11,
          2.3050375054126486e-11,
          6.1933246753311525e-12,
          1.662965515197935e-11,
          4.623300004681543e-12,
          1.863907312815433e-11,
          2.1322471715263042e-11,
          1.8651505423923318e-11,
          2.2063998804095482e-11,
          1.9546674865416137e-11,
          1.7796834694835466e-11,
          4.301217650960456e-12,
          1.933799384193114e-11,
          2.2873888782900632e-11,
          2.5057666060150582e-11,
          1.810831252390842e-11,
          2.2090972905700345e-11,
          1.7152426454324468e-11,
          1.8604640853124566e-11,
          2.0992705334618334e-11,
          1.9999435697833917e-11,
          1.8749233753517116e-11,
          1.916221656184448e-11,
          2.032973421252929e-11,
          1.8041227478832203e-11,
          1.923569674107574e-11,
          5.082560662262386e-12,
          1.5517804351922e-11,
          2.208063881793239e-11,
          1.926466313984415e-11,
          1.830732361337065e-11,
          2.112925920888543e-11,
          1.6209130123653672e-11,
          9.377402299615386e-12,
          1.9231894416619357e-11,
          1.3592228467037262e-11,
          1.7879609738679552e-11,
          2.060312226586332e-11,
          1.9890188749056648e-11,
          1.7077712544589014e-11,
          1.6154539629355668e-11,
          1.815782437193906e-11,
          1.6582929044766385e-11,
          1.1362444519720596e-11,
          1.5561311583179396e-11,
          1.4383337167332436e-11,
          1.5200703380362502e-11,
          1.3068166667534006e-11,
          1.4418348755544343e-11,
          1.495260793539194e-11,
          6.005394915198952e-12,
          1.5628445224842253e-11,
          1.620726172027541e-11,
          9.688868442469432e-12,
          1.5034750948977643e-11,
          1.563156526432631e-11,
          1.6250522355249322e-11,
          1.52117566403928e-11,
          1.4582774093347036e-11,
          1.0391378579244521e-11,
          1.4861866746060647e-11,
          1.689730754229786e-11,
          1.6584177939302596e-11,
          1.651617713277534e-11,
          1.8117125046727128e-11,
          1.718924440585865e-11,
          1.804586313645322e-11,
          1.6576753864222868e-11,
          1.6595024361593035e-11,
          1.8470333151574233e-11,
          1.9691649691049555e-11,
          1.938068951273697e-11,
          6.987154532267471e-12,
          1.7735158685200526e-11,
          3.99892967124948e-12,
          1.5439031927266717e-11,
          1.65681403010814e-11,
          1.937502630987291e-11,
          1.6428128030353393e-11,
          2.0406700312731992e-11,
          1.5869010712092237e-11,
          1.9111203803680203e-11,
          1.513249724679024e-11,
          1.3234565838210891e-11,
          1.4089583247030385e-11,
          6.585503046349798e-12,
          7.319472507448704e-12,
          1.0766361855459945e-11,
          1.1946764686065695e-11,
          5.303934872597981e-12,
          5.5716286968587814e-12,
          1.0055589829204435e-11,
          2.622991591320238e-12,
          7.0568662699599375e-12,
          1.1544253519927473e-11,
          1.2405797444049296e-11,
          1.382312277510127e-11,
          1.4315575390400153e-11,
          1.3132552913821296e-11,
          1.3441153763629943e-11,
          1.7357243485659316e-11,
          1.659817422966634e-11,
          1.7689338861032716e-11,
          1.772706164766324e-11,
          2.0621210834600584e-11,
          1.1617636884948885e-11,
          1.993632708514027e-11,
          1.5502069668281883e-11,
          1.7517429401389502e-11,
          1.7490894142403167e-11,
          2.298139232794095e-11,
          1.771284112293608e-11,
          1.729645308423891e-11,
          6.642409159538905e-12,
          1.5041092619944877e-11,
          1.677522257283822e-11,
          7.061264574094729e-12,
          1.6178328067894552e-11,
          1.7808208432470116e-11,
          1.7082985301864047e-11,
          1.7067530959427158e-11,
          2.035417366904264e-11,
          2.0766939074904455e-11,
          1.0366805103098295e-11,
          1.611290450549062e-11,
          1.6212388643269e-11,
          1.1871163180232616e-11,
          2.044154480556896e-11,
          1.7041056570530362e-11,
          1.8651011829761743e-11,
          1.7464740535113772e-11,
          2.043421801580705e-11,
          1.9661376721245937e-11,
          1.325835736048033e-11,
          1.3855346849854415e-11,
          1.988404798992012e-11,
          2.01227387509655e-11,
          1.86394325770905e-11,
          1.6663614262563524e-11,
          1.656516221977979e-11,
          1.563072758196862e-11,
          1.7910991292925945e-11,
          1.5988949527579157e-11,
          1.4247998862524754e-11,
          7.279166096698312e-12,
          1.4002404748959259e-11,
          7.233134458417343e-12,
          1.0980187840552627e-11,
          1.2279786046891692e-11,
          1.3079937398108163e-11,
          1.3655166059532005e-11,
          1.4612547390208552e-11,
          1.483347693892963e-11,
          1.205767911209394e-11,
          1.5683549437404404e-11,
          1.588226066610629e-11,
          1.722243181257542e-11,
          1.7806245171090414e-11,
          1.6248527210149333e-11,
          1.5325245265293636e-11,
          1.5705945979846315e-11,
          1.6398515206196958e-11,
          1.46143212553736e-11,
          1.58074264435618e-11,
          1.3990729407457425e-11,
          1.2668741518653791e-11,
          1.4150408430642066e-11,
          1.338900447308959e-11,
          1.4414267556289915e-11,
          1.47768709990884e-11,
          1.4560149504547757e-11,
          1.5189426273513176e-11,
          1.5338109739554058e-11,
          1.356474389246616e-11,
          1.4481176293261646e-11,
          1.503435400447399e-11,
          4.7779766945825465e-12,
          1.4780635585552423e-11,
          1.536752178429012e-11,
          1.2212624685648577e-11,
          1.6166403592788257e-11,
          1.0125976991806735e-11,
          2.174638966263626e-11,
          2.024488324974967e-11,
          2.0574158675057903e-11,
          4.800728177664933e-12,
          1.541994214415833e-11,
          1.4937933562756133e-11,
          1.7462439471945704e-11,
          1.6008913848781437e-11,
          2.4013729805669894e-11,
          1.8549665262485735e-11,
          2.03187198677247e-11,
          2.1262278555333012e-11,
          1.1575542288301727e-11,
          2.150186891222214e-11,
          2.0475104800685673e-11,
          2.115309222603145e-11,
          2.471679970105957e-11,
          2.1062332815445015e-11,
          1.7776509695766367e-11,
          2.2612689060439478e-11,
          1.2741898289774923e-11,
          2.3008907878706687e-11,
          2.3090345669095935e-11,
          8.477478652934757e-12,
          2.255956376702471e-11,
          2.2048705349780123e-11,
          2.141652937291407e-11,
          1.81604048603225e-11,
          2.1007241992318796e-11,
          2.2040478632728668e-11,
          1.830822074686006e-11,
          1.4895189988739966e-11,
          1.1322450503575915e-11,
          2.0694091094905616e-11,
          2.3862306395381514e-11,
          5.133083059468269e-12,
          2.0897536765010735e-11,
          1.8222372885091526e-11,
          1.8372485361368795e-11,
          1.5642161065164084e-11,
          1.6906693615491407e-11,
          1.7961972728698314e-11,
          1.9934046021457755e-11,
          6.501287551218709e-12,
          1.8146587404445205e-11,
          1.6867869553468147e-11,
          2.0464048620314768e-11,
          2.0854365514356945e-11,
          1.97328232858423e-11,
          1.894835264259572e-11,
          1.7226466303948318e-11,
          1.4978670835088496e-11,
          2.0996715752002825e-11,
          1.793928717531438e-11,
          2.115765940323208e-11,
          1.772137258711323e-11,
          1.920191421501412e-11,
          2.029802525559853e-11,
          1.629959281245323e-11,
          2.0583428108834156e-11,
          1.8191314186959892e-11,
          1.8365223251108122e-11,
          1.6550124389850107e-11,
          1.803769983371633e-11,
          4.730289100320302e-12,
          1.8811535261398494e-11,
          1.1859890822111507e-11,
          8.125195271785792e-12,
          2.350526054098483e-11,
          7.09278763276192e-12,
          2.5060293081123082e-11,
          2.253369589684055e-11,
          7.421189353273484e-12,
          2.376208577349865e-11,
          2.150873507380617e-11,
          2.3035488340230357e-11,
          2.082991756356711e-11,
          1.7223180116255427e-11,
          8.020668322871208e-12,
          1.589473108711023e-11,
          1.5293303849462354e-11,
          1.8684125574372756e-11,
          1.814226544140322e-11,
          1.7197450940444335e-11,
          1.6076289110231886e-11,
          1.973391750661079e-11,
          1.0006225779274614e-11,
          1.814543979658245e-11,
          2.5587667831054186e-11,
          2.2351092469833854e-11,
          2.3042972774139583e-11,
          1.8624000781204287e-11,
          1.252898609073098e-11,
          1.7350632419686165e-11,
          1.680410815412295e-11,
          1.828224127641616e-11,
          1.777007289398803e-11,
          1.825094776543923e-11,
          1.4485442358716323e-11,
          2.15873164312252e-11,
          2.1555360026279933e-11,
          1.2229526268309454e-11,
          2.0694225428102067e-11,
          1.9880118318657046e-11,
          1.9674954641630687e-11,
          2.3237568833504118e-11,
          2.2190982513494868e-11,
          7.848262316545969e-12,
          2.2547917865909595e-11,
          1.063945665026444e-11,
          2.1413723504941497e-11,
          2.445818100151351e-11,
          2.5869692396655593e-11,
          2.357490270929334e-11,
          2.948098871259651e-11,
          1.650448353848288e-11,
          2.152339801472379e-11,
          1.956462257271745e-11,
          1.9958676739922887e-11,
          1.3248985459305973e-11,
          1.754778853795842e-11,
          2.4030624563272265e-11,
          2.2787642870804676e-11,
          2.6272518304818446e-11,
          3.6613256294310296e-11,
          2.32317996355599e-11,
          2.937650205627678e-11,
          3.051918428173315e-11,
          1.743240612824489e-11,
          2.965851100971096e-11,
          3.3519503664230215e-11,
          2.75573762914935e-11,
          2.9158924136999416e-11,
          3.313240536167559e-11,
          2.2493201452862623e-11,
          1.911334314344309e-11,
          3.148189718482554e-11,
          2.9465184744017303e-11,
          2.257281870464143e-11,
          1.9324756960993827e-11,
          3.495289682085405e-11,
          2.046031993571903e-11,
          1.505059838104983e-11,
          2.838299567493547e-11,
          2.7621757626509375e-11,
          2.8772753575351117e-11,
          3.7379918165132575e-11,
          2.6749910739260746e-11,
          2.3983838319177168e-11,
          2.9218258135996725e-11,
          2.3709521515014194e-11,
          1.2986395149771865e-11,
          2.3263155665596733e-11,
          2.768349351297651e-11,
          2.7382600979019222e-11,
          1.737860957582206e-11,
          2.766440926198265e-11,
          1.67462939022063e-11,
          2.5049906796408435e-11,
          2.161974833984158e-11,
          2.2011926010380704e-11,
          2.3280308413921084e-11,
          2.150413014850403e-11,
          2.624620872998166e-11,
          2.0660546641907702e-11,
          2.5099843880665538e-11,
          2.4395293590796936e-11,
          2.492498609292518e-11,
          2.538166344794325e-11,
          2.593639935171618e-11,
          2.5811233365865497e-11,
          2.3908037299608785e-11,
          2.2783150163402764e-11,
          2.343157713270878e-11,
          2.6519667138317236e-11,
          1.8144473750887113e-11,
          1.8854011995525516e-11,
          2.406933412511015e-11,
          2.1321101871503327e-11,
          2.4389836660347364e-11,
          2.482197005172873e-11,
          2.6670924180976662e-11,
          2.086106906598481e-11,
          1.4651757846093343e-11,
          2.8051917620272247e-11,
          2.817609146898609e-11,
          2.7407860583418294e-11,
          2.8201036772964507e-11,
          2.5716403322073532e-11,
          1.9822219841455027e-11,
          2.4920715662810065e-11,
          2.6934950275107637e-11,
          3.051081735663819e-11,
          3.168667872655015e-11,
          2.5048894521840122e-11,
          3.566424426066241e-11,
          5.5627237470346755e-11,
          3.1450387346919067e-11,
          3.4045836983765335e-11,
          3.0511700128295143e-11,
          4.461312503086726e-11,
          3.980279311995608e-11,
          4.408390797060729e-11,
          4.1595020123075426e-11,
          3.785549897104565e-11,
          3.594029785758796e-11,
          4.569856028163227e-11,
          4.0787581119924285e-11,
          3.39967112236135e-11,
          4.180269771918931e-11,
          8.441742601031718e-11,
          3.746471961636479e-11,
          3.9712811095653904e-11,
          3.515334916881903e-11,
          3.464257483652633e-11,
          7.626463803710481e-11,
          3.608980142012839e-11,
          4.5526487666883535e-11,
          2.4089236084934094e-11,
          3.4779448329162656e-11,
          2.189928627298623e-11,
          3.091779136539677e-11,
          3.159352587821009e-11,
          4.490332049278161e-11,
          3.1424622423943576e-11,
          1.7020981543183194e-11,
          2.579599240512494e-11,
          2.93435652097509e-11,
          3.247988174254287e-11,
          3.827413550644449e-11,
          2.882998191225434e-11,
          2.4537656891247726e-11,
          4.7060771814658684e-11,
          5.861091046760503e-11,
          2.5850564971014137e-11,
          3.4490300475619864e-11,
          3.8723944208368385e-11,
          3.4716516803945564e-11,
          3.230272645532468e-11,
          3.4432179714391727e-11,
          3.3570624657932885e-11,
          3.093752094117377e-11,
          4.0239196608321996e-11,
          5.443757867844202e-11,
          2.701266560126299e-11,
          2.930014728570218e-11,
          3.9640895264714835e-11,
          3.5038412615975466e-11,
          3.6092488153417204e-11,
          3.3255343197497905e-11,
          3.869286983362684e-11,
          3.518124248054848e-11,
          3.970014781442077e-11,
          2.881809907553164e-11,
          2.524541426752592e-11,
          2.528671997889775e-11,
          4.173590553786095e-11,
          3.8377397400251835e-11,
          2.4547909737744333e-11,
          2.564166471901053e-11,
          3.061347667002593e-11,
          2.339027078991675e-11,
          1.5603934734722874e-11,
          2.342765557276768e-11,
          9.439094309656157e-12,
          1.8416013150596288e-11,
          1.72976901176663e-11,
          1.8146001579750815e-11,
          1.4619117671464364e-11,
          1.1948358164276622e-11,
          2.4940755882204382e-11,
          1.6913720905268936e-11,
          1.94073520807093e-11,
          2.0565864889551136e-11,
          2.8950404365719188e-11,
          1.5670170815104157e-11,
          2.262782994841929e-11,
          2.202051859688115e-11,
          2.9812355544492835e-11,
          1.4471607531746223e-11,
          1.9119988344533065e-11,
          1.5667179293446748e-11,
          1.3402241977966975e-11,
          1.0909828044356435e-11,
          2.1270742455261785e-11,
          1.393780259474134e-11,
          1.0918225055358102e-11,
          1.3253031230898359e-11,
          1.65377187621259e-11,
          1.3241534414063993e-11,
          1.1754958955586088e-11,
          1.3708491174734536e-11,
          1.5484677412854196e-11,
          1.617875768013998e-11,
          1.3719453463365891e-11,
          1.3174054245018837e-11,
          1.6149489254900546e-11,
          1.511143865480572e-11,
          1.1015879974076267e-11,
          2.1722541956363894e-11,
          2.28555525781231e-11,
          1.2744165974191872e-11,
          1.6332715223241397e-11,
          1.1118065129206638e-11,
          8.527733276409056e-12,
          5.118203033074971e-12,
          9.709441508547296e-12,
          1.107892754612263e-11,
          5.8602786605600225e-12,
          1.0433845831393162e-11,
          1.0961033658202404e-11,
          9.544131841074297e-12,
          9.02784859191462e-12,
          1.1639023189693534e-11,
          1.369457926056928e-11,
          8.8435139162124e-12,
          1.280088927481147e-11,
          1.0482642731640603e-11,
          8.081204841108733e-12,
          9.175777365583662e-12,
          8.20396064418742e-12,
          6.177909794700464e-12,
          5.689800340013152e-12,
          8.575684739179417e-12,
          1.205063144010923e-11,
          1.0743872075113642e-11,
          1.0114284177302176e-11,
          1.719640730500003e-11,
          8.441210687314158e-12,
          6.8841213866169745e-12,
          6.956271938178933e-12,
          6.152284963351407e-12,
          6.5719967697645675e-12,
          7.432884753404194e-12,
          7.565264537778335e-12,
          4.569430873412354e-12,
          3.3799152058635857e-12,
          9.30629683282749e-12,
          7.261768553914825e-12,
          6.8823605797507815e-12,
          6.5716581671525315e-12,
          6.968207465067321e-12,
          1.059397183278259e-11,
          9.876178539031367e-12,
          1.5688707266246016e-11,
          1.2028969069401937e-11,
          1.667507840311606e-11,
          9.728289049837496e-12,
          1.6141463979565605e-11,
          1.253345314373377e-11,
          2.1959420868847806e-11,
          1.8188327864015593e-11,
          1.5982470783022267e-11,
          1.8834617330704247e-11,
          1.3426445586907858e-11,
          1.6150217985743193e-11,
          1.3259670783303805e-11,
          2.044841297010451e-11,
          1.9923591999804543e-11,
          2.0120019246273646e-11,
          1.4454374667933757e-11,
          2.1576063458880726e-11,
          2.1023248914055217e-11,
          2.0261887056645432e-11,
          2.4524910769140513e-11,
          1.872754355647067e-11,
          1.0211947428430153e-11,
          1.3934175392016404e-11,
          2.0580809727394497e-11,
          1.2195055998325749e-11,
          9.735696933594817e-12,
          9.340306035312915e-12,
          1.5659934213142438e-11,
          1.1700006844021886e-11,
          8.996558234023814e-12,
          1.4935313014171456e-11,
          1.393631451573441e-11,
          1.4438502541634098e-11,
          9.961051888843775e-12,
          1.1663455377062772e-11,
          1.3478965722023135e-11,
          1.2762355210944975e-11,
          1.7203963335056027e-11,
          1.607688725588843e-11,
          1.1296783663760507e-11,
          2.3801882249990514e-11,
          2.225737751149787e-11,
          1.9966272432953405e-11,
          2.075024789318634e-11,
          2.6249347848445895e-11,
          3.169174931859659e-11,
          8.939203827223061e-11,
          8.098142769066964e-11,
          2.7999997339010473e-11,
          3.566016735462098e-11,
          2.8367968115618364e-11,
          3.005560707270759e-11,
          2.4157530043364717e-11,
          3.5735025449151125e-11,
          5.08382473160778e-11,
          2.9762468629784906e-11,
          2.9207361348277066e-11,
          2.913793336560683e-11,
          3.100176782178516e-11,
          2.6210344916400052e-11,
          2.6259077219783697e-11,
          3.014305614694241e-11,
          3.058868296088381e-11,
          4.1019761865118995e-11,
          3.32402212072357e-11,
          3.553610662117296e-11,
          4.162379859884946e-11,
          3.31956167332669e-11,
          3.463871694768767e-11,
          2.7672865354924353e-11,
          4.05927867942564e-11,
          3.936467551211719e-11,
          3.8774109818661795e-11,
          3.987970370166544e-11,
          3.226179602554531e-11,
          3.614246170468642e-11,
          3.552988209783051e-11,
          3.577266203417842e-11,
          2.264752794140295e-11,
          1.765844991458067e-11,
          1.826474535726871e-11,
          2.5467160893811028e-11,
          2.1919170458438626e-11,
          1.948012420447251e-11,
          2.2814231280620156e-11,
          2.4909389405322753e-11,
          1.610731547179671e-11,
          1.746840487564646e-11,
          2.2246121578941805e-11,
          2.1254548729415253e-11,
          2.0735143183989882e-11,
          2.558253605905554e-11,
          2.3707119926377668e-11,
          2.7290266942936505e-11,
          2.8731290379271218e-11,
          3.022283048563947e-11,
          2.2813682051893004e-11,
          2.4001684914907644e-11,
          2.1782725513562832e-11,
          2.6964919104261078e-11,
          3.1373109768426234e-11,
          3.396054481463024e-11,
          3.216931328112065e-11,
          2.533864535924656e-11,
          2.8520259988274634e-11,
          2.973929510146196e-11,
          5.8126662524879983e-11,
          3.3624453682443904e-11,
          3.475678210771027e-11,
          2.5230195444410545e-11,
          2.9100602161009572e-11,
          2.4878926808979107e-11,
          2.9926646046544784e-11,
          3.4791221462589614e-11,
          2.603164527289992e-11,
          4.699059020561693e-11,
          3.017200108346902e-11,
          3.7447162732524e-11,
          2.679534104326016e-11,
          2.7174067786879032e-11,
          2.3195917903538915e-11,
          2.9727799807690356e-11,
          3.025805650585994e-11,
          2.3959632075369164e-11,
          3.027356012765107e-11,
          2.97727381928096e-11,
          3.207422300811576e-11,
          2.8745348131819503e-11,
          2.94066164088756e-11,
          3.3818012520611944e-11,
          3.394657198401948e-11,
          2.5647666460537423e-11,
          2.664250791055502e-11,
          5.862884939234326e-11,
          3.871389899495357e-11,
          2.7983791783824e-11,
          2.962383978367722e-11,
          4.2607498390183427e-11,
          5.542083190531755e-11,
          3.7217958941468525e-11,
          5.073585964636235e-11,
          6.455706574684068e-11,
          3.9299572869233726e-11,
          6.971982533953734e-11,
          3.100395198707212e-11,
          2.457990890580168e-11,
          3.443402182172787e-11,
          3.324114981043721e-11,
          3.8100833437816487e-11,
          3.1697860486062414e-11,
          4.117500432151571e-11,
          2.836655649934202e-11,
          3.283051070862298e-11,
          3.185295121412118e-11,
          2.7448340376318854e-11,
          5.7919127358799335e-11,
          2.926888267402734e-11,
          3.395801445341563e-11,
          4.2367108889871845e-11,
          1.2144211826167124e-10,
          4.7440964618974904e-11,
          3.828563504181315e-11,
          3.687860272313934e-11,
          3.499526267216051e-11,
          3.868953999488103e-11,
          3.426654686466963e-11,
          2.8937632140697812e-11,
          3.059764551335256e-11,
          3.400598042677494e-11,
          7.089870459978141e-11,
          9.656945544970001e-11,
          3.637977064396843e-11,
          7.48969124570903e-11,
          3.999816289399398e-11,
          3.567556830191787e-11,
          5.106761002825889e-11,
          3.760368208886144e-11,
          3.4704386183494166e-11,
          5.273679072562836e-11,
          9.907132611084559e-11,
          3.775669561295416e-11,
          3.404442607430126e-11,
          4.7855831314226276e-11,
          3.808582147923149e-11,
          5.359232429860981e-11,
          1.3270559122988644e-10,
          1.0964213085935602e-10,
          4.979087668596036e-11,
          4.682604695377314e-11,
          5.2069036234566185e-11,
          5.587295650046419e-11,
          6.430119879126373e-11,
          8.752854039993132e-11,
          4.872428364848756e-11,
          6.922130128785229e-11,
          9.469212494350962e-11,
          1.07577230542157e-10,
          4.959263343668786e-11,
          4.41236016444324e-11,
          4.5159436336017605e-11,
          6.074987355510171e-11,
          5.6249471464660086e-11,
          4.455039404413737e-11,
          5.7331593594473625e-11,
          3.522229869967493e-11,
          5.03100166606287e-11,
          4.77135624647677e-11,
          4.8227903325025134e-11,
          3.4969080818499897e-11,
          3.858294670742756e-11,
          4.592136838306651e-11,
          4.4644694303906987e-11,
          4.652723216622284e-11,
          4.068310627998927e-11,
          4.3244435067541086e-11,
          3.694051645055996e-11,
          5.7567679448229566e-11,
          3.4108483787844907e-11,
          3.583804297245422e-11,
          4.0632091750788316e-11,
          3.962801348599263e-11,
          6.647083694722048e-11,
          4.8149596949157056e-11,
          7.450751803997154e-11,
          7.385308999475407e-11,
          7.692849153540207e-11,
          6.146670186493078e-11,
          1.273937183038832e-10,
          4.8759622076812964e-11,
          9.17351144372651e-11,
          7.755912316098106e-11,
          6.819149727657461e-11,
          8.166427600055601e-11,
          6.418650768145094e-11,
          1.6469829256562776e-10,
          6.855072777248062e-11,
          7.456863876240796e-11,
          1.2945773276151542e-10,
          6.137143786850547e-11,
          6.974044985879317e-11,
          6.63035210049467e-11,
          7.587794296540213e-11,
          7.162816690529524e-11,
          1.2759129850290866e-10,
          8.150406794233194e-11,
          1.6172305395778675e-10,
          7.29527077042787e-11,
          8.288654434827044e-11,
          2.1694986221776403e-10,
          1.8951180824579603e-10,
          9.351218569542269e-11,
          9.722588284494726e-11,
          9.627661181194642e-11,
          1.0981586926359657e-10,
          7.575095864699373e-11,
          1.0055649068023407e-10,
          9.440426701260177e-11,
          9.363709443075047e-11,
          9.682712961456019e-11,
          9.38745789185082e-11,
          2.2029314818335035e-10,
          1.1842113777125704e-10,
          1.8566412385439735e-10,
          1.5166302032561599e-10,
          9.181588448339122e-11,
          7.821190148065113e-11,
          1.8771506131846468e-10,
          8.378887139443597e-11,
          1.7778098296721827e-10,
          7.419520945090252e-11,
          1.1155611134981234e-10,
          1.25833712136848e-10,
          1.2588520664023632e-10,
          9.096666895692565e-11,
          1.0470980772794534e-10,
          9.527040331116158e-11,
          1.02635104653158e-10,
          8.9337498637705e-11,
          7.729177981516037e-11,
          8.615724061455853e-11,
          7.236248105340984e-11,
          7.533206981993857e-11,
          9.0368428208809e-11,
          1.597186309255749e-10,
          9.295411355996726e-11,
          9.537222225496601e-11,
          7.24132668223582e-11,
          1.0143640852908074e-10,
          7.832255780320453e-11,
          7.510751289312575e-11,
          7.730447653963555e-11,
          9.447356070119524e-11,
          1.23961315153653e-10,
          9.802814981889215e-11,
          1.453858212076808e-10,
          1.5616753031368682e-12,
          1.1647806492135102e-12,
          6.482975502630556e-13,
          4.979056626312092e-13,
          6.76658456584075e-13,
          5.06613879288389e-13,
          3.464474759081194e-13,
          5.329645816320012e-13,
          6.990054844184692e-13,
          7.867353699348113e-13,
          7.007368642444321e-13,
          4.320555664316439e-13,
          7.083347369221743e-13,
          5.166613331255178e-13,
          4.137973275896115e-13,
          3.0124622910917585e-13,
          5.585301371831542e-13,
          4.198763706119737e-13,
          1.236644438756042e-12,
          4.120236588196066e-13,
          1.2523536837699317e-12,
          8.0019348568165e-13,
          7.86185540959059e-13,
          7.13829206056891e-13,
          8.589201602972385e-13,
          1.6998773052721185e-12,
          1.3784662021999051e-12,
          6.392046948373222e-13,
          2.7528814511949144e-12,
          2.0857445844000306e-12,
          1.8992464871364864e-12,
          6.000020823964968e-13,
          1.4420276585361993e-12,
          6.056661435599255e-13,
          1.5791569304958774e-12,
          1.4235284210872663e-12,
          1.7386523897167092e-12,
          1.454773265240076e-12,
          1.5120207416036508e-12,
          1.8032978287246777e-12,
          1.6003498566466453e-12,
          1.4873429528778988e-12,
          1.7647759438688835e-12,
          9.173258034750325e-13,
          9.75911187470126e-13,
          1.910779217830359e-12,
          1.0883056604306974e-12,
          1.9022234298553175e-12,
          1.7533803831266696e-12,
          1.5644758658110514e-12,
          2.172192225323926e-12,
          4.7291702790683e-12,
          4.198821816390246e-12,
          3.2391943864905236e-12,
          5.2901483126769e-12,
          4.478580038963116e-12,
          5.136750045304136e-12,
          2.1068349683820557e-12,
          4.714240551096214e-12,
          5.358453760658565e-12,
          5.1864066914299585e-12,
          5.5195312719508846e-12,
          4.88631935654905e-12,
          1.0801507389902136e-12,
          4.2864095426307374e-12,
          4.987203436732685e-12,
          1.6769805485766446e-12,
          2.0476664576822007e-12,
          2.267656075352381e-12,
          2.2329491953028194e-12,
          2.5028008616407503e-12,
          4.080684278042694e-12,
          1.7704956377650652e-12,
          2.1744518377195447e-12,
          2.8640462482067455e-12,
          1.2492381033836768e-12,
          1.4958346636156206e-12,
          9.488719589191908e-13,
          1.8308427905421828e-12,
          1.0242351788116662e-12,
          7.711172399545179e-13,
          1.3200932419319696e-12,
          1.2852215240191645e-12,
          1.1372080151551216e-12,
          7.555315704447719e-13,
          1.0466621440907796e-12,
          1.248721618314633e-12,
          1.6662657356668594e-12,
          1.8329945846615145e-12,
          5.084221920336211e-12,
          1.9906345914751657e-12,
          2.164864940228089e-12,
          1.9205157624085787e-12,
          2.3381587942373125e-12,
          2.3140870811264734e-12,
          2.997081990091439e-12,
          2.544498369687072e-12,
          2.5435264108741362e-12,
          2.994548103630433e-12,
          3.4726625401829334e-12,
          4.744630577698187e-12,
          3.1237302185209893e-12,
          4.26546737750451e-12,
          3.804988977254551e-12,
          4.2254348609354296e-12,
          6.385439616373361e-12,
          3.660357845437919e-12,
          4.471912224114957e-12,
          3.256095975031062e-12,
          4.073188234522877e-12,
          1.2577806043897745e-11,
          4.137531632276417e-12,
          3.538492973996882e-12,
          3.783652878436685e-12,
          3.3271788617520176e-12,
          3.498432836981281e-12,
          2.862089618088778e-12,
          3.0441147136419995e-12,
          3.204002706768218e-12,
          4.412925926008673e-12,
          3.3575125260429606e-12,
          8.71133836373247e-12,
          3.685370689921417e-12,
          5.0559807250632765e-12,
          4.73201447676702e-12,
          1.257614879218588e-11,
          3.732768702488261e-12,
          3.741737655762629e-12,
          4.314890408064902e-12,
          3.802157887969431e-12,
          3.99288489644014e-12,
          3.621709301041794e-12,
          4.630248731742123e-12,
          6.914397805373627e-12,
          3.944005525157034e-12,
          4.6841287416002546e-12,
          5.397065865843157e-12,
          5.102778278092804e-12,
          1.4903991233077452e-11,
          4.125432691300964e-12,
          5.904673316101406e-12,
          4.394959249524323e-12,
          3.395315935698434e-12,
          3.3277928289516727e-12,
          5.330363038106036e-12,
          9.223587755650495e-12,
          3.967897259899286e-12,
          4.8254788780511004e-12,
          6.2280593256561974e-12,
          6.321686814014999e-12,
          7.340838879646417e-12,
          6.576876614983163e-12,
          8.679422619100371e-12,
          1.87223684432325e-11,
          6.567023442143436e-12,
          6.919596168597661e-12,
          4.47783014088544e-12,
          6.184942895848387e-12,
          7.418070665965632e-12,
          1.4424604886172313e-11,
          4.8957274381330726e-12,
          6.824942601147319e-12,
          6.703881676990629e-12,
          4.890745071931615e-12,
          6.123238253412693e-12,
          7.057213173157017e-12,
          5.622862265731998e-12,
          8.060451496359523e-12,
          6.1645537030616755e-12,
          7.57970091996118e-12,
          5.155326993365339e-12,
          8.09847630257899e-12,
          5.933561880327388e-12,
          7.892100827329449e-12,
          9.089693999448266e-12,
          1.6888304796355668e-11,
          6.114772732019993e-12,
          7.545998259712736e-12,
          8.050219590661546e-12,
          6.475678380742904e-12,
          5.617900463669737e-12,
          6.317737247532616e-12,
          6.979755119974576e-12,
          8.093058705547515e-12,
          5.195793524538884e-12,
          7.44230985539089e-12,
          6.413967530840539e-12,
          7.589051089045207e-12,
          7.729572636660287e-12,
          7.87663260825607e-12,
          1.6994435205862228e-11,
          8.163558803916576e-12,
          6.3393639491580025e-12,
          8.046850020480433e-12,
          1.0013066867037387e-11,
          6.6581287278305605e-12,
          8.560679347377965e-12,
          1.9216496370540673e-11,
          3.5342066792769186e-12,
          1.121048464659756e-11,
          9.069241783605614e-12,
          1.0771657095264883e-11,
          8.63349847647436e-12,
          6.5526719346695754e-12,
          7.782272346363297e-12,
          1.1945830437915565e-11,
          1.2121322420125133e-11,
          1.2960462651751562e-11,
          1.3405059659695964e-11,
          1.191416178316421e-11,
          1.7716247791980836e-11,
          1.3975254482132028e-11,
          1.5656877182738503e-11,
          2.0673684202062616e-11,
          1.2738114397203036e-11,
          1.3496138566623151e-11,
          1.493286858539967e-11,
          1.649726360331346e-11,
          1.682540394051558e-11,
          1.5819832407214805e-11,
          1.45288270451186e-11,
          1.282613156550647e-11,
          1.6310542545201617e-11,
          1.9660317891898828e-11,
          1.5790323233045756e-11,
          1.7076636338395886e-11,
          2.597389875383648e-11,
          1.5962491687423998e-11,
          1.397280344630796e-11,
          1.6172498644224903e-11,
          1.5498420014325534e-11,
          1.508408942087372e-11,
          1.5737241473189108e-11,
          1.499354745284605e-11,
          1.4411694363244069e-11,
          1.4801476514418497e-11,
          1.411203793607429e-11,
          1.4611783152861733e-11,
          1.3963354994749944e-11,
          1.3870486051583376e-11,
          1.4256804689332133e-11,
          1.435109854692576e-11,
          1.999398701561612e-11,
          1.1292938996875392e-11,
          1.5842677219676266e-11,
          1.64936695124771e-11,
          2.355486635385503e-11,
          6.837849176145755e-12,
          1.674011714024794e-11,
          1.4611911721687257e-11,
          1.7668793819572923e-11,
          1.433501769583356e-11,
          1.5244429406093473e-11,
          1.5697719205228757e-11,
          1.5066365733969376e-11,
          1.6379270866571068e-11,
          1.5697661093114557e-11,
          1.4367423130787882e-11,
          1.6214479921863918e-11,
          1.5227064042899758e-11,
          1.6561014836660887e-11,
          1.645737360452566e-11,
          2.4520749525201462e-11,
          1.324374394677683e-11,
          1.852791907403217e-11,
          1.824303397890794e-11,
          1.8870617203673683e-11,
          1.8365837891931695e-11,
          1.887091735631605e-11,
          1.9391038342727315e-11,
          1.7450650677604533e-11,
          1.7301971943085662e-11,
          1.7949563604290887e-11,
          1.753284152665888e-11,
          1.6789361341098188e-11,
          1.850841673652623e-11,
          1.8842555033567737e-11,
          1.8565360755259963e-11,
          1.553701506171357e-11,
          2.1218589799842253e-11,
          2.1129858546560337e-11,
          1.8796711540565807e-11,
          9.424596969059969e-12,
          1.9368709527822793e-11,
          1.4155121023543453e-11,
          1.9650948128219424e-11,
          2.4264401853459404e-11,
          3.143639511694619e-11,
          3.4522767725878855e-11,
          1.9987901708344844e-11,
          1.870555727934457e-11,
          1.9367562068239216e-11,
          2.1471823436665017e-11,
          3.115216608793798e-11,
          2.0040101987579033e-11,
          1.560781251686842e-11,
          1.718993924282327e-11,
          2.325919689222901e-11,
          2.3467957329531515e-11,
          2.1473448783261556e-11,
          2.4739707281263534e-11,
          3.4663778180740724e-11,
          2.2131042489754805e-11,
          1.5369780378386624e-11,
          1.789881486099747e-11,
          2.3477038712780886e-11,
          2.233920170738184e-11,
          1.4249557920454332e-11,
          2.14777298136201e-11,
          1.6161820343998438e-11,
          1.7031098306149192e-11,
          1.550814400241668e-11,
          1.6553393207712507e-11,
          1.5634094399849146e-11,
          1.512447573011577e-11,
          1.4434480604234912e-11,
          4.7112205993813e-12,
          1.4826898034244083e-11,
          1.860516471290604e-11,
          1.3650777140586375e-11,
          1.2520827421400315e-11,
          1.586766374993941e-11,
          1.585333200362258e-11,
          1.2994258222211668e-11,
          1.3547261866355402e-11,
          1.1513033849544063e-11,
          1.3852309284660656e-11,
          1.1825529699405927e-11,
          1.2354428851210852e-11,
          8.339836636247663e-12,
          1.0588049857940562e-11,
          5.562697824846343e-12,
          1.2776739501093352e-11,
          1.038500812460177e-11,
          1.089683405460112e-11,
          1.224595910553787e-11,
          1.5682240521383658e-11,
          9.450118095092286e-12,
          1.3047569746786498e-11,
          1.1667782836510172e-11,
          1.0843950930873299e-11,
          1.1459992437560044e-11,
          1.1332247997083822e-11,
          1.3546265208432593e-11,
          1.4954797105127086e-11,
          9.1539928370868e-12,
          1.7686792492640744e-11,
          1.552815184792565e-11,
          1.4429029706770174e-11,
          8.057373001425175e-12,
          1.1972437614853453e-11,
          1.041094961894669e-11,
          1.014596232854065e-11,
          1.1481956009542385e-11,
          1.41979324867669e-11,
          1.88368097703444e-11,
          1.90296024052041e-11,
          1.6355951353252193e-11,
          2.0958570199003402e-11,
          2.195694241277321e-11,
          3.177936664358032e-11,
          2.5014744351365068e-11,
          2.6007670016351824e-11,
          1.5056756915096178e-11,
          2.8944204816354805e-11,
          2.5782085099783917e-11,
          2.4066195042819028e-11,
          1.3696893275341982e-11,
          2.5564559539430445e-11,
          2.5627944434251238e-11,
          2.511740247465693e-11,
          2.7695497469308808e-11,
          2.8236102307460245e-11,
          2.727143774043622e-11,
          1.3963962131867279e-11,
          2.3719839560938962e-11,
          2.4118299032954705e-11,
          2.4889363975034806e-11,
          2.198200877150837e-11,
          2.3621398782558675e-11,
          2.2957640083312186e-11,
          2.3886452843228516e-11,
          2.0657100891170264e-11,
          2.1593681790723453e-11,
          2.3811394291094502e-11,
          2.4312879459429036e-11,
          2.280067707438555e-11,
          1.9420595086500422e-11,
          2.2436729874667366e-11,
          1.931772573328096e-11,
          1.8594314131950584e-11,
          5.4121472700284355e-12,
          2.2565620594892025e-11,
          2.592223644220481e-11,
          1.493021615094494e-11,
          4.117836444929298e-11,
          2.402394461769746e-11,
          1.3159703457014446e-11,
          1.5011030807267637e-11,
          2.7249339984537303e-11,
          2.0079123750148938e-11,
          1.2977599657239442e-11,
          1.9422265273828443e-11,
          1.5333679455231546e-11,
          1.3538920957994567e-11,
          8.788714384171657e-12,
          1.4815999410722317e-11,
          1.791183289533517e-11,
          2.3516183449191536e-11,
          2.3203060925928316e-11,
          1.8874293882226896e-11,
          1.6931632025995574e-11,
          2.171214627902184e-11,
          1.0992170676098586e-11,
          2.3652917874612384e-11,
          2.2919411305225312e-11,
          1.856483494698487e-11,
          1.2444535369745262e-11,
          1.4790428858748755e-11,
          1.8009151297392836e-11,
          1.674716341642812e-11,
          1.6798714560365086e-11,
          6.0511372770995484e-12,
          3.779746681143302e-12,
          4.858515513763705e-12,
          2.1816039365321916e-12,
          5.8407414377691266e-12,
          1.2158093771236728e-11,
          3.0343864098526653e-12,
          6.812109126181276e-12,
          3.040213149146257e-12,
          5.304875395987353e-12,
          1.5395510885121654e-11,
          1.1958429121129593e-11,
          3.923068232514593e-12,
          5.754358681163747e-12,
          6.377779278057976e-12,
          6.018631859565222e-12,
          1.0606806867093333e-11,
          8.734162250150454e-12,
          1.3204459787493547e-11,
          7.435605923230221e-12,
          1.0900311925153483e-11,
          1.1848482884438695e-11,
          2.9062431008818e-11,
          3.557144566182935e-11,
          2.8353663219494087e-11,
          1.3685557275845288e-11,
          3.686522438588682e-11,
          4.0993245948557526e-11,
          3.739084708372694e-11,
          3.5187504304088864e-11,
          3.3713794993270445e-11,
          3.898020003667282e-11,
          3.378082670244355e-11,
          3.67218549328747e-11,
          4.3067484972204814e-11,
          4.337783074090192e-11,
          4.7019715196934e-11,
          2.732101900806287e-11,
          5.315534902572643e-11,
          4.5218653220600724e-11,
          4.3730491345844414e-11,
          4.462476864349932e-11,
          5.2557653651084717e-11,
          4.0165971358426913e-11,
          3.7032200223078996e-11,
          3.977105810321964e-11,
          3.032827112346038e-11,
          3.0082987107099184e-11,
          3.19004156124263e-11,
          3.809584987257019e-11,
          2.0870113022568982e-11,
          2.0317586441767894e-11,
          1.1228210039006447e-11,
          1.8214872345698355e-11,
          2.664183384906474e-11,
          2.9049038742278665e-11,
          2.784942799600652e-11,
          1.8288989622305876e-11,
          1.825957888590947e-11,
          1.999375433180962e-11,
          2.219159297135432e-11,
          2.8610687395008273e-11,
          3.613916416106691e-11,
          2.260497226786041e-11,
          2.2372877542634614e-11,
          2.1594296090456806e-11,
          4.294998771287608e-12,
          1.6249289476181766e-11,
          1.6209793057543764e-11,
          1.9676192726137705e-11,
          2.56564016453399e-11,
          2.5038814236580097e-11,
          2.5628846142764688e-11,
          2.5041306742503716e-11,
          2.5910501929810523e-11,
          3.0828062546283186e-11,
          5.2499185033424935e-11,
          3.813705817071829e-11,
          4.0302613999182315e-11,
          4.0810478337387996e-11,
          4.098476652632685e-11,
          3.906345100986419e-11,
          4.2585408062909616e-11,
          4.42613188211949e-11,
          4.171465721183745e-11,
          4.637630646205243e-11,
          4.993932649811454e-11,
          3.6232192709414165e-11,
          5.045885082778908e-11,
          5.07833750973904e-11,
          4.249136495662335e-11,
          5.962347954597567e-11,
          3.9833365017120884e-11,
          1.2070953627708224e-11,
          3.848468769281946e-11,
          4.165747205987605e-11,
          3.9382936269944065e-11,
          4.3583594013801677e-11,
          4.58812171511112e-11,
          4.336237287512451e-11,
          1.9580676995221127e-11,
          4.002086531255692e-11,
          3.844941044244798e-11,
          4.2044220014769585e-11,
          2.1290071903135956e-11,
          6.078551406210584e-11,
          3.9665659626375894e-11,
          4.819517673873624e-11,
          4.212822367542296e-11,
          4.5071651619152303e-11,
          4.972027259769599e-11,
          5.087340147343877e-11,
          5.433399507789991e-11,
          5.270723858521783e-11,
          3.717888334789435e-11,
          5.896892182152939e-11,
          6.258909758842063e-11,
          5.703579798995962e-11,
          4.1706095501041694e-11,
          5.101713747615825e-11,
          6.189978606673062e-11,
          4.86538047129527e-11,
          7.618822169155418e-11,
          1.5473875830497562e-11,
          6.824174178267897e-11,
          1.2074859780626957e-10,
          6.059005720890015e-11,
          5.6249052943300035e-11,
          6.903417787063066e-11,
          7.089808195151313e-11,
          7.037602110392015e-11,
          6.91033075110261e-11,
          6.95714071504465e-11,
          5.576640599527084e-11,
          5.7818734636505956e-11,
          6.27760563118816e-11,
          7.081224647454584e-11,
          6.768783833773866e-11,
          6.896601526643604e-11,
          2.3493917461134984e-11,
          6.796482065643594e-11,
          5.96357719125984e-11,
          5.984347938200647e-11,
          7.147148464860707e-11,
          6.019630391376757e-11,
          5.858742499704184e-11,
          4.601430775295096e-11,
          7.606176993017962e-11,
          4.9787695116183906e-11,
          5.315631340695481e-11,
          8.565558537427841e-11,
          4.796782245694984e-11,
          4.61191923377931e-11,
          4.087850952966015e-11,
          3.972954198110774e-11,
          4.1165125634539304e-11,
          4.824349410746328e-11,
          4.90182386658598e-11,
          4.977066544547107e-11,
          4.916136556959877e-11,
          4.3833398349108465e-11,
          3.911460030099406e-11,
          4.638546070389447e-11,
          4.476231826771906e-11,
          4.796229845320739e-11,
          2.9219104977914475e-11,
          4.2799714246564834e-11,
          5.937398818773342e-11,
          3.956076961349062e-11,
          5.033824050634182e-11,
          4.08617057306471e-11,
          4.4159278762476686e-11,
          3.8844393486851297e-11,
          3.8100934388473464e-11,
          4.3172763766969784e-11,
          3.603447745989063e-11,
          3.2359987506684144e-11,
          3.1219289795146214e-11,
          3.2071303696495473e-11,
          2.913762562414851e-11,
          3.073854008612566e-11,
          3.0342275531242554e-11,
          3.755162272575964e-11,
          3.766120695894401e-11,
          3.461171323453271e-11,
          3.149906174813272e-11,
          4.4413930967386924e-11,
          3.8285346981430455e-11,
          4.1074860800846214e-11,
          3.843779267689102e-11,
          4.1627525013470335e-11,
          1.8199934138510204e-11,
          3.6546767849235407e-11,
          3.767098825008789e-11,
          3.457038647690247e-11,
          3.2082121818507634e-11,
          4.0712794969701413e-11,
          3.5025290794404895e-11,
          3.6354867180569716e-11,
          3.097351756213111e-11,
          6.340222366753703e-11,
          3.961221807032686e-11,
          1.93241003533252e-11,
          3.6864276971366616e-11,
          3.903866434055676e-11,
          3.746928853352164e-11,
          4.883458283666425e-11,
          2.885483659337222e-11,
          4.490532026003564e-11,
          5.02827712515357e-11,
          4.472955094586953e-11,
          1.841616516525941e-11,
          4.320584754694347e-11,
          2.706974943754679e-11,
          2.8853228364024217e-11,
          2.7514966574341916e-11,
          3.214446476583733e-11,
          3.8362068903112124e-11,
          3.83746122632245e-11,
          3.4772982832086125e-11,
          4.279026291403897e-11,
          1.687997361222615e-11,
          3.598985164457567e-11,
          3.1174795623048764e-11,
          3.501005111292265e-11,
          3.41041323368489e-11,
          3.574773686459788e-11,
          3.6196094811554016e-11,
          1.4223125814111018e-11,
          3.2057212383439195e-11,
          3.108236102806101e-11,
          3.474651952305166e-11,
          2.820747209018338e-11,
          2.860315806856917e-11,
          1.807179372604813e-11,
          3.096645048327645e-11,
          3.4274619538210855e-11,
          3.4450679964823504e-11,
          3.265380039430467e-11,
          3.16515690402948e-11,
          3.040080077818656e-11,
          1.4762133533220013e-11,
          2.8487043444412302e-11,
          3.140598910559762e-11,
          1.0723492501759072e-11,
          3.9782903499105556e-11,
          3.8391711008112117e-11,
          4.524716063755447e-11,
          4.182024643271159e-11,
          3.828052248101399e-11,
          3.350377792103604e-11,
          3.4766239904760396e-11,
          3.736486435610272e-11,
          4.054644149347544e-11,
          5.289530424311044e-11,
          4.5636164102939835e-11,
          4.156969940047559e-11,
          3.795225643948075e-11,
          3.6420348162160516e-11,
          2.7072930801434004e-11,
          2.407600920240665e-11,
          2.8134365728638302e-11,
          4.239260478597812e-11,
          2.9999872055914666e-11,
          3.086248387146609e-11,
          3.15008993670755e-11,
          3.191713982688361e-11,
          3.782898513678276e-11,
          3.2634689363975774e-11,
          3.452818945971346e-11,
          2.177161290517166e-11,
          3.4817039151753714e-11,
          1.5430405465568093e-11,
          3.992226796322675e-11,
          1.8365169903362092e-11,
          4.4274701659170704e-11,
          4.346306593503147e-11,
          4.292017386255162e-11,
          3.910172725827312e-11,
          4.099266401740577e-11,
          6.422780623277396e-11,
          4.784872018869439e-11,
          4.7820954449451957e-11,
          5.506388419498123e-11,
          2.4743605859065317e-11,
          5.5185727466263624e-11,
          5.6530907477449604e-11,
          6.119860768181306e-11,
          6.44704701552549e-11,
          6.725687624995975e-11,
          2.3196810557055095e-11,
          5.706707416334072e-11,
          5.51931456766426e-11,
          5.473856780029764e-11,
          5.927243741685449e-11,
          6.226975601131615e-11,
          6.374266634603019e-11,
          2.2320125482959855e-11,
          1.9851603482529108e-11,
          5.4434542994880545e-11,
          5.592494554476602e-11,
          5.784473342274267e-11,
          6.107284792190587e-11,
          6.202081997850358e-11,
          7.01741802989737e-11,
          6.340300936268053e-11,
          8.874094988920358e-11,
          5.873129310847187e-11,
          5.728023304621182e-11,
          5.46011843443984e-11,
          7.370829444900378e-11,
          8.46423207591368e-11,
          5.769807567891382e-11,
          6.035672419888616e-11,
          4.815681051523307e-11,
          6.025259352159107e-11,
          5.688297873739541e-11,
          9.626317654891663e-11,
          5.745371879915239e-11,
          5.379310819798198e-11,
          5.358729120675221e-11,
          5.400876106021671e-11,
          6.439454220663024e-11,
          6.252359039773054e-11,
          6.014194207739979e-11,
          5.766899224535292e-11,
          5.257424111405286e-11,
          5.658606656442936e-11,
          5.090062862723442e-11,
          5.0017119155085524e-11,
          5.160992430736715e-11,
          6.592344531356484e-11,
          5.29121637940701e-11,
          5.426740710681447e-11,
          5.676083250169775e-11,
          6.043492897754798e-11,
          5.783519435515139e-11,
          5.6892136838938735e-11,
          6.178888248192774e-11,
          5.392291952809856e-11,
          6.638396791750418e-11,
          8.124931604119185e-11,
          2.962480840463842e-11,
          5.162374582387692e-11,
          4.945380841040607e-11,
          5.206844884881037e-11,
          4.748525922181428e-11,
          5.3334374132749424e-11,
          5.3423160745824953e-11,
          4.9289940018753874e-11,
          6.943396884977402e-11,
          6.525425880427777e-11,
          4.457276233822113e-11,
          4.1609476917189134e-11,
          4.0697621340401135e-11,
          4.277292318635554e-11,
          2.6248577171771068e-11,
          4.2337465537121604e-11,
          3.946901558594403e-11,
          4.282729045989703e-11,
          4.409729874422317e-11,
          4.642806084220048e-11,
          1.8049316570071033e-11,
          7.49845571873881e-11,
          4.9834680634774535e-11,
          7.277054740889925e-11,
          4.736494831279237e-11,
          4.819162543599389e-11,
          4.6175848768513005e-11,
          2.3363497750605585e-11,
          4.6342354502621494e-11,
          4.940866218062806e-11,
          4.8096297945212024e-11,
          4.2132437413889253e-11,
          4.4956099187719796e-11,
          4.4725192177989416e-11,
          1.557620670130795e-11,
          3.849085719115075e-11,
          4.204136991384281e-11,
          4.544286159892588e-11,
          4.5765826518773095e-11,
          5.085551947791602e-11,
          5.2541899832563e-11,
          4.841765286460894e-11,
          5.565834695459051e-11,
          4.504870403984419e-11,
          4.426744478716311e-11,
          5.4809727304207335e-11,
          1.3373896491538172e-11,
          5.949746043101873e-11,
          4.472468327897316e-11,
          4.421709484408661e-11,
          6.351638196201634e-11,
          4.13985773934047e-11,
          5.3842588052193875e-11,
          4.148281243215353e-11,
          4.4380030029404847e-11,
          5.1496738781516456e-11,
          4.7130347041877753e-11,
          4.578675008796978e-11,
          4.4896691803029877e-11,
          4.994412820984419e-11,
          5.073197328989015e-11,
          4.8386092456613734e-11,
          5.678600589826143e-11,
          5.554905641706e-11,
          5.4693714985235427e-11,
          5.431834975401952e-11,
          3.197473829830526e-11,
          2.3455750419445635e-11,
          4.7891554830954024e-11,
          2.358955914957952e-11,
          6.271599892530147e-11,
          4.6071443824849735e-11,
          4.361162935772952e-11,
          4.827186392922481e-11,
          4.2445951202595436e-11,
          4.4919896976359705e-11,
          4.0151799243984524e-11,
          4.053808783021827e-11,
          7.312048024338261e-11,
          4.6765906343221437e-11,
          1.2033946595073669e-11,
          4.693450226009977e-11,
          4.606778571530237e-11,
          3.9140673134063496e-11,
          4.788535854594457e-11,
          4.080362523839715e-11,
          1.4038226954117135e-11,
          4.055282133481093e-11,
          3.9703666149508164e-11,
          4.3789398719005764e-11,
          4.101854124077675e-11,
          4.9062123193249044e-11,
          4.194681019046909e-11,
          3.735768300028582e-11,
          5.3689668401936856e-11,
          4.926915782646403e-11,
          3.7306810859351933e-11,
          4.0518990087536e-11,
          4.1033481086558195e-11,
          4.516839575374951e-11,
          4.2424790310468685e-11,
          4.2115018613770766e-11,
          8.256278317986979e-11,
          4.386845528886103e-11,
          4.673174294220055e-11,
          8.285760908478634e-11,
          4.690021207774816e-11,
          5.426660073515521e-11,
          4.6047304736222546e-11,
          4.9783081756569086e-11,
          4.6806296834534635e-11,
          3.0716593345952564e-11,
          7.750718646200479e-11,
          4.5058520995268446e-11,
          5.582711135656888e-11,
          4.793546532168552e-11,
          4.862953613447626e-11,
          6.158051364552224e-11,
          4.146798198941309e-11,
          4.0108930076114414e-11,
          4.717659791238379e-11,
          5.097922955161874e-11,
          5.2974460248298154e-11,
          4.614444995952289e-11,
          5.6065762626085363e-11,
          4.920181113976818e-11,
          4.806849943464579e-11,
          4.5543235996902524e-11,
          4.790343123125316e-11,
          4.5578753432953884e-11,
          4.511490673458742e-11,
          4.305996731777577e-11,
          4.954786493092298e-11,
          6.710627949956492e-11,
          5.186155400349887e-11,
          5.1707878305567147e-11,
          5.1521511074754e-11,
          5.1193832323385965e-11,
          5.060764550075543e-11,
          4.9520928075789196e-11,
          6.649927720222168e-11,
          4.790777446144305e-11,
          4.975205176990199e-11,
          5.214780502435877e-11,
          4.950159737685991e-11,
          4.8690704697718343e-11,
          3.895620994841215e-11,
          8.956082427529066e-12,
          4.9488893265861474e-11,
          5.711230343179156e-11,
          4.8947932160235875e-11,
          5.022817006778182e-11,
          4.904662904883751e-11,
          5.93298668461653e-11,
          5.215618673672054e-11,
          6.113736966634609e-11,
          5.232313607798175e-11,
          4.826366360382861e-11,
          4.6384983265895715e-11,
          1.3587336049119237e-11,
          1.5779479870950043e-11,
          5.408495875370861e-11,
          5.5783700418946026e-11,
          5.941258455041319e-11,
          5.6719832385714564e-11,
          5.881517963477691e-11,
          5.554675438941482e-11,
          5.116698802832958e-11,
          5.724154274800564e-11,
          5.1327932722681555e-11,
          5.402542026389795e-11,
          2.6381070395251377e-11,
          5.673226618977159e-11,
          7.687179814212464e-11,
          5.3546815086706185e-11,
          5.812237740429159e-11,
          5.325208916152841e-11,
          2.7271441286008487e-11,
          5.3716954435540057e-11,
          5.33923096754012e-11,
          5.665615549676438e-11,
          5.956663644114695e-11,
          5.7536258507061716e-11,
          6.397380158957056e-11,
          6.262614016574914e-11,
          2.8920104586389704e-11,
          6.875288942477095e-11,
          6.422927563796967e-11,
          1.6845749980737824e-11,
          5.5400903823229896e-11,
          5.462875883045982e-11,
          6.28460697675442e-11,
          3.300851659667236e-11,
          6.095091662962041e-11,
          4.016276967721725e-11,
          5.812566284912362e-11,
          2.908194691698905e-11,
          5.116454187735225e-11,
          5.27865973908711e-11,
          5.196334700043112e-11,
          5.3591985462390584e-11,
          5.745980648194089e-11,
          5.82334188412175e-11,
          5.412901139846144e-11,
          5.543767423521078e-11,
          6.631254144534908e-11,
          5.228682412256826e-11,
          7.170896487375313e-11,
          5.34061318020334e-11,
          1.4614135306233718e-11,
          5.3942571993825796e-11,
          5.875504125183412e-11,
          5.7522739850828404e-11,
          5.3835867240341124e-11,
          5.741520089355132e-11,
          5.97007704906794e-11,
          3.1304610166090335e-11,
          5.67168097882414e-11,
          6.03989310890851e-11,
          5.167973979563986e-11,
          5.2085781472701174e-11,
          4.9947876414399e-11,
          4.82451169144208e-11,
          5.109153703141999e-11,
          4.834548912724135e-11,
          5.3578139304259346e-11,
          5.0515140125222436e-11,
          4.83417976440004e-11,
          5.3273249334536405e-11,
          4.788056663535515e-11,
          5.224072110111147e-11,
          5.2885316493964e-11,
          5.004467602915355e-11,
          4.6055009643766736e-11,
          5.7501998934403394e-11,
          4.695323945649418e-11
         ],
         "y0": " ",
         "yaxis": "y"
        }
       ],
       "layout": {
        "legend": {
         "tracegroupgap": 0
        },
        "margin": {
         "t": 60
        },
        "template": {
         "data": {
          "bar": [
           {
            "error_x": {
             "color": "#2a3f5f"
            },
            "error_y": {
             "color": "#2a3f5f"
            },
            "marker": {
             "line": {
              "color": "#E5ECF6",
              "width": 0.5
             },
             "pattern": {
              "fillmode": "overlay",
              "size": 10,
              "solidity": 0.2
             }
            },
            "type": "bar"
           }
          ],
          "barpolar": [
           {
            "marker": {
             "line": {
              "color": "#E5ECF6",
              "width": 0.5
             },
             "pattern": {
              "fillmode": "overlay",
              "size": 10,
              "solidity": 0.2
             }
            },
            "type": "barpolar"
           }
          ],
          "carpet": [
           {
            "aaxis": {
             "endlinecolor": "#2a3f5f",
             "gridcolor": "white",
             "linecolor": "white",
             "minorgridcolor": "white",
             "startlinecolor": "#2a3f5f"
            },
            "baxis": {
             "endlinecolor": "#2a3f5f",
             "gridcolor": "white",
             "linecolor": "white",
             "minorgridcolor": "white",
             "startlinecolor": "#2a3f5f"
            },
            "type": "carpet"
           }
          ],
          "choropleth": [
           {
            "colorbar": {
             "outlinewidth": 0,
             "ticks": ""
            },
            "type": "choropleth"
           }
          ],
          "contour": [
           {
            "colorbar": {
             "outlinewidth": 0,
             "ticks": ""
            },
            "colorscale": [
             [
              0,
              "#0d0887"
             ],
             [
              0.1111111111111111,
              "#46039f"
             ],
             [
              0.2222222222222222,
              "#7201a8"
             ],
             [
              0.3333333333333333,
              "#9c179e"
             ],
             [
              0.4444444444444444,
              "#bd3786"
             ],
             [
              0.5555555555555556,
              "#d8576b"
             ],
             [
              0.6666666666666666,
              "#ed7953"
             ],
             [
              0.7777777777777778,
              "#fb9f3a"
             ],
             [
              0.8888888888888888,
              "#fdca26"
             ],
             [
              1,
              "#f0f921"
             ]
            ],
            "type": "contour"
           }
          ],
          "contourcarpet": [
           {
            "colorbar": {
             "outlinewidth": 0,
             "ticks": ""
            },
            "type": "contourcarpet"
           }
          ],
          "heatmap": [
           {
            "colorbar": {
             "outlinewidth": 0,
             "ticks": ""
            },
            "colorscale": [
             [
              0,
              "#0d0887"
             ],
             [
              0.1111111111111111,
              "#46039f"
             ],
             [
              0.2222222222222222,
              "#7201a8"
             ],
             [
              0.3333333333333333,
              "#9c179e"
             ],
             [
              0.4444444444444444,
              "#bd3786"
             ],
             [
              0.5555555555555556,
              "#d8576b"
             ],
             [
              0.6666666666666666,
              "#ed7953"
             ],
             [
              0.7777777777777778,
              "#fb9f3a"
             ],
             [
              0.8888888888888888,
              "#fdca26"
             ],
             [
              1,
              "#f0f921"
             ]
            ],
            "type": "heatmap"
           }
          ],
          "heatmapgl": [
           {
            "colorbar": {
             "outlinewidth": 0,
             "ticks": ""
            },
            "colorscale": [
             [
              0,
              "#0d0887"
             ],
             [
              0.1111111111111111,
              "#46039f"
             ],
             [
              0.2222222222222222,
              "#7201a8"
             ],
             [
              0.3333333333333333,
              "#9c179e"
             ],
             [
              0.4444444444444444,
              "#bd3786"
             ],
             [
              0.5555555555555556,
              "#d8576b"
             ],
             [
              0.6666666666666666,
              "#ed7953"
             ],
             [
              0.7777777777777778,
              "#fb9f3a"
             ],
             [
              0.8888888888888888,
              "#fdca26"
             ],
             [
              1,
              "#f0f921"
             ]
            ],
            "type": "heatmapgl"
           }
          ],
          "histogram": [
           {
            "marker": {
             "pattern": {
              "fillmode": "overlay",
              "size": 10,
              "solidity": 0.2
             }
            },
            "type": "histogram"
           }
          ],
          "histogram2d": [
           {
            "colorbar": {
             "outlinewidth": 0,
             "ticks": ""
            },
            "colorscale": [
             [
              0,
              "#0d0887"
             ],
             [
              0.1111111111111111,
              "#46039f"
             ],
             [
              0.2222222222222222,
              "#7201a8"
             ],
             [
              0.3333333333333333,
              "#9c179e"
             ],
             [
              0.4444444444444444,
              "#bd3786"
             ],
             [
              0.5555555555555556,
              "#d8576b"
             ],
             [
              0.6666666666666666,
              "#ed7953"
             ],
             [
              0.7777777777777778,
              "#fb9f3a"
             ],
             [
              0.8888888888888888,
              "#fdca26"
             ],
             [
              1,
              "#f0f921"
             ]
            ],
            "type": "histogram2d"
           }
          ],
          "histogram2dcontour": [
           {
            "colorbar": {
             "outlinewidth": 0,
             "ticks": ""
            },
            "colorscale": [
             [
              0,
              "#0d0887"
             ],
             [
              0.1111111111111111,
              "#46039f"
             ],
             [
              0.2222222222222222,
              "#7201a8"
             ],
             [
              0.3333333333333333,
              "#9c179e"
             ],
             [
              0.4444444444444444,
              "#bd3786"
             ],
             [
              0.5555555555555556,
              "#d8576b"
             ],
             [
              0.6666666666666666,
              "#ed7953"
             ],
             [
              0.7777777777777778,
              "#fb9f3a"
             ],
             [
              0.8888888888888888,
              "#fdca26"
             ],
             [
              1,
              "#f0f921"
             ]
            ],
            "type": "histogram2dcontour"
           }
          ],
          "mesh3d": [
           {
            "colorbar": {
             "outlinewidth": 0,
             "ticks": ""
            },
            "type": "mesh3d"
           }
          ],
          "parcoords": [
           {
            "line": {
             "colorbar": {
              "outlinewidth": 0,
              "ticks": ""
             }
            },
            "type": "parcoords"
           }
          ],
          "pie": [
           {
            "automargin": true,
            "type": "pie"
           }
          ],
          "scatter": [
           {
            "fillpattern": {
             "fillmode": "overlay",
             "size": 10,
             "solidity": 0.2
            },
            "type": "scatter"
           }
          ],
          "scatter3d": [
           {
            "line": {
             "colorbar": {
              "outlinewidth": 0,
              "ticks": ""
             }
            },
            "marker": {
             "colorbar": {
              "outlinewidth": 0,
              "ticks": ""
             }
            },
            "type": "scatter3d"
           }
          ],
          "scattercarpet": [
           {
            "marker": {
             "colorbar": {
              "outlinewidth": 0,
              "ticks": ""
             }
            },
            "type": "scattercarpet"
           }
          ],
          "scattergeo": [
           {
            "marker": {
             "colorbar": {
              "outlinewidth": 0,
              "ticks": ""
             }
            },
            "type": "scattergeo"
           }
          ],
          "scattergl": [
           {
            "marker": {
             "colorbar": {
              "outlinewidth": 0,
              "ticks": ""
             }
            },
            "type": "scattergl"
           }
          ],
          "scattermapbox": [
           {
            "marker": {
             "colorbar": {
              "outlinewidth": 0,
              "ticks": ""
             }
            },
            "type": "scattermapbox"
           }
          ],
          "scatterpolar": [
           {
            "marker": {
             "colorbar": {
              "outlinewidth": 0,
              "ticks": ""
             }
            },
            "type": "scatterpolar"
           }
          ],
          "scatterpolargl": [
           {
            "marker": {
             "colorbar": {
              "outlinewidth": 0,
              "ticks": ""
             }
            },
            "type": "scatterpolargl"
           }
          ],
          "scatterternary": [
           {
            "marker": {
             "colorbar": {
              "outlinewidth": 0,
              "ticks": ""
             }
            },
            "type": "scatterternary"
           }
          ],
          "surface": [
           {
            "colorbar": {
             "outlinewidth": 0,
             "ticks": ""
            },
            "colorscale": [
             [
              0,
              "#0d0887"
             ],
             [
              0.1111111111111111,
              "#46039f"
             ],
             [
              0.2222222222222222,
              "#7201a8"
             ],
             [
              0.3333333333333333,
              "#9c179e"
             ],
             [
              0.4444444444444444,
              "#bd3786"
             ],
             [
              0.5555555555555556,
              "#d8576b"
             ],
             [
              0.6666666666666666,
              "#ed7953"
             ],
             [
              0.7777777777777778,
              "#fb9f3a"
             ],
             [
              0.8888888888888888,
              "#fdca26"
             ],
             [
              1,
              "#f0f921"
             ]
            ],
            "type": "surface"
           }
          ],
          "table": [
           {
            "cells": {
             "fill": {
              "color": "#EBF0F8"
             },
             "line": {
              "color": "white"
             }
            },
            "header": {
             "fill": {
              "color": "#C8D4E3"
             },
             "line": {
              "color": "white"
             }
            },
            "type": "table"
           }
          ]
         },
         "layout": {
          "annotationdefaults": {
           "arrowcolor": "#2a3f5f",
           "arrowhead": 0,
           "arrowwidth": 1
          },
          "autotypenumbers": "strict",
          "coloraxis": {
           "colorbar": {
            "outlinewidth": 0,
            "ticks": ""
           }
          },
          "colorscale": {
           "diverging": [
            [
             0,
             "#8e0152"
            ],
            [
             0.1,
             "#c51b7d"
            ],
            [
             0.2,
             "#de77ae"
            ],
            [
             0.3,
             "#f1b6da"
            ],
            [
             0.4,
             "#fde0ef"
            ],
            [
             0.5,
             "#f7f7f7"
            ],
            [
             0.6,
             "#e6f5d0"
            ],
            [
             0.7,
             "#b8e186"
            ],
            [
             0.8,
             "#7fbc41"
            ],
            [
             0.9,
             "#4d9221"
            ],
            [
             1,
             "#276419"
            ]
           ],
           "sequential": [
            [
             0,
             "#0d0887"
            ],
            [
             0.1111111111111111,
             "#46039f"
            ],
            [
             0.2222222222222222,
             "#7201a8"
            ],
            [
             0.3333333333333333,
             "#9c179e"
            ],
            [
             0.4444444444444444,
             "#bd3786"
            ],
            [
             0.5555555555555556,
             "#d8576b"
            ],
            [
             0.6666666666666666,
             "#ed7953"
            ],
            [
             0.7777777777777778,
             "#fb9f3a"
            ],
            [
             0.8888888888888888,
             "#fdca26"
            ],
            [
             1,
             "#f0f921"
            ]
           ],
           "sequentialminus": [
            [
             0,
             "#0d0887"
            ],
            [
             0.1111111111111111,
             "#46039f"
            ],
            [
             0.2222222222222222,
             "#7201a8"
            ],
            [
             0.3333333333333333,
             "#9c179e"
            ],
            [
             0.4444444444444444,
             "#bd3786"
            ],
            [
             0.5555555555555556,
             "#d8576b"
            ],
            [
             0.6666666666666666,
             "#ed7953"
            ],
            [
             0.7777777777777778,
             "#fb9f3a"
            ],
            [
             0.8888888888888888,
             "#fdca26"
            ],
            [
             1,
             "#f0f921"
            ]
           ]
          },
          "colorway": [
           "#636efa",
           "#EF553B",
           "#00cc96",
           "#ab63fa",
           "#FFA15A",
           "#19d3f3",
           "#FF6692",
           "#B6E880",
           "#FF97FF",
           "#FECB52"
          ],
          "font": {
           "color": "#2a3f5f"
          },
          "geo": {
           "bgcolor": "white",
           "lakecolor": "white",
           "landcolor": "#E5ECF6",
           "showlakes": true,
           "showland": true,
           "subunitcolor": "white"
          },
          "hoverlabel": {
           "align": "left"
          },
          "hovermode": "closest",
          "mapbox": {
           "style": "light"
          },
          "paper_bgcolor": "white",
          "plot_bgcolor": "#E5ECF6",
          "polar": {
           "angularaxis": {
            "gridcolor": "white",
            "linecolor": "white",
            "ticks": ""
           },
           "bgcolor": "#E5ECF6",
           "radialaxis": {
            "gridcolor": "white",
            "linecolor": "white",
            "ticks": ""
           }
          },
          "scene": {
           "xaxis": {
            "backgroundcolor": "#E5ECF6",
            "gridcolor": "white",
            "gridwidth": 2,
            "linecolor": "white",
            "showbackground": true,
            "ticks": "",
            "zerolinecolor": "white"
           },
           "yaxis": {
            "backgroundcolor": "#E5ECF6",
            "gridcolor": "white",
            "gridwidth": 2,
            "linecolor": "white",
            "showbackground": true,
            "ticks": "",
            "zerolinecolor": "white"
           },
           "zaxis": {
            "backgroundcolor": "#E5ECF6",
            "gridcolor": "white",
            "gridwidth": 2,
            "linecolor": "white",
            "showbackground": true,
            "ticks": "",
            "zerolinecolor": "white"
           }
          },
          "shapedefaults": {
           "line": {
            "color": "#2a3f5f"
           }
          },
          "ternary": {
           "aaxis": {
            "gridcolor": "white",
            "linecolor": "white",
            "ticks": ""
           },
           "baxis": {
            "gridcolor": "white",
            "linecolor": "white",
            "ticks": ""
           },
           "bgcolor": "#E5ECF6",
           "caxis": {
            "gridcolor": "white",
            "linecolor": "white",
            "ticks": ""
           }
          },
          "title": {
           "x": 0.05
          },
          "xaxis": {
           "automargin": true,
           "gridcolor": "white",
           "linecolor": "white",
           "ticks": "",
           "title": {
            "standoff": 15
           },
           "zerolinecolor": "white",
           "zerolinewidth": 2
          },
          "yaxis": {
           "automargin": true,
           "gridcolor": "white",
           "linecolor": "white",
           "ticks": "",
           "title": {
            "standoff": 15
           },
           "zerolinecolor": "white",
           "zerolinewidth": 2
          }
         }
        },
        "violinmode": "group",
        "xaxis": {
         "anchor": "y",
         "domain": [
          0,
          1
         ]
        },
        "yaxis": {
         "anchor": "x",
         "domain": [
          0,
          1
         ],
         "exponentformat": "none",
         "title": {
          "text": "Distance"
         }
        }
       }
      }
     },
     "metadata": {},
     "output_type": "display_data"
    }
   ],
   "source": [
    "\n",
    "distances_array = calculate_distances_from_reactions(samples_default, samples_default_loopless_solutions, ec_cobra_model)\n",
    "violin_plot_samples_distances(distances_array)\n",
    "\n",
    "distances_array = calculate_distances_from_samples(samples_default, samples_default_loopless_solutions, ec_cobra_model)\n",
    "violin_plot_samples_distances(distances_array)\n",
    "\n",
    "\n",
    "\n",
    "distances_array = calculate_distances_from_reactions(samples_frd7_removed, samples_frd7_removed_loopless_solutions, ec_cobra_model)\n",
    "violin_plot_samples_distances(distances_array, exponentformat=\"none\")\n",
    "\n",
    "distances_array = calculate_distances_from_samples(samples_frd7_removed, samples_frd7_removed_loopless_solutions, ec_cobra_model)\n",
    "violin_plot_samples_distances(distances_array, exponentformat=\"none\")\n"
   ]
  }
 ],
 "metadata": {
  "kernelspec": {
   "display_name": "dingo-stats-3-10",
   "language": "python",
   "name": "python3"
  },
  "language_info": {
   "codemirror_mode": {
    "name": "ipython",
    "version": 3
   },
   "file_extension": ".py",
   "mimetype": "text/x-python",
   "name": "python",
   "nbconvert_exporter": "python",
   "pygments_lexer": "ipython3",
   "version": "3.10.18"
  }
 },
 "nbformat": 4,
 "nbformat_minor": 5
}
