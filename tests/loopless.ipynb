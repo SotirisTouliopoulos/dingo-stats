{
 "cells": [
  {
   "cell_type": "markdown",
   "id": "29336fbe",
   "metadata": {},
   "source": [
    "### Load libraries"
   ]
  },
  {
   "cell_type": "code",
   "execution_count": 1,
   "id": "a03b61f3",
   "metadata": {},
   "outputs": [
    {
     "name": "stderr",
     "output_type": "stream",
     "text": [
      "/home/touliopoulos/.local/lib/python3.10/site-packages/matplotlib/projections/__init__.py:63: UserWarning: Unable to import Axes3D. This may be due to multiple versions of Matplotlib being installed (e.g. as a system package and as a pip package). As a result, the 3D projection is not available.\n",
      "  warnings.warn(\"Unable to import Axes3D. This may be due to multiple versions of \"\n",
      "/home/touliopoulos/.local/lib/python3.10/site-packages/pandas/core/computation/expressions.py:21: UserWarning: Pandas requires version '2.8.4' or newer of 'numexpr' (version '2.8.1' currently installed).\n",
      "  from pandas.core.computation.check import NUMEXPR_INSTALLED\n",
      "/home/touliopoulos/.local/lib/python3.10/site-packages/pandas/core/arrays/masked.py:60: UserWarning: Pandas requires version '1.3.6' or newer of 'bottleneck' (version '1.3.2' currently installed).\n",
      "  from pandas.core import (\n"
     ]
    }
   ],
   "source": [
    "\n",
    "import matplotlib.pyplot as plt\n",
    "import pandas as pd\n",
    "from cobra.flux_analysis import pfba\n",
    "from cobra.flux_analysis.loopless import loopless_solution\n",
    "\n",
    "import sys\n",
    "sys.path.insert(0, '../scripts/')\n",
    "from load_modify_sample_utils import load_model, get_objective_functions, get_reaction_bounds, modify_model\n",
    "from load_modify_sample_utils import sample_dingo, sample_optgp\n",
    "from loopless_utils import loops_enumeration_from_fva, get_loopless_solutions_from_samples, calculate_affected_samples\n",
    "from loopless_utils import calculate_distances_from_samples, calculate_distances_from_reactions, violin_plot_samples_distances\n"
   ]
  },
  {
   "cell_type": "markdown",
   "id": "43ea717d",
   "metadata": {},
   "source": [
    "### Load initial model"
   ]
  },
  {
   "cell_type": "code",
   "execution_count": 2,
   "id": "4c620e7b",
   "metadata": {},
   "outputs": [
    {
     "name": "stdout",
     "output_type": "stream",
     "text": [
      "Set parameter Username\n",
      "Set parameter LicenseID to value 2642044\n",
      "Academic license - for non-commercial use only - expires 2026-03-25\n",
      "['BIOMASS_Ecoli_core_w_GAM']\n",
      "{'PFK': (0.0, 1000.0), 'PFL': (0.0, 1000.0), 'PGI': (-1000.0, 1000.0), 'PGK': (-1000.0, 1000.0), 'PGL': (0.0, 1000.0), 'ACALD': (-1000.0, 1000.0), 'AKGt2r': (-1000.0, 1000.0), 'PGM': (-1000.0, 1000.0), 'PIt2r': (-1000.0, 1000.0), 'ALCD2x': (-1000.0, 1000.0), 'ACALDt': (-1000.0, 1000.0), 'ACKr': (-1000.0, 1000.0), 'PPC': (0.0, 1000.0), 'ACONTa': (-1000.0, 1000.0), 'ACONTb': (-1000.0, 1000.0), 'ATPM': (8.39, 1000.0), 'PPCK': (0.0, 1000.0), 'ACt2r': (-1000.0, 1000.0), 'PPS': (0.0, 1000.0), 'ADK1': (-1000.0, 1000.0), 'AKGDH': (0.0, 1000.0), 'ATPS4r': (-1000.0, 1000.0), 'PTAr': (-1000.0, 1000.0), 'PYK': (0.0, 1000.0), 'BIOMASS_Ecoli_core_w_GAM': (0.0, 1000.0), 'PYRt2': (-1000.0, 1000.0), 'CO2t': (-1000.0, 1000.0), 'RPE': (-1000.0, 1000.0), 'CS': (0.0, 1000.0), 'RPI': (-1000.0, 1000.0), 'SUCCt2_2': (0.0, 1000.0), 'CYTBD': (0.0, 1000.0), 'D_LACt2': (-1000.0, 1000.0), 'ENO': (-1000.0, 1000.0), 'SUCCt3': (0.0, 1000.0), 'ETOHt2r': (-1000.0, 1000.0), 'SUCDi': (0.0, 1000.0), 'SUCOAS': (-1000.0, 1000.0), 'TALA': (-1000.0, 1000.0), 'THD2': (0.0, 1000.0), 'TKT1': (-1000.0, 1000.0), 'TKT2': (-1000.0, 1000.0), 'TPI': (-1000.0, 1000.0), 'EX_ac_e': (0.0, 1000.0), 'EX_acald_e': (0.0, 1000.0), 'EX_akg_e': (0.0, 1000.0), 'EX_co2_e': (-1000.0, 1000.0), 'EX_etoh_e': (0.0, 1000.0), 'EX_for_e': (0.0, 1000.0), 'EX_fru_e': (0.0, 1000.0), 'EX_fum_e': (0.0, 1000.0), 'EX_glc__D_e': (-10.0, 1000.0), 'EX_gln__L_e': (0.0, 1000.0), 'EX_glu__L_e': (0.0, 1000.0), 'EX_h_e': (-1000.0, 1000.0), 'EX_h2o_e': (-1000.0, 1000.0), 'EX_lac__D_e': (0.0, 1000.0), 'EX_mal__L_e': (0.0, 1000.0), 'EX_nh4_e': (-1000.0, 1000.0), 'EX_o2_e': (-1000.0, 1000.0), 'EX_pi_e': (-1000.0, 1000.0), 'EX_pyr_e': (0.0, 1000.0), 'EX_succ_e': (0.0, 1000.0), 'FBA': (-1000.0, 1000.0), 'FBP': (0.0, 1000.0), 'FORt2': (0.0, 1000.0), 'FORt': (-1000.0, 0.0), 'FRD7': (0.0, 1000.0), 'FRUpts2': (0.0, 1000.0), 'FUM': (-1000.0, 1000.0), 'FUMt2_2': (0.0, 1000.0), 'G6PDH2r': (-1000.0, 1000.0), 'GAPD': (-1000.0, 1000.0), 'GLCpts': (0.0, 1000.0), 'GLNS': (0.0, 1000.0), 'GLNabc': (0.0, 1000.0), 'GLUDy': (-1000.0, 1000.0), 'GLUN': (0.0, 1000.0), 'GLUSy': (0.0, 1000.0), 'GLUt2r': (-1000.0, 1000.0), 'GND': (0.0, 1000.0), 'H2Ot': (-1000.0, 1000.0), 'ICDHyr': (-1000.0, 1000.0), 'ICL': (0.0, 1000.0), 'LDH_D': (-1000.0, 1000.0), 'MALS': (0.0, 1000.0), 'MALt2_2': (0.0, 1000.0), 'MDH': (-1000.0, 1000.0), 'ME1': (0.0, 1000.0), 'ME2': (0.0, 1000.0), 'NADH16': (0.0, 1000.0), 'NADTRHD': (0.0, 1000.0), 'NH4t': (-1000.0, 1000.0), 'O2t': (-1000.0, 1000.0), 'PDH': (0.0, 1000.0)}\n"
     ]
    }
   ],
   "source": [
    "ec_cobra_model, ec_cobra_reactions, ec_dingo_model, ec_dingo_reactions = load_model(\"../ext_data/models/e_coli_core.xml\")\n",
    "\n",
    "objective_functions = get_objective_functions(ec_cobra_model)\n",
    "print(objective_functions)\n",
    "\n",
    "default_reaction_bounds = get_reaction_bounds(ec_cobra_model)\n",
    "print(default_reaction_bounds)\n"
   ]
  },
  {
   "cell_type": "markdown",
   "id": "74013579",
   "metadata": {},
   "source": [
    "### Identify loopy reactions in model"
   ]
  },
  {
   "cell_type": "code",
   "execution_count": 3,
   "id": "a78c97f5",
   "metadata": {},
   "outputs": [
    {
     "name": "stdout",
     "output_type": "stream",
     "text": [
      "[('SUCDi', 994.9356243385176), ('FRD7', 994.935624338518)]\n"
     ]
    }
   ],
   "source": [
    "\n",
    "loopy_reactions_fva_df = loops_enumeration_from_fva(ec_cobra_model)\n",
    "print(loopy_reactions_fva_df)\n"
   ]
  },
  {
   "cell_type": "markdown",
   "id": "5ba677e3",
   "metadata": {},
   "source": [
    "### Perform pFBA and loopless_solutions to identify which of the loopy reactions can be removed (even FBA suggests FRD7)"
   ]
  },
  {
   "cell_type": "code",
   "execution_count": 4,
   "id": "d7608b67",
   "metadata": {},
   "outputs": [
    {
     "name": "stdout",
     "output_type": "stream",
     "text": [
      "0.0\n",
      "5.064375661482091\n",
      "Read LP format model from file /tmp/tmp855_q500.lp\n",
      "Reading time = 0.00 seconds\n",
      ": 72 rows, 190 columns, 720 nonzeros\n",
      "0.0\n",
      "5.0643756614821\n",
      "0.0\n",
      "5.064375661482091\n",
      "0.0\n",
      "5.064375661482091\n"
     ]
    }
   ],
   "source": [
    "\n",
    "fba_solution = ec_cobra_model.optimize()\n",
    "print(fba_solution.fluxes.FRD7)\n",
    "print(fba_solution.fluxes.SUCDi)\n",
    "\n",
    "ec_cobra_model_copy = ec_cobra_model.copy()\n",
    "pfba_solution = pfba(ec_cobra_model_copy)\n",
    "print(pfba_solution.fluxes.FRD7)\n",
    "print(pfba_solution.fluxes.SUCDi)\n",
    "\n",
    "lloopless_solution = loopless_solution(ec_cobra_model)\n",
    "print(lloopless_solution.fluxes.FRD7)\n",
    "print(lloopless_solution.fluxes.SUCDi)\n",
    "\n",
    "pfba_loopless_solution = loopless_solution(ec_cobra_model_copy, pfba_solution)\n",
    "print(pfba_loopless_solution.fluxes.FRD7)\n",
    "print(pfba_loopless_solution.fluxes.SUCDi)\n"
   ]
  },
  {
   "cell_type": "markdown",
   "id": "dd9ccd0c",
   "metadata": {},
   "source": [
    "### Modify model. Create a duplicate with \"FRD7\" (loopy reaction) removed"
   ]
  },
  {
   "cell_type": "code",
   "execution_count": 11,
   "id": "b18ac983",
   "metadata": {},
   "outputs": [
    {
     "name": "stdout",
     "output_type": "stream",
     "text": [
      "Read LP format model from file /tmp/tmpoot1j_vb.lp\n",
      "Reading time = 0.01 seconds\n",
      ": 72 rows, 190 columns, 720 nonzeros\n",
      "Read LP format model from file /tmp/tmpe0yi5wbi.lp\n",
      "Reading time = 0.00 seconds\n",
      ": 72 rows, 190 columns, 720 nonzeros\n",
      "Read LP format model from file /tmp/tmpqzachqh0.lp\n",
      "Reading time = 0.00 seconds\n",
      ": 72 rows, 190 columns, 720 nonzeros\n"
     ]
    }
   ],
   "source": [
    "\n",
    "ec_cobra_default_model, ec_dingo_default_model = modify_model(\n",
    "                                            ec_cobra_model,\n",
    "                                            objective_function=\"BIOMASS_Ecoli_core_w_GAM\",\n",
    "                                            optimal_percentage=100)\n",
    "\n",
    "\n",
    "\n",
    "ec_cobra_model_frd7_removed = ec_cobra_model.copy()\n",
    "ec_cobra_model_frd7_removed.reactions.get_by_id(\"FRD7\").bounds = (0, 0)\n",
    "\n",
    "ec_cobra_model_frd7_removed, ec_dingo_model_frd7_removed = modify_model(\n",
    "                                            ec_cobra_model_frd7_removed,\n",
    "                                            objective_function=\"BIOMASS_Ecoli_core_w_GAM\",\n",
    "                                            optimal_percentage=100)\n"
   ]
  },
  {
   "cell_type": "markdown",
   "id": "6d4b0662",
   "metadata": {},
   "source": [
    "### Generate samples"
   ]
  },
  {
   "cell_type": "code",
   "execution_count": 12,
   "id": "265986fa",
   "metadata": {},
   "outputs": [
    {
     "name": "stdout",
     "output_type": "stream",
     "text": [
      "phase 1: number of correlated samples = 500, effective sample size = 5, ratio of the maximum singilar value over the minimum singular value = 1719.69\n",
      "phase 2: number of correlated samples = 500, effective sample size = 5, ratio of the maximum singilar value over the minimum singular value = 233.104\n",
      "phase 3: number of correlated samples = 500, effective sample size = 10, ratio of the maximum singilar value over the minimum singular value = 287.195\n",
      "phase 4: number of correlated samples = 500, effective sample size = 146, ratio of the maximum singilar value over the minimum singular value = 20.4508\n",
      "phase 5: number of correlated samples = 500, effective sample size = 210, ratio of the maximum singilar value over the minimum singular value = 3.06896\n",
      "phase 6: number of correlated samples = 500, effective sample size = 159, ratio of the maximum singilar value over the minimum singular value = 3.08997\n",
      "phase 7: number of correlated samples = 500, effective sample size = 171, ratio of the maximum singilar value over the minimum singular value = 2.85003\n",
      "phase 8: number of correlated samples = 2400, effective sample size = 1010\n",
      "phase 9: number of correlated samples = 1000, effective sample size = 472\n",
      "[5]total ess 2188: number of correlated samples = 6900\n",
      "\n",
      "\n",
      "(95, 6900)\n"
     ]
    },
    {
     "name": "stderr",
     "output_type": "stream",
     "text": [
      "[5]maximum marginal PSRF: 1.11605\n"
     ]
    },
    {
     "name": "stdout",
     "output_type": "stream",
     "text": [
      "phase 1: number of correlated samples = 500, effective sample size = 81, ratio of the maximum singilar value over the minimum singular value = 355.602\n",
      "phase 2: number of correlated samples = 500, effective sample size = 132, ratio of the maximum singilar value over the minimum singular value = 2.58096\n",
      "phase 3: number of correlated samples = 2300, effective sample size = 809\n",
      "phase 4: number of correlated samples = 2300, effective sample size = 770\n",
      "phase 5: number of correlated samples = 1300, effective sample size = 413\n",
      "[5]total ess 2205: number of correlated samples = 6900\n",
      "\n",
      "\n",
      "(95, 6900)\n",
      "Read LP format model from file /tmp/tmp3d6mlco1.lp\n",
      "Reading time = 0.00 seconds\n",
      ": 72 rows, 190 columns, 720 nonzeros\n"
     ]
    },
    {
     "name": "stderr",
     "output_type": "stream",
     "text": [
      "[5]maximum marginal PSRF: 1.00118\n"
     ]
    },
    {
     "name": "stdout",
     "output_type": "stream",
     "text": [
      "(95, 3000)\n",
      "Read LP format model from file /tmp/tmpzbqvw6sv.lp\n",
      "Reading time = 0.00 seconds\n",
      ": 72 rows, 190 columns, 720 nonzeros\n",
      "(95, 3000)\n"
     ]
    }
   ],
   "source": [
    "\n",
    "samples_dingo_default = sample_dingo(ec_dingo_default_model, reaction_in_rows = True, ess=2000)\n",
    "print(samples_dingo_default.shape)\n",
    "\n",
    "samples_dingo_frd7_removed = sample_dingo(ec_dingo_model_frd7_removed, reaction_in_rows = True, ess=2000)\n",
    "print(samples_dingo_frd7_removed.shape)\n",
    "\n",
    "\n",
    "samples_optgp_default = sample_optgp(ec_cobra_default_model, n_samples = 3000, thinning = 100, reaction_in_rows = True)\n",
    "print(samples_optgp_default.shape)\n",
    "\n",
    "samples_optgp_frd7_removed = sample_optgp(ec_cobra_model_frd7_removed, n_samples = 3000, thinning = 100, reaction_in_rows = True)\n",
    "print(samples_optgp_frd7_removed.shape)\n",
    "\n",
    "\n",
    "\n",
    "# Define samples to procceed. Samples from optgp tend to be more loopy ? (see distances after applying loopless_solutions below \n",
    "# with both optgp and dingo samples)\n",
    "\n",
    "samples_default = samples_optgp_default\n",
    "samples_frd7_removed = samples_optgp_frd7_removed\n",
    "\n",
    "#samples_default = samples_dingo_default\n",
    "#samples_frd7_removed = samples_dingo_frd7_removed\n"
   ]
  },
  {
   "cell_type": "markdown",
   "id": "497155c5",
   "metadata": {},
   "source": [
    "### Calculate the loopless solutions of the samples"
   ]
  },
  {
   "cell_type": "code",
   "execution_count": 13,
   "id": "d33e68d1",
   "metadata": {},
   "outputs": [
    {
     "name": "stderr",
     "output_type": "stream",
     "text": [
      "/home/touliopoulos/.local/lib/python3.10/site-packages/cobra/util/solver.py:554: UserWarning: Solver status is 'infeasible'.\n",
      "  warn(f\"Solver status is '{status}'.\", UserWarning)\n"
     ]
    },
    {
     "name": "stdout",
     "output_type": "stream",
     "text": [
      "(95, 3000)\n",
      "(95, 3000)\n",
      "(95, 3000)\n",
      "(95, 3000)\n"
     ]
    }
   ],
   "source": [
    "\n",
    "samples_default_loopless_solutions = get_loopless_solutions_from_samples(samples_default, ec_cobra_model)\n",
    "\n",
    "print(samples_default.shape)\n",
    "print(samples_default_loopless_solutions.shape)\n",
    "\n",
    "\n",
    "samples_frd7_removed_loopless_solutions = get_loopless_solutions_from_samples(samples_frd7_removed, ec_cobra_model)\n",
    "\n",
    "print(samples_frd7_removed.shape)\n",
    "print(samples_frd7_removed_loopless_solutions.shape)\n"
   ]
  },
  {
   "cell_type": "markdown",
   "id": "53255577",
   "metadata": {},
   "source": [
    "### Check if FRD7 and SUCDi are loopy across most of the samples"
   ]
  },
  {
   "cell_type": "code",
   "execution_count": 14,
   "id": "b17a9d63",
   "metadata": {},
   "outputs": [
    {
     "data": {
      "image/png": "[encoded data removed]",
      "text/plain": [
       "<Figure size 640x480 with 1 Axes>"
      ]
     },
     "metadata": {},
     "output_type": "display_data"
    },
    {
     "data": {
      "image/png": "[encoded data removed]",
      "text/plain": [
       "<Figure size 640x480 with 1 Axes>"
      ]
     },
     "metadata": {},
     "output_type": "display_data"
    }
   ],
   "source": [
    "\n",
    "change_per_reaction = abs(samples_default) - abs(samples_default_loopless_solutions)\n",
    "   \n",
    "reaction_index = ec_dingo_reactions.index(\"FRD7\")\n",
    "change_FRD7 = change_per_reaction[reaction_index]\n",
    "\n",
    "plt.hist(change_FRD7)\n",
    "plt.show()\n",
    "\n",
    "\n",
    "reaction_index = ec_dingo_reactions.index(\"SUCDi\")\n",
    "change_FRD7 = change_per_reaction[reaction_index]\n",
    "\n",
    "plt.hist(change_FRD7)\n",
    "plt.show()\n"
   ]
  },
  {
   "cell_type": "markdown",
   "id": "e4fd7eb2",
   "metadata": {},
   "source": [
    "### Find how many samples (e.g. percentage) from the initial sampling have significant differences with themselves after applying loopless solution."
   ]
  },
  {
   "cell_type": "code",
   "execution_count": 13,
   "id": "b1943826",
   "metadata": {},
   "outputs": [
    {
     "data": {
      "image/png": "[encoded data removed]",
      "text/plain": [
       "<Figure size 640x480 with 1 Axes>"
      ]
     },
     "metadata": {},
     "output_type": "display_data"
    },
    {
     "name": "stdout",
     "output_type": "stream",
     "text": [
      "7698 affected samples out of (95, 7700) total samples\n"
     ]
    },
    {
     "data": {
      "image/png": "[encoded data removed]",
      "text/plain": [
       "<Figure size 640x480 with 1 Axes>"
      ]
     },
     "metadata": {},
     "output_type": "display_data"
    },
    {
     "name": "stdout",
     "output_type": "stream",
     "text": [
      "6000 affected samples out of (95, 6000) total samples\n"
     ]
    }
   ],
   "source": [
    "\n",
    "affected_reactions_count, total_affected_samples = calculate_affected_samples(samples_default, \n",
    "                                                                              samples_default_loopless_solutions, \n",
    "                                                                              ec_cobra_model, \n",
    "                                                                              tol_reaction_difference=0.5, \n",
    "                                                                              tol_reactions_count=1)\n",
    "\n",
    "plt.hist(affected_reactions_count)\n",
    "plt.show()\n",
    "    \n",
    "print(total_affected_samples, \"affected samples out of\", (samples_default).shape, \"total samples\")\n",
    "\n",
    "\n",
    "\n",
    "affected_reactions_count, total_affected_samples = calculate_affected_samples(samples_frd7_removed, \n",
    "                                                                              samples_frd7_removed_loopless_solutions, \n",
    "                                                                              ec_cobra_model, \n",
    "                                                                              tol_reaction_difference=0.5, \n",
    "                                                                              tol_reactions_count=1)\n",
    "\n",
    "plt.hist(affected_reactions_count)\n",
    "plt.show()\n",
    "    \n",
    "print(total_affected_samples, \"affected samples out of\", (samples_frd7_removed).shape, \"total samples\")\n"
   ]
  },
  {
   "cell_type": "markdown",
   "id": "8e484333",
   "metadata": {},
   "source": [
    "### Calculate distances between samples before and after loopless solution (for 3000 samples ==> 3000 distances) and reactions (for 95 reactions ==> 95 distances)"
   ]
  },
  {
   "cell_type": "code",
   "execution_count": 15,
   "id": "ef6a7ce7",
   "metadata": {},
   "outputs": [
    {
     "data": {
      "application/vnd.plotly.v1+json": {
       "config": {
        "plotlyServerURL": "https://plot.ly"
       },
       "data": [
        {
         "alignmentgroup": "True",
         "box": {
          "visible": true
         },
         "hovertemplate": "Distance=%{y}<extra></extra>",
         "legendgroup": "",
         "marker": {
          "color": "#636efa"
         },
         "name": "",
         "offsetgroup": "",
         "orientation": "v",
         "points": "all",
         "scalegroup": "True",
         "showlegend": false,
         "type": "violin",
         "x0": " ",
         "xaxis": "x",
         "y": [
          0.9672989825049887,
          1.894425778357564e-13,
          2.5065103292346955,
          0.8355034430823735,
          2.506510329234946,
          5.260233333838664e-15,
          0,
          0.8355034430776949,
          4.037136382993402e-12,
          0,
          0,
          0,
          7.108934764984884,
          0.8355034430794048,
          0.8355034430794048,
          0.7810195014951522,
          0.7971990016119554,
          0,
          0.7628454517331481,
          0.7628454517331481,
          3.6870794009021046,
          2.5343440599432756,
          0,
          7.789811697272915,
          1.6437591411704013e-12,
          0,
          5.311266550902245e-12,
          1.6710068861562395,
          0.8355034430794048,
          0.8355034430785493,
          1.061419398971472,
          9.1541925612159e-11,
          0,
          0.8355034430776949,
          1.061419398971472,
          0,
          30098.641068895482,
          3.6870794009022276,
          0.8355034430784458,
          3.0212107041657914,
          0.8355034430784458,
          0.8355034430783229,
          0.8355034430783959,
          0,
          0,
          0,
          5.311266550902245e-12,
          0,
          1.894425778357564e-13,
          0,
          0,
          0,
          0,
          0,
          6.701576354006874e-11,
          3.5461631682377784e-11,
          0,
          0,
          1.0144902718973636e-11,
          4.57709628060795e-11,
          4.037136382993402e-12,
          0,
          0,
          0.8355034430783959,
          0.7731838593004065,
          3.0487453419930213,
          3.0487453419930377,
          30098.902858283298,
          0,
          0.8355034430782464,
          0,
          2.506510329234946,
          0.8355034430823735,
          0,
          3.64403630872222e-13,
          0,
          8.747164776659124e-12,
          0,
          0,
          0,
          2.506510329234946,
          3.5461631682377784e-11,
          3.6870794009069963,
          3.1007417007957017,
          0,
          3.1007417007957017,
          0,
          7.232449535816091,
          5.782114397388141,
          1.0626773414820652,
          0.8355034430839506,
          3.186950393766637,
          1.0144902718973636e-11,
          4.57709628060795e-11,
          2.6515609908761624
         ],
         "y0": " ",
         "yaxis": "y"
        }
       ],
       "layout": {
        "legend": {
         "tracegroupgap": 0
        },
        "margin": {
         "t": 60
        },
        "template": {
         "data": {
          "bar": [
           {
            "error_x": {
             "color": "#2a3f5f"
            },
            "error_y": {
             "color": "#2a3f5f"
            },
            "marker": {
             "line": {
              "color": "#E5ECF6",
              "width": 0.5
             },
             "pattern": {
              "fillmode": "overlay",
              "size": 10,
              "solidity": 0.2
             }
            },
            "type": "bar"
           }
          ],
          "barpolar": [
           {
            "marker": {
             "line": {
              "color": "#E5ECF6",
              "width": 0.5
             },
             "pattern": {
              "fillmode": "overlay",
              "size": 10,
              "solidity": 0.2
             }
            },
            "type": "barpolar"
           }
          ],
          "carpet": [
           {
            "aaxis": {
             "endlinecolor": "#2a3f5f",
             "gridcolor": "white",
             "linecolor": "white",
             "minorgridcolor": "white",
             "startlinecolor": "#2a3f5f"
            },
            "baxis": {
             "endlinecolor": "#2a3f5f",
             "gridcolor": "white",
             "linecolor": "white",
             "minorgridcolor": "white",
             "startlinecolor": "#2a3f5f"
            },
            "type": "carpet"
           }
          ],
          "choropleth": [
           {
            "colorbar": {
             "outlinewidth": 0,
             "ticks": ""
            },
            "type": "choropleth"
           }
          ],
          "contour": [
           {
            "colorbar": {
             "outlinewidth": 0,
             "ticks": ""
            },
            "colorscale": [
             [
              0,
              "#0d0887"
             ],
             [
              0.1111111111111111,
              "#46039f"
             ],
             [
              0.2222222222222222,
              "#7201a8"
             ],
             [
              0.3333333333333333,
              "#9c179e"
             ],
             [
              0.4444444444444444,
              "#bd3786"
             ],
             [
              0.5555555555555556,
              "#d8576b"
             ],
             [
              0.6666666666666666,
              "#ed7953"
             ],
             [
              0.7777777777777778,
              "#fb9f3a"
             ],
             [
              0.8888888888888888,
              "#fdca26"
             ],
             [
              1,
              "#f0f921"
             ]
            ],
            "type": "contour"
           }
          ],
          "contourcarpet": [
           {
            "colorbar": {
             "outlinewidth": 0,
             "ticks": ""
            },
            "type": "contourcarpet"
           }
          ],
          "heatmap": [
           {
            "colorbar": {
             "outlinewidth": 0,
             "ticks": ""
            },
            "colorscale": [
             [
              0,
              "#0d0887"
             ],
             [
              0.1111111111111111,
              "#46039f"
             ],
             [
              0.2222222222222222,
              "#7201a8"
             ],
             [
              0.3333333333333333,
              "#9c179e"
             ],
             [
              0.4444444444444444,
              "#bd3786"
             ],
             [
              0.5555555555555556,
              "#d8576b"
             ],
             [
              0.6666666666666666,
              "#ed7953"
             ],
             [
              0.7777777777777778,
              "#fb9f3a"
             ],
             [
              0.8888888888888888,
              "#fdca26"
             ],
             [
              1,
              "#f0f921"
             ]
            ],
            "type": "heatmap"
           }
          ],
          "heatmapgl": [
           {
            "colorbar": {
             "outlinewidth": 0,
             "ticks": ""
            },
            "colorscale": [
             [
              0,
              "#0d0887"
             ],
             [
              0.1111111111111111,
              "#46039f"
             ],
             [
              0.2222222222222222,
              "#7201a8"
             ],
             [
              0.3333333333333333,
              "#9c179e"
             ],
             [
              0.4444444444444444,
              "#bd3786"
             ],
             [
              0.5555555555555556,
              "#d8576b"
             ],
             [
              0.6666666666666666,
              "#ed7953"
             ],
             [
              0.7777777777777778,
              "#fb9f3a"
             ],
             [
              0.8888888888888888,
              "#fdca26"
             ],
             [
              1,
              "#f0f921"
             ]
            ],
            "type": "heatmapgl"
           }
          ],
          "histogram": [
           {
            "marker": {
             "pattern": {
              "fillmode": "overlay",
              "size": 10,
              "solidity": 0.2
             }
            },
            "type": "histogram"
           }
          ],
          "histogram2d": [
           {
            "colorbar": {
             "outlinewidth": 0,
             "ticks": ""
            },
            "colorscale": [
             [
              0,
              "#0d0887"
             ],
             [
              0.1111111111111111,
              "#46039f"
             ],
             [
              0.2222222222222222,
              "#7201a8"
             ],
             [
              0.3333333333333333,
              "#9c179e"
             ],
             [
              0.4444444444444444,
              "#bd3786"
             ],
             [
              0.5555555555555556,
              "#d8576b"
             ],
             [
              0.6666666666666666,
              "#ed7953"
             ],
             [
              0.7777777777777778,
              "#fb9f3a"
             ],
             [
              0.8888888888888888,
              "#fdca26"
             ],
             [
              1,
              "#f0f921"
             ]
            ],
            "type": "histogram2d"
           }
          ],
          "histogram2dcontour": [
           {
            "colorbar": {
             "outlinewidth": 0,
             "ticks": ""
            },
            "colorscale": [
             [
              0,
              "#0d0887"
             ],
             [
              0.1111111111111111,
              "#46039f"
             ],
             [
              0.2222222222222222,
              "#7201a8"
             ],
             [
              0.3333333333333333,
              "#9c179e"
             ],
             [
              0.4444444444444444,
              "#bd3786"
             ],
             [
              0.5555555555555556,
              "#d8576b"
             ],
             [
              0.6666666666666666,
              "#ed7953"
             ],
             [
              0.7777777777777778,
              "#fb9f3a"
             ],
             [
              0.8888888888888888,
              "#fdca26"
             ],
             [
              1,
              "#f0f921"
             ]
            ],
            "type": "histogram2dcontour"
           }
          ],
          "mesh3d": [
           {
            "colorbar": {
             "outlinewidth": 0,
             "ticks": ""
            },
            "type": "mesh3d"
           }
          ],
          "parcoords": [
           {
            "line": {
             "colorbar": {
              "outlinewidth": 0,
              "ticks": ""
             }
            },
            "type": "parcoords"
           }
          ],
          "pie": [
           {
            "automargin": true,
            "type": "pie"
           }
          ],
          "scatter": [
           {
            "fillpattern": {
             "fillmode": "overlay",
             "size": 10,
             "solidity": 0.2
            },
            "type": "scatter"
           }
          ],
          "scatter3d": [
           {
            "line": {
             "colorbar": {
              "outlinewidth": 0,
              "ticks": ""
             }
            },
            "marker": {
             "colorbar": {
              "outlinewidth": 0,
              "ticks": ""
             }
            },
            "type": "scatter3d"
           }
          ],
          "scattercarpet": [
           {
            "marker": {
             "colorbar": {
              "outlinewidth": 0,
              "ticks": ""
             }
            },
            "type": "scattercarpet"
           }
          ],
          "scattergeo": [
           {
            "marker": {
             "colorbar": {
              "outlinewidth": 0,
              "ticks": ""
             }
            },
            "type": "scattergeo"
           }
          ],
          "scattergl": [
           {
            "marker": {
             "colorbar": {
              "outlinewidth": 0,
              "ticks": ""
             }
            },
            "type": "scattergl"
           }
          ],
          "scattermapbox": [
           {
            "marker": {
             "colorbar": {
              "outlinewidth": 0,
              "ticks": ""
             }
            },
            "type": "scattermapbox"
           }
          ],
          "scatterpolar": [
           {
            "marker": {
             "colorbar": {
              "outlinewidth": 0,
              "ticks": ""
             }
            },
            "type": "scatterpolar"
           }
          ],
          "scatterpolargl": [
           {
            "marker": {
             "colorbar": {
              "outlinewidth": 0,
              "ticks": ""
             }
            },
            "type": "scatterpolargl"
           }
          ],
          "scatterternary": [
           {
            "marker": {
             "colorbar": {
              "outlinewidth": 0,
              "ticks": ""
             }
            },
            "type": "scatterternary"
           }
          ],
          "surface": [
           {
            "colorbar": {
             "outlinewidth": 0,
             "ticks": ""
            },
            "colorscale": [
             [
              0,
              "#0d0887"
             ],
             [
              0.1111111111111111,
              "#46039f"
             ],
             [
              0.2222222222222222,
              "#7201a8"
             ],
             [
              0.3333333333333333,
              "#9c179e"
             ],
             [
              0.4444444444444444,
              "#bd3786"
             ],
             [
              0.5555555555555556,
              "#d8576b"
             ],
             [
              0.6666666666666666,
              "#ed7953"
             ],
             [
              0.7777777777777778,
              "#fb9f3a"
             ],
             [
              0.8888888888888888,
              "#fdca26"
             ],
             [
              1,
              "#f0f921"
             ]
            ],
            "type": "surface"
           }
          ],
          "table": [
           {
            "cells": {
             "fill": {
              "color": "#EBF0F8"
             },
             "line": {
              "color": "white"
             }
            },
            "header": {
             "fill": {
              "color": "#C8D4E3"
             },
             "line": {
              "color": "white"
             }
            },
            "type": "table"
           }
          ]
         },
         "layout": {
          "annotationdefaults": {
           "arrowcolor": "#2a3f5f",
           "arrowhead": 0,
           "arrowwidth": 1
          },
          "autotypenumbers": "strict",
          "coloraxis": {
           "colorbar": {
            "outlinewidth": 0,
            "ticks": ""
           }
          },
          "colorscale": {
           "diverging": [
            [
             0,
             "#8e0152"
            ],
            [
             0.1,
             "#c51b7d"
            ],
            [
             0.2,
             "#de77ae"
            ],
            [
             0.3,
             "#f1b6da"
            ],
            [
             0.4,
             "#fde0ef"
            ],
            [
             0.5,
             "#f7f7f7"
            ],
            [
             0.6,
             "#e6f5d0"
            ],
            [
             0.7,
             "#b8e186"
            ],
            [
             0.8,
             "#7fbc41"
            ],
            [
             0.9,
             "#4d9221"
            ],
            [
             1,
             "#276419"
            ]
           ],
           "sequential": [
            [
             0,
             "#0d0887"
            ],
            [
             0.1111111111111111,
             "#46039f"
            ],
            [
             0.2222222222222222,
             "#7201a8"
            ],
            [
             0.3333333333333333,
             "#9c179e"
            ],
            [
             0.4444444444444444,
             "#bd3786"
            ],
            [
             0.5555555555555556,
             "#d8576b"
            ],
            [
             0.6666666666666666,
             "#ed7953"
            ],
            [
             0.7777777777777778,
             "#fb9f3a"
            ],
            [
             0.8888888888888888,
             "#fdca26"
            ],
            [
             1,
             "#f0f921"
            ]
           ],
           "sequentialminus": [
            [
             0,
             "#0d0887"
            ],
            [
             0.1111111111111111,
             "#46039f"
            ],
            [
             0.2222222222222222,
             "#7201a8"
            ],
            [
             0.3333333333333333,
             "#9c179e"
            ],
            [
             0.4444444444444444,
             "#bd3786"
            ],
            [
             0.5555555555555556,
             "#d8576b"
            ],
            [
             0.6666666666666666,
             "#ed7953"
            ],
            [
             0.7777777777777778,
             "#fb9f3a"
            ],
            [
             0.8888888888888888,
             "#fdca26"
            ],
            [
             1,
             "#f0f921"
            ]
           ]
          },
          "colorway": [
           "#636efa",
           "#EF553B",
           "#00cc96",
           "#ab63fa",
           "#FFA15A",
           "#19d3f3",
           "#FF6692",
           "#B6E880",
           "#FF97FF",
           "#FECB52"
          ],
          "font": {
           "color": "#2a3f5f"
          },
          "geo": {
           "bgcolor": "white",
           "lakecolor": "white",
           "landcolor": "#E5ECF6",
           "showlakes": true,
           "showland": true,
           "subunitcolor": "white"
          },
          "hoverlabel": {
           "align": "left"
          },
          "hovermode": "closest",
          "mapbox": {
           "style": "light"
          },
          "paper_bgcolor": "white",
          "plot_bgcolor": "#E5ECF6",
          "polar": {
           "angularaxis": {
            "gridcolor": "white",
            "linecolor": "white",
            "ticks": ""
           },
           "bgcolor": "#E5ECF6",
           "radialaxis": {
            "gridcolor": "white",
            "linecolor": "white",
            "ticks": ""
           }
          },
          "scene": {
           "xaxis": {
            "backgroundcolor": "#E5ECF6",
            "gridcolor": "white",
            "gridwidth": 2,
            "linecolor": "white",
            "showbackground": true,
            "ticks": "",
            "zerolinecolor": "white"
           },
           "yaxis": {
            "backgroundcolor": "#E5ECF6",
            "gridcolor": "white",
            "gridwidth": 2,
            "linecolor": "white",
            "showbackground": true,
            "ticks": "",
            "zerolinecolor": "white"
           },
           "zaxis": {
            "backgroundcolor": "#E5ECF6",
            "gridcolor": "white",
            "gridwidth": 2,
            "linecolor": "white",
            "showbackground": true,
            "ticks": "",
            "zerolinecolor": "white"
           }
          },
          "shapedefaults": {
           "line": {
            "color": "#2a3f5f"
           }
          },
          "ternary": {
           "aaxis": {
            "gridcolor": "white",
            "linecolor": "white",
            "ticks": ""
           },
           "baxis": {
            "gridcolor": "white",
            "linecolor": "white",
            "ticks": ""
           },
           "bgcolor": "#E5ECF6",
           "caxis": {
            "gridcolor": "white",
            "linecolor": "white",
            "ticks": ""
           }
          },
          "title": {
           "x": 0.05
          },
          "xaxis": {
           "automargin": true,
           "gridcolor": "white",
           "linecolor": "white",
           "ticks": "",
           "title": {
            "standoff": 15
           },
           "zerolinecolor": "white",
           "zerolinewidth": 2
          },
          "yaxis": {
           "automargin": true,
           "gridcolor": "white",
           "linecolor": "white",
           "ticks": "",
           "title": {
            "standoff": 15
           },
           "zerolinecolor": "white",
           "zerolinewidth": 2
          }
         }
        },
        "violinmode": "group",
        "xaxis": {
         "anchor": "y",
         "domain": [
          0,
          1
         ]
        },
        "yaxis": {
         "anchor": "x",
         "domain": [
          0,
          1
         ],
         "title": {
          "text": "Distance"
         }
        }
       }
      }
     },
     "metadata": {},
     "output_type": "display_data"
    },
    {
     "data": {
      "application/vnd.plotly.v1+json": {
       "config": {
        "plotlyServerURL": "https://plot.ly"
       },
       "data": [
        {
         "alignmentgroup": "True",
         "box": {
          "visible": true
         },
         "hovertemplate": "Distance=%{y}<extra></extra>",
         "legendgroup": "",
         "marker": {
          "color": "#636efa"
         },
         "name": "",
         "offsetgroup": "",
         "orientation": "v",
         "points": "all",
         "scalegroup": "True",
         "showlegend": false,
         "type": "violin",
         "x0": " ",
         "xaxis": "x",
         "y": [
          36.270803085314654,
          221.0395794328986,
          101.1182363560285,
          185.35756167058474,
          746.7046545496647,
          608.7045934709777,
          598.8200356029764,
          277.69632064031765,
          583.9702042580675,
          86.42815869091622,
          281.06700735446367,
          472.311635951638,
          156.49214698422392,
          387.9605389195413,
          676.4403114565752,
          1003.9192755668889,
          902.4771632239609,
          658.2339436346671,
          521.3194094427762,
          678.4152366053526,
          812.5002660701874,
          749.5277349146428,
          679.8877280800948,
          967.1257857747672,
          1248.0933329109582,
          1305.890935254956,
          1351.8143485843464,
          1124.6893518628417,
          1173.0860031316415,
          373.0433997497689,
          298.86830824004886,
          157.80074301880512,
          337.4930563122152,
          182.26623995617712,
          142.90372205828126,
          52.595858534962886,
          200.62181693592728,
          195.26404311214583,
          81.7012654293918,
          42.36117676762188,
          80.10957747271489,
          65.81852610000793,
          64.14390292731001,
          221.69648311987646,
          293.830318555762,
          22.317006019083742,
          377.43419181476077,
          57.96836702943891,
          223.07267970586383,
          1051.7926580461983,
          802.6568748914334,
          813.0023020151646,
          465.4566926149415,
          299.8867027997672,
          215.16649844924055,
          316.6430687485725,
          179.86619157879835,
          329.9195381412476,
          251.87749110574507,
          238.48365356927437,
          396.7529909541956,
          89.78513284526653,
          33.9349907610419,
          203.5036413092576,
          28.96438270950498,
          19.905880953902887,
          478.905335160775,
          513.4062762901267,
          711.4809994432626,
          1038.7534877745813,
          1051.4700796798097,
          1091.8032791766798,
          989.7161782119258,
          1216.5652626052072,
          1362.6732574480368,
          1353.9863998443727,
          1358.7399355832906,
          1257.0272035459711,
          1340.4604684649437,
          1051.72337461805,
          1012.1661382253658,
          1170.9177027271846,
          529.5526318841416,
          706.2751355269171,
          715.5646125043442,
          716.5567523579731,
          384.0207593837596,
          34.54252774680308,
          68.59363576967556,
          168.70832030574715,
          403.02820199473376,
          684.0747541932373,
          148.60639842569455,
          257.31338824614534,
          199.3604106082027,
          146.02774771620406,
          583.5677453626441,
          575.7954960057701,
          322.0859300564331,
          564.7768229969724,
          978.005451781663,
          661.6220970838833,
          969.6032349931511,
          838.3442758164709,
          784.9981126178527,
          1083.470220141294,
          1353.5445791827133,
          528.7249521691072,
          804.0681563475613,
          862.2827738100403,
          932.5036586452701,
          390.5672467540356,
          222.65177114366855,
          339.78477140521966,
          218.8484426835451,
          168.0196323927537,
          236.47405658879774,
          367.9469764271435,
          209.177593586398,
          132.24713184873687,
          261.3385283460256,
          361.356147040221,
          934.8396016393898,
          1210.7757985796334,
          1219.2332958004088,
          903.147613382282,
          46.444737115957906,
          464.3179762748012,
          267.5337993511252,
          168.36661476822906,
          345.5516398283734,
          492.0979152299556,
          368.49175679669736,
          450.3391806046299,
          904.9632736551298,
          1012.3265855993001,
          1088.1889481534477,
          983.1494170489805,
          569.736839230241,
          582.0940922242319,
          435.53636197755907,
          907.3429782869983,
          816.1664246172467,
          638.2126041950751,
          725.1823329499185,
          632.4055716411058,
          779.0922743067522,
          392.56357997292963,
          287.40886680223645,
          386.6310403427443,
          382.60124424871725,
          301.68371679528946,
          264.34703175988733,
          170.82032514059165,
          307.41949675396387,
          338.22367443866153,
          483.94894739042167,
          629.8941648878701,
          771.2451464612203,
          708.8699013338802,
          454.9624071702483,
          592.4142754027255,
          34.2880143111049,
          436.76433081332897,
          742.5676690641955,
          934.3398064840095,
          833.2193228566173,
          704.7583374107543,
          825.1659177683006,
          759.6356127738053,
          461.3576168151487,
          381.1586271110756,
          823.0478493482487,
          1014.3587075030755,
          627.4039861572471,
          987.4540990562408,
          703.9774239970573,
          663.2126381532436,
          898.023008983193,
          886.1951903826945,
          1135.2138334337335,
          1116.0294598852472,
          1137.6826993907653,
          1163.3886271721628,
          1318.7319402157534,
          1357.6817472465443,
          1293.1494701752763,
          1167.9028912893036,
          421.9049827498908,
          453.4357253455184,
          492.9515188975175,
          333.898729027645,
          397.48911229934174,
          447.00371086769667,
          515.0457103810088,
          392.68363866895226,
          675.1638996924338,
          631.9036754107759,
          159.97418950919993,
          22.494188614265678,
          16.077426756775008,
          82.36504839606916,
          40.188517276440116,
          202.35140496192514,
          288.7138514141547,
          96.52696994936484,
          68.81087148378332,
          107.73878419407619,
          299.64223742116303,
          612.9693704979347,
          935.9254447901769,
          662.4508779556554,
          1153.5330727095222,
          906.0204143149723,
          946.0236398662847,
          630.0697208553722,
          615.5748354482636,
          493.8280514598257,
          639.6791348440422,
          713.8061919364628,
          674.2811818151947,
          681.2871069448096,
          792.1890101446792,
          381.32015276141664,
          726.5610870623544,
          576.346045555193,
          1305.961912831502,
          960.5470799507143,
          1114.7683094252607,
          1306.0499415442953,
          1386.5885638422728,
          1312.7983782737044,
          1225.2095258228944,
          1194.938857797373,
          1227.0522309274947,
          1321.0360747196307,
          1088.3062374968936,
          1104.9747851317804,
          791.0201902173118,
          703.6430109198664,
          557.5923218561612,
          716.9561566161333,
          941.5008893994581,
          850.1109463197515,
          1096.6554658261734,
          1099.1851136170862,
          536.3592752738599,
          332.9378365093045,
          44.41940242170572,
          113.96257481450483,
          176.87731307162113,
          171.77790225078738,
          335.05446487220826,
          627.2561300483236,
          328.3102340161595,
          359.7725128484221,
          168.15230822886127,
          147.68488977684314,
          161.34263873290212,
          523.9773933962277,
          470.9409009219274,
          642.5343176398903,
          320.391800914935,
          470.0775098838986,
          66.21843825056945,
          390.16287565278566,
          263.06028175081025,
          570.1763381975051,
          264.1096431481791,
          555.320701886893,
          746.5217690540092,
          910.6153226364269,
          710.376671445193,
          921.0367166329106,
          940.3346035023432,
          738.4352174785814,
          938.071507991085,
          704.6037511758714,
          959.7269100229261,
          1237.873377051575,
          1406.2293539791763,
          694.7649812091603,
          519.5027632884006,
          560.5326224897552,
          6.841982681917077,
          4.127590103633528,
          114.32476724098262,
          71.26562798846119,
          83.77620014029493,
          616.6777374292645,
          198.19445589733996,
          485.9560591580479,
          371.547766521485,
          208.55314625570205,
          99.02366971329393,
          284.0828454358111,
          272.87256813894254,
          714.246631316342,
          604.6569655815586,
          575.9173584687185,
          880.2985041164144,
          321.82436629951593,
          262.6168079735665,
          286.7822763320492,
          213.92293459923826,
          387.5686473817068,
          69.38546092766612,
          254.01995228896294,
          427.7860232657394,
          125.60615291947641,
          24.93505105578983,
          284.9740421822809,
          340.3136283365936,
          219.06665906357185,
          184.22940061944536,
          239.56178383934864,
          138.093424820436,
          9.725936109490608,
          194.34166479660294,
          540.7569868628013,
          668.4886074496118,
          992.522928644985,
          1005.0080114199254,
          750.7229956805227,
          1152.3970890758276,
          750.4038217640639,
          1396.9018609691693,
          985.2600222440628,
          961.6725528813619,
          453.4555240771269,
          586.3659895914905,
          310.96527426745524,
          188.79290390711225,
          420.8683354866134,
          192.00692699480356,
          443.25767292378134,
          289.72298028976746,
          292.2233166221067,
          949.1231822003463,
          1308.745707936519,
          1255.219163591628,
          1005.0164827057578,
          974.6500983784535,
          951.4124857273893,
          835.5709063749599,
          724.4483625372798,
          861.788598951001,
          889.1089117645434,
          1400.7346059818292,
          1322.096802148611,
          877.6205900784832,
          760.3582850253376,
          944.9043516721008,
          713.1067878160061,
          249.85751143538374,
          47.096095237550955,
          19.234548529471695,
          412.11395975765134,
          405.5767242450032,
          805.430575052121,
          669.1688515499472,
          803.8210551534341,
          1009.8307739866107,
          858.678051701414,
          787.8688219918857,
          954.0594887951656,
          796.7497798017112,
          612.6875719742271,
          325.4685601552312,
          525.5006267201506,
          700.967881734221,
          698.969759544788,
          463.4182744826895,
          1050.6283260255423,
          1307.801919855308,
          1251.5070897780463,
          1402.796042086369,
          1334.2567283386898,
          949.4006566992854,
          1013.9198448572896,
          1042.1167632832216,
          166.43194637807795,
          138.12358282902133,
          561.8471781277349,
          590.2258813335075,
          1076.5996152678372,
          1078.7825251008935,
          340.8819957703523,
          788.7761042138775,
          899.8336290090984,
          1348.376497941961,
          1359.217259013348,
          1302.3315101738744,
          1137.943700103521,
          384.5759935057934,
          682.416374912783,
          809.7226159957906,
          647.7113936834053,
          789.1388865917327,
          977.5969753073349,
          601.5579494719457,
          809.0905830327373,
          629.6468230751701,
          502.73969542766565,
          424.8782266027183,
          37.10053432202345,
          441.60457352996616,
          591.5644532381108,
          523.612416213995,
          636.4164480298534,
          547.0480867131064,
          683.8447271065678,
          738.3748369519132,
          878.3510009347839,
          1184.662519866512,
          639.4190636660801,
          835.4981478678545,
          1037.0585386554303,
          1235.4083011313278,
          1182.0353296315297,
          1375.5359173539432,
          1224.5096536954616,
          788.215998497311,
          216.82743879678728,
          713.7803187155487,
          409.197297328716,
          585.3511849169149,
          613.2652294343962,
          734.6584714398296,
          564.2573640057851,
          709.6855519148728,
          683.7772093782843,
          692.9675535076896,
          897.4195504499359,
          812.7555017839004,
          551.4574045227309,
          1171.5612736272406,
          985.9928374703089,
          1258.8458813814248,
          850.9035317163078,
          834.6099183526684,
          730.5582758645396,
          750.9787443573309,
          1027.6870434801567,
          741.380790735957,
          497.2245081436301,
          937.8773208682672,
          1145.1478482810103,
          1045.113092682466,
          974.3003926405601,
          572.5779033875693,
          831.2141995746097,
          1071.5399663491255,
          337.1135314756534,
          156.48584795081248,
          256.5864280938777,
          428.3292522451541,
          535.0376820610929,
          8.690282030579837,
          68.06444216732662,
          174.9073526728087,
          275.9489382502281,
          473.6093177507138,
          100.74648429909148,
          24.19835409957845,
          306.4221235886323,
          155.3541161942749,
          596.3020538943764,
          903.4926183019446,
          772.1891878116083,
          171.92664241542676,
          19.842699544821567,
          196.67204268694394,
          30.451868675515055,
          229.17112790142366,
          365.3743204141304,
          193.47629031312024,
          162.9199614240406,
          103.27383219989257,
          447.6853731342361,
          648.940485626133,
          362.6419303862224,
          686.4352998054017,
          522.8977636553203,
          611.7656414879764,
          424.8479927201187,
          1046.0454528727214,
          1216.9337168695304,
          1224.5194961115346,
          957.936892949985,
          813.4649100804089,
          775.58304436715,
          357.03218708022496,
          381.5074436381591,
          78.36175782797935,
          201.55268544594486,
          58.88865816797479,
          194.74535522800107,
          83.2863272209706,
          246.14405426637524,
          363.7349427281648,
          770.2131500634566,
          495.4365445671917,
          680.1776955316188,
          370.8636914309756,
          146.68648492734107,
          75.97655338478714,
          199.9246064364184,
          40.838751700057074,
          259.34615473945985,
          733.8040275874761,
          965.9635228220482,
          114.72123148594633,
          182.34754912744827,
          498.85488661820506,
          306.7860405779737,
          663.3176966743791,
          595.6884858345471,
          735.2407391840034,
          688.6296888334899,
          658.9464281746307,
          502.6039047924715,
          598.1147011846986,
          822.7792900439605,
          778.5818166568462,
          848.3311555450573,
          906.2784165256913,
          1327.102096428991,
          1288.1839809671537,
          970.6259219321494,
          570.8451861417441,
          149.04827495418175,
          466.5579963033959,
          434.75453366260444,
          556.261658447445,
          465.6187654333952,
          423.0953774262067,
          276.4633750322955,
          60.12358339049881,
          104.03978063831156,
          783.3072136212359,
          1073.4715598698656,
          892.5778958207194,
          982.8077896715902,
          526.2236205199449,
          44.72553618135101,
          439.02530598449187,
          204.46116623646589,
          255.63258621452871,
          29.152569115312662,
          52.636264576350804,
          328.4415922330549,
          320.6119888289981,
          211.4452953259155,
          570.416025584209,
          590.4450279967326,
          245.8232406560114,
          65.54608001221642,
          53.514959017245076,
          221.28996082922637,
          487.45024953011443,
          109.95788924425922,
          165.23769190948215,
          184.75523291561802,
          419.0535219360815,
          325.38445506020463,
          238.0440181336319,
          196.86958028605213,
          236.93563088215976,
          373.9873871180945,
          279.8171672234437,
          291.9986561088729,
          320.1370854003501,
          230.17191263399016,
          91.10989833473413,
          1.198533611153657,
          205.93632079051693,
          323.138377856396,
          305.3763752762086,
          210.46455600247904,
          272.29636512667633,
          102.68540529858589,
          135.09870872533656,
          638.2469414680812,
          440.8211719497874,
          4.6970025818813035,
          325.35513166829855,
          159.72825324538366,
          321.09193137917737,
          571.9739182193176,
          362.3783399920205,
          317.7644216761878,
          473.0441524568201,
          599.8386980877403,
          171.59084854600434,
          356.8034686214692,
          334.82166006397244,
          873.6661136500081,
          930.6446098509718,
          933.8160982786185,
          1064.8361016236797,
          1292.0978492002125,
          1193.4853985486882,
          1095.2115552469684,
          992.262939996306,
          1398.2904771013202,
          1385.507477247722,
          1293.2808232291377,
          1336.011961260382,
          1263.146751311134,
          805.598070674314,
          738.6562962596205,
          1341.1768175718448,
          1383.0583045463623,
          1022.0292642916608,
          1336.0957802446862,
          1168.9242639284612,
          1385.709357099097,
          1053.8820045030823,
          1181.2095456270035,
          566.5538445736685,
          811.5354571399027,
          539.9766482337947,
          529.8276117055665,
          230.99972678992012,
          600.9233774129162,
          622.9595775461124,
          32.74659274921692,
          400.1359001540042,
          509.519988105933,
          221.7384693852745,
          455.73439551416635,
          198.89572047364047,
          319.7073885536096,
          590.5033938373307,
          955.8012317790244,
          1129.686329639534,
          535.2689969064246,
          492.7488790750143,
          308.21509714192126,
          5.4299699666903,
          238.84505764794437,
          392.7909851111216,
          371.59730523573563,
          572.0138527602192,
          755.4597649784461,
          1014.1092951254652,
          1217.1273568431466,
          987.1128399865005,
          1153.8676555009174,
          977.8874904945956,
          866.3423506753921,
          893.5545011140414,
          808.3711080944038,
          667.4238492336514,
          640.8125760452307,
          793.8074597149517,
          596.7095834099595,
          1025.0455852517416,
          1395.8588691954858,
          1281.4509460590675,
          1288.2906152787589,
          1343.037382401631,
          1381.0903355486173,
          853.0224029466559,
          1278.0275304428715,
          1102.7199347963885,
          1313.1519944420268,
          1338.0543667276033,
          1285.3918158816907,
          1171.8683226170767,
          994.2343599004097,
          1167.4684797305388,
          870.8514425809327,
          1115.8235433858652,
          794.0687917429469,
          576.8159393524057,
          559.0512806851775,
          580.2466027408236,
          653.4113095984745,
          393.8416266171825,
          359.1399571356655,
          210.86419724727722,
          307.19616763376405,
          190.6372615263648,
          615.0446297877138,
          246.48788443536122,
          148.19790387435432,
          152.839934932648,
          293.60348092656983,
          174.05215107101426,
          297.61475755494905,
          156.73115003066124,
          100.71958806589753,
          262.4037831977815,
          273.30239431860036,
          256.9732220650031,
          64.9153348962393,
          17.292315494335835,
          90.73147504656238,
          231.21581716721946,
          10.497460149230836,
          335.6956240865067,
          735.710104053052,
          1053.3102118956986,
          1134.6020485356387,
          1005.3223722394699,
          621.2485982280641,
          87.8905057620828,
          248.94254972555458,
          124.85806559184275,
          416.27279139504856,
          101.59338754388487,
          135.8873362532486,
          510.99635050366953,
          756.6959043228154,
          698.5416030522997,
          487.6186970788282,
          573.9897926920036,
          1000.9810247365838,
          753.4905753739483,
          786.4563268833274,
          887.2936113927889,
          1158.3804584659913,
          1310.2671063398052,
          1369.836282987153,
          1289.3611311798493,
          1207.4656696137565,
          1178.9092161242097,
          1243.6185449300208,
          1003.6190828403875,
          1138.300890970842,
          936.3639447151965,
          889.3686129871793,
          970.3265175448439,
          1099.6006183407292,
          1129.0204368628729,
          518.7606603551739,
          1050.399116860479,
          1164.8926426480998,
          1374.346655128069,
          962.0575924776613,
          1167.4859883761983,
          1102.6915500796024,
          1080.349183782373,
          456.7388958726875,
          571.4294923471188,
          195.18543736076023,
          23.58794544442082,
          335.2007697228006,
          158.3347211217865,
          376.947334860406,
          8.073997141259056,
          343.5576218434126,
          106.62965436266443,
          155.19635507064487,
          12.764648036891396,
          232.17099936576793,
          788.1315506776444,
          187.01297841971135,
          223.92774878410972,
          249.3367031032165,
          352.9893375189159,
          150.54239064216637,
          34.16405569030013,
          207.17363176394073,
          62.15029961486876,
          60.206160216638445,
          283.48435231670686,
          218.05141427006018,
          250.00316351394144,
          91.01896383853394,
          140.74885456824873,
          341.83311940794835,
          244.40410253010276,
          55.31995354019984,
          352.63055477623067,
          1186.0340856364135,
          1093.2107743157787,
          1173.213944252648,
          820.6339699658711,
          412.63700574457266,
          384.05273093628756,
          83.07513291382112,
          26.397246971503662,
          60.98437616217858,
          236.54325104428068,
          71.42128272893679,
          225.4399903421019,
          289.5020225917224,
          192.38045829463982,
          33.88265970255531,
          170.7599021626664,
          708.5948870584509,
          518.2913743821039,
          540.935936968259,
          695.0562703619378,
          514.042945973176,
          458.69640829559813,
          598.6650209082062,
          662.5987299818132,
          917.6675257901618,
          1220.9695587903902,
          1245.198957171421,
          1254.6793130216945,
          1224.4368190391672,
          1146.7995681306577,
          1269.002743202108,
          832.2028842026713,
          733.5446921269963,
          754.0715619085835,
          600.4005610651021,
          553.5690566791372,
          593.1583384098927,
          319.78809024392643,
          707.2628930322944,
          514.3376970689499,
          442.1587261839412,
          432.4347427172529,
          191.55470900585303,
          580.7769233626747,
          392.7839497091091,
          23.69184697827588,
          270.19288972716276,
          249.39541658951714,
          135.98400560202722,
          80.01051649391029,
          291.6807926927032,
          317.57677268940085,
          39.81803273394154,
          82.10958965335793,
          11.43828123889923,
          359.3799787290312,
          88.1938313082229,
          111.94972243155755,
          207.08980740756664,
          283.59434411390566,
          601.8348281531519,
          915.5072166513469,
          534.7733373604382,
          502.135324821997,
          409.6156698738284,
          986.5335175145144,
          1061.107645905206,
          1194.898762082677,
          1264.1961607926778,
          1300.8221492373477,
          1347.3239908327726,
          1322.0183389739216,
          1313.1906934549634,
          1395.9760556322378,
          1209.7507094109599,
          1193.1417079739938,
          1383.067328109051,
          1331.2086429908722,
          1384.2976331214127,
          1013.1051631751542,
          1094.6680163895667,
          1279.2001368063932,
          1359.0897084976557,
          957.9257722866148,
          1125.6274906491715,
          1302.5967077189925,
          1191.6915776478368,
          1088.6339935974884,
          1142.1921342533617,
          1104.2305760518122,
          985.4155403709437,
          924.4921575837583,
          724.5345469262184,
          725.7548649103385,
          818.7193750985836,
          1160.7877775558313,
          764.8493031840022,
          856.0278804554114,
          846.8889863809405,
          1050.9341881066725,
          1141.3135212619025,
          1145.7114650621577,
          1291.8938219521222,
          1353.5597178127,
          1049.3745056267765,
          1102.966023472933,
          877.8761741261634,
          1306.1809726694441,
          732.5149606533442,
          955.2949239957306,
          1038.7765878913756,
          921.2719416424034,
          1013.0659029254432,
          148.45504916391016,
          200.62162541320592,
          323.4912547679507,
          237.3494919632725,
          247.63474103807204,
          142.19916064960242,
          111.16484649253591,
          91.28241365628729,
          607.3421751007977,
          471.1334546494894,
          239.54405405030974,
          44.49140252620764,
          61.744456750901975,
          121.28132835122823,
          522.1199148720763,
          699.0524160504258,
          941.2815981527056,
          449.81162136347484,
          725.0413551207726,
          487.2608983958737,
          371.81412150846387,
          345.8550212628487,
          336.0010886205296,
          356.05341677424036,
          428.737114573419,
          199.24514627500255,
          106.78903648615011,
          233.29342337985838,
          12.915206202373083,
          25.3021628522734,
          70.14851241476168,
          228.2944779536679,
          54.44003992368937,
          77.18685138319233,
          211.51233034919443,
          200.53273065012843,
          311.88053960098193,
          265.0267085969261,
          199.05839398106588,
          0.40436307226918594,
          118.23591177753528,
          28.957750711269284,
          10.613782279010296,
          385.14206627850746,
          205.41423546761257,
          663.9889459856706,
          814.4902814267381,
          894.5048897475131,
          440.2265860980453,
          430.74892422141215,
          851.3805368274346,
          1039.854617211343,
          800.7745260123827,
          465.8142012207566,
          618.8921989775757,
          384.2227240209004,
          1181.840113306174,
          1253.4353397294321,
          1015.6632760205656,
          659.5269575085196,
          388.7834654142015,
          482.9759979284209,
          670.718975167352,
          1.7981521478927245,
          240.76157261040535,
          290.80143275918755,
          364.8815853951023,
          361.63187509683513,
          382.64219899417026,
          706.1292559922372,
          843.9423094699154,
          693.4766653918989,
          882.4927762662893,
          415.85673821133116,
          797.3609704469584,
          834.8239429309942,
          930.8657621252793,
          821.8399313759893,
          544.4737116619724,
          260.61606542994764,
          455.8767023208638,
          1063.6016511435203,
          924.4597383883347,
          1078.1268781664594,
          915.9633530317896,
          1035.9441159062512,
          1261.782015022402,
          922.8215153854596,
          999.7067894823175,
          783.9150725029114,
          1140.3778829153862,
          1083.9792515530576,
          762.1867142556758,
          873.9040454403249,
          744.612417346692,
          623.8162236509852,
          963.2147031185925,
          779.306768996659,
          1252.2817068103739,
          1292.3488282599365,
          1219.3976872925555,
          1100.0744780715013,
          1310.2204471049665,
          991.8664517113612,
          1265.7832370015847,
          1291.0464019595138,
          1198.9823599107913,
          742.2920980669832,
          873.5977252537331,
          1085.545825469118,
          426.4230580766941,
          480.74546304593133,
          191.3465566169084,
          153.6288999069017,
          0.7452870227790125,
          601.4229001604365,
          207.00442045462685,
          38.54233291230332,
          171.72664126367792,
          3.9470528454744622,
          14.947625618689825,
          0.8910087957423601,
          354.1224957846781,
          34.822089278191434,
          189.98164911220587,
          110.93687558504432,
          81.27104762787505,
          116.3822931778089,
          19.359191510903017,
          164.40035332757043,
          586.3400360148335,
          220.01393598776562,
          480.74296530055545,
          573.5667441023628,
          323.2482792920056,
          560.6461265364619,
          400.8113374101081,
          169.12785135470097,
          291.45788421953705,
          407.40196618665703,
          455.9713112497862,
          633.7911940477109,
          372.3020754674726,
          99.50498441912953,
          356.55586424615154,
          338.4223858894681,
          56.91198013536821,
          186.6825759156222,
          47.31392030047113,
          212.34101656519448,
          121.3104942767139,
          153.3346857543605,
          47.388735210679336,
          92.36686740053979,
          101.60747990467776,
          171.3681510635815,
          404.4013625031511,
          380.21750492143696,
          204.15383138699127,
          130.84089339859884,
          1.6917780136046472,
          105.67342607508068,
          165.11961004089858,
          39.18396056482073,
          107.37683936196198,
          301.92719650061446,
          549.4268722123932,
          444.4233020566761,
          341.4811579699314,
          475.0737683881219,
          318.45927698230736,
          82.54285154669019,
          291.4187108101649,
          479.52753486756086,
          539.0914819923701,
          481.4889990345079,
          412.59956810529576,
          202.06944136346593,
          33.26492622341506,
          105.16325141459328,
          414.23287766027744,
          519.5188414443007,
          419.1733695174609,
          374.0033273779535,
          365.7619988635885,
          243.1683217205887,
          265.45461903735094,
          115.04270747134898,
          270.6830703903753,
          105.71181951147712,
          218.75364323830738,
          458.53116185966866,
          492.73932009649843,
          714.0791814455775,
          1051.700337818261,
          864.827553627603,
          625.5867198454225,
          554.2304646052326,
          204.13457680642335,
          124.70712525834081,
          155.74981575762945,
          84.15818147585917,
          36.23100958000456,
          98.8761714373945,
          67.866319368727,
          26.588037978201033,
          172.68919028036808,
          13.189617339797307,
          192.36848220637782,
          0.6636437859690838,
          294.9244431545949,
          551.4435646403782,
          781.0376247272787,
          796.9832087375572,
          807.4749935039566,
          680.9540766020368,
          626.7421945756496,
          540.4787294995042,
          635.4298269542485,
          254.93590339363013,
          242.42701334693248,
          697.3651026655024,
          840.1143989372201,
          780.4430600945892,
          1287.7595085613236,
          1212.241965608655,
          878.3456957967371,
          766.6376752666793,
          710.3240710236033,
          691.6511871296974,
          1162.6550432958925,
          1001.9196901062825,
          1367.1586019424933,
          1385.1474860402259,
          1340.6271838442894,
          1244.4232103977524,
          895.0689828744861,
          1167.5643700317605,
          1373.1605935374798,
          1345.8812855508788,
          1265.7449782735698,
          1283.5010806356445,
          1041.067543685238,
          945.0099856335306,
          1029.7197171356938,
          994.0339525666068,
          838.6378782852258,
          455.60256087741516,
          198.46150029368263,
          171.95221824439648,
          257.55994771441584,
          750.3160199456393,
          853.6748146990179,
          344.107938339234,
          536.8731225018466,
          748.3678790165093,
          1130.8260183364823,
          1149.320513080819,
          1386.2738902228875,
          1399.3158375787154,
          1374.5596644659922,
          1382.583433052524,
          1217.9349390665777,
          1149.5351092946482,
          1264.19327543829,
          1375.3556680630525,
          1356.500290960671,
          969.8725180397532,
          1002.9979579681609,
          566.0614831811424,
          672.7977856916683,
          610.5953145070533,
          364.8238313622699,
          165.54635214544163,
          294.28980673670225,
          274.51201913585317,
          156.01622386093658,
          457.52928936320166,
          517.2543899041785,
          507.7242469516766,
          917.9046640793707,
          561.2368293349899,
          407.53757293274583,
          607.4524639942833,
          734.2637330328964,
          514.9034281577515,
          295.3675274368822,
          193.43155471715028,
          780.6041826987885,
          326.0920585478193,
          290.8317667355963,
          78.3444745809235,
          321.7985544607791,
          370.75957846083304,
          163.0000458384204,
          207.69643480190075,
          282.74322326437226,
          211.19077864743156,
          326.69478225483994,
          170.217726702151,
          265.12975600990995,
          347.44973152166364,
          369.95646032110017,
          169.14340638064823,
          335.32118813379105,
          922.9897477219054,
          1135.3091622623886,
          1039.2151782222727,
          685.548666884681,
          792.3828025896744,
          757.9247166636932,
          1108.1696119686405,
          1319.954396882063,
          1328.9090646537236,
          1357.9747677183814,
          1000.2688635868473,
          1132.6968139933003,
          768.1490373737034,
          833.2011703555705,
          502.24017322887977,
          499.195862872501,
          431.68477347477625,
          583.3935225573374,
          541.9948131816268,
          725.1493196873431,
          828.9811283321775,
          1283.910299589531,
          1058.4528429510424,
          694.8601039588492,
          573.8927926622868,
          1154.5350780354904,
          1133.9235640425027,
          1270.551068343983,
          1341.9363226832957,
          1399.0571631509306,
          1352.2603079177454,
          1193.0816160873585,
          1055.1531638574452,
          1225.1229876997425,
          1250.8739136848196,
          1323.467340346356,
          1108.2844674169253,
          1197.4982326493441,
          569.950705499874,
          621.4860949164812,
          1093.4011433992525,
          1067.5904951281161,
          1075.4470162639468,
          938.122904455943,
          1276.2459447148392,
          1127.4592905378117,
          971.5713550814548,
          748.9155747714487,
          602.3072420879288,
          539.1067091015483,
          1278.5180506069642,
          1212.731214671812,
          994.8147128143703,
          1173.1128029078934,
          1231.1668161311545,
          1259.4641816646322,
          1257.3689056304306,
          1076.4153194090495,
          967.8831743468857,
          1220.9411063062482,
          795.459448677516,
          894.899532100321,
          991.5245542573089,
          644.2671727907493,
          792.3729736253636,
          775.0847148201271,
          852.5233608948346,
          688.0905499359252,
          762.9749473950732,
          640.3167507087217,
          516.7740441286978,
          297.3664035907185,
          316.3071570892542,
          608.6616751172756,
          604.9294964436467,
          952.5107282690369,
          748.6733878544748,
          856.5315399185072,
          819.1693938842994,
          1097.6640927252329,
          1116.109084946726,
          1190.0919195607214,
          1128.0859853279462,
          935.5729173858781,
          399.7702814068208,
          582.2795757368576,
          978.7085104042405,
          775.4157543077913,
          681.0959466536971,
          880.7617319611643,
          959.8825472119074,
          734.3036948539594,
          600.4999480603159,
          722.5827656938949,
          414.5270391148281,
          869.3405250060474,
          421.33672326252423,
          200.35772773500443,
          107.88248034064304,
          67.55397971871606,
          1056.822251142971,
          758.754723185933,
          1090.8518333736693,
          1259.282127441726,
          554.7361078681422,
          240.48885085777687,
          451.28550821824024,
          408.8769026699579,
          242.59513657951862,
          265.3072618819062,
          526.8824912858558,
          700.3948384885539,
          432.0636290383593,
          660.2932716210486,
          618.8925524459156,
          685.4912122958688,
          680.0108526209771,
          1064.870579859063,
          958.1477752027539,
          706.1022503379859,
          1048.8523298329305,
          882.9520894786486,
          622.5209381871498,
          711.7285893970547,
          428.8745865928151,
          580.9846763881658,
          474.1112963292007,
          225.63080041437118,
          104.39280427155869,
          104.99640719945351,
          117.14585961298397,
          0.2981017237136334,
          782.756028770047,
          2.4367715910006877,
          380.08845933328905,
          174.6467440690963,
          329.6773415136529,
          396.55201063279,
          535.6290656470127,
          9.933503987969566,
          13.345019409587076,
          388.93121450853624,
          568.4404219147659,
          321.8554391760207,
          48.063622734701624,
          238.58071142539274,
          127.31697447795095,
          63.49602107735294,
          337.02897075484736,
          891.3422834799002,
          769.117784076745,
          1134.1580753529186,
          1132.9677231960598,
          1229.8481406464177,
          1040.961369682004,
          1050.1631476307641,
          780.5030408029407,
          1064.2816853456545,
          819.0311705806902,
          795.1158948434042,
          747.524948656364,
          690.3164030701003,
          484.47708438962263,
          725.6334174313118,
          309.4741844618363,
          356.9813719968316,
          405.7073979764903,
          811.7384405693301,
          1125.233519588152,
          835.0638837321186,
          672.7569037183293,
          848.3774300020674,
          757.9577080290277,
          916.4055780486847,
          844.2152025037176,
          869.0439973039041,
          1243.1010016821722,
          1177.7619984787777,
          1318.815023833473,
          965.620091564587,
          626.7522392991787,
          901.7033377520036,
          965.1538342011285,
          429.37230416337695,
          60.37283538858328,
          570.0682216292365,
          210.08466818801932,
          220.34060771171627,
          335.6841679772562,
          48.73902297555334,
          53.91788333474407,
          114.31668116517314,
          256.9074812744665,
          162.8087411377084,
          360.6682616657871,
          630.2164648828234,
          711.4125756080095,
          653.7227299888549,
          1144.8139607657038,
          754.4280338899817,
          916.9434834023355,
          557.7760389561153,
          246.94736650191652,
          243.74519801160653,
          8.933467925367392,
          341.03644217920936,
          595.0014831772281,
          587.7745144762187,
          391.1543655873001,
          695.2401168343154,
          763.2500160819235,
          998.6200832409927,
          909.4585045277057,
          736.7039748741103,
          841.0473731348894,
          1105.4686531381897,
          1355.8492486894636,
          1388.082827564619,
          1254.289645626639,
          964.3756519293921,
          1238.949342507027,
          1326.6117502965092,
          896.5246452065395,
          892.6345198117845,
          863.3897016664495,
          568.4316326129685,
          232.31900386111272,
          713.0736903970524,
          429.1452325520937,
          465.3174723245553,
          722.2842321115347,
          814.4827598320093,
          606.592407884546,
          643.6280896277735,
          248.99627382392174,
          328.59343613020485,
          449.6182988859902,
          632.1721019197746,
          381.98137775738707,
          934.5022525880272,
          437.0264599003074,
          296.2846337509477,
          23.697228332452983,
          36.20279236358348,
          273.2304221628453,
          321.4101442518985,
          239.0215039175556,
          83.00768620091014,
          378.65482229158727,
          669.2257920866011,
          903.579656122751,
          630.1282695696661,
          600.5307110293329,
          408.95802461475193,
          714.0906775811716,
          937.146970095934,
          1311.771073649544,
          1133.4462792547718,
          1024.8480947417136,
          935.3458687327893,
          1293.2049935538955,
          1193.7047474314597,
          1385.3528115218182,
          1322.8108411315607,
          1322.3128307972934,
          1393.928128599716,
          1322.9490919235816,
          1386.471372568399,
          1326.9618090288752,
          1242.2112257678566,
          1179.2538831767754,
          1021.8254744428077,
          1229.6208849021316,
          1344.9397843485087,
          1146.1406200118133,
          1090.3873390530011,
          1406.3682672104576,
          1279.712180734302,
          1281.0231451384077,
          1177.115870366486,
          1292.063825888213,
          1348.5613332967816,
          1194.0195959720652,
          1289.0218449593121,
          1304.6289749994528,
          1392.5667962678508,
          1332.0068744966318,
          1166.1553839039723,
          1240.3753112534755,
          756.4663067323067,
          717.0621123439818,
          1051.115031545099,
          784.2270002384059,
          646.4313381386087,
          365.19508594591184,
          588.5601629355122,
          109.31241237297705,
          444.571393813346,
          345.2190319575948,
          168.27836805346953,
          618.101851415015,
          160.04023632203436,
          41.497241224044124,
          66.029294046539,
          372.97852450422414,
          183.3107268410826,
          10.037057698870159,
          450.4596745516458,
          423.6711153892739,
          483.8850863979617,
          839.5338651947145,
          530.8568463289819,
          1075.72879639228,
          976.1851379177426,
          841.0543404714542,
          708.2586140931421,
          1060.8388009146083,
          762.1189901182556,
          898.2841768744534,
          1032.0029833451365,
          934.8783549764119,
          1270.9240279560152,
          1053.807526745852,
          1300.0577693677287,
          1192.0812712091597,
          714.9087610834499,
          362.1637332547571,
          15.037225511914642,
          119.68693827013932,
          22.248991900653955,
          103.20970054824987,
          446.9160673924672,
          644.8456356917807,
          520.3259064066399,
          656.1215896917942,
          43.289592189509435,
          232.8448697265852,
          0.9265497296841116,
          512.6331714715033,
          690.3406196453545,
          1063.4013108424092,
          776.732778059648,
          807.5860712854776,
          1402.0064266432782,
          1401.2675865502147,
          1378.7747816019782,
          1325.9929485089754,
          1099.5963357699213,
          1343.6609900783415,
          1148.0604736570378,
          1052.413365606388,
          1225.059697973832,
          1247.4410014067155,
          1156.0806062902996,
          1149.5383294010553,
          1389.386670413929,
          1057.592767485416,
          844.2272085615718,
          881.9003480275402,
          845.9541832598477,
          859.1229432493393,
          800.4281756812244,
          808.9059540719445,
          384.10264394457545,
          208.86336266265064,
          408.51230080804976,
          455.7947165546964,
          895.7657207792546,
          966.3197467578448,
          952.7415543176346,
          782.1905060746062,
          563.4807804534406,
          544.5340603697725,
          548.4205030599102,
          439.1541947689302,
          284.1649939812756,
          295.57547978486355,
          560.1122686700971,
          569.0440962515089,
          562.0143924376345,
          212.25685059995322,
          531.3024148229193,
          637.6182814803379,
          695.4027972410603,
          521.3412557652297,
          477.112120023259,
          524.8802287816688,
          156.31539939958122,
          140.09521604863252,
          454.64250374022157,
          227.41700153683942,
          115.20752900423257,
          62.913235134002825,
          13.44751525863854,
          204.1830637238085,
          509.7866408459211,
          921.7631639300314,
          1312.089014812773,
          1322.0471385254,
          1133.7921870529258,
          892.3627204228942,
          415.75957911506197,
          245.17635011033727,
          271.84816944017456,
          118.23560455435562,
          329.2830394702826,
          133.13019077023662,
          118.21105804709728,
          24.66088670739476,
          154.71396370738572,
          108.92136451273221,
          49.00908525917005,
          463.89587877988976,
          1100.479946019054,
          1169.1884764300833,
          813.7811393111491,
          884.75964411418,
          872.7548564604459,
          869.3050139350463,
          1011.0045346304066,
          650.9264052474821,
          1092.774837596196,
          1098.7619329776808,
          788.2627766514214,
          368.32583871385543,
          718.47706027947,
          958.8462159000456,
          831.9599391163397,
          983.8410840837023,
          737.3172111829209,
          1053.393722617997,
          624.0629880736057,
          506.5845539045902,
          943.6369965870418,
          720.0436616275258,
          714.0985322030094,
          531.4155954166209,
          848.1309667817774,
          730.9788507115283,
          983.7917128382264,
          1058.8615346695663,
          1334.8270822918387,
          1405.0412362172108,
          1145.942391318615,
          1271.089101781228,
          1310.845588575945,
          1384.3476152300054,
          1210.6115592123335,
          1175.5356660735667,
          1379.6738256090043,
          1232.2102784399954,
          1352.2671936666434,
          530.8378798412239,
          968.6431940759843,
          1004.359768525677,
          781.712686711481,
          740.4096334994848,
          253.69624032736988,
          39.211018435924174,
          32.10100069266644,
          48.39794090832776,
          164.80757839372873,
          80.01575155033143,
          90.01640442944067,
          257.7473425546559,
          192.7954736868473,
          440.76509738463966,
          207.6840789150982,
          129.09622470362314,
          102.84848451796353,
          397.9998982043133,
          116.85131804306148,
          360.0377007964358,
          335.2749872130729,
          325.5442664161842,
          760.5735214106988,
          714.2785754612496,
          885.9075950659653,
          1218.4754971796501,
          1107.044313314071,
          1219.1728805139487,
          1264.819622193436,
          997.6938950918915,
          937.5599761242273,
          1032.8902330145745,
          898.019559842045,
          730.8537718821121,
          1405.797798607737,
          997.6669713976679,
          1305.4380194604282,
          1330.7513160833337,
          660.733830712629,
          623.8760117608589,
          499.2313206078603,
          266.88338910726037,
          77.29998821141834,
          62.72280172591589,
          140.5495039938216,
          170.45326907243262,
          283.12898040921965,
          166.50161138274072,
          254.219661578914,
          374.05330979024967,
          777.6561104347804,
          1011.948956617338,
          1018.2795012942838,
          1229.4013560911835,
          992.0346187755019,
          755.7796923745098,
          905.0970071431425,
          979.7960185304336,
          876.216948591296,
          602.6723235969932,
          452.37349720911845,
          550.9400643104915,
          883.0431539452394,
          410.9887240470106,
          356.35857382261236,
          873.642327502122,
          1268.6631704595598,
          824.443597847488,
          769.4927132649502,
          919.5955958103306,
          490.72519834036024,
          481.61899137053905,
          452.02578705064076,
          380.25308079101,
          495.2358913238866,
          413.6675423015767,
          174.56872173893626,
          63.1929244138864,
          398.6007863180545,
          646.6183311901891,
          287.27715384787075,
          176.00861769696743,
          681.883994765365,
          786.7670834951998,
          829.6186241514376,
          811.9880431809532,
          1038.3764692023685,
          1380.3288099474312,
          1299.5545120064203,
          1135.9370187466589,
          968.6886638535105,
          1099.1543044662849,
          1145.157953639851,
          949.7788054406404,
          764.747476062751,
          786.8295978522848,
          886.065192684528,
          502.6545639754986,
          652.4832014390685,
          497.2226138643498,
          652.6739759596004,
          630.607291963996,
          407.1262036025714,
          82.12359510144026,
          364.6974363334067,
          892.7957775132408,
          791.3182854026325,
          405.5754984946748,
          387.2003668640568,
          446.5315270728175,
          97.39330196082919,
          371.13684762006307,
          174.6616421075099,
          92.62559973283913,
          95.6945941269252,
          487.7542522764777,
          485.6567720060985,
          357.39635874071587,
          63.31581801758895,
          38.398049421114834,
          111.45199812861425,
          304.103383058337,
          137.70741419022326,
          88.39765418958373,
          334.9355147348937,
          323.64103541790433,
          53.84055848630984,
          91.76638517391822,
          87.43388994451705,
          292.06622333715063,
          521.2972964044653,
          370.75138297479197,
          362.12727490721727,
          253.12513524330805,
          233.38383324508146,
          287.2825600838995,
          405.6554490004357,
          658.3064884856282,
          654.3429358052871,
          449.8433331680824,
          405.31817805109375,
          461.21060259723004,
          40.282613033543896,
          142.32648037196844,
          142.48902908583588,
          73.04663594139257,
          88.22719266294168,
          103.75941562931534,
          295.46648706158686,
          42.59166357467406,
          264.66845097259215,
          315.58670236568616,
          252.26892810856668,
          732.640764750416,
          637.3610307870886,
          434.515517688917,
          539.1313657828694,
          277.51402113188385,
          537.3681325383166,
          416.6062240681164,
          1055.479110534044,
          937.0693633467697,
          469.0560403620904,
          463.93749828392686,
          710.9516837619975,
          781.6380560477154,
          1059.9418594811398,
          963.9572916785133,
          920.7067922171296,
          1149.3485795912966,
          1299.9209849398123,
          1002.947714121013,
          675.1041354660911,
          404.6366940379223,
          281.159968284627,
          489.23937666513484,
          660.4009705281866,
          855.4038029808686,
          1053.127378870454,
          1179.1430957181378,
          968.3655481950892,
          1208.826115240593,
          1398.0399855883416,
          1273.512994768139,
          931.6647509515141,
          1055.075328704486,
          1088.6815134226688,
          760.0800861850837,
          908.9633052958269,
          628.706192842346,
          341.14269093255155,
          1097.2284486930553,
          1081.7028297865147,
          1286.1452864904802,
          961.1504665330132,
          792.0960853169432,
          935.6448405212496,
          749.8147979454126,
          718.626224605039,
          807.4017661557336,
          719.6439443666578,
          767.8139800220865,
          362.600801400183,
          110.66191445430317,
          86.6292144129028,
          21.554230109534927,
          453.8116228939589,
          254.92508011896103,
          568.214492133702,
          943.4588539852956,
          891.6770184953342,
          1089.0278542558349,
          1172.8216338251032,
          9.392429706238737,
          675.3358311525367,
          653.1998774351202,
          824.5834667643417,
          494.20351953193676,
          238.46184940951954,
          60.46309216045192,
          196.13984776447083,
          487.93982705221214,
          291.57252063418224,
          557.4839451087017,
          436.32726710715076,
          741.1925730155004,
          897.3622757754151,
          884.6361758874968,
          1293.7292355169172,
          1297.3010621572528,
          1324.1970569390562,
          1368.7087723367092,
          1268.063334146653,
          1035.962554526686,
          895.8086616906477,
          1329.0909309996462,
          1189.047363067967,
          857.2502409645143,
          819.7148176064068,
          880.2013924504686,
          968.3042549416591,
          925.762209532985,
          974.0225059578985,
          886.0846047013285,
          739.8769166156801,
          367.769468455717,
          236.59227008951115,
          74.51610089094066,
          182.7160722535826,
          410.81922989728037,
          162.52289619858888,
          40.774668503253444,
          123.79296375175107,
          175.31790988050415,
          434.13380215701125,
          573.6902134509802,
          519.9918344972582,
          476.6154803055361,
          875.8589705256697,
          1036.4494280918198,
          650.8088395047012,
          750.2967563246033,
          847.0170864601479,
          431.10171405331704,
          333.63718413472293,
          113.06968986558559,
          16.84273077456856,
          108.91910701716388,
          63.88569657725046,
          151.95845304798024,
          206.88669844286147,
          215.96240969514557,
          375.4342964682454,
          241.53150532856313,
          520.4904321583499,
          761.8259743979415,
          828.5263601120711,
          1110.228029412359,
          1037.4593990073015,
          964.2570860018208,
          804.0219257897895,
          801.0331882499981,
          711.5983006362562,
          1191.207898435015,
          852.5360925521484,
          815.3252028853598,
          701.1652324783661,
          563.3673633917138,
          956.0854845935089,
          1131.0692904967702,
          803.6109264436086,
          708.3367622992903,
          592.9145242431126,
          414.15035401374183,
          251.17016715400456,
          572.0720158713553,
          706.1839074094438,
          1403.727876259444,
          1191.6565313026144,
          1234.6328058576441,
          1187.7257168345807,
          1053.966503147034,
          1195.6099427377762,
          1074.7865005292094,
          1013.7441394973521,
          1294.3320401536241,
          1335.1529278601345,
          1243.2321682730826,
          1326.0204195301171,
          1262.7873310283994,
          1271.8171361847453,
          1249.3997319214318,
          1190.4624707508185,
          1006.0437495749893,
          1087.1540568333105,
          724.3327304702719,
          1262.7862440731558,
          1111.1260296321323,
          740.1979374259956,
          777.7675700931175,
          481.35144592291635,
          1043.9829844621381,
          1145.3771373514928,
          1178.8507616217266,
          1327.6998399363395,
          1399.2900143943311,
          1119.892072448435,
          825.9285850668132,
          704.3699450352278,
          919.3302060945182,
          689.5964196010275,
          838.4612108581669,
          583.9716022728085,
          36.567321849579635,
          66.95979841897702,
          481.24612485244353,
          353.32571476074565,
          648.0374668528773,
          641.9443960435497,
          316.03455045745517,
          352.6446872890806,
          237.66084670017068,
          158.37711858937925,
          233.79507144315428,
          640.5288743824715,
          850.407239646453,
          928.2963696637715,
          945.2104190746546,
          519.6156037979085,
          287.2811387081305,
          213.44568463834617,
          25.421909735908862,
          199.25056838927813,
          30.991761866637763,
          209.5535693268287,
          192.75000958417596,
          152.9784144849515,
          131.1493510770698,
          118.84983696233826,
          330.4118180582069,
          167.33814204297323,
          257.2220975917365,
          310.42299737467255,
          59.33640721921687,
          36.986999276525474,
          227.19641735701865,
          294.69608585986424,
          633.002795536076,
          675.7294600928044,
          513.2494830355629,
          713.5653761389634,
          657.4431035032003,
          481.33686922273495,
          80.51256891951843,
          4.608943508692627,
          45.79460554710698,
          5.36433221924652,
          111.65497681007776,
          514.0302660760457,
          207.9738773956925,
          239.4475445622061,
          341.81508116412334,
          900.3004487876337,
          1246.995932899826,
          1306.1068644165373,
          1146.9300586592299,
          1010.4231908881245,
          882.911354624307,
          655.8261871094464,
          636.6511737620498,
          405.9294547888617,
          515.81221391018,
          239.0246148160678,
          252.26706835510524,
          65.78152310668925,
          70.35941217703609,
          105.00112556516878,
          269.09374141503287,
          206.79809097429282,
          33.71047478896479,
          61.82249423182864,
          212.73151051195762,
          211.11441717754948,
          211.16604437575862,
          143.68648180812482,
          492.6164374121393,
          484.6666192611763,
          310.1458293874574,
          918.4432096763235,
          50.73152098825449,
          8.775838484761927,
          13.16868376015467,
          162.09835223340198,
          705.3117605901235,
          755.3797276063137,
          1319.6240658168267,
          1343.3038876450362,
          1383.1388447683992,
          1197.815864280504,
          1199.1399569647292,
          1399.6813557167866,
          1271.8115908878483,
          1159.8386741617758,
          861.6873123333489,
          1110.8950762863649,
          807.2505487962366,
          508.3339379646121,
          641.8049652866054,
          537.5780091361182,
          691.6279281837284,
          550.5402978110764,
          565.6437146949308,
          738.2864898351596,
          611.2312645624881,
          736.5100773082606,
          520.1323619914276,
          495.04595281307684,
          445.2055914806363,
          505.43698817702676,
          175.6522665706884,
          219.36566321390933,
          476.8933755475251,
          9.368964866129588,
          127.9293273965766,
          392.1335950114918,
          579.6325633300207,
          411.98999257263,
          343.8516824163705,
          520.8529995335628,
          530.7866556855653,
          566.2671631035589,
          300.8841856744155,
          10.460564850006127,
          368.52579640146655,
          408.23227428265056,
          373.5700794027572,
          166.17172013784824,
          503.68216034840555,
          648.53628140322,
          755.7063270921376,
          294.39045367338684,
          210.07655553521568,
          654.3527879682625,
          667.4754730845586,
          181.68360083962085,
          266.1424372013757,
          180.53276585541718,
          319.19618505895187,
          187.0676105139818,
          136.01271916636856,
          530.0798262936478,
          335.0404045216573,
          627.001787888562,
          849.4227897767057,
          1133.379967720023,
          1142.5776223815983,
          671.147784258358,
          656.9191265426075,
          447.4972498859118,
          442.63198873479354,
          765.184624519755,
          1015.1605646011873,
          490.1367648983522,
          536.662065328456,
          317.44472598850945,
          244.15643144778872,
          315.34333570969267,
          204.15221690927146,
          466.0508908213296,
          319.8569134093317,
          486.44540971119335,
          337.8878368414083,
          454.08244312709974,
          456.7565896183879,
          508.99065184515445,
          800.2279782038855,
          913.3256323132188,
          857.6057619420304,
          804.0654602065072,
          1129.4742334973275,
          1210.1998619707372,
          1216.7121695752928,
          1288.692882931583,
          1207.3170109066818,
          1378.9196808680124,
          1319.9276588900493,
          1384.0936289108522,
          1348.4224626436285,
          1398.9095423984568,
          1346.4771499022627,
          785.3151020230306,
          1022.8735555966725,
          285.3670576660375,
          274.4618248067544,
          37.25108137500803,
          227.6881092486968,
          458.38511064177095,
          299.8462998220769,
          376.11227762912335,
          306.93045205446697,
          533.836341023422,
          708.0362528328111,
          738.3223088580736,
          407.42256373864376,
          659.1431497344297,
          304.3754920973976,
          723.3094703531633,
          598.8735378180994,
          205.6831262371408,
          373.5635165581963,
          45.48252585620773,
          211.62072389942452,
          336.07636728116375,
          639.5340077231602,
          885.5745568573186,
          1242.4802945429085,
          972.5649544463936,
          1339.9467478732913,
          1093.984405674028,
          1295.0591015364873,
          1351.5494363244952,
          1342.3995568580513,
          1252.531978573498,
          1255.4105864870091,
          1303.3508555307517,
          1066.369837519985,
          707.3950721528122,
          405.38882696581356,
          169.34464830761289,
          335.8618181197394,
          96.28448541104969,
          32.76808301880096,
          493.54795879794625,
          184.33518396617382,
          406.8072589979564,
          724.8771053278982,
          544.1310188359223,
          1065.3700755799982,
          1300.3929140548237,
          1104.261535152933,
          500.6719450539653,
          228.80777949851344,
          95.56979313686796,
          0.8398528187811678,
          122.99620996872704,
          303.439612910374,
          795.376894316904,
          643.5989711045172,
          590.4738791710793,
          323.36895617101857,
          832.0378894353898,
          668.9659165012492,
          1259.1908359797533,
          1171.1890799225077,
          734.8362701843315,
          641.2578401652817,
          734.9567338371166,
          1052.0638213821992,
          1119.790042085141,
          1189.5416039439556,
          1281.425526461507,
          1401.6003404724086,
          986.4964311065651,
          1044.1266112640353,
          1125.0679517184894,
          1048.5862320771523,
          1300.7802412968515,
          1335.1184401331654,
          1206.5448664267933,
          1391.789535662388,
          1229.533422854343,
          1009.0670326238329,
          862.4723215500891,
          545.2729477362166,
          579.7688362538418,
          327.1708518185852,
          336.8788608222962,
          274.64007148821435,
          118.54152760389992,
          223.4996125466844,
          180.55915129530007,
          789.9413876513916,
          1137.327308657969,
          1077.001642179098,
          948.9872676432695,
          1406.0664168950457,
          1374.7736555812105,
          1333.273257727063,
          1199.9000085327173,
          1345.1240251071454,
          1139.4438173122783,
          1171.36240486695,
          1250.5549844016468,
          1033.8025408992507,
          1138.0375062271078,
          1070.2568573393996,
          911.8378858985442,
          1287.8362079658532,
          1356.5684320280777,
          1356.431886989362,
          1262.6537825826208,
          779.0698671795815,
          687.0689217458497,
          1098.5183607869478,
          1166.2337265190076,
          1376.9026569412372,
          1381.5433573942214,
          1394.2939782505425,
          858.0959738989601,
          684.0487239629817,
          1279.4164387955614,
          1225.6828859353584,
          1045.2327782164446,
          824.0714593452644,
          722.8817737907673,
          366.769939279531,
          554.6593532747377,
          284.5709277417241,
          208.1529295743277,
          319.38207192833204,
          406.71792994790775,
          574.2187003298728,
          343.81759307694676,
          326.5728802104118,
          747.2173329503976,
          741.8188100145292,
          1226.7609147783626,
          1338.2414837756132,
          1270.8526993900284,
          1191.1267188728887,
          1395.9787590865558,
          1097.4546441793966,
          1345.550257279241,
          1322.507243914631,
          1245.0993693862465,
          1142.554802766704,
          1174.4886310753805,
          1377.721568398939,
          1391.568237493571,
          1347.9200533598435,
          966.5261427749301,
          1059.937993306985,
          1173.698457416381,
          904.5787706932254,
          1345.0341811167389,
          1084.027560725916,
          775.8669511833031,
          806.8612527595828,
          1035.032815358327,
          1104.3231766637177,
          799.8193784058321,
          955.9671632496647,
          978.3440127506848,
          378.2432391727201,
          517.0022126656363,
          577.9982996279178,
          75.5469504840224,
          282.2562429720875,
          482.4508484610135,
          964.3050798751584,
          581.3384612749572,
          130.00724418400236,
          304.58233025593375,
          393.5145685637995,
          445.77909137946074,
          967.7017245743755,
          595.2208823124018,
          630.9384993059282,
          40.61347376899871,
          182.50113030398563,
          344.3873250679468,
          570.5787090323411,
          781.1363127487607,
          936.5193852663435,
          543.4740262413187,
          648.593700102187,
          962.1858700772566,
          1089.3427895626846,
          1329.9982588856628,
          905.5492227857427,
          1115.3306582458417,
          853.0058393727943,
          1218.3088159338315,
          683.5386622479659,
          39.99650485141208,
          50.443228801073595,
          532.79165859685,
          844.4352100748129,
          539.1795857619411,
          860.1226155773783,
          1167.1642188550595,
          1039.7722419125578,
          1004.8472815038981,
          502.77838852496245,
          651.7934112930254,
          925.6746435001711,
          890.8906180202035,
          369.3511825972466,
          108.83382677365617,
          418.0221785566467,
          585.7325122815824,
          966.7740413768936,
          1193.2319193513522,
          1051.3274811342317,
          885.5342762639419,
          1091.622805163913,
          1097.673249935736,
          1121.7415519944943,
          1125.0123798471789,
          1244.728060993599,
          783.3624577990074,
          278.4428391061613,
          168.1855212038845,
          396.9486173689463,
          676.4153478496406,
          791.028304847298,
          1317.4356430813946,
          749.3069906329507,
          957.1327030122119,
          1136.3865939470434,
          1096.8637105734422,
          1119.4080052353168,
          1400.6241361577017,
          1108.2863233601945,
          493.72807380432636,
          525.2010057032188,
          1068.2808939850715,
          721.40073312588,
          763.9098618454835,
          565.7590244010353,
          996.6148833621869,
          912.7087141004287,
          1239.527003342617,
          1286.031784199416,
          1212.5359498483829,
          1067.0003753946326,
          767.7874063435033,
          1046.084786478144,
          884.9703573075379,
          814.5810475899171,
          936.757832472511,
          782.768067223631,
          646.7810412014869,
          19.566153797747422,
          527.6952545724588,
          537.836219028302,
          992.6190631228675,
          630.373429423485,
          532.6355877710529,
          653.6166226210837,
          827.5154812850964,
          637.9888423523795,
          667.9744791010929,
          234.28010797608522,
          170.55650331042474,
          47.98929011948011,
          246.0268157232056,
          730.8966414538471,
          779.9454136610101,
          700.0443159812019,
          468.68561635120136,
          608.1320845978335,
          66.76277870168846,
          147.76080500082688,
          305.4428766193707,
          451.81896274084585,
          485.97381065406455,
          606.1680950384037,
          824.0035880297319,
          665.2377487558327,
          230.23120849494174,
          504.9630137476985,
          263.40220455730116,
          718.9844128981672,
          449.2723604232988,
          685.7710072627972,
          377.8163170021369,
          568.2826968937213,
          493.98810593830933,
          659.0402154693223,
          979.1174468386841,
          616.3432484573717,
          376.45301646501554,
          539.2349506863133,
          666.9425147506985,
          665.5165541516126,
          937.1821989699533,
          1100.7261677939184,
          979.3024684908497,
          942.7417125567307,
          961.9458862478749,
          827.8512416569561,
          1352.9142977099093,
          1160.818754211892,
          1272.9948447966008,
          1040.3421623126185,
          913.8822238573092,
          1179.4990035514625,
          1125.7648399886712,
          849.1031311143062,
          719.5150388199066,
          598.2337623566882,
          535.4867268008792,
          969.7976377114906,
          768.9401354653663,
          1096.931052756408,
          1064.3041011359423,
          1023.2686377476258,
          1221.6443242752189,
          1200.2538651332234,
          997.9786892609828,
          589.221650494802,
          190.35654357061313,
          268.6824571684168,
          174.64498792292952,
          40.50559906616508,
          216.73417357361345,
          196.8438425033743,
          313.3277958695956,
          658.0402758168578,
          171.290865623692,
          134.72497428450416,
          330.5852079133481,
          29.867721838165334,
          325.1499064130886,
          759.9666935889488,
          707.9720670216992,
          67.8048569447751,
          307.7526594891017,
          397.33141140010196,
          284.6840678903041,
          168.8264087232037,
          239.20562196718288,
          503.6278281747205,
          724.751074719517,
          798.7346058349456,
          1134.3866311206782,
          971.8720819108402,
          1321.8580196161458,
          862.3256938319422,
          817.8638068857416,
          675.3507959779027,
          504.5071170520822,
          579.0539818271096,
          759.202921957477,
          875.751628913451,
          870.5871186471634,
          935.5299946653186,
          1374.218646226543,
          1217.4184623570663,
          1205.7351216587213,
          1285.246353614533,
          1330.9527178878482,
          1301.8852564247713,
          1405.4780751395645,
          1327.7771258273478,
          1143.7618599826278,
          839.1862803028248,
          598.5593495995629,
          1173.762247271722,
          1231.7593442155128,
          1144.2761439099359,
          1393.0666518832982,
          1271.530472053603,
          1402.4450361454046,
          1371.955952751996,
          1093.8211101511629,
          1080.750324367029,
          1255.4219317179072,
          833.7741893294904,
          586.3022382376993,
          1001.8307895086319,
          1267.1655668461267,
          1080.8111934340604,
          946.3076242200675,
          1098.7029991661757,
          1223.1325909859665,
          1122.8730937226358,
          1032.5052732515112,
          931.2290821883482,
          1128.0534704066158,
          428.9151450934783,
          159.93355534181006,
          514.9836711943955,
          459.3807897705537,
          154.43306919358056,
          318.4565927468985,
          369.5889309908562,
          23.04650458612966,
          267.6232026776545,
          175.35290418721036,
          25.157904020413415,
          189.7975255026568,
          400.3793674607461,
          527.6311773516234,
          547.6339886104787,
          568.3558234401138,
          611.3819136921525,
          552.3879016525343,
          217.1249883311176,
          106.82825212718475,
          258.8810034559729,
          334.448413250965,
          353.8732305009672,
          83.43701517683692,
          133.56136595527812,
          200.0088206954716,
          516.3290861089401,
          66.27251916289177,
          52.38093838533683,
          69.58770521803648,
          7.059508173085935,
          20.90744118698087,
          406.18317212957436,
          653.2585578065303,
          853.7590608485039,
          468.8783855088736,
          192.07029873765944,
          312.6315051938232,
          587.8286380852635,
          490.6897295963148,
          416.487905213889,
          819.7467399571705,
          700.2310649012821,
          510.07003048055697,
          517.268389801065,
          653.3941309047595,
          879.0028134030334,
          868.9143727950884,
          865.2670453219961,
          398.42270349164687,
          447.4081798833391,
          679.3926753145386,
          889.8429603433024,
          456.7066422903826,
          103.36051725582227,
          451.2113250224064,
          1357.5447037020124,
          1058.9368458868412,
          729.9430648605179,
          1199.8404863964965,
          1069.2230899942292,
          833.0858168341895,
          1024.1092189478788,
          1161.9927670051648,
          1090.1022560428496,
          928.1404944029854,
          1194.2734794306152,
          746.6973533427957,
          1019.2055743071018,
          1037.735920293625,
          1098.169880141134,
          1040.8422449256198,
          1313.6828859518328,
          1335.7614247822175,
          1192.8154003377213,
          1083.3121100012656,
          1239.8679899733825,
          1046.0706905842596,
          1186.0904846329267,
          1377.3849185626736,
          288.2980313810745,
          685.8298391125273,
          404.4064135654013,
          531.9522062191385,
          204.28497131860456,
          3.062460294011844,
          458.3281101521103,
          239.61415816395169,
          1.7291206035143325,
          47.14492404065799,
          52.03524555990376,
          31.748369049685525,
          94.8781116077854,
          381.3254674946806,
          104.15760820391819,
          24.36890766755751,
          55.379720592162755,
          57.11390235828727,
          321.641390067336,
          294.0697221355905,
          189.97691148014826,
          240.20993609641903,
          657.7758938841324,
          383.75356652766783,
          913.3566089873372,
          1238.7105895169905,
          984.9737820684461,
          1274.8327267629097,
          1277.7706373555188,
          1260.3934588060133,
          1249.7810405808673,
          1230.6591828581988,
          1246.6329720026126,
          1289.5145042338697,
          1278.6212720743304,
          1106.8312400773043,
          1365.000293986006,
          1335.0347699398603,
          1294.8628971093633,
          1263.2617695984275,
          1130.007395952078,
          1138.7628044443586,
          1325.7121817822099,
          1233.26395285532,
          1375.7489415006617,
          1081.1677996545718,
          936.8263717968587,
          877.2112781360224,
          477.4356552938212,
          441.5385845009596,
          640.5570692866228,
          565.6995233658314,
          903.6342328766443,
          1166.420152092186,
          763.6169526204765,
          834.6520064677653,
          513.3223178259801,
          576.1465083755885,
          994.5690881844372,
          821.9076685525278,
          1019.2959441529501,
          858.7498590117114,
          355.29239329876015,
          125.99715312059365,
          168.9722664695488,
          303.4720296811247,
          642.950256982841,
          897.6391090400398,
          1255.2064326665811,
          1151.9931733794442,
          1218.451671767046,
          1363.699959819223,
          1356.5424633633156,
          1248.2895691489505,
          1307.188141728652,
          859.623503641323,
          809.4606952275194,
          949.6922789234451,
          976.2371052203612,
          846.508547658409,
          967.2266467389283,
          1141.5375424462918,
          1185.1516404555593,
          971.2320690548569,
          255.1285472109387,
          417.64719132768266,
          578.4852162083399,
          859.4548981664783,
          1304.5855360564674,
          1391.4807556762375,
          980.5541605618516,
          782.5162809944914,
          641.9431235051288,
          875.3750957189715,
          1371.7668769871657,
          1273.5041639745823,
          1373.9567073171647,
          1181.4785897631098,
          708.623609780447,
          510.95839054727384,
          690.7831249499158,
          504.119896921188,
          509.53005620713407,
          445.97418914520574,
          206.26085294601393,
          270.45485181070364,
          690.6227477248613,
          1081.6349792610408,
          1011.6691874083755,
          1068.6193108004416,
          1255.2883928716867,
          1260.157334263058,
          1384.4473079205884,
          1347.348321992274,
          1220.2917294038955,
          864.292913851196,
          922.4047919647024,
          82.39207389096278,
          75.80073120550637,
          720.9714455866466,
          266.6935077891527,
          49.566984499215806,
          118.50165494765307,
          10.442753263777636,
          297.71834788981903,
          809.4036259052829,
          1166.2254127937535,
          1364.2084780214177,
          1072.2253761028362,
          969.6136798728655,
          939.4277233057103,
          752.3920382090524,
          979.3842161303543,
          1071.0113790250139,
          663.4116399972856,
          764.6891224434918,
          877.0492961346081,
          459.7630639266657,
          680.9022385467124,
          506.4595913896522,
          899.1705130215739,
          727.8143184195941,
          587.7201929643388,
          900.1091259400023,
          1147.543345285241,
          965.4893994123698,
          683.0138477397375,
          694.3501195840008,
          631.913447401492,
          776.9359646132834,
          1223.5255672683218,
          1268.044584497688,
          1292.5995895310357,
          728.4803349343954,
          1161.285498820297,
          812.2784507551019,
          1225.1049123250195,
          1351.738589589706,
          1177.7136607249024,
          719.3734834498654,
          593.1726053374499,
          602.2474584886894,
          227.9035616624443,
          240.0674513390664,
          322.02513377682646,
          203.76446160522585,
          579.53742997957,
          849.7778528159514,
          1248.752831699271,
          1199.796443345878,
          967.2174053270257,
          496.8756770007612,
          594.7885821469481,
          411.8038553065557,
          478.0291406097729,
          633.6457073569346,
          1026.449892820244,
          694.1679951474065,
          911.8026926675028,
          430.6363852516394,
          536.082678373933,
          656.4814367198107,
          525.0342290631313,
          494.0038880205738,
          45.91829541614729,
          133.41391673204782,
          461.6126254999821,
          120.3559812970461,
          81.35760732914729,
          116.14572917661552,
          94.61158719378429,
          295.125926972899,
          214.34354176884247,
          429.48524600030436,
          749.3106866507584,
          969.9661099578462,
          1267.9444629144373,
          1199.2065489511133,
          963.1489143243681,
          1128.287427237173,
          1188.150244082687,
          1196.4331147939265,
          1248.611136051282,
          1080.5041591590061,
          1368.6062692792796,
          1300.304580238924,
          1123.217187231161,
          1397.1252321156192,
          1333.8363537146624,
          1266.6819155049736,
          1317.2054345073313,
          856.7177300939904,
          828.6148459357454,
          525.2069473043708,
          264.3497326568616,
          503.61845681232444,
          601.6460263682093,
          823.4367743875003,
          710.7180578003552,
          1224.7316705677597,
          1396.8255209238694,
          1285.1383966922515,
          1355.258450086162,
          591.7161121576701,
          858.4311037072356,
          753.4520255668131,
          388.52135740746627,
          460.0900251290317,
          690.6643882225039,
          547.489862130127,
          756.2131936006527,
          1043.5957804888665,
          1230.2613551311142,
          1253.9736598318952,
          1404.2493838366026,
          1394.7968029099566,
          1298.553460740727,
          1099.7376811376369,
          812.7144792502513,
          927.0853699106132,
          1335.831648961175,
          1327.9317250713955,
          1085.669840962139,
          1170.9377995233276,
          1364.4974999006495,
          1252.3701993384311,
          1255.8801435620333,
          1119.2119667248726,
          981.8570088225733,
          1104.1644209530332,
          876.9604916467537,
          1292.9527905446255,
          1349.3697166457775,
          1077.6339435080433,
          1405.7684847677306,
          1032.234086998427,
          1187.9002089161745,
          1105.5327194185274,
          1171.3375440150257,
          1228.376855846475,
          1030.4181470031792,
          681.0593402105844,
          939.0839366866047,
          1158.3727665932765,
          525.539461017651,
          508.5485075945656,
          458.95377362070866,
          582.6225628227926,
          46.14520594527406,
          49.6538254869291,
          278.3646979475946,
          230.48275651112684,
          33.34126661493792,
          116.14224475541127,
          90.90287555176033,
          310.09893781948017,
          277.62636260017814,
          238.9476691235851,
          8.608333439645936,
          138.17097507750586,
          337.1155387415654,
          210.1258126620802,
          327.1464093668109,
          442.84286277578605,
          774.8559139117525,
          1092.612091675643,
          1150.975463911849,
          1401.872760475911,
          1216.8217616840818,
          1375.6124514760716,
          1118.3499642632655,
          1251.737790090198,
          872.5633518448367,
          1364.9779215120495,
          1372.5621349607718,
          1251.0805103739972,
          1153.6400211766418,
          1208.943797891144,
          829.7391563140161,
          832.2239606605963,
          1183.7801525960413,
          612.3892063567594,
          417.7538169308221,
          44.56057646804198,
          70.75526454249625,
          3.1234579745920006,
          267.375664555383,
          134.56924207301313,
          161.7238637777833,
          229.36500991116876,
          475.7395665753149,
          877.2393673073279,
          908.2199476413213,
          800.1255886925856,
          991.7450156901008,
          600.0151132499019,
          595.2056455766158,
          439.65579261483725,
          598.1167156989604,
          627.0115362258813,
          311.56261957278207,
          164.2877812840702,
          198.51972542135246,
          220.91949572069296,
          391.5488024435991,
          150.4907590153192,
          56.17991439081746,
          26.942240488479438,
          627.250548983508,
          512.7787745922491,
          92.12528870260446,
          126.5908126948971,
          220.1968943931045,
          318.90095007209806,
          173.9823890056285,
          268.69864894806454,
          145.69057389158667,
          640.3937496739062,
          696.0215580671569,
          678.0721266074806,
          614.2712461597872,
          413.8339357464134,
          67.28318579651663,
          537.7695600620333,
          325.4387352529059,
          329.66559257732007,
          465.9428718069161,
          309.90487618693805,
          362.5255380515086,
          255.1556784565444,
          373.7612507360374,
          381.61596372362203,
          356.3423609940952,
          332.12050380667125,
          388.32324870107425,
          645.8862031226954,
          66.30806099540742,
          390.8744995793512,
          229.58142291431676,
          470.7113083369374,
          363.95147120014474,
          13.094436358091507,
          258.6201246467378,
          111.87931473241777,
          155.29055078772666,
          100.79841277831474,
          589.8991898438512,
          403.92086181042794,
          386.3496408832693,
          231.43046052136253,
          227.95676805992892
         ],
         "y0": " ",
         "yaxis": "y"
        }
       ],
       "layout": {
        "legend": {
         "tracegroupgap": 0
        },
        "margin": {
         "t": 60
        },
        "template": {
         "data": {
          "bar": [
           {
            "error_x": {
             "color": "#2a3f5f"
            },
            "error_y": {
             "color": "#2a3f5f"
            },
            "marker": {
             "line": {
              "color": "#E5ECF6",
              "width": 0.5
             },
             "pattern": {
              "fillmode": "overlay",
              "size": 10,
              "solidity": 0.2
             }
            },
            "type": "bar"
           }
          ],
          "barpolar": [
           {
            "marker": {
             "line": {
              "color": "#E5ECF6",
              "width": 0.5
             },
             "pattern": {
              "fillmode": "overlay",
              "size": 10,
              "solidity": 0.2
             }
            },
            "type": "barpolar"
           }
          ],
          "carpet": [
           {
            "aaxis": {
             "endlinecolor": "#2a3f5f",
             "gridcolor": "white",
             "linecolor": "white",
             "minorgridcolor": "white",
             "startlinecolor": "#2a3f5f"
            },
            "baxis": {
             "endlinecolor": "#2a3f5f",
             "gridcolor": "white",
             "linecolor": "white",
             "minorgridcolor": "white",
             "startlinecolor": "#2a3f5f"
            },
            "type": "carpet"
           }
          ],
          "choropleth": [
           {
            "colorbar": {
             "outlinewidth": 0,
             "ticks": ""
            },
            "type": "choropleth"
           }
          ],
          "contour": [
           {
            "colorbar": {
             "outlinewidth": 0,
             "ticks": ""
            },
            "colorscale": [
             [
              0,
              "#0d0887"
             ],
             [
              0.1111111111111111,
              "#46039f"
             ],
             [
              0.2222222222222222,
              "#7201a8"
             ],
             [
              0.3333333333333333,
              "#9c179e"
             ],
             [
              0.4444444444444444,
              "#bd3786"
             ],
             [
              0.5555555555555556,
              "#d8576b"
             ],
             [
              0.6666666666666666,
              "#ed7953"
             ],
             [
              0.7777777777777778,
              "#fb9f3a"
             ],
             [
              0.8888888888888888,
              "#fdca26"
             ],
             [
              1,
              "#f0f921"
             ]
            ],
            "type": "contour"
           }
          ],
          "contourcarpet": [
           {
            "colorbar": {
             "outlinewidth": 0,
             "ticks": ""
            },
            "type": "contourcarpet"
           }
          ],
          "heatmap": [
           {
            "colorbar": {
             "outlinewidth": 0,
             "ticks": ""
            },
            "colorscale": [
             [
              0,
              "#0d0887"
             ],
             [
              0.1111111111111111,
              "#46039f"
             ],
             [
              0.2222222222222222,
              "#7201a8"
             ],
             [
              0.3333333333333333,
              "#9c179e"
             ],
             [
              0.4444444444444444,
              "#bd3786"
             ],
             [
              0.5555555555555556,
              "#d8576b"
             ],
             [
              0.6666666666666666,
              "#ed7953"
             ],
             [
              0.7777777777777778,
              "#fb9f3a"
             ],
             [
              0.8888888888888888,
              "#fdca26"
             ],
             [
              1,
              "#f0f921"
             ]
            ],
            "type": "heatmap"
           }
          ],
          "heatmapgl": [
           {
            "colorbar": {
             "outlinewidth": 0,
             "ticks": ""
            },
            "colorscale": [
             [
              0,
              "#0d0887"
             ],
             [
              0.1111111111111111,
              "#46039f"
             ],
             [
              0.2222222222222222,
              "#7201a8"
             ],
             [
              0.3333333333333333,
              "#9c179e"
             ],
             [
              0.4444444444444444,
              "#bd3786"
             ],
             [
              0.5555555555555556,
              "#d8576b"
             ],
             [
              0.6666666666666666,
              "#ed7953"
             ],
             [
              0.7777777777777778,
              "#fb9f3a"
             ],
             [
              0.8888888888888888,
              "#fdca26"
             ],
             [
              1,
              "#f0f921"
             ]
            ],
            "type": "heatmapgl"
           }
          ],
          "histogram": [
           {
            "marker": {
             "pattern": {
              "fillmode": "overlay",
              "size": 10,
              "solidity": 0.2
             }
            },
            "type": "histogram"
           }
          ],
          "histogram2d": [
           {
            "colorbar": {
             "outlinewidth": 0,
             "ticks": ""
            },
            "colorscale": [
             [
              0,
              "#0d0887"
             ],
             [
              0.1111111111111111,
              "#46039f"
             ],
             [
              0.2222222222222222,
              "#7201a8"
             ],
             [
              0.3333333333333333,
              "#9c179e"
             ],
             [
              0.4444444444444444,
              "#bd3786"
             ],
             [
              0.5555555555555556,
              "#d8576b"
             ],
             [
              0.6666666666666666,
              "#ed7953"
             ],
             [
              0.7777777777777778,
              "#fb9f3a"
             ],
             [
              0.8888888888888888,
              "#fdca26"
             ],
             [
              1,
              "#f0f921"
             ]
            ],
            "type": "histogram2d"
           }
          ],
          "histogram2dcontour": [
           {
            "colorbar": {
             "outlinewidth": 0,
             "ticks": ""
            },
            "colorscale": [
             [
              0,
              "#0d0887"
             ],
             [
              0.1111111111111111,
              "#46039f"
             ],
             [
              0.2222222222222222,
              "#7201a8"
             ],
             [
              0.3333333333333333,
              "#9c179e"
             ],
             [
              0.4444444444444444,
              "#bd3786"
             ],
             [
              0.5555555555555556,
              "#d8576b"
             ],
             [
              0.6666666666666666,
              "#ed7953"
             ],
             [
              0.7777777777777778,
              "#fb9f3a"
             ],
             [
              0.8888888888888888,
              "#fdca26"
             ],
             [
              1,
              "#f0f921"
             ]
            ],
            "type": "histogram2dcontour"
           }
          ],
          "mesh3d": [
           {
            "colorbar": {
             "outlinewidth": 0,
             "ticks": ""
            },
            "type": "mesh3d"
           }
          ],
          "parcoords": [
           {
            "line": {
             "colorbar": {
              "outlinewidth": 0,
              "ticks": ""
             }
            },
            "type": "parcoords"
           }
          ],
          "pie": [
           {
            "automargin": true,
            "type": "pie"
           }
          ],
          "scatter": [
           {
            "fillpattern": {
             "fillmode": "overlay",
             "size": 10,
             "solidity": 0.2
            },
            "type": "scatter"
           }
          ],
          "scatter3d": [
           {
            "line": {
             "colorbar": {
              "outlinewidth": 0,
              "ticks": ""
             }
            },
            "marker": {
             "colorbar": {
              "outlinewidth": 0,
              "ticks": ""
             }
            },
            "type": "scatter3d"
           }
          ],
          "scattercarpet": [
           {
            "marker": {
             "colorbar": {
              "outlinewidth": 0,
              "ticks": ""
             }
            },
            "type": "scattercarpet"
           }
          ],
          "scattergeo": [
           {
            "marker": {
             "colorbar": {
              "outlinewidth": 0,
              "ticks": ""
             }
            },
            "type": "scattergeo"
           }
          ],
          "scattergl": [
           {
            "marker": {
             "colorbar": {
              "outlinewidth": 0,
              "ticks": ""
             }
            },
            "type": "scattergl"
           }
          ],
          "scattermapbox": [
           {
            "marker": {
             "colorbar": {
              "outlinewidth": 0,
              "ticks": ""
             }
            },
            "type": "scattermapbox"
           }
          ],
          "scatterpolar": [
           {
            "marker": {
             "colorbar": {
              "outlinewidth": 0,
              "ticks": ""
             }
            },
            "type": "scatterpolar"
           }
          ],
          "scatterpolargl": [
           {
            "marker": {
             "colorbar": {
              "outlinewidth": 0,
              "ticks": ""
             }
            },
            "type": "scatterpolargl"
           }
          ],
          "scatterternary": [
           {
            "marker": {
             "colorbar": {
              "outlinewidth": 0,
              "ticks": ""
             }
            },
            "type": "scatterternary"
           }
          ],
          "surface": [
           {
            "colorbar": {
             "outlinewidth": 0,
             "ticks": ""
            },
            "colorscale": [
             [
              0,
              "#0d0887"
             ],
             [
              0.1111111111111111,
              "#46039f"
             ],
             [
              0.2222222222222222,
              "#7201a8"
             ],
             [
              0.3333333333333333,
              "#9c179e"
             ],
             [
              0.4444444444444444,
              "#bd3786"
             ],
             [
              0.5555555555555556,
              "#d8576b"
             ],
             [
              0.6666666666666666,
              "#ed7953"
             ],
             [
              0.7777777777777778,
              "#fb9f3a"
             ],
             [
              0.8888888888888888,
              "#fdca26"
             ],
             [
              1,
              "#f0f921"
             ]
            ],
            "type": "surface"
           }
          ],
          "table": [
           {
            "cells": {
             "fill": {
              "color": "#EBF0F8"
             },
             "line": {
              "color": "white"
             }
            },
            "header": {
             "fill": {
              "color": "#C8D4E3"
             },
             "line": {
              "color": "white"
             }
            },
            "type": "table"
           }
          ]
         },
         "layout": {
          "annotationdefaults": {
           "arrowcolor": "#2a3f5f",
           "arrowhead": 0,
           "arrowwidth": 1
          },
          "autotypenumbers": "strict",
          "coloraxis": {
           "colorbar": {
            "outlinewidth": 0,
            "ticks": ""
           }
          },
          "colorscale": {
           "diverging": [
            [
             0,
             "#8e0152"
            ],
            [
             0.1,
             "#c51b7d"
            ],
            [
             0.2,
             "#de77ae"
            ],
            [
             0.3,
             "#f1b6da"
            ],
            [
             0.4,
             "#fde0ef"
            ],
            [
             0.5,
             "#f7f7f7"
            ],
            [
             0.6,
             "#e6f5d0"
            ],
            [
             0.7,
             "#b8e186"
            ],
            [
             0.8,
             "#7fbc41"
            ],
            [
             0.9,
             "#4d9221"
            ],
            [
             1,
             "#276419"
            ]
           ],
           "sequential": [
            [
             0,
             "#0d0887"
            ],
            [
             0.1111111111111111,
             "#46039f"
            ],
            [
             0.2222222222222222,
             "#7201a8"
            ],
            [
             0.3333333333333333,
             "#9c179e"
            ],
            [
             0.4444444444444444,
             "#bd3786"
            ],
            [
             0.5555555555555556,
             "#d8576b"
            ],
            [
             0.6666666666666666,
             "#ed7953"
            ],
            [
             0.7777777777777778,
             "#fb9f3a"
            ],
            [
             0.8888888888888888,
             "#fdca26"
            ],
            [
             1,
             "#f0f921"
            ]
           ],
           "sequentialminus": [
            [
             0,
             "#0d0887"
            ],
            [
             0.1111111111111111,
             "#46039f"
            ],
            [
             0.2222222222222222,
             "#7201a8"
            ],
            [
             0.3333333333333333,
             "#9c179e"
            ],
            [
             0.4444444444444444,
             "#bd3786"
            ],
            [
             0.5555555555555556,
             "#d8576b"
            ],
            [
             0.6666666666666666,
             "#ed7953"
            ],
            [
             0.7777777777777778,
             "#fb9f3a"
            ],
            [
             0.8888888888888888,
             "#fdca26"
            ],
            [
             1,
             "#f0f921"
            ]
           ]
          },
          "colorway": [
           "#636efa",
           "#EF553B",
           "#00cc96",
           "#ab63fa",
           "#FFA15A",
           "#19d3f3",
           "#FF6692",
           "#B6E880",
           "#FF97FF",
           "#FECB52"
          ],
          "font": {
           "color": "#2a3f5f"
          },
          "geo": {
           "bgcolor": "white",
           "lakecolor": "white",
           "landcolor": "#E5ECF6",
           "showlakes": true,
           "showland": true,
           "subunitcolor": "white"
          },
          "hoverlabel": {
           "align": "left"
          },
          "hovermode": "closest",
          "mapbox": {
           "style": "light"
          },
          "paper_bgcolor": "white",
          "plot_bgcolor": "#E5ECF6",
          "polar": {
           "angularaxis": {
            "gridcolor": "white",
            "linecolor": "white",
            "ticks": ""
           },
           "bgcolor": "#E5ECF6",
           "radialaxis": {
            "gridcolor": "white",
            "linecolor": "white",
            "ticks": ""
           }
          },
          "scene": {
           "xaxis": {
            "backgroundcolor": "#E5ECF6",
            "gridcolor": "white",
            "gridwidth": 2,
            "linecolor": "white",
            "showbackground": true,
            "ticks": "",
            "zerolinecolor": "white"
           },
           "yaxis": {
            "backgroundcolor": "#E5ECF6",
            "gridcolor": "white",
            "gridwidth": 2,
            "linecolor": "white",
            "showbackground": true,
            "ticks": "",
            "zerolinecolor": "white"
           },
           "zaxis": {
            "backgroundcolor": "#E5ECF6",
            "gridcolor": "white",
            "gridwidth": 2,
            "linecolor": "white",
            "showbackground": true,
            "ticks": "",
            "zerolinecolor": "white"
           }
          },
          "shapedefaults": {
           "line": {
            "color": "#2a3f5f"
           }
          },
          "ternary": {
           "aaxis": {
            "gridcolor": "white",
            "linecolor": "white",
            "ticks": ""
           },
           "baxis": {
            "gridcolor": "white",
            "linecolor": "white",
            "ticks": ""
           },
           "bgcolor": "#E5ECF6",
           "caxis": {
            "gridcolor": "white",
            "linecolor": "white",
            "ticks": ""
           }
          },
          "title": {
           "x": 0.05
          },
          "xaxis": {
           "automargin": true,
           "gridcolor": "white",
           "linecolor": "white",
           "ticks": "",
           "title": {
            "standoff": 15
           },
           "zerolinecolor": "white",
           "zerolinewidth": 2
          },
          "yaxis": {
           "automargin": true,
           "gridcolor": "white",
           "linecolor": "white",
           "ticks": "",
           "title": {
            "standoff": 15
           },
           "zerolinecolor": "white",
           "zerolinewidth": 2
          }
         }
        },
        "violinmode": "group",
        "xaxis": {
         "anchor": "y",
         "domain": [
          0,
          1
         ]
        },
        "yaxis": {
         "anchor": "x",
         "domain": [
          0,
          1
         ],
         "title": {
          "text": "Distance"
         }
        }
       }
      }
     },
     "metadata": {},
     "output_type": "display_data"
    },
    {
     "data": {
      "application/vnd.plotly.v1+json": {
       "config": {
        "plotlyServerURL": "https://plot.ly"
       },
       "data": [
        {
         "alignmentgroup": "True",
         "box": {
          "visible": true
         },
         "hovertemplate": "Distance=%{y}<extra></extra>",
         "legendgroup": "",
         "marker": {
          "color": "#636efa"
         },
         "name": "",
         "offsetgroup": "",
         "orientation": "v",
         "points": "all",
         "scalegroup": "True",
         "showlegend": false,
         "type": "violin",
         "x0": " ",
         "xaxis": "x",
         "y": [
          0.8280920610796115,
          0,
          2.1033392840997727,
          0.7011130946995714,
          2.1033392841002168,
          2.5928495569012774e-15,
          0,
          0.7011130947004551,
          2.1577213017473845e-12,
          0,
          0,
          0,
          6.823666391542164,
          0.7011130947003131,
          0.7011130947003131,
          0.6505074397075791,
          0.6541975526755264,
          0,
          0.6550898353428571,
          0.6550898353428571,
          3.111167456669888,
          2.1622749196999997,
          0,
          7.408122873815352,
          6.373988214111507e-13,
          0,
          1.1730789430453945e-12,
          1.402226189399941,
          0.7011130947003131,
          0.701113094699989,
          0.8254477855276032,
          4.00876795064918e-11,
          0,
          0.7011130947004551,
          0.8254477855276037,
          0,
          0.701113094700376,
          3.111167456669888,
          0.7011130946999615,
          2.6091991937612153,
          0.7011130946999615,
          0.7011130946999088,
          0.7011130946993211,
          0,
          0,
          0,
          1.1730789430453945e-12,
          0,
          0,
          0,
          0,
          0,
          0,
          0,
          1.2645186029271391e-11,
          1.5122503763970374e-11,
          0,
          0,
          4.267533531179491e-12,
          2.00438397532459e-11,
          2.1577213017473845e-12,
          0,
          0,
          0.7011130946993211,
          0.6538013420057984,
          2.654065358819352,
          2.6540653588193623,
          0,
          0,
          0.701113094700376,
          0,
          2.1033392841002168,
          0.7011130946995714,
          0,
          1.1082270915206578,
          0,
          0.6416265808684734,
          0.6361659710151399,
          0.6416265808675136,
          0,
          2.103339284100216,
          1.5122503763970374e-11,
          3.111167456670291,
          2.62772842058926,
          0,
          2.62772842058926,
          0,
          6.9317926410350506,
          5.719008687672384,
          0.8818290627607693,
          0.7011130947021773,
          2.6643434488143978,
          4.267533531179491e-12,
          2.00438397532459e-11,
          2.2613424120259538
         ],
         "y0": " ",
         "yaxis": "y"
        }
       ],
       "layout": {
        "legend": {
         "tracegroupgap": 0
        },
        "margin": {
         "t": 60
        },
        "template": {
         "data": {
          "bar": [
           {
            "error_x": {
             "color": "#2a3f5f"
            },
            "error_y": {
             "color": "#2a3f5f"
            },
            "marker": {
             "line": {
              "color": "#E5ECF6",
              "width": 0.5
             },
             "pattern": {
              "fillmode": "overlay",
              "size": 10,
              "solidity": 0.2
             }
            },
            "type": "bar"
           }
          ],
          "barpolar": [
           {
            "marker": {
             "line": {
              "color": "#E5ECF6",
              "width": 0.5
             },
             "pattern": {
              "fillmode": "overlay",
              "size": 10,
              "solidity": 0.2
             }
            },
            "type": "barpolar"
           }
          ],
          "carpet": [
           {
            "aaxis": {
             "endlinecolor": "#2a3f5f",
             "gridcolor": "white",
             "linecolor": "white",
             "minorgridcolor": "white",
             "startlinecolor": "#2a3f5f"
            },
            "baxis": {
             "endlinecolor": "#2a3f5f",
             "gridcolor": "white",
             "linecolor": "white",
             "minorgridcolor": "white",
             "startlinecolor": "#2a3f5f"
            },
            "type": "carpet"
           }
          ],
          "choropleth": [
           {
            "colorbar": {
             "outlinewidth": 0,
             "ticks": ""
            },
            "type": "choropleth"
           }
          ],
          "contour": [
           {
            "colorbar": {
             "outlinewidth": 0,
             "ticks": ""
            },
            "colorscale": [
             [
              0,
              "#0d0887"
             ],
             [
              0.1111111111111111,
              "#46039f"
             ],
             [
              0.2222222222222222,
              "#7201a8"
             ],
             [
              0.3333333333333333,
              "#9c179e"
             ],
             [
              0.4444444444444444,
              "#bd3786"
             ],
             [
              0.5555555555555556,
              "#d8576b"
             ],
             [
              0.6666666666666666,
              "#ed7953"
             ],
             [
              0.7777777777777778,
              "#fb9f3a"
             ],
             [
              0.8888888888888888,
              "#fdca26"
             ],
             [
              1,
              "#f0f921"
             ]
            ],
            "type": "contour"
           }
          ],
          "contourcarpet": [
           {
            "colorbar": {
             "outlinewidth": 0,
             "ticks": ""
            },
            "type": "contourcarpet"
           }
          ],
          "heatmap": [
           {
            "colorbar": {
             "outlinewidth": 0,
             "ticks": ""
            },
            "colorscale": [
             [
              0,
              "#0d0887"
             ],
             [
              0.1111111111111111,
              "#46039f"
             ],
             [
              0.2222222222222222,
              "#7201a8"
             ],
             [
              0.3333333333333333,
              "#9c179e"
             ],
             [
              0.4444444444444444,
              "#bd3786"
             ],
             [
              0.5555555555555556,
              "#d8576b"
             ],
             [
              0.6666666666666666,
              "#ed7953"
             ],
             [
              0.7777777777777778,
              "#fb9f3a"
             ],
             [
              0.8888888888888888,
              "#fdca26"
             ],
             [
              1,
              "#f0f921"
             ]
            ],
            "type": "heatmap"
           }
          ],
          "heatmapgl": [
           {
            "colorbar": {
             "outlinewidth": 0,
             "ticks": ""
            },
            "colorscale": [
             [
              0,
              "#0d0887"
             ],
             [
              0.1111111111111111,
              "#46039f"
             ],
             [
              0.2222222222222222,
              "#7201a8"
             ],
             [
              0.3333333333333333,
              "#9c179e"
             ],
             [
              0.4444444444444444,
              "#bd3786"
             ],
             [
              0.5555555555555556,
              "#d8576b"
             ],
             [
              0.6666666666666666,
              "#ed7953"
             ],
             [
              0.7777777777777778,
              "#fb9f3a"
             ],
             [
              0.8888888888888888,
              "#fdca26"
             ],
             [
              1,
              "#f0f921"
             ]
            ],
            "type": "heatmapgl"
           }
          ],
          "histogram": [
           {
            "marker": {
             "pattern": {
              "fillmode": "overlay",
              "size": 10,
              "solidity": 0.2
             }
            },
            "type": "histogram"
           }
          ],
          "histogram2d": [
           {
            "colorbar": {
             "outlinewidth": 0,
             "ticks": ""
            },
            "colorscale": [
             [
              0,
              "#0d0887"
             ],
             [
              0.1111111111111111,
              "#46039f"
             ],
             [
              0.2222222222222222,
              "#7201a8"
             ],
             [
              0.3333333333333333,
              "#9c179e"
             ],
             [
              0.4444444444444444,
              "#bd3786"
             ],
             [
              0.5555555555555556,
              "#d8576b"
             ],
             [
              0.6666666666666666,
              "#ed7953"
             ],
             [
              0.7777777777777778,
              "#fb9f3a"
             ],
             [
              0.8888888888888888,
              "#fdca26"
             ],
             [
              1,
              "#f0f921"
             ]
            ],
            "type": "histogram2d"
           }
          ],
          "histogram2dcontour": [
           {
            "colorbar": {
             "outlinewidth": 0,
             "ticks": ""
            },
            "colorscale": [
             [
              0,
              "#0d0887"
             ],
             [
              0.1111111111111111,
              "#46039f"
             ],
             [
              0.2222222222222222,
              "#7201a8"
             ],
             [
              0.3333333333333333,
              "#9c179e"
             ],
             [
              0.4444444444444444,
              "#bd3786"
             ],
             [
              0.5555555555555556,
              "#d8576b"
             ],
             [
              0.6666666666666666,
              "#ed7953"
             ],
             [
              0.7777777777777778,
              "#fb9f3a"
             ],
             [
              0.8888888888888888,
              "#fdca26"
             ],
             [
              1,
              "#f0f921"
             ]
            ],
            "type": "histogram2dcontour"
           }
          ],
          "mesh3d": [
           {
            "colorbar": {
             "outlinewidth": 0,
             "ticks": ""
            },
            "type": "mesh3d"
           }
          ],
          "parcoords": [
           {
            "line": {
             "colorbar": {
              "outlinewidth": 0,
              "ticks": ""
             }
            },
            "type": "parcoords"
           }
          ],
          "pie": [
           {
            "automargin": true,
            "type": "pie"
           }
          ],
          "scatter": [
           {
            "fillpattern": {
             "fillmode": "overlay",
             "size": 10,
             "solidity": 0.2
            },
            "type": "scatter"
           }
          ],
          "scatter3d": [
           {
            "line": {
             "colorbar": {
              "outlinewidth": 0,
              "ticks": ""
             }
            },
            "marker": {
             "colorbar": {
              "outlinewidth": 0,
              "ticks": ""
             }
            },
            "type": "scatter3d"
           }
          ],
          "scattercarpet": [
           {
            "marker": {
             "colorbar": {
              "outlinewidth": 0,
              "ticks": ""
             }
            },
            "type": "scattercarpet"
           }
          ],
          "scattergeo": [
           {
            "marker": {
             "colorbar": {
              "outlinewidth": 0,
              "ticks": ""
             }
            },
            "type": "scattergeo"
           }
          ],
          "scattergl": [
           {
            "marker": {
             "colorbar": {
              "outlinewidth": 0,
              "ticks": ""
             }
            },
            "type": "scattergl"
           }
          ],
          "scattermapbox": [
           {
            "marker": {
             "colorbar": {
              "outlinewidth": 0,
              "ticks": ""
             }
            },
            "type": "scattermapbox"
           }
          ],
          "scatterpolar": [
           {
            "marker": {
             "colorbar": {
              "outlinewidth": 0,
              "ticks": ""
             }
            },
            "type": "scatterpolar"
           }
          ],
          "scatterpolargl": [
           {
            "marker": {
             "colorbar": {
              "outlinewidth": 0,
              "ticks": ""
             }
            },
            "type": "scatterpolargl"
           }
          ],
          "scatterternary": [
           {
            "marker": {
             "colorbar": {
              "outlinewidth": 0,
              "ticks": ""
             }
            },
            "type": "scatterternary"
           }
          ],
          "surface": [
           {
            "colorbar": {
             "outlinewidth": 0,
             "ticks": ""
            },
            "colorscale": [
             [
              0,
              "#0d0887"
             ],
             [
              0.1111111111111111,
              "#46039f"
             ],
             [
              0.2222222222222222,
              "#7201a8"
             ],
             [
              0.3333333333333333,
              "#9c179e"
             ],
             [
              0.4444444444444444,
              "#bd3786"
             ],
             [
              0.5555555555555556,
              "#d8576b"
             ],
             [
              0.6666666666666666,
              "#ed7953"
             ],
             [
              0.7777777777777778,
              "#fb9f3a"
             ],
             [
              0.8888888888888888,
              "#fdca26"
             ],
             [
              1,
              "#f0f921"
             ]
            ],
            "type": "surface"
           }
          ],
          "table": [
           {
            "cells": {
             "fill": {
              "color": "#EBF0F8"
             },
             "line": {
              "color": "white"
             }
            },
            "header": {
             "fill": {
              "color": "#C8D4E3"
             },
             "line": {
              "color": "white"
             }
            },
            "type": "table"
           }
          ]
         },
         "layout": {
          "annotationdefaults": {
           "arrowcolor": "#2a3f5f",
           "arrowhead": 0,
           "arrowwidth": 1
          },
          "autotypenumbers": "strict",
          "coloraxis": {
           "colorbar": {
            "outlinewidth": 0,
            "ticks": ""
           }
          },
          "colorscale": {
           "diverging": [
            [
             0,
             "#8e0152"
            ],
            [
             0.1,
             "#c51b7d"
            ],
            [
             0.2,
             "#de77ae"
            ],
            [
             0.3,
             "#f1b6da"
            ],
            [
             0.4,
             "#fde0ef"
            ],
            [
             0.5,
             "#f7f7f7"
            ],
            [
             0.6,
             "#e6f5d0"
            ],
            [
             0.7,
             "#b8e186"
            ],
            [
             0.8,
             "#7fbc41"
            ],
            [
             0.9,
             "#4d9221"
            ],
            [
             1,
             "#276419"
            ]
           ],
           "sequential": [
            [
             0,
             "#0d0887"
            ],
            [
             0.1111111111111111,
             "#46039f"
            ],
            [
             0.2222222222222222,
             "#7201a8"
            ],
            [
             0.3333333333333333,
             "#9c179e"
            ],
            [
             0.4444444444444444,
             "#bd3786"
            ],
            [
             0.5555555555555556,
             "#d8576b"
            ],
            [
             0.6666666666666666,
             "#ed7953"
            ],
            [
             0.7777777777777778,
             "#fb9f3a"
            ],
            [
             0.8888888888888888,
             "#fdca26"
            ],
            [
             1,
             "#f0f921"
            ]
           ],
           "sequentialminus": [
            [
             0,
             "#0d0887"
            ],
            [
             0.1111111111111111,
             "#46039f"
            ],
            [
             0.2222222222222222,
             "#7201a8"
            ],
            [
             0.3333333333333333,
             "#9c179e"
            ],
            [
             0.4444444444444444,
             "#bd3786"
            ],
            [
             0.5555555555555556,
             "#d8576b"
            ],
            [
             0.6666666666666666,
             "#ed7953"
            ],
            [
             0.7777777777777778,
             "#fb9f3a"
            ],
            [
             0.8888888888888888,
             "#fdca26"
            ],
            [
             1,
             "#f0f921"
            ]
           ]
          },
          "colorway": [
           "#636efa",
           "#EF553B",
           "#00cc96",
           "#ab63fa",
           "#FFA15A",
           "#19d3f3",
           "#FF6692",
           "#B6E880",
           "#FF97FF",
           "#FECB52"
          ],
          "font": {
           "color": "#2a3f5f"
          },
          "geo": {
           "bgcolor": "white",
           "lakecolor": "white",
           "landcolor": "#E5ECF6",
           "showlakes": true,
           "showland": true,
           "subunitcolor": "white"
          },
          "hoverlabel": {
           "align": "left"
          },
          "hovermode": "closest",
          "mapbox": {
           "style": "light"
          },
          "paper_bgcolor": "white",
          "plot_bgcolor": "#E5ECF6",
          "polar": {
           "angularaxis": {
            "gridcolor": "white",
            "linecolor": "white",
            "ticks": ""
           },
           "bgcolor": "#E5ECF6",
           "radialaxis": {
            "gridcolor": "white",
            "linecolor": "white",
            "ticks": ""
           }
          },
          "scene": {
           "xaxis": {
            "backgroundcolor": "#E5ECF6",
            "gridcolor": "white",
            "gridwidth": 2,
            "linecolor": "white",
            "showbackground": true,
            "ticks": "",
            "zerolinecolor": "white"
           },
           "yaxis": {
            "backgroundcolor": "#E5ECF6",
            "gridcolor": "white",
            "gridwidth": 2,
            "linecolor": "white",
            "showbackground": true,
            "ticks": "",
            "zerolinecolor": "white"
           },
           "zaxis": {
            "backgroundcolor": "#E5ECF6",
            "gridcolor": "white",
            "gridwidth": 2,
            "linecolor": "white",
            "showbackground": true,
            "ticks": "",
            "zerolinecolor": "white"
           }
          },
          "shapedefaults": {
           "line": {
            "color": "#2a3f5f"
           }
          },
          "ternary": {
           "aaxis": {
            "gridcolor": "white",
            "linecolor": "white",
            "ticks": ""
           },
           "baxis": {
            "gridcolor": "white",
            "linecolor": "white",
            "ticks": ""
           },
           "bgcolor": "#E5ECF6",
           "caxis": {
            "gridcolor": "white",
            "linecolor": "white",
            "ticks": ""
           }
          },
          "title": {
           "x": 0.05
          },
          "xaxis": {
           "automargin": true,
           "gridcolor": "white",
           "linecolor": "white",
           "ticks": "",
           "title": {
            "standoff": 15
           },
           "zerolinecolor": "white",
           "zerolinewidth": 2
          },
          "yaxis": {
           "automargin": true,
           "gridcolor": "white",
           "linecolor": "white",
           "ticks": "",
           "title": {
            "standoff": 15
           },
           "zerolinecolor": "white",
           "zerolinewidth": 2
          }
         }
        },
        "violinmode": "group",
        "xaxis": {
         "anchor": "y",
         "domain": [
          0,
          1
         ]
        },
        "yaxis": {
         "anchor": "x",
         "domain": [
          0,
          1
         ],
         "title": {
          "text": "Distance"
         }
        }
       }
      }
     },
     "metadata": {},
     "output_type": "display_data"
    },
    {
     "data": {
      "application/vnd.plotly.v1+json": {
       "config": {
        "plotlyServerURL": "https://plot.ly"
       },
       "data": [
        {
         "alignmentgroup": "True",
         "box": {
          "visible": true
         },
         "hovertemplate": "Distance=%{y}<extra></extra>",
         "legendgroup": "",
         "marker": {
          "color": "#636efa"
         },
         "name": "",
         "offsetgroup": "",
         "orientation": "v",
         "points": "all",
         "scalegroup": "True",
         "showlegend": false,
         "type": "violin",
         "x0": " ",
         "xaxis": "x",
         "y": [
          0.3981206375522135,
          0.2705529331710945,
          0.25013274459849516,
          0.33407762111843964,
          0.27181297475994537,
          0.20862229114939673,
          0.277251242688489,
          0.3438820195611961,
          0.26859706919697296,
          0.24974199605405908,
          0.2527888383842293,
          0.24229123488148271,
          0.4053795727790379,
          0.4736418078506184,
          0.3362849996545515,
          0.21414734790473955,
          0.32530152737412554,
          0.16599311997210672,
          0.2144290552494134,
          0.21680748196943062,
          0.7591429518868172,
          0.32877495882658375,
          0.47284428540040446,
          0.20238134254447745,
          0.3047134012437508,
          0.28121324329129954,
          0.3271690771197289,
          0.14471970713413232,
          0.2770961751146609,
          0.295808158823658,
          0.13001128324571806,
          0.3046353580478036,
          0.2733740898370636,
          0.4793709351135739,
          0.48470172024685343,
          0.3807828013121777,
          0.2711475783762624,
          0.28048078396266807,
          0.2828329358480807,
          0.19645724288360333,
          0.5567017058704951,
          0.42016436365708265,
          0.1362315151689324,
          0.313900580011164,
          0.2229777793074678,
          0.46905492065636434,
          0.2546076740995609,
          0.22082284952026432,
          0.22368752446754941,
          0.24577216381609826,
          0.22533361401030558,
          0.392453587407441,
          0.25885664003818126,
          0.2717783387797301,
          0.2681356171305203,
          0.24103513844228344,
          0.23172320735357665,
          0.2548151673054819,
          0.22711082178735723,
          0.2291855488356579,
          0.3169276738233555,
          0.12938961098904422,
          0.2637979840721972,
          0.3734991974239468,
          0.3811660824337895,
          0.24183606106220068,
          0.17614300852412018,
          0.3041022734524035,
          0.26364353804483,
          0.46998647482285305,
          0.36874303462551594,
          0.24396300644503444,
          0.2105086076799926,
          0.34914193604943433,
          0.409082514758261,
          0.13997751809622333,
          0.18681219574116456,
          0.2723925836755605,
          0.23731642200580996,
          0.29925356276479936,
          0.3044535447563747,
          0.2713183855319116,
          0.2440309495494414,
          0.18087325350680325,
          0.27827382437374765,
          0.4164805534379534,
          0.24594890643510728,
          0.203061484527914,
          0.2709407008905937,
          0.2788277569410357,
          0.49863842675483877,
          0.2208737749700703,
          0.3193041533833985,
          0.2146997035528054,
          0.4323543198553234,
          0.2569426896749402,
          0.21661093045237487,
          0.4825793641376004,
          0.27971408241222134,
          0.25369114569061896,
          0.26603809591968736,
          0.21104693284760775,
          0.3315292429698625,
          0.27001553213131074,
          0.20584124520065633,
          0.5404657632459434,
          0.3104249617721622,
          0.2843341510771161,
          0.2660919942770058,
          0.21047435774228376,
          0.4198060194659679,
          0.2966978020738364,
          0.13443618411755048,
          0.31847643774956186,
          0.2554852941062604,
          0.42738508587368174,
          0.16632687296720114,
          0.2656673980084979,
          0.19198551644401135,
          0.3256775355238717,
          0.3839085288126898,
          0.5133376518679785,
          0.4063698672286952,
          0.17102547577881677,
          0.3014497432037585,
          0.3145204995919758,
          0.26886227061362994,
          0.34460551277393364,
          0.38179450516482655,
          0.29729276719931497,
          0.31265877172140305,
          0.3533303187809761,
          0.23326224514203037,
          0.2563578172546699,
          0.18989083769934995,
          0.2525028979990502,
          0.3501590807904404,
          0.16736594807597566,
          0.25862622061505,
          0.36470818343069566,
          0.3000410776876798,
          0.33716273030470867,
          0.4019433146589892,
          0.324509004251487,
          0.8030078757714081,
          0.2709639032780151,
          0.33911391584583395,
          0.3407981794158101,
          0.389583723767611,
          0.2747022931861485,
          0.4018121349851093,
          0.4227641235302151,
          0.3930895509694667,
          0.38044851361367016,
          0.19661783032661073,
          0.2137673256921021,
          0.19000131783426807,
          0.14191616446691696,
          0.2949095588449267,
          0.16481823759301767,
          0.29362794974107903,
          0.2682690928267592,
          0.24953433046396384,
          0.4132036327135272,
          0.1956081710617634,
          0.1678629640360128,
          0.7472684491456508,
          0.22435652129118408,
          0.34508299228984635,
          0.2627664510934292,
          0.23267353752955247,
          0.21044136785725145,
          0.45709493750229496,
          0.4955046407117414,
          0.25577568291297276,
          0.27614353070616365,
          0.22346373812456857,
          0.31346804165839726,
          0.2269522845691167,
          0.2198549116319234,
          0.23335600357383907,
          0.6487608159008638,
          0.17640287081905426,
          0.3224706994502164,
          0.37397951141822694,
          0.32043220341729617,
          0.2486572311605476,
          0.3918905415395314,
          0.3320428176233805,
          0.2219966041362179,
          0.2857721305160732,
          0.46015249272131253,
          0.36805994293995503,
          0.26997953409125613,
          0.2094321681112769,
          0.237239132997089,
          0.18104632744384125,
          0.2817243745730977,
          0.3280096306096314,
          0.34525802140604916,
          0.2718053550971599,
          0.24198489370291126,
          1.0194996834844354,
          0.2698305173494041,
          0.27896959159700413,
          0.28787557738749076,
          0.343913088143313,
          0.35542075608210427,
          0.19183838946367374,
          0.25107715943603315,
          0.2856677448699008,
          0.26762233193664947,
          0.15471345957689323,
          0.30931561591821954,
          0.30548938066725123,
          0.3092192723480073,
          0.32737861937612656,
          0.19929809185868613,
          0.9723120623372096,
          0.4124097585720861,
          0.2531194326024592,
          0.43122130272118314,
          0.29911916938981126,
          0.25180419104137153,
          0.3144574777395606,
          0.17603863374627382,
          0.3534983103514225,
          0.23661980962593204,
          0.28200533156243124,
          0.20162050969105474,
          0.2678700694816695,
          0.40268832800665305,
          0.2043683055692243,
          0.24559560375324208,
          0.24459637118296373,
          0.3519360851813809,
          0.34422729719161516,
          0.21237442620204233,
          0.25733936109996974,
          0.34654480941823035,
          0.19423881678491417,
          0.30217226964214416,
          0.20745866825939033,
          0.4626117611602234,
          0.587558269282269,
          0.18657686720300523,
          0.18305345079118954,
          0.2242942777648411,
          0.2086271829044321,
          0.27311523314980696,
          0.37515559836224566,
          0.24224056814236214,
          0.24871227673984259,
          0.31096919497647574,
          0.3049982563966176,
          0.23264242054049813,
          0.2921319983644465,
          0.3389000694010439,
          0.34179545280440776,
          0.4440411819410145,
          0.28066938280681347,
          0.3036629649065305,
          0.4906797742499216,
          0.2959338330313041,
          0.3912313852765197,
          0.26567049535538445,
          0.3719982782513526,
          0.22778774701058196,
          0.29974425077426664,
          0.26960272574465227,
          0.3311546318567659,
          0.42869273422494564,
          0.31248228657334814,
          0.23293444159898097,
          0.24874733259235499,
          0.23140324472313717,
          0.4182212117079768,
          0.23756639823291634,
          0.2248531093401723,
          0.22720515729779397,
          0.2683278186411775,
          0.37088738489628914,
          0.23049336045966176,
          0.18270551549157,
          0.19964933271306007,
          0.18994223233232185,
          0.35849379541795795,
          0.31670039496869895,
          0.21261703735346685,
          0.19314476379212658,
          0.36208703561922034,
          0.2588021839608456,
          0.18586670898082067,
          0.2048556364715322,
          0.3399809275506429,
          0.2915952558492898,
          0.305089287864702,
          0.27766337600555774,
          0.35834055804641957,
          0.18805498261027115,
          0.2730236542967796,
          0.20730204737763913,
          0.28125368470680706,
          0.17886069407745986,
          0.20980702435344864,
          0.26855642644774347,
          0.28204417762137274,
          0.2555835868679236,
          0.2954464162337622,
          0.21764319232480456,
          0.21810880315982487,
          0.3159164385448023,
          0.2152109551807783,
          0.35498202146598495,
          0.22274478496115963,
          0.23666291145143137,
          0.3982904259992923,
          0.15685786129122295,
          0.25750923408702997,
          0.28429996030388927,
          0.3740591723457997,
          0.254340570323135,
          0.22235581880615596,
          0.38173143575758484,
          0.1993202419800365,
          0.26945061922212016,
          0.29017485940767873,
          0.2234520970509988,
          0.2564911169121754,
          0.17789082543408724,
          0.554171800355927,
          0.25114851741758704,
          0.19476780889820688,
          0.20701692241905675,
          0.49346550938557227,
          0.30702359836048476,
          0.27989869379568466,
          0.2666878431632988,
          0.3268127401946795,
          0.30100683821329605,
          0.46985304353076557,
          0.8756517635131005,
          0.37182367539789857,
          0.23632748105856477,
          0.32650116299435267,
          0.3116803837885353,
          0.14442780774373346,
          0.30287404672157203,
          0.2506139936825035,
          0.21885270167124113,
          0.1965215359822617,
          0.1449322670400696,
          0.21295982928669524,
          0.25042692076606565,
          0.37664047443531323,
          0.22127090219848494,
          0.21860229379961593,
          0.2879840701866876,
          0.2886420466070649,
          0.20104780420531856,
          0.1979236328610164,
          0.3168600530180125,
          0.21125253138682706,
          0.22471521473005818,
          0.3464789404482549,
          0.19213053340452693,
          0.2929223087914353,
          0.2638674579301498,
          0.24987685663210626,
          0.3190719098961779,
          0.3045180729523866,
          0.34017279172887943,
          0.3224814189027855,
          0.25764278900624676,
          0.33496679806355856,
          0.37611843652183935,
          0.29797264565470977,
          0.3627943983637393,
          0.32759433551678907,
          0.3625221265716131,
          0.3615321936526031,
          0.206559332344312,
          0.36704690166950593,
          0.2992563200975948,
          0.3024561633014422,
          0.10551082155076617,
          0.26428601934128443,
          0.45436479472003233,
          0.3075957879055752,
          0.24721779772040656,
          0.2367664391037031,
          0.31306429124753915,
          0.19226106337112706,
          0.47868212844906927,
          0.1955950601096415,
          0.18112572598486226,
          0.18777905777576467,
          0.19636064319940327,
          0.3037041109963218,
          0.2688771893289496,
          0.29303923003869414,
          0.3508227933306082,
          0.5197677191469073,
          0.267696112908628,
          0.3500387113931962,
          0.3112011710146332,
          0.6212887318480932,
          0.23509990451039306,
          0.3193445874085424,
          0.3071564602966149,
          0.4307200169170113,
          0.43770482308893993,
          0.2848194984011892,
          0.3613898560051717,
          0.32620557343108264,
          0.23676978272796342,
          0.18815841575629413,
          0.260958642194893,
          0.5241787724535119,
          0.44103639698681896,
          0.31523200895485354,
          0.2903029099734789,
          0.18513388758131163,
          0.2843663034721135,
          0.2897806643320249,
          0.2857626629858261,
          0.5242255311708413,
          0.41269520408927024,
          0.1897253441324936,
          0.3201090228233855,
          0.16735560946827785,
          0.47433023728961204,
          0.3417059492205697,
          0.21911055784267647,
          0.39682239794920177,
          0.33191863036223274,
          0.273418752994431,
          0.1793636711729899,
          0.3095831080104608,
          0.3192399257409278,
          0.2627266651993363,
          0.23677469365407755,
          0.27726282970812904,
          0.36882122984428944,
          0.3291720723959493,
          0.2974445287288171,
          0.4156701669763857,
          0.32058293128953574,
          0.3119964404758721,
          0.30976348041777757,
          0.24980137841182962,
          0.17380421386960285,
          0.2572210262547373,
          0.18314598941335528,
          0.31481395613768093,
          0.2504520592299655,
          0.26125563126114626,
          0.249780250541218,
          0.15393971320602762,
          0.2683155503044112,
          0.273622206768806,
          0.4627771370409569,
          0.4036698566708318,
          0.22787028202251192,
          0.260750884478235,
          0.2634809902419265,
          0.4197245757245691,
          0.4368461059915044,
          0.19454787430280582,
          0.2368163231358295,
          0.28716096515527767,
          0.2535946079689377,
          0.255869865033724,
          0.267708314082444,
          0.24992933107058335,
          0.20177994074776395,
          0.26992136020670066,
          0.15332812410359462,
          0.2690149997092176,
          0.30137082430151,
          0.25228527675446644,
          0.26659662902781883,
          0.37958379455934615,
          0.37314374421146457,
          0.25628611974617277,
          0.2162440392303783,
          0.40808046811587817,
          0.2963103309214382,
          0.38191051281883964,
          0.29439453475016014,
          0.3497128043603847,
          0.18104242583859173,
          0.2975270330366098,
          0.21633134676625662,
          0.2263750920007318,
          0.31485661054415376,
          0.2707116026786586,
          0.22859260794738193,
          0.2708556922511894,
          0.5945945417530891,
          0.4864319262601286,
          0.2661772963624325,
          0.21575250925339295,
          0.2791298102156624,
          0.16170415015508646,
          0.24898985662508963,
          0.2513493045797087,
          0.5320240829545129,
          0.3871398820107068,
          0.3803179847723893,
          0.3219220207586626,
          0.29488562277876157,
          0.22354436539556607,
          0.25267355926505797,
          0.2661344695732424,
          0.4201735029402668,
          0.3138208130573855,
          0.3259010756570223,
          0.38757111181272,
          0.3353038110373416,
          0.20440583103528684,
          0.2556244148203196,
          0.3467913328126701,
          0.36034508284516853,
          0.21834001358224217,
          0.1685967017831137,
          0.1887685764829889,
          0.23209539453264058,
          0.10616178351217992,
          0.3881101223709809,
          0.27034718935618257,
          0.3020106637032223,
          0.30309835181521794,
          0.34291852830201597,
          0.231983826820027,
          0.30027617332189005,
          0.4467202164285714,
          0.34066250103797363,
          0.2816717886282459,
          0.2739052686081589,
          0.40365128893991603,
          0.4728917452824254,
          0.2263539134605195,
          0.20859459058796226,
          0.2981324595678759,
          0.39304633625595947,
          0.30233321410972425,
          0.357841470072856,
          0.2553692687222982,
          0.545374134461041,
          0.24798116459243566,
          0.5169577891143328,
          0.7245512437805203,
          0.3172772475284676,
          0.2455535718781253,
          0.43325945086053,
          0.26933019702500705,
          0.34059285895465224,
          0.2740795088026406,
          0.32941065628633637,
          0.21427359862948514,
          0.2541526034643996,
          0.29619928949502633,
          0.21640064606993029,
          0.19668175047565203,
          0.29288619498164675,
          0.193664395776009,
          0.394244033585709,
          0.4645381324528977,
          0.27455477436186726,
          0.5064869120034255,
          0.352256126193687,
          0.48761222192902826,
          0.29462115854810966,
          0.30639409023316566,
          0.18528883310998823,
          0.25960671875744595,
          0.2692488309719448,
          0.2275562446402829,
          0.20591465928779987,
          0.18694698732078927,
          0.2685014609285531,
          0.8827211550506299,
          0.46294019271389736,
          0.3248942569249328,
          0.2528617416323774,
          0.28810793453739886,
          0.4207985076498974,
          0.23809022435335322,
          0.11519405550521172,
          0.13310166097464893,
          0.23917431783859153,
          0.32276209071181755,
          0.42308497610222,
          0.2958500257159064,
          0.1656175979002616,
          0.6099407639859317,
          0.1911327717360433,
          0.2495971152344693,
          0.31721777020749964,
          0.195623676775382,
          0.1546176142775583,
          0.5098591126934782,
          0.1920703270730359,
          0.19056555908284528,
          0.20805864472531588,
          0.18904754307424212,
          0.22790603633061304,
          0.2987073010221184,
          0.17536414537421094,
          0.30825106917463935,
          0.3503181517455796,
          0.3164951744402857,
          0.3430588080201135,
          0.2972581915947206,
          0.15086115821742424,
          0.4115090966138655,
          0.23217543021600323,
          0.1711782278763498,
          0.24088374622826755,
          0.23063065389790893,
          0.23842895476561524,
          0.20286117170213028,
          0.22314735933697377,
          0.24349550616951876,
          0.321223649802493,
          0.2741426829517407,
          0.193998193581181,
          0.1840544359762434,
          0.22969917694268613,
          0.358713576270473,
          0.3094419653925782,
          0.2545532789987949,
          0.2717355494394571,
          0.23115793864413794,
          0.38015893221738195,
          0.2291167413451436,
          0.23099932244751697,
          0.31279661411486537,
          0.3510310149510149,
          0.42067614274054227,
          0.27944340878136353,
          0.22034159483690335,
          0.2848500036085905,
          0.2429309256382908,
          0.3915310135500575,
          0.27313939497575623,
          0.2300118359827444,
          0.24427754385471623,
          0.20952347225933368,
          0.2642358789120325,
          0.2412459869606774,
          0.2561329198064609,
          0.23040202894484169,
          0.27777060783971147,
          0.43153658054677446,
          0.21230051454529808,
          0.19206455168122824,
          0.2241870681936324,
          0.24421122997684178,
          0.26723957878239657,
          0.20976257253227726,
          0.2422291490835895,
          0.2510340306398999,
          0.24907380572914803,
          0.2459869437163601,
          0.24098158295800007,
          0.24657374731675163,
          0.3023417554849701,
          0.21504900508828845,
          0.20336660128165246,
          0.39710372579286374,
          0.18102206584793104,
          0.23967852158991979,
          0.4285250099019475,
          0.3018379471823315,
          0.2825510249828812,
          0.27319594795697405,
          0.24575509017323074,
          0.2342587601819658,
          0.3067825267275068,
          0.2176005113544361,
          0.22573279577940375,
          0.2669933944856896,
          0.30128140035913886,
          0.304112498046192,
          0.17769695313423114,
          0.3376652156885134,
          0.19251343694120657,
          0.30355956730726835,
          0.31060056236436545,
          0.5026980872314188,
          0.22202756545128213,
          0.34891897436329145,
          0.2080017853941552,
          0.4547514497832404,
          0.3116423605725028,
          0.21546952116643417,
          0.7508602196336973,
          0.3722478024099373,
          0.19123596854115446,
          0.22887168736428803,
          0.29576372912829113,
          0.392016664996233,
          0.4199190098632592,
          0.22224308602410447,
          0.3155806292945299,
          0.22391239561198442,
          0.2817595459737977,
          0.38232382826289246,
          0.6475865575273327,
          0.2185638126917822,
          0.21114898534689766,
          0.2345224086468684,
          0.29222816189566714,
          0.26232686213645595,
          0.17910027844277132,
          0.2312109861176878,
          0.25017238418242366,
          0.2865389973125524,
          0.5201329336968746,
          0.7078388319315645,
          0.2598462511612229,
          0.24539702307730035,
          0.33765334744125375,
          0.3378321373156873,
          0.18277681074020338,
          0.2829484726655274,
          0.36719610835144356,
          0.24511675455060097,
          0.3515387601428919,
          0.2178628550148357,
          0.2675466409190003,
          0.21041763439100375,
          0.32829701086198265,
          0.21102060349555113,
          0.19081093603211102,
          0.5584328683541786,
          0.23972489416441523,
          0.2416001357322727,
          0.243820675091606,
          0.25587063173943086,
          0.444500200218446,
          0.414032881810957,
          0.29185702603289887,
          0.28174057300244004,
          0.31324038940055643,
          0.1936704821958084,
          0.29340365758054604,
          0.3119441292872465,
          0.37297393179875965,
          0.2544283189337452,
          0.22365636561256838,
          0.1758864563143953,
          0.2689674083455253,
          0.2805631006014408,
          0.22792645189754832,
          0.26883716937066127,
          0.2948240010777489,
          0.2466727172344134,
          0.29157821139947815,
          0.27313287833836286,
          0.43149204255942225,
          0.20098073145727088,
          0.24894500812207362,
          0.20189847889624857,
          0.16346930798940054,
          0.5385062015943615,
          0.5868739010490417,
          0.38948304081712337,
          0.3353925061200639,
          0.3138694294357901,
          0.2479048491397004,
          0.26822335499324823,
          0.21914586200948538,
          0.2128916321329323,
          0.45785346367196367,
          0.26844923314861824,
          0.21437965367645653,
          0.3523648098514339,
          0.15965202543317658,
          0.329261936711644,
          0.40879454384057723,
          0.30009970174979206,
          0.532058317109083,
          0.17886144913349802,
          0.19601419711130275,
          0.542010681487629,
          0.4808696751413355,
          0.16142832699555934,
          0.2879999872428571,
          0.3288953577789155,
          0.2586184499616145,
          0.1632669424681826,
          0.25598756219903185,
          0.4021478439901808,
          0.33496871147363666,
          0.2738171514513009,
          0.26693515421072045,
          0.3744139694431097,
          0.16224728667550697,
          0.3447213329659593,
          0.2606922967662531,
          0.2740737507014699,
          0.22125108067925836,
          0.3208709772773243,
          0.23672097735460768,
          0.31720823111727686,
          0.39740424840231703,
          0.27096243279552423,
          0.23230303563966667,
          0.23505269897257067,
          0.3026431536005703,
          0.37697184288621766,
          0.44099011332434873,
          0.320615531521952,
          0.19174240243549426,
          0.28973564434353477,
          0.3501443628414028,
          0.6884041109232115,
          0.5956315977088316,
          0.39568249808287764,
          0.40371908804919343,
          0.3607222720868122,
          0.14632113625539633,
          0.2872961288572501,
          0.611740145076531,
          0.701432080909485,
          0.22200664580302154,
          0.37259292586060927,
          0.3479703030501319,
          0.25100850957403087,
          0.21641155908514034,
          0.30029835711139297,
          0.22041408686923009,
          0.3062576531610851,
          0.28537553166872276,
          0.2240832541262833,
          0.21944144711758923,
          0.34808194389429353,
          0.33410123991864177,
          0.3308348816506649,
          0.18901686055588843,
          0.34249105141439123,
          0.3102286252384587,
          0.23282277991453715,
          0.3478441667627539,
          0.2199325151222099,
          0.2635669721055857,
          0.23318535566637832,
          0.18074807905784887,
          0.1900643391827343,
          0.428562950771003,
          0.3880877076661234,
          0.21483631883632215,
          0.32645970302535277,
          0.239414323484138,
          0.2192526211887574,
          0.13852979303284482,
          0.293913908169423,
          0.2109341716302043,
          0.33055063698027254,
          0.21392706634379152,
          0.2891546390586925,
          0.28118813368711504,
          0.2947901804555198,
          0.2567563305795417,
          0.15802233116334555,
          0.32533571637567393,
          0.35340123640852317,
          0.3239474588577347,
          0.2529771458423314,
          0.3655432475616079,
          0.36356080732144075,
          0.2965631879776049,
          0.1682976770218192,
          0.21106268861676153,
          0.21894004230196734,
          0.24314838620762733,
          0.4919105344920187,
          0.21679099174813177,
          0.23225503003179765,
          0.24383305142032594,
          0.25236470496140684,
          0.1453897916379164,
          0.7031607655511395,
          0.16522195643781784,
          0.1720549163476843,
          0.18820310930468506,
          0.2852733086083988,
          0.29664668272856104,
          0.2659890198266443,
          0.28194193157272346,
          0.24841191272627772,
          0.22549798576778754,
          0.3356183414156533,
          0.3300242546973023,
          0.18650256538643747,
          0.12451632956326622,
          0.18625634527136922,
          0.2345496700115067,
          0.18391567920891053,
          0.2942350207579928,
          0.32898940812578353,
          0.24854559887676866,
          0.30831166104796487,
          0.20980360360850203,
          0.3259772701031375,
          0.258747873928226,
          0.19450951810870915,
          0.20708919878553747,
          0.19029266769026468,
          0.27967985873598217,
          0.1807639457539624,
          0.257711300998401,
          0.26461573967031843,
          0.31840186506600354,
          0.2419269043067564,
          0.20854395414860358,
          0.2502303054708106,
          0.3209266727725407,
          0.001544865078186338,
          0.20445423162469126,
          0.14436317861831865,
          0.3704744753948781,
          0.3975445677555708,
          0.32397662392670673,
          0.2442028281852407,
          0.20112193554923408,
          0.22454196112520733,
          0.17627640764432054,
          0.31276733070583645,
          0.24761921596339814,
          0.3899826174499919,
          0.2964594476374601,
          0.2590882531359683,
          0.26942005965507776,
          0.27142525654744365,
          0.279301551647846,
          0.20488517386591976,
          0.3031968739872715,
          0.12647331375504442,
          0.21046145486425913,
          0.21200324021766548,
          0.2518120289571572,
          0.4419205271074168,
          0.43532089692440634,
          0.19458510126370968,
          0.1483516060144242,
          0.2542948637248312,
          0.24309505329030437,
          0.5691600349263635,
          0.15219939319716044,
          0.2806791847414226,
          0.4073795090692351,
          1.073264541136126,
          0.13750538945386273,
          0.11155513025726319,
          0.1884015095184627,
          0.18649930564564865,
          0.1805055905808607,
          0.1617394498872501,
          0.35452438172284734,
          0.2571677936468226,
          0.2561485001764873,
          0.200013522223465,
          0.42389628437030363,
          0.49384194701123685,
          0.23077892775255235,
          0.18496848195986912,
          0.3060136221142163,
          0.25849363042843604,
          0.36201129335875654,
          0.2607640201665026,
          0.4517705983963478,
          0.3679125906461258,
          0.319274190969128,
          0.5155863267324983,
          0.3815694271214518,
          0.4644295806479168,
          0.21085452790201256,
          0.33812727665555414,
          0.2744260287298115,
          0.2856568392673029,
          0.4190378917337755,
          0.4136067154053082,
          0.352503384556655,
          0.3438076327442795,
          0.31599633393048027,
          0.20679274309618448,
          0.22175001105731,
          0.2919172262101634,
          0.2194527292293643,
          0.23587945246576275,
          0.2417397570690382,
          0.24394752716782173,
          0.2977802416286634,
          0.21902289943254832,
          0.30123633280958745,
          0.18204788207069394,
          0.46728667614622027,
          0.3931712805477815,
          0.2687553504879032,
          0.27405906896022453,
          0.3043798202298514,
          0.34241989236257,
          0.2429173359142844,
          0.31071936185938376,
          0.18364548033377007,
          0.3592382289545899,
          0.23605464504768162,
          0.2624478953876899,
          0.21665236566943086,
          0.30871399950615763,
          0.3011055725492997,
          0.399881005106319,
          0.31905378779540167,
          0.5005706607365221,
          0.2626301300626671,
          0.34498071952918596,
          0.3656347904427434,
          0.262524984833748,
          0.6326167186352205,
          0.5204308016087413,
          0.2724651166678708,
          0.44478397776834844,
          0.5934881326131605,
          0.27230597561145237,
          0.31253284454153785,
          0.2353800982863063,
          0.2573743031954038,
          0.2597943118487888,
          0.1791774103790164,
          0.18540794861948612,
          0.2948506560073708,
          0.44404595414848813,
          0.2980325487252154,
          0.2464709461903877,
          0.2926489163472905,
          0.37968562575817494,
          0.24729629782217294,
          0.2252184984713002,
          0.2664317507711047,
          0.30007470309108664,
          0.1970098063456818,
          0.4431653856049381,
          0.22336513117165213,
          0.23877772586577647,
          0.21666576299150225,
          0.2064247232633676,
          0.2513864798024434,
          0.2651469168754717,
          0.18949046917104623,
          0.6822085653087973,
          0.32273573848529014,
          0.5107554537410857,
          0.232465875725835,
          0.24661099083393956,
          0.199977481849449,
          0.2899652830624878,
          0.2649785658015433,
          0.18653460036192776,
          0.376395665104814,
          0.20359283533416977,
          0.3161072587884512,
          0.3107554744352177,
          0.2889969632670631,
          0.24019600754171475,
          0.28188359834232424,
          0.334374465030743,
          0.19853622086419093,
          0.14821605864357193,
          0.2563162182072946,
          0.16588621955794292,
          0.1600116113520475,
          0.284832793468961,
          0.3720690227885514,
          0.31433287627263506,
          0.34608491369208866,
          0.2972777746015332,
          0.20845160116822253,
          0.3908369095483759,
          0.4734161758964249,
          0.21969529170697347,
          0.3449572440575853,
          0.3158645789245029,
          0.26841432693353945,
          0.26484392023382536,
          0.3359597414736967,
          0.2088812359194889,
          0.4630260442839182,
          0.3078323464899707,
          0.3238614213141495,
          0.17775148367880064,
          0.3314180561597716,
          0.2385451852404089,
          0.272549023052816,
          0.346052222259456,
          0.1960082930001121,
          0.12218686614010615,
          0.23833109607611486,
          0.2861036518594601,
          0.2977161976079146,
          0.30409324347632777,
          0.17662679914979837,
          0.22297784343267438,
          0.20564599564957478,
          0.3565436639170194,
          0.3063827687106744,
          0.3069003209325235,
          0.38945736292518485,
          0.2418843843507723,
          0.2646869384990356,
          0.3303071703306997,
          0.4306591103669978,
          0.24980597295822046,
          0.21332302836063508,
          0.2748785181112936,
          0.4042073349681283,
          0.33142452009622725,
          0.37363691700705004,
          0.22082441593329075,
          0.288978294454341,
          0.2980133385973034,
          0.28040432440227375,
          0.4617213141050518,
          0.2385126511277642,
          0.33133095500950194,
          0.28630345363439713,
          0.3331383208590262,
          0.1812015007091549,
          0.20686921161180435,
          0.27376636656860515,
          0.29700654846889535,
          0.3710012999354817,
          0.23661625438682257,
          0.6004523487383826,
          0.3397860852350521,
          0.2891283659982901,
          0.32822243500723625,
          0.340449123387133,
          0.2429426345742661,
          0.20558495858676895,
          0.22030008153080463,
          0.38402483538011406,
          0.29963117771554254,
          0.5258744032118194,
          0.2068982763045813,
          0.2237572042205897,
          0.2776144890308913,
          0.43462683818120035,
          0.4099244466244642,
          0.4214684486276123,
          0.3739241458926254,
          0.41347365711834055,
          0.2690471035177175,
          0.17744690538672606,
          0.2279584795346663,
          0.2381326074713978,
          0.2926584628943324,
          0.16925272096086613,
          0.4490576363613046,
          0.276466773682847,
          0.2567468073734523,
          0.3359089702860375,
          0.23081375134160698,
          0.3917962495016499,
          0.4130074809055009,
          0.3570857964261813,
          0.44801146471248776,
          0.18639089138720977,
          0.286766608282087,
          0.22629172575559275,
          0.3958601412558127,
          0.4256423764522157,
          0.5817712849989906,
          0.2384611575526444,
          0.2245792896142394,
          0.19830707850270363,
          0.2630829276271258,
          0.237668188358991,
          0.2544430981447787,
          0.18967383093989756,
          0.19669213510183275,
          0.17226083436390485,
          0.43728734670138436,
          0.2559736373429618,
          0.19079881940378826,
          0.29950120957023574,
          0.3648110550958359,
          0.2975089261496497,
          0.1372573880705182,
          0.61517998355071,
          0.24148472083887007,
          0.2165067888094771,
          0.15172072136145176,
          0.4309412810557224,
          0.20637342661467747,
          0.2807832453665755,
          0.26170769602854693,
          0.24210914608665862,
          0.5061034656587591,
          0.32063491211246525,
          0.29180414655955356,
          0.20573309914699742,
          0.34781819279508724,
          0.3253607024140152,
          0.2072111761473831,
          0.24281021835669028,
          0.3258113758369869,
          0.44894660987699325,
          0.3158955469864484,
          0.32856439623974826,
          0.5601617929184627,
          0.2697502687235071,
          0.33413888465751806,
          0.3113605050319795,
          0.23339490955831743,
          0.2674125845213577,
          0.2645243753548532,
          0.2979842583857538,
          0.24625395098113395,
          0.1767539799121105,
          0.16429376513297,
          0.27301131383232974,
          0.6473376069641055,
          0.15930595167866965,
          0.4237753762271595,
          0.30322141596330016,
          0.3076568034901755,
          0.17747153099206958,
          0.38203054106210066,
          0.3108118620278944,
          0.3460440312393187,
          0.23908087950651566,
          0.23563243321591876,
          0.21026673689318445,
          0.1912475877804606,
          0.31016398609685725,
          0.2063800329824091,
          0.4344737591924092,
          0.2814739917201661,
          0.35544350642439165,
          0.5664703849676538,
          0.37158064390917545,
          0.3225959931551472,
          0.39123037962044577,
          0.340661677652248,
          0.33775512970756294,
          0.6928154897212079,
          0.4502721673338632,
          0.2690825072812039,
          0.3410081633193889,
          0.15818081059765937,
          0.29234301320152445,
          0.33711154754775086,
          0.3620316451051047,
          0.4875273897222326,
          0.24800348281663762,
          0.29010266266550305,
          0.2161025595738652,
          0.2217061124103197,
          0.3150600782553161,
          0.23238842118592426,
          0.16698615003372197,
          0.32929507999276364,
          0.20352201901210437,
          0.2911252597658024,
          0.2386436329404203,
          0.22937077873762438,
          0.24170906293875283,
          0.3448616763891848,
          0.27318366920521747,
          0.4453934235194879,
          0.27756255197000684,
          0.608104227535398,
          0.2201812565887075,
          0.38720352687070553,
          0.2137358506484703,
          0.20113693510966418,
          0.30852407452244357,
          0.4074352420922448,
          0.35880691191139136,
          0.21610709076741483,
          0.44246461072207727,
          0.2729309354504192,
          0.22502399549954089,
          0.22459455692570604,
          0.3378154276102084,
          0.31734698327397026,
          0.2782202088797229,
          0.28701556662325106,
          0.18065785612874272,
          0.34331181879398387,
          0.34219400964030766,
          0.616935024054894,
          0.20628712952637987,
          0.34918081035922394,
          0.34954349442423366,
          0.444302048956826,
          0.3640279751836167,
          0.2247552224242489,
          0.4266496023369806,
          0.2547614536237064,
          0.2729411339961226,
          0.4303195229900975,
          0.2917421635653551,
          0.3080006269982882,
          0.2687509195829434,
          0.3051742809472635,
          0.40082624967614117,
          0.3376264894594242,
          0.4544072916760126,
          0.24524785857044146,
          0.21956024800341808,
          0.23519418694936045,
          0.2675219127033737,
          0.14097929275461746,
          0.46317814705644234,
          0.23823816138675707,
          0.3407747728773048,
          0.5012691336201072,
          0.278705464865229,
          0.3283258808806509,
          0.8958841674037124,
          0.27776841952395853,
          0.31818116604390784,
          0.26605258323939457,
          0.28738521500868525,
          0.22391990672293843,
          0.2970180455252754,
          0.34674768740526585,
          0.15870866366448827,
          0.2633930214131351,
          0.2634617644968948,
          0.2665061349084562,
          0.2931843663254463,
          0.2809746225329624,
          0.2731344323276028,
          0.2079079863441796,
          0.2667907594012857,
          0.25359800697441737,
          0.20289416053321227,
          0.3695912971487826,
          0.3139607187784792,
          0.30458804329244654,
          0.29012504623794516,
          0.2605430921578887,
          0.3531198395171818,
          0.2560399737555069,
          0.3011587071703941,
          0.3849627147511686,
          0.292769796149741,
          0.2619800253718829,
          0.17321121016138424,
          0.5073925792252465,
          0.3794468383224061,
          0.39565677821272666,
          0.264857278003599,
          0.3332203236256989,
          0.12539181894138354,
          0.3292168588147726,
          0.2451962674325613,
          0.2892435943401477,
          0.3269804761501564,
          0.28985800463131106,
          0.310368242174303,
          0.31000682909038463,
          0.34225033730202237,
          0.18401727807737633,
          0.2702680636848597,
          0.24749755441857474,
          0.3011597475788572,
          0.1109600400896824,
          0.18249086993276828,
          0.14969664097498214,
          0.21119406260947282,
          0.4873731896747256,
          0.3877828085169854,
          0.3016352840390405,
          0.5358962304652722,
          0.2768847985193415,
          0.26245281048565733,
          0.21527360777215124,
          0.33296313399542954,
          0.19253198617556988,
          0.15193912112355207,
          0.6119246429873837,
          0.20243325654761682,
          0.16005443954679144,
          0.2933774646945186,
          0.3349006255593357,
          0.40037488732734017,
          0.36249728154062655,
          0.3105784754667579,
          0.2815413100264833,
          0.36881881869291294,
          0.3933622590366022,
          0.37886094407876725,
          0.27354131789757297,
          0.22448947935202776,
          0.2975332171746766,
          0.44082078903869,
          0.42774221681072205,
          0.5415898035542639,
          0.32153782649283086,
          0.26744324027029986,
          0.13305405184125216,
          0.22709368649029227,
          0.3064193354269212,
          0.2744940402589462,
          0.250342545557453,
          0.24782899804992128,
          0.3543596433209906,
          0.29224887893981294,
          0.250272658784782,
          0.24030262623310783,
          0.28352811738092665,
          0.19186126496186692,
          0.1268074817766592,
          0.19756945069628948,
          0.13901148434962105,
          0.26561161746257317,
          0.2245767244306159,
          0.24207111464814057,
          0.12907343655761544,
          0.23530243340124674,
          0.27790558005165233,
          0.1291106476943017,
          0.30221495809812376,
          0.1923241915089475,
          0.18975616331538775,
          0.1935610020816099,
          0.429193664918575,
          0.31940918834460147,
          0.37317461821075754,
          0.3260897004802299,
          0.24875311869405797,
          0.2068204175845991,
          0.6128467710247292,
          0.24424955554722624,
          0.2554012881267074,
          0.40529943615674074,
          0.34669853583715116,
          0.378036031190408,
          0.2696879850996858,
          0.3253446327051352,
          0.3650635962188837,
          0.3885145128730874,
          0.19090515906278865,
          0.2821340097349371,
          0.1903733062376157,
          0.21648591933037076,
          0.2981225744953041,
          0.5138987513049855,
          0.23385595721659028,
          0.38981641465020367,
          0.31826821597476607,
          0.13423956795554584,
          0.3022352251177919,
          0.2154172656168653,
          0.2574509635072364,
          0.3839420931239508,
          0.3130429080976817,
          0.43650546151100156,
          0.34722411994801283,
          0.3996762911636852,
          0.5624971602237618,
          0.3255061583039383,
          0.21013130236325822,
          0.2725741552246225,
          0.38409977479922947,
          0.21532719230471936,
          0.46838948557868787,
          0.2284719732008833,
          0.15046020676064062,
          0.3798150405814399,
          0.4131347777177138,
          0.3664977926537307,
          0.24065231618948926,
          0.36808607455048226,
          0.3340553847799159,
          0.2658423760080153,
          0.21234744250220539,
          0.21911213466565146,
          0.18776019834140423,
          0.2369171753951839,
          0.3013535201348631,
          0.3299985029088384,
          0.2756751406207537,
          0.23542581064989127,
          0.2410321714162827,
          0.27739332902880554,
          0.17816521661915535,
          0.2737465466179277,
          0.38570410914819175,
          0.3714677660569849,
          0.39779540585764284,
          0.27100357796594715,
          0.2022131200085647,
          0.2030473969382208,
          0.29671115652782637,
          0.11395643585821734,
          0.2967291637543344,
          0.27369299067277214,
          0.2701245554681538,
          0.16719249215684157,
          0.553125344413096,
          0.3103235646646926,
          0.33365544153274157,
          0.3538509229107155,
          0.4175353075289345,
          0.30408265578419735,
          0.172693070866755,
          0.1482224744010586,
          0.25919799339019167,
          0.373293134597381,
          0.3203019353856564,
          0.4236563745658093,
          0.23317356756208016,
          0.2777021402158905,
          0.6239595367944958,
          0.4072720909153556,
          0.3124687064890375,
          0.2724777739440983,
          0.2270781685541879,
          0.3214315495313296,
          0.14771817175678625,
          0.37539494317179917,
          0.23303891084069164,
          0.39103131617403336,
          0.3310880097676914,
          0.28578933954750835,
          0.30680064786539024,
          0.21126002562713048,
          0.2638813369972121,
          0.2867930085951588,
          0.28086512010906955,
          0.22344673548594185,
          0.30145174119365425,
          0.3371698024436275,
          0.24807480133978918,
          0.6298156044294281,
          0.7364669823127218,
          0.34888080235921987,
          0.41394280595609617,
          0.38787969113923576,
          0.3356675002723832,
          0.40457904216338664,
          0.23602183660039422,
          0.33893903369603795,
          0.28237183708592234,
          0.26896906978303164,
          0.2233699875437756,
          0.2768144422828069,
          0.4118802237796321,
          0.24324538259346865,
          0.2505291840964534,
          0.26900224599183464,
          0.2882812967248333,
          0.2122129609011507,
          0.25843676543757943,
          0.33760849197618004,
          0.36583912234469734,
          0.21124230344042616,
          0.2801590376665218,
          0.32155253824093044,
          0.21443611993445771,
          0.3690975437653867,
          0.2531462163559195,
          0.3372838692714545,
          0.23434692825607842,
          0.2592470971958498,
          0.47317105132143467,
          0.5446329546550209,
          0.2895904687905824,
          0.5412193081292022,
          0.2984405983921536,
          0.25301481403850484,
          0.4262317515906497,
          0.23320976355780712,
          0.1770035561563362,
          0.29261932280880154,
          0.255287793229677,
          0.2197700737744146,
          0.4891031650027724,
          0.13666037131310707,
          0.2406926415040039,
          0.3079707926981666,
          0.4636143515640652,
          0.25207815661196675,
          0.25569556477952515,
          0.20306330640301481,
          0.2916442190598815,
          0.3128627008276374,
          0.388495937587306,
          0.3474271303843263,
          0.24917618031653346,
          0.20908121088085965,
          0.23758128666619352,
          0.1389655487045594,
          0.2516380263631891,
          0.4258876465741312,
          0.3225933845246434,
          0.14545966314950187,
          0.3392322031455581,
          0.44747890516178684,
          0.2403898964540609,
          0.34064974662244113,
          0.2709438672058386,
          0.22997660216096114,
          0.24939122752891751,
          0.37304044776199285,
          0.14438400276049324,
          0.3190966280335342,
          0.3193047732345118,
          0.26373266813320406,
          0.3822040542861965,
          0.2531653916834128,
          0.20653870699065716,
          0.37288384792484336,
          0.3653650894732591,
          0.444485920312528,
          0.2632348140024785,
          0.37870945485478874,
          0.21609884496898135,
          0.35597364140542037,
          0.18420776970311217,
          0.2633026586170204,
          0.2544187998636489,
          0.28304651010313053,
          0.2034698046900727,
          0.3803143329562797,
          0.30883014355149907,
          0.270104840059239,
          0.2191489428448465,
          0.22007437156425505,
          0.3847102184532858,
          0.5767163738055963,
          0.2568857554842624,
          0.2327712119201712,
          0.29179834521444253,
          0.3866694926810849,
          0.30633724118773253,
          0.30398416414488777,
          0.3844738651007268,
          0.24427591166242582,
          0.29422144798756944,
          0.3335961741734611,
          0.46586790621895185,
          0.4075333674886496,
          0.2360476404204603,
          0.33918032719751223,
          0.24274034934318017,
          0.1585387059379698,
          0.3195491800036638,
          0.20824034926076648,
          0.2500843755500134,
          0.3042532550718302,
          0.2191095704456866,
          0.21047313392495506,
          0.29731444356234266,
          0.3186962641076573,
          0.5137207834518382,
          0.2657678640371019,
          0.2805538777454591,
          0.3651883358665902,
          0.3555565356064193,
          0.3361663406982071,
          0.394246495524508,
          0.22645433205334017,
          0.12178607172088526,
          0.2440003986126591,
          0.13750103282634088,
          0.24956317563250355,
          0.3452143589942608,
          0.3172208840277175,
          0.21303084150698345,
          0.21578377763372392,
          0.10869043861096361,
          0.21643305221686937,
          0.29592218034150514,
          0.25080819254866654,
          0.11877840583462562,
          0.32801589651731333,
          0.2446681030861551,
          0.1590521425205389,
          0.26262396067503757,
          0.32849721857637404,
          0.2611452666208972,
          0.3072354982022829,
          0.30538483540500755,
          0.21127285865715212,
          0.38749916335269446,
          0.26083959089384456,
          0.1980309203924758,
          0.38123405640467817,
          0.531713918476536,
          0.4687903558689125,
          0.1856438865658593,
          0.18549408243030607,
          0.2806283537879574,
          0.3091137874005076,
          0.30789515476516494,
          0.30696020991766854,
          0.301112025899836,
          0.35471468617846397,
          0.27862778622546486,
          0.19164111920701277,
          0.2250806159348548,
          0.3015358753865062,
          0.30984904342141806,
          0.24187446521713987,
          0.36291869268036947,
          0.3398603672239906,
          0.3886954041434043,
          0.20286475878529395,
          0.3111089821506607,
          0.21115714794514062,
          0.2709420010157727,
          0.21767042626162858,
          0.23720821337556805,
          0.36161613575242607,
          0.3898277408182995,
          0.35421748871810577,
          0.38760446529145826,
          0.2286330195987083,
          0.44795407343303795,
          0.243411436158371,
          0.3614648640353014,
          0.33302400303476437,
          0.4331335207753293,
          0.27995049560064145,
          0.3087093604201137,
          0.24306794853600494,
          0.25740505483093196,
          0.4006549912557006,
          0.2916481854782684,
          0.2717197481848118,
          0.34961272491658046,
          0.33011920328319394,
          0.20003237847116237,
          0.3664727645175749,
          0.22223417105573878,
          0.2028307763892196,
          0.27780805627129695,
          0.2997273053539104,
          0.2508767012431985,
          0.2681351690110767,
          0.2651629738349245,
          0.21256685324863023,
          0.2512082571568817,
          0.2057572804117254,
          0.18121089439256277,
          0.1717761936580715,
          0.26099584086445815,
          0.27687592146519624,
          0.3202391807324757,
          0.34104873856353707,
          0.2910024463258048,
          0.37605448304816264,
          0.30895663941568263,
          0.29278896321638836,
          0.29241440601559754,
          0.2378454855393413,
          0.33159380494206847,
          0.2708694165031462,
          0.3171883250909447,
          0.3393477652380703,
          0.213575274230504,
          0.2609932564463102,
          0.2560893128390775,
          0.36554152360242004,
          0.32646245774578503,
          0.4192462055635512,
          0.26214501087522013,
          0.23097150663006383,
          0.3125879376675227,
          0.21091597813238838,
          0.27377792916506366,
          0.14615716400446893,
          0.16555321169149967,
          0.22234969335787735,
          0.18922375205439737,
          0.2523781935484835,
          0.49470774489670943,
          0.30812748426164255,
          0.4383193328832047,
          0.24346569156254594,
          0.2534111724404111,
          0.32270947973566816,
          0.1539578763251989,
          0.23727761665484848,
          0.32650505694364373,
          0.2551653390338054,
          0.22055437154207314,
          0.2998314664349315,
          0.225126390702093,
          0.2431809643941981,
          0.3222497132054976,
          0.21399349037404705,
          0.5083540677520405,
          0.45320921446300055,
          0.21687904352998544,
          0.3790308540365149,
          0.2340781822672799,
          0.1512527331266676,
          0.3125114118331841,
          0.5042613980203816,
          0.2946575281347372,
          0.19707774594585295,
          0.35054690705455444,
          0.23209208940186765,
          0.18429358742642066,
          0.28777330046200705,
          0.28691735913421307,
          0.3297340900465712,
          0.23708362401969243,
          0.5056373769784398,
          0.2513310116199746,
          0.7743654920234146,
          0.5264445743537183,
          0.458161454236732,
          0.22354693868127962,
          0.27820738247437554,
          0.22560791401838995,
          0.22646714557568984,
          0.23377709682220493,
          0.30835214197326083,
          0.33413188171546404,
          0.3147883969336704,
          0.192437294124692,
          0.6114283344896931,
          0.265700213081499,
          0.36330863874773234,
          0.38994518438401193,
          0.21576679936344337,
          0.44108893987332554,
          0.19304338679717695,
          0.27695058399808764,
          0.4139542406060414,
          0.3445170637021743,
          0.18479878570999633,
          0.17532260701771982,
          0.26217929355909464,
          0.2529813091521362,
          0.25555065092220064,
          0.2612606816219624,
          0.18134148514190312,
          0.30670167827622213,
          0.2351319008509653,
          0.2180667322132353,
          0.24717439335044583,
          0.25158426057680955,
          0.24273883993752704,
          0.3539154765337721,
          0.24271344177785295,
          0.31128537669073447,
          0.31814792108566636,
          0.1566582770561499,
          0.28834401325686815,
          0.28343771210781865,
          0.2818111764750886,
          0.27445733167649783,
          0.224076973880558,
          0.30050733342651875,
          0.17718633540468184,
          0.3939754079845889,
          0.40046411262050396,
          0.30414685077120923,
          0.19149942644293025,
          0.15006324770904178,
          0.29236472643445505,
          0.22241860278800507,
          0.2079385692813068,
          0.23351879496346845,
          0.18148808017673942,
          0.2456444253324986,
          0.2630455159936724,
          0.23950064741491758,
          0.2568136995572329,
          0.8637132585147165,
          0.29020178016807674,
          0.22434823947960694,
          0.31711559300999975,
          0.37751774206492045,
          0.2620435532720191,
          0.28252531228298006,
          0.3524470128913635,
          0.2216708532747415,
          0.2337321275222979,
          0.2754473583597738,
          0.2937805138819967,
          0.2958357615653964,
          0.26658358750076794,
          0.29356042086428186,
          0.4004142881845227,
          0.29226498665370804,
          0.30534196697711846,
          0.30346818585361457,
          0.2462481905463783,
          0.35449848530978656,
          0.46321647719372955,
          0.2802826802536799,
          0.24967723529170718,
          0.3921391544564124,
          0.3862363897838238,
          0.4070265694985532,
          0.29907662083474534,
          0.19053188461022355,
          0.42662511525456226,
          0.33389623912656524,
          0.3484365796185387,
          0.23152511557092526,
          0.27904472048797796,
          0.3149895883575566,
          0.4084534656067957,
          0.23361275140851107,
          0.27957309159602317,
          0.3678091238723787,
          0.17597187122007393,
          0.18970332805796572,
          0.26667383711336967,
          0.35372860770468345,
          0.22610643886932152,
          0.14298069790696327,
          0.42740897337895256,
          0.5956196963718454,
          0.4426160076794637,
          0.1604683516932097,
          0.23978736037668213,
          0.22382220947429643,
          0.25365859286419,
          0.2160101424678718,
          0.3217079453566738,
          0.29073792771044804,
          0.38426715563985697,
          0.3673278108198878,
          0.4326457306109009,
          0.23478188636602867,
          0.31753805942991237,
          0.22340184865603818,
          0.316955230970351,
          0.19203888773635722,
          0.28835398052091005,
          0.26301986593898397,
          0.1416916906241579,
          0.4837957705573584,
          0.3149955931059492,
          0.2333274123907283,
          0.42158918923105726,
          0.4171477522195111,
          0.3236316379511584,
          0.3100901646326321,
          0.24262171877675237,
          0.3025323792488761,
          0.28998083165333427,
          0.27939361082082564,
          0.31982582161898815,
          0.17899679660271556,
          0.20030766745093911,
          0.2996917116964524,
          0.2456690439499831,
          0.3239615186900121,
          0.30279910070579374,
          0.20409427893586143,
          0.15522198714471175,
          0.3869911862377624,
          0.20947229261559558,
          0.35416396196519073,
          0.2605141548410357,
          0.3510932731566367,
          0.2858450001672098,
          0.2608728224686944,
          0.4734558594022003,
          0.2498163485401983,
          0.23348444077727393,
          0.24632298548917905,
          0.23626224245129282,
          0.2020786709539909,
          0.3951702532730879,
          0.1817151235124313,
          0.1514561264307489,
          0.4572610679825896,
          0.2618483652010946,
          0.672078000696596,
          0.6503288118201789,
          0.20241128033849304,
          0.3418081788581786,
          0.22898632004281155,
          0.17333440123330068,
          0.23783918621969494,
          0.2879719533118139,
          0.33422701163295654,
          0.27475415305700635,
          0.2333829560571959,
          0.18440176907286504,
          0.2525948920061657,
          0.12067628874226642,
          0.3301157200675301,
          0.24903900100106216,
          0.22092040655532175,
          0.33253105389237836,
          0.3421191286772312,
          0.29061465692749433,
          0.35318785892496224,
          0.33260602374746284,
          0.550641262983821,
          0.2823411242734678,
          0.23383133581222754,
          0.18915867950035442,
          0.1894107020396923,
          0.46773839611071755,
          0.263931758405019,
          0.2621580333541732,
          0.41133885603858916,
          0.37563626370427045,
          0.2770574073489802,
          0.19679718072009214,
          0.26581638474037095,
          0.3926410069052882,
          0.3688240905712829,
          0.3730023560021047,
          0.5833448128256258,
          0.260481100510122,
          0.3207826608781929,
          0.21783484926042496,
          0.3142155926743858,
          0.3764896911331028,
          0.27985881276538926,
          0.4442688628474307,
          0.11953076684183311,
          0.24617840264102303,
          0.3451744947932773,
          0.19469232352211632,
          0.30938081535954903,
          0.2559578395200177,
          0.2969798871397789,
          0.15872391445594478,
          0.27166219215843507,
          0.17744761758753277,
          0.20645528819423084,
          0.3450897584837935,
          0.245208887013161,
          0.22991410351874456,
          0.2820222086480237,
          0.31099167692546453,
          0.3884563867290959,
          0.29151055556012073,
          0.1957597813301937,
          0.24026341074732827,
          0.23318147945176515,
          0.5127911790539975,
          0.23169418241722847,
          0.2734048000609778,
          0.20946202844362072,
          0.24423919299501173,
          0.1659695785833328,
          0.21388641927230512,
          0.3244676975992324,
          0.35386225834386814,
          0.33716140933948285,
          0.27048299181325836,
          0.2545764417171224,
          0.40569558433752434,
          0.3866958332214489,
          0.41399157648690504,
          0.25022812676278194,
          0.17958072767841446,
          0.22319949226971886,
          0.2728645853182686,
          0.2749660186394896,
          0.20508262892156376,
          0.25401326054352363,
          0.25242780104033125,
          0.19621185518446851,
          0.36297133247552954,
          0.2716735838611308,
          0.15080454333404486,
          0.33087435523378045,
          0.18298914050879864,
          0.6438190247982661,
          0.2710466578237289,
          0.18632257156087342,
          0.6041117029355406,
          0.23438588916152409,
          0.36052175139617393,
          0.22409979704266272,
          0.2675793402318117,
          0.21116976069595922,
          0.2537245724459495,
          0.27574576756164504,
          0.21783069262172533,
          0.45436207492475333,
          0.36761120834153505,
          0.3181568068491131,
          0.275540318411936,
          0.36594393054833296,
          0.7549805420822989,
          0.286464537957798,
          0.07268149830672162,
          0.2852055512807836,
          0.3537212183885363,
          0.2815670820076378,
          0.3011094381745878,
          0.273209757921805,
          0.38158369135161396,
          0.23401540082204472,
          0.25579843704283994,
          0.346703951987895,
          0.21986413772622185,
          0.40915163117409553,
          0.26432732852650664,
          0.32564432472746596,
          0.32027437506193157,
          0.42823071557743736,
          0.283307163443162,
          0.2628470187600832,
          0.21711922353421267,
          0.42767834523949366,
          0.3418521342472895,
          0.22424405974918155,
          0.18962609621497262,
          0.3722479608444946,
          0.24318095433493137,
          0.26377544120017626,
          0.16768105787551443,
          0.29041675041594733,
          0.3064912433570881,
          0.22289769823141367,
          0.27205806157031354,
          0.25201785692554457,
          0.1837650767499253,
          0.222849683776303,
          0.17979309363821863,
          0.3398375451397604,
          0.24195997431766442,
          0.29371065741816665,
          0.3152708333362421,
          0.30684151002403665,
          0.24169094322622203,
          0.2796615355776131,
          0.1686711395215934,
          0.2154269674608466,
          0.37293440252988647,
          0.2349869719919605,
          0.4282467125151774,
          0.2565394992199523,
          0.24723156922440612,
          0.26312438735001853,
          0.3007299965657831,
          0.392732750588504,
          0.41168058955245784,
          0.3023098300385666,
          0.19054228412344867,
          0.30448367995178693,
          0.19535088767426884,
          0.2263519448218242,
          0.22517780185853326,
          0.22842940864495642,
          0.35526586822721495,
          0.2864047681730716,
          0.3230481800763179,
          0.26929779685808,
          0.2968884000575339,
          0.3872139180859362,
          0.2502811997713607,
          0.21877074590247456,
          0.2257237991056303,
          0.20721905395540943,
          0.2855863997579077,
          0.2987738286625376,
          0.3044352124560886,
          0.46435928866936654,
          0.2609519404902159,
          0.1482478506598267,
          0.21013817487332181,
          0.31928967131459224,
          0.18541087526933286,
          0.19183840192760707,
          0.19251388633223215,
          0.3245983611926743,
          0.24321331477306285,
          0.36822239685233304,
          0.5245969487155407,
          0.46308767257342587,
          0.6328599173483938,
          0.7740556580141216,
          0.47494518846645384,
          0.26460029422319187,
          0.46286160907044915,
          0.17346923126582198,
          0.43884636831523616,
          0.3391894375530958,
          0.4030762867661127,
          0.47558515305267035,
          0.3595171573993847,
          0.23270092272480075,
          0.2823925312816747,
          0.2735178189209339,
          0.26800748134418273,
          0.28742322771187195,
          0.2721533079172636,
          0.2631203684659454,
          0.13509962183791194,
          0.15667436458497114,
          0.2958838456488064,
          0.2578094561371912,
          0.2796856716157109,
          0.21748139474402597,
          0.28110002892398067,
          0.2534221846602201,
          0.23421121687536148,
          0.1649870831053978,
          0.3219087502576201,
          0.42021203929828355,
          0.1977217806043279,
          0.4930152944950563,
          0.25069124179494506,
          0.25221022942566895,
          0.3519341768045737,
          0.21891579765041824,
          0.23594397307849657,
          0.24411498638942458,
          0.154489484954961,
          0.20625163973279198,
          0.3428371495840511,
          0.18495866927032467,
          0.3319162757930803,
          0.2129548999194476,
          0.2712720835309324,
          0.508669551817439,
          0.44665280582388933,
          0.24672638803433505,
          0.2461410478626958,
          0.2162343682908011,
          0.31815460592851924,
          0.20416349984774043,
          0.28281951855918286,
          0.25194971367045055,
          0.26568581633869415,
          0.2559936104374939,
          0.236509979473832,
          0.2688598554482666,
          0.29496313519908235,
          0.33233087879292966,
          0.20591704499148064,
          0.23825339961951264,
          0.243070979864227,
          0.4170982901595502,
          0.39265386268241503,
          0.4635311630421329,
          0.31757175002736515,
          0.3232571156850001,
          0.2705088410843112,
          0.24538991449147057,
          0.20618132146142204,
          0.32250686590154204,
          0.4266012840882913,
          0.46127921203316197,
          0.27508051712654147,
          0.4483794629308995,
          0.35948112846490793,
          0.20454148315215392,
          0.2341044071590832,
          0.24318894832123628,
          0.2878261604706457,
          0.3431534575014142,
          0.22922195669002066,
          0.31597268132298983,
          0.22391379197085848,
          0.22282032705160176,
          0.42900759036298247,
          0.3247360396022973,
          0.19434740251350963,
          0.2800462570538967,
          0.3114338115063916,
          0.3978587298287637,
          0.29095390279214817,
          0.31595264256953365,
          0.19561321370128373,
          0.3923657369034943,
          0.22420434017579483,
          0.40259104842786436,
          0.2477053950913326,
          0.22500716287209024,
          0.31165366151579343,
          0.14402642342480332,
          0.12590878726107008,
          0.199987045115972,
          0.32111266625769286,
          0.3196895945072103,
          0.7869909371887919,
          0.27150365421508255,
          0.255231397407525,
          0.35696509585365166,
          0.19057436228099048,
          0.31458087150471925,
          0.17645529562628268,
          0.19557045933594136,
          0.4876625919357098,
          0.15257048013828792,
          0.2304242316821224,
          0.24986784420342167,
          0.4515514012289685,
          0.26416950090579255,
          0.23433568378759123,
          0.22846424303386037,
          0.35941949414150315,
          0.4395442858651363,
          0.4984459171020974,
          0.29898828181352916,
          0.2221290384111614,
          0.2663568883148503,
          0.21777226518877651,
          0.18479114030763308,
          0.28486555409707937,
          0.3526044786146351,
          0.38154694127941063,
          0.2923002963050007,
          0.36121213320049667,
          0.21130259476260774,
          0.28812135546641354,
          0.4009095275932672,
          0.32281320628804466,
          0.38307954015672435,
          0.35334727571014024,
          0.31452017652151865,
          0.14259798622515676,
          0.21576407196917444,
          0.18655279434967328,
          0.15488839316600592,
          0.39721782571751413,
          0.22419629740461958,
          0.19508596551104623,
          0.4142627893104899,
          0.2525817285839994,
          0.31661084766425385,
          0.23830482440582057,
          0.3276475581045806,
          0.276421075964357,
          0.3085148303522537,
          0.15754376775909976,
          0.4127514668959496,
          0.3299919178277468,
          0.2269976747159489,
          0.19224046824215638,
          0.2408309889255634,
          0.2140049074138664,
          0.453312912631725,
          0.2497660883529607,
          0.26648074769544927,
          0.2215673338556419,
          0.23427619332063776,
          0.36841967508057216,
          0.3288890775355824,
          0.33742617631575805,
          0.4050386281510923,
          0.4951923505422169,
          0.17528895119952995,
          0.2693581292718946,
          0.30339152141778586,
          0.2625807230766997,
          0.404949248017348,
          0.15652519386024127,
          0.27673179533263115,
          0.23261940488305016,
          0.403449351995217,
          0.2989163510278521,
          0.2596128921501676,
          0.19125032350286775,
          0.23602665949220084,
          0.35309268407622274,
          0.24963216703767435,
          0.20801570269870576,
          0.3875916542942456,
          0.4247299968919057,
          0.4287544869156788,
          0.19907888110507993,
          0.27476856406186356,
          0.5133300697729295,
          0.26233670875658394,
          0.15084783359060872,
          0.3649152554567839,
          0.2972581628076495,
          0.4058754470066055,
          0.3773051695645248,
          0.25916929659560317,
          0.18124811067877095,
          0.3184077123754355,
          0.3351714547776039,
          0.4502153640369588,
          0.5619933768419038,
          0.3826603995588012,
          0.422696649867701,
          0.2300767864966421,
          0.2362946541204318,
          0.47376374077010486,
          0.2684108595786051,
          0.49050029774803583,
          0.20679744852230242,
          0.18663697568066065,
          0.4252714672930442,
          0.41801028413277813,
          0.4883691594224411,
          0.2512577685409338,
          0.4260923594182422,
          0.381632036619189,
          0.254028194242301,
          0.2637578864862091,
          0.29299422814797754,
          0.45874366196348365,
          0.24341741976206807,
          0.5719366471053889,
          0.5430566306365144,
          0.18221491785418875,
          0.3293175879906688,
          0.2536903660016403,
          0.28512346709443825,
          0.26284396232638235,
          0.3861834193065377,
          0.35240001733175913,
          0.36526105096856853,
          0.17034412687998135,
          0.2887868249035583,
          0.34721499919032595,
          0.27619764859310025,
          0.3181308554092748,
          0.23718285391169167,
          0.3550185203879406,
          0.3348290938084218,
          0.22323010463830184,
          0.20679051326494974,
          0.23108255854736845,
          0.2229259553170047,
          0.2901259129684068,
          0.3482745908895056,
          0.20010889712836608,
          0.21913694055893237,
          0.2267823760314612,
          0.23443672022687892,
          0.30371213977809314,
          0.451271989208773,
          0.25624097790218037,
          0.3385082287671179,
          0.4033543715787309,
          0.3908184752835938,
          0.30446225722988546,
          0.24621825865799743,
          0.192596159952513,
          0.22257934502912038,
          0.2504376059555919,
          0.22698631869693783,
          0.22937053856667433,
          0.26977891351218436,
          0.39432925987670553,
          0.19945408046272953,
          0.21473327545003576,
          0.5591716256624073,
          0.4001582003565135,
          0.23196997852969242,
          0.5109786433644753,
          0.25409627756109326,
          0.28678067318038425,
          0.36388381190666336,
          0.3822545404000531,
          0.2530835009987879,
          0.2604761936753886,
          0.26485987101981673,
          0.21571488782088097,
          0.44759034639248824,
          0.1402422273855504,
          0.2963330531553128,
          0.28235044884573623,
          0.24433642630032676,
          0.2235685639596855,
          0.2501991887334451,
          0.32754581738067684,
          0.18269482499275208,
          0.17413008660088664,
          0.8246709395343911,
          0.4699490223456976,
          0.2755034866873762,
          0.23613395657340225,
          0.5196738680100308,
          0.24862259540019815,
          0.3245149153839738,
          0.24030721665414612,
          0.2473871601266784,
          0.2167152826582636,
          0.5162091696786044,
          0.2830372972937761,
          0.34528696883137916,
          0.32865346139423407,
          0.3537143142770164,
          0.38686937688675577,
          0.2913882957993575,
          0.3046220590537332,
          0.4409851043341739,
          0.36976005782861043,
          0.20491601811513713,
          0.2675102231200907,
          0.17422257327672927,
          0.3128946017315975,
          0.28177962614206886,
          0.3522271257020537,
          0.17390102908342372,
          0.2736634454018063,
          0.46630675225500995,
          0.3426892993646945,
          0.2375613516038811,
          0.4383516019900471,
          0.21441024369004907,
          0.34539105870981024,
          0.3142296901934731,
          0.15486659356158908,
          0.31853821873857685,
          0.17639563293158828,
          0.37720106166552514,
          0.343656125433414,
          0.4183020540405798,
          0.4935451443272375,
          0.29736013471410716,
          0.3722674030894418,
          0.2545501422651708,
          0.313845312756867,
          0.287972467128264,
          0.34199560314590666,
          0.32270372170279027,
          0.2543637459193444,
          0.23549411870298853,
          0.2646622070214353,
          0.47423195718927397,
          0.3737094055904188,
          0.248654959331563,
          0.815655477174396,
          0.49400315395081834,
          0.25623422480604663,
          0.442992254597615,
          0.5572599550010691,
          0.2924294723063896,
          0.30218541293348455,
          0.48315413249556827,
          0.3844104050568076,
          0.20286076602217118,
          0.2476867355900852,
          0.3221421755035682,
          0.3783662494223602,
          0.12389525296600196,
          0.2958475141701648,
          0.2683287217394811,
          0.22130873895701836,
          0.22618198433887718,
          0.29828863324044996,
          0.19006388327441606,
          0.29126789939230374,
          0.3596579016504018,
          0.3384831207940087,
          0.25488225331949305,
          0.15080460336838702,
          0.3106673568000715,
          0.2020207723862955,
          0.24196717097927462,
          0.14131715224237257,
          0.168523249127401,
          0.27946229626848346,
          0.22211513970954327,
          0.3155203603854049,
          0.36241044010351026,
          0.15332317705116108,
          0.39510190158813824,
          0.29486303822865095,
          0.3699485040090883,
          0.21315578471782476,
          0.31598781582958035,
          0.28567123809167627,
          0.27635608579285775,
          0.5870798195227978,
          0.33313540090493776,
          0.20538025656603875,
          0.39900879034322345,
          0.3560875289724893,
          0.2604870061735552,
          0.24498394329767972,
          0.28236946121827583,
          0.41995250852511823,
          0.2972266951905379,
          0.392428358693706,
          0.5361872992412487,
          0.29471887245918144,
          0.27648629379446327,
          0.1489051245234133,
          0.19537241827337512,
          0.20686559169774274,
          0.24670391436340658,
          0.1728525392630807,
          0.23103186433311557,
          0.258831806031691,
          0.14734627843096737,
          0.23531057285218585,
          0.36930532671591837,
          0.20394843353015304,
          0.13871560233233782,
          0.0758778372918185,
          0.194796601327094,
          0.4677788110756308,
          0.23591156455749376,
          0.36061905866188376,
          0.483491793242464,
          0.20361237729712953,
          0.19233384876253976,
          0.44220315199785765,
          0.2928460930360459,
          0.3340074383072947,
          0.4007193413282557,
          0.16342122480444693,
          0.16446127293940668,
          0.29506547827409424,
          0.18140446065197427,
          0.1336544789470204,
          0.2405847802976766,
          0.27375414473283777,
          0.30752565946877225,
          0.22045799324515328,
          0.2236575192679052,
          0.2073295151518965,
          0.22954791839277017,
          0.41835769308585014,
          0.13625888158924898,
          0.24835813083776462,
          0.3172769237277011,
          0.3031957379395841,
          0.6008175456939528,
          0.38570194339595765,
          0.20576712513225354,
          0.6337828655551389,
          0.39157515890048367,
          0.24123292187500056,
          0.3469878547139416,
          0.30570452551835464,
          0.20765064220750237,
          0.4427299669209773,
          0.37573268633243234,
          0.35771105447447826,
          0.221603030268327,
          0.3063898752591908,
          0.1734617040570918,
          0.3006868849797259,
          0.41157002362884504,
          0.3695015464016733,
          0.31916971106884345,
          0.3680055067402627,
          0.2498879891377718,
          0.2743563828611652,
          0.15396488384206852,
          0.24120869693199862,
          0.4010830777290484,
          0.2816962870870698,
          0.20384709485672245,
          0.2625129799121758,
          0.23194948834058748,
          0.24288022327080028,
          0.30782234535202546,
          0.2171183238753576,
          0.34505505384856106,
          0.18874749176448358,
          0.23304624632953577,
          0.3270352331319807,
          0.24090594390746836,
          0.22049337312994569,
          0.2551986132966181,
          0.2819072386510515,
          0.35593939369194066,
          0.373113004335723,
          0.39948373394679343,
          0.5634123333213996,
          0.2598916098645931,
          0.26760265776753356,
          0.39647165662772244,
          0.25341962629492354,
          0.2919775406842463,
          0.2768253966802035,
          0.30292123238528534,
          0.2001333160223048,
          0.4263882756028239,
          0.26449245800276144,
          0.5155576499440309,
          0.17521576650619416,
          0.3314694903325124,
          0.23975866934335,
          0.17885708476855283,
          0.1591233032285873,
          0.2681915642889027,
          0.22928267878496297,
          0.23108892852041912,
          0.3067284283517385,
          0.32169949044129315,
          0.27994156193670555,
          0.19631954403553883,
          0.1838250221669155,
          0.18980785336743855,
          0.14123604412051652,
          0.286932616620865,
          0.36404597173061665,
          0.365945967093576,
          0.3633498280787899,
          0.17894045388485602,
          0.25611716715718563,
          0.26014911622601217,
          0.28462766207617285,
          0.26389281022964495,
          0.2455552762115403,
          0.5569322391721134,
          0.4477356198908001,
          0.25667494820448383,
          0.316130466816291,
          0.24730894724953434,
          0.24346879728047444,
          0.2859425325791746,
          0.32108953970601267,
          0.10222618848346508,
          0.23014676356854483,
          0.22062245339542555,
          0.18429405770586005,
          0.26580017869463896,
          0.30109505246324453,
          0.5048017660698401,
          0.21760793662529992,
          0.24990632817288455,
          0.1893150098485125,
          0.27341990333693394,
          0.2246159597444623,
          0.21411188451477486,
          0.33842566019829856,
          0.3011583021409186,
          0.23857021217341579,
          0.2448469408715773,
          0.5301799303744174,
          0.144638155644308,
          0.27195313930374854,
          0.3128387482785897,
          0.27058194055692625,
          0.26116081814770753,
          0.3388466271049483,
          0.217019014721828,
          0.281049686694965,
          0.259178382709227,
          0.29151184965227167,
          0.22910917842817538,
          0.33784117679441383,
          0.14467525293368327,
          0.26010534615386316,
          0.32784477816052665,
          0.3029845344585016,
          0.28579086526104525,
          0.29421953424714253,
          0.28320087238657465,
          0.5252739178027688,
          0.36555265501084167,
          0.47052821683489476,
          0.12793822216111042,
          0.26850187755691657,
          0.28236211809802775,
          0.1453814701157018,
          0.2692582186175667,
          0.21992895403162843,
          0.281581101723329,
          0.3317881689072974,
          0.3307286101276322,
          0.21419461147146093,
          0.19196556488353744,
          0.34472857629100917,
          0.27430007228436243,
          0.14682158406126714,
          0.40291005936097735,
          0.2272525576336337,
          0.43447056439009923,
          0.34755433117039075,
          0.26969435797297703,
          0.3212733221212441,
          0.2957435782884876,
          0.3038896761612514,
          0.28948822959533627,
          0.32223953019234924,
          0.34553238757754423,
          0.27854342379483693,
          0.25976636878906595,
          0.2276041340891466,
          0.30475431263582936,
          0.17804834549790569,
          0.24026544694498525,
          0.6140811603785911,
          0.2859368417093995,
          0.30202408947024284,
          0.42112797161526894,
          0.32097819980586734,
          0.15873927349145375,
          0.31295322678977505,
          0.25943894701464065,
          0.368920393498834,
          0.1999742078479889,
          0.28213250506653226,
          0.4482642800946334,
          0.20029470556153497,
          0.32107325737520687,
          0.17632762767328403,
          0.1653080682244404,
          0.12953839280914609,
          0.31234530851700953,
          0.23781551136104648,
          0.29837191500441923,
          0.5988287444731641,
          0.27608458624446386,
          0.31111769578834064,
          0.26550779293874094,
          0.24088632179793162,
          0.3670284191351953,
          0.20067564272626123,
          0.2672385118040488,
          0.23806190164677873,
          0.3801423414430394,
          0.26845024186003974,
          0.23195820220979696,
          0.35410454747591114,
          0.2970498846227752,
          0.221707918140477,
          0.2319287684628837,
          0.221336283742569,
          0.22822683343956937,
          0.2526803477613856,
          0.3796383547761371,
          0.2714523694001338,
          0.6270344947377443,
          0.2949413235316788,
          0.24798505990492103,
          0.27263110706907745,
          0.30335355982492124,
          0.26325093325448523,
          0.31198574735856544,
          0.2743741967745132,
          0.23657073443943855,
          0.16294946576520183,
          0.5081829396945792,
          0.5539427987548129,
          0.2096335002174467,
          0.2719868664943194,
          0.3235602327729127,
          0.22980486081338652,
          0.22965303757000946,
          0.26347884319361436,
          0.21682464882433425,
          0.29805782914634465,
          0.200654047200366,
          0.2936835890492935,
          0.21228236293580793,
          0.27960540106810794,
          0.20161918038250054,
          0.6108415844603144,
          0.2855853516993655,
          0.27528817939260625,
          0.2470114354474665,
          0.283861981209337,
          0.2920195754021394,
          0.24483071952214033,
          0.22263210518623258,
          0.4959089862969052,
          0.3763163219881729,
          0.24330537263304539,
          0.3479003029413059,
          0.2510651480534899,
          0.24912999237888345,
          0.19974163470912173,
          0.26053539306536727,
          0.36136776710992463,
          0.2304511576391871,
          0.36707069737960973,
          0.2505410891762455,
          0.22522803439784833,
          0.28544556476118904,
          0.29107424762194234,
          0.34443606410107475,
          0.2754739659978716,
          0.3507564773559833,
          0.3891683601735347,
          0.36120630718614927,
          0.46972397991573017,
          0.3470801445386091,
          0.2565885055634559,
          0.2888783656817678,
          0.30528224128108966,
          0.13438674460448405,
          0.17164328273644125,
          0.42290451344016594,
          0.27172488337176964,
          0.24279833350334823,
          0.38056507147113194,
          0.25250156975246146,
          0.20626455684462758,
          0.25799943066128,
          0.3575336143140399,
          0.32473815403354783,
          0.23570564448482326,
          0.21808323084005493,
          0.42813176628471017,
          0.3811333334465799,
          0.3956461129215066,
          0.2246416341298596,
          0.38369917602650716,
          0.3115151991529198,
          0.26954868929261583,
          0.22364995741646362,
          0.7604672678520775,
          0.3111513338971066,
          0.20978817553766652,
          0.2225523107174418,
          0.46510589532303387,
          0.5696759965367069,
          0.37039511935517466,
          0.4175110080008303,
          0.37943867419502475,
          0.2056204821076022,
          0.2538802652372653,
          0.3959595594071287,
          0.4195295408885903,
          0.1731778277529467,
          0.17261073830866366,
          0.21299361628500268,
          0.2560496254790098,
          0.2881587105510004,
          0.5140052519661381,
          0.41301934612052493,
          0.21333294118816387,
          0.2789586229170228,
          0.24910515740096772,
          0.34204299130934834,
          0.2015071868445307,
          0.24269159002057775,
          0.3037523783319866,
          0.3046594922718564,
          0.22987833988849238,
          0.229528906095633,
          0.29216915706307733,
          0.3330862417853453,
          0.24349946433756353,
          0.36382507352974086,
          0.2710494817110811,
          0.2872072651078111,
          0.47645274301453316,
          0.5650381220982186,
          0.2477660074351041,
          0.18461579441347992,
          0.18137464137766818,
          0.38324450783823677,
          0.2732711706434913,
          0.27536584111725876,
          0.35172768511613595,
          0.3252949815231898,
          0.2756155572083676,
          0.26060905386186456,
          0.20172219969609437,
          0.23313236041987692,
          0.3692340852144138,
          0.45321045880614624,
          0.2689034958827742,
          0.23824475204183743,
          0.17363687396375913,
          0.2815542939148057,
          0.2515936681784273,
          0.2058668084342971,
          0.38823945202601096,
          0.29321590190549973,
          0.399819564648935,
          0.4024982454552692,
          0.4423747435500304,
          0.5966449365462941,
          0.371713543187237,
          0.23567713582068142,
          0.2260202430192569,
          0.2258151741174676,
          0.34706932775431315,
          0.3047957708813456,
          0.33971013909078446,
          0.17728258649887443,
          0.5120044410326348,
          0.2523238025573948,
          0.3523818873033539,
          0.2653219389761447,
          0.30196310669019427,
          0.2741363717814868,
          0.22160590273228956,
          0.1883223587277524,
          0.32219929190626323,
          0.3650058699359944,
          0.2692455164013486,
          0.40013097413779736,
          0.26703716606487254,
          0.24307649825922284,
          0.18003238178843708,
          0.37972295781857135,
          0.2891836360618034
         ],
         "y0": " ",
         "yaxis": "y"
        }
       ],
       "layout": {
        "legend": {
         "tracegroupgap": 0
        },
        "margin": {
         "t": 60
        },
        "template": {
         "data": {
          "bar": [
           {
            "error_x": {
             "color": "#2a3f5f"
            },
            "error_y": {
             "color": "#2a3f5f"
            },
            "marker": {
             "line": {
              "color": "#E5ECF6",
              "width": 0.5
             },
             "pattern": {
              "fillmode": "overlay",
              "size": 10,
              "solidity": 0.2
             }
            },
            "type": "bar"
           }
          ],
          "barpolar": [
           {
            "marker": {
             "line": {
              "color": "#E5ECF6",
              "width": 0.5
             },
             "pattern": {
              "fillmode": "overlay",
              "size": 10,
              "solidity": 0.2
             }
            },
            "type": "barpolar"
           }
          ],
          "carpet": [
           {
            "aaxis": {
             "endlinecolor": "#2a3f5f",
             "gridcolor": "white",
             "linecolor": "white",
             "minorgridcolor": "white",
             "startlinecolor": "#2a3f5f"
            },
            "baxis": {
             "endlinecolor": "#2a3f5f",
             "gridcolor": "white",
             "linecolor": "white",
             "minorgridcolor": "white",
             "startlinecolor": "#2a3f5f"
            },
            "type": "carpet"
           }
          ],
          "choropleth": [
           {
            "colorbar": {
             "outlinewidth": 0,
             "ticks": ""
            },
            "type": "choropleth"
           }
          ],
          "contour": [
           {
            "colorbar": {
             "outlinewidth": 0,
             "ticks": ""
            },
            "colorscale": [
             [
              0,
              "#0d0887"
             ],
             [
              0.1111111111111111,
              "#46039f"
             ],
             [
              0.2222222222222222,
              "#7201a8"
             ],
             [
              0.3333333333333333,
              "#9c179e"
             ],
             [
              0.4444444444444444,
              "#bd3786"
             ],
             [
              0.5555555555555556,
              "#d8576b"
             ],
             [
              0.6666666666666666,
              "#ed7953"
             ],
             [
              0.7777777777777778,
              "#fb9f3a"
             ],
             [
              0.8888888888888888,
              "#fdca26"
             ],
             [
              1,
              "#f0f921"
             ]
            ],
            "type": "contour"
           }
          ],
          "contourcarpet": [
           {
            "colorbar": {
             "outlinewidth": 0,
             "ticks": ""
            },
            "type": "contourcarpet"
           }
          ],
          "heatmap": [
           {
            "colorbar": {
             "outlinewidth": 0,
             "ticks": ""
            },
            "colorscale": [
             [
              0,
              "#0d0887"
             ],
             [
              0.1111111111111111,
              "#46039f"
             ],
             [
              0.2222222222222222,
              "#7201a8"
             ],
             [
              0.3333333333333333,
              "#9c179e"
             ],
             [
              0.4444444444444444,
              "#bd3786"
             ],
             [
              0.5555555555555556,
              "#d8576b"
             ],
             [
              0.6666666666666666,
              "#ed7953"
             ],
             [
              0.7777777777777778,
              "#fb9f3a"
             ],
             [
              0.8888888888888888,
              "#fdca26"
             ],
             [
              1,
              "#f0f921"
             ]
            ],
            "type": "heatmap"
           }
          ],
          "heatmapgl": [
           {
            "colorbar": {
             "outlinewidth": 0,
             "ticks": ""
            },
            "colorscale": [
             [
              0,
              "#0d0887"
             ],
             [
              0.1111111111111111,
              "#46039f"
             ],
             [
              0.2222222222222222,
              "#7201a8"
             ],
             [
              0.3333333333333333,
              "#9c179e"
             ],
             [
              0.4444444444444444,
              "#bd3786"
             ],
             [
              0.5555555555555556,
              "#d8576b"
             ],
             [
              0.6666666666666666,
              "#ed7953"
             ],
             [
              0.7777777777777778,
              "#fb9f3a"
             ],
             [
              0.8888888888888888,
              "#fdca26"
             ],
             [
              1,
              "#f0f921"
             ]
            ],
            "type": "heatmapgl"
           }
          ],
          "histogram": [
           {
            "marker": {
             "pattern": {
              "fillmode": "overlay",
              "size": 10,
              "solidity": 0.2
             }
            },
            "type": "histogram"
           }
          ],
          "histogram2d": [
           {
            "colorbar": {
             "outlinewidth": 0,
             "ticks": ""
            },
            "colorscale": [
             [
              0,
              "#0d0887"
             ],
             [
              0.1111111111111111,
              "#46039f"
             ],
             [
              0.2222222222222222,
              "#7201a8"
             ],
             [
              0.3333333333333333,
              "#9c179e"
             ],
             [
              0.4444444444444444,
              "#bd3786"
             ],
             [
              0.5555555555555556,
              "#d8576b"
             ],
             [
              0.6666666666666666,
              "#ed7953"
             ],
             [
              0.7777777777777778,
              "#fb9f3a"
             ],
             [
              0.8888888888888888,
              "#fdca26"
             ],
             [
              1,
              "#f0f921"
             ]
            ],
            "type": "histogram2d"
           }
          ],
          "histogram2dcontour": [
           {
            "colorbar": {
             "outlinewidth": 0,
             "ticks": ""
            },
            "colorscale": [
             [
              0,
              "#0d0887"
             ],
             [
              0.1111111111111111,
              "#46039f"
             ],
             [
              0.2222222222222222,
              "#7201a8"
             ],
             [
              0.3333333333333333,
              "#9c179e"
             ],
             [
              0.4444444444444444,
              "#bd3786"
             ],
             [
              0.5555555555555556,
              "#d8576b"
             ],
             [
              0.6666666666666666,
              "#ed7953"
             ],
             [
              0.7777777777777778,
              "#fb9f3a"
             ],
             [
              0.8888888888888888,
              "#fdca26"
             ],
             [
              1,
              "#f0f921"
             ]
            ],
            "type": "histogram2dcontour"
           }
          ],
          "mesh3d": [
           {
            "colorbar": {
             "outlinewidth": 0,
             "ticks": ""
            },
            "type": "mesh3d"
           }
          ],
          "parcoords": [
           {
            "line": {
             "colorbar": {
              "outlinewidth": 0,
              "ticks": ""
             }
            },
            "type": "parcoords"
           }
          ],
          "pie": [
           {
            "automargin": true,
            "type": "pie"
           }
          ],
          "scatter": [
           {
            "fillpattern": {
             "fillmode": "overlay",
             "size": 10,
             "solidity": 0.2
            },
            "type": "scatter"
           }
          ],
          "scatter3d": [
           {
            "line": {
             "colorbar": {
              "outlinewidth": 0,
              "ticks": ""
             }
            },
            "marker": {
             "colorbar": {
              "outlinewidth": 0,
              "ticks": ""
             }
            },
            "type": "scatter3d"
           }
          ],
          "scattercarpet": [
           {
            "marker": {
             "colorbar": {
              "outlinewidth": 0,
              "ticks": ""
             }
            },
            "type": "scattercarpet"
           }
          ],
          "scattergeo": [
           {
            "marker": {
             "colorbar": {
              "outlinewidth": 0,
              "ticks": ""
             }
            },
            "type": "scattergeo"
           }
          ],
          "scattergl": [
           {
            "marker": {
             "colorbar": {
              "outlinewidth": 0,
              "ticks": ""
             }
            },
            "type": "scattergl"
           }
          ],
          "scattermapbox": [
           {
            "marker": {
             "colorbar": {
              "outlinewidth": 0,
              "ticks": ""
             }
            },
            "type": "scattermapbox"
           }
          ],
          "scatterpolar": [
           {
            "marker": {
             "colorbar": {
              "outlinewidth": 0,
              "ticks": ""
             }
            },
            "type": "scatterpolar"
           }
          ],
          "scatterpolargl": [
           {
            "marker": {
             "colorbar": {
              "outlinewidth": 0,
              "ticks": ""
             }
            },
            "type": "scatterpolargl"
           }
          ],
          "scatterternary": [
           {
            "marker": {
             "colorbar": {
              "outlinewidth": 0,
              "ticks": ""
             }
            },
            "type": "scatterternary"
           }
          ],
          "surface": [
           {
            "colorbar": {
             "outlinewidth": 0,
             "ticks": ""
            },
            "colorscale": [
             [
              0,
              "#0d0887"
             ],
             [
              0.1111111111111111,
              "#46039f"
             ],
             [
              0.2222222222222222,
              "#7201a8"
             ],
             [
              0.3333333333333333,
              "#9c179e"
             ],
             [
              0.4444444444444444,
              "#bd3786"
             ],
             [
              0.5555555555555556,
              "#d8576b"
             ],
             [
              0.6666666666666666,
              "#ed7953"
             ],
             [
              0.7777777777777778,
              "#fb9f3a"
             ],
             [
              0.8888888888888888,
              "#fdca26"
             ],
             [
              1,
              "#f0f921"
             ]
            ],
            "type": "surface"
           }
          ],
          "table": [
           {
            "cells": {
             "fill": {
              "color": "#EBF0F8"
             },
             "line": {
              "color": "white"
             }
            },
            "header": {
             "fill": {
              "color": "#C8D4E3"
             },
             "line": {
              "color": "white"
             }
            },
            "type": "table"
           }
          ]
         },
         "layout": {
          "annotationdefaults": {
           "arrowcolor": "#2a3f5f",
           "arrowhead": 0,
           "arrowwidth": 1
          },
          "autotypenumbers": "strict",
          "coloraxis": {
           "colorbar": {
            "outlinewidth": 0,
            "ticks": ""
           }
          },
          "colorscale": {
           "diverging": [
            [
             0,
             "#8e0152"
            ],
            [
             0.1,
             "#c51b7d"
            ],
            [
             0.2,
             "#de77ae"
            ],
            [
             0.3,
             "#f1b6da"
            ],
            [
             0.4,
             "#fde0ef"
            ],
            [
             0.5,
             "#f7f7f7"
            ],
            [
             0.6,
             "#e6f5d0"
            ],
            [
             0.7,
             "#b8e186"
            ],
            [
             0.8,
             "#7fbc41"
            ],
            [
             0.9,
             "#4d9221"
            ],
            [
             1,
             "#276419"
            ]
           ],
           "sequential": [
            [
             0,
             "#0d0887"
            ],
            [
             0.1111111111111111,
             "#46039f"
            ],
            [
             0.2222222222222222,
             "#7201a8"
            ],
            [
             0.3333333333333333,
             "#9c179e"
            ],
            [
             0.4444444444444444,
             "#bd3786"
            ],
            [
             0.5555555555555556,
             "#d8576b"
            ],
            [
             0.6666666666666666,
             "#ed7953"
            ],
            [
             0.7777777777777778,
             "#fb9f3a"
            ],
            [
             0.8888888888888888,
             "#fdca26"
            ],
            [
             1,
             "#f0f921"
            ]
           ],
           "sequentialminus": [
            [
             0,
             "#0d0887"
            ],
            [
             0.1111111111111111,
             "#46039f"
            ],
            [
             0.2222222222222222,
             "#7201a8"
            ],
            [
             0.3333333333333333,
             "#9c179e"
            ],
            [
             0.4444444444444444,
             "#bd3786"
            ],
            [
             0.5555555555555556,
             "#d8576b"
            ],
            [
             0.6666666666666666,
             "#ed7953"
            ],
            [
             0.7777777777777778,
             "#fb9f3a"
            ],
            [
             0.8888888888888888,
             "#fdca26"
            ],
            [
             1,
             "#f0f921"
            ]
           ]
          },
          "colorway": [
           "#636efa",
           "#EF553B",
           "#00cc96",
           "#ab63fa",
           "#FFA15A",
           "#19d3f3",
           "#FF6692",
           "#B6E880",
           "#FF97FF",
           "#FECB52"
          ],
          "font": {
           "color": "#2a3f5f"
          },
          "geo": {
           "bgcolor": "white",
           "lakecolor": "white",
           "landcolor": "#E5ECF6",
           "showlakes": true,
           "showland": true,
           "subunitcolor": "white"
          },
          "hoverlabel": {
           "align": "left"
          },
          "hovermode": "closest",
          "mapbox": {
           "style": "light"
          },
          "paper_bgcolor": "white",
          "plot_bgcolor": "#E5ECF6",
          "polar": {
           "angularaxis": {
            "gridcolor": "white",
            "linecolor": "white",
            "ticks": ""
           },
           "bgcolor": "#E5ECF6",
           "radialaxis": {
            "gridcolor": "white",
            "linecolor": "white",
            "ticks": ""
           }
          },
          "scene": {
           "xaxis": {
            "backgroundcolor": "#E5ECF6",
            "gridcolor": "white",
            "gridwidth": 2,
            "linecolor": "white",
            "showbackground": true,
            "ticks": "",
            "zerolinecolor": "white"
           },
           "yaxis": {
            "backgroundcolor": "#E5ECF6",
            "gridcolor": "white",
            "gridwidth": 2,
            "linecolor": "white",
            "showbackground": true,
            "ticks": "",
            "zerolinecolor": "white"
           },
           "zaxis": {
            "backgroundcolor": "#E5ECF6",
            "gridcolor": "white",
            "gridwidth": 2,
            "linecolor": "white",
            "showbackground": true,
            "ticks": "",
            "zerolinecolor": "white"
           }
          },
          "shapedefaults": {
           "line": {
            "color": "#2a3f5f"
           }
          },
          "ternary": {
           "aaxis": {
            "gridcolor": "white",
            "linecolor": "white",
            "ticks": ""
           },
           "baxis": {
            "gridcolor": "white",
            "linecolor": "white",
            "ticks": ""
           },
           "bgcolor": "#E5ECF6",
           "caxis": {
            "gridcolor": "white",
            "linecolor": "white",
            "ticks": ""
           }
          },
          "title": {
           "x": 0.05
          },
          "xaxis": {
           "automargin": true,
           "gridcolor": "white",
           "linecolor": "white",
           "ticks": "",
           "title": {
            "standoff": 15
           },
           "zerolinecolor": "white",
           "zerolinewidth": 2
          },
          "yaxis": {
           "automargin": true,
           "gridcolor": "white",
           "linecolor": "white",
           "ticks": "",
           "title": {
            "standoff": 15
           },
           "zerolinecolor": "white",
           "zerolinewidth": 2
          }
         }
        },
        "violinmode": "group",
        "xaxis": {
         "anchor": "y",
         "domain": [
          0,
          1
         ]
        },
        "yaxis": {
         "anchor": "x",
         "domain": [
          0,
          1
         ],
         "title": {
          "text": "Distance"
         }
        }
       }
      }
     },
     "metadata": {},
     "output_type": "display_data"
    }
   ],
   "source": [
    "\n",
    "distances_array = calculate_distances_from_reactions(samples_default, samples_default_loopless_solutions, ec_cobra_model)\n",
    "violin_plot_samples_distances(distances_array)\n",
    "\n",
    "distances_array = calculate_distances_from_samples(samples_default, samples_default_loopless_solutions, ec_cobra_model)\n",
    "violin_plot_samples_distances(distances_array)\n",
    "\n",
    "\n",
    "\n",
    "distances_array = calculate_distances_from_reactions(samples_frd7_removed, samples_frd7_removed_loopless_solutions, ec_cobra_model)\n",
    "violin_plot_samples_distances(distances_array)\n",
    "\n",
    "distances_array = calculate_distances_from_samples(samples_frd7_removed, samples_frd7_removed_loopless_solutions, ec_cobra_model)\n",
    "violin_plot_samples_distances(distances_array)\n"
   ]
  }
 ],
 "metadata": {
  "kernelspec": {
   "display_name": "Python 3",
   "language": "python",
   "name": "python3"
  },
  "language_info": {
   "codemirror_mode": {
    "name": "ipython",
    "version": 3
   },
   "file_extension": ".py",
   "mimetype": "text/x-python",
   "name": "python",
   "nbconvert_exporter": "python",
   "pygments_lexer": "ipython3",
   "version": "3.10.12"
  }
 },
 "nbformat": 4,
 "nbformat_minor": 5
}
