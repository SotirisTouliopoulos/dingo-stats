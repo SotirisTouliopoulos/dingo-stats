{
 "cells": [
  {
   "cell_type": "code",
   "execution_count": 2,
   "id": "ba4dde77",
   "metadata": {},
   "outputs": [
    {
     "name": "stderr",
     "output_type": "stream",
     "text": [
      "/home/touliopoulos/.local/lib/python3.10/site-packages/pandas/core/computation/expressions.py:21: UserWarning: Pandas requires version '2.8.4' or newer of 'numexpr' (version '2.8.1' currently installed).\n",
      "  from pandas.core.computation.check import NUMEXPR_INSTALLED\n",
      "/home/touliopoulos/.local/lib/python3.10/site-packages/pandas/core/arrays/masked.py:60: UserWarning: Pandas requires version '1.3.6' or newer of 'bottleneck' (version '1.3.2' currently installed).\n",
      "  from pandas.core import (\n",
      "/home/touliopoulos/.local/lib/python3.10/site-packages/matplotlib/projections/__init__.py:63: UserWarning: Unable to import Axes3D. This may be due to multiple versions of Matplotlib being installed (e.g. as a system package and as a pip package). As a result, the 3D projection is not available.\n",
      "  warnings.warn(\"Unable to import Axes3D. This may be due to multiple versions of \"\n"
     ]
    }
   ],
   "source": [
    "\n",
    "import sys\n",
    "sys.path.insert(0, '../src/')\n",
    "\n",
    "from load_modify_sample_utils import load_model, get_objective_functions, get_reaction_bounds, modify_model\n",
    "from load_modify_sample_utils import sample_dingo, sample_optgp\n",
    "\n",
    "from correlations_utils import correlated_reactions, plot_correlation_matrix, split_forward_reverse\n",
    "from correlations_utils import find_reactants_products, sharing_metabolites_square_matrix\n",
    "\n",
    "from clustering_utils import clustering_of_correlation_matrix, plot_dendrogram\n",
    "\n",
    "from pathways_utils import sort_reactions_in_pathways_by_reactions_in_model_order, subset_sampling_df_from_reaction_ids\n",
    "from pathways_utils import map_model_to_kegg_reactions, read_json_file, bigg_to_kegg_id, fill_missing_kegg_ids_in_dict\n",
    "from pathways_utils import get_kegg_pathways_from_reaction_ids, subset_model_reactions_from_pathway_info\n",
    "from pathways_utils import dictionary_bigg_id_to_pathway_names, dictionary_forward_reverse_bigg_id_to_pathway_names\n",
    "from pathways_utils import reaction_in_pathway_binary_matrix, plot_reaction_in_pathway_heatmap\n"
   ]
  },
  {
   "cell_type": "code",
   "execution_count": 3,
   "id": "e247075d",
   "metadata": {},
   "outputs": [
    {
     "name": "stdout",
     "output_type": "stream",
     "text": [
      "Set parameter Username\n",
      "Set parameter LicenseID to value 2642044\n",
      "Academic license - for non-commercial use only - expires 2026-03-25\n",
      "['BIOMASS_Ecoli_core_w_GAM']\n",
      "(0.0, 1000.0)\n"
     ]
    }
   ],
   "source": [
    "ec_cobra_model, ec_cobra_reactions, ec_dingo_model, ec_dingo_reactions = load_model(\"../ext_data/models/e_coli_core.xml\")\n",
    "\n",
    "objective_functions = get_objective_functions(ec_cobra_model)\n",
    "print(objective_functions)\n",
    "\n",
    "default_reaction_bounds = get_reaction_bounds(ec_cobra_model)\n",
    "print(default_reaction_bounds.get(\"BIOMASS_Ecoli_core_w_GAM\"))"
   ]
  },
  {
   "cell_type": "code",
   "execution_count": 4,
   "id": "677b9c89",
   "metadata": {},
   "outputs": [
    {
     "name": "stdout",
     "output_type": "stream",
     "text": [
      "Read LP format model from file /tmp/tmpbv_ixsdo.lp\n",
      "Reading time = 0.00 seconds\n",
      ": 72 rows, 190 columns, 720 nonzeros\n"
     ]
    },
    {
     "name": "stdout",
     "output_type": "stream",
     "text": [
      "Read LP format model from file /tmp/tmpipxqr25j.lp\n",
      "Reading time = 0.01 seconds\n",
      ": 72 rows, 190 columns, 720 nonzeros\n",
      "Read LP format model from file /tmp/tmpxb_hypcv.lp\n",
      "Reading time = 0.00 seconds\n",
      ": 72 rows, 190 columns, 720 nonzeros\n",
      "Read LP format model from file /tmp/tmp0m4nod9u.lp\n",
      "Reading time = 0.00 seconds\n",
      ": 72 rows, 190 columns, 720 nonzeros\n"
     ]
    }
   ],
   "source": [
    "ec_cobra_model_condition_100, ec_dingo_model_condition_100 = modify_model(ec_cobra_model, objective_function=\"BIOMASS_Ecoli_core_w_GAM\", optimal_percentage=100)\n",
    "ec_cobra_model_condition_0, ec_dingo_model_condition_0 = modify_model(ec_cobra_model, objective_function=\"BIOMASS_Ecoli_core_w_GAM\", optimal_percentage=10)\n",
    "\n",
    "samples_optgp_condition_100 = sample_optgp(ec_cobra_model_condition_100, n_samples = 3000, thinning=100, reaction_in_rows = True)\n",
    "samples_optgp_condition_0 = sample_optgp(ec_cobra_model_condition_0, n_samples = 3000, thinning=100, reaction_in_rows = True)\n"
   ]
  },
  {
   "cell_type": "markdown",
   "id": "88112a83",
   "metadata": {},
   "source": [
    "### Map KEGG pathway information to reactions BiGG ids  "
   ]
  },
  {
   "cell_type": "code",
   "execution_count": 5,
   "id": "fb7d99a6",
   "metadata": {},
   "outputs": [
    {
     "name": "stderr",
     "output_type": "stream",
     "text": [
      "\u001b[33mWARNING [bioservices.KEGG:596]: \u001b[0m \u001b[32mstatus is not ok with Bad Request\u001b[0m\n",
      "WARNING:bioservices.KEGG:status is not ok with Bad Request\n",
      "\u001b[33mWARNING [bioservices.KEGG:1181]: \u001b[0m \u001b[32mCould not parse the entry correctly.\u001b[0m\n",
      "WARNING:bioservices.KEGG:Could not parse the entry correctly.\n",
      "\u001b[33mWARNING [bioservices.KEGG:596]: \u001b[0m \u001b[32mstatus is not ok with Bad Request\u001b[0m\n",
      "WARNING:bioservices.KEGG:status is not ok with Bad Request\n",
      "\u001b[33mWARNING [bioservices.KEGG:1181]: \u001b[0m \u001b[32mCould not parse the entry correctly.\u001b[0m\n",
      "WARNING:bioservices.KEGG:Could not parse the entry correctly.\n",
      "\u001b[33mWARNING [bioservices.KEGG:596]: \u001b[0m \u001b[32mstatus is not ok with Bad Request\u001b[0m\n",
      "WARNING:bioservices.KEGG:status is not ok with Bad Request\n",
      "\u001b[33mWARNING [bioservices.KEGG:1181]: \u001b[0m \u001b[32mCould not parse the entry correctly.\u001b[0m\n",
      "WARNING:bioservices.KEGG:Could not parse the entry correctly.\n",
      "\u001b[33mWARNING [bioservices.KEGG:596]: \u001b[0m \u001b[32mstatus is not ok with Bad Request\u001b[0m\n",
      "WARNING:bioservices.KEGG:status is not ok with Bad Request\n",
      "\u001b[33mWARNING [bioservices.KEGG:1181]: \u001b[0m \u001b[32mCould not parse the entry correctly.\u001b[0m\n",
      "WARNING:bioservices.KEGG:Could not parse the entry correctly.\n",
      "\u001b[33mWARNING [bioservices.KEGG:596]: \u001b[0m \u001b[32mstatus is not ok with Bad Request\u001b[0m\n",
      "WARNING:bioservices.KEGG:status is not ok with Bad Request\n",
      "\u001b[33mWARNING [bioservices.KEGG:1181]: \u001b[0m \u001b[32mCould not parse the entry correctly.\u001b[0m\n",
      "WARNING:bioservices.KEGG:Could not parse the entry correctly.\n",
      "\u001b[33mWARNING [bioservices.KEGG:596]: \u001b[0m \u001b[32mstatus is not ok with Bad Request\u001b[0m\n",
      "WARNING:bioservices.KEGG:status is not ok with Bad Request\n",
      "\u001b[33mWARNING [bioservices.KEGG:1181]: \u001b[0m \u001b[32mCould not parse the entry correctly.\u001b[0m\n",
      "WARNING:bioservices.KEGG:Could not parse the entry correctly.\n",
      "\u001b[33mWARNING [bioservices.KEGG:596]: \u001b[0m \u001b[32mstatus is not ok with Bad Request\u001b[0m\n",
      "WARNING:bioservices.KEGG:status is not ok with Bad Request\n",
      "\u001b[33mWARNING [bioservices.KEGG:1181]: \u001b[0m \u001b[32mCould not parse the entry correctly.\u001b[0m\n",
      "WARNING:bioservices.KEGG:Could not parse the entry correctly.\n",
      "\u001b[33mWARNING [bioservices.KEGG:596]: \u001b[0m \u001b[32mstatus is not ok with Bad Request\u001b[0m\n",
      "WARNING:bioservices.KEGG:status is not ok with Bad Request\n",
      "\u001b[33mWARNING [bioservices.KEGG:1181]: \u001b[0m \u001b[32mCould not parse the entry correctly.\u001b[0m\n",
      "WARNING:bioservices.KEGG:Could not parse the entry correctly.\n",
      "\u001b[33mWARNING [bioservices.KEGG:596]: \u001b[0m \u001b[32mstatus is not ok with Bad Request\u001b[0m\n",
      "WARNING:bioservices.KEGG:status is not ok with Bad Request\n",
      "\u001b[33mWARNING [bioservices.KEGG:1181]: \u001b[0m \u001b[32mCould not parse the entry correctly.\u001b[0m\n",
      "WARNING:bioservices.KEGG:Could not parse the entry correctly.\n",
      "\u001b[33mWARNING [bioservices.KEGG:596]: \u001b[0m \u001b[32mstatus is not ok with Bad Request\u001b[0m\n",
      "WARNING:bioservices.KEGG:status is not ok with Bad Request\n",
      "\u001b[33mWARNING [bioservices.KEGG:1181]: \u001b[0m \u001b[32mCould not parse the entry correctly.\u001b[0m\n",
      "WARNING:bioservices.KEGG:Could not parse the entry correctly.\n",
      "\u001b[33mWARNING [bioservices.KEGG:596]: \u001b[0m \u001b[32mstatus is not ok with Bad Request\u001b[0m\n",
      "WARNING:bioservices.KEGG:status is not ok with Bad Request\n",
      "\u001b[33mWARNING [bioservices.KEGG:1181]: \u001b[0m \u001b[32mCould not parse the entry correctly.\u001b[0m\n",
      "WARNING:bioservices.KEGG:Could not parse the entry correctly.\n",
      "\u001b[33mWARNING [bioservices.KEGG:596]: \u001b[0m \u001b[32mstatus is not ok with Bad Request\u001b[0m\n",
      "WARNING:bioservices.KEGG:status is not ok with Bad Request\n",
      "\u001b[33mWARNING [bioservices.KEGG:1181]: \u001b[0m \u001b[32mCould not parse the entry correctly.\u001b[0m\n",
      "WARNING:bioservices.KEGG:Could not parse the entry correctly.\n",
      "\u001b[33mWARNING [bioservices.KEGG:596]: \u001b[0m \u001b[32mstatus is not ok with Bad Request\u001b[0m\n",
      "WARNING:bioservices.KEGG:status is not ok with Bad Request\n",
      "\u001b[33mWARNING [bioservices.KEGG:1181]: \u001b[0m \u001b[32mCould not parse the entry correctly.\u001b[0m\n",
      "WARNING:bioservices.KEGG:Could not parse the entry correctly.\n",
      "\u001b[33mWARNING [bioservices.KEGG:596]: \u001b[0m \u001b[32mstatus is not ok with Bad Request\u001b[0m\n",
      "WARNING:bioservices.KEGG:status is not ok with Bad Request\n",
      "\u001b[33mWARNING [bioservices.KEGG:1181]: \u001b[0m \u001b[32mCould not parse the entry correctly.\u001b[0m\n",
      "WARNING:bioservices.KEGG:Could not parse the entry correctly.\n",
      "\u001b[33mWARNING [bioservices.KEGG:596]: \u001b[0m \u001b[32mstatus is not ok with Bad Request\u001b[0m\n",
      "WARNING:bioservices.KEGG:status is not ok with Bad Request\n",
      "\u001b[33mWARNING [bioservices.KEGG:1181]: \u001b[0m \u001b[32mCould not parse the entry correctly.\u001b[0m\n",
      "WARNING:bioservices.KEGG:Could not parse the entry correctly.\n",
      "\u001b[33mWARNING [bioservices.KEGG:596]: \u001b[0m \u001b[32mstatus is not ok with Bad Request\u001b[0m\n",
      "WARNING:bioservices.KEGG:status is not ok with Bad Request\n",
      "\u001b[33mWARNING [bioservices.KEGG:1181]: \u001b[0m \u001b[32mCould not parse the entry correctly.\u001b[0m\n",
      "WARNING:bioservices.KEGG:Could not parse the entry correctly.\n",
      "\u001b[33mWARNING [bioservices.KEGG:596]: \u001b[0m \u001b[32mstatus is not ok with Bad Request\u001b[0m\n",
      "WARNING:bioservices.KEGG:status is not ok with Bad Request\n",
      "\u001b[33mWARNING [bioservices.KEGG:1181]: \u001b[0m \u001b[32mCould not parse the entry correctly.\u001b[0m\n",
      "WARNING:bioservices.KEGG:Could not parse the entry correctly.\n",
      "\u001b[33mWARNING [bioservices.KEGG:596]: \u001b[0m \u001b[32mstatus is not ok with Bad Request\u001b[0m\n",
      "WARNING:bioservices.KEGG:status is not ok with Bad Request\n",
      "\u001b[33mWARNING [bioservices.KEGG:1181]: \u001b[0m \u001b[32mCould not parse the entry correctly.\u001b[0m\n",
      "WARNING:bioservices.KEGG:Could not parse the entry correctly.\n",
      "\u001b[33mWARNING [bioservices.KEGG:596]: \u001b[0m \u001b[32mstatus is not ok with Bad Request\u001b[0m\n",
      "WARNING:bioservices.KEGG:status is not ok with Bad Request\n",
      "\u001b[33mWARNING [bioservices.KEGG:1181]: \u001b[0m \u001b[32mCould not parse the entry correctly.\u001b[0m\n",
      "WARNING:bioservices.KEGG:Could not parse the entry correctly.\n",
      "\u001b[33mWARNING [bioservices.KEGG:596]: \u001b[0m \u001b[32mstatus is not ok with Bad Request\u001b[0m\n",
      "WARNING:bioservices.KEGG:status is not ok with Bad Request\n",
      "\u001b[33mWARNING [bioservices.KEGG:1181]: \u001b[0m \u001b[32mCould not parse the entry correctly.\u001b[0m\n",
      "WARNING:bioservices.KEGG:Could not parse the entry correctly.\n",
      "\u001b[33mWARNING [bioservices.KEGG:596]: \u001b[0m \u001b[32mstatus is not ok with Bad Request\u001b[0m\n",
      "WARNING:bioservices.KEGG:status is not ok with Bad Request\n",
      "\u001b[33mWARNING [bioservices.KEGG:1181]: \u001b[0m \u001b[32mCould not parse the entry correctly.\u001b[0m\n",
      "WARNING:bioservices.KEGG:Could not parse the entry correctly.\n",
      "\u001b[33mWARNING [bioservices.KEGG:596]: \u001b[0m \u001b[32mstatus is not ok with Bad Request\u001b[0m\n",
      "WARNING:bioservices.KEGG:status is not ok with Bad Request\n",
      "\u001b[33mWARNING [bioservices.KEGG:1181]: \u001b[0m \u001b[32mCould not parse the entry correctly.\u001b[0m\n",
      "WARNING:bioservices.KEGG:Could not parse the entry correctly.\n",
      "\u001b[33mWARNING [bioservices.KEGG:596]: \u001b[0m \u001b[32mstatus is not ok with Bad Request\u001b[0m\n",
      "WARNING:bioservices.KEGG:status is not ok with Bad Request\n",
      "\u001b[33mWARNING [bioservices.KEGG:1181]: \u001b[0m \u001b[32mCould not parse the entry correctly.\u001b[0m\n",
      "WARNING:bioservices.KEGG:Could not parse the entry correctly.\n",
      "\u001b[33mWARNING [bioservices.KEGG:596]: \u001b[0m \u001b[32mstatus is not ok with Bad Request\u001b[0m\n",
      "WARNING:bioservices.KEGG:status is not ok with Bad Request\n",
      "\u001b[33mWARNING [bioservices.KEGG:1181]: \u001b[0m \u001b[32mCould not parse the entry correctly.\u001b[0m\n",
      "WARNING:bioservices.KEGG:Could not parse the entry correctly.\n",
      "\u001b[33mWARNING [bioservices.KEGG:596]: \u001b[0m \u001b[32mstatus is not ok with Bad Request\u001b[0m\n",
      "WARNING:bioservices.KEGG:status is not ok with Bad Request\n",
      "\u001b[33mWARNING [bioservices.KEGG:1181]: \u001b[0m \u001b[32mCould not parse the entry correctly.\u001b[0m\n",
      "WARNING:bioservices.KEGG:Could not parse the entry correctly.\n",
      "\u001b[33mWARNING [bioservices.KEGG:596]: \u001b[0m \u001b[32mstatus is not ok with Bad Request\u001b[0m\n",
      "WARNING:bioservices.KEGG:status is not ok with Bad Request\n",
      "\u001b[33mWARNING [bioservices.KEGG:1181]: \u001b[0m \u001b[32mCould not parse the entry correctly.\u001b[0m\n",
      "WARNING:bioservices.KEGG:Could not parse the entry correctly.\n",
      "\u001b[33mWARNING [bioservices.KEGG:596]: \u001b[0m \u001b[32mstatus is not ok with Bad Request\u001b[0m\n",
      "WARNING:bioservices.KEGG:status is not ok with Bad Request\n",
      "\u001b[33mWARNING [bioservices.KEGG:1181]: \u001b[0m \u001b[32mCould not parse the entry correctly.\u001b[0m\n",
      "WARNING:bioservices.KEGG:Could not parse the entry correctly.\n",
      "\u001b[33mWARNING [bioservices.KEGG:596]: \u001b[0m \u001b[32mstatus is not ok with Bad Request\u001b[0m\n",
      "WARNING:bioservices.KEGG:status is not ok with Bad Request\n",
      "\u001b[33mWARNING [bioservices.KEGG:1181]: \u001b[0m \u001b[32mCould not parse the entry correctly.\u001b[0m\n",
      "WARNING:bioservices.KEGG:Could not parse the entry correctly.\n",
      "\u001b[33mWARNING [bioservices.KEGG:596]: \u001b[0m \u001b[32mstatus is not ok with Bad Request\u001b[0m\n",
      "WARNING:bioservices.KEGG:status is not ok with Bad Request\n",
      "\u001b[33mWARNING [bioservices.KEGG:1181]: \u001b[0m \u001b[32mCould not parse the entry correctly.\u001b[0m\n",
      "WARNING:bioservices.KEGG:Could not parse the entry correctly.\n",
      "\u001b[33mWARNING [bioservices.KEGG:596]: \u001b[0m \u001b[32mstatus is not ok with Bad Request\u001b[0m\n",
      "WARNING:bioservices.KEGG:status is not ok with Bad Request\n",
      "\u001b[33mWARNING [bioservices.KEGG:1181]: \u001b[0m \u001b[32mCould not parse the entry correctly.\u001b[0m\n",
      "WARNING:bioservices.KEGG:Could not parse the entry correctly.\n",
      "\u001b[33mWARNING [bioservices.KEGG:596]: \u001b[0m \u001b[32mstatus is not ok with Bad Request\u001b[0m\n",
      "WARNING:bioservices.KEGG:status is not ok with Bad Request\n",
      "\u001b[33mWARNING [bioservices.KEGG:1181]: \u001b[0m \u001b[32mCould not parse the entry correctly.\u001b[0m\n",
      "WARNING:bioservices.KEGG:Could not parse the entry correctly.\n",
      "\u001b[33mWARNING [bioservices.KEGG:596]: \u001b[0m \u001b[32mstatus is not ok with Bad Request\u001b[0m\n",
      "WARNING:bioservices.KEGG:status is not ok with Bad Request\n",
      "\u001b[33mWARNING [bioservices.KEGG:1181]: \u001b[0m \u001b[32mCould not parse the entry correctly.\u001b[0m\n",
      "WARNING:bioservices.KEGG:Could not parse the entry correctly.\n",
      "\u001b[33mWARNING [bioservices.KEGG:596]: \u001b[0m \u001b[32mstatus is not ok with Bad Request\u001b[0m\n",
      "WARNING:bioservices.KEGG:status is not ok with Bad Request\n",
      "\u001b[33mWARNING [bioservices.KEGG:1181]: \u001b[0m \u001b[32mCould not parse the entry correctly.\u001b[0m\n",
      "WARNING:bioservices.KEGG:Could not parse the entry correctly.\n",
      "\u001b[33mWARNING [bioservices.KEGG:596]: \u001b[0m \u001b[32mstatus is not ok with Bad Request\u001b[0m\n",
      "WARNING:bioservices.KEGG:status is not ok with Bad Request\n",
      "\u001b[33mWARNING [bioservices.KEGG:1181]: \u001b[0m \u001b[32mCould not parse the entry correctly.\u001b[0m\n",
      "WARNING:bioservices.KEGG:Could not parse the entry correctly.\n",
      "\u001b[33mWARNING [bioservices.KEGG:596]: \u001b[0m \u001b[32mstatus is not ok with Bad Request\u001b[0m\n",
      "WARNING:bioservices.KEGG:status is not ok with Bad Request\n",
      "\u001b[33mWARNING [bioservices.KEGG:1181]: \u001b[0m \u001b[32mCould not parse the entry correctly.\u001b[0m\n",
      "WARNING:bioservices.KEGG:Could not parse the entry correctly.\n",
      "\u001b[33mWARNING [bioservices.KEGG:596]: \u001b[0m \u001b[32mstatus is not ok with Bad Request\u001b[0m\n",
      "WARNING:bioservices.KEGG:status is not ok with Bad Request\n",
      "\u001b[33mWARNING [bioservices.KEGG:1181]: \u001b[0m \u001b[32mCould not parse the entry correctly.\u001b[0m\n",
      "WARNING:bioservices.KEGG:Could not parse the entry correctly.\n",
      "\u001b[33mWARNING [bioservices.KEGG:596]: \u001b[0m \u001b[32mstatus is not ok with Bad Request\u001b[0m\n",
      "WARNING:bioservices.KEGG:status is not ok with Bad Request\n",
      "\u001b[33mWARNING [bioservices.KEGG:1181]: \u001b[0m \u001b[32mCould not parse the entry correctly.\u001b[0m\n",
      "WARNING:bioservices.KEGG:Could not parse the entry correctly.\n",
      "\u001b[33mWARNING [bioservices.KEGG:596]: \u001b[0m \u001b[32mstatus is not ok with Bad Request\u001b[0m\n",
      "WARNING:bioservices.KEGG:status is not ok with Bad Request\n",
      "\u001b[33mWARNING [bioservices.KEGG:1181]: \u001b[0m \u001b[32mCould not parse the entry correctly.\u001b[0m\n",
      "WARNING:bioservices.KEGG:Could not parse the entry correctly.\n",
      "\u001b[33mWARNING [bioservices.KEGG:596]: \u001b[0m \u001b[32mstatus is not ok with Bad Request\u001b[0m\n",
      "WARNING:bioservices.KEGG:status is not ok with Bad Request\n",
      "\u001b[33mWARNING [bioservices.KEGG:1181]: \u001b[0m \u001b[32mCould not parse the entry correctly.\u001b[0m\n",
      "WARNING:bioservices.KEGG:Could not parse the entry correctly.\n",
      "\u001b[33mWARNING [bioservices.KEGG:596]: \u001b[0m \u001b[32mstatus is not ok with Bad Request\u001b[0m\n",
      "WARNING:bioservices.KEGG:status is not ok with Bad Request\n",
      "\u001b[33mWARNING [bioservices.KEGG:1181]: \u001b[0m \u001b[32mCould not parse the entry correctly.\u001b[0m\n",
      "WARNING:bioservices.KEGG:Could not parse the entry correctly.\n",
      "\u001b[33mWARNING [bioservices.KEGG:596]: \u001b[0m \u001b[32mstatus is not ok with Bad Request\u001b[0m\n",
      "WARNING:bioservices.KEGG:status is not ok with Bad Request\n",
      "\u001b[33mWARNING [bioservices.KEGG:1181]: \u001b[0m \u001b[32mCould not parse the entry correctly.\u001b[0m\n",
      "WARNING:bioservices.KEGG:Could not parse the entry correctly.\n",
      "\u001b[33mWARNING [bioservices.KEGG:596]: \u001b[0m \u001b[32mstatus is not ok with Bad Request\u001b[0m\n",
      "WARNING:bioservices.KEGG:status is not ok with Bad Request\n",
      "\u001b[33mWARNING [bioservices.KEGG:1181]: \u001b[0m \u001b[32mCould not parse the entry correctly.\u001b[0m\n",
      "WARNING:bioservices.KEGG:Could not parse the entry correctly.\n",
      "\u001b[33mWARNING [bioservices.KEGG:596]: \u001b[0m \u001b[32mstatus is not ok with Bad Request\u001b[0m\n",
      "WARNING:bioservices.KEGG:status is not ok with Bad Request\n",
      "\u001b[33mWARNING [bioservices.KEGG:1181]: \u001b[0m \u001b[32mCould not parse the entry correctly.\u001b[0m\n",
      "WARNING:bioservices.KEGG:Could not parse the entry correctly.\n",
      "\u001b[33mWARNING [bioservices.KEGG:596]: \u001b[0m \u001b[32mstatus is not ok with Bad Request\u001b[0m\n",
      "WARNING:bioservices.KEGG:status is not ok with Bad Request\n",
      "\u001b[33mWARNING [bioservices.KEGG:1181]: \u001b[0m \u001b[32mCould not parse the entry correctly.\u001b[0m\n",
      "WARNING:bioservices.KEGG:Could not parse the entry correctly.\n",
      "\u001b[33mWARNING [bioservices.KEGG:596]: \u001b[0m \u001b[32mstatus is not ok with Bad Request\u001b[0m\n",
      "WARNING:bioservices.KEGG:status is not ok with Bad Request\n",
      "\u001b[33mWARNING [bioservices.KEGG:1181]: \u001b[0m \u001b[32mCould not parse the entry correctly.\u001b[0m\n",
      "WARNING:bioservices.KEGG:Could not parse the entry correctly.\n",
      "\u001b[33mWARNING [bioservices.KEGG:596]: \u001b[0m \u001b[32mstatus is not ok with Bad Request\u001b[0m\n",
      "WARNING:bioservices.KEGG:status is not ok with Bad Request\n",
      "\u001b[33mWARNING [bioservices.KEGG:1181]: \u001b[0m \u001b[32mCould not parse the entry correctly.\u001b[0m\n",
      "WARNING:bioservices.KEGG:Could not parse the entry correctly.\n",
      "\u001b[33mWARNING [bioservices.KEGG:596]: \u001b[0m \u001b[32mstatus is not ok with Bad Request\u001b[0m\n",
      "WARNING:bioservices.KEGG:status is not ok with Bad Request\n",
      "\u001b[33mWARNING [bioservices.KEGG:1181]: \u001b[0m \u001b[32mCould not parse the entry correctly.\u001b[0m\n",
      "WARNING:bioservices.KEGG:Could not parse the entry correctly.\n",
      "\u001b[33mWARNING [bioservices.KEGG:596]: \u001b[0m \u001b[32mstatus is not ok with Bad Request\u001b[0m\n",
      "WARNING:bioservices.KEGG:status is not ok with Bad Request\n",
      "\u001b[33mWARNING [bioservices.KEGG:1181]: \u001b[0m \u001b[32mCould not parse the entry correctly.\u001b[0m\n",
      "WARNING:bioservices.KEGG:Could not parse the entry correctly.\n"
     ]
    }
   ],
   "source": [
    "initial_bigg_to_kegg_dictionary = map_model_to_kegg_reactions(ec_cobra_model)\n",
    "\n",
    "\n",
    "reactions_json, reactions_pandas = read_json_file(\"../ext_data/reactions/reactions.json\")\n",
    "\n",
    "\n",
    "final_bigg_to_kegg_dictionary = fill_missing_kegg_ids_in_dict(initial_bigg_to_kegg_dictionary, reactions_pandas)\n",
    "\n",
    "\n",
    "df_kegg_pathways = get_kegg_pathways_from_reaction_ids(final_bigg_to_kegg_dictionary)"
   ]
  },
  {
   "cell_type": "markdown",
   "id": "97ae18e1",
   "metadata": {},
   "source": [
    "### Subset sampling dataframe to include only reactions from pathways of interest"
   ]
  },
  {
   "cell_type": "code",
   "execution_count": 6,
   "id": "4be4e711",
   "metadata": {},
   "outputs": [],
   "source": [
    "\n",
    "# Automatically from KEGG information\n",
    "glycolysis = subset_model_reactions_from_pathway_info(df_kegg_pathways, \"Glycolysis\")\n",
    "ppp = subset_model_reactions_from_pathway_info(df_kegg_pathways, \"Pentose\")\n",
    "\n",
    "\n",
    "reactions_in_pathways_ordered_duplicates = sort_reactions_in_pathways_by_reactions_in_model_order(ec_dingo_reactions, glycolysis, ppp)\n",
    "\n",
    "\n",
    "# Remove duplicates\n",
    "reactions_in_pathways_ordered = []\n",
    "[reactions_in_pathways_ordered.append(val) for val in reactions_in_pathways_ordered_duplicates if val not in reactions_in_pathways_ordered]\n",
    "\n",
    "\n",
    "subset_pathways_optgp_condition_100 = subset_sampling_df_from_reaction_ids(\n",
    "                                                                samples_optgp_condition_100, \n",
    "                                                                ec_dingo_reactions, \n",
    "                                                                subset_reactions = reactions_in_pathways_ordered)\n",
    "\n"
   ]
  },
  {
   "cell_type": "markdown",
   "id": "ec745e56",
   "metadata": {},
   "source": [
    "### Split into forward and reverse reactions"
   ]
  },
  {
   "cell_type": "code",
   "execution_count": 7,
   "id": "d03643ea",
   "metadata": {},
   "outputs": [
    {
     "name": "stdout",
     "output_type": "stream",
     "text": [
      "21 21\n"
     ]
    }
   ],
   "source": [
    "\n",
    "extended_steady_states, extended_reactions = split_forward_reverse(subset_pathways_optgp_condition_100, reactions=reactions_in_pathways_ordered)\n",
    "\n",
    "\n",
    "reversibility_list_all_reactions, reactants_list_all_reactions, products_list_all_reactions = find_reactants_products(ec_cobra_model, extended_reactions)\n",
    "print(len(reversibility_list_all_reactions), len(reactants_list_all_reactions))\n"
   ]
  },
  {
   "cell_type": "markdown",
   "id": "7e69585e",
   "metadata": {},
   "source": [
    "### Create a dictionary that maps pathways from KEGG information"
   ]
  },
  {
   "cell_type": "code",
   "execution_count": 8,
   "id": "37097a01",
   "metadata": {},
   "outputs": [],
   "source": [
    "\n",
    "bigg_to_pathway_dict = dictionary_bigg_id_to_pathway_names(glycolysis = glycolysis, ppp = ppp)\n",
    "\n",
    "group_map = dictionary_forward_reverse_bigg_id_to_pathway_names(bigg_to_pathway_dict, extended_reactions)\n"
   ]
  },
  {
   "cell_type": "code",
   "execution_count": 9,
   "id": "9fd018a6",
   "metadata": {},
   "outputs": [
    {
     "data": {
      "application/vnd.plotly.v1+json": {
       "config": {
        "plotlyServerURL": "https://plot.ly"
       },
       "data": [
        {
         "colorscale": [
          [
           0,
           "lightgrey"
          ],
          [
           1,
           "steelblue"
          ]
         ],
         "hoverinfo": "text",
         "showscale": false,
         "text": [
          [
           "Row: PFK<br>Col: Multiple-Pathways<br>Value: 1",
           "Row: PFK<br>Col: glycolysis<br>Value: 0",
           "Row: PFK<br>Col: ppp<br>Value: 0"
          ],
          [
           "Row: PGK_rev<br>Col: Multiple-Pathways<br>Value: 0",
           "Row: PGK_rev<br>Col: glycolysis<br>Value: 1",
           "Row: PGK_rev<br>Col: ppp<br>Value: 0"
          ],
          [
           "Row: PGK<br>Col: Multiple-Pathways<br>Value: 0",
           "Row: PGK<br>Col: glycolysis<br>Value: 1",
           "Row: PGK<br>Col: ppp<br>Value: 0"
          ],
          [
           "Row: PGL<br>Col: Multiple-Pathways<br>Value: 0",
           "Row: PGL<br>Col: glycolysis<br>Value: 0",
           "Row: PGL<br>Col: ppp<br>Value: 1"
          ],
          [
           "Row: PGM_rev<br>Col: Multiple-Pathways<br>Value: 0",
           "Row: PGM_rev<br>Col: glycolysis<br>Value: 1",
           "Row: PGM_rev<br>Col: ppp<br>Value: 0"
          ],
          [
           "Row: PGM<br>Col: Multiple-Pathways<br>Value: 0",
           "Row: PGM<br>Col: glycolysis<br>Value: 1",
           "Row: PGM<br>Col: ppp<br>Value: 0"
          ],
          [
           "Row: ALCD2x_rev<br>Col: Multiple-Pathways<br>Value: 0",
           "Row: ALCD2x_rev<br>Col: glycolysis<br>Value: 1",
           "Row: ALCD2x_rev<br>Col: ppp<br>Value: 0"
          ],
          [
           "Row: ALCD2x<br>Col: Multiple-Pathways<br>Value: 0",
           "Row: ALCD2x<br>Col: glycolysis<br>Value: 1",
           "Row: ALCD2x<br>Col: ppp<br>Value: 0"
          ],
          [
           "Row: PPCK<br>Col: Multiple-Pathways<br>Value: 0",
           "Row: PPCK<br>Col: glycolysis<br>Value: 1",
           "Row: PPCK<br>Col: ppp<br>Value: 0"
          ],
          [
           "Row: PPS<br>Col: Multiple-Pathways<br>Value: 0",
           "Row: PPS<br>Col: glycolysis<br>Value: 1",
           "Row: PPS<br>Col: ppp<br>Value: 0"
          ],
          [
           "Row: PYK<br>Col: Multiple-Pathways<br>Value: 0",
           "Row: PYK<br>Col: glycolysis<br>Value: 1",
           "Row: PYK<br>Col: ppp<br>Value: 0"
          ],
          [
           "Row: RPE<br>Col: Multiple-Pathways<br>Value: 0",
           "Row: RPE<br>Col: glycolysis<br>Value: 0",
           "Row: RPE<br>Col: ppp<br>Value: 1"
          ],
          [
           "Row: RPI_rev<br>Col: Multiple-Pathways<br>Value: 0",
           "Row: RPI_rev<br>Col: glycolysis<br>Value: 0",
           "Row: RPI_rev<br>Col: ppp<br>Value: 1"
          ],
          [
           "Row: RPI<br>Col: Multiple-Pathways<br>Value: 0",
           "Row: RPI<br>Col: glycolysis<br>Value: 0",
           "Row: RPI<br>Col: ppp<br>Value: 1"
          ],
          [
           "Row: ENO<br>Col: Multiple-Pathways<br>Value: 0",
           "Row: ENO<br>Col: glycolysis<br>Value: 1",
           "Row: ENO<br>Col: ppp<br>Value: 0"
          ],
          [
           "Row: TKT1<br>Col: Multiple-Pathways<br>Value: 0",
           "Row: TKT1<br>Col: glycolysis<br>Value: 0",
           "Row: TKT1<br>Col: ppp<br>Value: 1"
          ],
          [
           "Row: TPI<br>Col: Multiple-Pathways<br>Value: 0",
           "Row: TPI<br>Col: glycolysis<br>Value: 1",
           "Row: TPI<br>Col: ppp<br>Value: 0"
          ],
          [
           "Row: FBA<br>Col: Multiple-Pathways<br>Value: 1",
           "Row: FBA<br>Col: glycolysis<br>Value: 0",
           "Row: FBA<br>Col: ppp<br>Value: 0"
          ],
          [
           "Row: FBP<br>Col: Multiple-Pathways<br>Value: 1",
           "Row: FBP<br>Col: glycolysis<br>Value: 0",
           "Row: FBP<br>Col: ppp<br>Value: 0"
          ],
          [
           "Row: GAPD<br>Col: Multiple-Pathways<br>Value: 0",
           "Row: GAPD<br>Col: glycolysis<br>Value: 1",
           "Row: GAPD<br>Col: ppp<br>Value: 0"
          ],
          [
           "Row: GND<br>Col: Multiple-Pathways<br>Value: 0",
           "Row: GND<br>Col: glycolysis<br>Value: 0",
           "Row: GND<br>Col: ppp<br>Value: 1"
          ]
         ],
         "type": "heatmap",
         "x": [
          "Multiple-Pathways",
          "glycolysis",
          "ppp"
         ],
         "y": [
          "PFK",
          "PGK_rev",
          "PGK",
          "PGL",
          "PGM_rev",
          "PGM",
          "ALCD2x_rev",
          "ALCD2x",
          "PPCK",
          "PPS",
          "PYK",
          "RPE",
          "RPI_rev",
          "RPI",
          "ENO",
          "TKT1",
          "TPI",
          "FBA",
          "FBP",
          "GAPD",
          "GND"
         ],
         "z": [
          [
           1,
           0,
           0
          ],
          [
           0,
           1,
           0
          ],
          [
           0,
           1,
           0
          ],
          [
           0,
           0,
           1
          ],
          [
           0,
           1,
           0
          ],
          [
           0,
           1,
           0
          ],
          [
           0,
           1,
           0
          ],
          [
           0,
           1,
           0
          ],
          [
           0,
           1,
           0
          ],
          [
           0,
           1,
           0
          ],
          [
           0,
           1,
           0
          ],
          [
           0,
           0,
           1
          ],
          [
           0,
           0,
           1
          ],
          [
           0,
           0,
           1
          ],
          [
           0,
           1,
           0
          ],
          [
           0,
           0,
           1
          ],
          [
           0,
           1,
           0
          ],
          [
           1,
           0,
           0
          ],
          [
           1,
           0,
           0
          ],
          [
           0,
           1,
           0
          ],
          [
           0,
           0,
           1
          ]
         ]
        },
        {
         "marker": {
          "color": "lightgrey",
          "size": 10
         },
         "mode": "markers",
         "name": "0",
         "type": "scatter",
         "x": [
          null
         ],
         "y": [
          null
         ]
        },
        {
         "marker": {
          "color": "steelblue",
          "size": 10
         },
         "mode": "markers",
         "name": "1",
         "type": "scatter",
         "x": [
          null
         ],
         "y": [
          null
         ]
        }
       ],
       "layout": {
        "font": {
         "size": 8
        },
        "height": 400,
        "legend": {
         "title": {
          "text": "Value"
         }
        },
        "margin": {
         "b": 40,
         "l": 40,
         "r": 40,
         "t": 40
        },
        "template": {
         "data": {
          "bar": [
           {
            "error_x": {
             "color": "#2a3f5f"
            },
            "error_y": {
             "color": "#2a3f5f"
            },
            "marker": {
             "line": {
              "color": "#E5ECF6",
              "width": 0.5
             },
             "pattern": {
              "fillmode": "overlay",
              "size": 10,
              "solidity": 0.2
             }
            },
            "type": "bar"
           }
          ],
          "barpolar": [
           {
            "marker": {
             "line": {
              "color": "#E5ECF6",
              "width": 0.5
             },
             "pattern": {
              "fillmode": "overlay",
              "size": 10,
              "solidity": 0.2
             }
            },
            "type": "barpolar"
           }
          ],
          "carpet": [
           {
            "aaxis": {
             "endlinecolor": "#2a3f5f",
             "gridcolor": "white",
             "linecolor": "white",
             "minorgridcolor": "white",
             "startlinecolor": "#2a3f5f"
            },
            "baxis": {
             "endlinecolor": "#2a3f5f",
             "gridcolor": "white",
             "linecolor": "white",
             "minorgridcolor": "white",
             "startlinecolor": "#2a3f5f"
            },
            "type": "carpet"
           }
          ],
          "choropleth": [
           {
            "colorbar": {
             "outlinewidth": 0,
             "ticks": ""
            },
            "type": "choropleth"
           }
          ],
          "contour": [
           {
            "colorbar": {
             "outlinewidth": 0,
             "ticks": ""
            },
            "colorscale": [
             [
              0,
              "#0d0887"
             ],
             [
              0.1111111111111111,
              "#46039f"
             ],
             [
              0.2222222222222222,
              "#7201a8"
             ],
             [
              0.3333333333333333,
              "#9c179e"
             ],
             [
              0.4444444444444444,
              "#bd3786"
             ],
             [
              0.5555555555555556,
              "#d8576b"
             ],
             [
              0.6666666666666666,
              "#ed7953"
             ],
             [
              0.7777777777777778,
              "#fb9f3a"
             ],
             [
              0.8888888888888888,
              "#fdca26"
             ],
             [
              1,
              "#f0f921"
             ]
            ],
            "type": "contour"
           }
          ],
          "contourcarpet": [
           {
            "colorbar": {
             "outlinewidth": 0,
             "ticks": ""
            },
            "type": "contourcarpet"
           }
          ],
          "heatmap": [
           {
            "colorbar": {
             "outlinewidth": 0,
             "ticks": ""
            },
            "colorscale": [
             [
              0,
              "#0d0887"
             ],
             [
              0.1111111111111111,
              "#46039f"
             ],
             [
              0.2222222222222222,
              "#7201a8"
             ],
             [
              0.3333333333333333,
              "#9c179e"
             ],
             [
              0.4444444444444444,
              "#bd3786"
             ],
             [
              0.5555555555555556,
              "#d8576b"
             ],
             [
              0.6666666666666666,
              "#ed7953"
             ],
             [
              0.7777777777777778,
              "#fb9f3a"
             ],
             [
              0.8888888888888888,
              "#fdca26"
             ],
             [
              1,
              "#f0f921"
             ]
            ],
            "type": "heatmap"
           }
          ],
          "heatmapgl": [
           {
            "colorbar": {
             "outlinewidth": 0,
             "ticks": ""
            },
            "colorscale": [
             [
              0,
              "#0d0887"
             ],
             [
              0.1111111111111111,
              "#46039f"
             ],
             [
              0.2222222222222222,
              "#7201a8"
             ],
             [
              0.3333333333333333,
              "#9c179e"
             ],
             [
              0.4444444444444444,
              "#bd3786"
             ],
             [
              0.5555555555555556,
              "#d8576b"
             ],
             [
              0.6666666666666666,
              "#ed7953"
             ],
             [
              0.7777777777777778,
              "#fb9f3a"
             ],
             [
              0.8888888888888888,
              "#fdca26"
             ],
             [
              1,
              "#f0f921"
             ]
            ],
            "type": "heatmapgl"
           }
          ],
          "histogram": [
           {
            "marker": {
             "pattern": {
              "fillmode": "overlay",
              "size": 10,
              "solidity": 0.2
             }
            },
            "type": "histogram"
           }
          ],
          "histogram2d": [
           {
            "colorbar": {
             "outlinewidth": 0,
             "ticks": ""
            },
            "colorscale": [
             [
              0,
              "#0d0887"
             ],
             [
              0.1111111111111111,
              "#46039f"
             ],
             [
              0.2222222222222222,
              "#7201a8"
             ],
             [
              0.3333333333333333,
              "#9c179e"
             ],
             [
              0.4444444444444444,
              "#bd3786"
             ],
             [
              0.5555555555555556,
              "#d8576b"
             ],
             [
              0.6666666666666666,
              "#ed7953"
             ],
             [
              0.7777777777777778,
              "#fb9f3a"
             ],
             [
              0.8888888888888888,
              "#fdca26"
             ],
             [
              1,
              "#f0f921"
             ]
            ],
            "type": "histogram2d"
           }
          ],
          "histogram2dcontour": [
           {
            "colorbar": {
             "outlinewidth": 0,
             "ticks": ""
            },
            "colorscale": [
             [
              0,
              "#0d0887"
             ],
             [
              0.1111111111111111,
              "#46039f"
             ],
             [
              0.2222222222222222,
              "#7201a8"
             ],
             [
              0.3333333333333333,
              "#9c179e"
             ],
             [
              0.4444444444444444,
              "#bd3786"
             ],
             [
              0.5555555555555556,
              "#d8576b"
             ],
             [
              0.6666666666666666,
              "#ed7953"
             ],
             [
              0.7777777777777778,
              "#fb9f3a"
             ],
             [
              0.8888888888888888,
              "#fdca26"
             ],
             [
              1,
              "#f0f921"
             ]
            ],
            "type": "histogram2dcontour"
           }
          ],
          "mesh3d": [
           {
            "colorbar": {
             "outlinewidth": 0,
             "ticks": ""
            },
            "type": "mesh3d"
           }
          ],
          "parcoords": [
           {
            "line": {
             "colorbar": {
              "outlinewidth": 0,
              "ticks": ""
             }
            },
            "type": "parcoords"
           }
          ],
          "pie": [
           {
            "automargin": true,
            "type": "pie"
           }
          ],
          "scatter": [
           {
            "fillpattern": {
             "fillmode": "overlay",
             "size": 10,
             "solidity": 0.2
            },
            "type": "scatter"
           }
          ],
          "scatter3d": [
           {
            "line": {
             "colorbar": {
              "outlinewidth": 0,
              "ticks": ""
             }
            },
            "marker": {
             "colorbar": {
              "outlinewidth": 0,
              "ticks": ""
             }
            },
            "type": "scatter3d"
           }
          ],
          "scattercarpet": [
           {
            "marker": {
             "colorbar": {
              "outlinewidth": 0,
              "ticks": ""
             }
            },
            "type": "scattercarpet"
           }
          ],
          "scattergeo": [
           {
            "marker": {
             "colorbar": {
              "outlinewidth": 0,
              "ticks": ""
             }
            },
            "type": "scattergeo"
           }
          ],
          "scattergl": [
           {
            "marker": {
             "colorbar": {
              "outlinewidth": 0,
              "ticks": ""
             }
            },
            "type": "scattergl"
           }
          ],
          "scattermapbox": [
           {
            "marker": {
             "colorbar": {
              "outlinewidth": 0,
              "ticks": ""
             }
            },
            "type": "scattermapbox"
           }
          ],
          "scatterpolar": [
           {
            "marker": {
             "colorbar": {
              "outlinewidth": 0,
              "ticks": ""
             }
            },
            "type": "scatterpolar"
           }
          ],
          "scatterpolargl": [
           {
            "marker": {
             "colorbar": {
              "outlinewidth": 0,
              "ticks": ""
             }
            },
            "type": "scatterpolargl"
           }
          ],
          "scatterternary": [
           {
            "marker": {
             "colorbar": {
              "outlinewidth": 0,
              "ticks": ""
             }
            },
            "type": "scatterternary"
           }
          ],
          "surface": [
           {
            "colorbar": {
             "outlinewidth": 0,
             "ticks": ""
            },
            "colorscale": [
             [
              0,
              "#0d0887"
             ],
             [
              0.1111111111111111,
              "#46039f"
             ],
             [
              0.2222222222222222,
              "#7201a8"
             ],
             [
              0.3333333333333333,
              "#9c179e"
             ],
             [
              0.4444444444444444,
              "#bd3786"
             ],
             [
              0.5555555555555556,
              "#d8576b"
             ],
             [
              0.6666666666666666,
              "#ed7953"
             ],
             [
              0.7777777777777778,
              "#fb9f3a"
             ],
             [
              0.8888888888888888,
              "#fdca26"
             ],
             [
              1,
              "#f0f921"
             ]
            ],
            "type": "surface"
           }
          ],
          "table": [
           {
            "cells": {
             "fill": {
              "color": "#EBF0F8"
             },
             "line": {
              "color": "white"
             }
            },
            "header": {
             "fill": {
              "color": "#C8D4E3"
             },
             "line": {
              "color": "white"
             }
            },
            "type": "table"
           }
          ]
         },
         "layout": {
          "annotationdefaults": {
           "arrowcolor": "#2a3f5f",
           "arrowhead": 0,
           "arrowwidth": 1
          },
          "autotypenumbers": "strict",
          "coloraxis": {
           "colorbar": {
            "outlinewidth": 0,
            "ticks": ""
           }
          },
          "colorscale": {
           "diverging": [
            [
             0,
             "#8e0152"
            ],
            [
             0.1,
             "#c51b7d"
            ],
            [
             0.2,
             "#de77ae"
            ],
            [
             0.3,
             "#f1b6da"
            ],
            [
             0.4,
             "#fde0ef"
            ],
            [
             0.5,
             "#f7f7f7"
            ],
            [
             0.6,
             "#e6f5d0"
            ],
            [
             0.7,
             "#b8e186"
            ],
            [
             0.8,
             "#7fbc41"
            ],
            [
             0.9,
             "#4d9221"
            ],
            [
             1,
             "#276419"
            ]
           ],
           "sequential": [
            [
             0,
             "#0d0887"
            ],
            [
             0.1111111111111111,
             "#46039f"
            ],
            [
             0.2222222222222222,
             "#7201a8"
            ],
            [
             0.3333333333333333,
             "#9c179e"
            ],
            [
             0.4444444444444444,
             "#bd3786"
            ],
            [
             0.5555555555555556,
             "#d8576b"
            ],
            [
             0.6666666666666666,
             "#ed7953"
            ],
            [
             0.7777777777777778,
             "#fb9f3a"
            ],
            [
             0.8888888888888888,
             "#fdca26"
            ],
            [
             1,
             "#f0f921"
            ]
           ],
           "sequentialminus": [
            [
             0,
             "#0d0887"
            ],
            [
             0.1111111111111111,
             "#46039f"
            ],
            [
             0.2222222222222222,
             "#7201a8"
            ],
            [
             0.3333333333333333,
             "#9c179e"
            ],
            [
             0.4444444444444444,
             "#bd3786"
            ],
            [
             0.5555555555555556,
             "#d8576b"
            ],
            [
             0.6666666666666666,
             "#ed7953"
            ],
            [
             0.7777777777777778,
             "#fb9f3a"
            ],
            [
             0.8888888888888888,
             "#fdca26"
            ],
            [
             1,
             "#f0f921"
            ]
           ]
          },
          "colorway": [
           "#636efa",
           "#EF553B",
           "#00cc96",
           "#ab63fa",
           "#FFA15A",
           "#19d3f3",
           "#FF6692",
           "#B6E880",
           "#FF97FF",
           "#FECB52"
          ],
          "font": {
           "color": "#2a3f5f"
          },
          "geo": {
           "bgcolor": "white",
           "lakecolor": "white",
           "landcolor": "#E5ECF6",
           "showlakes": true,
           "showland": true,
           "subunitcolor": "white"
          },
          "hoverlabel": {
           "align": "left"
          },
          "hovermode": "closest",
          "mapbox": {
           "style": "light"
          },
          "paper_bgcolor": "white",
          "plot_bgcolor": "#E5ECF6",
          "polar": {
           "angularaxis": {
            "gridcolor": "white",
            "linecolor": "white",
            "ticks": ""
           },
           "bgcolor": "#E5ECF6",
           "radialaxis": {
            "gridcolor": "white",
            "linecolor": "white",
            "ticks": ""
           }
          },
          "scene": {
           "xaxis": {
            "backgroundcolor": "#E5ECF6",
            "gridcolor": "white",
            "gridwidth": 2,
            "linecolor": "white",
            "showbackground": true,
            "ticks": "",
            "zerolinecolor": "white"
           },
           "yaxis": {
            "backgroundcolor": "#E5ECF6",
            "gridcolor": "white",
            "gridwidth": 2,
            "linecolor": "white",
            "showbackground": true,
            "ticks": "",
            "zerolinecolor": "white"
           },
           "zaxis": {
            "backgroundcolor": "#E5ECF6",
            "gridcolor": "white",
            "gridwidth": 2,
            "linecolor": "white",
            "showbackground": true,
            "ticks": "",
            "zerolinecolor": "white"
           }
          },
          "shapedefaults": {
           "line": {
            "color": "#2a3f5f"
           }
          },
          "ternary": {
           "aaxis": {
            "gridcolor": "white",
            "linecolor": "white",
            "ticks": ""
           },
           "baxis": {
            "gridcolor": "white",
            "linecolor": "white",
            "ticks": ""
           },
           "bgcolor": "#E5ECF6",
           "caxis": {
            "gridcolor": "white",
            "linecolor": "white",
            "ticks": ""
           }
          },
          "title": {
           "x": 0.05
          },
          "xaxis": {
           "automargin": true,
           "gridcolor": "white",
           "linecolor": "white",
           "ticks": "",
           "title": {
            "standoff": 15
           },
           "zerolinecolor": "white",
           "zerolinewidth": 2
          },
          "yaxis": {
           "automargin": true,
           "gridcolor": "white",
           "linecolor": "white",
           "ticks": "",
           "title": {
            "standoff": 15
           },
           "zerolinecolor": "white",
           "zerolinewidth": 2
          }
         }
        },
        "title": {
         "text": ""
        },
        "width": 600,
        "xaxis": {
         "tickangle": 45,
         "tickfont": {
          "size": 8
         }
        },
        "yaxis": {
         "tickfont": {
          "size": 8
         }
        }
       }
      }
     },
     "metadata": {},
     "output_type": "display_data"
    }
   ],
   "source": [
    "\n",
    "\n",
    "binary_df = reaction_in_pathway_binary_matrix(group_map)\n",
    "\n",
    "plot_reaction_in_pathway_heatmap(binary_df, font_size=8, fig_width=600, fig_height=400, title=\"\")\n",
    "\n"
   ]
  },
  {
   "cell_type": "markdown",
   "id": "de44cad7",
   "metadata": {},
   "source": [
    "### Compute correlation matrix"
   ]
  },
  {
   "cell_type": "code",
   "execution_count": 10,
   "id": "feec22d3",
   "metadata": {},
   "outputs": [
    {
     "name": "stdout",
     "output_type": "stream",
     "text": [
      "Completed the process of 30 from 103 copulas\n",
      "Completed the process of 31 from 103 copulas\n",
      "Completed the process of 32 from 103 copulas\n",
      "Completed the process of 33 from 103 copulas\n",
      "Completed the process of 34 from 103 copulas\n",
      "Completed the process of 35 from 103 copulas\n",
      "Completed the process of 44 from 103 copulas\n",
      "Completed the process of 49 from 103 copulas\n",
      "Completed the process of 54 from 103 copulas\n",
      "Completed the process of 59 from 103 copulas\n",
      "Completed the process of 64 from 103 copulas\n",
      "Completed the process of 69 from 103 copulas\n",
      "Completed the process of 74 from 103 copulas\n",
      "Completed the process of 75 from 103 copulas\n",
      "Completed the process of 76 from 103 copulas\n",
      "Completed the process of 77 from 103 copulas\n",
      "Completed the process of 78 from 103 copulas\n",
      "Completed the process of 79 from 103 copulas\n",
      "Completed the process of 84 from 103 copulas\n",
      "Completed the process of 85 from 103 copulas\n",
      "Completed the process of 86 from 103 copulas\n",
      "Completed the process of 87 from 103 copulas\n",
      "Completed the process of 88 from 103 copulas\n",
      "Completed the process of 89 from 103 copulas\n",
      "Completed the process of 90 from 103 copulas\n",
      "Completed the process of 91 from 103 copulas\n",
      "Completed the process of 96 from 103 copulas\n",
      "Completed the process of 97 from 103 copulas\n",
      "Completed the process of 102 from 103 copulas\n",
      "Completed the process of 103 from 103 copulas\n"
     ]
    }
   ],
   "source": [
    "\n",
    "(linear_correlation_matrix_no_metabolites, \n",
    "non_linear_correlation_matrix_no_metabolites, \n",
    "mixed_correlation_matrix_no_metabolites, \n",
    "correlations_dictionary_no_metabolites) = correlated_reactions(\n",
    "        steady_states = extended_steady_states,\n",
    "        boolean_sharing_metabolites_matrix=None,\n",
    "        reactions=extended_reactions, \n",
    "        linear_corr_cutoff = 0.3, \n",
    "        indicator_cutoff = 1.2,\n",
    "        jensenshannon_cutoff = 0.05,\n",
    "        std_cutoff= 1e-2,\n",
    "        include_non_linear = True, \n",
    "        cells = 5, \n",
    "        cop_coeff = 0.2, \n",
    "        lower_triangle = False, \n",
    "        verbose = True)\n"
   ]
  },
  {
   "cell_type": "markdown",
   "id": "780b81fc",
   "metadata": {},
   "source": [
    "### Clustering and Dendrogram plot"
   ]
  },
  {
   "cell_type": "code",
   "execution_count": 11,
   "id": "ac45ca96",
   "metadata": {},
   "outputs": [
    {
     "name": "stderr",
     "output_type": "stream",
     "text": [
      "/home/touliopoulos/project/erasmus/erasmus_2025_project/tests/../src/clustering_utils.py:41: ClusterWarning:\n",
      "\n",
      "scipy.cluster: The symmetric non-negative hollow observation matrix looks suspiciously like an uncondensed distance matrix\n",
      "\n",
      "/home/touliopoulos/project/erasmus/erasmus_2025_project/tests/../src/clustering_utils.py:74: ClusterWarning:\n",
      "\n",
      "scipy.cluster: The symmetric non-negative hollow observation matrix looks suspiciously like an uncondensed distance matrix\n",
      "\n"
     ]
    },
    {
     "data": {
      "application/vnd.plotly.v1+json": {
       "config": {
        "plotlyServerURL": "https://plot.ly"
       },
       "data": [
        {
         "hoverinfo": "none",
         "line": {
          "color": "black",
          "width": 1
         },
         "mode": "lines",
         "showlegend": false,
         "type": "scatter",
         "x": [
          25,
          25,
          35,
          35
         ],
         "y": [
          0,
          0,
          0,
          0
         ]
        },
        {
         "hoverinfo": "none",
         "line": {
          "color": "black",
          "width": 1
         },
         "mode": "lines",
         "showlegend": false,
         "type": "scatter",
         "x": [
          15,
          15,
          30,
          30
         ],
         "y": [
          0,
          0.00010880239539306485,
          0.00010880239539306485,
          0
         ]
        },
        {
         "hoverinfo": "none",
         "line": {
          "color": "black",
          "width": 1
         },
         "mode": "lines",
         "showlegend": false,
         "type": "scatter",
         "x": [
          45,
          45,
          55,
          55
         ],
         "y": [
          0,
          3.1401849173675503e-16,
          3.1401849173675503e-16,
          0
         ]
        },
        {
         "hoverinfo": "none",
         "line": {
          "color": "black",
          "width": 1
         },
         "mode": "lines",
         "showlegend": false,
         "type": "scatter",
         "x": [
          65,
          65,
          75,
          75
         ],
         "y": [
          0,
          3.6821932062951477e-16,
          3.6821932062951477e-16,
          0
         ]
        },
        {
         "hoverinfo": "none",
         "line": {
          "color": "black",
          "width": 1
         },
         "mode": "lines",
         "showlegend": false,
         "type": "scatter",
         "x": [
          50,
          50,
          70,
          70
         ],
         "y": [
          3.1401849173675503e-16,
          0.0003670602267175707,
          0.0003670602267175707,
          3.6821932062951477e-16
         ]
        },
        {
         "hoverinfo": "none",
         "line": {
          "color": "black",
          "width": 1
         },
         "mode": "lines",
         "showlegend": false,
         "type": "scatter",
         "x": [
          22.5,
          22.5,
          60,
          60
         ],
         "y": [
          0.00010880239539306485,
          0.0006886102524122448,
          0.0006886102524122448,
          0.0003670602267175707
         ]
        },
        {
         "hoverinfo": "none",
         "line": {
          "color": "black",
          "width": 1
         },
         "mode": "lines",
         "showlegend": false,
         "type": "scatter",
         "x": [
          5,
          5,
          41.25,
          41.25
         ],
         "y": [
          0,
          1.231456125909872,
          1.231456125909872,
          0.0006886102524122448
         ]
        },
        {
         "hoverinfo": "none",
         "line": {
          "color": "black",
          "width": 1
         },
         "mode": "lines",
         "showlegend": false,
         "type": "scatter",
         "x": [
          85,
          85,
          95,
          95
         ],
         "y": [
          0,
          0.00025955077541605894,
          0.00025955077541605894,
          0
         ]
        },
        {
         "hoverinfo": "none",
         "line": {
          "color": "black",
          "width": 1
         },
         "mode": "lines",
         "showlegend": false,
         "type": "scatter",
         "x": [
          135,
          135,
          145,
          145
         ],
         "y": [
          0,
          3.8459253727671276e-16,
          3.8459253727671276e-16,
          0
         ]
        },
        {
         "hoverinfo": "none",
         "line": {
          "color": "black",
          "width": 1
         },
         "mode": "lines",
         "showlegend": false,
         "type": "scatter",
         "x": [
          125,
          125,
          140,
          140
         ],
         "y": [
          0,
          0.00003815515120148151,
          0.00003815515120148151,
          3.8459253727671276e-16
         ]
        },
        {
         "hoverinfo": "none",
         "line": {
          "color": "black",
          "width": 1
         },
         "mode": "lines",
         "showlegend": false,
         "type": "scatter",
         "x": [
          115,
          115,
          132.5,
          132.5
         ],
         "y": [
          0,
          0.0001353268713994544,
          0.0001353268713994544,
          0.00003815515120148151
         ]
        },
        {
         "hoverinfo": "none",
         "line": {
          "color": "black",
          "width": 1
         },
         "mode": "lines",
         "showlegend": false,
         "type": "scatter",
         "x": [
          105,
          105,
          123.75,
          123.75
         ],
         "y": [
          0,
          0.00047204309539258387,
          0.00047204309539258387,
          0.0001353268713994544
         ]
        },
        {
         "hoverinfo": "none",
         "line": {
          "color": "black",
          "width": 1
         },
         "mode": "lines",
         "showlegend": false,
         "type": "scatter",
         "x": [
          90,
          90,
          114.375,
          114.375
         ],
         "y": [
          0.00025955077541605894,
          0.0008845001734451795,
          0.0008845001734451795,
          0.00047204309539258387
         ]
        },
        {
         "hoverinfo": "none",
         "line": {
          "color": "black",
          "width": 1
         },
         "mode": "lines",
         "showlegend": false,
         "type": "scatter",
         "x": [
          195,
          195,
          205,
          205
         ],
         "y": [
          0,
          1.4142135623730951,
          1.4142135623730951,
          0
         ]
        },
        {
         "hoverinfo": "none",
         "line": {
          "color": "black",
          "width": 1
         },
         "mode": "lines",
         "showlegend": false,
         "type": "scatter",
         "x": [
          185,
          185,
          200,
          200
         ],
         "y": [
          0,
          1.5181139495863607,
          1.5181139495863607,
          1.4142135623730951
         ]
        },
        {
         "hoverinfo": "none",
         "line": {
          "color": "black",
          "width": 1
         },
         "mode": "lines",
         "showlegend": false,
         "type": "scatter",
         "x": [
          175,
          175,
          192.5,
          192.5
         ],
         "y": [
          0,
          1.6314234283035316,
          1.6314234283035316,
          1.5181139495863607
         ]
        },
        {
         "hoverinfo": "none",
         "line": {
          "color": "black",
          "width": 1
         },
         "mode": "lines",
         "showlegend": false,
         "type": "scatter",
         "x": [
          165,
          165,
          183.75,
          183.75
         ],
         "y": [
          0,
          1.909727990080088,
          1.909727990080088,
          1.6314234283035316
         ]
        },
        {
         "hoverinfo": "none",
         "line": {
          "color": "black",
          "width": 1
         },
         "mode": "lines",
         "showlegend": false,
         "type": "scatter",
         "x": [
          155,
          155,
          174.375,
          174.375
         ],
         "y": [
          0,
          2.257884112186353,
          2.257884112186353,
          1.909727990080088
         ]
        },
        {
         "hoverinfo": "none",
         "line": {
          "color": "black",
          "width": 1
         },
         "mode": "lines",
         "showlegend": false,
         "type": "scatter",
         "x": [
          102.1875,
          102.1875,
          164.6875,
          164.6875
         ],
         "y": [
          0.0008845001734451795,
          9.620276240515993,
          9.620276240515993,
          2.257884112186353
         ]
        },
        {
         "hoverinfo": "none",
         "line": {
          "color": "black",
          "width": 1
         },
         "mode": "lines",
         "showlegend": false,
         "type": "scatter",
         "x": [
          23.125,
          23.125,
          133.4375,
          133.4375
         ],
         "y": [
          1.231456125909872,
          18.40500246718738,
          18.40500246718738,
          9.620276240515993
         ]
        },
        {
         "legendgroup": "Multiple-Pathways",
         "marker": {
          "color": "rgba(31, 119, 180, 1.0)",
          "size": 8
         },
         "mode": "markers+text",
         "name": "Multiple-Pathways",
         "showlegend": true,
         "text": [
          "PFK",
          "FBA",
          "FBP"
         ],
         "textfont": {
          "size": 7
         },
         "textposition": "bottom center",
         "type": "scatter",
         "x": [
          5,
          35,
          175
         ],
         "y": [
          0,
          0,
          0
         ]
        },
        {
         "legendgroup": "ppp",
         "marker": {
          "color": "rgba(44, 160, 44, 1.0)",
          "size": 8
         },
         "mode": "markers+text",
         "name": "ppp",
         "showlegend": true,
         "text": [
          "RPI",
          "RPI_rev",
          "RPE",
          "TKT1",
          "PGL",
          "GND"
         ],
         "textfont": {
          "size": 7
         },
         "textposition": "bottom center",
         "type": "scatter",
         "x": [
          15,
          105,
          115,
          125,
          135,
          145
         ],
         "y": [
          0,
          0,
          0,
          0,
          0,
          0
         ]
        },
        {
         "legendgroup": "glycolysis",
         "marker": {
          "color": "rgba(255, 127, 14, 1.0)",
          "size": 8
         },
         "mode": "markers+text",
         "name": "glycolysis",
         "showlegend": true,
         "text": [
          "TPI",
          "PGK_rev",
          "GAPD",
          "PGM_rev",
          "ENO",
          "PGK",
          "PGM",
          "ALCD2x",
          "ALCD2x_rev",
          "PYK",
          "PPCK",
          "PPS"
         ],
         "textfont": {
          "size": 7
         },
         "textposition": "bottom center",
         "type": "scatter",
         "x": [
          25,
          45,
          55,
          65,
          75,
          85,
          95,
          155,
          165,
          185,
          195,
          205
         ],
         "y": [
          0,
          0,
          0,
          0,
          0,
          0,
          0,
          0,
          0,
          0,
          0,
          0
         ]
        }
       ],
       "layout": {
        "height": 600,
        "legend": {
         "title": {
          "text": "Groups"
         }
        },
        "shapes": [
         {
          "line": {
           "color": "gray",
           "dash": "dash",
           "width": 1
          },
          "type": "line",
          "x0": 0,
          "x1": 205,
          "y0": 5,
          "y1": 5
         }
        ],
        "template": {
         "data": {
          "bar": [
           {
            "error_x": {
             "color": "#2a3f5f"
            },
            "error_y": {
             "color": "#2a3f5f"
            },
            "marker": {
             "line": {
              "color": "#E5ECF6",
              "width": 0.5
             },
             "pattern": {
              "fillmode": "overlay",
              "size": 10,
              "solidity": 0.2
             }
            },
            "type": "bar"
           }
          ],
          "barpolar": [
           {
            "marker": {
             "line": {
              "color": "#E5ECF6",
              "width": 0.5
             },
             "pattern": {
              "fillmode": "overlay",
              "size": 10,
              "solidity": 0.2
             }
            },
            "type": "barpolar"
           }
          ],
          "carpet": [
           {
            "aaxis": {
             "endlinecolor": "#2a3f5f",
             "gridcolor": "white",
             "linecolor": "white",
             "minorgridcolor": "white",
             "startlinecolor": "#2a3f5f"
            },
            "baxis": {
             "endlinecolor": "#2a3f5f",
             "gridcolor": "white",
             "linecolor": "white",
             "minorgridcolor": "white",
             "startlinecolor": "#2a3f5f"
            },
            "type": "carpet"
           }
          ],
          "choropleth": [
           {
            "colorbar": {
             "outlinewidth": 0,
             "ticks": ""
            },
            "type": "choropleth"
           }
          ],
          "contour": [
           {
            "colorbar": {
             "outlinewidth": 0,
             "ticks": ""
            },
            "colorscale": [
             [
              0,
              "#0d0887"
             ],
             [
              0.1111111111111111,
              "#46039f"
             ],
             [
              0.2222222222222222,
              "#7201a8"
             ],
             [
              0.3333333333333333,
              "#9c179e"
             ],
             [
              0.4444444444444444,
              "#bd3786"
             ],
             [
              0.5555555555555556,
              "#d8576b"
             ],
             [
              0.6666666666666666,
              "#ed7953"
             ],
             [
              0.7777777777777778,
              "#fb9f3a"
             ],
             [
              0.8888888888888888,
              "#fdca26"
             ],
             [
              1,
              "#f0f921"
             ]
            ],
            "type": "contour"
           }
          ],
          "contourcarpet": [
           {
            "colorbar": {
             "outlinewidth": 0,
             "ticks": ""
            },
            "type": "contourcarpet"
           }
          ],
          "heatmap": [
           {
            "colorbar": {
             "outlinewidth": 0,
             "ticks": ""
            },
            "colorscale": [
             [
              0,
              "#0d0887"
             ],
             [
              0.1111111111111111,
              "#46039f"
             ],
             [
              0.2222222222222222,
              "#7201a8"
             ],
             [
              0.3333333333333333,
              "#9c179e"
             ],
             [
              0.4444444444444444,
              "#bd3786"
             ],
             [
              0.5555555555555556,
              "#d8576b"
             ],
             [
              0.6666666666666666,
              "#ed7953"
             ],
             [
              0.7777777777777778,
              "#fb9f3a"
             ],
             [
              0.8888888888888888,
              "#fdca26"
             ],
             [
              1,
              "#f0f921"
             ]
            ],
            "type": "heatmap"
           }
          ],
          "heatmapgl": [
           {
            "colorbar": {
             "outlinewidth": 0,
             "ticks": ""
            },
            "colorscale": [
             [
              0,
              "#0d0887"
             ],
             [
              0.1111111111111111,
              "#46039f"
             ],
             [
              0.2222222222222222,
              "#7201a8"
             ],
             [
              0.3333333333333333,
              "#9c179e"
             ],
             [
              0.4444444444444444,
              "#bd3786"
             ],
             [
              0.5555555555555556,
              "#d8576b"
             ],
             [
              0.6666666666666666,
              "#ed7953"
             ],
             [
              0.7777777777777778,
              "#fb9f3a"
             ],
             [
              0.8888888888888888,
              "#fdca26"
             ],
             [
              1,
              "#f0f921"
             ]
            ],
            "type": "heatmapgl"
           }
          ],
          "histogram": [
           {
            "marker": {
             "pattern": {
              "fillmode": "overlay",
              "size": 10,
              "solidity": 0.2
             }
            },
            "type": "histogram"
           }
          ],
          "histogram2d": [
           {
            "colorbar": {
             "outlinewidth": 0,
             "ticks": ""
            },
            "colorscale": [
             [
              0,
              "#0d0887"
             ],
             [
              0.1111111111111111,
              "#46039f"
             ],
             [
              0.2222222222222222,
              "#7201a8"
             ],
             [
              0.3333333333333333,
              "#9c179e"
             ],
             [
              0.4444444444444444,
              "#bd3786"
             ],
             [
              0.5555555555555556,
              "#d8576b"
             ],
             [
              0.6666666666666666,
              "#ed7953"
             ],
             [
              0.7777777777777778,
              "#fb9f3a"
             ],
             [
              0.8888888888888888,
              "#fdca26"
             ],
             [
              1,
              "#f0f921"
             ]
            ],
            "type": "histogram2d"
           }
          ],
          "histogram2dcontour": [
           {
            "colorbar": {
             "outlinewidth": 0,
             "ticks": ""
            },
            "colorscale": [
             [
              0,
              "#0d0887"
             ],
             [
              0.1111111111111111,
              "#46039f"
             ],
             [
              0.2222222222222222,
              "#7201a8"
             ],
             [
              0.3333333333333333,
              "#9c179e"
             ],
             [
              0.4444444444444444,
              "#bd3786"
             ],
             [
              0.5555555555555556,
              "#d8576b"
             ],
             [
              0.6666666666666666,
              "#ed7953"
             ],
             [
              0.7777777777777778,
              "#fb9f3a"
             ],
             [
              0.8888888888888888,
              "#fdca26"
             ],
             [
              1,
              "#f0f921"
             ]
            ],
            "type": "histogram2dcontour"
           }
          ],
          "mesh3d": [
           {
            "colorbar": {
             "outlinewidth": 0,
             "ticks": ""
            },
            "type": "mesh3d"
           }
          ],
          "parcoords": [
           {
            "line": {
             "colorbar": {
              "outlinewidth": 0,
              "ticks": ""
             }
            },
            "type": "parcoords"
           }
          ],
          "pie": [
           {
            "automargin": true,
            "type": "pie"
           }
          ],
          "scatter": [
           {
            "fillpattern": {
             "fillmode": "overlay",
             "size": 10,
             "solidity": 0.2
            },
            "type": "scatter"
           }
          ],
          "scatter3d": [
           {
            "line": {
             "colorbar": {
              "outlinewidth": 0,
              "ticks": ""
             }
            },
            "marker": {
             "colorbar": {
              "outlinewidth": 0,
              "ticks": ""
             }
            },
            "type": "scatter3d"
           }
          ],
          "scattercarpet": [
           {
            "marker": {
             "colorbar": {
              "outlinewidth": 0,
              "ticks": ""
             }
            },
            "type": "scattercarpet"
           }
          ],
          "scattergeo": [
           {
            "marker": {
             "colorbar": {
              "outlinewidth": 0,
              "ticks": ""
             }
            },
            "type": "scattergeo"
           }
          ],
          "scattergl": [
           {
            "marker": {
             "colorbar": {
              "outlinewidth": 0,
              "ticks": ""
             }
            },
            "type": "scattergl"
           }
          ],
          "scattermapbox": [
           {
            "marker": {
             "colorbar": {
              "outlinewidth": 0,
              "ticks": ""
             }
            },
            "type": "scattermapbox"
           }
          ],
          "scatterpolar": [
           {
            "marker": {
             "colorbar": {
              "outlinewidth": 0,
              "ticks": ""
             }
            },
            "type": "scatterpolar"
           }
          ],
          "scatterpolargl": [
           {
            "marker": {
             "colorbar": {
              "outlinewidth": 0,
              "ticks": ""
             }
            },
            "type": "scatterpolargl"
           }
          ],
          "scatterternary": [
           {
            "marker": {
             "colorbar": {
              "outlinewidth": 0,
              "ticks": ""
             }
            },
            "type": "scatterternary"
           }
          ],
          "surface": [
           {
            "colorbar": {
             "outlinewidth": 0,
             "ticks": ""
            },
            "colorscale": [
             [
              0,
              "#0d0887"
             ],
             [
              0.1111111111111111,
              "#46039f"
             ],
             [
              0.2222222222222222,
              "#7201a8"
             ],
             [
              0.3333333333333333,
              "#9c179e"
             ],
             [
              0.4444444444444444,
              "#bd3786"
             ],
             [
              0.5555555555555556,
              "#d8576b"
             ],
             [
              0.6666666666666666,
              "#ed7953"
             ],
             [
              0.7777777777777778,
              "#fb9f3a"
             ],
             [
              0.8888888888888888,
              "#fdca26"
             ],
             [
              1,
              "#f0f921"
             ]
            ],
            "type": "surface"
           }
          ],
          "table": [
           {
            "cells": {
             "fill": {
              "color": "#EBF0F8"
             },
             "line": {
              "color": "white"
             }
            },
            "header": {
             "fill": {
              "color": "#C8D4E3"
             },
             "line": {
              "color": "white"
             }
            },
            "type": "table"
           }
          ]
         },
         "layout": {
          "annotationdefaults": {
           "arrowcolor": "#2a3f5f",
           "arrowhead": 0,
           "arrowwidth": 1
          },
          "autotypenumbers": "strict",
          "coloraxis": {
           "colorbar": {
            "outlinewidth": 0,
            "ticks": ""
           }
          },
          "colorscale": {
           "diverging": [
            [
             0,
             "#8e0152"
            ],
            [
             0.1,
             "#c51b7d"
            ],
            [
             0.2,
             "#de77ae"
            ],
            [
             0.3,
             "#f1b6da"
            ],
            [
             0.4,
             "#fde0ef"
            ],
            [
             0.5,
             "#f7f7f7"
            ],
            [
             0.6,
             "#e6f5d0"
            ],
            [
             0.7,
             "#b8e186"
            ],
            [
             0.8,
             "#7fbc41"
            ],
            [
             0.9,
             "#4d9221"
            ],
            [
             1,
             "#276419"
            ]
           ],
           "sequential": [
            [
             0,
             "#0d0887"
            ],
            [
             0.1111111111111111,
             "#46039f"
            ],
            [
             0.2222222222222222,
             "#7201a8"
            ],
            [
             0.3333333333333333,
             "#9c179e"
            ],
            [
             0.4444444444444444,
             "#bd3786"
            ],
            [
             0.5555555555555556,
             "#d8576b"
            ],
            [
             0.6666666666666666,
             "#ed7953"
            ],
            [
             0.7777777777777778,
             "#fb9f3a"
            ],
            [
             0.8888888888888888,
             "#fdca26"
            ],
            [
             1,
             "#f0f921"
            ]
           ],
           "sequentialminus": [
            [
             0,
             "#0d0887"
            ],
            [
             0.1111111111111111,
             "#46039f"
            ],
            [
             0.2222222222222222,
             "#7201a8"
            ],
            [
             0.3333333333333333,
             "#9c179e"
            ],
            [
             0.4444444444444444,
             "#bd3786"
            ],
            [
             0.5555555555555556,
             "#d8576b"
            ],
            [
             0.6666666666666666,
             "#ed7953"
            ],
            [
             0.7777777777777778,
             "#fb9f3a"
            ],
            [
             0.8888888888888888,
             "#fdca26"
            ],
            [
             1,
             "#f0f921"
            ]
           ]
          },
          "colorway": [
           "#636efa",
           "#EF553B",
           "#00cc96",
           "#ab63fa",
           "#FFA15A",
           "#19d3f3",
           "#FF6692",
           "#B6E880",
           "#FF97FF",
           "#FECB52"
          ],
          "font": {
           "color": "#2a3f5f"
          },
          "geo": {
           "bgcolor": "white",
           "lakecolor": "white",
           "landcolor": "#E5ECF6",
           "showlakes": true,
           "showland": true,
           "subunitcolor": "white"
          },
          "hoverlabel": {
           "align": "left"
          },
          "hovermode": "closest",
          "mapbox": {
           "style": "light"
          },
          "paper_bgcolor": "white",
          "plot_bgcolor": "#E5ECF6",
          "polar": {
           "angularaxis": {
            "gridcolor": "white",
            "linecolor": "white",
            "ticks": ""
           },
           "bgcolor": "#E5ECF6",
           "radialaxis": {
            "gridcolor": "white",
            "linecolor": "white",
            "ticks": ""
           }
          },
          "scene": {
           "xaxis": {
            "backgroundcolor": "#E5ECF6",
            "gridcolor": "white",
            "gridwidth": 2,
            "linecolor": "white",
            "showbackground": true,
            "ticks": "",
            "zerolinecolor": "white"
           },
           "yaxis": {
            "backgroundcolor": "#E5ECF6",
            "gridcolor": "white",
            "gridwidth": 2,
            "linecolor": "white",
            "showbackground": true,
            "ticks": "",
            "zerolinecolor": "white"
           },
           "zaxis": {
            "backgroundcolor": "#E5ECF6",
            "gridcolor": "white",
            "gridwidth": 2,
            "linecolor": "white",
            "showbackground": true,
            "ticks": "",
            "zerolinecolor": "white"
           }
          },
          "shapedefaults": {
           "line": {
            "color": "#2a3f5f"
           }
          },
          "ternary": {
           "aaxis": {
            "gridcolor": "white",
            "linecolor": "white",
            "ticks": ""
           },
           "baxis": {
            "gridcolor": "white",
            "linecolor": "white",
            "ticks": ""
           },
           "bgcolor": "#E5ECF6",
           "caxis": {
            "gridcolor": "white",
            "linecolor": "white",
            "ticks": ""
           }
          },
          "title": {
           "x": 0.05
          },
          "xaxis": {
           "automargin": true,
           "gridcolor": "white",
           "linecolor": "white",
           "ticks": "",
           "title": {
            "standoff": 15
           },
           "zerolinecolor": "white",
           "zerolinewidth": 2
          },
          "yaxis": {
           "automargin": true,
           "gridcolor": "white",
           "linecolor": "white",
           "ticks": "",
           "title": {
            "standoff": 15
           },
           "zerolinecolor": "white",
           "zerolinewidth": 2
          }
         }
        },
        "title": {
         "text": ""
        },
        "width": 1000,
        "xaxis": {
         "showticklabels": false
        },
        "yaxis": {
         "title": {
          "text": "Distance"
         }
        }
       }
      }
     },
     "metadata": {},
     "output_type": "display_data"
    }
   ],
   "source": [
    "\n",
    "dissimilarity_matrix_1, labels_1, clusters_1 = clustering_of_correlation_matrix(mixed_correlation_matrix_no_metabolites, \n",
    "                                                                reactions=extended_reactions, \n",
    "                                                                linkage=\"ward\", \n",
    "                                                                t = 1.0, \n",
    "                                                                correction=False)\n",
    "\n",
    "plot_dendrogram(dissimilarity_matrix_1, \n",
    "                extended_reactions, \n",
    "                show_labels = True, \n",
    "                t = 5, \n",
    "                linkage = \"ward\", \n",
    "                group_map=group_map,\n",
    "                label_fontsize = 7)\n"
   ]
  }
 ],
 "metadata": {
  "kernelspec": {
   "display_name": "Python 3",
   "language": "python",
   "name": "python3"
  },
  "language_info": {
   "codemirror_mode": {
    "name": "ipython",
    "version": 3
   },
   "file_extension": ".py",
   "mimetype": "text/x-python",
   "name": "python",
   "nbconvert_exporter": "python",
   "pygments_lexer": "ipython3",
   "version": "3.10.12"
  }
 },
 "nbformat": 4,
 "nbformat_minor": 5
}
