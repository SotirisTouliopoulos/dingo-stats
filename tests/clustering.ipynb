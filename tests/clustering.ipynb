{
 "cells": [
  {
   "cell_type": "markdown",
   "id": "40d13fc0",
   "metadata": {},
   "source": [
    "### Load libraries and functions"
   ]
  },
  {
   "cell_type": "code",
   "execution_count": 1,
   "id": "ba4dde77",
   "metadata": {},
   "outputs": [],
   "source": [
    "\n",
    "import sys\n",
    "sys.path.insert(0, '../src/')\n",
    "\n",
    "from loopless_utils import loops_enumeration_from_fva\n",
    "\n",
    "from load_modify_sample_utils import load_model, get_objective_functions, get_reaction_bounds, modify_model\n",
    "from load_modify_sample_utils import sample_optgp\n",
    "\n",
    "from correlations_utils import correlated_reactions, split_forward_reverse, find_reactants_products\n",
    "\n",
    "from clustering_utils import clustering_of_correlation_matrix, plot_dendrogram\n",
    "\n",
    "from pathways_utils import dictionary_reaction_id_to_kegg_id, get_kegg_pathways_from_reaction_ids\n",
    "from pathways_utils import map_model_to_kegg_reactions_dictionary, read_json_file, fill_missing_kegg_ids_in_initial_dictionary\n",
    "from pathways_utils import subset_model_reactions_from_pathway_info, subset_sampling_array_from_reaction_ids, sort_reactions_by_model_order\n",
    "from pathways_utils import dictionary_reaction_id_to_pathway, dictionary_map_reverse_reaction_id_to_pathway\n"
   ]
  },
  {
   "cell_type": "markdown",
   "id": "294a9499",
   "metadata": {},
   "source": [
    "### Load and inspect model (for more info see `load_modify_samply.ipynb`)"
   ]
  },
  {
   "cell_type": "code",
   "execution_count": 3,
   "id": "e247075d",
   "metadata": {},
   "outputs": [
    {
     "name": "stdout",
     "output_type": "stream",
     "text": [
      "Set parameter Username\n",
      "Set parameter LicenseID to value 2642044\n",
      "Academic license - for non-commercial use only - expires 2026-03-25\n",
      "['BIOMASS_Ecoli_core_w_GAM']\n",
      "(0.0, 1000.0)\n"
     ]
    }
   ],
   "source": [
    "\n",
    "ec_cobra_model, ec_cobra_reactions, ec_cobra_reaction_ids,  = load_model(\"../ext_data/models/e_coli_core.xml\")\n",
    "\n",
    "objective_functions = get_objective_functions(ec_cobra_model)\n",
    "print(objective_functions)\n",
    "\n",
    "default_reaction_bounds = get_reaction_bounds(ec_cobra_model)\n",
    "print(default_reaction_bounds.get(\"BIOMASS_Ecoli_core_w_GAM\"))\n"
   ]
  },
  {
   "cell_type": "markdown",
   "id": "d16c6e53",
   "metadata": {},
   "source": [
    "### Modify the model to create two different conditions (for more info see `load_modify_samply.ipynb`)"
   ]
  },
  {
   "cell_type": "code",
   "execution_count": 4,
   "id": "c4809ce0",
   "metadata": {},
   "outputs": [
    {
     "name": "stdout",
     "output_type": "stream",
     "text": [
      "Read LP format model from file /tmp/tmpydbawlc2.lp\n",
      "Reading time = 0.00 seconds\n",
      ": 72 rows, 190 columns, 720 nonzeros\n"
     ]
    },
    {
     "name": "stdout",
     "output_type": "stream",
     "text": [
      "['BIOMASS_Ecoli_core_w_GAM']\n",
      "(0.872922, 1000)\n",
      "Read LP format model from file /tmp/tmpfc8ee7_1.lp\n",
      "Reading time = 0.00 seconds\n",
      ": 72 rows, 190 columns, 720 nonzeros\n",
      "['BIOMASS_Ecoli_core_w_GAM']\n",
      "(0.0, 1000)\n"
     ]
    }
   ],
   "source": [
    "\n",
    "# Set optimal percentage to 100\n",
    "ec_cobra_model_condition_100 = modify_model(\n",
    "    cobra_model         = ec_cobra_model,\n",
    "    objective_function  = \"BIOMASS_Ecoli_core_w_GAM\",\n",
    "    optimal_percentage  = 100,\n",
    "    objective_direction = \"max\"\n",
    ")\n",
    "\n",
    "updated_objective_functions = get_objective_functions(ec_cobra_model_condition_100)\n",
    "print(updated_objective_functions)\n",
    "\n",
    "updated_reaction_bounds = get_reaction_bounds(ec_cobra_model_condition_100)\n",
    "print(updated_reaction_bounds.get(\"BIOMASS_Ecoli_core_w_GAM\"))\n",
    "\n",
    "# -----------\n",
    "\n",
    "# Set optimal percentage to 0\n",
    "ec_cobra_model_condition_0 = modify_model(\n",
    "    cobra_model         = ec_cobra_model,\n",
    "    objective_function  = \"BIOMASS_Ecoli_core_w_GAM\",\n",
    "    optimal_percentage  = 0,\n",
    "    objective_direction = \"max\"\n",
    ")\n",
    "\n",
    "updated_objective_functions = get_objective_functions(ec_cobra_model_condition_0)\n",
    "print(updated_objective_functions)\n",
    "\n",
    "updated_reaction_bounds = get_reaction_bounds(ec_cobra_model_condition_0)\n",
    "print(updated_reaction_bounds.get(\"BIOMASS_Ecoli_core_w_GAM\"))\n"
   ]
  },
  {
   "cell_type": "markdown",
   "id": "b601f591",
   "metadata": {},
   "source": [
    "### Identify loopy reactions in model (for more info see `loopless.ipynb`)"
   ]
  },
  {
   "cell_type": "code",
   "execution_count": 4,
   "id": "a05f5ede",
   "metadata": {},
   "outputs": [
    {
     "name": "stdout",
     "output_type": "stream",
     "text": [
      "[('SUCDi', 994.7794007141792), ('FRD7', 995.0539767141795)]\n",
      "['SUCDi', 'FRD7']\n",
      "[('SUCDi', 980.0), ('FRD7', 1000.0)]\n",
      "['SUCDi', 'FRD7']\n"
     ]
    }
   ],
   "source": [
    "\n",
    "loopy_reactions_fva_100 = loops_enumeration_from_fva(ec_cobra_model_condition_100, fraction_of_optimum=0.999)\n",
    "print(loopy_reactions_fva_100)\n",
    "\n",
    "loopy_reactions_100 = [item[0] for item in loopy_reactions_fva_100]\n",
    "print(loopy_reactions_100)\n",
    "\n",
    "\n",
    "loopy_reactions_fva_0 = loops_enumeration_from_fva(ec_cobra_model_condition_0, fraction_of_optimum=0)\n",
    "print(loopy_reactions_fva_0)\n",
    "\n",
    "loopy_reactions_0 = [item[0] for item in loopy_reactions_fva_0]\n",
    "print(loopy_reactions_0)\n"
   ]
  },
  {
   "cell_type": "markdown",
   "id": "670dd76c",
   "metadata": {},
   "source": [
    "### Remove loopy reactions from the 2 models created above to reduce the thermodynamically infeasible solutions from sampling"
   ]
  },
  {
   "cell_type": "code",
   "execution_count": 4,
   "id": "e210ed5b",
   "metadata": {},
   "outputs": [],
   "source": [
    "\n",
    "ec_cobra_model_condition_100.reactions.get_by_id(\"FRD7\").bounds = (0, 0)\n",
    "ec_cobra_model_condition_0.reactions.get_by_id(\"FRD7\").bounds = (0, 0)\n"
   ]
  },
  {
   "cell_type": "markdown",
   "id": "570fb687",
   "metadata": {},
   "source": [
    "### Perform sampling on the modified models with the loopy reaction \"FRD7\" removed. (for more info see `load_modify_samply.ipynb`)"
   ]
  },
  {
   "cell_type": "code",
   "execution_count": 5,
   "id": "db60b9dc",
   "metadata": {},
   "outputs": [
    {
     "name": "stdout",
     "output_type": "stream",
     "text": [
      "Read LP format model from file /tmp/tmp_kd6nyhj.lp\n",
      "Reading time = 0.00 seconds\n",
      ": 72 rows, 190 columns, 720 nonzeros\n"
     ]
    },
    {
     "name": "stdout",
     "output_type": "stream",
     "text": [
      "Read LP format model from file /tmp/tmp_tl4ky69.lp\n",
      "Reading time = 0.00 seconds\n",
      ": 72 rows, 190 columns, 720 nonzeros\n"
     ]
    }
   ],
   "source": [
    "\n",
    "samples_optgp_condition_100 = sample_optgp(ec_cobra_model_condition_100, \n",
    "                                           n_samples = 3000, \n",
    "                                           thinning=100, \n",
    "                                           reaction_in_rows = True)\n",
    "\n",
    "samples_optgp_condition_0 = sample_optgp(ec_cobra_model_condition_0, \n",
    "                                         n_samples = 3000, \n",
    "                                         thinning=100, \n",
    "                                         reaction_in_rows = True)\n"
   ]
  },
  {
   "cell_type": "markdown",
   "id": "63ef9f95",
   "metadata": {},
   "source": [
    "### Map KEGG pathway information to reactions BiGG ids\n",
    "\n",
    "Functions that are used to map information from KEGG pathways to the model reactions (BiGG/SEED ids). For more info see `pathways.ipynb`"
   ]
  },
  {
   "cell_type": "code",
   "execution_count": 5,
   "id": "164c9d67",
   "metadata": {},
   "outputs": [],
   "source": [
    "\n",
    "initial_bigg_to_kegg_dictionary = map_model_to_kegg_reactions_dictionary(ec_cobra_model)\n",
    "\n",
    "reactions_json, reactions_pandas = read_json_file(\"../ext_data/reactions/reactions.json\")\n",
    "\n",
    "bigg_to_kegg, seed_to_kegg = dictionary_reaction_id_to_kegg_id(reactions_pandas)\n",
    "\n",
    "final_bigg_to_kegg_dictionary = fill_missing_kegg_ids_in_initial_dictionary(initial_bigg_to_kegg_dictionary, \n",
    "                                                                            modeltype=\"BiGG\", \n",
    "                                                                            bigg_to_kegg=bigg_to_kegg,\n",
    "                                                                            seed_to_kegg=seed_to_kegg)\n",
    "\n",
    "df_kegg_pathways = get_kegg_pathways_from_reaction_ids(final_bigg_to_kegg_dictionary)\n"
   ]
  },
  {
   "cell_type": "markdown",
   "id": "27bbafb0",
   "metadata": {},
   "source": [
    "### From now on to better illustrate functions related to clustering, we will focus only in certain subsystems of the model (selected pathways of interest). \n",
    "\n",
    "We will subset the sampling array to include only reactions from Glycolysis, Glyconeogenesis and the Pentose phosphate pathway. For more information on how these functions works see: `load_modify_samply.ipynb`"
   ]
  },
  {
   "cell_type": "code",
   "execution_count": 7,
   "id": "8210bc4c",
   "metadata": {},
   "outputs": [],
   "source": [
    "\n",
    "Glycolysis = subset_model_reactions_from_pathway_info(df_kegg_pathways, \"Glycolysis / Gluconeogenesis\")\n",
    "PPP = subset_model_reactions_from_pathway_info(df_kegg_pathways, \"Pentose phosphate pathway\")\n",
    "\n",
    "reactions_in_pathways_ordered_duplicates = sort_reactions_by_model_order(ec_cobra_reaction_ids, Glycolysis, PPP)\n",
    "\n",
    "\n",
    "# Remove duplicates\n",
    "reactions_in_pathways_ordered = []\n",
    "[reactions_in_pathways_ordered.append(val) for val in reactions_in_pathways_ordered_duplicates if val not in reactions_in_pathways_ordered]\n",
    "\n",
    "\n",
    "subset_pathways_optgp_condition_100 = subset_sampling_array_from_reaction_ids(\n",
    "                                                                samples_optgp_condition_100, \n",
    "                                                                ec_cobra_reaction_ids, \n",
    "                                                                subset_reactions = reactions_in_pathways_ordered)\n",
    "\n",
    "\n",
    "subset_pathways_optgp_condition_0 = subset_sampling_array_from_reaction_ids(\n",
    "                                                                samples_optgp_condition_0, \n",
    "                                                                ec_cobra_reaction_ids, \n",
    "                                                                subset_reactions = reactions_in_pathways_ordered)\n"
   ]
  },
  {
   "cell_type": "markdown",
   "id": "bfbbe46f",
   "metadata": {},
   "source": [
    "### Split bidirectional-reversible reactions (having both positive and negative flux values) into two separate reactions (forward and reverse). For more info see: `correlations.ipynb`\n"
   ]
  },
  {
   "cell_type": "code",
   "execution_count": 8,
   "id": "089eaa65",
   "metadata": {},
   "outputs": [
    {
     "name": "stdout",
     "output_type": "stream",
     "text": [
      "21 21\n",
      "25 25\n"
     ]
    }
   ],
   "source": [
    "\n",
    "(subset_extended_steady_states_100,\n",
    " subset_extended_reactions_100) = split_forward_reverse(subset_pathways_optgp_condition_100, \n",
    "                                                        reactions=reactions_in_pathways_ordered)\n",
    "\n",
    "(reversibility_list_all_reactions_100, \n",
    " reactants_list_all_reactions_100,\n",
    " products_list_all_reactions_100) = find_reactants_products(ec_cobra_model, \n",
    "                                                            subset_extended_reactions_100)\n",
    "\n",
    "print(len(reversibility_list_all_reactions_100), len(reactants_list_all_reactions_100))\n",
    "\n",
    "\n",
    "\n",
    "(subset_extended_steady_states_0,\n",
    " subset_extended_reactions_0) = split_forward_reverse(subset_pathways_optgp_condition_0,\n",
    "                                               reactions=reactions_in_pathways_ordered)\n",
    "\n",
    "(reversibility_list_all_reactions_0,\n",
    " reactants_list_all_reactions_0,\n",
    " products_list_all_reactions_0) = find_reactants_products(ec_cobra_model, \n",
    "                                                          subset_extended_reactions_0)\n",
    " \n",
    "print(len(reversibility_list_all_reactions_0), len(reactants_list_all_reactions_0))\n"
   ]
  },
  {
   "cell_type": "markdown",
   "id": "d3ae4d05",
   "metadata": {},
   "source": [
    "### Calculate pairwise linear correlations and non-linear copula dependencies without filtering for sharing metabolites. For more info see: `correlations.ipynb`"
   ]
  },
  {
   "cell_type": "code",
   "execution_count": 9,
   "id": "e4e812b8",
   "metadata": {},
   "outputs": [
    {
     "name": "stdout",
     "output_type": "stream",
     "text": [
      "Completed the process of 30 from 89 copulas\n",
      "Completed the process of 1 from 144 copulas\n",
      "Completed the process of 2 from 144 copulas\n",
      "Completed the process of 3 from 144 copulas\n",
      "Completed the process of 4 from 144 copulas\n",
      "Completed the process of 5 from 144 copulas\n",
      "Completed the process of 6 from 144 copulas\n",
      "Completed the process of 7 from 144 copulas\n",
      "Completed the process of 8 from 144 copulas\n",
      "Completed the process of 9 from 144 copulas\n",
      "Completed the process of 10 from 144 copulas\n",
      "Completed the process of 11 from 144 copulas\n",
      "Completed the process of 12 from 144 copulas\n",
      "Completed the process of 13 from 144 copulas\n",
      "Completed the process of 14 from 144 copulas\n",
      "Completed the process of 15 from 144 copulas\n",
      "Completed the process of 16 from 144 copulas\n",
      "Completed the process of 17 from 144 copulas\n",
      "Completed the process of 18 from 144 copulas\n",
      "Completed the process of 19 from 144 copulas\n",
      "Completed the process of 20 from 144 copulas\n",
      "Completed the process of 21 from 144 copulas\n",
      "Completed the process of 22 from 144 copulas\n",
      "Completed the process of 23 from 144 copulas\n",
      "Completed the process of 24 from 144 copulas\n",
      "Completed the process of 25 from 144 copulas\n",
      "Completed the process of 26 from 144 copulas\n",
      "Completed the process of 27 from 144 copulas\n",
      "Completed the process of 28 from 144 copulas\n",
      "Completed the process of 29 from 144 copulas\n",
      "Completed the process of 30 from 144 copulas\n",
      "Completed the process of 31 from 144 copulas\n",
      "Completed the process of 32 from 144 copulas\n",
      "Completed the process of 33 from 144 copulas\n",
      "Completed the process of 34 from 144 copulas\n",
      "Completed the process of 35 from 144 copulas\n",
      "Completed the process of 36 from 144 copulas\n",
      "Completed the process of 37 from 144 copulas\n",
      "Completed the process of 38 from 144 copulas\n",
      "Completed the process of 39 from 144 copulas\n",
      "Completed the process of 40 from 144 copulas\n",
      "Completed the process of 41 from 144 copulas\n",
      "Completed the process of 42 from 144 copulas\n",
      "Completed the process of 43 from 144 copulas\n",
      "Completed the process of 44 from 144 copulas\n",
      "Completed the process of 45 from 144 copulas\n",
      "Completed the process of 46 from 144 copulas\n",
      "Completed the process of 47 from 144 copulas\n",
      "Completed the process of 48 from 144 copulas\n",
      "Completed the process of 49 from 144 copulas\n",
      "Completed the process of 50 from 144 copulas\n",
      "Completed the process of 51 from 144 copulas\n",
      "Completed the process of 52 from 144 copulas\n",
      "Completed the process of 53 from 144 copulas\n",
      "Completed the process of 54 from 144 copulas\n",
      "Completed the process of 55 from 144 copulas\n",
      "Completed the process of 56 from 144 copulas\n",
      "Completed the process of 57 from 144 copulas\n",
      "Completed the process of 58 from 144 copulas\n",
      "Completed the process of 59 from 144 copulas\n",
      "Completed the process of 60 from 144 copulas\n",
      "Completed the process of 61 from 144 copulas\n",
      "Completed the process of 62 from 144 copulas\n",
      "Completed the process of 63 from 144 copulas\n",
      "Completed the process of 64 from 144 copulas\n",
      "Completed the process of 65 from 144 copulas\n",
      "Completed the process of 66 from 144 copulas\n",
      "Completed the process of 67 from 144 copulas\n",
      "Completed the process of 68 from 144 copulas\n",
      "Completed the process of 69 from 144 copulas\n",
      "Completed the process of 70 from 144 copulas\n",
      "Completed the process of 71 from 144 copulas\n",
      "Completed the process of 72 from 144 copulas\n",
      "Completed the process of 73 from 144 copulas\n",
      "Completed the process of 74 from 144 copulas\n",
      "Completed the process of 75 from 144 copulas\n",
      "Completed the process of 76 from 144 copulas\n",
      "Completed the process of 77 from 144 copulas\n",
      "Completed the process of 78 from 144 copulas\n",
      "Completed the process of 79 from 144 copulas\n",
      "Completed the process of 80 from 144 copulas\n",
      "Completed the process of 81 from 144 copulas\n",
      "Completed the process of 82 from 144 copulas\n",
      "Completed the process of 83 from 144 copulas\n",
      "Completed the process of 84 from 144 copulas\n",
      "Completed the process of 85 from 144 copulas\n",
      "Completed the process of 86 from 144 copulas\n",
      "Completed the process of 87 from 144 copulas\n",
      "Completed the process of 88 from 144 copulas\n",
      "Completed the process of 89 from 144 copulas\n",
      "Completed the process of 90 from 144 copulas\n",
      "Completed the process of 91 from 144 copulas\n",
      "Completed the process of 92 from 144 copulas\n",
      "Completed the process of 93 from 144 copulas\n",
      "Completed the process of 94 from 144 copulas\n",
      "Completed the process of 95 from 144 copulas\n",
      "Completed the process of 96 from 144 copulas\n",
      "Completed the process of 97 from 144 copulas\n",
      "Completed the process of 98 from 144 copulas\n",
      "Completed the process of 99 from 144 copulas\n",
      "Completed the process of 100 from 144 copulas\n",
      "Completed the process of 101 from 144 copulas\n",
      "Completed the process of 102 from 144 copulas\n",
      "Completed the process of 103 from 144 copulas\n",
      "Completed the process of 104 from 144 copulas\n",
      "Completed the process of 105 from 144 copulas\n",
      "Completed the process of 106 from 144 copulas\n",
      "Completed the process of 107 from 144 copulas\n",
      "Completed the process of 108 from 144 copulas\n",
      "Completed the process of 109 from 144 copulas\n",
      "Completed the process of 110 from 144 copulas\n",
      "Completed the process of 111 from 144 copulas\n",
      "Completed the process of 112 from 144 copulas\n",
      "Completed the process of 113 from 144 copulas\n",
      "Completed the process of 114 from 144 copulas\n",
      "Completed the process of 115 from 144 copulas\n",
      "Completed the process of 116 from 144 copulas\n",
      "Completed the process of 117 from 144 copulas\n",
      "Completed the process of 118 from 144 copulas\n",
      "Completed the process of 119 from 144 copulas\n",
      "Completed the process of 120 from 144 copulas\n",
      "Completed the process of 121 from 144 copulas\n",
      "Completed the process of 122 from 144 copulas\n",
      "Completed the process of 123 from 144 copulas\n",
      "Completed the process of 124 from 144 copulas\n",
      "Completed the process of 125 from 144 copulas\n",
      "Completed the process of 126 from 144 copulas\n",
      "Completed the process of 127 from 144 copulas\n",
      "Completed the process of 128 from 144 copulas\n",
      "Completed the process of 129 from 144 copulas\n",
      "Completed the process of 130 from 144 copulas\n",
      "Completed the process of 131 from 144 copulas\n",
      "Completed the process of 132 from 144 copulas\n",
      "Completed the process of 133 from 144 copulas\n",
      "Completed the process of 134 from 144 copulas\n",
      "Completed the process of 135 from 144 copulas\n",
      "Completed the process of 136 from 144 copulas\n",
      "Completed the process of 137 from 144 copulas\n",
      "Completed the process of 138 from 144 copulas\n",
      "Completed the process of 139 from 144 copulas\n",
      "Completed the process of 140 from 144 copulas\n",
      "Completed the process of 141 from 144 copulas\n",
      "Completed the process of 142 from 144 copulas\n",
      "Completed the process of 143 from 144 copulas\n",
      "Completed the process of 144 from 144 copulas\n"
     ]
    }
   ],
   "source": [
    "\n",
    "(subset_linear_correlation_matrix_100, \n",
    "subset_non_linear_correlation_matrix_100, \n",
    "subset_mixed_correlation_matrix_100, \n",
    "subset_correlations_dictionary_100) = correlated_reactions(\n",
    "        steady_states = subset_extended_steady_states_100,\n",
    "        boolean_sharing_metabolites_matrix=None,\n",
    "        reactions=subset_extended_reactions_100,\n",
    "        linear_coeff = \"pearson\",\n",
    "        linear_corr_cutoff = 0.3, \n",
    "        indicator_cutoff = 1.2,\n",
    "        jensenshannon_cutoff = 0.05,\n",
    "        std_cutoff= 1e-2,\n",
    "        include_non_linear = True, \n",
    "        cells = 5, \n",
    "        cop_coeff = 0.2, \n",
    "        lower_triangle = False, \n",
    "        verbose = True\n",
    ")\n",
    "\n",
    "\n",
    "(subset_linear_correlation_matrix_0, \n",
    "subset_non_linear_correlation_matrix_0, \n",
    "subset_mixed_correlation_matrix_0, \n",
    "subset_correlations_dictionary_0) = correlated_reactions(\n",
    "        steady_states = subset_extended_steady_states_0,\n",
    "        boolean_sharing_metabolites_matrix=None,\n",
    "        reactions=subset_extended_reactions_0,\n",
    "        linear_coeff = \"pearson\",\n",
    "        linear_corr_cutoff = 0.3, \n",
    "        indicator_cutoff = 1.2,\n",
    "        jensenshannon_cutoff = 0.05,\n",
    "        std_cutoff= 1e-2,\n",
    "        include_non_linear = True, \n",
    "        cells = 5, \n",
    "        cop_coeff = 0.2, \n",
    "        lower_triangle = False, \n",
    "        verbose = True\n",
    ")\n"
   ]
  },
  {
   "cell_type": "markdown",
   "id": "ae104596",
   "metadata": {},
   "source": [
    "### Create a dictionary that maps reaction ids to pathways from KEGG information and also create 2 dictionaries (one for each condition of the full network) additionally including the mapping of the reverse reactions.\n",
    "\n",
    "The `dictionary_reaction_id_to_pathway` function takes one or multiple lists containing reaction IDs (corresponding to KEGG pathways and creates a dictionary that maps the IDs to pathway names. If a reaction appears in more than 1 pathway, it is classified with the term \"Multiple-Pathways\"\n",
    "\n",
    "The `dictionary_map_reverse_reaction_id_to_pathway` function is used when we split bidirectional reactions to separate forward and reverse reactions. It maps the reverse reaction to the corresponding pathway (the one that the forward reactions maps to). It enriches the dictionary created from the `dictionary_reaction_id_to_pathway` function."
   ]
  },
  {
   "cell_type": "code",
   "execution_count": null,
   "id": "a9892cdf",
   "metadata": {},
   "outputs": [],
   "source": [
    "\n",
    "Glycolysis = subset_model_reactions_from_pathway_info(df_kegg_pathways, \"Glycolysis / Gluconeogenesis\")\n",
    "PPP = subset_model_reactions_from_pathway_info(df_kegg_pathways, \"Pentose phosphate pathway\")\n",
    "\n",
    "bigg_to_pathway_dict = dictionary_reaction_id_to_pathway(Glycolysis = Glycolysis, PPP = PPP)\n",
    "\n",
    "group_map_100 = dictionary_map_reverse_reaction_id_to_pathway(bigg_to_pathway_dict, subset_extended_reactions_100)\n",
    "group_map_0 = dictionary_map_reverse_reaction_id_to_pathway(bigg_to_pathway_dict, subset_extended_reactions_0)\n"
   ]
  },
  {
   "cell_type": "markdown",
   "id": "611acda0",
   "metadata": {},
   "source": [
    "### Perform hierarchical clustering of the correlation matrix and plot the produced dendrogram.\n",
    "\n",
    "The `clustering_of_correlation_matrix` function performs hierarchical clustering of the correlation matrix. It returns the `dissimilarity_matrix` calculated from the given correlation matrix, integer `labels` corresponding to clusters and the `clusters` list which is a nested list containing reaction IDs grouped based on their cluster labels\n",
    "\n",
    "The `plot_dendrogram` function plots the dendrogram from hierarchical clustering\n"
   ]
  },
  {
   "cell_type": "code",
   "execution_count": 11,
   "id": "ac45ca96",
   "metadata": {},
   "outputs": [
    {
     "name": "stderr",
     "output_type": "stream",
     "text": [
      "/home/touliopoulos/project/erasmus/erasmus_2025_project/tests/../src/clustering_utils.py:66: ClusterWarning: The symmetric non-negative hollow observation matrix looks suspiciously like an uncondensed distance matrix\n",
      "  Z = hierarchy.linkage(dissimilarity_matrix, linkage)\n",
      "/home/touliopoulos/project/erasmus/erasmus_2025_project/tests/../src/clustering_utils.py:114: ClusterWarning: The symmetric non-negative hollow observation matrix looks suspiciously like an uncondensed distance matrix\n",
      "  Z = hierarchy.linkage(dissimilarity_matrix, method=linkage)\n"
     ]
    },
    {
     "data": {
      "application/vnd.plotly.v1+json": {
       "config": {
        "plotlyServerURL": "https://plot.ly"
       },
       "data": [
        {
         "hoverinfo": "none",
         "line": {
          "color": "black",
          "width": 1
         },
         "mode": "lines",
         "showlegend": false,
         "type": "scatter",
         "x": [
          25,
          25,
          35,
          35
         ],
         "y": [
          0,
          0,
          0,
          0
         ]
        },
        {
         "hoverinfo": "none",
         "line": {
          "color": "black",
          "width": 1
         },
         "mode": "lines",
         "showlegend": false,
         "type": "scatter",
         "x": [
          15,
          15,
          30,
          30
         ],
         "y": [
          0,
          0.00004777867073926761,
          0.00004777867073926761,
          0
         ]
        },
        {
         "hoverinfo": "none",
         "line": {
          "color": "black",
          "width": 1
         },
         "mode": "lines",
         "showlegend": false,
         "type": "scatter",
         "x": [
          45,
          45,
          55,
          55
         ],
         "y": [
          0,
          2.220446049250313e-16,
          2.220446049250313e-16,
          0
         ]
        },
        {
         "hoverinfo": "none",
         "line": {
          "color": "black",
          "width": 1
         },
         "mode": "lines",
         "showlegend": false,
         "type": "scatter",
         "x": [
          65,
          65,
          75,
          75
         ],
         "y": [
          0,
          3.510833468576701e-16,
          3.510833468576701e-16,
          0
         ]
        },
        {
         "hoverinfo": "none",
         "line": {
          "color": "black",
          "width": 1
         },
         "mode": "lines",
         "showlegend": false,
         "type": "scatter",
         "x": [
          50,
          50,
          70,
          70
         ],
         "y": [
          2.220446049250313e-16,
          0.0003197373186780539,
          0.0003197373186780539,
          3.510833468576701e-16
         ]
        },
        {
         "hoverinfo": "none",
         "line": {
          "color": "black",
          "width": 1
         },
         "mode": "lines",
         "showlegend": false,
         "type": "scatter",
         "x": [
          22.5,
          22.5,
          60,
          60
         ],
         "y": [
          0.00004777867073926761,
          0.0006440570961058464,
          0.0006440570961058464,
          0.0003197373186780539
         ]
        },
        {
         "hoverinfo": "none",
         "line": {
          "color": "black",
          "width": 1
         },
         "mode": "lines",
         "showlegend": false,
         "type": "scatter",
         "x": [
          5,
          5,
          41.25,
          41.25
         ],
         "y": [
          0,
          1.1665085924967293,
          1.1665085924967293,
          0.0006440570961058464
         ]
        },
        {
         "hoverinfo": "none",
         "line": {
          "color": "black",
          "width": 1
         },
         "mode": "lines",
         "showlegend": false,
         "type": "scatter",
         "x": [
          95,
          95,
          105,
          105
         ],
         "y": [
          0,
          2.7194799110210365e-16,
          2.7194799110210365e-16,
          0
         ]
        },
        {
         "hoverinfo": "none",
         "line": {
          "color": "black",
          "width": 1
         },
         "mode": "lines",
         "showlegend": false,
         "type": "scatter",
         "x": [
          115,
          115,
          125,
          125
         ],
         "y": [
          0,
          0.00003180236105730124,
          0.00003180236105730124,
          0
         ]
        },
        {
         "hoverinfo": "none",
         "line": {
          "color": "black",
          "width": 1
         },
         "mode": "lines",
         "showlegend": false,
         "type": "scatter",
         "x": [
          100,
          100,
          120,
          120
         ],
         "y": [
          2.7194799110210365e-16,
          0.00006579924144820629,
          0.00006579924144820629,
          0.00003180236105730124
         ]
        },
        {
         "hoverinfo": "none",
         "line": {
          "color": "black",
          "width": 1
         },
         "mode": "lines",
         "showlegend": false,
         "type": "scatter",
         "x": [
          85,
          85,
          110,
          110
         ],
         "y": [
          0,
          0.0001747651093611149,
          0.0001747651093611149,
          0.00006579924144820629
         ]
        },
        {
         "hoverinfo": "none",
         "line": {
          "color": "black",
          "width": 1
         },
         "mode": "lines",
         "showlegend": false,
         "type": "scatter",
         "x": [
          135,
          135,
          145,
          145
         ],
         "y": [
          0,
          0.00022608842623560887,
          0.00022608842623560887,
          0
         ]
        },
        {
         "hoverinfo": "none",
         "line": {
          "color": "black",
          "width": 1
         },
         "mode": "lines",
         "showlegend": false,
         "type": "scatter",
         "x": [
          97.5,
          97.5,
          140,
          140
         ],
         "y": [
          0.0001747651093611149,
          0.0007945608620128049,
          0.0007945608620128049,
          0.00022608842623560887
         ]
        },
        {
         "hoverinfo": "none",
         "line": {
          "color": "black",
          "width": 1
         },
         "mode": "lines",
         "showlegend": false,
         "type": "scatter",
         "x": [
          195,
          195,
          205,
          205
         ],
         "y": [
          0,
          1.4142135623730951,
          1.4142135623730951,
          0
         ]
        },
        {
         "hoverinfo": "none",
         "line": {
          "color": "black",
          "width": 1
         },
         "mode": "lines",
         "showlegend": false,
         "type": "scatter",
         "x": [
          185,
          185,
          200,
          200
         ],
         "y": [
          0,
          1.5571643024363009,
          1.5571643024363009,
          1.4142135623730951
         ]
        },
        {
         "hoverinfo": "none",
         "line": {
          "color": "black",
          "width": 1
         },
         "mode": "lines",
         "showlegend": false,
         "type": "scatter",
         "x": [
          175,
          175,
          192.5,
          192.5
         ],
         "y": [
          0,
          1.8849655389682174,
          1.8849655389682174,
          1.5571643024363009
         ]
        },
        {
         "hoverinfo": "none",
         "line": {
          "color": "black",
          "width": 1
         },
         "mode": "lines",
         "showlegend": false,
         "type": "scatter",
         "x": [
          165,
          165,
          183.75,
          183.75
         ],
         "y": [
          0,
          2.070323612369484,
          2.070323612369484,
          1.8849655389682174
         ]
        },
        {
         "hoverinfo": "none",
         "line": {
          "color": "black",
          "width": 1
         },
         "mode": "lines",
         "showlegend": false,
         "type": "scatter",
         "x": [
          155,
          155,
          174.375,
          174.375
         ],
         "y": [
          0,
          2.2733008361468685,
          2.2733008361468685,
          2.070323612369484
         ]
        },
        {
         "hoverinfo": "none",
         "line": {
          "color": "black",
          "width": 1
         },
         "mode": "lines",
         "showlegend": false,
         "type": "scatter",
         "x": [
          118.75,
          118.75,
          164.6875,
          164.6875
         ],
         "y": [
          0.0007945608620128049,
          9.353535622494082,
          9.353535622494082,
          2.2733008361468685
         ]
        },
        {
         "hoverinfo": "none",
         "line": {
          "color": "black",
          "width": 1
         },
         "mode": "lines",
         "showlegend": false,
         "type": "scatter",
         "x": [
          23.125,
          23.125,
          141.71875,
          141.71875
         ],
         "y": [
          1.1665085924967293,
          18.655187513395983,
          18.655187513395983,
          9.353535622494082
         ]
        },
        {
         "legendgroup": "Multiple-Pathways",
         "marker": {
          "color": "rgba(255,127,14,1.0)",
          "size": 8
         },
         "mode": "markers+text",
         "name": "Multiple-Pathways",
         "showlegend": true,
         "text": [
          "PFK",
          "FBA",
          "FBP"
         ],
         "textfont": {
          "size": 8
         },
         "textposition": "bottom center",
         "type": "scatter",
         "x": [
          5,
          35,
          185
         ],
         "y": [
          0,
          0,
          0
         ]
        },
        {
         "legendgroup": "PPP",
         "marker": {
          "color": "rgba(44,160,44,1.0)",
          "size": 8
         },
         "mode": "markers+text",
         "name": "PPP",
         "showlegend": true,
         "text": [
          "RPI",
          "RPI_rev",
          "PGL",
          "GND",
          "RPE",
          "TKT1"
         ],
         "textfont": {
          "size": 8
         },
         "textposition": "bottom center",
         "type": "scatter",
         "x": [
          15,
          85,
          95,
          105,
          115,
          125
         ],
         "y": [
          0,
          0,
          0,
          0,
          0,
          0
         ]
        },
        {
         "legendgroup": "Glycolysis",
         "marker": {
          "color": "rgba(31,119,180,1.0)",
          "size": 8
         },
         "mode": "markers+text",
         "name": "Glycolysis",
         "showlegend": true,
         "text": [
          "TPI",
          "PGM_rev",
          "ENO",
          "PGK_rev",
          "GAPD",
          "PGK",
          "PGM",
          "ALCD2x",
          "PYK",
          "ALCD2x_rev",
          "PPCK",
          "PPS"
         ],
         "textfont": {
          "size": 8
         },
         "textposition": "bottom center",
         "type": "scatter",
         "x": [
          25,
          45,
          55,
          65,
          75,
          135,
          145,
          155,
          165,
          175,
          195,
          205
         ],
         "y": [
          0,
          0,
          0,
          0,
          0,
          0,
          0,
          0,
          0,
          0,
          0,
          0
         ]
        }
       ],
       "layout": {
        "height": 600,
        "legend": {
         "title": {
          "text": "Groups"
         }
        },
        "shapes": [
         {
          "line": {
           "color": "gray",
           "dash": "dash",
           "width": 1
          },
          "type": "line",
          "x0": 0,
          "x1": 205,
          "y0": 5,
          "y1": 5
         }
        ],
        "template": {
         "data": {
          "bar": [
           {
            "error_x": {
             "color": "#2a3f5f"
            },
            "error_y": {
             "color": "#2a3f5f"
            },
            "marker": {
             "line": {
              "color": "#E5ECF6",
              "width": 0.5
             },
             "pattern": {
              "fillmode": "overlay",
              "size": 10,
              "solidity": 0.2
             }
            },
            "type": "bar"
           }
          ],
          "barpolar": [
           {
            "marker": {
             "line": {
              "color": "#E5ECF6",
              "width": 0.5
             },
             "pattern": {
              "fillmode": "overlay",
              "size": 10,
              "solidity": 0.2
             }
            },
            "type": "barpolar"
           }
          ],
          "carpet": [
           {
            "aaxis": {
             "endlinecolor": "#2a3f5f",
             "gridcolor": "white",
             "linecolor": "white",
             "minorgridcolor": "white",
             "startlinecolor": "#2a3f5f"
            },
            "baxis": {
             "endlinecolor": "#2a3f5f",
             "gridcolor": "white",
             "linecolor": "white",
             "minorgridcolor": "white",
             "startlinecolor": "#2a3f5f"
            },
            "type": "carpet"
           }
          ],
          "choropleth": [
           {
            "colorbar": {
             "outlinewidth": 0,
             "ticks": ""
            },
            "type": "choropleth"
           }
          ],
          "contour": [
           {
            "colorbar": {
             "outlinewidth": 0,
             "ticks": ""
            },
            "colorscale": [
             [
              0,
              "#0d0887"
             ],
             [
              0.1111111111111111,
              "#46039f"
             ],
             [
              0.2222222222222222,
              "#7201a8"
             ],
             [
              0.3333333333333333,
              "#9c179e"
             ],
             [
              0.4444444444444444,
              "#bd3786"
             ],
             [
              0.5555555555555556,
              "#d8576b"
             ],
             [
              0.6666666666666666,
              "#ed7953"
             ],
             [
              0.7777777777777778,
              "#fb9f3a"
             ],
             [
              0.8888888888888888,
              "#fdca26"
             ],
             [
              1,
              "#f0f921"
             ]
            ],
            "type": "contour"
           }
          ],
          "contourcarpet": [
           {
            "colorbar": {
             "outlinewidth": 0,
             "ticks": ""
            },
            "type": "contourcarpet"
           }
          ],
          "heatmap": [
           {
            "colorbar": {
             "outlinewidth": 0,
             "ticks": ""
            },
            "colorscale": [
             [
              0,
              "#0d0887"
             ],
             [
              0.1111111111111111,
              "#46039f"
             ],
             [
              0.2222222222222222,
              "#7201a8"
             ],
             [
              0.3333333333333333,
              "#9c179e"
             ],
             [
              0.4444444444444444,
              "#bd3786"
             ],
             [
              0.5555555555555556,
              "#d8576b"
             ],
             [
              0.6666666666666666,
              "#ed7953"
             ],
             [
              0.7777777777777778,
              "#fb9f3a"
             ],
             [
              0.8888888888888888,
              "#fdca26"
             ],
             [
              1,
              "#f0f921"
             ]
            ],
            "type": "heatmap"
           }
          ],
          "heatmapgl": [
           {
            "colorbar": {
             "outlinewidth": 0,
             "ticks": ""
            },
            "colorscale": [
             [
              0,
              "#0d0887"
             ],
             [
              0.1111111111111111,
              "#46039f"
             ],
             [
              0.2222222222222222,
              "#7201a8"
             ],
             [
              0.3333333333333333,
              "#9c179e"
             ],
             [
              0.4444444444444444,
              "#bd3786"
             ],
             [
              0.5555555555555556,
              "#d8576b"
             ],
             [
              0.6666666666666666,
              "#ed7953"
             ],
             [
              0.7777777777777778,
              "#fb9f3a"
             ],
             [
              0.8888888888888888,
              "#fdca26"
             ],
             [
              1,
              "#f0f921"
             ]
            ],
            "type": "heatmapgl"
           }
          ],
          "histogram": [
           {
            "marker": {
             "pattern": {
              "fillmode": "overlay",
              "size": 10,
              "solidity": 0.2
             }
            },
            "type": "histogram"
           }
          ],
          "histogram2d": [
           {
            "colorbar": {
             "outlinewidth": 0,
             "ticks": ""
            },
            "colorscale": [
             [
              0,
              "#0d0887"
             ],
             [
              0.1111111111111111,
              "#46039f"
             ],
             [
              0.2222222222222222,
              "#7201a8"
             ],
             [
              0.3333333333333333,
              "#9c179e"
             ],
             [
              0.4444444444444444,
              "#bd3786"
             ],
             [
              0.5555555555555556,
              "#d8576b"
             ],
             [
              0.6666666666666666,
              "#ed7953"
             ],
             [
              0.7777777777777778,
              "#fb9f3a"
             ],
             [
              0.8888888888888888,
              "#fdca26"
             ],
             [
              1,
              "#f0f921"
             ]
            ],
            "type": "histogram2d"
           }
          ],
          "histogram2dcontour": [
           {
            "colorbar": {
             "outlinewidth": 0,
             "ticks": ""
            },
            "colorscale": [
             [
              0,
              "#0d0887"
             ],
             [
              0.1111111111111111,
              "#46039f"
             ],
             [
              0.2222222222222222,
              "#7201a8"
             ],
             [
              0.3333333333333333,
              "#9c179e"
             ],
             [
              0.4444444444444444,
              "#bd3786"
             ],
             [
              0.5555555555555556,
              "#d8576b"
             ],
             [
              0.6666666666666666,
              "#ed7953"
             ],
             [
              0.7777777777777778,
              "#fb9f3a"
             ],
             [
              0.8888888888888888,
              "#fdca26"
             ],
             [
              1,
              "#f0f921"
             ]
            ],
            "type": "histogram2dcontour"
           }
          ],
          "mesh3d": [
           {
            "colorbar": {
             "outlinewidth": 0,
             "ticks": ""
            },
            "type": "mesh3d"
           }
          ],
          "parcoords": [
           {
            "line": {
             "colorbar": {
              "outlinewidth": 0,
              "ticks": ""
             }
            },
            "type": "parcoords"
           }
          ],
          "pie": [
           {
            "automargin": true,
            "type": "pie"
           }
          ],
          "scatter": [
           {
            "fillpattern": {
             "fillmode": "overlay",
             "size": 10,
             "solidity": 0.2
            },
            "type": "scatter"
           }
          ],
          "scatter3d": [
           {
            "line": {
             "colorbar": {
              "outlinewidth": 0,
              "ticks": ""
             }
            },
            "marker": {
             "colorbar": {
              "outlinewidth": 0,
              "ticks": ""
             }
            },
            "type": "scatter3d"
           }
          ],
          "scattercarpet": [
           {
            "marker": {
             "colorbar": {
              "outlinewidth": 0,
              "ticks": ""
             }
            },
            "type": "scattercarpet"
           }
          ],
          "scattergeo": [
           {
            "marker": {
             "colorbar": {
              "outlinewidth": 0,
              "ticks": ""
             }
            },
            "type": "scattergeo"
           }
          ],
          "scattergl": [
           {
            "marker": {
             "colorbar": {
              "outlinewidth": 0,
              "ticks": ""
             }
            },
            "type": "scattergl"
           }
          ],
          "scattermapbox": [
           {
            "marker": {
             "colorbar": {
              "outlinewidth": 0,
              "ticks": ""
             }
            },
            "type": "scattermapbox"
           }
          ],
          "scatterpolar": [
           {
            "marker": {
             "colorbar": {
              "outlinewidth": 0,
              "ticks": ""
             }
            },
            "type": "scatterpolar"
           }
          ],
          "scatterpolargl": [
           {
            "marker": {
             "colorbar": {
              "outlinewidth": 0,
              "ticks": ""
             }
            },
            "type": "scatterpolargl"
           }
          ],
          "scatterternary": [
           {
            "marker": {
             "colorbar": {
              "outlinewidth": 0,
              "ticks": ""
             }
            },
            "type": "scatterternary"
           }
          ],
          "surface": [
           {
            "colorbar": {
             "outlinewidth": 0,
             "ticks": ""
            },
            "colorscale": [
             [
              0,
              "#0d0887"
             ],
             [
              0.1111111111111111,
              "#46039f"
             ],
             [
              0.2222222222222222,
              "#7201a8"
             ],
             [
              0.3333333333333333,
              "#9c179e"
             ],
             [
              0.4444444444444444,
              "#bd3786"
             ],
             [
              0.5555555555555556,
              "#d8576b"
             ],
             [
              0.6666666666666666,
              "#ed7953"
             ],
             [
              0.7777777777777778,
              "#fb9f3a"
             ],
             [
              0.8888888888888888,
              "#fdca26"
             ],
             [
              1,
              "#f0f921"
             ]
            ],
            "type": "surface"
           }
          ],
          "table": [
           {
            "cells": {
             "fill": {
              "color": "#EBF0F8"
             },
             "line": {
              "color": "white"
             }
            },
            "header": {
             "fill": {
              "color": "#C8D4E3"
             },
             "line": {
              "color": "white"
             }
            },
            "type": "table"
           }
          ]
         },
         "layout": {
          "annotationdefaults": {
           "arrowcolor": "#2a3f5f",
           "arrowhead": 0,
           "arrowwidth": 1
          },
          "autotypenumbers": "strict",
          "coloraxis": {
           "colorbar": {
            "outlinewidth": 0,
            "ticks": ""
           }
          },
          "colorscale": {
           "diverging": [
            [
             0,
             "#8e0152"
            ],
            [
             0.1,
             "#c51b7d"
            ],
            [
             0.2,
             "#de77ae"
            ],
            [
             0.3,
             "#f1b6da"
            ],
            [
             0.4,
             "#fde0ef"
            ],
            [
             0.5,
             "#f7f7f7"
            ],
            [
             0.6,
             "#e6f5d0"
            ],
            [
             0.7,
             "#b8e186"
            ],
            [
             0.8,
             "#7fbc41"
            ],
            [
             0.9,
             "#4d9221"
            ],
            [
             1,
             "#276419"
            ]
           ],
           "sequential": [
            [
             0,
             "#0d0887"
            ],
            [
             0.1111111111111111,
             "#46039f"
            ],
            [
             0.2222222222222222,
             "#7201a8"
            ],
            [
             0.3333333333333333,
             "#9c179e"
            ],
            [
             0.4444444444444444,
             "#bd3786"
            ],
            [
             0.5555555555555556,
             "#d8576b"
            ],
            [
             0.6666666666666666,
             "#ed7953"
            ],
            [
             0.7777777777777778,
             "#fb9f3a"
            ],
            [
             0.8888888888888888,
             "#fdca26"
            ],
            [
             1,
             "#f0f921"
            ]
           ],
           "sequentialminus": [
            [
             0,
             "#0d0887"
            ],
            [
             0.1111111111111111,
             "#46039f"
            ],
            [
             0.2222222222222222,
             "#7201a8"
            ],
            [
             0.3333333333333333,
             "#9c179e"
            ],
            [
             0.4444444444444444,
             "#bd3786"
            ],
            [
             0.5555555555555556,
             "#d8576b"
            ],
            [
             0.6666666666666666,
             "#ed7953"
            ],
            [
             0.7777777777777778,
             "#fb9f3a"
            ],
            [
             0.8888888888888888,
             "#fdca26"
            ],
            [
             1,
             "#f0f921"
            ]
           ]
          },
          "colorway": [
           "#636efa",
           "#EF553B",
           "#00cc96",
           "#ab63fa",
           "#FFA15A",
           "#19d3f3",
           "#FF6692",
           "#B6E880",
           "#FF97FF",
           "#FECB52"
          ],
          "font": {
           "color": "#2a3f5f"
          },
          "geo": {
           "bgcolor": "white",
           "lakecolor": "white",
           "landcolor": "#E5ECF6",
           "showlakes": true,
           "showland": true,
           "subunitcolor": "white"
          },
          "hoverlabel": {
           "align": "left"
          },
          "hovermode": "closest",
          "mapbox": {
           "style": "light"
          },
          "paper_bgcolor": "white",
          "plot_bgcolor": "#E5ECF6",
          "polar": {
           "angularaxis": {
            "gridcolor": "white",
            "linecolor": "white",
            "ticks": ""
           },
           "bgcolor": "#E5ECF6",
           "radialaxis": {
            "gridcolor": "white",
            "linecolor": "white",
            "ticks": ""
           }
          },
          "scene": {
           "xaxis": {
            "backgroundcolor": "#E5ECF6",
            "gridcolor": "white",
            "gridwidth": 2,
            "linecolor": "white",
            "showbackground": true,
            "ticks": "",
            "zerolinecolor": "white"
           },
           "yaxis": {
            "backgroundcolor": "#E5ECF6",
            "gridcolor": "white",
            "gridwidth": 2,
            "linecolor": "white",
            "showbackground": true,
            "ticks": "",
            "zerolinecolor": "white"
           },
           "zaxis": {
            "backgroundcolor": "#E5ECF6",
            "gridcolor": "white",
            "gridwidth": 2,
            "linecolor": "white",
            "showbackground": true,
            "ticks": "",
            "zerolinecolor": "white"
           }
          },
          "shapedefaults": {
           "line": {
            "color": "#2a3f5f"
           }
          },
          "ternary": {
           "aaxis": {
            "gridcolor": "white",
            "linecolor": "white",
            "ticks": ""
           },
           "baxis": {
            "gridcolor": "white",
            "linecolor": "white",
            "ticks": ""
           },
           "bgcolor": "#E5ECF6",
           "caxis": {
            "gridcolor": "white",
            "linecolor": "white",
            "ticks": ""
           }
          },
          "title": {
           "x": 0.05
          },
          "xaxis": {
           "automargin": true,
           "gridcolor": "white",
           "linecolor": "white",
           "ticks": "",
           "title": {
            "standoff": 15
           },
           "zerolinecolor": "white",
           "zerolinewidth": 2
          },
          "yaxis": {
           "automargin": true,
           "gridcolor": "white",
           "linecolor": "white",
           "ticks": "",
           "title": {
            "standoff": 15
           },
           "zerolinecolor": "white",
           "zerolinewidth": 2
          }
         }
        },
        "title": {
         "text": ""
        },
        "width": 1000,
        "xaxis": {
         "showticklabels": false
        },
        "yaxis": {
         "title": {
          "text": "Distance"
         }
        }
       }
      }
     },
     "metadata": {},
     "output_type": "display_data"
    },
    {
     "name": "stderr",
     "output_type": "stream",
     "text": [
      "/home/touliopoulos/project/erasmus/erasmus_2025_project/tests/../src/clustering_utils.py:66: ClusterWarning:\n",
      "\n",
      "The symmetric non-negative hollow observation matrix looks suspiciously like an uncondensed distance matrix\n",
      "\n",
      "/home/touliopoulos/project/erasmus/erasmus_2025_project/tests/../src/clustering_utils.py:114: ClusterWarning:\n",
      "\n",
      "The symmetric non-negative hollow observation matrix looks suspiciously like an uncondensed distance matrix\n",
      "\n"
     ]
    },
    {
     "data": {
      "application/vnd.plotly.v1+json": {
       "config": {
        "plotlyServerURL": "https://plot.ly"
       },
       "data": [
        {
         "hoverinfo": "none",
         "line": {
          "color": "black",
          "width": 1
         },
         "mode": "lines",
         "showlegend": false,
         "type": "scatter",
         "x": [
          35,
          35,
          45,
          45
         ],
         "y": [
          0,
          3.510833468576701e-16,
          3.510833468576701e-16,
          0
         ]
        },
        {
         "hoverinfo": "none",
         "line": {
          "color": "black",
          "width": 1
         },
         "mode": "lines",
         "showlegend": false,
         "type": "scatter",
         "x": [
          25,
          25,
          40,
          40
         ],
         "y": [
          0,
          0.0006184179641572622,
          0.0006184179641572622,
          3.510833468576701e-16
         ]
        },
        {
         "hoverinfo": "none",
         "line": {
          "color": "black",
          "width": 1
         },
         "mode": "lines",
         "showlegend": false,
         "type": "scatter",
         "x": [
          15,
          15,
          32.5,
          32.5
         ],
         "y": [
          0,
          0.0012327319572425857,
          0.0012327319572425857,
          0.0006184179641572622
         ]
        },
        {
         "hoverinfo": "none",
         "line": {
          "color": "black",
          "width": 1
         },
         "mode": "lines",
         "showlegend": false,
         "type": "scatter",
         "x": [
          5,
          5,
          23.75,
          23.75
         ],
         "y": [
          0,
          0.002763723155630654,
          0.002763723155630654,
          0.0012327319572425857
         ]
        },
        {
         "hoverinfo": "none",
         "line": {
          "color": "black",
          "width": 1
         },
         "mode": "lines",
         "showlegend": false,
         "type": "scatter",
         "x": [
          55,
          55,
          65,
          65
         ],
         "y": [
          0,
          0,
          0,
          0
         ]
        },
        {
         "hoverinfo": "none",
         "line": {
          "color": "black",
          "width": 1
         },
         "mode": "lines",
         "showlegend": false,
         "type": "scatter",
         "x": [
          75,
          75,
          85,
          85
         ],
         "y": [
          0,
          0.004834703292962561,
          0.004834703292962561,
          0
         ]
        },
        {
         "hoverinfo": "none",
         "line": {
          "color": "black",
          "width": 1
         },
         "mode": "lines",
         "showlegend": false,
         "type": "scatter",
         "x": [
          60,
          60,
          80,
          80
         ],
         "y": [
          0,
          0.17795289786255644,
          0.17795289786255644,
          0.004834703292962561
         ]
        },
        {
         "hoverinfo": "none",
         "line": {
          "color": "black",
          "width": 1
         },
         "mode": "lines",
         "showlegend": false,
         "type": "scatter",
         "x": [
          14.375,
          14.375,
          70,
          70
         ],
         "y": [
          0.002763723155630654,
          0.3281157549294087,
          0.3281157549294087,
          0.17795289786255644
         ]
        },
        {
         "hoverinfo": "none",
         "line": {
          "color": "black",
          "width": 1
         },
         "mode": "lines",
         "showlegend": false,
         "type": "scatter",
         "x": [
          95,
          95,
          105,
          105
         ],
         "y": [
          0,
          3.3306690738754696e-16,
          3.3306690738754696e-16,
          0
         ]
        },
        {
         "hoverinfo": "none",
         "line": {
          "color": "black",
          "width": 1
         },
         "mode": "lines",
         "showlegend": false,
         "type": "scatter",
         "x": [
          115,
          115,
          125,
          125
         ],
         "y": [
          0,
          5.324442579404919e-16,
          5.324442579404919e-16,
          0
         ]
        },
        {
         "hoverinfo": "none",
         "line": {
          "color": "black",
          "width": 1
         },
         "mode": "lines",
         "showlegend": false,
         "type": "scatter",
         "x": [
          100,
          100,
          120,
          120
         ],
         "y": [
          3.3306690738754696e-16,
          0.0068373029669576936,
          0.0068373029669576936,
          5.324442579404919e-16
         ]
        },
        {
         "hoverinfo": "none",
         "line": {
          "color": "black",
          "width": 1
         },
         "mode": "lines",
         "showlegend": false,
         "type": "scatter",
         "x": [
          135,
          135,
          145,
          145
         ],
         "y": [
          0,
          0,
          0,
          0
         ]
        },
        {
         "hoverinfo": "none",
         "line": {
          "color": "black",
          "width": 1
         },
         "mode": "lines",
         "showlegend": false,
         "type": "scatter",
         "x": [
          165,
          165,
          175,
          175
         ],
         "y": [
          0,
          0.0006593377150193219,
          0.0006593377150193219,
          0
         ]
        },
        {
         "hoverinfo": "none",
         "line": {
          "color": "black",
          "width": 1
         },
         "mode": "lines",
         "showlegend": false,
         "type": "scatter",
         "x": [
          155,
          155,
          170,
          170
         ],
         "y": [
          0,
          0.0029658414819180748,
          0.0029658414819180748,
          0.0006593377150193219
         ]
        },
        {
         "hoverinfo": "none",
         "line": {
          "color": "black",
          "width": 1
         },
         "mode": "lines",
         "showlegend": false,
         "type": "scatter",
         "x": [
          140,
          140,
          162.5,
          162.5
         ],
         "y": [
          0,
          0.1755774933096361,
          0.1755774933096361,
          0.0029658414819180748
         ]
        },
        {
         "hoverinfo": "none",
         "line": {
          "color": "black",
          "width": 1
         },
         "mode": "lines",
         "showlegend": false,
         "type": "scatter",
         "x": [
          110,
          110,
          151.25,
          151.25
         ],
         "y": [
          0.0068373029669576936,
          0.36115240551827826,
          0.36115240551827826,
          0.1755774933096361
         ]
        },
        {
         "hoverinfo": "none",
         "line": {
          "color": "black",
          "width": 1
         },
         "mode": "lines",
         "showlegend": false,
         "type": "scatter",
         "x": [
          185,
          185,
          195,
          195
         ],
         "y": [
          0,
          0.45661693826428623,
          0.45661693826428623,
          0
         ]
        },
        {
         "hoverinfo": "none",
         "line": {
          "color": "black",
          "width": 1
         },
         "mode": "lines",
         "showlegend": false,
         "type": "scatter",
         "x": [
          205,
          205,
          215,
          215
         ],
         "y": [
          0,
          1.7320508075688772,
          1.7320508075688772,
          0
         ]
        },
        {
         "hoverinfo": "none",
         "line": {
          "color": "black",
          "width": 1
         },
         "mode": "lines",
         "showlegend": false,
         "type": "scatter",
         "x": [
          190,
          190,
          210,
          210
         ],
         "y": [
          0.45661693826428623,
          2.1474321690053215,
          2.1474321690053215,
          1.7320508075688772
         ]
        },
        {
         "hoverinfo": "none",
         "line": {
          "color": "black",
          "width": 1
         },
         "mode": "lines",
         "showlegend": false,
         "type": "scatter",
         "x": [
          235,
          235,
          245,
          245
         ],
         "y": [
          0,
          0.6506888056409209,
          0.6506888056409209,
          0
         ]
        },
        {
         "hoverinfo": "none",
         "line": {
          "color": "black",
          "width": 1
         },
         "mode": "lines",
         "showlegend": false,
         "type": "scatter",
         "x": [
          225,
          225,
          240,
          240
         ],
         "y": [
          0,
          2.3215816999465946,
          2.3215816999465946,
          0.6506888056409209
         ]
        },
        {
         "hoverinfo": "none",
         "line": {
          "color": "black",
          "width": 1
         },
         "mode": "lines",
         "showlegend": false,
         "type": "scatter",
         "x": [
          200,
          200,
          232.5,
          232.5
         ],
         "y": [
          2.1474321690053215,
          2.6860033978795044,
          2.6860033978795044,
          2.3215816999465946
         ]
        },
        {
         "hoverinfo": "none",
         "line": {
          "color": "black",
          "width": 1
         },
         "mode": "lines",
         "showlegend": false,
         "type": "scatter",
         "x": [
          130.625,
          130.625,
          216.25,
          216.25
         ],
         "y": [
          0.36115240551827826,
          11.5906658644175,
          11.5906658644175,
          2.6860033978795044
         ]
        },
        {
         "hoverinfo": "none",
         "line": {
          "color": "black",
          "width": 1
         },
         "mode": "lines",
         "showlegend": false,
         "type": "scatter",
         "x": [
          42.1875,
          42.1875,
          173.4375,
          173.4375
         ],
         "y": [
          0.3281157549294087,
          22.14010809096969,
          22.14010809096969,
          11.5906658644175
         ]
        },
        {
         "legendgroup": "PPP",
         "marker": {
          "color": "rgba(44,160,44,1.0)",
          "size": 8
         },
         "mode": "markers+text",
         "name": "PPP",
         "showlegend": true,
         "text": [
          "RPI_rev",
          "RPE",
          "TKT1",
          "PGL",
          "GND",
          "RPI",
          "RPE_rev",
          "TKT1_rev"
         ],
         "textfont": {
          "size": 9
         },
         "textposition": "bottom center",
         "type": "scatter",
         "x": [
          5,
          15,
          25,
          35,
          45,
          155,
          165,
          175
         ],
         "y": [
          0,
          0,
          0,
          0,
          0,
          0,
          0,
          0
         ]
        },
        {
         "legendgroup": "Glycolysis",
         "marker": {
          "color": "rgba(31,119,180,1.0)",
          "size": 8
         },
         "mode": "markers+text",
         "name": "Glycolysis",
         "showlegend": true,
         "text": [
          "TPI_rev",
          "PGK",
          "PGM",
          "PGM_rev",
          "ENO",
          "PGK_rev",
          "GAPD",
          "TPI",
          "PPS",
          "PYK",
          "ALCD2x_rev",
          "PPCK",
          "ALCD2x"
         ],
         "textfont": {
          "size": 9
         },
         "textposition": "bottom center",
         "type": "scatter",
         "x": [
          55,
          75,
          85,
          95,
          105,
          115,
          125,
          135,
          185,
          195,
          205,
          215,
          225
         ],
         "y": [
          0,
          0,
          0,
          0,
          0,
          0,
          0,
          0,
          0,
          0,
          0,
          0,
          0
         ]
        },
        {
         "legendgroup": "Multiple-Pathways",
         "marker": {
          "color": "rgba(255,127,14,1.0)",
          "size": 8
         },
         "mode": "markers+text",
         "name": "Multiple-Pathways",
         "showlegend": true,
         "text": [
          "FBA_rev",
          "FBA",
          "PFK",
          "FBP"
         ],
         "textfont": {
          "size": 9
         },
         "textposition": "bottom center",
         "type": "scatter",
         "x": [
          65,
          145,
          235,
          245
         ],
         "y": [
          0,
          0,
          0,
          0
         ]
        }
       ],
       "layout": {
        "height": 600,
        "legend": {
         "title": {
          "text": "Groups"
         }
        },
        "shapes": [
         {
          "line": {
           "color": "gray",
           "dash": "dash",
           "width": 1
          },
          "type": "line",
          "x0": 0,
          "x1": 245,
          "y0": 5,
          "y1": 5
         }
        ],
        "template": {
         "data": {
          "bar": [
           {
            "error_x": {
             "color": "#2a3f5f"
            },
            "error_y": {
             "color": "#2a3f5f"
            },
            "marker": {
             "line": {
              "color": "#E5ECF6",
              "width": 0.5
             },
             "pattern": {
              "fillmode": "overlay",
              "size": 10,
              "solidity": 0.2
             }
            },
            "type": "bar"
           }
          ],
          "barpolar": [
           {
            "marker": {
             "line": {
              "color": "#E5ECF6",
              "width": 0.5
             },
             "pattern": {
              "fillmode": "overlay",
              "size": 10,
              "solidity": 0.2
             }
            },
            "type": "barpolar"
           }
          ],
          "carpet": [
           {
            "aaxis": {
             "endlinecolor": "#2a3f5f",
             "gridcolor": "white",
             "linecolor": "white",
             "minorgridcolor": "white",
             "startlinecolor": "#2a3f5f"
            },
            "baxis": {
             "endlinecolor": "#2a3f5f",
             "gridcolor": "white",
             "linecolor": "white",
             "minorgridcolor": "white",
             "startlinecolor": "#2a3f5f"
            },
            "type": "carpet"
           }
          ],
          "choropleth": [
           {
            "colorbar": {
             "outlinewidth": 0,
             "ticks": ""
            },
            "type": "choropleth"
           }
          ],
          "contour": [
           {
            "colorbar": {
             "outlinewidth": 0,
             "ticks": ""
            },
            "colorscale": [
             [
              0,
              "#0d0887"
             ],
             [
              0.1111111111111111,
              "#46039f"
             ],
             [
              0.2222222222222222,
              "#7201a8"
             ],
             [
              0.3333333333333333,
              "#9c179e"
             ],
             [
              0.4444444444444444,
              "#bd3786"
             ],
             [
              0.5555555555555556,
              "#d8576b"
             ],
             [
              0.6666666666666666,
              "#ed7953"
             ],
             [
              0.7777777777777778,
              "#fb9f3a"
             ],
             [
              0.8888888888888888,
              "#fdca26"
             ],
             [
              1,
              "#f0f921"
             ]
            ],
            "type": "contour"
           }
          ],
          "contourcarpet": [
           {
            "colorbar": {
             "outlinewidth": 0,
             "ticks": ""
            },
            "type": "contourcarpet"
           }
          ],
          "heatmap": [
           {
            "colorbar": {
             "outlinewidth": 0,
             "ticks": ""
            },
            "colorscale": [
             [
              0,
              "#0d0887"
             ],
             [
              0.1111111111111111,
              "#46039f"
             ],
             [
              0.2222222222222222,
              "#7201a8"
             ],
             [
              0.3333333333333333,
              "#9c179e"
             ],
             [
              0.4444444444444444,
              "#bd3786"
             ],
             [
              0.5555555555555556,
              "#d8576b"
             ],
             [
              0.6666666666666666,
              "#ed7953"
             ],
             [
              0.7777777777777778,
              "#fb9f3a"
             ],
             [
              0.8888888888888888,
              "#fdca26"
             ],
             [
              1,
              "#f0f921"
             ]
            ],
            "type": "heatmap"
           }
          ],
          "heatmapgl": [
           {
            "colorbar": {
             "outlinewidth": 0,
             "ticks": ""
            },
            "colorscale": [
             [
              0,
              "#0d0887"
             ],
             [
              0.1111111111111111,
              "#46039f"
             ],
             [
              0.2222222222222222,
              "#7201a8"
             ],
             [
              0.3333333333333333,
              "#9c179e"
             ],
             [
              0.4444444444444444,
              "#bd3786"
             ],
             [
              0.5555555555555556,
              "#d8576b"
             ],
             [
              0.6666666666666666,
              "#ed7953"
             ],
             [
              0.7777777777777778,
              "#fb9f3a"
             ],
             [
              0.8888888888888888,
              "#fdca26"
             ],
             [
              1,
              "#f0f921"
             ]
            ],
            "type": "heatmapgl"
           }
          ],
          "histogram": [
           {
            "marker": {
             "pattern": {
              "fillmode": "overlay",
              "size": 10,
              "solidity": 0.2
             }
            },
            "type": "histogram"
           }
          ],
          "histogram2d": [
           {
            "colorbar": {
             "outlinewidth": 0,
             "ticks": ""
            },
            "colorscale": [
             [
              0,
              "#0d0887"
             ],
             [
              0.1111111111111111,
              "#46039f"
             ],
             [
              0.2222222222222222,
              "#7201a8"
             ],
             [
              0.3333333333333333,
              "#9c179e"
             ],
             [
              0.4444444444444444,
              "#bd3786"
             ],
             [
              0.5555555555555556,
              "#d8576b"
             ],
             [
              0.6666666666666666,
              "#ed7953"
             ],
             [
              0.7777777777777778,
              "#fb9f3a"
             ],
             [
              0.8888888888888888,
              "#fdca26"
             ],
             [
              1,
              "#f0f921"
             ]
            ],
            "type": "histogram2d"
           }
          ],
          "histogram2dcontour": [
           {
            "colorbar": {
             "outlinewidth": 0,
             "ticks": ""
            },
            "colorscale": [
             [
              0,
              "#0d0887"
             ],
             [
              0.1111111111111111,
              "#46039f"
             ],
             [
              0.2222222222222222,
              "#7201a8"
             ],
             [
              0.3333333333333333,
              "#9c179e"
             ],
             [
              0.4444444444444444,
              "#bd3786"
             ],
             [
              0.5555555555555556,
              "#d8576b"
             ],
             [
              0.6666666666666666,
              "#ed7953"
             ],
             [
              0.7777777777777778,
              "#fb9f3a"
             ],
             [
              0.8888888888888888,
              "#fdca26"
             ],
             [
              1,
              "#f0f921"
             ]
            ],
            "type": "histogram2dcontour"
           }
          ],
          "mesh3d": [
           {
            "colorbar": {
             "outlinewidth": 0,
             "ticks": ""
            },
            "type": "mesh3d"
           }
          ],
          "parcoords": [
           {
            "line": {
             "colorbar": {
              "outlinewidth": 0,
              "ticks": ""
             }
            },
            "type": "parcoords"
           }
          ],
          "pie": [
           {
            "automargin": true,
            "type": "pie"
           }
          ],
          "scatter": [
           {
            "fillpattern": {
             "fillmode": "overlay",
             "size": 10,
             "solidity": 0.2
            },
            "type": "scatter"
           }
          ],
          "scatter3d": [
           {
            "line": {
             "colorbar": {
              "outlinewidth": 0,
              "ticks": ""
             }
            },
            "marker": {
             "colorbar": {
              "outlinewidth": 0,
              "ticks": ""
             }
            },
            "type": "scatter3d"
           }
          ],
          "scattercarpet": [
           {
            "marker": {
             "colorbar": {
              "outlinewidth": 0,
              "ticks": ""
             }
            },
            "type": "scattercarpet"
           }
          ],
          "scattergeo": [
           {
            "marker": {
             "colorbar": {
              "outlinewidth": 0,
              "ticks": ""
             }
            },
            "type": "scattergeo"
           }
          ],
          "scattergl": [
           {
            "marker": {
             "colorbar": {
              "outlinewidth": 0,
              "ticks": ""
             }
            },
            "type": "scattergl"
           }
          ],
          "scattermapbox": [
           {
            "marker": {
             "colorbar": {
              "outlinewidth": 0,
              "ticks": ""
             }
            },
            "type": "scattermapbox"
           }
          ],
          "scatterpolar": [
           {
            "marker": {
             "colorbar": {
              "outlinewidth": 0,
              "ticks": ""
             }
            },
            "type": "scatterpolar"
           }
          ],
          "scatterpolargl": [
           {
            "marker": {
             "colorbar": {
              "outlinewidth": 0,
              "ticks": ""
             }
            },
            "type": "scatterpolargl"
           }
          ],
          "scatterternary": [
           {
            "marker": {
             "colorbar": {
              "outlinewidth": 0,
              "ticks": ""
             }
            },
            "type": "scatterternary"
           }
          ],
          "surface": [
           {
            "colorbar": {
             "outlinewidth": 0,
             "ticks": ""
            },
            "colorscale": [
             [
              0,
              "#0d0887"
             ],
             [
              0.1111111111111111,
              "#46039f"
             ],
             [
              0.2222222222222222,
              "#7201a8"
             ],
             [
              0.3333333333333333,
              "#9c179e"
             ],
             [
              0.4444444444444444,
              "#bd3786"
             ],
             [
              0.5555555555555556,
              "#d8576b"
             ],
             [
              0.6666666666666666,
              "#ed7953"
             ],
             [
              0.7777777777777778,
              "#fb9f3a"
             ],
             [
              0.8888888888888888,
              "#fdca26"
             ],
             [
              1,
              "#f0f921"
             ]
            ],
            "type": "surface"
           }
          ],
          "table": [
           {
            "cells": {
             "fill": {
              "color": "#EBF0F8"
             },
             "line": {
              "color": "white"
             }
            },
            "header": {
             "fill": {
              "color": "#C8D4E3"
             },
             "line": {
              "color": "white"
             }
            },
            "type": "table"
           }
          ]
         },
         "layout": {
          "annotationdefaults": {
           "arrowcolor": "#2a3f5f",
           "arrowhead": 0,
           "arrowwidth": 1
          },
          "autotypenumbers": "strict",
          "coloraxis": {
           "colorbar": {
            "outlinewidth": 0,
            "ticks": ""
           }
          },
          "colorscale": {
           "diverging": [
            [
             0,
             "#8e0152"
            ],
            [
             0.1,
             "#c51b7d"
            ],
            [
             0.2,
             "#de77ae"
            ],
            [
             0.3,
             "#f1b6da"
            ],
            [
             0.4,
             "#fde0ef"
            ],
            [
             0.5,
             "#f7f7f7"
            ],
            [
             0.6,
             "#e6f5d0"
            ],
            [
             0.7,
             "#b8e186"
            ],
            [
             0.8,
             "#7fbc41"
            ],
            [
             0.9,
             "#4d9221"
            ],
            [
             1,
             "#276419"
            ]
           ],
           "sequential": [
            [
             0,
             "#0d0887"
            ],
            [
             0.1111111111111111,
             "#46039f"
            ],
            [
             0.2222222222222222,
             "#7201a8"
            ],
            [
             0.3333333333333333,
             "#9c179e"
            ],
            [
             0.4444444444444444,
             "#bd3786"
            ],
            [
             0.5555555555555556,
             "#d8576b"
            ],
            [
             0.6666666666666666,
             "#ed7953"
            ],
            [
             0.7777777777777778,
             "#fb9f3a"
            ],
            [
             0.8888888888888888,
             "#fdca26"
            ],
            [
             1,
             "#f0f921"
            ]
           ],
           "sequentialminus": [
            [
             0,
             "#0d0887"
            ],
            [
             0.1111111111111111,
             "#46039f"
            ],
            [
             0.2222222222222222,
             "#7201a8"
            ],
            [
             0.3333333333333333,
             "#9c179e"
            ],
            [
             0.4444444444444444,
             "#bd3786"
            ],
            [
             0.5555555555555556,
             "#d8576b"
            ],
            [
             0.6666666666666666,
             "#ed7953"
            ],
            [
             0.7777777777777778,
             "#fb9f3a"
            ],
            [
             0.8888888888888888,
             "#fdca26"
            ],
            [
             1,
             "#f0f921"
            ]
           ]
          },
          "colorway": [
           "#636efa",
           "#EF553B",
           "#00cc96",
           "#ab63fa",
           "#FFA15A",
           "#19d3f3",
           "#FF6692",
           "#B6E880",
           "#FF97FF",
           "#FECB52"
          ],
          "font": {
           "color": "#2a3f5f"
          },
          "geo": {
           "bgcolor": "white",
           "lakecolor": "white",
           "landcolor": "#E5ECF6",
           "showlakes": true,
           "showland": true,
           "subunitcolor": "white"
          },
          "hoverlabel": {
           "align": "left"
          },
          "hovermode": "closest",
          "mapbox": {
           "style": "light"
          },
          "paper_bgcolor": "white",
          "plot_bgcolor": "#E5ECF6",
          "polar": {
           "angularaxis": {
            "gridcolor": "white",
            "linecolor": "white",
            "ticks": ""
           },
           "bgcolor": "#E5ECF6",
           "radialaxis": {
            "gridcolor": "white",
            "linecolor": "white",
            "ticks": ""
           }
          },
          "scene": {
           "xaxis": {
            "backgroundcolor": "#E5ECF6",
            "gridcolor": "white",
            "gridwidth": 2,
            "linecolor": "white",
            "showbackground": true,
            "ticks": "",
            "zerolinecolor": "white"
           },
           "yaxis": {
            "backgroundcolor": "#E5ECF6",
            "gridcolor": "white",
            "gridwidth": 2,
            "linecolor": "white",
            "showbackground": true,
            "ticks": "",
            "zerolinecolor": "white"
           },
           "zaxis": {
            "backgroundcolor": "#E5ECF6",
            "gridcolor": "white",
            "gridwidth": 2,
            "linecolor": "white",
            "showbackground": true,
            "ticks": "",
            "zerolinecolor": "white"
           }
          },
          "shapedefaults": {
           "line": {
            "color": "#2a3f5f"
           }
          },
          "ternary": {
           "aaxis": {
            "gridcolor": "white",
            "linecolor": "white",
            "ticks": ""
           },
           "baxis": {
            "gridcolor": "white",
            "linecolor": "white",
            "ticks": ""
           },
           "bgcolor": "#E5ECF6",
           "caxis": {
            "gridcolor": "white",
            "linecolor": "white",
            "ticks": ""
           }
          },
          "title": {
           "x": 0.05
          },
          "xaxis": {
           "automargin": true,
           "gridcolor": "white",
           "linecolor": "white",
           "ticks": "",
           "title": {
            "standoff": 15
           },
           "zerolinecolor": "white",
           "zerolinewidth": 2
          },
          "yaxis": {
           "automargin": true,
           "gridcolor": "white",
           "linecolor": "white",
           "ticks": "",
           "title": {
            "standoff": 15
           },
           "zerolinecolor": "white",
           "zerolinewidth": 2
          }
         }
        },
        "title": {
         "text": ""
        },
        "width": 1000,
        "xaxis": {
         "showticklabels": false
        },
        "yaxis": {
         "title": {
          "text": "Distance"
         }
        }
       }
      }
     },
     "metadata": {},
     "output_type": "display_data"
    }
   ],
   "source": [
    "\n",
    "(dissimilarity_matrix_100,\n",
    "labels_100,\n",
    "clusters_100) = clustering_of_correlation_matrix(subset_mixed_correlation_matrix_100, \n",
    "                                                reactions=subset_extended_reactions_100, \n",
    "                                                linkage=\"ward\", \n",
    "                                                t = 1.0, \n",
    "                                                correction=False)\n",
    "\n",
    "plot_dendrogram(dissimilarity_matrix_100, \n",
    "                subset_extended_reactions_100, \n",
    "                show_labels = True, \n",
    "                t = 5, \n",
    "                linkage = \"ward\", \n",
    "                group_map=group_map_100,\n",
    "                label_fontsize = 8)\n",
    "\n",
    "\n",
    "\n",
    "(dissimilarity_matrix_0,\n",
    "labels_0,\n",
    "clusters_0) = clustering_of_correlation_matrix(subset_mixed_correlation_matrix_0, \n",
    "                                                reactions=subset_extended_reactions_0, \n",
    "                                                linkage=\"ward\", \n",
    "                                                t = 1.0, \n",
    "                                                correction=False)\n",
    "\n",
    "plot_dendrogram(dissimilarity_matrix_0, \n",
    "                subset_extended_reactions_0, \n",
    "                show_labels = True, \n",
    "                t = 5, \n",
    "                linkage = \"ward\", \n",
    "                group_map=group_map_0,\n",
    "                label_fontsize = 9)\n"
   ]
  },
  {
   "cell_type": "markdown",
   "id": "c8c2a4ce",
   "metadata": {},
   "source": [
    "### Benchmark clustering methods. \n",
    "\n",
    "In the `clustering_of_correlation_matrix` function we have implemented only the hierarchical (Agglomerative) clustering of the correlation matrix. However, other powerful clustering algorithms exist and we encourage users to test the different methods and decide which they are going to use.\n",
    "\n",
    "First, we start with the elbow method to find the ideal number of clusters, as some of the clustering algorithms used below use this as a parameter.\n",
    "\n",
    "Here, we can see that `n_clusers` = 3, seems to produce better results"
   ]
  },
  {
   "cell_type": "code",
   "execution_count": 19,
   "id": "fa74642d",
   "metadata": {},
   "outputs": [
    {
     "name": "stderr",
     "output_type": "stream",
     "text": [
      "/home/touliopoulos/miniconda3/envs/dingo-stats-3-10/lib/python3.10/site-packages/sklearn/cluster/_kmeans.py:870: FutureWarning:\n",
      "\n",
      "The default value of `n_init` will change from 10 to 'auto' in 1.4. Set the value of `n_init` explicitly to suppress the warning\n",
      "\n",
      "/home/touliopoulos/miniconda3/envs/dingo-stats-3-10/lib/python3.10/site-packages/sklearn/cluster/_kmeans.py:870: FutureWarning:\n",
      "\n",
      "The default value of `n_init` will change from 10 to 'auto' in 1.4. Set the value of `n_init` explicitly to suppress the warning\n",
      "\n",
      "/home/touliopoulos/miniconda3/envs/dingo-stats-3-10/lib/python3.10/site-packages/sklearn/cluster/_kmeans.py:870: FutureWarning:\n",
      "\n",
      "The default value of `n_init` will change from 10 to 'auto' in 1.4. Set the value of `n_init` explicitly to suppress the warning\n",
      "\n",
      "/home/touliopoulos/miniconda3/envs/dingo-stats-3-10/lib/python3.10/site-packages/sklearn/cluster/_kmeans.py:870: FutureWarning:\n",
      "\n",
      "The default value of `n_init` will change from 10 to 'auto' in 1.4. Set the value of `n_init` explicitly to suppress the warning\n",
      "\n",
      "/home/touliopoulos/miniconda3/envs/dingo-stats-3-10/lib/python3.10/site-packages/sklearn/cluster/_kmeans.py:870: FutureWarning:\n",
      "\n",
      "The default value of `n_init` will change from 10 to 'auto' in 1.4. Set the value of `n_init` explicitly to suppress the warning\n",
      "\n",
      "/home/touliopoulos/miniconda3/envs/dingo-stats-3-10/lib/python3.10/site-packages/sklearn/cluster/_kmeans.py:870: FutureWarning:\n",
      "\n",
      "The default value of `n_init` will change from 10 to 'auto' in 1.4. Set the value of `n_init` explicitly to suppress the warning\n",
      "\n",
      "/home/touliopoulos/miniconda3/envs/dingo-stats-3-10/lib/python3.10/site-packages/sklearn/cluster/_kmeans.py:870: FutureWarning:\n",
      "\n",
      "The default value of `n_init` will change from 10 to 'auto' in 1.4. Set the value of `n_init` explicitly to suppress the warning\n",
      "\n",
      "/home/touliopoulos/miniconda3/envs/dingo-stats-3-10/lib/python3.10/site-packages/sklearn/cluster/_kmeans.py:870: FutureWarning:\n",
      "\n",
      "The default value of `n_init` will change from 10 to 'auto' in 1.4. Set the value of `n_init` explicitly to suppress the warning\n",
      "\n",
      "/home/touliopoulos/miniconda3/envs/dingo-stats-3-10/lib/python3.10/site-packages/sklearn/cluster/_kmeans.py:870: FutureWarning:\n",
      "\n",
      "The default value of `n_init` will change from 10 to 'auto' in 1.4. Set the value of `n_init` explicitly to suppress the warning\n",
      "\n",
      "/home/touliopoulos/miniconda3/envs/dingo-stats-3-10/lib/python3.10/site-packages/sklearn/cluster/_kmeans.py:870: FutureWarning:\n",
      "\n",
      "The default value of `n_init` will change from 10 to 'auto' in 1.4. Set the value of `n_init` explicitly to suppress the warning\n",
      "\n"
     ]
    },
    {
     "data": {
      "image/png": "[encoded data removed]",
      "text/plain": [
       "<Figure size 640x480 with 1 Axes>"
      ]
     },
     "metadata": {},
     "output_type": "display_data"
    }
   ],
   "source": [
    "\n",
    "from sklearn.cluster import KMeans\n",
    "import matplotlib.pyplot as plt\n",
    "\n",
    "\n",
    "X = subset_mixed_correlation_matrix_0.copy()\n",
    "\n",
    "wcss = []\n",
    "for i in range(1, 11):\n",
    "    kmeans = KMeans(n_clusters = i, init = 'k-means++',\n",
    "                random_state = 42)\n",
    "    kmeans.fit(X)\n",
    "    wcss.append(kmeans.inertia_)\n",
    "    \n",
    "\n",
    "plt.plot(range(1, 11), wcss)\n",
    "plt.title('The Elbow Method')\n",
    "plt.xlabel('Number of clusters')\n",
    "plt.ylabel('WCSS')\n",
    "plt.show()\n"
   ]
  },
  {
   "cell_type": "markdown",
   "id": "b4691139",
   "metadata": {},
   "source": [
    "### Benchmark across KMeans, AgglomerativeClustering, DBSCAN, HDBSCAN and SpectralClustering clustering methods with the Silhouette, Calinski-Harabasz and Davies-Bouldin scores.\n",
    "\n",
    "Here, we benchmark across these clustering methods and provide some metrics to give insights on clustering quality:\n",
    "- `Silhouette` Score: Scores closer to 1 are better\n",
    "- `Calinski-Harabasz` Score: Higher scores are better\n",
    "- `Davies-Bouldin` Score: Lower scores are better"
   ]
  },
  {
   "cell_type": "code",
   "execution_count": 20,
   "id": "99a5103a",
   "metadata": {},
   "outputs": [
    {
     "name": "stderr",
     "output_type": "stream",
     "text": [
      "/home/touliopoulos/miniconda3/envs/dingo-stats-3-10/lib/python3.10/site-packages/sklearn/cluster/_kmeans.py:870: FutureWarning:\n",
      "\n",
      "The default value of `n_init` will change from 10 to 'auto' in 1.4. Set the value of `n_init` explicitly to suppress the warning\n",
      "\n",
      "/home/touliopoulos/miniconda3/envs/dingo-stats-3-10/lib/python3.10/site-packages/sklearn/cluster/_spectral.py:717: UserWarning:\n",
      "\n",
      "The spectral clustering API has changed. ``fit``now constructs an affinity matrix from data. To use a custom affinity matrix, set ``affinity=precomputed``.\n",
      "\n"
     ]
    },
    {
     "name": "stdout",
     "output_type": "stream",
     "text": [
      "\n",
      "KMeans Evaluation:\n",
      "Silhouette Score:        0.8567\n",
      "Calinski-Harabasz Score: 321.7593\n",
      "Davies-Bouldin Score:    0.3168\n",
      "\n",
      "Agglomerative Evaluation:\n",
      "Silhouette Score:        0.8567\n",
      "Calinski-Harabasz Score: 321.7593\n",
      "Davies-Bouldin Score:    0.3168\n",
      "\n",
      "DBSCAN Evaluation:\n",
      "Silhouette Score:        0.8567\n",
      "Calinski-Harabasz Score: 321.7593\n",
      "Davies-Bouldin Score:    0.3168\n",
      "\n",
      "HDBSCAN Evaluation:\n",
      "Silhouette Score:        0.7811\n",
      "Calinski-Harabasz Score: 207.2086\n",
      "Davies-Bouldin Score:    0.3169\n",
      "\n",
      "Spectral Evaluation:\n",
      "Silhouette Score:        0.8567\n",
      "Calinski-Harabasz Score: 321.7593\n",
      "Davies-Bouldin Score:    0.3168\n"
     ]
    }
   ],
   "source": [
    "\n",
    "from sklearn.cluster import KMeans, AgglomerativeClustering, DBSCAN, SpectralClustering\n",
    "import hdbscan\n",
    "from sklearn.metrics import silhouette_score, calinski_harabasz_score, davies_bouldin_score\n",
    "from scipy.spatial.distance import squareform\n",
    "import numpy as np\n",
    "\n",
    "X = subset_mixed_correlation_matrix_0.copy()\n",
    "\n",
    "# Number of clusters\n",
    "n_clusters = 3\n",
    "\n",
    "\n",
    "# KMeans\n",
    "kmeans_labels = KMeans(n_clusters=n_clusters, random_state=42).fit_predict(X)\n",
    "\n",
    "# Agglomerative (sklearn)\n",
    "agg_labels = AgglomerativeClustering(n_clusters=n_clusters, metric='euclidean', linkage='average').fit_predict(X)\n",
    "\n",
    "dbscan = DBSCAN(eps=0.5, min_samples=n_clusters)\n",
    "dbscan_labels = dbscan.fit_predict(X)\n",
    "\n",
    "hdb = hdbscan.HDBSCAN(min_cluster_size=n_clusters)\n",
    "hdbscan_labels = hdb.fit_predict(X)\n",
    "\n",
    "spectral_labels = SpectralClustering(n_clusters=n_clusters, affinity='nearest_neighbors', random_state=42).fit_predict(X)\n",
    "\n",
    "# Hierarchical (scipy) same as AgglomerativeClustering\n",
    "#Z = hierarchy.linkage(dissimilarity, method='average')  # You can change method to 'ward', 'single', etc.\n",
    "#hier_labels = hierarchy.fcluster(Z, t=n_clusters, criterion='maxclust')\n",
    "\n",
    "\n",
    "clusterings = {}\n",
    "\n",
    "clusterings[\"KMeans\"] = kmeans_labels\n",
    "clusterings[\"Agglomerative\"] = agg_labels\n",
    "clusterings[\"DBSCAN\"] = dbscan_labels\n",
    "clusterings[\"HDBSCAN\"] = hdbscan_labels\n",
    "clusterings[\"Spectral\"] = spectral_labels\n",
    "\n",
    "\n",
    "def evaluate(X, labels, name):\n",
    "    labels = np.array(labels)\n",
    "    if len(np.unique(labels)) < 2 or np.all(labels == -1):\n",
    "        print(f\"\\n{name}: Not enough clusters to evaluate.\")\n",
    "        return\n",
    "    \n",
    "    print(f\"\\n{name} Evaluation:\")\n",
    "    \n",
    "    # Scores closer to 1 are better\n",
    "    print(f\"Silhouette Score:        {silhouette_score(X, labels):.4f}\")\n",
    "    # Higher scores are better\n",
    "    print(f\"Calinski-Harabasz Score: {calinski_harabasz_score(X, labels):.4f}\")\n",
    "    # Lower scores are better\n",
    "    print(f\"Davies-Bouldin Score:    {davies_bouldin_score(X, labels):.4f}\")\n",
    "\n",
    "\n",
    "for name, labels in clusterings.items():\n",
    "    evaluate(X, labels, name)\n",
    "    \n"
   ]
  },
  {
   "cell_type": "markdown",
   "id": "6db7e651",
   "metadata": {},
   "source": [
    "### Use PCA and tSNE to reduce the dimensions of the correlation matrix"
   ]
  },
  {
   "cell_type": "code",
   "execution_count": 21,
   "id": "e13573f7",
   "metadata": {},
   "outputs": [],
   "source": [
    "\n",
    "import matplotlib.pyplot as plt\n",
    "from sklearn.decomposition import PCA\n",
    "from sklearn.manifold import TSNE\n",
    "\n",
    "\n",
    "pca = PCA(n_components=2)\n",
    "X_pca = pca.fit_transform(X)\n",
    "\n",
    "X_tsne = TSNE(n_components=2, perplexity=3, random_state=42).fit_transform(X)\n",
    "\n",
    "\n",
    "def plot_clusters(embedding, labels, title, ax):\n",
    "    labels = np.array(labels)\n",
    "    unique_labels = np.unique(labels)\n",
    "    for lab in unique_labels:\n",
    "        mask = labels == lab\n",
    "        ax.scatter(embedding[mask, 0], embedding[mask, 1], label=f\"Cluster {lab}\", s=80)\n",
    "    ax.set_title(title)\n",
    "    ax.legend()\n",
    "\n"
   ]
  },
  {
   "cell_type": "markdown",
   "id": "86780106",
   "metadata": {},
   "source": [
    "### Plot the first 2 PCA dimensions with data points coloured based on different clustering methhods results "
   ]
  },
  {
   "cell_type": "code",
   "execution_count": 22,
   "id": "225d9ffa",
   "metadata": {},
   "outputs": [
    {
     "data": {
      "image/png": "[encoded data removed]",
      "text/plain": [
       "<Figure size 1600x1000 with 6 Axes>"
      ]
     },
     "metadata": {},
     "output_type": "display_data"
    }
   ],
   "source": [
    "\n",
    "fig, axes = plt.subplots(2, 3, figsize=(16, 10))\n",
    "axes = axes.ravel()\n",
    "\n",
    "for i, (name, labels) in enumerate(clusterings.items()):\n",
    "    plot_clusters(X_pca, labels, f\"{name} (PCA)\", axes[i])\n",
    "\n",
    "plt.show()\n"
   ]
  },
  {
   "cell_type": "markdown",
   "id": "60997091",
   "metadata": {},
   "source": [
    "### Plot the first 2 tSNE dimensions with data points coloured based on different clustering methhods results "
   ]
  },
  {
   "cell_type": "code",
   "execution_count": 23,
   "id": "7e05a046",
   "metadata": {},
   "outputs": [
    {
     "data": {
      "image/png": "[encoded data removed]",
      "text/plain": [
       "<Figure size 1600x1000 with 6 Axes>"
      ]
     },
     "metadata": {},
     "output_type": "display_data"
    }
   ],
   "source": [
    "\n",
    "fig, axes = plt.subplots(2, 3, figsize=(16, 10))\n",
    "axes = axes.ravel()\n",
    "\n",
    "for i, (name, labels) in enumerate(clusterings.items()):\n",
    "    plot_clusters(X_tsne, labels, f\"{name} (tSNE)\", axes[i])\n",
    "\n",
    "plt.show()\n"
   ]
  }
 ],
 "metadata": {
  "kernelspec": {
   "display_name": "dingo-stats-3-10",
   "language": "python",
   "name": "python3"
  },
  "language_info": {
   "codemirror_mode": {
    "name": "ipython",
    "version": 3
   },
   "file_extension": ".py",
   "mimetype": "text/x-python",
   "name": "python",
   "nbconvert_exporter": "python",
   "pygments_lexer": "ipython3",
   "version": "3.10.18"
  }
 },
 "nbformat": 4,
 "nbformat_minor": 5
}
