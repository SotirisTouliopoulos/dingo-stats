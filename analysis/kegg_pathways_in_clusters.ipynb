{
 "cells": [
  {
   "cell_type": "markdown",
   "id": "85bacc8b",
   "metadata": {},
   "source": [
    "### Load libraries"
   ]
  },
  {
   "cell_type": "code",
   "execution_count": null,
   "id": "23bcdcc6",
   "metadata": {},
   "outputs": [
    {
     "name": "stderr",
     "output_type": "stream",
     "text": [
      "/home/touliopoulos/.local/lib/python3.10/site-packages/pandas/core/computation/expressions.py:21: UserWarning: Pandas requires version '2.8.4' or newer of 'numexpr' (version '2.8.1' currently installed).\n",
      "  from pandas.core.computation.check import NUMEXPR_INSTALLED\n",
      "/home/touliopoulos/.local/lib/python3.10/site-packages/pandas/core/arrays/masked.py:60: UserWarning: Pandas requires version '1.3.6' or newer of 'bottleneck' (version '1.3.2' currently installed).\n",
      "  from pandas.core import (\n",
      "/home/touliopoulos/.local/lib/python3.10/site-packages/matplotlib/projections/__init__.py:63: UserWarning: Unable to import Axes3D. This may be due to multiple versions of Matplotlib being installed (e.g. as a system package and as a pip package). As a result, the 3D projection is not available.\n",
      "  warnings.warn(\"Unable to import Axes3D. This may be due to multiple versions of \"\n"
     ]
    }
   ],
   "source": [
    "\n",
    "import sys\n",
    "sys.path.insert(0, '../scripts/')\n",
    "from load_modify_sample_utils import load_model, get_objective_functions, get_reaction_bounds, modify_model\n",
    "from load_modify_sample_utils import sample_dingo, sample_optgp\n",
    "from correlations_utils import correlated_reactions, split_forward_reverse\n"
   ]
  },
  {
   "cell_type": "markdown",
   "id": "7e0fb47d",
   "metadata": {},
   "source": [
    "### Load model"
   ]
  },
  {
   "cell_type": "code",
   "execution_count": 2,
   "id": "0daaf1bf",
   "metadata": {},
   "outputs": [
    {
     "name": "stdout",
     "output_type": "stream",
     "text": [
      "Set parameter Username\n",
      "Set parameter LicenseID to value 2642044\n",
      "Academic license - for non-commercial use only - expires 2026-03-25\n",
      "['BIOMASS_Ecoli_core_w_GAM']\n",
      "{'PFK': (0.0, 1000.0), 'PFL': (0.0, 1000.0), 'PGI': (-1000.0, 1000.0), 'PGK': (-1000.0, 1000.0), 'PGL': (0.0, 1000.0), 'ACALD': (-1000.0, 1000.0), 'AKGt2r': (-1000.0, 1000.0), 'PGM': (-1000.0, 1000.0), 'PIt2r': (-1000.0, 1000.0), 'ALCD2x': (-1000.0, 1000.0), 'ACALDt': (-1000.0, 1000.0), 'ACKr': (-1000.0, 1000.0), 'PPC': (0.0, 1000.0), 'ACONTa': (-1000.0, 1000.0), 'ACONTb': (-1000.0, 1000.0), 'ATPM': (8.39, 1000.0), 'PPCK': (0.0, 1000.0), 'ACt2r': (-1000.0, 1000.0), 'PPS': (0.0, 1000.0), 'ADK1': (-1000.0, 1000.0), 'AKGDH': (0.0, 1000.0), 'ATPS4r': (-1000.0, 1000.0), 'PTAr': (-1000.0, 1000.0), 'PYK': (0.0, 1000.0), 'BIOMASS_Ecoli_core_w_GAM': (0.0, 1000.0), 'PYRt2': (-1000.0, 1000.0), 'CO2t': (-1000.0, 1000.0), 'RPE': (-1000.0, 1000.0), 'CS': (0.0, 1000.0), 'RPI': (-1000.0, 1000.0), 'SUCCt2_2': (0.0, 1000.0), 'CYTBD': (0.0, 1000.0), 'D_LACt2': (-1000.0, 1000.0), 'ENO': (-1000.0, 1000.0), 'SUCCt3': (0.0, 1000.0), 'ETOHt2r': (-1000.0, 1000.0), 'SUCDi': (0.0, 1000.0), 'SUCOAS': (-1000.0, 1000.0), 'TALA': (-1000.0, 1000.0), 'THD2': (0.0, 1000.0), 'TKT1': (-1000.0, 1000.0), 'TKT2': (-1000.0, 1000.0), 'TPI': (-1000.0, 1000.0), 'EX_ac_e': (0.0, 1000.0), 'EX_acald_e': (0.0, 1000.0), 'EX_akg_e': (0.0, 1000.0), 'EX_co2_e': (-1000.0, 1000.0), 'EX_etoh_e': (0.0, 1000.0), 'EX_for_e': (0.0, 1000.0), 'EX_fru_e': (0.0, 1000.0), 'EX_fum_e': (0.0, 1000.0), 'EX_glc__D_e': (-10.0, 1000.0), 'EX_gln__L_e': (0.0, 1000.0), 'EX_glu__L_e': (0.0, 1000.0), 'EX_h_e': (-1000.0, 1000.0), 'EX_h2o_e': (-1000.0, 1000.0), 'EX_lac__D_e': (0.0, 1000.0), 'EX_mal__L_e': (0.0, 1000.0), 'EX_nh4_e': (-1000.0, 1000.0), 'EX_o2_e': (-1000.0, 1000.0), 'EX_pi_e': (-1000.0, 1000.0), 'EX_pyr_e': (0.0, 1000.0), 'EX_succ_e': (0.0, 1000.0), 'FBA': (-1000.0, 1000.0), 'FBP': (0.0, 1000.0), 'FORt2': (0.0, 1000.0), 'FORt': (-1000.0, 0.0), 'FRD7': (0.0, 1000.0), 'FRUpts2': (0.0, 1000.0), 'FUM': (-1000.0, 1000.0), 'FUMt2_2': (0.0, 1000.0), 'G6PDH2r': (-1000.0, 1000.0), 'GAPD': (-1000.0, 1000.0), 'GLCpts': (0.0, 1000.0), 'GLNS': (0.0, 1000.0), 'GLNabc': (0.0, 1000.0), 'GLUDy': (-1000.0, 1000.0), 'GLUN': (0.0, 1000.0), 'GLUSy': (0.0, 1000.0), 'GLUt2r': (-1000.0, 1000.0), 'GND': (0.0, 1000.0), 'H2Ot': (-1000.0, 1000.0), 'ICDHyr': (-1000.0, 1000.0), 'ICL': (0.0, 1000.0), 'LDH_D': (-1000.0, 1000.0), 'MALS': (0.0, 1000.0), 'MALt2_2': (0.0, 1000.0), 'MDH': (-1000.0, 1000.0), 'ME1': (0.0, 1000.0), 'ME2': (0.0, 1000.0), 'NADH16': (0.0, 1000.0), 'NADTRHD': (0.0, 1000.0), 'NH4t': (-1000.0, 1000.0), 'O2t': (-1000.0, 1000.0), 'PDH': (0.0, 1000.0)}\n"
     ]
    }
   ],
   "source": [
    "ec_cobra_model, ec_cobra_reactions, ec_dingo_model, ec_dingo_reactions = load_model(\"../ext_data/models/e_coli_core.xml\")\n",
    "\n",
    "objective_functions = get_objective_functions(ec_cobra_model)\n",
    "print(objective_functions)\n",
    "\n",
    "default_reaction_bounds = get_reaction_bounds(ec_cobra_model)\n",
    "print(default_reaction_bounds)"
   ]
  },
  {
   "cell_type": "markdown",
   "id": "3c75c8c4",
   "metadata": {},
   "source": [
    "### Perform sampling"
   ]
  },
  {
   "cell_type": "code",
   "execution_count": 3,
   "id": "d567b5b4",
   "metadata": {},
   "outputs": [
    {
     "name": "stdout",
     "output_type": "stream",
     "text": [
      "Read LP format model from file /tmp/tmp714vs5na.lp\n",
      "Reading time = 0.00 seconds\n",
      ": 72 rows, 190 columns, 720 nonzeros\n",
      "Read LP format model from file /tmp/tmphva9gzq1.lp\n",
      "Reading time = 0.00 seconds\n",
      ": 72 rows, 190 columns, 720 nonzeros\n",
      "Read LP format model from file /tmp/tmpudpi9ggl.lp\n",
      "Reading time = 0.00 seconds\n",
      ": 72 rows, 190 columns, 720 nonzeros\n",
      "Read LP format model from file /tmp/tmpfb3su2cz.lp\n",
      "Reading time = 0.00 seconds\n",
      ": 72 rows, 190 columns, 720 nonzeros\n"
     ]
    }
   ],
   "source": [
    "ec_cobra_model_condition_1, ec_dingo_model_condition_1 = modify_model(ec_cobra_model, objective_function=\"BIOMASS_Ecoli_core_w_GAM\", optimal_percentage=100)\n",
    "ec_cobra_model_condition_2, ec_dingo_model_condition_2 = modify_model(ec_cobra_model, objective_function=\"BIOMASS_Ecoli_core_w_GAM\", optimal_percentage=0)\n",
    "\n",
    "\n",
    "samples_optgp_condition_1 = sample_optgp(ec_cobra_model_condition_1, n_samples = 3000, thinning=100, reaction_in_rows = True)\n",
    "samples_optgp_condition_2 = sample_optgp(ec_cobra_model_condition_2, n_samples = 3000, thinning=100, reaction_in_rows = True)"
   ]
  },
  {
   "cell_type": "markdown",
   "id": "5ffcece6",
   "metadata": {},
   "source": [
    "### Split steady states to forward and reverse"
   ]
  },
  {
   "cell_type": "code",
   "execution_count": 4,
   "id": "350f91ee",
   "metadata": {},
   "outputs": [],
   "source": [
    "\n",
    "extended_steady_states_condition_1, extended_reactions_conditions_1 = split_forward_reverse(samples_optgp_condition_1, reactions=ec_dingo_reactions)\n",
    "\n",
    "extended_steady_states_condition_2, extended_reactions_conditions_2 = split_forward_reverse(samples_optgp_condition_2, reactions=ec_dingo_reactions)\n"
   ]
  },
  {
   "cell_type": "markdown",
   "id": "a9e6a325",
   "metadata": {},
   "source": [
    "### Calculate the pairwise correlation matrix"
   ]
  },
  {
   "cell_type": "code",
   "execution_count": 5,
   "id": "87ab84da",
   "metadata": {},
   "outputs": [
    {
     "name": "stderr",
     "output_type": "stream",
     "text": [
      "/home/touliopoulos/.local/lib/python3.10/site-packages/numpy/lib/function_base.py:2853: RuntimeWarning: invalid value encountered in divide\n",
      "  c /= stddev[:, None]\n",
      "/home/touliopoulos/.local/lib/python3.10/site-packages/numpy/lib/function_base.py:2854: RuntimeWarning: invalid value encountered in divide\n",
      "  c /= stddev[None, :]\n"
     ]
    },
    {
     "name": "stdout",
     "output_type": "stream",
     "text": [
      "Completed the process of 345 from 6070 copulas\n",
      "Completed the process of 378 from 6070 copulas\n",
      "Completed the process of 380 from 6070 copulas\n",
      "Completed the process of 381 from 6070 copulas\n",
      "Completed the process of 382 from 6070 copulas\n",
      "Completed the process of 383 from 6070 copulas\n",
      "Completed the process of 388 from 6070 copulas\n",
      "Completed the process of 389 from 6070 copulas\n",
      "Completed the process of 397 from 6070 copulas\n",
      "Completed the process of 398 from 6070 copulas\n",
      "Completed the process of 405 from 6070 copulas\n",
      "Completed the process of 585 from 6070 copulas\n",
      "Completed the process of 610 from 6070 copulas\n",
      "Completed the process of 635 from 6070 copulas\n",
      "Completed the process of 660 from 6070 copulas\n",
      "Completed the process of 666 from 6070 copulas\n",
      "Completed the process of 668 from 6070 copulas\n",
      "Completed the process of 669 from 6070 copulas\n",
      "Completed the process of 670 from 6070 copulas\n",
      "Completed the process of 671 from 6070 copulas\n",
      "Completed the process of 676 from 6070 copulas\n",
      "Completed the process of 677 from 6070 copulas\n",
      "Completed the process of 685 from 6070 copulas\n",
      "Completed the process of 686 from 6070 copulas\n",
      "Completed the process of 687 from 6070 copulas\n",
      "Completed the process of 694 from 6070 copulas\n",
      "Completed the process of 695 from 6070 copulas\n",
      "Completed the process of 697 from 6070 copulas\n",
      "Completed the process of 703 from 6070 copulas\n",
      "Completed the process of 704 from 6070 copulas\n",
      "Completed the process of 705 from 6070 copulas\n",
      "Completed the process of 706 from 6070 copulas\n",
      "Completed the process of 707 from 6070 copulas\n",
      "Completed the process of 709 from 6070 copulas\n",
      "Completed the process of 710 from 6070 copulas\n",
      "Completed the process of 711 from 6070 copulas\n",
      "Completed the process of 712 from 6070 copulas\n",
      "Completed the process of 715 from 6070 copulas\n",
      "Completed the process of 716 from 6070 copulas\n",
      "Completed the process of 722 from 6070 copulas\n",
      "Completed the process of 723 from 6070 copulas\n",
      "Completed the process of 724 from 6070 copulas\n",
      "Completed the process of 729 from 6070 copulas\n",
      "Completed the process of 730 from 6070 copulas\n",
      "Completed the process of 734 from 6070 copulas\n",
      "Completed the process of 735 from 6070 copulas\n",
      "Completed the process of 736 from 6070 copulas\n",
      "Completed the process of 737 from 6070 copulas\n",
      "Completed the process of 738 from 6070 copulas\n",
      "Completed the process of 844 from 6070 copulas\n",
      "Completed the process of 850 from 6070 copulas\n",
      "Completed the process of 851 from 6070 copulas\n",
      "Completed the process of 854 from 6070 copulas\n",
      "Completed the process of 856 from 6070 copulas\n",
      "Completed the process of 857 from 6070 copulas\n",
      "Completed the process of 858 from 6070 copulas\n",
      "Completed the process of 859 from 6070 copulas\n",
      "Completed the process of 864 from 6070 copulas\n",
      "Completed the process of 865 from 6070 copulas\n",
      "Completed the process of 873 from 6070 copulas\n",
      "Completed the process of 874 from 6070 copulas\n",
      "Completed the process of 875 from 6070 copulas\n",
      "Completed the process of 882 from 6070 copulas\n",
      "Completed the process of 883 from 6070 copulas\n",
      "Completed the process of 885 from 6070 copulas\n",
      "Completed the process of 891 from 6070 copulas\n",
      "Completed the process of 892 from 6070 copulas\n",
      "Completed the process of 893 from 6070 copulas\n",
      "Completed the process of 894 from 6070 copulas\n",
      "Completed the process of 895 from 6070 copulas\n",
      "Completed the process of 898 from 6070 copulas\n",
      "Completed the process of 985 from 6070 copulas\n",
      "Completed the process of 987 from 6070 copulas\n",
      "Completed the process of 988 from 6070 copulas\n",
      "Completed the process of 989 from 6070 copulas\n",
      "Completed the process of 990 from 6070 copulas\n",
      "Completed the process of 995 from 6070 copulas\n",
      "Completed the process of 996 from 6070 copulas\n",
      "Completed the process of 1004 from 6070 copulas\n",
      "Completed the process of 1005 from 6070 copulas\n",
      "Completed the process of 1006 from 6070 copulas\n",
      "Completed the process of 1013 from 6070 copulas\n",
      "Completed the process of 1014 from 6070 copulas\n",
      "Completed the process of 1016 from 6070 copulas\n",
      "Completed the process of 1022 from 6070 copulas\n",
      "Completed the process of 1023 from 6070 copulas\n",
      "Completed the process of 1024 from 6070 copulas\n",
      "Completed the process of 1025 from 6070 copulas\n",
      "Completed the process of 1026 from 6070 copulas\n",
      "Completed the process of 1027 from 6070 copulas\n",
      "Completed the process of 1030 from 6070 copulas\n",
      "Completed the process of 1031 from 6070 copulas\n",
      "Completed the process of 1058 from 6070 copulas\n",
      "Completed the process of 1059 from 6070 copulas\n",
      "Completed the process of 1062 from 6070 copulas\n",
      "Completed the process of 1065 from 6070 copulas\n",
      "Completed the process of 1090 from 6070 copulas\n",
      "Completed the process of 1091 from 6070 copulas\n",
      "Completed the process of 1094 from 6070 copulas\n",
      "Completed the process of 1097 from 6070 copulas\n",
      "Completed the process of 1117 from 6070 copulas\n",
      "Completed the process of 1123 from 6070 copulas\n",
      "Completed the process of 1124 from 6070 copulas\n",
      "Completed the process of 1127 from 6070 copulas\n",
      "Completed the process of 1130 from 6070 copulas\n",
      "Completed the process of 1143 from 6070 copulas\n",
      "Completed the process of 1150 from 6070 copulas\n",
      "Completed the process of 1152 from 6070 copulas\n",
      "Completed the process of 1158 from 6070 copulas\n",
      "Completed the process of 1159 from 6070 copulas\n",
      "Completed the process of 1162 from 6070 copulas\n",
      "Completed the process of 1165 from 6070 copulas\n",
      "Completed the process of 1166 from 6070 copulas\n",
      "Completed the process of 1167 from 6070 copulas\n",
      "Completed the process of 1187 from 6070 copulas\n",
      "Completed the process of 1193 from 6070 copulas\n",
      "Completed the process of 1194 from 6070 copulas\n",
      "Completed the process of 1197 from 6070 copulas\n",
      "Completed the process of 1200 from 6070 copulas\n",
      "Completed the process of 1220 from 6070 copulas\n",
      "Completed the process of 1226 from 6070 copulas\n",
      "Completed the process of 1227 from 6070 copulas\n",
      "Completed the process of 1230 from 6070 copulas\n",
      "Completed the process of 1233 from 6070 copulas\n",
      "Completed the process of 1253 from 6070 copulas\n",
      "Completed the process of 1259 from 6070 copulas\n",
      "Completed the process of 1260 from 6070 copulas\n",
      "Completed the process of 1263 from 6070 copulas\n",
      "Completed the process of 1266 from 6070 copulas\n",
      "Completed the process of 2835 from 6070 copulas\n",
      "Completed the process of 2841 from 6070 copulas\n",
      "Completed the process of 2842 from 6070 copulas\n",
      "Completed the process of 2845 from 6070 copulas\n",
      "Completed the process of 2848 from 6070 copulas\n",
      "Completed the process of 2954 from 6070 copulas\n",
      "Completed the process of 2956 from 6070 copulas\n",
      "Completed the process of 2957 from 6070 copulas\n",
      "Completed the process of 2958 from 6070 copulas\n",
      "Completed the process of 2959 from 6070 copulas\n",
      "Completed the process of 2964 from 6070 copulas\n",
      "Completed the process of 2965 from 6070 copulas\n",
      "Completed the process of 2973 from 6070 copulas\n",
      "Completed the process of 2974 from 6070 copulas\n",
      "Completed the process of 2975 from 6070 copulas\n",
      "Completed the process of 2982 from 6070 copulas\n",
      "Completed the process of 2983 from 6070 copulas\n",
      "Completed the process of 2985 from 6070 copulas\n",
      "Completed the process of 2991 from 6070 copulas\n",
      "Completed the process of 2992 from 6070 copulas\n",
      "Completed the process of 2993 from 6070 copulas\n",
      "Completed the process of 2994 from 6070 copulas\n",
      "Completed the process of 2995 from 6070 copulas\n",
      "Completed the process of 2996 from 6070 copulas\n",
      "Completed the process of 2999 from 6070 copulas\n",
      "Completed the process of 3000 from 6070 copulas\n",
      "Completed the process of 3003 from 6070 copulas\n",
      "Completed the process of 3004 from 6070 copulas\n",
      "Completed the process of 3005 from 6070 copulas\n",
      "Completed the process of 3006 from 6070 copulas\n",
      "Completed the process of 3007 from 6070 copulas\n",
      "Completed the process of 3008 from 6070 copulas\n",
      "Completed the process of 3009 from 6070 copulas\n",
      "Completed the process of 3010 from 6070 copulas\n",
      "Completed the process of 3035 from 6070 copulas\n",
      "Completed the process of 3037 from 6070 copulas\n",
      "Completed the process of 3039 from 6070 copulas\n",
      "Completed the process of 3040 from 6070 copulas\n",
      "Completed the process of 3041 from 6070 copulas\n",
      "Completed the process of 3042 from 6070 copulas\n",
      "Completed the process of 3047 from 6070 copulas\n",
      "Completed the process of 3048 from 6070 copulas\n",
      "Completed the process of 3056 from 6070 copulas\n",
      "Completed the process of 3057 from 6070 copulas\n",
      "Completed the process of 3058 from 6070 copulas\n",
      "Completed the process of 3065 from 6070 copulas\n",
      "Completed the process of 3066 from 6070 copulas\n",
      "Completed the process of 3068 from 6070 copulas\n",
      "Completed the process of 3074 from 6070 copulas\n",
      "Completed the process of 3075 from 6070 copulas\n",
      "Completed the process of 3076 from 6070 copulas\n",
      "Completed the process of 3077 from 6070 copulas\n",
      "Completed the process of 3078 from 6070 copulas\n",
      "Completed the process of 3079 from 6070 copulas\n",
      "Completed the process of 3082 from 6070 copulas\n",
      "Completed the process of 3083 from 6070 copulas\n",
      "Completed the process of 3086 from 6070 copulas\n",
      "Completed the process of 3087 from 6070 copulas\n",
      "Completed the process of 3088 from 6070 copulas\n",
      "Completed the process of 3089 from 6070 copulas\n",
      "Completed the process of 3090 from 6070 copulas\n",
      "Completed the process of 3091 from 6070 copulas\n",
      "Completed the process of 3092 from 6070 copulas\n",
      "Completed the process of 3093 from 6070 copulas\n",
      "Completed the process of 3118 from 6070 copulas\n",
      "Completed the process of 3120 from 6070 copulas\n",
      "Completed the process of 3122 from 6070 copulas\n",
      "Completed the process of 3123 from 6070 copulas\n",
      "Completed the process of 3124 from 6070 copulas\n",
      "Completed the process of 3125 from 6070 copulas\n",
      "Completed the process of 3130 from 6070 copulas\n",
      "Completed the process of 3131 from 6070 copulas\n",
      "Completed the process of 3139 from 6070 copulas\n",
      "Completed the process of 3140 from 6070 copulas\n",
      "Completed the process of 3141 from 6070 copulas\n",
      "Completed the process of 3148 from 6070 copulas\n",
      "Completed the process of 3149 from 6070 copulas\n",
      "Completed the process of 3151 from 6070 copulas\n",
      "Completed the process of 3157 from 6070 copulas\n",
      "Completed the process of 3158 from 6070 copulas\n",
      "Completed the process of 3159 from 6070 copulas\n",
      "Completed the process of 3160 from 6070 copulas\n",
      "Completed the process of 3161 from 6070 copulas\n",
      "Completed the process of 3162 from 6070 copulas\n",
      "Completed the process of 3165 from 6070 copulas\n",
      "Completed the process of 3166 from 6070 copulas\n",
      "Completed the process of 3169 from 6070 copulas\n",
      "Completed the process of 3170 from 6070 copulas\n",
      "Completed the process of 3171 from 6070 copulas\n",
      "Completed the process of 3172 from 6070 copulas\n",
      "Completed the process of 3173 from 6070 copulas\n",
      "Completed the process of 3174 from 6070 copulas\n",
      "Completed the process of 3175 from 6070 copulas\n",
      "Completed the process of 3176 from 6070 copulas\n",
      "Completed the process of 3201 from 6070 copulas\n",
      "Completed the process of 3203 from 6070 copulas\n",
      "Completed the process of 3205 from 6070 copulas\n",
      "Completed the process of 3206 from 6070 copulas\n",
      "Completed the process of 3207 from 6070 copulas\n",
      "Completed the process of 3208 from 6070 copulas\n",
      "Completed the process of 3213 from 6070 copulas\n",
      "Completed the process of 3214 from 6070 copulas\n",
      "Completed the process of 3222 from 6070 copulas\n",
      "Completed the process of 3223 from 6070 copulas\n",
      "Completed the process of 3224 from 6070 copulas\n",
      "Completed the process of 3231 from 6070 copulas\n",
      "Completed the process of 3232 from 6070 copulas\n",
      "Completed the process of 3234 from 6070 copulas\n",
      "Completed the process of 3240 from 6070 copulas\n",
      "Completed the process of 3241 from 6070 copulas\n",
      "Completed the process of 3242 from 6070 copulas\n",
      "Completed the process of 3243 from 6070 copulas\n",
      "Completed the process of 3244 from 6070 copulas\n",
      "Completed the process of 3245 from 6070 copulas\n",
      "Completed the process of 3248 from 6070 copulas\n",
      "Completed the process of 3249 from 6070 copulas\n",
      "Completed the process of 3252 from 6070 copulas\n",
      "Completed the process of 3253 from 6070 copulas\n",
      "Completed the process of 3254 from 6070 copulas\n",
      "Completed the process of 3255 from 6070 copulas\n",
      "Completed the process of 3256 from 6070 copulas\n",
      "Completed the process of 3257 from 6070 copulas\n",
      "Completed the process of 3258 from 6070 copulas\n",
      "Completed the process of 3283 from 6070 copulas\n",
      "Completed the process of 3285 from 6070 copulas\n",
      "Completed the process of 3286 from 6070 copulas\n",
      "Completed the process of 3287 from 6070 copulas\n",
      "Completed the process of 3394 from 6070 copulas\n",
      "Completed the process of 3400 from 6070 copulas\n",
      "Completed the process of 3401 from 6070 copulas\n",
      "Completed the process of 3404 from 6070 copulas\n",
      "Completed the process of 3407 from 6070 copulas\n",
      "Completed the process of 3433 from 6070 copulas\n",
      "Completed the process of 3434 from 6070 copulas\n",
      "Completed the process of 3435 from 6070 copulas\n",
      "Completed the process of 3436 from 6070 copulas\n",
      "Completed the process of 3546 from 6070 copulas\n",
      "Completed the process of 3552 from 6070 copulas\n",
      "Completed the process of 3553 from 6070 copulas\n",
      "Completed the process of 3556 from 6070 copulas\n",
      "Completed the process of 3559 from 6070 copulas\n",
      "Completed the process of 3585 from 6070 copulas\n",
      "Completed the process of 3586 from 6070 copulas\n",
      "Completed the process of 3587 from 6070 copulas\n",
      "Completed the process of 3588 from 6070 copulas\n",
      "Completed the process of 3610 from 6070 copulas\n",
      "Completed the process of 3616 from 6070 copulas\n",
      "Completed the process of 3617 from 6070 copulas\n",
      "Completed the process of 3620 from 6070 copulas\n",
      "Completed the process of 3623 from 6070 copulas\n",
      "Completed the process of 3649 from 6070 copulas\n",
      "Completed the process of 3650 from 6070 copulas\n",
      "Completed the process of 3651 from 6070 copulas\n",
      "Completed the process of 3652 from 6070 copulas\n",
      "Completed the process of 4516 from 6070 copulas\n",
      "Completed the process of 4522 from 6070 copulas\n",
      "Completed the process of 4523 from 6070 copulas\n",
      "Completed the process of 4526 from 6070 copulas\n",
      "Completed the process of 4529 from 6070 copulas\n",
      "Completed the process of 4555 from 6070 copulas\n",
      "Completed the process of 4556 from 6070 copulas\n",
      "Completed the process of 4557 from 6070 copulas\n",
      "Completed the process of 4558 from 6070 copulas\n",
      "Completed the process of 4764 from 6070 copulas\n",
      "Completed the process of 4765 from 6070 copulas\n",
      "Completed the process of 4768 from 6070 copulas\n",
      "Completed the process of 4771 from 6070 copulas\n",
      "Completed the process of 4772 from 6070 copulas\n",
      "Completed the process of 4798 from 6070 copulas\n",
      "Completed the process of 4799 from 6070 copulas\n",
      "Completed the process of 4800 from 6070 copulas\n",
      "Completed the process of 4801 from 6070 copulas\n",
      "Completed the process of 4839 from 6070 copulas\n",
      "Completed the process of 4840 from 6070 copulas\n",
      "Completed the process of 4843 from 6070 copulas\n",
      "Completed the process of 4846 from 6070 copulas\n",
      "Completed the process of 4847 from 6070 copulas\n",
      "Completed the process of 4873 from 6070 copulas\n",
      "Completed the process of 4874 from 6070 copulas\n",
      "Completed the process of 4875 from 6070 copulas\n",
      "Completed the process of 4876 from 6070 copulas\n",
      "Completed the process of 5120 from 6070 copulas\n",
      "Completed the process of 5121 from 6070 copulas\n",
      "Completed the process of 5124 from 6070 copulas\n",
      "Completed the process of 5127 from 6070 copulas\n",
      "Completed the process of 5128 from 6070 copulas\n",
      "Completed the process of 5154 from 6070 copulas\n",
      "Completed the process of 5155 from 6070 copulas\n",
      "Completed the process of 5156 from 6070 copulas\n",
      "Completed the process of 5157 from 6070 copulas\n",
      "Completed the process of 5282 from 6070 copulas\n",
      "Completed the process of 5284 from 6070 copulas\n",
      "Completed the process of 5285 from 6070 copulas\n",
      "Completed the process of 5286 from 6070 copulas\n",
      "Completed the process of 5287 from 6070 copulas\n",
      "Completed the process of 5292 from 6070 copulas\n",
      "Completed the process of 5293 from 6070 copulas\n",
      "Completed the process of 5301 from 6070 copulas\n",
      "Completed the process of 5302 from 6070 copulas\n",
      "Completed the process of 5309 from 6070 copulas\n",
      "Completed the process of 5316 from 6070 copulas\n",
      "Completed the process of 5317 from 6070 copulas\n",
      "Completed the process of 5318 from 6070 copulas\n",
      "Completed the process of 5319 from 6070 copulas\n",
      "Completed the process of 5320 from 6070 copulas\n",
      "Completed the process of 5321 from 6070 copulas\n",
      "Completed the process of 5324 from 6070 copulas\n",
      "Completed the process of 5325 from 6070 copulas\n",
      "Completed the process of 5328 from 6070 copulas\n",
      "Completed the process of 5329 from 6070 copulas\n",
      "Completed the process of 5330 from 6070 copulas\n",
      "Completed the process of 5331 from 6070 copulas\n",
      "Completed the process of 5332 from 6070 copulas\n",
      "Completed the process of 5333 from 6070 copulas\n",
      "Completed the process of 5358 from 6070 copulas\n",
      "Completed the process of 5360 from 6070 copulas\n",
      "Completed the process of 5361 from 6070 copulas\n",
      "Completed the process of 5362 from 6070 copulas\n",
      "Completed the process of 5363 from 6070 copulas\n",
      "Completed the process of 5365 from 6070 copulas\n",
      "Completed the process of 5367 from 6070 copulas\n",
      "Completed the process of 5368 from 6070 copulas\n",
      "Completed the process of 5378 from 6070 copulas\n",
      "Completed the process of 5495 from 6070 copulas\n",
      "Completed the process of 5497 from 6070 copulas\n",
      "Completed the process of 5498 from 6070 copulas\n",
      "Completed the process of 5499 from 6070 copulas\n",
      "Completed the process of 5500 from 6070 copulas\n",
      "Completed the process of 5505 from 6070 copulas\n",
      "Completed the process of 5506 from 6070 copulas\n",
      "Completed the process of 5514 from 6070 copulas\n",
      "Completed the process of 5515 from 6070 copulas\n",
      "Completed the process of 5522 from 6070 copulas\n",
      "Completed the process of 5523 from 6070 copulas\n",
      "Completed the process of 5530 from 6070 copulas\n",
      "Completed the process of 5531 from 6070 copulas\n",
      "Completed the process of 5532 from 6070 copulas\n",
      "Completed the process of 5533 from 6070 copulas\n",
      "Completed the process of 5534 from 6070 copulas\n",
      "Completed the process of 5535 from 6070 copulas\n",
      "Completed the process of 5538 from 6070 copulas\n",
      "Completed the process of 5539 from 6070 copulas\n",
      "Completed the process of 5542 from 6070 copulas\n",
      "Completed the process of 5543 from 6070 copulas\n",
      "Completed the process of 5544 from 6070 copulas\n",
      "Completed the process of 5545 from 6070 copulas\n",
      "Completed the process of 5546 from 6070 copulas\n",
      "Completed the process of 5547 from 6070 copulas\n",
      "Completed the process of 5548 from 6070 copulas\n",
      "Completed the process of 5549 from 6070 copulas\n",
      "Completed the process of 5574 from 6070 copulas\n",
      "Completed the process of 5576 from 6070 copulas\n",
      "Completed the process of 5577 from 6070 copulas\n",
      "Completed the process of 5578 from 6070 copulas\n",
      "Completed the process of 5579 from 6070 copulas\n",
      "Completed the process of 5581 from 6070 copulas\n",
      "Completed the process of 5583 from 6070 copulas\n",
      "Completed the process of 5584 from 6070 copulas\n",
      "Completed the process of 5594 from 6070 copulas\n",
      "Completed the process of 5597 from 6070 copulas\n",
      "Completed the process of 5598 from 6070 copulas\n",
      "Completed the process of 5601 from 6070 copulas\n",
      "Completed the process of 5623 from 6070 copulas\n",
      "Completed the process of 5627 from 6070 copulas\n",
      "Completed the process of 5630 from 6070 copulas\n",
      "Completed the process of 5633 from 6070 copulas\n",
      "Completed the process of 5654 from 6070 copulas\n",
      "Completed the process of 5655 from 6070 copulas\n",
      "Completed the process of 5656 from 6070 copulas\n",
      "Completed the process of 5657 from 6070 copulas\n",
      "Completed the process of 5673 from 6070 copulas\n",
      "Completed the process of 5686 from 6070 copulas\n",
      "Completed the process of 5693 from 6070 copulas\n",
      "Completed the process of 5695 from 6070 copulas\n",
      "Completed the process of 5701 from 6070 copulas\n",
      "Completed the process of 5702 from 6070 copulas\n",
      "Completed the process of 5705 from 6070 copulas\n",
      "Completed the process of 5708 from 6070 copulas\n",
      "Completed the process of 5709 from 6070 copulas\n",
      "Completed the process of 5710 from 6070 copulas\n",
      "Completed the process of 5711 from 6070 copulas\n",
      "Completed the process of 5737 from 6070 copulas\n",
      "Completed the process of 5738 from 6070 copulas\n",
      "Completed the process of 5739 from 6070 copulas\n",
      "Completed the process of 5740 from 6070 copulas\n",
      "Completed the process of 5754 from 6070 copulas\n",
      "Completed the process of 5755 from 6070 copulas\n",
      "Completed the process of 5758 from 6070 copulas\n",
      "Completed the process of 5760 from 6070 copulas\n",
      "Completed the process of 5762 from 6070 copulas\n",
      "Completed the process of 5967 from 6070 copulas\n",
      "Completed the process of 5969 from 6070 copulas\n",
      "Completed the process of 5970 from 6070 copulas\n",
      "Completed the process of 5971 from 6070 copulas\n",
      "Completed the process of 5972 from 6070 copulas\n",
      "Completed the process of 5977 from 6070 copulas\n",
      "Completed the process of 5978 from 6070 copulas\n",
      "Completed the process of 5986 from 6070 copulas\n",
      "Completed the process of 5987 from 6070 copulas\n",
      "Completed the process of 5994 from 6070 copulas\n",
      "Completed the process of 5999 from 6070 copulas\n",
      "Completed the process of 6000 from 6070 copulas\n",
      "Completed the process of 6001 from 6070 copulas\n",
      "Completed the process of 6002 from 6070 copulas\n",
      "Completed the process of 6003 from 6070 copulas\n",
      "Completed the process of 6004 from 6070 copulas\n",
      "Completed the process of 6007 from 6070 copulas\n",
      "Completed the process of 6008 from 6070 copulas\n",
      "Completed the process of 6011 from 6070 copulas\n",
      "Completed the process of 6012 from 6070 copulas\n",
      "Completed the process of 6013 from 6070 copulas\n",
      "Completed the process of 6014 from 6070 copulas\n",
      "Completed the process of 6015 from 6070 copulas\n",
      "Completed the process of 6016 from 6070 copulas\n",
      "Completed the process of 6040 from 6070 copulas\n",
      "Completed the process of 6042 from 6070 copulas\n",
      "Completed the process of 6043 from 6070 copulas\n",
      "Completed the process of 6044 from 6070 copulas\n",
      "Completed the process of 6045 from 6070 copulas\n",
      "Completed the process of 6047 from 6070 copulas\n",
      "Completed the process of 6049 from 6070 copulas\n",
      "Completed the process of 6050 from 6070 copulas\n",
      "Completed the process of 6060 from 6070 copulas\n",
      "Completed the process of 6067 from 6070 copulas\n",
      "Completed the process of 6068 from 6070 copulas\n"
     ]
    }
   ],
   "source": [
    "\n",
    "\n",
    "(linear_correlation_matrix_1, \n",
    "non_linear_correlation_matrix_1, \n",
    "mixed_correlation_matrix_1, \n",
    "correlations_dictionary_1) = correlated_reactions(\n",
    "        steady_states = extended_steady_states_condition_1,\n",
    "        boolean_sharing_metabolites_matrix=None,\n",
    "        reactions=extended_reactions_conditions_1, \n",
    "        linear_corr_cutoff = 0.3, \n",
    "        indicator_cutoff = 1.2,\n",
    "        jensenshannon_cutoff = 0.1,\n",
    "        std_cutoff= 1e-2,\n",
    "        include_non_linear = True, \n",
    "        cells = 4, \n",
    "        cop_coeff = 0.2, \n",
    "        lower_triangle = False, \n",
    "        verbose = True)\n"
   ]
  },
  {
   "cell_type": "markdown",
   "id": "024d0d5b",
   "metadata": {},
   "source": [
    "# Perform clustering of the correlation matrix"
   ]
  },
  {
   "cell_type": "code",
   "execution_count": null,
   "id": "d5302323",
   "metadata": {},
   "outputs": [
    {
     "name": "stdout",
     "output_type": "stream",
     "text": [
      "[['PPC', 'AKGDH', 'SUCOAS_rev', 'ICDHyr'], ['PFK', 'PGI', 'PGK_rev', 'PGM_rev', 'ACONTa', 'ACONTb', 'CS', 'RPI', 'ENO', 'THD2', 'TPI', 'FBA', 'FUM', 'GAPD'], ['PGK', 'PGL', 'PGM', 'RPE', 'RPI_rev', 'TALA', 'TKT1', 'TKT2', 'G6PDH2r', 'GND'], ['ATPS4r', 'NADH16', 'NADTRHD'], ['PYK', 'MDH', 'PDH'], ['SUCOAS', 'ICL', 'MALS'], ['CO2t_rev', 'CYTBD', 'EX_co2_e', 'EX_h2o_e', 'EX_o2_e_rev', 'H2Ot_rev', 'O2t'], ['ACKr_rev', 'ACt2r_rev', 'PTAr', 'EX_ac_e'], ['PFL', 'CO2t', 'EX_for_e', 'EX_h_e', 'EX_o2_e', 'H2Ot'], ['EX_glu__L_e', 'EX_nh4_e_rev', 'GLUDy_rev', 'GLUt2r_rev', 'NH4t'], ['ALCD2x_rev', 'ETOHt2r_rev', 'EX_etoh_e'], ['ACALD_rev', 'ACALDt_rev', 'EX_acald_e'], ['EX_nh4_e', 'GLUDy', 'GLUt2r'], ['PIt2r', 'BIOMASS_Ecoli_core_w_GAM', 'EX_pi_e_rev', 'GLNS'], ['D_LACt2_rev', 'EX_lac__D_e', 'LDH_D_rev'], ['ACALD', 'ALCD2x', 'ACALDt', 'ETOHt2r'], ['ACKr', 'ACt2r'], ['D_LACt2', 'LDH_D'], ['AKGt2r_rev', 'AKGt2r', 'ATPM', 'PPCK', 'PPS', 'ADK1', 'PYRt2_rev', 'PYRt2', 'SUCCt2_2', 'SUCCt3', 'SUCDi', 'EX_akg_e', 'EX_fru_e', 'EX_fum_e', 'EX_glc__D_e_rev', 'EX_glc__D_e', 'EX_gln__L_e', 'EX_mal__L_e', 'EX_pi_e', 'EX_pyr_e', 'EX_succ_e', 'FBP', 'FORt2', 'FORt_rev', 'FORt', 'FRD7', 'FRUpts2', 'FUMt2_2', 'GLCpts', 'GLNabc', 'GLUN', 'GLUSy', 'MALt2_2', 'ME1', 'ME2']]\n"
     ]
    },
    {
     "name": "stderr",
     "output_type": "stream",
     "text": [
      "/home/touliopoulos/.local/lib/python3.10/site-packages/dingo/utils.py:381: ClusterWarning: scipy.cluster: The symmetric non-negative hollow observation matrix looks suspiciously like an uncondensed distance matrix\n",
      "  Z = hierarchy.linkage(dissimilarity_matrix, linkage)\n"
     ]
    },
    {
     "data": {
      "application/vnd.plotly.v1+json": {
       "config": {
        "plotlyServerURL": "https://plot.ly"
       },
       "data": [
        {
         "hoverinfo": "text",
         "marker": {
          "color": "rgb(61,153,112)"
         },
         "mode": "lines",
         "type": "scatter",
         "x": [
          25,
          25,
          35,
          35
         ],
         "xaxis": "x",
         "y": [
          0,
          1.1224431648738382e-13,
          1.1224431648738382e-13,
          0
         ],
         "yaxis": "y"
        },
        {
         "hoverinfo": "text",
         "marker": {
          "color": "rgb(61,153,112)"
         },
         "mode": "lines",
         "type": "scatter",
         "x": [
          15,
          15,
          30,
          30
         ],
         "xaxis": "x",
         "y": [
          0,
          0.0069938521714641945,
          0.0069938521714641945,
          1.1224431648738382e-13
         ],
         "yaxis": "y"
        },
        {
         "hoverinfo": "text",
         "marker": {
          "color": "rgb(61,153,112)"
         },
         "mode": "lines",
         "type": "scatter",
         "x": [
          5,
          5,
          22.5,
          22.5
         ],
         "xaxis": "x",
         "y": [
          0,
          1.4093184481619432,
          1.4093184481619432,
          0.0069938521714641945
         ],
         "yaxis": "y"
        },
        {
         "hoverinfo": "text",
         "marker": {
          "color": "rgb(255,65,54)"
         },
         "mode": "lines",
         "type": "scatter",
         "x": [
          85,
          85,
          95,
          95
         ],
         "xaxis": "x",
         "y": [
          0,
          0,
          0,
          0
         ],
         "yaxis": "y"
        },
        {
         "hoverinfo": "text",
         "marker": {
          "color": "rgb(255,65,54)"
         },
         "mode": "lines",
         "type": "scatter",
         "x": [
          75,
          75,
          90,
          90
         ],
         "xaxis": "x",
         "y": [
          0,
          0.00020335365867326765,
          0.00020335365867326765,
          0
         ],
         "yaxis": "y"
        },
        {
         "hoverinfo": "text",
         "marker": {
          "color": "rgb(255,65,54)"
         },
         "mode": "lines",
         "type": "scatter",
         "x": [
          65,
          65,
          82.5,
          82.5
         ],
         "xaxis": "x",
         "y": [
          0,
          0.0006492141163203242,
          0.0006492141163203242,
          0.00020335365867326765
         ],
         "yaxis": "y"
        },
        {
         "hoverinfo": "text",
         "marker": {
          "color": "rgb(255,65,54)"
         },
         "mode": "lines",
         "type": "scatter",
         "x": [
          105,
          105,
          115,
          115
         ],
         "xaxis": "x",
         "y": [
          0,
          1.1102230246251565e-16,
          1.1102230246251565e-16,
          0
         ],
         "yaxis": "y"
        },
        {
         "hoverinfo": "text",
         "marker": {
          "color": "rgb(255,65,54)"
         },
         "mode": "lines",
         "type": "scatter",
         "x": [
          125,
          125,
          135,
          135
         ],
         "xaxis": "x",
         "y": [
          0,
          2.9373740229761033e-16,
          2.9373740229761033e-16,
          0
         ],
         "yaxis": "y"
        },
        {
         "hoverinfo": "text",
         "marker": {
          "color": "rgb(255,65,54)"
         },
         "mode": "lines",
         "type": "scatter",
         "x": [
          110,
          110,
          130,
          130
         ],
         "xaxis": "x",
         "y": [
          1.1102230246251565e-16,
          0.001443380238696864,
          0.001443380238696864,
          2.9373740229761033e-16
         ],
         "yaxis": "y"
        },
        {
         "hoverinfo": "text",
         "marker": {
          "color": "rgb(255,65,54)"
         },
         "mode": "lines",
         "type": "scatter",
         "x": [
          73.75,
          73.75,
          120,
          120
         ],
         "xaxis": "x",
         "y": [
          0.0006492141163203242,
          0.0035552254362445183,
          0.0035552254362445183,
          0.001443380238696864
         ],
         "yaxis": "y"
        },
        {
         "hoverinfo": "text",
         "marker": {
          "color": "rgb(255,65,54)"
         },
         "mode": "lines",
         "type": "scatter",
         "x": [
          165,
          165,
          175,
          175
         ],
         "xaxis": "x",
         "y": [
          0,
          0,
          0,
          0
         ],
         "yaxis": "y"
        },
        {
         "hoverinfo": "text",
         "marker": {
          "color": "rgb(255,65,54)"
         },
         "mode": "lines",
         "type": "scatter",
         "x": [
          155,
          155,
          170,
          170
         ],
         "xaxis": "x",
         "y": [
          0,
          0,
          0,
          0
         ],
         "yaxis": "y"
        },
        {
         "hoverinfo": "text",
         "marker": {
          "color": "rgb(255,65,54)"
         },
         "mode": "lines",
         "type": "scatter",
         "x": [
          145,
          145,
          162.5,
          162.5
         ],
         "xaxis": "x",
         "y": [
          0,
          0.043098360335137094,
          0.043098360335137094,
          0
         ],
         "yaxis": "y"
        },
        {
         "hoverinfo": "text",
         "marker": {
          "color": "rgb(255,65,54)"
         },
         "mode": "lines",
         "type": "scatter",
         "x": [
          96.875,
          96.875,
          153.75,
          153.75
         ],
         "xaxis": "x",
         "y": [
          0.0035552254362445183,
          0.48819284820647835,
          0.48819284820647835,
          0.043098360335137094
         ],
         "yaxis": "y"
        },
        {
         "hoverinfo": "text",
         "marker": {
          "color": "rgb(255,65,54)"
         },
         "mode": "lines",
         "type": "scatter",
         "x": [
          55,
          55,
          125.3125,
          125.3125
         ],
         "xaxis": "x",
         "y": [
          0,
          1.4156947407728235,
          1.4156947407728235,
          0.48819284820647835
         ],
         "yaxis": "y"
        },
        {
         "hoverinfo": "text",
         "marker": {
          "color": "rgb(0,116,217)"
         },
         "mode": "lines",
         "type": "scatter",
         "x": [
          45,
          45,
          90.15625,
          90.15625
         ],
         "xaxis": "x",
         "y": [
          0,
          3.401943683231466,
          3.401943683231466,
          1.4156947407728235
         ],
         "yaxis": "y"
        },
        {
         "hoverinfo": "text",
         "marker": {
          "color": "rgb(0,116,217)"
         },
         "mode": "lines",
         "type": "scatter",
         "x": [
          13.75,
          13.75,
          67.578125,
          67.578125
         ],
         "xaxis": "x",
         "y": [
          1.4093184481619432,
          5.780194814736964,
          5.780194814736964,
          3.401943683231466
         ],
         "yaxis": "y"
        },
        {
         "hoverinfo": "text",
         "marker": {
          "color": "rgb(35,205,205)"
         },
         "mode": "lines",
         "type": "scatter",
         "x": [
          195,
          195,
          205,
          205
         ],
         "xaxis": "x",
         "y": [
          0,
          0.00011396203951301823,
          0.00011396203951301823,
          0
         ],
         "yaxis": "y"
        },
        {
         "hoverinfo": "text",
         "marker": {
          "color": "rgb(35,205,205)"
         },
         "mode": "lines",
         "type": "scatter",
         "x": [
          215,
          215,
          225,
          225
         ],
         "xaxis": "x",
         "y": [
          0,
          0,
          0,
          0
         ],
         "yaxis": "y"
        },
        {
         "hoverinfo": "text",
         "marker": {
          "color": "rgb(35,205,205)"
         },
         "mode": "lines",
         "type": "scatter",
         "x": [
          245,
          245,
          255,
          255
         ],
         "xaxis": "x",
         "y": [
          0,
          1.5700924586837752e-16,
          1.5700924586837752e-16,
          0
         ],
         "yaxis": "y"
        },
        {
         "hoverinfo": "text",
         "marker": {
          "color": "rgb(35,205,205)"
         },
         "mode": "lines",
         "type": "scatter",
         "x": [
          235,
          235,
          250,
          250
         ],
         "xaxis": "x",
         "y": [
          0,
          2.7194799110210365e-16,
          2.7194799110210365e-16,
          1.5700924586837752e-16
         ],
         "yaxis": "y"
        },
        {
         "hoverinfo": "text",
         "marker": {
          "color": "rgb(35,205,205)"
         },
         "mode": "lines",
         "type": "scatter",
         "x": [
          220,
          220,
          242.5,
          242.5
         ],
         "xaxis": "x",
         "y": [
          0,
          0.00017520713042771562,
          0.00017520713042771562,
          2.7194799110210365e-16
         ],
         "yaxis": "y"
        },
        {
         "hoverinfo": "text",
         "marker": {
          "color": "rgb(35,205,205)"
         },
         "mode": "lines",
         "type": "scatter",
         "x": [
          200,
          200,
          231.25,
          231.25
         ],
         "xaxis": "x",
         "y": [
          0.00011396203951301823,
          0.00040370154058012804,
          0.00040370154058012804,
          0.00017520713042771562
         ],
         "yaxis": "y"
        },
        {
         "hoverinfo": "text",
         "marker": {
          "color": "rgb(35,205,205)"
         },
         "mode": "lines",
         "type": "scatter",
         "x": [
          185,
          185,
          215.625,
          215.625
         ],
         "xaxis": "x",
         "y": [
          0,
          0.0007531233620007472,
          0.0007531233620007472,
          0.00040370154058012804
         ],
         "yaxis": "y"
        },
        {
         "hoverinfo": "text",
         "marker": {
          "color": "rgb(35,205,205)"
         },
         "mode": "lines",
         "type": "scatter",
         "x": [
          265,
          265,
          275,
          275
         ],
         "xaxis": "x",
         "y": [
          0,
          0.0010206239546132398,
          0.0010206239546132398,
          0
         ],
         "yaxis": "y"
        },
        {
         "hoverinfo": "text",
         "marker": {
          "color": "rgb(35,205,205)"
         },
         "mode": "lines",
         "type": "scatter",
         "x": [
          200.3125,
          200.3125,
          270,
          270
         ],
         "xaxis": "x",
         "y": [
          0.0007531233620007472,
          0.004033014979927821,
          0.004033014979927821,
          0.0010206239546132398
         ],
         "yaxis": "y"
        },
        {
         "hoverinfo": "text",
         "marker": {
          "color": "rgb(133,20,75)"
         },
         "mode": "lines",
         "type": "scatter",
         "x": [
          295,
          295,
          305,
          305
         ],
         "xaxis": "x",
         "y": [
          0,
          1.5010316160844344,
          1.5010316160844344,
          0
         ],
         "yaxis": "y"
        },
        {
         "hoverinfo": "text",
         "marker": {
          "color": "rgb(0,116,217)"
         },
         "mode": "lines",
         "type": "scatter",
         "x": [
          285,
          285,
          300,
          300
         ],
         "xaxis": "x",
         "y": [
          0,
          2.8070020854957507,
          2.8070020854957507,
          1.5010316160844344
         ],
         "yaxis": "y"
        },
        {
         "hoverinfo": "text",
         "marker": {
          "color": "rgb(0,116,217)"
         },
         "mode": "lines",
         "type": "scatter",
         "x": [
          235.15625,
          235.15625,
          292.5,
          292.5
         ],
         "xaxis": "x",
         "y": [
          0.004033014979927821,
          4.358859047972136,
          4.358859047972136,
          2.8070020854957507
         ],
         "yaxis": "y"
        },
        {
         "hoverinfo": "text",
         "marker": {
          "color": "rgb(255,220,0)"
         },
         "mode": "lines",
         "type": "scatter",
         "x": [
          325,
          325,
          335,
          335
         ],
         "xaxis": "x",
         "y": [
          0,
          0.3256374044017463,
          0.3256374044017463,
          0
         ],
         "yaxis": "y"
        },
        {
         "hoverinfo": "text",
         "marker": {
          "color": "rgb(255,220,0)"
         },
         "mode": "lines",
         "type": "scatter",
         "x": [
          315,
          315,
          330,
          330
         ],
         "xaxis": "x",
         "y": [
          0,
          0.7816513603252736,
          0.7816513603252736,
          0.3256374044017463
         ],
         "yaxis": "y"
        },
        {
         "hoverinfo": "text",
         "marker": {
          "color": "rgb(40,35,35)"
         },
         "mode": "lines",
         "type": "scatter",
         "x": [
          355,
          355,
          365,
          365
         ],
         "xaxis": "x",
         "y": [
          0,
          3.1401849173675503e-16,
          3.1401849173675503e-16,
          0
         ],
         "yaxis": "y"
        },
        {
         "hoverinfo": "text",
         "marker": {
          "color": "rgb(40,35,35)"
         },
         "mode": "lines",
         "type": "scatter",
         "x": [
          345,
          345,
          360,
          360
         ],
         "xaxis": "x",
         "y": [
          0,
          1.1660453341919987,
          1.1660453341919987,
          3.1401849173675503e-16
         ],
         "yaxis": "y"
        },
        {
         "hoverinfo": "text",
         "marker": {
          "color": "rgb(0,116,217)"
         },
         "mode": "lines",
         "type": "scatter",
         "x": [
          322.5,
          322.5,
          352.5,
          352.5
         ],
         "xaxis": "x",
         "y": [
          0.7816513603252736,
          5.130600056627661,
          5.130600056627661,
          1.1660453341919987
         ],
         "yaxis": "y"
        },
        {
         "hoverinfo": "text",
         "marker": {
          "color": "rgb(0,116,217)"
         },
         "mode": "lines",
         "type": "scatter",
         "x": [
          263.828125,
          263.828125,
          337.5,
          337.5
         ],
         "xaxis": "x",
         "y": [
          4.358859047972136,
          10.394667294969729,
          10.394667294969729,
          5.130600056627661
         ],
         "yaxis": "y"
        },
        {
         "hoverinfo": "text",
         "marker": {
          "color": "rgb(61,153,112)"
         },
         "mode": "lines",
         "type": "scatter",
         "x": [
          385,
          385,
          395,
          395
         ],
         "xaxis": "x",
         "y": [
          0,
          0,
          0,
          0
         ],
         "yaxis": "y"
        },
        {
         "hoverinfo": "text",
         "marker": {
          "color": "rgb(61,153,112)"
         },
         "mode": "lines",
         "type": "scatter",
         "x": [
          375,
          375,
          390,
          390
         ],
         "xaxis": "x",
         "y": [
          0,
          0,
          0,
          0
         ],
         "yaxis": "y"
        },
        {
         "hoverinfo": "text",
         "marker": {
          "color": "rgb(255,65,54)"
         },
         "mode": "lines",
         "type": "scatter",
         "x": [
          405,
          405,
          415,
          415
         ],
         "xaxis": "x",
         "y": [
          0,
          0,
          0,
          0
         ],
         "yaxis": "y"
        },
        {
         "hoverinfo": "text",
         "marker": {
          "color": "rgb(255,65,54)"
         },
         "mode": "lines",
         "type": "scatter",
         "x": [
          425,
          425,
          435,
          435
         ],
         "xaxis": "x",
         "y": [
          0,
          0,
          0,
          0
         ],
         "yaxis": "y"
        },
        {
         "hoverinfo": "text",
         "marker": {
          "color": "rgb(255,65,54)"
         },
         "mode": "lines",
         "type": "scatter",
         "x": [
          410,
          410,
          430,
          430
         ],
         "xaxis": "x",
         "y": [
          0,
          1.455558134250808,
          1.455558134250808,
          0
         ],
         "yaxis": "y"
        },
        {
         "hoverinfo": "text",
         "marker": {
          "color": "rgb(0,116,217)"
         },
         "mode": "lines",
         "type": "scatter",
         "x": [
          382.5,
          382.5,
          420,
          420
         ],
         "xaxis": "x",
         "y": [
          0,
          2.162005023719258,
          2.162005023719258,
          1.455558134250808
         ],
         "yaxis": "y"
        },
        {
         "hoverinfo": "text",
         "marker": {
          "color": "rgb(35,205,205)"
         },
         "mode": "lines",
         "type": "scatter",
         "x": [
          465,
          465,
          475,
          475
         ],
         "xaxis": "x",
         "y": [
          0,
          0,
          0,
          0
         ],
         "yaxis": "y"
        },
        {
         "hoverinfo": "text",
         "marker": {
          "color": "rgb(35,205,205)"
         },
         "mode": "lines",
         "type": "scatter",
         "x": [
          455,
          455,
          470,
          470
         ],
         "xaxis": "x",
         "y": [
          0,
          0,
          0,
          0
         ],
         "yaxis": "y"
        },
        {
         "hoverinfo": "text",
         "marker": {
          "color": "rgb(35,205,205)"
         },
         "mode": "lines",
         "type": "scatter",
         "x": [
          445,
          445,
          462.5,
          462.5
         ],
         "xaxis": "x",
         "y": [
          0,
          0,
          0,
          0
         ],
         "yaxis": "y"
        },
        {
         "hoverinfo": "text",
         "marker": {
          "color": "rgb(61,153,112)"
         },
         "mode": "lines",
         "type": "scatter",
         "x": [
          495,
          495,
          505,
          505
         ],
         "xaxis": "x",
         "y": [
          0,
          1.0292350271399855,
          1.0292350271399855,
          0
         ],
         "yaxis": "y"
        },
        {
         "hoverinfo": "text",
         "marker": {
          "color": "rgb(61,153,112)"
         },
         "mode": "lines",
         "type": "scatter",
         "x": [
          485,
          485,
          500,
          500
         ],
         "xaxis": "x",
         "y": [
          0,
          1.3482470112069223,
          1.3482470112069223,
          1.0292350271399855
         ],
         "yaxis": "y"
        },
        {
         "hoverinfo": "text",
         "marker": {
          "color": "rgb(255,65,54)"
         },
         "mode": "lines",
         "type": "scatter",
         "x": [
          525,
          525,
          535,
          535
         ],
         "xaxis": "x",
         "y": [
          0,
          0,
          0,
          0
         ],
         "yaxis": "y"
        },
        {
         "hoverinfo": "text",
         "marker": {
          "color": "rgb(255,65,54)"
         },
         "mode": "lines",
         "type": "scatter",
         "x": [
          515,
          515,
          530,
          530
         ],
         "xaxis": "x",
         "y": [
          0,
          1.5253473544486778,
          1.5253473544486778,
          0
         ],
         "yaxis": "y"
        },
        {
         "hoverinfo": "text",
         "marker": {
          "color": "rgb(0,116,217)"
         },
         "mode": "lines",
         "type": "scatter",
         "x": [
          492.5,
          492.5,
          522.5,
          522.5
         ],
         "xaxis": "x",
         "y": [
          1.3482470112069223,
          3.6281211071502186,
          3.6281211071502186,
          1.5253473544486778
         ],
         "yaxis": "y"
        },
        {
         "hoverinfo": "text",
         "marker": {
          "color": "rgb(0,116,217)"
         },
         "mode": "lines",
         "type": "scatter",
         "x": [
          453.75,
          453.75,
          507.5,
          507.5
         ],
         "xaxis": "x",
         "y": [
          0,
          6.653384143999578,
          6.653384143999578,
          3.6281211071502186
         ],
         "yaxis": "y"
        },
        {
         "hoverinfo": "text",
         "marker": {
          "color": "rgb(35,205,205)"
         },
         "mode": "lines",
         "type": "scatter",
         "x": [
          545,
          545,
          555,
          555
         ],
         "xaxis": "x",
         "y": [
          0,
          3.1401849173675503e-16,
          3.1401849173675503e-16,
          0
         ],
         "yaxis": "y"
        },
        {
         "hoverinfo": "text",
         "marker": {
          "color": "rgb(35,205,205)"
         },
         "mode": "lines",
         "type": "scatter",
         "x": [
          575,
          575,
          585,
          585
         ],
         "xaxis": "x",
         "y": [
          0,
          2.482534153247273e-16,
          2.482534153247273e-16,
          0
         ],
         "yaxis": "y"
        },
        {
         "hoverinfo": "text",
         "marker": {
          "color": "rgb(35,205,205)"
         },
         "mode": "lines",
         "type": "scatter",
         "x": [
          565,
          565,
          580,
          580
         ],
         "xaxis": "x",
         "y": [
          0,
          0.009776831623825371,
          0.009776831623825371,
          2.482534153247273e-16
         ],
         "yaxis": "y"
        },
        {
         "hoverinfo": "text",
         "marker": {
          "color": "rgb(35,205,205)"
         },
         "mode": "lines",
         "type": "scatter",
         "x": [
          550,
          550,
          572.5,
          572.5
         ],
         "xaxis": "x",
         "y": [
          3.1401849173675503e-16,
          0.2403939265624247,
          0.2403939265624247,
          0.009776831623825371
         ],
         "yaxis": "y"
        },
        {
         "hoverinfo": "text",
         "marker": {
          "color": "rgb(133,20,75)"
         },
         "mode": "lines",
         "type": "scatter",
         "x": [
          605,
          605,
          615,
          615
         ],
         "xaxis": "x",
         "y": [
          0,
          0,
          0,
          0
         ],
         "yaxis": "y"
        },
        {
         "hoverinfo": "text",
         "marker": {
          "color": "rgb(133,20,75)"
         },
         "mode": "lines",
         "type": "scatter",
         "x": [
          595,
          595,
          610,
          610
         ],
         "xaxis": "x",
         "y": [
          0,
          0,
          0,
          0
         ],
         "yaxis": "y"
        },
        {
         "hoverinfo": "text",
         "marker": {
          "color": "rgb(255,220,0)"
         },
         "mode": "lines",
         "type": "scatter",
         "x": [
          635,
          635,
          645,
          645
         ],
         "xaxis": "x",
         "y": [
          0,
          0,
          0,
          0
         ],
         "yaxis": "y"
        },
        {
         "hoverinfo": "text",
         "marker": {
          "color": "rgb(0,116,217)"
         },
         "mode": "lines",
         "type": "scatter",
         "x": [
          625,
          625,
          640,
          640
         ],
         "xaxis": "x",
         "y": [
          0,
          2.022649320924544,
          2.022649320924544,
          0
         ],
         "yaxis": "y"
        },
        {
         "hoverinfo": "text",
         "marker": {
          "color": "rgb(0,116,217)"
         },
         "mode": "lines",
         "type": "scatter",
         "x": [
          602.5,
          602.5,
          632.5,
          632.5
         ],
         "xaxis": "x",
         "y": [
          0,
          4.137898174673611,
          4.137898174673611,
          2.022649320924544
         ],
         "yaxis": "y"
        },
        {
         "hoverinfo": "text",
         "marker": {
          "color": "rgb(40,35,35)"
         },
         "mode": "lines",
         "type": "scatter",
         "x": [
          665,
          665,
          675,
          675
         ],
         "xaxis": "x",
         "y": [
          0,
          0.008466984554755934,
          0.008466984554755934,
          0
         ],
         "yaxis": "y"
        },
        {
         "hoverinfo": "text",
         "marker": {
          "color": "rgb(40,35,35)"
         },
         "mode": "lines",
         "type": "scatter",
         "x": [
          655,
          655,
          670,
          670
         ],
         "xaxis": "x",
         "y": [
          0,
          0.17817321657783325,
          0.17817321657783325,
          0.008466984554755934
         ],
         "yaxis": "y"
        },
        {
         "hoverinfo": "text",
         "marker": {
          "color": "rgb(61,153,112)"
         },
         "mode": "lines",
         "type": "scatter",
         "x": [
          705,
          705,
          715,
          715
         ],
         "xaxis": "x",
         "y": [
          0,
          0,
          0,
          0
         ],
         "yaxis": "y"
        },
        {
         "hoverinfo": "text",
         "marker": {
          "color": "rgb(61,153,112)"
         },
         "mode": "lines",
         "type": "scatter",
         "x": [
          695,
          695,
          710,
          710
         ],
         "xaxis": "x",
         "y": [
          0,
          1.2819751242557092e-16,
          1.2819751242557092e-16,
          0
         ],
         "yaxis": "y"
        },
        {
         "hoverinfo": "text",
         "marker": {
          "color": "rgb(61,153,112)"
         },
         "mode": "lines",
         "type": "scatter",
         "x": [
          685,
          685,
          702.5,
          702.5
         ],
         "xaxis": "x",
         "y": [
          0,
          1.4332917616497527e-16,
          1.4332917616497527e-16,
          1.2819751242557092e-16
         ],
         "yaxis": "y"
        },
        {
         "hoverinfo": "text",
         "marker": {
          "color": "rgb(255,65,54)"
         },
         "mode": "lines",
         "type": "scatter",
         "x": [
          735,
          735,
          745,
          745
         ],
         "xaxis": "x",
         "y": [
          0,
          0,
          0,
          0
         ],
         "yaxis": "y"
        },
        {
         "hoverinfo": "text",
         "marker": {
          "color": "rgb(255,65,54)"
         },
         "mode": "lines",
         "type": "scatter",
         "x": [
          725,
          725,
          740,
          740
         ],
         "xaxis": "x",
         "y": [
          0,
          0,
          0,
          0
         ],
         "yaxis": "y"
        },
        {
         "hoverinfo": "text",
         "marker": {
          "color": "rgb(35,205,205)"
         },
         "mode": "lines",
         "type": "scatter",
         "x": [
          755,
          755,
          765,
          765
         ],
         "xaxis": "x",
         "y": [
          0,
          0,
          0,
          0
         ],
         "yaxis": "y"
        },
        {
         "hoverinfo": "text",
         "marker": {
          "color": "rgb(61,153,112)"
         },
         "mode": "lines",
         "type": "scatter",
         "x": [
          775,
          775,
          785,
          785
         ],
         "xaxis": "x",
         "y": [
          0,
          1.7516656948679992,
          1.7516656948679992,
          0
         ],
         "yaxis": "y"
        },
        {
         "hoverinfo": "text",
         "marker": {
          "color": "rgb(0,116,217)"
         },
         "mode": "lines",
         "type": "scatter",
         "x": [
          760,
          760,
          780,
          780
         ],
         "xaxis": "x",
         "y": [
          0,
          3.101101124692065,
          3.101101124692065,
          1.7516656948679992
         ],
         "yaxis": "y"
        },
        {
         "hoverinfo": "text",
         "marker": {
          "color": "rgb(255,65,54)"
         },
         "mode": "lines",
         "type": "scatter",
         "x": [
          795,
          795,
          805,
          805
         ],
         "xaxis": "x",
         "y": [
          0,
          0,
          0,
          0
         ],
         "yaxis": "y"
        },
        {
         "hoverinfo": "text",
         "marker": {
          "color": "rgb(35,205,205)"
         },
         "mode": "lines",
         "type": "scatter",
         "x": [
          815,
          815,
          825,
          825
         ],
         "xaxis": "x",
         "y": [
          0,
          0,
          0,
          0
         ],
         "yaxis": "y"
        },
        {
         "hoverinfo": "text",
         "marker": {
          "color": "rgb(133,20,75)"
         },
         "mode": "lines",
         "type": "scatter",
         "x": [
          835,
          835,
          845,
          845
         ],
         "xaxis": "x",
         "y": [
          0,
          0,
          0,
          0
         ],
         "yaxis": "y"
        },
        {
         "hoverinfo": "text",
         "marker": {
          "color": "rgb(255,220,0)"
         },
         "mode": "lines",
         "type": "scatter",
         "x": [
          865,
          865,
          875,
          875
         ],
         "xaxis": "x",
         "y": [
          0,
          1.5700924586837752e-16,
          1.5700924586837752e-16,
          0
         ],
         "yaxis": "y"
        },
        {
         "hoverinfo": "text",
         "marker": {
          "color": "rgb(40,35,35)"
         },
         "mode": "lines",
         "type": "scatter",
         "x": [
          885,
          885,
          895,
          895
         ],
         "xaxis": "x",
         "y": [
          0,
          0,
          0,
          0
         ],
         "yaxis": "y"
        },
        {
         "hoverinfo": "text",
         "marker": {
          "color": "rgb(61,153,112)"
         },
         "mode": "lines",
         "type": "scatter",
         "x": [
          905,
          905,
          915,
          915
         ],
         "xaxis": "x",
         "y": [
          0,
          1.678090797426601e-9,
          1.678090797426601e-9,
          0
         ],
         "yaxis": "y"
        },
        {
         "hoverinfo": "text",
         "marker": {
          "color": "rgb(255,65,54)"
         },
         "mode": "lines",
         "type": "scatter",
         "x": [
          1055,
          1055,
          1065,
          1065
         ],
         "xaxis": "x",
         "y": [
          0,
          1.4142135623730951,
          1.4142135623730951,
          0
         ],
         "yaxis": "y"
        },
        {
         "hoverinfo": "text",
         "marker": {
          "color": "rgb(255,65,54)"
         },
         "mode": "lines",
         "type": "scatter",
         "x": [
          1045,
          1045,
          1060,
          1060
         ],
         "xaxis": "x",
         "y": [
          0,
          1.4142135623730951,
          1.4142135623730951,
          1.4142135623730951
         ],
         "yaxis": "y"
        },
        {
         "hoverinfo": "text",
         "marker": {
          "color": "rgb(255,65,54)"
         },
         "mode": "lines",
         "type": "scatter",
         "x": [
          1035,
          1035,
          1052.5,
          1052.5
         ],
         "xaxis": "x",
         "y": [
          0,
          1.4142135623730951,
          1.4142135623730951,
          1.4142135623730951
         ],
         "yaxis": "y"
        },
        {
         "hoverinfo": "text",
         "marker": {
          "color": "rgb(255,65,54)"
         },
         "mode": "lines",
         "type": "scatter",
         "x": [
          1025,
          1025,
          1043.75,
          1043.75
         ],
         "xaxis": "x",
         "y": [
          0,
          1.4142135623730951,
          1.4142135623730951,
          1.4142135623730951
         ],
         "yaxis": "y"
        },
        {
         "hoverinfo": "text",
         "marker": {
          "color": "rgb(255,65,54)"
         },
         "mode": "lines",
         "type": "scatter",
         "x": [
          1015,
          1015,
          1034.375,
          1034.375
         ],
         "xaxis": "x",
         "y": [
          0,
          1.4142135623730951,
          1.4142135623730951,
          1.4142135623730951
         ],
         "yaxis": "y"
        },
        {
         "hoverinfo": "text",
         "marker": {
          "color": "rgb(255,65,54)"
         },
         "mode": "lines",
         "type": "scatter",
         "x": [
          1005,
          1005,
          1024.6875,
          1024.6875
         ],
         "xaxis": "x",
         "y": [
          0,
          1.4142135623730951,
          1.4142135623730951,
          1.4142135623730951
         ],
         "yaxis": "y"
        },
        {
         "hoverinfo": "text",
         "marker": {
          "color": "rgb(255,65,54)"
         },
         "mode": "lines",
         "type": "scatter",
         "x": [
          995,
          995,
          1014.84375,
          1014.84375
         ],
         "xaxis": "x",
         "y": [
          0,
          1.4142135623730951,
          1.4142135623730951,
          1.4142135623730951
         ],
         "yaxis": "y"
        },
        {
         "hoverinfo": "text",
         "marker": {
          "color": "rgb(255,65,54)"
         },
         "mode": "lines",
         "type": "scatter",
         "x": [
          985,
          985,
          1004.921875,
          1004.921875
         ],
         "xaxis": "x",
         "y": [
          0,
          1.4142135623730951,
          1.4142135623730951,
          1.4142135623730951
         ],
         "yaxis": "y"
        },
        {
         "hoverinfo": "text",
         "marker": {
          "color": "rgb(255,65,54)"
         },
         "mode": "lines",
         "type": "scatter",
         "x": [
          975,
          975,
          994.9609375,
          994.9609375
         ],
         "xaxis": "x",
         "y": [
          0,
          1.4142135623730951,
          1.4142135623730951,
          1.4142135623730951
         ],
         "yaxis": "y"
        },
        {
         "hoverinfo": "text",
         "marker": {
          "color": "rgb(255,65,54)"
         },
         "mode": "lines",
         "type": "scatter",
         "x": [
          1125,
          1125,
          1135,
          1135
         ],
         "xaxis": "x",
         "y": [
          0,
          1.4142135623730951,
          1.4142135623730951,
          0
         ],
         "yaxis": "y"
        },
        {
         "hoverinfo": "text",
         "marker": {
          "color": "rgb(255,65,54)"
         },
         "mode": "lines",
         "type": "scatter",
         "x": [
          1115,
          1115,
          1130,
          1130
         ],
         "xaxis": "x",
         "y": [
          0,
          1.4142135623730951,
          1.4142135623730951,
          1.4142135623730951
         ],
         "yaxis": "y"
        },
        {
         "hoverinfo": "text",
         "marker": {
          "color": "rgb(255,65,54)"
         },
         "mode": "lines",
         "type": "scatter",
         "x": [
          1105,
          1105,
          1122.5,
          1122.5
         ],
         "xaxis": "x",
         "y": [
          0,
          1.4142135623730951,
          1.4142135623730951,
          1.4142135623730951
         ],
         "yaxis": "y"
        },
        {
         "hoverinfo": "text",
         "marker": {
          "color": "rgb(255,65,54)"
         },
         "mode": "lines",
         "type": "scatter",
         "x": [
          1095,
          1095,
          1113.75,
          1113.75
         ],
         "xaxis": "x",
         "y": [
          0,
          1.4142135623730951,
          1.4142135623730951,
          1.4142135623730951
         ],
         "yaxis": "y"
        },
        {
         "hoverinfo": "text",
         "marker": {
          "color": "rgb(255,65,54)"
         },
         "mode": "lines",
         "type": "scatter",
         "x": [
          1085,
          1085,
          1104.375,
          1104.375
         ],
         "xaxis": "x",
         "y": [
          0,
          1.4142135623730951,
          1.4142135623730951,
          1.4142135623730951
         ],
         "yaxis": "y"
        },
        {
         "hoverinfo": "text",
         "marker": {
          "color": "rgb(255,65,54)"
         },
         "mode": "lines",
         "type": "scatter",
         "x": [
          1075,
          1075,
          1094.6875,
          1094.6875
         ],
         "xaxis": "x",
         "y": [
          0,
          1.4142135623730951,
          1.4142135623730951,
          1.4142135623730951
         ],
         "yaxis": "y"
        },
        {
         "hoverinfo": "text",
         "marker": {
          "color": "rgb(255,65,54)"
         },
         "mode": "lines",
         "type": "scatter",
         "x": [
          984.98046875,
          984.98046875,
          1084.84375,
          1084.84375
         ],
         "xaxis": "x",
         "y": [
          1.4142135623730951,
          1.4142135623730963,
          1.4142135623730963,
          1.4142135623730951
         ],
         "yaxis": "y"
        },
        {
         "hoverinfo": "text",
         "marker": {
          "color": "rgb(255,65,54)"
         },
         "mode": "lines",
         "type": "scatter",
         "x": [
          965,
          965,
          1034.912109375,
          1034.912109375
         ],
         "xaxis": "x",
         "y": [
          0,
          1.604573186519355,
          1.604573186519355,
          1.4142135623730963
         ],
         "yaxis": "y"
        },
        {
         "hoverinfo": "text",
         "marker": {
          "color": "rgb(255,65,54)"
         },
         "mode": "lines",
         "type": "scatter",
         "x": [
          955,
          955,
          999.9560546875,
          999.9560546875
         ],
         "xaxis": "x",
         "y": [
          0,
          1.6183741601690194,
          1.6183741601690194,
          1.604573186519355
         ],
         "yaxis": "y"
        },
        {
         "hoverinfo": "text",
         "marker": {
          "color": "rgb(0,116,217)"
         },
         "mode": "lines",
         "type": "scatter",
         "x": [
          945,
          945,
          977.47802734375,
          977.47802734375
         ],
         "xaxis": "x",
         "y": [
          0,
          2.3988818640634717,
          2.3988818640634717,
          1.6183741601690194
         ],
         "yaxis": "y"
        },
        {
         "hoverinfo": "text",
         "marker": {
          "color": "rgb(0,116,217)"
         },
         "mode": "lines",
         "type": "scatter",
         "x": [
          935,
          935,
          961.239013671875,
          961.239013671875
         ],
         "xaxis": "x",
         "y": [
          0,
          2.4128667338387118,
          2.4128667338387118,
          2.3988818640634717
         ],
         "yaxis": "y"
        },
        {
         "hoverinfo": "text",
         "marker": {
          "color": "rgb(0,116,217)"
         },
         "mode": "lines",
         "type": "scatter",
         "x": [
          925,
          925,
          948.1195068359375,
          948.1195068359375
         ],
         "xaxis": "x",
         "y": [
          0,
          2.5381040803517205,
          2.5381040803517205,
          2.4128667338387118
         ],
         "yaxis": "y"
        },
        {
         "hoverinfo": "text",
         "marker": {
          "color": "rgb(0,116,217)"
         },
         "mode": "lines",
         "type": "scatter",
         "x": [
          910,
          910,
          936.5597534179688,
          936.5597534179688
         ],
         "xaxis": "x",
         "y": [
          1.678090797426601e-9,
          2.7481684522981227,
          2.7481684522981227,
          2.5381040803517205
         ],
         "yaxis": "y"
        },
        {
         "hoverinfo": "text",
         "marker": {
          "color": "rgb(0,116,217)"
         },
         "mode": "lines",
         "type": "scatter",
         "x": [
          890,
          890,
          923.2798767089844,
          923.2798767089844
         ],
         "xaxis": "x",
         "y": [
          0,
          2.7606678171887262,
          2.7606678171887262,
          2.7481684522981227
         ],
         "yaxis": "y"
        },
        {
         "hoverinfo": "text",
         "marker": {
          "color": "rgb(0,116,217)"
         },
         "mode": "lines",
         "type": "scatter",
         "x": [
          870,
          870,
          906.6399383544922,
          906.6399383544922
         ],
         "xaxis": "x",
         "y": [
          1.5700924586837752e-16,
          2.7704491843425316,
          2.7704491843425316,
          2.7606678171887262
         ],
         "yaxis": "y"
        },
        {
         "hoverinfo": "text",
         "marker": {
          "color": "rgb(0,116,217)"
         },
         "mode": "lines",
         "type": "scatter",
         "x": [
          855,
          855,
          888.3199691772461,
          888.3199691772461
         ],
         "xaxis": "x",
         "y": [
          0,
          3.128181430928192,
          3.128181430928192,
          2.7704491843425316
         ],
         "yaxis": "y"
        },
        {
         "hoverinfo": "text",
         "marker": {
          "color": "rgb(35,205,205)"
         },
         "mode": "lines",
         "type": "scatter",
         "x": [
          1145,
          1145,
          1155,
          1155
         ],
         "xaxis": "x",
         "y": [
          0,
          1.5700924586837752e-16,
          1.5700924586837752e-16,
          0
         ],
         "yaxis": "y"
        },
        {
         "hoverinfo": "text",
         "marker": {
          "color": "rgb(61,153,112)"
         },
         "mode": "lines",
         "type": "scatter",
         "x": [
          1165,
          1165,
          1175,
          1175
         ],
         "xaxis": "x",
         "y": [
          0,
          0.02233332661028544,
          0.02233332661028544,
          0
         ],
         "yaxis": "y"
        },
        {
         "hoverinfo": "text",
         "marker": {
          "color": "rgb(0,116,217)"
         },
         "mode": "lines",
         "type": "scatter",
         "x": [
          1150,
          1150,
          1170,
          1170
         ],
         "xaxis": "x",
         "y": [
          1.5700924586837752e-16,
          3.4529530080724604,
          3.4529530080724604,
          0.02233332661028544
         ],
         "yaxis": "y"
        },
        {
         "hoverinfo": "text",
         "marker": {
          "color": "rgb(0,116,217)"
         },
         "mode": "lines",
         "type": "scatter",
         "x": [
          871.659984588623,
          871.659984588623,
          1160,
          1160
         ],
         "xaxis": "x",
         "y": [
          3.128181430928192,
          3.5225875779156026,
          3.5225875779156026,
          3.4529530080724604
         ],
         "yaxis": "y"
        },
        {
         "hoverinfo": "text",
         "marker": {
          "color": "rgb(0,116,217)"
         },
         "mode": "lines",
         "type": "scatter",
         "x": [
          840,
          840,
          1015.8299922943115,
          1015.8299922943115
         ],
         "xaxis": "x",
         "y": [
          0,
          3.6695679078952748,
          3.6695679078952748,
          3.5225875779156026
         ],
         "yaxis": "y"
        },
        {
         "hoverinfo": "text",
         "marker": {
          "color": "rgb(0,116,217)"
         },
         "mode": "lines",
         "type": "scatter",
         "x": [
          820,
          820,
          927.9149961471558,
          927.9149961471558
         ],
         "xaxis": "x",
         "y": [
          0,
          4.3700967425268065,
          4.3700967425268065,
          3.6695679078952748
         ],
         "yaxis": "y"
        },
        {
         "hoverinfo": "text",
         "marker": {
          "color": "rgb(0,116,217)"
         },
         "mode": "lines",
         "type": "scatter",
         "x": [
          800,
          800,
          873.9574980735779,
          873.9574980735779
         ],
         "xaxis": "x",
         "y": [
          0,
          5.094657015362441,
          5.094657015362441,
          4.3700967425268065
         ],
         "yaxis": "y"
        },
        {
         "hoverinfo": "text",
         "marker": {
          "color": "rgb(0,116,217)"
         },
         "mode": "lines",
         "type": "scatter",
         "x": [
          770,
          770,
          836.9787490367889,
          836.9787490367889
         ],
         "xaxis": "x",
         "y": [
          3.101101124692065,
          5.39296406254298,
          5.39296406254298,
          5.094657015362441
         ],
         "yaxis": "y"
        },
        {
         "hoverinfo": "text",
         "marker": {
          "color": "rgb(0,116,217)"
         },
         "mode": "lines",
         "type": "scatter",
         "x": [
          732.5,
          732.5,
          803.4893745183945,
          803.4893745183945
         ],
         "xaxis": "x",
         "y": [
          0,
          5.582940325974874,
          5.582940325974874,
          5.39296406254298
         ],
         "yaxis": "y"
        },
        {
         "hoverinfo": "text",
         "marker": {
          "color": "rgb(0,116,217)"
         },
         "mode": "lines",
         "type": "scatter",
         "x": [
          693.75,
          693.75,
          767.9946872591972,
          767.9946872591972
         ],
         "xaxis": "x",
         "y": [
          1.4332917616497527e-16,
          6.240249087733698,
          6.240249087733698,
          5.582940325974874
         ],
         "yaxis": "y"
        },
        {
         "hoverinfo": "text",
         "marker": {
          "color": "rgb(0,116,217)"
         },
         "mode": "lines",
         "type": "scatter",
         "x": [
          662.5,
          662.5,
          730.8723436295986,
          730.8723436295986
         ],
         "xaxis": "x",
         "y": [
          0.17817321657783325,
          6.594995749634879,
          6.594995749634879,
          6.240249087733698
         ],
         "yaxis": "y"
        },
        {
         "hoverinfo": "text",
         "marker": {
          "color": "rgb(0,116,217)"
         },
         "mode": "lines",
         "type": "scatter",
         "x": [
          617.5,
          617.5,
          696.6861718147993,
          696.6861718147993
         ],
         "xaxis": "x",
         "y": [
          4.137898174673611,
          6.767788229855059,
          6.767788229855059,
          6.594995749634879
         ],
         "yaxis": "y"
        },
        {
         "hoverinfo": "text",
         "marker": {
          "color": "rgb(0,116,217)"
         },
         "mode": "lines",
         "type": "scatter",
         "x": [
          561.25,
          561.25,
          657.0930859073997,
          657.0930859073997
         ],
         "xaxis": "x",
         "y": [
          0.2403939265624247,
          8.810937421799052,
          8.810937421799052,
          6.767788229855059
         ],
         "yaxis": "y"
        },
        {
         "hoverinfo": "text",
         "marker": {
          "color": "rgb(0,116,217)"
         },
         "mode": "lines",
         "type": "scatter",
         "x": [
          480.625,
          480.625,
          609.1715429536998,
          609.1715429536998
         ],
         "xaxis": "x",
         "y": [
          6.653384143999578,
          9.190876851720008,
          9.190876851720008,
          8.810937421799052
         ],
         "yaxis": "y"
        },
        {
         "hoverinfo": "text",
         "marker": {
          "color": "rgb(0,116,217)"
         },
         "mode": "lines",
         "type": "scatter",
         "x": [
          401.25,
          401.25,
          544.8982714768499,
          544.8982714768499
         ],
         "xaxis": "x",
         "y": [
          2.162005023719258,
          12.504098306093173,
          12.504098306093173,
          9.190876851720008
         ],
         "yaxis": "y"
        },
        {
         "hoverinfo": "text",
         "marker": {
          "color": "rgb(0,116,217)"
         },
         "mode": "lines",
         "type": "scatter",
         "x": [
          300.6640625,
          300.6640625,
          473.07413573842496,
          473.07413573842496
         ],
         "xaxis": "x",
         "y": [
          10.394667294969729,
          22.6112904598993,
          22.6112904598993,
          12.504098306093173
         ],
         "yaxis": "y"
        },
        {
         "hoverinfo": "text",
         "marker": {
          "color": "rgb(0,116,217)"
         },
         "mode": "lines",
         "type": "scatter",
         "x": [
          40.6640625,
          40.6640625,
          386.8690991192125,
          386.8690991192125
         ],
         "xaxis": "x",
         "y": [
          5.780194814736964,
          30.671476012872436,
          30.671476012872436,
          22.6112904598993
         ],
         "yaxis": "y"
        }
       ],
       "layout": {
        "autosize": false,
        "height": 800,
        "hovermode": "closest",
        "showlegend": false,
        "template": {
         "data": {
          "bar": [
           {
            "error_x": {
             "color": "#2a3f5f"
            },
            "error_y": {
             "color": "#2a3f5f"
            },
            "marker": {
             "line": {
              "color": "#E5ECF6",
              "width": 0.5
             },
             "pattern": {
              "fillmode": "overlay",
              "size": 10,
              "solidity": 0.2
             }
            },
            "type": "bar"
           }
          ],
          "barpolar": [
           {
            "marker": {
             "line": {
              "color": "#E5ECF6",
              "width": 0.5
             },
             "pattern": {
              "fillmode": "overlay",
              "size": 10,
              "solidity": 0.2
             }
            },
            "type": "barpolar"
           }
          ],
          "carpet": [
           {
            "aaxis": {
             "endlinecolor": "#2a3f5f",
             "gridcolor": "white",
             "linecolor": "white",
             "minorgridcolor": "white",
             "startlinecolor": "#2a3f5f"
            },
            "baxis": {
             "endlinecolor": "#2a3f5f",
             "gridcolor": "white",
             "linecolor": "white",
             "minorgridcolor": "white",
             "startlinecolor": "#2a3f5f"
            },
            "type": "carpet"
           }
          ],
          "choropleth": [
           {
            "colorbar": {
             "outlinewidth": 0,
             "ticks": ""
            },
            "type": "choropleth"
           }
          ],
          "contour": [
           {
            "colorbar": {
             "outlinewidth": 0,
             "ticks": ""
            },
            "colorscale": [
             [
              0,
              "#0d0887"
             ],
             [
              0.1111111111111111,
              "#46039f"
             ],
             [
              0.2222222222222222,
              "#7201a8"
             ],
             [
              0.3333333333333333,
              "#9c179e"
             ],
             [
              0.4444444444444444,
              "#bd3786"
             ],
             [
              0.5555555555555556,
              "#d8576b"
             ],
             [
              0.6666666666666666,
              "#ed7953"
             ],
             [
              0.7777777777777778,
              "#fb9f3a"
             ],
             [
              0.8888888888888888,
              "#fdca26"
             ],
             [
              1,
              "#f0f921"
             ]
            ],
            "type": "contour"
           }
          ],
          "contourcarpet": [
           {
            "colorbar": {
             "outlinewidth": 0,
             "ticks": ""
            },
            "type": "contourcarpet"
           }
          ],
          "heatmap": [
           {
            "colorbar": {
             "outlinewidth": 0,
             "ticks": ""
            },
            "colorscale": [
             [
              0,
              "#0d0887"
             ],
             [
              0.1111111111111111,
              "#46039f"
             ],
             [
              0.2222222222222222,
              "#7201a8"
             ],
             [
              0.3333333333333333,
              "#9c179e"
             ],
             [
              0.4444444444444444,
              "#bd3786"
             ],
             [
              0.5555555555555556,
              "#d8576b"
             ],
             [
              0.6666666666666666,
              "#ed7953"
             ],
             [
              0.7777777777777778,
              "#fb9f3a"
             ],
             [
              0.8888888888888888,
              "#fdca26"
             ],
             [
              1,
              "#f0f921"
             ]
            ],
            "type": "heatmap"
           }
          ],
          "heatmapgl": [
           {
            "colorbar": {
             "outlinewidth": 0,
             "ticks": ""
            },
            "colorscale": [
             [
              0,
              "#0d0887"
             ],
             [
              0.1111111111111111,
              "#46039f"
             ],
             [
              0.2222222222222222,
              "#7201a8"
             ],
             [
              0.3333333333333333,
              "#9c179e"
             ],
             [
              0.4444444444444444,
              "#bd3786"
             ],
             [
              0.5555555555555556,
              "#d8576b"
             ],
             [
              0.6666666666666666,
              "#ed7953"
             ],
             [
              0.7777777777777778,
              "#fb9f3a"
             ],
             [
              0.8888888888888888,
              "#fdca26"
             ],
             [
              1,
              "#f0f921"
             ]
            ],
            "type": "heatmapgl"
           }
          ],
          "histogram": [
           {
            "marker": {
             "pattern": {
              "fillmode": "overlay",
              "size": 10,
              "solidity": 0.2
             }
            },
            "type": "histogram"
           }
          ],
          "histogram2d": [
           {
            "colorbar": {
             "outlinewidth": 0,
             "ticks": ""
            },
            "colorscale": [
             [
              0,
              "#0d0887"
             ],
             [
              0.1111111111111111,
              "#46039f"
             ],
             [
              0.2222222222222222,
              "#7201a8"
             ],
             [
              0.3333333333333333,
              "#9c179e"
             ],
             [
              0.4444444444444444,
              "#bd3786"
             ],
             [
              0.5555555555555556,
              "#d8576b"
             ],
             [
              0.6666666666666666,
              "#ed7953"
             ],
             [
              0.7777777777777778,
              "#fb9f3a"
             ],
             [
              0.8888888888888888,
              "#fdca26"
             ],
             [
              1,
              "#f0f921"
             ]
            ],
            "type": "histogram2d"
           }
          ],
          "histogram2dcontour": [
           {
            "colorbar": {
             "outlinewidth": 0,
             "ticks": ""
            },
            "colorscale": [
             [
              0,
              "#0d0887"
             ],
             [
              0.1111111111111111,
              "#46039f"
             ],
             [
              0.2222222222222222,
              "#7201a8"
             ],
             [
              0.3333333333333333,
              "#9c179e"
             ],
             [
              0.4444444444444444,
              "#bd3786"
             ],
             [
              0.5555555555555556,
              "#d8576b"
             ],
             [
              0.6666666666666666,
              "#ed7953"
             ],
             [
              0.7777777777777778,
              "#fb9f3a"
             ],
             [
              0.8888888888888888,
              "#fdca26"
             ],
             [
              1,
              "#f0f921"
             ]
            ],
            "type": "histogram2dcontour"
           }
          ],
          "mesh3d": [
           {
            "colorbar": {
             "outlinewidth": 0,
             "ticks": ""
            },
            "type": "mesh3d"
           }
          ],
          "parcoords": [
           {
            "line": {
             "colorbar": {
              "outlinewidth": 0,
              "ticks": ""
             }
            },
            "type": "parcoords"
           }
          ],
          "pie": [
           {
            "automargin": true,
            "type": "pie"
           }
          ],
          "scatter": [
           {
            "fillpattern": {
             "fillmode": "overlay",
             "size": 10,
             "solidity": 0.2
            },
            "type": "scatter"
           }
          ],
          "scatter3d": [
           {
            "line": {
             "colorbar": {
              "outlinewidth": 0,
              "ticks": ""
             }
            },
            "marker": {
             "colorbar": {
              "outlinewidth": 0,
              "ticks": ""
             }
            },
            "type": "scatter3d"
           }
          ],
          "scattercarpet": [
           {
            "marker": {
             "colorbar": {
              "outlinewidth": 0,
              "ticks": ""
             }
            },
            "type": "scattercarpet"
           }
          ],
          "scattergeo": [
           {
            "marker": {
             "colorbar": {
              "outlinewidth": 0,
              "ticks": ""
             }
            },
            "type": "scattergeo"
           }
          ],
          "scattergl": [
           {
            "marker": {
             "colorbar": {
              "outlinewidth": 0,
              "ticks": ""
             }
            },
            "type": "scattergl"
           }
          ],
          "scattermapbox": [
           {
            "marker": {
             "colorbar": {
              "outlinewidth": 0,
              "ticks": ""
             }
            },
            "type": "scattermapbox"
           }
          ],
          "scatterpolar": [
           {
            "marker": {
             "colorbar": {
              "outlinewidth": 0,
              "ticks": ""
             }
            },
            "type": "scatterpolar"
           }
          ],
          "scatterpolargl": [
           {
            "marker": {
             "colorbar": {
              "outlinewidth": 0,
              "ticks": ""
             }
            },
            "type": "scatterpolargl"
           }
          ],
          "scatterternary": [
           {
            "marker": {
             "colorbar": {
              "outlinewidth": 0,
              "ticks": ""
             }
            },
            "type": "scatterternary"
           }
          ],
          "surface": [
           {
            "colorbar": {
             "outlinewidth": 0,
             "ticks": ""
            },
            "colorscale": [
             [
              0,
              "#0d0887"
             ],
             [
              0.1111111111111111,
              "#46039f"
             ],
             [
              0.2222222222222222,
              "#7201a8"
             ],
             [
              0.3333333333333333,
              "#9c179e"
             ],
             [
              0.4444444444444444,
              "#bd3786"
             ],
             [
              0.5555555555555556,
              "#d8576b"
             ],
             [
              0.6666666666666666,
              "#ed7953"
             ],
             [
              0.7777777777777778,
              "#fb9f3a"
             ],
             [
              0.8888888888888888,
              "#fdca26"
             ],
             [
              1,
              "#f0f921"
             ]
            ],
            "type": "surface"
           }
          ],
          "table": [
           {
            "cells": {
             "fill": {
              "color": "#EBF0F8"
             },
             "line": {
              "color": "white"
             }
            },
            "header": {
             "fill": {
              "color": "#C8D4E3"
             },
             "line": {
              "color": "white"
             }
            },
            "type": "table"
           }
          ]
         },
         "layout": {
          "annotationdefaults": {
           "arrowcolor": "#2a3f5f",
           "arrowhead": 0,
           "arrowwidth": 1
          },
          "autotypenumbers": "strict",
          "coloraxis": {
           "colorbar": {
            "outlinewidth": 0,
            "ticks": ""
           }
          },
          "colorscale": {
           "diverging": [
            [
             0,
             "#8e0152"
            ],
            [
             0.1,
             "#c51b7d"
            ],
            [
             0.2,
             "#de77ae"
            ],
            [
             0.3,
             "#f1b6da"
            ],
            [
             0.4,
             "#fde0ef"
            ],
            [
             0.5,
             "#f7f7f7"
            ],
            [
             0.6,
             "#e6f5d0"
            ],
            [
             0.7,
             "#b8e186"
            ],
            [
             0.8,
             "#7fbc41"
            ],
            [
             0.9,
             "#4d9221"
            ],
            [
             1,
             "#276419"
            ]
           ],
           "sequential": [
            [
             0,
             "#0d0887"
            ],
            [
             0.1111111111111111,
             "#46039f"
            ],
            [
             0.2222222222222222,
             "#7201a8"
            ],
            [
             0.3333333333333333,
             "#9c179e"
            ],
            [
             0.4444444444444444,
             "#bd3786"
            ],
            [
             0.5555555555555556,
             "#d8576b"
            ],
            [
             0.6666666666666666,
             "#ed7953"
            ],
            [
             0.7777777777777778,
             "#fb9f3a"
            ],
            [
             0.8888888888888888,
             "#fdca26"
            ],
            [
             1,
             "#f0f921"
            ]
           ],
           "sequentialminus": [
            [
             0,
             "#0d0887"
            ],
            [
             0.1111111111111111,
             "#46039f"
            ],
            [
             0.2222222222222222,
             "#7201a8"
            ],
            [
             0.3333333333333333,
             "#9c179e"
            ],
            [
             0.4444444444444444,
             "#bd3786"
            ],
            [
             0.5555555555555556,
             "#d8576b"
            ],
            [
             0.6666666666666666,
             "#ed7953"
            ],
            [
             0.7777777777777778,
             "#fb9f3a"
            ],
            [
             0.8888888888888888,
             "#fdca26"
            ],
            [
             1,
             "#f0f921"
            ]
           ]
          },
          "colorway": [
           "#636efa",
           "#EF553B",
           "#00cc96",
           "#ab63fa",
           "#FFA15A",
           "#19d3f3",
           "#FF6692",
           "#B6E880",
           "#FF97FF",
           "#FECB52"
          ],
          "font": {
           "color": "#2a3f5f"
          },
          "geo": {
           "bgcolor": "white",
           "lakecolor": "white",
           "landcolor": "#E5ECF6",
           "showlakes": true,
           "showland": true,
           "subunitcolor": "white"
          },
          "hoverlabel": {
           "align": "left"
          },
          "hovermode": "closest",
          "mapbox": {
           "style": "light"
          },
          "paper_bgcolor": "white",
          "plot_bgcolor": "#E5ECF6",
          "polar": {
           "angularaxis": {
            "gridcolor": "white",
            "linecolor": "white",
            "ticks": ""
           },
           "bgcolor": "#E5ECF6",
           "radialaxis": {
            "gridcolor": "white",
            "linecolor": "white",
            "ticks": ""
           }
          },
          "scene": {
           "xaxis": {
            "backgroundcolor": "#E5ECF6",
            "gridcolor": "white",
            "gridwidth": 2,
            "linecolor": "white",
            "showbackground": true,
            "ticks": "",
            "zerolinecolor": "white"
           },
           "yaxis": {
            "backgroundcolor": "#E5ECF6",
            "gridcolor": "white",
            "gridwidth": 2,
            "linecolor": "white",
            "showbackground": true,
            "ticks": "",
            "zerolinecolor": "white"
           },
           "zaxis": {
            "backgroundcolor": "#E5ECF6",
            "gridcolor": "white",
            "gridwidth": 2,
            "linecolor": "white",
            "showbackground": true,
            "ticks": "",
            "zerolinecolor": "white"
           }
          },
          "shapedefaults": {
           "line": {
            "color": "#2a3f5f"
           }
          },
          "ternary": {
           "aaxis": {
            "gridcolor": "white",
            "linecolor": "white",
            "ticks": ""
           },
           "baxis": {
            "gridcolor": "white",
            "linecolor": "white",
            "ticks": ""
           },
           "bgcolor": "#E5ECF6",
           "caxis": {
            "gridcolor": "white",
            "linecolor": "white",
            "ticks": ""
           }
          },
          "title": {
           "x": 0.05
          },
          "xaxis": {
           "automargin": true,
           "gridcolor": "white",
           "linecolor": "white",
           "ticks": "",
           "title": {
            "standoff": 15
           },
           "zerolinecolor": "white",
           "zerolinewidth": 2
          },
          "yaxis": {
           "automargin": true,
           "gridcolor": "white",
           "linecolor": "white",
           "ticks": "",
           "title": {
            "standoff": 15
           },
           "zerolinecolor": "white",
           "zerolinewidth": 2
          }
         }
        },
        "width": 800,
        "xaxis": {
         "mirror": "allticks",
         "rangemode": "tozero",
         "showgrid": false,
         "showline": true,
         "showticklabels": true,
         "tickfont": {
          "size": 8
         },
         "tickmode": "array",
         "ticks": "outside",
         "ticktext": [
          "PPC",
          "ICDHyr",
          "AKGDH",
          "SUCOAS_rev",
          "THD2",
          "PFK",
          "PGI",
          "RPI",
          "TPI",
          "FBA",
          "PGM_rev",
          "ENO",
          "PGK_rev",
          "GAPD",
          "FUM",
          "CS",
          "ACONTa",
          "ACONTb",
          "RPI_rev",
          "RPE",
          "TKT2",
          "TALA",
          "TKT1",
          "PGL",
          "G6PDH2r",
          "GND",
          "PGK",
          "PGM",
          "NADTRHD",
          "ATPS4r",
          "NADH16",
          "PDH",
          "PYK",
          "MDH",
          "SUCOAS",
          "ICL",
          "MALS",
          "O2t",
          "CYTBD",
          "EX_o2_e_rev",
          "EX_h2o_e",
          "H2Ot_rev",
          "CO2t_rev",
          "EX_co2_e",
          "EX_ac_e",
          "PTAr",
          "ACKr_rev",
          "ACt2r_rev",
          "EX_o2_e",
          "CO2t",
          "H2Ot",
          "EX_h_e",
          "PFL",
          "EX_for_e",
          "EX_glu__L_e",
          "GLUt2r_rev",
          "GLUDy_rev",
          "EX_nh4_e_rev",
          "NH4t",
          "EX_etoh_e",
          "ALCD2x_rev",
          "ETOHt2r_rev",
          "ACALD_rev",
          "ACALDt_rev",
          "EX_acald_e",
          "GLUt2r",
          "EX_nh4_e",
          "GLUDy",
          "GLNS",
          "BIOMASS_Ecoli_core_w_GAM",
          "PIt2r",
          "EX_pi_e_rev",
          "LDH_D_rev",
          "D_LACt2_rev",
          "EX_lac__D_e",
          "ALCD2x",
          "ETOHt2r",
          "ACALD",
          "ACALDt",
          "ACKr",
          "ACt2r",
          "D_LACt2",
          "LDH_D",
          "PYRt2_rev",
          "EX_pyr_e",
          "EX_pi_e",
          "SUCCt2_2",
          "SUCCt3",
          "PPS",
          "ADK1",
          "SUCDi",
          "FRD7",
          "PYRt2",
          "AKGt2r",
          "FORt",
          "FBP",
          "ME2",
          "FRUpts2",
          "EX_succ_e",
          "EX_mal__L_e",
          "EX_gln__L_e",
          "EX_glc__D_e",
          "EX_glc__D_e_rev",
          "EX_fum_e",
          "EX_fru_e",
          "ATPM",
          "PPCK",
          "ME1",
          "MALt2_2",
          "GLUSy",
          "GLUN",
          "GLNabc",
          "FUMt2_2",
          "GLCpts",
          "AKGt2r_rev",
          "EX_akg_e",
          "FORt2",
          "FORt_rev"
         ],
         "tickvals": [
          5,
          15,
          25,
          35,
          45,
          55,
          65,
          75,
          85,
          95,
          105,
          115,
          125,
          135,
          145,
          155,
          165,
          175,
          185,
          195,
          205,
          215,
          225,
          235,
          245,
          255,
          265,
          275,
          285,
          295,
          305,
          315,
          325,
          335,
          345,
          355,
          365,
          375,
          385,
          395,
          405,
          415,
          425,
          435,
          445,
          455,
          465,
          475,
          485,
          495,
          505,
          515,
          525,
          535,
          545,
          555,
          565,
          575,
          585,
          595,
          605,
          615,
          625,
          635,
          645,
          655,
          665,
          675,
          685,
          695,
          705,
          715,
          725,
          735,
          745,
          755,
          765,
          775,
          785,
          795,
          805,
          815,
          825,
          835,
          845,
          855,
          865,
          875,
          885,
          895,
          905,
          915,
          925,
          935,
          945,
          955,
          965,
          975,
          985,
          995,
          1005,
          1015,
          1025,
          1035,
          1045,
          1055,
          1065,
          1075,
          1085,
          1095,
          1105,
          1115,
          1125,
          1135,
          1145,
          1155,
          1165,
          1175
         ],
         "title": {
          "font": {
           "size": 10
          }
         },
         "type": "linear",
         "zeroline": false
        },
        "yaxis": {
         "mirror": "allticks",
         "rangemode": "tozero",
         "showgrid": false,
         "showline": true,
         "showticklabels": true,
         "tickfont": {
          "size": 8
         },
         "ticks": "outside",
         "title": {
          "font": {
           "size": 10
          }
         },
         "type": "linear",
         "zeroline": false
        }
       }
      }
     },
     "metadata": {},
     "output_type": "display_data"
    },
    {
     "name": "stdout",
     "output_type": "stream",
     "text": [
      "[['PPC', 'AKGDH', 'SUCOAS_rev', 'ICDHyr'], ['PFK', 'PGI', 'PGK_rev', 'PGM_rev', 'ACONTa', 'ACONTb', 'CS', 'RPI', 'ENO', 'THD2', 'TPI', 'FBA', 'FUM', 'GAPD'], ['PGK', 'PGL', 'PGM', 'RPE', 'RPI_rev', 'TALA', 'TKT1', 'TKT2', 'G6PDH2r', 'GND'], ['ATPS4r', 'NADH16', 'NADTRHD'], ['PYK', 'MDH', 'PDH'], ['SUCOAS', 'ICL', 'MALS'], ['CO2t_rev', 'CYTBD', 'EX_co2_e', 'EX_h2o_e', 'EX_o2_e_rev', 'H2Ot_rev', 'O2t'], ['ACKr_rev', 'ACt2r_rev', 'PTAr', 'EX_ac_e'], ['PFL', 'CO2t', 'EX_for_e', 'EX_h_e', 'EX_o2_e', 'H2Ot'], ['EX_glu__L_e', 'EX_nh4_e_rev', 'GLUDy_rev', 'GLUt2r_rev', 'NH4t'], ['ALCD2x_rev', 'ETOHt2r_rev', 'EX_etoh_e'], ['ACALD_rev', 'ACALDt_rev', 'EX_acald_e'], ['EX_nh4_e', 'GLUDy', 'GLUt2r'], ['PIt2r', 'BIOMASS_Ecoli_core_w_GAM', 'EX_pi_e_rev', 'GLNS'], ['D_LACt2_rev', 'EX_lac__D_e', 'LDH_D_rev'], ['ACALD', 'ALCD2x', 'ACALDt', 'ETOHt2r'], ['ACKr', 'ACt2r'], ['D_LACt2', 'LDH_D'], ['AKGt2r_rev', 'AKGt2r', 'ATPM', 'PPCK', 'PPS', 'ADK1', 'PYRt2_rev', 'PYRt2', 'SUCCt2_2', 'SUCCt3', 'SUCDi', 'EX_akg_e', 'EX_fru_e', 'EX_fum_e', 'EX_glc__D_e_rev', 'EX_glc__D_e', 'EX_gln__L_e', 'EX_mal__L_e', 'EX_pi_e', 'EX_pyr_e', 'EX_succ_e', 'FBP', 'FORt2', 'FORt_rev', 'FORt', 'FRD7', 'FRUpts2', 'FUMt2_2', 'GLCpts', 'GLNabc', 'GLUN', 'GLUSy', 'MALt2_2', 'ME1', 'ME2']]\n"
     ]
    },
    {
     "name": "stderr",
     "output_type": "stream",
     "text": [
      "/home/touliopoulos/.local/lib/python3.10/site-packages/dingo/utils.py:381: ClusterWarning:\n",
      "\n",
      "scipy.cluster: The symmetric non-negative hollow observation matrix looks suspiciously like an uncondensed distance matrix\n",
      "\n"
     ]
    },
    {
     "data": {
      "application/vnd.plotly.v1+json": {
       "config": {
        "plotlyServerURL": "https://plot.ly"
       },
       "data": [
        {
         "hoverinfo": "text",
         "marker": {
          "color": "rgb(61,153,112)"
         },
         "mode": "lines",
         "type": "scatter",
         "x": [
          25,
          25,
          35,
          35
         ],
         "xaxis": "x",
         "y": [
          0,
          1.1224431648738382e-13,
          1.1224431648738382e-13,
          0
         ],
         "yaxis": "y"
        },
        {
         "hoverinfo": "text",
         "marker": {
          "color": "rgb(61,153,112)"
         },
         "mode": "lines",
         "type": "scatter",
         "x": [
          15,
          15,
          30,
          30
         ],
         "xaxis": "x",
         "y": [
          0,
          0.12044323684671195,
          0.12044323684671195,
          1.1224431648738382e-13
         ],
         "yaxis": "y"
        },
        {
         "hoverinfo": "text",
         "marker": {
          "color": "rgb(61,153,112)"
         },
         "mode": "lines",
         "type": "scatter",
         "x": [
          5,
          5,
          22.5,
          22.5
         ],
         "xaxis": "x",
         "y": [
          0,
          1.4118807732937462,
          1.4118807732937462,
          0.12044323684671195
         ],
         "yaxis": "y"
        },
        {
         "hoverinfo": "text",
         "marker": {
          "color": "rgb(255,65,54)"
         },
         "mode": "lines",
         "type": "scatter",
         "x": [
          65,
          65,
          75,
          75
         ],
         "xaxis": "x",
         "y": [
          0,
          1.1102230246251565e-16,
          1.1102230246251565e-16,
          0
         ],
         "yaxis": "y"
        },
        {
         "hoverinfo": "text",
         "marker": {
          "color": "rgb(255,65,54)"
         },
         "mode": "lines",
         "type": "scatter",
         "x": [
          85,
          85,
          95,
          95
         ],
         "xaxis": "x",
         "y": [
          0,
          2.9373740229761033e-16,
          2.9373740229761033e-16,
          0
         ],
         "yaxis": "y"
        },
        {
         "hoverinfo": "text",
         "marker": {
          "color": "rgb(255,65,54)"
         },
         "mode": "lines",
         "type": "scatter",
         "x": [
          70,
          70,
          90,
          90
         ],
         "xaxis": "x",
         "y": [
          1.1102230246251565e-16,
          0.0015351092120397393,
          0.0015351092120397393,
          2.9373740229761033e-16
         ],
         "yaxis": "y"
        },
        {
         "hoverinfo": "text",
         "marker": {
          "color": "rgb(255,65,54)"
         },
         "mode": "lines",
         "type": "scatter",
         "x": [
          105,
          105,
          115,
          115
         ],
         "xaxis": "x",
         "y": [
          0,
          0,
          0,
          0
         ],
         "yaxis": "y"
        },
        {
         "hoverinfo": "text",
         "marker": {
          "color": "rgb(255,65,54)"
         },
         "mode": "lines",
         "type": "scatter",
         "x": [
          125,
          125,
          135,
          135
         ],
         "xaxis": "x",
         "y": [
          0,
          0.00045839252522938,
          0.00045839252522938,
          0
         ],
         "yaxis": "y"
        },
        {
         "hoverinfo": "text",
         "marker": {
          "color": "rgb(255,65,54)"
         },
         "mode": "lines",
         "type": "scatter",
         "x": [
          110,
          110,
          130,
          130
         ],
         "xaxis": "x",
         "y": [
          0,
          0.001546045352341784,
          0.001546045352341784,
          0.00045839252522938
         ],
         "yaxis": "y"
        },
        {
         "hoverinfo": "text",
         "marker": {
          "color": "rgb(255,65,54)"
         },
         "mode": "lines",
         "type": "scatter",
         "x": [
          80,
          80,
          120,
          120
         ],
         "xaxis": "x",
         "y": [
          0.0015351092120397393,
          0.003987946886202441,
          0.003987946886202441,
          0.001546045352341784
         ],
         "yaxis": "y"
        },
        {
         "hoverinfo": "text",
         "marker": {
          "color": "rgb(255,65,54)"
         },
         "mode": "lines",
         "type": "scatter",
         "x": [
          165,
          165,
          175,
          175
         ],
         "xaxis": "x",
         "y": [
          0,
          0,
          0,
          0
         ],
         "yaxis": "y"
        },
        {
         "hoverinfo": "text",
         "marker": {
          "color": "rgb(255,65,54)"
         },
         "mode": "lines",
         "type": "scatter",
         "x": [
          155,
          155,
          170,
          170
         ],
         "xaxis": "x",
         "y": [
          0,
          0,
          0,
          0
         ],
         "yaxis": "y"
        },
        {
         "hoverinfo": "text",
         "marker": {
          "color": "rgb(255,65,54)"
         },
         "mode": "lines",
         "type": "scatter",
         "x": [
          145,
          145,
          162.5,
          162.5
         ],
         "xaxis": "x",
         "y": [
          0,
          0.043145409151159206,
          0.043145409151159206,
          0
         ],
         "yaxis": "y"
        },
        {
         "hoverinfo": "text",
         "marker": {
          "color": "rgb(255,65,54)"
         },
         "mode": "lines",
         "type": "scatter",
         "x": [
          100,
          100,
          153.75,
          153.75
         ],
         "xaxis": "x",
         "y": [
          0.003987946886202441,
          0.604904111452272,
          0.604904111452272,
          0.043145409151159206
         ],
         "yaxis": "y"
        },
        {
         "hoverinfo": "text",
         "marker": {
          "color": "rgb(255,65,54)"
         },
         "mode": "lines",
         "type": "scatter",
         "x": [
          55,
          55,
          126.875,
          126.875
         ],
         "xaxis": "x",
         "y": [
          0,
          1.4312577913154099,
          1.4312577913154099,
          0.604904111452272
         ],
         "yaxis": "y"
        },
        {
         "hoverinfo": "text",
         "marker": {
          "color": "rgb(0,116,217)"
         },
         "mode": "lines",
         "type": "scatter",
         "x": [
          45,
          45,
          90.9375,
          90.9375
         ],
         "xaxis": "x",
         "y": [
          0,
          3.291213330474769,
          3.291213330474769,
          1.4312577913154099
         ],
         "yaxis": "y"
        },
        {
         "hoverinfo": "text",
         "marker": {
          "color": "rgb(0,116,217)"
         },
         "mode": "lines",
         "type": "scatter",
         "x": [
          13.75,
          13.75,
          67.96875,
          67.96875
         ],
         "xaxis": "x",
         "y": [
          1.4118807732937462,
          5.550586435996379,
          5.550586435996379,
          3.291213330474769
         ],
         "yaxis": "y"
        },
        {
         "hoverinfo": "text",
         "marker": {
          "color": "rgb(35,205,205)"
         },
         "mode": "lines",
         "type": "scatter",
         "x": [
          185,
          185,
          195,
          195
         ],
         "xaxis": "x",
         "y": [
          0,
          0.0005146172369211773,
          0.0005146172369211773,
          0
         ],
         "yaxis": "y"
        },
        {
         "hoverinfo": "text",
         "marker": {
          "color": "rgb(35,205,205)"
         },
         "mode": "lines",
         "type": "scatter",
         "x": [
          215,
          215,
          225,
          225
         ],
         "xaxis": "x",
         "y": [
          0,
          0,
          0,
          0
         ],
         "yaxis": "y"
        },
        {
         "hoverinfo": "text",
         "marker": {
          "color": "rgb(35,205,205)"
         },
         "mode": "lines",
         "type": "scatter",
         "x": [
          245,
          245,
          255,
          255
         ],
         "xaxis": "x",
         "y": [
          0,
          1.5700924586837752e-16,
          1.5700924586837752e-16,
          0
         ],
         "yaxis": "y"
        },
        {
         "hoverinfo": "text",
         "marker": {
          "color": "rgb(35,205,205)"
         },
         "mode": "lines",
         "type": "scatter",
         "x": [
          235,
          235,
          250,
          250
         ],
         "xaxis": "x",
         "y": [
          0,
          2.7194799110210365e-16,
          2.7194799110210365e-16,
          1.5700924586837752e-16
         ],
         "yaxis": "y"
        },
        {
         "hoverinfo": "text",
         "marker": {
          "color": "rgb(35,205,205)"
         },
         "mode": "lines",
         "type": "scatter",
         "x": [
          220,
          220,
          242.5,
          242.5
         ],
         "xaxis": "x",
         "y": [
          0,
          0.00027365949566374685,
          0.00027365949566374685,
          2.7194799110210365e-16
         ],
         "yaxis": "y"
        },
        {
         "hoverinfo": "text",
         "marker": {
          "color": "rgb(35,205,205)"
         },
         "mode": "lines",
         "type": "scatter",
         "x": [
          205,
          205,
          231.25,
          231.25
         ],
         "xaxis": "x",
         "y": [
          0,
          0.0006602617881528121,
          0.0006602617881528121,
          0.00027365949566374685
         ],
         "yaxis": "y"
        },
        {
         "hoverinfo": "text",
         "marker": {
          "color": "rgb(35,205,205)"
         },
         "mode": "lines",
         "type": "scatter",
         "x": [
          190,
          190,
          218.125,
          218.125
         ],
         "xaxis": "x",
         "y": [
          0.0005146172369211773,
          0.0008544218982487177,
          0.0008544218982487177,
          0.0006602617881528121
         ],
         "yaxis": "y"
        },
        {
         "hoverinfo": "text",
         "marker": {
          "color": "rgb(35,205,205)"
         },
         "mode": "lines",
         "type": "scatter",
         "x": [
          265,
          265,
          275,
          275
         ],
         "xaxis": "x",
         "y": [
          0,
          0.0010854861336952256,
          0.0010854861336952256,
          0
         ],
         "yaxis": "y"
        },
        {
         "hoverinfo": "text",
         "marker": {
          "color": "rgb(35,205,205)"
         },
         "mode": "lines",
         "type": "scatter",
         "x": [
          204.0625,
          204.0625,
          270,
          270
         ],
         "xaxis": "x",
         "y": [
          0.0008544218982487177,
          0.004523489471013485,
          0.004523489471013485,
          0.0010854861336952256
         ],
         "yaxis": "y"
        },
        {
         "hoverinfo": "text",
         "marker": {
          "color": "rgb(133,20,75)"
         },
         "mode": "lines",
         "type": "scatter",
         "x": [
          295,
          295,
          305,
          305
         ],
         "xaxis": "x",
         "y": [
          0,
          1.5010316160844344,
          1.5010316160844344,
          0
         ],
         "yaxis": "y"
        },
        {
         "hoverinfo": "text",
         "marker": {
          "color": "rgb(0,116,217)"
         },
         "mode": "lines",
         "type": "scatter",
         "x": [
          285,
          285,
          300,
          300
         ],
         "xaxis": "x",
         "y": [
          0,
          2.817461262496093,
          2.817461262496093,
          1.5010316160844344
         ],
         "yaxis": "y"
        },
        {
         "hoverinfo": "text",
         "marker": {
          "color": "rgb(0,116,217)"
         },
         "mode": "lines",
         "type": "scatter",
         "x": [
          237.03125,
          237.03125,
          292.5,
          292.5
         ],
         "xaxis": "x",
         "y": [
          0.004523489471013485,
          4.354516344057525,
          4.354516344057525,
          2.817461262496093
         ],
         "yaxis": "y"
        },
        {
         "hoverinfo": "text",
         "marker": {
          "color": "rgb(255,220,0)"
         },
         "mode": "lines",
         "type": "scatter",
         "x": [
          325,
          325,
          335,
          335
         ],
         "xaxis": "x",
         "y": [
          0,
          0.32720014305149053,
          0.32720014305149053,
          0
         ],
         "yaxis": "y"
        },
        {
         "hoverinfo": "text",
         "marker": {
          "color": "rgb(255,220,0)"
         },
         "mode": "lines",
         "type": "scatter",
         "x": [
          315,
          315,
          330,
          330
         ],
         "xaxis": "x",
         "y": [
          0,
          0.8313737346830673,
          0.8313737346830673,
          0.32720014305149053
         ],
         "yaxis": "y"
        },
        {
         "hoverinfo": "text",
         "marker": {
          "color": "rgb(40,35,35)"
         },
         "mode": "lines",
         "type": "scatter",
         "x": [
          355,
          355,
          365,
          365
         ],
         "xaxis": "x",
         "y": [
          0,
          3.1401849173675503e-16,
          3.1401849173675503e-16,
          0
         ],
         "yaxis": "y"
        },
        {
         "hoverinfo": "text",
         "marker": {
          "color": "rgb(40,35,35)"
         },
         "mode": "lines",
         "type": "scatter",
         "x": [
          345,
          345,
          360,
          360
         ],
         "xaxis": "x",
         "y": [
          0,
          1.1722283824941482,
          1.1722283824941482,
          3.1401849173675503e-16
         ],
         "yaxis": "y"
        },
        {
         "hoverinfo": "text",
         "marker": {
          "color": "rgb(0,116,217)"
         },
         "mode": "lines",
         "type": "scatter",
         "x": [
          322.5,
          322.5,
          352.5,
          352.5
         ],
         "xaxis": "x",
         "y": [
          0.8313737346830673,
          4.379255474339271,
          4.379255474339271,
          1.1722283824941482
         ],
         "yaxis": "y"
        },
        {
         "hoverinfo": "text",
         "marker": {
          "color": "rgb(0,116,217)"
         },
         "mode": "lines",
         "type": "scatter",
         "x": [
          264.765625,
          264.765625,
          337.5,
          337.5
         ],
         "xaxis": "x",
         "y": [
          4.354516344057525,
          9.691355541776408,
          9.691355541776408,
          4.379255474339271
         ],
         "yaxis": "y"
        },
        {
         "hoverinfo": "text",
         "marker": {
          "color": "rgb(61,153,112)"
         },
         "mode": "lines",
         "type": "scatter",
         "x": [
          385,
          385,
          395,
          395
         ],
         "xaxis": "x",
         "y": [
          0,
          0,
          0,
          0
         ],
         "yaxis": "y"
        },
        {
         "hoverinfo": "text",
         "marker": {
          "color": "rgb(61,153,112)"
         },
         "mode": "lines",
         "type": "scatter",
         "x": [
          375,
          375,
          390,
          390
         ],
         "xaxis": "x",
         "y": [
          0,
          0,
          0,
          0
         ],
         "yaxis": "y"
        },
        {
         "hoverinfo": "text",
         "marker": {
          "color": "rgb(255,65,54)"
         },
         "mode": "lines",
         "type": "scatter",
         "x": [
          405,
          405,
          415,
          415
         ],
         "xaxis": "x",
         "y": [
          0,
          0,
          0,
          0
         ],
         "yaxis": "y"
        },
        {
         "hoverinfo": "text",
         "marker": {
          "color": "rgb(255,65,54)"
         },
         "mode": "lines",
         "type": "scatter",
         "x": [
          425,
          425,
          435,
          435
         ],
         "xaxis": "x",
         "y": [
          0,
          0,
          0,
          0
         ],
         "yaxis": "y"
        },
        {
         "hoverinfo": "text",
         "marker": {
          "color": "rgb(255,65,54)"
         },
         "mode": "lines",
         "type": "scatter",
         "x": [
          410,
          410,
          430,
          430
         ],
         "xaxis": "x",
         "y": [
          0,
          1.455558134250808,
          1.455558134250808,
          0
         ],
         "yaxis": "y"
        },
        {
         "hoverinfo": "text",
         "marker": {
          "color": "rgb(0,116,217)"
         },
         "mode": "lines",
         "type": "scatter",
         "x": [
          382.5,
          382.5,
          420,
          420
         ],
         "xaxis": "x",
         "y": [
          0,
          2.162005023719258,
          2.162005023719258,
          1.455558134250808
         ],
         "yaxis": "y"
        },
        {
         "hoverinfo": "text",
         "marker": {
          "color": "rgb(35,205,205)"
         },
         "mode": "lines",
         "type": "scatter",
         "x": [
          465,
          465,
          475,
          475
         ],
         "xaxis": "x",
         "y": [
          0,
          0,
          0,
          0
         ],
         "yaxis": "y"
        },
        {
         "hoverinfo": "text",
         "marker": {
          "color": "rgb(35,205,205)"
         },
         "mode": "lines",
         "type": "scatter",
         "x": [
          455,
          455,
          470,
          470
         ],
         "xaxis": "x",
         "y": [
          0,
          0,
          0,
          0
         ],
         "yaxis": "y"
        },
        {
         "hoverinfo": "text",
         "marker": {
          "color": "rgb(35,205,205)"
         },
         "mode": "lines",
         "type": "scatter",
         "x": [
          445,
          445,
          462.5,
          462.5
         ],
         "xaxis": "x",
         "y": [
          0,
          0,
          0,
          0
         ],
         "yaxis": "y"
        },
        {
         "hoverinfo": "text",
         "marker": {
          "color": "rgb(61,153,112)"
         },
         "mode": "lines",
         "type": "scatter",
         "x": [
          495,
          495,
          505,
          505
         ],
         "xaxis": "x",
         "y": [
          0,
          1.0292350271399855,
          1.0292350271399855,
          0
         ],
         "yaxis": "y"
        },
        {
         "hoverinfo": "text",
         "marker": {
          "color": "rgb(61,153,112)"
         },
         "mode": "lines",
         "type": "scatter",
         "x": [
          485,
          485,
          500,
          500
         ],
         "xaxis": "x",
         "y": [
          0,
          1.3482470112069223,
          1.3482470112069223,
          1.0292350271399855
         ],
         "yaxis": "y"
        },
        {
         "hoverinfo": "text",
         "marker": {
          "color": "rgb(255,65,54)"
         },
         "mode": "lines",
         "type": "scatter",
         "x": [
          525,
          525,
          535,
          535
         ],
         "xaxis": "x",
         "y": [
          0,
          0,
          0,
          0
         ],
         "yaxis": "y"
        },
        {
         "hoverinfo": "text",
         "marker": {
          "color": "rgb(255,65,54)"
         },
         "mode": "lines",
         "type": "scatter",
         "x": [
          515,
          515,
          530,
          530
         ],
         "xaxis": "x",
         "y": [
          0,
          1.5253473544486778,
          1.5253473544486778,
          0
         ],
         "yaxis": "y"
        },
        {
         "hoverinfo": "text",
         "marker": {
          "color": "rgb(0,116,217)"
         },
         "mode": "lines",
         "type": "scatter",
         "x": [
          492.5,
          492.5,
          522.5,
          522.5
         ],
         "xaxis": "x",
         "y": [
          1.3482470112069223,
          3.6281211071502186,
          3.6281211071502186,
          1.5253473544486778
         ],
         "yaxis": "y"
        },
        {
         "hoverinfo": "text",
         "marker": {
          "color": "rgb(0,116,217)"
         },
         "mode": "lines",
         "type": "scatter",
         "x": [
          453.75,
          453.75,
          507.5,
          507.5
         ],
         "xaxis": "x",
         "y": [
          0,
          6.653384143999578,
          6.653384143999578,
          3.6281211071502186
         ],
         "yaxis": "y"
        },
        {
         "hoverinfo": "text",
         "marker": {
          "color": "rgb(35,205,205)"
         },
         "mode": "lines",
         "type": "scatter",
         "x": [
          545,
          545,
          555,
          555
         ],
         "xaxis": "x",
         "y": [
          0,
          3.1401849173675503e-16,
          3.1401849173675503e-16,
          0
         ],
         "yaxis": "y"
        },
        {
         "hoverinfo": "text",
         "marker": {
          "color": "rgb(35,205,205)"
         },
         "mode": "lines",
         "type": "scatter",
         "x": [
          575,
          575,
          585,
          585
         ],
         "xaxis": "x",
         "y": [
          0,
          2.482534153247273e-16,
          2.482534153247273e-16,
          0
         ],
         "yaxis": "y"
        },
        {
         "hoverinfo": "text",
         "marker": {
          "color": "rgb(35,205,205)"
         },
         "mode": "lines",
         "type": "scatter",
         "x": [
          565,
          565,
          580,
          580
         ],
         "xaxis": "x",
         "y": [
          0,
          0.009776831623825371,
          0.009776831623825371,
          2.482534153247273e-16
         ],
         "yaxis": "y"
        },
        {
         "hoverinfo": "text",
         "marker": {
          "color": "rgb(35,205,205)"
         },
         "mode": "lines",
         "type": "scatter",
         "x": [
          550,
          550,
          572.5,
          572.5
         ],
         "xaxis": "x",
         "y": [
          3.1401849173675503e-16,
          0.2403939265624247,
          0.2403939265624247,
          0.009776831623825371
         ],
         "yaxis": "y"
        },
        {
         "hoverinfo": "text",
         "marker": {
          "color": "rgb(133,20,75)"
         },
         "mode": "lines",
         "type": "scatter",
         "x": [
          605,
          605,
          615,
          615
         ],
         "xaxis": "x",
         "y": [
          0,
          0,
          0,
          0
         ],
         "yaxis": "y"
        },
        {
         "hoverinfo": "text",
         "marker": {
          "color": "rgb(133,20,75)"
         },
         "mode": "lines",
         "type": "scatter",
         "x": [
          595,
          595,
          610,
          610
         ],
         "xaxis": "x",
         "y": [
          0,
          0,
          0,
          0
         ],
         "yaxis": "y"
        },
        {
         "hoverinfo": "text",
         "marker": {
          "color": "rgb(255,220,0)"
         },
         "mode": "lines",
         "type": "scatter",
         "x": [
          635,
          635,
          645,
          645
         ],
         "xaxis": "x",
         "y": [
          0,
          0,
          0,
          0
         ],
         "yaxis": "y"
        },
        {
         "hoverinfo": "text",
         "marker": {
          "color": "rgb(0,116,217)"
         },
         "mode": "lines",
         "type": "scatter",
         "x": [
          625,
          625,
          640,
          640
         ],
         "xaxis": "x",
         "y": [
          0,
          2.022649320924544,
          2.022649320924544,
          0
         ],
         "yaxis": "y"
        },
        {
         "hoverinfo": "text",
         "marker": {
          "color": "rgb(0,116,217)"
         },
         "mode": "lines",
         "type": "scatter",
         "x": [
          602.5,
          602.5,
          632.5,
          632.5
         ],
         "xaxis": "x",
         "y": [
          0,
          4.137898174673611,
          4.137898174673611,
          2.022649320924544
         ],
         "yaxis": "y"
        },
        {
         "hoverinfo": "text",
         "marker": {
          "color": "rgb(40,35,35)"
         },
         "mode": "lines",
         "type": "scatter",
         "x": [
          665,
          665,
          675,
          675
         ],
         "xaxis": "x",
         "y": [
          0,
          0.008466984554755934,
          0.008466984554755934,
          0
         ],
         "yaxis": "y"
        },
        {
         "hoverinfo": "text",
         "marker": {
          "color": "rgb(40,35,35)"
         },
         "mode": "lines",
         "type": "scatter",
         "x": [
          655,
          655,
          670,
          670
         ],
         "xaxis": "x",
         "y": [
          0,
          0.17817321657783325,
          0.17817321657783325,
          0.008466984554755934
         ],
         "yaxis": "y"
        },
        {
         "hoverinfo": "text",
         "marker": {
          "color": "rgb(61,153,112)"
         },
         "mode": "lines",
         "type": "scatter",
         "x": [
          705,
          705,
          715,
          715
         ],
         "xaxis": "x",
         "y": [
          0,
          0,
          0,
          0
         ],
         "yaxis": "y"
        },
        {
         "hoverinfo": "text",
         "marker": {
          "color": "rgb(61,153,112)"
         },
         "mode": "lines",
         "type": "scatter",
         "x": [
          695,
          695,
          710,
          710
         ],
         "xaxis": "x",
         "y": [
          0,
          1.2819751242557092e-16,
          1.2819751242557092e-16,
          0
         ],
         "yaxis": "y"
        },
        {
         "hoverinfo": "text",
         "marker": {
          "color": "rgb(61,153,112)"
         },
         "mode": "lines",
         "type": "scatter",
         "x": [
          685,
          685,
          702.5,
          702.5
         ],
         "xaxis": "x",
         "y": [
          0,
          1.4332917616497527e-16,
          1.4332917616497527e-16,
          1.2819751242557092e-16
         ],
         "yaxis": "y"
        },
        {
         "hoverinfo": "text",
         "marker": {
          "color": "rgb(255,65,54)"
         },
         "mode": "lines",
         "type": "scatter",
         "x": [
          735,
          735,
          745,
          745
         ],
         "xaxis": "x",
         "y": [
          0,
          0,
          0,
          0
         ],
         "yaxis": "y"
        },
        {
         "hoverinfo": "text",
         "marker": {
          "color": "rgb(255,65,54)"
         },
         "mode": "lines",
         "type": "scatter",
         "x": [
          725,
          725,
          740,
          740
         ],
         "xaxis": "x",
         "y": [
          0,
          0,
          0,
          0
         ],
         "yaxis": "y"
        },
        {
         "hoverinfo": "text",
         "marker": {
          "color": "rgb(35,205,205)"
         },
         "mode": "lines",
         "type": "scatter",
         "x": [
          755,
          755,
          765,
          765
         ],
         "xaxis": "x",
         "y": [
          0,
          0,
          0,
          0
         ],
         "yaxis": "y"
        },
        {
         "hoverinfo": "text",
         "marker": {
          "color": "rgb(61,153,112)"
         },
         "mode": "lines",
         "type": "scatter",
         "x": [
          775,
          775,
          785,
          785
         ],
         "xaxis": "x",
         "y": [
          0,
          1.7516656948679992,
          1.7516656948679992,
          0
         ],
         "yaxis": "y"
        },
        {
         "hoverinfo": "text",
         "marker": {
          "color": "rgb(0,116,217)"
         },
         "mode": "lines",
         "type": "scatter",
         "x": [
          760,
          760,
          780,
          780
         ],
         "xaxis": "x",
         "y": [
          0,
          3.101101124692065,
          3.101101124692065,
          1.7516656948679992
         ],
         "yaxis": "y"
        },
        {
         "hoverinfo": "text",
         "marker": {
          "color": "rgb(255,65,54)"
         },
         "mode": "lines",
         "type": "scatter",
         "x": [
          795,
          795,
          805,
          805
         ],
         "xaxis": "x",
         "y": [
          0,
          0,
          0,
          0
         ],
         "yaxis": "y"
        },
        {
         "hoverinfo": "text",
         "marker": {
          "color": "rgb(35,205,205)"
         },
         "mode": "lines",
         "type": "scatter",
         "x": [
          815,
          815,
          825,
          825
         ],
         "xaxis": "x",
         "y": [
          0,
          0,
          0,
          0
         ],
         "yaxis": "y"
        },
        {
         "hoverinfo": "text",
         "marker": {
          "color": "rgb(133,20,75)"
         },
         "mode": "lines",
         "type": "scatter",
         "x": [
          835,
          835,
          845,
          845
         ],
         "xaxis": "x",
         "y": [
          0,
          0,
          0,
          0
         ],
         "yaxis": "y"
        },
        {
         "hoverinfo": "text",
         "marker": {
          "color": "rgb(255,220,0)"
         },
         "mode": "lines",
         "type": "scatter",
         "x": [
          865,
          865,
          875,
          875
         ],
         "xaxis": "x",
         "y": [
          0,
          1.5700924586837752e-16,
          1.5700924586837752e-16,
          0
         ],
         "yaxis": "y"
        },
        {
         "hoverinfo": "text",
         "marker": {
          "color": "rgb(40,35,35)"
         },
         "mode": "lines",
         "type": "scatter",
         "x": [
          885,
          885,
          895,
          895
         ],
         "xaxis": "x",
         "y": [
          0,
          0,
          0,
          0
         ],
         "yaxis": "y"
        },
        {
         "hoverinfo": "text",
         "marker": {
          "color": "rgb(61,153,112)"
         },
         "mode": "lines",
         "type": "scatter",
         "x": [
          905,
          905,
          915,
          915
         ],
         "xaxis": "x",
         "y": [
          0,
          1.678090797426601e-9,
          1.678090797426601e-9,
          0
         ],
         "yaxis": "y"
        },
        {
         "hoverinfo": "text",
         "marker": {
          "color": "rgb(255,65,54)"
         },
         "mode": "lines",
         "type": "scatter",
         "x": [
          1055,
          1055,
          1065,
          1065
         ],
         "xaxis": "x",
         "y": [
          0,
          1.4142135623730951,
          1.4142135623730951,
          0
         ],
         "yaxis": "y"
        },
        {
         "hoverinfo": "text",
         "marker": {
          "color": "rgb(255,65,54)"
         },
         "mode": "lines",
         "type": "scatter",
         "x": [
          1045,
          1045,
          1060,
          1060
         ],
         "xaxis": "x",
         "y": [
          0,
          1.4142135623730951,
          1.4142135623730951,
          1.4142135623730951
         ],
         "yaxis": "y"
        },
        {
         "hoverinfo": "text",
         "marker": {
          "color": "rgb(255,65,54)"
         },
         "mode": "lines",
         "type": "scatter",
         "x": [
          1035,
          1035,
          1052.5,
          1052.5
         ],
         "xaxis": "x",
         "y": [
          0,
          1.4142135623730951,
          1.4142135623730951,
          1.4142135623730951
         ],
         "yaxis": "y"
        },
        {
         "hoverinfo": "text",
         "marker": {
          "color": "rgb(255,65,54)"
         },
         "mode": "lines",
         "type": "scatter",
         "x": [
          1025,
          1025,
          1043.75,
          1043.75
         ],
         "xaxis": "x",
         "y": [
          0,
          1.4142135623730951,
          1.4142135623730951,
          1.4142135623730951
         ],
         "yaxis": "y"
        },
        {
         "hoverinfo": "text",
         "marker": {
          "color": "rgb(255,65,54)"
         },
         "mode": "lines",
         "type": "scatter",
         "x": [
          1015,
          1015,
          1034.375,
          1034.375
         ],
         "xaxis": "x",
         "y": [
          0,
          1.4142135623730951,
          1.4142135623730951,
          1.4142135623730951
         ],
         "yaxis": "y"
        },
        {
         "hoverinfo": "text",
         "marker": {
          "color": "rgb(255,65,54)"
         },
         "mode": "lines",
         "type": "scatter",
         "x": [
          1005,
          1005,
          1024.6875,
          1024.6875
         ],
         "xaxis": "x",
         "y": [
          0,
          1.4142135623730951,
          1.4142135623730951,
          1.4142135623730951
         ],
         "yaxis": "y"
        },
        {
         "hoverinfo": "text",
         "marker": {
          "color": "rgb(255,65,54)"
         },
         "mode": "lines",
         "type": "scatter",
         "x": [
          995,
          995,
          1014.84375,
          1014.84375
         ],
         "xaxis": "x",
         "y": [
          0,
          1.4142135623730951,
          1.4142135623730951,
          1.4142135623730951
         ],
         "yaxis": "y"
        },
        {
         "hoverinfo": "text",
         "marker": {
          "color": "rgb(255,65,54)"
         },
         "mode": "lines",
         "type": "scatter",
         "x": [
          985,
          985,
          1004.921875,
          1004.921875
         ],
         "xaxis": "x",
         "y": [
          0,
          1.4142135623730951,
          1.4142135623730951,
          1.4142135623730951
         ],
         "yaxis": "y"
        },
        {
         "hoverinfo": "text",
         "marker": {
          "color": "rgb(255,65,54)"
         },
         "mode": "lines",
         "type": "scatter",
         "x": [
          975,
          975,
          994.9609375,
          994.9609375
         ],
         "xaxis": "x",
         "y": [
          0,
          1.4142135623730951,
          1.4142135623730951,
          1.4142135623730951
         ],
         "yaxis": "y"
        },
        {
         "hoverinfo": "text",
         "marker": {
          "color": "rgb(255,65,54)"
         },
         "mode": "lines",
         "type": "scatter",
         "x": [
          1125,
          1125,
          1135,
          1135
         ],
         "xaxis": "x",
         "y": [
          0,
          1.4142135623730951,
          1.4142135623730951,
          0
         ],
         "yaxis": "y"
        },
        {
         "hoverinfo": "text",
         "marker": {
          "color": "rgb(255,65,54)"
         },
         "mode": "lines",
         "type": "scatter",
         "x": [
          1115,
          1115,
          1130,
          1130
         ],
         "xaxis": "x",
         "y": [
          0,
          1.4142135623730951,
          1.4142135623730951,
          1.4142135623730951
         ],
         "yaxis": "y"
        },
        {
         "hoverinfo": "text",
         "marker": {
          "color": "rgb(255,65,54)"
         },
         "mode": "lines",
         "type": "scatter",
         "x": [
          1105,
          1105,
          1122.5,
          1122.5
         ],
         "xaxis": "x",
         "y": [
          0,
          1.4142135623730951,
          1.4142135623730951,
          1.4142135623730951
         ],
         "yaxis": "y"
        },
        {
         "hoverinfo": "text",
         "marker": {
          "color": "rgb(255,65,54)"
         },
         "mode": "lines",
         "type": "scatter",
         "x": [
          1095,
          1095,
          1113.75,
          1113.75
         ],
         "xaxis": "x",
         "y": [
          0,
          1.4142135623730951,
          1.4142135623730951,
          1.4142135623730951
         ],
         "yaxis": "y"
        },
        {
         "hoverinfo": "text",
         "marker": {
          "color": "rgb(255,65,54)"
         },
         "mode": "lines",
         "type": "scatter",
         "x": [
          1085,
          1085,
          1104.375,
          1104.375
         ],
         "xaxis": "x",
         "y": [
          0,
          1.4142135623730951,
          1.4142135623730951,
          1.4142135623730951
         ],
         "yaxis": "y"
        },
        {
         "hoverinfo": "text",
         "marker": {
          "color": "rgb(255,65,54)"
         },
         "mode": "lines",
         "type": "scatter",
         "x": [
          1075,
          1075,
          1094.6875,
          1094.6875
         ],
         "xaxis": "x",
         "y": [
          0,
          1.4142135623730951,
          1.4142135623730951,
          1.4142135623730951
         ],
         "yaxis": "y"
        },
        {
         "hoverinfo": "text",
         "marker": {
          "color": "rgb(255,65,54)"
         },
         "mode": "lines",
         "type": "scatter",
         "x": [
          984.98046875,
          984.98046875,
          1084.84375,
          1084.84375
         ],
         "xaxis": "x",
         "y": [
          1.4142135623730951,
          1.4142135623730963,
          1.4142135623730963,
          1.4142135623730951
         ],
         "yaxis": "y"
        },
        {
         "hoverinfo": "text",
         "marker": {
          "color": "rgb(255,65,54)"
         },
         "mode": "lines",
         "type": "scatter",
         "x": [
          965,
          965,
          1034.912109375,
          1034.912109375
         ],
         "xaxis": "x",
         "y": [
          0,
          1.604573186519355,
          1.604573186519355,
          1.4142135623730963
         ],
         "yaxis": "y"
        },
        {
         "hoverinfo": "text",
         "marker": {
          "color": "rgb(255,65,54)"
         },
         "mode": "lines",
         "type": "scatter",
         "x": [
          955,
          955,
          999.9560546875,
          999.9560546875
         ],
         "xaxis": "x",
         "y": [
          0,
          1.6183741601690194,
          1.6183741601690194,
          1.604573186519355
         ],
         "yaxis": "y"
        },
        {
         "hoverinfo": "text",
         "marker": {
          "color": "rgb(0,116,217)"
         },
         "mode": "lines",
         "type": "scatter",
         "x": [
          945,
          945,
          977.47802734375,
          977.47802734375
         ],
         "xaxis": "x",
         "y": [
          0,
          2.3988818640634717,
          2.3988818640634717,
          1.6183741601690194
         ],
         "yaxis": "y"
        },
        {
         "hoverinfo": "text",
         "marker": {
          "color": "rgb(0,116,217)"
         },
         "mode": "lines",
         "type": "scatter",
         "x": [
          935,
          935,
          961.239013671875,
          961.239013671875
         ],
         "xaxis": "x",
         "y": [
          0,
          2.4128667338387118,
          2.4128667338387118,
          2.3988818640634717
         ],
         "yaxis": "y"
        },
        {
         "hoverinfo": "text",
         "marker": {
          "color": "rgb(0,116,217)"
         },
         "mode": "lines",
         "type": "scatter",
         "x": [
          925,
          925,
          948.1195068359375,
          948.1195068359375
         ],
         "xaxis": "x",
         "y": [
          0,
          2.5381040803517205,
          2.5381040803517205,
          2.4128667338387118
         ],
         "yaxis": "y"
        },
        {
         "hoverinfo": "text",
         "marker": {
          "color": "rgb(0,116,217)"
         },
         "mode": "lines",
         "type": "scatter",
         "x": [
          910,
          910,
          936.5597534179688,
          936.5597534179688
         ],
         "xaxis": "x",
         "y": [
          1.678090797426601e-9,
          2.7481684522981227,
          2.7481684522981227,
          2.5381040803517205
         ],
         "yaxis": "y"
        },
        {
         "hoverinfo": "text",
         "marker": {
          "color": "rgb(0,116,217)"
         },
         "mode": "lines",
         "type": "scatter",
         "x": [
          890,
          890,
          923.2798767089844,
          923.2798767089844
         ],
         "xaxis": "x",
         "y": [
          0,
          2.7606678171887262,
          2.7606678171887262,
          2.7481684522981227
         ],
         "yaxis": "y"
        },
        {
         "hoverinfo": "text",
         "marker": {
          "color": "rgb(0,116,217)"
         },
         "mode": "lines",
         "type": "scatter",
         "x": [
          870,
          870,
          906.6399383544922,
          906.6399383544922
         ],
         "xaxis": "x",
         "y": [
          1.5700924586837752e-16,
          2.7704491843425316,
          2.7704491843425316,
          2.7606678171887262
         ],
         "yaxis": "y"
        },
        {
         "hoverinfo": "text",
         "marker": {
          "color": "rgb(0,116,217)"
         },
         "mode": "lines",
         "type": "scatter",
         "x": [
          855,
          855,
          888.3199691772461,
          888.3199691772461
         ],
         "xaxis": "x",
         "y": [
          0,
          3.128181430928192,
          3.128181430928192,
          2.7704491843425316
         ],
         "yaxis": "y"
        },
        {
         "hoverinfo": "text",
         "marker": {
          "color": "rgb(35,205,205)"
         },
         "mode": "lines",
         "type": "scatter",
         "x": [
          1145,
          1145,
          1155,
          1155
         ],
         "xaxis": "x",
         "y": [
          0,
          1.5700924586837752e-16,
          1.5700924586837752e-16,
          0
         ],
         "yaxis": "y"
        },
        {
         "hoverinfo": "text",
         "marker": {
          "color": "rgb(61,153,112)"
         },
         "mode": "lines",
         "type": "scatter",
         "x": [
          1165,
          1165,
          1175,
          1175
         ],
         "xaxis": "x",
         "y": [
          0,
          0.02233332661028544,
          0.02233332661028544,
          0
         ],
         "yaxis": "y"
        },
        {
         "hoverinfo": "text",
         "marker": {
          "color": "rgb(0,116,217)"
         },
         "mode": "lines",
         "type": "scatter",
         "x": [
          1150,
          1150,
          1170,
          1170
         ],
         "xaxis": "x",
         "y": [
          1.5700924586837752e-16,
          3.4529530080724604,
          3.4529530080724604,
          0.02233332661028544
         ],
         "yaxis": "y"
        },
        {
         "hoverinfo": "text",
         "marker": {
          "color": "rgb(0,116,217)"
         },
         "mode": "lines",
         "type": "scatter",
         "x": [
          871.659984588623,
          871.659984588623,
          1160,
          1160
         ],
         "xaxis": "x",
         "y": [
          3.128181430928192,
          3.5225875779156026,
          3.5225875779156026,
          3.4529530080724604
         ],
         "yaxis": "y"
        },
        {
         "hoverinfo": "text",
         "marker": {
          "color": "rgb(0,116,217)"
         },
         "mode": "lines",
         "type": "scatter",
         "x": [
          840,
          840,
          1015.8299922943115,
          1015.8299922943115
         ],
         "xaxis": "x",
         "y": [
          0,
          3.6695679078952748,
          3.6695679078952748,
          3.5225875779156026
         ],
         "yaxis": "y"
        },
        {
         "hoverinfo": "text",
         "marker": {
          "color": "rgb(0,116,217)"
         },
         "mode": "lines",
         "type": "scatter",
         "x": [
          820,
          820,
          927.9149961471558,
          927.9149961471558
         ],
         "xaxis": "x",
         "y": [
          0,
          4.3700967425268065,
          4.3700967425268065,
          3.6695679078952748
         ],
         "yaxis": "y"
        },
        {
         "hoverinfo": "text",
         "marker": {
          "color": "rgb(0,116,217)"
         },
         "mode": "lines",
         "type": "scatter",
         "x": [
          800,
          800,
          873.9574980735779,
          873.9574980735779
         ],
         "xaxis": "x",
         "y": [
          0,
          5.094657015362441,
          5.094657015362441,
          4.3700967425268065
         ],
         "yaxis": "y"
        },
        {
         "hoverinfo": "text",
         "marker": {
          "color": "rgb(0,116,217)"
         },
         "mode": "lines",
         "type": "scatter",
         "x": [
          770,
          770,
          836.9787490367889,
          836.9787490367889
         ],
         "xaxis": "x",
         "y": [
          3.101101124692065,
          5.39296406254298,
          5.39296406254298,
          5.094657015362441
         ],
         "yaxis": "y"
        },
        {
         "hoverinfo": "text",
         "marker": {
          "color": "rgb(0,116,217)"
         },
         "mode": "lines",
         "type": "scatter",
         "x": [
          732.5,
          732.5,
          803.4893745183945,
          803.4893745183945
         ],
         "xaxis": "x",
         "y": [
          0,
          5.582940325974874,
          5.582940325974874,
          5.39296406254298
         ],
         "yaxis": "y"
        },
        {
         "hoverinfo": "text",
         "marker": {
          "color": "rgb(0,116,217)"
         },
         "mode": "lines",
         "type": "scatter",
         "x": [
          693.75,
          693.75,
          767.9946872591972,
          767.9946872591972
         ],
         "xaxis": "x",
         "y": [
          1.4332917616497527e-16,
          6.240249087733698,
          6.240249087733698,
          5.582940325974874
         ],
         "yaxis": "y"
        },
        {
         "hoverinfo": "text",
         "marker": {
          "color": "rgb(0,116,217)"
         },
         "mode": "lines",
         "type": "scatter",
         "x": [
          662.5,
          662.5,
          730.8723436295986,
          730.8723436295986
         ],
         "xaxis": "x",
         "y": [
          0.17817321657783325,
          6.594995749634879,
          6.594995749634879,
          6.240249087733698
         ],
         "yaxis": "y"
        },
        {
         "hoverinfo": "text",
         "marker": {
          "color": "rgb(0,116,217)"
         },
         "mode": "lines",
         "type": "scatter",
         "x": [
          617.5,
          617.5,
          696.6861718147993,
          696.6861718147993
         ],
         "xaxis": "x",
         "y": [
          4.137898174673611,
          6.767788229855059,
          6.767788229855059,
          6.594995749634879
         ],
         "yaxis": "y"
        },
        {
         "hoverinfo": "text",
         "marker": {
          "color": "rgb(0,116,217)"
         },
         "mode": "lines",
         "type": "scatter",
         "x": [
          561.25,
          561.25,
          657.0930859073997,
          657.0930859073997
         ],
         "xaxis": "x",
         "y": [
          0.2403939265624247,
          8.810937421799052,
          8.810937421799052,
          6.767788229855059
         ],
         "yaxis": "y"
        },
        {
         "hoverinfo": "text",
         "marker": {
          "color": "rgb(0,116,217)"
         },
         "mode": "lines",
         "type": "scatter",
         "x": [
          480.625,
          480.625,
          609.1715429536998,
          609.1715429536998
         ],
         "xaxis": "x",
         "y": [
          6.653384143999578,
          9.190876851720008,
          9.190876851720008,
          8.810937421799052
         ],
         "yaxis": "y"
        },
        {
         "hoverinfo": "text",
         "marker": {
          "color": "rgb(0,116,217)"
         },
         "mode": "lines",
         "type": "scatter",
         "x": [
          401.25,
          401.25,
          544.8982714768499,
          544.8982714768499
         ],
         "xaxis": "x",
         "y": [
          2.162005023719258,
          12.504098306093173,
          12.504098306093173,
          9.190876851720008
         ],
         "yaxis": "y"
        },
        {
         "hoverinfo": "text",
         "marker": {
          "color": "rgb(0,116,217)"
         },
         "mode": "lines",
         "type": "scatter",
         "x": [
          301.1328125,
          301.1328125,
          473.07413573842496,
          473.07413573842496
         ],
         "xaxis": "x",
         "y": [
          9.691355541776408,
          23.02756720098092,
          23.02756720098092,
          12.504098306093173
         ],
         "yaxis": "y"
        },
        {
         "hoverinfo": "text",
         "marker": {
          "color": "rgb(0,116,217)"
         },
         "mode": "lines",
         "type": "scatter",
         "x": [
          40.859375,
          40.859375,
          387.1034741192125,
          387.1034741192125
         ],
         "xaxis": "x",
         "y": [
          5.550586435996379,
          30.815432530822054,
          30.815432530822054,
          23.02756720098092
         ],
         "yaxis": "y"
        }
       ],
       "layout": {
        "autosize": false,
        "height": 800,
        "hovermode": "closest",
        "showlegend": false,
        "template": {
         "data": {
          "bar": [
           {
            "error_x": {
             "color": "#2a3f5f"
            },
            "error_y": {
             "color": "#2a3f5f"
            },
            "marker": {
             "line": {
              "color": "#E5ECF6",
              "width": 0.5
             },
             "pattern": {
              "fillmode": "overlay",
              "size": 10,
              "solidity": 0.2
             }
            },
            "type": "bar"
           }
          ],
          "barpolar": [
           {
            "marker": {
             "line": {
              "color": "#E5ECF6",
              "width": 0.5
             },
             "pattern": {
              "fillmode": "overlay",
              "size": 10,
              "solidity": 0.2
             }
            },
            "type": "barpolar"
           }
          ],
          "carpet": [
           {
            "aaxis": {
             "endlinecolor": "#2a3f5f",
             "gridcolor": "white",
             "linecolor": "white",
             "minorgridcolor": "white",
             "startlinecolor": "#2a3f5f"
            },
            "baxis": {
             "endlinecolor": "#2a3f5f",
             "gridcolor": "white",
             "linecolor": "white",
             "minorgridcolor": "white",
             "startlinecolor": "#2a3f5f"
            },
            "type": "carpet"
           }
          ],
          "choropleth": [
           {
            "colorbar": {
             "outlinewidth": 0,
             "ticks": ""
            },
            "type": "choropleth"
           }
          ],
          "contour": [
           {
            "colorbar": {
             "outlinewidth": 0,
             "ticks": ""
            },
            "colorscale": [
             [
              0,
              "#0d0887"
             ],
             [
              0.1111111111111111,
              "#46039f"
             ],
             [
              0.2222222222222222,
              "#7201a8"
             ],
             [
              0.3333333333333333,
              "#9c179e"
             ],
             [
              0.4444444444444444,
              "#bd3786"
             ],
             [
              0.5555555555555556,
              "#d8576b"
             ],
             [
              0.6666666666666666,
              "#ed7953"
             ],
             [
              0.7777777777777778,
              "#fb9f3a"
             ],
             [
              0.8888888888888888,
              "#fdca26"
             ],
             [
              1,
              "#f0f921"
             ]
            ],
            "type": "contour"
           }
          ],
          "contourcarpet": [
           {
            "colorbar": {
             "outlinewidth": 0,
             "ticks": ""
            },
            "type": "contourcarpet"
           }
          ],
          "heatmap": [
           {
            "colorbar": {
             "outlinewidth": 0,
             "ticks": ""
            },
            "colorscale": [
             [
              0,
              "#0d0887"
             ],
             [
              0.1111111111111111,
              "#46039f"
             ],
             [
              0.2222222222222222,
              "#7201a8"
             ],
             [
              0.3333333333333333,
              "#9c179e"
             ],
             [
              0.4444444444444444,
              "#bd3786"
             ],
             [
              0.5555555555555556,
              "#d8576b"
             ],
             [
              0.6666666666666666,
              "#ed7953"
             ],
             [
              0.7777777777777778,
              "#fb9f3a"
             ],
             [
              0.8888888888888888,
              "#fdca26"
             ],
             [
              1,
              "#f0f921"
             ]
            ],
            "type": "heatmap"
           }
          ],
          "heatmapgl": [
           {
            "colorbar": {
             "outlinewidth": 0,
             "ticks": ""
            },
            "colorscale": [
             [
              0,
              "#0d0887"
             ],
             [
              0.1111111111111111,
              "#46039f"
             ],
             [
              0.2222222222222222,
              "#7201a8"
             ],
             [
              0.3333333333333333,
              "#9c179e"
             ],
             [
              0.4444444444444444,
              "#bd3786"
             ],
             [
              0.5555555555555556,
              "#d8576b"
             ],
             [
              0.6666666666666666,
              "#ed7953"
             ],
             [
              0.7777777777777778,
              "#fb9f3a"
             ],
             [
              0.8888888888888888,
              "#fdca26"
             ],
             [
              1,
              "#f0f921"
             ]
            ],
            "type": "heatmapgl"
           }
          ],
          "histogram": [
           {
            "marker": {
             "pattern": {
              "fillmode": "overlay",
              "size": 10,
              "solidity": 0.2
             }
            },
            "type": "histogram"
           }
          ],
          "histogram2d": [
           {
            "colorbar": {
             "outlinewidth": 0,
             "ticks": ""
            },
            "colorscale": [
             [
              0,
              "#0d0887"
             ],
             [
              0.1111111111111111,
              "#46039f"
             ],
             [
              0.2222222222222222,
              "#7201a8"
             ],
             [
              0.3333333333333333,
              "#9c179e"
             ],
             [
              0.4444444444444444,
              "#bd3786"
             ],
             [
              0.5555555555555556,
              "#d8576b"
             ],
             [
              0.6666666666666666,
              "#ed7953"
             ],
             [
              0.7777777777777778,
              "#fb9f3a"
             ],
             [
              0.8888888888888888,
              "#fdca26"
             ],
             [
              1,
              "#f0f921"
             ]
            ],
            "type": "histogram2d"
           }
          ],
          "histogram2dcontour": [
           {
            "colorbar": {
             "outlinewidth": 0,
             "ticks": ""
            },
            "colorscale": [
             [
              0,
              "#0d0887"
             ],
             [
              0.1111111111111111,
              "#46039f"
             ],
             [
              0.2222222222222222,
              "#7201a8"
             ],
             [
              0.3333333333333333,
              "#9c179e"
             ],
             [
              0.4444444444444444,
              "#bd3786"
             ],
             [
              0.5555555555555556,
              "#d8576b"
             ],
             [
              0.6666666666666666,
              "#ed7953"
             ],
             [
              0.7777777777777778,
              "#fb9f3a"
             ],
             [
              0.8888888888888888,
              "#fdca26"
             ],
             [
              1,
              "#f0f921"
             ]
            ],
            "type": "histogram2dcontour"
           }
          ],
          "mesh3d": [
           {
            "colorbar": {
             "outlinewidth": 0,
             "ticks": ""
            },
            "type": "mesh3d"
           }
          ],
          "parcoords": [
           {
            "line": {
             "colorbar": {
              "outlinewidth": 0,
              "ticks": ""
             }
            },
            "type": "parcoords"
           }
          ],
          "pie": [
           {
            "automargin": true,
            "type": "pie"
           }
          ],
          "scatter": [
           {
            "fillpattern": {
             "fillmode": "overlay",
             "size": 10,
             "solidity": 0.2
            },
            "type": "scatter"
           }
          ],
          "scatter3d": [
           {
            "line": {
             "colorbar": {
              "outlinewidth": 0,
              "ticks": ""
             }
            },
            "marker": {
             "colorbar": {
              "outlinewidth": 0,
              "ticks": ""
             }
            },
            "type": "scatter3d"
           }
          ],
          "scattercarpet": [
           {
            "marker": {
             "colorbar": {
              "outlinewidth": 0,
              "ticks": ""
             }
            },
            "type": "scattercarpet"
           }
          ],
          "scattergeo": [
           {
            "marker": {
             "colorbar": {
              "outlinewidth": 0,
              "ticks": ""
             }
            },
            "type": "scattergeo"
           }
          ],
          "scattergl": [
           {
            "marker": {
             "colorbar": {
              "outlinewidth": 0,
              "ticks": ""
             }
            },
            "type": "scattergl"
           }
          ],
          "scattermapbox": [
           {
            "marker": {
             "colorbar": {
              "outlinewidth": 0,
              "ticks": ""
             }
            },
            "type": "scattermapbox"
           }
          ],
          "scatterpolar": [
           {
            "marker": {
             "colorbar": {
              "outlinewidth": 0,
              "ticks": ""
             }
            },
            "type": "scatterpolar"
           }
          ],
          "scatterpolargl": [
           {
            "marker": {
             "colorbar": {
              "outlinewidth": 0,
              "ticks": ""
             }
            },
            "type": "scatterpolargl"
           }
          ],
          "scatterternary": [
           {
            "marker": {
             "colorbar": {
              "outlinewidth": 0,
              "ticks": ""
             }
            },
            "type": "scatterternary"
           }
          ],
          "surface": [
           {
            "colorbar": {
             "outlinewidth": 0,
             "ticks": ""
            },
            "colorscale": [
             [
              0,
              "#0d0887"
             ],
             [
              0.1111111111111111,
              "#46039f"
             ],
             [
              0.2222222222222222,
              "#7201a8"
             ],
             [
              0.3333333333333333,
              "#9c179e"
             ],
             [
              0.4444444444444444,
              "#bd3786"
             ],
             [
              0.5555555555555556,
              "#d8576b"
             ],
             [
              0.6666666666666666,
              "#ed7953"
             ],
             [
              0.7777777777777778,
              "#fb9f3a"
             ],
             [
              0.8888888888888888,
              "#fdca26"
             ],
             [
              1,
              "#f0f921"
             ]
            ],
            "type": "surface"
           }
          ],
          "table": [
           {
            "cells": {
             "fill": {
              "color": "#EBF0F8"
             },
             "line": {
              "color": "white"
             }
            },
            "header": {
             "fill": {
              "color": "#C8D4E3"
             },
             "line": {
              "color": "white"
             }
            },
            "type": "table"
           }
          ]
         },
         "layout": {
          "annotationdefaults": {
           "arrowcolor": "#2a3f5f",
           "arrowhead": 0,
           "arrowwidth": 1
          },
          "autotypenumbers": "strict",
          "coloraxis": {
           "colorbar": {
            "outlinewidth": 0,
            "ticks": ""
           }
          },
          "colorscale": {
           "diverging": [
            [
             0,
             "#8e0152"
            ],
            [
             0.1,
             "#c51b7d"
            ],
            [
             0.2,
             "#de77ae"
            ],
            [
             0.3,
             "#f1b6da"
            ],
            [
             0.4,
             "#fde0ef"
            ],
            [
             0.5,
             "#f7f7f7"
            ],
            [
             0.6,
             "#e6f5d0"
            ],
            [
             0.7,
             "#b8e186"
            ],
            [
             0.8,
             "#7fbc41"
            ],
            [
             0.9,
             "#4d9221"
            ],
            [
             1,
             "#276419"
            ]
           ],
           "sequential": [
            [
             0,
             "#0d0887"
            ],
            [
             0.1111111111111111,
             "#46039f"
            ],
            [
             0.2222222222222222,
             "#7201a8"
            ],
            [
             0.3333333333333333,
             "#9c179e"
            ],
            [
             0.4444444444444444,
             "#bd3786"
            ],
            [
             0.5555555555555556,
             "#d8576b"
            ],
            [
             0.6666666666666666,
             "#ed7953"
            ],
            [
             0.7777777777777778,
             "#fb9f3a"
            ],
            [
             0.8888888888888888,
             "#fdca26"
            ],
            [
             1,
             "#f0f921"
            ]
           ],
           "sequentialminus": [
            [
             0,
             "#0d0887"
            ],
            [
             0.1111111111111111,
             "#46039f"
            ],
            [
             0.2222222222222222,
             "#7201a8"
            ],
            [
             0.3333333333333333,
             "#9c179e"
            ],
            [
             0.4444444444444444,
             "#bd3786"
            ],
            [
             0.5555555555555556,
             "#d8576b"
            ],
            [
             0.6666666666666666,
             "#ed7953"
            ],
            [
             0.7777777777777778,
             "#fb9f3a"
            ],
            [
             0.8888888888888888,
             "#fdca26"
            ],
            [
             1,
             "#f0f921"
            ]
           ]
          },
          "colorway": [
           "#636efa",
           "#EF553B",
           "#00cc96",
           "#ab63fa",
           "#FFA15A",
           "#19d3f3",
           "#FF6692",
           "#B6E880",
           "#FF97FF",
           "#FECB52"
          ],
          "font": {
           "color": "#2a3f5f"
          },
          "geo": {
           "bgcolor": "white",
           "lakecolor": "white",
           "landcolor": "#E5ECF6",
           "showlakes": true,
           "showland": true,
           "subunitcolor": "white"
          },
          "hoverlabel": {
           "align": "left"
          },
          "hovermode": "closest",
          "mapbox": {
           "style": "light"
          },
          "paper_bgcolor": "white",
          "plot_bgcolor": "#E5ECF6",
          "polar": {
           "angularaxis": {
            "gridcolor": "white",
            "linecolor": "white",
            "ticks": ""
           },
           "bgcolor": "#E5ECF6",
           "radialaxis": {
            "gridcolor": "white",
            "linecolor": "white",
            "ticks": ""
           }
          },
          "scene": {
           "xaxis": {
            "backgroundcolor": "#E5ECF6",
            "gridcolor": "white",
            "gridwidth": 2,
            "linecolor": "white",
            "showbackground": true,
            "ticks": "",
            "zerolinecolor": "white"
           },
           "yaxis": {
            "backgroundcolor": "#E5ECF6",
            "gridcolor": "white",
            "gridwidth": 2,
            "linecolor": "white",
            "showbackground": true,
            "ticks": "",
            "zerolinecolor": "white"
           },
           "zaxis": {
            "backgroundcolor": "#E5ECF6",
            "gridcolor": "white",
            "gridwidth": 2,
            "linecolor": "white",
            "showbackground": true,
            "ticks": "",
            "zerolinecolor": "white"
           }
          },
          "shapedefaults": {
           "line": {
            "color": "#2a3f5f"
           }
          },
          "ternary": {
           "aaxis": {
            "gridcolor": "white",
            "linecolor": "white",
            "ticks": ""
           },
           "baxis": {
            "gridcolor": "white",
            "linecolor": "white",
            "ticks": ""
           },
           "bgcolor": "#E5ECF6",
           "caxis": {
            "gridcolor": "white",
            "linecolor": "white",
            "ticks": ""
           }
          },
          "title": {
           "x": 0.05
          },
          "xaxis": {
           "automargin": true,
           "gridcolor": "white",
           "linecolor": "white",
           "ticks": "",
           "title": {
            "standoff": 15
           },
           "zerolinecolor": "white",
           "zerolinewidth": 2
          },
          "yaxis": {
           "automargin": true,
           "gridcolor": "white",
           "linecolor": "white",
           "ticks": "",
           "title": {
            "standoff": 15
           },
           "zerolinecolor": "white",
           "zerolinewidth": 2
          }
         }
        },
        "width": 800,
        "xaxis": {
         "mirror": "allticks",
         "rangemode": "tozero",
         "showgrid": false,
         "showline": true,
         "showticklabels": true,
         "tickfont": {
          "size": 8
         },
         "tickmode": "array",
         "ticks": "outside",
         "ticktext": [
          "PPC",
          "ICDHyr",
          "AKGDH",
          "SUCOAS_rev",
          "THD2",
          "PFK",
          "PGM_rev",
          "ENO",
          "PGK_rev",
          "GAPD",
          "TPI",
          "FBA",
          "PGI",
          "RPI",
          "FUM",
          "CS",
          "ACONTa",
          "ACONTb",
          "RPE",
          "TKT2",
          "RPI_rev",
          "TALA",
          "TKT1",
          "PGL",
          "G6PDH2r",
          "GND",
          "PGK",
          "PGM",
          "NADTRHD",
          "ATPS4r",
          "NADH16",
          "PDH",
          "PYK",
          "MDH",
          "SUCOAS",
          "ICL",
          "MALS",
          "O2t",
          "CYTBD",
          "EX_o2_e_rev",
          "EX_h2o_e",
          "H2Ot_rev",
          "CO2t_rev",
          "EX_co2_e",
          "EX_ac_e",
          "PTAr",
          "ACKr_rev",
          "ACt2r_rev",
          "EX_o2_e",
          "CO2t",
          "H2Ot",
          "EX_h_e",
          "PFL",
          "EX_for_e",
          "EX_glu__L_e",
          "GLUt2r_rev",
          "GLUDy_rev",
          "EX_nh4_e_rev",
          "NH4t",
          "EX_etoh_e",
          "ALCD2x_rev",
          "ETOHt2r_rev",
          "ACALD_rev",
          "ACALDt_rev",
          "EX_acald_e",
          "GLUt2r",
          "EX_nh4_e",
          "GLUDy",
          "GLNS",
          "BIOMASS_Ecoli_core_w_GAM",
          "PIt2r",
          "EX_pi_e_rev",
          "LDH_D_rev",
          "D_LACt2_rev",
          "EX_lac__D_e",
          "ALCD2x",
          "ETOHt2r",
          "ACALD",
          "ACALDt",
          "ACKr",
          "ACt2r",
          "D_LACt2",
          "LDH_D",
          "PYRt2_rev",
          "EX_pyr_e",
          "EX_pi_e",
          "SUCCt2_2",
          "SUCCt3",
          "PPS",
          "ADK1",
          "SUCDi",
          "FRD7",
          "PYRt2",
          "AKGt2r",
          "FORt",
          "FBP",
          "ME2",
          "FRUpts2",
          "EX_succ_e",
          "EX_mal__L_e",
          "EX_gln__L_e",
          "EX_glc__D_e",
          "EX_glc__D_e_rev",
          "EX_fum_e",
          "EX_fru_e",
          "ATPM",
          "PPCK",
          "ME1",
          "MALt2_2",
          "GLUSy",
          "GLUN",
          "GLNabc",
          "FUMt2_2",
          "GLCpts",
          "AKGt2r_rev",
          "EX_akg_e",
          "FORt2",
          "FORt_rev"
         ],
         "tickvals": [
          5,
          15,
          25,
          35,
          45,
          55,
          65,
          75,
          85,
          95,
          105,
          115,
          125,
          135,
          145,
          155,
          165,
          175,
          185,
          195,
          205,
          215,
          225,
          235,
          245,
          255,
          265,
          275,
          285,
          295,
          305,
          315,
          325,
          335,
          345,
          355,
          365,
          375,
          385,
          395,
          405,
          415,
          425,
          435,
          445,
          455,
          465,
          475,
          485,
          495,
          505,
          515,
          525,
          535,
          545,
          555,
          565,
          575,
          585,
          595,
          605,
          615,
          625,
          635,
          645,
          655,
          665,
          675,
          685,
          695,
          705,
          715,
          725,
          735,
          745,
          755,
          765,
          775,
          785,
          795,
          805,
          815,
          825,
          835,
          845,
          855,
          865,
          875,
          885,
          895,
          905,
          915,
          925,
          935,
          945,
          955,
          965,
          975,
          985,
          995,
          1005,
          1015,
          1025,
          1035,
          1045,
          1055,
          1065,
          1075,
          1085,
          1095,
          1105,
          1115,
          1125,
          1135,
          1145,
          1155,
          1165,
          1175
         ],
         "title": {
          "font": {
           "size": 10
          }
         },
         "type": "linear",
         "zeroline": false
        },
        "yaxis": {
         "mirror": "allticks",
         "rangemode": "tozero",
         "showgrid": false,
         "showline": true,
         "showticklabels": true,
         "tickfont": {
          "size": 8
         },
         "ticks": "outside",
         "title": {
          "font": {
           "size": 10
          }
         },
         "type": "linear",
         "zeroline": false
        }
       }
      }
     },
     "metadata": {},
     "output_type": "display_data"
    }
   ],
   "source": [
    "\n",
    "from dingo.utils import cluster_corr_reactions\n",
    "from dingo.illustrations import plot_dendrogram\n",
    "\n",
    "\n",
    "dissimilarity_matrix, labels, clusters = cluster_corr_reactions(linear_correlation_matrix_1, \n",
    "                                                                reactions=extended_reactions_conditions_1, \n",
    "                                                                linkage=\"ward\", \n",
    "                                                                t = 4.0, \n",
    "                                                                correction=False)\n",
    "\n",
    "print(clusters)\n",
    "plot_dendrogram(dissimilarity_matrix, extended_reactions_conditions_1, plot_labels = True, t = 2, linkage = \"ward\")\n",
    "\n",
    "\n",
    "### See if with the mixed matrix I get better cluster\n",
    "\n",
    "\n",
    "dissimilarity_matrix_mixed, labels_mixed, clusters_mixed = cluster_corr_reactions(mixed_correlation_matrix_1, \n",
    "                                                                reactions=extended_reactions_conditions_1, \n",
    "                                                                linkage=\"ward\", \n",
    "                                                                t = 4.0, \n",
    "                                                                correction=False)\n",
    "\n",
    "print(clusters_mixed)\n",
    "plot_dendrogram(dissimilarity_matrix_mixed, extended_reactions_conditions_1, plot_labels = True, t = 2, linkage = \"ward\")\n"
   ]
  },
  {
   "cell_type": "markdown",
   "id": "3fffb855",
   "metadata": {},
   "source": [
    "### Map Model reaction ID to KEGG ID and corresonding KEGG pathway"
   ]
  },
  {
   "cell_type": "code",
   "execution_count": 7,
   "id": "486b01cc",
   "metadata": {},
   "outputs": [
    {
     "name": "stdout",
     "output_type": "stream",
     "text": [
      "{'PFK': None, 'PFL': 'R00212', 'PGI': None, 'PGK': 'R01512', 'PGL': 'R02035', 'ACALD': 'R00228', 'AKGt2r': None, 'PGM': 'R01518', 'PIt2r': None, 'ALCD2x': 'R00754', 'ACALDt': None, 'ACKr': 'R00315', 'PPC': 'R00345', 'ACONTa': 'R01325', 'ACONTb': 'R01900', 'ATPM': 'R00086', 'PPCK': 'R00341', 'ACt2r': None, 'PPS': 'R00199', 'ADK1': 'R00127', 'AKGDH': 'R08549', 'ATPS4r': None, 'PTAr': 'R00230', 'PYK': 'R00200', 'BIOMASS_Ecoli_core_w_GAM': None, 'PYRt2': None, 'CO2t': None, 'RPE': 'R01529', 'CS': 'R00351', 'RPI': None, 'SUCCt2_2': None, 'CYTBD': None, 'D_LACt2': None, 'ENO': 'R00658', 'SUCCt3': None, 'ETOHt2r': None, 'SUCDi': None, 'SUCOAS': 'R00405', 'TALA': 'R01827', 'THD2': None, 'TKT1': None, 'TKT2': 'R01830', 'TPI': 'R01015', 'EX_ac_e': None, 'EX_acald_e': None, 'EX_akg_e': None, 'EX_co2_e': None, 'EX_etoh_e': None, 'EX_for_e': None, 'EX_fru_e': None, 'EX_fum_e': None, 'EX_glc__D_e': None, 'EX_gln__L_e': None, 'EX_glu__L_e': None, 'EX_h_e': None, 'EX_h2o_e': None, 'EX_lac__D_e': None, 'EX_mal__L_e': None, 'EX_nh4_e': None, 'EX_o2_e': None, 'EX_pi_e': None, 'EX_pyr_e': None, 'EX_succ_e': None, 'FBA': 'R01068', 'FBP': None, 'FORt2': None, 'FORt': None, 'FRD7': None, 'FRUpts2': None, 'FUM': 'R01082', 'FUMt2_2': None, 'G6PDH2r': 'R00835', 'GAPD': 'R01061', 'GLCpts': None, 'GLNS': 'R00253', 'GLNabc': None, 'GLUDy': 'R00248', 'GLUN': 'R00256', 'GLUSy': 'R00114', 'GLUt2r': None, 'GND': 'R01528', 'H2Ot': None, 'ICDHyr': 'R00267', 'ICL': 'R00479', 'LDH_D': 'R00704', 'MALS': 'R00472', 'MALt2_2': None, 'MDH': 'R00342', 'ME1': 'R00214', 'ME2': 'R00216', 'NADH16': None, 'NADTRHD': 'R00112', 'NH4t': None, 'O2t': None, 'PDH': 'R00209'}\n"
     ]
    }
   ],
   "source": [
    "\n",
    "\n",
    "def get_kegg_identifiers(model):\n",
    "    return (\n",
    "        {met.id: met.annotation.get(\"kegg.compound\") for met in model.metabolites},\n",
    "        {reac.id: reac.annotation.get(\"kegg.reaction\") for reac in model.reactions},\n",
    "    )\n",
    "\n",
    "\n",
    "dictionary = get_kegg_identifiers(ec_cobra_model)\n",
    "print(dictionary[1])\n",
    "\n",
    "\n",
    "\n",
    "from bioservices import KEGG\n",
    "\n",
    "kegg = KEGG()\n",
    "model_to_kegg = dictionary[1]\n",
    "\n",
    "reaction_to_pathways = {}\n",
    "\n",
    "for model_rxn, kegg_rxn in model_to_kegg.items():\n",
    "    if kegg_rxn:\n",
    "        try:\n",
    "            entry = kegg.get(kegg_rxn)\n",
    "            parsed = kegg.parse(entry)\n",
    "            pathways = parsed.get('PATHWAY', {})\n",
    "            reaction_to_pathways[model_rxn] = list(pathways.values())\n",
    "        except Exception as e:\n",
    "            print(f\"Error retrieving {kegg_rxn}: {e}\")\n",
    "            reaction_to_pathways[model_rxn] = []\n",
    "\n",
    "# Print or save the mappings\n",
    "import pandas as pd\n",
    "df = pd.DataFrame([\n",
    "    {'model_reaction': rxn, 'kegg_reaction': model_to_kegg[rxn], 'pathways': paths}\n",
    "    for rxn, paths in reaction_to_pathways.items()\n",
    "])\n",
    "\n"
   ]
  },
  {
   "cell_type": "code",
   "execution_count": 8,
   "id": "ae04df9a",
   "metadata": {},
   "outputs": [
    {
     "data": {
      "text/html": [
       "<div>\n",
       "<style scoped>\n",
       "    .dataframe tbody tr th:only-of-type {\n",
       "        vertical-align: middle;\n",
       "    }\n",
       "\n",
       "    .dataframe tbody tr th {\n",
       "        vertical-align: top;\n",
       "    }\n",
       "\n",
       "    .dataframe thead th {\n",
       "        text-align: right;\n",
       "    }\n",
       "</style>\n",
       "<table border=\"1\" class=\"dataframe\">\n",
       "  <thead>\n",
       "    <tr style=\"text-align: right;\">\n",
       "      <th></th>\n",
       "      <th>model_reaction</th>\n",
       "      <th>kegg_reaction</th>\n",
       "      <th>pathways</th>\n",
       "    </tr>\n",
       "  </thead>\n",
       "  <tbody>\n",
       "    <tr>\n",
       "      <th>0</th>\n",
       "      <td>PFL</td>\n",
       "      <td>R00212</td>\n",
       "      <td>[Pyruvate metabolism, Butanoate metabolism, Metabolic pathways, Microbial metabolism in diverse environments]</td>\n",
       "    </tr>\n",
       "    <tr>\n",
       "      <th>1</th>\n",
       "      <td>PGK</td>\n",
       "      <td>R01512</td>\n",
       "      <td>[Glycolysis / Gluconeogenesis, Carbon fixation by Calvin cycle, Metabolic pathways, Biosynthesis of secondary metabolites, Microbial metabolism in diverse environments, Carbon metabolism, Biosynthesis of amino acids]</td>\n",
       "    </tr>\n",
       "    <tr>\n",
       "      <th>2</th>\n",
       "      <td>PGL</td>\n",
       "      <td>R02035</td>\n",
       "      <td>[Pentose phosphate pathway, Metabolic pathways, Biosynthesis of secondary metabolites, Microbial metabolism in diverse environments, Carbon metabolism]</td>\n",
       "    </tr>\n",
       "    <tr>\n",
       "      <th>3</th>\n",
       "      <td>ACALD</td>\n",
       "      <td>R00228</td>\n",
       "      <td>[Phenylalanine metabolism, Benzoate degradation, Pyruvate metabolism, Dioxin degradation, Xylene degradation, Metabolic pathways, Microbial metabolism in diverse environments, Degradation of aromatic compounds]</td>\n",
       "    </tr>\n",
       "    <tr>\n",
       "      <th>4</th>\n",
       "      <td>PGM</td>\n",
       "      <td>R01518</td>\n",
       "      <td>[Glycolysis / Gluconeogenesis, Glycine, serine and threonine metabolism, Methane metabolism, Metabolic pathways, Biosynthesis of secondary metabolites, Microbial metabolism in diverse environments, Carbon metabolism, Biosynthesis of amino acids]</td>\n",
       "    </tr>\n",
       "    <tr>\n",
       "      <th>5</th>\n",
       "      <td>ALCD2x</td>\n",
       "      <td>R00754</td>\n",
       "      <td>[Glycolysis / Gluconeogenesis, Pyruvate metabolism, Metabolic pathways, Biosynthesis of secondary metabolites, Microbial metabolism in diverse environments]</td>\n",
       "    </tr>\n",
       "    <tr>\n",
       "      <th>6</th>\n",
       "      <td>ACKr</td>\n",
       "      <td>R00315</td>\n",
       "      <td>[Taurine and hypotaurine metabolism, Pyruvate metabolism, Methane metabolism, Other carbon fixation pathways, Metabolic pathways, Microbial metabolism in diverse environments, Carbon metabolism]</td>\n",
       "    </tr>\n",
       "    <tr>\n",
       "      <th>7</th>\n",
       "      <td>PPC</td>\n",
       "      <td>R00345</td>\n",
       "      <td>[Pyruvate metabolism, Methane metabolism, Carbon fixation by Calvin cycle, Other carbon fixation pathways, Metabolic pathways, Microbial metabolism in diverse environments, Carbon metabolism]</td>\n",
       "    </tr>\n",
       "    <tr>\n",
       "      <th>8</th>\n",
       "      <td>ACONTa</td>\n",
       "      <td>R01325</td>\n",
       "      <td>[Citrate cycle (TCA cycle), Glyoxylate and dicarboxylate metabolism, Other carbon fixation pathways, Metabolic pathways, Biosynthesis of secondary metabolites, Microbial metabolism in diverse environments, 2-Oxocarboxylic acid metabolism]</td>\n",
       "    </tr>\n",
       "    <tr>\n",
       "      <th>9</th>\n",
       "      <td>ACONTb</td>\n",
       "      <td>R01900</td>\n",
       "      <td>[Citrate cycle (TCA cycle), Glyoxylate and dicarboxylate metabolism, Other carbon fixation pathways, Metabolic pathways, Biosynthesis of secondary metabolites, Microbial metabolism in diverse environments, 2-Oxocarboxylic acid metabolism]</td>\n",
       "    </tr>\n",
       "    <tr>\n",
       "      <th>10</th>\n",
       "      <td>ATPM</td>\n",
       "      <td>R00086</td>\n",
       "      <td>[Purine metabolism, Metabolic pathways, Biosynthesis of secondary metabolites, Nucleotide metabolism]</td>\n",
       "    </tr>\n",
       "    <tr>\n",
       "      <th>11</th>\n",
       "      <td>PPCK</td>\n",
       "      <td>R00341</td>\n",
       "      <td>[Glycolysis / Gluconeogenesis, Citrate cycle (TCA cycle), Pyruvate metabolism, Carbon fixation by Calvin cycle, Metabolic pathways, Biosynthesis of secondary metabolites, Microbial metabolism in diverse environments, Carbon metabolism]</td>\n",
       "    </tr>\n",
       "    <tr>\n",
       "      <th>12</th>\n",
       "      <td>PPS</td>\n",
       "      <td>R00199</td>\n",
       "      <td>[Glycolysis / Gluconeogenesis, Pyruvate metabolism, Methane metabolism, Other carbon fixation pathways, Metabolic pathways, Biosynthesis of secondary metabolites, Microbial metabolism in diverse environments, Carbon metabolism]</td>\n",
       "    </tr>\n",
       "    <tr>\n",
       "      <th>13</th>\n",
       "      <td>ADK1</td>\n",
       "      <td>R00127</td>\n",
       "      <td>[Purine metabolism, Metabolic pathways, Biosynthesis of secondary metabolites, Nucleotide metabolism, Biosynthesis of cofactors]</td>\n",
       "    </tr>\n",
       "    <tr>\n",
       "      <th>14</th>\n",
       "      <td>AKGDH</td>\n",
       "      <td>R08549</td>\n",
       "      <td>[Metabolic pathways, Biosynthesis of secondary metabolites, Microbial metabolism in diverse environments, Carbon metabolism, 2-Oxocarboxylic acid metabolism]</td>\n",
       "    </tr>\n",
       "    <tr>\n",
       "      <th>15</th>\n",
       "      <td>PTAr</td>\n",
       "      <td>R00230</td>\n",
       "      <td>[Taurine and hypotaurine metabolism, Pyruvate metabolism, Methane metabolism, Other carbon fixation pathways, Metabolic pathways, Microbial metabolism in diverse environments, Carbon metabolism]</td>\n",
       "    </tr>\n",
       "    <tr>\n",
       "      <th>16</th>\n",
       "      <td>PYK</td>\n",
       "      <td>R00200</td>\n",
       "      <td>[Glycolysis / Gluconeogenesis, Pyruvate metabolism, Metabolic pathways, Biosynthesis of secondary metabolites, Microbial metabolism in diverse environments, Carbon metabolism, Biosynthesis of amino acids]</td>\n",
       "    </tr>\n",
       "    <tr>\n",
       "      <th>17</th>\n",
       "      <td>RPE</td>\n",
       "      <td>R01529</td>\n",
       "      <td>[Pentose phosphate pathway, Pentose and glucuronate interconversions, Carbon fixation by Calvin cycle, Metabolic pathways, Biosynthesis of secondary metabolites, Microbial metabolism in diverse environments, Carbon metabolism, Biosynthesis of amino acids]</td>\n",
       "    </tr>\n",
       "    <tr>\n",
       "      <th>18</th>\n",
       "      <td>CS</td>\n",
       "      <td>R00351</td>\n",
       "      <td>[Citrate cycle (TCA cycle), Glyoxylate and dicarboxylate metabolism, Metabolic pathways, Biosynthesis of secondary metabolites, Microbial metabolism in diverse environments, Carbon metabolism, 2-Oxocarboxylic acid metabolism, Biosynthesis of amino acids]</td>\n",
       "    </tr>\n",
       "    <tr>\n",
       "      <th>19</th>\n",
       "      <td>ENO</td>\n",
       "      <td>R00658</td>\n",
       "      <td>[Glycolysis / Gluconeogenesis, Methane metabolism, Metabolic pathways, Biosynthesis of secondary metabolites, Microbial metabolism in diverse environments, Carbon metabolism, Biosynthesis of amino acids]</td>\n",
       "    </tr>\n",
       "    <tr>\n",
       "      <th>20</th>\n",
       "      <td>SUCOAS</td>\n",
       "      <td>R00405</td>\n",
       "      <td>[Citrate cycle (TCA cycle), Propanoate metabolism, Other carbon fixation pathways, Metabolic pathways, Biosynthesis of secondary metabolites, Microbial metabolism in diverse environments, Carbon metabolism]</td>\n",
       "    </tr>\n",
       "    <tr>\n",
       "      <th>21</th>\n",
       "      <td>TALA</td>\n",
       "      <td>R01827</td>\n",
       "      <td>[]</td>\n",
       "    </tr>\n",
       "    <tr>\n",
       "      <th>22</th>\n",
       "      <td>TKT2</td>\n",
       "      <td>R01830</td>\n",
       "      <td>[]</td>\n",
       "    </tr>\n",
       "    <tr>\n",
       "      <th>23</th>\n",
       "      <td>TPI</td>\n",
       "      <td>R01015</td>\n",
       "      <td>[Glycolysis / Gluconeogenesis, Fructose and mannose metabolism, Inositol phosphate metabolism, Carbon fixation by Calvin cycle, Metabolic pathways, Biosynthesis of secondary metabolites, Microbial metabolism in diverse environments, Carbon metabolism, Biosynthesis of amino acids]</td>\n",
       "    </tr>\n",
       "    <tr>\n",
       "      <th>24</th>\n",
       "      <td>FBA</td>\n",
       "      <td>R01068</td>\n",
       "      <td>[Glycolysis / Gluconeogenesis, Pentose phosphate pathway, Fructose and mannose metabolism, Methane metabolism, Carbon fixation by Calvin cycle, Metabolic pathways, Biosynthesis of secondary metabolites, Microbial metabolism in diverse environments, Carbon metabolism, Biosynthesis of amino acids]</td>\n",
       "    </tr>\n",
       "    <tr>\n",
       "      <th>25</th>\n",
       "      <td>FUM</td>\n",
       "      <td>R01082</td>\n",
       "      <td>[Citrate cycle (TCA cycle), Pyruvate metabolism, Other carbon fixation pathways, Metabolic pathways, Biosynthesis of secondary metabolites, Microbial metabolism in diverse environments, Carbon metabolism]</td>\n",
       "    </tr>\n",
       "    <tr>\n",
       "      <th>26</th>\n",
       "      <td>G6PDH2r</td>\n",
       "      <td>R00835</td>\n",
       "      <td>[]</td>\n",
       "    </tr>\n",
       "    <tr>\n",
       "      <th>27</th>\n",
       "      <td>GAPD</td>\n",
       "      <td>R01061</td>\n",
       "      <td>[Glycolysis / Gluconeogenesis, Carbon fixation by Calvin cycle, Metabolic pathways, Biosynthesis of secondary metabolites, Microbial metabolism in diverse environments, Carbon metabolism, Biosynthesis of amino acids]</td>\n",
       "    </tr>\n",
       "    <tr>\n",
       "      <th>28</th>\n",
       "      <td>GLNS</td>\n",
       "      <td>R00253</td>\n",
       "      <td>[Arginine biosynthesis, Alanine, aspartate and glutamate metabolism, Glyoxylate and dicarboxylate metabolism, Nitrogen metabolism, Metabolic pathways, Biosynthesis of secondary metabolites, Microbial metabolism in diverse environments, Biosynthesis of amino acids]</td>\n",
       "    </tr>\n",
       "    <tr>\n",
       "      <th>29</th>\n",
       "      <td>GLUDy</td>\n",
       "      <td>R00248</td>\n",
       "      <td>[Arginine biosynthesis, Alanine, aspartate and glutamate metabolism, Nitrogen metabolism, Metabolic pathways, Microbial metabolism in diverse environments, Carbon metabolism]</td>\n",
       "    </tr>\n",
       "    <tr>\n",
       "      <th>30</th>\n",
       "      <td>GLUN</td>\n",
       "      <td>R00256</td>\n",
       "      <td>[Arginine biosynthesis, Alanine, aspartate and glutamate metabolism, Metabolic pathways, Biosynthesis of secondary metabolites]</td>\n",
       "    </tr>\n",
       "    <tr>\n",
       "      <th>31</th>\n",
       "      <td>GLUSy</td>\n",
       "      <td>R00114</td>\n",
       "      <td>[Alanine, aspartate and glutamate metabolism, Nitrogen metabolism, Metabolic pathways, Biosynthesis of secondary metabolites, Microbial metabolism in diverse environments, Biosynthesis of amino acids]</td>\n",
       "    </tr>\n",
       "    <tr>\n",
       "      <th>32</th>\n",
       "      <td>GND</td>\n",
       "      <td>R01528</td>\n",
       "      <td>[Pentose phosphate pathway, Glutathione metabolism, Metabolic pathways, Biosynthesis of secondary metabolites, Microbial metabolism in diverse environments, Carbon metabolism]</td>\n",
       "    </tr>\n",
       "    <tr>\n",
       "      <th>33</th>\n",
       "      <td>ICDHyr</td>\n",
       "      <td>R00267</td>\n",
       "      <td>[Glutathione metabolism, Other carbon fixation pathways, Metabolic pathways, Microbial metabolism in diverse environments, Carbon metabolism, 2-Oxocarboxylic acid metabolism, Biosynthesis of amino acids]</td>\n",
       "    </tr>\n",
       "    <tr>\n",
       "      <th>34</th>\n",
       "      <td>ICL</td>\n",
       "      <td>R00479</td>\n",
       "      <td>[Glyoxylate and dicarboxylate metabolism, Metabolic pathways, Biosynthesis of secondary metabolites, Microbial metabolism in diverse environments, Carbon metabolism]</td>\n",
       "    </tr>\n",
       "    <tr>\n",
       "      <th>35</th>\n",
       "      <td>LDH_D</td>\n",
       "      <td>R00704</td>\n",
       "      <td>[Pyruvate metabolism, Metabolic pathways, Microbial metabolism in diverse environments]</td>\n",
       "    </tr>\n",
       "    <tr>\n",
       "      <th>36</th>\n",
       "      <td>MALS</td>\n",
       "      <td>R00472</td>\n",
       "      <td>[Pyruvate metabolism, Glyoxylate and dicarboxylate metabolism, Metabolic pathways, Biosynthesis of secondary metabolites, Microbial metabolism in diverse environments, Carbon metabolism]</td>\n",
       "    </tr>\n",
       "    <tr>\n",
       "      <th>37</th>\n",
       "      <td>MDH</td>\n",
       "      <td>R00342</td>\n",
       "      <td>[Citrate cycle (TCA cycle), Pyruvate metabolism, Glyoxylate and dicarboxylate metabolism, Methane metabolism, Carbon fixation by Calvin cycle, Other carbon fixation pathways, Metabolic pathways, Biosynthesis of secondary metabolites, Microbial metabolism in diverse environments, Carbon metabolism]</td>\n",
       "    </tr>\n",
       "    <tr>\n",
       "      <th>38</th>\n",
       "      <td>ME1</td>\n",
       "      <td>R00214</td>\n",
       "      <td>[Pyruvate metabolism, Carbon fixation by Calvin cycle, Metabolic pathways, Microbial metabolism in diverse environments, Carbon metabolism]</td>\n",
       "    </tr>\n",
       "    <tr>\n",
       "      <th>39</th>\n",
       "      <td>ME2</td>\n",
       "      <td>R00216</td>\n",
       "      <td>[Pyruvate metabolism, Carbon fixation by Calvin cycle, Metabolic pathways, Microbial metabolism in diverse environments, Carbon metabolism]</td>\n",
       "    </tr>\n",
       "    <tr>\n",
       "      <th>40</th>\n",
       "      <td>NADTRHD</td>\n",
       "      <td>R00112</td>\n",
       "      <td>[Nicotinate and nicotinamide metabolism, Metabolic pathways]</td>\n",
       "    </tr>\n",
       "    <tr>\n",
       "      <th>41</th>\n",
       "      <td>PDH</td>\n",
       "      <td>R00209</td>\n",
       "      <td>[Metabolic pathways, Biosynthesis of secondary metabolites, Microbial metabolism in diverse environments, Carbon metabolism, 2-Oxocarboxylic acid metabolism]</td>\n",
       "    </tr>\n",
       "  </tbody>\n",
       "</table>\n",
       "</div>"
      ],
      "text/plain": [
       "   model_reaction kegg_reaction  \\\n",
       "0             PFL        R00212   \n",
       "1             PGK        R01512   \n",
       "2             PGL        R02035   \n",
       "3           ACALD        R00228   \n",
       "4             PGM        R01518   \n",
       "5          ALCD2x        R00754   \n",
       "6            ACKr        R00315   \n",
       "7             PPC        R00345   \n",
       "8          ACONTa        R01325   \n",
       "9          ACONTb        R01900   \n",
       "10           ATPM        R00086   \n",
       "11           PPCK        R00341   \n",
       "12            PPS        R00199   \n",
       "13           ADK1        R00127   \n",
       "14          AKGDH        R08549   \n",
       "15           PTAr        R00230   \n",
       "16            PYK        R00200   \n",
       "17            RPE        R01529   \n",
       "18             CS        R00351   \n",
       "19            ENO        R00658   \n",
       "20         SUCOAS        R00405   \n",
       "21           TALA        R01827   \n",
       "22           TKT2        R01830   \n",
       "23            TPI        R01015   \n",
       "24            FBA        R01068   \n",
       "25            FUM        R01082   \n",
       "26        G6PDH2r        R00835   \n",
       "27           GAPD        R01061   \n",
       "28           GLNS        R00253   \n",
       "29          GLUDy        R00248   \n",
       "30           GLUN        R00256   \n",
       "31          GLUSy        R00114   \n",
       "32            GND        R01528   \n",
       "33         ICDHyr        R00267   \n",
       "34            ICL        R00479   \n",
       "35          LDH_D        R00704   \n",
       "36           MALS        R00472   \n",
       "37            MDH        R00342   \n",
       "38            ME1        R00214   \n",
       "39            ME2        R00216   \n",
       "40        NADTRHD        R00112   \n",
       "41            PDH        R00209   \n",
       "\n",
       "                                                                                                                                                                                                                                                                                                      pathways  \n",
       "0                                                                                                                                                                                                [Pyruvate metabolism, Butanoate metabolism, Metabolic pathways, Microbial metabolism in diverse environments]  \n",
       "1                                                                                     [Glycolysis / Gluconeogenesis, Carbon fixation by Calvin cycle, Metabolic pathways, Biosynthesis of secondary metabolites, Microbial metabolism in diverse environments, Carbon metabolism, Biosynthesis of amino acids]  \n",
       "2                                                                                                                                                      [Pentose phosphate pathway, Metabolic pathways, Biosynthesis of secondary metabolites, Microbial metabolism in diverse environments, Carbon metabolism]  \n",
       "3                                                                                           [Phenylalanine metabolism, Benzoate degradation, Pyruvate metabolism, Dioxin degradation, Xylene degradation, Metabolic pathways, Microbial metabolism in diverse environments, Degradation of aromatic compounds]  \n",
       "4                                                        [Glycolysis / Gluconeogenesis, Glycine, serine and threonine metabolism, Methane metabolism, Metabolic pathways, Biosynthesis of secondary metabolites, Microbial metabolism in diverse environments, Carbon metabolism, Biosynthesis of amino acids]  \n",
       "5                                                                                                                                                 [Glycolysis / Gluconeogenesis, Pyruvate metabolism, Metabolic pathways, Biosynthesis of secondary metabolites, Microbial metabolism in diverse environments]  \n",
       "6                                                                                                           [Taurine and hypotaurine metabolism, Pyruvate metabolism, Methane metabolism, Other carbon fixation pathways, Metabolic pathways, Microbial metabolism in diverse environments, Carbon metabolism]  \n",
       "7                                                                                                              [Pyruvate metabolism, Methane metabolism, Carbon fixation by Calvin cycle, Other carbon fixation pathways, Metabolic pathways, Microbial metabolism in diverse environments, Carbon metabolism]  \n",
       "8                                                               [Citrate cycle (TCA cycle), Glyoxylate and dicarboxylate metabolism, Other carbon fixation pathways, Metabolic pathways, Biosynthesis of secondary metabolites, Microbial metabolism in diverse environments, 2-Oxocarboxylic acid metabolism]  \n",
       "9                                                               [Citrate cycle (TCA cycle), Glyoxylate and dicarboxylate metabolism, Other carbon fixation pathways, Metabolic pathways, Biosynthesis of secondary metabolites, Microbial metabolism in diverse environments, 2-Oxocarboxylic acid metabolism]  \n",
       "10                                                                                                                                                                                                       [Purine metabolism, Metabolic pathways, Biosynthesis of secondary metabolites, Nucleotide metabolism]  \n",
       "11                                                                 [Glycolysis / Gluconeogenesis, Citrate cycle (TCA cycle), Pyruvate metabolism, Carbon fixation by Calvin cycle, Metabolic pathways, Biosynthesis of secondary metabolites, Microbial metabolism in diverse environments, Carbon metabolism]  \n",
       "12                                                                         [Glycolysis / Gluconeogenesis, Pyruvate metabolism, Methane metabolism, Other carbon fixation pathways, Metabolic pathways, Biosynthesis of secondary metabolites, Microbial metabolism in diverse environments, Carbon metabolism]  \n",
       "13                                                                                                                                                                            [Purine metabolism, Metabolic pathways, Biosynthesis of secondary metabolites, Nucleotide metabolism, Biosynthesis of cofactors]  \n",
       "14                                                                                                                                               [Metabolic pathways, Biosynthesis of secondary metabolites, Microbial metabolism in diverse environments, Carbon metabolism, 2-Oxocarboxylic acid metabolism]  \n",
       "15                                                                                                          [Taurine and hypotaurine metabolism, Pyruvate metabolism, Methane metabolism, Other carbon fixation pathways, Metabolic pathways, Microbial metabolism in diverse environments, Carbon metabolism]  \n",
       "16                                                                                                [Glycolysis / Gluconeogenesis, Pyruvate metabolism, Metabolic pathways, Biosynthesis of secondary metabolites, Microbial metabolism in diverse environments, Carbon metabolism, Biosynthesis of amino acids]  \n",
       "17                                             [Pentose phosphate pathway, Pentose and glucuronate interconversions, Carbon fixation by Calvin cycle, Metabolic pathways, Biosynthesis of secondary metabolites, Microbial metabolism in diverse environments, Carbon metabolism, Biosynthesis of amino acids]  \n",
       "18                                              [Citrate cycle (TCA cycle), Glyoxylate and dicarboxylate metabolism, Metabolic pathways, Biosynthesis of secondary metabolites, Microbial metabolism in diverse environments, Carbon metabolism, 2-Oxocarboxylic acid metabolism, Biosynthesis of amino acids]  \n",
       "19                                                                                                 [Glycolysis / Gluconeogenesis, Methane metabolism, Metabolic pathways, Biosynthesis of secondary metabolites, Microbial metabolism in diverse environments, Carbon metabolism, Biosynthesis of amino acids]  \n",
       "20                                                                                              [Citrate cycle (TCA cycle), Propanoate metabolism, Other carbon fixation pathways, Metabolic pathways, Biosynthesis of secondary metabolites, Microbial metabolism in diverse environments, Carbon metabolism]  \n",
       "21                                                                                                                                                                                                                                                                                                          []  \n",
       "22                                                                                                                                                                                                                                                                                                          []  \n",
       "23                    [Glycolysis / Gluconeogenesis, Fructose and mannose metabolism, Inositol phosphate metabolism, Carbon fixation by Calvin cycle, Metabolic pathways, Biosynthesis of secondary metabolites, Microbial metabolism in diverse environments, Carbon metabolism, Biosynthesis of amino acids]  \n",
       "24    [Glycolysis / Gluconeogenesis, Pentose phosphate pathway, Fructose and mannose metabolism, Methane metabolism, Carbon fixation by Calvin cycle, Metabolic pathways, Biosynthesis of secondary metabolites, Microbial metabolism in diverse environments, Carbon metabolism, Biosynthesis of amino acids]  \n",
       "25                                                                                                [Citrate cycle (TCA cycle), Pyruvate metabolism, Other carbon fixation pathways, Metabolic pathways, Biosynthesis of secondary metabolites, Microbial metabolism in diverse environments, Carbon metabolism]  \n",
       "26                                                                                                                                                                                                                                                                                                          []  \n",
       "27                                                                                    [Glycolysis / Gluconeogenesis, Carbon fixation by Calvin cycle, Metabolic pathways, Biosynthesis of secondary metabolites, Microbial metabolism in diverse environments, Carbon metabolism, Biosynthesis of amino acids]  \n",
       "28                                    [Arginine biosynthesis, Alanine, aspartate and glutamate metabolism, Glyoxylate and dicarboxylate metabolism, Nitrogen metabolism, Metabolic pathways, Biosynthesis of secondary metabolites, Microbial metabolism in diverse environments, Biosynthesis of amino acids]  \n",
       "29                                                                                                                              [Arginine biosynthesis, Alanine, aspartate and glutamate metabolism, Nitrogen metabolism, Metabolic pathways, Microbial metabolism in diverse environments, Carbon metabolism]  \n",
       "30                                                                                                                                                                             [Arginine biosynthesis, Alanine, aspartate and glutamate metabolism, Metabolic pathways, Biosynthesis of secondary metabolites]  \n",
       "31                                                                                                    [Alanine, aspartate and glutamate metabolism, Nitrogen metabolism, Metabolic pathways, Biosynthesis of secondary metabolites, Microbial metabolism in diverse environments, Biosynthesis of amino acids]  \n",
       "32                                                                                                                             [Pentose phosphate pathway, Glutathione metabolism, Metabolic pathways, Biosynthesis of secondary metabolites, Microbial metabolism in diverse environments, Carbon metabolism]  \n",
       "33                                                                                                 [Glutathione metabolism, Other carbon fixation pathways, Metabolic pathways, Microbial metabolism in diverse environments, Carbon metabolism, 2-Oxocarboxylic acid metabolism, Biosynthesis of amino acids]  \n",
       "34                                                                                                                                       [Glyoxylate and dicarboxylate metabolism, Metabolic pathways, Biosynthesis of secondary metabolites, Microbial metabolism in diverse environments, Carbon metabolism]  \n",
       "35                                                                                                                                                                                                                     [Pyruvate metabolism, Metabolic pathways, Microbial metabolism in diverse environments]  \n",
       "36                                                                                                                  [Pyruvate metabolism, Glyoxylate and dicarboxylate metabolism, Metabolic pathways, Biosynthesis of secondary metabolites, Microbial metabolism in diverse environments, Carbon metabolism]  \n",
       "37  [Citrate cycle (TCA cycle), Pyruvate metabolism, Glyoxylate and dicarboxylate metabolism, Methane metabolism, Carbon fixation by Calvin cycle, Other carbon fixation pathways, Metabolic pathways, Biosynthesis of secondary metabolites, Microbial metabolism in diverse environments, Carbon metabolism]  \n",
       "38                                                                                                                                                                 [Pyruvate metabolism, Carbon fixation by Calvin cycle, Metabolic pathways, Microbial metabolism in diverse environments, Carbon metabolism]  \n",
       "39                                                                                                                                                                 [Pyruvate metabolism, Carbon fixation by Calvin cycle, Metabolic pathways, Microbial metabolism in diverse environments, Carbon metabolism]  \n",
       "40                                                                                                                                                                                                                                                [Nicotinate and nicotinamide metabolism, Metabolic pathways]  \n",
       "41                                                                                                                                               [Metabolic pathways, Biosynthesis of secondary metabolites, Microbial metabolism in diverse environments, Carbon metabolism, 2-Oxocarboxylic acid metabolism]  "
      ]
     },
     "execution_count": 8,
     "metadata": {},
     "output_type": "execute_result"
    }
   ],
   "source": [
    "\n",
    "pd.set_option('display.max_columns', None)      # Show all columns\n",
    "pd.set_option('display.width', 0)               # Don't wrap columns\n",
    "pd.set_option('display.max_colwidth', None)     # Don't truncate column contents\n",
    "\n",
    "df.head(45)"
   ]
  },
  {
   "cell_type": "markdown",
   "id": "a2e1d7cc",
   "metadata": {},
   "source": [
    "### Create a df with percentages of pathways per clusters"
   ]
  },
  {
   "cell_type": "code",
   "execution_count": 9,
   "id": "613d43cd",
   "metadata": {},
   "outputs": [],
   "source": [
    "from collections import Counter, defaultdict\n",
    "\n",
    "\n",
    "# Create a mapping from reaction to pathways\n",
    "reaction_to_pathways = df.set_index(\"model_reaction\")[\"pathways\"].to_dict()\n",
    "\n",
    "# Compute pathway percentages per cluster\n",
    "cluster_pathway_percentages = []\n",
    "\n",
    "for cluster_id, reactions in enumerate(clusters):\n",
    "    pathway_counter = Counter()\n",
    "    total_reactions_with_pathways = 0\n",
    "\n",
    "    for rxn in reactions:\n",
    "        pathways = reaction_to_pathways.get(rxn, [])\n",
    "        if pathways:\n",
    "            total_reactions_with_pathways += 1\n",
    "            pathway_counter.update(pathways)\n",
    "\n",
    "    # Convert to percentage\n",
    "    cluster_result = {\n",
    "        \"Cluster\": cluster_id,\n",
    "        \"Total_Reactions\": len(reactions),\n",
    "        \"Mapped_Reactions\": total_reactions_with_pathways,\n",
    "    }\n",
    "\n",
    "    for pathway, count in pathway_counter.items():\n",
    "        percentage = (count / total_reactions_with_pathways) * 100 if total_reactions_with_pathways > 0 else 0\n",
    "        cluster_result[pathway] = round(percentage, 2)\n",
    "\n",
    "    cluster_pathway_percentages.append(cluster_result)\n",
    "\n",
    "# Convert to DataFrame\n",
    "pathway_df = pd.DataFrame(cluster_pathway_percentages).fillna(0)\n"
   ]
  },
  {
   "cell_type": "code",
   "execution_count": 13,
   "id": "bb4a0072",
   "metadata": {},
   "outputs": [
    {
     "name": "stdout",
     "output_type": "stream",
     "text": [
      "    Cluster  Total_Reactions  Mapped_Reactions  Pyruvate metabolism  \\\n",
      "0         0                4                 3                33.33   \n",
      "1         1               14                 8                12.50   \n",
      "2         2               10                 5                 0.00   \n",
      "3         3                3                 1                 0.00   \n",
      "4         4                3                 3                66.67   \n",
      "5         5                3                 3                33.33   \n",
      "6         6                7                 0                 0.00   \n",
      "7         7                4                 1               100.00   \n",
      "8         8                6                 1               100.00   \n",
      "9         9                5                 0                 0.00   \n",
      "10       10                3                 0                 0.00   \n",
      "11       11                3                 0                 0.00   \n",
      "12       12                3                 1                 0.00   \n",
      "13       13                4                 1                 0.00   \n",
      "14       14                3                 0                 0.00   \n",
      "15       15                4                 2               100.00   \n",
      "16       16                2                 1               100.00   \n",
      "17       17                2                 1               100.00   \n",
      "18       18               35                 8                50.00   \n",
      "\n",
      "    Methane metabolism  Carbon fixation by Calvin cycle  \\\n",
      "0                33.33                            33.33   \n",
      "1                25.00                            37.50   \n",
      "2                20.00                            40.00   \n",
      "3                 0.00                             0.00   \n",
      "4                33.33                            33.33   \n",
      "5                 0.00                             0.00   \n",
      "6                 0.00                             0.00   \n",
      "7               100.00                             0.00   \n",
      "8                 0.00                             0.00   \n",
      "9                 0.00                             0.00   \n",
      "10                0.00                             0.00   \n",
      "11                0.00                             0.00   \n",
      "12                0.00                             0.00   \n",
      "13                0.00                             0.00   \n",
      "14                0.00                             0.00   \n",
      "15                0.00                             0.00   \n",
      "16              100.00                             0.00   \n",
      "17                0.00                             0.00   \n",
      "18               12.50                            37.50   \n",
      "\n",
      "    Other carbon fixation pathways  \\\n",
      "0                            66.67   \n",
      "1                            37.50   \n",
      "2                             0.00   \n",
      "3                             0.00   \n",
      "4                            33.33   \n",
      "5                            33.33   \n",
      "6                             0.00   \n",
      "7                           100.00   \n",
      "8                             0.00   \n",
      "9                             0.00   \n",
      "10                            0.00   \n",
      "11                            0.00   \n",
      "12                            0.00   \n",
      "13                            0.00   \n",
      "14                            0.00   \n",
      "15                            0.00   \n",
      "16                          100.00   \n",
      "17                            0.00   \n",
      "18                           12.50   \n",
      "\n",
      "    Microbial metabolism in diverse environments  Carbon metabolism  \\\n",
      "0                                          100.0              100.0   \n",
      "1                                          100.0               75.0   \n",
      "2                                          100.0              100.0   \n",
      "3                                            0.0                0.0   \n",
      "4                                          100.0              100.0   \n",
      "5                                          100.0              100.0   \n",
      "6                                            0.0                0.0   \n",
      "7                                          100.0              100.0   \n",
      "8                                          100.0                0.0   \n",
      "9                                            0.0                0.0   \n",
      "10                                           0.0                0.0   \n",
      "11                                           0.0                0.0   \n",
      "12                                         100.0              100.0   \n",
      "13                                         100.0                0.0   \n",
      "14                                           0.0                0.0   \n",
      "15                                         100.0                0.0   \n",
      "16                                         100.0              100.0   \n",
      "17                                         100.0                0.0   \n",
      "18                                          62.5               50.0   \n",
      "\n",
      "    Biosynthesis of secondary metabolites  2-Oxocarboxylic acid metabolism  \\\n",
      "0                                   33.33                            66.67   \n",
      "1                                  100.00                            37.50   \n",
      "2                                  100.00                             0.00   \n",
      "3                                    0.00                             0.00   \n",
      "4                                  100.00                            33.33   \n",
      "5                                  100.00                             0.00   \n",
      "6                                    0.00                             0.00   \n",
      "7                                    0.00                             0.00   \n",
      "8                                    0.00                             0.00   \n",
      "9                                    0.00                             0.00   \n",
      "10                                   0.00                             0.00   \n",
      "11                                   0.00                             0.00   \n",
      "12                                   0.00                             0.00   \n",
      "13                                 100.00                             0.00   \n",
      "14                                   0.00                             0.00   \n",
      "15                                  50.00                             0.00   \n",
      "16                                   0.00                             0.00   \n",
      "17                                   0.00                             0.00   \n",
      "18                                  75.00                             0.00   \n",
      "\n",
      "    Glutathione metabolism  Biosynthesis of amino acids  \\\n",
      "0                    33.33                        33.33   \n",
      "1                     0.00                        62.50   \n",
      "2                    20.00                        60.00   \n",
      "3                     0.00                         0.00   \n",
      "4                     0.00                        33.33   \n",
      "5                     0.00                         0.00   \n",
      "6                     0.00                         0.00   \n",
      "7                     0.00                         0.00   \n",
      "8                     0.00                         0.00   \n",
      "9                     0.00                         0.00   \n",
      "10                    0.00                         0.00   \n",
      "11                    0.00                         0.00   \n",
      "12                    0.00                         0.00   \n",
      "13                    0.00                       100.00   \n",
      "14                    0.00                         0.00   \n",
      "15                    0.00                         0.00   \n",
      "16                    0.00                         0.00   \n",
      "17                    0.00                         0.00   \n",
      "18                    0.00                        12.50   \n",
      "\n",
      "    Citrate cycle (TCA cycle)  Glyoxylate and dicarboxylate metabolism  \\\n",
      "0                        0.00                                     0.00   \n",
      "1                       50.00                                    37.50   \n",
      "2                        0.00                                     0.00   \n",
      "3                        0.00                                     0.00   \n",
      "4                       33.33                                    33.33   \n",
      "5                       33.33                                    66.67   \n",
      "6                        0.00                                     0.00   \n",
      "7                        0.00                                     0.00   \n",
      "8                        0.00                                     0.00   \n",
      "9                        0.00                                     0.00   \n",
      "10                       0.00                                     0.00   \n",
      "11                       0.00                                     0.00   \n",
      "12                       0.00                                     0.00   \n",
      "13                       0.00                                   100.00   \n",
      "14                       0.00                                     0.00   \n",
      "15                       0.00                                     0.00   \n",
      "16                       0.00                                     0.00   \n",
      "17                       0.00                                     0.00   \n",
      "18                      12.50                                     0.00   \n",
      "\n",
      "    Glycolysis / Gluconeogenesis  Fructose and mannose metabolism  \\\n",
      "0                           0.00                              0.0   \n",
      "1                          50.00                             25.0   \n",
      "2                          40.00                              0.0   \n",
      "3                           0.00                              0.0   \n",
      "4                          33.33                              0.0   \n",
      "5                           0.00                              0.0   \n",
      "6                           0.00                              0.0   \n",
      "7                           0.00                              0.0   \n",
      "8                           0.00                              0.0   \n",
      "9                           0.00                              0.0   \n",
      "10                          0.00                              0.0   \n",
      "11                          0.00                              0.0   \n",
      "12                          0.00                              0.0   \n",
      "13                          0.00                              0.0   \n",
      "14                          0.00                              0.0   \n",
      "15                         50.00                              0.0   \n",
      "16                          0.00                              0.0   \n",
      "17                          0.00                              0.0   \n",
      "18                         25.00                              0.0   \n",
      "\n",
      "    Inositol phosphate metabolism  Pentose phosphate pathway  \\\n",
      "0                             0.0                        0.0   \n",
      "1                            12.5                       12.5   \n",
      "2                             0.0                       60.0   \n",
      "3                             0.0                        0.0   \n",
      "4                             0.0                        0.0   \n",
      "5                             0.0                        0.0   \n",
      "6                             0.0                        0.0   \n",
      "7                             0.0                        0.0   \n",
      "8                             0.0                        0.0   \n",
      "9                             0.0                        0.0   \n",
      "10                            0.0                        0.0   \n",
      "11                            0.0                        0.0   \n",
      "12                            0.0                        0.0   \n",
      "13                            0.0                        0.0   \n",
      "14                            0.0                        0.0   \n",
      "15                            0.0                        0.0   \n",
      "16                            0.0                        0.0   \n",
      "17                            0.0                        0.0   \n",
      "18                            0.0                        0.0   \n",
      "\n",
      "    Glycine, serine and threonine metabolism  \\\n",
      "0                                        0.0   \n",
      "1                                        0.0   \n",
      "2                                       20.0   \n",
      "3                                        0.0   \n",
      "4                                        0.0   \n",
      "5                                        0.0   \n",
      "6                                        0.0   \n",
      "7                                        0.0   \n",
      "8                                        0.0   \n",
      "9                                        0.0   \n",
      "10                                       0.0   \n",
      "11                                       0.0   \n",
      "12                                       0.0   \n",
      "13                                       0.0   \n",
      "14                                       0.0   \n",
      "15                                       0.0   \n",
      "16                                       0.0   \n",
      "17                                       0.0   \n",
      "18                                       0.0   \n",
      "\n",
      "    Pentose and glucuronate interconversions  \\\n",
      "0                                        0.0   \n",
      "1                                        0.0   \n",
      "2                                       20.0   \n",
      "3                                        0.0   \n",
      "4                                        0.0   \n",
      "5                                        0.0   \n",
      "6                                        0.0   \n",
      "7                                        0.0   \n",
      "8                                        0.0   \n",
      "9                                        0.0   \n",
      "10                                       0.0   \n",
      "11                                       0.0   \n",
      "12                                       0.0   \n",
      "13                                       0.0   \n",
      "14                                       0.0   \n",
      "15                                       0.0   \n",
      "16                                       0.0   \n",
      "17                                       0.0   \n",
      "18                                       0.0   \n",
      "\n",
      "    Nicotinate and nicotinamide metabolism  Propanoate metabolism  \\\n",
      "0                                      0.0                   0.00   \n",
      "1                                      0.0                   0.00   \n",
      "2                                      0.0                   0.00   \n",
      "3                                    100.0                   0.00   \n",
      "4                                      0.0                   0.00   \n",
      "5                                      0.0                  33.33   \n",
      "6                                      0.0                   0.00   \n",
      "7                                      0.0                   0.00   \n",
      "8                                      0.0                   0.00   \n",
      "9                                      0.0                   0.00   \n",
      "10                                     0.0                   0.00   \n",
      "11                                     0.0                   0.00   \n",
      "12                                     0.0                   0.00   \n",
      "13                                     0.0                   0.00   \n",
      "14                                     0.0                   0.00   \n",
      "15                                     0.0                   0.00   \n",
      "16                                     0.0                   0.00   \n",
      "17                                     0.0                   0.00   \n",
      "18                                     0.0                   0.00   \n",
      "\n",
      "    Taurine and hypotaurine metabolism  Butanoate metabolism  \\\n",
      "0                                  0.0                   0.0   \n",
      "1                                  0.0                   0.0   \n",
      "2                                  0.0                   0.0   \n",
      "3                                  0.0                   0.0   \n",
      "4                                  0.0                   0.0   \n",
      "5                                  0.0                   0.0   \n",
      "6                                  0.0                   0.0   \n",
      "7                                100.0                   0.0   \n",
      "8                                  0.0                 100.0   \n",
      "9                                  0.0                   0.0   \n",
      "10                                 0.0                   0.0   \n",
      "11                                 0.0                   0.0   \n",
      "12                                 0.0                   0.0   \n",
      "13                                 0.0                   0.0   \n",
      "14                                 0.0                   0.0   \n",
      "15                                 0.0                   0.0   \n",
      "16                               100.0                   0.0   \n",
      "17                                 0.0                   0.0   \n",
      "18                                 0.0                   0.0   \n",
      "\n",
      "    Arginine biosynthesis  Alanine, aspartate and glutamate metabolism  \\\n",
      "0                     0.0                                          0.0   \n",
      "1                     0.0                                          0.0   \n",
      "2                     0.0                                          0.0   \n",
      "3                     0.0                                          0.0   \n",
      "4                     0.0                                          0.0   \n",
      "5                     0.0                                          0.0   \n",
      "6                     0.0                                          0.0   \n",
      "7                     0.0                                          0.0   \n",
      "8                     0.0                                          0.0   \n",
      "9                     0.0                                          0.0   \n",
      "10                    0.0                                          0.0   \n",
      "11                    0.0                                          0.0   \n",
      "12                  100.0                                        100.0   \n",
      "13                  100.0                                        100.0   \n",
      "14                    0.0                                          0.0   \n",
      "15                    0.0                                          0.0   \n",
      "16                    0.0                                          0.0   \n",
      "17                    0.0                                          0.0   \n",
      "18                   12.5                                         25.0   \n",
      "\n",
      "    Nitrogen metabolism  Phenylalanine metabolism  Benzoate degradation  \\\n",
      "0                   0.0                       0.0                   0.0   \n",
      "1                   0.0                       0.0                   0.0   \n",
      "2                   0.0                       0.0                   0.0   \n",
      "3                   0.0                       0.0                   0.0   \n",
      "4                   0.0                       0.0                   0.0   \n",
      "5                   0.0                       0.0                   0.0   \n",
      "6                   0.0                       0.0                   0.0   \n",
      "7                   0.0                       0.0                   0.0   \n",
      "8                   0.0                       0.0                   0.0   \n",
      "9                   0.0                       0.0                   0.0   \n",
      "10                  0.0                       0.0                   0.0   \n",
      "11                  0.0                       0.0                   0.0   \n",
      "12                100.0                       0.0                   0.0   \n",
      "13                100.0                       0.0                   0.0   \n",
      "14                  0.0                       0.0                   0.0   \n",
      "15                  0.0                      50.0                  50.0   \n",
      "16                  0.0                       0.0                   0.0   \n",
      "17                  0.0                       0.0                   0.0   \n",
      "18                 12.5                       0.0                   0.0   \n",
      "\n",
      "    Dioxin degradation  Xylene degradation  Degradation of aromatic compounds  \\\n",
      "0                  0.0                 0.0                                0.0   \n",
      "1                  0.0                 0.0                                0.0   \n",
      "2                  0.0                 0.0                                0.0   \n",
      "3                  0.0                 0.0                                0.0   \n",
      "4                  0.0                 0.0                                0.0   \n",
      "5                  0.0                 0.0                                0.0   \n",
      "6                  0.0                 0.0                                0.0   \n",
      "7                  0.0                 0.0                                0.0   \n",
      "8                  0.0                 0.0                                0.0   \n",
      "9                  0.0                 0.0                                0.0   \n",
      "10                 0.0                 0.0                                0.0   \n",
      "11                 0.0                 0.0                                0.0   \n",
      "12                 0.0                 0.0                                0.0   \n",
      "13                 0.0                 0.0                                0.0   \n",
      "14                 0.0                 0.0                                0.0   \n",
      "15                50.0                50.0                               50.0   \n",
      "16                 0.0                 0.0                                0.0   \n",
      "17                 0.0                 0.0                                0.0   \n",
      "18                 0.0                 0.0                                0.0   \n",
      "\n",
      "    Purine metabolism  Nucleotide metabolism  Biosynthesis of cofactors  \n",
      "0                 0.0                    0.0                        0.0  \n",
      "1                 0.0                    0.0                        0.0  \n",
      "2                 0.0                    0.0                        0.0  \n",
      "3                 0.0                    0.0                        0.0  \n",
      "4                 0.0                    0.0                        0.0  \n",
      "5                 0.0                    0.0                        0.0  \n",
      "6                 0.0                    0.0                        0.0  \n",
      "7                 0.0                    0.0                        0.0  \n",
      "8                 0.0                    0.0                        0.0  \n",
      "9                 0.0                    0.0                        0.0  \n",
      "10                0.0                    0.0                        0.0  \n",
      "11                0.0                    0.0                        0.0  \n",
      "12                0.0                    0.0                        0.0  \n",
      "13                0.0                    0.0                        0.0  \n",
      "14                0.0                    0.0                        0.0  \n",
      "15                0.0                    0.0                        0.0  \n",
      "16                0.0                    0.0                        0.0  \n",
      "17                0.0                    0.0                        0.0  \n",
      "18               25.0                   25.0                       12.5  \n"
     ]
    }
   ],
   "source": [
    "\n",
    "\n",
    "pathway_df = pathway_df.drop('Metabolic pathways', axis=1)\n",
    "print(pathway_df)\n",
    "\n"
   ]
  },
  {
   "cell_type": "markdown",
   "id": "ce12026a",
   "metadata": {},
   "source": [
    "### Identify most abundant (representative?) pathway per cluster"
   ]
  },
  {
   "cell_type": "code",
   "execution_count": 18,
   "id": "fd67621e",
   "metadata": {},
   "outputs": [
    {
     "name": "stdout",
     "output_type": "stream",
     "text": [
      "[{'Pyruvate metabolism': 5.263157894736842, 'Methane metabolism': 5.263157894736842, 'Carbon fixation by Calvin cycle': 5.263157894736842, 'Other carbon fixation pathways': 10.526315789473683, 'Metabolic pathways': 15.789473684210526, 'Microbial metabolism in diverse environments': 15.789473684210526, 'Carbon metabolism': 15.789473684210526, 'Biosynthesis of secondary metabolites': 5.263157894736842, '2-Oxocarboxylic acid metabolism': 10.526315789473683, 'Glutathione metabolism': 5.263157894736842, 'Biosynthesis of amino acids': 5.263157894736842}, {'Citrate cycle (TCA cycle)': 6.451612903225806, 'Glyoxylate and dicarboxylate metabolism': 4.838709677419355, 'Other carbon fixation pathways': 4.838709677419355, 'Metabolic pathways': 12.903225806451612, 'Biosynthesis of secondary metabolites': 12.903225806451612, 'Microbial metabolism in diverse environments': 12.903225806451612, '2-Oxocarboxylic acid metabolism': 4.838709677419355, 'Carbon metabolism': 9.67741935483871, 'Biosynthesis of amino acids': 8.064516129032258, 'Glycolysis / Gluconeogenesis': 6.451612903225806, 'Methane metabolism': 3.225806451612903, 'Fructose and mannose metabolism': 3.225806451612903, 'Inositol phosphate metabolism': 1.6129032258064515, 'Carbon fixation by Calvin cycle': 4.838709677419355, 'Pentose phosphate pathway': 1.6129032258064515, 'Pyruvate metabolism': 1.6129032258064515}, {'Glycolysis / Gluconeogenesis': 5.88235294117647, 'Carbon fixation by Calvin cycle': 5.88235294117647, 'Metabolic pathways': 14.705882352941178, 'Biosynthesis of secondary metabolites': 14.705882352941178, 'Microbial metabolism in diverse environments': 14.705882352941178, 'Carbon metabolism': 14.705882352941178, 'Biosynthesis of amino acids': 8.823529411764707, 'Pentose phosphate pathway': 8.823529411764707, 'Glycine, serine and threonine metabolism': 2.941176470588235, 'Methane metabolism': 2.941176470588235, 'Pentose and glucuronate interconversions': 2.941176470588235, 'Glutathione metabolism': 2.941176470588235}, {'Nicotinate and nicotinamide metabolism': 50.0, 'Metabolic pathways': 50.0}, {'Glycolysis / Gluconeogenesis': 4.545454545454546, 'Pyruvate metabolism': 9.090909090909092, 'Metabolic pathways': 13.636363636363635, 'Biosynthesis of secondary metabolites': 13.636363636363635, 'Microbial metabolism in diverse environments': 13.636363636363635, 'Carbon metabolism': 13.636363636363635, 'Biosynthesis of amino acids': 4.545454545454546, 'Citrate cycle (TCA cycle)': 4.545454545454546, 'Glyoxylate and dicarboxylate metabolism': 4.545454545454546, 'Methane metabolism': 4.545454545454546, 'Carbon fixation by Calvin cycle': 4.545454545454546, 'Other carbon fixation pathways': 4.545454545454546, '2-Oxocarboxylic acid metabolism': 4.545454545454546}, {'Citrate cycle (TCA cycle)': 5.555555555555555, 'Propanoate metabolism': 5.555555555555555, 'Other carbon fixation pathways': 5.555555555555555, 'Metabolic pathways': 16.666666666666664, 'Biosynthesis of secondary metabolites': 16.666666666666664, 'Microbial metabolism in diverse environments': 16.666666666666664, 'Carbon metabolism': 16.666666666666664, 'Glyoxylate and dicarboxylate metabolism': 11.11111111111111, 'Pyruvate metabolism': 5.555555555555555}, {}, {'Taurine and hypotaurine metabolism': 14.285714285714285, 'Pyruvate metabolism': 14.285714285714285, 'Methane metabolism': 14.285714285714285, 'Other carbon fixation pathways': 14.285714285714285, 'Metabolic pathways': 14.285714285714285, 'Microbial metabolism in diverse environments': 14.285714285714285, 'Carbon metabolism': 14.285714285714285}, {'Pyruvate metabolism': 25.0, 'Butanoate metabolism': 25.0, 'Metabolic pathways': 25.0, 'Microbial metabolism in diverse environments': 25.0}, {}, {}, {}, {'Arginine biosynthesis': 16.666666666666664, 'Alanine, aspartate and glutamate metabolism': 16.666666666666664, 'Nitrogen metabolism': 16.666666666666664, 'Metabolic pathways': 16.666666666666664, 'Microbial metabolism in diverse environments': 16.666666666666664, 'Carbon metabolism': 16.666666666666664}, {'Arginine biosynthesis': 12.5, 'Alanine, aspartate and glutamate metabolism': 12.5, 'Glyoxylate and dicarboxylate metabolism': 12.5, 'Nitrogen metabolism': 12.5, 'Metabolic pathways': 12.5, 'Biosynthesis of secondary metabolites': 12.5, 'Microbial metabolism in diverse environments': 12.5, 'Biosynthesis of amino acids': 12.5}, {}, {'Phenylalanine metabolism': 7.6923076923076925, 'Benzoate degradation': 7.6923076923076925, 'Pyruvate metabolism': 15.384615384615385, 'Dioxin degradation': 7.6923076923076925, 'Xylene degradation': 7.6923076923076925, 'Metabolic pathways': 15.384615384615385, 'Microbial metabolism in diverse environments': 15.384615384615385, 'Degradation of aromatic compounds': 7.6923076923076925, 'Glycolysis / Gluconeogenesis': 7.6923076923076925, 'Biosynthesis of secondary metabolites': 7.6923076923076925}, {'Taurine and hypotaurine metabolism': 14.285714285714285, 'Pyruvate metabolism': 14.285714285714285, 'Methane metabolism': 14.285714285714285, 'Other carbon fixation pathways': 14.285714285714285, 'Metabolic pathways': 14.285714285714285, 'Microbial metabolism in diverse environments': 14.285714285714285, 'Carbon metabolism': 14.285714285714285}, {'Pyruvate metabolism': 33.33333333333333, 'Metabolic pathways': 33.33333333333333, 'Microbial metabolism in diverse environments': 33.33333333333333}, {'Purine metabolism': 4.444444444444445, 'Metabolic pathways': 17.77777777777778, 'Biosynthesis of secondary metabolites': 13.333333333333334, 'Nucleotide metabolism': 4.444444444444445, 'Glycolysis / Gluconeogenesis': 4.444444444444445, 'Citrate cycle (TCA cycle)': 2.2222222222222223, 'Pyruvate metabolism': 8.88888888888889, 'Carbon fixation by Calvin cycle': 6.666666666666667, 'Microbial metabolism in diverse environments': 11.11111111111111, 'Carbon metabolism': 8.88888888888889, 'Methane metabolism': 2.2222222222222223, 'Other carbon fixation pathways': 2.2222222222222223, 'Biosynthesis of cofactors': 2.2222222222222223, 'Arginine biosynthesis': 2.2222222222222223, 'Alanine, aspartate and glutamate metabolism': 4.444444444444445, 'Nitrogen metabolism': 2.2222222222222223, 'Biosynthesis of amino acids': 2.2222222222222223}]\n"
     ]
    },
    {
     "data": {
      "image/png": "[encoded data removed]",
      "text/plain": [
       "<Figure size 1200x600 with 1 Axes>"
      ]
     },
     "metadata": {},
     "output_type": "display_data"
    }
   ],
   "source": [
    "\n",
    "from collections import Counter, defaultdict\n",
    "\n",
    "# Build mapping from reaction to its pathways\n",
    "reaction_pathway_map = dict(zip(df['model_reaction'], df['pathways']))\n",
    "\n",
    "# For each cluster, count how many reactions belong to each pathway\n",
    "cluster_pathway_counts = []\n",
    "for cluster in clusters:\n",
    "    counter = Counter()\n",
    "    for rxn in cluster:\n",
    "        for pathway in reaction_pathway_map.get(rxn, []):\n",
    "            counter[pathway] += 1\n",
    "    total = sum(counter.values())\n",
    "    percentages = {k: (v / total * 100) for k, v in counter.items()} if total > 0 else {}\n",
    "    cluster_pathway_counts.append(percentages)\n",
    "    \n",
    "\n",
    "print(cluster_pathway_counts)\n",
    "cluster_pathway_counts = [{k: v for k, v in d.items() if k != \"Metabolic pathways\"} for d in cluster_pathway_counts]\n",
    "\n",
    "\n",
    "top_pathways = []\n",
    "for i, pct_dict in enumerate(cluster_pathway_counts):\n",
    "    if pct_dict:\n",
    "        top_pathway = max(pct_dict.items(), key=lambda x: x[1])\n",
    "        top_pathways.append({'Cluster': i, 'Pathway': top_pathway[0], 'Percentage': top_pathway[1]})\n",
    "    else:\n",
    "        top_pathways.append({'Cluster': i, 'Pathway': 'None', 'Percentage': 0})\n",
    "        \n",
    "summary_df = pd.DataFrame(top_pathways)\n",
    "\n",
    "\n",
    "\n",
    "# Plot\n",
    "import matplotlib.pyplot as plt\n",
    "\n",
    "plt.figure(figsize=(12, 6))\n",
    "bars = plt.bar(summary_df['Cluster'], summary_df['Percentage'], color='skyblue')\n",
    "plt.xlabel('Cluster')\n",
    "plt.ylabel('Percentage of top pathway')\n",
    "plt.title('Top pathway per cluster')\n",
    "\n",
    "# Add pathway labels above bars\n",
    "for i, bar in enumerate(bars):\n",
    "    height = bar.get_height()\n",
    "    plt.text(bar.get_x() + bar.get_width()/2, height + 1,\n",
    "             summary_df['Pathway'].iloc[i],\n",
    "             ha='center', va='bottom', rotation=90, fontsize=8)\n",
    "\n",
    "plt.xticks(summary_df['Cluster'])\n",
    "plt.ylim(0, 110)\n",
    "plt.tight_layout()\n",
    "plt.show()\n"
   ]
  }
 ],
 "metadata": {
  "kernelspec": {
   "display_name": "Python 3",
   "language": "python",
   "name": "python3"
  },
  "language_info": {
   "codemirror_mode": {
    "name": "ipython",
    "version": 3
   },
   "file_extension": ".py",
   "mimetype": "text/x-python",
   "name": "python",
   "nbconvert_exporter": "python",
   "pygments_lexer": "ipython3",
   "version": "3.10.12"
  }
 },
 "nbformat": 4,
 "nbformat_minor": 5
}
