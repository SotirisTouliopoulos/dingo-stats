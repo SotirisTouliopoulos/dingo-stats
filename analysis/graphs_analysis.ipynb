{
 "cells": [
  {
   "cell_type": "code",
   "execution_count": null,
   "id": "94ef985e",
   "metadata": {},
   "outputs": [],
   "source": [
    "\n",
    "import sys\n",
    "sys.path.insert(0, '../src/')\n",
    "\n",
    "from loopless_utils import loops_enumeration_from_fva\n",
    "\n",
    "from load_modify_sample_utils import load_model, get_objective_functions, get_reaction_bounds, modify_model\n",
    "from load_modify_sample_utils import sample_optgp\n",
    "\n",
    "from correlations_utils import correlated_reactions, split_forward_reverse\n",
    "from correlations_utils import find_reactants_products\n",
    "\n",
    "from graphs_utils import construct_graph, plot_graph, compute_nodes_centrality_metrics\n",
    "from graphs_utils import compare_network_modularities, compare_node_centralities, compare_essential_to_network_central_reactions\n",
    "\n",
    "from pathways_utils import dictionary_reaction_id_to_kegg_id, get_kegg_pathways_from_reaction_ids\n",
    "from pathways_utils import map_model_to_kegg_reactions_dictionary, read_json_file, fill_missing_kegg_ids_in_initial_dictionary\n",
    "from pathways_utils import subset_model_reactions_from_pathway_info, subset_sampling_array_from_reaction_ids, sort_reactions_by_model_order\n",
    "from pathways_utils import dictionary_reaction_id_to_pathway, dictionary_map_reverse_reaction_id_to_pathway\n"
   ]
  },
  {
   "cell_type": "code",
   "execution_count": null,
   "metadata": {},
   "outputs": [],
   "source": [
    "\n",
    "ec_cobra_model, ec_cobra_reactions, ec_cobra_reaction_ids,  = load_model(\"../ext_data/models/e_coli_core.xml\")\n",
    "\n",
    "objective_functions = get_objective_functions(ec_cobra_model)\n",
    "print(objective_functions)\n",
    "\n",
    "default_reaction_bounds = get_reaction_bounds(ec_cobra_model)\n",
    "print(default_reaction_bounds)\n"
   ]
  },
  {
   "cell_type": "code",
   "execution_count": null,
   "metadata": {},
   "outputs": [],
   "source": [
    "\n",
    "# Set optimal percentage to 100\n",
    "ec_cobra_model_condition_100 = modify_model(\n",
    "    cobra_model         = ec_cobra_model,\n",
    "    objective_function  = \"BIOMASS_Ecoli_core_w_GAM\",\n",
    "    optimal_percentage  = 100,\n",
    "    objective_direction = \"max\"\n",
    ")\n",
    "\n",
    "updated_objective_functions = get_objective_functions(ec_cobra_model_condition_100)\n",
    "print(updated_objective_functions)\n",
    "\n",
    "updated_reaction_bounds = get_reaction_bounds(ec_cobra_model_condition_100)\n",
    "print(updated_reaction_bounds.get(\"BIOMASS_Ecoli_core_w_GAM\"))\n",
    "\n",
    "# -----------\n",
    "\n",
    "# Set optimal percentage to 0\n",
    "ec_cobra_model_condition_0 = modify_model(\n",
    "    cobra_model         = ec_cobra_model,\n",
    "    objective_function  = \"BIOMASS_Ecoli_core_w_GAM\",\n",
    "    optimal_percentage  = 0,\n",
    "    objective_direction = \"max\"\n",
    ")\n",
    "\n",
    "updated_objective_functions = get_objective_functions(ec_cobra_model_condition_0)\n",
    "print(updated_objective_functions)\n",
    "\n",
    "updated_reaction_bounds = get_reaction_bounds(ec_cobra_model_condition_0)\n",
    "print(updated_reaction_bounds.get(\"BIOMASS_Ecoli_core_w_GAM\"))"
   ]
  },
  {
   "cell_type": "code",
   "execution_count": null,
   "id": "6f9f9ffa",
   "metadata": {},
   "outputs": [],
   "source": [
    "\n",
    "loopy_reactions_fva_100 = loops_enumeration_from_fva(ec_cobra_model_condition_100, fraction_of_optimum=0.999)\n",
    "print(loopy_reactions_fva_100)\n",
    "\n",
    "loopy_reactions_100 = [item[0] for item in loopy_reactions_fva_100]\n",
    "print(loopy_reactions_100)\n",
    "\n",
    "\n",
    "loopy_reactions_fva_0 = loops_enumeration_from_fva(ec_cobra_model_condition_0, fraction_of_optimum=0)\n",
    "print(loopy_reactions_fva_0)\n",
    "\n",
    "loopy_reactions_0 = [item[0] for item in loopy_reactions_fva_0]\n",
    "print(loopy_reactions_0)\n"
   ]
  },
  {
   "cell_type": "code",
   "execution_count": null,
   "id": "e4aaa67e",
   "metadata": {},
   "outputs": [],
   "source": [
    "\n",
    "ec_cobra_model_condition_100.reactions.get_by_id(\"FRD7\").bounds = (0, 0)\n",
    "ec_cobra_model_condition_0.reactions.get_by_id(\"FRD7\").bounds = (0, 0)"
   ]
  },
  {
   "cell_type": "code",
   "execution_count": null,
   "id": "4191c3fe",
   "metadata": {},
   "outputs": [],
   "source": [
    "\n",
    "samples_optgp_condition_100 = sample_optgp(ec_cobra_model_condition_100, \n",
    "                                           n_samples = 3000, \n",
    "                                           thinning=100, \n",
    "                                           reaction_in_rows = True)\n",
    "\n",
    "samples_optgp_condition_0 = sample_optgp(ec_cobra_model_condition_0, \n",
    "                                         n_samples = 3000, \n",
    "                                         thinning=100, \n",
    "                                         reaction_in_rows = True)"
   ]
  },
  {
   "cell_type": "code",
   "execution_count": null,
   "id": "20494bbe",
   "metadata": {},
   "outputs": [],
   "source": [
    "\n",
    "initial_bigg_to_kegg_dictionary = map_model_to_kegg_reactions_dictionary(ec_cobra_model)\n",
    "\n",
    "reactions_json, reactions_pandas = read_json_file(\"../ext_data/reactions/reactions.json\")\n",
    "\n",
    "bigg_to_kegg, seed_to_kegg = dictionary_reaction_id_to_kegg_id(reactions_pandas)\n",
    "\n",
    "final_bigg_to_kegg_dictionary = fill_missing_kegg_ids_in_initial_dictionary(initial_bigg_to_kegg_dictionary, \n",
    "                                                                            modeltype=\"BiGG\", \n",
    "                                                                            bigg_to_kegg=bigg_to_kegg,\n",
    "                                                                            seed_to_kegg=seed_to_kegg)\n",
    "\n",
    "df_kegg_pathways = get_kegg_pathways_from_reaction_ids(final_bigg_to_kegg_dictionary)\n"
   ]
  },
  {
   "cell_type": "code",
   "execution_count": null,
   "metadata": {},
   "outputs": [],
   "source": [
    "\n",
    "extended_steady_states_100_full, extended_reactions_100 = split_forward_reverse(samples_optgp_condition_100, reactions=ec_cobra_reaction_ids)\n",
    "\n",
    "reversibility_list_all_reactions_full, reactants_list_all_reactions_full, products_list_all_reactions_full = find_reactants_products(ec_cobra_model, extended_reactions_100)\n",
    "print(len(reversibility_list_all_reactions_full), len(reactants_list_all_reactions_full))\n",
    "\n",
    "\n",
    "extended_steady_states_0_full, extended_reactions_0 = split_forward_reverse(samples_optgp_condition_0, reactions=ec_cobra_reaction_ids)\n",
    "\n",
    "reversibility_list_all_reactions_full, reactants_list_all_reactions_full, products_list_all_reactions_full = find_reactants_products(ec_cobra_model, extended_reactions_0)\n",
    "print(len(reversibility_list_all_reactions_full), len(reactants_list_all_reactions_full))\n"
   ]
  },
  {
   "cell_type": "code",
   "execution_count": null,
   "metadata": {},
   "outputs": [],
   "source": [
    "\n",
    "(linear_correlation_matrix_100_full, \n",
    "non_linear_correlation_matrix_100_full, \n",
    "mixed_correlation_matrix_100_full, \n",
    "correlations_dictionary_100_full) = correlated_reactions(\n",
    "        steady_states = extended_steady_states_100_full,\n",
    "        boolean_sharing_metabolites_matrix=None,\n",
    "        reactions=extended_reactions_100,\n",
    "        linear_coeff = \"pearson\", \n",
    "        linear_corr_cutoff = 0.3, \n",
    "        indicator_cutoff = 1.2,\n",
    "        jensenshannon_cutoff = 0.05,\n",
    "        std_cutoff= 1e-2,\n",
    "        include_non_linear = True, \n",
    "        cells = 5, \n",
    "        cop_coeff = 0.2, \n",
    "        lower_triangle = False, \n",
    "        verbose = True)\n",
    "\n",
    "\n",
    "\n",
    "(linear_correlation_matrix_0_full, \n",
    "non_linear_correlation_matrix_0_full, \n",
    "mixed_correlation_matrix_0_full, \n",
    "correlations_dictionary_0_full) = correlated_reactions(\n",
    "        steady_states = extended_steady_states_0_full,\n",
    "        boolean_sharing_metabolites_matrix=None,\n",
    "        reactions=extended_reactions_0,\n",
    "        linear_coeff = \"pearson\", \n",
    "        linear_corr_cutoff = 0.3, \n",
    "        indicator_cutoff = 1.2,\n",
    "        jensenshannon_cutoff = 0.05,\n",
    "        std_cutoff= 1e-2,\n",
    "        include_non_linear = True, \n",
    "        cells = 5, \n",
    "        cop_coeff = 0.2, \n",
    "        lower_triangle = False, \n",
    "        verbose = True)"
   ]
  },
  {
   "cell_type": "code",
   "execution_count": null,
   "metadata": {},
   "outputs": [],
   "source": [
    "\n",
    "Glycolysis = subset_model_reactions_from_pathway_info(df_kegg_pathways, \"Glycolysis / Gluconeogenesis\")\n",
    "PPP = subset_model_reactions_from_pathway_info(df_kegg_pathways, \"Pentose phosphate pathway\")\n",
    "\n",
    "bigg_to_pathway_dict = dictionary_reaction_id_to_pathway(Glycolysis = Glycolysis, PPP = PPP)\n",
    "\n",
    "group_map_100_full = dictionary_map_reverse_reaction_id_to_pathway(bigg_to_pathway_dict, extended_reactions_100)\n",
    "group_map_0_full = dictionary_map_reverse_reaction_id_to_pathway(bigg_to_pathway_dict, extended_reactions_0)\n"
   ]
  },
  {
   "cell_type": "code",
   "execution_count": null,
   "id": "b5d78bbc",
   "metadata": {},
   "outputs": [],
   "source": [
    "\n",
    "G100_full, pos100_full = construct_graph(linear_correlation_matrix_100_full,\n",
    "                         non_linear_correlation_matrix_100_full,\n",
    "                         reactions=extended_reactions_100,\n",
    "                         remove_unconnected_nodes=False,\n",
    "                         correction=False,\n",
    "                         group_map=group_map_100_full)\n",
    "\n",
    "\n",
    "G0_full, pos0_full = construct_graph(linear_correlation_matrix_0_full,\n",
    "                         non_linear_correlation_matrix_0_full,\n",
    "                         reactions=extended_reactions_0,\n",
    "                         remove_unconnected_nodes=False,\n",
    "                         correction=False,\n",
    "                         group_map=group_map_0_full)\n"
   ]
  },
  {
   "cell_type": "code",
   "execution_count": null,
   "metadata": {},
   "outputs": [],
   "source": [
    "\n",
    "centrality_dict_100 = compute_nodes_centrality_metrics(G100_full)\n",
    "\n",
    "centrality_dict_0 = compute_nodes_centrality_metrics(G0_full)"
   ]
  },
  {
   "cell_type": "markdown",
   "id": "b22f18cd",
   "metadata": {},
   "source": [
    "### Find how many of the reactions with a high network centrality metric belong to the essential reactions"
   ]
  },
  {
   "cell_type": "code",
   "execution_count": null,
   "id": "0e26c7f2",
   "metadata": {},
   "outputs": [],
   "source": [
    "\n",
    "central_and_essential_reactions, essential_reactions_count, matched_reactions = compare_essential_to_network_central_reactions(\n",
    "                                                                                ec_cobra_model,\n",
    "                                                                                centrality_dict_100.get(\"degree\"),\n",
    "                                                                                threshold=0.999)\n",
    "print(central_and_essential_reactions, essential_reactions_count)\n",
    "\n",
    "\n",
    "\n",
    "central_and_essential_reactions, essential_reactions_count, matched_reactions = compare_essential_to_network_central_reactions(\n",
    "                                                                                ec_cobra_model,\n",
    "                                                                                centrality_dict_100.get(\"betweenness\"),\n",
    "                                                                                threshold=0.999)\n",
    "print(central_and_essential_reactions, essential_reactions_count)\n",
    "\n",
    "\n",
    "\n",
    "central_and_essential_reactions, essential_reactions_count, matched_reactions = compare_essential_to_network_central_reactions(\n",
    "                                                                                ec_cobra_model,\n",
    "                                                                                centrality_dict_100.get(\"clustering\"),\n",
    "                                                                                threshold=0.999)\n",
    "print(central_and_essential_reactions, essential_reactions_count)\n"
   ]
  },
  {
   "cell_type": "markdown",
   "id": "9e434cfd",
   "metadata": {},
   "source": [
    "### Compare centrality metrics with flux sampling metrics"
   ]
  },
  {
   "cell_type": "code",
   "execution_count": null,
   "id": "c429eaa1",
   "metadata": {},
   "outputs": [],
   "source": []
  },
  {
   "cell_type": "code",
   "execution_count": null,
   "id": "0b67a58b",
   "metadata": {},
   "outputs": [],
   "source": []
  },
  {
   "cell_type": "code",
   "execution_count": null,
   "id": "af872c5e",
   "metadata": {},
   "outputs": [],
   "source": []
  }
 ],
 "metadata": {
  "kernelspec": {
   "display_name": "dingo-stats-3-10",
   "language": "python",
   "name": "python3"
  },
  "language_info": {
   "name": "python",
   "version": "3.10.18"
  }
 },
 "nbformat": 4,
 "nbformat_minor": 5
}
