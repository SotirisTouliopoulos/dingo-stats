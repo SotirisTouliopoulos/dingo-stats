{
 "cells": [
  {
   "cell_type": "code",
   "execution_count": 1,
   "id": "d7643a56",
   "metadata": {},
   "outputs": [
    {
     "name": "stderr",
     "output_type": "stream",
     "text": [
      "/home/touliopoulos/.local/lib/python3.10/site-packages/pandas/core/computation/expressions.py:21: UserWarning: Pandas requires version '2.8.4' or newer of 'numexpr' (version '2.8.1' currently installed).\n",
      "  from pandas.core.computation.check import NUMEXPR_INSTALLED\n",
      "/home/touliopoulos/.local/lib/python3.10/site-packages/pandas/core/arrays/masked.py:60: UserWarning: Pandas requires version '1.3.6' or newer of 'bottleneck' (version '1.3.2' currently installed).\n",
      "  from pandas.core import (\n",
      "/home/touliopoulos/.local/lib/python3.10/site-packages/matplotlib/projections/__init__.py:63: UserWarning: Unable to import Axes3D. This may be due to multiple versions of Matplotlib being installed (e.g. as a system package and as a pip package). As a result, the 3D projection is not available.\n",
      "  warnings.warn(\"Unable to import Axes3D. This may be due to multiple versions of \"\n"
     ]
    }
   ],
   "source": [
    "\n",
    "from dingo import MetabolicNetwork\n",
    "import numpy as np\n",
    "\n",
    "import sys\n",
    "sys.path.insert(0, '../scripts/')\n",
    "from load_modify_sample_utils import load_model, get_objective_functions, get_reaction_bounds, modify_model, sample_gapsplit, plot_grid_95_reactions\n",
    "from load_modify_sample_utils import sample_dingo, sample_optgp, sampling_statistics, export_to_pickle\n",
    "from graphs_utils import construct_graph, plot_graph\n",
    "from distributions_comparison_utils import significantly_altered_reactions\n",
    "from loopless_utils import get_loopless_solutions_from_samples, calculate_affected_samples, set_bounds_from_loopless_solution_samples\n",
    "from loopless_utils import calculate_distances_from_samples, calculate_distances_from_reactions, violin_plot_samples_distances\n"
   ]
  },
  {
   "cell_type": "code",
   "execution_count": 2,
   "id": "e5a076e3",
   "metadata": {},
   "outputs": [
    {
     "name": "stdout",
     "output_type": "stream",
     "text": [
      "Set parameter Username\n",
      "Set parameter LicenseID to value 2642044\n",
      "Academic license - for non-commercial use only - expires 2026-03-25\n",
      "['VBOF']\n",
      "Read LP format model from file /tmp/tmpu853umny.lp\n",
      "Reading time = 0.02 seconds\n",
      ": 2572 rows, 6788 columns, 25528 nonzeros\n",
      "['VBOF']\n",
      "Read LP format model from file /tmp/tmpu_pbf59o.lp\n",
      "Reading time = 0.04 seconds\n",
      ": 2572 rows, 6788 columns, 25528 nonzeros\n",
      "['VBOF']\n",
      "Read LP format model from file /tmp/tmptrc9x6pm.lp\n",
      "Reading time = 0.02 seconds\n",
      ": 2572 rows, 6788 columns, 25528 nonzeros\n",
      "['VBOF']\n"
     ]
    }
   ],
   "source": [
    "\n",
    "# https://doi.org/10.1093/bioinformatics/btaa813\n",
    "# Renz2020 - GEM of Human alveolar macrophage with SARS-CoV-2\n",
    "\n",
    "(cobra_model,\n",
    "cobra_model_reactions,\n",
    "dingo_model,\n",
    "dingo_model_reactions) = load_model(\"../private_data/Reconstructions_data/iAB_AMO1410_SARS-CoV-2_V1.xml\")\n",
    "\n",
    "\n",
    "\n",
    "# https://doi.org/10.26508/lsa.202000954\n",
    "# Bannerman2020 - Integrated model of the human airway epithelial cell and the SARS-CoV-2 virus\n",
    "\n",
    "#(cobra_model,\n",
    "#cobra_model_reactions,\n",
    "#dingo_model,\n",
    "#dingo_model_reactions) = load_model(\"../private_data/Reconstructions_data/iHsaEC21.xml\")\n",
    "\n",
    "\n",
    "\n",
    "objective_functions = get_objective_functions(cobra_model)\n",
    "print(objective_functions)\n",
    "\n",
    "default_reaction_bounds = get_reaction_bounds(cobra_model)\n",
    "\n",
    "\n",
    "\n",
    "cobra_model_objective_VBOF_opt_0_minimize, dingo_model_objective_VBOF_opt_0_minimize = modify_model(cobra_model, \n",
    "                                                            objective_function=\"VBOF\", \n",
    "                                                            optimal_percentage=0,\n",
    "                                                            objective_direction=\"min\")\n",
    "\n",
    "objective_functions = get_objective_functions(cobra_model_objective_VBOF_opt_0_minimize)\n",
    "print(objective_functions)\n",
    "\n",
    "\n",
    "\n",
    "cobra_model_objective_VBOF_opt_0_maximize, dingo_model_objective_VBOF_opt_0_maximize = modify_model(cobra_model, \n",
    "                                                            objective_function=\"VBOF\", \n",
    "                                                            optimal_percentage=0,\n",
    "                                                            objective_direction=\"max\")\n",
    "\n",
    "objective_functions = get_objective_functions(cobra_model_objective_VBOF_opt_0_maximize)\n",
    "print(objective_functions)\n",
    "\n",
    "\n",
    "\n",
    "cobra_model_objective_VBOF_opt_100_maximize, dingo_model_objective_VBOF_opt_100_maximize = modify_model(cobra_model, \n",
    "                                                                objective_function=\"VBOF\",\n",
    "                                                                optimal_percentage=100,\n",
    "                                                                objective_direction=\"max\")\n",
    "\n",
    "objective_functions = get_objective_functions(cobra_model_objective_VBOF_opt_100_maximize)\n",
    "print(objective_functions)\n",
    "\n"
   ]
  },
  {
   "cell_type": "code",
   "execution_count": null,
   "id": "1cfda22c",
   "metadata": {},
   "outputs": [
    {
     "name": "stdout",
     "output_type": "stream",
     "text": [
      "                         span_noloop  span_loopless  span_difference\n",
      "DM_atp_LPAREN_c_RPAREN_     1.310342       0.000000         1.310342\n",
      "10FTHF5GLUtl                0.327585       0.087272         0.240313\n",
      "10FTHF5GLUtm                0.327585       0.087104         0.240482\n",
      "10FTHF6GLUtl                0.262068       0.000000         0.262068\n",
      "10FTHF6GLUtm                0.262068       0.000000         0.262068\n",
      "...                              ...            ...              ...\n",
      "VITD3tm                  1000.000000       0.000000      1000.000000\n",
      "VITD3tm3                 1000.000000       0.000000      1000.000000\n",
      "XYLK                        0.433076       0.178513         0.254564\n",
      "XYLTD_Dr                    0.433076       0.178513         0.254564\n",
      "XYLUR                       0.433076       0.260414         0.172663\n",
      "\n",
      "[1210 rows x 3 columns]\n"
     ]
    }
   ],
   "source": [
    "\n",
    "\n",
    "from cobra.flux_analysis import flux_variability_analysis\n",
    "import pandas as pd\n",
    "\n",
    "\n",
    "def loops_enumeration_from_fva(ec_cobra_model):\n",
    "    \n",
    "    fva_noloop = flux_variability_analysis(ec_cobra_model, loopless=False)\n",
    "\n",
    "    # Perform FVA with loopless constraints\n",
    "    fva_loopless = flux_variability_analysis(ec_cobra_model, loopless=True)\n",
    "\n",
    "    # Calculate span = max - min for each\n",
    "    fva_noloop['span_noloop'] = fva_noloop['maximum'] - fva_noloop['minimum']\n",
    "    fva_loopless['span_loopless'] = fva_loopless['maximum'] - fva_loopless['minimum']\n",
    "\n",
    "    # Combine the results into a single DataFrame\n",
    "    fva_comparison = pd.DataFrame({\n",
    "        'span_noloop': fva_noloop['span_noloop'],\n",
    "        'span_loopless': fva_loopless['span_loopless']\n",
    "    })\n",
    "\n",
    "    # Calculate the difference in spans (optional)\n",
    "    fva_comparison['span_difference'] = fva_comparison['span_noloop'] - fva_comparison['span_loopless']\n",
    "    \n",
    "    significant_diff = fva_comparison[fva_comparison['span_difference'] > 1e-6]\n",
    "    \n",
    "    return significant_diff\n",
    "\n",
    "\n",
    "\n",
    "significant_diff = loops_enumeration_from_fva(cobra_model)\n",
    "print(significant_diff)"
   ]
  },
  {
   "cell_type": "code",
   "execution_count": 15,
   "id": "08e7b353",
   "metadata": {},
   "outputs": [
    {
     "name": "stdout",
     "output_type": "stream",
     "text": [
      "                    span_noloop  span_loopless  span_difference\n",
      "25HVITD2t           1000.000000           0.00      1000.000000\n",
      "25HVITD2tin         1000.000000           0.00      1000.000000\n",
      "25HVITD2tin_DASH_m  1000.000000           0.00      1000.000000\n",
      "25HVITD2tm          1000.000000           0.00      1000.000000\n",
      "25HVITD3t           1000.000000           0.00      1000.000000\n",
      "...                         ...            ...              ...\n",
      "VALtec              1000.002921           0.01       999.992921\n",
      "VITD3t              1000.000000           0.00      1000.000000\n",
      "VITD3t2             1000.000000           0.00      1000.000000\n",
      "VITD3tm             1000.000000           0.00      1000.000000\n",
      "VITD3tm3            1000.000000           0.00      1000.000000\n",
      "\n",
      "[457 rows x 3 columns]\n"
     ]
    }
   ],
   "source": [
    "\n",
    "significant_diff_2 = significant_diff[significant_diff['span_difference'] > 10]\n",
    "print(significant_diff_2)\n",
    "\n"
   ]
  },
  {
   "cell_type": "code",
   "execution_count": null,
   "id": "b8f8cc04",
   "metadata": {},
   "outputs": [
    {
     "name": "stdout",
     "output_type": "stream",
     "text": [
      "Read LP format model from file /tmp/tmpmtson4j7.lp\n",
      "Reading time = 0.03 seconds\n",
      ": 2572 rows, 6788 columns, 25528 nonzeros\n",
      "['GK1']\n"
     ]
    }
   ],
   "source": [
    "\n",
    "cobra_model_objective_GK1_opt_0_minimize, _ = modify_model(cobra_model, \n",
    "                                                            objective_function=\"GK1\", \n",
    "                                                            optimal_percentage=0,\n",
    "                                                            objective_direction=\"min\")\n",
    "\n",
    "objective_functions = get_objective_functions(cobra_model_objective_GK1_opt_0_minimize)\n",
    "print(objective_functions)\n",
    "\n"
   ]
  },
  {
   "cell_type": "code",
   "execution_count": null,
   "id": "8945be75",
   "metadata": {},
   "outputs": [
    {
     "name": "stdout",
     "output_type": "stream",
     "text": [
      "Read LP format model from file /tmp/tmpy1en_z3k.lp\n",
      "Reading time = 0.03 seconds\n",
      ": 2572 rows, 6788 columns, 25528 nonzeros\n"
     ]
    }
   ],
   "source": [
    "\n",
    "samples_optgp_minimize_GK1_opt_0_rep_1 = sample_optgp(cobra_model_objective_GK1_opt_0_minimize, n_samples = 10000, thinning = 1000, reaction_in_rows = True)\n",
    "#samples_optgp_minimize_GK1_opt_0_rep_2 = sample_optgp(cobra_model_objective_GK1_opt_0_minimize, n_samples = 10000, thinning = 1000, reaction_in_rows = True)\n",
    "\n"
   ]
  },
  {
   "cell_type": "code",
   "execution_count": null,
   "id": "675d9efb",
   "metadata": {},
   "outputs": [
    {
     "name": "stdout",
     "output_type": "stream",
     "text": [
      "3394\n",
      "SK_Tyr_DASH_ggn\n",
      "BIOMASS_mac\n",
      "VBOF\n",
      "EX_ala_DASH_L_LPAREN_e_RPAREN_\n",
      "SK_Tyr_DASH_ggn: Tyr_DASH_ggn_c <=> \n",
      "max\n",
      "min\n"
     ]
    }
   ],
   "source": [
    "\n",
    "print(len(dingo_model_reactions))\n",
    "print(dingo_model_reactions[-2])\n",
    "print(dingo_model_reactions[-1])\n",
    "\n"
   ]
  },
  {
   "cell_type": "code",
   "execution_count": 3,
   "id": "347c8eed",
   "metadata": {},
   "outputs": [
    {
     "name": "stdout",
     "output_type": "stream",
     "text": [
      "Read LP format model from file /tmp/tmpvfmqio27.lp\n",
      "Reading time = 0.07 seconds\n",
      ": 2572 rows, 6788 columns, 25528 nonzeros\n",
      "Read LP format model from file /tmp/tmpr3vc26l1.lp\n",
      "Reading time = 0.03 seconds\n",
      ": 2572 rows, 6788 columns, 25528 nonzeros\n",
      "Read LP format model from file /tmp/tmpfmlulcg3.lp\n",
      "Reading time = 0.02 seconds\n",
      ": 2572 rows, 6788 columns, 25528 nonzeros\n",
      "Read LP format model from file /tmp/tmpylxn3lxp.lp\n",
      "Reading time = 0.03 seconds\n",
      ": 2572 rows, 6788 columns, 25528 nonzeros\n",
      "Read LP format model from file /tmp/tmp8xxm5zmy.lp\n",
      "Reading time = 0.02 seconds\n",
      ": 2572 rows, 6788 columns, 25528 nonzeros\n",
      "Read LP format model from file /tmp/tmp2_cmz7wn.lp\n",
      "Reading time = 0.03 seconds\n",
      ": 2572 rows, 6788 columns, 25528 nonzeros\n"
     ]
    }
   ],
   "source": [
    "\n",
    "samples_optgp_minimize_VBOF_opt_0_rep_1 = sample_optgp(cobra_model_objective_VBOF_opt_0_minimize, n_samples = 10000, thinning = 1000, reaction_in_rows = True)\n",
    "samples_optgp_minimize_VBOF_opt_0_rep_2 = sample_optgp(cobra_model_objective_VBOF_opt_0_minimize, n_samples = 10000, thinning = 1000, reaction_in_rows = True)\n",
    "\n",
    "\n",
    "\n",
    "samples_optgp_maximize_VBOF_opt_0_rep_1 = sample_optgp(cobra_model_objective_VBOF_opt_0_maximize, n_samples = 10000, thinning = 1000, reaction_in_rows = True)\n",
    "samples_optgp_maximize_VBOF_opt_0_rep_2 = sample_optgp(cobra_model_objective_VBOF_opt_0_maximize, n_samples = 10000, thinning = 1000, reaction_in_rows = True)\n",
    "\n",
    "\n",
    "\n",
    "samples_optgp_maximize_VBOF_opt_100_rep_1 = sample_optgp(cobra_model_objective_VBOF_opt_100_maximize, n_samples = 10000, thinning = 1000, reaction_in_rows = True)\n",
    "samples_optgp_maximize_VBOF_opt_100_rep_2 = sample_optgp(cobra_model_objective_VBOF_opt_100_maximize, n_samples = 10000, thinning = 1000, reaction_in_rows = True)\n",
    "\n"
   ]
  },
  {
   "cell_type": "code",
   "execution_count": null,
   "id": "80f795e8",
   "metadata": {},
   "outputs": [],
   "source": [
    "\n",
    "from load_modify_sample_utils import export_to_pickle \n",
    "\n",
    "export_to_pickle(samples = samples_optgp_minimize_GK1_opt_0_rep_1, \n",
    "                 filename= \"../private_data/Sampling_data/Virus/iAB-AMO1410-SARS-CoV-2_V1_Samples_10K_Thinning_1000_GK1_0_Direction_Min_Rep_1\")\n",
    "\n",
    "#export_to_pickle(samples = samples_optgp_loopless_solutions, filename= \"../private_data/Sampling_data/Virus_Samples_10K_Thinning_100_VBOF_0_loopless_solutions\")\n",
    "\n"
   ]
  },
  {
   "cell_type": "code",
   "execution_count": null,
   "id": "80992c57",
   "metadata": {},
   "outputs": [],
   "source": [
    "\n",
    "\n",
    "from load_modify_sample_utils import load_from_pickle\n",
    "\n",
    "samples_optgp_maximize_VBOF_opt_100_rep_1 = samples_optgp_cycles_model = load_from_pickle(\"../private_data/Sampling_data/Virus/iAB-AMO1410-SARS-CoV-2_V1_Samples_10K_Thinning_1000_VBOF_100_Direction_Max_Rep_1\")\n",
    "samples_optgp_maximize_VBOF_opt_100_rep_2 = samples_optgp_cycles_model = load_from_pickle(\"../private_data/Sampling_data/Virus/iAB-AMO1410-SARS-CoV-2_V1_Samples_10K_Thinning_1000_VBOF_100_Direction_Max_Rep_2\")\n",
    "\n",
    "\n",
    "samples_optgp_maximize_VBOF_opt_0_rep_1 = samples_optgp_cycles_model = load_from_pickle(\"../private_data/Sampling_data/Virus/iAB-AMO1410-SARS-CoV-2_V1_Samples_10K_Thinning_1000_VBOF_0_Direction_Max_Rep_1\")\n",
    "samples_optgp_maximize_VBOF_opt_0_rep_2 = samples_optgp_cycles_model = load_from_pickle(\"../private_data/Sampling_data/Virus/iAB-AMO1410-SARS-CoV-2_V1_Samples_10K_Thinning_1000_VBOF_0_Direction_Max_Rep_2\")\n",
    "\n",
    "\n",
    "samples_optgp_minimize_VBOF_opt_0_rep_1 = samples_optgp_cycles_model = load_from_pickle(\"../private_data/Sampling_data/Virus/iAB-AMO1410-SARS-CoV-2_V1_Samples_10K_Thinning_1000_VBOF_0_Direction_Min_Rep_1\")\n",
    "samples_optgp_minimize_VBOF_opt_0_rep_2 = samples_optgp_cycles_model = load_from_pickle(\"../private_data/Sampling_data/Virus/iAB-AMO1410-SARS-CoV-2_V1_Samples_10K_Thinning_1000_VBOF_0_Direction_Min_Rep_2\")\n",
    "\n",
    "#samples_optgp_cycles_model_loopless_solutions = load_from_pickle(\"../private_data/Sampling_data/Virus_Samples_10K_Thinning_100_VBOF_0_loopless_solutions\")\n"
   ]
  },
  {
   "cell_type": "markdown",
   "id": "14348358",
   "metadata": {},
   "source": [
    "### Check for fluxes consistency"
   ]
  },
  {
   "cell_type": "code",
   "execution_count": 10,
   "id": "b2a75446",
   "metadata": {},
   "outputs": [
    {
     "name": "stdout",
     "output_type": "stream",
     "text": [
      "['ALAtN1', 'ASNtN1', 'CITRtm', 'CYTK13n', 'CYTK4', 'CYTK7n', 'FATP8t', 'FUMSO3tm', 'FUMSO4tm', 'GALT', 'GALU', 'GALt4_2', 'LGNCt', 'MALSO3tm', 'MALSO4tm', 'MECOALm', 'MECOAS1m', 'NDPK1n', 'ORNt3m', 'ORNt4m', 'UGLT', 'UMPK2', 'UMPK4n']\n",
      "23\n",
      "['EX_pyr_LPAREN_e_RPAREN_', 'ADK1', 'ADK1m', 'ADK3', 'ADK3m', 'ALAtN1', 'CITRtm', 'CYSGLUexR', 'CYTK13n', 'CYTK8', 'FUM', 'FUMm', 'GALT', 'GALU', 'H2Otm', 'INSTt4', 'It', 'NAHCO3_HCLt', 'NAt5', 'NCKt', 'NDPK2n', 'NDPK3', 'ORNt3m', 'ORNt4m', 'PROt2r', 'PYRt2r', 'THRGLNexR', 'UGLT', 'UMPK5', 'UMPK7n']\n",
      "30\n",
      "['CYTK1', 'CYTK10', 'CYTK13n', 'DTDPtn', 'DTTPtn', 'FATP1t', 'FATP2t', 'FATP8t', 'FUM', 'FUMm', 'H2Otm', 'HDCAtr', 'LGNCt', 'NDPK4', 'NDPK4n', 'OCDCEAtr', 'RAI2', 'RETI2', 'SERGLNexR', 'UMPK2', 'UMPK5']\n",
      "21\n"
     ]
    }
   ],
   "source": [
    "\n",
    "conditions=[samples_optgp_minimize_VBOF_opt_0_rep_1, samples_optgp_minimize_VBOF_opt_0_rep_2]\n",
    "selected_comparisons = [(0, 1)]\n",
    "\n",
    "_, significant_diff_reactions, not_significant_diff_reactions = significantly_altered_reactions(conditions, \n",
    "                                                                                                selected_comparisons, \n",
    "                                                                                                cobra_model=cobra_model,\n",
    "                                                                                                p_value_cutoff = 0.05,\n",
    "                                                                                                fold_change_cutoff=2)\n",
    "\n",
    "print(significant_diff_reactions)\n",
    "print(len(significant_diff_reactions))\n",
    "\n",
    "\n",
    "\n",
    "conditions=[samples_optgp_maximize_VBOF_opt_0_rep_1, samples_optgp_maximize_VBOF_opt_0_rep_2]\n",
    "selected_comparisons = [(0, 1)]\n",
    "\n",
    "_, significant_diff_reactions, not_significant_diff_reactions = significantly_altered_reactions(conditions, \n",
    "                                                                                                selected_comparisons, \n",
    "                                                                                                cobra_model=cobra_model,\n",
    "                                                                                                p_value_cutoff = 0.05,\n",
    "                                                                                                fold_change_cutoff=2.0)\n",
    "\n",
    "print(significant_diff_reactions)\n",
    "print(len(significant_diff_reactions))\n",
    "\n",
    "\n",
    "\n",
    "conditions=[samples_optgp_maximize_VBOF_opt_100_rep_1, samples_optgp_maximize_VBOF_opt_100_rep_2]\n",
    "selected_comparisons = [(0, 1)]\n",
    "\n",
    "_, significant_diff_reactions, not_significant_diff_reactions = significantly_altered_reactions(conditions, \n",
    "                                                                                                selected_comparisons, \n",
    "                                                                                                cobra_model=cobra_model,\n",
    "                                                                                                p_value_cutoff = 0.05,\n",
    "                                                                                                fold_change_cutoff=2.0)\n",
    "\n",
    "print(significant_diff_reactions)\n",
    "print(len(significant_diff_reactions))\n",
    "\n"
   ]
  },
  {
   "cell_type": "code",
   "execution_count": 11,
   "id": "4274594f",
   "metadata": {},
   "outputs": [
    {
     "name": "stdout",
     "output_type": "stream",
     "text": [
      "['EX_ala_DASH_D_LPAREN_e_RPAREN_', 'EX_ala_DASH_L_LPAREN_e_RPAREN_', '3HCO3_NAt', 'ABUTt2r', 'ABUTt4_LPAREN_2_RPAREN_r', 'ALADGLNexR', 'ALADGLYexR', 'ALAGLYexR', 'ALAR', 'ALATHRNaEx', 'ALCD21_L', 'ALCD22_L', 'ALR2', 'ALR3', 'ASCBt', 'ASCBt4', 'ASNCYSNaEx', 'ASNt4', 'CHOLK', 'CITt4_2', 'CITt4_4', 'CYSASNNaEx', 'CYSGLNNaEx', 'CYSGLYexR', 'CYTK10', 'CYTK12n', 'CYTK13', 'CYTK14n', 'CYTK3n', 'CYTK4n', 'CYTK5', 'CYTK5n', 'CYTK6', 'CYTK6n', 'CYTK7', 'CYTK8', 'CYTK9', 'DALAt2r', 'DNDPt14m', 'DNDPt16m', 'DNDPt25m', 'DNDPt26m', 'DNDPt29m', 'DOPAt4_LPAREN_2_RPAREN_r', 'DOPAtu', 'FATP1t', 'FATP8t', 'FRUt1r', 'FRUt4', 'FUMSO3tm', 'FUMSO4tm', 'GLCt2_2', 'GLCt2r', 'GLNSERNaEx', 'GLYt7_LPAREN_311_RPAREN_r', 'HDCAtr', 'HSD11B1r', 'HSD11B2r', 'IDPtn', 'ILEt4', 'ILEtec', 'INSTt2r', 'ITPtn', 'KCC2t', 'L_DASH_LACt2r', 'L_DASH_LACt4r', 'LGNCt', 'MALSO3tm', 'MALSO4tm', 'NAHCO3_HCLt', 'NAIt', 'NAt3_1', 'NDPK1m', 'NDPK2n', 'NDPK3', 'NDPK3n', 'NDPK9', 'NDPK9n', 'PHEt4', 'PHEtec', 'PROSTGE2t', 'PROSTGE2t2', 'PROt2r', 'RADH', 'SERDGLNexR', 'SERDGLYexR', 'SERGLYexR', 'SPODM', 'SRTNt6_LPAREN_2_RPAREN_r', 'SRTNtu', 'SUCD1m', 'TCHOLAte', 'THRALANaEx', 'THRGLNexR', 'THYOXt', 'THYOXt2', 'TRIODTHYt', 'TRIODTHYt2', 'UMPK', 'UMPK3n', 'UMPK6n', 'UMPKn', 'UREAt', 'UREAt5', 'VITD3t', 'VITD3t2', 'VITD3tm', 'VITD3tm3']\n",
      "108\n"
     ]
    }
   ],
   "source": [
    "\n",
    "\n",
    "#conditions=[samples_optgp_minimize_VBOF_opt_0_rep_1, samples_optgp_maximize_VBOF_opt_100_rep_1]\n",
    "conditions=[samples_optgp_maximize_VBOF_opt_0_rep_1, samples_optgp_maximize_VBOF_opt_100_rep_1]\n",
    "\n",
    "selected_comparisons = [(0, 1)]\n",
    "\n",
    "_, significant_diff_reactions, not_significant_diff_reactions = significantly_altered_reactions(conditions, \n",
    "                                                                                                selected_comparisons, \n",
    "                                                                                                cobra_model=cobra_model,\n",
    "                                                                                                p_value_cutoff = 0.05,\n",
    "                                                                                                fold_change_cutoff=1.5)\n",
    "\n",
    "\n",
    "print(significant_diff_reactions)\n",
    "print(len(significant_diff_reactions))"
   ]
  },
  {
   "cell_type": "code",
   "execution_count": 9,
   "id": "8f8e0b06",
   "metadata": {},
   "outputs": [
    {
     "data": {
      "image/png": "[encoded data removed]",
      "text/plain": [
       "<Figure size 640x480 with 1 Axes>"
      ]
     },
     "metadata": {},
     "output_type": "display_data"
    },
    {
     "data": {
      "image/png": "[encoded data removed]",
      "text/plain": [
       "<Figure size 640x480 with 1 Axes>"
      ]
     },
     "metadata": {},
     "output_type": "display_data"
    },
    {
     "data": {
      "image/png": "[encoded data removed]",
      "text/plain": [
       "<Figure size 640x480 with 1 Axes>"
      ]
     },
     "metadata": {},
     "output_type": "display_data"
    },
    {
     "data": {
      "text/plain": [
       "'\\nplt.hist(samples_optgp_maximize_VBOF_opt_0_rep_1[index])\\nplt.show()\\n\\n\\nplt.hist(samples_optgp_maximize_VBOF_opt_0_rep_1[index])\\nplt.show()\\n\\n\\nplt.hist(samples_optgp_maximize_VBOF_opt_100_rep_1[index])\\nplt.show()\\n'"
      ]
     },
     "execution_count": 9,
     "metadata": {},
     "output_type": "execute_result"
    }
   ],
   "source": [
    "\n",
    "index1 = dingo_model_reactions.index(\"GK1\")\n",
    "index2 = dingo_model_reactions.index(\"VBOF\")\n",
    "index3 = dingo_model_reactions.index(\"BIOMASS_mac\")\n",
    "\n",
    "\n",
    "import matplotlib.pyplot as plt\n",
    "\n",
    "\n",
    "plt.hist(samples_optgp_minimize_GK1_opt_0_rep_1[index1])\n",
    "plt.show()\n",
    "\n",
    "\n",
    "plt.hist(samples_optgp_minimize_GK1_opt_0_rep_1[index2])\n",
    "plt.show()\n",
    "\n",
    "\n",
    "plt.hist(samples_optgp_minimize_GK1_opt_0_rep_1[index3])\n",
    "plt.show()\n",
    "\n",
    "\n",
    "\"\"\"\n",
    "plt.hist(samples_optgp_maximize_VBOF_opt_0_rep_1[index])\n",
    "plt.show()\n",
    "\n",
    "\n",
    "plt.hist(samples_optgp_maximize_VBOF_opt_0_rep_1[index])\n",
    "plt.show()\n",
    "\n",
    "\n",
    "plt.hist(samples_optgp_maximize_VBOF_opt_100_rep_1[index])\n",
    "plt.show()\n",
    "\"\"\""
   ]
  },
  {
   "cell_type": "code",
   "execution_count": null,
   "id": "b59b6352",
   "metadata": {},
   "outputs": [],
   "source": [
    "\n",
    "from correlations_utils import correlated_reactions, split_forward_reverse\n",
    "\n",
    "\n",
    "extended_steady_states_condition_1, extended_reactions_conditions_1 = split_forward_reverse(samples_optgp_minimize_GK1_opt_0_rep_1, reactions=dingo_model_reactions)\n",
    "\n",
    "(linear_correlation_matrix_1, \n",
    "#non_linear_correlation_matrix_1, \n",
    "#mixed_correlation_matrix_1, \n",
    "correlations_dictionary_1\n",
    ") = correlated_reactions(\n",
    "        steady_states = extended_steady_states_condition_1,\n",
    "        boolean_sharing_metabolites_matrix=None,\n",
    "        reactions=extended_reactions_conditions_1, \n",
    "        linear_corr_cutoff = 0.3, \n",
    "        indicator_cutoff = 1.2,\n",
    "        jensenshannon_cutoff = 0.05,\n",
    "        std_cutoff= 1e-2,\n",
    "        include_non_linear = False, \n",
    "        cells = 4, \n",
    "        cop_coeff = 0.2, \n",
    "        lower_triangle = False, \n",
    "        verbose = True)\n",
    "\n",
    "\n",
    "\n",
    "extended_steady_states_condition_2, extended_reactions_conditions_2 = split_forward_reverse(samples_optgp_maximize_VBOF_opt_100_rep_1, reactions=dingo_model_reactions)\n",
    "\n",
    "(linear_correlation_matrix_2, \n",
    "#non_linear_correlation_matrix_2, \n",
    "#mixed_correlation_matrix_2, \n",
    "correlations_dictionary_2\n",
    ") = correlated_reactions(\n",
    "        steady_states = extended_steady_states_condition_2,\n",
    "        boolean_sharing_metabolites_matrix=None,\n",
    "        reactions=extended_reactions_conditions_2, \n",
    "        linear_corr_cutoff = 0.3, \n",
    "        indicator_cutoff = 1.2,\n",
    "        jensenshannon_cutoff = 0.05,\n",
    "        std_cutoff= 1e-2,\n",
    "        include_non_linear = False, \n",
    "        cells = 4, \n",
    "        cop_coeff = 0.2, \n",
    "        lower_triangle = False, \n",
    "        verbose = True)\n",
    "\n",
    "\n"
   ]
  },
  {
   "cell_type": "code",
   "execution_count": 68,
   "id": "57234bac",
   "metadata": {},
   "outputs": [
    {
     "ename": "KeyboardInterrupt",
     "evalue": "",
     "output_type": "error",
     "traceback": [
      "\u001b[0;31m---------------------------------------------------------------------------\u001b[0m",
      "\u001b[0;31mKeyboardInterrupt\u001b[0m                         Traceback (most recent call last)",
      "Cell \u001b[0;32mIn[68], line 7\u001b[0m\n\u001b[1;32m      1\u001b[0m G1, pos1 \u001b[38;5;241m=\u001b[39m construct_graph(linear_correlation_matrix_1, \n\u001b[1;32m      2\u001b[0m                          non_linear_correlation_matrix\u001b[38;5;241m=\u001b[39m\u001b[38;5;28;01mNone\u001b[39;00m, \n\u001b[1;32m      3\u001b[0m                          reactions\u001b[38;5;241m=\u001b[39mextended_reactions_conditions_1,\n\u001b[1;32m      4\u001b[0m                          remove_unconnected_nodes\u001b[38;5;241m=\u001b[39m\u001b[38;5;28;01mTrue\u001b[39;00m,\n\u001b[1;32m      5\u001b[0m                          correction\u001b[38;5;241m=\u001b[39m\u001b[38;5;28;01mTrue\u001b[39;00m)\n\u001b[0;32m----> 7\u001b[0m \u001b[43mplot_graph\u001b[49m\u001b[43m(\u001b[49m\u001b[43mG1\u001b[49m\u001b[43m,\u001b[49m\u001b[43m \u001b[49m\u001b[43mpos1\u001b[49m\u001b[43m)\u001b[49m\n\u001b[1;32m     11\u001b[0m G2, pos2\u001b[38;5;241m=\u001b[39m construct_graph(linear_correlation_matrix_2, \n\u001b[1;32m     12\u001b[0m                          non_linear_correlation_matrix\u001b[38;5;241m=\u001b[39m\u001b[38;5;28;01mNone\u001b[39;00m, \n\u001b[1;32m     13\u001b[0m                          reactions\u001b[38;5;241m=\u001b[39mextended_reactions_conditions_2,\n\u001b[1;32m     14\u001b[0m                          remove_unconnected_nodes\u001b[38;5;241m=\u001b[39m\u001b[38;5;28;01mTrue\u001b[39;00m,\n\u001b[1;32m     15\u001b[0m                          correction\u001b[38;5;241m=\u001b[39m\u001b[38;5;28;01mTrue\u001b[39;00m)\n\u001b[1;32m     17\u001b[0m plot_graph(G2, pos2)\n",
      "File \u001b[0;32m~/project/erasmus/erasmus_2025_project/analysis/../scripts/graphs_utils.py:92\u001b[0m, in \u001b[0;36mplot_graph\u001b[0;34m(G, pos)\u001b[0m\n\u001b[1;32m     89\u001b[0m     \u001b[38;5;66;03m# Edge width scales with correlation strength\u001b[39;00m\n\u001b[1;32m     90\u001b[0m     line_width \u001b[38;5;241m=\u001b[39m \u001b[38;5;28mabs\u001b[39m(weight) \u001b[38;5;241m*\u001b[39m \u001b[38;5;241m1\u001b[39m  \u001b[38;5;66;03m# adjust multiplier as needed\u001b[39;00m\n\u001b[0;32m---> 92\u001b[0m     \u001b[43mfig\u001b[49m\u001b[38;5;241;43m.\u001b[39;49m\u001b[43madd_trace\u001b[49m\u001b[43m(\u001b[49m\u001b[43mgo\u001b[49m\u001b[38;5;241;43m.\u001b[39;49m\u001b[43mScatter\u001b[49m\u001b[43m(\u001b[49m\n\u001b[1;32m     93\u001b[0m \u001b[43m        \u001b[49m\u001b[43mx\u001b[49m\u001b[38;5;241;43m=\u001b[39;49m\u001b[43m[\u001b[49m\u001b[43mx0\u001b[49m\u001b[43m,\u001b[49m\u001b[43m \u001b[49m\u001b[43mx1\u001b[49m\u001b[43m]\u001b[49m\u001b[43m,\u001b[49m\u001b[43m \u001b[49m\u001b[43my\u001b[49m\u001b[38;5;241;43m=\u001b[39;49m\u001b[43m[\u001b[49m\u001b[43my0\u001b[49m\u001b[43m,\u001b[49m\u001b[43m \u001b[49m\u001b[43my1\u001b[49m\u001b[43m]\u001b[49m\u001b[43m,\u001b[49m\n\u001b[1;32m     94\u001b[0m \u001b[43m        \u001b[49m\u001b[43mmode\u001b[49m\u001b[38;5;241;43m=\u001b[39;49m\u001b[38;5;124;43m'\u001b[39;49m\u001b[38;5;124;43mlines\u001b[39;49m\u001b[38;5;124;43m'\u001b[39;49m\u001b[43m,\u001b[49m\n\u001b[1;32m     95\u001b[0m \u001b[43m        \u001b[49m\u001b[43mline\u001b[49m\u001b[38;5;241;43m=\u001b[39;49m\u001b[38;5;28;43mdict\u001b[39;49m\u001b[43m(\u001b[49m\u001b[43mwidth\u001b[49m\u001b[38;5;241;43m=\u001b[39;49m\u001b[43mline_width\u001b[49m\u001b[43m,\u001b[49m\u001b[43m \u001b[49m\u001b[43mcolor\u001b[49m\u001b[38;5;241;43m=\u001b[39;49m\u001b[43mcolor\u001b[49m\u001b[43m)\u001b[49m\u001b[43m,\u001b[49m\n\u001b[1;32m     96\u001b[0m \u001b[43m        \u001b[49m\u001b[43mhoverinfo\u001b[49m\u001b[38;5;241;43m=\u001b[39;49m\u001b[38;5;124;43m'\u001b[39;49m\u001b[38;5;124;43mtext\u001b[39;49m\u001b[38;5;124;43m'\u001b[39;49m\u001b[43m,\u001b[49m\n\u001b[1;32m     97\u001b[0m \u001b[43m        \u001b[49m\u001b[43mtext\u001b[49m\u001b[38;5;241;43m=\u001b[39;49m\u001b[38;5;124;43mf\u001b[39;49m\u001b[38;5;124;43m'\u001b[39;49m\u001b[38;5;132;43;01m{\u001b[39;49;00m\u001b[43mu\u001b[49m\u001b[38;5;132;43;01m}\u001b[39;49;00m\u001b[38;5;124;43m ↔ \u001b[39;49m\u001b[38;5;132;43;01m{\u001b[39;49;00m\u001b[43mv\u001b[49m\u001b[38;5;132;43;01m}\u001b[39;49;00m\u001b[38;5;124;43m<br>Weight: \u001b[39;49m\u001b[38;5;132;43;01m{\u001b[39;49;00m\u001b[43mweight\u001b[49m\u001b[38;5;132;43;01m:\u001b[39;49;00m\u001b[38;5;124;43m.2f\u001b[39;49m\u001b[38;5;132;43;01m}\u001b[39;49;00m\u001b[38;5;124;43m<br>Source: \u001b[39;49m\u001b[38;5;132;43;01m{\u001b[39;49;00m\u001b[43msource\u001b[49m\u001b[38;5;132;43;01m}\u001b[39;49;00m\u001b[38;5;124;43m'\u001b[39;49m\u001b[43m,\u001b[49m\n\u001b[1;32m     98\u001b[0m \u001b[43m        \u001b[49m\u001b[43mshowlegend\u001b[49m\u001b[38;5;241;43m=\u001b[39;49m\u001b[38;5;28;43;01mFalse\u001b[39;49;00m\n\u001b[1;32m     99\u001b[0m \u001b[43m    \u001b[49m\u001b[43m)\u001b[49m\u001b[43m)\u001b[49m\n\u001b[1;32m    101\u001b[0m \u001b[38;5;66;03m# Nodes\u001b[39;00m\n\u001b[1;32m    102\u001b[0m \u001b[38;5;28;01mfor\u001b[39;00m node \u001b[38;5;129;01min\u001b[39;00m G\u001b[38;5;241m.\u001b[39mnodes():\n",
      "File \u001b[0;32m~/.local/lib/python3.10/site-packages/plotly/graph_objs/_figure.py:913\u001b[0m, in \u001b[0;36mFigure.add_trace\u001b[0;34m(self, trace, row, col, secondary_y, exclude_empty_subplots)\u001b[0m\n\u001b[1;32m    838\u001b[0m \u001b[38;5;28;01mdef\u001b[39;00m \u001b[38;5;21madd_trace\u001b[39m(\n\u001b[1;32m    839\u001b[0m     \u001b[38;5;28mself\u001b[39m, trace, row\u001b[38;5;241m=\u001b[39m\u001b[38;5;28;01mNone\u001b[39;00m, col\u001b[38;5;241m=\u001b[39m\u001b[38;5;28;01mNone\u001b[39;00m, secondary_y\u001b[38;5;241m=\u001b[39m\u001b[38;5;28;01mNone\u001b[39;00m, exclude_empty_subplots\u001b[38;5;241m=\u001b[39m\u001b[38;5;28;01mFalse\u001b[39;00m\n\u001b[1;32m    840\u001b[0m ) \u001b[38;5;241m-\u001b[39m\u001b[38;5;241m>\u001b[39m \u001b[38;5;124m\"\u001b[39m\u001b[38;5;124mFigure\u001b[39m\u001b[38;5;124m\"\u001b[39m:\n\u001b[1;32m    841\u001b[0m \u001b[38;5;250m    \u001b[39m\u001b[38;5;124;03m\"\"\"\u001b[39;00m\n\u001b[1;32m    842\u001b[0m \n\u001b[1;32m    843\u001b[0m \u001b[38;5;124;03m    Add a trace to the figure\u001b[39;00m\n\u001b[0;32m   (...)\u001b[0m\n\u001b[1;32m    911\u001b[0m \n\u001b[1;32m    912\u001b[0m \u001b[38;5;124;03m    \"\"\"\u001b[39;00m\n\u001b[0;32m--> 913\u001b[0m     \u001b[38;5;28;01mreturn\u001b[39;00m \u001b[38;5;28;43msuper\u001b[39;49m\u001b[43m(\u001b[49m\u001b[43mFigure\u001b[49m\u001b[43m,\u001b[49m\u001b[43m \u001b[49m\u001b[38;5;28;43mself\u001b[39;49m\u001b[43m)\u001b[49m\u001b[38;5;241;43m.\u001b[39;49m\u001b[43madd_trace\u001b[49m\u001b[43m(\u001b[49m\n\u001b[1;32m    914\u001b[0m \u001b[43m        \u001b[49m\u001b[43mtrace\u001b[49m\u001b[43m,\u001b[49m\u001b[43m \u001b[49m\u001b[43mrow\u001b[49m\u001b[43m,\u001b[49m\u001b[43m \u001b[49m\u001b[43mcol\u001b[49m\u001b[43m,\u001b[49m\u001b[43m \u001b[49m\u001b[43msecondary_y\u001b[49m\u001b[43m,\u001b[49m\u001b[43m \u001b[49m\u001b[43mexclude_empty_subplots\u001b[49m\n\u001b[1;32m    915\u001b[0m \u001b[43m    \u001b[49m\u001b[43m)\u001b[49m\n",
      "File \u001b[0;32m~/.local/lib/python3.10/site-packages/plotly/basedatatypes.py:2106\u001b[0m, in \u001b[0;36mBaseFigure.add_trace\u001b[0;34m(self, trace, row, col, secondary_y, exclude_empty_subplots)\u001b[0m\n\u001b[1;32m   2097\u001b[0m         \u001b[38;5;28mself\u001b[39m\u001b[38;5;241m.\u001b[39madd_trace(\n\u001b[1;32m   2098\u001b[0m             trace,\n\u001b[1;32m   2099\u001b[0m             row\u001b[38;5;241m=\u001b[39mr,\n\u001b[0;32m   (...)\u001b[0m\n\u001b[1;32m   2102\u001b[0m             exclude_empty_subplots\u001b[38;5;241m=\u001b[39mexclude_empty_subplots,\n\u001b[1;32m   2103\u001b[0m         )\n\u001b[1;32m   2104\u001b[0m     \u001b[38;5;28;01mreturn\u001b[39;00m \u001b[38;5;28mself\u001b[39m\n\u001b[0;32m-> 2106\u001b[0m \u001b[38;5;28;01mreturn\u001b[39;00m \u001b[38;5;28;43mself\u001b[39;49m\u001b[38;5;241;43m.\u001b[39;49m\u001b[43madd_traces\u001b[49m\u001b[43m(\u001b[49m\n\u001b[1;32m   2107\u001b[0m \u001b[43m    \u001b[49m\u001b[43mdata\u001b[49m\u001b[38;5;241;43m=\u001b[39;49m\u001b[43m[\u001b[49m\u001b[43mtrace\u001b[49m\u001b[43m]\u001b[49m\u001b[43m,\u001b[49m\n\u001b[1;32m   2108\u001b[0m \u001b[43m    \u001b[49m\u001b[43mrows\u001b[49m\u001b[38;5;241;43m=\u001b[39;49m\u001b[43m[\u001b[49m\u001b[43mrow\u001b[49m\u001b[43m]\u001b[49m\u001b[43m \u001b[49m\u001b[38;5;28;43;01mif\u001b[39;49;00m\u001b[43m \u001b[49m\u001b[43mrow\u001b[49m\u001b[43m \u001b[49m\u001b[38;5;129;43;01mis\u001b[39;49;00m\u001b[43m \u001b[49m\u001b[38;5;129;43;01mnot\u001b[39;49;00m\u001b[43m \u001b[49m\u001b[38;5;28;43;01mNone\u001b[39;49;00m\u001b[43m \u001b[49m\u001b[38;5;28;43;01melse\u001b[39;49;00m\u001b[43m \u001b[49m\u001b[38;5;28;43;01mNone\u001b[39;49;00m\u001b[43m,\u001b[49m\n\u001b[1;32m   2109\u001b[0m \u001b[43m    \u001b[49m\u001b[43mcols\u001b[49m\u001b[38;5;241;43m=\u001b[39;49m\u001b[43m[\u001b[49m\u001b[43mcol\u001b[49m\u001b[43m]\u001b[49m\u001b[43m \u001b[49m\u001b[38;5;28;43;01mif\u001b[39;49;00m\u001b[43m \u001b[49m\u001b[43mcol\u001b[49m\u001b[43m \u001b[49m\u001b[38;5;129;43;01mis\u001b[39;49;00m\u001b[43m \u001b[49m\u001b[38;5;129;43;01mnot\u001b[39;49;00m\u001b[43m \u001b[49m\u001b[38;5;28;43;01mNone\u001b[39;49;00m\u001b[43m \u001b[49m\u001b[38;5;28;43;01melse\u001b[39;49;00m\u001b[43m \u001b[49m\u001b[38;5;28;43;01mNone\u001b[39;49;00m\u001b[43m,\u001b[49m\n\u001b[1;32m   2110\u001b[0m \u001b[43m    \u001b[49m\u001b[43msecondary_ys\u001b[49m\u001b[38;5;241;43m=\u001b[39;49m\u001b[43m[\u001b[49m\u001b[43msecondary_y\u001b[49m\u001b[43m]\u001b[49m\u001b[43m \u001b[49m\u001b[38;5;28;43;01mif\u001b[39;49;00m\u001b[43m \u001b[49m\u001b[43msecondary_y\u001b[49m\u001b[43m \u001b[49m\u001b[38;5;129;43;01mis\u001b[39;49;00m\u001b[43m \u001b[49m\u001b[38;5;129;43;01mnot\u001b[39;49;00m\u001b[43m \u001b[49m\u001b[38;5;28;43;01mNone\u001b[39;49;00m\u001b[43m \u001b[49m\u001b[38;5;28;43;01melse\u001b[39;49;00m\u001b[43m \u001b[49m\u001b[38;5;28;43;01mNone\u001b[39;49;00m\u001b[43m,\u001b[49m\n\u001b[1;32m   2111\u001b[0m \u001b[43m    \u001b[49m\u001b[43mexclude_empty_subplots\u001b[49m\u001b[38;5;241;43m=\u001b[39;49m\u001b[43mexclude_empty_subplots\u001b[49m\u001b[43m,\u001b[49m\n\u001b[1;32m   2112\u001b[0m \u001b[43m\u001b[49m\u001b[43m)\u001b[49m\n",
      "File \u001b[0;32m~/.local/lib/python3.10/site-packages/plotly/graph_objs/_figure.py:993\u001b[0m, in \u001b[0;36mFigure.add_traces\u001b[0;34m(self, data, rows, cols, secondary_ys, exclude_empty_subplots)\u001b[0m\n\u001b[1;32m    917\u001b[0m \u001b[38;5;28;01mdef\u001b[39;00m \u001b[38;5;21madd_traces\u001b[39m(\n\u001b[1;32m    918\u001b[0m     \u001b[38;5;28mself\u001b[39m,\n\u001b[1;32m    919\u001b[0m     data,\n\u001b[0;32m   (...)\u001b[0m\n\u001b[1;32m    923\u001b[0m     exclude_empty_subplots\u001b[38;5;241m=\u001b[39m\u001b[38;5;28;01mFalse\u001b[39;00m,\n\u001b[1;32m    924\u001b[0m ) \u001b[38;5;241m-\u001b[39m\u001b[38;5;241m>\u001b[39m \u001b[38;5;124m\"\u001b[39m\u001b[38;5;124mFigure\u001b[39m\u001b[38;5;124m\"\u001b[39m:\n\u001b[1;32m    925\u001b[0m \u001b[38;5;250m    \u001b[39m\u001b[38;5;124;03m\"\"\"\u001b[39;00m\n\u001b[1;32m    926\u001b[0m \n\u001b[1;32m    927\u001b[0m \u001b[38;5;124;03m    Add traces to the figure\u001b[39;00m\n\u001b[0;32m   (...)\u001b[0m\n\u001b[1;32m    991\u001b[0m \n\u001b[1;32m    992\u001b[0m \u001b[38;5;124;03m    \"\"\"\u001b[39;00m\n\u001b[0;32m--> 993\u001b[0m     \u001b[38;5;28;01mreturn\u001b[39;00m \u001b[38;5;28;43msuper\u001b[39;49m\u001b[43m(\u001b[49m\u001b[43mFigure\u001b[49m\u001b[43m,\u001b[49m\u001b[43m \u001b[49m\u001b[38;5;28;43mself\u001b[39;49m\u001b[43m)\u001b[49m\u001b[38;5;241;43m.\u001b[39;49m\u001b[43madd_traces\u001b[49m\u001b[43m(\u001b[49m\n\u001b[1;32m    994\u001b[0m \u001b[43m        \u001b[49m\u001b[43mdata\u001b[49m\u001b[43m,\u001b[49m\u001b[43m \u001b[49m\u001b[43mrows\u001b[49m\u001b[43m,\u001b[49m\u001b[43m \u001b[49m\u001b[43mcols\u001b[49m\u001b[43m,\u001b[49m\u001b[43m \u001b[49m\u001b[43msecondary_ys\u001b[49m\u001b[43m,\u001b[49m\u001b[43m \u001b[49m\u001b[43mexclude_empty_subplots\u001b[49m\n\u001b[1;32m    995\u001b[0m \u001b[43m    \u001b[49m\u001b[43m)\u001b[49m\n",
      "File \u001b[0;32m~/.local/lib/python3.10/site-packages/plotly/basedatatypes.py:2259\u001b[0m, in \u001b[0;36mBaseFigure.add_traces\u001b[0;34m(self, data, rows, cols, secondary_ys, exclude_empty_subplots)\u001b[0m\n\u001b[1;32m   2256\u001b[0m \u001b[38;5;66;03m# Update python side\u001b[39;00m\n\u001b[1;32m   2257\u001b[0m \u001b[38;5;66;03m#  Use extend instead of assignment so we don't trigger serialization\u001b[39;00m\n\u001b[1;32m   2258\u001b[0m \u001b[38;5;28mself\u001b[39m\u001b[38;5;241m.\u001b[39m_data\u001b[38;5;241m.\u001b[39mextend(new_traces_data)\n\u001b[0;32m-> 2259\u001b[0m \u001b[38;5;28;43mself\u001b[39;49m\u001b[38;5;241;43m.\u001b[39;49m\u001b[43m_data_defaults\u001b[49m \u001b[38;5;241m=\u001b[39m \u001b[38;5;28mself\u001b[39m\u001b[38;5;241m.\u001b[39m_data_defaults \u001b[38;5;241m+\u001b[39m [{} \u001b[38;5;28;01mfor\u001b[39;00m _ \u001b[38;5;129;01min\u001b[39;00m data]\n\u001b[1;32m   2260\u001b[0m \u001b[38;5;28mself\u001b[39m\u001b[38;5;241m.\u001b[39m_data_objs \u001b[38;5;241m=\u001b[39m \u001b[38;5;28mself\u001b[39m\u001b[38;5;241m.\u001b[39m_data_objs \u001b[38;5;241m+\u001b[39m data\n\u001b[1;32m   2262\u001b[0m \u001b[38;5;66;03m# Update messages\u001b[39;00m\n",
      "File \u001b[0;32m~/.local/lib/python3.10/site-packages/plotly/basedatatypes.py:717\u001b[0m, in \u001b[0;36mBaseFigure.__setattr__\u001b[0;34m(self, prop, value)\u001b[0m\n\u001b[1;32m    704\u001b[0m \u001b[38;5;250m\u001b[39m\u001b[38;5;124;03m\"\"\"\u001b[39;00m\n\u001b[1;32m    705\u001b[0m \u001b[38;5;124;03mParameters\u001b[39;00m\n\u001b[1;32m    706\u001b[0m \u001b[38;5;124;03m----------\u001b[39;00m\n\u001b[0;32m   (...)\u001b[0m\n\u001b[1;32m    713\u001b[0m \u001b[38;5;124;03mNone\u001b[39;00m\n\u001b[1;32m    714\u001b[0m \u001b[38;5;124;03m\"\"\"\u001b[39;00m\n\u001b[1;32m    715\u001b[0m \u001b[38;5;28;01mif\u001b[39;00m prop\u001b[38;5;241m.\u001b[39mstartswith(\u001b[38;5;124m\"\u001b[39m\u001b[38;5;124m_\u001b[39m\u001b[38;5;124m\"\u001b[39m) \u001b[38;5;129;01mor\u001b[39;00m \u001b[38;5;28mhasattr\u001b[39m(\u001b[38;5;28mself\u001b[39m, prop):\n\u001b[1;32m    716\u001b[0m     \u001b[38;5;66;03m# Let known properties and private properties through\u001b[39;00m\n\u001b[0;32m--> 717\u001b[0m     \u001b[38;5;28;43msuper\u001b[39;49m\u001b[43m(\u001b[49m\u001b[43mBaseFigure\u001b[49m\u001b[43m,\u001b[49m\u001b[43m \u001b[49m\u001b[38;5;28;43mself\u001b[39;49m\u001b[43m)\u001b[49m\u001b[38;5;241;43m.\u001b[39;49m\u001b[38;5;21;43m__setattr__\u001b[39;49m\u001b[43m(\u001b[49m\u001b[43mprop\u001b[49m\u001b[43m,\u001b[49m\u001b[43m \u001b[49m\u001b[43mvalue\u001b[49m\u001b[43m)\u001b[49m\n\u001b[1;32m    718\u001b[0m \u001b[38;5;28;01melse\u001b[39;00m:\n\u001b[1;32m    719\u001b[0m     \u001b[38;5;66;03m# Raise error on unknown public properties\u001b[39;00m\n\u001b[1;32m    720\u001b[0m     \u001b[38;5;28;01mraise\u001b[39;00m \u001b[38;5;167;01mAttributeError\u001b[39;00m(prop)\n",
      "\u001b[0;31mKeyboardInterrupt\u001b[0m: "
     ]
    }
   ],
   "source": [
    "\n",
    "\n",
    "G1, pos1 = construct_graph(linear_correlation_matrix_1, \n",
    "                         non_linear_correlation_matrix=None, \n",
    "                         reactions=extended_reactions_conditions_1,\n",
    "                         remove_unconnected_nodes=True,\n",
    "                         correction=True)\n",
    "\n",
    "plot_graph(G1, pos1)\n",
    "\n",
    "\n",
    "\n",
    "G2, pos2= construct_graph(linear_correlation_matrix_2, \n",
    "                         non_linear_correlation_matrix=None, \n",
    "                         reactions=extended_reactions_conditions_2,\n",
    "                         remove_unconnected_nodes=True,\n",
    "                         correction=True)\n",
    "\n",
    "plot_graph(G2, pos2)\n",
    "\n"
   ]
  },
  {
   "cell_type": "code",
   "execution_count": null,
   "id": "b7bc1732",
   "metadata": {},
   "outputs": [],
   "source": [
    "\n",
    "from graph_utils import compare_betweenness_centralities\n",
    "\n",
    "\n",
    "sorted_nodes = compare_betweenness_centralities(G1, G2)\n",
    "print(sorted_nodes.get(\"GK1\"))"
   ]
  }
 ],
 "metadata": {
  "kernelspec": {
   "display_name": "Python 3",
   "language": "python",
   "name": "python3"
  },
  "language_info": {
   "codemirror_mode": {
    "name": "ipython",
    "version": 3
   },
   "file_extension": ".py",
   "mimetype": "text/x-python",
   "name": "python",
   "nbconvert_exporter": "python",
   "pygments_lexer": "ipython3",
   "version": "3.10.12"
  }
 },
 "nbformat": 4,
 "nbformat_minor": 5
}
