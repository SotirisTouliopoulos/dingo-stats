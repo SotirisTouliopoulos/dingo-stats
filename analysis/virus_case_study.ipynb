{
 "cells": [
  {
   "cell_type": "code",
   "execution_count": null,
   "id": "d7643a56",
   "metadata": {},
   "outputs": [],
   "source": [
    "\n",
    "from dingo import MetabolicNetwork\n",
    "import numpy as np\n",
    "\n",
    "import sys\n",
    "sys.path.insert(0, '../scripts/')\n",
    "from load_modify_sample_utils import load_model, get_objective_functions, get_reaction_bounds, modify_model, sample_gapsplit, plot_grid_95_reactions\n",
    "from load_modify_sample_utils import sample_dingo, sample_optgp, sampling_statistics, export_to_pickle\n",
    "from graphs_utils import construct_graph, plot_graph\n",
    "from distributions_comparison_utils import significantly_altered_reactions\n",
    "from loopless_utils import get_loopless_solutions_from_samples, calculate_affected_samples, set_bounds_from_loopless_solution_samples\n",
    "from loopless_utils import calculate_distances_from_samples, calculate_distances_from_reactions, violin_plot_samples_distances\n"
   ]
  },
  {
   "cell_type": "code",
   "execution_count": null,
   "id": "e5a076e3",
   "metadata": {},
   "outputs": [],
   "source": [
    "\n",
    "#cycles_cobra_model, cycles_cobra_model_reactions, cycles_dingo_model, cycles_dingo_model_reactions = load_model(\"../private_data/Reconstructions_data/iAB_AMO1410_SARS-CoV-2.xml\")\n",
    "cycles_cobra_model, cycles_cobra_model_reactions, cycles_dingo_model, cycles_dingo_model_reactions = load_model(\"../private_data/Reconstructions_data/iHsaEC21.xml\")\n",
    "\n",
    "\n",
    "print(len(cycles_cobra_model_reactions))\n",
    "\n",
    "solution = cycles_cobra_model.optimize()\n",
    "print(solution)\n",
    "\n",
    "\n",
    "objective_functions = get_objective_functions(cycles_cobra_model)\n",
    "print(objective_functions)\n",
    "\n",
    "default_reaction_bounds = get_reaction_bounds(cycles_cobra_model)\n",
    "print(default_reaction_bounds)\n",
    "\n",
    "\n",
    "cycles_cobra_model_biomass_0, cycles_dingo_model_biomass_0 = modify_model(cycles_cobra_model, objective_function=\"VBOF\", optimal_percentage=0)\n",
    "#cycles_cobra_model_biomass_0, cycles_dingo_model_biomass_0 = modify_model(cycles_cobra_model, objective_function=\"biomass525\", optimal_percentage=0)\n",
    "\n",
    "cycles_cobra_model_biomass_100, cycles_dingo_model_biomass_100 = modify_model(cycles_cobra_model, objective_function=\"VBOF\", optimal_percentage=100)\n",
    "#cycles_cobra_model_biomass_100, cycles_dingo_model_biomass_100 = modify_model(cycles_cobra_model, objective_function=\"biomass525\", optimal_percentage=100)\n"
   ]
  },
  {
   "cell_type": "code",
   "execution_count": null,
   "id": "675d9efb",
   "metadata": {},
   "outputs": [],
   "source": [
    "\n",
    "print(len(cycles_dingo_model_reactions))\n",
    "(cycles_dingo_model_reactions[-2])\n",
    "print(cycles_dingo_model_reactions[-1])\n",
    "\n",
    "cycles_cobra_model.groups\n"
   ]
  },
  {
   "cell_type": "code",
   "execution_count": null,
   "id": "347c8eed",
   "metadata": {},
   "outputs": [],
   "source": [
    "\n",
    "samples_optgp_cycles_model = sample_optgp(cycles_cobra_model_biomass_0, n_samples = 10000, thinning = 100, reaction_in_rows = True)\n",
    "\n",
    "samples_optgp_cycles_model_loopless_solutions = get_loopless_solutions_from_samples(samples_optgp_cycles_model, cycles_cobra_model_biomass_100)\n"
   ]
  },
  {
   "cell_type": "code",
   "execution_count": null,
   "id": "80f795e8",
   "metadata": {},
   "outputs": [],
   "source": [
    "\n",
    "from load_modify_sample_utils import export_to_pickle \n",
    "\n",
    "export_to_pickle(samples = samples_optgp_cycles_model, filename= \"../private_data/Sampling_data/Virus_Samples_10K_Thinning_100_VBOF_0\")\n",
    "export_to_pickle(samples = samples_optgp_cycles_model_loopless_solutions, filename= \"../private_data/Sampling_data/Virus_Samples_10K_Thinning_100_VBOF_0_loopless_solutions\")\n"
   ]
  },
  {
   "cell_type": "code",
   "execution_count": null,
   "id": "80992c57",
   "metadata": {},
   "outputs": [],
   "source": [
    "\n",
    "\n",
    "from load_modify_sample_utils import load_from_pickle\n",
    "\n",
    "samples_optgp_cycles_model = load_from_pickle(\"../private_data/Sampling_data/Virus_Samples_10K_Thinning_100_VBOF_0\")\n",
    "samples_optgp_cycles_model_loopless_solutions = load_from_pickle(\"../private_data/Sampling_data/Virus_Samples_10K_Thinning_100_VBOF_0_loopless_solutions\")\n"
   ]
  }
 ],
 "metadata": {
  "language_info": {
   "name": "python"
  }
 },
 "nbformat": 4,
 "nbformat_minor": 5
}
